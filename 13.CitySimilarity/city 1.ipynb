{
 "cells": [
  {
   "cell_type": "code",
   "execution_count": 1,
   "metadata": {
    "collapsed": true
   },
   "outputs": [],
   "source": [
    "import itertools\n",
    "from collections import Counter\n",
    "import datetime\n",
    "import json\n",
    "import numpy as np\n",
    "import pandas as pd\n",
    "import matplotlib.pyplot as plt\n",
    "plt.style.use('ggplot')\n",
    "from sklearn.preprocessing import normalize\n",
    "from sklearn.decomposition import PCA\n",
    "from sklearn.neighbors import NearestNeighbors\n",
    "\n",
    "%matplotlib inline"
   ]
  },
  {
   "cell_type": "code",
   "execution_count": 6,
   "metadata": {},
   "outputs": [],
   "source": [
    "def clean_json(d):\n",
    "    \"\"\"\n",
    "    clean the json data, make the data easier to be processed\n",
    "    \"\"\"\n",
    "    assert len(d['cities']) == 1\n",
    "    d['cities'] = d['cities'][0]\n",
    "\n",
    "    assert len(d['session_id']) == 1\n",
    "    d['session_id'] = d['session_id'][0]\n",
    "\n",
    "    assert len(d['unix_timestamp']) == 1\n",
    "    d['timestamp'] = datetime.datetime.utcfromtimestamp(d['unix_timestamp'][0])\n",
    "    del d['unix_timestamp']\n",
    "\n",
    "    # -------- retrieve users\n",
    "    user_dict = d['user']\n",
    "\n",
    "    assert len(user_dict) == 1\n",
    "    user_dict = user_dict[0]\n",
    "\n",
    "    assert len(user_dict) == 1\n",
    "    user_dict = user_dict[0]\n",
    "\n",
    "    d['user_id'] = user_dict['user_id']\n",
    "    d['user_country'] = user_dict['country']\n",
    "\n",
    "    del d['user']\n",
    "    return d"
   ]
  },
  {
   "cell_type": "code",
   "execution_count": 7,
   "metadata": {
    "collapsed": true
   },
   "outputs": [],
   "source": [
    "with open(\"city_search.json\",'rt') as inf:\n",
    "    sessions = json.load(inf)\n",
    "    \n",
    "for d in sessions:\n",
    "    clean_json(d)\n",
    "\n",
    "sessions = pd.DataFrame(sessions)\n",
    "sessions = sessions.set_index('session_id')"
   ]
  },
  {
   "cell_type": "code",
   "execution_count": 8,
   "metadata": {},
   "outputs": [
    {
     "data": {
      "text/html": [
       "<div>\n",
       "<style>\n",
       "    .dataframe thead tr:only-child th {\n",
       "        text-align: right;\n",
       "    }\n",
       "\n",
       "    .dataframe thead th {\n",
       "        text-align: left;\n",
       "    }\n",
       "\n",
       "    .dataframe tbody tr th {\n",
       "        vertical-align: top;\n",
       "    }\n",
       "</style>\n",
       "<table border=\"1\" class=\"dataframe\">\n",
       "  <thead>\n",
       "    <tr style=\"text-align: right;\">\n",
       "      <th></th>\n",
       "      <th>cities</th>\n",
       "      <th>timestamp</th>\n",
       "      <th>user_country</th>\n",
       "      <th>user_id</th>\n",
       "    </tr>\n",
       "    <tr>\n",
       "      <th>session_id</th>\n",
       "      <th></th>\n",
       "      <th></th>\n",
       "      <th></th>\n",
       "      <th></th>\n",
       "    </tr>\n",
       "  </thead>\n",
       "  <tbody>\n",
       "    <tr>\n",
       "      <th>X061RFWB06K9V</th>\n",
       "      <td>New York NY, Newark NJ</td>\n",
       "      <td>2015-09-17 15:28:28</td>\n",
       "      <td>UK</td>\n",
       "      <td>2024</td>\n",
       "    </tr>\n",
       "    <tr>\n",
       "      <th>5AZ2X2A9BHH5U</th>\n",
       "      <td>New York NY, Jersey City NJ, Philadelphia PA</td>\n",
       "      <td>2015-09-04 08:06:31</td>\n",
       "      <td>DE</td>\n",
       "      <td>2853</td>\n",
       "    </tr>\n",
       "    <tr>\n",
       "      <th>SHTB4IYAX4PX6</th>\n",
       "      <td>San Antonio TX</td>\n",
       "      <td>2015-08-29 10:18:10</td>\n",
       "      <td>UK</td>\n",
       "      <td>10958</td>\n",
       "    </tr>\n",
       "    <tr>\n",
       "      <th>JBRB8MZGTX3M4</th>\n",
       "      <td>Edmonton AB</td>\n",
       "      <td>2015-03-25 07:21:03</td>\n",
       "      <td>IT</td>\n",
       "      <td>7693</td>\n",
       "    </tr>\n",
       "    <tr>\n",
       "      <th>YJCMPURC2FL9C</th>\n",
       "      <td>Phoenix AZ, Houston TX</td>\n",
       "      <td>2015-05-02 09:31:07</td>\n",
       "      <td>UK</td>\n",
       "      <td>7506</td>\n",
       "    </tr>\n",
       "  </tbody>\n",
       "</table>\n",
       "</div>"
      ],
      "text/plain": [
       "                                                     cities  \\\n",
       "session_id                                                    \n",
       "X061RFWB06K9V                        New York NY, Newark NJ   \n",
       "5AZ2X2A9BHH5U  New York NY, Jersey City NJ, Philadelphia PA   \n",
       "SHTB4IYAX4PX6                                San Antonio TX   \n",
       "JBRB8MZGTX3M4                                   Edmonton AB   \n",
       "YJCMPURC2FL9C                        Phoenix AZ, Houston TX   \n",
       "\n",
       "                        timestamp user_country  user_id  \n",
       "session_id                                               \n",
       "X061RFWB06K9V 2015-09-17 15:28:28           UK     2024  \n",
       "5AZ2X2A9BHH5U 2015-09-04 08:06:31           DE     2853  \n",
       "SHTB4IYAX4PX6 2015-08-29 10:18:10           UK    10958  \n",
       "JBRB8MZGTX3M4 2015-03-25 07:21:03           IT     7693  \n",
       "YJCMPURC2FL9C 2015-05-02 09:31:07           UK     7506  "
      ]
     },
     "execution_count": 8,
     "metadata": {},
     "output_type": "execute_result"
    }
   ],
   "source": [
    "sessions.head()"
   ]
  },
  {
   "cell_type": "code",
   "execution_count": null,
   "metadata": {
    "collapsed": true
   },
   "outputs": [],
   "source": []
  }
 ],
 "metadata": {
  "kernelspec": {
   "display_name": "Python 2",
   "language": "python",
   "name": "python2"
  },
  "language_info": {
   "codemirror_mode": {
    "name": "ipython",
    "version": 2
   },
   "file_extension": ".py",
   "mimetype": "text/x-python",
   "name": "python",
   "nbconvert_exporter": "python",
   "pygments_lexer": "ipython2",
   "version": "2.7.13"
  }
 },
 "nbformat": 4,
 "nbformat_minor": 2
}
