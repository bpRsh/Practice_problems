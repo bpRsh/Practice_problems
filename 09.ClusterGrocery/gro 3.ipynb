{
 "cells": [
  {
   "cell_type": "markdown",
   "metadata": {},
   "source": [
    "## Clustering Grocery Items"
   ]
  },
  {
   "cell_type": "markdown",
   "metadata": {},
   "source": [
    "### Goal"
   ]
  },
  {
   "cell_type": "markdown",
   "metadata": {},
   "source": [
    "Online shops often sell tons of different items and this can become very messy very quickly!\n",
    "\n",
    "Data science can be extremely useful to automatically organize the products in categories so that they can be easily found by the customers.\n",
    "\n",
    "The goal of this challenge is to look at user purchase history and create categories of items that are likely to be bought together and, therefore, should belong to the same section."
   ]
  },
  {
   "cell_type": "markdown",
   "metadata": {},
   "source": [
    "### Challenge Description"
   ]
  },
  {
   "cell_type": "markdown",
   "metadata": {},
   "source": [
    "Company XYZ is an online grocery store. In the current version of the website, they have manually grouped the items into a few categories based on their experience.\n",
    "\n",
    "However, they now have a lot of data about user purchase history. Therefore, they would like to put the data into use!"
   ]
  },
  {
   "cell_type": "code",
   "execution_count": 1,
   "metadata": {
    "collapsed": true
   },
   "outputs": [],
   "source": [
    "import numpy as np\n",
    "import pandas as pd\n",
    "import matplotlib.pyplot as plt\n",
    "%matplotlib inline\n",
    "import seaborn as sns\n",
    "from sklearn import metrics"
   ]
  },
  {
   "cell_type": "code",
   "execution_count": 2,
   "metadata": {
    "collapsed": true
   },
   "outputs": [],
   "source": [
    "item=pd.read_csv('......./Grocery/grocery/item_to_id.csv',index_col='Item_id')\n",
    "purchase=pd.read_csv('...../Grocery/grocery/purchase_history.csv')"
   ]
  },
  {
   "cell_type": "code",
   "execution_count": 3,
   "metadata": {
    "collapsed": false
   },
   "outputs": [
    {
     "data": {
      "text/plain": [
       "(48, 1)"
      ]
     },
     "execution_count": 3,
     "metadata": {},
     "output_type": "execute_result"
    }
   ],
   "source": [
    "item.shape"
   ]
  },
  {
   "cell_type": "code",
   "execution_count": 4,
   "metadata": {
    "collapsed": false
   },
   "outputs": [
    {
     "data": {
      "text/html": [
       "<div>\n",
       "<style>\n",
       "    .dataframe thead tr:only-child th {\n",
       "        text-align: right;\n",
       "    }\n",
       "\n",
       "    .dataframe thead th {\n",
       "        text-align: left;\n",
       "    }\n",
       "\n",
       "    .dataframe tbody tr th {\n",
       "        vertical-align: top;\n",
       "    }\n",
       "</style>\n",
       "<table border=\"1\" class=\"dataframe\">\n",
       "  <thead>\n",
       "    <tr style=\"text-align: right;\">\n",
       "      <th></th>\n",
       "      <th>Item_name</th>\n",
       "    </tr>\n",
       "    <tr>\n",
       "      <th>Item_id</th>\n",
       "      <th></th>\n",
       "    </tr>\n",
       "  </thead>\n",
       "  <tbody>\n",
       "    <tr>\n",
       "      <th>1</th>\n",
       "      <td>sugar</td>\n",
       "    </tr>\n",
       "    <tr>\n",
       "      <th>2</th>\n",
       "      <td>lettuce</td>\n",
       "    </tr>\n",
       "    <tr>\n",
       "      <th>3</th>\n",
       "      <td>pet items</td>\n",
       "    </tr>\n",
       "    <tr>\n",
       "      <th>4</th>\n",
       "      <td>baby items</td>\n",
       "    </tr>\n",
       "    <tr>\n",
       "      <th>5</th>\n",
       "      <td>waffles</td>\n",
       "    </tr>\n",
       "  </tbody>\n",
       "</table>\n",
       "</div>"
      ],
      "text/plain": [
       "          Item_name\n",
       "Item_id            \n",
       "1             sugar\n",
       "2           lettuce\n",
       "3         pet items\n",
       "4        baby items\n",
       "5           waffles"
      ]
     },
     "execution_count": 4,
     "metadata": {},
     "output_type": "execute_result"
    }
   ],
   "source": [
    "item.sort_index(inplace=True)\n",
    "item.head()"
   ]
  },
  {
   "cell_type": "code",
   "execution_count": 5,
   "metadata": {
    "collapsed": true
   },
   "outputs": [],
   "source": [
    "from collections import Counter\n",
    "import itertools"
   ]
  },
  {
   "cell_type": "code",
   "execution_count": 6,
   "metadata": {
    "collapsed": true
   },
   "outputs": [],
   "source": [
    "def item_counts(same_user_df):\n",
    "    all_item = same_user_df['id'].str.split(',').sum()\n",
    "    return pd.Series(Counter(int(id) \n",
    "    for id in all_item))"
   ]
  },
  {
   "cell_type": "code",
   "execution_count": 7,
   "metadata": {
    "collapsed": false
   },
   "outputs": [],
   "source": [
    "user_item_counts = purchase.groupby(\"user_id\").apply(item_counts).unstack(fill_value=0)"
   ]
  },
  {
   "cell_type": "code",
   "execution_count": 8,
   "metadata": {
    "collapsed": false
   },
   "outputs": [
    {
     "data": {
      "text/plain": [
       "(24885, 48)"
      ]
     },
     "execution_count": 8,
     "metadata": {},
     "output_type": "execute_result"
    }
   ],
   "source": [
    "user_item_counts.shape"
   ]
  },
  {
   "cell_type": "code",
   "execution_count": 9,
   "metadata": {
    "collapsed": false
   },
   "outputs": [
    {
     "data": {
      "text/html": [
       "<div>\n",
       "<style>\n",
       "    .dataframe thead tr:only-child th {\n",
       "        text-align: right;\n",
       "    }\n",
       "\n",
       "    .dataframe thead th {\n",
       "        text-align: left;\n",
       "    }\n",
       "\n",
       "    .dataframe tbody tr th {\n",
       "        vertical-align: top;\n",
       "    }\n",
       "</style>\n",
       "<table border=\"1\" class=\"dataframe\">\n",
       "  <thead>\n",
       "    <tr style=\"text-align: right;\">\n",
       "      <th></th>\n",
       "      <th>1</th>\n",
       "      <th>2</th>\n",
       "      <th>3</th>\n",
       "      <th>4</th>\n",
       "      <th>5</th>\n",
       "      <th>6</th>\n",
       "      <th>7</th>\n",
       "      <th>8</th>\n",
       "      <th>9</th>\n",
       "      <th>10</th>\n",
       "      <th>...</th>\n",
       "      <th>39</th>\n",
       "      <th>40</th>\n",
       "      <th>41</th>\n",
       "      <th>42</th>\n",
       "      <th>43</th>\n",
       "      <th>44</th>\n",
       "      <th>45</th>\n",
       "      <th>46</th>\n",
       "      <th>47</th>\n",
       "      <th>48</th>\n",
       "    </tr>\n",
       "    <tr>\n",
       "      <th>user_id</th>\n",
       "      <th></th>\n",
       "      <th></th>\n",
       "      <th></th>\n",
       "      <th></th>\n",
       "      <th></th>\n",
       "      <th></th>\n",
       "      <th></th>\n",
       "      <th></th>\n",
       "      <th></th>\n",
       "      <th></th>\n",
       "      <th></th>\n",
       "      <th></th>\n",
       "      <th></th>\n",
       "      <th></th>\n",
       "      <th></th>\n",
       "      <th></th>\n",
       "      <th></th>\n",
       "      <th></th>\n",
       "      <th></th>\n",
       "      <th></th>\n",
       "      <th></th>\n",
       "    </tr>\n",
       "  </thead>\n",
       "  <tbody>\n",
       "    <tr>\n",
       "      <th>1328340</th>\n",
       "      <td>1</td>\n",
       "      <td>0</td>\n",
       "      <td>1</td>\n",
       "      <td>0</td>\n",
       "      <td>0</td>\n",
       "      <td>0</td>\n",
       "      <td>0</td>\n",
       "      <td>0</td>\n",
       "      <td>1</td>\n",
       "      <td>0</td>\n",
       "      <td>...</td>\n",
       "      <td>0</td>\n",
       "      <td>0</td>\n",
       "      <td>1</td>\n",
       "      <td>0</td>\n",
       "      <td>0</td>\n",
       "      <td>0</td>\n",
       "      <td>0</td>\n",
       "      <td>0</td>\n",
       "      <td>0</td>\n",
       "      <td>1</td>\n",
       "    </tr>\n",
       "    <tr>\n",
       "      <th>629899</th>\n",
       "      <td>1</td>\n",
       "      <td>0</td>\n",
       "      <td>0</td>\n",
       "      <td>0</td>\n",
       "      <td>0</td>\n",
       "      <td>0</td>\n",
       "      <td>1</td>\n",
       "      <td>0</td>\n",
       "      <td>1</td>\n",
       "      <td>2</td>\n",
       "      <td>...</td>\n",
       "      <td>0</td>\n",
       "      <td>0</td>\n",
       "      <td>1</td>\n",
       "      <td>1</td>\n",
       "      <td>2</td>\n",
       "      <td>1</td>\n",
       "      <td>0</td>\n",
       "      <td>0</td>\n",
       "      <td>0</td>\n",
       "      <td>1</td>\n",
       "    </tr>\n",
       "    <tr>\n",
       "      <th>980717</th>\n",
       "      <td>0</td>\n",
       "      <td>1</td>\n",
       "      <td>0</td>\n",
       "      <td>0</td>\n",
       "      <td>0</td>\n",
       "      <td>2</td>\n",
       "      <td>0</td>\n",
       "      <td>0</td>\n",
       "      <td>0</td>\n",
       "      <td>1</td>\n",
       "      <td>...</td>\n",
       "      <td>2</td>\n",
       "      <td>0</td>\n",
       "      <td>1</td>\n",
       "      <td>1</td>\n",
       "      <td>1</td>\n",
       "      <td>1</td>\n",
       "      <td>1</td>\n",
       "      <td>1</td>\n",
       "      <td>0</td>\n",
       "      <td>0</td>\n",
       "    </tr>\n",
       "    <tr>\n",
       "      <th>979361</th>\n",
       "      <td>0</td>\n",
       "      <td>0</td>\n",
       "      <td>0</td>\n",
       "      <td>0</td>\n",
       "      <td>1</td>\n",
       "      <td>0</td>\n",
       "      <td>0</td>\n",
       "      <td>0</td>\n",
       "      <td>0</td>\n",
       "      <td>0</td>\n",
       "      <td>...</td>\n",
       "      <td>0</td>\n",
       "      <td>0</td>\n",
       "      <td>0</td>\n",
       "      <td>0</td>\n",
       "      <td>0</td>\n",
       "      <td>0</td>\n",
       "      <td>0</td>\n",
       "      <td>0</td>\n",
       "      <td>0</td>\n",
       "      <td>0</td>\n",
       "    </tr>\n",
       "    <tr>\n",
       "      <th>895362</th>\n",
       "      <td>0</td>\n",
       "      <td>0</td>\n",
       "      <td>0</td>\n",
       "      <td>0</td>\n",
       "      <td>0</td>\n",
       "      <td>0</td>\n",
       "      <td>0</td>\n",
       "      <td>0</td>\n",
       "      <td>0</td>\n",
       "      <td>0</td>\n",
       "      <td>...</td>\n",
       "      <td>0</td>\n",
       "      <td>0</td>\n",
       "      <td>0</td>\n",
       "      <td>0</td>\n",
       "      <td>1</td>\n",
       "      <td>0</td>\n",
       "      <td>0</td>\n",
       "      <td>0</td>\n",
       "      <td>0</td>\n",
       "      <td>0</td>\n",
       "    </tr>\n",
       "  </tbody>\n",
       "</table>\n",
       "<p>5 rows × 48 columns</p>\n",
       "</div>"
      ],
      "text/plain": [
       "         1   2   3   4   5   6   7   8   9   10 ...  39  40  41  42  43  44  \\\n",
       "user_id                                         ...                           \n",
       "1328340   1   0   1   0   0   0   0   0   1   0 ...   0   0   1   0   0   0   \n",
       "629899    1   0   0   0   0   0   1   0   1   2 ...   0   0   1   1   2   1   \n",
       "980717    0   1   0   0   0   2   0   0   0   1 ...   2   0   1   1   1   1   \n",
       "979361    0   0   0   0   1   0   0   0   0   0 ...   0   0   0   0   0   0   \n",
       "895362    0   0   0   0   0   0   0   0   0   0 ...   0   0   0   0   1   0   \n",
       "\n",
       "         45  46  47  48  \n",
       "user_id                  \n",
       "1328340   0   0   0   1  \n",
       "629899    0   0   0   1  \n",
       "980717    1   1   0   0  \n",
       "979361    0   0   0   0  \n",
       "895362    0   0   0   0  \n",
       "\n",
       "[5 rows x 48 columns]"
      ]
     },
     "execution_count": 9,
     "metadata": {},
     "output_type": "execute_result"
    }
   ],
   "source": [
    "user_item_counts.sample(5)"
   ]
  },
  {
   "cell_type": "markdown",
   "metadata": {},
   "source": [
    "The company founder wants to meet with some of the best customers to go through a focus group with them. You are asked to send the ID of the following customers to the\n",
    "founder:"
   ]
  },
  {
   "cell_type": "markdown",
   "metadata": {},
   "source": [
    "### 1. The customer who bought the most items overall in her lifetime"
   ]
  },
  {
   "cell_type": "code",
   "execution_count": 10,
   "metadata": {
    "collapsed": false
   },
   "outputs": [
    {
     "data": {
      "text/plain": [
       "user_id\n",
       "47         13\n",
       "68          8\n",
       "113        11\n",
       "123         4\n",
       "223        11\n",
       "281         9\n",
       "323        15\n",
       "394        10\n",
       "420        15\n",
       "453         8\n",
       "527        10\n",
       "553        20\n",
       "556        20\n",
       "609        20\n",
       "613        25\n",
       "621         8\n",
       "713        17\n",
       "770         6\n",
       "950         8\n",
       "956         4\n",
       "960        11\n",
       "990        14\n",
       "1075        5\n",
       "1233       14\n",
       "1260        4\n",
       "1304       13\n",
       "1312        1\n",
       "1315       11\n",
       "1379       10\n",
       "1383       24\n",
       "           ..\n",
       "1498718    10\n",
       "1498738    21\n",
       "1498776    25\n",
       "1498783    10\n",
       "1498785    37\n",
       "1498791     1\n",
       "1498838     9\n",
       "1498875     6\n",
       "1498921     6\n",
       "1498930    21\n",
       "1498969     9\n",
       "1499075    15\n",
       "1499086    14\n",
       "1499087    39\n",
       "1499125     9\n",
       "1499200     3\n",
       "1499261    13\n",
       "1499428     1\n",
       "1499456     8\n",
       "1499461    33\n",
       "1499502     9\n",
       "1499523     8\n",
       "1499563    23\n",
       "1499702    13\n",
       "1499727     7\n",
       "1499730     2\n",
       "1499778     7\n",
       "1499797    10\n",
       "1499817    26\n",
       "1499974    13\n",
       "Length: 24885, dtype: int64"
      ]
     },
     "execution_count": 10,
     "metadata": {},
     "output_type": "execute_result"
    }
   ],
   "source": [
    "user_item_total = user_item_counts.sum(axis=1)\n",
    "user_item_total"
   ]
  },
  {
   "cell_type": "code",
   "execution_count": 11,
   "metadata": {
    "collapsed": false
   },
   "outputs": [
    {
     "name": "stdout",
     "output_type": "stream",
     "text": [
      "custom who bought most in lifetime is: 269335 bought 72 items\n"
     ]
    }
   ],
   "source": [
    "print(\"custom who bought most in lifetime is: {} bought {} items\".format(user_item_total.argmax(),user_item_total.max()))\n"
   ]
  },
  {
   "cell_type": "markdown",
   "metadata": {},
   "source": [
    "### 2. For each item, the customer who bought that product the most"
   ]
  },
  {
   "cell_type": "code",
   "execution_count": 12,
   "metadata": {
    "collapsed": true
   },
   "outputs": [],
   "source": [
    "max_item = user_item_counts.apply(lambda s: pd.Series([s.argmax(), s.max()], index=[\"max_user\", \"max_count\"]))\n",
    "max_item = max_item.transpose()\n",
    "max_item.index.name = \"Item_id\""
   ]
  },
  {
   "cell_type": "code",
   "execution_count": 13,
   "metadata": {
    "collapsed": false
   },
   "outputs": [
    {
     "data": {
      "text/html": [
       "<div>\n",
       "<style>\n",
       "    .dataframe thead tr:only-child th {\n",
       "        text-align: right;\n",
       "    }\n",
       "\n",
       "    .dataframe thead th {\n",
       "        text-align: left;\n",
       "    }\n",
       "\n",
       "    .dataframe tbody tr th {\n",
       "        vertical-align: top;\n",
       "    }\n",
       "</style>\n",
       "<table border=\"1\" class=\"dataframe\">\n",
       "  <thead>\n",
       "    <tr style=\"text-align: right;\">\n",
       "      <th></th>\n",
       "      <th>Item_name</th>\n",
       "      <th>max_user</th>\n",
       "      <th>max_count</th>\n",
       "    </tr>\n",
       "    <tr>\n",
       "      <th>Item_id</th>\n",
       "      <th></th>\n",
       "      <th></th>\n",
       "      <th></th>\n",
       "    </tr>\n",
       "  </thead>\n",
       "  <tbody>\n",
       "    <tr>\n",
       "      <th>1</th>\n",
       "      <td>sugar</td>\n",
       "      <td>31625</td>\n",
       "      <td>4</td>\n",
       "    </tr>\n",
       "    <tr>\n",
       "      <th>2</th>\n",
       "      <td>lettuce</td>\n",
       "      <td>31625</td>\n",
       "      <td>5</td>\n",
       "    </tr>\n",
       "    <tr>\n",
       "      <th>3</th>\n",
       "      <td>pet items</td>\n",
       "      <td>154960</td>\n",
       "      <td>4</td>\n",
       "    </tr>\n",
       "    <tr>\n",
       "      <th>4</th>\n",
       "      <td>baby items</td>\n",
       "      <td>5289</td>\n",
       "      <td>3</td>\n",
       "    </tr>\n",
       "    <tr>\n",
       "      <th>5</th>\n",
       "      <td>waffles</td>\n",
       "      <td>217277</td>\n",
       "      <td>3</td>\n",
       "    </tr>\n",
       "    <tr>\n",
       "      <th>6</th>\n",
       "      <td>poultry</td>\n",
       "      <td>334664</td>\n",
       "      <td>4</td>\n",
       "    </tr>\n",
       "    <tr>\n",
       "      <th>7</th>\n",
       "      <td>sandwich bags</td>\n",
       "      <td>175865</td>\n",
       "      <td>3</td>\n",
       "    </tr>\n",
       "    <tr>\n",
       "      <th>8</th>\n",
       "      <td>butter</td>\n",
       "      <td>151926</td>\n",
       "      <td>3</td>\n",
       "    </tr>\n",
       "    <tr>\n",
       "      <th>9</th>\n",
       "      <td>soda</td>\n",
       "      <td>269335</td>\n",
       "      <td>4</td>\n",
       "    </tr>\n",
       "    <tr>\n",
       "      <th>10</th>\n",
       "      <td>carrots</td>\n",
       "      <td>618914</td>\n",
       "      <td>4</td>\n",
       "    </tr>\n",
       "    <tr>\n",
       "      <th>11</th>\n",
       "      <td>cereals</td>\n",
       "      <td>367872</td>\n",
       "      <td>3</td>\n",
       "    </tr>\n",
       "    <tr>\n",
       "      <th>12</th>\n",
       "      <td>shampoo</td>\n",
       "      <td>557904</td>\n",
       "      <td>3</td>\n",
       "    </tr>\n",
       "    <tr>\n",
       "      <th>13</th>\n",
       "      <td>bagels</td>\n",
       "      <td>653800</td>\n",
       "      <td>4</td>\n",
       "    </tr>\n",
       "    <tr>\n",
       "      <th>14</th>\n",
       "      <td>eggs</td>\n",
       "      <td>172120</td>\n",
       "      <td>3</td>\n",
       "    </tr>\n",
       "    <tr>\n",
       "      <th>15</th>\n",
       "      <td>aluminum foil</td>\n",
       "      <td>143741</td>\n",
       "      <td>3</td>\n",
       "    </tr>\n",
       "    <tr>\n",
       "      <th>16</th>\n",
       "      <td>milk</td>\n",
       "      <td>73071</td>\n",
       "      <td>3</td>\n",
       "    </tr>\n",
       "    <tr>\n",
       "      <th>17</th>\n",
       "      <td>beef</td>\n",
       "      <td>366155</td>\n",
       "      <td>4</td>\n",
       "    </tr>\n",
       "    <tr>\n",
       "      <th>18</th>\n",
       "      <td>laundry detergent</td>\n",
       "      <td>917199</td>\n",
       "      <td>5</td>\n",
       "    </tr>\n",
       "    <tr>\n",
       "      <th>19</th>\n",
       "      <td>shaving cream</td>\n",
       "      <td>31625</td>\n",
       "      <td>3</td>\n",
       "    </tr>\n",
       "    <tr>\n",
       "      <th>20</th>\n",
       "      <td>grapefruit</td>\n",
       "      <td>885474</td>\n",
       "      <td>4</td>\n",
       "    </tr>\n",
       "    <tr>\n",
       "      <th>21</th>\n",
       "      <td>cheeses</td>\n",
       "      <td>884172</td>\n",
       "      <td>4</td>\n",
       "    </tr>\n",
       "    <tr>\n",
       "      <th>22</th>\n",
       "      <td>frozen vegetables</td>\n",
       "      <td>1199670</td>\n",
       "      <td>4</td>\n",
       "    </tr>\n",
       "    <tr>\n",
       "      <th>23</th>\n",
       "      <td>tea</td>\n",
       "      <td>920002</td>\n",
       "      <td>5</td>\n",
       "    </tr>\n",
       "    <tr>\n",
       "      <th>24</th>\n",
       "      <td>paper towels</td>\n",
       "      <td>189913</td>\n",
       "      <td>3</td>\n",
       "    </tr>\n",
       "    <tr>\n",
       "      <th>25</th>\n",
       "      <td>cherries</td>\n",
       "      <td>68282</td>\n",
       "      <td>4</td>\n",
       "    </tr>\n",
       "    <tr>\n",
       "      <th>26</th>\n",
       "      <td>spaghetti sauce</td>\n",
       "      <td>967573</td>\n",
       "      <td>4</td>\n",
       "    </tr>\n",
       "    <tr>\n",
       "      <th>27</th>\n",
       "      <td>dishwashing</td>\n",
       "      <td>956666</td>\n",
       "      <td>4</td>\n",
       "    </tr>\n",
       "    <tr>\n",
       "      <th>28</th>\n",
       "      <td>canned vegetables</td>\n",
       "      <td>204624</td>\n",
       "      <td>4</td>\n",
       "    </tr>\n",
       "    <tr>\n",
       "      <th>29</th>\n",
       "      <td>hand soap</td>\n",
       "      <td>394348</td>\n",
       "      <td>4</td>\n",
       "    </tr>\n",
       "    <tr>\n",
       "      <th>30</th>\n",
       "      <td>flour</td>\n",
       "      <td>21779</td>\n",
       "      <td>2</td>\n",
       "    </tr>\n",
       "    <tr>\n",
       "      <th>31</th>\n",
       "      <td>pasta</td>\n",
       "      <td>289360</td>\n",
       "      <td>3</td>\n",
       "    </tr>\n",
       "    <tr>\n",
       "      <th>32</th>\n",
       "      <td>apples</td>\n",
       "      <td>109578</td>\n",
       "      <td>4</td>\n",
       "    </tr>\n",
       "    <tr>\n",
       "      <th>33</th>\n",
       "      <td>toilet paper</td>\n",
       "      <td>1310207</td>\n",
       "      <td>3</td>\n",
       "    </tr>\n",
       "    <tr>\n",
       "      <th>34</th>\n",
       "      <td>tortillas</td>\n",
       "      <td>305916</td>\n",
       "      <td>4</td>\n",
       "    </tr>\n",
       "    <tr>\n",
       "      <th>35</th>\n",
       "      <td>soap</td>\n",
       "      <td>450482</td>\n",
       "      <td>3</td>\n",
       "    </tr>\n",
       "    <tr>\n",
       "      <th>36</th>\n",
       "      <td>ice cream</td>\n",
       "      <td>269335</td>\n",
       "      <td>4</td>\n",
       "    </tr>\n",
       "    <tr>\n",
       "      <th>37</th>\n",
       "      <td>dinner rolls</td>\n",
       "      <td>46757</td>\n",
       "      <td>4</td>\n",
       "    </tr>\n",
       "    <tr>\n",
       "      <th>38</th>\n",
       "      <td>juice</td>\n",
       "      <td>255546</td>\n",
       "      <td>4</td>\n",
       "    </tr>\n",
       "    <tr>\n",
       "      <th>39</th>\n",
       "      <td>sandwich loaves</td>\n",
       "      <td>599172</td>\n",
       "      <td>5</td>\n",
       "    </tr>\n",
       "    <tr>\n",
       "      <th>40</th>\n",
       "      <td>berries</td>\n",
       "      <td>38872</td>\n",
       "      <td>4</td>\n",
       "    </tr>\n",
       "    <tr>\n",
       "      <th>41</th>\n",
       "      <td>ketchup</td>\n",
       "      <td>133355</td>\n",
       "      <td>4</td>\n",
       "    </tr>\n",
       "    <tr>\n",
       "      <th>42</th>\n",
       "      <td>cucumbers</td>\n",
       "      <td>80215</td>\n",
       "      <td>4</td>\n",
       "    </tr>\n",
       "    <tr>\n",
       "      <th>43</th>\n",
       "      <td>coffee</td>\n",
       "      <td>996380</td>\n",
       "      <td>4</td>\n",
       "    </tr>\n",
       "    <tr>\n",
       "      <th>44</th>\n",
       "      <td>broccoli</td>\n",
       "      <td>31625</td>\n",
       "      <td>4</td>\n",
       "    </tr>\n",
       "    <tr>\n",
       "      <th>45</th>\n",
       "      <td>cauliflower</td>\n",
       "      <td>1198106</td>\n",
       "      <td>5</td>\n",
       "    </tr>\n",
       "    <tr>\n",
       "      <th>46</th>\n",
       "      <td>bananas</td>\n",
       "      <td>1218645</td>\n",
       "      <td>4</td>\n",
       "    </tr>\n",
       "    <tr>\n",
       "      <th>47</th>\n",
       "      <td>pork</td>\n",
       "      <td>384935</td>\n",
       "      <td>4</td>\n",
       "    </tr>\n",
       "    <tr>\n",
       "      <th>48</th>\n",
       "      <td>yogurt</td>\n",
       "      <td>335841</td>\n",
       "      <td>3</td>\n",
       "    </tr>\n",
       "  </tbody>\n",
       "</table>\n",
       "</div>"
      ],
      "text/plain": [
       "                 Item_name  max_user  max_count\n",
       "Item_id                                        \n",
       "1                    sugar     31625          4\n",
       "2                  lettuce     31625          5\n",
       "3                pet items    154960          4\n",
       "4               baby items      5289          3\n",
       "5                  waffles    217277          3\n",
       "6                  poultry    334664          4\n",
       "7            sandwich bags    175865          3\n",
       "8                   butter    151926          3\n",
       "9                     soda    269335          4\n",
       "10                 carrots    618914          4\n",
       "11                 cereals    367872          3\n",
       "12                 shampoo    557904          3\n",
       "13                  bagels    653800          4\n",
       "14                    eggs    172120          3\n",
       "15           aluminum foil    143741          3\n",
       "16                    milk     73071          3\n",
       "17                    beef    366155          4\n",
       "18       laundry detergent    917199          5\n",
       "19           shaving cream     31625          3\n",
       "20              grapefruit    885474          4\n",
       "21                 cheeses    884172          4\n",
       "22       frozen vegetables   1199670          4\n",
       "23                     tea    920002          5\n",
       "24            paper towels    189913          3\n",
       "25                cherries     68282          4\n",
       "26         spaghetti sauce    967573          4\n",
       "27            dishwashing     956666          4\n",
       "28       canned vegetables    204624          4\n",
       "29               hand soap    394348          4\n",
       "30                   flour     21779          2\n",
       "31                   pasta    289360          3\n",
       "32                  apples    109578          4\n",
       "33            toilet paper   1310207          3\n",
       "34               tortillas    305916          4\n",
       "35                    soap    450482          3\n",
       "36               ice cream    269335          4\n",
       "37            dinner rolls     46757          4\n",
       "38                   juice    255546          4\n",
       "39         sandwich loaves    599172          5\n",
       "40                 berries     38872          4\n",
       "41                 ketchup    133355          4\n",
       "42               cucumbers     80215          4\n",
       "43                  coffee    996380          4\n",
       "44                broccoli     31625          4\n",
       "45             cauliflower   1198106          5\n",
       "46                 bananas   1218645          4\n",
       "47                    pork    384935          4\n",
       "48                  yogurt    335841          3"
      ]
     },
     "execution_count": 13,
     "metadata": {},
     "output_type": "execute_result"
    }
   ],
   "source": [
    "max_item = max_item.join(item).loc[:, [\"Item_name\", \"max_user\", \"max_count\"]]\n",
    "max_item"
   ]
  },
  {
   "cell_type": "markdown",
   "metadata": {},
   "source": [
    "#### Cluster items based on user co-purchase history. That is, create clusters of products that have the highest probability of being bought together. \n",
    "\n",
    "#### The goal of this is to replace the old/manually created categories with these new ones. Each item can belong to just one cluster."
   ]
  },
  {
   "cell_type": "code",
   "execution_count": 14,
   "metadata": {
    "collapsed": true
   },
   "outputs": [],
   "source": [
    "from sklearn.preprocessing import normalize\n",
    "from sklearn.decomposition import PCA\n",
    "from sklearn.cluster import KMeans\n",
    "from sklearn.metrics import silhouette_score\n",
    "\n",
    "import matplotlib.pyplot as plt\n",
    "plt.style.use('ggplot')\n",
    "%matplotlib inline"
   ]
  },
  {
   "cell_type": "code",
   "execution_count": 15,
   "metadata": {
    "collapsed": false
   },
   "outputs": [
    {
     "name": "stderr",
     "output_type": "stream",
     "text": [
      "/anaconda/lib/python3.6/site-packages/sklearn/utils/validation.py:429: DataConversionWarning: Data with input dtype int64 was converted to float64 by the normalize function.\n",
      "  warnings.warn(msg, _DataConversionWarning)\n"
     ]
    }
   ],
   "source": [
    "# Let's Normalize each item\n",
    "item_norm = normalize(user_item_counts.values, axis=0)\n",
    "item_item_similarity = item_norm.T.dot(item_norm)\n",
    "item_item_similarity = pd.DataFrame(item_item_similarity,index=user_item_counts.columns,columns=user_item_counts.columns)\n"
   ]
  },
  {
   "cell_type": "code",
   "execution_count": 16,
   "metadata": {
    "collapsed": false,
    "scrolled": true
   },
   "outputs": [
    {
     "data": {
      "text/html": [
       "<div>\n",
       "<style>\n",
       "    .dataframe thead tr:only-child th {\n",
       "        text-align: right;\n",
       "    }\n",
       "\n",
       "    .dataframe thead th {\n",
       "        text-align: left;\n",
       "    }\n",
       "\n",
       "    .dataframe tbody tr th {\n",
       "        vertical-align: top;\n",
       "    }\n",
       "</style>\n",
       "<table border=\"1\" class=\"dataframe\">\n",
       "  <thead>\n",
       "    <tr style=\"text-align: right;\">\n",
       "      <th>Item_id</th>\n",
       "      <th>1</th>\n",
       "      <th>2</th>\n",
       "      <th>3</th>\n",
       "      <th>4</th>\n",
       "      <th>5</th>\n",
       "      <th>6</th>\n",
       "      <th>7</th>\n",
       "      <th>8</th>\n",
       "      <th>9</th>\n",
       "      <th>10</th>\n",
       "      <th>...</th>\n",
       "      <th>39</th>\n",
       "      <th>40</th>\n",
       "      <th>41</th>\n",
       "      <th>42</th>\n",
       "      <th>43</th>\n",
       "      <th>44</th>\n",
       "      <th>45</th>\n",
       "      <th>46</th>\n",
       "      <th>47</th>\n",
       "      <th>48</th>\n",
       "    </tr>\n",
       "    <tr>\n",
       "      <th>Item_id</th>\n",
       "      <th></th>\n",
       "      <th></th>\n",
       "      <th></th>\n",
       "      <th></th>\n",
       "      <th></th>\n",
       "      <th></th>\n",
       "      <th></th>\n",
       "      <th></th>\n",
       "      <th></th>\n",
       "      <th></th>\n",
       "      <th></th>\n",
       "      <th></th>\n",
       "      <th></th>\n",
       "      <th></th>\n",
       "      <th></th>\n",
       "      <th></th>\n",
       "      <th></th>\n",
       "      <th></th>\n",
       "      <th></th>\n",
       "      <th></th>\n",
       "      <th></th>\n",
       "    </tr>\n",
       "  </thead>\n",
       "  <tbody>\n",
       "    <tr>\n",
       "      <th>1</th>\n",
       "      <td>1.000000</td>\n",
       "      <td>0.506895</td>\n",
       "      <td>0.420145</td>\n",
       "      <td>0.296986</td>\n",
       "      <td>0.271132</td>\n",
       "      <td>0.388250</td>\n",
       "      <td>0.271743</td>\n",
       "      <td>0.335303</td>\n",
       "      <td>0.403690</td>\n",
       "      <td>0.390641</td>\n",
       "      <td>...</td>\n",
       "      <td>0.388034</td>\n",
       "      <td>0.390286</td>\n",
       "      <td>0.358599</td>\n",
       "      <td>0.393056</td>\n",
       "      <td>0.395696</td>\n",
       "      <td>0.396766</td>\n",
       "      <td>0.390253</td>\n",
       "      <td>0.394998</td>\n",
       "      <td>0.392164</td>\n",
       "      <td>0.328221</td>\n",
       "    </tr>\n",
       "    <tr>\n",
       "      <th>2</th>\n",
       "      <td>0.506895</td>\n",
       "      <td>1.000000</td>\n",
       "      <td>0.466874</td>\n",
       "      <td>0.322744</td>\n",
       "      <td>0.285125</td>\n",
       "      <td>0.468199</td>\n",
       "      <td>0.312200</td>\n",
       "      <td>0.390521</td>\n",
       "      <td>0.464872</td>\n",
       "      <td>0.527894</td>\n",
       "      <td>...</td>\n",
       "      <td>0.462968</td>\n",
       "      <td>0.462548</td>\n",
       "      <td>0.409401</td>\n",
       "      <td>0.529100</td>\n",
       "      <td>0.464579</td>\n",
       "      <td>0.527325</td>\n",
       "      <td>0.521058</td>\n",
       "      <td>0.462407</td>\n",
       "      <td>0.460257</td>\n",
       "      <td>0.380077</td>\n",
       "    </tr>\n",
       "    <tr>\n",
       "      <th>3</th>\n",
       "      <td>0.420145</td>\n",
       "      <td>0.466874</td>\n",
       "      <td>1.000000</td>\n",
       "      <td>0.277325</td>\n",
       "      <td>0.224537</td>\n",
       "      <td>0.358326</td>\n",
       "      <td>0.238133</td>\n",
       "      <td>0.301868</td>\n",
       "      <td>0.362091</td>\n",
       "      <td>0.352597</td>\n",
       "      <td>...</td>\n",
       "      <td>0.351093</td>\n",
       "      <td>0.368199</td>\n",
       "      <td>0.309078</td>\n",
       "      <td>0.357794</td>\n",
       "      <td>0.351209</td>\n",
       "      <td>0.362522</td>\n",
       "      <td>0.361922</td>\n",
       "      <td>0.354933</td>\n",
       "      <td>0.351832</td>\n",
       "      <td>0.297972</td>\n",
       "    </tr>\n",
       "    <tr>\n",
       "      <th>4</th>\n",
       "      <td>0.296986</td>\n",
       "      <td>0.322744</td>\n",
       "      <td>0.277325</td>\n",
       "      <td>1.000000</td>\n",
       "      <td>0.162860</td>\n",
       "      <td>0.247414</td>\n",
       "      <td>0.166012</td>\n",
       "      <td>0.216166</td>\n",
       "      <td>0.252662</td>\n",
       "      <td>0.258313</td>\n",
       "      <td>...</td>\n",
       "      <td>0.245623</td>\n",
       "      <td>0.261272</td>\n",
       "      <td>0.210767</td>\n",
       "      <td>0.244946</td>\n",
       "      <td>0.253282</td>\n",
       "      <td>0.253119</td>\n",
       "      <td>0.250190</td>\n",
       "      <td>0.253835</td>\n",
       "      <td>0.260541</td>\n",
       "      <td>0.218717</td>\n",
       "    </tr>\n",
       "    <tr>\n",
       "      <th>5</th>\n",
       "      <td>0.271132</td>\n",
       "      <td>0.285125</td>\n",
       "      <td>0.224537</td>\n",
       "      <td>0.162860</td>\n",
       "      <td>1.000000</td>\n",
       "      <td>0.233618</td>\n",
       "      <td>0.164699</td>\n",
       "      <td>0.203245</td>\n",
       "      <td>0.239445</td>\n",
       "      <td>0.234254</td>\n",
       "      <td>...</td>\n",
       "      <td>0.235543</td>\n",
       "      <td>0.238557</td>\n",
       "      <td>0.211006</td>\n",
       "      <td>0.238466</td>\n",
       "      <td>0.235064</td>\n",
       "      <td>0.241835</td>\n",
       "      <td>0.238087</td>\n",
       "      <td>0.238247</td>\n",
       "      <td>0.232387</td>\n",
       "      <td>0.188269</td>\n",
       "    </tr>\n",
       "  </tbody>\n",
       "</table>\n",
       "<p>5 rows × 48 columns</p>\n",
       "</div>"
      ],
      "text/plain": [
       "Item_id        1         2         3         4         5         6         7   \\\n",
       "Item_id                                                                         \n",
       "1        1.000000  0.506895  0.420145  0.296986  0.271132  0.388250  0.271743   \n",
       "2        0.506895  1.000000  0.466874  0.322744  0.285125  0.468199  0.312200   \n",
       "3        0.420145  0.466874  1.000000  0.277325  0.224537  0.358326  0.238133   \n",
       "4        0.296986  0.322744  0.277325  1.000000  0.162860  0.247414  0.166012   \n",
       "5        0.271132  0.285125  0.224537  0.162860  1.000000  0.233618  0.164699   \n",
       "\n",
       "Item_id        8         9         10    ...           39        40        41  \\\n",
       "Item_id                                  ...                                    \n",
       "1        0.335303  0.403690  0.390641    ...     0.388034  0.390286  0.358599   \n",
       "2        0.390521  0.464872  0.527894    ...     0.462968  0.462548  0.409401   \n",
       "3        0.301868  0.362091  0.352597    ...     0.351093  0.368199  0.309078   \n",
       "4        0.216166  0.252662  0.258313    ...     0.245623  0.261272  0.210767   \n",
       "5        0.203245  0.239445  0.234254    ...     0.235543  0.238557  0.211006   \n",
       "\n",
       "Item_id        42        43        44        45        46        47        48  \n",
       "Item_id                                                                        \n",
       "1        0.393056  0.395696  0.396766  0.390253  0.394998  0.392164  0.328221  \n",
       "2        0.529100  0.464579  0.527325  0.521058  0.462407  0.460257  0.380077  \n",
       "3        0.357794  0.351209  0.362522  0.361922  0.354933  0.351832  0.297972  \n",
       "4        0.244946  0.253282  0.253119  0.250190  0.253835  0.260541  0.218717  \n",
       "5        0.238466  0.235064  0.241835  0.238087  0.238247  0.232387  0.188269  \n",
       "\n",
       "[5 rows x 48 columns]"
      ]
     },
     "execution_count": 16,
     "metadata": {},
     "output_type": "execute_result"
    }
   ],
   "source": [
    "item_item_similarity.head() "
   ]
  },
  {
   "cell_type": "code",
   "execution_count": 17,
   "metadata": {
    "collapsed": false
   },
   "outputs": [],
   "source": [
    "pca = PCA()\n",
    "items_rotated = pca.fit_transform(item_item_similarity)\n",
    "items_rotated = pd.DataFrame(items_rotated,index=user_item_counts.columns,columns=[\"pc{}\".format(index+1) for index in range(item.shape[0])])"
   ]
  },
  {
   "cell_type": "code",
   "execution_count": 18,
   "metadata": {
    "collapsed": false
   },
   "outputs": [
    {
     "data": {
      "text/plain": [
       "[<matplotlib.lines.Line2D at 0x11c839e80>]"
      ]
     },
     "execution_count": 18,
     "metadata": {},
     "output_type": "execute_result"
    },
    {
     "data": {
      "image/png": "[encoded data removed]",
      "text/plain": [
       "<matplotlib.figure.Figure at 0x11c72bcf8>"
      ]
     },
     "metadata": {},
     "output_type": "display_data"
    }
   ],
   "source": [
    "# The total variance explained by first K principle components\n",
    "\n",
    "explained_variance_by_k = pca.explained_variance_ratio_.cumsum()\n",
    "plt.plot(range(1,len(explained_variance_by_k)+1),explained_variance_by_k,marker=\"*\")"
   ]
  },
  {
   "cell_type": "code",
   "execution_count": 19,
   "metadata": {
    "collapsed": false
   },
   "outputs": [],
   "source": [
    "def show_clusters(items_rotated,labels):\n",
    "    \n",
    "    fig = plt.figure(figsize=(15, 15))\n",
    "    colors =  itertools.cycle ([\"b\",\"g\",\"r\",\"c\",\"m\",\"y\",\"k\"])\n",
    "\n",
    "    grps = items_rotated.groupby(labels)\n",
    "    for label,grp in grps:\n",
    "        plt.scatter(grp.pc1,grp.pc2,c=next(colors),label = label)\n",
    "\n",
    "        names = item.loc[ grp.index,\"Item_name\"]\n",
    "        for index, name in enumerate(names):\n",
    "            print(\"\\t<{}> {}\".format(index+1,name))\n",
    "\n",
    "    # Annotate\n",
    "    for itemid in items_rotated.index:\n",
    "        x = items_rotated.loc[itemid,\"pc1\"]\n",
    "        y = items_rotated.loc[itemid,\"pc2\"]\n",
    "        name = item.loc[itemid,\"Item_name\"]\n",
    "        name = re.sub('\\W', ' ', name)\n",
    "        plt.text(x,y,name)\n"
   ]
  },
  {
   "cell_type": "code",
   "execution_count": 20,
   "metadata": {
    "collapsed": false
   },
   "outputs": [],
   "source": [
    "def cluster(n_clusters,n_components=48):\n",
    "    \n",
    "    print(\"first {} PC explain {:.1f}% variances\".format(n_components,\n",
    "                                                         100 * sum(pca.explained_variance_ratio_[:n_components])))\n",
    "\n",
    "    kmeans = KMeans(n_clusters=n_clusters)\n",
    "    kmeans.fit(items_rotated.values[:, :n_components])\n",
    "\n",
    "    show_clusters(items_rotated, kmeans.labels_)"
   ]
  },
  {
   "cell_type": "code",
   "execution_count": 21,
   "metadata": {
    "collapsed": false
   },
   "outputs": [],
   "source": [
    "# Choose best K \n",
    "inertias = []\n",
    "silhouettes = []\n",
    "\n",
    "ks = range(2,30)\n",
    "for k in ks:\n",
    "    kmeans = KMeans(n_clusters=k)\n",
    "    kmeans.fit(items_rotated)\n",
    "    \n",
    "    inertias.append(kmeans.inertia_)\n",
    "    silhouettes.append(silhouette_score(items_rotated, kmeans.predict(items_rotated)))"
   ]
  },
  {
   "cell_type": "code",
   "execution_count": 22,
   "metadata": {
    "collapsed": false
   },
   "outputs": [
    {
     "data": {
      "text/plain": [
       "[<matplotlib.lines.Line2D at 0x11cbae5c0>]"
      ]
     },
     "execution_count": 22,
     "metadata": {},
     "output_type": "execute_result"
    },
    {
     "data": {
      "image/png": "[encoded data removed]",
      "text/plain": [
       "<matplotlib.figure.Figure at 0x11c882240>"
      ]
     },
     "metadata": {},
     "output_type": "display_data"
    }
   ],
   "source": [
    "fig = plt.figure(figsize=(10,4))\n",
    "plt.plot(ks, inertias,marker='o')"
   ]
  },
  {
   "cell_type": "code",
   "execution_count": 23,
   "metadata": {
    "collapsed": false
   },
   "outputs": [
    {
     "data": {
      "text/plain": [
       "[<matplotlib.lines.Line2D at 0x11ed6afd0>]"
      ]
     },
     "execution_count": 23,
     "metadata": {},
     "output_type": "execute_result"
    },
    {
     "data": {
      "image/png": "[encoded data removed]",
      "text/plain": [
       "<matplotlib.figure.Figure at 0x11cbc4198>"
      ]
     },
     "metadata": {},
     "output_type": "display_data"
    }
   ],
   "source": [
    "plt.plot(ks,silhouettes,marker='o')"
   ]
  },
  {
   "cell_type": "code",
   "execution_count": 24,
   "metadata": {
    "collapsed": false
   },
   "outputs": [
    {
     "data": {
      "text/plain": [
       "re.compile(r'<title>(.*)</title>', re.UNICODE)"
      ]
     },
     "execution_count": 24,
     "metadata": {},
     "output_type": "execute_result"
    }
   ],
   "source": [
    "import re\n",
    "re.compile('<title>(.*)</title>')"
   ]
  },
  {
   "cell_type": "code",
   "execution_count": 25,
   "metadata": {
    "collapsed": false
   },
   "outputs": [
    {
     "name": "stdout",
     "output_type": "stream",
     "text": [
      "first 48 PC explain 100.0% variances\n",
      "\t<1> sandwich bags\n",
      "\t<2> aluminum foil\n",
      "\t<3> paper towels\n",
      "\t<4> toilet paper\n",
      "\t<1> lettuce\n",
      "\t<2> carrots\n",
      "\t<3> cucumbers\n",
      "\t<4> broccoli\n",
      "\t<5> cauliflower\n",
      "\t<1> shampoo\n",
      "\t<2> hand soap\n",
      "\t<3> soap\n",
      "\t<1> butter\n",
      "\t<2> eggs\n",
      "\t<3> milk\n",
      "\t<4> cheeses\n",
      "\t<5> yogurt\n",
      "\t<1> waffles\n",
      "\t<2> cereals\n",
      "\t<3> flour\n",
      "\t<1> poultry\n",
      "\t<2> beef\n",
      "\t<3> pork\n",
      "\t<1> laundry detergent\n",
      "\t<2> dishwashing \n",
      "\t<1> sugar\n",
      "\t<2> pet items\n",
      "\t<3> soda\n",
      "\t<4> tea\n",
      "\t<5> juice\n",
      "\t<6> coffee\n",
      "\t<1> frozen vegetables\n",
      "\t<2> ice cream\n",
      "\t<1> grapefruit\n",
      "\t<2> cherries\n",
      "\t<3> apples\n",
      "\t<4> berries\n",
      "\t<5> bananas\n",
      "\t<1> pasta\n",
      "\t<1> spaghetti sauce\n",
      "\t<2> canned vegetables\n",
      "\t<3> ketchup\n",
      "\t<1> baby items\n",
      "\t<1> bagels\n",
      "\t<2> tortillas\n",
      "\t<3> dinner rolls\n",
      "\t<4> sandwich loaves\n",
      "\t<1> shaving cream\n"
     ]
    },
    {
     "data": {
      "image/png": "[encoded data removed]",
      "text/plain": [
       "<matplotlib.figure.Figure at 0x11ed2a128>"
      ]
     },
     "metadata": {},
     "output_type": "display_data"
    }
   ],
   "source": [
    "x=cluster(n_clusters=15)\n",
    "x"
   ]
  },
  {
   "cell_type": "code",
   "execution_count": null,
   "metadata": {
    "collapsed": true
   },
   "outputs": [],
   "source": []
  }
 ],
 "metadata": {
  "kernelspec": {
   "display_name": "Python 3",
   "language": "python",
   "name": "python3"
  },
  "language_info": {
   "codemirror_mode": {
    "name": "ipython",
    "version": 3
   },
   "file_extension": ".py",
   "mimetype": "text/x-python",
   "name": "python",
   "nbconvert_exporter": "python",
   "pygments_lexer": "ipython3",
   "version": "3.6.0"
  }
 },
 "nbformat": 4,
 "nbformat_minor": 2
}
