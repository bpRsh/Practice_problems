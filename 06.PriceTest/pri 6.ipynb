{
 "cells": [
  {
   "cell_type": "markdown",
   "metadata": {},
   "source": [
    "Company XYZ sells a software for 39. Since revenue has been ﬂat for some time, the VP of Product has decided to run a test increasing the price. She hopes that this would increase revenue. In the experiment, 66% of the users have seen the old price (39), while a random sample of 33% users a higher price (59).\n",
    "\n",
    "The test has been running for some time and the VP of Product is interested in understanding how it went and whether it would make sense to increase the price for all the users.\n",
    "\n",
    "Especially he asked you the following questions:\n",
    "\n",
    "* Should the company sell its software for 39 or 59?\n",
    "* The VP of Product is interested in having a holistic view into user behavior, especially focusing on actionable insights that might increase conversion rate. What are your main ﬁndings looking at the data?\n",
    "* **[ Bonus ]** The VP of Product feels that the test has been running for too long and he should have been able to get statistically signiﬁcant results in a shorter time. Do you agree with her intuition? After how many days you would have stopped the test? Please, explain why."
   ]
  },
  {
   "cell_type": "markdown",
   "metadata": {},
   "source": [
    "# Index\n",
    "* [Load the data](#Load-the-data)\n",
    "* [Check whether test/control group is randomly splitted?](#Check-whether-test-and-control-group-is-randomly-splitted?)\n",
    "* [Answer question 1](#Answer-question-1)\n",
    "* [Answer question 2](#Answer-question-2)\n",
    "    * [Chi-Square test](#Chi-Square-test)\n",
    "    * [How price affects conversion?](#How-price-affects-conversion?)\n",
    "    * [How OS affects conversion?](#How-OS-affects-conversion?)\n",
    "    * [Model by Decision Tree](#Model-by-Decision-Tree)\n",
    "    * [**Actionable-Insights**](#Actionable-Insights)"
   ]
  },
  {
   "cell_type": "code",
   "execution_count": 2,
   "metadata": {
    "collapsed": true
   },
   "outputs": [],
   "source": [
    "import numpy as np\n",
    "import pandas as pd\n",
    "import scipy.stats as ss\n",
    "from sklearn.preprocessing import LabelEncoder\n",
    "from sklearn.feature_selection import chi2,f_classif\n",
    "from sklearn.tree import DecisionTreeClassifier,export_graphviz"
   ]
  },
  {
   "cell_type": "code",
   "execution_count": 3,
   "metadata": {
    "collapsed": true
   },
   "outputs": [],
   "source": [
    "import matplotlib.pyplot as plt\n",
    "plt.style.use('ggplot')\n",
    "%matplotlib inline\n",
    "\n",
    "seed = 999"
   ]
  },
  {
   "cell_type": "markdown",
   "metadata": {},
   "source": [
    "## Load the data"
   ]
  },
  {
   "cell_type": "code",
   "execution_count": 4,
   "metadata": {
    "collapsed": false
   },
   "outputs": [],
   "source": [
    "testdata = pd.read_csv(\"test_results.csv\",index_col=\"user_id\")\n",
    "# users contains [id,city,country,lat,long]\n",
    "# and all 'country' column is USA\n",
    "# I don't think users can provide useful information to the problems, so just ignore user_table.csv\n",
    "# users = pd.read_csv(\"user_table.csv\")\n",
    "\n",
    "# some time has 60 seconds/minute, which cannot be processed by to_datetime\n",
    "# if given more time, I will fix this incorrect format\n",
    "# testdata[\"timestamp\"] = pd.to_datetime(testdata.timestamp)\n",
    "\n",
    "# rename to short names, make it easier to display\n",
    "testdata.rename(columns={'operative_system':'OS'},inplace=True)"
   ]
  },
  {
   "cell_type": "code",
   "execution_count": 5,
   "metadata": {
    "collapsed": false
   },
   "outputs": [
    {
     "data": {
      "text/html": [
       "<div>\n",
       "<table border=\"1\" class=\"dataframe\">\n",
       "  <thead>\n",
       "    <tr style=\"text-align: right;\">\n",
       "      <th></th>\n",
       "      <th>timestamp</th>\n",
       "      <th>source</th>\n",
       "      <th>device</th>\n",
       "      <th>OS</th>\n",
       "      <th>test</th>\n",
       "      <th>price</th>\n",
       "      <th>converted</th>\n",
       "    </tr>\n",
       "    <tr>\n",
       "      <th>user_id</th>\n",
       "      <th></th>\n",
       "      <th></th>\n",
       "      <th></th>\n",
       "      <th></th>\n",
       "      <th></th>\n",
       "      <th></th>\n",
       "      <th></th>\n",
       "    </tr>\n",
       "  </thead>\n",
       "  <tbody>\n",
       "    <tr>\n",
       "      <th>604839</th>\n",
       "      <td>2015-05-08 03:38:34</td>\n",
       "      <td>ads_facebook</td>\n",
       "      <td>mobile</td>\n",
       "      <td>iOS</td>\n",
       "      <td>0</td>\n",
       "      <td>39</td>\n",
       "      <td>0</td>\n",
       "    </tr>\n",
       "    <tr>\n",
       "      <th>624057</th>\n",
       "      <td>2015-05-10 21:08:46</td>\n",
       "      <td>seo-google</td>\n",
       "      <td>mobile</td>\n",
       "      <td>android</td>\n",
       "      <td>0</td>\n",
       "      <td>39</td>\n",
       "      <td>0</td>\n",
       "    </tr>\n",
       "    <tr>\n",
       "      <th>317970</th>\n",
       "      <td>2015-04-04 15:01:23</td>\n",
       "      <td>ads-bing</td>\n",
       "      <td>mobile</td>\n",
       "      <td>android</td>\n",
       "      <td>0</td>\n",
       "      <td>39</td>\n",
       "      <td>0</td>\n",
       "    </tr>\n",
       "    <tr>\n",
       "      <th>685636</th>\n",
       "      <td>2015-05-07 07:26:01</td>\n",
       "      <td>direct_traffic</td>\n",
       "      <td>mobile</td>\n",
       "      <td>iOS</td>\n",
       "      <td>1</td>\n",
       "      <td>59</td>\n",
       "      <td>0</td>\n",
       "    </tr>\n",
       "    <tr>\n",
       "      <th>820854</th>\n",
       "      <td>2015-05-24 11:04:40</td>\n",
       "      <td>ads_facebook</td>\n",
       "      <td>web</td>\n",
       "      <td>mac</td>\n",
       "      <td>0</td>\n",
       "      <td>39</td>\n",
       "      <td>0</td>\n",
       "    </tr>\n",
       "  </tbody>\n",
       "</table>\n",
       "</div>"
      ],
      "text/plain": [
       "                   timestamp          source  device       OS  test  price  \\\n",
       "user_id                                                                      \n",
       "604839   2015-05-08 03:38:34    ads_facebook  mobile      iOS     0     39   \n",
       "624057   2015-05-10 21:08:46      seo-google  mobile  android     0     39   \n",
       "317970   2015-04-04 15:01:23        ads-bing  mobile  android     0     39   \n",
       "685636   2015-05-07 07:26:01  direct_traffic  mobile      iOS     1     59   \n",
       "820854   2015-05-24 11:04:40    ads_facebook     web      mac     0     39   \n",
       "\n",
       "         converted  \n",
       "user_id             \n",
       "604839           0  \n",
       "624057           0  \n",
       "317970           0  \n",
       "685636           0  \n",
       "820854           0  "
      ]
     },
     "execution_count": 5,
     "metadata": {},
     "output_type": "execute_result"
    }
   ],
   "source": [
    "testdata.head()"
   ]
  },
  {
   "cell_type": "markdown",
   "metadata": {},
   "source": [
    "## Check whether test and control group is randomly splitted?"
   ]
  },
  {
   "cell_type": "code",
   "execution_count": 6,
   "metadata": {
    "collapsed": false
   },
   "outputs": [],
   "source": [
    "X = testdata.copy()\n",
    "del X['timestamp']\n",
    "\n",
    "# to use sklearn to check feature importance, we must convert string values to numbers\n",
    "src_label_encoder = LabelEncoder()\n",
    "dev_label_encoder = LabelEncoder()\n",
    "os_label_encoder = LabelEncoder()\n",
    "\n",
    "X[\"source\"] = src_label_encoder.fit_transform(testdata.source)\n",
    "X[\"device\"] = dev_label_encoder.fit_transform(testdata.device)\n",
    "X[\"OS\"] = os_label_encoder.fit_transform(testdata.OS)"
   ]
  },
  {
   "cell_type": "code",
   "execution_count": 7,
   "metadata": {
    "collapsed": false
   },
   "outputs": [
    {
     "data": {
      "text/html": [
       "<div>\n",
       "<table border=\"1\" class=\"dataframe\">\n",
       "  <thead>\n",
       "    <tr style=\"text-align: right;\">\n",
       "      <th></th>\n",
       "      <th>source</th>\n",
       "      <th>device</th>\n",
       "      <th>OS</th>\n",
       "      <th>test</th>\n",
       "      <th>price</th>\n",
       "      <th>converted</th>\n",
       "    </tr>\n",
       "    <tr>\n",
       "      <th>user_id</th>\n",
       "      <th></th>\n",
       "      <th></th>\n",
       "      <th></th>\n",
       "      <th></th>\n",
       "      <th></th>\n",
       "      <th></th>\n",
       "    </tr>\n",
       "  </thead>\n",
       "  <tbody>\n",
       "    <tr>\n",
       "      <th>604839</th>\n",
       "      <td>3</td>\n",
       "      <td>0</td>\n",
       "      <td>1</td>\n",
       "      <td>0</td>\n",
       "      <td>39</td>\n",
       "      <td>0</td>\n",
       "    </tr>\n",
       "    <tr>\n",
       "      <th>624057</th>\n",
       "      <td>8</td>\n",
       "      <td>0</td>\n",
       "      <td>0</td>\n",
       "      <td>0</td>\n",
       "      <td>39</td>\n",
       "      <td>0</td>\n",
       "    </tr>\n",
       "    <tr>\n",
       "      <th>317970</th>\n",
       "      <td>0</td>\n",
       "      <td>0</td>\n",
       "      <td>0</td>\n",
       "      <td>0</td>\n",
       "      <td>39</td>\n",
       "      <td>0</td>\n",
       "    </tr>\n",
       "    <tr>\n",
       "      <th>685636</th>\n",
       "      <td>5</td>\n",
       "      <td>0</td>\n",
       "      <td>1</td>\n",
       "      <td>1</td>\n",
       "      <td>59</td>\n",
       "      <td>0</td>\n",
       "    </tr>\n",
       "    <tr>\n",
       "      <th>820854</th>\n",
       "      <td>3</td>\n",
       "      <td>1</td>\n",
       "      <td>3</td>\n",
       "      <td>0</td>\n",
       "      <td>39</td>\n",
       "      <td>0</td>\n",
       "    </tr>\n",
       "  </tbody>\n",
       "</table>\n",
       "</div>"
      ],
      "text/plain": [
       "         source  device  OS  test  price  converted\n",
       "user_id                                            \n",
       "604839        3       0   1     0     39          0\n",
       "624057        8       0   0     0     39          0\n",
       "317970        0       0   0     0     39          0\n",
       "685636        5       0   1     1     59          0\n",
       "820854        3       1   3     0     39          0"
      ]
     },
     "execution_count": 7,
     "metadata": {},
     "output_type": "execute_result"
    }
   ],
   "source": [
    "X.head()"
   ]
  },
  {
   "cell_type": "markdown",
   "metadata": {},
   "source": [
    "run ** Chi-Square test ** to see which factor impact the splitting between test/control group"
   ]
  },
  {
   "cell_type": "code",
   "execution_count": 8,
   "metadata": {
    "collapsed": false
   },
   "outputs": [
    {
     "data": {
      "text/html": [
       "<div>\n",
       "<table border=\"1\" class=\"dataframe\">\n",
       "  <thead>\n",
       "    <tr style=\"text-align: right;\">\n",
       "      <th></th>\n",
       "      <th>chi2_value</th>\n",
       "      <th>pvalue</th>\n",
       "    </tr>\n",
       "  </thead>\n",
       "  <tbody>\n",
       "    <tr>\n",
       "      <th>OS</th>\n",
       "      <td>83.085986</td>\n",
       "      <td>7.856065e-20</td>\n",
       "    </tr>\n",
       "    <tr>\n",
       "      <th>device</th>\n",
       "      <td>44.366335</td>\n",
       "      <td>2.723301e-11</td>\n",
       "    </tr>\n",
       "    <tr>\n",
       "      <th>source</th>\n",
       "      <td>0.924742</td>\n",
       "      <td>3.362329e-01</td>\n",
       "    </tr>\n",
       "  </tbody>\n",
       "</table>\n",
       "</div>"
      ],
      "text/plain": [
       "        chi2_value        pvalue\n",
       "OS       83.085986  7.856065e-20\n",
       "device   44.366335  2.723301e-11\n",
       "source    0.924742  3.362329e-01"
      ]
     },
     "execution_count": 8,
     "metadata": {},
     "output_type": "execute_result"
    }
   ],
   "source": [
    "colnames = [\"source\",\"device\",\"OS\"]\n",
    "ch2values,pvalues = chi2(X.loc[:,colnames],X[\"test\"])\n",
    "pd.DataFrame({'chi2_value':ch2values,'pvalue':pvalues},index = colnames).sort_values(by='pvalue')"
   ]
  },
  {
   "cell_type": "markdown",
   "metadata": {},
   "source": [
    "from above result, we know that the splitting between test/control groups aren't random. OS and device has great impact on the split."
   ]
  },
  {
   "cell_type": "code",
   "execution_count": 9,
   "metadata": {
    "collapsed": false
   },
   "outputs": [
    {
     "data": {
      "text/html": [
       "<div>\n",
       "<table border=\"1\" class=\"dataframe\">\n",
       "  <thead>\n",
       "    <tr style=\"text-align: right;\">\n",
       "      <th></th>\n",
       "      <th>0</th>\n",
       "      <th>1</th>\n",
       "      <th>total</th>\n",
       "    </tr>\n",
       "    <tr>\n",
       "      <th>OS</th>\n",
       "      <th></th>\n",
       "      <th></th>\n",
       "      <th></th>\n",
       "    </tr>\n",
       "  </thead>\n",
       "  <tbody>\n",
       "    <tr>\n",
       "      <th>android</th>\n",
       "      <td>0.643358</td>\n",
       "      <td>0.356642</td>\n",
       "      <td>74935.0</td>\n",
       "    </tr>\n",
       "    <tr>\n",
       "      <th>iOS</th>\n",
       "      <td>0.647934</td>\n",
       "      <td>0.352066</td>\n",
       "      <td>95465.0</td>\n",
       "    </tr>\n",
       "    <tr>\n",
       "      <th>linux</th>\n",
       "      <td>0.533736</td>\n",
       "      <td>0.466264</td>\n",
       "      <td>4135.0</td>\n",
       "    </tr>\n",
       "    <tr>\n",
       "      <th>mac</th>\n",
       "      <td>0.652422</td>\n",
       "      <td>0.347578</td>\n",
       "      <td>25085.0</td>\n",
       "    </tr>\n",
       "    <tr>\n",
       "      <th>other</th>\n",
       "      <td>0.647865</td>\n",
       "      <td>0.352135</td>\n",
       "      <td>16204.0</td>\n",
       "    </tr>\n",
       "    <tr>\n",
       "      <th>windows</th>\n",
       "      <td>0.629764</td>\n",
       "      <td>0.370236</td>\n",
       "      <td>100976.0</td>\n",
       "    </tr>\n",
       "  </tbody>\n",
       "</table>\n",
       "</div>"
      ],
      "text/plain": [
       "                0         1     total\n",
       "OS                                   \n",
       "android  0.643358  0.356642   74935.0\n",
       "iOS      0.647934  0.352066   95465.0\n",
       "linux    0.533736  0.466264    4135.0\n",
       "mac      0.652422  0.347578   25085.0\n",
       "other    0.647865  0.352135   16204.0\n",
       "windows  0.629764  0.370236  100976.0"
      ]
     },
     "execution_count": 9,
     "metadata": {},
     "output_type": "execute_result"
    }
   ],
   "source": [
    "def calc_ratios(s):\n",
    "    d = s.value_counts(normalize=True)\n",
    "    d['total'] = s.shape[0]\n",
    "    return d\n",
    "test_ctrl_by_os = testdata.groupby('OS')['test'].apply(calc_ratios).unstack()\n",
    "test_ctrl_by_os"
   ]
  },
  {
   "cell_type": "code",
   "execution_count": 10,
   "metadata": {
    "collapsed": false
   },
   "outputs": [
    {
     "data": {
      "text/plain": [
       "<matplotlib.axes._subplots.AxesSubplot at 0x1198e9e10>"
      ]
     },
     "execution_count": 10,
     "metadata": {},
     "output_type": "execute_result"
    },
    {
     "data": {
      "image/png": "[encoded data removed]",
      "text/plain": [
       "<matplotlib.figure.Figure at 0x1198e91d0>"
      ]
     },
     "metadata": {},
     "output_type": "display_data"
    }
   ],
   "source": [
    "test_ctrl_by_os.plot(kind='bar',figsize=(15,5))"
   ]
  },
  {
   "cell_type": "code",
   "execution_count": 11,
   "metadata": {
    "collapsed": false
   },
   "outputs": [
    {
     "data": {
      "text/html": [
       "<div>\n",
       "<table border=\"1\" class=\"dataframe\">\n",
       "  <thead>\n",
       "    <tr style=\"text-align: right;\">\n",
       "      <th></th>\n",
       "      <th>windows</th>\n",
       "      <th>iOS</th>\n",
       "      <th>android</th>\n",
       "      <th>mac</th>\n",
       "      <th>other</th>\n",
       "      <th>linux</th>\n",
       "    </tr>\n",
       "    <tr>\n",
       "      <th>test</th>\n",
       "      <th></th>\n",
       "      <th></th>\n",
       "      <th></th>\n",
       "      <th></th>\n",
       "      <th></th>\n",
       "      <th></th>\n",
       "    </tr>\n",
       "  </thead>\n",
       "  <tbody>\n",
       "    <tr>\n",
       "      <th>0</th>\n",
       "      <td>0.313678</td>\n",
       "      <td>0.305115</td>\n",
       "      <td>0.237807</td>\n",
       "      <td>0.080729</td>\n",
       "      <td>0.051784</td>\n",
       "      <td>0.010887</td>\n",
       "    </tr>\n",
       "    <tr>\n",
       "      <th>1</th>\n",
       "      <td>0.327729</td>\n",
       "      <td>0.294636</td>\n",
       "      <td>0.234280</td>\n",
       "      <td>0.076434</td>\n",
       "      <td>0.050021</td>\n",
       "      <td>0.016901</td>\n",
       "    </tr>\n",
       "  </tbody>\n",
       "</table>\n",
       "</div>"
      ],
      "text/plain": [
       "       windows       iOS   android       mac     other     linux\n",
       "test                                                            \n",
       "0     0.313678  0.305115  0.237807  0.080729  0.051784  0.010887\n",
       "1     0.327729  0.294636  0.234280  0.076434  0.050021  0.016901"
      ]
     },
     "execution_count": 11,
     "metadata": {},
     "output_type": "execute_result"
    }
   ],
   "source": [
    "os_by_test_ctrl = testdata.groupby('test')['OS'].apply(lambda s: s.value_counts(normalize=True)).unstack()\n",
    "os_by_test_ctrl "
   ]
  },
  {
   "cell_type": "code",
   "execution_count": 12,
   "metadata": {
    "collapsed": false
   },
   "outputs": [
    {
     "data": {
      "text/plain": [
       "<matplotlib.axes._subplots.AxesSubplot at 0x119e8f090>"
      ]
     },
     "execution_count": 12,
     "metadata": {},
     "output_type": "execute_result"
    },
    {
     "data": {
      "image/png": "[encoded data removed]",
      "text/plain": [
       "<matplotlib.figure.Figure at 0x1198e9250>"
      ]
     },
     "metadata": {},
     "output_type": "display_data"
    }
   ],
   "source": [
    "os_by_test_ctrl.plot(kind='bar',figsize=(15,5))"
   ]
  },
  {
   "cell_type": "markdown",
   "metadata": {},
   "source": [
    "we can see that <span style='color:red;font-weight:bold'>OS distribution in test/control groups are very different</span>.\n",
    "\n",
    "the experiment claim that '66% of the users have seen the old price (39), while a random sample of 33% users a higher price (59).', but <a id='linux_imbalance'></a><span style='color:red;font-weight:bold'>users from Linux don't obey such rule, but 53% go to control group, 47% go to test group</span>."
   ]
  },
  {
   "cell_type": "markdown",
   "metadata": {},
   "source": [
    "## Answer question 1\n",
    "Should the company sell its software for 39 or 59?"
   ]
  },
  {
   "cell_type": "code",
   "execution_count": 13,
   "metadata": {
    "collapsed": true
   },
   "outputs": [],
   "source": [
    "revenues = testdata.groupby(by=\"test\").apply(lambda df: df.price * df.converted)\n",
    "ctrl_revenues = revenues[0]\n",
    "test_revenues = revenues[1]"
   ]
  },
  {
   "cell_type": "code",
   "execution_count": 14,
   "metadata": {
    "collapsed": false
   },
   "outputs": [
    {
     "data": {
      "text/html": [
       "<div>\n",
       "<table border=\"1\" class=\"dataframe\">\n",
       "  <thead>\n",
       "    <tr style=\"text-align: right;\">\n",
       "      <th></th>\n",
       "      <th>convert_rate</th>\n",
       "      <th>mean_revenue</th>\n",
       "      <th>n_users</th>\n",
       "    </tr>\n",
       "    <tr>\n",
       "      <th>test</th>\n",
       "      <th></th>\n",
       "      <th></th>\n",
       "      <th></th>\n",
       "    </tr>\n",
       "  </thead>\n",
       "  <tbody>\n",
       "    <tr>\n",
       "      <th>0</th>\n",
       "      <td>0.019904</td>\n",
       "      <td>0.776734</td>\n",
       "      <td>202727.0</td>\n",
       "    </tr>\n",
       "    <tr>\n",
       "      <th>1</th>\n",
       "      <td>0.015543</td>\n",
       "      <td>0.916843</td>\n",
       "      <td>114073.0</td>\n",
       "    </tr>\n",
       "  </tbody>\n",
       "</table>\n",
       "</div>"
      ],
      "text/plain": [
       "      convert_rate  mean_revenue   n_users\n",
       "test                                      \n",
       "0         0.019904      0.776734  202727.0\n",
       "1         0.015543      0.916843  114073.0"
      ]
     },
     "execution_count": 14,
     "metadata": {},
     "output_type": "execute_result"
    }
   ],
   "source": [
    "def group_statistics(df):\n",
    "    return pd.Series({'n_users': df.shape[0],\n",
    "                      'convert_rate': df.converted.mean(), \n",
    "                      'mean_revenue': (df.price * df.converted).mean()})\n",
    "testdata.groupby('test').apply(group_statistics)"
   ]
  },
  {
   "cell_type": "markdown",
   "metadata": {},
   "source": [
    "we are going to perform a t-test to test whether the test group's average revenue is higher than control group's average revenue\n",
    "* H0: test group's average revenue equal to control group's average revenue\n",
    "* HA: test group's average revenue is higher than control group's average revenue"
   ]
  },
  {
   "cell_type": "code",
   "execution_count": 15,
   "metadata": {
    "collapsed": false
   },
   "outputs": [
    {
     "data": {
      "text/plain": [
       "7.7037493023391909e-09"
      ]
     },
     "execution_count": 15,
     "metadata": {},
     "output_type": "execute_result"
    }
   ],
   "source": [
    "ttest_result = ss.ttest_ind(test_revenues,ctrl_revenues,equal_var=False)\n",
    "# ttest_ind is a two tailed\n",
    "# since our HA is test_mean > ctrl_mean, so we need to divide by 2\n",
    "ttest_result.pvalue/2 "
   ]
  },
  {
   "cell_type": "markdown",
   "metadata": {},
   "source": [
    "since the p-value is much smaller than 0.05 threshold, so we reject H0, and accept HA, that is, test group's average revenue is significantly higher than control group's average revenue.\n",
    "\n",
    "but due to [OS distribution aren't the same between test/control groups](#linux_imbalance), price isn't the only difference between test/control groups, so we cannot contribute the increase in average revenue to price.\n",
    "\n",
    "the experiment design fails, I cannot answer decide whether we can sell software to all users in 59 dollars. I suggest \n",
    "1. find the reason why linux users have different representation ratio than other OS.\n",
    "2. then run the experiment again, make sure price is the only difference between test and control group\n",
    "3. then run t-test again, to see whether the average revenue is significantly improved.\n",
    "4. then I can draw the conclusion."
   ]
  },
  {
   "cell_type": "markdown",
   "metadata": {},
   "source": [
    "## Answer question 2\n",
    "The VP of Product is interested in having a holistic view into user behavior, especially focusing on actionable insights that might increase conversion rate. What are your main ﬁndings looking at the data?"
   ]
  },
  {
   "cell_type": "code",
   "execution_count": 16,
   "metadata": {
    "collapsed": false
   },
   "outputs": [
    {
     "data": {
      "text/html": [
       "<div>\n",
       "<table border=\"1\" class=\"dataframe\">\n",
       "  <thead>\n",
       "    <tr style=\"text-align: right;\">\n",
       "      <th></th>\n",
       "      <th>source</th>\n",
       "      <th>device</th>\n",
       "      <th>OS</th>\n",
       "      <th>test</th>\n",
       "      <th>price</th>\n",
       "      <th>converted</th>\n",
       "    </tr>\n",
       "    <tr>\n",
       "      <th>user_id</th>\n",
       "      <th></th>\n",
       "      <th></th>\n",
       "      <th></th>\n",
       "      <th></th>\n",
       "      <th></th>\n",
       "      <th></th>\n",
       "    </tr>\n",
       "  </thead>\n",
       "  <tbody>\n",
       "    <tr>\n",
       "      <th>17427</th>\n",
       "      <td>3</td>\n",
       "      <td>1</td>\n",
       "      <td>5</td>\n",
       "      <td>0</td>\n",
       "      <td>39</td>\n",
       "      <td>0</td>\n",
       "    </tr>\n",
       "    <tr>\n",
       "      <th>687787</th>\n",
       "      <td>5</td>\n",
       "      <td>1</td>\n",
       "      <td>5</td>\n",
       "      <td>0</td>\n",
       "      <td>39</td>\n",
       "      <td>0</td>\n",
       "    </tr>\n",
       "    <tr>\n",
       "      <th>618863</th>\n",
       "      <td>1</td>\n",
       "      <td>1</td>\n",
       "      <td>3</td>\n",
       "      <td>0</td>\n",
       "      <td>39</td>\n",
       "      <td>0</td>\n",
       "    </tr>\n",
       "    <tr>\n",
       "      <th>154636</th>\n",
       "      <td>6</td>\n",
       "      <td>0</td>\n",
       "      <td>0</td>\n",
       "      <td>0</td>\n",
       "      <td>39</td>\n",
       "      <td>0</td>\n",
       "    </tr>\n",
       "    <tr>\n",
       "      <th>832372</th>\n",
       "      <td>3</td>\n",
       "      <td>0</td>\n",
       "      <td>0</td>\n",
       "      <td>1</td>\n",
       "      <td>59</td>\n",
       "      <td>0</td>\n",
       "    </tr>\n",
       "  </tbody>\n",
       "</table>\n",
       "</div>"
      ],
      "text/plain": [
       "         source  device  OS  test  price  converted\n",
       "user_id                                            \n",
       "17427         3       1   5     0     39          0\n",
       "687787        5       1   5     0     39          0\n",
       "618863        1       1   3     0     39          0\n",
       "154636        6       0   0     0     39          0\n",
       "832372        3       0   0     1     59          0"
      ]
     },
     "execution_count": 16,
     "metadata": {},
     "output_type": "execute_result"
    }
   ],
   "source": [
    "# X is the data after being transformed by LabelEncoder\n",
    "X.tail()# glance the data"
   ]
  },
  {
   "cell_type": "markdown",
   "metadata": {},
   "source": [
    "### Chi-Square test\n",
    "I first run ** Chi-Square test ** to see which feature greatly impact converted or not"
   ]
  },
  {
   "cell_type": "code",
   "execution_count": 17,
   "metadata": {
    "collapsed": false
   },
   "outputs": [
    {
     "data": {
      "text/html": [
       "<div>\n",
       "<table border=\"1\" class=\"dataframe\">\n",
       "  <thead>\n",
       "    <tr style=\"text-align: right;\">\n",
       "      <th></th>\n",
       "      <th>chi2_value</th>\n",
       "      <th>pvalue</th>\n",
       "    </tr>\n",
       "  </thead>\n",
       "  <tbody>\n",
       "    <tr>\n",
       "      <th>price</th>\n",
       "      <td>150.992849</td>\n",
       "      <td>1.051844e-34</td>\n",
       "    </tr>\n",
       "    <tr>\n",
       "      <th>OS</th>\n",
       "      <td>7.642955</td>\n",
       "      <td>5.699447e-03</td>\n",
       "    </tr>\n",
       "    <tr>\n",
       "      <th>source</th>\n",
       "      <td>2.373391</td>\n",
       "      <td>1.234187e-01</td>\n",
       "    </tr>\n",
       "    <tr>\n",
       "      <th>device</th>\n",
       "      <td>0.729490</td>\n",
       "      <td>3.930485e-01</td>\n",
       "    </tr>\n",
       "  </tbody>\n",
       "</table>\n",
       "</div>"
      ],
      "text/plain": [
       "        chi2_value        pvalue\n",
       "price   150.992849  1.051844e-34\n",
       "OS        7.642955  5.699447e-03\n",
       "source    2.373391  1.234187e-01\n",
       "device    0.729490  3.930485e-01"
      ]
     },
     "execution_count": 17,
     "metadata": {},
     "output_type": "execute_result"
    }
   ],
   "source": [
    "colnames = [\"source\",\"device\",\"OS\",'price']\n",
    "ch2values,pvalues = chi2(X.loc[:,colnames],X[\"converted\"])\n",
    "pd.DataFrame({'chi2_value':ch2values,'pvalue':pvalues},index = colnames).sort_values(by='pvalue')"
   ]
  },
  {
   "cell_type": "markdown",
   "metadata": {},
   "source": [
    "Chi-Square test tells us, \n",
    "* <span style='color:orange;font-weight:bold;font-size:1.2em'>Price and OS are two main factor which impact converted or not</span>. \n",
    "* <span style='color:orange;font-weight:bold;font-size:1.2em'>Source and Device don't impact conversion rate that much.</span>\n",
    "\n",
    "### How price affects conversion?"
   ]
  },
  {
   "cell_type": "code",
   "execution_count": 18,
   "metadata": {
    "collapsed": false
   },
   "outputs": [
    {
     "data": {
      "text/html": [
       "<div>\n",
       "<table border=\"1\" class=\"dataframe\">\n",
       "  <thead>\n",
       "    <tr style=\"text-align: right;\">\n",
       "      <th></th>\n",
       "      <th>0</th>\n",
       "      <th>1</th>\n",
       "    </tr>\n",
       "    <tr>\n",
       "      <th>price</th>\n",
       "      <th></th>\n",
       "      <th></th>\n",
       "    </tr>\n",
       "  </thead>\n",
       "  <tbody>\n",
       "    <tr>\n",
       "      <th>39</th>\n",
       "      <td>0.980111</td>\n",
       "      <td>0.019889</td>\n",
       "    </tr>\n",
       "    <tr>\n",
       "      <th>59</th>\n",
       "      <td>0.984430</td>\n",
       "      <td>0.015570</td>\n",
       "    </tr>\n",
       "  </tbody>\n",
       "</table>\n",
       "</div>"
      ],
      "text/plain": [
       "              0         1\n",
       "price                    \n",
       "39     0.980111  0.019889\n",
       "59     0.984430  0.015570"
      ]
     },
     "execution_count": 18,
     "metadata": {},
     "output_type": "execute_result"
    }
   ],
   "source": [
    "converted_by_price= testdata.groupby(\"price\")['converted'].apply(lambda s: s.value_counts(normalize=True)).unstack()\n",
    "converted_by_price"
   ]
  },
  {
   "cell_type": "markdown",
   "metadata": {},
   "source": [
    "<span style='color:orange;font-weight:bold;font-size:1.2em'>Users see 59 dollar has lower conversion rate than users see 39 dollars.</span>\n",
    "\n",
    "### How OS affects conversion?"
   ]
  },
  {
   "cell_type": "code",
   "execution_count": 19,
   "metadata": {
    "collapsed": false
   },
   "outputs": [
    {
     "data": {
      "text/html": [
       "<div>\n",
       "<table border=\"1\" class=\"dataframe\">\n",
       "  <thead>\n",
       "    <tr style=\"text-align: right;\">\n",
       "      <th></th>\n",
       "      <th>0</th>\n",
       "      <th>1</th>\n",
       "    </tr>\n",
       "    <tr>\n",
       "      <th>OS</th>\n",
       "      <th></th>\n",
       "      <th></th>\n",
       "    </tr>\n",
       "  </thead>\n",
       "  <tbody>\n",
       "    <tr>\n",
       "      <th>mac</th>\n",
       "      <td>0.976002</td>\n",
       "      <td>0.023998</td>\n",
       "    </tr>\n",
       "    <tr>\n",
       "      <th>iOS</th>\n",
       "      <td>0.977678</td>\n",
       "      <td>0.022322</td>\n",
       "    </tr>\n",
       "    <tr>\n",
       "      <th>windows</th>\n",
       "      <td>0.983045</td>\n",
       "      <td>0.016955</td>\n",
       "    </tr>\n",
       "    <tr>\n",
       "      <th>android</th>\n",
       "      <td>0.985067</td>\n",
       "      <td>0.014933</td>\n",
       "    </tr>\n",
       "    <tr>\n",
       "      <th>other</th>\n",
       "      <td>0.987040</td>\n",
       "      <td>0.012960</td>\n",
       "    </tr>\n",
       "    <tr>\n",
       "      <th>linux</th>\n",
       "      <td>0.991778</td>\n",
       "      <td>0.008222</td>\n",
       "    </tr>\n",
       "  </tbody>\n",
       "</table>\n",
       "</div>"
      ],
      "text/plain": [
       "                0         1\n",
       "OS                         \n",
       "mac      0.976002  0.023998\n",
       "iOS      0.977678  0.022322\n",
       "windows  0.983045  0.016955\n",
       "android  0.985067  0.014933\n",
       "other    0.987040  0.012960\n",
       "linux    0.991778  0.008222"
      ]
     },
     "execution_count": 19,
     "metadata": {},
     "output_type": "execute_result"
    }
   ],
   "source": [
    "converted_by_os = testdata.groupby(\"OS\")['converted'].apply(lambda s: s.value_counts(normalize=True)).unstack()\n",
    "converted_by_os.sort_values(by=1,ascending=False)"
   ]
  },
  {
   "cell_type": "code",
   "execution_count": 20,
   "metadata": {
    "collapsed": false
   },
   "outputs": [
    {
     "data": {
      "text/html": [
       "<div>\n",
       "<table border=\"1\" class=\"dataframe\">\n",
       "  <thead>\n",
       "    <tr style=\"text-align: right;\">\n",
       "      <th></th>\n",
       "      <th>android</th>\n",
       "      <th>iOS</th>\n",
       "      <th>linux</th>\n",
       "      <th>mac</th>\n",
       "      <th>other</th>\n",
       "      <th>windows</th>\n",
       "    </tr>\n",
       "    <tr>\n",
       "      <th>converted</th>\n",
       "      <th></th>\n",
       "      <th></th>\n",
       "      <th></th>\n",
       "      <th></th>\n",
       "      <th></th>\n",
       "      <th></th>\n",
       "    </tr>\n",
       "  </thead>\n",
       "  <tbody>\n",
       "    <tr>\n",
       "      <th>0</th>\n",
       "      <td>0.237357</td>\n",
       "      <td>0.300117</td>\n",
       "      <td>0.013187</td>\n",
       "      <td>0.078725</td>\n",
       "      <td>0.051429</td>\n",
       "      <td>0.319185</td>\n",
       "    </tr>\n",
       "    <tr>\n",
       "      <th>1</th>\n",
       "      <td>0.192665</td>\n",
       "      <td>0.366908</td>\n",
       "      <td>0.005854</td>\n",
       "      <td>0.103650</td>\n",
       "      <td>0.036157</td>\n",
       "      <td>0.294766</td>\n",
       "    </tr>\n",
       "  </tbody>\n",
       "</table>\n",
       "</div>"
      ],
      "text/plain": [
       "            android       iOS     linux       mac     other   windows\n",
       "converted                                                            \n",
       "0          0.237357  0.300117  0.013187  0.078725  0.051429  0.319185\n",
       "1          0.192665  0.366908  0.005854  0.103650  0.036157  0.294766"
      ]
     },
     "execution_count": 20,
     "metadata": {},
     "output_type": "execute_result"
    }
   ],
   "source": [
    "os_by_converted = testdata.groupby(\"converted\")['OS'].apply(lambda s: s.value_counts(normalize=True)).unstack()\n",
    "os_by_converted"
   ]
  },
  {
   "cell_type": "code",
   "execution_count": 21,
   "metadata": {
    "collapsed": false
   },
   "outputs": [
    {
     "data": {
      "text/plain": [
       "<matplotlib.axes._subplots.AxesSubplot at 0x11b253f10>"
      ]
     },
     "execution_count": 21,
     "metadata": {},
     "output_type": "execute_result"
    },
    {
     "data": {
      "image/png": "[encoded data removed]",
      "text/plain": [
       "<matplotlib.figure.Figure at 0x119e7a510>"
      ]
     },
     "metadata": {},
     "output_type": "display_data"
    }
   ],
   "source": [
    "os_by_converted.plot(kind='bar',figsize=(10,5))"
   ]
  },
  {
   "cell_type": "code",
   "execution_count": 22,
   "metadata": {
    "collapsed": false
   },
   "outputs": [
    {
     "data": {
      "text/plain": [
       "<matplotlib.axes._subplots.AxesSubplot at 0x1250d40d0>"
      ]
     },
     "execution_count": 22,
     "metadata": {},
     "output_type": "execute_result"
    },
    {
     "data": {
      "image/png": "[encoded data removed]",
      "text/plain": [
       "<matplotlib.figure.Figure at 0x11b528510>"
      ]
     },
     "metadata": {},
     "output_type": "display_data"
    }
   ],
   "source": [
    "os_by_converted.transpose().plot(kind='bar')"
   ]
  },
  {
   "cell_type": "markdown",
   "metadata": {},
   "source": [
    "from above result, we can see\n",
    "* <span style='color:orange;font-size:1.5em'>Mac and iOS users have higher conversion rate than users from other OS.</span>\n",
    "* <span style='color:orange;font-size:1.5em'>Linux users have lower conversion rate than users from other OS.</span>"
   ]
  },
  {
   "cell_type": "markdown",
   "metadata": {},
   "source": [
    "### Model by Decision Tree\n",
    "I will build a Decision Tree to get feature importance. Since the question is asking about \"actionable insight\" other than a model which precisely predict converted or not, so I will just fit a shallow Decision Tree on all the data, without giving out model's performance on test set."
   ]
  },
  {
   "cell_type": "code",
   "execution_count": 23,
   "metadata": {
    "collapsed": false
   },
   "outputs": [
    {
     "data": {
      "text/html": [
       "<div>\n",
       "<table border=\"1\" class=\"dataframe\">\n",
       "  <thead>\n",
       "    <tr style=\"text-align: right;\">\n",
       "      <th></th>\n",
       "      <th>timestamp</th>\n",
       "      <th>source</th>\n",
       "      <th>device</th>\n",
       "      <th>OS</th>\n",
       "      <th>test</th>\n",
       "      <th>price</th>\n",
       "      <th>converted</th>\n",
       "    </tr>\n",
       "    <tr>\n",
       "      <th>user_id</th>\n",
       "      <th></th>\n",
       "      <th></th>\n",
       "      <th></th>\n",
       "      <th></th>\n",
       "      <th></th>\n",
       "      <th></th>\n",
       "      <th></th>\n",
       "    </tr>\n",
       "  </thead>\n",
       "  <tbody>\n",
       "    <tr>\n",
       "      <th>840498</th>\n",
       "      <td>2015-03-23 19:22:17</td>\n",
       "      <td>seo-google</td>\n",
       "      <td>mobile</td>\n",
       "      <td>other</td>\n",
       "      <td>0</td>\n",
       "      <td>39</td>\n",
       "      <td>0</td>\n",
       "    </tr>\n",
       "    <tr>\n",
       "      <th>839879</th>\n",
       "      <td>2015-05-05 09:59:57</td>\n",
       "      <td>direct_traffic</td>\n",
       "      <td>mobile</td>\n",
       "      <td>iOS</td>\n",
       "      <td>1</td>\n",
       "      <td>59</td>\n",
       "      <td>0</td>\n",
       "    </tr>\n",
       "    <tr>\n",
       "      <th>468013</th>\n",
       "      <td>2015-03-29 23:52:11</td>\n",
       "      <td>direct_traffic</td>\n",
       "      <td>mobile</td>\n",
       "      <td>iOS</td>\n",
       "      <td>1</td>\n",
       "      <td>59</td>\n",
       "      <td>0</td>\n",
       "    </tr>\n",
       "    <tr>\n",
       "      <th>377372</th>\n",
       "      <td>2015-04-05 07:12:46</td>\n",
       "      <td>seo-google</td>\n",
       "      <td>mobile</td>\n",
       "      <td>android</td>\n",
       "      <td>1</td>\n",
       "      <td>59</td>\n",
       "      <td>0</td>\n",
       "    </tr>\n",
       "    <tr>\n",
       "      <th>713838</th>\n",
       "      <td>2015-03-10 13:53:46</td>\n",
       "      <td>seo-other</td>\n",
       "      <td>web</td>\n",
       "      <td>windows</td>\n",
       "      <td>0</td>\n",
       "      <td>39</td>\n",
       "      <td>0</td>\n",
       "    </tr>\n",
       "    <tr>\n",
       "      <th>140135</th>\n",
       "      <td>2015-03-08 10:12:03</td>\n",
       "      <td>ads_other</td>\n",
       "      <td>mobile</td>\n",
       "      <td>iOS</td>\n",
       "      <td>1</td>\n",
       "      <td>59</td>\n",
       "      <td>0</td>\n",
       "    </tr>\n",
       "    <tr>\n",
       "      <th>198679</th>\n",
       "      <td>2015-04-11 07:05:34</td>\n",
       "      <td>seo-google</td>\n",
       "      <td>web</td>\n",
       "      <td>windows</td>\n",
       "      <td>0</td>\n",
       "      <td>39</td>\n",
       "      <td>0</td>\n",
       "    </tr>\n",
       "    <tr>\n",
       "      <th>547268</th>\n",
       "      <td>2015-03-14 14:04:22</td>\n",
       "      <td>ads-google</td>\n",
       "      <td>mobile</td>\n",
       "      <td>iOS</td>\n",
       "      <td>0</td>\n",
       "      <td>39</td>\n",
       "      <td>0</td>\n",
       "    </tr>\n",
       "    <tr>\n",
       "      <th>334905</th>\n",
       "      <td>2015-05-28 10:14:47</td>\n",
       "      <td>ads-bing</td>\n",
       "      <td>web</td>\n",
       "      <td>mac</td>\n",
       "      <td>0</td>\n",
       "      <td>39</td>\n",
       "      <td>0</td>\n",
       "    </tr>\n",
       "    <tr>\n",
       "      <th>813274</th>\n",
       "      <td>2015-03-09 19:43:28</td>\n",
       "      <td>friend_referral</td>\n",
       "      <td>web</td>\n",
       "      <td>windows</td>\n",
       "      <td>0</td>\n",
       "      <td>39</td>\n",
       "      <td>0</td>\n",
       "    </tr>\n",
       "  </tbody>\n",
       "</table>\n",
       "</div>"
      ],
      "text/plain": [
       "                   timestamp           source  device       OS  test  price  \\\n",
       "user_id                                                                       \n",
       "840498   2015-03-23 19:22:17       seo-google  mobile    other     0     39   \n",
       "839879   2015-05-05 09:59:57   direct_traffic  mobile      iOS     1     59   \n",
       "468013   2015-03-29 23:52:11   direct_traffic  mobile      iOS     1     59   \n",
       "377372   2015-04-05 07:12:46       seo-google  mobile  android     1     59   \n",
       "713838   2015-03-10 13:53:46        seo-other     web  windows     0     39   \n",
       "140135   2015-03-08 10:12:03        ads_other  mobile      iOS     1     59   \n",
       "198679   2015-04-11 07:05:34       seo-google     web  windows     0     39   \n",
       "547268   2015-03-14 14:04:22       ads-google  mobile      iOS     0     39   \n",
       "334905   2015-05-28 10:14:47         ads-bing     web      mac     0     39   \n",
       "813274   2015-03-09 19:43:28  friend_referral     web  windows     0     39   \n",
       "\n",
       "         converted  \n",
       "user_id             \n",
       "840498           0  \n",
       "839879           0  \n",
       "468013           0  \n",
       "377372           0  \n",
       "713838           0  \n",
       "140135           0  \n",
       "198679           0  \n",
       "547268           0  \n",
       "334905           0  \n",
       "813274           0  "
      ]
     },
     "execution_count": 23,
     "metadata": {},
     "output_type": "execute_result"
    }
   ],
   "source": [
    "testdata.sample(10)# glance the data"
   ]
  },
  {
   "cell_type": "code",
   "execution_count": 24,
   "metadata": {
    "collapsed": true
   },
   "outputs": [],
   "source": [
    "X = testdata.copy()\n",
    "del X['timestamp']\n",
    "del X['test']"
   ]
  },
  {
   "cell_type": "code",
   "execution_count": 25,
   "metadata": {
    "collapsed": false
   },
   "outputs": [
    {
     "data": {
      "text/plain": [
       "direct_traffic     60357\n",
       "ads-google         59379\n",
       "ads_facebook       53396\n",
       "ads_other          29876\n",
       "seo-google         23175\n",
       "ads-bing           22873\n",
       "seo_facebook       21205\n",
       "friend_referral    20695\n",
       "seo-other           9260\n",
       "ads-yahoo           7583\n",
       "seo-yahoo           6848\n",
       "seo-bing            2153\n",
       "Name: source, dtype: int64"
      ]
     },
     "execution_count": 25,
     "metadata": {},
     "output_type": "execute_result"
    }
   ],
   "source": [
    "X.source.value_counts()"
   ]
  },
  {
   "cell_type": "code",
   "execution_count": 26,
   "metadata": {
    "collapsed": false
   },
   "outputs": [
    {
     "data": {
      "text/plain": [
       "mobile    186471\n",
       "web       130329\n",
       "Name: device, dtype: int64"
      ]
     },
     "execution_count": 26,
     "metadata": {},
     "output_type": "execute_result"
    }
   ],
   "source": [
    "X.device.value_counts()"
   ]
  },
  {
   "cell_type": "code",
   "execution_count": 27,
   "metadata": {
    "collapsed": false
   },
   "outputs": [
    {
     "data": {
      "text/plain": [
       "windows    100976\n",
       "iOS         95465\n",
       "android     74935\n",
       "mac         25085\n",
       "other       16204\n",
       "linux        4135\n",
       "Name: OS, dtype: int64"
      ]
     },
     "execution_count": 27,
     "metadata": {},
     "output_type": "execute_result"
    }
   ],
   "source": [
    "X.OS.value_counts()"
   ]
  },
  {
   "cell_type": "code",
   "execution_count": 28,
   "metadata": {
    "collapsed": false
   },
   "outputs": [],
   "source": [
    "# One-Hot-Encoding on categorical features\n",
    "X = pd.get_dummies(X)\n",
    "\n",
    "# a categorical feature of K unique values, only need K-1 vectors\n",
    "# I don't use 'drop_first' parameter in get_dummies, since it cannot specify which level to drop\n",
    "del X['source_ads_other']\n",
    "del X['device_web']\n",
    "del X['OS_other']"
   ]
  },
  {
   "cell_type": "code",
   "execution_count": 29,
   "metadata": {
    "collapsed": false
   },
   "outputs": [
    {
     "data": {
      "text/html": [
       "<div>\n",
       "<table border=\"1\" class=\"dataframe\">\n",
       "  <thead>\n",
       "    <tr style=\"text-align: right;\">\n",
       "      <th></th>\n",
       "      <th>price</th>\n",
       "      <th>converted</th>\n",
       "      <th>source_ads-bing</th>\n",
       "      <th>source_ads-google</th>\n",
       "      <th>source_ads-yahoo</th>\n",
       "      <th>source_ads_facebook</th>\n",
       "      <th>source_direct_traffic</th>\n",
       "      <th>source_friend_referral</th>\n",
       "      <th>source_seo-bing</th>\n",
       "      <th>source_seo-google</th>\n",
       "      <th>source_seo-other</th>\n",
       "      <th>source_seo-yahoo</th>\n",
       "      <th>source_seo_facebook</th>\n",
       "      <th>device_mobile</th>\n",
       "      <th>OS_android</th>\n",
       "      <th>OS_iOS</th>\n",
       "      <th>OS_linux</th>\n",
       "      <th>OS_mac</th>\n",
       "      <th>OS_windows</th>\n",
       "    </tr>\n",
       "    <tr>\n",
       "      <th>user_id</th>\n",
       "      <th></th>\n",
       "      <th></th>\n",
       "      <th></th>\n",
       "      <th></th>\n",
       "      <th></th>\n",
       "      <th></th>\n",
       "      <th></th>\n",
       "      <th></th>\n",
       "      <th></th>\n",
       "      <th></th>\n",
       "      <th></th>\n",
       "      <th></th>\n",
       "      <th></th>\n",
       "      <th></th>\n",
       "      <th></th>\n",
       "      <th></th>\n",
       "      <th></th>\n",
       "      <th></th>\n",
       "      <th></th>\n",
       "    </tr>\n",
       "  </thead>\n",
       "  <tbody>\n",
       "    <tr>\n",
       "      <th>17427</th>\n",
       "      <td>39</td>\n",
       "      <td>0</td>\n",
       "      <td>0.0</td>\n",
       "      <td>0.0</td>\n",
       "      <td>0.0</td>\n",
       "      <td>1.0</td>\n",
       "      <td>0.0</td>\n",
       "      <td>0.0</td>\n",
       "      <td>0.0</td>\n",
       "      <td>0.0</td>\n",
       "      <td>0.0</td>\n",
       "      <td>0.0</td>\n",
       "      <td>0.0</td>\n",
       "      <td>0.0</td>\n",
       "      <td>0.0</td>\n",
       "      <td>0.0</td>\n",
       "      <td>0.0</td>\n",
       "      <td>0.0</td>\n",
       "      <td>1.0</td>\n",
       "    </tr>\n",
       "    <tr>\n",
       "      <th>687787</th>\n",
       "      <td>39</td>\n",
       "      <td>0</td>\n",
       "      <td>0.0</td>\n",
       "      <td>0.0</td>\n",
       "      <td>0.0</td>\n",
       "      <td>0.0</td>\n",
       "      <td>1.0</td>\n",
       "      <td>0.0</td>\n",
       "      <td>0.0</td>\n",
       "      <td>0.0</td>\n",
       "      <td>0.0</td>\n",
       "      <td>0.0</td>\n",
       "      <td>0.0</td>\n",
       "      <td>0.0</td>\n",
       "      <td>0.0</td>\n",
       "      <td>0.0</td>\n",
       "      <td>0.0</td>\n",
       "      <td>0.0</td>\n",
       "      <td>1.0</td>\n",
       "    </tr>\n",
       "    <tr>\n",
       "      <th>618863</th>\n",
       "      <td>39</td>\n",
       "      <td>0</td>\n",
       "      <td>0.0</td>\n",
       "      <td>1.0</td>\n",
       "      <td>0.0</td>\n",
       "      <td>0.0</td>\n",
       "      <td>0.0</td>\n",
       "      <td>0.0</td>\n",
       "      <td>0.0</td>\n",
       "      <td>0.0</td>\n",
       "      <td>0.0</td>\n",
       "      <td>0.0</td>\n",
       "      <td>0.0</td>\n",
       "      <td>0.0</td>\n",
       "      <td>0.0</td>\n",
       "      <td>0.0</td>\n",
       "      <td>0.0</td>\n",
       "      <td>1.0</td>\n",
       "      <td>0.0</td>\n",
       "    </tr>\n",
       "    <tr>\n",
       "      <th>154636</th>\n",
       "      <td>39</td>\n",
       "      <td>0</td>\n",
       "      <td>0.0</td>\n",
       "      <td>0.0</td>\n",
       "      <td>0.0</td>\n",
       "      <td>0.0</td>\n",
       "      <td>0.0</td>\n",
       "      <td>1.0</td>\n",
       "      <td>0.0</td>\n",
       "      <td>0.0</td>\n",
       "      <td>0.0</td>\n",
       "      <td>0.0</td>\n",
       "      <td>0.0</td>\n",
       "      <td>1.0</td>\n",
       "      <td>1.0</td>\n",
       "      <td>0.0</td>\n",
       "      <td>0.0</td>\n",
       "      <td>0.0</td>\n",
       "      <td>0.0</td>\n",
       "    </tr>\n",
       "    <tr>\n",
       "      <th>832372</th>\n",
       "      <td>59</td>\n",
       "      <td>0</td>\n",
       "      <td>0.0</td>\n",
       "      <td>0.0</td>\n",
       "      <td>0.0</td>\n",
       "      <td>1.0</td>\n",
       "      <td>0.0</td>\n",
       "      <td>0.0</td>\n",
       "      <td>0.0</td>\n",
       "      <td>0.0</td>\n",
       "      <td>0.0</td>\n",
       "      <td>0.0</td>\n",
       "      <td>0.0</td>\n",
       "      <td>1.0</td>\n",
       "      <td>1.0</td>\n",
       "      <td>0.0</td>\n",
       "      <td>0.0</td>\n",
       "      <td>0.0</td>\n",
       "      <td>0.0</td>\n",
       "    </tr>\n",
       "  </tbody>\n",
       "</table>\n",
       "</div>"
      ],
      "text/plain": [
       "         price  converted  source_ads-bing  source_ads-google  \\\n",
       "user_id                                                         \n",
       "17427       39          0              0.0                0.0   \n",
       "687787      39          0              0.0                0.0   \n",
       "618863      39          0              0.0                1.0   \n",
       "154636      39          0              0.0                0.0   \n",
       "832372      59          0              0.0                0.0   \n",
       "\n",
       "         source_ads-yahoo  source_ads_facebook  source_direct_traffic  \\\n",
       "user_id                                                                 \n",
       "17427                 0.0                  1.0                    0.0   \n",
       "687787                0.0                  0.0                    1.0   \n",
       "618863                0.0                  0.0                    0.0   \n",
       "154636                0.0                  0.0                    0.0   \n",
       "832372                0.0                  1.0                    0.0   \n",
       "\n",
       "         source_friend_referral  source_seo-bing  source_seo-google  \\\n",
       "user_id                                                               \n",
       "17427                       0.0              0.0                0.0   \n",
       "687787                      0.0              0.0                0.0   \n",
       "618863                      0.0              0.0                0.0   \n",
       "154636                      1.0              0.0                0.0   \n",
       "832372                      0.0              0.0                0.0   \n",
       "\n",
       "         source_seo-other  source_seo-yahoo  source_seo_facebook  \\\n",
       "user_id                                                            \n",
       "17427                 0.0               0.0                  0.0   \n",
       "687787                0.0               0.0                  0.0   \n",
       "618863                0.0               0.0                  0.0   \n",
       "154636                0.0               0.0                  0.0   \n",
       "832372                0.0               0.0                  0.0   \n",
       "\n",
       "         device_mobile  OS_android  OS_iOS  OS_linux  OS_mac  OS_windows  \n",
       "user_id                                                                   \n",
       "17427              0.0         0.0     0.0       0.0     0.0         1.0  \n",
       "687787             0.0         0.0     0.0       0.0     0.0         1.0  \n",
       "618863             0.0         0.0     0.0       0.0     1.0         0.0  \n",
       "154636             1.0         1.0     0.0       0.0     0.0         0.0  \n",
       "832372             1.0         1.0     0.0       0.0     0.0         0.0  "
      ]
     },
     "execution_count": 29,
     "metadata": {},
     "output_type": "execute_result"
    }
   ],
   "source": [
    "X.tail()# glance the data"
   ]
  },
  {
   "cell_type": "code",
   "execution_count": 30,
   "metadata": {
    "collapsed": false
   },
   "outputs": [],
   "source": [
    "Xtrain = X.loc[:,X.columns != 'converted']\n",
    "ytrain = X.loc[:,'converted']"
   ]
  },
  {
   "cell_type": "code",
   "execution_count": 31,
   "metadata": {
    "collapsed": false
   },
   "outputs": [
    {
     "data": {
      "text/html": [
       "<div>\n",
       "<table border=\"1\" class=\"dataframe\">\n",
       "  <thead>\n",
       "    <tr style=\"text-align: right;\">\n",
       "      <th></th>\n",
       "      <th>price</th>\n",
       "      <th>source_ads-bing</th>\n",
       "      <th>source_ads-google</th>\n",
       "      <th>source_ads-yahoo</th>\n",
       "      <th>source_ads_facebook</th>\n",
       "      <th>source_direct_traffic</th>\n",
       "      <th>source_friend_referral</th>\n",
       "      <th>source_seo-bing</th>\n",
       "      <th>source_seo-google</th>\n",
       "      <th>source_seo-other</th>\n",
       "      <th>source_seo-yahoo</th>\n",
       "      <th>source_seo_facebook</th>\n",
       "      <th>device_mobile</th>\n",
       "      <th>OS_android</th>\n",
       "      <th>OS_iOS</th>\n",
       "      <th>OS_linux</th>\n",
       "      <th>OS_mac</th>\n",
       "      <th>OS_windows</th>\n",
       "    </tr>\n",
       "    <tr>\n",
       "      <th>user_id</th>\n",
       "      <th></th>\n",
       "      <th></th>\n",
       "      <th></th>\n",
       "      <th></th>\n",
       "      <th></th>\n",
       "      <th></th>\n",
       "      <th></th>\n",
       "      <th></th>\n",
       "      <th></th>\n",
       "      <th></th>\n",
       "      <th></th>\n",
       "      <th></th>\n",
       "      <th></th>\n",
       "      <th></th>\n",
       "      <th></th>\n",
       "      <th></th>\n",
       "      <th></th>\n",
       "      <th></th>\n",
       "    </tr>\n",
       "  </thead>\n",
       "  <tbody>\n",
       "    <tr>\n",
       "      <th>604839</th>\n",
       "      <td>39</td>\n",
       "      <td>0.0</td>\n",
       "      <td>0.0</td>\n",
       "      <td>0.0</td>\n",
       "      <td>1.0</td>\n",
       "      <td>0.0</td>\n",
       "      <td>0.0</td>\n",
       "      <td>0.0</td>\n",
       "      <td>0.0</td>\n",
       "      <td>0.0</td>\n",
       "      <td>0.0</td>\n",
       "      <td>0.0</td>\n",
       "      <td>1.0</td>\n",
       "      <td>0.0</td>\n",
       "      <td>1.0</td>\n",
       "      <td>0.0</td>\n",
       "      <td>0.0</td>\n",
       "      <td>0.0</td>\n",
       "    </tr>\n",
       "    <tr>\n",
       "      <th>624057</th>\n",
       "      <td>39</td>\n",
       "      <td>0.0</td>\n",
       "      <td>0.0</td>\n",
       "      <td>0.0</td>\n",
       "      <td>0.0</td>\n",
       "      <td>0.0</td>\n",
       "      <td>0.0</td>\n",
       "      <td>0.0</td>\n",
       "      <td>1.0</td>\n",
       "      <td>0.0</td>\n",
       "      <td>0.0</td>\n",
       "      <td>0.0</td>\n",
       "      <td>1.0</td>\n",
       "      <td>1.0</td>\n",
       "      <td>0.0</td>\n",
       "      <td>0.0</td>\n",
       "      <td>0.0</td>\n",
       "      <td>0.0</td>\n",
       "    </tr>\n",
       "    <tr>\n",
       "      <th>317970</th>\n",
       "      <td>39</td>\n",
       "      <td>1.0</td>\n",
       "      <td>0.0</td>\n",
       "      <td>0.0</td>\n",
       "      <td>0.0</td>\n",
       "      <td>0.0</td>\n",
       "      <td>0.0</td>\n",
       "      <td>0.0</td>\n",
       "      <td>0.0</td>\n",
       "      <td>0.0</td>\n",
       "      <td>0.0</td>\n",
       "      <td>0.0</td>\n",
       "      <td>1.0</td>\n",
       "      <td>1.0</td>\n",
       "      <td>0.0</td>\n",
       "      <td>0.0</td>\n",
       "      <td>0.0</td>\n",
       "      <td>0.0</td>\n",
       "    </tr>\n",
       "    <tr>\n",
       "      <th>685636</th>\n",
       "      <td>59</td>\n",
       "      <td>0.0</td>\n",
       "      <td>0.0</td>\n",
       "      <td>0.0</td>\n",
       "      <td>0.0</td>\n",
       "      <td>1.0</td>\n",
       "      <td>0.0</td>\n",
       "      <td>0.0</td>\n",
       "      <td>0.0</td>\n",
       "      <td>0.0</td>\n",
       "      <td>0.0</td>\n",
       "      <td>0.0</td>\n",
       "      <td>1.0</td>\n",
       "      <td>0.0</td>\n",
       "      <td>1.0</td>\n",
       "      <td>0.0</td>\n",
       "      <td>0.0</td>\n",
       "      <td>0.0</td>\n",
       "    </tr>\n",
       "    <tr>\n",
       "      <th>820854</th>\n",
       "      <td>39</td>\n",
       "      <td>0.0</td>\n",
       "      <td>0.0</td>\n",
       "      <td>0.0</td>\n",
       "      <td>1.0</td>\n",
       "      <td>0.0</td>\n",
       "      <td>0.0</td>\n",
       "      <td>0.0</td>\n",
       "      <td>0.0</td>\n",
       "      <td>0.0</td>\n",
       "      <td>0.0</td>\n",
       "      <td>0.0</td>\n",
       "      <td>0.0</td>\n",
       "      <td>0.0</td>\n",
       "      <td>0.0</td>\n",
       "      <td>0.0</td>\n",
       "      <td>1.0</td>\n",
       "      <td>0.0</td>\n",
       "    </tr>\n",
       "  </tbody>\n",
       "</table>\n",
       "</div>"
      ],
      "text/plain": [
       "         price  source_ads-bing  source_ads-google  source_ads-yahoo  \\\n",
       "user_id                                                                \n",
       "604839      39              0.0                0.0               0.0   \n",
       "624057      39              0.0                0.0               0.0   \n",
       "317970      39              1.0                0.0               0.0   \n",
       "685636      59              0.0                0.0               0.0   \n",
       "820854      39              0.0                0.0               0.0   \n",
       "\n",
       "         source_ads_facebook  source_direct_traffic  source_friend_referral  \\\n",
       "user_id                                                                       \n",
       "604839                   1.0                    0.0                     0.0   \n",
       "624057                   0.0                    0.0                     0.0   \n",
       "317970                   0.0                    0.0                     0.0   \n",
       "685636                   0.0                    1.0                     0.0   \n",
       "820854                   1.0                    0.0                     0.0   \n",
       "\n",
       "         source_seo-bing  source_seo-google  source_seo-other  \\\n",
       "user_id                                                         \n",
       "604839               0.0                0.0               0.0   \n",
       "624057               0.0                1.0               0.0   \n",
       "317970               0.0                0.0               0.0   \n",
       "685636               0.0                0.0               0.0   \n",
       "820854               0.0                0.0               0.0   \n",
       "\n",
       "         source_seo-yahoo  source_seo_facebook  device_mobile  OS_android  \\\n",
       "user_id                                                                     \n",
       "604839                0.0                  0.0            1.0         0.0   \n",
       "624057                0.0                  0.0            1.0         1.0   \n",
       "317970                0.0                  0.0            1.0         1.0   \n",
       "685636                0.0                  0.0            1.0         0.0   \n",
       "820854                0.0                  0.0            0.0         0.0   \n",
       "\n",
       "         OS_iOS  OS_linux  OS_mac  OS_windows  \n",
       "user_id                                        \n",
       "604839      1.0       0.0     0.0         0.0  \n",
       "624057      0.0       0.0     0.0         0.0  \n",
       "317970      0.0       0.0     0.0         0.0  \n",
       "685636      1.0       0.0     0.0         0.0  \n",
       "820854      0.0       0.0     1.0         0.0  "
      ]
     },
     "execution_count": 31,
     "metadata": {},
     "output_type": "execute_result"
    }
   ],
   "source": [
    "Xtrain.head()# glance the data"
   ]
  },
  {
   "cell_type": "code",
   "execution_count": 36,
   "metadata": {
    "collapsed": false
   },
   "outputs": [],
   "source": [
    "dt = DecisionTreeClassifier(max_depth=4)\n",
    "dt.fit(Xtrain,ytrain)\n",
    "export_graphviz(dt,feature_names=Xtrain.columns,proportion=True,leaves_parallel=True)"
   ]
  },
  {
   "cell_type": "markdown",
   "metadata": {},
   "source": [
    "<img src='tree.png'></img>"
   ]
  },
  {
   "cell_type": "markdown",
   "metadata": {
    "collapsed": true
   },
   "source": [
    "from above tree plot, we can see that, to reach the leaf node with highest conversion rate (the third leaf from right with conversion rate=0.05), the path is:\n",
    "1. source 'friend_referral' = true\n",
    "2. price < 49, i.e., price = 39\n",
    "3. OS 'iOS'= true"
   ]
  },
  {
   "cell_type": "code",
   "execution_count": 34,
   "metadata": {
    "collapsed": false
   },
   "outputs": [
    {
     "data": {
      "text/plain": [
       "source_friend_referral    0.663549\n",
       "OS_iOS                    0.143231\n",
       "OS_mac                    0.107014\n",
       "source_ads-google         0.043922\n",
       "price                     0.022918\n",
       "OS_linux                  0.019366\n",
       "source_ads-bing           0.000000\n",
       "source_ads-yahoo          0.000000\n",
       "source_ads_facebook       0.000000\n",
       "source_direct_traffic     0.000000\n",
       "OS_windows                0.000000\n",
       "source_seo-bing           0.000000\n",
       "source_seo-other          0.000000\n",
       "source_seo-yahoo          0.000000\n",
       "source_seo_facebook       0.000000\n",
       "device_mobile             0.000000\n",
       "OS_android                0.000000\n",
       "source_seo-google         0.000000\n",
       "dtype: float64"
      ]
     },
     "execution_count": 34,
     "metadata": {},
     "output_type": "execute_result"
    }
   ],
   "source": [
    "pd.Series(dt.feature_importances_,index = Xtrain.columns).sort_values(ascending=False)"
   ]
  },
  {
   "cell_type": "markdown",
   "metadata": {
    "collapsed": true
   },
   "source": [
    "### Actionable Insights"
   ]
  },
  {
   "cell_type": "markdown",
   "metadata": {},
   "source": [
    "* friend_referral, Apple user (MAC or iOS), low price are three great positive factors which improve the conversion rate\n",
    "* if we want to increase the price, which impacts negatively on conversion rate, we must compensate on the other two factors\n",
    "    * lauch special marketing program targeted to Apple users (MAC or iOS users)\n",
    "    * run some program which rewards user which can invite his/her friend to use our software\n",
    "* Linux users don't like our software as much as users on other OS. Development team should find out the reason. For example, is there any incompatibility issue on Linux?"
   ]
  },
  {
   "cell_type": "code",
   "execution_count": null,
   "metadata": {
    "collapsed": true
   },
   "outputs": [],
   "source": []
  }
 ],
 "metadata": {
  "anaconda-cloud": {},
  "kernelspec": {
   "display_name": "Python [Root]",
   "language": "python",
   "name": "Python [Root]"
  },
  "language_info": {
   "codemirror_mode": {
    "name": "ipython",
    "version": 2
   },
   "file_extension": ".py",
   "mimetype": "text/x-python",
   "name": "python",
   "nbconvert_exporter": "python",
   "pygments_lexer": "ipython2",
   "version": "2.7.12"
  }
 },
 "nbformat": 4,
 "nbformat_minor": 0
}
