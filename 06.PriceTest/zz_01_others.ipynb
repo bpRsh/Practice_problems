{
 "cells": [
  {
   "cell_type": "markdown",
   "metadata": {},
   "source": [
    "# Pricing A/B Testing - Donald Lee-Brown\n",
    "\n",
    "Originally a mock data challenge completed as part of the 2018B NYC [Insight Data Science Fellows Program](https://www.insightdatascience.com). \n",
    "\n",
    "The goal of this project is to generate insights from an A/B test that presented a random subset (the test group) of users with a higher price for a software product. The responses of these customers, as well as those of a control group shown the normal software price, were recorded along with some other information over a period of three months. \n",
    "\n",
    "Key questions addressed by this project:\n",
    "* What is the impact on conversion rate due to increasing the price of the software?\n",
    "* What is the impact on overall revenue due to increasing the price of the software?\n",
    "* Can A/B testing be made more efficient in the future by estimating how much data is needed to detect test/control differences at a significant level?\n",
    "* What are some other insights from the data that can be used to increase customer conversion rate?\n",
    "\n",
    "The project is organized into several sections:\n",
    "* Data cleaning and exploration \n",
    "* The impact of software price on conversion rate and revenue\n",
    "* Other insights\n",
    "* Conclusion"
   ]
  },
  {
   "cell_type": "code",
   "execution_count": 1,
   "metadata": {},
   "outputs": [],
   "source": [
    "# imports used in the notebook\n",
    "import pandas as pd\n",
    "import seaborn as sns\n",
    "import numpy as np\n",
    "import missingno as msno\n",
    "import matplotlib.pyplot as plt\n",
    "from sklearn.preprocessing import OneHotEncoder\n",
    "import math\n",
    "from scipy import stats as spst\n",
    "from scipy.stats import chisquare\n",
    "sns.set_style(\"darkgrid\")"
   ]
  },
  {
   "cell_type": "markdown",
   "metadata": {},
   "source": [
    "## 1. Data cleaning and exploration\n",
    "\n",
    "There are two data tables - one (test_results) contains information regarding customer info, which software price they were shown, and whether or not they opted to purchase the software. The second table (user_table) contains location information for users. \n",
    "\n",
    "### Reading in, joining, and looking for missing values\n",
    "\n",
    "First read in the data. We know that we can expect test_results and user_table to be joinable on user_id, but we need to check to make sure this can be done uniquely. This means we should check to make sure there are no duplicates in user_id (especially since it's not impossible that the same user would buy the software twice):"
   ]
  },
  {
   "cell_type": "code",
   "execution_count": 2,
   "metadata": {},
   "outputs": [
    {
     "name": "stdout",
     "output_type": "stream",
     "text": [
      "Empty DataFrame\n",
      "Columns: [Unnamed: 0, user_id, timestamp, source, device, operative_system, test, price, converted]\n",
      "Index: []\n",
      "Empty DataFrame\n",
      "Columns: [user_id, city, country, lat, long]\n",
      "Index: []\n"
     ]
    }
   ],
   "source": [
    "test_results = pd.read_csv('test_results.csv')\n",
    "user_table = pd.read_csv('user_table.csv')\n",
    "\n",
    "print(test_results[test_results.duplicated(subset=['user_id'])])\n",
    "print(user_table[user_table.duplicated(subset=['user_id'])])"
   ]
  },
  {
   "cell_type": "markdown",
   "metadata": {},
   "source": [
    "Great - both tables have unique values for user_id (user_id is not duplicated), so we can straightforwardly join them. \n",
    "\n",
    "Once we do that, we can take a look at the joined data:"
   ]
  },
  {
   "cell_type": "code",
   "execution_count": 3,
   "metadata": {},
   "outputs": [
    {
     "data": {
      "text/html": [
       "<div>\n",
       "<style scoped>\n",
       "    .dataframe tbody tr th:only-of-type {\n",
       "        vertical-align: middle;\n",
       "    }\n",
       "\n",
       "    .dataframe tbody tr th {\n",
       "        vertical-align: top;\n",
       "    }\n",
       "\n",
       "    .dataframe thead th {\n",
       "        text-align: right;\n",
       "    }\n",
       "</style>\n",
       "<table border=\"1\" class=\"dataframe\">\n",
       "  <thead>\n",
       "    <tr style=\"text-align: right;\">\n",
       "      <th></th>\n",
       "      <th>timestamp</th>\n",
       "      <th>source</th>\n",
       "      <th>device</th>\n",
       "      <th>operative_system</th>\n",
       "      <th>test</th>\n",
       "      <th>price</th>\n",
       "      <th>converted</th>\n",
       "      <th>city</th>\n",
       "      <th>country</th>\n",
       "      <th>lat</th>\n",
       "      <th>long</th>\n",
       "    </tr>\n",
       "    <tr>\n",
       "      <th>user_id</th>\n",
       "      <th></th>\n",
       "      <th></th>\n",
       "      <th></th>\n",
       "      <th></th>\n",
       "      <th></th>\n",
       "      <th></th>\n",
       "      <th></th>\n",
       "      <th></th>\n",
       "      <th></th>\n",
       "      <th></th>\n",
       "      <th></th>\n",
       "    </tr>\n",
       "  </thead>\n",
       "  <tbody>\n",
       "    <tr>\n",
       "      <th>604839</th>\n",
       "      <td>2015-05-08 03:38:34</td>\n",
       "      <td>ads_facebook</td>\n",
       "      <td>mobile</td>\n",
       "      <td>iOS</td>\n",
       "      <td>0</td>\n",
       "      <td>39.0</td>\n",
       "      <td>0</td>\n",
       "      <td>Buffalo</td>\n",
       "      <td>USA</td>\n",
       "      <td>42.89</td>\n",
       "      <td>-78.86</td>\n",
       "    </tr>\n",
       "    <tr>\n",
       "      <th>624057</th>\n",
       "      <td>2015-05-10 21:08:46</td>\n",
       "      <td>seo-google</td>\n",
       "      <td>mobile</td>\n",
       "      <td>android</td>\n",
       "      <td>0</td>\n",
       "      <td>39.0</td>\n",
       "      <td>0</td>\n",
       "      <td>Lakeville</td>\n",
       "      <td>USA</td>\n",
       "      <td>44.68</td>\n",
       "      <td>-93.24</td>\n",
       "    </tr>\n",
       "    <tr>\n",
       "      <th>317970</th>\n",
       "      <td>2015-04-04 15:01:23</td>\n",
       "      <td>ads-bing</td>\n",
       "      <td>mobile</td>\n",
       "      <td>android</td>\n",
       "      <td>0</td>\n",
       "      <td>39.0</td>\n",
       "      <td>0</td>\n",
       "      <td>Parma</td>\n",
       "      <td>USA</td>\n",
       "      <td>41.38</td>\n",
       "      <td>-81.73</td>\n",
       "    </tr>\n",
       "    <tr>\n",
       "      <th>685636</th>\n",
       "      <td>2015-05-07 07:26:01</td>\n",
       "      <td>direct_traffic</td>\n",
       "      <td>mobile</td>\n",
       "      <td>iOS</td>\n",
       "      <td>1</td>\n",
       "      <td>59.0</td>\n",
       "      <td>0</td>\n",
       "      <td>Fayetteville</td>\n",
       "      <td>USA</td>\n",
       "      <td>35.07</td>\n",
       "      <td>-78.90</td>\n",
       "    </tr>\n",
       "    <tr>\n",
       "      <th>820854</th>\n",
       "      <td>2015-05-24 11:04:40</td>\n",
       "      <td>ads_facebook</td>\n",
       "      <td>web</td>\n",
       "      <td>mac</td>\n",
       "      <td>0</td>\n",
       "      <td>39.0</td>\n",
       "      <td>0</td>\n",
       "      <td>Fishers</td>\n",
       "      <td>USA</td>\n",
       "      <td>39.95</td>\n",
       "      <td>-86.02</td>\n",
       "    </tr>\n",
       "  </tbody>\n",
       "</table>\n",
       "</div>"
      ],
      "text/plain": [
       "                   timestamp          source  device operative_system  test  \\\n",
       "user_id                                                                       \n",
       "604839   2015-05-08 03:38:34    ads_facebook  mobile              iOS     0   \n",
       "624057   2015-05-10 21:08:46      seo-google  mobile          android     0   \n",
       "317970   2015-04-04 15:01:23        ads-bing  mobile          android     0   \n",
       "685636   2015-05-07 07:26:01  direct_traffic  mobile              iOS     1   \n",
       "820854   2015-05-24 11:04:40    ads_facebook     web              mac     0   \n",
       "\n",
       "         price  converted          city country    lat   long  \n",
       "user_id                                                        \n",
       "604839    39.0          0       Buffalo     USA  42.89 -78.86  \n",
       "624057    39.0          0     Lakeville     USA  44.68 -93.24  \n",
       "317970    39.0          0         Parma     USA  41.38 -81.73  \n",
       "685636    59.0          0  Fayetteville     USA  35.07 -78.90  \n",
       "820854    39.0          0       Fishers     USA  39.95 -86.02  "
      ]
     },
     "execution_count": 3,
     "metadata": {},
     "output_type": "execute_result"
    }
   ],
   "source": [
    "test_results.set_index('user_id', inplace=True)\n",
    "user_table.set_index('user_id', inplace=True)\n",
    "joined_test_users = test_results.join(user_table)\n",
    "joined_test_users.drop(columns = joined_test_users.columns[0], inplace=True)\n",
    "joined_test_users.head()"
   ]
  },
  {
   "cell_type": "markdown",
   "metadata": {},
   "source": [
    "From the above table, we can see the various columns described in the data documentation, but it is also apparent that there are some issues with the data - for example the source column mixes underscores and dashes, which was not indicated in the documentation.\n",
    "\n",
    "We will make sure the data is clean later - for now let's check for missing values:"
   ]
  },
  {
   "cell_type": "code",
   "execution_count": 4,
   "metadata": {},
   "outputs": [
    {
     "data": {
      "text/plain": [
       "<matplotlib.axes._subplots.AxesSubplot at 0x10411add8>"
      ]
     },
     "execution_count": 4,
     "metadata": {},
     "output_type": "execute_result"
    },
    {
     "data": {
      "image/png": "[encoded data removed]",
      "text/plain": [
       "<matplotlib.figure.Figure at 0x1060bf240>"
      ]
     },
     "metadata": {},
     "output_type": "display_data"
    }
   ],
   "source": [
    "msno.matrix(joined_test_users)"
   ]
  },
  {
   "cell_type": "markdown",
   "metadata": {},
   "source": [
    "In the above diagram, the horizontal lines indicate missing values. There are quite a few missing values, mostly in the user table. It also looks like there are a few missing timestamps - we can just remove these as they represent a small fraction of the total data. Operative system is also missing quite a few values (5% of data in fact) - we don't want to throw this away, and will deal with it in the steps below. \n",
    "\n",
    "Drop the missing timestamps:"
   ]
  },
  {
   "cell_type": "code",
   "execution_count": 5,
   "metadata": {},
   "outputs": [],
   "source": [
    "joined_test_users = joined_test_users.dropna(subset=['timestamp'])"
   ]
  },
  {
   "cell_type": "markdown",
   "metadata": {},
   "source": [
    "### Data cleaning and converting categorical variables\n",
    "\n",
    "Now we need to make sure the joined set is clean. A few quick diagnostics (not shown here) reveal that there are several issues to be fixed before proceeding:\n",
    "* The timestamp column is generally in accordance with datetime format, but some years are labeled as 2815 instead of 2015. Additionally, some of the times go to 60 mins/60 seconds - I changed these to 59 instead. \n",
    "* In the source column there isn't standardization between dash and underscore instances: change them all to underscores for consistency. \n",
    "* There are some typos in the operative_system column - I can just fix these via replacement. \n",
    "* Linux and Other are missing from operative_system, and there are many missing values as noted above - replace the missing values with \"Other\" as a catch-all category (some of these in Other may actually be windows/mac, etc. but set them to Other for now). \n",
    "* Some price information appears to be incorrect - values way higher than 59 dollars. As I don't know what the price should have been, I will exclude these rows. \n",
    "\n",
    "For now, because of all the missing data, we'll exclude the customer demographics information from the analysis."
   ]
  },
  {
   "cell_type": "code",
   "execution_count": 6,
   "metadata": {},
   "outputs": [
    {
     "name": "stderr",
     "output_type": "stream",
     "text": [
      "/anaconda3/lib/python3.6/site-packages/pandas/core/internals.py:3462: FutureWarning: Passing in 'datetime64' dtype with no frequency is deprecated and will raise in a future version. Please pass in 'datetime64[ns]' instead.\n",
      "  return self.apply('astype', dtype=dtype, **kwargs)\n"
     ]
    }
   ],
   "source": [
    "# fix timestamp issue\n",
    "joined_test_users['timestamp'] = joined_test_users['timestamp'].str.replace('2815', '2015')\n",
    "joined_test_users['timestamp'] = joined_test_users['timestamp'].str.replace('60', '59')\n",
    "joined_test_users['timestamp'] = joined_test_users['timestamp'].astype('datetime64')\n",
    "\n",
    "# fix - and _ issue\n",
    "joined_test_users['source'] = joined_test_users['source'].str.replace('-', '_')\n",
    "\n",
    "# replace typos in operative_system column\n",
    "joined_test_users['operative_system'] = joined_test_users['operative_system'].str.replace('i0S', 'iOS')\n",
    "joined_test_users['operative_system'] = joined_test_users['operative_system'].str.replace('wnddows', 'windows')\n",
    "joined_test_users['operative_system'] = joined_test_users['operative_system'].str.replace('anroid', 'android')\n",
    "joined_test_users['operative_system'] = joined_test_users['operative_system'].str.replace('apple', 'mac')\n",
    "joined_test_users['operative_system'] = joined_test_users['operative_system'].str.replace('apple', 'mac')\n",
    "joined_test_users['operative_system'] = joined_test_users['operative_system'].fillna('Other')\n",
    "\n",
    "# select only 39/59 prices\n",
    "joined_test_users = joined_test_users[joined_test_users['price'] <= 60.0]  \n"
   ]
  },
  {
   "cell_type": "markdown",
   "metadata": {},
   "source": [
    "Now with cleaned data, it will be helpful to map the categorical variables (source, operating system, and device) to numerical values. This can be done by assigning a numerical value to each category in the aforementioned columns:"
   ]
  },
  {
   "cell_type": "code",
   "execution_count": 7,
   "metadata": {},
   "outputs": [
    {
     "data": {
      "text/html": [
       "<div>\n",
       "<style scoped>\n",
       "    .dataframe tbody tr th:only-of-type {\n",
       "        vertical-align: middle;\n",
       "    }\n",
       "\n",
       "    .dataframe tbody tr th {\n",
       "        vertical-align: top;\n",
       "    }\n",
       "\n",
       "    .dataframe thead th {\n",
       "        text-align: right;\n",
       "    }\n",
       "</style>\n",
       "<table border=\"1\" class=\"dataframe\">\n",
       "  <thead>\n",
       "    <tr style=\"text-align: right;\">\n",
       "      <th></th>\n",
       "      <th>timestamp</th>\n",
       "      <th>source</th>\n",
       "      <th>device</th>\n",
       "      <th>operative_system</th>\n",
       "      <th>test</th>\n",
       "      <th>price</th>\n",
       "      <th>converted</th>\n",
       "      <th>city</th>\n",
       "      <th>country</th>\n",
       "      <th>lat</th>\n",
       "      <th>long</th>\n",
       "    </tr>\n",
       "    <tr>\n",
       "      <th>user_id</th>\n",
       "      <th></th>\n",
       "      <th></th>\n",
       "      <th></th>\n",
       "      <th></th>\n",
       "      <th></th>\n",
       "      <th></th>\n",
       "      <th></th>\n",
       "      <th></th>\n",
       "      <th></th>\n",
       "      <th></th>\n",
       "      <th></th>\n",
       "    </tr>\n",
       "  </thead>\n",
       "  <tbody>\n",
       "    <tr>\n",
       "      <th>604839</th>\n",
       "      <td>2015-05-08 03:38:34</td>\n",
       "      <td>1.0</td>\n",
       "      <td>0</td>\n",
       "      <td>2</td>\n",
       "      <td>0</td>\n",
       "      <td>39.0</td>\n",
       "      <td>0</td>\n",
       "      <td>Buffalo</td>\n",
       "      <td>USA</td>\n",
       "      <td>42.89</td>\n",
       "      <td>-78.86</td>\n",
       "    </tr>\n",
       "    <tr>\n",
       "      <th>624057</th>\n",
       "      <td>2015-05-10 21:08:46</td>\n",
       "      <td>5.0</td>\n",
       "      <td>0</td>\n",
       "      <td>3</td>\n",
       "      <td>0</td>\n",
       "      <td>39.0</td>\n",
       "      <td>0</td>\n",
       "      <td>Lakeville</td>\n",
       "      <td>USA</td>\n",
       "      <td>44.68</td>\n",
       "      <td>-93.24</td>\n",
       "    </tr>\n",
       "    <tr>\n",
       "      <th>317970</th>\n",
       "      <td>2015-04-04 15:01:23</td>\n",
       "      <td>2.0</td>\n",
       "      <td>0</td>\n",
       "      <td>3</td>\n",
       "      <td>0</td>\n",
       "      <td>39.0</td>\n",
       "      <td>0</td>\n",
       "      <td>Parma</td>\n",
       "      <td>USA</td>\n",
       "      <td>41.38</td>\n",
       "      <td>-81.73</td>\n",
       "    </tr>\n",
       "    <tr>\n",
       "      <th>685636</th>\n",
       "      <td>2015-05-07 07:26:01</td>\n",
       "      <td>11.0</td>\n",
       "      <td>0</td>\n",
       "      <td>2</td>\n",
       "      <td>1</td>\n",
       "      <td>59.0</td>\n",
       "      <td>0</td>\n",
       "      <td>Fayetteville</td>\n",
       "      <td>USA</td>\n",
       "      <td>35.07</td>\n",
       "      <td>-78.90</td>\n",
       "    </tr>\n",
       "    <tr>\n",
       "      <th>820854</th>\n",
       "      <td>2015-05-24 11:04:40</td>\n",
       "      <td>1.0</td>\n",
       "      <td>1</td>\n",
       "      <td>0</td>\n",
       "      <td>0</td>\n",
       "      <td>39.0</td>\n",
       "      <td>0</td>\n",
       "      <td>Fishers</td>\n",
       "      <td>USA</td>\n",
       "      <td>39.95</td>\n",
       "      <td>-86.02</td>\n",
       "    </tr>\n",
       "  </tbody>\n",
       "</table>\n",
       "</div>"
      ],
      "text/plain": [
       "                  timestamp  source  device  operative_system  test  price  \\\n",
       "user_id                                                                      \n",
       "604839  2015-05-08 03:38:34     1.0       0                 2     0   39.0   \n",
       "624057  2015-05-10 21:08:46     5.0       0                 3     0   39.0   \n",
       "317970  2015-04-04 15:01:23     2.0       0                 3     0   39.0   \n",
       "685636  2015-05-07 07:26:01    11.0       0                 2     1   59.0   \n",
       "820854  2015-05-24 11:04:40     1.0       1                 0     0   39.0   \n",
       "\n",
       "         converted          city country    lat   long  \n",
       "user_id                                                 \n",
       "604839           0       Buffalo     USA  42.89 -78.86  \n",
       "624057           0     Lakeville     USA  44.68 -93.24  \n",
       "317970           0         Parma     USA  41.38 -81.73  \n",
       "685636           0  Fayetteville     USA  35.07 -78.90  \n",
       "820854           0       Fishers     USA  39.95 -86.02  "
      ]
     },
     "execution_count": 7,
     "metadata": {},
     "output_type": "execute_result"
    }
   ],
   "source": [
    "# encode everything\n",
    "opsys_cats = {'mac': 0, 'windows': 1, 'iOS': 2, 'android': 3, 'Other': 4}\n",
    "source_cats = {'ads_google': 0, 'ads_facebook': 1, 'ads_bing': 2, 'ads_yahoo': 3, 'ads_other': 4, 'seo_google': 5,\n",
    "              'seo_facebook': 6, 'seo_bing': 7, 'seo_yahoo': 8, 'seo_other': 9, 'friend_referral': 10,\n",
    "               'direct_traffic': 11}\n",
    "device_cats = {'mobile': 0, 'web': 1}\n",
    "\n",
    "joined_test_users['operative_system'].replace(opsys_cats, inplace=True)\n",
    "joined_test_users['source'].replace(source_cats, inplace=True)\n",
    "joined_test_users['device'].replace(device_cats, inplace=True)\n",
    "\n",
    "joined_test_users.head()"
   ]
  },
  {
   "cell_type": "markdown",
   "metadata": {},
   "source": [
    "### Defining the control/test sets and ensuring they are not biased\n",
    "\n",
    "With our data cleaned and categorical variables mapped to numerical values, we can now split into the A/B groups - those that saw the 39 dollar price (control) and those that saw the 59 dollar price (test)."
   ]
  },
  {
   "cell_type": "code",
   "execution_count": 8,
   "metadata": {},
   "outputs": [],
   "source": [
    "control_group = joined_test_users[joined_test_users['price'] == 39.0]\n",
    "test_group = joined_test_users[joined_test_users['price'] == 59.0]"
   ]
  },
  {
   "cell_type": "markdown",
   "metadata": {},
   "source": [
    "Before we dive into the analysis, it's critical to make sure that the testing and training samples are similar to one another in order to control for variables like time distributions, device choice, etc. (even with large samples like this). Key questions we need to answer when comparing the control/test groups:\n",
    "\n",
    "* Do time distributions look the same?\n",
    "* Are operating systems the same?\n",
    "* Are devices the same?\n",
    "* Are sources the same?\n",
    "\n",
    "This is very important to confirm since one could imagine a scenario in which the test set is dominated by mobile users who are less likely to buy the software. \n",
    "\n",
    "The statistical test for this, since we are testing two categorical datasets, is Chi-squared, but it can be informative to just give the distributions a quick look to see if they are the same. Later on, if the significance of our eventual metrics is near our adopted threshold, we may want to be more rigorous with testing these distributions.\n",
    "\n",
    "As an example of this quick analysis, we can plot the time distribution of the test and control groups to reveal that the distributions are very similar, so we don't need to immediately test for significance. There is a small increase in users in May but this is reflected in both test and control samples. "
   ]
  },
  {
   "cell_type": "code",
   "execution_count": 9,
   "metadata": {},
   "outputs": [
    {
     "data": {
      "image/png": "[encoded data removed]",
      "text/plain": [
       "<matplotlib.figure.Figure at 0x1060bf588>"
      ]
     },
     "metadata": {},
     "output_type": "display_data"
    }
   ],
   "source": [
    "grouped_by_month_control = control_group['timestamp'].groupby(control_group['timestamp'].dt.month).count()\n",
    "grouped_by_month_control = grouped_by_month_control/sum(grouped_by_month_control)\n",
    "\n",
    "grouped_by_month_test = test_group['timestamp'].groupby(test_group['timestamp'].dt.month).count()\n",
    "grouped_by_month_test = grouped_by_month_test/sum(grouped_by_month_test)\n",
    "\n",
    "x1 = [1, 5, 9]\n",
    "x2 = [2, 6, 10]\n",
    "fig, ax = plt.subplots(figsize=(10,4))\n",
    "plt.bar(x1, grouped_by_month_control, label='control')\n",
    "plt.bar(x2, grouped_by_month_test, label='test')\n",
    "plt.xticks(x1, ('March', 'April', 'May'), fontsize=14)\n",
    "plt.ylabel('fraction', fontsize=14)\n",
    "plt.legend(loc=2, fontsize=14)\n",
    "plt.ylim([0.0, 0.5])\n",
    "plt.show()"
   ]
  },
  {
   "cell_type": "markdown",
   "metadata": {},
   "source": [
    "We can do this for the other variables (operating system, source, device) to confirm that the distributions of control and test samples in the various categories are consistent - just operating system results are shown below. "
   ]
  },
  {
   "cell_type": "code",
   "execution_count": 11,
   "metadata": {},
   "outputs": [
    {
     "name": "stderr",
     "output_type": "stream",
     "text": [
      "/anaconda3/lib/python3.6/site-packages/ipykernel_launcher.py:4: FutureWarning: reshape is deprecated and will raise in a subsequent release. Please use .values.reshape(...) instead\n",
      "  after removing the cwd from sys.path.\n"
     ]
    },
    {
     "data": {
      "image/png": "[encoded data removed]",
      "text/plain": [
       "<matplotlib.figure.Figure at 0x1a0f8a85f8>"
      ]
     },
     "metadata": {},
     "output_type": "display_data"
    }
   ],
   "source": [
    "def onehot_encode_function(categorical_column):\n",
    "    onehot_encoder = OneHotEncoder(sparse=False)\n",
    "    encoded = categorical_column.dropna()\n",
    "    encoded = encoded.reshape(len(encoded), 1)\n",
    "    onehot_encoded = onehot_encoder.fit_transform(encoded)\n",
    "    return(onehot_encoded)\n",
    "\n",
    "onehot_opsys_control = onehot_encode_function(control_group['operative_system'])\n",
    "onehot_opsys_test = onehot_encode_function(test_group['operative_system'])\n",
    "\n",
    "fig, ax = plt.subplots(figsize=(10,4))\n",
    "plt.bar(np.arange(0, 15, 3), np.sum(onehot_opsys_control, axis=0)/np.sum(onehot_opsys_control), label='control')\n",
    "plt.bar(np.arange(1, 16, 3), np.sum(onehot_opsys_test, axis=0)/np.sum(onehot_opsys_test), label='test')\n",
    "plt.xticks(np.arange(0, 15, 3),list(opsys_cats.keys()), fontsize=14)\n",
    "plt.legend(loc=2, fontsize=14)\n",
    "plt.ylabel('fraction')\n",
    "plt.show()"
   ]
  },
  {
   "cell_type": "markdown",
   "metadata": {},
   "source": [
    "At this point, we have our data loaded in and cleaned, and we've mapped our categorical variables we'll use later to numerical values. We've also confirmed that our control and test sets do not appear to be systematically biased when compared with one another. \n",
    "\n",
    "# 2. The impact of software price on conversion rate and revenue\n",
    "\n",
    "### Testing conversion rate differences\n",
    "\n",
    "We can now start our analysis. The first question we are interested in answering is whether or not the conversion rate went down for the higher-price group relative to the control. Intuition tells us that as price increases conversion rate should decrease, but we can assess the statistical significance of any difference.\n",
    "\n",
    "We can frame the problem as a hypothesis testing problem: our null hypothesis is that there is no difference in conversion rate, and we can use a z-test to accept or reject this null hypothesis. We use a z-test here because our sample sizes are very large. The underlying distribution is binomial, so we use the appropriate z-test. \n",
    "\n",
    "First, we calculate the conversion probabilities in the control/test groups:"
   ]
  },
  {
   "cell_type": "code",
   "execution_count": 12,
   "metadata": {},
   "outputs": [
    {
     "name": "stdout",
     "output_type": "stream",
     "text": [
      "conversion rate (control): 0.019875838340522076\n",
      "conversion rate (test): 0.015578063109764203\n"
     ]
    }
   ],
   "source": [
    "# calculate probabilities based on the samples\n",
    "num_control = control_group['converted'].count()\n",
    "num_test = test_group['converted'].count()\n",
    "\n",
    "prob_buy_control = control_group[control_group['converted']==1]['converted'].count()/num_control\n",
    "prob_buy_test = test_group[test_group['converted']==1]['converted'].count()/num_test\n",
    "\n",
    "print('conversion rate (control):', prob_buy_control)\n",
    "print('conversion rate (test):', prob_buy_test)"
   ]
  },
  {
   "cell_type": "markdown",
   "metadata": {},
   "source": [
    "This looks like a very small difference in conversion rate, but since the overall conversion rate is small it's actually a difference of 20%. But how significant is the difference?\n",
    "\n",
    "We can use those calculated conversion rates to calculate the p-value associated with our null hypothesis: how likely is it that the difference in conversion rates is due to random chance?"
   ]
  },
  {
   "cell_type": "code",
   "execution_count": 13,
   "metadata": {},
   "outputs": [
    {
     "name": "stdout",
     "output_type": "stream",
     "text": [
      "the p-value is 0.0\n"
     ]
    }
   ],
   "source": [
    "# compute the significance of this result, leveraging what we just calculated - null is that p1=p2\n",
    "pjoint = (num_control*prob_buy_control+num_test*prob_buy_test)/(num_control+num_test)\n",
    "\n",
    "zstat = (prob_buy_control - prob_buy_test)/math.sqrt((pjoint*(1-pjoint)*(1/num_control + 1/num_test)))\n",
    "pval = 1.0 - spst.norm.cdf(abs(zstat))\n",
    "print('the p-value is', pval)"
   ]
  },
  {
   "cell_type": "markdown",
   "metadata": {},
   "source": [
    "So our p-value is essentially zero - thus we can reject our null hypothesis with a high degree of confidence. Another way of putting it is that at the greater than 99.99% confidence level, we can rule out the conversion rates being the same. \n",
    "\n",
    "### Testing revenue differences\n",
    "\n",
    "So it looks like our conversion rate decreases by 22% when the higher price is implemented. But overall we are interested in how revenue is affected - we may have lost some customers, but those that remain may make up the lost revenue with higher purchase prices.\n",
    "\n",
    "The test for this is the same as that used above, except now we are testing the difference in \"revenue per customer\". That is, the conversion rate times the price of the software. "
   ]
  },
  {
   "cell_type": "code",
   "execution_count": 14,
   "metadata": {},
   "outputs": [
    {
     "name": "stdout",
     "output_type": "stream",
     "text": [
      "revenue per customer (control): 0.7751576952803609 revenue per customer (test): 0.919105723476088\n",
      "the p-value is 0.0\n"
     ]
    }
   ],
   "source": [
    "expected_revenue_control = 39.0*prob_buy_control\n",
    "expected_revenue_test = 59.0*prob_buy_test\n",
    "\n",
    "print('revenue per customer (control):', expected_revenue_control, 'revenue per customer (test):',expected_revenue_test)\n",
    "\n",
    "pjoint = (num_control*39.0*prob_buy_control+num_test*59.0*prob_buy_test)/(num_control+num_test)\n",
    "zstat = (39.0*prob_buy_control - 59.0*prob_buy_test)/math.sqrt((pjoint*(1-pjoint)*(1/num_control + 1/num_test)))\n",
    "pval = 1-spst.norm.cdf(abs(zstat))\n",
    "print('the p-value is', pval)"
   ]
  },
  {
   "cell_type": "markdown",
   "metadata": {},
   "source": [
    "So now we know that revenue increases by 19% under the higher prices - this means that the drop in customers is far outweighed by the higher price that the remaining customers are paying. \n",
    "\n",
    "# 3. Other insights\n",
    "\n",
    "### Testing efficiency\n",
    "\n",
    "We achieved very high statistical significance with this A/B test - so high in fact that we are in the realm of diminishing returns, where collecting more data only marginally impacts the overall significance because our significance is so high. \n",
    "\n",
    "Thus, it is worth seeing how much shorter we could have run the test and still generated the same insights. If the testing period could be made shorter, then insights could be generated more rapidly and important business decisions made earlier.\n",
    "\n",
    "The way we can see how much shorter we could have made the test is by setting a target significance, then reducing the sample size until that target significance is reached. As large changes in pricing are an important business decision and inappropriate pricing can have lasting business impact, we adopt a 3-sigma threshold (>99.7% confidence)."
   ]
  },
  {
   "cell_type": "code",
   "execution_count": 15,
   "metadata": {},
   "outputs": [
    {
     "name": "stdout",
     "output_type": "stream",
     "text": [
      "sigma level: 2.9826519948572128\n",
      "the p-value is 0.0014288135836746374\n"
     ]
    }
   ],
   "source": [
    "# calculate probabilities based on the samples\n",
    "num_control = control_group['converted'].count()\n",
    "num_test = test_group['converted'].count()\n",
    "\n",
    "prob_buy_control = control_group[control_group['converted']==1]['converted'].count()/num_control\n",
    "prob_buy_test = test_group[test_group['converted']==1]['converted'].count()/num_test\n",
    "\n",
    "# define a factor that lowers the number of samples in each group\n",
    "factor = 0.12\n",
    "# just re-run the test from before, except with a smaller sample size\n",
    "pjoint = (factor*num_control*prob_buy_control+factor*num_test*prob_buy_test)/(factor*num_control+factor*num_test)\n",
    "\n",
    "zstat = (prob_buy_control - prob_buy_test)/math.sqrt(pjoint*(1-pjoint)*(1/(factor*num_control) + 1/(factor*num_test)))\n",
    "print('sigma level:', zstat)\n",
    "pval = 1.0 - spst.norm.cdf(abs(zstat))\n",
    "print('the p-value is', pval)"
   ]
  },
  {
   "cell_type": "markdown",
   "metadata": {},
   "source": [
    "What we can see from the above test is that we could have reached our target significance with only 12% of the data we collected. This translates to about 12 days of data collection, though we may want to make it a flat 2 weeks in order to evenly sample weekends, which may have lower sales volumes. \n",
    "\n",
    "There is some danger in shortening the collection period - if a major holiday falls during the collection period this may change the overall conversion rates. Longer collection periods tend to average out these sorts of short-term effects. \n",
    "\n",
    "In the future, this sort of analysis should be done before running an A/B test - once a level of significance is chosen, the number of samples required to statistically confirm/deny a given effect size can be derived and an appropriate-length test can be run. \n",
    "\n",
    "### Customer insights\n",
    "\n",
    "We'd like to leverage this data to derive some actionable insights about customer behavior that could increase the overall conversion rate. There are several possible avenues to explore here:\n",
    "\n",
    "* Do users who convert do something differently than users who don't? Is there something we can do to convert the users who don't buy the software?\n",
    "* Can we understand the demographics of users who tend to convert, in order to better target those kinds of users in the future? \n",
    "* Which customers do we lose by switching to a higher-priced product? Can we identify those customers and target them with promotions, etc. to increase their conversion rate?\n",
    "\n",
    "Answers to any one of the above questions would increase the overall conversion rate. Here, we focus on the third question: can we identify users we lose by increasing the software price in order to target them with customer retention efforts?\n",
    "\n",
    "We can look for users we've lost by selecting only the users that convert in the test and control groups, then looking at how the distributions of those users' associated features change. For starters, let's see if there are significant differences in operating systems between the control and test conversions:"
   ]
  },
  {
   "cell_type": "code",
   "execution_count": 16,
   "metadata": {},
   "outputs": [
    {
     "name": "stderr",
     "output_type": "stream",
     "text": [
      "/anaconda3/lib/python3.6/site-packages/ipykernel_launcher.py:4: FutureWarning: reshape is deprecated and will raise in a subsequent release. Please use .values.reshape(...) instead\n",
      "  after removing the cwd from sys.path.\n"
     ]
    },
    {
     "data": {
      "image/png": "[encoded data removed]",
      "text/plain": [
       "<matplotlib.figure.Figure at 0x1a0cd5fc50>"
      ]
     },
     "metadata": {},
     "output_type": "display_data"
    }
   ],
   "source": [
    "# positive cases only\n",
    "converted_control = control_group[control_group['converted']==1]\n",
    "converted_test = test_group[test_group['converted']==1]\n",
    "\n",
    "onehot_opsys_control = onehot_encode_function(converted_control['operative_system'])\n",
    "onehot_opsys_test = onehot_encode_function(converted_test['operative_system'])\n",
    "\n",
    "fig, ax = plt.subplots(figsize=(10,4))\n",
    "plt.bar(np.arange(0, 15, 3), np.sum(onehot_opsys_control, axis=0)/np.sum(onehot_opsys_control), label='control')\n",
    "plt.bar(np.arange(1, 16, 3), np.sum(onehot_opsys_test, axis=0)/np.sum(onehot_opsys_test), label='test')\n",
    "plt.xticks(np.arange(0, 15, 3),list(opsys_cats.keys()), fontsize=14)\n",
    "plt.legend(loc=2, fontsize=14)\n",
    "plt.ylabel('fraction')\n",
    "plt.show()"
   ]
  },
  {
   "cell_type": "markdown",
   "metadata": {},
   "source": [
    "There doesn't seem to be much of a pattern here - maybe a higher fraction of users on iOS convert relative to Android when the price is higher, but it's not a large effect. \n",
    "\n",
    "Now let's look at the sources of converted users:"
   ]
  },
  {
   "cell_type": "code",
   "execution_count": 17,
   "metadata": {},
   "outputs": [
    {
     "name": "stderr",
     "output_type": "stream",
     "text": [
      "/anaconda3/lib/python3.6/site-packages/ipykernel_launcher.py:4: FutureWarning: reshape is deprecated and will raise in a subsequent release. Please use .values.reshape(...) instead\n",
      "  after removing the cwd from sys.path.\n"
     ]
    },
    {
     "data": {
      "image/png": "[encoded data removed]",
      "text/plain": [
       "<matplotlib.figure.Figure at 0x1a0b472f98>"
      ]
     },
     "metadata": {},
     "output_type": "display_data"
    }
   ],
   "source": [
    "# positive cases only\n",
    "converted_control = control_group[control_group['converted']==1]\n",
    "converted_test = test_group[test_group['converted']==1]\n",
    "\n",
    "onehot_opsys_control = onehot_encode_function(converted_control['source'])\n",
    "onehot_opsys_test = onehot_encode_function(converted_test['source'])\n",
    "\n",
    "fig, ax = plt.subplots(figsize=(22,4))\n",
    "plt.bar(np.arange(0, 36, 3), np.sum(onehot_opsys_control, axis=0)/np.sum(onehot_opsys_control), label='control')\n",
    "plt.bar(np.arange(1, 37, 3), np.sum(onehot_opsys_test, axis=0)/np.sum(onehot_opsys_test), label='test')\n",
    "plt.xticks(np.arange(0, 36, 3),list(source_cats.keys()), fontsize=14)\n",
    "plt.legend(loc=1, fontsize=14)\n",
    "plt.ylabel('fraction')\n",
    "plt.show()"
   ]
  },
  {
   "cell_type": "markdown",
   "metadata": {},
   "source": [
    "Aha - it looks like in the test group that Google-sourced users were more likely to convert than Facebook-source users, relative to the control group. It's not immediately clear why this would be, but we can test the significance of the difference with a Chi-squared test, which compares distributions of categorical variables. Our null hypothesis here is that there is no difference between the test and control groups."
   ]
  },
  {
   "cell_type": "code",
   "execution_count": 18,
   "metadata": {},
   "outputs": [
    {
     "name": "stdout",
     "output_type": "stream",
     "text": [
      "Chi-squared p-value: 0.006847648891839333\n"
     ]
    }
   ],
   "source": [
    "# count Google, Facebook conversions in the control and test groups\n",
    "control_google = converted_control[converted_control['source']==0.0]['source'].count()\n",
    "test_google = converted_test[converted_test['source']==0.0]['source'].count()\n",
    "control_fb = converted_control[converted_control['source']==1.0]['source'].count()\n",
    "test_fb = converted_test[converted_test['source']==1.0]['source'].count()\n",
    "\n",
    "\n",
    "test_pop = [test_google, test_fb]\n",
    "control_pop = [control_google, control_fb]\n",
    "norm_factor = sum(test_pop)/sum(control_pop)\n",
    "control_pop = [int(i*norm_factor) for i in control_pop]\n",
    "# small issue with the total of the two samples being different - adjust by downscaling the control pop to have \n",
    "# total size = test pop (this will lower significance, which is okay)\n",
    "chisq, pval_chi = chisquare(control_pop, test_pop)\n",
    "print('Chi-squared p-value:',pval_chi)"
   ]
  },
  {
   "cell_type": "markdown",
   "metadata": {},
   "source": [
    "This doesn't meet our 3-sigma threshold we used previously, but as this is a less high-stakes insight we might be able to accept a 2-sigma (95%) significance level. \n",
    "\n",
    "There are a few ways forward with this insight - we could step up Google advertising, since that channel has a higher conversion rate than Facebook, or we could try and incentivize Facebook users with deals, etc. The best way may be a mix of both. \n",
    "\n",
    "# 4. Conclusion\n",
    "\n",
    "To briefly summarize, we conducted a followup analysis of an A/B test designed to determine the effects of increasing the price of a software product. Data was collected by randomly presenting users with the normal software price (the control group) and a 50% increased price (the test group) over a period of 3 months. \n",
    "\n",
    "### Key Insights\n",
    "* **Effects of increasing the price on conversion rate.** As expected, increasing the software price decreased conversion rate over the test period by 22% (>99.99% confidence). If the higher price is adopted, it may be worth conducting periodic longer-term conversion rate monitoring to ensure that, e.g., increased price dissatisfaction and a corresponding drop in referrals doesn't result in steadily declining sales over the long term.\n",
    "\n",
    "* **Effects of increasing the price on total revenue.** While conversion rate decreased by 22%, net revenue per test user actually increased by 18% relative to the control group (>99.99 confidence), due to the higher price of the software.\n",
    "\n",
    "* **Retaining customers under an increase in price.** Considering the test group, analysis shows with high confidence (>95%) that the fraction of conversions coming from Google ads increased while those coming from Facebook ads decreased. If the higher pricing is adopted, incentive programs can be designed to maintain the current Facebook conversion rate and/or Google ads can be increased to reach additional users. \n",
    "\n",
    "* **A/B testing efficiency.** If the primary goal was to address the two above questions, then analysis shows that a high level of confidence (99.7%) could have been reached with approximately 10% of the total data. However, the customer retention analysis above was only made possible by the large sample we collected. My recommendation is to first define the goals of the A/B test and a level of significance desired, then design the test to meet those objectives. "
   ]
  }
 ],
 "metadata": {
  "kernelspec": {
   "display_name": "Python 3",
   "language": "python",
   "name": "python3"
  },
  "language_info": {
   "codemirror_mode": {
    "name": "ipython",
    "version": 3
   },
   "file_extension": ".py",
   "mimetype": "text/x-python",
   "name": "python",
   "nbconvert_exporter": "python",
   "pygments_lexer": "ipython3",
   "version": "3.6.4"
  }
 },
 "nbformat": 4,
 "nbformat_minor": 2
}
