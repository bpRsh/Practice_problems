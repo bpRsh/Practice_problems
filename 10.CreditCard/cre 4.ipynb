{
 "cells": [
  {
   "cell_type": "code",
   "execution_count": 1,
   "metadata": {
    "collapsed": true
   },
   "outputs": [],
   "source": [
    "import itertools\n",
    "from collections import defaultdict\n",
    "\n",
    "import numpy as np\n",
    "import pandas as pd\n",
    "import matplotlib.pyplot as plt\n",
    "plt.style.use('ggplot')\n",
    "%matplotlib inline\n",
    "import seaborn as sns\n",
    "\n",
    "from sklearn.decomposition import PCA\n",
    "from sklearn.preprocessing import scale\n",
    "from sklearn.cluster import KMeans"
   ]
  },
  {
   "cell_type": "code",
   "execution_count": 2,
   "metadata": {},
   "outputs": [
    {
     "data": {
      "text/html": [
       "<div>\n",
       "<style>\n",
       "    .dataframe thead tr:only-child th {\n",
       "        text-align: right;\n",
       "    }\n",
       "\n",
       "    .dataframe thead th {\n",
       "        text-align: left;\n",
       "    }\n",
       "\n",
       "    .dataframe tbody tr th {\n",
       "        vertical-align: top;\n",
       "    }\n",
       "</style>\n",
       "<table border=\"1\" class=\"dataframe\">\n",
       "  <thead>\n",
       "    <tr style=\"text-align: right;\">\n",
       "      <th></th>\n",
       "      <th>credit_card</th>\n",
       "      <th>city</th>\n",
       "      <th>state</th>\n",
       "      <th>zipcode</th>\n",
       "      <th>credit_card_limit</th>\n",
       "    </tr>\n",
       "  </thead>\n",
       "  <tbody>\n",
       "    <tr>\n",
       "      <th>0</th>\n",
       "      <td>1280981422329509</td>\n",
       "      <td>Dallas</td>\n",
       "      <td>PA</td>\n",
       "      <td>18612</td>\n",
       "      <td>6000</td>\n",
       "    </tr>\n",
       "    <tr>\n",
       "      <th>1</th>\n",
       "      <td>9737219864179988</td>\n",
       "      <td>Houston</td>\n",
       "      <td>PA</td>\n",
       "      <td>15342</td>\n",
       "      <td>16000</td>\n",
       "    </tr>\n",
       "    <tr>\n",
       "      <th>2</th>\n",
       "      <td>4749889059323202</td>\n",
       "      <td>Auburn</td>\n",
       "      <td>MA</td>\n",
       "      <td>1501</td>\n",
       "      <td>14000</td>\n",
       "    </tr>\n",
       "    <tr>\n",
       "      <th>3</th>\n",
       "      <td>9591503562024072</td>\n",
       "      <td>Orlando</td>\n",
       "      <td>WV</td>\n",
       "      <td>26412</td>\n",
       "      <td>18000</td>\n",
       "    </tr>\n",
       "    <tr>\n",
       "      <th>4</th>\n",
       "      <td>2095640259001271</td>\n",
       "      <td>New York</td>\n",
       "      <td>NY</td>\n",
       "      <td>10001</td>\n",
       "      <td>20000</td>\n",
       "    </tr>\n",
       "  </tbody>\n",
       "</table>\n",
       "</div>"
      ],
      "text/plain": [
       "        credit_card      city state  zipcode  credit_card_limit\n",
       "0  1280981422329509    Dallas    PA    18612               6000\n",
       "1  9737219864179988   Houston    PA    15342              16000\n",
       "2  4749889059323202    Auburn    MA     1501              14000\n",
       "3  9591503562024072   Orlando    WV    26412              18000\n",
       "4  2095640259001271  New York    NY    10001              20000"
      ]
     },
     "execution_count": 2,
     "metadata": {},
     "output_type": "execute_result"
    }
   ],
   "source": [
    "# load the data\n",
    "holders = pd.read_csv('cc_info.csv')\n",
    "holders.head()"
   ]
  },
  {
   "cell_type": "code",
   "execution_count": 3,
   "metadata": {},
   "outputs": [
    {
     "data": {
      "text/html": [
       "<div>\n",
       "<style>\n",
       "    .dataframe thead tr:only-child th {\n",
       "        text-align: right;\n",
       "    }\n",
       "\n",
       "    .dataframe thead th {\n",
       "        text-align: left;\n",
       "    }\n",
       "\n",
       "    .dataframe tbody tr th {\n",
       "        vertical-align: top;\n",
       "    }\n",
       "</style>\n",
       "<table border=\"1\" class=\"dataframe\">\n",
       "  <thead>\n",
       "    <tr style=\"text-align: right;\">\n",
       "      <th></th>\n",
       "      <th>city</th>\n",
       "      <th>state</th>\n",
       "      <th>zipcode</th>\n",
       "      <th>credit_limit</th>\n",
       "    </tr>\n",
       "    <tr>\n",
       "      <th>credit_card</th>\n",
       "      <th></th>\n",
       "      <th></th>\n",
       "      <th></th>\n",
       "      <th></th>\n",
       "    </tr>\n",
       "  </thead>\n",
       "  <tbody>\n",
       "    <tr>\n",
       "      <th>1280981422329509</th>\n",
       "      <td>Dallas</td>\n",
       "      <td>PA</td>\n",
       "      <td>18612</td>\n",
       "      <td>6000</td>\n",
       "    </tr>\n",
       "    <tr>\n",
       "      <th>9737219864179988</th>\n",
       "      <td>Houston</td>\n",
       "      <td>PA</td>\n",
       "      <td>15342</td>\n",
       "      <td>16000</td>\n",
       "    </tr>\n",
       "    <tr>\n",
       "      <th>4749889059323202</th>\n",
       "      <td>Auburn</td>\n",
       "      <td>MA</td>\n",
       "      <td>1501</td>\n",
       "      <td>14000</td>\n",
       "    </tr>\n",
       "    <tr>\n",
       "      <th>9591503562024072</th>\n",
       "      <td>Orlando</td>\n",
       "      <td>WV</td>\n",
       "      <td>26412</td>\n",
       "      <td>18000</td>\n",
       "    </tr>\n",
       "    <tr>\n",
       "      <th>2095640259001271</th>\n",
       "      <td>New York</td>\n",
       "      <td>NY</td>\n",
       "      <td>10001</td>\n",
       "      <td>20000</td>\n",
       "    </tr>\n",
       "  </tbody>\n",
       "</table>\n",
       "</div>"
      ],
      "text/plain": [
       "                      city state  zipcode  credit_limit\n",
       "credit_card                                            \n",
       "1280981422329509    Dallas    PA    18612          6000\n",
       "9737219864179988   Houston    PA    15342         16000\n",
       "4749889059323202    Auburn    MA     1501         14000\n",
       "9591503562024072   Orlando    WV    26412         18000\n",
       "2095640259001271  New York    NY    10001         20000"
      ]
     },
     "execution_count": 3,
     "metadata": {},
     "output_type": "execute_result"
    }
   ],
   "source": [
    "holders.set_index('credit_card', inplace=True)\n",
    "holders.rename(columns={'credit_card_limit': 'credit_limit'}, inplace=True)\n",
    "holders.head()"
   ]
  },
  {
   "cell_type": "code",
   "execution_count": 4,
   "metadata": {},
   "outputs": [
    {
     "data": {
      "text/html": [
       "<div>\n",
       "<style>\n",
       "    .dataframe thead tr:only-child th {\n",
       "        text-align: right;\n",
       "    }\n",
       "\n",
       "    .dataframe thead th {\n",
       "        text-align: left;\n",
       "    }\n",
       "\n",
       "    .dataframe tbody tr th {\n",
       "        vertical-align: top;\n",
       "    }\n",
       "</style>\n",
       "<table border=\"1\" class=\"dataframe\">\n",
       "  <thead>\n",
       "    <tr style=\"text-align: right;\">\n",
       "      <th></th>\n",
       "      <th>credit_card</th>\n",
       "      <th>date</th>\n",
       "      <th>transaction_dollar_amount</th>\n",
       "      <th>Long</th>\n",
       "      <th>Lat</th>\n",
       "    </tr>\n",
       "  </thead>\n",
       "  <tbody>\n",
       "    <tr>\n",
       "      <th>0</th>\n",
       "      <td>1003715054175576</td>\n",
       "      <td>2015-09-11 00:32:40</td>\n",
       "      <td>43.78</td>\n",
       "      <td>-80.174132</td>\n",
       "      <td>40.267370</td>\n",
       "    </tr>\n",
       "    <tr>\n",
       "      <th>1</th>\n",
       "      <td>1003715054175576</td>\n",
       "      <td>2015-10-24 22:23:08</td>\n",
       "      <td>103.15</td>\n",
       "      <td>-80.194240</td>\n",
       "      <td>40.180114</td>\n",
       "    </tr>\n",
       "    <tr>\n",
       "      <th>2</th>\n",
       "      <td>1003715054175576</td>\n",
       "      <td>2015-10-26 18:19:36</td>\n",
       "      <td>48.55</td>\n",
       "      <td>-80.211033</td>\n",
       "      <td>40.313004</td>\n",
       "    </tr>\n",
       "    <tr>\n",
       "      <th>3</th>\n",
       "      <td>1003715054175576</td>\n",
       "      <td>2015-10-22 19:41:10</td>\n",
       "      <td>136.18</td>\n",
       "      <td>-80.174138</td>\n",
       "      <td>40.290895</td>\n",
       "    </tr>\n",
       "    <tr>\n",
       "      <th>4</th>\n",
       "      <td>1003715054175576</td>\n",
       "      <td>2015-10-26 20:08:22</td>\n",
       "      <td>71.82</td>\n",
       "      <td>-80.238720</td>\n",
       "      <td>40.166719</td>\n",
       "    </tr>\n",
       "  </tbody>\n",
       "</table>\n",
       "</div>"
      ],
      "text/plain": [
       "        credit_card                 date  transaction_dollar_amount  \\\n",
       "0  1003715054175576  2015-09-11 00:32:40                      43.78   \n",
       "1  1003715054175576  2015-10-24 22:23:08                     103.15   \n",
       "2  1003715054175576  2015-10-26 18:19:36                      48.55   \n",
       "3  1003715054175576  2015-10-22 19:41:10                     136.18   \n",
       "4  1003715054175576  2015-10-26 20:08:22                      71.82   \n",
       "\n",
       "        Long        Lat  \n",
       "0 -80.174132  40.267370  \n",
       "1 -80.194240  40.180114  \n",
       "2 -80.211033  40.313004  \n",
       "3 -80.174138  40.290895  \n",
       "4 -80.238720  40.166719  "
      ]
     },
     "execution_count": 4,
     "metadata": {},
     "output_type": "execute_result"
    }
   ],
   "source": [
    "transactions = pd.read_csv('transactions.csv')\n",
    "transactions.head()"
   ]
  },
  {
   "cell_type": "code",
   "execution_count": 5,
   "metadata": {},
   "outputs": [
    {
     "data": {
      "text/html": [
       "<div>\n",
       "<style>\n",
       "    .dataframe thead tr:only-child th {\n",
       "        text-align: right;\n",
       "    }\n",
       "\n",
       "    .dataframe thead th {\n",
       "        text-align: left;\n",
       "    }\n",
       "\n",
       "    .dataframe tbody tr th {\n",
       "        vertical-align: top;\n",
       "    }\n",
       "</style>\n",
       "<table border=\"1\" class=\"dataframe\">\n",
       "  <thead>\n",
       "    <tr style=\"text-align: right;\">\n",
       "      <th></th>\n",
       "      <th>credit_card</th>\n",
       "      <th>date</th>\n",
       "      <th>amount</th>\n",
       "      <th>Long</th>\n",
       "      <th>Lat</th>\n",
       "    </tr>\n",
       "  </thead>\n",
       "  <tbody>\n",
       "    <tr>\n",
       "      <th>0</th>\n",
       "      <td>1003715054175576</td>\n",
       "      <td>2015-09-11 00:32:40</td>\n",
       "      <td>43.78</td>\n",
       "      <td>-80.174132</td>\n",
       "      <td>40.267370</td>\n",
       "    </tr>\n",
       "    <tr>\n",
       "      <th>1</th>\n",
       "      <td>1003715054175576</td>\n",
       "      <td>2015-10-24 22:23:08</td>\n",
       "      <td>103.15</td>\n",
       "      <td>-80.194240</td>\n",
       "      <td>40.180114</td>\n",
       "    </tr>\n",
       "    <tr>\n",
       "      <th>2</th>\n",
       "      <td>1003715054175576</td>\n",
       "      <td>2015-10-26 18:19:36</td>\n",
       "      <td>48.55</td>\n",
       "      <td>-80.211033</td>\n",
       "      <td>40.313004</td>\n",
       "    </tr>\n",
       "    <tr>\n",
       "      <th>3</th>\n",
       "      <td>1003715054175576</td>\n",
       "      <td>2015-10-22 19:41:10</td>\n",
       "      <td>136.18</td>\n",
       "      <td>-80.174138</td>\n",
       "      <td>40.290895</td>\n",
       "    </tr>\n",
       "    <tr>\n",
       "      <th>4</th>\n",
       "      <td>1003715054175576</td>\n",
       "      <td>2015-10-26 20:08:22</td>\n",
       "      <td>71.82</td>\n",
       "      <td>-80.238720</td>\n",
       "      <td>40.166719</td>\n",
       "    </tr>\n",
       "  </tbody>\n",
       "</table>\n",
       "</div>"
      ],
      "text/plain": [
       "        credit_card                date  amount       Long        Lat\n",
       "0  1003715054175576 2015-09-11 00:32:40   43.78 -80.174132  40.267370\n",
       "1  1003715054175576 2015-10-24 22:23:08  103.15 -80.194240  40.180114\n",
       "2  1003715054175576 2015-10-26 18:19:36   48.55 -80.211033  40.313004\n",
       "3  1003715054175576 2015-10-22 19:41:10  136.18 -80.174138  40.290895\n",
       "4  1003715054175576 2015-10-26 20:08:22   71.82 -80.238720  40.166719"
      ]
     },
     "execution_count": 5,
     "metadata": {},
     "output_type": "execute_result"
    }
   ],
   "source": [
    "transactions.rename(columns={'transaction_dollar_amount':'amount'}, inplace=True)\n",
    "transactions['date'] = pd.to_datetime(transactions['date'])\n",
    "transactions.head()"
   ]
  },
  {
   "cell_type": "code",
   "execution_count": 6,
   "metadata": {},
   "outputs": [
    {
     "data": {
      "text/html": [
       "<div>\n",
       "<style>\n",
       "    .dataframe thead tr:only-child th {\n",
       "        text-align: right;\n",
       "    }\n",
       "\n",
       "    .dataframe thead th {\n",
       "        text-align: left;\n",
       "    }\n",
       "\n",
       "    .dataframe tbody tr th {\n",
       "        vertical-align: top;\n",
       "    }\n",
       "</style>\n",
       "<table border=\"1\" class=\"dataframe\">\n",
       "  <thead>\n",
       "    <tr style=\"text-align: right;\">\n",
       "      <th></th>\n",
       "      <th>zipcode</th>\n",
       "      <th>credit_limit</th>\n",
       "    </tr>\n",
       "  </thead>\n",
       "  <tbody>\n",
       "    <tr>\n",
       "      <th>count</th>\n",
       "      <td>984.000000</td>\n",
       "      <td>984.000000</td>\n",
       "    </tr>\n",
       "    <tr>\n",
       "      <th>mean</th>\n",
       "      <td>17895.316057</td>\n",
       "      <td>12321.138211</td>\n",
       "    </tr>\n",
       "    <tr>\n",
       "      <th>std</th>\n",
       "      <td>23778.651105</td>\n",
       "      <td>7398.449174</td>\n",
       "    </tr>\n",
       "    <tr>\n",
       "      <th>min</th>\n",
       "      <td>690.000000</td>\n",
       "      <td>2000.000000</td>\n",
       "    </tr>\n",
       "    <tr>\n",
       "      <th>25%</th>\n",
       "      <td>3280.000000</td>\n",
       "      <td>7000.000000</td>\n",
       "    </tr>\n",
       "    <tr>\n",
       "      <th>50%</th>\n",
       "      <td>5820.000000</td>\n",
       "      <td>10000.000000</td>\n",
       "    </tr>\n",
       "    <tr>\n",
       "      <th>75%</th>\n",
       "      <td>18101.250000</td>\n",
       "      <td>16000.000000</td>\n",
       "    </tr>\n",
       "    <tr>\n",
       "      <th>max</th>\n",
       "      <td>98401.000000</td>\n",
       "      <td>55000.000000</td>\n",
       "    </tr>\n",
       "  </tbody>\n",
       "</table>\n",
       "</div>"
      ],
      "text/plain": [
       "            zipcode  credit_limit\n",
       "count    984.000000    984.000000\n",
       "mean   17895.316057  12321.138211\n",
       "std    23778.651105   7398.449174\n",
       "min      690.000000   2000.000000\n",
       "25%     3280.000000   7000.000000\n",
       "50%     5820.000000  10000.000000\n",
       "75%    18101.250000  16000.000000\n",
       "max    98401.000000  55000.000000"
      ]
     },
     "execution_count": 6,
     "metadata": {},
     "output_type": "execute_result"
    }
   ],
   "source": [
    "holders.describe()"
   ]
  },
  {
   "cell_type": "code",
   "execution_count": 7,
   "metadata": {},
   "outputs": [
    {
     "name": "stdout",
     "output_type": "stream",
     "text": [
      "<class 'pandas.core.frame.DataFrame'>\n",
      "Int64Index: 984 entries, 1280981422329509 to 1409322756311484\n",
      "Data columns (total 4 columns):\n",
      "city            984 non-null object\n",
      "state           984 non-null object\n",
      "zipcode         984 non-null int64\n",
      "credit_limit    984 non-null int64\n",
      "dtypes: int64(2), object(2)\n",
      "memory usage: 38.4+ KB\n"
     ]
    }
   ],
   "source": [
    "holders.info()"
   ]
  },
  {
   "cell_type": "code",
   "execution_count": 8,
   "metadata": {},
   "outputs": [
    {
     "data": {
      "text/html": [
       "<div>\n",
       "<style>\n",
       "    .dataframe thead tr:only-child th {\n",
       "        text-align: right;\n",
       "    }\n",
       "\n",
       "    .dataframe thead th {\n",
       "        text-align: left;\n",
       "    }\n",
       "\n",
       "    .dataframe tbody tr th {\n",
       "        vertical-align: top;\n",
       "    }\n",
       "</style>\n",
       "<table border=\"1\" class=\"dataframe\">\n",
       "  <thead>\n",
       "    <tr style=\"text-align: right;\">\n",
       "      <th></th>\n",
       "      <th>credit_card</th>\n",
       "      <th>amount</th>\n",
       "      <th>Long</th>\n",
       "      <th>Lat</th>\n",
       "    </tr>\n",
       "  </thead>\n",
       "  <tbody>\n",
       "    <tr>\n",
       "      <th>count</th>\n",
       "      <td>2.945880e+05</td>\n",
       "      <td>294588.000000</td>\n",
       "      <td>294588.000000</td>\n",
       "      <td>294588.000000</td>\n",
       "    </tr>\n",
       "    <tr>\n",
       "      <th>mean</th>\n",
       "      <td>5.424562e+15</td>\n",
       "      <td>86.008036</td>\n",
       "      <td>-76.235238</td>\n",
       "      <td>40.937669</td>\n",
       "    </tr>\n",
       "    <tr>\n",
       "      <th>std</th>\n",
       "      <td>2.555803e+15</td>\n",
       "      <td>124.655954</td>\n",
       "      <td>20.135015</td>\n",
       "      <td>5.391695</td>\n",
       "    </tr>\n",
       "    <tr>\n",
       "      <th>min</th>\n",
       "      <td>1.003715e+15</td>\n",
       "      <td>0.010000</td>\n",
       "      <td>-179.392887</td>\n",
       "      <td>-68.046553</td>\n",
       "    </tr>\n",
       "    <tr>\n",
       "      <th>25%</th>\n",
       "      <td>3.344214e+15</td>\n",
       "      <td>29.970000</td>\n",
       "      <td>-80.209708</td>\n",
       "      <td>40.487726</td>\n",
       "    </tr>\n",
       "    <tr>\n",
       "      <th>50%</th>\n",
       "      <td>5.353426e+15</td>\n",
       "      <td>58.470000</td>\n",
       "      <td>-73.199737</td>\n",
       "      <td>42.403066</td>\n",
       "    </tr>\n",
       "    <tr>\n",
       "      <th>75%</th>\n",
       "      <td>7.646245e+15</td>\n",
       "      <td>100.400000</td>\n",
       "      <td>-72.091933</td>\n",
       "      <td>43.180015</td>\n",
       "    </tr>\n",
       "    <tr>\n",
       "      <th>max</th>\n",
       "      <td>9.999757e+15</td>\n",
       "      <td>999.970000</td>\n",
       "      <td>179.917513</td>\n",
       "      <td>78.914330</td>\n",
       "    </tr>\n",
       "  </tbody>\n",
       "</table>\n",
       "</div>"
      ],
      "text/plain": [
       "        credit_card         amount           Long            Lat\n",
       "count  2.945880e+05  294588.000000  294588.000000  294588.000000\n",
       "mean   5.424562e+15      86.008036     -76.235238      40.937669\n",
       "std    2.555803e+15     124.655954      20.135015       5.391695\n",
       "min    1.003715e+15       0.010000    -179.392887     -68.046553\n",
       "25%    3.344214e+15      29.970000     -80.209708      40.487726\n",
       "50%    5.353426e+15      58.470000     -73.199737      42.403066\n",
       "75%    7.646245e+15     100.400000     -72.091933      43.180015\n",
       "max    9.999757e+15     999.970000     179.917513      78.914330"
      ]
     },
     "execution_count": 8,
     "metadata": {},
     "output_type": "execute_result"
    }
   ],
   "source": [
    "transactions.describe()"
   ]
  },
  {
   "cell_type": "code",
   "execution_count": 9,
   "metadata": {},
   "outputs": [
    {
     "name": "stdout",
     "output_type": "stream",
     "text": [
      "<class 'pandas.core.frame.DataFrame'>\n",
      "RangeIndex: 294588 entries, 0 to 294587\n",
      "Data columns (total 5 columns):\n",
      "credit_card    294588 non-null int64\n",
      "date           294588 non-null datetime64[ns]\n",
      "amount         294588 non-null float64\n",
      "Long           294588 non-null float64\n",
      "Lat            294588 non-null float64\n",
      "dtypes: datetime64[ns](1), float64(3), int64(1)\n",
      "memory usage: 11.2 MB\n"
     ]
    }
   ],
   "source": [
    "transactions.info()"
   ]
  },
  {
   "cell_type": "code",
   "execution_count": 10,
   "metadata": {
    "collapsed": true
   },
   "outputs": [],
   "source": [
    "# Answer 1"
   ]
  },
  {
   "cell_type": "code",
   "execution_count": 11,
   "metadata": {},
   "outputs": [
    {
     "data": {
      "text/plain": [
       "2015    294588\n",
       "Name: date, dtype: int64"
      ]
     },
     "execution_count": 11,
     "metadata": {},
     "output_type": "execute_result"
    }
   ],
   "source": [
    "transactions['date'].dt.year.value_counts()"
   ]
  },
  {
   "cell_type": "code",
   "execution_count": 12,
   "metadata": {},
   "outputs": [
    {
     "data": {
      "text/plain": [
       "8     99167\n",
       "9     96026\n",
       "10    95014\n",
       "7      4381\n",
       "Name: date, dtype: int64"
      ]
     },
     "execution_count": 12,
     "metadata": {},
     "output_type": "execute_result"
    }
   ],
   "source": [
    "transactions['date'].dt.month.value_counts()"
   ]
  },
  {
   "cell_type": "code",
   "execution_count": 13,
   "metadata": {
    "collapsed": true
   },
   "outputs": [],
   "source": [
    "# calculate each user's monthly spending\n",
    "# Only one year 2015. \n",
    "def user_monthly_spent(df):\n",
    "    return df.groupby(df['date'].dt.month)['amount'].agg('sum')"
   ]
  },
  {
   "cell_type": "code",
   "execution_count": 14,
   "metadata": {
    "collapsed": true
   },
   "outputs": [],
   "source": [
    "# group by users (i.e, card number)\n",
    "# and calculate monthly spent\n",
    "card_monthly_spent = transactions.groupby('credit_card').apply(user_monthly_spent).unstack(fill_value=0)"
   ]
  },
  {
   "cell_type": "code",
   "execution_count": 15,
   "metadata": {},
   "outputs": [
    {
     "data": {
      "text/html": [
       "<div>\n",
       "<style>\n",
       "    .dataframe thead tr:only-child th {\n",
       "        text-align: right;\n",
       "    }\n",
       "\n",
       "    .dataframe thead th {\n",
       "        text-align: left;\n",
       "    }\n",
       "\n",
       "    .dataframe tbody tr th {\n",
       "        vertical-align: top;\n",
       "    }\n",
       "</style>\n",
       "<table border=\"1\" class=\"dataframe\">\n",
       "  <thead>\n",
       "    <tr style=\"text-align: right;\">\n",
       "      <th></th>\n",
       "      <th>7</th>\n",
       "      <th>8</th>\n",
       "      <th>9</th>\n",
       "      <th>10</th>\n",
       "      <th>credit_limit</th>\n",
       "    </tr>\n",
       "    <tr>\n",
       "      <th>credit_card</th>\n",
       "      <th></th>\n",
       "      <th></th>\n",
       "      <th></th>\n",
       "      <th></th>\n",
       "      <th></th>\n",
       "    </tr>\n",
       "  </thead>\n",
       "  <tbody>\n",
       "    <tr>\n",
       "      <th>1003715054175576</th>\n",
       "      <td>162.56</td>\n",
       "      <td>8441.51</td>\n",
       "      <td>11281.56</td>\n",
       "      <td>8954.21</td>\n",
       "      <td>20000</td>\n",
       "    </tr>\n",
       "    <tr>\n",
       "      <th>1013870087888817</th>\n",
       "      <td>281.43</td>\n",
       "      <td>11981.15</td>\n",
       "      <td>12461.96</td>\n",
       "      <td>12090.34</td>\n",
       "      <td>15000</td>\n",
       "    </tr>\n",
       "    <tr>\n",
       "      <th>1023820165155391</th>\n",
       "      <td>943.26</td>\n",
       "      <td>22741.20</td>\n",
       "      <td>18108.12</td>\n",
       "      <td>19259.98</td>\n",
       "      <td>28000</td>\n",
       "    </tr>\n",
       "    <tr>\n",
       "      <th>1073931538936472</th>\n",
       "      <td>220.07</td>\n",
       "      <td>2991.05</td>\n",
       "      <td>2557.12</td>\n",
       "      <td>1638.03</td>\n",
       "      <td>10000</td>\n",
       "    </tr>\n",
       "    <tr>\n",
       "      <th>1077622576192810</th>\n",
       "      <td>0.00</td>\n",
       "      <td>634.61</td>\n",
       "      <td>551.28</td>\n",
       "      <td>604.84</td>\n",
       "      <td>10000</td>\n",
       "    </tr>\n",
       "  </tbody>\n",
       "</table>\n",
       "</div>"
      ],
      "text/plain": [
       "                       7         8         9        10  credit_limit\n",
       "credit_card                                                         \n",
       "1003715054175576  162.56   8441.51  11281.56   8954.21         20000\n",
       "1013870087888817  281.43  11981.15  12461.96  12090.34         15000\n",
       "1023820165155391  943.26  22741.20  18108.12  19259.98         28000\n",
       "1073931538936472  220.07   2991.05   2557.12   1638.03         10000\n",
       "1077622576192810    0.00    634.61    551.28    604.84         10000"
      ]
     },
     "execution_count": 15,
     "metadata": {},
     "output_type": "execute_result"
    }
   ],
   "source": [
    "card_monthly_spent = card_monthly_spent.join(holders['credit_limit'])\n",
    "card_monthly_spent.head()"
   ]
  },
  {
   "cell_type": "code",
   "execution_count": 16,
   "metadata": {
    "collapsed": true
   },
   "outputs": [],
   "source": [
    "n_months = card_monthly_spent.shape[1]-1\n",
    "\n",
    "def never_above_limit(s):\n",
    "    limit = s.loc['credit_limit']\n",
    "    return (s.iloc[0:n_months] <= limit).all() # return true if the user didn't exceed limit in any months"
   ]
  },
  {
   "cell_type": "code",
   "execution_count": 17,
   "metadata": {
    "collapsed": true
   },
   "outputs": [],
   "source": [
    "is_user_never_exceed_limit = card_monthly_spent.apply(never_above_limit, axis=1)\n",
    "users_never_exceeded_limit = card_monthly_spent.loc[is_user_never_exceed_limit, :].index"
   ]
  },
  {
   "cell_type": "code",
   "execution_count": 18,
   "metadata": {},
   "outputs": [
    {
     "data": {
      "text/plain": [
       "Int64Index([1003715054175576, 1013870087888817, 1023820165155391,\n",
       "            1073931538936472, 1077622576192810, 1087468642191606,\n",
       "            1089479586475600, 1101164752077181, 1107936587129946,\n",
       "            1126571863414211,\n",
       "            ...\n",
       "            9854872265114976, 9855217884613002, 9867492085978660,\n",
       "            9884182241594028, 9938969980242308, 9946917923319410,\n",
       "            9958678964376192, 9961694231875562, 9981251982982618,\n",
       "            9986135779184360],\n",
       "           dtype='int64', name=u'credit_card', length=862)"
      ]
     },
     "execution_count": 18,
     "metadata": {},
     "output_type": "execute_result"
    }
   ],
   "source": [
    "users_never_exceeded_limit"
   ]
  },
  {
   "cell_type": "code",
   "execution_count": 19,
   "metadata": {
    "collapsed": true
   },
   "outputs": [],
   "source": [
    "with open(\"user_id_never_exceeded_limit\", \"wt\") as outf:\n",
    "    for ids in users_never_exceeded_limit:\n",
    "        outf.write('{}\\n'.format(ids))"
   ]
  },
  {
   "cell_type": "code",
   "execution_count": 20,
   "metadata": {
    "collapsed": true
   },
   "outputs": [],
   "source": [
    "# answer 2"
   ]
  },
  {
   "cell_type": "code",
   "execution_count": 21,
   "metadata": {
    "collapsed": true
   },
   "outputs": [],
   "source": [
    "class MonthlySpendingMonitor(object):\n",
    "    \n",
    "    def __init__(self, credit_limits):\n",
    "        \"\"\"\n",
    "        card limit is a dictionary\n",
    "        key: card number(cardno), value: credit limit\n",
    "        \"\"\"\n",
    "        self.credit_limits = credit_limits\n",
    "        self.total_spent = defaultdict(float)\n",
    "        \n",
    "    def reset(self):\n",
    "        self.total_spent.clear()\n",
    "        \n",
    "    def count(self, daily_transactions):\n",
    "        \"\"\"\n",
    "        daily_transactions is a dictionary\n",
    "        key: cardno, value: amount spent\n",
    "        \"\"\"\n",
    "        for cardno, amount in daily_transactions:\n",
    "            self.total_spent[cardno] += amount\n",
    "            \n",
    "        return [cardno for cardno, total in self.total_spent.viewitems() if total > self.credit_limits[cardno]]"
   ]
  },
  {
   "cell_type": "code",
   "execution_count": 22,
   "metadata": {
    "collapsed": true
   },
   "outputs": [],
   "source": [
    "# answer 3\n",
    "# unsupervised algorithms to detect frauds"
   ]
  },
  {
   "cell_type": "code",
   "execution_count": 23,
   "metadata": {
    "collapsed": true
   },
   "outputs": [],
   "source": [
    "# def stats_by_card(s):\n",
    "#     ps = [25,50,75]\n",
    "#     percentiles = np.percentile(s,ps)\n",
    "#     return pd.Series(percentiles, index=['{}%'.format(p) for p in ps])"
   ]
  },
  {
   "cell_type": "code",
   "execution_count": 24,
   "metadata": {},
   "outputs": [
    {
     "data": {
      "text/html": [
       "<div>\n",
       "<style>\n",
       "    .dataframe thead tr:only-child th {\n",
       "        text-align: right;\n",
       "    }\n",
       "\n",
       "    .dataframe thead th {\n",
       "        text-align: left;\n",
       "    }\n",
       "\n",
       "    .dataframe tbody tr th {\n",
       "        vertical-align: top;\n",
       "    }\n",
       "</style>\n",
       "<table border=\"1\" class=\"dataframe\">\n",
       "  <thead>\n",
       "    <tr style=\"text-align: right;\">\n",
       "      <th></th>\n",
       "      <th>25%</th>\n",
       "      <th>50%</th>\n",
       "      <th>75%</th>\n",
       "    </tr>\n",
       "    <tr>\n",
       "      <th>credit_card</th>\n",
       "      <th></th>\n",
       "      <th></th>\n",
       "      <th></th>\n",
       "    </tr>\n",
       "  </thead>\n",
       "  <tbody>\n",
       "    <tr>\n",
       "      <th>1003715054175576</th>\n",
       "      <td>59.01</td>\n",
       "      <td>93.73</td>\n",
       "      <td>124.63</td>\n",
       "    </tr>\n",
       "    <tr>\n",
       "      <th>1013870087888817</th>\n",
       "      <td>58.09</td>\n",
       "      <td>87.67</td>\n",
       "      <td>128.02</td>\n",
       "    </tr>\n",
       "    <tr>\n",
       "      <th>1023820165155391</th>\n",
       "      <td>55.43</td>\n",
       "      <td>85.78</td>\n",
       "      <td>122.83</td>\n",
       "    </tr>\n",
       "    <tr>\n",
       "      <th>1073931538936472</th>\n",
       "      <td>108.08</td>\n",
       "      <td>147.19</td>\n",
       "      <td>194.83</td>\n",
       "    </tr>\n",
       "    <tr>\n",
       "      <th>1077622576192810</th>\n",
       "      <td>122.93</td>\n",
       "      <td>148.18</td>\n",
       "      <td>160.11</td>\n",
       "    </tr>\n",
       "  </tbody>\n",
       "</table>\n",
       "</div>"
      ],
      "text/plain": [
       "                     25%     50%     75%\n",
       "credit_card                             \n",
       "1003715054175576   59.01   93.73  124.63\n",
       "1013870087888817   58.09   87.67  128.02\n",
       "1023820165155391   55.43   85.78  122.83\n",
       "1073931538936472  108.08  147.19  194.83\n",
       "1077622576192810  122.93  148.18  160.11"
      ]
     },
     "execution_count": 24,
     "metadata": {},
     "output_type": "execute_result"
    }
   ],
   "source": [
    "# trans_stats = transactions.groupby('credit_card')['amount'].apply(stats_by_card).unstack()\n",
    "# trans_stats.head()"
   ]
  },
  {
   "cell_type": "code",
   "execution_count": 25,
   "metadata": {},
   "outputs": [
    {
     "data": {
      "text/html": [
       "<div>\n",
       "<style>\n",
       "    .dataframe thead tr:only-child th {\n",
       "        text-align: right;\n",
       "    }\n",
       "\n",
       "    .dataframe thead th {\n",
       "        text-align: left;\n",
       "    }\n",
       "\n",
       "    .dataframe tbody tr th {\n",
       "        vertical-align: top;\n",
       "    }\n",
       "</style>\n",
       "<table border=\"1\" class=\"dataframe\">\n",
       "  <thead>\n",
       "    <tr style=\"text-align: right;\">\n",
       "      <th></th>\n",
       "      <th>credit_card</th>\n",
       "      <th>date</th>\n",
       "      <th>amount</th>\n",
       "      <th>Long</th>\n",
       "      <th>Lat</th>\n",
       "      <th>25%</th>\n",
       "      <th>50%</th>\n",
       "      <th>75%</th>\n",
       "      <th>credit_limit</th>\n",
       "    </tr>\n",
       "  </thead>\n",
       "  <tbody>\n",
       "    <tr>\n",
       "      <th>294583</th>\n",
       "      <td>9999757432802760</td>\n",
       "      <td>2015-09-10 19:43:33</td>\n",
       "      <td>127.23</td>\n",
       "      <td>-82.360952</td>\n",
       "      <td>32.978497</td>\n",
       "      <td>83.74</td>\n",
       "      <td>130.94</td>\n",
       "      <td>177.905</td>\n",
       "      <td>6000</td>\n",
       "    </tr>\n",
       "    <tr>\n",
       "      <th>294584</th>\n",
       "      <td>9999757432802760</td>\n",
       "      <td>2015-08-06 21:00:13</td>\n",
       "      <td>84.90</td>\n",
       "      <td>-82.322721</td>\n",
       "      <td>33.061071</td>\n",
       "      <td>83.74</td>\n",
       "      <td>130.94</td>\n",
       "      <td>177.905</td>\n",
       "      <td>6000</td>\n",
       "    </tr>\n",
       "    <tr>\n",
       "      <th>294585</th>\n",
       "      <td>9999757432802760</td>\n",
       "      <td>2015-09-22 16:15:47</td>\n",
       "      <td>77.54</td>\n",
       "      <td>-82.442130</td>\n",
       "      <td>32.949983</td>\n",
       "      <td>83.74</td>\n",
       "      <td>130.94</td>\n",
       "      <td>177.905</td>\n",
       "      <td>6000</td>\n",
       "    </tr>\n",
       "    <tr>\n",
       "      <th>294586</th>\n",
       "      <td>9999757432802760</td>\n",
       "      <td>2015-08-27 18:08:24</td>\n",
       "      <td>144.05</td>\n",
       "      <td>-82.398587</td>\n",
       "      <td>32.976162</td>\n",
       "      <td>83.74</td>\n",
       "      <td>130.94</td>\n",
       "      <td>177.905</td>\n",
       "      <td>6000</td>\n",
       "    </tr>\n",
       "    <tr>\n",
       "      <th>294587</th>\n",
       "      <td>9999757432802760</td>\n",
       "      <td>2015-08-22 00:14:52</td>\n",
       "      <td>154.36</td>\n",
       "      <td>-82.389680</td>\n",
       "      <td>33.068351</td>\n",
       "      <td>83.74</td>\n",
       "      <td>130.94</td>\n",
       "      <td>177.905</td>\n",
       "      <td>6000</td>\n",
       "    </tr>\n",
       "  </tbody>\n",
       "</table>\n",
       "</div>"
      ],
      "text/plain": [
       "             credit_card                date  amount       Long        Lat  \\\n",
       "294583  9999757432802760 2015-09-10 19:43:33  127.23 -82.360952  32.978497   \n",
       "294584  9999757432802760 2015-08-06 21:00:13   84.90 -82.322721  33.061071   \n",
       "294585  9999757432802760 2015-09-22 16:15:47   77.54 -82.442130  32.949983   \n",
       "294586  9999757432802760 2015-08-27 18:08:24  144.05 -82.398587  32.976162   \n",
       "294587  9999757432802760 2015-08-22 00:14:52  154.36 -82.389680  33.068351   \n",
       "\n",
       "          25%     50%      75%  credit_limit  \n",
       "294583  83.74  130.94  177.905          6000  \n",
       "294584  83.74  130.94  177.905          6000  \n",
       "294585  83.74  130.94  177.905          6000  \n",
       "294586  83.74  130.94  177.905          6000  \n",
       "294587  83.74  130.94  177.905          6000  "
      ]
     },
     "execution_count": 25,
     "metadata": {},
     "output_type": "execute_result"
    }
   ],
   "source": [
    "# # merge transactions with previous consumption stats\n",
    "# temp = pd.merge(transactions, trans_stats, how='left', left_on='credit_card', right_index=True)\n",
    "\n",
    "# # merge with credit card limit\n",
    "# transactions = pd.merge(temp,holders.loc[:,['credit_limit']],how='left',left_on='credit_card',right_index=True)\n",
    "# transactions.tail()"
   ]
  },
  {
   "cell_type": "code",
   "execution_count": 26,
   "metadata": {},
   "outputs": [
    {
     "data": {
      "text/html": [
       "<div>\n",
       "<style>\n",
       "    .dataframe thead tr:only-child th {\n",
       "        text-align: right;\n",
       "    }\n",
       "\n",
       "    .dataframe thead th {\n",
       "        text-align: left;\n",
       "    }\n",
       "\n",
       "    .dataframe tbody tr th {\n",
       "        vertical-align: top;\n",
       "    }\n",
       "</style>\n",
       "<table border=\"1\" class=\"dataframe\">\n",
       "  <thead>\n",
       "    <tr style=\"text-align: right;\">\n",
       "      <th></th>\n",
       "      <th>amount</th>\n",
       "      <th>25%</th>\n",
       "      <th>50%</th>\n",
       "      <th>75%</th>\n",
       "      <th>credit_limit</th>\n",
       "    </tr>\n",
       "  </thead>\n",
       "  <tbody>\n",
       "    <tr>\n",
       "      <th>0</th>\n",
       "      <td>43.78</td>\n",
       "      <td>59.01</td>\n",
       "      <td>93.73</td>\n",
       "      <td>124.63</td>\n",
       "      <td>20000</td>\n",
       "    </tr>\n",
       "    <tr>\n",
       "      <th>1</th>\n",
       "      <td>103.15</td>\n",
       "      <td>59.01</td>\n",
       "      <td>93.73</td>\n",
       "      <td>124.63</td>\n",
       "      <td>20000</td>\n",
       "    </tr>\n",
       "    <tr>\n",
       "      <th>2</th>\n",
       "      <td>48.55</td>\n",
       "      <td>59.01</td>\n",
       "      <td>93.73</td>\n",
       "      <td>124.63</td>\n",
       "      <td>20000</td>\n",
       "    </tr>\n",
       "    <tr>\n",
       "      <th>3</th>\n",
       "      <td>136.18</td>\n",
       "      <td>59.01</td>\n",
       "      <td>93.73</td>\n",
       "      <td>124.63</td>\n",
       "      <td>20000</td>\n",
       "    </tr>\n",
       "    <tr>\n",
       "      <th>4</th>\n",
       "      <td>71.82</td>\n",
       "      <td>59.01</td>\n",
       "      <td>93.73</td>\n",
       "      <td>124.63</td>\n",
       "      <td>20000</td>\n",
       "    </tr>\n",
       "  </tbody>\n",
       "</table>\n",
       "</div>"
      ],
      "text/plain": [
       "   amount    25%    50%     75%  credit_limit\n",
       "0   43.78  59.01  93.73  124.63         20000\n",
       "1  103.15  59.01  93.73  124.63         20000\n",
       "2   48.55  59.01  93.73  124.63         20000\n",
       "3  136.18  59.01  93.73  124.63         20000\n",
       "4   71.82  59.01  93.73  124.63         20000"
      ]
     },
     "execution_count": 26,
     "metadata": {},
     "output_type": "execute_result"
    }
   ],
   "source": [
    "# # keep the relevant features\n",
    "# X = transactions.loc[:, ['amount', '25%', '50%', '75%', 'credit_limit']]\n",
    "# X.head()"
   ]
  },
  {
   "cell_type": "code",
   "execution_count": 27,
   "metadata": {},
   "outputs": [
    {
     "data": {
      "text/html": [
       "<div>\n",
       "<style>\n",
       "    .dataframe thead tr:only-child th {\n",
       "        text-align: right;\n",
       "    }\n",
       "\n",
       "    .dataframe thead th {\n",
       "        text-align: left;\n",
       "    }\n",
       "\n",
       "    .dataframe tbody tr th {\n",
       "        vertical-align: top;\n",
       "    }\n",
       "</style>\n",
       "<table border=\"1\" class=\"dataframe\">\n",
       "  <thead>\n",
       "    <tr style=\"text-align: right;\">\n",
       "      <th></th>\n",
       "      <th>amount</th>\n",
       "      <th>25%</th>\n",
       "      <th>50%</th>\n",
       "      <th>75%</th>\n",
       "      <th>credit_limit</th>\n",
       "    </tr>\n",
       "  </thead>\n",
       "  <tbody>\n",
       "    <tr>\n",
       "      <th>count</th>\n",
       "      <td>294588.000000</td>\n",
       "      <td>294588.000000</td>\n",
       "      <td>294588.000000</td>\n",
       "      <td>294588.000000</td>\n",
       "      <td>294588.000000</td>\n",
       "    </tr>\n",
       "    <tr>\n",
       "      <th>mean</th>\n",
       "      <td>86.008036</td>\n",
       "      <td>43.265113</td>\n",
       "      <td>69.081697</td>\n",
       "      <td>97.282645</td>\n",
       "      <td>15502.053716</td>\n",
       "    </tr>\n",
       "    <tr>\n",
       "      <th>std</th>\n",
       "      <td>124.655954</td>\n",
       "      <td>21.471896</td>\n",
       "      <td>35.160028</td>\n",
       "      <td>49.919646</td>\n",
       "      <td>7956.291556</td>\n",
       "    </tr>\n",
       "    <tr>\n",
       "      <th>min</th>\n",
       "      <td>0.010000</td>\n",
       "      <td>6.150000</td>\n",
       "      <td>7.320000</td>\n",
       "      <td>9.120000</td>\n",
       "      <td>2000.000000</td>\n",
       "    </tr>\n",
       "    <tr>\n",
       "      <th>25%</th>\n",
       "      <td>29.970000</td>\n",
       "      <td>27.960000</td>\n",
       "      <td>43.590000</td>\n",
       "      <td>60.812500</td>\n",
       "      <td>10000.000000</td>\n",
       "    </tr>\n",
       "    <tr>\n",
       "      <th>50%</th>\n",
       "      <td>58.470000</td>\n",
       "      <td>40.595000</td>\n",
       "      <td>65.190000</td>\n",
       "      <td>91.832500</td>\n",
       "      <td>15000.000000</td>\n",
       "    </tr>\n",
       "    <tr>\n",
       "      <th>75%</th>\n",
       "      <td>100.400000</td>\n",
       "      <td>56.215000</td>\n",
       "      <td>89.710000</td>\n",
       "      <td>127.345000</td>\n",
       "      <td>20000.000000</td>\n",
       "    </tr>\n",
       "    <tr>\n",
       "      <th>max</th>\n",
       "      <td>999.970000</td>\n",
       "      <td>137.690000</td>\n",
       "      <td>222.290000</td>\n",
       "      <td>318.730000</td>\n",
       "      <td>55000.000000</td>\n",
       "    </tr>\n",
       "  </tbody>\n",
       "</table>\n",
       "</div>"
      ],
      "text/plain": [
       "              amount            25%            50%            75%  \\\n",
       "count  294588.000000  294588.000000  294588.000000  294588.000000   \n",
       "mean       86.008036      43.265113      69.081697      97.282645   \n",
       "std       124.655954      21.471896      35.160028      49.919646   \n",
       "min         0.010000       6.150000       7.320000       9.120000   \n",
       "25%        29.970000      27.960000      43.590000      60.812500   \n",
       "50%        58.470000      40.595000      65.190000      91.832500   \n",
       "75%       100.400000      56.215000      89.710000     127.345000   \n",
       "max       999.970000     137.690000     222.290000     318.730000   \n",
       "\n",
       "        credit_limit  \n",
       "count  294588.000000  \n",
       "mean    15502.053716  \n",
       "std      7956.291556  \n",
       "min      2000.000000  \n",
       "25%     10000.000000  \n",
       "50%     15000.000000  \n",
       "75%     20000.000000  \n",
       "max     55000.000000  "
      ]
     },
     "execution_count": 27,
     "metadata": {},
     "output_type": "execute_result"
    }
   ],
   "source": [
    "# X.describe()"
   ]
  },
  {
   "cell_type": "code",
   "execution_count": 29,
   "metadata": {
    "collapsed": true
   },
   "outputs": [],
   "source": [
    "# reduce X to 2D to get some hint. \n",
    "# credit card limit has much higher variance. \n",
    "# scale all features to unit variance before applying PCA. if not\n",
    "# pca will be highly aligned towards credit_limit\n",
    "# X = scale(X)"
   ]
  },
  {
   "cell_type": "code",
   "execution_count": 35,
   "metadata": {},
   "outputs": [
    {
     "data": {
      "text/html": [
       "<div>\n",
       "<style>\n",
       "    .dataframe thead tr:only-child th {\n",
       "        text-align: right;\n",
       "    }\n",
       "\n",
       "    .dataframe thead th {\n",
       "        text-align: left;\n",
       "    }\n",
       "\n",
       "    .dataframe tbody tr th {\n",
       "        vertical-align: top;\n",
       "    }\n",
       "</style>\n",
       "<table border=\"1\" class=\"dataframe\">\n",
       "  <thead>\n",
       "    <tr style=\"text-align: right;\">\n",
       "      <th></th>\n",
       "      <th>pc1</th>\n",
       "      <th>pc2</th>\n",
       "    </tr>\n",
       "  </thead>\n",
       "  <tbody>\n",
       "    <tr>\n",
       "      <th>0</th>\n",
       "      <td>1.184559</td>\n",
       "      <td>-0.583757</td>\n",
       "    </tr>\n",
       "    <tr>\n",
       "      <th>1</th>\n",
       "      <td>1.277856</td>\n",
       "      <td>-0.117918</td>\n",
       "    </tr>\n",
       "    <tr>\n",
       "      <th>2</th>\n",
       "      <td>1.192055</td>\n",
       "      <td>-0.546330</td>\n",
       "    </tr>\n",
       "    <tr>\n",
       "      <th>3</th>\n",
       "      <td>1.329760</td>\n",
       "      <td>0.141247</td>\n",
       "    </tr>\n",
       "    <tr>\n",
       "      <th>4</th>\n",
       "      <td>1.228622</td>\n",
       "      <td>-0.363745</td>\n",
       "    </tr>\n",
       "  </tbody>\n",
       "</table>\n",
       "</div>"
      ],
      "text/plain": [
       "        pc1       pc2\n",
       "0  1.184559 -0.583757\n",
       "1  1.277856 -0.117918\n",
       "2  1.192055 -0.546330\n",
       "3  1.329760  0.141247\n",
       "4  1.228622 -0.363745"
      ]
     },
     "execution_count": 35,
     "metadata": {},
     "output_type": "execute_result"
    }
   ],
   "source": [
    "# # use pca to reduce feature matrix to 2D\n",
    "# pca = PCA(n_components=2)\n",
    "# X2d = pca.fit_transform(X)\n",
    "# X2d = pd.DataFrame(X2d, columns=['pc1', 'pc2'])\n",
    "# X2d.head()"
   ]
  },
  {
   "cell_type": "code",
   "execution_count": 39,
   "metadata": {},
   "outputs": [
    {
     "data": {
      "text/plain": [
       "<matplotlib.collections.PathCollection at 0x7fa68fa6f410>"
      ]
     },
     "execution_count": 39,
     "metadata": {},
     "output_type": "execute_result"
    },
    {
     "data": {
      "image/png": "[encoded data removed]",
      "text/plain": [
       "<matplotlib.figure.Figure at 0x7fa68fae4890>"
      ]
     },
     "metadata": {},
     "output_type": "display_data"
    }
   ],
   "source": [
    "# plt.scatter(X2d['pc1'], X2d['pc2'], alpha=0.3)"
   ]
  },
  {
   "cell_type": "code",
   "execution_count": 40,
   "metadata": {},
   "outputs": [
    {
     "data": {
      "text/plain": [
       "KMeans(algorithm='auto', copy_x=True, init='k-means++', max_iter=300,\n",
       "    n_clusters=6, n_init=10, n_jobs=-1, precompute_distances='auto',\n",
       "    random_state=None, tol=0.0001, verbose=0)"
      ]
     },
     "execution_count": 40,
     "metadata": {},
     "output_type": "execute_result"
    }
   ],
   "source": [
    "# n_clusters = 6\n",
    "# kmeans = KMeans(n_clusters=n_clusters,n_jobs=-1)\n",
    "# kmeans.fit(X)"
   ]
  },
  {
   "cell_type": "code",
   "execution_count": 41,
   "metadata": {},
   "outputs": [
    {
     "name": "stdout",
     "output_type": "stream",
     "text": [
      "3    107634\n",
      "4     73476\n",
      "5     49133\n",
      "0     33069\n",
      "1     25840\n",
      "2      5436\n",
      "Name: label, dtype: int64\n"
     ]
    }
   ],
   "source": [
    "# X2d['label'] = kmeans.labels_\n",
    "# print X2d.label.value_counts()"
   ]
  },
  {
   "cell_type": "code",
   "execution_count": 42,
   "metadata": {},
   "outputs": [
    {
     "data": {
      "text/plain": [
       "<matplotlib.legend.Legend at 0x7fa69011bcd0>"
      ]
     },
     "execution_count": 42,
     "metadata": {},
     "output_type": "execute_result"
    },
    {
     "data": {
      "image/png": "[encoded data removed]",
      "text/plain": [
       "<matplotlib.figure.Figure at 0x7fa68fa91d90>"
      ]
     },
     "metadata": {},
     "output_type": "display_data"
    }
   ],
   "source": [
    "# colors = itertools.cycle( ['r','g','b','c','m','y','k'] )\n",
    "\n",
    "# plt.rc('figure',figsize=(10,6))\n",
    "# for label in  xrange(n_clusters) :\n",
    "#     temp = X2d.loc[X2d.label == label,:]\n",
    "#     plt.scatter(temp.pc1,temp.pc2,c=next(colors),label=label,alpha=0.3)\n",
    "\n",
    "# plt.legend(loc='best')"
   ]
  },
  {
   "cell_type": "code",
   "execution_count": 43,
   "metadata": {},
   "outputs": [
    {
     "data": {
      "text/html": [
       "<div>\n",
       "<style>\n",
       "    .dataframe thead tr:only-child th {\n",
       "        text-align: right;\n",
       "    }\n",
       "\n",
       "    .dataframe thead th {\n",
       "        text-align: left;\n",
       "    }\n",
       "\n",
       "    .dataframe tbody tr th {\n",
       "        vertical-align: top;\n",
       "    }\n",
       "</style>\n",
       "<table border=\"1\" class=\"dataframe\">\n",
       "  <thead>\n",
       "    <tr style=\"text-align: right;\">\n",
       "      <th></th>\n",
       "      <th>pc1</th>\n",
       "      <th>pc2</th>\n",
       "      <th>label</th>\n",
       "    </tr>\n",
       "  </thead>\n",
       "  <tbody>\n",
       "    <tr>\n",
       "      <th>0</th>\n",
       "      <td>1.184559</td>\n",
       "      <td>-0.583757</td>\n",
       "      <td>5</td>\n",
       "    </tr>\n",
       "    <tr>\n",
       "      <th>1</th>\n",
       "      <td>1.277856</td>\n",
       "      <td>-0.117918</td>\n",
       "      <td>5</td>\n",
       "    </tr>\n",
       "    <tr>\n",
       "      <th>2</th>\n",
       "      <td>1.192055</td>\n",
       "      <td>-0.546330</td>\n",
       "      <td>5</td>\n",
       "    </tr>\n",
       "    <tr>\n",
       "      <th>3</th>\n",
       "      <td>1.329760</td>\n",
       "      <td>0.141247</td>\n",
       "      <td>5</td>\n",
       "    </tr>\n",
       "    <tr>\n",
       "      <th>4</th>\n",
       "      <td>1.228622</td>\n",
       "      <td>-0.363745</td>\n",
       "      <td>5</td>\n",
       "    </tr>\n",
       "  </tbody>\n",
       "</table>\n",
       "</div>"
      ],
      "text/plain": [
       "        pc1       pc2  label\n",
       "0  1.184559 -0.583757      5\n",
       "1  1.277856 -0.117918      5\n",
       "2  1.192055 -0.546330      5\n",
       "3  1.329760  0.141247      5\n",
       "4  1.228622 -0.363745      5"
      ]
     },
     "execution_count": 43,
     "metadata": {},
     "output_type": "execute_result"
    }
   ],
   "source": [
    "# X2d.head()"
   ]
  },
  {
   "cell_type": "code",
   "execution_count": 48,
   "metadata": {},
   "outputs": [
    {
     "data": {
      "text/plain": [
       "2"
      ]
     },
     "execution_count": 48,
     "metadata": {},
     "output_type": "execute_result"
    }
   ],
   "source": [
    "# suspicious_label = X2d.label.value_counts().argmin()\n",
    "# suspicious_label"
   ]
  },
  {
   "cell_type": "code",
   "execution_count": 45,
   "metadata": {
    "collapsed": true
   },
   "outputs": [],
   "source": [
    "# suspect = transactions.loc[X2d.label==suspicious_label,['credit_card','amount','25%','50%','75%','credit_limit','date']]\n",
    "# suspect.to_csv('suspect.csv',index=False)"
   ]
  },
  {
   "cell_type": "code",
   "execution_count": 46,
   "metadata": {},
   "outputs": [
    {
     "data": {
      "text/plain": [
       "<matplotlib.legend.Legend at 0x7fa68fa82d90>"
      ]
     },
     "execution_count": 46,
     "metadata": {},
     "output_type": "execute_result"
    },
    {
     "data": {
      "image/png": "[encoded data removed]",
      "text/plain": [
       "<matplotlib.figure.Figure at 0x7fa68fa82e90>"
      ]
     },
     "metadata": {},
     "output_type": "display_data"
    }
   ],
   "source": [
    "# labels = [\"amount\",'75%']\n",
    "# plt.hist(suspect.loc[:,labels].values,bins=50,label=labels)\n",
    "# plt.legend(loc='best')"
   ]
  }
 ],
 "metadata": {
  "kernelspec": {
   "display_name": "Python 2",
   "language": "python",
   "name": "python2"
  },
  "language_info": {
   "codemirror_mode": {
    "name": "ipython",
    "version": 2
   },
   "file_extension": ".py",
   "mimetype": "text/x-python",
   "name": "python",
   "nbconvert_exporter": "python",
   "pygments_lexer": "ipython2",
   "version": "2.7.13"
  }
 },
 "nbformat": 4,
 "nbformat_minor": 2
}
