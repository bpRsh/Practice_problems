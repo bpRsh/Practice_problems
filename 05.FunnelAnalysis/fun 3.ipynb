{
 "cells": [
  {
   "cell_type": "markdown",
   "metadata": {},
   "source": [
    "# Funnel Analysis\n",
    "\n",
    "This exercise performs funnel analysis for an e-commerce website using hypothetical data.\n",
    "\n",
    "The goal of this challange are the following:\n",
    "\n",
    "* The CEO is not very happy with volume of sales, especially coming from new users. Therefore she asked you to investigate if there is something wrong in the conversion funnel. \n",
    "\n",
    "\n",
    "* Specifically, she is interested in the following:\n",
    "    * A full picture of funnel conversion rate for both desktop and mobile\n",
    "    * Some insights on what the product team should focus on in order to improve conversion rate as well as any other aspect of the data that could help the product team improve\n",
    "    \n",
    "## Data Engineering\n",
    "\n",
    "Let's start by importing necessary packages and uploading the dataset."
   ]
  },
  {
   "cell_type": "code",
   "execution_count": 40,
   "metadata": {
    "collapsed": false
   },
   "outputs": [],
   "source": [
    "# import Python packages\n",
    "import numpy as np\n",
    "import pandas as pd\n",
    "import matplotlib.pyplot as plt\n",
    "%matplotlib inline\n",
    "from sklearn import tree\n",
    "from scipy import stats"
   ]
  },
  {
   "cell_type": "code",
   "execution_count": 2,
   "metadata": {
    "collapsed": true
   },
   "outputs": [],
   "source": [
    "# import the dataset\n",
    "user = pd.read_csv(\"user_table.csv\")\n",
    "home = pd.read_csv(\"home_page_table.csv\")\n",
    "search = pd.read_csv(\"search_page_table.csv\")\n",
    "payment = pd.read_csv(\"payment_page_table.csv\")\n",
    "payment_confirmation = pd.read_csv(\"payment_confirmation_table.csv\")"
   ]
  },
  {
   "cell_type": "code",
   "execution_count": 3,
   "metadata": {
    "collapsed": false,
    "scrolled": true
   },
   "outputs": [
    {
     "data": {
      "text/html": [
       "<div>\n",
       "<table border=\"1\" class=\"dataframe\">\n",
       "  <thead>\n",
       "    <tr style=\"text-align: right;\">\n",
       "      <th></th>\n",
       "      <th>user_id</th>\n",
       "      <th>page</th>\n",
       "    </tr>\n",
       "  </thead>\n",
       "  <tbody>\n",
       "    <tr>\n",
       "      <th>0</th>\n",
       "      <td>123100</td>\n",
       "      <td>payment_confirmation_page</td>\n",
       "    </tr>\n",
       "    <tr>\n",
       "      <th>1</th>\n",
       "      <td>704999</td>\n",
       "      <td>payment_confirmation_page</td>\n",
       "    </tr>\n",
       "    <tr>\n",
       "      <th>2</th>\n",
       "      <td>407188</td>\n",
       "      <td>payment_confirmation_page</td>\n",
       "    </tr>\n",
       "    <tr>\n",
       "      <th>3</th>\n",
       "      <td>538348</td>\n",
       "      <td>payment_confirmation_page</td>\n",
       "    </tr>\n",
       "    <tr>\n",
       "      <th>4</th>\n",
       "      <td>841681</td>\n",
       "      <td>payment_confirmation_page</td>\n",
       "    </tr>\n",
       "  </tbody>\n",
       "</table>\n",
       "</div>"
      ],
      "text/plain": [
       "   user_id                       page\n",
       "0   123100  payment_confirmation_page\n",
       "1   704999  payment_confirmation_page\n",
       "2   407188  payment_confirmation_page\n",
       "3   538348  payment_confirmation_page\n",
       "4   841681  payment_confirmation_page"
      ]
     },
     "execution_count": 3,
     "metadata": {},
     "output_type": "execute_result"
    }
   ],
   "source": [
    "payment_confirmation.head()"
   ]
  },
  {
   "cell_type": "code",
   "execution_count": 89,
   "metadata": {
    "collapsed": false,
    "scrolled": true
   },
   "outputs": [
    {
     "data": {
      "text/plain": [
       "90400"
      ]
     },
     "execution_count": 89,
     "metadata": {},
     "output_type": "execute_result"
    }
   ],
   "source": [
    "len(user[\"user_id\"].unique())"
   ]
  },
  {
   "cell_type": "markdown",
   "metadata": {},
   "source": [
    "Ok, so we have 90400 total users, 45200 that went to search page, 6029 that went to payment page, and 452 that actualy bought the product. *The exercise statement states that the user_id's are all unique, but let's check this. Also, let's check if any users have impossible data (says visted payment page but did not visit search page, for example).*\n",
    "\n",
    "But before looking further into the data, let's join all the tables into one table, with columns representing how far each user made in the funnel process. For example, we need a table for \"home_page\", \"search_page\", \"payment_page\", and \"payment_confirmation\" that are binary. \n",
    "\n",
    "To do this, we need to join all the tables via **user_id** key."
   ]
  },
  {
   "cell_type": "code",
   "execution_count": 4,
   "metadata": {
    "collapsed": false
   },
   "outputs": [],
   "source": [
    "# outer join with user table all other tables by \"user_id\" key\n",
    "dfs = [user, home, search, payment, payment_confirmation]\n",
    "col = ['user_id']\n",
    "funnel = pd.concat( [d.set_index(col) for d in dfs], axis=1 ).reset_index()\n",
    "funnel.columns = ['user_id','date','device','sex','home_page','search_page',\n",
    "                  'payment_page','payment_confirmation']\n",
    "funnel = funnel.fillna(0)"
   ]
  },
  {
   "cell_type": "code",
   "execution_count": 5,
   "metadata": {
    "collapsed": false,
    "scrolled": true
   },
   "outputs": [
    {
     "data": {
      "text/html": [
       "<div>\n",
       "<table border=\"1\" class=\"dataframe\">\n",
       "  <thead>\n",
       "    <tr style=\"text-align: right;\">\n",
       "      <th></th>\n",
       "      <th>user_id</th>\n",
       "      <th>date</th>\n",
       "      <th>device</th>\n",
       "      <th>sex</th>\n",
       "      <th>home_page</th>\n",
       "      <th>search_page</th>\n",
       "      <th>payment_page</th>\n",
       "      <th>payment_confirmation</th>\n",
       "    </tr>\n",
       "  </thead>\n",
       "  <tbody>\n",
       "    <tr>\n",
       "      <th>0</th>\n",
       "      <td>17</td>\n",
       "      <td>2015-04-21</td>\n",
       "      <td>Desktop</td>\n",
       "      <td>Male</td>\n",
       "      <td>home_page</td>\n",
       "      <td>search_page</td>\n",
       "      <td>0</td>\n",
       "      <td>0</td>\n",
       "    </tr>\n",
       "    <tr>\n",
       "      <th>1</th>\n",
       "      <td>28</td>\n",
       "      <td>2015-04-29</td>\n",
       "      <td>Desktop</td>\n",
       "      <td>Male</td>\n",
       "      <td>home_page</td>\n",
       "      <td>0</td>\n",
       "      <td>0</td>\n",
       "      <td>0</td>\n",
       "    </tr>\n",
       "    <tr>\n",
       "      <th>2</th>\n",
       "      <td>37</td>\n",
       "      <td>2015-02-21</td>\n",
       "      <td>Mobile</td>\n",
       "      <td>Male</td>\n",
       "      <td>home_page</td>\n",
       "      <td>search_page</td>\n",
       "      <td>0</td>\n",
       "      <td>0</td>\n",
       "    </tr>\n",
       "    <tr>\n",
       "      <th>3</th>\n",
       "      <td>38</td>\n",
       "      <td>2015-03-23</td>\n",
       "      <td>Mobile</td>\n",
       "      <td>Female</td>\n",
       "      <td>home_page</td>\n",
       "      <td>search_page</td>\n",
       "      <td>payment_page</td>\n",
       "      <td>0</td>\n",
       "    </tr>\n",
       "    <tr>\n",
       "      <th>4</th>\n",
       "      <td>55</td>\n",
       "      <td>2015-02-01</td>\n",
       "      <td>Desktop</td>\n",
       "      <td>Male</td>\n",
       "      <td>home_page</td>\n",
       "      <td>0</td>\n",
       "      <td>0</td>\n",
       "      <td>0</td>\n",
       "    </tr>\n",
       "  </tbody>\n",
       "</table>\n",
       "</div>"
      ],
      "text/plain": [
       "   user_id        date   device     sex  home_page  search_page  payment_page  \\\n",
       "0       17  2015-04-21  Desktop    Male  home_page  search_page             0   \n",
       "1       28  2015-04-29  Desktop    Male  home_page            0             0   \n",
       "2       37  2015-02-21   Mobile    Male  home_page  search_page             0   \n",
       "3       38  2015-03-23   Mobile  Female  home_page  search_page  payment_page   \n",
       "4       55  2015-02-01  Desktop    Male  home_page            0             0   \n",
       "\n",
       "  payment_confirmation  \n",
       "0                    0  \n",
       "1                    0  \n",
       "2                    0  \n",
       "3                    0  \n",
       "4                    0  "
      ]
     },
     "execution_count": 5,
     "metadata": {},
     "output_type": "execute_result"
    }
   ],
   "source": [
    "funnel.head()"
   ]
  },
  {
   "cell_type": "markdown",
   "metadata": {
    "collapsed": false
   },
   "source": [
    "Great, our dataset is complete. Now let's look into the dataset for more insight. Let's look at portion of **device** and **sex** in each group of users that reach the next stage in funnel."
   ]
  },
  {
   "cell_type": "code",
   "execution_count": 6,
   "metadata": {
    "collapsed": false,
    "scrolled": true
   },
   "outputs": [],
   "source": [
    "# replace categorical values in home_page, search_page, payment_page, and payment_confirmation\n",
    "# to numerical\n",
    "funnel['home_page'].replace('home_page', 1, inplace=True)\n",
    "funnel['search_page'].replace('search_page', 1, inplace=True)\n",
    "funnel['payment_page'].replace('payment_page', 1, inplace=True)\n",
    "funnel['payment_confirmation'].replace('payment_confirmation_page', 1, inplace=True)\n",
    "funnel.head(10)\n",
    "\n",
    "# change date column to datetime \n",
    "funnel['date'] = pd.to_datetime(funnel['date'],unit='D')"
   ]
  },
  {
   "cell_type": "markdown",
   "metadata": {},
   "source": [
    "Now check to mak sure the dataset makes sense (check for impossible data)."
   ]
  },
  {
   "cell_type": "code",
   "execution_count": 115,
   "metadata": {
    "collapsed": false,
    "scrolled": true
   },
   "outputs": [
    {
     "name": "stdout",
     "output_type": "stream",
     "text": [
      "Total number of users: 90400\n",
      "Visted payment page but not search_page (should be 0): 0\n",
      "Visted payment confirmation page but not searchor payment page(should be 0): 0\n"
     ]
    }
   ],
   "source": [
    "invalid_payment_page = len(funnel[ (funnel[\"search_page\"] == 0) & (funnel[\"payment_page\"] == 1) ])\n",
    "invalid_payment_confirm = len(funnel[ (funnel[\"payment_confirmation\"]) & \\\n",
    "                                     ( (funnel[\"search_page\"] == 0) | (funnel[\"payment_page\"] == 0)) ] )\n",
    "\n",
    "# outputs\n",
    "print \"Total number of users:\", len(funnel)\n",
    "print \"Visted payment page but not search_page (should be 0):\", invalid_payment_page\n",
    "print \"Visted payment confirmation page but not searchor payment page(should be 0):\", invalid_payment_confirm"
   ]
  },
  {
   "cell_type": "markdown",
   "metadata": {},
   "source": [
    "Ok, so the dataset does not have any impossible points, and is what the exercise statement states."
   ]
  },
  {
   "cell_type": "markdown",
   "metadata": {},
   "source": [
    "## Data Exploration and Visualization\n",
    "\n",
    "Let's take a quick look at the data and check some important assumptions. Things to check include: what fraction of users go through each part of the funnel process, how sex/device affects the funnel process, and if the CEO's assertions that newer users' lack of conversion is true. "
   ]
  },
  {
   "cell_type": "code",
   "execution_count": 72,
   "metadata": {
    "collapsed": false
   },
   "outputs": [
    {
     "data": {
      "text/html": [
       "<div>\n",
       "<table border=\"1\" class=\"dataframe\">\n",
       "  <thead>\n",
       "    <tr style=\"text-align: right;\">\n",
       "      <th></th>\n",
       "      <th>device</th>\n",
       "      <th>user_id</th>\n",
       "      <th>home_page</th>\n",
       "      <th>search_page</th>\n",
       "      <th>payment_page</th>\n",
       "      <th>payment_confirmation</th>\n",
       "    </tr>\n",
       "  </thead>\n",
       "  <tbody>\n",
       "    <tr>\n",
       "      <th>0</th>\n",
       "      <td>Desktop</td>\n",
       "      <td>498484.582492</td>\n",
       "      <td>1.0</td>\n",
       "      <td>0.5</td>\n",
       "      <td>0.05</td>\n",
       "      <td>0.002492</td>\n",
       "    </tr>\n",
       "    <tr>\n",
       "      <th>1</th>\n",
       "      <td>Mobile</td>\n",
       "      <td>499158.394702</td>\n",
       "      <td>1.0</td>\n",
       "      <td>0.5</td>\n",
       "      <td>0.10</td>\n",
       "      <td>0.010000</td>\n",
       "    </tr>\n",
       "  </tbody>\n",
       "</table>\n",
       "</div>"
      ],
      "text/plain": [
       "    device        user_id  home_page  search_page  payment_page  \\\n",
       "0  Desktop  498484.582492        1.0          0.5          0.05   \n",
       "1   Mobile  499158.394702        1.0          0.5          0.10   \n",
       "\n",
       "   payment_confirmation  \n",
       "0              0.002492  \n",
       "1              0.010000  "
      ]
     },
     "execution_count": 72,
     "metadata": {},
     "output_type": "execute_result"
    }
   ],
   "source": [
    "funnel.groupby('device').mean().reset_index()"
   ]
  },
  {
   "cell_type": "code",
   "execution_count": 116,
   "metadata": {
    "collapsed": false
   },
   "outputs": [
    {
     "data": {
      "text/html": [
       "<div>\n",
       "<table border=\"1\" class=\"dataframe\">\n",
       "  <thead>\n",
       "    <tr style=\"text-align: right;\">\n",
       "      <th></th>\n",
       "      <th>device</th>\n",
       "      <th>user_id</th>\n",
       "      <th>date</th>\n",
       "      <th>sex</th>\n",
       "      <th>home_page</th>\n",
       "      <th>search_page</th>\n",
       "      <th>payment_page</th>\n",
       "      <th>payment_confirmation</th>\n",
       "    </tr>\n",
       "  </thead>\n",
       "  <tbody>\n",
       "    <tr>\n",
       "      <th>0</th>\n",
       "      <td>Desktop</td>\n",
       "      <td>60200</td>\n",
       "      <td>60200</td>\n",
       "      <td>60200</td>\n",
       "      <td>60200</td>\n",
       "      <td>60200</td>\n",
       "      <td>60200</td>\n",
       "      <td>60200</td>\n",
       "    </tr>\n",
       "    <tr>\n",
       "      <th>1</th>\n",
       "      <td>Mobile</td>\n",
       "      <td>30200</td>\n",
       "      <td>30200</td>\n",
       "      <td>30200</td>\n",
       "      <td>30200</td>\n",
       "      <td>30200</td>\n",
       "      <td>30200</td>\n",
       "      <td>30200</td>\n",
       "    </tr>\n",
       "  </tbody>\n",
       "</table>\n",
       "</div>"
      ],
      "text/plain": [
       "    device  user_id   date    sex  home_page  search_page  payment_page  \\\n",
       "0  Desktop    60200  60200  60200      60200        60200         60200   \n",
       "1   Mobile    30200  30200  30200      30200        30200         30200   \n",
       "\n",
       "   payment_confirmation  \n",
       "0                 60200  \n",
       "1                 30200  "
      ]
     },
     "execution_count": 116,
     "metadata": {},
     "output_type": "execute_result"
    }
   ],
   "source": [
    "funnel.groupby('device').count().reset_index()"
   ]
  },
  {
   "cell_type": "code",
   "execution_count": 8,
   "metadata": {
    "collapsed": false
   },
   "outputs": [
    {
     "data": {
      "text/html": [
       "<div>\n",
       "<table border=\"1\" class=\"dataframe\">\n",
       "  <thead>\n",
       "    <tr style=\"text-align: right;\">\n",
       "      <th></th>\n",
       "      <th>sex</th>\n",
       "      <th>user_id</th>\n",
       "      <th>home_page</th>\n",
       "      <th>search_page</th>\n",
       "      <th>payment_page</th>\n",
       "      <th>payment_confirmation</th>\n",
       "    </tr>\n",
       "  </thead>\n",
       "  <tbody>\n",
       "    <tr>\n",
       "      <th>0</th>\n",
       "      <td>Female</td>\n",
       "      <td>498423.518358</td>\n",
       "      <td>1.0</td>\n",
       "      <td>0.503073</td>\n",
       "      <td>0.068774</td>\n",
       "      <td>0.005347</td>\n",
       "    </tr>\n",
       "    <tr>\n",
       "      <th>1</th>\n",
       "      <td>Male</td>\n",
       "      <td>498994.270182</td>\n",
       "      <td>1.0</td>\n",
       "      <td>0.496944</td>\n",
       "      <td>0.064644</td>\n",
       "      <td>0.004655</td>\n",
       "    </tr>\n",
       "  </tbody>\n",
       "</table>\n",
       "</div>"
      ],
      "text/plain": [
       "      sex        user_id  home_page  search_page  payment_page  \\\n",
       "0  Female  498423.518358        1.0     0.503073      0.068774   \n",
       "1    Male  498994.270182        1.0     0.496944      0.064644   \n",
       "\n",
       "   payment_confirmation  \n",
       "0              0.005347  \n",
       "1              0.004655  "
      ]
     },
     "execution_count": 8,
     "metadata": {},
     "output_type": "execute_result"
    }
   ],
   "source": [
    "funnel.groupby('sex').mean().reset_index()"
   ]
  },
  {
   "cell_type": "markdown",
   "metadata": {},
   "source": [
    "We can already answer one of the CEO's questions here regarding difference between mobile and desktop users.\n",
    "\n",
    "**Mobile users do much better than desktop users in getting to the payment page. And once there, mobile users are also more likely to convert than desktop users.** \n",
    "\n",
    "**There are almost twice as many desktop users as mobile users! This is a worrisome stat, as mobile users convert twice as much as deskop users. Also, most of future growth is likely to come from mobile users in the e-commernce industry.**\n",
    "\n",
    "The data also shows that women are more likely to convert, although the differences are small. Is this difference statistically significant? We can check by doing a simple t-test. First, let's explore the data bit more and perform this t-test after completing the feature enigneering. "
   ]
  },
  {
   "cell_type": "markdown",
   "metadata": {},
   "source": [
    "What does the data look like based on time?"
   ]
  },
  {
   "cell_type": "code",
   "execution_count": 9,
   "metadata": {
    "collapsed": false,
    "scrolled": true
   },
   "outputs": [
    {
     "data": {
      "text/html": [
       "<div>\n",
       "<table border=\"1\" class=\"dataframe\">\n",
       "  <thead>\n",
       "    <tr style=\"text-align: right;\">\n",
       "      <th></th>\n",
       "      <th>device</th>\n",
       "      <th>sex</th>\n",
       "    </tr>\n",
       "  </thead>\n",
       "  <tbody>\n",
       "    <tr>\n",
       "      <th>count</th>\n",
       "      <td>90400</td>\n",
       "      <td>90400</td>\n",
       "    </tr>\n",
       "    <tr>\n",
       "      <th>unique</th>\n",
       "      <td>2</td>\n",
       "      <td>2</td>\n",
       "    </tr>\n",
       "    <tr>\n",
       "      <th>top</th>\n",
       "      <td>Desktop</td>\n",
       "      <td>Male</td>\n",
       "    </tr>\n",
       "    <tr>\n",
       "      <th>freq</th>\n",
       "      <td>60200</td>\n",
       "      <td>45325</td>\n",
       "    </tr>\n",
       "  </tbody>\n",
       "</table>\n",
       "</div>"
      ],
      "text/plain": [
       "         device    sex\n",
       "count     90400  90400\n",
       "unique        2      2\n",
       "top     Desktop   Male\n",
       "freq      60200  45325"
      ]
     },
     "execution_count": 9,
     "metadata": {},
     "output_type": "execute_result"
    }
   ],
   "source": [
    "funnel.describe(include=[np.object])"
   ]
  },
  {
   "cell_type": "code",
   "execution_count": 10,
   "metadata": {
    "collapsed": false,
    "scrolled": true
   },
   "outputs": [
    {
     "data": {
      "text/html": [
       "<div>\n",
       "<table border=\"1\" class=\"dataframe\">\n",
       "  <thead>\n",
       "    <tr style=\"text-align: right;\">\n",
       "      <th></th>\n",
       "      <th>user_id</th>\n",
       "      <th>home_page</th>\n",
       "      <th>search_page</th>\n",
       "      <th>payment_page</th>\n",
       "      <th>payment_confirmation</th>\n",
       "    </tr>\n",
       "  </thead>\n",
       "  <tbody>\n",
       "    <tr>\n",
       "      <th>count</th>\n",
       "      <td>90400.000000</td>\n",
       "      <td>90400.0</td>\n",
       "      <td>90400.000000</td>\n",
       "      <td>90400.000000</td>\n",
       "      <td>90400.000000</td>\n",
       "    </tr>\n",
       "    <tr>\n",
       "      <th>mean</th>\n",
       "      <td>498709.683473</td>\n",
       "      <td>1.0</td>\n",
       "      <td>0.500000</td>\n",
       "      <td>0.066704</td>\n",
       "      <td>0.005000</td>\n",
       "    </tr>\n",
       "    <tr>\n",
       "      <th>std</th>\n",
       "      <td>289040.674085</td>\n",
       "      <td>0.0</td>\n",
       "      <td>0.500003</td>\n",
       "      <td>0.249509</td>\n",
       "      <td>0.070534</td>\n",
       "    </tr>\n",
       "    <tr>\n",
       "      <th>min</th>\n",
       "      <td>17.000000</td>\n",
       "      <td>1.0</td>\n",
       "      <td>0.000000</td>\n",
       "      <td>0.000000</td>\n",
       "      <td>0.000000</td>\n",
       "    </tr>\n",
       "    <tr>\n",
       "      <th>25%</th>\n",
       "      <td>247978.750000</td>\n",
       "      <td>1.0</td>\n",
       "      <td>0.000000</td>\n",
       "      <td>0.000000</td>\n",
       "      <td>0.000000</td>\n",
       "    </tr>\n",
       "    <tr>\n",
       "      <th>50%</th>\n",
       "      <td>498267.000000</td>\n",
       "      <td>1.0</td>\n",
       "      <td>0.500000</td>\n",
       "      <td>0.000000</td>\n",
       "      <td>0.000000</td>\n",
       "    </tr>\n",
       "    <tr>\n",
       "      <th>75%</th>\n",
       "      <td>749789.250000</td>\n",
       "      <td>1.0</td>\n",
       "      <td>1.000000</td>\n",
       "      <td>0.000000</td>\n",
       "      <td>0.000000</td>\n",
       "    </tr>\n",
       "    <tr>\n",
       "      <th>max</th>\n",
       "      <td>999979.000000</td>\n",
       "      <td>1.0</td>\n",
       "      <td>1.000000</td>\n",
       "      <td>1.000000</td>\n",
       "      <td>1.000000</td>\n",
       "    </tr>\n",
       "  </tbody>\n",
       "</table>\n",
       "</div>"
      ],
      "text/plain": [
       "             user_id  home_page   search_page  payment_page  \\\n",
       "count   90400.000000    90400.0  90400.000000  90400.000000   \n",
       "mean   498709.683473        1.0      0.500000      0.066704   \n",
       "std    289040.674085        0.0      0.500003      0.249509   \n",
       "min        17.000000        1.0      0.000000      0.000000   \n",
       "25%    247978.750000        1.0      0.000000      0.000000   \n",
       "50%    498267.000000        1.0      0.500000      0.000000   \n",
       "75%    749789.250000        1.0      1.000000      0.000000   \n",
       "max    999979.000000        1.0      1.000000      1.000000   \n",
       "\n",
       "       payment_confirmation  \n",
       "count          90400.000000  \n",
       "mean               0.005000  \n",
       "std                0.070534  \n",
       "min                0.000000  \n",
       "25%                0.000000  \n",
       "50%                0.000000  \n",
       "75%                0.000000  \n",
       "max                1.000000  "
      ]
     },
     "execution_count": 10,
     "metadata": {},
     "output_type": "execute_result"
    }
   ],
   "source": [
    "funnel.describe(include=[np.number])"
   ]
  },
  {
   "cell_type": "code",
   "execution_count": 11,
   "metadata": {
    "collapsed": false,
    "scrolled": false
   },
   "outputs": [
    {
     "data": {
      "text/plain": [
       "<matplotlib.axes._subplots.AxesSubplot at 0x41c3898>"
      ]
     },
     "execution_count": 11,
     "metadata": {},
     "output_type": "execute_result"
    },
    {
     "data": {
      "image/png": "[encoded data removed]",
      "text/plain": [
       "<matplotlib.figure.Figure at 0xa2774e0>"
      ]
     },
     "metadata": {},
     "output_type": "display_data"
    }
   ],
   "source": [
    "# plot histogram of dates\n",
    "funnel['date'].groupby(funnel['date'].dt.week).count().plot(kind='bar')"
   ]
  },
  {
   "cell_type": "markdown",
   "metadata": {
    "collapsed": true
   },
   "source": [
    "So all the dates are in the year 2015, with same number of data points in each month from *January* to *April*. The sampling of days are even as well. Sampling of the week is fairly even except the 1st week (maybe due to New Years?) and the final week (week 18)."
   ]
  },
  {
   "cell_type": "code",
   "execution_count": 12,
   "metadata": {
    "collapsed": false
   },
   "outputs": [
    {
     "data": {
      "text/plain": [
       "<matplotlib.axes._subplots.AxesSubplot at 0xa2c3668>"
      ]
     },
     "execution_count": 12,
     "metadata": {},
     "output_type": "execute_result"
    },
    {
     "data": {
      "image/png": "[encoded data removed]",
      "text/plain": [
       "<matplotlib.figure.Figure at 0xa2d81d0>"
      ]
     },
     "metadata": {},
     "output_type": "display_data"
    }
   ],
   "source": [
    "# number of users who went to search page\n",
    "funnel['date'][funnel['search_page']==1].groupby(funnel['date'].dt.week).count().plot(kind='line')"
   ]
  },
  {
   "cell_type": "code",
   "execution_count": 13,
   "metadata": {
    "collapsed": false
   },
   "outputs": [
    {
     "data": {
      "text/plain": [
       "<matplotlib.axes._subplots.AxesSubplot at 0xa2d8550>"
      ]
     },
     "execution_count": 13,
     "metadata": {},
     "output_type": "execute_result"
    },
    {
     "data": {
      "image/png": "[encoded data removed]",
      "text/plain": [
       "<matplotlib.figure.Figure at 0xaf67470>"
      ]
     },
     "metadata": {},
     "output_type": "display_data"
    }
   ],
   "source": [
    "# number of users who went to payment page\n",
    "funnel['date'][funnel['payment_page']==1].groupby(funnel['date'].dt.week).count().plot(kind='line')"
   ]
  },
  {
   "cell_type": "code",
   "execution_count": 14,
   "metadata": {
    "collapsed": false
   },
   "outputs": [
    {
     "data": {
      "text/plain": [
       "<matplotlib.axes._subplots.AxesSubplot at 0xa7baef0>"
      ]
     },
     "execution_count": 14,
     "metadata": {},
     "output_type": "execute_result"
    },
    {
     "data": {
      "image/png": "[encoded data removed]",
      "text/plain": [
       "<matplotlib.figure.Figure at 0xa8b3278>"
      ]
     },
     "metadata": {},
     "output_type": "display_data"
    }
   ],
   "source": [
    "# number of users who went to payment confirmation page (fully converted)\n",
    "funnel['date'][funnel['payment_confirmation']==1].groupby(funnel['date'].dt.week).count().plot(kind='line')"
   ]
  },
  {
   "cell_type": "markdown",
   "metadata": {},
   "source": [
    "Ah, we see a drastic decrease in number of users going through the funnel pipeline past the home page starting week 10! That's the first week of March, which is what we see when we divide by month as well. It confirms what the CEO has told you, that conversion rate is low especially for new users.\n",
    "\n",
    "Why this decrease in conversion rate? Perhaps the make up of the new users starting week 10 changed? Let's look at the how the portion of users change over time, especially if the portion of mobile/desktop users change."
   ]
  },
  {
   "cell_type": "code",
   "execution_count": 15,
   "metadata": {
    "collapsed": false,
    "scrolled": true
   },
   "outputs": [
    {
     "data": {
      "text/plain": [
       "[<matplotlib.lines.Line2D at 0xca9a668>]"
      ]
     },
     "execution_count": 15,
     "metadata": {},
     "output_type": "execute_result"
    },
    {
     "data": {
      "image/png": "[encoded data removed]",
      "text/plain": [
       "<matplotlib.figure.Figure at 0xc8571d0>"
      ]
     },
     "metadata": {},
     "output_type": "display_data"
    }
   ],
   "source": [
    "# device type ratio in data (mobile / desktop)\n",
    "num_mobile = funnel['device'][funnel['device']=='Mobile'].groupby(funnel['date'].dt.week)\\\n",
    ".count()\n",
    "num_desktop = funnel['device'][funnel['device']=='Desktop'].groupby(funnel['date'].dt.week)\\\n",
    ".count()\n",
    "plt.plot(num_mobile/num_desktop)"
   ]
  },
  {
   "cell_type": "markdown",
   "metadata": {},
   "source": [
    "Hmmm... ok so the ratio of desktop and mobile users in the data remains fairly constant over time. What about sex?"
   ]
  },
  {
   "cell_type": "code",
   "execution_count": 16,
   "metadata": {
    "collapsed": false
   },
   "outputs": [
    {
     "data": {
      "text/plain": [
       "[<matplotlib.lines.Line2D at 0xceff438>]"
      ]
     },
     "execution_count": 16,
     "metadata": {},
     "output_type": "execute_result"
    },
    {
     "data": {
      "image/png": "[encoded data removed]",
      "text/plain": [
       "<matplotlib.figure.Figure at 0xadc5a90>"
      ]
     },
     "metadata": {},
     "output_type": "display_data"
    }
   ],
   "source": [
    "# sex ratio in the data\n",
    "num_female = funnel['sex'][funnel['sex']=='Male'].groupby(funnel['date'].dt.week).count()\n",
    "num_male = funnel['sex'][funnel['sex']=='Male'].groupby(funnel['date'].dt.week).count()\n",
    "num_male = num_male.astype(float)\n",
    "plt.plot(num_male/num_female)"
   ]
  },
  {
   "cell_type": "markdown",
   "metadata": {},
   "source": [
    "Ratio of sex in the users data remained same as well. Then what is causing the drop in conversion through the funnel process?\n",
    "\n",
    "Perhaps machine learning can give more information. Let's do some feature engineering to ready the dataset for machine learning algorithm.\n",
    "\n",
    "First, convert all categorical data to numerical data. For date, change the date to one of the 18 weeks represented in the dataset. "
   ]
  },
  {
   "cell_type": "code",
   "execution_count": 24,
   "metadata": {
    "collapsed": false,
    "scrolled": true
   },
   "outputs": [],
   "source": [
    "# convert categorical data into numerical for \"device\" and \"sex\"\n",
    "data = pd.get_dummies(funnel, [\"device\", \"sex\"])\n",
    "\n",
    "# convert date to week of the year\n",
    "data['week'] = data['date'].dt.week\n",
    "\n",
    "# drop \"user_id\" and \"date\" columns\n",
    "data = data.drop([\"user_id\", \"date\"], axis=1)"
   ]
  },
  {
   "cell_type": "code",
   "execution_count": 25,
   "metadata": {
    "collapsed": false
   },
   "outputs": [
    {
     "data": {
      "text/html": [
       "<div>\n",
       "<table border=\"1\" class=\"dataframe\">\n",
       "  <thead>\n",
       "    <tr style=\"text-align: right;\">\n",
       "      <th></th>\n",
       "      <th>home_page</th>\n",
       "      <th>search_page</th>\n",
       "      <th>payment_page</th>\n",
       "      <th>payment_confirmation</th>\n",
       "      <th>device_Desktop</th>\n",
       "      <th>device_Mobile</th>\n",
       "      <th>sex_Female</th>\n",
       "      <th>sex_Male</th>\n",
       "      <th>week</th>\n",
       "    </tr>\n",
       "  </thead>\n",
       "  <tbody>\n",
       "    <tr>\n",
       "      <th>0</th>\n",
       "      <td>1</td>\n",
       "      <td>1</td>\n",
       "      <td>0</td>\n",
       "      <td>0</td>\n",
       "      <td>1.0</td>\n",
       "      <td>0.0</td>\n",
       "      <td>0.0</td>\n",
       "      <td>1.0</td>\n",
       "      <td>17</td>\n",
       "    </tr>\n",
       "    <tr>\n",
       "      <th>1</th>\n",
       "      <td>1</td>\n",
       "      <td>0</td>\n",
       "      <td>0</td>\n",
       "      <td>0</td>\n",
       "      <td>1.0</td>\n",
       "      <td>0.0</td>\n",
       "      <td>0.0</td>\n",
       "      <td>1.0</td>\n",
       "      <td>18</td>\n",
       "    </tr>\n",
       "    <tr>\n",
       "      <th>2</th>\n",
       "      <td>1</td>\n",
       "      <td>1</td>\n",
       "      <td>0</td>\n",
       "      <td>0</td>\n",
       "      <td>0.0</td>\n",
       "      <td>1.0</td>\n",
       "      <td>0.0</td>\n",
       "      <td>1.0</td>\n",
       "      <td>8</td>\n",
       "    </tr>\n",
       "    <tr>\n",
       "      <th>3</th>\n",
       "      <td>1</td>\n",
       "      <td>1</td>\n",
       "      <td>1</td>\n",
       "      <td>0</td>\n",
       "      <td>0.0</td>\n",
       "      <td>1.0</td>\n",
       "      <td>1.0</td>\n",
       "      <td>0.0</td>\n",
       "      <td>13</td>\n",
       "    </tr>\n",
       "    <tr>\n",
       "      <th>4</th>\n",
       "      <td>1</td>\n",
       "      <td>0</td>\n",
       "      <td>0</td>\n",
       "      <td>0</td>\n",
       "      <td>1.0</td>\n",
       "      <td>0.0</td>\n",
       "      <td>0.0</td>\n",
       "      <td>1.0</td>\n",
       "      <td>5</td>\n",
       "    </tr>\n",
       "  </tbody>\n",
       "</table>\n",
       "</div>"
      ],
      "text/plain": [
       "   home_page  search_page  payment_page  payment_confirmation  device_Desktop  \\\n",
       "0          1            1             0                     0             1.0   \n",
       "1          1            0             0                     0             1.0   \n",
       "2          1            1             0                     0             0.0   \n",
       "3          1            1             1                     0             0.0   \n",
       "4          1            0             0                     0             1.0   \n",
       "\n",
       "   device_Mobile  sex_Female  sex_Male  week  \n",
       "0            0.0         0.0       1.0    17  \n",
       "1            0.0         0.0       1.0    18  \n",
       "2            1.0         0.0       1.0     8  \n",
       "3            1.0         1.0       0.0    13  \n",
       "4            0.0         0.0       1.0     5  "
      ]
     },
     "execution_count": 25,
     "metadata": {},
     "output_type": "execute_result"
    }
   ],
   "source": [
    "data.head()"
   ]
  },
  {
   "cell_type": "markdown",
   "metadata": {},
   "source": [
    "Great, the dataframe looks good and ready for the machine learning algorithm. Let's quickly perform the t-test on gender of the user and each group's conversion rate through the funnel pipeline.\n",
    "\n",
    "Since the measurements here are categorical (conversion through each stage of the funnel) and taken from two distinct groups (Male and Female), the t-test involves comparing two independent proportions."
   ]
  },
  {
   "cell_type": "code",
   "execution_count": 38,
   "metadata": {
    "collapsed": false,
    "scrolled": true
   },
   "outputs": [
    {
     "name": "stdout",
     "output_type": "stream",
     "text": [
      "SEARCH PAGE T-TEST:  Ttest_indResult(statistic=-1.8425978559681095, pvalue=0.06539101967947282)\n",
      "PAYMENT PAGE T-TEST:  Ttest_indResult(statistic=-2.4884647003000326, pvalue=0.012831383209203481)\n",
      "PAYMENT CONFIMRATION PAGE T-TEST:  Ttest_indResult(statistic=-1.473571917457817, pvalue=0.14060036909365287)\n"
     ]
    }
   ],
   "source": [
    "# perform 2 tailed independent t-test\n",
    "\n",
    "# t-test on reaching the search page\n",
    "male_search = data[data[\"sex_Male\"] == 1][[\"sex_Male\",\"search_page\"]]\n",
    "female_search = data[data[\"sex_Female\"] == 1][[\"sex_Female\",\"search_page\"]]\n",
    "print \"SEARCH PAGE T-TEST: \", stats.ttest_ind(male_search[\"search_page\"],\n",
    "                                              female_search[\"search_page\"])\n",
    "\n",
    "# t-test on reaching the payment page\n",
    "male_payment = data[data[\"sex_Male\"] == 1][[\"sex_Male\",\"payment_page\"]]\n",
    "female_payment = data[data[\"sex_Female\"] == 1][[\"sex_Female\",\"payment_page\"]]\n",
    "print \"PAYMENT PAGE T-TEST: \", stats.ttest_ind(male_payment[\"payment_page\"],\n",
    "                                               female_payment[\"payment_page\"])\n",
    "\n",
    "# t-test on reaching the payment confirmation page\n",
    "male_payment_con = data[data[\"sex_Male\"] == 1][[\"sex_Male\",\"payment_confirmation\"]]\n",
    "female_payment_con = data[data[\"sex_Female\"] == 1][[\"sex_Female\",\"payment_confirmation\"]]\n",
    "print \"PAYMENT CONFIMRATION PAGE T-TEST: \", stats.ttest_ind(male_payment_con[\"payment_confirmation\"],\n",
    "                                                            female_payment_con[\"payment_confirmation\"])"
   ]
  },
  {
   "cell_type": "markdown",
   "metadata": {},
   "source": [
    "*The p-value for all three tests are above the typical cutoff of 0.05, which means we accept the null hypothesis that the results of conversion through the funnel between men and women are not statistically significant.* "
   ]
  },
  {
   "cell_type": "markdown",
   "metadata": {},
   "source": [
    "## Machine Learning\n",
    "\n",
    "To understand in more detail which features are most important in predicting whether or not a user goes through each stage of the funnel process, we feed the dataset to a **decision tree** model. \n",
    "\n",
    "Note, that the decision tree is simply being used here to better visualize what are the important features that affect the conversion rate. It is *NOT* being used here as a general model to predict conversion for some future user, but simply to gain more insight about the data.\n"
   ]
  },
  {
   "cell_type": "code",
   "execution_count": 67,
   "metadata": {
    "collapsed": false
   },
   "outputs": [],
   "source": [
    "# create X and Y dataset\n",
    "x = data[[\"device_Desktop\",\"device_Mobile\",\"week\",\"sex_Female\",\"sex_Male\"]]\n",
    "y_search = data[\"search_page\"]\n",
    "y_payment = data[\"payment_page\"]\n",
    "y_payment_conf = data[\"payment_confirmation\"]"
   ]
  },
  {
   "cell_type": "code",
   "execution_count": 68,
   "metadata": {
    "collapsed": true
   },
   "outputs": [],
   "source": [
    "# fit the tree model (max depth of 2 and min leaf samples of 1% of dataset)\n",
    "clf = tree.DecisionTreeClassifier(max_depth=2, min_samples_leaf=len(data)/100)\n",
    "search_tree = clf.fit(x, y_search)\n",
    "payment_tree = clf.fit(x, y_payment)\n",
    "payment_conf_tree = clf.fit(x, y_payment_conf)"
   ]
  },
  {
   "cell_type": "code",
   "execution_count": 69,
   "metadata": {
    "collapsed": false
   },
   "outputs": [
    {
     "name": "stdout",
     "output_type": "stream",
     "text": [
      "Index([u'device_Desktop', u'week', u'sex_Female', u'sex_Female', u'week',\n",
      "       u'sex_Female', u'sex_Female'],\n",
      "      dtype='object')\n",
      "[ 0.5  9.5 -2.  -2.   9.5 -2.  -2. ]\n",
      "Index([u'device_Desktop', u'week', u'sex_Female', u'sex_Female', u'week',\n",
      "       u'sex_Female', u'sex_Female'],\n",
      "      dtype='object')\n",
      "[ 0.5  9.5 -2.  -2.   9.5 -2.  -2. ]\n",
      "Index([u'device_Desktop', u'week', u'sex_Female', u'sex_Female', u'week',\n",
      "       u'sex_Female', u'sex_Female'],\n",
      "      dtype='object')\n",
      "[ 0.5  9.5 -2.  -2.   9.5 -2.  -2. ]\n"
     ]
    }
   ],
   "source": [
    "# check the model results\n",
    "print x.columns[search_tree.tree_.feature]\n",
    "print search_tree.tree_.threshold\n",
    "\n",
    "print x.columns[payment_tree.tree_.feature]\n",
    "print payment_tree.tree_.threshold\n",
    "\n",
    "print x.columns[payment_conf_tree.tree_.feature]\n",
    "print payment_conf_tree.tree_.threshold"
   ]
  },
  {
   "cell_type": "code",
   "execution_count": 70,
   "metadata": {
    "collapsed": false
   },
   "outputs": [],
   "source": [
    "# visualize the tree\n",
    "searchfile = open(\"search.dot\",'w')\n",
    "tree.export_graphviz(search_tree, out_file = searchfile, feature_names=x.columns)\n",
    "searchfile.close()\n",
    "\n",
    "paymentfile = open(\"payment.dot\",'w')\n",
    "tree.export_graphviz(payment_tree, out_file = paymentfile, feature_names=x.columns)\n",
    "paymentfile.close()\n",
    "\n",
    "paymentconffile = open(\"paymentconf.dot\",'w')\n",
    "tree.export_graphviz(payment_conf_tree, out_file = paymentconffile, feature_names=x.columns)\n",
    "paymentconffile.close()"
   ]
  },
  {
   "cell_type": "markdown",
   "metadata": {},
   "source": [
    "The decision tree confirms what we alread know from the initial exploration of the data. The drop in sales is likely a seasonal issue or something that the company did (change the website layout, finished sales... etc) starting the 10th week of the year."
   ]
  },
  {
   "cell_type": "markdown",
   "metadata": {},
   "source": [
    "## Conclusion\n",
    "\n",
    "Ok, with the completed analysis, we can answer the CEO's questions.\n",
    "\n",
    "* The CEO is not very happy with volume of sales, especially coming from new users. Therefore she asked you to investigate if there is something wrong in the conversion funnel. \n",
    "\n",
    "**The conversion rate from the payment page to the payment confirmation page is only about 10%. This is likely an area that the company can improve in the funnel process.**\n",
    "\n",
    "**There is a large drop in conversion rate through the entire funnel process for all users (different sex and devices) at week 10 by a factor of 2-3. The fact that the composition of users throughout the sampled weeks did not change (equal ratio of sexes and device types) suggets a more fundamental reason for the sales drop, perhaps a seasonal effect or something company-wide.**\n",
    "\n",
    "* Specifically, she is interested in the following: A full picture of funnel conversion rate for both desktop and mobile.\n",
    "    \n",
    "**The conversion from search page to payment page and payment confirmation page is twice as high for mobile users as is for desktop users. The desktop funnel process starting from the search page should be improved to increase conversion rate for desktop users.**     \n",
    "\n",
    "**The userbase consists of 2:1 favoring desktop users. This is not in line with rest of the industry and future growth, both of which heavily favors mobile users. The mobile product needs significant attention to draw more users.**\n",
    "    \n",
    "* Some insights on what the product team should focus on in order to improve conversion rate as well as any other aspect of the data that could help the product team improve.\n",
    "    \n",
    "**The product team should focus on improving the funnel process for desktop users. Also, more focus should be given to the payment page, as 9/10 users drop out here and do not complete the payment process.**"
   ]
  },
  {
   "cell_type": "code",
   "execution_count": 83,
   "metadata": {
    "collapsed": false
   },
   "outputs": [
    {
     "name": "stdout",
     "output_type": "stream",
     "text": [
      "    device        user_id  home_page  search_page  payment_page  \\\n",
      "0  Desktop  498484.582492        1.0          0.5          0.05   \n",
      "1   Mobile  499158.394702        1.0          0.5          0.10   \n",
      "\n",
      "   payment_confirmation  \n",
      "0              0.002492  \n",
      "1              0.010000  \n",
      "0    0.1\n",
      "1    0.2\n",
      "dtype: float64\n",
      "0    0.049834\n",
      "1    0.100000\n",
      "dtype: float64\n"
     ]
    }
   ],
   "source": [
    "funnel_device = funnel.groupby('device').mean().reset_index()\n",
    "print funnel_device\n",
    "print funnel_device[\"payment_page\"] / funnel_device[\"search_page\"]\n",
    "print funnel_device[\"payment_confirmation\"] / funnel_device[\"payment_page\"]"
   ]
  },
  {
   "cell_type": "code",
   "execution_count": null,
   "metadata": {
    "collapsed": true
   },
   "outputs": [],
   "source": []
  }
 ],
 "metadata": {
  "kernelspec": {
   "display_name": "Python 2",
   "language": "python",
   "name": "python2"
  },
  "language_info": {
   "codemirror_mode": {
    "name": "ipython",
    "version": 2
   },
   "file_extension": ".py",
   "mimetype": "text/x-python",
   "name": "python",
   "nbconvert_exporter": "python",
   "pygments_lexer": "ipython2",
   "version": "2.7.11"
  }
 },
 "nbformat": 4,
 "nbformat_minor": 0
}
