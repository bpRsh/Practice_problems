{
 "cells": [
  {
   "cell_type": "markdown",
   "metadata": {},
   "source": [
    "# Funnel Analysis"
   ]
  },
  {
   "cell_type": "code",
   "execution_count": 1,
   "metadata": {
    "collapsed": true
   },
   "outputs": [],
   "source": [
    "import pandas as pd\n",
    "import numpy as np\n",
    "import matplotlib.pyplot as plt\n",
    "import seaborn as sns\n",
    "%matplotlib inline\n",
    "import datetime\n",
    "plt.style.use('ggplot')"
   ]
  },
  {
   "cell_type": "code",
   "execution_count": 3,
   "metadata": {
    "collapsed": false
   },
   "outputs": [],
   "source": [
    "user = pd.read_csv('user_table.csv')\n",
    "search = pd.read_csv('search_page_table.csv')\n",
    "payment = pd.read_csv('payment_page_table.csv')\n",
    "confirm = pd.read_csv('payment_confirmation_table.csv')\n",
    "home = pd.read_csv('home_page_table.csv')"
   ]
  },
  {
   "cell_type": "code",
   "execution_count": 15,
   "metadata": {
    "collapsed": true
   },
   "outputs": [],
   "source": [
    "user1 = user.merge(home,on = 'user_id',how = 'left')\n",
    "user1=user1.rename(columns = {'page':'home'})"
   ]
  },
  {
   "cell_type": "code",
   "execution_count": 16,
   "metadata": {
    "collapsed": false
   },
   "outputs": [
    {
     "data": {
      "text/html": [
       "<div>\n",
       "<table border=\"1\" class=\"dataframe\">\n",
       "  <thead>\n",
       "    <tr style=\"text-align: right;\">\n",
       "      <th></th>\n",
       "      <th>user_id</th>\n",
       "      <th>date</th>\n",
       "      <th>device</th>\n",
       "      <th>sex</th>\n",
       "      <th>home</th>\n",
       "    </tr>\n",
       "  </thead>\n",
       "  <tbody>\n",
       "    <tr>\n",
       "      <th>0</th>\n",
       "      <td>450007</td>\n",
       "      <td>2015-02-28</td>\n",
       "      <td>Desktop</td>\n",
       "      <td>Female</td>\n",
       "      <td>home_page</td>\n",
       "    </tr>\n",
       "    <tr>\n",
       "      <th>1</th>\n",
       "      <td>756838</td>\n",
       "      <td>2015-01-13</td>\n",
       "      <td>Desktop</td>\n",
       "      <td>Male</td>\n",
       "      <td>home_page</td>\n",
       "    </tr>\n",
       "    <tr>\n",
       "      <th>2</th>\n",
       "      <td>568983</td>\n",
       "      <td>2015-04-09</td>\n",
       "      <td>Desktop</td>\n",
       "      <td>Male</td>\n",
       "      <td>home_page</td>\n",
       "    </tr>\n",
       "    <tr>\n",
       "      <th>3</th>\n",
       "      <td>190794</td>\n",
       "      <td>2015-02-18</td>\n",
       "      <td>Desktop</td>\n",
       "      <td>Female</td>\n",
       "      <td>home_page</td>\n",
       "    </tr>\n",
       "    <tr>\n",
       "      <th>4</th>\n",
       "      <td>537909</td>\n",
       "      <td>2015-01-15</td>\n",
       "      <td>Desktop</td>\n",
       "      <td>Male</td>\n",
       "      <td>home_page</td>\n",
       "    </tr>\n",
       "  </tbody>\n",
       "</table>\n",
       "</div>"
      ],
      "text/plain": [
       "   user_id        date   device     sex       home\n",
       "0   450007  2015-02-28  Desktop  Female  home_page\n",
       "1   756838  2015-01-13  Desktop    Male  home_page\n",
       "2   568983  2015-04-09  Desktop    Male  home_page\n",
       "3   190794  2015-02-18  Desktop  Female  home_page\n",
       "4   537909  2015-01-15  Desktop    Male  home_page"
      ]
     },
     "execution_count": 16,
     "metadata": {},
     "output_type": "execute_result"
    }
   ],
   "source": [
    "user1.head()"
   ]
  },
  {
   "cell_type": "code",
   "execution_count": 17,
   "metadata": {
    "collapsed": true
   },
   "outputs": [],
   "source": [
    "user2 = user1.merge(search,on = 'user_id',how = 'left' )\n",
    "user2=user2.rename(columns = {'page':'search'})"
   ]
  },
  {
   "cell_type": "code",
   "execution_count": 18,
   "metadata": {
    "collapsed": false
   },
   "outputs": [
    {
     "data": {
      "text/html": [
       "<div>\n",
       "<table border=\"1\" class=\"dataframe\">\n",
       "  <thead>\n",
       "    <tr style=\"text-align: right;\">\n",
       "      <th></th>\n",
       "      <th>user_id</th>\n",
       "      <th>date</th>\n",
       "      <th>device</th>\n",
       "      <th>sex</th>\n",
       "      <th>home</th>\n",
       "      <th>search</th>\n",
       "    </tr>\n",
       "  </thead>\n",
       "  <tbody>\n",
       "    <tr>\n",
       "      <th>0</th>\n",
       "      <td>450007</td>\n",
       "      <td>2015-02-28</td>\n",
       "      <td>Desktop</td>\n",
       "      <td>Female</td>\n",
       "      <td>home_page</td>\n",
       "      <td>NaN</td>\n",
       "    </tr>\n",
       "    <tr>\n",
       "      <th>1</th>\n",
       "      <td>756838</td>\n",
       "      <td>2015-01-13</td>\n",
       "      <td>Desktop</td>\n",
       "      <td>Male</td>\n",
       "      <td>home_page</td>\n",
       "      <td>NaN</td>\n",
       "    </tr>\n",
       "    <tr>\n",
       "      <th>2</th>\n",
       "      <td>568983</td>\n",
       "      <td>2015-04-09</td>\n",
       "      <td>Desktop</td>\n",
       "      <td>Male</td>\n",
       "      <td>home_page</td>\n",
       "      <td>search_page</td>\n",
       "    </tr>\n",
       "    <tr>\n",
       "      <th>3</th>\n",
       "      <td>190794</td>\n",
       "      <td>2015-02-18</td>\n",
       "      <td>Desktop</td>\n",
       "      <td>Female</td>\n",
       "      <td>home_page</td>\n",
       "      <td>search_page</td>\n",
       "    </tr>\n",
       "    <tr>\n",
       "      <th>4</th>\n",
       "      <td>537909</td>\n",
       "      <td>2015-01-15</td>\n",
       "      <td>Desktop</td>\n",
       "      <td>Male</td>\n",
       "      <td>home_page</td>\n",
       "      <td>NaN</td>\n",
       "    </tr>\n",
       "  </tbody>\n",
       "</table>\n",
       "</div>"
      ],
      "text/plain": [
       "   user_id        date   device     sex       home       search\n",
       "0   450007  2015-02-28  Desktop  Female  home_page          NaN\n",
       "1   756838  2015-01-13  Desktop    Male  home_page          NaN\n",
       "2   568983  2015-04-09  Desktop    Male  home_page  search_page\n",
       "3   190794  2015-02-18  Desktop  Female  home_page  search_page\n",
       "4   537909  2015-01-15  Desktop    Male  home_page          NaN"
      ]
     },
     "execution_count": 18,
     "metadata": {},
     "output_type": "execute_result"
    }
   ],
   "source": [
    "user2.head()"
   ]
  },
  {
   "cell_type": "code",
   "execution_count": 19,
   "metadata": {
    "collapsed": true
   },
   "outputs": [],
   "source": [
    "user3 = user2.merge(payment,on = 'user_id',how = 'left' )\n",
    "user3=user3.rename(columns = {'page':'payment'})"
   ]
  },
  {
   "cell_type": "code",
   "execution_count": 255,
   "metadata": {
    "collapsed": true
   },
   "outputs": [],
   "source": [
    "user4 = user3.merge(confirm,on = 'user_id',how = 'left' )\n",
    "user4=user4.rename(columns = {'page':'confirm'})"
   ]
  },
  {
   "cell_type": "code",
   "execution_count": 21,
   "metadata": {
    "collapsed": false
   },
   "outputs": [
    {
     "data": {
      "text/html": [
       "<div>\n",
       "<table border=\"1\" class=\"dataframe\">\n",
       "  <thead>\n",
       "    <tr style=\"text-align: right;\">\n",
       "      <th></th>\n",
       "      <th>user_id</th>\n",
       "      <th>date</th>\n",
       "      <th>device</th>\n",
       "      <th>sex</th>\n",
       "      <th>home</th>\n",
       "      <th>search</th>\n",
       "      <th>payment</th>\n",
       "      <th>confirm</th>\n",
       "    </tr>\n",
       "  </thead>\n",
       "  <tbody>\n",
       "    <tr>\n",
       "      <th>0</th>\n",
       "      <td>450007</td>\n",
       "      <td>2015-02-28</td>\n",
       "      <td>Desktop</td>\n",
       "      <td>Female</td>\n",
       "      <td>home_page</td>\n",
       "      <td>NaN</td>\n",
       "      <td>NaN</td>\n",
       "      <td>NaN</td>\n",
       "    </tr>\n",
       "    <tr>\n",
       "      <th>1</th>\n",
       "      <td>756838</td>\n",
       "      <td>2015-01-13</td>\n",
       "      <td>Desktop</td>\n",
       "      <td>Male</td>\n",
       "      <td>home_page</td>\n",
       "      <td>NaN</td>\n",
       "      <td>NaN</td>\n",
       "      <td>NaN</td>\n",
       "    </tr>\n",
       "    <tr>\n",
       "      <th>2</th>\n",
       "      <td>568983</td>\n",
       "      <td>2015-04-09</td>\n",
       "      <td>Desktop</td>\n",
       "      <td>Male</td>\n",
       "      <td>home_page</td>\n",
       "      <td>search_page</td>\n",
       "      <td>NaN</td>\n",
       "      <td>NaN</td>\n",
       "    </tr>\n",
       "    <tr>\n",
       "      <th>3</th>\n",
       "      <td>190794</td>\n",
       "      <td>2015-02-18</td>\n",
       "      <td>Desktop</td>\n",
       "      <td>Female</td>\n",
       "      <td>home_page</td>\n",
       "      <td>search_page</td>\n",
       "      <td>NaN</td>\n",
       "      <td>NaN</td>\n",
       "    </tr>\n",
       "    <tr>\n",
       "      <th>4</th>\n",
       "      <td>537909</td>\n",
       "      <td>2015-01-15</td>\n",
       "      <td>Desktop</td>\n",
       "      <td>Male</td>\n",
       "      <td>home_page</td>\n",
       "      <td>NaN</td>\n",
       "      <td>NaN</td>\n",
       "      <td>NaN</td>\n",
       "    </tr>\n",
       "  </tbody>\n",
       "</table>\n",
       "</div>"
      ],
      "text/plain": [
       "   user_id        date   device     sex       home       search payment  \\\n",
       "0   450007  2015-02-28  Desktop  Female  home_page          NaN     NaN   \n",
       "1   756838  2015-01-13  Desktop    Male  home_page          NaN     NaN   \n",
       "2   568983  2015-04-09  Desktop    Male  home_page  search_page     NaN   \n",
       "3   190794  2015-02-18  Desktop  Female  home_page  search_page     NaN   \n",
       "4   537909  2015-01-15  Desktop    Male  home_page          NaN     NaN   \n",
       "\n",
       "  confirm  \n",
       "0     NaN  \n",
       "1     NaN  \n",
       "2     NaN  \n",
       "3     NaN  \n",
       "4     NaN  "
      ]
     },
     "execution_count": 21,
     "metadata": {},
     "output_type": "execute_result"
    }
   ],
   "source": [
    "user4.head()"
   ]
  },
  {
   "cell_type": "code",
   "execution_count": 22,
   "metadata": {
    "collapsed": false
   },
   "outputs": [
    {
     "name": "stdout",
     "output_type": "stream",
     "text": [
      "<class 'pandas.core.frame.DataFrame'>\n",
      "Int64Index: 90400 entries, 0 to 90399\n",
      "Data columns (total 8 columns):\n",
      "user_id    90400 non-null int64\n",
      "date       90400 non-null object\n",
      "device     90400 non-null object\n",
      "sex        90400 non-null object\n",
      "home       90400 non-null object\n",
      "search     45200 non-null object\n",
      "payment    6030 non-null object\n",
      "confirm    452 non-null object\n",
      "dtypes: int64(1), object(7)\n",
      "memory usage: 6.2+ MB\n"
     ]
    }
   ],
   "source": [
    "user4.info()"
   ]
  },
  {
   "cell_type": "code",
   "execution_count": 25,
   "metadata": {
    "collapsed": false
   },
   "outputs": [],
   "source": [
    "desktop = user4[user4['device']=='Desktop']"
   ]
  },
  {
   "cell_type": "code",
   "execution_count": 26,
   "metadata": {
    "collapsed": true
   },
   "outputs": [],
   "source": [
    "mobile = user4[user4['device']=='Mobile']"
   ]
  },
  {
   "cell_type": "code",
   "execution_count": 27,
   "metadata": {
    "collapsed": false
   },
   "outputs": [
    {
     "name": "stdout",
     "output_type": "stream",
     "text": [
      "<class 'pandas.core.frame.DataFrame'>\n",
      "Int64Index: 60200 entries, 0 to 90398\n",
      "Data columns (total 8 columns):\n",
      "user_id    60200 non-null int64\n",
      "date       60200 non-null object\n",
      "device     60200 non-null object\n",
      "sex        60200 non-null object\n",
      "home       60200 non-null object\n",
      "search     30100 non-null object\n",
      "payment    3010 non-null object\n",
      "confirm    150 non-null object\n",
      "dtypes: int64(1), object(7)\n",
      "memory usage: 4.1+ MB\n"
     ]
    }
   ],
   "source": [
    "desktop.info()"
   ]
  },
  {
   "cell_type": "code",
   "execution_count": 28,
   "metadata": {
    "collapsed": false
   },
   "outputs": [
    {
     "name": "stdout",
     "output_type": "stream",
     "text": [
      "<class 'pandas.core.frame.DataFrame'>\n",
      "Int64Index: 30200 entries, 7 to 90399\n",
      "Data columns (total 8 columns):\n",
      "user_id    30200 non-null int64\n",
      "date       30200 non-null object\n",
      "device     30200 non-null object\n",
      "sex        30200 non-null object\n",
      "home       30200 non-null object\n",
      "search     15100 non-null object\n",
      "payment    3020 non-null object\n",
      "confirm    302 non-null object\n",
      "dtypes: int64(1), object(7)\n",
      "memory usage: 2.1+ MB\n"
     ]
    }
   ],
   "source": [
    "mobile.info()"
   ]
  },
  {
   "cell_type": "code",
   "execution_count": 189,
   "metadata": {
    "collapsed": false
   },
   "outputs": [],
   "source": [
    "mobile_funnel = mobile.count()\n",
    "desktop_funnel = desktop.count()"
   ]
  },
  {
   "cell_type": "code",
   "execution_count": 190,
   "metadata": {
    "collapsed": false
   },
   "outputs": [],
   "source": [
    "mobile_funnel  = mobile_funnel[['home','search','payment','confirm']]\n",
    "desktop_funnel  = desktop_funnel[['home','search','payment','confirm']]"
   ]
  },
  {
   "cell_type": "code",
   "execution_count": 191,
   "metadata": {
    "collapsed": false
   },
   "outputs": [],
   "source": [
    "mobile_funnel = mobile_funnel.rename_axis(['Page'])\n",
    "desktop_funnel = desktop_funnel.rename_axis(['Page'])"
   ]
  },
  {
   "cell_type": "code",
   "execution_count": 192,
   "metadata": {
    "collapsed": false
   },
   "outputs": [],
   "source": [
    "mobile_funnel = mobile_funnel.reset_index()\n",
    "desktop_funnel = desktop_funnel.reset_index()"
   ]
  },
  {
   "cell_type": "code",
   "execution_count": 193,
   "metadata": {
    "collapsed": false
   },
   "outputs": [
    {
     "data": {
      "text/html": [
       "<div>\n",
       "<table border=\"1\" class=\"dataframe\">\n",
       "  <thead>\n",
       "    <tr style=\"text-align: right;\">\n",
       "      <th></th>\n",
       "      <th>Page</th>\n",
       "      <th>0</th>\n",
       "    </tr>\n",
       "  </thead>\n",
       "  <tbody>\n",
       "    <tr>\n",
       "      <th>0</th>\n",
       "      <td>home</td>\n",
       "      <td>60200</td>\n",
       "    </tr>\n",
       "    <tr>\n",
       "      <th>1</th>\n",
       "      <td>search</td>\n",
       "      <td>30100</td>\n",
       "    </tr>\n",
       "    <tr>\n",
       "      <th>2</th>\n",
       "      <td>payment</td>\n",
       "      <td>3010</td>\n",
       "    </tr>\n",
       "    <tr>\n",
       "      <th>3</th>\n",
       "      <td>confirm</td>\n",
       "      <td>150</td>\n",
       "    </tr>\n",
       "  </tbody>\n",
       "</table>\n",
       "</div>"
      ],
      "text/plain": [
       "      Page      0\n",
       "0     home  60200\n",
       "1   search  30100\n",
       "2  payment   3010\n",
       "3  confirm    150"
      ]
     },
     "execution_count": 193,
     "metadata": {},
     "output_type": "execute_result"
    }
   ],
   "source": [
    "desktop_funnel"
   ]
  },
  {
   "cell_type": "code",
   "execution_count": 194,
   "metadata": {
    "collapsed": false
   },
   "outputs": [],
   "source": [
    "mobile_funnel = mobile_funnel.rename(columns = {mobile_funnel.columns[1]: \"Conversion\"})\n",
    "desktop_funnel = desktop_funnel.rename(columns = {desktop_funnel.columns[1]: \"Conversion\"})"
   ]
  },
  {
   "cell_type": "code",
   "execution_count": 195,
   "metadata": {
    "collapsed": false
   },
   "outputs": [],
   "source": [
    "rate = []\n",
    "for ind, row in mobile_funnel.iterrows():\n",
    "    data =  float(row['Conversion'])/30200*100\n",
    "    rate.append(data)\n",
    "\n",
    "mobile_funnel['rate'] = rate"
   ]
  },
  {
   "cell_type": "code",
   "execution_count": 196,
   "metadata": {
    "collapsed": true
   },
   "outputs": [],
   "source": [
    "rate = []\n",
    "for ind, row in desktop_funnel.iterrows():\n",
    "    data =  float(row['Conversion'])/60200*100\n",
    "    rate.append(data)\n",
    "\n",
    "desktop_funnel['rate'] = rate\n",
    "desktop_funnel['rate'] = desktop_funnel['rate'].round(1)"
   ]
  },
  {
   "cell_type": "code",
   "execution_count": 197,
   "metadata": {
    "collapsed": true
   },
   "outputs": [],
   "source": [
    "mobile_funnel['rate_per']= mobile_funnel.rate.astype(str) + '%'\n",
    "desktop_funnel['rate_per']= desktop_funnel.rate.astype(str) + '%'"
   ]
  },
  {
   "cell_type": "code",
   "execution_count": 200,
   "metadata": {
    "collapsed": true
   },
   "outputs": [],
   "source": [
    "name1 = mobile_funnel.rate_per\n",
    "name2 = desktop_funnel.rate_per"
   ]
  },
  {
   "cell_type": "code",
   "execution_count": 201,
   "metadata": {
    "collapsed": false
   },
   "outputs": [],
   "source": [
    "def autolabel(rects,name):\n",
    "# attach some text labels\n",
    "    for ii,rect in enumerate(rects):\n",
    "        height = rect.get_height()\n",
    "        plt.text(rect.get_x()+rect.get_width()/2., 1.02*height, '%s'% (name[ii]),\n",
    "                ha='center', va='bottom')\n"
   ]
  },
  {
   "cell_type": "code",
   "execution_count": 202,
   "metadata": {
    "collapsed": false
   },
   "outputs": [
    {
     "data": {
      "image/png": "[encoded data removed]",
      "text/plain": [
       "<matplotlib.figure.Figure at 0x10c61320>"
      ]
     },
     "metadata": {},
     "output_type": "display_data"
    }
   ],
   "source": [
    "objects = mobile_funnel.Page\n",
    "y_pos = np.arange(len(objects))\n",
    "con1 = mobile_funnel.Conversion\n",
    "con2 = desktop_funnel.Conversion\n",
    "\n",
    "plt.subplot(2,1,1)\n",
    "bar1 = plt.bar(y_pos, con1, align='center', alpha=0.5, color = 'b',width = 0.5)\n",
    "autolabel(bar1,name1)\n",
    "plt.xticks(y_pos, objects)\n",
    "plt.title('mobile')\n",
    "\n",
    "plt.subplot(2,1,2)\n",
    "bar2 = plt.bar(y_pos, con2, align='center', alpha=0.5, color = 'r',width = 0.5)\n",
    "plt.xticks(y_pos, objects)\n",
    "autolabel(bar2,name2)\n",
    "plt.title('desktop')\n",
    "\n",
    "plt.show()"
   ]
  },
  {
   "cell_type": "code",
   "execution_count": 256,
   "metadata": {
    "collapsed": false
   },
   "outputs": [
    {
     "data": {
      "text/html": [
       "<div>\n",
       "<table border=\"1\" class=\"dataframe\">\n",
       "  <thead>\n",
       "    <tr style=\"text-align: right;\">\n",
       "      <th></th>\n",
       "      <th>user_id</th>\n",
       "      <th>date</th>\n",
       "      <th>device</th>\n",
       "      <th>sex</th>\n",
       "      <th>home</th>\n",
       "      <th>search</th>\n",
       "      <th>payment</th>\n",
       "      <th>confirm</th>\n",
       "    </tr>\n",
       "  </thead>\n",
       "  <tbody>\n",
       "    <tr>\n",
       "      <th>0</th>\n",
       "      <td>450007</td>\n",
       "      <td>2015-02-28</td>\n",
       "      <td>Desktop</td>\n",
       "      <td>Female</td>\n",
       "      <td>home_page</td>\n",
       "      <td>NaN</td>\n",
       "      <td>NaN</td>\n",
       "      <td>NaN</td>\n",
       "    </tr>\n",
       "    <tr>\n",
       "      <th>1</th>\n",
       "      <td>756838</td>\n",
       "      <td>2015-01-13</td>\n",
       "      <td>Desktop</td>\n",
       "      <td>Male</td>\n",
       "      <td>home_page</td>\n",
       "      <td>NaN</td>\n",
       "      <td>NaN</td>\n",
       "      <td>NaN</td>\n",
       "    </tr>\n",
       "    <tr>\n",
       "      <th>2</th>\n",
       "      <td>568983</td>\n",
       "      <td>2015-04-09</td>\n",
       "      <td>Desktop</td>\n",
       "      <td>Male</td>\n",
       "      <td>home_page</td>\n",
       "      <td>search_page</td>\n",
       "      <td>NaN</td>\n",
       "      <td>NaN</td>\n",
       "    </tr>\n",
       "    <tr>\n",
       "      <th>3</th>\n",
       "      <td>190794</td>\n",
       "      <td>2015-02-18</td>\n",
       "      <td>Desktop</td>\n",
       "      <td>Female</td>\n",
       "      <td>home_page</td>\n",
       "      <td>search_page</td>\n",
       "      <td>NaN</td>\n",
       "      <td>NaN</td>\n",
       "    </tr>\n",
       "    <tr>\n",
       "      <th>4</th>\n",
       "      <td>537909</td>\n",
       "      <td>2015-01-15</td>\n",
       "      <td>Desktop</td>\n",
       "      <td>Male</td>\n",
       "      <td>home_page</td>\n",
       "      <td>NaN</td>\n",
       "      <td>NaN</td>\n",
       "      <td>NaN</td>\n",
       "    </tr>\n",
       "  </tbody>\n",
       "</table>\n",
       "</div>"
      ],
      "text/plain": [
       "   user_id        date   device     sex       home       search payment  \\\n",
       "0   450007  2015-02-28  Desktop  Female  home_page          NaN     NaN   \n",
       "1   756838  2015-01-13  Desktop    Male  home_page          NaN     NaN   \n",
       "2   568983  2015-04-09  Desktop    Male  home_page  search_page     NaN   \n",
       "3   190794  2015-02-18  Desktop  Female  home_page  search_page     NaN   \n",
       "4   537909  2015-01-15  Desktop    Male  home_page          NaN     NaN   \n",
       "\n",
       "  confirm  \n",
       "0     NaN  \n",
       "1     NaN  \n",
       "2     NaN  \n",
       "3     NaN  \n",
       "4     NaN  "
      ]
     },
     "execution_count": 256,
     "metadata": {},
     "output_type": "execute_result"
    }
   ],
   "source": [
    "user4.head()"
   ]
  },
  {
   "cell_type": "code",
   "execution_count": 257,
   "metadata": {
    "collapsed": true
   },
   "outputs": [],
   "source": [
    "user4['date'] = pd.to_datetime(user4['date'])"
   ]
  },
  {
   "cell_type": "code",
   "execution_count": 258,
   "metadata": {
    "collapsed": true
   },
   "outputs": [],
   "source": [
    "user4['year'], user4['month'],user4['day'] = user4['date'].dt.year, user4['date'].dt.month,user4['date'].dt.day"
   ]
  },
  {
   "cell_type": "code",
   "execution_count": 259,
   "metadata": {
    "collapsed": false
   },
   "outputs": [
    {
     "data": {
      "text/html": [
       "<div>\n",
       "<table border=\"1\" class=\"dataframe\">\n",
       "  <thead>\n",
       "    <tr style=\"text-align: right;\">\n",
       "      <th></th>\n",
       "      <th>user_id</th>\n",
       "      <th>date</th>\n",
       "      <th>device</th>\n",
       "      <th>sex</th>\n",
       "      <th>home</th>\n",
       "      <th>search</th>\n",
       "      <th>payment</th>\n",
       "      <th>confirm</th>\n",
       "      <th>year</th>\n",
       "      <th>month</th>\n",
       "      <th>day</th>\n",
       "    </tr>\n",
       "  </thead>\n",
       "  <tbody>\n",
       "    <tr>\n",
       "      <th>0</th>\n",
       "      <td>450007</td>\n",
       "      <td>2015-02-28</td>\n",
       "      <td>Desktop</td>\n",
       "      <td>Female</td>\n",
       "      <td>home_page</td>\n",
       "      <td>NaN</td>\n",
       "      <td>NaN</td>\n",
       "      <td>NaN</td>\n",
       "      <td>2015</td>\n",
       "      <td>2</td>\n",
       "      <td>28</td>\n",
       "    </tr>\n",
       "    <tr>\n",
       "      <th>1</th>\n",
       "      <td>756838</td>\n",
       "      <td>2015-01-13</td>\n",
       "      <td>Desktop</td>\n",
       "      <td>Male</td>\n",
       "      <td>home_page</td>\n",
       "      <td>NaN</td>\n",
       "      <td>NaN</td>\n",
       "      <td>NaN</td>\n",
       "      <td>2015</td>\n",
       "      <td>1</td>\n",
       "      <td>13</td>\n",
       "    </tr>\n",
       "    <tr>\n",
       "      <th>2</th>\n",
       "      <td>568983</td>\n",
       "      <td>2015-04-09</td>\n",
       "      <td>Desktop</td>\n",
       "      <td>Male</td>\n",
       "      <td>home_page</td>\n",
       "      <td>search_page</td>\n",
       "      <td>NaN</td>\n",
       "      <td>NaN</td>\n",
       "      <td>2015</td>\n",
       "      <td>4</td>\n",
       "      <td>9</td>\n",
       "    </tr>\n",
       "    <tr>\n",
       "      <th>3</th>\n",
       "      <td>190794</td>\n",
       "      <td>2015-02-18</td>\n",
       "      <td>Desktop</td>\n",
       "      <td>Female</td>\n",
       "      <td>home_page</td>\n",
       "      <td>search_page</td>\n",
       "      <td>NaN</td>\n",
       "      <td>NaN</td>\n",
       "      <td>2015</td>\n",
       "      <td>2</td>\n",
       "      <td>18</td>\n",
       "    </tr>\n",
       "    <tr>\n",
       "      <th>4</th>\n",
       "      <td>537909</td>\n",
       "      <td>2015-01-15</td>\n",
       "      <td>Desktop</td>\n",
       "      <td>Male</td>\n",
       "      <td>home_page</td>\n",
       "      <td>NaN</td>\n",
       "      <td>NaN</td>\n",
       "      <td>NaN</td>\n",
       "      <td>2015</td>\n",
       "      <td>1</td>\n",
       "      <td>15</td>\n",
       "    </tr>\n",
       "  </tbody>\n",
       "</table>\n",
       "</div>"
      ],
      "text/plain": [
       "   user_id       date   device     sex       home       search payment  \\\n",
       "0   450007 2015-02-28  Desktop  Female  home_page          NaN     NaN   \n",
       "1   756838 2015-01-13  Desktop    Male  home_page          NaN     NaN   \n",
       "2   568983 2015-04-09  Desktop    Male  home_page  search_page     NaN   \n",
       "3   190794 2015-02-18  Desktop  Female  home_page  search_page     NaN   \n",
       "4   537909 2015-01-15  Desktop    Male  home_page          NaN     NaN   \n",
       "\n",
       "  confirm  year  month  day  \n",
       "0     NaN  2015      2   28  \n",
       "1     NaN  2015      1   13  \n",
       "2     NaN  2015      4    9  \n",
       "3     NaN  2015      2   18  \n",
       "4     NaN  2015      1   15  "
      ]
     },
     "execution_count": 259,
     "metadata": {},
     "output_type": "execute_result"
    }
   ],
   "source": [
    "user4.head()"
   ]
  },
  {
   "cell_type": "code",
   "execution_count": 261,
   "metadata": {
    "collapsed": false
   },
   "outputs": [],
   "source": [
    "def conversion(row):\n",
    "    if ((pd.notnull(row['home'])== True)&(pd.notnull(row['search'])==False)):\n",
    "        return 'exit_home'\n",
    "    elif ((pd.notnull(row['home'])== True)&(pd.notnull(row['search'])==True)\n",
    "                                      &(pd.notnull(row['payment'])==False)):\n",
    "        return 'exit_search'\n",
    "    elif ((pd.notnull(row['home'])== True)&(pd.notnull(row['search'])==True)\n",
    "                                      &(pd.notnull(row['payment'])==True)\n",
    "                                       &(pd.notnull(row['confirm'])==False)):\n",
    "        return 'exit_payment'\n",
    "    elif ((pd.notnull(row['home'])== True)&(pd.notnull(row['search'])==True)\n",
    "                                      &(pd.notnull(row['payment'])==True)\n",
    "                                       &(pd.notnull(row['confirm'])==True)):\n",
    "                                        \n",
    "        return 'exit_confirm'\n",
    "    else:\n",
    "        return 'no idea'\n",
    "    \n",
    "                                         \n"
   ]
  },
  {
   "cell_type": "code",
   "execution_count": 262,
   "metadata": {
    "collapsed": false
   },
   "outputs": [],
   "source": [
    "user4['conversion']=user4.apply(lambda row: conversion(row),axis = 1)"
   ]
  },
  {
   "cell_type": "code",
   "execution_count": 263,
   "metadata": {
    "collapsed": false
   },
   "outputs": [
    {
     "data": {
      "text/plain": [
       "array(['exit_home', 'exit_search', 'exit_payment', 'exit_confirm'], dtype=object)"
      ]
     },
     "execution_count": 263,
     "metadata": {},
     "output_type": "execute_result"
    }
   ],
   "source": [
    "user4.conversion.unique()"
   ]
  },
  {
   "cell_type": "code",
   "execution_count": 264,
   "metadata": {
    "collapsed": false
   },
   "outputs": [
    {
     "data": {
      "text/html": [
       "<div>\n",
       "<table border=\"1\" class=\"dataframe\">\n",
       "  <thead>\n",
       "    <tr style=\"text-align: right;\">\n",
       "      <th></th>\n",
       "      <th>user_id</th>\n",
       "      <th>date</th>\n",
       "      <th>device</th>\n",
       "      <th>sex</th>\n",
       "      <th>home</th>\n",
       "      <th>search</th>\n",
       "      <th>payment</th>\n",
       "      <th>confirm</th>\n",
       "      <th>year</th>\n",
       "      <th>month</th>\n",
       "      <th>day</th>\n",
       "      <th>conversion</th>\n",
       "    </tr>\n",
       "  </thead>\n",
       "  <tbody>\n",
       "    <tr>\n",
       "      <th>0</th>\n",
       "      <td>450007</td>\n",
       "      <td>2015-02-28</td>\n",
       "      <td>Desktop</td>\n",
       "      <td>Female</td>\n",
       "      <td>home_page</td>\n",
       "      <td>NaN</td>\n",
       "      <td>NaN</td>\n",
       "      <td>NaN</td>\n",
       "      <td>2015</td>\n",
       "      <td>2</td>\n",
       "      <td>28</td>\n",
       "      <td>exit_home</td>\n",
       "    </tr>\n",
       "    <tr>\n",
       "      <th>1</th>\n",
       "      <td>756838</td>\n",
       "      <td>2015-01-13</td>\n",
       "      <td>Desktop</td>\n",
       "      <td>Male</td>\n",
       "      <td>home_page</td>\n",
       "      <td>NaN</td>\n",
       "      <td>NaN</td>\n",
       "      <td>NaN</td>\n",
       "      <td>2015</td>\n",
       "      <td>1</td>\n",
       "      <td>13</td>\n",
       "      <td>exit_home</td>\n",
       "    </tr>\n",
       "    <tr>\n",
       "      <th>2</th>\n",
       "      <td>568983</td>\n",
       "      <td>2015-04-09</td>\n",
       "      <td>Desktop</td>\n",
       "      <td>Male</td>\n",
       "      <td>home_page</td>\n",
       "      <td>search_page</td>\n",
       "      <td>NaN</td>\n",
       "      <td>NaN</td>\n",
       "      <td>2015</td>\n",
       "      <td>4</td>\n",
       "      <td>9</td>\n",
       "      <td>exit_search</td>\n",
       "    </tr>\n",
       "    <tr>\n",
       "      <th>3</th>\n",
       "      <td>190794</td>\n",
       "      <td>2015-02-18</td>\n",
       "      <td>Desktop</td>\n",
       "      <td>Female</td>\n",
       "      <td>home_page</td>\n",
       "      <td>search_page</td>\n",
       "      <td>NaN</td>\n",
       "      <td>NaN</td>\n",
       "      <td>2015</td>\n",
       "      <td>2</td>\n",
       "      <td>18</td>\n",
       "      <td>exit_search</td>\n",
       "    </tr>\n",
       "    <tr>\n",
       "      <th>4</th>\n",
       "      <td>537909</td>\n",
       "      <td>2015-01-15</td>\n",
       "      <td>Desktop</td>\n",
       "      <td>Male</td>\n",
       "      <td>home_page</td>\n",
       "      <td>NaN</td>\n",
       "      <td>NaN</td>\n",
       "      <td>NaN</td>\n",
       "      <td>2015</td>\n",
       "      <td>1</td>\n",
       "      <td>15</td>\n",
       "      <td>exit_home</td>\n",
       "    </tr>\n",
       "  </tbody>\n",
       "</table>\n",
       "</div>"
      ],
      "text/plain": [
       "   user_id       date   device     sex       home       search payment  \\\n",
       "0   450007 2015-02-28  Desktop  Female  home_page          NaN     NaN   \n",
       "1   756838 2015-01-13  Desktop    Male  home_page          NaN     NaN   \n",
       "2   568983 2015-04-09  Desktop    Male  home_page  search_page     NaN   \n",
       "3   190794 2015-02-18  Desktop  Female  home_page  search_page     NaN   \n",
       "4   537909 2015-01-15  Desktop    Male  home_page          NaN     NaN   \n",
       "\n",
       "  confirm  year  month  day   conversion  \n",
       "0     NaN  2015      2   28    exit_home  \n",
       "1     NaN  2015      1   13    exit_home  \n",
       "2     NaN  2015      4    9  exit_search  \n",
       "3     NaN  2015      2   18  exit_search  \n",
       "4     NaN  2015      1   15    exit_home  "
      ]
     },
     "execution_count": 264,
     "metadata": {},
     "output_type": "execute_result"
    }
   ],
   "source": [
    "user4.head()"
   ]
  },
  {
   "cell_type": "code",
   "execution_count": 289,
   "metadata": {
    "collapsed": false
   },
   "outputs": [
    {
     "data": {
      "text/plain": [
       "<matplotlib.axes._subplots.AxesSubplot at 0x1252af60>"
      ]
     },
     "execution_count": 289,
     "metadata": {},
     "output_type": "execute_result"
    },
    {
     "data": {
      "image/png": "[encoded data removed]",
      "text/plain": [
       "<matplotlib.figure.Figure at 0x12499f60>"
      ]
     },
     "metadata": {},
     "output_type": "display_data"
    }
   ],
   "source": [
    "user4.conversion.value_counts().plot(kind = 'bar')"
   ]
  },
  {
   "cell_type": "code",
   "execution_count": 265,
   "metadata": {
    "collapsed": false
   },
   "outputs": [
    {
     "data": {
      "text/plain": [
       "<seaborn.axisgrid.FacetGrid at 0x10c4b240>"
      ]
     },
     "execution_count": 265,
     "metadata": {},
     "output_type": "execute_result"
    },
    {
     "data": {
      "image/png": "[encoded data removed]",
      "text/plain": [
       "<matplotlib.figure.Figure at 0x10c4b208>"
      ]
     },
     "metadata": {},
     "output_type": "display_data"
    }
   ],
   "source": [
    "\n",
    "sns.FacetGrid(user4, col='device').map(sns.countplot,'conversion')"
   ]
  },
  {
   "cell_type": "code",
   "execution_count": 267,
   "metadata": {
    "collapsed": false
   },
   "outputs": [
    {
     "data": {
      "text/plain": [
       "<seaborn.axisgrid.FacetGrid at 0x1117ad30>"
      ]
     },
     "execution_count": 267,
     "metadata": {},
     "output_type": "execute_result"
    },
    {
     "data": {
      "image/png": "[encoded data removed]",
      "text/plain": [
       "<matplotlib.figure.Figure at 0x123f7a58>"
      ]
     },
     "metadata": {},
     "output_type": "display_data"
    }
   ],
   "source": [
    "\n",
    "sns.FacetGrid(user4, col='sex').map(sns.countplot,'conversion')"
   ]
  },
  {
   "cell_type": "code",
   "execution_count": 270,
   "metadata": {
    "collapsed": false
   },
   "outputs": [
    {
     "data": {
      "text/plain": [
       "<seaborn.axisgrid.FacetGrid at 0x12138fd0>"
      ]
     },
     "execution_count": 270,
     "metadata": {},
     "output_type": "execute_result"
    },
    {
     "data": {
      "image/png": "[encoded data removed]",
      "text/plain": [
       "<matplotlib.figure.Figure at 0x10dac7f0>"
      ]
     },
     "metadata": {},
     "output_type": "display_data"
    }
   ],
   "source": [
    "\n",
    "sns.FacetGrid(user4, col='conversion').map(sns.countplot,'month')"
   ]
  },
  {
   "cell_type": "code",
   "execution_count": 271,
   "metadata": {
    "collapsed": false
   },
   "outputs": [
    {
     "data": {
      "text/html": [
       "<div>\n",
       "<table border=\"1\" class=\"dataframe\">\n",
       "  <thead>\n",
       "    <tr style=\"text-align: right;\">\n",
       "      <th></th>\n",
       "      <th>user_id</th>\n",
       "      <th>date</th>\n",
       "      <th>device</th>\n",
       "      <th>sex</th>\n",
       "      <th>home</th>\n",
       "      <th>search</th>\n",
       "      <th>payment</th>\n",
       "      <th>confirm</th>\n",
       "      <th>year</th>\n",
       "      <th>month</th>\n",
       "      <th>day</th>\n",
       "      <th>conversion</th>\n",
       "      <th>exit_confirm</th>\n",
       "      <th>exit_home</th>\n",
       "      <th>exit_payment</th>\n",
       "      <th>exit_search</th>\n",
       "    </tr>\n",
       "  </thead>\n",
       "  <tbody>\n",
       "    <tr>\n",
       "      <th>0</th>\n",
       "      <td>450007</td>\n",
       "      <td>2015-02-28</td>\n",
       "      <td>Desktop</td>\n",
       "      <td>Female</td>\n",
       "      <td>home_page</td>\n",
       "      <td>NaN</td>\n",
       "      <td>NaN</td>\n",
       "      <td>NaN</td>\n",
       "      <td>2015</td>\n",
       "      <td>2</td>\n",
       "      <td>28</td>\n",
       "      <td>exit_home</td>\n",
       "      <td>0</td>\n",
       "      <td>1</td>\n",
       "      <td>0</td>\n",
       "      <td>0</td>\n",
       "    </tr>\n",
       "    <tr>\n",
       "      <th>1</th>\n",
       "      <td>756838</td>\n",
       "      <td>2015-01-13</td>\n",
       "      <td>Desktop</td>\n",
       "      <td>Male</td>\n",
       "      <td>home_page</td>\n",
       "      <td>NaN</td>\n",
       "      <td>NaN</td>\n",
       "      <td>NaN</td>\n",
       "      <td>2015</td>\n",
       "      <td>1</td>\n",
       "      <td>13</td>\n",
       "      <td>exit_home</td>\n",
       "      <td>0</td>\n",
       "      <td>1</td>\n",
       "      <td>0</td>\n",
       "      <td>0</td>\n",
       "    </tr>\n",
       "    <tr>\n",
       "      <th>2</th>\n",
       "      <td>568983</td>\n",
       "      <td>2015-04-09</td>\n",
       "      <td>Desktop</td>\n",
       "      <td>Male</td>\n",
       "      <td>home_page</td>\n",
       "      <td>search_page</td>\n",
       "      <td>NaN</td>\n",
       "      <td>NaN</td>\n",
       "      <td>2015</td>\n",
       "      <td>4</td>\n",
       "      <td>9</td>\n",
       "      <td>exit_search</td>\n",
       "      <td>0</td>\n",
       "      <td>0</td>\n",
       "      <td>0</td>\n",
       "      <td>1</td>\n",
       "    </tr>\n",
       "    <tr>\n",
       "      <th>3</th>\n",
       "      <td>190794</td>\n",
       "      <td>2015-02-18</td>\n",
       "      <td>Desktop</td>\n",
       "      <td>Female</td>\n",
       "      <td>home_page</td>\n",
       "      <td>search_page</td>\n",
       "      <td>NaN</td>\n",
       "      <td>NaN</td>\n",
       "      <td>2015</td>\n",
       "      <td>2</td>\n",
       "      <td>18</td>\n",
       "      <td>exit_search</td>\n",
       "      <td>0</td>\n",
       "      <td>0</td>\n",
       "      <td>0</td>\n",
       "      <td>1</td>\n",
       "    </tr>\n",
       "    <tr>\n",
       "      <th>4</th>\n",
       "      <td>537909</td>\n",
       "      <td>2015-01-15</td>\n",
       "      <td>Desktop</td>\n",
       "      <td>Male</td>\n",
       "      <td>home_page</td>\n",
       "      <td>NaN</td>\n",
       "      <td>NaN</td>\n",
       "      <td>NaN</td>\n",
       "      <td>2015</td>\n",
       "      <td>1</td>\n",
       "      <td>15</td>\n",
       "      <td>exit_home</td>\n",
       "      <td>0</td>\n",
       "      <td>1</td>\n",
       "      <td>0</td>\n",
       "      <td>0</td>\n",
       "    </tr>\n",
       "  </tbody>\n",
       "</table>\n",
       "</div>"
      ],
      "text/plain": [
       "   user_id       date   device     sex       home       search payment  \\\n",
       "0   450007 2015-02-28  Desktop  Female  home_page          NaN     NaN   \n",
       "1   756838 2015-01-13  Desktop    Male  home_page          NaN     NaN   \n",
       "2   568983 2015-04-09  Desktop    Male  home_page  search_page     NaN   \n",
       "3   190794 2015-02-18  Desktop  Female  home_page  search_page     NaN   \n",
       "4   537909 2015-01-15  Desktop    Male  home_page          NaN     NaN   \n",
       "\n",
       "  confirm  year  month  day   conversion  exit_confirm  exit_home  \\\n",
       "0     NaN  2015      2   28    exit_home             0          1   \n",
       "1     NaN  2015      1   13    exit_home             0          1   \n",
       "2     NaN  2015      4    9  exit_search             0          0   \n",
       "3     NaN  2015      2   18  exit_search             0          0   \n",
       "4     NaN  2015      1   15    exit_home             0          1   \n",
       "\n",
       "   exit_payment  exit_search  \n",
       "0             0            0  \n",
       "1             0            0  \n",
       "2             0            1  \n",
       "3             0            1  \n",
       "4             0            0  "
      ]
     },
     "execution_count": 271,
     "metadata": {},
     "output_type": "execute_result"
    }
   ],
   "source": [
    "df_exit = pd.get_dummies(user4.conversion)\n",
    "user5 = pd.concat([user4,df_exit],axis = 1)\n",
    "user5.head()"
   ]
  },
  {
   "cell_type": "code",
   "execution_count": 277,
   "metadata": {
    "collapsed": false
   },
   "outputs": [],
   "source": [
    "user5['gender'] = user5['sex'].map( {'Female': 0, 'Male': 1} ).astype(int)"
   ]
  },
  {
   "cell_type": "code",
   "execution_count": 278,
   "metadata": {
    "collapsed": true
   },
   "outputs": [],
   "source": [
    "user5['devices'] = user5['device'].map( {'Desktop': 0, 'Mobile': 1} ).astype(int)"
   ]
  },
  {
   "cell_type": "code",
   "execution_count": 279,
   "metadata": {
    "collapsed": false
   },
   "outputs": [
    {
     "data": {
      "text/html": [
       "<div>\n",
       "<table border=\"1\" class=\"dataframe\">\n",
       "  <thead>\n",
       "    <tr style=\"text-align: right;\">\n",
       "      <th></th>\n",
       "      <th>user_id</th>\n",
       "      <th>date</th>\n",
       "      <th>device</th>\n",
       "      <th>sex</th>\n",
       "      <th>home</th>\n",
       "      <th>search</th>\n",
       "      <th>payment</th>\n",
       "      <th>confirm</th>\n",
       "      <th>year</th>\n",
       "      <th>month</th>\n",
       "      <th>day</th>\n",
       "      <th>conversion</th>\n",
       "      <th>exit_confirm</th>\n",
       "      <th>exit_home</th>\n",
       "      <th>exit_payment</th>\n",
       "      <th>exit_search</th>\n",
       "      <th>gender</th>\n",
       "      <th>devices</th>\n",
       "    </tr>\n",
       "  </thead>\n",
       "  <tbody>\n",
       "    <tr>\n",
       "      <th>0</th>\n",
       "      <td>450007</td>\n",
       "      <td>2015-02-28</td>\n",
       "      <td>Desktop</td>\n",
       "      <td>Female</td>\n",
       "      <td>home_page</td>\n",
       "      <td>NaN</td>\n",
       "      <td>NaN</td>\n",
       "      <td>NaN</td>\n",
       "      <td>2015</td>\n",
       "      <td>2</td>\n",
       "      <td>28</td>\n",
       "      <td>exit_home</td>\n",
       "      <td>0</td>\n",
       "      <td>1</td>\n",
       "      <td>0</td>\n",
       "      <td>0</td>\n",
       "      <td>0</td>\n",
       "      <td>0</td>\n",
       "    </tr>\n",
       "    <tr>\n",
       "      <th>1</th>\n",
       "      <td>756838</td>\n",
       "      <td>2015-01-13</td>\n",
       "      <td>Desktop</td>\n",
       "      <td>Male</td>\n",
       "      <td>home_page</td>\n",
       "      <td>NaN</td>\n",
       "      <td>NaN</td>\n",
       "      <td>NaN</td>\n",
       "      <td>2015</td>\n",
       "      <td>1</td>\n",
       "      <td>13</td>\n",
       "      <td>exit_home</td>\n",
       "      <td>0</td>\n",
       "      <td>1</td>\n",
       "      <td>0</td>\n",
       "      <td>0</td>\n",
       "      <td>1</td>\n",
       "      <td>0</td>\n",
       "    </tr>\n",
       "    <tr>\n",
       "      <th>2</th>\n",
       "      <td>568983</td>\n",
       "      <td>2015-04-09</td>\n",
       "      <td>Desktop</td>\n",
       "      <td>Male</td>\n",
       "      <td>home_page</td>\n",
       "      <td>search_page</td>\n",
       "      <td>NaN</td>\n",
       "      <td>NaN</td>\n",
       "      <td>2015</td>\n",
       "      <td>4</td>\n",
       "      <td>9</td>\n",
       "      <td>exit_search</td>\n",
       "      <td>0</td>\n",
       "      <td>0</td>\n",
       "      <td>0</td>\n",
       "      <td>1</td>\n",
       "      <td>1</td>\n",
       "      <td>0</td>\n",
       "    </tr>\n",
       "    <tr>\n",
       "      <th>3</th>\n",
       "      <td>190794</td>\n",
       "      <td>2015-02-18</td>\n",
       "      <td>Desktop</td>\n",
       "      <td>Female</td>\n",
       "      <td>home_page</td>\n",
       "      <td>search_page</td>\n",
       "      <td>NaN</td>\n",
       "      <td>NaN</td>\n",
       "      <td>2015</td>\n",
       "      <td>2</td>\n",
       "      <td>18</td>\n",
       "      <td>exit_search</td>\n",
       "      <td>0</td>\n",
       "      <td>0</td>\n",
       "      <td>0</td>\n",
       "      <td>1</td>\n",
       "      <td>0</td>\n",
       "      <td>0</td>\n",
       "    </tr>\n",
       "    <tr>\n",
       "      <th>4</th>\n",
       "      <td>537909</td>\n",
       "      <td>2015-01-15</td>\n",
       "      <td>Desktop</td>\n",
       "      <td>Male</td>\n",
       "      <td>home_page</td>\n",
       "      <td>NaN</td>\n",
       "      <td>NaN</td>\n",
       "      <td>NaN</td>\n",
       "      <td>2015</td>\n",
       "      <td>1</td>\n",
       "      <td>15</td>\n",
       "      <td>exit_home</td>\n",
       "      <td>0</td>\n",
       "      <td>1</td>\n",
       "      <td>0</td>\n",
       "      <td>0</td>\n",
       "      <td>1</td>\n",
       "      <td>0</td>\n",
       "    </tr>\n",
       "  </tbody>\n",
       "</table>\n",
       "</div>"
      ],
      "text/plain": [
       "   user_id       date   device     sex       home       search payment  \\\n",
       "0   450007 2015-02-28  Desktop  Female  home_page          NaN     NaN   \n",
       "1   756838 2015-01-13  Desktop    Male  home_page          NaN     NaN   \n",
       "2   568983 2015-04-09  Desktop    Male  home_page  search_page     NaN   \n",
       "3   190794 2015-02-18  Desktop  Female  home_page  search_page     NaN   \n",
       "4   537909 2015-01-15  Desktop    Male  home_page          NaN     NaN   \n",
       "\n",
       "  confirm  year  month  day   conversion  exit_confirm  exit_home  \\\n",
       "0     NaN  2015      2   28    exit_home             0          1   \n",
       "1     NaN  2015      1   13    exit_home             0          1   \n",
       "2     NaN  2015      4    9  exit_search             0          0   \n",
       "3     NaN  2015      2   18  exit_search             0          0   \n",
       "4     NaN  2015      1   15    exit_home             0          1   \n",
       "\n",
       "   exit_payment  exit_search  gender  devices  \n",
       "0             0            0       0        0  \n",
       "1             0            0       1        0  \n",
       "2             0            1       1        0  \n",
       "3             0            1       0        0  \n",
       "4             0            0       1        0  "
      ]
     },
     "execution_count": 279,
     "metadata": {},
     "output_type": "execute_result"
    }
   ],
   "source": [
    "user5.head()"
   ]
  },
  {
   "cell_type": "markdown",
   "metadata": {},
   "source": [
    "## Build model to find out what result in exit for each page"
   ]
  },
  {
   "cell_type": "code",
   "execution_count": 280,
   "metadata": {
    "collapsed": true
   },
   "outputs": [],
   "source": [
    "X = user5[['devices','gender','month','day']]\n",
    "y_home = user5['exit_home']\n",
    "y_search = user5['exit_search']\n",
    "y_payment = user5['exit_payment']\n",
    "y_confirm = user5['exit_confirm']"
   ]
  },
  {
   "cell_type": "code",
   "execution_count": 281,
   "metadata": {
    "collapsed": false
   },
   "outputs": [],
   "source": [
    "from sklearn.tree import DecisionTreeClassifier\n",
    "from sklearn.grid_search import GridSearchCV\n",
    "from sklearn.cross_validation import cross_val_score"
   ]
  },
  {
   "cell_type": "code",
   "execution_count": 294,
   "metadata": {
    "collapsed": false
   },
   "outputs": [
    {
     "data": {
      "text/plain": [
       "<matplotlib.axes._subplots.AxesSubplot at 0x15221978>"
      ]
     },
     "execution_count": 294,
     "metadata": {},
     "output_type": "execute_result"
    },
    {
     "data": {
      "image/png": "[encoded data removed]",
      "text/plain": [
       "<matplotlib.figure.Figure at 0x151da240>"
      ]
     },
     "metadata": {},
     "output_type": "display_data"
    }
   ],
   "source": [
    "dec_home = DecisionTreeClassifier(max_depth=5, min_samples_split=2, max_leaf_nodes=6)\n",
    "dec_home.fit(X,y_home)\n",
    "importance = dec_home.feature_importances_\n",
    "feature_names = X.columns.values \n",
    "df1 = pd.DataFrame(importance,columns=['Importance'],index = feature_names)\n",
    "df1 = df1.sort_values(['Importance'],ascending=False)\n",
    "df1.plot(kind = 'bar')"
   ]
  },
  {
   "cell_type": "code",
   "execution_count": 295,
   "metadata": {
    "collapsed": false
   },
   "outputs": [
    {
     "data": {
      "text/plain": [
       "['dec_home.pkl']"
      ]
     },
     "execution_count": 295,
     "metadata": {},
     "output_type": "execute_result"
    }
   ],
   "source": [
    "from sklearn.externals import joblib\n",
    "joblib.dump(dec_home, 'dec_home.pkl')"
   ]
  },
  {
   "cell_type": "code",
   "execution_count": 296,
   "metadata": {
    "collapsed": true
   },
   "outputs": [],
   "source": [
    "from sklearn.tree import export_graphviz\n",
    "from graphviz import Source\n",
    "from sklearn.externals import joblib\n",
    "dec_home = joblib.load('dec_home.pkl')"
   ]
  },
  {
   "cell_type": "code",
   "execution_count": 297,
   "metadata": {
    "collapsed": false
   },
   "outputs": [
    {
     "data": {
      "image/svg+xml": [
       "<?xml version=\"1.0\" encoding=\"UTF-8\" standalone=\"no\"?>\r\n",
       "<!DOCTYPE svg PUBLIC \"-//W3C//DTD SVG 1.1//EN\"\r\n",
       " \"http://www.w3.org/Graphics/SVG/1.1/DTD/svg11.dtd\">\r\n",
       "<!-- Generated by graphviz version 2.38.0 (20140413.2041)\r\n",
       " -->\r\n",
       "<!-- Title: Tree Pages: 1 -->\r\n",
       "<svg width=\"631pt\" height=\"477pt\"\r\n",
       " viewBox=\"0.00 0.00 630.50 477.00\" xmlns=\"http://www.w3.org/2000/svg\" xmlns:xlink=\"http://www.w3.org/1999/xlink\">\r\n",
       "<g id=\"graph0\" class=\"graph\" transform=\"scale(1 1) rotate(0) translate(4 473)\">\r\n",
       "<title>Tree</title>\r\n",
       "<polygon fill=\"white\" stroke=\"none\" points=\"-4,4 -4,-473 626.5,-473 626.5,4 -4,4\"/>\r\n",
       "<!-- 0 -->\r\n",
       "<g id=\"node1\" class=\"node\"><title>0</title>\r\n",
       "<polygon fill=\"none\" stroke=\"black\" points=\"385,-469 240,-469 240,-401 385,-401 385,-469\"/>\r\n",
       "<text text-anchor=\"middle\" x=\"312.5\" y=\"-453.8\" font-family=\"Times New Roman,serif\" font-size=\"14.00\">month &lt;= 2.5</text>\r\n",
       "<text text-anchor=\"middle\" x=\"312.5\" y=\"-438.8\" font-family=\"Times New Roman,serif\" font-size=\"14.00\">gini = 0.5</text>\r\n",
       "<text text-anchor=\"middle\" x=\"312.5\" y=\"-423.8\" font-family=\"Times New Roman,serif\" font-size=\"14.00\">samples = 90400</text>\r\n",
       "<text text-anchor=\"middle\" x=\"312.5\" y=\"-408.8\" font-family=\"Times New Roman,serif\" font-size=\"14.00\">value = [45200, 45200]</text>\r\n",
       "</g>\r\n",
       "<!-- 1 -->\r\n",
       "<g id=\"node2\" class=\"node\"><title>1</title>\r\n",
       "<polygon fill=\"none\" stroke=\"black\" points=\"304,-365 159,-365 159,-297 304,-297 304,-365\"/>\r\n",
       "<text text-anchor=\"middle\" x=\"231.5\" y=\"-349.8\" font-family=\"Times New Roman,serif\" font-size=\"14.00\">devices &lt;= 0.5</text>\r\n",
       "<text text-anchor=\"middle\" x=\"231.5\" y=\"-334.8\" font-family=\"Times New Roman,serif\" font-size=\"14.00\">gini = 0.4789</text>\r\n",
       "<text text-anchor=\"middle\" x=\"231.5\" y=\"-319.8\" font-family=\"Times New Roman,serif\" font-size=\"14.00\">samples = 45200</text>\r\n",
       "<text text-anchor=\"middle\" x=\"231.5\" y=\"-304.8\" font-family=\"Times New Roman,serif\" font-size=\"14.00\">value = [27241, 17959]</text>\r\n",
       "</g>\r\n",
       "<!-- 0&#45;&gt;1 -->\r\n",
       "<g id=\"edge1\" class=\"edge\"><title>0&#45;&gt;1</title>\r\n",
       "<path fill=\"none\" stroke=\"black\" d=\"M286.202,-400.884C279.199,-392.065 271.547,-382.43 264.245,-373.235\"/>\r\n",
       "<polygon fill=\"black\" stroke=\"black\" points=\"266.903,-370.954 257.944,-365.299 261.422,-375.307 266.903,-370.954\"/>\r\n",
       "<text text-anchor=\"middle\" x=\"255.093\" y=\"-386.436\" font-family=\"Times New Roman,serif\" font-size=\"14.00\">True</text>\r\n",
       "</g>\r\n",
       "<!-- 2 -->\r\n",
       "<g id=\"node5\" class=\"node\"><title>2</title>\r\n",
       "<polygon fill=\"none\" stroke=\"black\" points=\"467,-365 322,-365 322,-297 467,-297 467,-365\"/>\r\n",
       "<text text-anchor=\"middle\" x=\"394.5\" y=\"-349.8\" font-family=\"Times New Roman,serif\" font-size=\"14.00\">devices &lt;= 0.5</text>\r\n",
       "<text text-anchor=\"middle\" x=\"394.5\" y=\"-334.8\" font-family=\"Times New Roman,serif\" font-size=\"14.00\">gini = 0.4789</text>\r\n",
       "<text text-anchor=\"middle\" x=\"394.5\" y=\"-319.8\" font-family=\"Times New Roman,serif\" font-size=\"14.00\">samples = 45200</text>\r\n",
       "<text text-anchor=\"middle\" x=\"394.5\" y=\"-304.8\" font-family=\"Times New Roman,serif\" font-size=\"14.00\">value = [17959, 27241]</text>\r\n",
       "</g>\r\n",
       "<!-- 0&#45;&gt;2 -->\r\n",
       "<g id=\"edge4\" class=\"edge\"><title>0&#45;&gt;2</title>\r\n",
       "<path fill=\"none\" stroke=\"black\" d=\"M339.123,-400.884C346.212,-392.065 353.958,-382.43 361.35,-373.235\"/>\r\n",
       "<polygon fill=\"black\" stroke=\"black\" points=\"364.192,-375.286 367.73,-365.299 358.736,-370.9 364.192,-375.286\"/>\r\n",
       "<text text-anchor=\"middle\" x=\"370.431\" y=\"-386.453\" font-family=\"Times New Roman,serif\" font-size=\"14.00\">False</text>\r\n",
       "</g>\r\n",
       "<!-- 3 -->\r\n",
       "<g id=\"node3\" class=\"node\"><title>3</title>\r\n",
       "<polygon fill=\"none\" stroke=\"black\" points=\"145,-253.5 0,-253.5 0,-200.5 145,-200.5 145,-253.5\"/>\r\n",
       "<text text-anchor=\"middle\" x=\"72.5\" y=\"-238.3\" font-family=\"Times New Roman,serif\" font-size=\"14.00\">gini = 0.5</text>\r\n",
       "<text text-anchor=\"middle\" x=\"72.5\" y=\"-223.3\" font-family=\"Times New Roman,serif\" font-size=\"14.00\">samples = 30100</text>\r\n",
       "<text text-anchor=\"middle\" x=\"72.5\" y=\"-208.3\" font-family=\"Times New Roman,serif\" font-size=\"14.00\">value = [15161, 14939]</text>\r\n",
       "</g>\r\n",
       "<!-- 1&#45;&gt;3 -->\r\n",
       "<g id=\"edge2\" class=\"edge\"><title>1&#45;&gt;3</title>\r\n",
       "<path fill=\"none\" stroke=\"black\" d=\"M179.877,-296.884C160.933,-284.731 139.572,-271.027 120.919,-259.061\"/>\r\n",
       "<polygon fill=\"black\" stroke=\"black\" points=\"122.588,-255.974 112.281,-253.52 118.808,-261.865 122.588,-255.974\"/>\r\n",
       "</g>\r\n",
       "<!-- 4 -->\r\n",
       "<g id=\"node4\" class=\"node\"><title>4</title>\r\n",
       "<polygon fill=\"none\" stroke=\"black\" points=\"301.5,-253.5 163.5,-253.5 163.5,-200.5 301.5,-200.5 301.5,-253.5\"/>\r\n",
       "<text text-anchor=\"middle\" x=\"232.5\" y=\"-238.3\" font-family=\"Times New Roman,serif\" font-size=\"14.00\">gini = 0.32</text>\r\n",
       "<text text-anchor=\"middle\" x=\"232.5\" y=\"-223.3\" font-family=\"Times New Roman,serif\" font-size=\"14.00\">samples = 15100</text>\r\n",
       "<text text-anchor=\"middle\" x=\"232.5\" y=\"-208.3\" font-family=\"Times New Roman,serif\" font-size=\"14.00\">value = [12080, 3020]</text>\r\n",
       "</g>\r\n",
       "<!-- 1&#45;&gt;4 -->\r\n",
       "<g id=\"edge3\" class=\"edge\"><title>1&#45;&gt;4</title>\r\n",
       "<path fill=\"none\" stroke=\"black\" d=\"M231.825,-296.884C231.928,-286.326 232.043,-274.597 232.148,-263.854\"/>\r\n",
       "<polygon fill=\"black\" stroke=\"black\" points=\"235.652,-263.554 232.25,-253.52 228.652,-263.485 235.652,-263.554\"/>\r\n",
       "</g>\r\n",
       "<!-- 5 -->\r\n",
       "<g id=\"node6\" class=\"node\"><title>5</title>\r\n",
       "<polygon fill=\"none\" stroke=\"black\" points=\"466,-261 321,-261 321,-193 466,-193 466,-261\"/>\r\n",
       "<text text-anchor=\"middle\" x=\"393.5\" y=\"-245.8\" font-family=\"Times New Roman,serif\" font-size=\"14.00\">day &lt;= 2.5</text>\r\n",
       "<text text-anchor=\"middle\" x=\"393.5\" y=\"-230.8\" font-family=\"Times New Roman,serif\" font-size=\"14.00\">gini = 0.5</text>\r\n",
       "<text text-anchor=\"middle\" x=\"393.5\" y=\"-215.8\" font-family=\"Times New Roman,serif\" font-size=\"14.00\">samples = 30100</text>\r\n",
       "<text text-anchor=\"middle\" x=\"393.5\" y=\"-200.8\" font-family=\"Times New Roman,serif\" font-size=\"14.00\">value = [14939, 15161]</text>\r\n",
       "</g>\r\n",
       "<!-- 2&#45;&gt;5 -->\r\n",
       "<g id=\"edge5\" class=\"edge\"><title>2&#45;&gt;5</title>\r\n",
       "<path fill=\"none\" stroke=\"black\" d=\"M394.175,-296.884C394.096,-288.778 394.01,-279.982 393.926,-271.472\"/>\r\n",
       "<polygon fill=\"black\" stroke=\"black\" points=\"397.424,-271.265 393.826,-261.299 390.425,-271.333 397.424,-271.265\"/>\r\n",
       "</g>\r\n",
       "<!-- 6 -->\r\n",
       "<g id=\"node11\" class=\"node\"><title>6</title>\r\n",
       "<polygon fill=\"none\" stroke=\"black\" points=\"622.5,-253.5 484.5,-253.5 484.5,-200.5 622.5,-200.5 622.5,-253.5\"/>\r\n",
       "<text text-anchor=\"middle\" x=\"553.5\" y=\"-238.3\" font-family=\"Times New Roman,serif\" font-size=\"14.00\">gini = 0.32</text>\r\n",
       "<text text-anchor=\"middle\" x=\"553.5\" y=\"-223.3\" font-family=\"Times New Roman,serif\" font-size=\"14.00\">samples = 15100</text>\r\n",
       "<text text-anchor=\"middle\" x=\"553.5\" y=\"-208.3\" font-family=\"Times New Roman,serif\" font-size=\"14.00\">value = [3020, 12080]</text>\r\n",
       "</g>\r\n",
       "<!-- 2&#45;&gt;6 -->\r\n",
       "<g id=\"edge10\" class=\"edge\"><title>2&#45;&gt;6</title>\r\n",
       "<path fill=\"none\" stroke=\"black\" d=\"M446.123,-296.884C465.067,-284.731 486.428,-271.027 505.081,-259.061\"/>\r\n",
       "<polygon fill=\"black\" stroke=\"black\" points=\"507.192,-261.865 513.719,-253.52 503.412,-255.974 507.192,-261.865\"/>\r\n",
       "</g>\r\n",
       "<!-- 7 -->\r\n",
       "<g id=\"node7\" class=\"node\"><title>7</title>\r\n",
       "<polygon fill=\"none\" stroke=\"black\" points=\"379,-149.5 254,-149.5 254,-96.5 379,-96.5 379,-149.5\"/>\r\n",
       "<text text-anchor=\"middle\" x=\"316.5\" y=\"-134.3\" font-family=\"Times New Roman,serif\" font-size=\"14.00\">gini = 0.4972</text>\r\n",
       "<text text-anchor=\"middle\" x=\"316.5\" y=\"-119.3\" font-family=\"Times New Roman,serif\" font-size=\"14.00\">samples = 1980</text>\r\n",
       "<text text-anchor=\"middle\" x=\"316.5\" y=\"-104.3\" font-family=\"Times New Roman,serif\" font-size=\"14.00\">value = [916, 1064]</text>\r\n",
       "</g>\r\n",
       "<!-- 5&#45;&gt;7 -->\r\n",
       "<g id=\"edge6\" class=\"edge\"><title>5&#45;&gt;7</title>\r\n",
       "<path fill=\"none\" stroke=\"black\" d=\"M368.5,-192.884C359.949,-181.556 350.38,-168.88 341.805,-157.521\"/>\r\n",
       "<polygon fill=\"black\" stroke=\"black\" points=\"344.584,-155.392 335.765,-149.52 338.997,-159.61 344.584,-155.392\"/>\r\n",
       "</g>\r\n",
       "<!-- 8 -->\r\n",
       "<g id=\"node8\" class=\"node\"><title>8</title>\r\n",
       "<polygon fill=\"none\" stroke=\"black\" points=\"542,-157 397,-157 397,-89 542,-89 542,-157\"/>\r\n",
       "<text text-anchor=\"middle\" x=\"469.5\" y=\"-141.8\" font-family=\"Times New Roman,serif\" font-size=\"14.00\">month &lt;= 3.5</text>\r\n",
       "<text text-anchor=\"middle\" x=\"469.5\" y=\"-126.8\" font-family=\"Times New Roman,serif\" font-size=\"14.00\">gini = 0.5</text>\r\n",
       "<text text-anchor=\"middle\" x=\"469.5\" y=\"-111.8\" font-family=\"Times New Roman,serif\" font-size=\"14.00\">samples = 28120</text>\r\n",
       "<text text-anchor=\"middle\" x=\"469.5\" y=\"-96.8\" font-family=\"Times New Roman,serif\" font-size=\"14.00\">value = [14023, 14097]</text>\r\n",
       "</g>\r\n",
       "<!-- 5&#45;&gt;8 -->\r\n",
       "<g id=\"edge7\" class=\"edge\"><title>5&#45;&gt;8</title>\r\n",
       "<path fill=\"none\" stroke=\"black\" d=\"M418.175,-192.884C424.679,-184.154 431.78,-174.625 438.568,-165.514\"/>\r\n",
       "<polygon fill=\"black\" stroke=\"black\" points=\"441.52,-167.409 444.689,-157.299 435.907,-163.227 441.52,-167.409\"/>\r\n",
       "</g>\r\n",
       "<!-- 9 -->\r\n",
       "<g id=\"node9\" class=\"node\"><title>9</title>\r\n",
       "<polygon fill=\"none\" stroke=\"black\" points=\"460,-53 329,-53 329,-0 460,-0 460,-53\"/>\r\n",
       "<text text-anchor=\"middle\" x=\"394.5\" y=\"-37.8\" font-family=\"Times New Roman,serif\" font-size=\"14.00\">gini = 0.4998</text>\r\n",
       "<text text-anchor=\"middle\" x=\"394.5\" y=\"-22.8\" font-family=\"Times New Roman,serif\" font-size=\"14.00\">samples = 14073</text>\r\n",
       "<text text-anchor=\"middle\" x=\"394.5\" y=\"-7.8\" font-family=\"Times New Roman,serif\" font-size=\"14.00\">value = [6910, 7163]</text>\r\n",
       "</g>\r\n",
       "<!-- 8&#45;&gt;9 -->\r\n",
       "<g id=\"edge8\" class=\"edge\"><title>8&#45;&gt;9</title>\r\n",
       "<path fill=\"none\" stroke=\"black\" d=\"M443.269,-88.9485C436.154,-79.9834 428.442,-70.2666 421.296,-61.2629\"/>\r\n",
       "<polygon fill=\"black\" stroke=\"black\" points=\"423.884,-58.8938 414.926,-53.2367 418.401,-63.2454 423.884,-58.8938\"/>\r\n",
       "</g>\r\n",
       "<!-- 10 -->\r\n",
       "<g id=\"node10\" class=\"node\"><title>10</title>\r\n",
       "<polygon fill=\"none\" stroke=\"black\" points=\"609,-53 478,-53 478,-0 609,-0 609,-53\"/>\r\n",
       "<text text-anchor=\"middle\" x=\"543.5\" y=\"-37.8\" font-family=\"Times New Roman,serif\" font-size=\"14.00\">gini = 0.4999</text>\r\n",
       "<text text-anchor=\"middle\" x=\"543.5\" y=\"-22.8\" font-family=\"Times New Roman,serif\" font-size=\"14.00\">samples = 14047</text>\r\n",
       "<text text-anchor=\"middle\" x=\"543.5\" y=\"-7.8\" font-family=\"Times New Roman,serif\" font-size=\"14.00\">value = [7113, 6934]</text>\r\n",
       "</g>\r\n",
       "<!-- 8&#45;&gt;10 -->\r\n",
       "<g id=\"edge9\" class=\"edge\"><title>8&#45;&gt;10</title>\r\n",
       "<path fill=\"none\" stroke=\"black\" d=\"M495.382,-88.9485C502.402,-79.9834 510.011,-70.2666 517.061,-61.2629\"/>\r\n",
       "<polygon fill=\"black\" stroke=\"black\" points=\"519.937,-63.2679 523.346,-53.2367 514.425,-58.9521 519.937,-63.2679\"/>\r\n",
       "</g>\r\n",
       "</g>\r\n",
       "</svg>\r\n"
      ],
      "text/plain": [
       "<graphviz.files.Source at 0x1522bd68>"
      ]
     },
     "execution_count": 297,
     "metadata": {},
     "output_type": "execute_result"
    }
   ],
   "source": [
    "\n",
    "Source(export_graphviz(dec_home, out_file=None, feature_names=X.columns))"
   ]
  },
  {
   "cell_type": "code",
   "execution_count": 301,
   "metadata": {
    "collapsed": false
   },
   "outputs": [
    {
     "data": {
      "text/plain": [
       "['dec_search.pkl']"
      ]
     },
     "execution_count": 301,
     "metadata": {},
     "output_type": "execute_result"
    },
    {
     "data": {
      "image/png": "[encoded data removed]",
      "text/plain": [
       "<matplotlib.figure.Figure at 0x13e725c0>"
      ]
     },
     "metadata": {},
     "output_type": "display_data"
    }
   ],
   "source": [
    "dec_search = DecisionTreeClassifier(max_depth=6, min_samples_split=2, max_leaf_nodes=10)\n",
    "dec_search.fit(X,y_search)\n",
    "importance = dec_search.feature_importances_\n",
    "feature_names = X.columns.values \n",
    "df1 = pd.DataFrame(importance,columns=['Importance'],index = feature_names)\n",
    "df1 = df1.sort_values(['Importance'],ascending=False)\n",
    "df1.plot(kind = 'bar')\n",
    "joblib.dump(dec_search, 'dec_search.pkl')"
   ]
  },
  {
   "cell_type": "code",
   "execution_count": 302,
   "metadata": {
    "collapsed": false
   },
   "outputs": [
    {
     "data": {
      "image/svg+xml": [
       "<?xml version=\"1.0\" encoding=\"UTF-8\" standalone=\"no\"?>\r\n",
       "<!DOCTYPE svg PUBLIC \"-//W3C//DTD SVG 1.1//EN\"\r\n",
       " \"http://www.w3.org/Graphics/SVG/1.1/DTD/svg11.dtd\">\r\n",
       "<!-- Generated by graphviz version 2.38.0 (20140413.2041)\r\n",
       " -->\r\n",
       "<!-- Title: Tree Pages: 1 -->\r\n",
       "<svg width=\"804pt\" height=\"581pt\"\r\n",
       " viewBox=\"0.00 0.00 804.00 581.00\" xmlns=\"http://www.w3.org/2000/svg\" xmlns:xlink=\"http://www.w3.org/1999/xlink\">\r\n",
       "<g id=\"graph0\" class=\"graph\" transform=\"scale(1 1) rotate(0) translate(4 577)\">\r\n",
       "<title>Tree</title>\r\n",
       "<polygon fill=\"white\" stroke=\"none\" points=\"-4,4 -4,-577 800,-577 800,4 -4,4\"/>\r\n",
       "<!-- 0 -->\r\n",
       "<g id=\"node1\" class=\"node\"><title>0</title>\r\n",
       "<polygon fill=\"none\" stroke=\"black\" points=\"395,-573 250,-573 250,-505 395,-505 395,-573\"/>\r\n",
       "<text text-anchor=\"middle\" x=\"322.5\" y=\"-557.8\" font-family=\"Times New Roman,serif\" font-size=\"14.00\">month &lt;= 2.5</text>\r\n",
       "<text text-anchor=\"middle\" x=\"322.5\" y=\"-542.8\" font-family=\"Times New Roman,serif\" font-size=\"14.00\">gini = 0.4911</text>\r\n",
       "<text text-anchor=\"middle\" x=\"322.5\" y=\"-527.8\" font-family=\"Times New Roman,serif\" font-size=\"14.00\">samples = 90400</text>\r\n",
       "<text text-anchor=\"middle\" x=\"322.5\" y=\"-512.8\" font-family=\"Times New Roman,serif\" font-size=\"14.00\">value = [51230, 39170]</text>\r\n",
       "</g>\r\n",
       "<!-- 1 -->\r\n",
       "<g id=\"node2\" class=\"node\"><title>1</title>\r\n",
       "<polygon fill=\"none\" stroke=\"black\" points=\"314,-469 169,-469 169,-401 314,-401 314,-469\"/>\r\n",
       "<text text-anchor=\"middle\" x=\"241.5\" y=\"-453.8\" font-family=\"Times New Roman,serif\" font-size=\"14.00\">devices &lt;= 0.5</text>\r\n",
       "<text text-anchor=\"middle\" x=\"241.5\" y=\"-438.8\" font-family=\"Times New Roman,serif\" font-size=\"14.00\">gini = 0.5</text>\r\n",
       "<text text-anchor=\"middle\" x=\"241.5\" y=\"-423.8\" font-family=\"Times New Roman,serif\" font-size=\"14.00\">samples = 45200</text>\r\n",
       "<text text-anchor=\"middle\" x=\"241.5\" y=\"-408.8\" font-family=\"Times New Roman,serif\" font-size=\"14.00\">value = [22761, 22439]</text>\r\n",
       "</g>\r\n",
       "<!-- 0&#45;&gt;1 -->\r\n",
       "<g id=\"edge1\" class=\"edge\"><title>0&#45;&gt;1</title>\r\n",
       "<path fill=\"none\" stroke=\"black\" d=\"M296.202,-504.884C289.199,-496.065 281.547,-486.43 274.245,-477.235\"/>\r\n",
       "<polygon fill=\"black\" stroke=\"black\" points=\"276.903,-474.954 267.944,-469.299 271.422,-479.307 276.903,-474.954\"/>\r\n",
       "<text text-anchor=\"middle\" x=\"265.093\" y=\"-490.436\" font-family=\"Times New Roman,serif\" font-size=\"14.00\">True</text>\r\n",
       "</g>\r\n",
       "<!-- 2 -->\r\n",
       "<g id=\"node9\" class=\"node\"><title>2</title>\r\n",
       "<polygon fill=\"none\" stroke=\"black\" points=\"477,-469 332,-469 332,-401 477,-401 477,-469\"/>\r\n",
       "<text text-anchor=\"middle\" x=\"404.5\" y=\"-453.8\" font-family=\"Times New Roman,serif\" font-size=\"14.00\">devices &lt;= 0.5</text>\r\n",
       "<text text-anchor=\"middle\" x=\"404.5\" y=\"-438.8\" font-family=\"Times New Roman,serif\" font-size=\"14.00\">gini = 0.4663</text>\r\n",
       "<text text-anchor=\"middle\" x=\"404.5\" y=\"-423.8\" font-family=\"Times New Roman,serif\" font-size=\"14.00\">samples = 45200</text>\r\n",
       "<text text-anchor=\"middle\" x=\"404.5\" y=\"-408.8\" font-family=\"Times New Roman,serif\" font-size=\"14.00\">value = [28469, 16731]</text>\r\n",
       "</g>\r\n",
       "<!-- 0&#45;&gt;2 -->\r\n",
       "<g id=\"edge8\" class=\"edge\"><title>0&#45;&gt;2</title>\r\n",
       "<path fill=\"none\" stroke=\"black\" d=\"M349.123,-504.884C356.212,-496.065 363.958,-486.43 371.35,-477.235\"/>\r\n",
       "<polygon fill=\"black\" stroke=\"black\" points=\"374.192,-479.286 377.73,-469.299 368.736,-474.9 374.192,-479.286\"/>\r\n",
       "<text text-anchor=\"middle\" x=\"380.431\" y=\"-490.453\" font-family=\"Times New Roman,serif\" font-size=\"14.00\">False</text>\r\n",
       "</g>\r\n",
       "<!-- 5 -->\r\n",
       "<g id=\"node3\" class=\"node\"><title>5</title>\r\n",
       "<polygon fill=\"none\" stroke=\"black\" points=\"160,-357.5 15,-357.5 15,-304.5 160,-304.5 160,-357.5\"/>\r\n",
       "<text text-anchor=\"middle\" x=\"87.5\" y=\"-342.3\" font-family=\"Times New Roman,serif\" font-size=\"14.00\">gini = 0.4883</text>\r\n",
       "<text text-anchor=\"middle\" x=\"87.5\" y=\"-327.3\" font-family=\"Times New Roman,serif\" font-size=\"14.00\">samples = 30100</text>\r\n",
       "<text text-anchor=\"middle\" x=\"87.5\" y=\"-312.3\" font-family=\"Times New Roman,serif\" font-size=\"14.00\">value = [17351, 12749]</text>\r\n",
       "</g>\r\n",
       "<!-- 1&#45;&gt;5 -->\r\n",
       "<g id=\"edge2\" class=\"edge\"><title>1&#45;&gt;5</title>\r\n",
       "<path fill=\"none\" stroke=\"black\" d=\"M191.501,-400.884C173.236,-388.786 152.65,-375.151 134.642,-363.224\"/>\r\n",
       "<polygon fill=\"black\" stroke=\"black\" points=\"136.3,-360.124 126.03,-357.52 132.435,-365.96 136.3,-360.124\"/>\r\n",
       "</g>\r\n",
       "<!-- 6 -->\r\n",
       "<g id=\"node4\" class=\"node\"><title>6</title>\r\n",
       "<polygon fill=\"none\" stroke=\"black\" points=\"309,-365 178,-365 178,-297 309,-297 309,-365\"/>\r\n",
       "<text text-anchor=\"middle\" x=\"243.5\" y=\"-349.8\" font-family=\"Times New Roman,serif\" font-size=\"14.00\">day &lt;= 28.5</text>\r\n",
       "<text text-anchor=\"middle\" x=\"243.5\" y=\"-334.8\" font-family=\"Times New Roman,serif\" font-size=\"14.00\">gini = 0.4598</text>\r\n",
       "<text text-anchor=\"middle\" x=\"243.5\" y=\"-319.8\" font-family=\"Times New Roman,serif\" font-size=\"14.00\">samples = 15100</text>\r\n",
       "<text text-anchor=\"middle\" x=\"243.5\" y=\"-304.8\" font-family=\"Times New Roman,serif\" font-size=\"14.00\">value = [5410, 9690]</text>\r\n",
       "</g>\r\n",
       "<!-- 1&#45;&gt;6 -->\r\n",
       "<g id=\"edge3\" class=\"edge\"><title>1&#45;&gt;6</title>\r\n",
       "<path fill=\"none\" stroke=\"black\" d=\"M242.149,-400.884C242.308,-392.778 242.481,-383.982 242.648,-375.472\"/>\r\n",
       "<polygon fill=\"black\" stroke=\"black\" points=\"246.15,-375.366 242.847,-365.299 239.152,-375.229 246.15,-375.366\"/>\r\n",
       "</g>\r\n",
       "<!-- 7 -->\r\n",
       "<g id=\"node5\" class=\"node\"><title>7</title>\r\n",
       "<polygon fill=\"none\" stroke=\"black\" points=\"171,-261 40,-261 40,-193 171,-193 171,-261\"/>\r\n",
       "<text text-anchor=\"middle\" x=\"105.5\" y=\"-245.8\" font-family=\"Times New Roman,serif\" font-size=\"14.00\">day &lt;= 8.5</text>\r\n",
       "<text text-anchor=\"middle\" x=\"105.5\" y=\"-230.8\" font-family=\"Times New Roman,serif\" font-size=\"14.00\">gini = 0.4616</text>\r\n",
       "<text text-anchor=\"middle\" x=\"105.5\" y=\"-215.8\" font-family=\"Times New Roman,serif\" font-size=\"14.00\">samples = 14389</text>\r\n",
       "<text text-anchor=\"middle\" x=\"105.5\" y=\"-200.8\" font-family=\"Times New Roman,serif\" font-size=\"14.00\">value = [5201, 9188]</text>\r\n",
       "</g>\r\n",
       "<!-- 6&#45;&gt;7 -->\r\n",
       "<g id=\"edge4\" class=\"edge\"><title>6&#45;&gt;7</title>\r\n",
       "<path fill=\"none\" stroke=\"black\" d=\"M198.695,-296.884C185.921,-287.442 171.88,-277.064 158.659,-267.292\"/>\r\n",
       "<polygon fill=\"black\" stroke=\"black\" points=\"160.674,-264.429 150.552,-261.299 156.513,-270.058 160.674,-264.429\"/>\r\n",
       "</g>\r\n",
       "<!-- 8 -->\r\n",
       "<g id=\"node8\" class=\"node\"><title>8</title>\r\n",
       "<polygon fill=\"none\" stroke=\"black\" points=\"307.5,-253.5 189.5,-253.5 189.5,-200.5 307.5,-200.5 307.5,-253.5\"/>\r\n",
       "<text text-anchor=\"middle\" x=\"248.5\" y=\"-238.3\" font-family=\"Times New Roman,serif\" font-size=\"14.00\">gini = 0.4151</text>\r\n",
       "<text text-anchor=\"middle\" x=\"248.5\" y=\"-223.3\" font-family=\"Times New Roman,serif\" font-size=\"14.00\">samples = 711</text>\r\n",
       "<text text-anchor=\"middle\" x=\"248.5\" y=\"-208.3\" font-family=\"Times New Roman,serif\" font-size=\"14.00\">value = [209, 502]</text>\r\n",
       "</g>\r\n",
       "<!-- 6&#45;&gt;8 -->\r\n",
       "<g id=\"edge7\" class=\"edge\"><title>6&#45;&gt;8</title>\r\n",
       "<path fill=\"none\" stroke=\"black\" d=\"M245.123,-296.884C245.646,-286.216 246.228,-274.352 246.759,-263.519\"/>\r\n",
       "<polygon fill=\"black\" stroke=\"black\" points=\"250.255,-263.679 247.249,-253.52 243.264,-263.337 250.255,-263.679\"/>\r\n",
       "</g>\r\n",
       "<!-- 13 -->\r\n",
       "<g id=\"node6\" class=\"node\"><title>13</title>\r\n",
       "<polygon fill=\"none\" stroke=\"black\" points=\"131,-149.5 0,-149.5 0,-96.5 131,-96.5 131,-149.5\"/>\r\n",
       "<text text-anchor=\"middle\" x=\"65.5\" y=\"-134.3\" font-family=\"Times New Roman,serif\" font-size=\"14.00\">gini = 0.4537</text>\r\n",
       "<text text-anchor=\"middle\" x=\"65.5\" y=\"-119.3\" font-family=\"Times New Roman,serif\" font-size=\"14.00\">samples = 4077</text>\r\n",
       "<text text-anchor=\"middle\" x=\"65.5\" y=\"-104.3\" font-family=\"Times New Roman,serif\" font-size=\"14.00\">value = [1418, 2659]</text>\r\n",
       "</g>\r\n",
       "<!-- 7&#45;&gt;13 -->\r\n",
       "<g id=\"edge5\" class=\"edge\"><title>7&#45;&gt;13</title>\r\n",
       "<path fill=\"none\" stroke=\"black\" d=\"M92.5131,-192.884C88.2434,-181.996 83.4853,-169.863 79.1666,-158.85\"/>\r\n",
       "<polygon fill=\"black\" stroke=\"black\" points=\"82.4172,-157.552 75.5078,-149.52 75.9003,-160.107 82.4172,-157.552\"/>\r\n",
       "</g>\r\n",
       "<!-- 14 -->\r\n",
       "<g id=\"node7\" class=\"node\"><title>14</title>\r\n",
       "<polygon fill=\"none\" stroke=\"black\" points=\"280,-149.5 149,-149.5 149,-96.5 280,-96.5 280,-149.5\"/>\r\n",
       "<text text-anchor=\"middle\" x=\"214.5\" y=\"-134.3\" font-family=\"Times New Roman,serif\" font-size=\"14.00\">gini = 0.4645</text>\r\n",
       "<text text-anchor=\"middle\" x=\"214.5\" y=\"-119.3\" font-family=\"Times New Roman,serif\" font-size=\"14.00\">samples = 10312</text>\r\n",
       "<text text-anchor=\"middle\" x=\"214.5\" y=\"-104.3\" font-family=\"Times New Roman,serif\" font-size=\"14.00\">value = [3783, 6529]</text>\r\n",
       "</g>\r\n",
       "<!-- 7&#45;&gt;14 -->\r\n",
       "<g id=\"edge6\" class=\"edge\"><title>7&#45;&gt;14</title>\r\n",
       "<path fill=\"none\" stroke=\"black\" d=\"M140.889,-192.884C153.347,-181.226 167.33,-168.141 179.736,-156.532\"/>\r\n",
       "<polygon fill=\"black\" stroke=\"black\" points=\"182.319,-158.908 187.229,-149.52 177.536,-153.797 182.319,-158.908\"/>\r\n",
       "</g>\r\n",
       "<!-- 3 -->\r\n",
       "<g id=\"node10\" class=\"node\"><title>3</title>\r\n",
       "<polygon fill=\"none\" stroke=\"black\" points=\"475,-365 330,-365 330,-297 475,-297 475,-365\"/>\r\n",
       "<text text-anchor=\"middle\" x=\"402.5\" y=\"-349.8\" font-family=\"Times New Roman,serif\" font-size=\"14.00\">day &lt;= 2.5</text>\r\n",
       "<text text-anchor=\"middle\" x=\"402.5\" y=\"-334.8\" font-family=\"Times New Roman,serif\" font-size=\"14.00\">gini = 0.4989</text>\r\n",
       "<text text-anchor=\"middle\" x=\"402.5\" y=\"-319.8\" font-family=\"Times New Roman,serif\" font-size=\"14.00\">samples = 30100</text>\r\n",
       "<text text-anchor=\"middle\" x=\"402.5\" y=\"-304.8\" font-family=\"Times New Roman,serif\" font-size=\"14.00\">value = [15759, 14341]</text>\r\n",
       "</g>\r\n",
       "<!-- 2&#45;&gt;3 -->\r\n",
       "<g id=\"edge9\" class=\"edge\"><title>2&#45;&gt;3</title>\r\n",
       "<path fill=\"none\" stroke=\"black\" d=\"M403.851,-400.884C403.692,-392.778 403.519,-383.982 403.352,-375.472\"/>\r\n",
       "<polygon fill=\"black\" stroke=\"black\" points=\"406.848,-375.229 403.153,-365.299 399.85,-375.366 406.848,-375.229\"/>\r\n",
       "</g>\r\n",
       "<!-- 4 -->\r\n",
       "<g id=\"node19\" class=\"node\"><title>4</title>\r\n",
       "<polygon fill=\"none\" stroke=\"black\" points=\"631.5,-357.5 493.5,-357.5 493.5,-304.5 631.5,-304.5 631.5,-357.5\"/>\r\n",
       "<text text-anchor=\"middle\" x=\"562.5\" y=\"-342.3\" font-family=\"Times New Roman,serif\" font-size=\"14.00\">gini = 0.2665</text>\r\n",
       "<text text-anchor=\"middle\" x=\"562.5\" y=\"-327.3\" font-family=\"Times New Roman,serif\" font-size=\"14.00\">samples = 15100</text>\r\n",
       "<text text-anchor=\"middle\" x=\"562.5\" y=\"-312.3\" font-family=\"Times New Roman,serif\" font-size=\"14.00\">value = [12710, 2390]</text>\r\n",
       "</g>\r\n",
       "<!-- 2&#45;&gt;4 -->\r\n",
       "<g id=\"edge18\" class=\"edge\"><title>2&#45;&gt;4</title>\r\n",
       "<path fill=\"none\" stroke=\"black\" d=\"M455.798,-400.884C474.623,-388.731 495.85,-375.027 514.386,-363.061\"/>\r\n",
       "<polygon fill=\"black\" stroke=\"black\" points=\"516.466,-365.884 522.969,-357.52 512.669,-360.003 516.466,-365.884\"/>\r\n",
       "</g>\r\n",
       "<!-- 9 -->\r\n",
       "<g id=\"node11\" class=\"node\"><title>9</title>\r\n",
       "<polygon fill=\"none\" stroke=\"black\" points=\"459,-253.5 334,-253.5 334,-200.5 459,-200.5 459,-253.5\"/>\r\n",
       "<text text-anchor=\"middle\" x=\"396.5\" y=\"-238.3\" font-family=\"Times New Roman,serif\" font-size=\"14.00\">gini = 0.4936</text>\r\n",
       "<text text-anchor=\"middle\" x=\"396.5\" y=\"-223.3\" font-family=\"Times New Roman,serif\" font-size=\"14.00\">samples = 1980</text>\r\n",
       "<text text-anchor=\"middle\" x=\"396.5\" y=\"-208.3\" font-family=\"Times New Roman,serif\" font-size=\"14.00\">value = [1102, 878]</text>\r\n",
       "</g>\r\n",
       "<!-- 3&#45;&gt;9 -->\r\n",
       "<g id=\"edge10\" class=\"edge\"><title>3&#45;&gt;9</title>\r\n",
       "<path fill=\"none\" stroke=\"black\" d=\"M400.552,-296.884C399.924,-286.216 399.227,-274.352 398.589,-263.519\"/>\r\n",
       "<polygon fill=\"black\" stroke=\"black\" points=\"402.082,-263.297 398.001,-253.52 395.095,-263.708 402.082,-263.297\"/>\r\n",
       "</g>\r\n",
       "<!-- 10 -->\r\n",
       "<g id=\"node12\" class=\"node\"><title>10</title>\r\n",
       "<polygon fill=\"none\" stroke=\"black\" points=\"622,-261 477,-261 477,-193 622,-193 622,-261\"/>\r\n",
       "<text text-anchor=\"middle\" x=\"549.5\" y=\"-245.8\" font-family=\"Times New Roman,serif\" font-size=\"14.00\">month &lt;= 3.5</text>\r\n",
       "<text text-anchor=\"middle\" x=\"549.5\" y=\"-230.8\" font-family=\"Times New Roman,serif\" font-size=\"14.00\">gini = 0.4991</text>\r\n",
       "<text text-anchor=\"middle\" x=\"549.5\" y=\"-215.8\" font-family=\"Times New Roman,serif\" font-size=\"14.00\">samples = 28120</text>\r\n",
       "<text text-anchor=\"middle\" x=\"549.5\" y=\"-200.8\" font-family=\"Times New Roman,serif\" font-size=\"14.00\">value = [14657, 13463]</text>\r\n",
       "</g>\r\n",
       "<!-- 3&#45;&gt;10 -->\r\n",
       "<g id=\"edge11\" class=\"edge\"><title>3&#45;&gt;10</title>\r\n",
       "<path fill=\"none\" stroke=\"black\" d=\"M450.227,-296.884C464.032,-287.304 479.227,-276.761 493.489,-266.864\"/>\r\n",
       "<polygon fill=\"black\" stroke=\"black\" points=\"495.541,-269.701 501.761,-261.125 491.55,-263.95 495.541,-269.701\"/>\r\n",
       "</g>\r\n",
       "<!-- 11 -->\r\n",
       "<g id=\"node13\" class=\"node\"><title>11</title>\r\n",
       "<polygon fill=\"none\" stroke=\"black\" points=\"498,-157 367,-157 367,-89 498,-89 498,-157\"/>\r\n",
       "<text text-anchor=\"middle\" x=\"432.5\" y=\"-141.8\" font-family=\"Times New Roman,serif\" font-size=\"14.00\">day &lt;= 3.5</text>\r\n",
       "<text text-anchor=\"middle\" x=\"432.5\" y=\"-126.8\" font-family=\"Times New Roman,serif\" font-size=\"14.00\">gini = 0.4983</text>\r\n",
       "<text text-anchor=\"middle\" x=\"432.5\" y=\"-111.8\" font-family=\"Times New Roman,serif\" font-size=\"14.00\">samples = 14073</text>\r\n",
       "<text text-anchor=\"middle\" x=\"432.5\" y=\"-96.8\" font-family=\"Times New Roman,serif\" font-size=\"14.00\">value = [7442, 6631]</text>\r\n",
       "</g>\r\n",
       "<!-- 10&#45;&gt;11 -->\r\n",
       "<g id=\"edge12\" class=\"edge\"><title>10&#45;&gt;11</title>\r\n",
       "<path fill=\"none\" stroke=\"black\" d=\"M511.513,-192.884C500.99,-183.709 489.452,-173.65 478.523,-164.123\"/>\r\n",
       "<polygon fill=\"black\" stroke=\"black\" points=\"480.534,-161.233 470.696,-157.299 475.934,-166.509 480.534,-161.233\"/>\r\n",
       "</g>\r\n",
       "<!-- 12 -->\r\n",
       "<g id=\"node16\" class=\"node\"><title>12</title>\r\n",
       "<polygon fill=\"none\" stroke=\"black\" points=\"647,-157 516,-157 516,-89 647,-89 647,-157\"/>\r\n",
       "<text text-anchor=\"middle\" x=\"581.5\" y=\"-141.8\" font-family=\"Times New Roman,serif\" font-size=\"14.00\">day &lt;= 12.5</text>\r\n",
       "<text text-anchor=\"middle\" x=\"581.5\" y=\"-126.8\" font-family=\"Times New Roman,serif\" font-size=\"14.00\">gini = 0.4996</text>\r\n",
       "<text text-anchor=\"middle\" x=\"581.5\" y=\"-111.8\" font-family=\"Times New Roman,serif\" font-size=\"14.00\">samples = 14047</text>\r\n",
       "<text text-anchor=\"middle\" x=\"581.5\" y=\"-96.8\" font-family=\"Times New Roman,serif\" font-size=\"14.00\">value = [7215, 6832]</text>\r\n",
       "</g>\r\n",
       "<!-- 10&#45;&gt;12 -->\r\n",
       "<g id=\"edge15\" class=\"edge\"><title>10&#45;&gt;12</title>\r\n",
       "<path fill=\"none\" stroke=\"black\" d=\"M559.889,-192.884C562.488,-184.6 565.313,-175.595 568.038,-166.911\"/>\r\n",
       "<polygon fill=\"black\" stroke=\"black\" points=\"571.399,-167.889 571.053,-157.299 564.72,-165.793 571.399,-167.889\"/>\r\n",
       "</g>\r\n",
       "<!-- 17 -->\r\n",
       "<g id=\"node14\" class=\"node\"><title>17</title>\r\n",
       "<polygon fill=\"none\" stroke=\"black\" points=\"348.5,-53 230.5,-53 230.5,-0 348.5,-0 348.5,-53\"/>\r\n",
       "<text text-anchor=\"middle\" x=\"289.5\" y=\"-37.8\" font-family=\"Times New Roman,serif\" font-size=\"14.00\">gini = 0.4996</text>\r\n",
       "<text text-anchor=\"middle\" x=\"289.5\" y=\"-22.8\" font-family=\"Times New Roman,serif\" font-size=\"14.00\">samples = 469</text>\r\n",
       "<text text-anchor=\"middle\" x=\"289.5\" y=\"-7.8\" font-family=\"Times New Roman,serif\" font-size=\"14.00\">value = [228, 241]</text>\r\n",
       "</g>\r\n",
       "<!-- 11&#45;&gt;17 -->\r\n",
       "<g id=\"edge13\" class=\"edge\"><title>11&#45;&gt;17</title>\r\n",
       "<path fill=\"none\" stroke=\"black\" d=\"M382.486,-88.9485C367.674,-79.1601 351.505,-68.4756 336.866,-58.8015\"/>\r\n",
       "<polygon fill=\"black\" stroke=\"black\" points=\"338.718,-55.83 328.445,-53.2367 334.859,-61.6701 338.718,-55.83\"/>\r\n",
       "</g>\r\n",
       "<!-- 18 -->\r\n",
       "<g id=\"node15\" class=\"node\"><title>18</title>\r\n",
       "<polygon fill=\"none\" stroke=\"black\" points=\"498,-53 367,-53 367,-0 498,-0 498,-53\"/>\r\n",
       "<text text-anchor=\"middle\" x=\"432.5\" y=\"-37.8\" font-family=\"Times New Roman,serif\" font-size=\"14.00\">gini = 0.4982</text>\r\n",
       "<text text-anchor=\"middle\" x=\"432.5\" y=\"-22.8\" font-family=\"Times New Roman,serif\" font-size=\"14.00\">samples = 13604</text>\r\n",
       "<text text-anchor=\"middle\" x=\"432.5\" y=\"-7.8\" font-family=\"Times New Roman,serif\" font-size=\"14.00\">value = [7214, 6390]</text>\r\n",
       "</g>\r\n",
       "<!-- 11&#45;&gt;18 -->\r\n",
       "<g id=\"edge14\" class=\"edge\"><title>11&#45;&gt;18</title>\r\n",
       "<path fill=\"none\" stroke=\"black\" d=\"M432.5,-88.9485C432.5,-80.7153 432.5,-71.848 432.5,-63.4814\"/>\r\n",
       "<polygon fill=\"black\" stroke=\"black\" points=\"436,-63.2367 432.5,-53.2367 429,-63.2367 436,-63.2367\"/>\r\n",
       "</g>\r\n",
       "<!-- 15 -->\r\n",
       "<g id=\"node17\" class=\"node\"><title>15</title>\r\n",
       "<polygon fill=\"none\" stroke=\"black\" points=\"647,-53 516,-53 516,-0 647,-0 647,-53\"/>\r\n",
       "<text text-anchor=\"middle\" x=\"581.5\" y=\"-37.8\" font-family=\"Times New Roman,serif\" font-size=\"14.00\">gini = 0.4988</text>\r\n",
       "<text text-anchor=\"middle\" x=\"581.5\" y=\"-22.8\" font-family=\"Times New Roman,serif\" font-size=\"14.00\">samples = 5006</text>\r\n",
       "<text text-anchor=\"middle\" x=\"581.5\" y=\"-7.8\" font-family=\"Times New Roman,serif\" font-size=\"14.00\">value = [2627, 2379]</text>\r\n",
       "</g>\r\n",
       "<!-- 12&#45;&gt;15 -->\r\n",
       "<g id=\"edge16\" class=\"edge\"><title>12&#45;&gt;15</title>\r\n",
       "<path fill=\"none\" stroke=\"black\" d=\"M581.5,-88.9485C581.5,-80.7153 581.5,-71.848 581.5,-63.4814\"/>\r\n",
       "<polygon fill=\"black\" stroke=\"black\" points=\"585,-63.2367 581.5,-53.2367 578,-63.2367 585,-63.2367\"/>\r\n",
       "</g>\r\n",
       "<!-- 16 -->\r\n",
       "<g id=\"node18\" class=\"node\"><title>16</title>\r\n",
       "<polygon fill=\"none\" stroke=\"black\" points=\"796,-53 665,-53 665,-0 796,-0 796,-53\"/>\r\n",
       "<text text-anchor=\"middle\" x=\"730.5\" y=\"-37.8\" font-family=\"Times New Roman,serif\" font-size=\"14.00\">gini = 0.4999</text>\r\n",
       "<text text-anchor=\"middle\" x=\"730.5\" y=\"-22.8\" font-family=\"Times New Roman,serif\" font-size=\"14.00\">samples = 9041</text>\r\n",
       "<text text-anchor=\"middle\" x=\"730.5\" y=\"-7.8\" font-family=\"Times New Roman,serif\" font-size=\"14.00\">value = [4588, 4453]</text>\r\n",
       "</g>\r\n",
       "<!-- 12&#45;&gt;16 -->\r\n",
       "<g id=\"edge17\" class=\"edge\"><title>12&#45;&gt;16</title>\r\n",
       "<path fill=\"none\" stroke=\"black\" d=\"M633.613,-88.9485C649.046,-79.1601 665.893,-68.4756 681.146,-58.8015\"/>\r\n",
       "<polygon fill=\"black\" stroke=\"black\" points=\"683.35,-61.5483 689.92,-53.2367 679.601,-55.637 683.35,-61.5483\"/>\r\n",
       "</g>\r\n",
       "</g>\r\n",
       "</svg>\r\n"
      ],
      "text/plain": [
       "<graphviz.files.Source at 0x1583fd30>"
      ]
     },
     "execution_count": 302,
     "metadata": {},
     "output_type": "execute_result"
    }
   ],
   "source": [
    "Source(export_graphviz(dec_search, out_file=None, feature_names=X.columns))"
   ]
  },
  {
   "cell_type": "code",
   "execution_count": 307,
   "metadata": {
    "collapsed": false
   },
   "outputs": [
    {
     "data": {
      "text/plain": [
       "['dec_payment.pkl']"
      ]
     },
     "execution_count": 307,
     "metadata": {},
     "output_type": "execute_result"
    },
    {
     "data": {
      "image/png": "[encoded data removed]",
      "text/plain": [
       "<matplotlib.figure.Figure at 0x15b9ce10>"
      ]
     },
     "metadata": {},
     "output_type": "display_data"
    }
   ],
   "source": [
    "dec_payment = DecisionTreeClassifier(max_depth=6, min_samples_split=2, max_leaf_nodes=6)\n",
    "dec_payment.fit(X,y_payment)\n",
    "importance = dec_payment.feature_importances_\n",
    "feature_names = X.columns.values \n",
    "df1 = pd.DataFrame(importance,columns=['Importance'],index = feature_names)\n",
    "df1 = df1.sort_values(['Importance'],ascending=False)\n",
    "df1.plot(kind = 'bar')\n",
    "joblib.dump(dec_payment, 'dec_payment.pkl')"
   ]
  },
  {
   "cell_type": "code",
   "execution_count": 308,
   "metadata": {
    "collapsed": false
   },
   "outputs": [
    {
     "data": {
      "image/svg+xml": [
       "<?xml version=\"1.0\" encoding=\"UTF-8\" standalone=\"no\"?>\r\n",
       "<!DOCTYPE svg PUBLIC \"-//W3C//DTD SVG 1.1//EN\"\r\n",
       " \"http://www.w3.org/Graphics/SVG/1.1/DTD/svg11.dtd\">\r\n",
       "<!-- Generated by graphviz version 2.38.0 (20140413.2041)\r\n",
       " -->\r\n",
       "<!-- Title: Tree Pages: 1 -->\r\n",
       "<svg width=\"602pt\" height=\"477pt\"\r\n",
       " viewBox=\"0.00 0.00 601.50 477.00\" xmlns=\"http://www.w3.org/2000/svg\" xmlns:xlink=\"http://www.w3.org/1999/xlink\">\r\n",
       "<g id=\"graph0\" class=\"graph\" transform=\"scale(1 1) rotate(0) translate(4 473)\">\r\n",
       "<title>Tree</title>\r\n",
       "<polygon fill=\"white\" stroke=\"none\" points=\"-4,4 -4,-473 597.5,-473 597.5,4 -4,4\"/>\r\n",
       "<!-- 0 -->\r\n",
       "<g id=\"node1\" class=\"node\"><title>0</title>\r\n",
       "<polygon fill=\"none\" stroke=\"black\" points=\"371,-469 233,-469 233,-401 371,-401 371,-469\"/>\r\n",
       "<text text-anchor=\"middle\" x=\"302\" y=\"-453.8\" font-family=\"Times New Roman,serif\" font-size=\"14.00\">month &lt;= 2.5</text>\r\n",
       "<text text-anchor=\"middle\" x=\"302\" y=\"-438.8\" font-family=\"Times New Roman,serif\" font-size=\"14.00\">gini = 0.1158</text>\r\n",
       "<text text-anchor=\"middle\" x=\"302\" y=\"-423.8\" font-family=\"Times New Roman,serif\" font-size=\"14.00\">samples = 90400</text>\r\n",
       "<text text-anchor=\"middle\" x=\"302\" y=\"-408.8\" font-family=\"Times New Roman,serif\" font-size=\"14.00\">value = [84822, 5578]</text>\r\n",
       "</g>\r\n",
       "<!-- 1 -->\r\n",
       "<g id=\"node2\" class=\"node\"><title>1</title>\r\n",
       "<polygon fill=\"none\" stroke=\"black\" points=\"293,-365 155,-365 155,-297 293,-297 293,-365\"/>\r\n",
       "<text text-anchor=\"middle\" x=\"224\" y=\"-349.8\" font-family=\"Times New Roman,serif\" font-size=\"14.00\">devices &lt;= 0.5</text>\r\n",
       "<text text-anchor=\"middle\" x=\"224\" y=\"-334.8\" font-family=\"Times New Roman,serif\" font-size=\"14.00\">gini = 0.1772</text>\r\n",
       "<text text-anchor=\"middle\" x=\"224\" y=\"-319.8\" font-family=\"Times New Roman,serif\" font-size=\"14.00\">samples = 45200</text>\r\n",
       "<text text-anchor=\"middle\" x=\"224\" y=\"-304.8\" font-family=\"Times New Roman,serif\" font-size=\"14.00\">value = [40760, 4440]</text>\r\n",
       "</g>\r\n",
       "<!-- 0&#45;&gt;1 -->\r\n",
       "<g id=\"edge1\" class=\"edge\"><title>0&#45;&gt;1</title>\r\n",
       "<path fill=\"none\" stroke=\"black\" d=\"M276.676,-400.884C270,-392.154 262.713,-382.625 255.746,-373.514\"/>\r\n",
       "<polygon fill=\"black\" stroke=\"black\" points=\"258.319,-371.117 249.464,-365.299 252.758,-375.369 258.319,-371.117\"/>\r\n",
       "<text text-anchor=\"middle\" x=\"246.16\" y=\"-386.38\" font-family=\"Times New Roman,serif\" font-size=\"14.00\">True</text>\r\n",
       "</g>\r\n",
       "<!-- 2 -->\r\n",
       "<g id=\"node9\" class=\"node\"><title>2</title>\r\n",
       "<polygon fill=\"none\" stroke=\"black\" points=\"449,-365 311,-365 311,-297 449,-297 449,-365\"/>\r\n",
       "<text text-anchor=\"middle\" x=\"380\" y=\"-349.8\" font-family=\"Times New Roman,serif\" font-size=\"14.00\">devices &lt;= 0.5</text>\r\n",
       "<text text-anchor=\"middle\" x=\"380\" y=\"-334.8\" font-family=\"Times New Roman,serif\" font-size=\"14.00\">gini = 0.0491</text>\r\n",
       "<text text-anchor=\"middle\" x=\"380\" y=\"-319.8\" font-family=\"Times New Roman,serif\" font-size=\"14.00\">samples = 45200</text>\r\n",
       "<text text-anchor=\"middle\" x=\"380\" y=\"-304.8\" font-family=\"Times New Roman,serif\" font-size=\"14.00\">value = [44062, 1138]</text>\r\n",
       "</g>\r\n",
       "<!-- 0&#45;&gt;2 -->\r\n",
       "<g id=\"edge8\" class=\"edge\"><title>0&#45;&gt;2</title>\r\n",
       "<path fill=\"none\" stroke=\"black\" d=\"M327.324,-400.884C334,-392.154 341.287,-382.625 348.254,-373.514\"/>\r\n",
       "<polygon fill=\"black\" stroke=\"black\" points=\"351.242,-375.369 354.536,-365.299 345.681,-371.117 351.242,-375.369\"/>\r\n",
       "<text text-anchor=\"middle\" x=\"357.84\" y=\"-386.38\" font-family=\"Times New Roman,serif\" font-size=\"14.00\">False</text>\r\n",
       "</g>\r\n",
       "<!-- 3 -->\r\n",
       "<g id=\"node3\" class=\"node\"><title>3</title>\r\n",
       "<polygon fill=\"none\" stroke=\"black\" points=\"138,-253.5 0,-253.5 0,-200.5 138,-200.5 138,-253.5\"/>\r\n",
       "<text text-anchor=\"middle\" x=\"69\" y=\"-238.3\" font-family=\"Times New Roman,serif\" font-size=\"14.00\">gini = 0.141</text>\r\n",
       "<text text-anchor=\"middle\" x=\"69\" y=\"-223.3\" font-family=\"Times New Roman,serif\" font-size=\"14.00\">samples = 30100</text>\r\n",
       "<text text-anchor=\"middle\" x=\"69\" y=\"-208.3\" font-family=\"Times New Roman,serif\" font-size=\"14.00\">value = [27802, 2298]</text>\r\n",
       "</g>\r\n",
       "<!-- 1&#45;&gt;3 -->\r\n",
       "<g id=\"edge2\" class=\"edge\"><title>1&#45;&gt;3</title>\r\n",
       "<path fill=\"none\" stroke=\"black\" d=\"M173.676,-296.884C155.292,-284.786 134.573,-271.151 116.448,-259.224\"/>\r\n",
       "<polygon fill=\"black\" stroke=\"black\" points=\"118.058,-256.093 107.78,-253.52 114.21,-261.941 118.058,-256.093\"/>\r\n",
       "</g>\r\n",
       "<!-- 4 -->\r\n",
       "<g id=\"node4\" class=\"node\"><title>4</title>\r\n",
       "<polygon fill=\"none\" stroke=\"black\" points=\"294,-261 156,-261 156,-193 294,-193 294,-261\"/>\r\n",
       "<text text-anchor=\"middle\" x=\"225\" y=\"-245.8\" font-family=\"Times New Roman,serif\" font-size=\"14.00\">day &lt;= 14.5</text>\r\n",
       "<text text-anchor=\"middle\" x=\"225\" y=\"-230.8\" font-family=\"Times New Roman,serif\" font-size=\"14.00\">gini = 0.2435</text>\r\n",
       "<text text-anchor=\"middle\" x=\"225\" y=\"-215.8\" font-family=\"Times New Roman,serif\" font-size=\"14.00\">samples = 15100</text>\r\n",
       "<text text-anchor=\"middle\" x=\"225\" y=\"-200.8\" font-family=\"Times New Roman,serif\" font-size=\"14.00\">value = [12958, 2142]</text>\r\n",
       "</g>\r\n",
       "<!-- 1&#45;&gt;4 -->\r\n",
       "<g id=\"edge3\" class=\"edge\"><title>1&#45;&gt;4</title>\r\n",
       "<path fill=\"none\" stroke=\"black\" d=\"M224.325,-296.884C224.404,-288.778 224.49,-279.982 224.574,-271.472\"/>\r\n",
       "<polygon fill=\"black\" stroke=\"black\" points=\"228.075,-271.333 224.674,-261.299 221.076,-271.265 228.075,-271.333\"/>\r\n",
       "</g>\r\n",
       "<!-- 7 -->\r\n",
       "<g id=\"node5\" class=\"node\"><title>7</title>\r\n",
       "<polygon fill=\"none\" stroke=\"black\" points=\"214.5,-149.5 89.5,-149.5 89.5,-96.5 214.5,-96.5 214.5,-149.5\"/>\r\n",
       "<text text-anchor=\"middle\" x=\"152\" y=\"-134.3\" font-family=\"Times New Roman,serif\" font-size=\"14.00\">gini = 0.2332</text>\r\n",
       "<text text-anchor=\"middle\" x=\"152\" y=\"-119.3\" font-family=\"Times New Roman,serif\" font-size=\"14.00\">samples = 7160</text>\r\n",
       "<text text-anchor=\"middle\" x=\"152\" y=\"-104.3\" font-family=\"Times New Roman,serif\" font-size=\"14.00\">value = [6195, 965]</text>\r\n",
       "</g>\r\n",
       "<!-- 4&#45;&gt;7 -->\r\n",
       "<g id=\"edge4\" class=\"edge\"><title>4&#45;&gt;7</title>\r\n",
       "<path fill=\"none\" stroke=\"black\" d=\"M201.299,-192.884C193.271,-181.666 184.296,-169.126 176.227,-157.852\"/>\r\n",
       "<polygon fill=\"black\" stroke=\"black\" points=\"178.93,-155.615 170.264,-149.52 173.238,-159.689 178.93,-155.615\"/>\r\n",
       "</g>\r\n",
       "<!-- 8 -->\r\n",
       "<g id=\"node6\" class=\"node\"><title>8</title>\r\n",
       "<polygon fill=\"none\" stroke=\"black\" points=\"363.5,-157 232.5,-157 232.5,-89 363.5,-89 363.5,-157\"/>\r\n",
       "<text text-anchor=\"middle\" x=\"298\" y=\"-141.8\" font-family=\"Times New Roman,serif\" font-size=\"14.00\">month &lt;= 1.5</text>\r\n",
       "<text text-anchor=\"middle\" x=\"298\" y=\"-126.8\" font-family=\"Times New Roman,serif\" font-size=\"14.00\">gini = 0.2525</text>\r\n",
       "<text text-anchor=\"middle\" x=\"298\" y=\"-111.8\" font-family=\"Times New Roman,serif\" font-size=\"14.00\">samples = 7940</text>\r\n",
       "<text text-anchor=\"middle\" x=\"298\" y=\"-96.8\" font-family=\"Times New Roman,serif\" font-size=\"14.00\">value = [6763, 1177]</text>\r\n",
       "</g>\r\n",
       "<!-- 4&#45;&gt;8 -->\r\n",
       "<g id=\"edge5\" class=\"edge\"><title>4&#45;&gt;8</title>\r\n",
       "<path fill=\"none\" stroke=\"black\" d=\"M248.701,-192.884C254.948,-184.154 261.769,-174.625 268.289,-165.514\"/>\r\n",
       "<polygon fill=\"black\" stroke=\"black\" points=\"271.194,-167.468 274.168,-157.299 265.502,-163.394 271.194,-167.468\"/>\r\n",
       "</g>\r\n",
       "<!-- 9 -->\r\n",
       "<g id=\"node7\" class=\"node\"><title>9</title>\r\n",
       "<polygon fill=\"none\" stroke=\"black\" points=\"288.5,-53 163.5,-53 163.5,-0 288.5,-0 288.5,-53\"/>\r\n",
       "<text text-anchor=\"middle\" x=\"226\" y=\"-37.8\" font-family=\"Times New Roman,serif\" font-size=\"14.00\">gini = 0.2413</text>\r\n",
       "<text text-anchor=\"middle\" x=\"226\" y=\"-22.8\" font-family=\"Times New Roman,serif\" font-size=\"14.00\">samples = 4162</text>\r\n",
       "<text text-anchor=\"middle\" x=\"226\" y=\"-7.8\" font-family=\"Times New Roman,serif\" font-size=\"14.00\">value = [3578, 584]</text>\r\n",
       "</g>\r\n",
       "<!-- 8&#45;&gt;9 -->\r\n",
       "<g id=\"edge6\" class=\"edge\"><title>8&#45;&gt;9</title>\r\n",
       "<path fill=\"none\" stroke=\"black\" d=\"M272.818,-88.9485C265.987,-79.9834 258.584,-70.2666 251.724,-61.2629\"/>\r\n",
       "<polygon fill=\"black\" stroke=\"black\" points=\"254.453,-59.0699 245.609,-53.2367 248.885,-63.3122 254.453,-59.0699\"/>\r\n",
       "</g>\r\n",
       "<!-- 10 -->\r\n",
       "<g id=\"node8\" class=\"node\"><title>10</title>\r\n",
       "<polygon fill=\"none\" stroke=\"black\" points=\"431.5,-53 306.5,-53 306.5,-0 431.5,-0 431.5,-53\"/>\r\n",
       "<text text-anchor=\"middle\" x=\"369\" y=\"-37.8\" font-family=\"Times New Roman,serif\" font-size=\"14.00\">gini = 0.2646</text>\r\n",
       "<text text-anchor=\"middle\" x=\"369\" y=\"-22.8\" font-family=\"Times New Roman,serif\" font-size=\"14.00\">samples = 3778</text>\r\n",
       "<text text-anchor=\"middle\" x=\"369\" y=\"-7.8\" font-family=\"Times New Roman,serif\" font-size=\"14.00\">value = [3185, 593]</text>\r\n",
       "</g>\r\n",
       "<!-- 8&#45;&gt;10 -->\r\n",
       "<g id=\"edge7\" class=\"edge\"><title>8&#45;&gt;10</title>\r\n",
       "<path fill=\"none\" stroke=\"black\" d=\"M322.832,-88.9485C329.568,-79.9834 336.868,-70.2666 343.633,-61.2629\"/>\r\n",
       "<polygon fill=\"black\" stroke=\"black\" points=\"346.455,-63.334 349.663,-53.2367 340.858,-59.1293 346.455,-63.334\"/>\r\n",
       "</g>\r\n",
       "<!-- 5 -->\r\n",
       "<g id=\"node10\" class=\"node\"><title>5</title>\r\n",
       "<polygon fill=\"none\" stroke=\"black\" points=\"444.5,-253.5 313.5,-253.5 313.5,-200.5 444.5,-200.5 444.5,-253.5\"/>\r\n",
       "<text text-anchor=\"middle\" x=\"379\" y=\"-238.3\" font-family=\"Times New Roman,serif\" font-size=\"14.00\">gini = 0.0366</text>\r\n",
       "<text text-anchor=\"middle\" x=\"379\" y=\"-223.3\" font-family=\"Times New Roman,serif\" font-size=\"14.00\">samples = 30100</text>\r\n",
       "<text text-anchor=\"middle\" x=\"379\" y=\"-208.3\" font-family=\"Times New Roman,serif\" font-size=\"14.00\">value = [29538, 562]</text>\r\n",
       "</g>\r\n",
       "<!-- 2&#45;&gt;5 -->\r\n",
       "<g id=\"edge9\" class=\"edge\"><title>2&#45;&gt;5</title>\r\n",
       "<path fill=\"none\" stroke=\"black\" d=\"M379.675,-296.884C379.572,-286.326 379.457,-274.597 379.352,-263.854\"/>\r\n",
       "<polygon fill=\"black\" stroke=\"black\" points=\"382.848,-263.485 379.25,-253.52 375.848,-263.554 382.848,-263.485\"/>\r\n",
       "</g>\r\n",
       "<!-- 6 -->\r\n",
       "<g id=\"node11\" class=\"node\"><title>6</title>\r\n",
       "<polygon fill=\"none\" stroke=\"black\" points=\"593.5,-253.5 462.5,-253.5 462.5,-200.5 593.5,-200.5 593.5,-253.5\"/>\r\n",
       "<text text-anchor=\"middle\" x=\"528\" y=\"-238.3\" font-family=\"Times New Roman,serif\" font-size=\"14.00\">gini = 0.0734</text>\r\n",
       "<text text-anchor=\"middle\" x=\"528\" y=\"-223.3\" font-family=\"Times New Roman,serif\" font-size=\"14.00\">samples = 15100</text>\r\n",
       "<text text-anchor=\"middle\" x=\"528\" y=\"-208.3\" font-family=\"Times New Roman,serif\" font-size=\"14.00\">value = [14524, 576]</text>\r\n",
       "</g>\r\n",
       "<!-- 2&#45;&gt;6 -->\r\n",
       "<g id=\"edge10\" class=\"edge\"><title>2&#45;&gt;6</title>\r\n",
       "<path fill=\"none\" stroke=\"black\" d=\"M428.051,-296.884C445.605,-284.786 465.389,-271.151 482.695,-259.224\"/>\r\n",
       "<polygon fill=\"black\" stroke=\"black\" points=\"484.723,-262.077 490.971,-253.52 480.751,-256.313 484.723,-262.077\"/>\r\n",
       "</g>\r\n",
       "</g>\r\n",
       "</svg>\r\n"
      ],
      "text/plain": [
       "<graphviz.files.Source at 0x16753908>"
      ]
     },
     "execution_count": 308,
     "metadata": {},
     "output_type": "execute_result"
    }
   ],
   "source": [
    "Source(export_graphviz(dec_payment, out_file=None, feature_names=X.columns))"
   ]
  },
  {
   "cell_type": "code",
   "execution_count": 311,
   "metadata": {
    "collapsed": false
   },
   "outputs": [
    {
     "data": {
      "text/plain": [
       "['dec_confirm.pkl']"
      ]
     },
     "execution_count": 311,
     "metadata": {},
     "output_type": "execute_result"
    },
    {
     "data": {
      "image/png": "[encoded data removed]",
      "text/plain": [
       "<matplotlib.figure.Figure at 0x15940ef0>"
      ]
     },
     "metadata": {},
     "output_type": "display_data"
    }
   ],
   "source": [
    "dec_confirm = DecisionTreeClassifier(max_depth=6, min_samples_split=2, max_leaf_nodes=10)\n",
    "dec_confirm.fit(X,y_confirm)\n",
    "importance = dec_confirm.feature_importances_\n",
    "feature_names = X.columns.values \n",
    "df1 = pd.DataFrame(importance,columns=['Importance'],index = feature_names)\n",
    "df1 = df1.sort_values(['Importance'],ascending=False)\n",
    "df1.plot(kind = 'bar')\n",
    "joblib.dump(dec_confirm, 'dec_confirm.pkl')"
   ]
  },
  {
   "cell_type": "code",
   "execution_count": 312,
   "metadata": {
    "collapsed": false
   },
   "outputs": [
    {
     "data": {
      "image/svg+xml": [
       "<?xml version=\"1.0\" encoding=\"UTF-8\" standalone=\"no\"?>\r\n",
       "<!DOCTYPE svg PUBLIC \"-//W3C//DTD SVG 1.1//EN\"\r\n",
       " \"http://www.w3.org/Graphics/SVG/1.1/DTD/svg11.dtd\">\r\n",
       "<!-- Generated by graphviz version 2.38.0 (20140413.2041)\r\n",
       " -->\r\n",
       "<!-- Title: Tree Pages: 1 -->\r\n",
       "<svg width=\"602pt\" height=\"477pt\"\r\n",
       " viewBox=\"0.00 0.00 601.50 477.00\" xmlns=\"http://www.w3.org/2000/svg\" xmlns:xlink=\"http://www.w3.org/1999/xlink\">\r\n",
       "<g id=\"graph0\" class=\"graph\" transform=\"scale(1 1) rotate(0) translate(4 473)\">\r\n",
       "<title>Tree</title>\r\n",
       "<polygon fill=\"white\" stroke=\"none\" points=\"-4,4 -4,-473 597.5,-473 597.5,4 -4,4\"/>\r\n",
       "<!-- 0 -->\r\n",
       "<g id=\"node1\" class=\"node\"><title>0</title>\r\n",
       "<polygon fill=\"none\" stroke=\"black\" points=\"371,-469 233,-469 233,-401 371,-401 371,-469\"/>\r\n",
       "<text text-anchor=\"middle\" x=\"302\" y=\"-453.8\" font-family=\"Times New Roman,serif\" font-size=\"14.00\">month &lt;= 2.5</text>\r\n",
       "<text text-anchor=\"middle\" x=\"302\" y=\"-438.8\" font-family=\"Times New Roman,serif\" font-size=\"14.00\">gini = 0.1158</text>\r\n",
       "<text text-anchor=\"middle\" x=\"302\" y=\"-423.8\" font-family=\"Times New Roman,serif\" font-size=\"14.00\">samples = 90400</text>\r\n",
       "<text text-anchor=\"middle\" x=\"302\" y=\"-408.8\" font-family=\"Times New Roman,serif\" font-size=\"14.00\">value = [84822, 5578]</text>\r\n",
       "</g>\r\n",
       "<!-- 1 -->\r\n",
       "<g id=\"node2\" class=\"node\"><title>1</title>\r\n",
       "<polygon fill=\"none\" stroke=\"black\" points=\"293,-365 155,-365 155,-297 293,-297 293,-365\"/>\r\n",
       "<text text-anchor=\"middle\" x=\"224\" y=\"-349.8\" font-family=\"Times New Roman,serif\" font-size=\"14.00\">devices &lt;= 0.5</text>\r\n",
       "<text text-anchor=\"middle\" x=\"224\" y=\"-334.8\" font-family=\"Times New Roman,serif\" font-size=\"14.00\">gini = 0.1772</text>\r\n",
       "<text text-anchor=\"middle\" x=\"224\" y=\"-319.8\" font-family=\"Times New Roman,serif\" font-size=\"14.00\">samples = 45200</text>\r\n",
       "<text text-anchor=\"middle\" x=\"224\" y=\"-304.8\" font-family=\"Times New Roman,serif\" font-size=\"14.00\">value = [40760, 4440]</text>\r\n",
       "</g>\r\n",
       "<!-- 0&#45;&gt;1 -->\r\n",
       "<g id=\"edge1\" class=\"edge\"><title>0&#45;&gt;1</title>\r\n",
       "<path fill=\"none\" stroke=\"black\" d=\"M276.676,-400.884C270,-392.154 262.713,-382.625 255.746,-373.514\"/>\r\n",
       "<polygon fill=\"black\" stroke=\"black\" points=\"258.319,-371.117 249.464,-365.299 252.758,-375.369 258.319,-371.117\"/>\r\n",
       "<text text-anchor=\"middle\" x=\"246.16\" y=\"-386.38\" font-family=\"Times New Roman,serif\" font-size=\"14.00\">True</text>\r\n",
       "</g>\r\n",
       "<!-- 2 -->\r\n",
       "<g id=\"node9\" class=\"node\"><title>2</title>\r\n",
       "<polygon fill=\"none\" stroke=\"black\" points=\"449,-365 311,-365 311,-297 449,-297 449,-365\"/>\r\n",
       "<text text-anchor=\"middle\" x=\"380\" y=\"-349.8\" font-family=\"Times New Roman,serif\" font-size=\"14.00\">devices &lt;= 0.5</text>\r\n",
       "<text text-anchor=\"middle\" x=\"380\" y=\"-334.8\" font-family=\"Times New Roman,serif\" font-size=\"14.00\">gini = 0.0491</text>\r\n",
       "<text text-anchor=\"middle\" x=\"380\" y=\"-319.8\" font-family=\"Times New Roman,serif\" font-size=\"14.00\">samples = 45200</text>\r\n",
       "<text text-anchor=\"middle\" x=\"380\" y=\"-304.8\" font-family=\"Times New Roman,serif\" font-size=\"14.00\">value = [44062, 1138]</text>\r\n",
       "</g>\r\n",
       "<!-- 0&#45;&gt;2 -->\r\n",
       "<g id=\"edge8\" class=\"edge\"><title>0&#45;&gt;2</title>\r\n",
       "<path fill=\"none\" stroke=\"black\" d=\"M327.324,-400.884C334,-392.154 341.287,-382.625 348.254,-373.514\"/>\r\n",
       "<polygon fill=\"black\" stroke=\"black\" points=\"351.242,-375.369 354.536,-365.299 345.681,-371.117 351.242,-375.369\"/>\r\n",
       "<text text-anchor=\"middle\" x=\"357.84\" y=\"-386.38\" font-family=\"Times New Roman,serif\" font-size=\"14.00\">False</text>\r\n",
       "</g>\r\n",
       "<!-- 3 -->\r\n",
       "<g id=\"node3\" class=\"node\"><title>3</title>\r\n",
       "<polygon fill=\"none\" stroke=\"black\" points=\"138,-253.5 0,-253.5 0,-200.5 138,-200.5 138,-253.5\"/>\r\n",
       "<text text-anchor=\"middle\" x=\"69\" y=\"-238.3\" font-family=\"Times New Roman,serif\" font-size=\"14.00\">gini = 0.141</text>\r\n",
       "<text text-anchor=\"middle\" x=\"69\" y=\"-223.3\" font-family=\"Times New Roman,serif\" font-size=\"14.00\">samples = 30100</text>\r\n",
       "<text text-anchor=\"middle\" x=\"69\" y=\"-208.3\" font-family=\"Times New Roman,serif\" font-size=\"14.00\">value = [27802, 2298]</text>\r\n",
       "</g>\r\n",
       "<!-- 1&#45;&gt;3 -->\r\n",
       "<g id=\"edge2\" class=\"edge\"><title>1&#45;&gt;3</title>\r\n",
       "<path fill=\"none\" stroke=\"black\" d=\"M173.676,-296.884C155.292,-284.786 134.573,-271.151 116.448,-259.224\"/>\r\n",
       "<polygon fill=\"black\" stroke=\"black\" points=\"118.058,-256.093 107.78,-253.52 114.21,-261.941 118.058,-256.093\"/>\r\n",
       "</g>\r\n",
       "<!-- 4 -->\r\n",
       "<g id=\"node4\" class=\"node\"><title>4</title>\r\n",
       "<polygon fill=\"none\" stroke=\"black\" points=\"294,-261 156,-261 156,-193 294,-193 294,-261\"/>\r\n",
       "<text text-anchor=\"middle\" x=\"225\" y=\"-245.8\" font-family=\"Times New Roman,serif\" font-size=\"14.00\">day &lt;= 14.5</text>\r\n",
       "<text text-anchor=\"middle\" x=\"225\" y=\"-230.8\" font-family=\"Times New Roman,serif\" font-size=\"14.00\">gini = 0.2435</text>\r\n",
       "<text text-anchor=\"middle\" x=\"225\" y=\"-215.8\" font-family=\"Times New Roman,serif\" font-size=\"14.00\">samples = 15100</text>\r\n",
       "<text text-anchor=\"middle\" x=\"225\" y=\"-200.8\" font-family=\"Times New Roman,serif\" font-size=\"14.00\">value = [12958, 2142]</text>\r\n",
       "</g>\r\n",
       "<!-- 1&#45;&gt;4 -->\r\n",
       "<g id=\"edge3\" class=\"edge\"><title>1&#45;&gt;4</title>\r\n",
       "<path fill=\"none\" stroke=\"black\" d=\"M224.325,-296.884C224.404,-288.778 224.49,-279.982 224.574,-271.472\"/>\r\n",
       "<polygon fill=\"black\" stroke=\"black\" points=\"228.075,-271.333 224.674,-261.299 221.076,-271.265 228.075,-271.333\"/>\r\n",
       "</g>\r\n",
       "<!-- 7 -->\r\n",
       "<g id=\"node5\" class=\"node\"><title>7</title>\r\n",
       "<polygon fill=\"none\" stroke=\"black\" points=\"214.5,-149.5 89.5,-149.5 89.5,-96.5 214.5,-96.5 214.5,-149.5\"/>\r\n",
       "<text text-anchor=\"middle\" x=\"152\" y=\"-134.3\" font-family=\"Times New Roman,serif\" font-size=\"14.00\">gini = 0.2332</text>\r\n",
       "<text text-anchor=\"middle\" x=\"152\" y=\"-119.3\" font-family=\"Times New Roman,serif\" font-size=\"14.00\">samples = 7160</text>\r\n",
       "<text text-anchor=\"middle\" x=\"152\" y=\"-104.3\" font-family=\"Times New Roman,serif\" font-size=\"14.00\">value = [6195, 965]</text>\r\n",
       "</g>\r\n",
       "<!-- 4&#45;&gt;7 -->\r\n",
       "<g id=\"edge4\" class=\"edge\"><title>4&#45;&gt;7</title>\r\n",
       "<path fill=\"none\" stroke=\"black\" d=\"M201.299,-192.884C193.271,-181.666 184.296,-169.126 176.227,-157.852\"/>\r\n",
       "<polygon fill=\"black\" stroke=\"black\" points=\"178.93,-155.615 170.264,-149.52 173.238,-159.689 178.93,-155.615\"/>\r\n",
       "</g>\r\n",
       "<!-- 8 -->\r\n",
       "<g id=\"node6\" class=\"node\"><title>8</title>\r\n",
       "<polygon fill=\"none\" stroke=\"black\" points=\"363.5,-157 232.5,-157 232.5,-89 363.5,-89 363.5,-157\"/>\r\n",
       "<text text-anchor=\"middle\" x=\"298\" y=\"-141.8\" font-family=\"Times New Roman,serif\" font-size=\"14.00\">month &lt;= 1.5</text>\r\n",
       "<text text-anchor=\"middle\" x=\"298\" y=\"-126.8\" font-family=\"Times New Roman,serif\" font-size=\"14.00\">gini = 0.2525</text>\r\n",
       "<text text-anchor=\"middle\" x=\"298\" y=\"-111.8\" font-family=\"Times New Roman,serif\" font-size=\"14.00\">samples = 7940</text>\r\n",
       "<text text-anchor=\"middle\" x=\"298\" y=\"-96.8\" font-family=\"Times New Roman,serif\" font-size=\"14.00\">value = [6763, 1177]</text>\r\n",
       "</g>\r\n",
       "<!-- 4&#45;&gt;8 -->\r\n",
       "<g id=\"edge5\" class=\"edge\"><title>4&#45;&gt;8</title>\r\n",
       "<path fill=\"none\" stroke=\"black\" d=\"M248.701,-192.884C254.948,-184.154 261.769,-174.625 268.289,-165.514\"/>\r\n",
       "<polygon fill=\"black\" stroke=\"black\" points=\"271.194,-167.468 274.168,-157.299 265.502,-163.394 271.194,-167.468\"/>\r\n",
       "</g>\r\n",
       "<!-- 9 -->\r\n",
       "<g id=\"node7\" class=\"node\"><title>9</title>\r\n",
       "<polygon fill=\"none\" stroke=\"black\" points=\"288.5,-53 163.5,-53 163.5,-0 288.5,-0 288.5,-53\"/>\r\n",
       "<text text-anchor=\"middle\" x=\"226\" y=\"-37.8\" font-family=\"Times New Roman,serif\" font-size=\"14.00\">gini = 0.2413</text>\r\n",
       "<text text-anchor=\"middle\" x=\"226\" y=\"-22.8\" font-family=\"Times New Roman,serif\" font-size=\"14.00\">samples = 4162</text>\r\n",
       "<text text-anchor=\"middle\" x=\"226\" y=\"-7.8\" font-family=\"Times New Roman,serif\" font-size=\"14.00\">value = [3578, 584]</text>\r\n",
       "</g>\r\n",
       "<!-- 8&#45;&gt;9 -->\r\n",
       "<g id=\"edge6\" class=\"edge\"><title>8&#45;&gt;9</title>\r\n",
       "<path fill=\"none\" stroke=\"black\" d=\"M272.818,-88.9485C265.987,-79.9834 258.584,-70.2666 251.724,-61.2629\"/>\r\n",
       "<polygon fill=\"black\" stroke=\"black\" points=\"254.453,-59.0699 245.609,-53.2367 248.885,-63.3122 254.453,-59.0699\"/>\r\n",
       "</g>\r\n",
       "<!-- 10 -->\r\n",
       "<g id=\"node8\" class=\"node\"><title>10</title>\r\n",
       "<polygon fill=\"none\" stroke=\"black\" points=\"431.5,-53 306.5,-53 306.5,-0 431.5,-0 431.5,-53\"/>\r\n",
       "<text text-anchor=\"middle\" x=\"369\" y=\"-37.8\" font-family=\"Times New Roman,serif\" font-size=\"14.00\">gini = 0.2646</text>\r\n",
       "<text text-anchor=\"middle\" x=\"369\" y=\"-22.8\" font-family=\"Times New Roman,serif\" font-size=\"14.00\">samples = 3778</text>\r\n",
       "<text text-anchor=\"middle\" x=\"369\" y=\"-7.8\" font-family=\"Times New Roman,serif\" font-size=\"14.00\">value = [3185, 593]</text>\r\n",
       "</g>\r\n",
       "<!-- 8&#45;&gt;10 -->\r\n",
       "<g id=\"edge7\" class=\"edge\"><title>8&#45;&gt;10</title>\r\n",
       "<path fill=\"none\" stroke=\"black\" d=\"M322.832,-88.9485C329.568,-79.9834 336.868,-70.2666 343.633,-61.2629\"/>\r\n",
       "<polygon fill=\"black\" stroke=\"black\" points=\"346.455,-63.334 349.663,-53.2367 340.858,-59.1293 346.455,-63.334\"/>\r\n",
       "</g>\r\n",
       "<!-- 5 -->\r\n",
       "<g id=\"node10\" class=\"node\"><title>5</title>\r\n",
       "<polygon fill=\"none\" stroke=\"black\" points=\"444.5,-253.5 313.5,-253.5 313.5,-200.5 444.5,-200.5 444.5,-253.5\"/>\r\n",
       "<text text-anchor=\"middle\" x=\"379\" y=\"-238.3\" font-family=\"Times New Roman,serif\" font-size=\"14.00\">gini = 0.0366</text>\r\n",
       "<text text-anchor=\"middle\" x=\"379\" y=\"-223.3\" font-family=\"Times New Roman,serif\" font-size=\"14.00\">samples = 30100</text>\r\n",
       "<text text-anchor=\"middle\" x=\"379\" y=\"-208.3\" font-family=\"Times New Roman,serif\" font-size=\"14.00\">value = [29538, 562]</text>\r\n",
       "</g>\r\n",
       "<!-- 2&#45;&gt;5 -->\r\n",
       "<g id=\"edge9\" class=\"edge\"><title>2&#45;&gt;5</title>\r\n",
       "<path fill=\"none\" stroke=\"black\" d=\"M379.675,-296.884C379.572,-286.326 379.457,-274.597 379.352,-263.854\"/>\r\n",
       "<polygon fill=\"black\" stroke=\"black\" points=\"382.848,-263.485 379.25,-253.52 375.848,-263.554 382.848,-263.485\"/>\r\n",
       "</g>\r\n",
       "<!-- 6 -->\r\n",
       "<g id=\"node11\" class=\"node\"><title>6</title>\r\n",
       "<polygon fill=\"none\" stroke=\"black\" points=\"593.5,-253.5 462.5,-253.5 462.5,-200.5 593.5,-200.5 593.5,-253.5\"/>\r\n",
       "<text text-anchor=\"middle\" x=\"528\" y=\"-238.3\" font-family=\"Times New Roman,serif\" font-size=\"14.00\">gini = 0.0734</text>\r\n",
       "<text text-anchor=\"middle\" x=\"528\" y=\"-223.3\" font-family=\"Times New Roman,serif\" font-size=\"14.00\">samples = 15100</text>\r\n",
       "<text text-anchor=\"middle\" x=\"528\" y=\"-208.3\" font-family=\"Times New Roman,serif\" font-size=\"14.00\">value = [14524, 576]</text>\r\n",
       "</g>\r\n",
       "<!-- 2&#45;&gt;6 -->\r\n",
       "<g id=\"edge10\" class=\"edge\"><title>2&#45;&gt;6</title>\r\n",
       "<path fill=\"none\" stroke=\"black\" d=\"M428.051,-296.884C445.605,-284.786 465.389,-271.151 482.695,-259.224\"/>\r\n",
       "<polygon fill=\"black\" stroke=\"black\" points=\"484.723,-262.077 490.971,-253.52 480.751,-256.313 484.723,-262.077\"/>\r\n",
       "</g>\r\n",
       "</g>\r\n",
       "</svg>\r\n"
      ],
      "text/plain": [
       "<graphviz.files.Source at 0x1829ea58>"
      ]
     },
     "execution_count": 312,
     "metadata": {},
     "output_type": "execute_result"
    }
   ],
   "source": [
    "Source(export_graphviz(dec_payment, out_file=None, feature_names=X.columns))"
   ]
  },
  {
   "cell_type": "code",
   "execution_count": null,
   "metadata": {
    "collapsed": true
   },
   "outputs": [],
   "source": []
  },
  {
   "cell_type": "code",
   "execution_count": null,
   "metadata": {
    "collapsed": true
   },
   "outputs": [],
   "source": []
  }
 ],
 "metadata": {
  "anaconda-cloud": {},
  "kernelspec": {
   "display_name": "Python [conda root]",
   "language": "python",
   "name": "conda-root-py"
  },
  "language_info": {
   "codemirror_mode": {
    "name": "ipython",
    "version": 2
   },
   "file_extension": ".py",
   "mimetype": "text/x-python",
   "name": "python",
   "nbconvert_exporter": "python",
   "pygments_lexer": "ipython2",
   "version": "2.7.12"
  }
 },
 "nbformat": 4,
 "nbformat_minor": 2
}
