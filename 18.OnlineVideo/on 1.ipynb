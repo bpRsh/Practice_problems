{
 "cells": [
  {
   "cell_type": "code",
   "execution_count": 1,
   "metadata": {
    "collapsed": true
   },
   "outputs": [],
   "source": [
    "import itertools\n",
    "import numpy as np\n",
    "import pandas as pd\n",
    "from sklearn.tree import DecisionTreeClassifier,export_graphviz\n",
    "\n",
    "import matplotlib.pyplot as plt\n",
    "plt.style.use('ggplot')\n",
    "%matplotlib inline"
   ]
  },
  {
   "cell_type": "code",
   "execution_count": 4,
   "metadata": {
    "collapsed": true
   },
   "outputs": [],
   "source": [
    "df = pd.read_csv(\"video_count.csv\")\n",
    "df['date'] = pd.to_datetime(df.date)"
   ]
  },
  {
   "cell_type": "code",
   "execution_count": 5,
   "metadata": {
    "collapsed": false
   },
   "outputs": [
    {
     "data": {
      "text/html": [
       "<div>\n",
       "<table border=\"1\" class=\"dataframe\">\n",
       "  <thead>\n",
       "    <tr style=\"text-align: right;\">\n",
       "      <th></th>\n",
       "      <th>video_id</th>\n",
       "      <th>count</th>\n",
       "      <th>date</th>\n",
       "    </tr>\n",
       "  </thead>\n",
       "  <tbody>\n",
       "    <tr>\n",
       "      <th>0</th>\n",
       "      <td>2303</td>\n",
       "      <td>22</td>\n",
       "      <td>2015-01-07</td>\n",
       "    </tr>\n",
       "    <tr>\n",
       "      <th>1</th>\n",
       "      <td>1193</td>\n",
       "      <td>54854</td>\n",
       "      <td>2015-01-12</td>\n",
       "    </tr>\n",
       "    <tr>\n",
       "      <th>2</th>\n",
       "      <td>1219</td>\n",
       "      <td>1788779</td>\n",
       "      <td>2015-01-03</td>\n",
       "    </tr>\n",
       "    <tr>\n",
       "      <th>3</th>\n",
       "      <td>1472</td>\n",
       "      <td>234</td>\n",
       "      <td>2015-01-04</td>\n",
       "    </tr>\n",
       "    <tr>\n",
       "      <th>4</th>\n",
       "      <td>2947</td>\n",
       "      <td>14407</td>\n",
       "      <td>2015-01-08</td>\n",
       "    </tr>\n",
       "  </tbody>\n",
       "</table>\n",
       "</div>"
      ],
      "text/plain": [
       "   video_id    count       date\n",
       "0      2303       22 2015-01-07\n",
       "1      1193    54854 2015-01-12\n",
       "2      1219  1788779 2015-01-03\n",
       "3      1472      234 2015-01-04\n",
       "4      2947    14407 2015-01-08"
      ]
     },
     "execution_count": 5,
     "metadata": {},
     "output_type": "execute_result"
    }
   ],
   "source": [
    "df.head()"
   ]
  },
  {
   "cell_type": "code",
   "execution_count": 6,
   "metadata": {
    "collapsed": true
   },
   "outputs": [],
   "source": [
    "def extract_counts_statistics(df):\n",
    "    \"\"\"\n",
    "    input:\n",
    "        DataFrame of a certain video (same video_id)\n",
    "    output:\n",
    "        25th,50th,75th,mean of that video's view_count\n",
    "        25th,50th,75th,mean of that video's view_count's change rate\n",
    "    \"\"\"\n",
    "    counts = df.sort_values(by='date')['count'].astype(np.float)\n",
    "    qs = [25,50,75]\n",
    "\n",
    "    # ************* count's statistics ************* #\n",
    "    cnt_percentiles = np.percentile(counts,qs)\n",
    "    d = {'cnt_{}th'.format(q):p for q,p in itertools.izip(qs,cnt_percentiles)}\n",
    "    d['cnt_mean'] = counts.mean()\n",
    "    # ************* count's change rate's statistics ************* #\n",
    "    # change rate = 'current view counts'/'previous view counts'\n",
    "    cnts_prev = counts.iloc[:-1]\n",
    "    cnts_current = counts.iloc[1:]\n",
    "    # divide by values, not match by index\n",
    "    change_rates = cnts_current.values / cnts_prev.values\n",
    "\n",
    "    chg_percentiles = np.percentile(change_rates,qs)\n",
    "    for q,p in itertools.izip(qs,chg_percentiles):\n",
    "        # 'rch' stands for 'rate of change'\n",
    "        d['rch_{}th'.format(q)] = p\n",
    "    d['rch_mean'] = change_rates.mean()\n",
    "\n",
    "    return pd.Series(d)"
   ]
  },
  {
   "cell_type": "code",
   "execution_count": 7,
   "metadata": {
    "collapsed": true
   },
   "outputs": [],
   "source": [
    "df2 = df.groupby('video_id').apply(extract_counts_statistics)"
   ]
  },
  {
   "cell_type": "code",
   "execution_count": 8,
   "metadata": {
    "collapsed": false
   },
   "outputs": [
    {
     "data": {
      "text/html": [
       "<div>\n",
       "<table border=\"1\" class=\"dataframe\">\n",
       "  <thead>\n",
       "    <tr style=\"text-align: right;\">\n",
       "      <th></th>\n",
       "      <th>cnt_25th</th>\n",
       "      <th>cnt_50th</th>\n",
       "      <th>cnt_75th</th>\n",
       "      <th>cnt_mean</th>\n",
       "      <th>rch_25th</th>\n",
       "      <th>rch_50th</th>\n",
       "      <th>rch_75th</th>\n",
       "      <th>rch_mean</th>\n",
       "    </tr>\n",
       "    <tr>\n",
       "      <th>video_id</th>\n",
       "      <th></th>\n",
       "      <th></th>\n",
       "      <th></th>\n",
       "      <th></th>\n",
       "      <th></th>\n",
       "      <th></th>\n",
       "      <th></th>\n",
       "      <th></th>\n",
       "    </tr>\n",
       "  </thead>\n",
       "  <tbody>\n",
       "    <tr>\n",
       "      <th>1</th>\n",
       "      <td>41099.0</td>\n",
       "      <td>65907.0</td>\n",
       "      <td>96335.0</td>\n",
       "      <td>7.063560e+04</td>\n",
       "      <td>0.813619</td>\n",
       "      <td>0.848616</td>\n",
       "      <td>0.932023</td>\n",
       "      <td>0.872563</td>\n",
       "    </tr>\n",
       "    <tr>\n",
       "      <th>2</th>\n",
       "      <td>1673415.5</td>\n",
       "      <td>1718352.0</td>\n",
       "      <td>1782226.5</td>\n",
       "      <td>1.737141e+06</td>\n",
       "      <td>0.938541</td>\n",
       "      <td>0.956124</td>\n",
       "      <td>1.030687</td>\n",
       "      <td>0.985816</td>\n",
       "    </tr>\n",
       "    <tr>\n",
       "      <th>3</th>\n",
       "      <td>2132336.5</td>\n",
       "      <td>2247587.0</td>\n",
       "      <td>2436222.5</td>\n",
       "      <td>2.292781e+06</td>\n",
       "      <td>0.971707</td>\n",
       "      <td>0.998932</td>\n",
       "      <td>1.056393</td>\n",
       "      <td>1.008923</td>\n",
       "    </tr>\n",
       "    <tr>\n",
       "      <th>4</th>\n",
       "      <td>2611162.0</td>\n",
       "      <td>2719547.0</td>\n",
       "      <td>2880268.5</td>\n",
       "      <td>2.740392e+06</td>\n",
       "      <td>0.972875</td>\n",
       "      <td>1.001606</td>\n",
       "      <td>1.050860</td>\n",
       "      <td>1.011310</td>\n",
       "    </tr>\n",
       "    <tr>\n",
       "      <th>5</th>\n",
       "      <td>255574.5</td>\n",
       "      <td>388594.0</td>\n",
       "      <td>609508.0</td>\n",
       "      <td>4.479973e+05</td>\n",
       "      <td>0.822568</td>\n",
       "      <td>0.866553</td>\n",
       "      <td>0.987271</td>\n",
       "      <td>0.888189</td>\n",
       "    </tr>\n",
       "  </tbody>\n",
       "</table>\n",
       "</div>"
      ],
      "text/plain": [
       "           cnt_25th   cnt_50th   cnt_75th      cnt_mean  rch_25th  rch_50th  \\\n",
       "video_id                                                                      \n",
       "1           41099.0    65907.0    96335.0  7.063560e+04  0.813619  0.848616   \n",
       "2         1673415.5  1718352.0  1782226.5  1.737141e+06  0.938541  0.956124   \n",
       "3         2132336.5  2247587.0  2436222.5  2.292781e+06  0.971707  0.998932   \n",
       "4         2611162.0  2719547.0  2880268.5  2.740392e+06  0.972875  1.001606   \n",
       "5          255574.5   388594.0   609508.0  4.479973e+05  0.822568  0.866553   \n",
       "\n",
       "          rch_75th  rch_mean  \n",
       "video_id                      \n",
       "1         0.932023  0.872563  \n",
       "2         1.030687  0.985816  \n",
       "3         1.056393  1.008923  \n",
       "4         1.050860  1.011310  \n",
       "5         0.987271  0.888189  "
      ]
     },
     "execution_count": 8,
     "metadata": {},
     "output_type": "execute_result"
    }
   ],
   "source": [
    "df2.head()"
   ]
  },
  {
   "cell_type": "markdown",
   "metadata": {},
   "source": [
    "* hot - cnt25, 50, 75 and mean >= 75% videos, rch_25, 50, 75, mean >= 50% videos\n",
    "* stable and popular - cnt25, 50, 75 and mean >= 75% videos\n",
    "* everything else"
   ]
  },
  {
   "cell_type": "code",
   "execution_count": 9,
   "metadata": {
    "collapsed": true
   },
   "outputs": [],
   "source": [
    "df2.loc[(df2.cnt_25th >= df2.cnt_25th.quantile(.75)) & (df2.cnt_50th >= df2.cnt_50th.quantile(.75)) \n",
    "        & (df2.cnt_75th >= df2.cnt_75th.quantile(.75)) & (df2.cnt_mean >= df2.cnt_mean.quantile(.75)) \n",
    "        ,'category'] = \"stable\""
   ]
  },
  {
   "cell_type": "code",
   "execution_count": 10,
   "metadata": {
    "collapsed": true
   },
   "outputs": [],
   "source": [
    "df2.loc[(df2.cnt_25th >= df2.cnt_25th.quantile(.75)) & (df2.cnt_50th >= df2.cnt_50th.quantile(.75)) \n",
    "        & (df2.cnt_75th >= df2.cnt_75th.quantile(.75)) & (df2.cnt_mean >= df2.cnt_mean.quantile(.75)) &\n",
    "        (df2.rch_25th >= df2.rch_25th.quantile(.50)) & (df2.rch_50th >= df2.rch_50th.quantile(.50)) \n",
    "        & (df2.rch_75th >= df2.rch_75th.quantile(.50)) & (df2.rch_mean >= df2.rch_mean.quantile(.50)) \n",
    "        ,'category'] = \"hot\""
   ]
  },
  {
   "cell_type": "code",
   "execution_count": 11,
   "metadata": {
    "collapsed": true
   },
   "outputs": [],
   "source": [
    "df2.category = df2.category.fillna('else')"
   ]
  },
  {
   "cell_type": "code",
   "execution_count": 12,
   "metadata": {
    "collapsed": false
   },
   "outputs": [
    {
     "data": {
      "text/plain": [
       "else      2169\n",
       "hot        329\n",
       "stable     287\n",
       "Name: category, dtype: int64"
      ]
     },
     "execution_count": 12,
     "metadata": {},
     "output_type": "execute_result"
    }
   ],
   "source": [
    "df2.category.value_counts()"
   ]
  },
  {
   "cell_type": "code",
   "execution_count": 13,
   "metadata": {
    "collapsed": true
   },
   "outputs": [],
   "source": [
    "df2.loc[(df2.cnt_25th >= df2.cnt_25th.quantile(.75)) & (df2.cnt_50th >= df2.cnt_50th.quantile(.75)) \n",
    "        & (df2.cnt_75th >= df2.cnt_75th.quantile(.75)) & (df2.cnt_mean >= df2.cnt_mean.quantile(.75)) &\n",
    "        (df2.rch_25th >= df2.rch_25th.quantile(.50)) & (df2.rch_50th >= df2.rch_50th.quantile(.50)) \n",
    "        & (df2.rch_75th >= df2.rch_75th.quantile(.50)) & (df2.rch_mean >= df2.rch_mean.quantile(.50)) \n",
    "        ,'is_hot'] = 1"
   ]
  },
  {
   "cell_type": "code",
   "execution_count": 14,
   "metadata": {
    "collapsed": true
   },
   "outputs": [],
   "source": [
    "df2.is_hot = df2.is_hot.fillna(0)"
   ]
  },
  {
   "cell_type": "code",
   "execution_count": 15,
   "metadata": {
    "collapsed": false
   },
   "outputs": [
    {
     "data": {
      "text/plain": [
       "0.0    2456\n",
       "1.0     329\n",
       "Name: is_hot, dtype: int64"
      ]
     },
     "execution_count": 15,
     "metadata": {},
     "output_type": "execute_result"
    }
   ],
   "source": [
    "df2.is_hot.value_counts()"
   ]
  },
  {
   "cell_type": "code",
   "execution_count": 16,
   "metadata": {
    "collapsed": true
   },
   "outputs": [],
   "source": [
    "features = pd.read_csv(\"video_features.csv\",index_col='video_id')"
   ]
  },
  {
   "cell_type": "code",
   "execution_count": 17,
   "metadata": {
    "collapsed": true
   },
   "outputs": [],
   "source": [
    "main = df2.join(features)"
   ]
  },
  {
   "cell_type": "code",
   "execution_count": 18,
   "metadata": {
    "collapsed": false
   },
   "outputs": [
    {
     "data": {
      "text/html": [
       "<div>\n",
       "<table border=\"1\" class=\"dataframe\">\n",
       "  <thead>\n",
       "    <tr style=\"text-align: right;\">\n",
       "      <th></th>\n",
       "      <th>cnt_25th</th>\n",
       "      <th>cnt_50th</th>\n",
       "      <th>cnt_75th</th>\n",
       "      <th>cnt_mean</th>\n",
       "      <th>rch_25th</th>\n",
       "      <th>rch_50th</th>\n",
       "      <th>rch_75th</th>\n",
       "      <th>rch_mean</th>\n",
       "      <th>category</th>\n",
       "      <th>is_hot</th>\n",
       "      <th>video_length</th>\n",
       "      <th>video_language</th>\n",
       "      <th>video_upload_date</th>\n",
       "      <th>video_quality</th>\n",
       "    </tr>\n",
       "    <tr>\n",
       "      <th>video_id</th>\n",
       "      <th></th>\n",
       "      <th></th>\n",
       "      <th></th>\n",
       "      <th></th>\n",
       "      <th></th>\n",
       "      <th></th>\n",
       "      <th></th>\n",
       "      <th></th>\n",
       "      <th></th>\n",
       "      <th></th>\n",
       "      <th></th>\n",
       "      <th></th>\n",
       "      <th></th>\n",
       "      <th></th>\n",
       "    </tr>\n",
       "  </thead>\n",
       "  <tbody>\n",
       "    <tr>\n",
       "      <th>1</th>\n",
       "      <td>41099.0</td>\n",
       "      <td>65907.0</td>\n",
       "      <td>96335.0</td>\n",
       "      <td>7.063560e+04</td>\n",
       "      <td>0.813619</td>\n",
       "      <td>0.848616</td>\n",
       "      <td>0.932023</td>\n",
       "      <td>0.872563</td>\n",
       "      <td>else</td>\n",
       "      <td>0.0</td>\n",
       "      <td>1496</td>\n",
       "      <td>Es</td>\n",
       "      <td>2014-12-04</td>\n",
       "      <td>720p</td>\n",
       "    </tr>\n",
       "    <tr>\n",
       "      <th>2</th>\n",
       "      <td>1673415.5</td>\n",
       "      <td>1718352.0</td>\n",
       "      <td>1782226.5</td>\n",
       "      <td>1.737141e+06</td>\n",
       "      <td>0.938541</td>\n",
       "      <td>0.956124</td>\n",
       "      <td>1.030687</td>\n",
       "      <td>0.985816</td>\n",
       "      <td>stable</td>\n",
       "      <td>0.0</td>\n",
       "      <td>751</td>\n",
       "      <td>Cn</td>\n",
       "      <td>2014-12-14</td>\n",
       "      <td>480p</td>\n",
       "    </tr>\n",
       "    <tr>\n",
       "      <th>3</th>\n",
       "      <td>2132336.5</td>\n",
       "      <td>2247587.0</td>\n",
       "      <td>2436222.5</td>\n",
       "      <td>2.292781e+06</td>\n",
       "      <td>0.971707</td>\n",
       "      <td>0.998932</td>\n",
       "      <td>1.056393</td>\n",
       "      <td>1.008923</td>\n",
       "      <td>hot</td>\n",
       "      <td>1.0</td>\n",
       "      <td>807</td>\n",
       "      <td>En</td>\n",
       "      <td>2014-12-15</td>\n",
       "      <td>1080p</td>\n",
       "    </tr>\n",
       "    <tr>\n",
       "      <th>4</th>\n",
       "      <td>2611162.0</td>\n",
       "      <td>2719547.0</td>\n",
       "      <td>2880268.5</td>\n",
       "      <td>2.740392e+06</td>\n",
       "      <td>0.972875</td>\n",
       "      <td>1.001606</td>\n",
       "      <td>1.050860</td>\n",
       "      <td>1.011310</td>\n",
       "      <td>hot</td>\n",
       "      <td>1.0</td>\n",
       "      <td>545</td>\n",
       "      <td>En</td>\n",
       "      <td>2014-12-11</td>\n",
       "      <td>360p</td>\n",
       "    </tr>\n",
       "    <tr>\n",
       "      <th>5</th>\n",
       "      <td>255574.5</td>\n",
       "      <td>388594.0</td>\n",
       "      <td>609508.0</td>\n",
       "      <td>4.479973e+05</td>\n",
       "      <td>0.822568</td>\n",
       "      <td>0.866553</td>\n",
       "      <td>0.987271</td>\n",
       "      <td>0.888189</td>\n",
       "      <td>else</td>\n",
       "      <td>0.0</td>\n",
       "      <td>953</td>\n",
       "      <td>En</td>\n",
       "      <td>2014-12-10</td>\n",
       "      <td>1080p</td>\n",
       "    </tr>\n",
       "  </tbody>\n",
       "</table>\n",
       "</div>"
      ],
      "text/plain": [
       "           cnt_25th   cnt_50th   cnt_75th      cnt_mean  rch_25th  rch_50th  \\\n",
       "video_id                                                                      \n",
       "1           41099.0    65907.0    96335.0  7.063560e+04  0.813619  0.848616   \n",
       "2         1673415.5  1718352.0  1782226.5  1.737141e+06  0.938541  0.956124   \n",
       "3         2132336.5  2247587.0  2436222.5  2.292781e+06  0.971707  0.998932   \n",
       "4         2611162.0  2719547.0  2880268.5  2.740392e+06  0.972875  1.001606   \n",
       "5          255574.5   388594.0   609508.0  4.479973e+05  0.822568  0.866553   \n",
       "\n",
       "          rch_75th  rch_mean category  is_hot  video_length video_language  \\\n",
       "video_id                                                                     \n",
       "1         0.932023  0.872563     else     0.0          1496             Es   \n",
       "2         1.030687  0.985816   stable     0.0           751             Cn   \n",
       "3         1.056393  1.008923      hot     1.0           807             En   \n",
       "4         1.050860  1.011310      hot     1.0           545             En   \n",
       "5         0.987271  0.888189     else     0.0           953             En   \n",
       "\n",
       "         video_upload_date video_quality  \n",
       "video_id                                  \n",
       "1               2014-12-04          720p  \n",
       "2               2014-12-14          480p  \n",
       "3               2014-12-15         1080p  \n",
       "4               2014-12-11          360p  \n",
       "5               2014-12-10         1080p  "
      ]
     },
     "execution_count": 18,
     "metadata": {},
     "output_type": "execute_result"
    }
   ],
   "source": [
    "main.head()"
   ]
  },
  {
   "cell_type": "code",
   "execution_count": 19,
   "metadata": {
    "collapsed": true
   },
   "outputs": [],
   "source": [
    "language = pd.get_dummies(main['video_language'],prefix = 'video_language')\n",
    "main = pd.concat([main,language],axis = 1)"
   ]
  },
  {
   "cell_type": "code",
   "execution_count": 20,
   "metadata": {
    "collapsed": true
   },
   "outputs": [],
   "source": [
    "main['video_upload_date'] = pd.to_datetime(main.video_upload_date)"
   ]
  },
  {
   "cell_type": "code",
   "execution_count": 21,
   "metadata": {
    "collapsed": true
   },
   "outputs": [],
   "source": [
    "main['upload_weekday'] = main.video_upload_date.dt.weekday_name"
   ]
  },
  {
   "cell_type": "code",
   "execution_count": 22,
   "metadata": {
    "collapsed": true
   },
   "outputs": [],
   "source": [
    "weekday = pd.get_dummies(main['upload_weekday'],prefix = 'upload_weekday')\n",
    "main = pd.concat([main,weekday],axis = 1)"
   ]
  },
  {
   "cell_type": "code",
   "execution_count": 23,
   "metadata": {
    "collapsed": true
   },
   "outputs": [],
   "source": [
    "quality = pd.get_dummies(main['video_quality'],prefix = 'video_quality')\n",
    "main = pd.concat([main,quality],axis = 1)"
   ]
  },
  {
   "cell_type": "code",
   "execution_count": 24,
   "metadata": {
    "collapsed": false
   },
   "outputs": [
    {
     "name": "stdout",
     "output_type": "stream",
     "text": [
      "<class 'pandas.core.frame.DataFrame'>\n",
      "Int64Index: 2785 entries, 1 to 3000\n",
      "Data columns (total 33 columns):\n",
      "cnt_25th                    2785 non-null float64\n",
      "cnt_50th                    2785 non-null float64\n",
      "cnt_75th                    2785 non-null float64\n",
      "cnt_mean                    2785 non-null float64\n",
      "rch_25th                    2785 non-null float64\n",
      "rch_50th                    2785 non-null float64\n",
      "rch_75th                    2785 non-null float64\n",
      "rch_mean                    2785 non-null float64\n",
      "category                    2785 non-null object\n",
      "is_hot                      2785 non-null float64\n",
      "video_length                2785 non-null int64\n",
      "video_language              2785 non-null object\n",
      "video_upload_date           2785 non-null datetime64[ns]\n",
      "video_quality               2785 non-null object\n",
      "video_language_Cn           2785 non-null uint8\n",
      "video_language_De           2785 non-null uint8\n",
      "video_language_En           2785 non-null uint8\n",
      "video_language_Es           2785 non-null uint8\n",
      "video_language_Fr           2785 non-null uint8\n",
      "video_language_Other        2785 non-null uint8\n",
      "upload_weekday              2785 non-null object\n",
      "upload_weekday_Friday       2785 non-null uint8\n",
      "upload_weekday_Monday       2785 non-null uint8\n",
      "upload_weekday_Saturday     2785 non-null uint8\n",
      "upload_weekday_Sunday       2785 non-null uint8\n",
      "upload_weekday_Thursday     2785 non-null uint8\n",
      "upload_weekday_Tuesday      2785 non-null uint8\n",
      "upload_weekday_Wednesday    2785 non-null uint8\n",
      "video_quality_1080p         2785 non-null uint8\n",
      "video_quality_240p          2785 non-null uint8\n",
      "video_quality_360p          2785 non-null uint8\n",
      "video_quality_480p          2785 non-null uint8\n",
      "video_quality_720p          2785 non-null uint8\n",
      "dtypes: datetime64[ns](1), float64(9), int64(1), object(4), uint8(18)\n",
      "memory usage: 397.1+ KB\n"
     ]
    }
   ],
   "source": [
    "main.info()"
   ]
  },
  {
   "cell_type": "code",
   "execution_count": 25,
   "metadata": {
    "collapsed": true
   },
   "outputs": [],
   "source": [
    "X = main[['video_length','video_quality_1080p','video_quality_240p','video_quality_360p','video_quality_480p','video_quality_720p',\n",
    "          'video_language_Cn','video_language_De','video_language_En','video_language_Es',\n",
    "         'video_language_Fr','video_language_Other','upload_weekday_Friday','upload_weekday_Monday','upload_weekday_Saturday',\n",
    "         'upload_weekday_Sunday','upload_weekday_Thursday','upload_weekday_Tuesday','upload_weekday_Wednesday']]"
   ]
  },
  {
   "cell_type": "code",
   "execution_count": 26,
   "metadata": {
    "collapsed": true
   },
   "outputs": [],
   "source": [
    "y = main['is_hot']"
   ]
  },
  {
   "cell_type": "code",
   "execution_count": 39,
   "metadata": {
    "collapsed": false
   },
   "outputs": [
    {
     "data": {
      "text/plain": [
       "DecisionTreeClassifier(class_weight=None, criterion='gini', max_depth=4,\n",
       "            max_features=None, max_leaf_nodes=None,\n",
       "            min_impurity_split=1e-07, min_samples_leaf=10,\n",
       "            min_samples_split=30, min_weight_fraction_leaf=0.0,\n",
       "            presort=False, random_state=None, splitter='best')"
      ]
     },
     "execution_count": 39,
     "metadata": {},
     "output_type": "execute_result"
    }
   ],
   "source": [
    "dt = DecisionTreeClassifier(max_depth=4,min_samples_leaf=10,min_samples_split=30)\n",
    "dt.fit(X,y)"
   ]
  },
  {
   "cell_type": "code",
   "execution_count": 40,
   "metadata": {
    "collapsed": false
   },
   "outputs": [
    {
     "data": {
      "text/plain": [
       "video_length                0.703613\n",
       "video_language_Cn           0.127676\n",
       "video_quality_240p          0.068047\n",
       "video_quality_480p          0.059597\n",
       "upload_weekday_Saturday     0.032778\n",
       "video_language_Other        0.008288\n",
       "video_language_De           0.000000\n",
       "video_quality_1080p         0.000000\n",
       "video_quality_360p          0.000000\n",
       "video_quality_720p          0.000000\n",
       "upload_weekday_Wednesday    0.000000\n",
       "video_language_En           0.000000\n",
       "upload_weekday_Tuesday      0.000000\n",
       "video_language_Fr           0.000000\n",
       "upload_weekday_Friday       0.000000\n",
       "upload_weekday_Monday       0.000000\n",
       "upload_weekday_Sunday       0.000000\n",
       "upload_weekday_Thursday     0.000000\n",
       "video_language_Es           0.000000\n",
       "dtype: float64"
      ]
     },
     "execution_count": 40,
     "metadata": {},
     "output_type": "execute_result"
    }
   ],
   "source": [
    "feat_importances = pd.Series( dt.feature_importances_, index=X.columns)\n",
    "feat_importances.sort_values(ascending=False,inplace=True)\n",
    "feat_importances"
   ]
  },
  {
   "cell_type": "code",
   "execution_count": 41,
   "metadata": {
    "collapsed": false
   },
   "outputs": [
    {
     "data": {
      "text/plain": [
       "['dt.pkl']"
      ]
     },
     "execution_count": 41,
     "metadata": {},
     "output_type": "execute_result"
    }
   ],
   "source": [
    "from sklearn.externals import joblib\n",
    "joblib.dump(dt, 'dt.pkl') "
   ]
  },
  {
   "cell_type": "code",
   "execution_count": 42,
   "metadata": {
    "collapsed": true
   },
   "outputs": [],
   "source": [
    "from sklearn.externals import joblib\n",
    "dt = joblib.load('dt.pkl') "
   ]
  },
  {
   "cell_type": "code",
   "execution_count": 43,
   "metadata": {
    "collapsed": false
   },
   "outputs": [
    {
     "data": {
      "image/svg+xml": [
       "<?xml version=\"1.0\" encoding=\"UTF-8\" standalone=\"no\"?>\r\n",
       "<!DOCTYPE svg PUBLIC \"-//W3C//DTD SVG 1.1//EN\"\r\n",
       " \"http://www.w3.org/Graphics/SVG/1.1/DTD/svg11.dtd\">\r\n",
       "<!-- Generated by graphviz version 2.38.0 (20140413.2041)\r\n",
       " -->\r\n",
       "<!-- Title: Tree Pages: 1 -->\r\n",
       "<svg width=\"1812pt\" height=\"560pt\"\r\n",
       " viewBox=\"0.00 0.00 1811.50 559.50\" xmlns=\"http://www.w3.org/2000/svg\" xmlns:xlink=\"http://www.w3.org/1999/xlink\">\r\n",
       "<g id=\"graph0\" class=\"graph\" transform=\"scale(1 1) rotate(0) translate(4 555.5)\">\r\n",
       "<title>Tree</title>\r\n",
       "<polygon fill=\"white\" stroke=\"none\" points=\"-4,4 -4,-555.5 1807.5,-555.5 1807.5,4 -4,4\"/>\r\n",
       "<!-- 0 -->\r\n",
       "<g id=\"node1\" class=\"node\"><title>0</title>\r\n",
       "<polygon fill=\"#e58139\" fill-opacity=\"0.866667\" stroke=\"black\" points=\"1181,-551.5 1038,-551.5 1038,-468.5 1181,-468.5 1181,-551.5\"/>\r\n",
       "<text text-anchor=\"middle\" x=\"1109.5\" y=\"-536.3\" font-family=\"Times New Roman,serif\" font-size=\"14.00\">video_length &lt;= 910.5</text>\r\n",
       "<text text-anchor=\"middle\" x=\"1109.5\" y=\"-521.3\" font-family=\"Times New Roman,serif\" font-size=\"14.00\">gini = 0.2084</text>\r\n",
       "<text text-anchor=\"middle\" x=\"1109.5\" y=\"-506.3\" font-family=\"Times New Roman,serif\" font-size=\"14.00\">samples = 100.0%</text>\r\n",
       "<text text-anchor=\"middle\" x=\"1109.5\" y=\"-491.3\" font-family=\"Times New Roman,serif\" font-size=\"14.00\">value = [0.88, 0.12]</text>\r\n",
       "<text text-anchor=\"middle\" x=\"1109.5\" y=\"-476.3\" font-family=\"Times New Roman,serif\" font-size=\"14.00\">class = NotHot</text>\r\n",
       "</g>\r\n",
       "<!-- 1 -->\r\n",
       "<g id=\"node2\" class=\"node\"><title>1</title>\r\n",
       "<polygon fill=\"#e58139\" fill-opacity=\"0.827451\" stroke=\"black\" points=\"920.5,-432.5 752.5,-432.5 752.5,-349.5 920.5,-349.5 920.5,-432.5\"/>\r\n",
       "<text text-anchor=\"middle\" x=\"836.5\" y=\"-417.3\" font-family=\"Times New Roman,serif\" font-size=\"14.00\">video_language_Cn &lt;= 0.5</text>\r\n",
       "<text text-anchor=\"middle\" x=\"836.5\" y=\"-402.3\" font-family=\"Times New Roman,serif\" font-size=\"14.00\">gini = 0.2501</text>\r\n",
       "<text text-anchor=\"middle\" x=\"836.5\" y=\"-387.3\" font-family=\"Times New Roman,serif\" font-size=\"14.00\">samples = 71.6%</text>\r\n",
       "<text text-anchor=\"middle\" x=\"836.5\" y=\"-372.3\" font-family=\"Times New Roman,serif\" font-size=\"14.00\">value = [0.85, 0.15]</text>\r\n",
       "<text text-anchor=\"middle\" x=\"836.5\" y=\"-357.3\" font-family=\"Times New Roman,serif\" font-size=\"14.00\">class = NotHot</text>\r\n",
       "</g>\r\n",
       "<!-- 0&#45;&gt;1 -->\r\n",
       "<g id=\"edge1\" class=\"edge\"><title>0&#45;&gt;1</title>\r\n",
       "<path fill=\"none\" stroke=\"black\" d=\"M1037.77,-478.26C1004.85,-464.151 965.39,-447.239 930.163,-432.141\"/>\r\n",
       "<polygon fill=\"black\" stroke=\"black\" points=\"931.399,-428.863 920.829,-428.141 928.641,-435.297 931.399,-428.863\"/>\r\n",
       "<text text-anchor=\"middle\" x=\"930.113\" y=\"-447.653\" font-family=\"Times New Roman,serif\" font-size=\"14.00\">True</text>\r\n",
       "</g>\r\n",
       "<!-- 16 -->\r\n",
       "<g id=\"node17\" class=\"node\"><title>16</title>\r\n",
       "<polygon fill=\"#e58139\" fill-opacity=\"0.952941\" stroke=\"black\" points=\"1470,-432.5 1321,-432.5 1321,-349.5 1470,-349.5 1470,-432.5\"/>\r\n",
       "<text text-anchor=\"middle\" x=\"1395.5\" y=\"-417.3\" font-family=\"Times New Roman,serif\" font-size=\"14.00\">video_length &lt;= 1436.5</text>\r\n",
       "<text text-anchor=\"middle\" x=\"1395.5\" y=\"-402.3\" font-family=\"Times New Roman,serif\" font-size=\"14.00\">gini = 0.0891</text>\r\n",
       "<text text-anchor=\"middle\" x=\"1395.5\" y=\"-387.3\" font-family=\"Times New Roman,serif\" font-size=\"14.00\">samples = 28.4%</text>\r\n",
       "<text text-anchor=\"middle\" x=\"1395.5\" y=\"-372.3\" font-family=\"Times New Roman,serif\" font-size=\"14.00\">value = [0.95, 0.05]</text>\r\n",
       "<text text-anchor=\"middle\" x=\"1395.5\" y=\"-357.3\" font-family=\"Times New Roman,serif\" font-size=\"14.00\">class = NotHot</text>\r\n",
       "</g>\r\n",
       "<!-- 0&#45;&gt;16 -->\r\n",
       "<g id=\"edge16\" class=\"edge\"><title>0&#45;&gt;16</title>\r\n",
       "<path fill=\"none\" stroke=\"black\" d=\"M1181.3,-479.627C1220.83,-463.456 1270.1,-443.299 1311.42,-426.396\"/>\r\n",
       "<polygon fill=\"black\" stroke=\"black\" points=\"1312.99,-429.534 1320.92,-422.508 1310.34,-423.055 1312.99,-429.534\"/>\r\n",
       "<text text-anchor=\"middle\" x=\"1311.26\" y=\"-441.863\" font-family=\"Times New Roman,serif\" font-size=\"14.00\">False</text>\r\n",
       "</g>\r\n",
       "<!-- 2 -->\r\n",
       "<g id=\"node3\" class=\"node\"><title>2</title>\r\n",
       "<polygon fill=\"#e58139\" fill-opacity=\"0.854902\" stroke=\"black\" points=\"503.5,-313.5 367.5,-313.5 367.5,-230.5 503.5,-230.5 503.5,-313.5\"/>\r\n",
       "<text text-anchor=\"middle\" x=\"435.5\" y=\"-298.3\" font-family=\"Times New Roman,serif\" font-size=\"14.00\">video_length &lt;= 89.0</text>\r\n",
       "<text text-anchor=\"middle\" x=\"435.5\" y=\"-283.3\" font-family=\"Times New Roman,serif\" font-size=\"14.00\">gini = 0.2218</text>\r\n",
       "<text text-anchor=\"middle\" x=\"435.5\" y=\"-268.3\" font-family=\"Times New Roman,serif\" font-size=\"14.00\">samples = 48.0%</text>\r\n",
       "<text text-anchor=\"middle\" x=\"435.5\" y=\"-253.3\" font-family=\"Times New Roman,serif\" font-size=\"14.00\">value = [0.87, 0.13]</text>\r\n",
       "<text text-anchor=\"middle\" x=\"435.5\" y=\"-238.3\" font-family=\"Times New Roman,serif\" font-size=\"14.00\">class = NotHot</text>\r\n",
       "</g>\r\n",
       "<!-- 1&#45;&gt;2 -->\r\n",
       "<g id=\"edge2\" class=\"edge\"><title>1&#45;&gt;2</title>\r\n",
       "<path fill=\"none\" stroke=\"black\" d=\"M752.437,-365.473C682.063,-344.94 582.4,-315.861 513.715,-295.821\"/>\r\n",
       "<polygon fill=\"black\" stroke=\"black\" points=\"514.393,-292.373 503.813,-292.932 512.432,-299.092 514.393,-292.373\"/>\r\n",
       "</g>\r\n",
       "<!-- 9 -->\r\n",
       "<g id=\"node10\" class=\"node\"><title>9</title>\r\n",
       "<polygon fill=\"#e58139\" fill-opacity=\"0.772549\" stroke=\"black\" points=\"908,-313.5 765,-313.5 765,-230.5 908,-230.5 908,-313.5\"/>\r\n",
       "<text text-anchor=\"middle\" x=\"836.5\" y=\"-298.3\" font-family=\"Times New Roman,serif\" font-size=\"14.00\">video_length &lt;= 672.5</text>\r\n",
       "<text text-anchor=\"middle\" x=\"836.5\" y=\"-283.3\" font-family=\"Times New Roman,serif\" font-size=\"14.00\">gini = 0.3031</text>\r\n",
       "<text text-anchor=\"middle\" x=\"836.5\" y=\"-268.3\" font-family=\"Times New Roman,serif\" font-size=\"14.00\">samples = 23.5%</text>\r\n",
       "<text text-anchor=\"middle\" x=\"836.5\" y=\"-253.3\" font-family=\"Times New Roman,serif\" font-size=\"14.00\">value = [0.81, 0.19]</text>\r\n",
       "<text text-anchor=\"middle\" x=\"836.5\" y=\"-238.3\" font-family=\"Times New Roman,serif\" font-size=\"14.00\">class = NotHot</text>\r\n",
       "</g>\r\n",
       "<!-- 1&#45;&gt;9 -->\r\n",
       "<g id=\"edge9\" class=\"edge\"><title>1&#45;&gt;9</title>\r\n",
       "<path fill=\"none\" stroke=\"black\" d=\"M836.5,-349.407C836.5,-341.149 836.5,-332.364 836.5,-323.802\"/>\r\n",
       "<polygon fill=\"black\" stroke=\"black\" points=\"840,-323.521 836.5,-313.521 833,-323.521 840,-323.521\"/>\r\n",
       "</g>\r\n",
       "<!-- 3 -->\r\n",
       "<g id=\"node4\" class=\"node\"><title>3</title>\r\n",
       "<polygon fill=\"#e58139\" fill-opacity=\"0.698039\" stroke=\"black\" points=\"289.5,-194.5 121.5,-194.5 121.5,-111.5 289.5,-111.5 289.5,-194.5\"/>\r\n",
       "<text text-anchor=\"middle\" x=\"205.5\" y=\"-179.3\" font-family=\"Times New Roman,serif\" font-size=\"14.00\">video_quality_480p &lt;= 0.5</text>\r\n",
       "<text text-anchor=\"middle\" x=\"205.5\" y=\"-164.3\" font-family=\"Times New Roman,serif\" font-size=\"14.00\">gini = 0.3558</text>\r\n",
       "<text text-anchor=\"middle\" x=\"205.5\" y=\"-149.3\" font-family=\"Times New Roman,serif\" font-size=\"14.00\">samples = 3.9%</text>\r\n",
       "<text text-anchor=\"middle\" x=\"205.5\" y=\"-134.3\" font-family=\"Times New Roman,serif\" font-size=\"14.00\">value = [0.77, 0.23]</text>\r\n",
       "<text text-anchor=\"middle\" x=\"205.5\" y=\"-119.3\" font-family=\"Times New Roman,serif\" font-size=\"14.00\">class = NotHot</text>\r\n",
       "</g>\r\n",
       "<!-- 2&#45;&gt;3 -->\r\n",
       "<g id=\"edge3\" class=\"edge\"><title>2&#45;&gt;3</title>\r\n",
       "<path fill=\"none\" stroke=\"black\" d=\"M367.426,-236.371C344.522,-224.72 318.62,-211.543 294.357,-199.201\"/>\r\n",
       "<polygon fill=\"black\" stroke=\"black\" points=\"295.648,-195.931 285.148,-194.517 292.474,-202.17 295.648,-195.931\"/>\r\n",
       "</g>\r\n",
       "<!-- 6 -->\r\n",
       "<g id=\"node7\" class=\"node\"><title>6</title>\r\n",
       "<polygon fill=\"#e58139\" fill-opacity=\"0.866667\" stroke=\"black\" points=\"507,-194.5 364,-194.5 364,-111.5 507,-111.5 507,-194.5\"/>\r\n",
       "<text text-anchor=\"middle\" x=\"435.5\" y=\"-179.3\" font-family=\"Times New Roman,serif\" font-size=\"14.00\">video_length &lt;= 901.5</text>\r\n",
       "<text text-anchor=\"middle\" x=\"435.5\" y=\"-164.3\" font-family=\"Times New Roman,serif\" font-size=\"14.00\">gini = 0.208</text>\r\n",
       "<text text-anchor=\"middle\" x=\"435.5\" y=\"-149.3\" font-family=\"Times New Roman,serif\" font-size=\"14.00\">samples = 44.2%</text>\r\n",
       "<text text-anchor=\"middle\" x=\"435.5\" y=\"-134.3\" font-family=\"Times New Roman,serif\" font-size=\"14.00\">value = [0.88, 0.12]</text>\r\n",
       "<text text-anchor=\"middle\" x=\"435.5\" y=\"-119.3\" font-family=\"Times New Roman,serif\" font-size=\"14.00\">class = NotHot</text>\r\n",
       "</g>\r\n",
       "<!-- 2&#45;&gt;6 -->\r\n",
       "<g id=\"edge6\" class=\"edge\"><title>2&#45;&gt;6</title>\r\n",
       "<path fill=\"none\" stroke=\"black\" d=\"M435.5,-230.407C435.5,-222.149 435.5,-213.364 435.5,-204.802\"/>\r\n",
       "<polygon fill=\"black\" stroke=\"black\" points=\"439,-204.521 435.5,-194.521 432,-204.521 439,-204.521\"/>\r\n",
       "</g>\r\n",
       "<!-- 4 -->\r\n",
       "<g id=\"node5\" class=\"node\"><title>4</title>\r\n",
       "<polygon fill=\"#e58139\" fill-opacity=\"0.772549\" stroke=\"black\" points=\"125,-68 0,-68 0,-0 125,-0 125,-68\"/>\r\n",
       "<text text-anchor=\"middle\" x=\"62.5\" y=\"-52.8\" font-family=\"Times New Roman,serif\" font-size=\"14.00\">gini = 0.3029</text>\r\n",
       "<text text-anchor=\"middle\" x=\"62.5\" y=\"-37.8\" font-family=\"Times New Roman,serif\" font-size=\"14.00\">samples = 3.1%</text>\r\n",
       "<text text-anchor=\"middle\" x=\"62.5\" y=\"-22.8\" font-family=\"Times New Roman,serif\" font-size=\"14.00\">value = [0.81, 0.19]</text>\r\n",
       "<text text-anchor=\"middle\" x=\"62.5\" y=\"-7.8\" font-family=\"Times New Roman,serif\" font-size=\"14.00\">class = NotHot</text>\r\n",
       "</g>\r\n",
       "<!-- 3&#45;&gt;4 -->\r\n",
       "<g id=\"edge4\" class=\"edge\"><title>3&#45;&gt;4</title>\r\n",
       "<path fill=\"none\" stroke=\"black\" d=\"M155.887,-111.407C141.321,-99.4902 125.415,-86.4756 110.924,-74.6199\"/>\r\n",
       "<polygon fill=\"black\" stroke=\"black\" points=\"112.993,-71.7905 103.037,-68.1669 108.561,-77.2082 112.993,-71.7905\"/>\r\n",
       "</g>\r\n",
       "<!-- 5 -->\r\n",
       "<g id=\"node6\" class=\"node\"><title>5</title>\r\n",
       "<polygon fill=\"#e58139\" fill-opacity=\"0.305882\" stroke=\"black\" points=\"268,-68 143,-68 143,-0 268,-0 268,-68\"/>\r\n",
       "<text text-anchor=\"middle\" x=\"205.5\" y=\"-52.8\" font-family=\"Times New Roman,serif\" font-size=\"14.00\">gini = 0.4835</text>\r\n",
       "<text text-anchor=\"middle\" x=\"205.5\" y=\"-37.8\" font-family=\"Times New Roman,serif\" font-size=\"14.00\">samples = 0.8%</text>\r\n",
       "<text text-anchor=\"middle\" x=\"205.5\" y=\"-22.8\" font-family=\"Times New Roman,serif\" font-size=\"14.00\">value = [0.59, 0.41]</text>\r\n",
       "<text text-anchor=\"middle\" x=\"205.5\" y=\"-7.8\" font-family=\"Times New Roman,serif\" font-size=\"14.00\">class = NotHot</text>\r\n",
       "</g>\r\n",
       "<!-- 3&#45;&gt;5 -->\r\n",
       "<g id=\"edge5\" class=\"edge\"><title>3&#45;&gt;5</title>\r\n",
       "<path fill=\"none\" stroke=\"black\" d=\"M205.5,-111.407C205.5,-100.704 205.5,-89.1154 205.5,-78.2762\"/>\r\n",
       "<polygon fill=\"black\" stroke=\"black\" points=\"209,-78.1669 205.5,-68.1669 202,-78.167 209,-78.1669\"/>\r\n",
       "</g>\r\n",
       "<!-- 7 -->\r\n",
       "<g id=\"node8\" class=\"node\"><title>7</title>\r\n",
       "<polygon fill=\"#e58139\" fill-opacity=\"0.870588\" stroke=\"black\" points=\"411,-68 286,-68 286,-0 411,-0 411,-68\"/>\r\n",
       "<text text-anchor=\"middle\" x=\"348.5\" y=\"-52.8\" font-family=\"Times New Roman,serif\" font-size=\"14.00\">gini = 0.2046</text>\r\n",
       "<text text-anchor=\"middle\" x=\"348.5\" y=\"-37.8\" font-family=\"Times New Roman,serif\" font-size=\"14.00\">samples = 43.8%</text>\r\n",
       "<text text-anchor=\"middle\" x=\"348.5\" y=\"-22.8\" font-family=\"Times New Roman,serif\" font-size=\"14.00\">value = [0.88, 0.12]</text>\r\n",
       "<text text-anchor=\"middle\" x=\"348.5\" y=\"-7.8\" font-family=\"Times New Roman,serif\" font-size=\"14.00\">class = NotHot</text>\r\n",
       "</g>\r\n",
       "<!-- 6&#45;&gt;7 -->\r\n",
       "<g id=\"edge7\" class=\"edge\"><title>6&#45;&gt;7</title>\r\n",
       "<path fill=\"none\" stroke=\"black\" d=\"M405.316,-111.407C396.864,-100.042 387.671,-87.6783 379.191,-76.2738\"/>\r\n",
       "<polygon fill=\"black\" stroke=\"black\" points=\"381.938,-74.1031 373.163,-68.1669 376.321,-78.2801 381.938,-74.1031\"/>\r\n",
       "</g>\r\n",
       "<!-- 8 -->\r\n",
       "<g id=\"node9\" class=\"node\"><title>8</title>\r\n",
       "<polygon fill=\"#e58139\" fill-opacity=\"0.427451\" stroke=\"black\" points=\"554,-68 429,-68 429,-0 554,-0 554,-68\"/>\r\n",
       "<text text-anchor=\"middle\" x=\"491.5\" y=\"-52.8\" font-family=\"Times New Roman,serif\" font-size=\"14.00\">gini = 0.4628</text>\r\n",
       "<text text-anchor=\"middle\" x=\"491.5\" y=\"-37.8\" font-family=\"Times New Roman,serif\" font-size=\"14.00\">samples = 0.4%</text>\r\n",
       "<text text-anchor=\"middle\" x=\"491.5\" y=\"-22.8\" font-family=\"Times New Roman,serif\" font-size=\"14.00\">value = [0.64, 0.36]</text>\r\n",
       "<text text-anchor=\"middle\" x=\"491.5\" y=\"-7.8\" font-family=\"Times New Roman,serif\" font-size=\"14.00\">class = NotHot</text>\r\n",
       "</g>\r\n",
       "<!-- 6&#45;&gt;8 -->\r\n",
       "<g id=\"edge8\" class=\"edge\"><title>6&#45;&gt;8</title>\r\n",
       "<path fill=\"none\" stroke=\"black\" d=\"M454.929,-111.407C460.21,-100.373 465.942,-88.3977 471.267,-77.2727\"/>\r\n",
       "<polygon fill=\"black\" stroke=\"black\" points=\"474.465,-78.6981 475.625,-68.1669 468.151,-75.6759 474.465,-78.6981\"/>\r\n",
       "</g>\r\n",
       "<!-- 10 -->\r\n",
       "<g id=\"node11\" class=\"node\"><title>10</title>\r\n",
       "<polygon fill=\"#e58139\" fill-opacity=\"0.737255\" stroke=\"black\" points=\"821,-194.5 678,-194.5 678,-111.5 821,-111.5 821,-194.5\"/>\r\n",
       "<text text-anchor=\"middle\" x=\"749.5\" y=\"-179.3\" font-family=\"Times New Roman,serif\" font-size=\"14.00\">video_length &lt;= 506.0</text>\r\n",
       "<text text-anchor=\"middle\" x=\"749.5\" y=\"-164.3\" font-family=\"Times New Roman,serif\" font-size=\"14.00\">gini = 0.3291</text>\r\n",
       "<text text-anchor=\"middle\" x=\"749.5\" y=\"-149.3\" font-family=\"Times New Roman,serif\" font-size=\"14.00\">samples = 17.8%</text>\r\n",
       "<text text-anchor=\"middle\" x=\"749.5\" y=\"-134.3\" font-family=\"Times New Roman,serif\" font-size=\"14.00\">value = [0.79, 0.21]</text>\r\n",
       "<text text-anchor=\"middle\" x=\"749.5\" y=\"-119.3\" font-family=\"Times New Roman,serif\" font-size=\"14.00\">class = NotHot</text>\r\n",
       "</g>\r\n",
       "<!-- 9&#45;&gt;10 -->\r\n",
       "<g id=\"edge10\" class=\"edge\"><title>9&#45;&gt;10</title>\r\n",
       "<path fill=\"none\" stroke=\"black\" d=\"M806.316,-230.407C799.635,-221.423 792.491,-211.815 785.601,-202.55\"/>\r\n",
       "<polygon fill=\"black\" stroke=\"black\" points=\"788.407,-200.457 779.631,-194.521 782.789,-204.634 788.407,-200.457\"/>\r\n",
       "</g>\r\n",
       "<!-- 13 -->\r\n",
       "<g id=\"node14\" class=\"node\"><title>13</title>\r\n",
       "<polygon fill=\"#e58139\" fill-opacity=\"0.862745\" stroke=\"black\" points=\"1007.5,-194.5 839.5,-194.5 839.5,-111.5 1007.5,-111.5 1007.5,-194.5\"/>\r\n",
       "<text text-anchor=\"middle\" x=\"923.5\" y=\"-179.3\" font-family=\"Times New Roman,serif\" font-size=\"14.00\">video_quality_240p &lt;= 0.5</text>\r\n",
       "<text text-anchor=\"middle\" x=\"923.5\" y=\"-164.3\" font-family=\"Times New Roman,serif\" font-size=\"14.00\">gini = 0.2104</text>\r\n",
       "<text text-anchor=\"middle\" x=\"923.5\" y=\"-149.3\" font-family=\"Times New Roman,serif\" font-size=\"14.00\">samples = 5.7%</text>\r\n",
       "<text text-anchor=\"middle\" x=\"923.5\" y=\"-134.3\" font-family=\"Times New Roman,serif\" font-size=\"14.00\">value = [0.88, 0.12]</text>\r\n",
       "<text text-anchor=\"middle\" x=\"923.5\" y=\"-119.3\" font-family=\"Times New Roman,serif\" font-size=\"14.00\">class = NotHot</text>\r\n",
       "</g>\r\n",
       "<!-- 9&#45;&gt;13 -->\r\n",
       "<g id=\"edge13\" class=\"edge\"><title>9&#45;&gt;13</title>\r\n",
       "<path fill=\"none\" stroke=\"black\" d=\"M866.684,-230.407C873.365,-221.423 880.509,-211.815 887.399,-202.55\"/>\r\n",
       "<polygon fill=\"black\" stroke=\"black\" points=\"890.211,-204.634 893.369,-194.521 884.593,-200.457 890.211,-204.634\"/>\r\n",
       "</g>\r\n",
       "<!-- 11 -->\r\n",
       "<g id=\"node12\" class=\"node\"><title>11</title>\r\n",
       "<polygon fill=\"#e58139\" fill-opacity=\"0.788235\" stroke=\"black\" points=\"697,-68 572,-68 572,-0 697,-0 697,-68\"/>\r\n",
       "<text text-anchor=\"middle\" x=\"634.5\" y=\"-52.8\" font-family=\"Times New Roman,serif\" font-size=\"14.00\">gini = 0.2898</text>\r\n",
       "<text text-anchor=\"middle\" x=\"634.5\" y=\"-37.8\" font-family=\"Times New Roman,serif\" font-size=\"14.00\">samples = 13.1%</text>\r\n",
       "<text text-anchor=\"middle\" x=\"634.5\" y=\"-22.8\" font-family=\"Times New Roman,serif\" font-size=\"14.00\">value = [0.82, 0.18]</text>\r\n",
       "<text text-anchor=\"middle\" x=\"634.5\" y=\"-7.8\" font-family=\"Times New Roman,serif\" font-size=\"14.00\">class = NotHot</text>\r\n",
       "</g>\r\n",
       "<!-- 10&#45;&gt;11 -->\r\n",
       "<g id=\"edge11\" class=\"edge\"><title>10&#45;&gt;11</title>\r\n",
       "<path fill=\"none\" stroke=\"black\" d=\"M709.601,-111.407C698.213,-99.8212 685.806,-87.1978 674.416,-75.6105\"/>\r\n",
       "<polygon fill=\"black\" stroke=\"black\" points=\"676.606,-72.8453 667.1,-68.1669 671.614,-77.7522 676.606,-72.8453\"/>\r\n",
       "</g>\r\n",
       "<!-- 12 -->\r\n",
       "<g id=\"node13\" class=\"node\"><title>12</title>\r\n",
       "<polygon fill=\"#e58139\" fill-opacity=\"0.580392\" stroke=\"black\" points=\"827.5,-68 715.5,-68 715.5,-0 827.5,-0 827.5,-68\"/>\r\n",
       "<text text-anchor=\"middle\" x=\"771.5\" y=\"-52.8\" font-family=\"Times New Roman,serif\" font-size=\"14.00\">gini = 0.4163</text>\r\n",
       "<text text-anchor=\"middle\" x=\"771.5\" y=\"-37.8\" font-family=\"Times New Roman,serif\" font-size=\"14.00\">samples = 4.7%</text>\r\n",
       "<text text-anchor=\"middle\" x=\"771.5\" y=\"-22.8\" font-family=\"Times New Roman,serif\" font-size=\"14.00\">value = [0.7, 0.3]</text>\r\n",
       "<text text-anchor=\"middle\" x=\"771.5\" y=\"-7.8\" font-family=\"Times New Roman,serif\" font-size=\"14.00\">class = NotHot</text>\r\n",
       "</g>\r\n",
       "<!-- 10&#45;&gt;12 -->\r\n",
       "<g id=\"edge12\" class=\"edge\"><title>10&#45;&gt;12</title>\r\n",
       "<path fill=\"none\" stroke=\"black\" d=\"M757.133,-111.407C759.145,-100.704 761.324,-89.1154 763.363,-78.2762\"/>\r\n",
       "<polygon fill=\"black\" stroke=\"black\" points=\"766.855,-78.6415 765.263,-68.1669 759.976,-77.3479 766.855,-78.6415\"/>\r\n",
       "</g>\r\n",
       "<!-- 14 -->\r\n",
       "<g id=\"node15\" class=\"node\"><title>14</title>\r\n",
       "<polygon fill=\"#e58139\" fill-opacity=\"0.894118\" stroke=\"black\" points=\"957.5,-68 845.5,-68 845.5,-0 957.5,-0 957.5,-68\"/>\r\n",
       "<text text-anchor=\"middle\" x=\"901.5\" y=\"-52.8\" font-family=\"Times New Roman,serif\" font-size=\"14.00\">gini = 0.1734</text>\r\n",
       "<text text-anchor=\"middle\" x=\"901.5\" y=\"-37.8\" font-family=\"Times New Roman,serif\" font-size=\"14.00\">samples = 5.2%</text>\r\n",
       "<text text-anchor=\"middle\" x=\"901.5\" y=\"-22.8\" font-family=\"Times New Roman,serif\" font-size=\"14.00\">value = [0.9, 0.1]</text>\r\n",
       "<text text-anchor=\"middle\" x=\"901.5\" y=\"-7.8\" font-family=\"Times New Roman,serif\" font-size=\"14.00\">class = NotHot</text>\r\n",
       "</g>\r\n",
       "<!-- 13&#45;&gt;14 -->\r\n",
       "<g id=\"edge14\" class=\"edge\"><title>13&#45;&gt;14</title>\r\n",
       "<path fill=\"none\" stroke=\"black\" d=\"M915.867,-111.407C913.855,-100.704 911.676,-89.1154 909.637,-78.2762\"/>\r\n",
       "<polygon fill=\"black\" stroke=\"black\" points=\"913.024,-77.3479 907.737,-68.1669 906.145,-78.6415 913.024,-77.3479\"/>\r\n",
       "</g>\r\n",
       "<!-- 15 -->\r\n",
       "<g id=\"node16\" class=\"node\"><title>15</title>\r\n",
       "<polygon fill=\"#e58139\" fill-opacity=\"0.376471\" stroke=\"black\" points=\"1101,-68 976,-68 976,-0 1101,-0 1101,-68\"/>\r\n",
       "<text text-anchor=\"middle\" x=\"1038.5\" y=\"-52.8\" font-family=\"Times New Roman,serif\" font-size=\"14.00\">gini = 0.4734</text>\r\n",
       "<text text-anchor=\"middle\" x=\"1038.5\" y=\"-37.8\" font-family=\"Times New Roman,serif\" font-size=\"14.00\">samples = 0.5%</text>\r\n",
       "<text text-anchor=\"middle\" x=\"1038.5\" y=\"-22.8\" font-family=\"Times New Roman,serif\" font-size=\"14.00\">value = [0.62, 0.38]</text>\r\n",
       "<text text-anchor=\"middle\" x=\"1038.5\" y=\"-7.8\" font-family=\"Times New Roman,serif\" font-size=\"14.00\">class = NotHot</text>\r\n",
       "</g>\r\n",
       "<!-- 13&#45;&gt;15 -->\r\n",
       "<g id=\"edge15\" class=\"edge\"><title>13&#45;&gt;15</title>\r\n",
       "<path fill=\"none\" stroke=\"black\" d=\"M963.399,-111.407C974.787,-99.8212 987.194,-87.1978 998.584,-75.6105\"/>\r\n",
       "<polygon fill=\"black\" stroke=\"black\" points=\"1001.39,-77.7522 1005.9,-68.1669 996.394,-72.8453 1001.39,-77.7522\"/>\r\n",
       "</g>\r\n",
       "<!-- 17 -->\r\n",
       "<g id=\"node18\" class=\"node\"><title>17</title>\r\n",
       "<polygon fill=\"#e58139\" fill-opacity=\"0.941176\" stroke=\"black\" points=\"1479.5,-313.5 1311.5,-313.5 1311.5,-230.5 1479.5,-230.5 1479.5,-313.5\"/>\r\n",
       "<text text-anchor=\"middle\" x=\"1395.5\" y=\"-298.3\" font-family=\"Times New Roman,serif\" font-size=\"14.00\">video_language_Cn &lt;= 0.5</text>\r\n",
       "<text text-anchor=\"middle\" x=\"1395.5\" y=\"-283.3\" font-family=\"Times New Roman,serif\" font-size=\"14.00\">gini = 0.1071</text>\r\n",
       "<text text-anchor=\"middle\" x=\"1395.5\" y=\"-268.3\" font-family=\"Times New Roman,serif\" font-size=\"14.00\">samples = 23.4%</text>\r\n",
       "<text text-anchor=\"middle\" x=\"1395.5\" y=\"-253.3\" font-family=\"Times New Roman,serif\" font-size=\"14.00\">value = [0.94, 0.06]</text>\r\n",
       "<text text-anchor=\"middle\" x=\"1395.5\" y=\"-238.3\" font-family=\"Times New Roman,serif\" font-size=\"14.00\">class = NotHot</text>\r\n",
       "</g>\r\n",
       "<!-- 16&#45;&gt;17 -->\r\n",
       "<g id=\"edge17\" class=\"edge\"><title>16&#45;&gt;17</title>\r\n",
       "<path fill=\"none\" stroke=\"black\" d=\"M1395.5,-349.407C1395.5,-341.149 1395.5,-332.364 1395.5,-323.802\"/>\r\n",
       "<polygon fill=\"black\" stroke=\"black\" points=\"1399,-323.521 1395.5,-313.521 1392,-323.521 1399,-323.521\"/>\r\n",
       "</g>\r\n",
       "<!-- 24 -->\r\n",
       "<g id=\"node25\" class=\"node\"><title>24</title>\r\n",
       "<polygon fill=\"#e58139\" stroke=\"black\" points=\"1803.5,-68 1691.5,-68 1691.5,-0 1803.5,-0 1803.5,-68\"/>\r\n",
       "<text text-anchor=\"middle\" x=\"1747.5\" y=\"-52.8\" font-family=\"Times New Roman,serif\" font-size=\"14.00\">gini = 0.0</text>\r\n",
       "<text text-anchor=\"middle\" x=\"1747.5\" y=\"-37.8\" font-family=\"Times New Roman,serif\" font-size=\"14.00\">samples = 5.0%</text>\r\n",
       "<text text-anchor=\"middle\" x=\"1747.5\" y=\"-22.8\" font-family=\"Times New Roman,serif\" font-size=\"14.00\">value = [1.0, 0.0]</text>\r\n",
       "<text text-anchor=\"middle\" x=\"1747.5\" y=\"-7.8\" font-family=\"Times New Roman,serif\" font-size=\"14.00\">class = NotHot</text>\r\n",
       "</g>\r\n",
       "<!-- 16&#45;&gt;24 -->\r\n",
       "<g id=\"edge24\" class=\"edge\"><title>16&#45;&gt;24</title>\r\n",
       "<path fill=\"none\" stroke=\"black\" d=\"M1445,-349.286C1467.21,-331.017 1488.5,-313.5 1488.5,-313.5 1488.5,-313.5 1615.5,-194.5 1615.5,-194.5 1615.5,-194.5 1674.47,-123.249 1713.58,-75.991\"/>\r\n",
       "<polygon fill=\"black\" stroke=\"black\" points=\"1716.47,-77.984 1720.15,-68.0485 1711.08,-73.521 1716.47,-77.984\"/>\r\n",
       "</g>\r\n",
       "<!-- 18 -->\r\n",
       "<g id=\"node19\" class=\"node\"><title>18</title>\r\n",
       "<polygon fill=\"#e58139\" fill-opacity=\"0.952941\" stroke=\"black\" points=\"1380,-194.5 1197,-194.5 1197,-111.5 1380,-111.5 1380,-194.5\"/>\r\n",
       "<text text-anchor=\"middle\" x=\"1288.5\" y=\"-179.3\" font-family=\"Times New Roman,serif\" font-size=\"14.00\">video_language_Other &lt;= 0.5</text>\r\n",
       "<text text-anchor=\"middle\" x=\"1288.5\" y=\"-164.3\" font-family=\"Times New Roman,serif\" font-size=\"14.00\">gini = 0.0846</text>\r\n",
       "<text text-anchor=\"middle\" x=\"1288.5\" y=\"-149.3\" font-family=\"Times New Roman,serif\" font-size=\"14.00\">samples = 17.8%</text>\r\n",
       "<text text-anchor=\"middle\" x=\"1288.5\" y=\"-134.3\" font-family=\"Times New Roman,serif\" font-size=\"14.00\">value = [0.96, 0.04]</text>\r\n",
       "<text text-anchor=\"middle\" x=\"1288.5\" y=\"-119.3\" font-family=\"Times New Roman,serif\" font-size=\"14.00\">class = NotHot</text>\r\n",
       "</g>\r\n",
       "<!-- 17&#45;&gt;18 -->\r\n",
       "<g id=\"edge18\" class=\"edge\"><title>17&#45;&gt;18</title>\r\n",
       "<path fill=\"none\" stroke=\"black\" d=\"M1358.38,-230.407C1349.99,-221.242 1341.02,-211.427 1332.39,-201.989\"/>\r\n",
       "<polygon fill=\"black\" stroke=\"black\" points=\"1334.89,-199.538 1325.56,-194.521 1329.72,-204.262 1334.89,-199.538\"/>\r\n",
       "</g>\r\n",
       "<!-- 21 -->\r\n",
       "<g id=\"node22\" class=\"node\"><title>21</title>\r\n",
       "<polygon fill=\"#e58139\" fill-opacity=\"0.894118\" stroke=\"black\" points=\"1607,-194.5 1398,-194.5 1398,-111.5 1607,-111.5 1607,-194.5\"/>\r\n",
       "<text text-anchor=\"middle\" x=\"1502.5\" y=\"-179.3\" font-family=\"Times New Roman,serif\" font-size=\"14.00\">upload_weekday_Saturday &lt;= 0.5</text>\r\n",
       "<text text-anchor=\"middle\" x=\"1502.5\" y=\"-164.3\" font-family=\"Times New Roman,serif\" font-size=\"14.00\">gini = 0.1748</text>\r\n",
       "<text text-anchor=\"middle\" x=\"1502.5\" y=\"-149.3\" font-family=\"Times New Roman,serif\" font-size=\"14.00\">samples = 5.6%</text>\r\n",
       "<text text-anchor=\"middle\" x=\"1502.5\" y=\"-134.3\" font-family=\"Times New Roman,serif\" font-size=\"14.00\">value = [0.9, 0.1]</text>\r\n",
       "<text text-anchor=\"middle\" x=\"1502.5\" y=\"-119.3\" font-family=\"Times New Roman,serif\" font-size=\"14.00\">class = NotHot</text>\r\n",
       "</g>\r\n",
       "<!-- 17&#45;&gt;21 -->\r\n",
       "<g id=\"edge21\" class=\"edge\"><title>17&#45;&gt;21</title>\r\n",
       "<path fill=\"none\" stroke=\"black\" d=\"M1432.62,-230.407C1441.01,-221.242 1449.98,-211.427 1458.61,-201.989\"/>\r\n",
       "<polygon fill=\"black\" stroke=\"black\" points=\"1461.28,-204.262 1465.44,-194.521 1456.11,-199.538 1461.28,-204.262\"/>\r\n",
       "</g>\r\n",
       "<!-- 19 -->\r\n",
       "<g id=\"node20\" class=\"node\"><title>19</title>\r\n",
       "<polygon fill=\"#e58139\" fill-opacity=\"0.941176\" stroke=\"black\" points=\"1244,-68 1119,-68 1119,-0 1244,-0 1244,-68\"/>\r\n",
       "<text text-anchor=\"middle\" x=\"1181.5\" y=\"-52.8\" font-family=\"Times New Roman,serif\" font-size=\"14.00\">gini = 0.1052</text>\r\n",
       "<text text-anchor=\"middle\" x=\"1181.5\" y=\"-37.8\" font-family=\"Times New Roman,serif\" font-size=\"14.00\">samples = 11.6%</text>\r\n",
       "<text text-anchor=\"middle\" x=\"1181.5\" y=\"-22.8\" font-family=\"Times New Roman,serif\" font-size=\"14.00\">value = [0.94, 0.06]</text>\r\n",
       "<text text-anchor=\"middle\" x=\"1181.5\" y=\"-7.8\" font-family=\"Times New Roman,serif\" font-size=\"14.00\">class = NotHot</text>\r\n",
       "</g>\r\n",
       "<!-- 18&#45;&gt;19 -->\r\n",
       "<g id=\"edge19\" class=\"edge\"><title>18&#45;&gt;19</title>\r\n",
       "<path fill=\"none\" stroke=\"black\" d=\"M1251.38,-111.407C1240.78,-99.8212 1229.24,-87.1978 1218.64,-75.6105\"/>\r\n",
       "<polygon fill=\"black\" stroke=\"black\" points=\"1221.16,-73.1843 1211.83,-68.1669 1216,-77.9084 1221.16,-73.1843\"/>\r\n",
       "</g>\r\n",
       "<!-- 20 -->\r\n",
       "<g id=\"node21\" class=\"node\"><title>20</title>\r\n",
       "<polygon fill=\"#e58139\" fill-opacity=\"0.976471\" stroke=\"black\" points=\"1387,-68 1262,-68 1262,-0 1387,-0 1387,-68\"/>\r\n",
       "<text text-anchor=\"middle\" x=\"1324.5\" y=\"-52.8\" font-family=\"Times New Roman,serif\" font-size=\"14.00\">gini = 0.0449</text>\r\n",
       "<text text-anchor=\"middle\" x=\"1324.5\" y=\"-37.8\" font-family=\"Times New Roman,serif\" font-size=\"14.00\">samples = 6.2%</text>\r\n",
       "<text text-anchor=\"middle\" x=\"1324.5\" y=\"-22.8\" font-family=\"Times New Roman,serif\" font-size=\"14.00\">value = [0.98, 0.02]</text>\r\n",
       "<text text-anchor=\"middle\" x=\"1324.5\" y=\"-7.8\" font-family=\"Times New Roman,serif\" font-size=\"14.00\">class = NotHot</text>\r\n",
       "</g>\r\n",
       "<!-- 18&#45;&gt;20 -->\r\n",
       "<g id=\"edge20\" class=\"edge\"><title>18&#45;&gt;20</title>\r\n",
       "<path fill=\"none\" stroke=\"black\" d=\"M1300.99,-111.407C1304.32,-100.594 1307.92,-88.8763 1311.29,-77.9412\"/>\r\n",
       "<polygon fill=\"black\" stroke=\"black\" points=\"1314.7,-78.7541 1314.29,-68.1669 1308.01,-76.6954 1314.7,-78.7541\"/>\r\n",
       "</g>\r\n",
       "<!-- 22 -->\r\n",
       "<g id=\"node23\" class=\"node\"><title>22</title>\r\n",
       "<polygon fill=\"#e58139\" fill-opacity=\"0.913725\" stroke=\"black\" points=\"1530,-68 1405,-68 1405,-0 1530,-0 1530,-68\"/>\r\n",
       "<text text-anchor=\"middle\" x=\"1467.5\" y=\"-52.8\" font-family=\"Times New Roman,serif\" font-size=\"14.00\">gini = 0.1448</text>\r\n",
       "<text text-anchor=\"middle\" x=\"1467.5\" y=\"-37.8\" font-family=\"Times New Roman,serif\" font-size=\"14.00\">samples = 5.0%</text>\r\n",
       "<text text-anchor=\"middle\" x=\"1467.5\" y=\"-22.8\" font-family=\"Times New Roman,serif\" font-size=\"14.00\">value = [0.92, 0.08]</text>\r\n",
       "<text text-anchor=\"middle\" x=\"1467.5\" y=\"-7.8\" font-family=\"Times New Roman,serif\" font-size=\"14.00\">class = NotHot</text>\r\n",
       "</g>\r\n",
       "<!-- 21&#45;&gt;22 -->\r\n",
       "<g id=\"edge22\" class=\"edge\"><title>21&#45;&gt;22</title>\r\n",
       "<path fill=\"none\" stroke=\"black\" d=\"M1490.36,-111.407C1487.12,-100.594 1483.62,-88.8763 1480.35,-77.9412\"/>\r\n",
       "<polygon fill=\"black\" stroke=\"black\" points=\"1483.64,-76.7443 1477.42,-68.1669 1476.93,-78.7506 1483.64,-76.7443\"/>\r\n",
       "</g>\r\n",
       "<!-- 23 -->\r\n",
       "<g id=\"node24\" class=\"node\"><title>23</title>\r\n",
       "<polygon fill=\"#e58139\" fill-opacity=\"0.635294\" stroke=\"black\" points=\"1673,-68 1548,-68 1548,-0 1673,-0 1673,-68\"/>\r\n",
       "<text text-anchor=\"middle\" x=\"1610.5\" y=\"-52.8\" font-family=\"Times New Roman,serif\" font-size=\"14.00\">gini = 0.3911</text>\r\n",
       "<text text-anchor=\"middle\" x=\"1610.5\" y=\"-37.8\" font-family=\"Times New Roman,serif\" font-size=\"14.00\">samples = 0.5%</text>\r\n",
       "<text text-anchor=\"middle\" x=\"1610.5\" y=\"-22.8\" font-family=\"Times New Roman,serif\" font-size=\"14.00\">value = [0.73, 0.27]</text>\r\n",
       "<text text-anchor=\"middle\" x=\"1610.5\" y=\"-7.8\" font-family=\"Times New Roman,serif\" font-size=\"14.00\">class = NotHot</text>\r\n",
       "</g>\r\n",
       "<!-- 21&#45;&gt;23 -->\r\n",
       "<g id=\"edge23\" class=\"edge\"><title>21&#45;&gt;23</title>\r\n",
       "<path fill=\"none\" stroke=\"black\" d=\"M1539.97,-111.407C1550.67,-99.8212 1562.32,-87.1978 1573.01,-75.6105\"/>\r\n",
       "<polygon fill=\"black\" stroke=\"black\" points=\"1575.67,-77.889 1579.88,-68.1669 1570.53,-73.141 1575.67,-77.889\"/>\r\n",
       "</g>\r\n",
       "</g>\r\n",
       "</svg>\r\n"
      ],
      "text/plain": [
       "<graphviz.files.Source at 0xbeaac18>"
      ]
     },
     "execution_count": 43,
     "metadata": {},
     "output_type": "execute_result"
    }
   ],
   "source": [
    "from graphviz import Source\n",
    "Source(export_graphviz(dt,out_file=None,feature_names=X.columns,class_names=['NotHot','Hot'],\n",
    "                       proportion=True,leaves_parallel=True,filled=True\n",
    "                ))"
   ]
  },
  {
   "cell_type": "code",
   "execution_count": null,
   "metadata": {
    "collapsed": true
   },
   "outputs": [],
   "source": []
  }
 ],
 "metadata": {
  "anaconda-cloud": {},
  "kernelspec": {
   "display_name": "Python [conda root]",
   "language": "python",
   "name": "conda-root-py"
  },
  "language_info": {
   "codemirror_mode": {
    "name": "ipython",
    "version": 2
   },
   "file_extension": ".py",
   "mimetype": "text/x-python",
   "name": "python",
   "nbconvert_exporter": "python",
   "pygments_lexer": "ipython2",
   "version": "2.7.12"
  }
 },
 "nbformat": 4,
 "nbformat_minor": 2
}
