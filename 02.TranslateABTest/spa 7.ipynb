{
 "cells": [
  {
   "cell_type": "code",
   "execution_count": 5,
   "metadata": {
    "collapsed": true
   },
   "outputs": [],
   "source": [
    "from IPython.core.interactiveshell import InteractiveShell\n",
    "InteractiveShell.ast_node_interactivity = \"all\"\n",
    "\n",
    "#Importing necessary packages\n",
    "import pandas as pd\n",
    "import numpy as np\n",
    "import seaborn as sns\n",
    "import matplotlib.pyplot as plt\n",
    "%matplotlib inline\n",
    "import datetime\n",
    "pd.options.display.max_colwidth = 100"
   ]
  },
  {
   "cell_type": "code",
   "execution_count": 6,
   "metadata": {
    "collapsed": true
   },
   "outputs": [],
   "source": [
    "# machine learning\n",
    "from sklearn.linear_model import LogisticRegression\n",
    "from sklearn.svm import SVC, LinearSVC\n",
    "from sklearn.ensemble import RandomForestClassifier\n",
    "from sklearn.neighbors import KNeighborsClassifier\n",
    "from sklearn.naive_bayes import GaussianNB\n",
    "from sklearn.linear_model import Perceptron\n",
    "from sklearn.linear_model import SGDClassifier\n",
    "from sklearn.tree import DecisionTreeClassifier"
   ]
  },
  {
   "cell_type": "code",
   "execution_count": 29,
   "metadata": {},
   "outputs": [],
   "source": [
    "import folium\n",
    "from folium import plugins\n",
    "from pygeocoder import Geocoder"
   ]
  },
  {
   "cell_type": "code",
   "execution_count": 7,
   "metadata": {},
   "outputs": [
    {
     "data": {
      "text/html": [
       "<div>\n",
       "<style>\n",
       "    .dataframe thead tr:only-child th {\n",
       "        text-align: right;\n",
       "    }\n",
       "\n",
       "    .dataframe thead th {\n",
       "        text-align: left;\n",
       "    }\n",
       "\n",
       "    .dataframe tbody tr th {\n",
       "        vertical-align: top;\n",
       "    }\n",
       "</style>\n",
       "<table border=\"1\" class=\"dataframe\">\n",
       "  <thead>\n",
       "    <tr style=\"text-align: right;\">\n",
       "      <th></th>\n",
       "      <th>user_id</th>\n",
       "      <th>city</th>\n",
       "      <th>country</th>\n",
       "      <th>lat</th>\n",
       "      <th>long</th>\n",
       "    </tr>\n",
       "  </thead>\n",
       "  <tbody>\n",
       "    <tr>\n",
       "      <th>0</th>\n",
       "      <td>510335</td>\n",
       "      <td>Peabody</td>\n",
       "      <td>USA</td>\n",
       "      <td>42.53</td>\n",
       "      <td>-70.97</td>\n",
       "    </tr>\n",
       "    <tr>\n",
       "      <th>1</th>\n",
       "      <td>89568</td>\n",
       "      <td>Reno</td>\n",
       "      <td>USA</td>\n",
       "      <td>39.54</td>\n",
       "      <td>-119.82</td>\n",
       "    </tr>\n",
       "    <tr>\n",
       "      <th>2</th>\n",
       "      <td>434134</td>\n",
       "      <td>Rialto</td>\n",
       "      <td>USA</td>\n",
       "      <td>34.11</td>\n",
       "      <td>-117.39</td>\n",
       "    </tr>\n",
       "    <tr>\n",
       "      <th>3</th>\n",
       "      <td>289769</td>\n",
       "      <td>Carson City</td>\n",
       "      <td>USA</td>\n",
       "      <td>39.15</td>\n",
       "      <td>-119.74</td>\n",
       "    </tr>\n",
       "    <tr>\n",
       "      <th>4</th>\n",
       "      <td>939586</td>\n",
       "      <td>Chicago</td>\n",
       "      <td>USA</td>\n",
       "      <td>41.84</td>\n",
       "      <td>-87.68</td>\n",
       "    </tr>\n",
       "  </tbody>\n",
       "</table>\n",
       "</div>"
      ],
      "text/plain": [
       "   user_id         city country    lat    long\n",
       "0   510335      Peabody     USA  42.53  -70.97\n",
       "1    89568         Reno     USA  39.54 -119.82\n",
       "2   434134       Rialto     USA  34.11 -117.39\n",
       "3   289769  Carson City     USA  39.15 -119.74\n",
       "4   939586      Chicago     USA  41.84  -87.68"
      ]
     },
     "execution_count": 7,
     "metadata": {},
     "output_type": "execute_result"
    },
    {
     "data": {
      "text/html": [
       "<div>\n",
       "<style>\n",
       "    .dataframe thead tr:only-child th {\n",
       "        text-align: right;\n",
       "    }\n",
       "\n",
       "    .dataframe thead th {\n",
       "        text-align: left;\n",
       "    }\n",
       "\n",
       "    .dataframe tbody tr th {\n",
       "        vertical-align: top;\n",
       "    }\n",
       "</style>\n",
       "<table border=\"1\" class=\"dataframe\">\n",
       "  <thead>\n",
       "    <tr style=\"text-align: right;\">\n",
       "      <th></th>\n",
       "      <th>user_id</th>\n",
       "      <th>timestamp</th>\n",
       "      <th>source</th>\n",
       "      <th>device</th>\n",
       "      <th>operative_system</th>\n",
       "      <th>test</th>\n",
       "      <th>price</th>\n",
       "      <th>converted</th>\n",
       "    </tr>\n",
       "  </thead>\n",
       "  <tbody>\n",
       "    <tr>\n",
       "      <th>0</th>\n",
       "      <td>604839</td>\n",
       "      <td>2015-05-08 03:38:34</td>\n",
       "      <td>ads_facebook</td>\n",
       "      <td>mobile</td>\n",
       "      <td>iOS</td>\n",
       "      <td>0</td>\n",
       "      <td>39</td>\n",
       "      <td>0</td>\n",
       "    </tr>\n",
       "    <tr>\n",
       "      <th>1</th>\n",
       "      <td>624057</td>\n",
       "      <td>2015-05-10 21:08:46</td>\n",
       "      <td>seo-google</td>\n",
       "      <td>mobile</td>\n",
       "      <td>android</td>\n",
       "      <td>0</td>\n",
       "      <td>39</td>\n",
       "      <td>0</td>\n",
       "    </tr>\n",
       "    <tr>\n",
       "      <th>2</th>\n",
       "      <td>317970</td>\n",
       "      <td>2015-04-04 15:01:23</td>\n",
       "      <td>ads-bing</td>\n",
       "      <td>mobile</td>\n",
       "      <td>android</td>\n",
       "      <td>0</td>\n",
       "      <td>39</td>\n",
       "      <td>0</td>\n",
       "    </tr>\n",
       "    <tr>\n",
       "      <th>3</th>\n",
       "      <td>685636</td>\n",
       "      <td>2015-05-07 07:26:01</td>\n",
       "      <td>direct_traffic</td>\n",
       "      <td>mobile</td>\n",
       "      <td>iOS</td>\n",
       "      <td>1</td>\n",
       "      <td>59</td>\n",
       "      <td>0</td>\n",
       "    </tr>\n",
       "    <tr>\n",
       "      <th>4</th>\n",
       "      <td>820854</td>\n",
       "      <td>2015-05-24 11:04:40</td>\n",
       "      <td>ads_facebook</td>\n",
       "      <td>web</td>\n",
       "      <td>mac</td>\n",
       "      <td>0</td>\n",
       "      <td>39</td>\n",
       "      <td>0</td>\n",
       "    </tr>\n",
       "  </tbody>\n",
       "</table>\n",
       "</div>"
      ],
      "text/plain": [
       "   user_id            timestamp          source  device operative_system  \\\n",
       "0   604839  2015-05-08 03:38:34    ads_facebook  mobile              iOS   \n",
       "1   624057  2015-05-10 21:08:46      seo-google  mobile          android   \n",
       "2   317970  2015-04-04 15:01:23        ads-bing  mobile          android   \n",
       "3   685636  2015-05-07 07:26:01  direct_traffic  mobile              iOS   \n",
       "4   820854  2015-05-24 11:04:40    ads_facebook     web              mac   \n",
       "\n",
       "   test  price  converted  \n",
       "0     0     39          0  \n",
       "1     0     39          0  \n",
       "2     0     39          0  \n",
       "3     1     59          0  \n",
       "4     0     39          0  "
      ]
     },
     "execution_count": 7,
     "metadata": {},
     "output_type": "execute_result"
    }
   ],
   "source": [
    "usr_table = pd.read_csv('data/user_table.csv')\n",
    "results = pd.read_csv('data/test_results.csv')\n",
    "usr_table.head()\n",
    "results.head()"
   ]
  },
  {
   "cell_type": "code",
   "execution_count": 8,
   "metadata": {},
   "outputs": [
    {
     "data": {
      "text/plain": [
       "275616"
      ]
     },
     "execution_count": 8,
     "metadata": {},
     "output_type": "execute_result"
    },
    {
     "data": {
      "text/plain": [
       "316800"
      ]
     },
     "execution_count": 8,
     "metadata": {},
     "output_type": "execute_result"
    }
   ],
   "source": [
    "len(usr_table)\n",
    "len(results)\n",
    "# usr_table.isnull().sum()\n",
    "# results.isnull().sum()"
   ]
  },
  {
   "cell_type": "code",
   "execution_count": 9,
   "metadata": {},
   "outputs": [
    {
     "data": {
      "text/plain": [
       "False"
      ]
     },
     "execution_count": 9,
     "metadata": {},
     "output_type": "execute_result"
    }
   ],
   "source": [
    "usr_table.city.is_unique"
   ]
  },
  {
   "cell_type": "code",
   "execution_count": 10,
   "metadata": {},
   "outputs": [
    {
     "data": {
      "text/html": [
       "<div>\n",
       "<style>\n",
       "    .dataframe thead tr:only-child th {\n",
       "        text-align: right;\n",
       "    }\n",
       "\n",
       "    .dataframe thead th {\n",
       "        text-align: left;\n",
       "    }\n",
       "\n",
       "    .dataframe tbody tr th {\n",
       "        vertical-align: top;\n",
       "    }\n",
       "</style>\n",
       "<table border=\"1\" class=\"dataframe\">\n",
       "  <thead>\n",
       "    <tr style=\"text-align: right;\">\n",
       "      <th></th>\n",
       "      <th>user_id</th>\n",
       "      <th>timestamp</th>\n",
       "      <th>source</th>\n",
       "      <th>device</th>\n",
       "      <th>operative_system</th>\n",
       "      <th>test</th>\n",
       "      <th>price</th>\n",
       "      <th>converted</th>\n",
       "      <th>city</th>\n",
       "      <th>country</th>\n",
       "      <th>lat</th>\n",
       "      <th>long</th>\n",
       "    </tr>\n",
       "  </thead>\n",
       "  <tbody>\n",
       "    <tr>\n",
       "      <th>0</th>\n",
       "      <td>604839</td>\n",
       "      <td>2015-05-08 03:38:34</td>\n",
       "      <td>ads_facebook</td>\n",
       "      <td>mobile</td>\n",
       "      <td>iOS</td>\n",
       "      <td>0</td>\n",
       "      <td>39</td>\n",
       "      <td>0</td>\n",
       "      <td>Buffalo</td>\n",
       "      <td>USA</td>\n",
       "      <td>42.89</td>\n",
       "      <td>-78.86</td>\n",
       "    </tr>\n",
       "    <tr>\n",
       "      <th>1</th>\n",
       "      <td>624057</td>\n",
       "      <td>2015-05-10 21:08:46</td>\n",
       "      <td>seo-google</td>\n",
       "      <td>mobile</td>\n",
       "      <td>android</td>\n",
       "      <td>0</td>\n",
       "      <td>39</td>\n",
       "      <td>0</td>\n",
       "      <td>Lakeville</td>\n",
       "      <td>USA</td>\n",
       "      <td>44.68</td>\n",
       "      <td>-93.24</td>\n",
       "    </tr>\n",
       "    <tr>\n",
       "      <th>2</th>\n",
       "      <td>317970</td>\n",
       "      <td>2015-04-04 15:01:23</td>\n",
       "      <td>ads-bing</td>\n",
       "      <td>mobile</td>\n",
       "      <td>android</td>\n",
       "      <td>0</td>\n",
       "      <td>39</td>\n",
       "      <td>0</td>\n",
       "      <td>Parma</td>\n",
       "      <td>USA</td>\n",
       "      <td>41.38</td>\n",
       "      <td>-81.73</td>\n",
       "    </tr>\n",
       "    <tr>\n",
       "      <th>3</th>\n",
       "      <td>685636</td>\n",
       "      <td>2015-05-07 07:26:01</td>\n",
       "      <td>direct_traffic</td>\n",
       "      <td>mobile</td>\n",
       "      <td>iOS</td>\n",
       "      <td>1</td>\n",
       "      <td>59</td>\n",
       "      <td>0</td>\n",
       "      <td>Fayetteville</td>\n",
       "      <td>USA</td>\n",
       "      <td>35.07</td>\n",
       "      <td>-78.90</td>\n",
       "    </tr>\n",
       "    <tr>\n",
       "      <th>4</th>\n",
       "      <td>820854</td>\n",
       "      <td>2015-05-24 11:04:40</td>\n",
       "      <td>ads_facebook</td>\n",
       "      <td>web</td>\n",
       "      <td>mac</td>\n",
       "      <td>0</td>\n",
       "      <td>39</td>\n",
       "      <td>0</td>\n",
       "      <td>Fishers</td>\n",
       "      <td>USA</td>\n",
       "      <td>39.95</td>\n",
       "      <td>-86.02</td>\n",
       "    </tr>\n",
       "  </tbody>\n",
       "</table>\n",
       "</div>"
      ],
      "text/plain": [
       "   user_id            timestamp          source  device operative_system  \\\n",
       "0   604839  2015-05-08 03:38:34    ads_facebook  mobile              iOS   \n",
       "1   624057  2015-05-10 21:08:46      seo-google  mobile          android   \n",
       "2   317970  2015-04-04 15:01:23        ads-bing  mobile          android   \n",
       "3   685636  2015-05-07 07:26:01  direct_traffic  mobile              iOS   \n",
       "4   820854  2015-05-24 11:04:40    ads_facebook     web              mac   \n",
       "\n",
       "   test  price  converted          city country    lat   long  \n",
       "0     0     39          0       Buffalo     USA  42.89 -78.86  \n",
       "1     0     39          0     Lakeville     USA  44.68 -93.24  \n",
       "2     0     39          0         Parma     USA  41.38 -81.73  \n",
       "3     1     59          0  Fayetteville     USA  35.07 -78.90  \n",
       "4     0     39          0       Fishers     USA  39.95 -86.02  "
      ]
     },
     "execution_count": 10,
     "metadata": {},
     "output_type": "execute_result"
    }
   ],
   "source": [
    "merged = pd.merge(results, usr_table, on='user_id')\n",
    "merged.head()"
   ]
  },
  {
   "cell_type": "code",
   "execution_count": 11,
   "metadata": {},
   "outputs": [
    {
     "data": {
      "text/plain": [
       "USA    275616\n",
       "Name: country, dtype: int64"
      ]
     },
     "execution_count": 11,
     "metadata": {},
     "output_type": "execute_result"
    }
   ],
   "source": [
    "merged.country.value_counts()"
   ]
  },
  {
   "cell_type": "code",
   "execution_count": 12,
   "metadata": {},
   "outputs": [
    {
     "data": {
      "text/html": [
       "<div>\n",
       "<style>\n",
       "    .dataframe thead tr:only-child th {\n",
       "        text-align: right;\n",
       "    }\n",
       "\n",
       "    .dataframe thead th {\n",
       "        text-align: left;\n",
       "    }\n",
       "\n",
       "    .dataframe tbody tr th {\n",
       "        vertical-align: top;\n",
       "    }\n",
       "</style>\n",
       "<table border=\"1\" class=\"dataframe\">\n",
       "  <thead>\n",
       "    <tr style=\"text-align: right;\">\n",
       "      <th></th>\n",
       "      <th>price</th>\n",
       "      <th>converted</th>\n",
       "    </tr>\n",
       "    <tr>\n",
       "      <th>price</th>\n",
       "      <th></th>\n",
       "      <th></th>\n",
       "    </tr>\n",
       "  </thead>\n",
       "  <tbody>\n",
       "    <tr>\n",
       "      <th>39</th>\n",
       "      <td>176376</td>\n",
       "      <td>176376</td>\n",
       "    </tr>\n",
       "    <tr>\n",
       "      <th>59</th>\n",
       "      <td>99240</td>\n",
       "      <td>99240</td>\n",
       "    </tr>\n",
       "  </tbody>\n",
       "</table>\n",
       "</div>"
      ],
      "text/plain": [
       "        price  converted\n",
       "price                   \n",
       "39     176376     176376\n",
       "59      99240      99240"
      ]
     },
     "execution_count": 12,
     "metadata": {},
     "output_type": "execute_result"
    },
    {
     "data": {
      "text/html": [
       "<div>\n",
       "<style>\n",
       "    .dataframe thead tr:only-child th {\n",
       "        text-align: right;\n",
       "    }\n",
       "\n",
       "    .dataframe thead th {\n",
       "        text-align: left;\n",
       "    }\n",
       "\n",
       "    .dataframe tbody tr th {\n",
       "        vertical-align: top;\n",
       "    }\n",
       "</style>\n",
       "<table border=\"1\" class=\"dataframe\">\n",
       "  <thead>\n",
       "    <tr style=\"text-align: right;\">\n",
       "      <th></th>\n",
       "      <th>price</th>\n",
       "      <th>converted</th>\n",
       "    </tr>\n",
       "    <tr>\n",
       "      <th>price</th>\n",
       "      <th></th>\n",
       "      <th></th>\n",
       "    </tr>\n",
       "  </thead>\n",
       "  <tbody>\n",
       "    <tr>\n",
       "      <th>39</th>\n",
       "      <td>39.0</td>\n",
       "      <td>0.019753</td>\n",
       "    </tr>\n",
       "    <tr>\n",
       "      <th>59</th>\n",
       "      <td>59.0</td>\n",
       "      <td>0.015468</td>\n",
       "    </tr>\n",
       "  </tbody>\n",
       "</table>\n",
       "</div>"
      ],
      "text/plain": [
       "       price  converted\n",
       "price                  \n",
       "39      39.0   0.019753\n",
       "59      59.0   0.015468"
      ]
     },
     "execution_count": 12,
     "metadata": {},
     "output_type": "execute_result"
    }
   ],
   "source": [
    "# number of people that see each price\n",
    "count=merged.groupby (\"price\")['price', 'converted'].count()\n",
    "# mean conversion ratio per click for each price\n",
    "price=merged.groupby (\"price\")['price', 'converted'].mean()\n",
    "count\n",
    "price"
   ]
  },
  {
   "cell_type": "code",
   "execution_count": 13,
   "metadata": {},
   "outputs": [
    {
     "data": {
      "text/plain": [
       "-6.807638178933558"
      ]
     },
     "execution_count": 13,
     "metadata": {},
     "output_type": "execute_result"
    }
   ],
   "source": [
    "P39=0.019753\n",
    "P59=0.015468\n",
    "c39=176376\n",
    "c59=99240\n",
    "sigma_39= np.sqrt(P39*(1-P39)/c39)\n",
    "sigma_59= np.sqrt(P59*(1-P59)/c59)\n",
    "\n",
    "\n",
    "\n",
    "std=P39**2 + P59**2\n",
    "\n",
    "\n",
    "zstat=(P59-P39)/std\n",
    "zstat\n",
    "\n",
    "#p-value is very high => reject null hypothesis"
   ]
  },
  {
   "cell_type": "markdown",
   "metadata": {},
   "source": [
    "### Fewer people see the higher price\n",
    "###  Lower price has a higher conversion ratio"
   ]
  },
  {
   "cell_type": "code",
   "execution_count": 14,
   "metadata": {},
   "outputs": [
    {
     "data": {
      "text/html": [
       "<div>\n",
       "<style>\n",
       "    .dataframe thead tr:only-child th {\n",
       "        text-align: right;\n",
       "    }\n",
       "\n",
       "    .dataframe thead th {\n",
       "        text-align: left;\n",
       "    }\n",
       "\n",
       "    .dataframe tbody tr th {\n",
       "        vertical-align: top;\n",
       "    }\n",
       "</style>\n",
       "<table border=\"1\" class=\"dataframe\">\n",
       "  <thead>\n",
       "    <tr style=\"text-align: right;\">\n",
       "      <th></th>\n",
       "      <th>price</th>\n",
       "      <th>converted</th>\n",
       "    </tr>\n",
       "  </thead>\n",
       "  <tbody>\n",
       "    <tr>\n",
       "      <th>0</th>\n",
       "      <td>39</td>\n",
       "      <td>5444.312968</td>\n",
       "    </tr>\n",
       "    <tr>\n",
       "      <th>1</th>\n",
       "      <td>59</td>\n",
       "      <td>4263.105200</td>\n",
       "    </tr>\n",
       "  </tbody>\n",
       "</table>\n",
       "</div>"
      ],
      "text/plain": [
       "   price    converted\n",
       "0     39  5444.312968\n",
       "1     59  4263.105200"
      ]
     },
     "execution_count": 14,
     "metadata": {},
     "output_type": "execute_result"
    }
   ],
   "source": [
    "#If all units were sold at the indicated price the units sold will be\n",
    "total_sold=price.converted*len(merged)\n",
    "total_sold=total_sold.reset_index()\n",
    "total_sold.head()"
   ]
  },
  {
   "cell_type": "markdown",
   "metadata": {},
   "source": [
    "### If all units were sold at the indicated price the units sold if the price were at 39 USD is ~5444. About 1200 less units are sold if the price is hiked to 59 USD"
   ]
  },
  {
   "cell_type": "markdown",
   "metadata": {},
   "source": [
    "###  Next I want to find the net revenue for each price"
   ]
  },
  {
   "cell_type": "code",
   "execution_count": 15,
   "metadata": {},
   "outputs": [
    {
     "data": {
      "text/html": [
       "<div>\n",
       "<style>\n",
       "    .dataframe thead tr:only-child th {\n",
       "        text-align: right;\n",
       "    }\n",
       "\n",
       "    .dataframe thead th {\n",
       "        text-align: left;\n",
       "    }\n",
       "\n",
       "    .dataframe tbody tr th {\n",
       "        vertical-align: top;\n",
       "    }\n",
       "</style>\n",
       "<table border=\"1\" class=\"dataframe\">\n",
       "  <thead>\n",
       "    <tr style=\"text-align: right;\">\n",
       "      <th></th>\n",
       "      <th>price</th>\n",
       "      <th>converted</th>\n",
       "      <th>revenue</th>\n",
       "    </tr>\n",
       "  </thead>\n",
       "  <tbody>\n",
       "    <tr>\n",
       "      <th>0</th>\n",
       "      <td>39</td>\n",
       "      <td>5444.312968</td>\n",
       "      <td>212328.205742</td>\n",
       "    </tr>\n",
       "    <tr>\n",
       "      <th>1</th>\n",
       "      <td>59</td>\n",
       "      <td>4263.105200</td>\n",
       "      <td>251523.206771</td>\n",
       "    </tr>\n",
       "  </tbody>\n",
       "</table>\n",
       "</div>"
      ],
      "text/plain": [
       "   price    converted        revenue\n",
       "0     39  5444.312968  212328.205742\n",
       "1     59  4263.105200  251523.206771"
      ]
     },
     "execution_count": 15,
     "metadata": {},
     "output_type": "execute_result"
    }
   ],
   "source": [
    "total_sold['revenue']=total_sold['price']*total_sold['converted']\n",
    "total_sold"
   ]
  },
  {
   "cell_type": "code",
   "execution_count": 16,
   "metadata": {},
   "outputs": [
    {
     "data": {
      "text/plain": [
       "39195.001029185281"
      ]
     },
     "execution_count": 16,
     "metadata": {},
     "output_type": "execute_result"
    }
   ],
   "source": [
    "total_sold['revenue'][1]-total_sold['revenue'][0]"
   ]
  },
  {
   "cell_type": "markdown",
   "metadata": {},
   "source": [
    "### Even though fewer units will be sold, the revenue goes up by ~ 39K USD with the price hike!\n",
    "## The company should sell it's software at $59"
   ]
  },
  {
   "cell_type": "code",
   "execution_count": 17,
   "metadata": {},
   "outputs": [
    {
     "data": {
      "text/html": [
       "<div>\n",
       "<style>\n",
       "    .dataframe thead tr:only-child th {\n",
       "        text-align: right;\n",
       "    }\n",
       "\n",
       "    .dataframe thead th {\n",
       "        text-align: left;\n",
       "    }\n",
       "\n",
       "    .dataframe tbody tr th {\n",
       "        vertical-align: top;\n",
       "    }\n",
       "</style>\n",
       "<table border=\"1\" class=\"dataframe\">\n",
       "  <thead>\n",
       "    <tr style=\"text-align: right;\">\n",
       "      <th></th>\n",
       "      <th>user_id</th>\n",
       "      <th>timestamp</th>\n",
       "      <th>source</th>\n",
       "      <th>device</th>\n",
       "      <th>operative_system</th>\n",
       "      <th>test</th>\n",
       "      <th>price</th>\n",
       "      <th>converted</th>\n",
       "      <th>city</th>\n",
       "      <th>country</th>\n",
       "      <th>lat</th>\n",
       "      <th>long</th>\n",
       "    </tr>\n",
       "  </thead>\n",
       "  <tbody>\n",
       "    <tr>\n",
       "      <th>0</th>\n",
       "      <td>604839</td>\n",
       "      <td>2015-05-08 03:38:34</td>\n",
       "      <td>ads_facebook</td>\n",
       "      <td>mobile</td>\n",
       "      <td>iOS</td>\n",
       "      <td>0</td>\n",
       "      <td>39</td>\n",
       "      <td>0</td>\n",
       "      <td>Buffalo</td>\n",
       "      <td>USA</td>\n",
       "      <td>42.89</td>\n",
       "      <td>-78.86</td>\n",
       "    </tr>\n",
       "    <tr>\n",
       "      <th>1</th>\n",
       "      <td>624057</td>\n",
       "      <td>2015-05-10 21:08:46</td>\n",
       "      <td>seo-google</td>\n",
       "      <td>mobile</td>\n",
       "      <td>android</td>\n",
       "      <td>0</td>\n",
       "      <td>39</td>\n",
       "      <td>0</td>\n",
       "      <td>Lakeville</td>\n",
       "      <td>USA</td>\n",
       "      <td>44.68</td>\n",
       "      <td>-93.24</td>\n",
       "    </tr>\n",
       "    <tr>\n",
       "      <th>2</th>\n",
       "      <td>317970</td>\n",
       "      <td>2015-04-04 15:01:23</td>\n",
       "      <td>ads-bing</td>\n",
       "      <td>mobile</td>\n",
       "      <td>android</td>\n",
       "      <td>0</td>\n",
       "      <td>39</td>\n",
       "      <td>0</td>\n",
       "      <td>Parma</td>\n",
       "      <td>USA</td>\n",
       "      <td>41.38</td>\n",
       "      <td>-81.73</td>\n",
       "    </tr>\n",
       "    <tr>\n",
       "      <th>3</th>\n",
       "      <td>685636</td>\n",
       "      <td>2015-05-07 07:26:01</td>\n",
       "      <td>direct_traffic</td>\n",
       "      <td>mobile</td>\n",
       "      <td>iOS</td>\n",
       "      <td>1</td>\n",
       "      <td>59</td>\n",
       "      <td>0</td>\n",
       "      <td>Fayetteville</td>\n",
       "      <td>USA</td>\n",
       "      <td>35.07</td>\n",
       "      <td>-78.90</td>\n",
       "    </tr>\n",
       "    <tr>\n",
       "      <th>4</th>\n",
       "      <td>820854</td>\n",
       "      <td>2015-05-24 11:04:40</td>\n",
       "      <td>ads_facebook</td>\n",
       "      <td>web</td>\n",
       "      <td>mac</td>\n",
       "      <td>0</td>\n",
       "      <td>39</td>\n",
       "      <td>0</td>\n",
       "      <td>Fishers</td>\n",
       "      <td>USA</td>\n",
       "      <td>39.95</td>\n",
       "      <td>-86.02</td>\n",
       "    </tr>\n",
       "  </tbody>\n",
       "</table>\n",
       "</div>"
      ],
      "text/plain": [
       "   user_id            timestamp          source  device operative_system  \\\n",
       "0   604839  2015-05-08 03:38:34    ads_facebook  mobile              iOS   \n",
       "1   624057  2015-05-10 21:08:46      seo-google  mobile          android   \n",
       "2   317970  2015-04-04 15:01:23        ads-bing  mobile          android   \n",
       "3   685636  2015-05-07 07:26:01  direct_traffic  mobile              iOS   \n",
       "4   820854  2015-05-24 11:04:40    ads_facebook     web              mac   \n",
       "\n",
       "   test  price  converted          city country    lat   long  \n",
       "0     0     39          0       Buffalo     USA  42.89 -78.86  \n",
       "1     0     39          0     Lakeville     USA  44.68 -93.24  \n",
       "2     0     39          0         Parma     USA  41.38 -81.73  \n",
       "3     1     59          0  Fayetteville     USA  35.07 -78.90  \n",
       "4     0     39          0       Fishers     USA  39.95 -86.02  "
      ]
     },
     "execution_count": 17,
     "metadata": {},
     "output_type": "execute_result"
    }
   ],
   "source": [
    "merged.head()"
   ]
  },
  {
   "cell_type": "code",
   "execution_count": 18,
   "metadata": {
    "collapsed": true
   },
   "outputs": [],
   "source": [
    "\n",
    "\n",
    "# f, (ax2) = plt.subplots(1,1,figsize=(18, 5))\n",
    "\n",
    "\n",
    "# # sns.countplot(x='Age_years',data=tdata2, ax=ax1, hue='Solve Match Pos')\n",
    "# g=sns.countplot(x='price',data=merged, ax=ax2, hue=\"converted\")\n",
    "# # g.set(ylim=(0, 500))\n",
    "\n"
   ]
  },
  {
   "cell_type": "code",
   "execution_count": 19,
   "metadata": {},
   "outputs": [
    {
     "data": {
      "text/html": [
       "<div>\n",
       "<style>\n",
       "    .dataframe thead tr:only-child th {\n",
       "        text-align: right;\n",
       "    }\n",
       "\n",
       "    .dataframe thead th {\n",
       "        text-align: left;\n",
       "    }\n",
       "\n",
       "    .dataframe tbody tr th {\n",
       "        vertical-align: top;\n",
       "    }\n",
       "</style>\n",
       "<table border=\"1\" class=\"dataframe\">\n",
       "  <thead>\n",
       "    <tr style=\"text-align: right;\">\n",
       "      <th></th>\n",
       "      <th>source</th>\n",
       "      <th>converted</th>\n",
       "      <th>percentage</th>\n",
       "    </tr>\n",
       "  </thead>\n",
       "  <tbody>\n",
       "    <tr>\n",
       "      <th>1</th>\n",
       "      <td>ads-bing</td>\n",
       "      <td>1</td>\n",
       "      <td>1.196762</td>\n",
       "    </tr>\n",
       "    <tr>\n",
       "      <th>11</th>\n",
       "      <td>direct_traffic</td>\n",
       "      <td>1</td>\n",
       "      <td>1.214967</td>\n",
       "    </tr>\n",
       "    <tr>\n",
       "      <th>9</th>\n",
       "      <td>ads_other</td>\n",
       "      <td>1</td>\n",
       "      <td>1.437663</td>\n",
       "    </tr>\n",
       "    <tr>\n",
       "      <th>5</th>\n",
       "      <td>ads-yahoo</td>\n",
       "      <td>1</td>\n",
       "      <td>1.459854</td>\n",
       "    </tr>\n",
       "    <tr>\n",
       "      <th>23</th>\n",
       "      <td>seo_facebook</td>\n",
       "      <td>1</td>\n",
       "      <td>1.586099</td>\n",
       "    </tr>\n",
       "    <tr>\n",
       "      <th>19</th>\n",
       "      <td>seo-other</td>\n",
       "      <td>1</td>\n",
       "      <td>1.588483</td>\n",
       "    </tr>\n",
       "    <tr>\n",
       "      <th>21</th>\n",
       "      <td>seo-yahoo</td>\n",
       "      <td>1</td>\n",
       "      <td>1.660795</td>\n",
       "    </tr>\n",
       "    <tr>\n",
       "      <th>17</th>\n",
       "      <td>seo-google</td>\n",
       "      <td>1</td>\n",
       "      <td>1.701642</td>\n",
       "    </tr>\n",
       "    <tr>\n",
       "      <th>7</th>\n",
       "      <td>ads_facebook</td>\n",
       "      <td>1</td>\n",
       "      <td>2.120134</td>\n",
       "    </tr>\n",
       "    <tr>\n",
       "      <th>15</th>\n",
       "      <td>seo-bing</td>\n",
       "      <td>1</td>\n",
       "      <td>2.134472</td>\n",
       "    </tr>\n",
       "    <tr>\n",
       "      <th>3</th>\n",
       "      <td>ads-google</td>\n",
       "      <td>1</td>\n",
       "      <td>2.136653</td>\n",
       "    </tr>\n",
       "    <tr>\n",
       "      <th>13</th>\n",
       "      <td>friend_referral</td>\n",
       "      <td>1</td>\n",
       "      <td>3.792127</td>\n",
       "    </tr>\n",
       "  </tbody>\n",
       "</table>\n",
       "</div>"
      ],
      "text/plain": [
       "             source  converted  percentage\n",
       "1          ads-bing          1    1.196762\n",
       "11   direct_traffic          1    1.214967\n",
       "9         ads_other          1    1.437663\n",
       "5         ads-yahoo          1    1.459854\n",
       "23     seo_facebook          1    1.586099\n",
       "19        seo-other          1    1.588483\n",
       "21        seo-yahoo          1    1.660795\n",
       "17       seo-google          1    1.701642\n",
       "7      ads_facebook          1    2.120134\n",
       "15         seo-bing          1    2.134472\n",
       "3        ads-google          1    2.136653\n",
       "13  friend_referral          1    3.792127"
      ]
     },
     "execution_count": 19,
     "metadata": {},
     "output_type": "execute_result"
    }
   ],
   "source": [
    "tdf_counts=merged.groupby(['source'])['converted'].value_counts(normalize=True).rename('percentage').mul(100).reset_index()\n",
    "tdf_counts2=tdf_counts[tdf_counts[\"converted\"]==1].sort_values(by=[\"percentage\"])\n",
    "tdf_counts2"
   ]
  },
  {
   "cell_type": "code",
   "execution_count": 21,
   "metadata": {},
   "outputs": [
    {
     "name": "stderr",
     "output_type": "stream",
     "text": [
      "C:\\Program Files\\Anaconda3\\lib\\site-packages\\ipykernel\\__main__.py:2: UserWarning: Boolean Series key will be reindexed to match DataFrame index.\n",
      "  from ipykernel import kernelapp as app\n"
     ]
    },
    {
     "data": {
      "text/html": [
       "<div>\n",
       "<style>\n",
       "    .dataframe thead tr:only-child th {\n",
       "        text-align: right;\n",
       "    }\n",
       "\n",
       "    .dataframe thead th {\n",
       "        text-align: left;\n",
       "    }\n",
       "\n",
       "    .dataframe tbody tr th {\n",
       "        vertical-align: top;\n",
       "    }\n",
       "</style>\n",
       "<table border=\"1\" class=\"dataframe\">\n",
       "  <thead>\n",
       "    <tr style=\"text-align: right;\">\n",
       "      <th></th>\n",
       "      <th>operative_system</th>\n",
       "      <th>converted</th>\n",
       "      <th>percentage</th>\n",
       "    </tr>\n",
       "  </thead>\n",
       "  <tbody>\n",
       "    <tr>\n",
       "      <th>5</th>\n",
       "      <td>linux</td>\n",
       "      <td>1</td>\n",
       "      <td>0.853054</td>\n",
       "    </tr>\n",
       "    <tr>\n",
       "      <th>9</th>\n",
       "      <td>other</td>\n",
       "      <td>1</td>\n",
       "      <td>1.230291</td>\n",
       "    </tr>\n",
       "    <tr>\n",
       "      <th>1</th>\n",
       "      <td>android</td>\n",
       "      <td>1</td>\n",
       "      <td>1.483807</td>\n",
       "    </tr>\n",
       "    <tr>\n",
       "      <th>11</th>\n",
       "      <td>windows</td>\n",
       "      <td>1</td>\n",
       "      <td>1.672348</td>\n",
       "    </tr>\n",
       "    <tr>\n",
       "      <th>3</th>\n",
       "      <td>iOS</td>\n",
       "      <td>1</td>\n",
       "      <td>2.225784</td>\n",
       "    </tr>\n",
       "    <tr>\n",
       "      <th>7</th>\n",
       "      <td>mac</td>\n",
       "      <td>1</td>\n",
       "      <td>2.432321</td>\n",
       "    </tr>\n",
       "  </tbody>\n",
       "</table>\n",
       "</div>"
      ],
      "text/plain": [
       "   operative_system  converted  percentage\n",
       "5             linux          1    0.853054\n",
       "9             other          1    1.230291\n",
       "1           android          1    1.483807\n",
       "11          windows          1    1.672348\n",
       "3               iOS          1    2.225784\n",
       "7               mac          1    2.432321"
      ]
     },
     "execution_count": 21,
     "metadata": {},
     "output_type": "execute_result"
    }
   ],
   "source": [
    "tdf_counts_os=merged.groupby(['operative_system'])['converted'].value_counts(normalize=True).rename('percentage').mul(100).reset_index()\n",
    "tdf_counts_os=tdf_counts_os[tdf_counts[\"converted\"]==1].sort_values(by=[\"percentage\"])\n",
    "tdf_counts_os\n"
   ]
  },
  {
   "cell_type": "code",
   "execution_count": 22,
   "metadata": {},
   "outputs": [
    {
     "data": {
      "text/html": [
       "<div>\n",
       "<style>\n",
       "    .dataframe thead tr:only-child th {\n",
       "        text-align: right;\n",
       "    }\n",
       "\n",
       "    .dataframe thead th {\n",
       "        text-align: left;\n",
       "    }\n",
       "\n",
       "    .dataframe tbody tr th {\n",
       "        vertical-align: top;\n",
       "    }\n",
       "</style>\n",
       "<table border=\"1\" class=\"dataframe\">\n",
       "  <thead>\n",
       "    <tr style=\"text-align: right;\">\n",
       "      <th></th>\n",
       "      <th>device</th>\n",
       "      <th>converted</th>\n",
       "      <th>percentage</th>\n",
       "    </tr>\n",
       "  </thead>\n",
       "  <tbody>\n",
       "    <tr>\n",
       "      <th>3</th>\n",
       "      <td>web</td>\n",
       "      <td>1</td>\n",
       "      <td>1.790900</td>\n",
       "    </tr>\n",
       "    <tr>\n",
       "      <th>1</th>\n",
       "      <td>mobile</td>\n",
       "      <td>1</td>\n",
       "      <td>1.842029</td>\n",
       "    </tr>\n",
       "  </tbody>\n",
       "</table>\n",
       "</div>"
      ],
      "text/plain": [
       "   device  converted  percentage\n",
       "3     web          1    1.790900\n",
       "1  mobile          1    1.842029"
      ]
     },
     "execution_count": 22,
     "metadata": {},
     "output_type": "execute_result"
    }
   ],
   "source": [
    "tdf_counts_dev=merged.groupby(['device'])['converted'].value_counts(normalize=True).rename('percentage').mul(100).reset_index()\n",
    "tdf_counts_dev=tdf_counts_dev[tdf_counts_dev[\"converted\"]==1].sort_values(by=[\"percentage\"])\n",
    "tdf_counts_dev"
   ]
  },
  {
   "cell_type": "code",
   "execution_count": 40,
   "metadata": {},
   "outputs": [
    {
     "data": {
      "text/html": [
       "<div>\n",
       "<style>\n",
       "    .dataframe thead tr:only-child th {\n",
       "        text-align: right;\n",
       "    }\n",
       "\n",
       "    .dataframe thead th {\n",
       "        text-align: left;\n",
       "    }\n",
       "\n",
       "    .dataframe tbody tr th {\n",
       "        vertical-align: top;\n",
       "    }\n",
       "</style>\n",
       "<table border=\"1\" class=\"dataframe\">\n",
       "  <thead>\n",
       "    <tr style=\"text-align: right;\">\n",
       "      <th></th>\n",
       "      <th>city</th>\n",
       "      <th>converted</th>\n",
       "      <th>percentage</th>\n",
       "      <th>counts</th>\n",
       "    </tr>\n",
       "  </thead>\n",
       "  <tbody>\n",
       "    <tr>\n",
       "      <th>712</th>\n",
       "      <td>Indianapolis</td>\n",
       "      <td>1</td>\n",
       "      <td>1.398819</td>\n",
       "      <td>45</td>\n",
       "    </tr>\n",
       "    <tr>\n",
       "      <th>286</th>\n",
       "      <td>Chicago</td>\n",
       "      <td>1</td>\n",
       "      <td>1.411995</td>\n",
       "      <td>101</td>\n",
       "    </tr>\n",
       "    <tr>\n",
       "      <th>730</th>\n",
       "      <td>Jacksonville</td>\n",
       "      <td>1</td>\n",
       "      <td>1.549053</td>\n",
       "      <td>45</td>\n",
       "    </tr>\n",
       "    <tr>\n",
       "      <th>814</th>\n",
       "      <td>Las Vegas</td>\n",
       "      <td>1</td>\n",
       "      <td>1.690025</td>\n",
       "      <td>41</td>\n",
       "    </tr>\n",
       "    <tr>\n",
       "      <th>1009</th>\n",
       "      <td>New York</td>\n",
       "      <td>1</td>\n",
       "      <td>1.720522</td>\n",
       "      <td>443</td>\n",
       "    </tr>\n",
       "    <tr>\n",
       "      <th>1344</th>\n",
       "      <td>San Jose</td>\n",
       "      <td>1</td>\n",
       "      <td>1.729278</td>\n",
       "      <td>58</td>\n",
       "    </tr>\n",
       "    <tr>\n",
       "      <th>695</th>\n",
       "      <td>Houston</td>\n",
       "      <td>1</td>\n",
       "      <td>1.789442</td>\n",
       "      <td>120</td>\n",
       "    </tr>\n",
       "    <tr>\n",
       "      <th>1150</th>\n",
       "      <td>Philadelphia</td>\n",
       "      <td>1</td>\n",
       "      <td>1.810311</td>\n",
       "      <td>46</td>\n",
       "    </tr>\n",
       "    <tr>\n",
       "      <th>1390</th>\n",
       "      <td>Seattle</td>\n",
       "      <td>1</td>\n",
       "      <td>1.814882</td>\n",
       "      <td>40</td>\n",
       "    </tr>\n",
       "    <tr>\n",
       "      <th>1330</th>\n",
       "      <td>San Antonio</td>\n",
       "      <td>1</td>\n",
       "      <td>1.834664</td>\n",
       "      <td>85</td>\n",
       "    </tr>\n",
       "    <tr>\n",
       "      <th>867</th>\n",
       "      <td>Los Angeles</td>\n",
       "      <td>1</td>\n",
       "      <td>1.907752</td>\n",
       "      <td>79</td>\n",
       "    </tr>\n",
       "    <tr>\n",
       "      <th>74</th>\n",
       "      <td>Austin</td>\n",
       "      <td>1</td>\n",
       "      <td>2.748691</td>\n",
       "      <td>63</td>\n",
       "    </tr>\n",
       "  </tbody>\n",
       "</table>\n",
       "</div>"
      ],
      "text/plain": [
       "              city  converted  percentage  counts\n",
       "712   Indianapolis          1    1.398819      45\n",
       "286        Chicago          1    1.411995     101\n",
       "730   Jacksonville          1    1.549053      45\n",
       "814      Las Vegas          1    1.690025      41\n",
       "1009      New York          1    1.720522     443\n",
       "1344      San Jose          1    1.729278      58\n",
       "695        Houston          1    1.789442     120\n",
       "1150  Philadelphia          1    1.810311      46\n",
       "1390       Seattle          1    1.814882      40\n",
       "1330   San Antonio          1    1.834664      85\n",
       "867    Los Angeles          1    1.907752      79\n",
       "74          Austin          1    2.748691      63"
      ]
     },
     "execution_count": 40,
     "metadata": {},
     "output_type": "execute_result"
    }
   ],
   "source": [
    "tdf_counts_c=merged.groupby(['city'])['converted'].value_counts(normalize=True).rename('percentage').mul(100).reset_index()\n",
    "tdf_counts_c2=merged.groupby(['city'])['converted'].value_counts().rename('counts').reset_index()\n",
    "tdf_counts_c['counts']=tdf_counts_c2['counts']\n",
    "tdf_counts_c=tdf_counts_c[(tdf_counts_c['counts']>35) & (tdf_counts_c['converted']==1)]\n",
    "tdf_counts_c=tdf_counts_c.sort_values(by=[\"percentage\"])\n",
    "tdf_counts_c"
   ]
  },
  {
   "cell_type": "code",
   "execution_count": 41,
   "metadata": {},
   "outputs": [
    {
     "data": {
      "text/plain": [
       "39.768403"
      ]
     },
     "execution_count": 41,
     "metadata": {},
     "output_type": "execute_result"
    }
   ],
   "source": [
    "results = Geocoder.geocode(\"Indianapolis\")\n",
    "results.coordinates[0]"
   ]
  },
  {
   "cell_type": "code",
   "execution_count": 38,
   "metadata": {
    "collapsed": true
   },
   "outputs": [],
   "source": [
    "# def latextracter (row):\n",
    "#     result=Geocoder.geocode(row[\"city\"])\n",
    "#     return result[0]\n",
    "# def longextracter (row):\n",
    "#     result=Geocoder.geocode(row[\"city\"])\n",
    "#     return result[1]"
   ]
  },
  {
   "cell_type": "code",
   "execution_count": 42,
   "metadata": {},
   "outputs": [],
   "source": [
    "# lat=tdf_counts_c.apply (latextracter, axis=1)\n"
   ]
  },
  {
   "cell_type": "code",
   "execution_count": 43,
   "metadata": {
    "collapsed": true
   },
   "outputs": [],
   "source": [
    "# long=tdf_counts_c.apply (longextracter, axis=1)"
   ]
  },
  {
   "cell_type": "code",
   "execution_count": 24,
   "metadata": {},
   "outputs": [
    {
     "data": {
      "image/png": "[encoded data removed]",
      "text/plain": [
       "<matplotlib.figure.Figure at 0x20101628438>"
      ]
     },
     "metadata": {},
     "output_type": "display_data"
    }
   ],
   "source": [
    "f, (ax1, ax2) = plt.subplots(2,1, figsize=(12, 10))\n",
    "\n",
    "g=sns.barplot(x=\"source\",y=\"percentage\", data=tdf_counts2,hue='converted', ax=ax1)\n",
    "g=sns.barplot(x=\"operative_system\",y=\"percentage\", data=tdf_counts_os,hue='converted', ax=ax2)\n",
    "\n",
    "# g=sns.barplot(x=\"device\",y=\"percentage\", data=tdf_counts_dev,hue='converted', ax=ax2)\n",
    "# ax1.legend_.remove()\n"
   ]
  },
  {
   "cell_type": "code",
   "execution_count": 273,
   "metadata": {},
   "outputs": [
    {
     "data": {
      "image/png": "[encoded data removed]",
      "text/plain": [
       "<matplotlib.figure.Figure at 0x21e1cdb8e48>"
      ]
     },
     "metadata": {},
     "output_type": "display_data"
    }
   ],
   "source": [
    "f, (ax2) = plt.subplots(1,1, figsize=(18,18))\n",
    "\n",
    "g=sns.barplot(y=\"city\",x=\"percentage\", data=tdf_counts_c,hue='converted', ax=ax2)"
   ]
  },
  {
   "cell_type": "code",
   "execution_count": 28,
   "metadata": {},
   "outputs": [
    {
     "name": "stderr",
     "output_type": "stream",
     "text": [
      "C:\\Program Files\\Anaconda3\\lib\\site-packages\\ipykernel\\__main__.py:2: FutureWarning: Method `add_children` is deprecated. Please use `add_child` instead.\n",
      "  from ipykernel import kernelapp as app\n"
     ]
    },
    {
     "data": {
      "text/html": [
       "<div style=\"width:100%;\"><div style=\"position:relative;width:100%;height:0;padding-bottom:60%;\"><iframe src=\"data:text/html;charset=utf-8;base64,PCFET0NUWVBFIGh0bWw+CjxoZWFkPiAgICAKICAgIDxtZXRhIGh0dHAtZXF1aXY9ImNvbnRlbnQtdHlwZSIgY29udGVudD0idGV4dC9odG1sOyBjaGFyc2V0PVVURi04IiAvPgogICAgPHNjcmlwdD5MX1BSRUZFUl9DQU5WQVMgPSBmYWxzZTsgTF9OT19UT1VDSCA9IGZhbHNlOyBMX0RJU0FCTEVfM0QgPSBmYWxzZTs8L3NjcmlwdD4KICAgIDxzY3JpcHQgc3JjPSJodHRwczovL2Nkbi5qc2RlbGl2ci5uZXQvbnBtL2xlYWZsZXRAMS4yLjAvZGlzdC9sZWFmbGV0LmpzIj48L3NjcmlwdD4KICAgIDxzY3JpcHQgc3JjPSJodHRwczovL2FqYXguZ29vZ2xlYXBpcy5jb20vYWpheC9saWJzL2pxdWVyeS8xLjExLjEvanF1ZXJ5Lm1pbi5qcyI+PC9zY3JpcHQ+CiAgICA8c2NyaXB0IHNyYz0iaHR0cHM6Ly9tYXhjZG4uYm9vdHN0cmFwY2RuLmNvbS9ib290c3RyYXAvMy4yLjAvanMvYm9vdHN0cmFwLm1pbi5qcyI+PC9zY3JpcHQ+CiAgICA8c2NyaXB0IHNyYz0iaHR0cHM6Ly9jZG5qcy5jbG91ZGZsYXJlLmNvbS9hamF4L2xpYnMvTGVhZmxldC5hd2Vzb21lLW1hcmtlcnMvMi4wLjIvbGVhZmxldC5hd2Vzb21lLW1hcmtlcnMuanMiPjwvc2NyaXB0PgogICAgPGxpbmsgcmVsPSJzdHlsZXNoZWV0IiBocmVmPSJodHRwczovL2Nkbi5qc2RlbGl2ci5uZXQvbnBtL2xlYWZsZXRAMS4yLjAvZGlzdC9sZWFmbGV0LmNzcyIgLz4KICAgIDxsaW5rIHJlbD0ic3R5bGVzaGVldCIgaHJlZj0iaHR0cHM6Ly9tYXhjZG4uYm9vdHN0cmFwY2RuLmNvbS9ib290c3RyYXAvMy4yLjAvY3NzL2Jvb3RzdHJhcC5taW4uY3NzIiAvPgogICAgPGxpbmsgcmVsPSJzdHlsZXNoZWV0IiBocmVmPSJodHRwczovL21heGNkbi5ib290c3RyYXBjZG4uY29tL2Jvb3RzdHJhcC8zLjIuMC9jc3MvYm9vdHN0cmFwLXRoZW1lLm1pbi5jc3MiIC8+CiAgICA8bGluayByZWw9InN0eWxlc2hlZXQiIGhyZWY9Imh0dHBzOi8vbWF4Y2RuLmJvb3RzdHJhcGNkbi5jb20vZm9udC1hd2Vzb21lLzQuNi4zL2Nzcy9mb250LWF3ZXNvbWUubWluLmNzcyIgLz4KICAgIDxsaW5rIHJlbD0ic3R5bGVzaGVldCIgaHJlZj0iaHR0cHM6Ly9jZG5qcy5jbG91ZGZsYXJlLmNvbS9hamF4L2xpYnMvTGVhZmxldC5hd2Vzb21lLW1hcmtlcnMvMi4wLjIvbGVhZmxldC5hd2Vzb21lLW1hcmtlcnMuY3NzIiAvPgogICAgPGxpbmsgcmVsPSJzdHlsZXNoZWV0IiBocmVmPSJodHRwczovL3Jhd2dpdC5jb20vcHl0aG9uLXZpc3VhbGl6YXRpb24vZm9saXVtL21hc3Rlci9mb2xpdW0vdGVtcGxhdGVzL2xlYWZsZXQuYXdlc29tZS5yb3RhdGUuY3NzIiAvPgogICAgPHN0eWxlPmh0bWwsIGJvZHkge3dpZHRoOiAxMDAlO2hlaWdodDogMTAwJTttYXJnaW46IDA7cGFkZGluZzogMDt9PC9zdHlsZT4KICAgIDxzdHlsZT4jbWFwIHtwb3NpdGlvbjphYnNvbHV0ZTt0b3A6MDtib3R0b206MDtyaWdodDowO2xlZnQ6MDt9PC9zdHlsZT4KICAgIAogICAgICAgICAgICA8c3R5bGU+ICNtYXBfNmIyMmIzNTM2ODY4NGNhNmI5Nzg0MTA2OWY5Y2IzYzMgewogICAgICAgICAgICAgICAgcG9zaXRpb24gOiByZWxhdGl2ZTsKICAgICAgICAgICAgICAgIHdpZHRoIDogMTAwLjAlOwogICAgICAgICAgICAgICAgaGVpZ2h0OiAxMDAuMCU7CiAgICAgICAgICAgICAgICBsZWZ0OiAwLjAlOwogICAgICAgICAgICAgICAgdG9wOiAwLjAlOwogICAgICAgICAgICAgICAgfQogICAgICAgICAgICA8L3N0eWxlPgogICAgICAgIAogICAgPHNjcmlwdCBzcmM9Imh0dHBzOi8vbGVhZmxldC5naXRodWIuaW8vTGVhZmxldC5oZWF0L2Rpc3QvbGVhZmxldC1oZWF0LmpzIj48L3NjcmlwdD4KPC9oZWFkPgo8Ym9keT4gICAgCiAgICAKICAgICAgICAgICAgPGRpdiBjbGFzcz0iZm9saXVtLW1hcCIgaWQ9Im1hcF82YjIyYjM1MzY4Njg0Y2E2Yjk3ODQxMDY5ZjljYjNjMyIgPjwvZGl2PgogICAgICAgIAo8L2JvZHk+CjxzY3JpcHQ+ICAgIAogICAgCgogICAgICAgICAgICAKICAgICAgICAgICAgICAgIHZhciBib3VuZHMgPSBudWxsOwogICAgICAgICAgICAKCiAgICAgICAgICAgIHZhciBtYXBfNmIyMmIzNTM2ODY4NGNhNmI5Nzg0MTA2OWY5Y2IzYzMgPSBMLm1hcCgKICAgICAgICAgICAgICAgICAgICAgICAgICAgICAgICAgICdtYXBfNmIyMmIzNTM2ODY4NGNhNmI5Nzg0MTA2OWY5Y2IzYzMnLAogICAgICAgICAgICAgICAgICAgICAgICAgICAgICAgICAge2NlbnRlcjogWzM3LjExMTY4MDI3MjUzNDQ1LC05My45ODE3NzE3MDQxNjY0Nl0sCiAgICAgICAgICAgICAgICAgICAgICAgICAgICAgICAgICB6b29tOiA0LAogICAgICAgICAgICAgICAgICAgICAgICAgICAgICAgICAgbWF4Qm91bmRzOiBib3VuZHMsCiAgICAgICAgICAgICAgICAgICAgICAgICAgICAgICAgICBsYXllcnM6IFtdLAogICAgICAgICAgICAgICAgICAgICAgICAgICAgICAgICAgd29ybGRDb3B5SnVtcDogZmFsc2UsCiAgICAgICAgICAgICAgICAgICAgICAgICAgICAgICAgICBjcnM6IEwuQ1JTLkVQU0czODU3CiAgICAgICAgICAgICAgICAgICAgICAgICAgICAgICAgIH0pOwogICAgICAgICAgICAKICAgICAgICAKICAgIAogICAgICAgICAgICB2YXIgdGlsZV9sYXllcl9mNGRhM2NlZjg3ZmI0MGVjOWRkOTc4NTk4ZjY1Yzc4OCA9IEwudGlsZUxheWVyKAogICAgICAgICAgICAgICAgJ2h0dHBzOi8ve3N9LnRpbGUub3BlbnN0cmVldG1hcC5vcmcve3p9L3t4fS97eX0ucG5nJywKICAgICAgICAgICAgICAgIHsKICAiYXR0cmlidXRpb24iOiBudWxsLAogICJkZXRlY3RSZXRpbmEiOiBmYWxzZSwKICAibWF4Wm9vbSI6IDE4LAogICJtaW5ab29tIjogMSwKICAibm9XcmFwIjogZmFsc2UsCiAgInN1YmRvbWFpbnMiOiAiYWJjIgp9CiAgICAgICAgICAgICAgICApLmFkZFRvKG1hcF82YjIyYjM1MzY4Njg0Y2E2Yjk3ODQxMDY5ZjljYjNjMyk7CiAgICAgICAgCiAgICAKICAgICAgICAgICAgdmFyIGhlYXRfbWFwXzUxNDdkNTQ2Yjc0ZTRmMzhhYjQ2Mjc2ZjcxODY0NmQzID0gTC5oZWF0TGF5ZXIoCiAgICAgICAgICAgICAgICBbWzQwLjc3LCAtNzQuMjFdLCBbMzcuMDUsIC03Ni4yOV0sIFszOC4zNSwgLTgxLjYzXSwgWzMzLjk0LCAtMTE3LjRdLCBbMjkuNDYsIC05OC41MV0sIFszNS4yLCAtODAuODNdLCBbMjcuOTEsIC04Mi43OF0sIFszOS40MSwgLTc2Ljk0XSwgWzMzLjc0LCAtMTE3Ljg4XSwgWzQ3LjYyLCAtMTIyLjM1XSwgWzI5LjQ2LCAtOTguNTFdLCBbNDIuMzgsIC04My4xXSwgWzM0LjY5LCAtMTE4LjE4XSwgWzQwLjY3LCAtNzMuOTRdLCBbMzcuNDMsIC0xMjEuODldLCBbNDIuNzEsIC04NC41NV0sIFs0MS45MywgLTg4Ljc1XSwgWzQyLjU4LCAtODMuMDNdLCBbMzguMDIsIC0xMjEuODldLCBbMjYuMTQsIC04MC4xNF0sIFszOC45NCwgLTc3LjE4XSwgWzM1Ljk2LCAtNzcuODFdLCBbMzMuNjYsIC0xMTIuNDddLCBbNDAuNjcsIC03My45NF0sIFszMy40MiwgLTExMS43NF0sIFs0MC42NywgLTczLjk0XSwgWzM0LjEyLCAtMTE3LjU3XSwgWzMyLjY3LCAtMTE3LjFdLCBbMzQuMTEsIC0xMTguNDFdLCBbMzYuMDgsIC0xMTUuMTNdLCBbNjEuMTgsIC0xNDkuMTldLCBbMzcuOTUsIC0xMjIuMzZdLCBbMzkuNCwgLTc2LjYyXSwgWzI2LjI3LCAtODAuMjZdLCBbNDIuNTcsIC04My4zOF0sIFs0MC4wMSwgLTc1LjEzXSwgWzM2LjAzLCAtMTE1LjBdLCBbNDAuNTMsIC03NC4zN10sIFs0MC40NCwgLTc5Ljk4XSwgWzI2LjEsIC04MC40XSwgWzMzLjg0LCAtMTE3Ljg3XSwgWzM1LjQ3LCAtOTcuNTFdLCBbMzYuODYsIC03Ni4zNl0sIFs0MC42NSwgLTczLjU4XSwgWzI2LjUzLCAtODAuMDhdLCBbMzUuNzYsIC0xMTkuMjVdLCBbNDAuNjcsIC03My45NF0sIFs0Mi4xOCwgLTcyLjU3XSwgWzQ1LjE3LCAtOTMuMjFdLCBbNDAuNzgsIC03My4yNV0sIFszNS4xMSwgLTkwLjAxXSwgWzM0LjExLCAtMTE4LjQxXSwgWzM2LjEzLCAtOTUuOTJdLCBbMzcuMzEsIC0xMjIuMDVdLCBbMzcuNzcsIC0xMjIuNDVdLCBbMjkuNzcsIC05NS4zOV0sIFs0Mi4yNywgLTcxLjgxXSwgWzMzLjQyLCAtMTExLjc0XSwgWzQ3LjYsIC0xMjIuMTZdLCBbNDEuMSwgLTczLjU1XSwgWzQxLjcsIC04OC4wOF0sIFszMy4xMiwgLTExNy4yOV0sIFs0My4wNiwgLTg3Ljk3XSwgWzQyLjE0LCAtNzEuMjVdLCBbMzUuMjUsIC04MS4xN10sIFszOS43OCwgLTg2LjE1XSwgWzM0LjExLCAtMTE4LjQxXSwgWzM0LjYxLCAtMTE4LjA5XSwgWzM3LjMsIC0xMjEuODVdLCBbMzMuOTMsIC0xMTcuMjFdLCBbNDAuNjcsIC03My45NF0sIFszNS40NywgLTk3LjUxXSwgWzMyLjUyLCAtOTMuNjZdLCBbNDAuNjcsIC03My45NF0sIFs0MS44NCwgLTg3LjY4XSwgWzQ3LjYsIC0xMjIuMTZdLCBbNDEuNTksIC04MS41Ml0sIFszNy4zLCAtMTIxLjg1XSwgWzQxLjEsIC03My41NV0sIFs0MC4yNSwgLTExMS42NF0sIFszNi41NiwgLTg3LjM1XSwgWzM5LjgyLCAtMTA1LjExXSwgWzM4LjY1LCAtNzcuMzRdLCBbNDAuNjcsIC03My45NF0sIFszOC45MSwgLTk0LjY4XSwgWzM4LjkxLCAtOTQuNjhdLCBbNDAuNjcsIC03My45NF0sIFszNi44NiwgLTc2LjM2XSwgWzQwLjY3LCAtNzMuOTRdLCBbNDEuODQsIC04Ny42OF0sIFszMy4wNSwgLTk2Ljc1XSwgWzQ0Ljk2LCAtOTMuMjddLCBbMjkuNDYsIC05OC41MV0sIFs0MC42NywgLTczLjk0XSwgWzQwLjcyLCAtNzQuMTddLCBbMzQuMTEsIC0xMTguNDFdLCBbNDAuOTUsIC03My44N10sIFszNi4xNywgLTg2Ljc4XSwgWzM4Ljk2LCAtOTUuMjZdLCBbNDIuNywgLTcxLjE2XSwgWzI3LjQ5LCAtODIuNThdLCBbMzUuMzYsIC0xMTkuMF0sIFszNC4wLCAtMTE3LjgxXSwgWzI1Ljc4LCAtODAuMjFdLCBbMzkuNTQsIC0xMTkuNzRdLCBbNDcuMTYsIC0xMjIuNTNdLCBbMzMuNiwgLTExMi4zMl0sIFszOC43OCwgLTkwLjcxXSwgWzI4LjgyLCAtOTYuOThdLCBbMzMuOTcsIC0xMTguMTVdLCBbMzAuMDcsIC04OS45M10sIFszMy42MSwgLTExNy42NV0sIFs0Mi43MywgLTg3LjgxXSwgWzMyLjMyLCAtMTEwLjk5XSwgWzM2LjE4LCAtOTQuMTVdLCBbMzQuMTEsIC0xMTguNDFdLCBbNDEuNDgsIC04MS42OF0sIFszMi45MSwgLTgwLjA0XSwgWzM3Ljg3LCAtMTIyLjI3XSwgWzMzLjk0LCAtMTE3LjRdLCBbNDAuNzgsIC0xMTEuOTNdLCBbNDEuMjYsIC05Ni4wMV0sIFs0MS4xLCAtODAuNjVdLCBbNDIuMjcsIC03MS44MV0sIFs0NC4wMSwgLTkyLjQ4XSwgWzQwLjU3LCAtMTExLjg1XSwgWzM3Ljc3LCAtMTIyLjIyXSwgWzQ1LjU0LCAtMTIyLjY2XSwgWzQwLjY3LCAtNzMuOTRdLCBbMzMuNDYsIC04MS45OV0sIFs0Mi4wOCwgLTcxLjAzXSwgWzMzLjk0LCAtMTE3LjRdLCBbMzkuNzgsIC04Ni4xNV0sIFszNS40NywgLTk3LjUxXSwgWzQwLjY3LCAtNzMuOTRdLCBbMzMuNjMsIC0xMTcuN10sIFszMS44NSwgLTEwNi40NF0sIFszOS43LCAtODQuMTVdLCBbMzQuNjksIC0xMTguMThdLCBbMjUuOTgsIC04MC4zM10sIFs0Ni44OCwgLTk2LjgyXSwgWzQxLjEsIC03My41NV0sIFs0MC4wMSwgLTc1LjEzXSwgWzQ1LjUsIC0xMjIuNDRdLCBbNDEuMjYsIC05Ni4wMV0sIFszMi44LCAtMTE2Ljk2XSwgWzQwLjY1LCAtMTExLjg5XSwgWzQyLjIsIC04NS41OV0sIFszOS4wNiwgLTc3LjA1XSwgWzM1LjIsIC04MC44M10sIFszNi4yMSwgLTExNS4yMl0sIFszNi4wMywgLTExNS4wXSwgWzMzLjk3LCAtMTE4LjE1XSwgWzQ0LjI3LCAtODguNF0sIFs0MC45MSwgLTc0LjE2XSwgWzQxLjc3LCAtNzIuNjhdLCBbMzEuODUsIC0xMDYuNDRdLCBbNDEuNTQsIC03Mi44XSwgWzM4LjIyLCAtODUuNzRdLCBbMzguODksIC05NC44MV0sIFszNy4wMSwgLTEyMS41OF0sIFszOS43OCwgLTg2LjE1XSwgWzQ3LjI1LCAtMTIyLjQ2XSwgWzQwLjc4LCAtMTExLjkzXSwgWzI4LjU5LCAtODAuODJdLCBbNDUuNjMsIC0xMjIuNjRdLCBbNDAuNjcsIC03My45NF0sIFszMy45MywgLTExNy4yMV0sIFs0MS42NiwgLTgzLjU4XSwgWzQwLjU3LCAtMTExLjg1XSwgWzI1Ljc4LCAtODAuMjFdLCBbNDAuNjcsIC03My45NF0sIFszMC4zMywgLTgxLjY2XSwgWzM2LjcsIC03Ni42NF0sIFszNC4xMSwgLTExOC40MV0sIFs0MC44MSwgLTc0LjE5XSwgWzM3LjA4LCAtOTQuNV0sIFs0MC42NywgLTczLjk0XSwgWzM2LjIxLCAtMTE1LjIyXSwgWzQ3LjI1LCAtMTIyLjQ2XSwgWzMzLjk0LCAtMTE4LjEzXSwgWzI5Ljc3LCAtOTUuMzldLCBbNDIuMzksIC03MS4xXSwgWzQwLjUzLCAtNzQuMzddLCBbMzAuMzMsIC04MS42Nl0sIFs0MC42NywgLTczLjk0XSwgWzM3LjUyLCAtMTIyLjIxXSwgWzM5LjE1LCAtMTE5Ljc0XSwgWzQxLjEsIC03My41NV0sIFszMy4wNCwgLTk2Ljk4XSwgWzM0LjA2LCAtMTE3LjMyXSwgWzM0LjIxLCAtNzcuOTFdLCBbMzYuMDMsIC0xMTUuMF0sIFsyNi42MywgLTgxLjg1XSwgWzQyLjU4LCAtODcuODVdLCBbNDIuMzEsIC04My4yMV0sIFsyOS43NywgLTk1LjM5XSwgWzM4LjQ1LCAtMTIyLjddLCBbNDAuMTUsIC03NC44NV0sIFszMy42OSwgLTExMS44N10sIFszMC4wLCAtOTAuMThdLCBbNDAuNjcsIC03My45NF0sIFszMy45MiwgLTExOC4yXSwgWzI5LjQ2LCAtOTguNTFdLCBbMzIuNjksIC05Ny4xM10sIFszMi44NiwgLTk3LjIyXSwgWzM4Ljk1LCAtOTIuMzNdLCBbMzYuOTIsIC03Ni4yNF0sIFs0Mi4xMywgLTgwLjA5XSwgWzQzLjQ5LCAtMTEyLjAzXSwgWzI5Ljc3LCAtOTUuMzldLCBbMzQuMTEsIC0xMTcuMzldLCBbNDEuNDQsIC04Mi4xOF0sIFszMy4zMywgLTExMS43Nl0sIFszOC4yMiwgLTg1Ljc0XSwgWzMzLjEyLCAtMTE3LjI5XSwgWzMzLjU3LCAtMTE3LjczXSwgWzMzLjcxLCAtMTE3Ljk1XSwgWzM1LjA3LCAtNzguOV0sIFszNS44MiwgLTc4LjY2XSwgWzM2Ljc0LCAtNzYuMDRdLCBbNDcuOTIsIC05Ny4wN10sIFszMy45NCwgLTExOC4xM10sIFszOS4xMiwgLTk0LjczXSwgWzI5LjYyLCAtOTUuNjJdLCBbNDAuMjgsIC03Ni44OF0sIFszOC4zLCAtMTIyLjNdLCBbMzQuMTksIC0xMTguODddLCBbMzQuMSwgLTExNy40Nl0sIFszNC4yNywgLTExOS4yNl0sIFszMy41NywgLTExNy43M10sIFs0NS42MywgLTEyMi42NF0sIFsyOS40NiwgLTk4LjUxXSwgWzQwLjcxLCAtNzQuMDZdLCBbMzguNCwgLTEyMS4zN10sIFszNi4yMSwgLTExNS4yMl0sIFszOS43OCwgLTg2LjE1XSwgWzQxLjQ4LCAtODEuNjhdLCBbMzMuNTgsIC0xMDEuODhdLCBbMzMuODIsIC0xMTguMDRdLCBbMzQuNzEsIC04Ni42M10sIFs0NC45NiwgLTkzLjI3XSwgWzMyLjM0LCAtMTA2Ljc2XSwgWzMzLjUzLCAtODYuOF0sIFsyOC45MSwgLTgxLjIxXSwgWzMwLjA3LCAtODkuOTNdLCBbNDIuMDksIC03MC43MV0sIFs0MS43NywgLTcyLjY4XSwgWzI2LjE0LCAtODAuMTRdLCBbMzQuNiwgLTk4LjQyXSwgWzI5LjQ2LCAtOTguNTFdLCBbMzYuOTIsIC03Ni4yNF0sIFs0NS40OCwgLTEyMi44Ml0sIFszMi43NywgLTk2LjZdLCBbMzYuNjgsIC0xMjEuNjRdLCBbMzAuMzMsIC04MS42Nl0sIFszMy42MSwgLTExNy42NV0sIFs0MS43LCAtODguMDhdLCBbMzMuNzYsIC0xMTguMzZdLCBbMzYuNzQsIC03Ni4wNF0sIFszMy4wNSwgLTk2Ljc1XSwgWzMzLjc0LCAtODQuMTZdLCBbMzkuNTQsIC0xMTkuNzRdLCBbMzguNjQsIC05MC4yNF0sIFszMy45NCwgLTExNy40XSwgWzQwLjIyLCAtNzQuNzZdLCBbMzUuOTcsIC04My45NV0sIFszNC4yLCAtMTE5LjIxXSwgWzI5LjQ2LCAtOTguNTFdLCBbMjYuMzEsIC04MC4xMl0sIFszMy45NCwgLTExNy40XSwgWzM4LjU1LCAtMTIxLjc0XSwgWzQzLjAxLCAtODguMDNdLCBbMzEuNTcsIC0xMTAuMzJdLCBbMjkuNzcsIC05NS4zOV0sIFs0MC42NywgLTczLjk0XSwgWzM0LjYxLCAtMTE4LjA5XSwgWzMzLjcxLCAtMTE3Ljk1XSwgWzQyLjI3LCAtNzEuODFdLCBbNDAuNjcsIC03My45NF0sIFszNi45MiwgLTc2LjI0XSwgWzQxLjY2LCAtODMuNThdLCBbMzIuMiwgLTExMC44OV0sIFszNi43NCwgLTc2LjA0XSwgWzM1LjgyLCAtOTAuNjldLCBbMzkuNzEsIC0xMDQuNzNdLCBbMzIuOCwgLTExNi45Nl0sIFszOC45MiwgLTk0LjM4XSwgWzM2LjkyLCAtNzYuMjRdLCBbMzMuODksIC0xMTguMjNdLCBbMzIuOTcsIC05Ni43MV0sIFszNC42NiwgLTEyMC40N10sIFsyOS43NywgLTk1LjM5XSwgWzQwLjQ0LCAtNzkuOThdLCBbNDAuNjcsIC03My45NF0sIFszMy43NiwgLTg0LjQyXSwgWzQzLjAxLCAtODguMjRdLCBbMzkuNTUsIC0xMDQuOTddLCBbMzIuNzksIC05Ni43N10sIFsyMS4zMiwgLTE1Ny44XSwgWzM2Ljc0LCAtNzYuMDRdLCBbMzcuMywgLTEyMS44NV0sIFs0MC42NywgLTczLjk0XSwgWzM4LjY0LCAtOTAuMjRdLCBbNDAuMDEsIC03NS4xM10sIFs0Mi4zOCwgLTgzLjFdLCBbMzQuMTEsIC0xMTguNDFdLCBbNDAuOTEsIC03NC4xNl0sIFszNC4xMSwgLTExOC40MV0sIFsyNy45OSwgLTgwLjY2XSwgWzQyLjUxLCAtODIuOTRdLCBbNDEuODQsIC04Ny42OF0sIFszNC4xMSwgLTExOC40MV0sIFszMS44NywgLTEwMi4zNV0sIFs0Mi40OCwgLTgzLjQ5XSwgWzM2LjE3LCAtODYuNzhdLCBbMzcuNzcsIC0xMjIuMjJdLCBbNDAuNjcsIC03My45NF0sIFszNC4xOSwgLTExOC4xM10sIFs0MS44NCwgLTg3LjY4XSwgWzI3LjI4LCAtODAuMzVdLCBbMzguNjUsIC05MC41OF0sIFszNy43NCwgLTEyMS40M10sIFs0Mi43MywgLTg3LjgxXSwgWzQwLjY3LCAtNzMuOTRdLCBbNDAuNjcsIC03My45NF0sIFszNi4wNCwgLTk1Ljc5XSwgWzQwLjY3LCAtNzMuOTRdLCBbMzUuOTMsIC04Ni44NF0sIFszMy43OCwgLTExNy45Nl0sIFszNi4xNywgLTg2Ljc4XSwgWzQwLjgxLCAtODEuMzddLCBbMzMuMzUsIC0xMTIuNDFdLCBbNDAuNjcsIC03My45NF0sIFszNC4xMiwgLTExNy41N10sIFszMy45NCwgLTExNy40XSwgWzMwLjMzLCAtODEuNjZdLCBbMzQuMTEsIC0xMTguNDFdLCBbMjYuNjQsIC04Mi4wXSwgWzI5Ljc3LCAtOTUuMzldLCBbMzcuMywgLTEyMS44NV0sIFs0MC4wMSwgLTc1LjEzXSwgWzI5Ljc3LCAtOTUuMzldLCBbMzIuOTMsIC05Ny4wN10sIFs0Ny41NSwgLTEyMi43XSwgWzQyLjM5LCAtODMuMjldLCBbNDUuNDgsIC0xMjIuODJdLCBbMzQuMiwgLTExOS4yMV0sIFszMC4zMSwgLTk3Ljc1XSwgWzMyLjgyLCAtNzkuODZdLCBbMzQuOTQsIC04MS4wM10sIFs0MC42NywgLTczLjk0XSwgWzMzLjMsIC0xMTEuODddLCBbMzUuMDksIC05Mi40NV0sIFs0Mi4wOSwgLTcwLjcxXSwgWzM2LjA4LCAtMTE1LjEzXSwgWzMyLjQ3LCAtOTMuOF0sIFszMC4zMSwgLTk3Ljc1XSwgWzM4LjU3LCAtMTIxLjQ3XSwgWzQxLjQ4LCAtODEuNjhdLCBbMzIuMiwgLTExMC44OV0sIFszMy44NywgLTExNy41N10sIFszNS4yLCAtMTAxLjgyXSwgWzQyLjM5LCAtODMuMjldLCBbNDQuMjcsIC04OC40XSwgWzQxLjg0LCAtODcuNjhdLCBbNDcuNzUsIC0xMjIuMzZdLCBbMzMuNjksIC0xMTIuMjRdLCBbNDcuMTQsIC0xMjIuMjddLCBbMzUuOTgsIC04MC4wXSwgWzQxLjc0LCAtNzAuNjFdLCBbNDAuNjcsIC03My45NF0sIFszOS4wNCwgLTk1LjY5XSwgWzI5LjksIC05My45M10sIFsyNy45MSwgLTgyLjc4XSwgWzQwLjY3LCAtNzMuOTRdLCBbNDAuNjcsIC03My45NF0sIFszMy4zNywgLTEwNC41M10sIFsyNS45MywgLTgwLjE3XSwgWzQxLjE5LCAtNzMuMl0sIFszMi4wMiwgLTgxLjEzXSwgWzQyLjUxLCAtODIuOTRdLCBbMzkuOTksIC04Mi45OV0sIFszMy4wNSwgLTk2Ljc1XSwgWzQyLjY2LCAtODMuMzldLCBbMjguNSwgLTgxLjM3XSwgWzQxLjIzLCAtMTExLjk3XSwgWzM2LjE3LCAtODYuNzhdLCBbMzYuMDgsIC03OS44M10sIFsyNS45OCwgLTgwLjMzXSwgWzI1Ljc4LCAtODAuMjFdLCBbMzIuNzUsIC05Ny4zNF0sIFs0MC42NywgLTczLjk0XSwgWzI4LjY2LCAtODEuNF0sIFs0MC42NywgLTczLjk0XSwgWzQyLjc1LCAtNzEuNDldLCBbMjUuOTgsIC04MC4zM10sIFszNS4yLCAtMTAxLjgyXSwgWzM1LjkzLCAtODYuODRdLCBbNDQuOTYsIC05My4yN10sIFs0NC41NywgLTEyMy4yOF0sIFs0Mi44OSwgLTc4Ljg2XSwgWzQxLjc0LCAtMTExLjg0XSwgWzM3LjYsIC0xMjIuMDJdLCBbMzkuNzgsIC04OS42NF0sIFszMi43OSwgLTk2Ljc3XSwgWzM4LjYsIC0xMjEuMzhdLCBbMzkuNzcsIC0xMDQuODddLCBbMzMuODIsIC0xMTguMDRdLCBbNDIuMDQsIC04OC4yOV0sIFsyOS40NiwgLTk4LjUxXSwgWzM3LjMsIC0xMjEuODVdLCBbMzkuNDYsIC03NS4wXSwgWzQxLjc3LCAtNzAuMDhdLCBbMzkuNCwgLTc2LjYyXSwgWzQ3Ljk2LCAtMTIyLjJdLCBbNDAuNjcsIC03My45NF0sIFsyOC40OCwgLTgyLjU2XSwgWzMwLjMxLCAtOTcuNzVdLCBbMzMuODMsIC0xMTguMzRdLCBbNDEuNjksIC04NS45N10sIFs0MC42NywgLTczLjk0XSwgWzMzLjY5LCAtMTE4LjAxXSwgWzM4Ljc2LCAtNzcuMTVdLCBbMzMuNjksIC0xMTIuMjRdLCBbMzMuMTQsIC0xMTcuMDddLCBbNDEuNywgLTg4LjA4XSwgWzQyLjEzLCAtODAuMDldLCBbMjUuNzcsIC04MC4zNV0sIFszMy41MywgLTg2LjhdLCBbMzQuMDEsIC0xMTguNF0sIFszOC45NSwgLTkyLjMzXSwgWzMyLjYzLCAtMTE3LjA0XSwgWzMxLjg3LCAtMTAyLjM1XSwgWzMzLjk1LCAtODMuMzldLCBbMzQuMTIsIC0xMTcuNTddLCBbNDIuMzEsIC03MS40NF0sIFs0Mi4zMSwgLTgzLjQ4XSwgWzM5Ljc4LCAtODkuNjRdLCBbMzQuNzEsIC04Ni42M10sIFszMi41MSwgLTg0Ljg3XSwgWzM1LjIsIC04MC44M10sIFsyOS40NiwgLTk4LjUxXSwgWzQwLjcyLCAtNzQuMTddLCBbMzQuMTQsIC0xMTcuOTFdLCBbNDIuNSwgLTk2LjM5XSwgWzMxLjEsIC05Ny43Ml0sIFszOS43OCwgLTg2LjE1XSwgWzMwLjMxLCAtOTcuNzVdLCBbMzcuMiwgLTkzLjI5XSwgWzMxLjEsIC05Ny4zNl0sIFszMi40NSwgLTk5Ljc0XSwgWzMwLjMzLCAtODEuNjZdLCBbNDEuODcsIC04OC4wMV0sIFszNy42LCAtMTIwLjk2XSwgWzQzLjA4LCAtODkuMzldLCBbNDIuMjcsIC03MS44MV0sIFszMC4wLCAtOTAuMThdLCBbNDEuNTMsIC04OC4xMl0sIFsyOS40NiwgLTk4LjUxXSwgWzQzLjA2LCAtODguMTJdLCBbMzQuMTksIC0xMTguODddLCBbNDIuODksIC03OC44Nl0sIFszMi42MywgLTExNy4wNF0sIFsyOS43NywgLTk1LjM5XSwgWzI4LjQ4LCAtODIuNTZdLCBbMzEuMSwgLTk3LjM2XSwgWzMyLjIsIC0xMTAuODldLCBbNDEuNTYsIC03My4wNF0sIFszMC4wNywgLTg5LjkzXSwgWzI5Ljc3LCAtOTUuMzldLCBbMzQuMTEsIC0xMTguNDFdLCBbMzMuNjMsIC0xMTcuN10sIFs0MC42NywgLTczLjk0XSwgWzQ3LjMxLCAtMTIyLjM0XSwgWzMzLjg0LCAtMTE3Ljg3XSwgWzM0LjA0LCAtODQuMzZdLCBbMzMuNjYsIC0xMTcuOF0sIFsyOS42MiwgLTk1LjYyXSwgWzM2LjE3LCAtODYuNzhdLCBbMzkuNSwgLTc2LjMyXSwgWzQxLjg0LCAtODcuNjhdLCBbMzcuOTcsIC0xMjIuMF0sIFs0NC45MSwgLTkyLjkyXSwgWzM2LjY4LCAtNzYuMzFdLCBbMzQuMTEsIC0xMTguNDFdLCBbNDAuNjcsIC03My45NF0sIFszOC41NywgLTEyMS40N10sIFs0Ny4zLCAtMTIyLjIxXSwgWzM5LjI2LCAtNzYuNzRdLCBbMzcuNjksIC0xMjEuNzZdLCBbNDUuNjMsIC0xMjIuNjRdLCBbNDAuOTUsIC03NC4yNV0sIFsyOS40NiwgLTk4LjUxXSwgWzMzLjQyLCAtMTExLjc0XSwgWzM5Ljc4LCAtODkuNjRdLCBbNDAuNjcsIC03My45NF0sIFszMi41OSwgLTg1LjQ4XSwgWzI5LjY2LCAtOTUuMTVdLCBbMzIuODEsIC0xMTcuMTRdLCBbNDIuMTMsIC04MC4wOV0sIFs0MS43NywgLTcwLjA4XSwgWzM0LjAzLCAtMTE3Ljk1XSwgWzI5Ljc3LCAtOTUuMzldLCBbNDAuNywgLTc0LjI3XSwgWzI3LjQ5LCAtODIuNThdLCBbNDUuNjMsIC0xMjIuNjRdLCBbNDYuODEsIC0xMDAuNzddLCBbMzAuMzMsIC04MS42Nl0sIFs0MS43NywgLTcwLjA4XSwgWzQwLjgyLCAtOTYuNjldLCBbMjYuMTQsIC04MC4xNF0sIFs0MC42NywgLTczLjk0XSwgWzMxLjg3LCAtMTAyLjM1XSwgWzM3Ljk5LCAtMTIxLjhdLCBbNDAuNzcsIC03NC4yMV0sIFs0NS4xNywgLTkzLjIxXSwgWzM0LjAxLCAtMTE3LjY5XSwgWzQwLjQ0LCAtNzkuOThdLCBbMzQuMTgsIC0xMTguMjVdLCBbMzkuMzMsIC04NC41NF0sIFszNy43NywgLTEyMi40NV0sIFszNS4yLCAtODAuODNdLCBbNDEuMTksIC03My4yXSwgWzM2LjEsIC04MC4yNl0sIFs0Ni44NywgLTExNC4wMV0sIFszNi42OCwgLTc2LjMxXSwgWzM2LjEzLCAtOTUuOTJdLCBbMzcuMywgLTEyMS44NV0sIFszOC41NywgLTEyMS40N10sIFs0Mi4zOSwgLTcxLjI0XSwgWzQwLjY3LCAtNzMuOTRdLCBbMzcuOTgsIC04Ny41NF0sIFs0MC4yOCwgLTc2Ljg4XSwgWzQwLjY3LCAtNzMuOTRdLCBbNDAuMDEsIC03NS4xM10sIFszOC45NiwgLTc2Ljc0XSwgWzQwLjc4LCAtMTExLjkzXSwgWzQxLjg0LCAtODcuNjhdLCBbMjkuNDYsIC05OC41MV0sIFs0MC4xNSwgLTc0Ljg1XSwgWzM1LjIsIC04MC44M10sIFs0MS43NywgLTg4LjI5XSwgWzQwLjY3LCAtNzMuOTRdLCBbNDIuMCwgLTcxLjVdLCBbNDAuNjcsIC03My45NF0sIFszNi4xNywgLTg2Ljc4XSwgWzQxLjU1LCAtNzAuNl0sIFszNi43NCwgLTc2LjA0XSwgWzM0LjI3LCAtMTE5LjI2XSwgWzQwLjUyLCAtODkuMF0sIFszNi44NiwgLTc2LjM2XSwgWzQ3LjYsIC0xMjIuMTZdLCBbNDAuNiwgLTc1LjQ4XSwgWzQxLjYxLCAtODcuODVdLCBbMzMuOSwgLTExOC4wMV0sIFs0Mi43MSwgLTg0LjU1XSwgWzQyLjY0LCAtNzEuMzJdLCBbMjkuNDYsIC05OC41MV0sIFszOS44NywgLTg1Ljk5XSwgWzMzLjUzLCAtODYuOF0sIFs0Ni4yLCAtMTE5LjE3XSwgWzQyLjM4LCAtODMuMV0sIFszNC4xMSwgLTExOC40MV0sIFszNS4xMSwgLTkwLjAxXSwgWzMyLjgxLCAtMTE3LjE0XSwgWzM4LjQ0LCAtNzguODddLCBbNDAuNjcsIC03My45NF0sIFs0Mi41OCwgLTgzLjI3XSwgWzQ1LjE3LCAtOTMuMjFdLCBbNDAuNjcsIC03My45NF0sIFszMy40MiwgLTExMS43NF0sIFszMC4wLCAtOTAuMThdLCBbNDEuODQsIC04Ny42OF0sIFsyOS40NiwgLTk4LjUxXSwgWzMyLjMyLCAtOTAuMjFdLCBbNDAuOTUsIC03My44N10sIFs0Mi4wOCwgLTcxLjAzXSwgWzI5LjksIC05My45M10sIFszNS44MiwgLTc4LjY2XSwgWzM2LjkyLCAtNzYuMjRdLCBbNDAuNjcsIC03My45NF0sIFszMC4zMywgLTgxLjY2XSwgWzQzLjAyLCAtODMuNjldLCBbMzMuNDYsIC04MS45OV0sIFs0MC42NywgLTczLjk0XSwgWzQxLjE1LCAtMTA0Ljc5XSwgWzM1LjA3LCAtODUuMjZdLCBbNDEuOTksIC03MC45N10sIFs0MS4xLCAtNzMuNTVdLCBbNDcuNjIsIC0xMjIuMzVdLCBbNDIuMjMsIC04My4yN10sIFsyNy43MSwgLTk3LjI5XSwgWzI4LjQ4LCAtODIuNTZdLCBbNDIuNSwgLTk2LjM5XSwgWzM3LjMsIC0xMjEuODVdLCBbMzMuNjksIC0xMTEuODddLCBbMzkuOTQsIC03NS4xMV0sIFszMy45NCwgLTExNy40XSwgWzI5Ljc3LCAtOTUuMzldLCBbMjguNDgsIC04Mi41Nl0sIFszNy42NywgLTEyMS44OV0sIFs0MC42NywgLTczLjk0XSwgWzM3LjMsIC0xMjEuODVdLCBbMzUuMiwgLTgwLjgzXSwgWzI2LjIsIC05Ny42OV0sIFsyNi4yNywgLTgwLjI2XSwgWzQ3LjI1LCAtMTIyLjQ2XSwgWzQxLjg0LCAtODcuNjhdLCBbMzMuNjEsIC0xMTcuNjVdLCBbMzMuOTMsIC0xMTcuMjFdLCBbMzAuMDksIC05NC4xNF0sIFszOC45MiwgLTk0LjM4XSwgWzQwLjY3LCAtNzMuOTRdLCBbNDEuMjYsIC05Ni4wMV0sIFszMC4zMSwgLTk3Ljc1XSwgWzQxLjY2LCAtODMuNThdLCBbMzQuMDksIC0xMTguMV0sIFsyOS40NiwgLTk4LjUxXSwgWzMwLjIyLCAtOTIuMDNdLCBbNDIuODksIC03OC44Nl0sIFsyNi4wMywgLTgwLjE2XSwgWzMwLjMxLCAtOTcuNzVdLCBbNDAuOTEsIC03NC4xNl0sIFs0MC42NywgLTczLjk0XSwgWzI5Ljc3LCAtOTUuMzldLCBbMzQuMTEsIC0xMTguNDFdLCBbMzIuNjMsIC0xMTcuMDRdLCBbNDEuNTcsIC05My43NV0sIFszMS4xLCAtOTcuNzJdLCBbNDIuNSwgLTk2LjM5XSwgWzQyLjA0LCAtNzAuNjddLCBbMzYuMjEsIC0xMTUuMjJdLCBbMzkuNzgsIC04NC4yXSwgWzMzLjQyLCAtMTExLjc0XSwgWzQxLjgsIC03MS4zNl0sIFszMy45NCwgLTExNy40XSwgWzMzLjg4LCAtMTE3Ljg1XSwgWzMyLjIsIC0xMTAuODldLCBbMzguNjksIC0xMjEuMjldLCBbMjUuNzgsIC04MC4yMV0sIFszOS4wMiwgLTk0LjhdLCBbMzkuMDQsIC05NS42OV0sIFs0MS42NiwgLTkxLjU0XSwgWzMzLjksIC05OC41Ml0sIFs0Mi43LCAtNzEuMTZdLCBbMjYuMTQsIC04MC4xNF0sIFszNi4wMywgLTExNS4wXSwgWzM3LjMsIC0xMjEuODVdLCBbMzkuMzgsIC03NC40NV0sIFsyOS43NywgLTk1LjM5XSwgWzM5LjAyLCAtOTQuOF0sIFszMi4zMiwgLTkwLjIxXSwgWzMyLjUyLCAtOTQuNzZdLCBbNDEuNDgsIC04MS42OF0sIFsyNy43NiwgLTgyLjY0XSwgWzM0LjExLCAtMTE4LjQxXSwgWzM5LjUxLCAtMTA0Ljc2XSwgWzM2Ljc0LCAtNzYuMDRdLCBbNDEuNzcsIC03MS40OF0sIFszOC45MSwgLTc3LjAyXSwgWzQxLjM4LCAtODEuNzNdLCBbMzIuMzMsIC05NS4zXSwgWzQ3LjYyLCAtMTIyLjM1XSwgWzI5Ljc3LCAtOTUuMzldLCBbNDEuODQsIC04Ny42OF0sIFszMy43NCwgLTExNy44OF0sIFszOC45NiwgLTc2Ljc0XSwgWzMzLjg5LCAtMTE4LjIzXSwgWzQwLjc3LCAtNzQuMjFdLCBbNDEuNzcsIC03Mi42OF0sIFs0MC42NywgLTczLjk0XSwgWzQyLjQ5LCAtODIuODldLCBbNDUuNjMsIC0xMjIuNjRdLCBbNDAuMDksIC03NC4zOV0sIFs0MS44MiwgLTcxLjQyXSwgWzM2Ljc0LCAtNzYuMDRdLCBbMjkuNzcsIC05NS4zOV0sIFszMi45MSwgLTgwLjA0XSwgWzQxLjU1LCAtNzAuNl0sIFs0MS44NCwgLTg3LjY4XSwgWzI5LjQ2LCAtOTguNTFdLCBbMzIuODYsIC05Ni45N10sIFs0MC42NywgLTczLjk0XSwgWzM3Ljc3LCAtMTIyLjIyXSwgWzM0LjExLCAtMTE4LjQxXSwgWzM4LjU3LCAtMTIxLjQ3XSwgWzM1LjIsIC0xMDEuODJdLCBbNDAuNjcsIC03My45NF0sIFs0MC42NywgLTczLjk0XSwgWzQwLjQ0LCAtNzkuOThdLCBbNDAuNjYsIC0xMTEuOTRdLCBbMzUuNiwgLTc3LjM3XSwgWzM2LjIxLCAtMTE1LjIyXSwgWzM4LjkyLCAtOTQuMzhdLCBbMzUuMjUsIC04MS4xN10sIFszNS40NywgLTk3LjUxXSwgWzM3LjMsIC0xMjEuODVdLCBbMzAuMzMsIC04MS42Nl0sIFsyOS43NywgLTk1LjM5XSwgWzQwLjY3LCAtNzMuOTRdLCBbMzguMjIsIC04NS43NF0sIFs0MC42NywgLTczLjk0XSwgWzMyLjYsIC05Ni44Nl0sIFszNy43NywgLTEyMi4yMl0sIFszOS43OCwgLTg2LjE1XSwgWzM3LjksIC0xMjIuMDRdLCBbMzMuNDIsIC0xMTEuNzRdLCBbMjcuMjgsIC04MC4zNV0sIFszOS41NCwgLTExOS43NF0sIFsyOS40NiwgLTk4LjUxXSwgWzI5Ljc3LCAtOTUuMzldLCBbNDAuNzksIC03Ny44Nl0sIFszOS40MSwgLTc2Ljk0XSwgWzM2Ljg2LCAtNzYuMzZdLCBbMjUuODYsIC04MC4zXSwgWzMzLjM1LCAtMTEyLjQxXSwgWzQwLjQ3LCAtNzQuMzJdLCBbMzQuMjEsIC05Mi4wMl0sIFszNS4yLCAtODAuODNdLCBbMzQuNzEsIC04Ni42M10sIFs0MS44NywgLTg4LjAxXSwgWzM5Ljk0LCAtNzUuMTFdLCBbMzIuMzUsIC04Ni4yOF0sIFs0MC43OSwgLTc0LjAzXSwgWzMwLjMxLCAtOTcuNzVdLCBbNDcuNjIsIC0xMjIuMzVdLCBbMzMuNjYsIC0xMTcuOF0sIFszNy4zLCAtMTIxLjg1XSwgWzQyLjQ5LCAtODMuMDNdLCBbMzcuMywgLTEyMS44NV0sIFszOC44NSwgLTc3LjQ0XSwgWzMzLjA1LCAtOTYuNzVdLCBbNDAuNzQsIC03NC4wM10sIFszMy44NCwgLTExNy44N10sIFsyOS43NywgLTk1LjM5XSwgWzMzLjg3LCAtMTE3LjU3XSwgWzQwLjIyLCAtNzQuNzZdLCBbMzIuNjMsIC0xMTcuMDRdLCBbMzAuMzMsIC04MS42Nl0sIFs0MC42NywgLTczLjk0XSwgWzQyLjA4LCAtNzEuMDNdLCBbMzIuODEsIC0xMTcuMTRdLCBbNDAuNjcsIC03My45NF0sIFs0Ny42MiwgLTEyMi4zNV0sIFs0Mi4wNCwgLTg4LjI5XSwgWzQ0Ljk1LCAtOTMuMV0sIFszNi43NCwgLTc2LjA0XSwgWzQwLjY3LCAtNzMuOTRdLCBbMzYuMzMsIC0xMTkuNjVdLCBbMzUuMTEsIC05MC4wMV0sIFszMy4xNCwgLTExNy4xN10sIFs0MC42NywgLTczLjk0XSwgWzQ0LjUyLCAtODcuOTldLCBbMzMuNTYsIC0xMTcuMjFdLCBbMzIuNzcsIC05Ni42XSwgWzM4LjA0LCAtODQuNDZdLCBbNDIuODQsIC03OC43NV0sIFs0MC42OSwgLTExMi4wMV0sIFsyNy45NiwgLTgyLjQ4XSwgWzQzLjA4LCAtODkuMzldLCBbNDAuNjcsIC03My45NF0sIFsyNS43OCwgLTgwLjIxXSwgWzM3LjU2LCAtMTIyLjMxXSwgWzM4Ljk5LCAtNzcuMTJdLCBbMzkuMDEsIC03Ny40M10sIFszMi4yLCAtMTEwLjg5XSwgWzM2LjkyLCAtNzYuMjRdLCBbMzMuOTQsIC0xMTguMTldLCBbNDEuODIsIC03MS40Ml0sIFsyOS43NywgLTk1LjM5XSwgWzM3Ljk3LCAtMTIyLjBdLCBbMzMuOTYsIC0xMTguMzRdLCBbMzYuODYsIC03Ni4zNl0sIFszMi4yLCAtMTEwLjg5XSwgWzM2LjEzLCAtOTUuOTJdLCBbNDIuMjcsIC03MS44MV0sIFs0Ni4yNSwgLTExOS4xM10sIFsyOS43NywgLTk1LjM5XSwgWzQxLjgyLCAtNzEuNDJdLCBbMjUuNzcsIC04MC4zNV0sIFszOS44OCwgLTEwNS4wNV0sIFs0MC4wMSwgLTc1LjEzXSwgWzI4LjMsIC04MS40MV0sIFszNi4wOCwgLTc5LjgzXSwgWzQ1LjYzLCAtMTIyLjY0XSwgWzQwLjY3LCAtNzMuOTRdLCBbMzcuNjYsIC0xMjAuOTldLCBbNDAuNjcsIC03My45NF0sIFs0MC42NywgLTczLjk0XSwgWzQyLjMyLCAtODMuMzhdLCBbNDAuNjcsIC03My45NF0sIFszMC4zMSwgLTk3Ljc1XSwgWzMwLjQ0LCAtODcuMTldLCBbNDUuNTMsIC0xMjIuOTRdLCBbNDEuNzYsIC03MC41XSwgWzQwLjY3LCAtNzMuOTRdLCBbMzUuNDEsIC04MC41OV0sIFsyOS4zLCAtOTQuODFdLCBbMzAuMzEsIC05Ny43NV0sIFszMS44NSwgLTEwNi40NF0sIFs0MC43MSwgLTc0LjA2XSwgWzMwLjAsIC05MC4xOF0sIFs0MC43OCwgLTExMS45M10sIFs0Mi43MSwgLTg0LjU1XSwgWzQyLjIsIC04NS41OV0sIFs0NC45NiwgLTkzLjI3XSwgWzMzLjgzLCAtMTE4LjM0XSwgWzQwLjY3LCAtNzMuOTRdLCBbMzcuNjYsIC0xMjAuOTldLCBbNDEuODIsIC03MS40Ml0sIFs0MS4xNiwgLTk1LjkyXSwgWzM3LjcxLCAtMTIyLjE1XSwgWzQwLjY3LCAtNzMuOTRdLCBbNDAuNjcsIC03My45NF0sIFszMy45NSwgLTgzLjM5XSwgWzQwLjY3LCAtNzMuOTRdLCBbNDcuNjIsIC0xMjIuMzVdLCBbNDEuODQsIC04Ny42OF0sIFs0Mi4yLCAtODUuNTldLCBbMzcuNTMsIC03Ny40N10sIFszMi44MSwgLTExNy4xNF0sIFs0MS41MywgLTg4LjEyXSwgWzQyLjE3LCAtODcuOTZdLCBbMzIuNzUsIC05Ny4zNF0sIFszOC4yMiwgLTg1Ljc0XSwgWzI5Ljc3LCAtOTUuMzldLCBbNDAuMDYsIC03NC4xMV0sIFs0MS4wOCwgLTgxLjUyXSwgWzM0LjU4LCAtMTEyLjQ1XSwgWzI5LjQ2LCAtOTguNTFdLCBbNDMuMDYsIC04Ny45N10sIFszNC4wNywgLTExOC4wM10sIFs0MC42NywgLTczLjk0XSwgWzI5LjQ2LCAtOTguNTFdLCBbMzQuMTEsIC0xMTguNDFdLCBbMjkuNzUsIC05NC45N10sIFszMy4zLCAtMTExLjg3XSwgWzM4LjI3LCAtMTA0LjYyXSwgWzMyLjc5LCAtOTYuNzddLCBbMzkuOTksIC04Mi45OV0sIFs0MC42NywgLTczLjk0XSwgWzQxLjY4LCAtODYuMjddLCBbMzYuNTYsIC04Ny4zNV0sIFs0Mi4wLCAtNzEuNV0sIFszNy4zLCAtMTIxLjg1XSwgWzMyLjU5LCAtODUuNDhdLCBbMzMuMjMsIC0xMTcuMzFdLCBbMzQuMTEsIC0xMTcuMzldLCBbMzQuMTEsIC0xMTguNDFdLCBbNDAuNjcsIC03My45NF0sIFszMi43NSwgLTk3LjM0XSwgWzQxLjg0LCAtODcuNjhdLCBbMzIuMzUsIC04Ni4yOF0sIFs0MC42NywgLTczLjk0XSwgWzMyLjUxLCAtODQuODddLCBbMzQuMTIsIC0xMTcuNTddLCBbNDIuNTgsIC04My4wM10sIFs0MS43NywgLTcyLjY4XSwgWzM4LjY0LCAtOTAuMjRdLCBbMzcuNjcsIC0xMjEuODldLCBbMzUuMiwgLTgwLjgzXSwgWzM3LjUzLCAtNzcuNDddLCBbMzUuOTMsIC04Ni44NF0sIFszNi45NywgLTg2LjQ0XSwgWzQwLjAzLCAtMTA1LjI1XSwgWzQwLjgyLCAtOTYuNjldLCBbMzUuMTEsIC05MC4wMV0sIFs0Mi40OSwgLTgzLjAzXSwgWzQxLjg0LCAtODcuNjhdLCBbMzIuNzksIC05Ni43N10sIFs0MC43OSwgLTc3Ljg2XSwgWzM0LjcsIC04Ni43NV0sIFszOS43OCwgLTg2LjE1XSwgWzM4LjYsIC0xMjEuMzhdLCBbMjkuNDYsIC05OC41MV0sIFszOS44OCwgLTEwNS4wNV0sIFszNi4wMywgLTExNS4wXSwgWzQyLjM4LCAtODMuMV0sIFs0My4wNiwgLTg3Ljk3XSwgWzI5Ljc3LCAtOTUuMzldLCBbNDAuMDYsIC03NC4xMV0sIFs0Mi44OSwgLTc4Ljg2XSwgWzM5LjE0LCAtODQuNTFdLCBbNDAuNjcsIC03My45NF0sIFszOS4zOSwgLTg0LjU2XSwgWzQwLjA2LCAtNzQuMTFdLCBbNDEuODQsIC04Ny43Nl0sIFs0Mi40OSwgLTgzLjM4XSwgWzMxLjg1LCAtMTA2LjQ0XSwgWzMwLjMzLCAtODEuNjZdLCBbMjkuNDYsIC05OC41MV0sIFs0MS42NiwgLTgzLjU4XSwgWzMwLjQ1LCAtOTEuMTNdLCBbMjUuNzgsIC04MC4yMV0sIFszNS40NywgLTk3LjUxXSwgWzMzLjYxLCAtMTE3LjY1XSwgWzMzLjMzLCAtMTExLjc2XSwgWzQzLjQ5LCAtMTEyLjAzXSwgWzI5Ljg4LCAtOTcuOTNdLCBbMzMuMDksIC05Ni44OV0sIFs0Mi44OSwgLTc4Ljg2XSwgWzMzLjE0LCAtMTE3LjA3XSwgWzM3LjA4LCAtNzYuNTFdLCBbMzcuOTUsIC0xMjIuMzZdLCBbNDIuMjcsIC03MS44MV0sIFsyNi4zMSwgLTgwLjEyXSwgWzM4LjQ1LCAtMTIyLjddLCBbMzQuNTIsIC0xMTcuMzNdLCBbMzguMjIsIC04NS43NF0sIFszMy44OCwgLTExNy45M10sIFszMi42OSwgLTk3LjEzXSwgWzMzLjk3LCAtMTE3Ljc1XSwgWzI1Ljc4LCAtODAuMjFdLCBbMzkuODIsIC0xMDUuMTFdLCBbMjkuNDYsIC05OC41MV0sIFszNy43NywgLTEyMi4yMl0sIFszNS4wOSwgLTkyLjQ1XSwgWzMzLjk3LCAtMTE3Ljc1XSwgWzQwLjY3LCAtNzMuOTRdLCBbMzkuODUsIC04OC45M10sIFszOC45NSwgLTkyLjMzXSwgWzQwLjY3LCAtNzMuOTRdLCBbMzUuOTgsIC04MC4wXSwgWzM5Ljc0LCAtNzUuNTNdLCBbMzUuNzgsIC03OC44XSwgWzQ3Ljk2LCAtMTIyLjJdLCBbMzkuNywgLTg0LjE1XSwgWzI5Ljc1LCAtOTQuOTddLCBbNDAuNjcsIC03My45NF0sIFszNi45MiwgLTc2LjI0XSwgWzQ1LjE3LCAtOTMuMzFdLCBbNDEuNTcsIC04Ny44XSwgWzQ0Ljk2LCAtOTMuMjddLCBbMzMuOTQsIC0xMTcuNF0sIFszOS40MSwgLTc2Ljk0XSwgWzQwLjY3LCAtNzMuOTRdLCBbMzcuNzcsIC0xMjIuMjJdLCBbMjYuMTUsIC04MC4zXSwgWzM1LjIsIC0xMDEuODJdLCBbNDAuNjcsIC03My45NF0sIFszMy44NywgLTExNy41N10sIFszNS43OCwgLTc4LjhdLCBbMzkuNzUsIC0xMjEuODFdLCBbNDEuNjYsIC04My41OF0sIFszOS4wNCwgLTk1LjY5XSwgWzQ3LjYsIC0xMjIuMTZdLCBbNDEuNzcsIC04OC4yOV0sIFsyOS43NywgLTk1LjM5XSwgWzQxLjUzLCAtODguMTJdLCBbMzYuMjEsIC0xMTUuMjJdLCBbMzMuMTIsIC0xMTcuMjldLCBbMzYuMDYsIC0xMTkuMDNdLCBbNDAuNzgsIC0xMTEuOTNdLCBbNDEuODQsIC04Ny42OF0sIFs0MC42NywgLTczLjk0XSwgWzI1LjkzLCAtOTcuNDhdLCBbMzIuNTgsIC05Ni45Nl0sIFszMC4wNywgLTg5LjkzXSwgWzM1LjIsIC04MC44M10sIFs0Ny42MiwgLTEyMi4zNV0sIFs0MC4wMywgLTEwNS4yNV0sIFs0Mi42NSwgLTcxLjE0XSwgWzQzLjA2LCAtODcuOTddLCBbMzIuNTIsIC05My42Nl0sIFszNS4xMSwgLTkwLjAxXSwgWzM4LjQ1LCAtMTIyLjddLCBbMzMuNTgsIC0xMDEuODhdLCBbMzUuMiwgLTgwLjgzXSwgWzMxLjEsIC05Ny4zNl0sIFs0MC42NywgLTczLjk0XSwgWzM0LjYxLCAtMTE4LjA5XSwgWzI2LjYsIC04MS42M10sIFszMC40NCwgLTg3LjE5XSwgWzQyLjA0LCAtODguMjldLCBbMjkuNzcsIC05NS4zOV0sIFszNy43NywgLTEyMi4yMl0sIFszOS41NSwgLTEwNC45N10sIFs0MC42NywgLTczLjk0XSwgWzQyLjU3LCAtODMuMzhdLCBbMzIuMiwgLTExMC44OV0sIFszMi4yLCAtMTEwLjg5XSwgWzQ0Ljk1LCAtOTMuMV0sIFs0MC42NywgLTczLjk0XSwgWzM4Ljk2LCAtOTQuNzldLCBbNDAuNjcsIC03My45NF0sIFszNy4zLCAtMTIxLjg1XSwgWzQwLjY3LCAtNzMuOTRdLCBbMzkuMjYsIC03Ni43NF0sIFszNi4wNiwgLTExOS4wM10sIFsyOS40NiwgLTk4LjUxXSwgWzM0LjE0LCAtMTE3LjkxXSwgWzQ2LjIsIC0xMTkuMTddLCBbMzguNjgsIC0xMjEuMTVdLCBbMzcuNTMsIC0xMjIuMF0sIFszNS44MiwgLTc4LjY2XSwgWzQyLjU4LCAtODMuMDNdLCBbNDEuODQsIC04Ny42OF0sIFszNC42MSwgLTExOC4wOV0sIFs0MC42NywgLTczLjk0XSwgWzQyLjQ3LCAtNzAuOTZdLCBbMzYuNjgsIC03Ni4zMV0sIFszMy41OCwgLTEwMS44OF0sIFszMi4zLCAtMTEwLjkyXSwgWzMyLjc5LCAtOTYuNzddLCBbMjEuMzIsIC0xNTcuOF0sIFszOS43OCwgLTg2LjE1XSwgWzM2LjkyLCAtMTIxLjc3XSwgWzQxLjIsIC03My4xM10sIFszMi45OSwgLTExNy4wMl0sIFs0Mi4zMSwgLTcxLjQ0XSwgWzM2LjE4LCAtOTQuMTVdLCBbMzYuNzQsIC03Ni4wNF0sIFs0MS4yNiwgLTk2LjAxXSwgWzM2Ljc0LCAtNzYuMDRdLCBbMzMuMTQsIC0xMTcuMDddLCBbNDEuODQsIC04Ny42OF0sIFs0MC40NCwgLTc5Ljk4XSwgWzMxLjg3LCAtMTAyLjM1XSwgWzQxLjU1LCAtNzAuNl0sIFszOS4xMiwgLTk0LjczXSwgWzMyLjMsIC0xMTAuOTJdLCBbNDMuMTcsIC03Ny42Ml0sIFszNy42OSwgLTk3LjM0XSwgWzQwLjQ4LCAtODYuMTNdLCBbMzUuMiwgLTgwLjgzXSwgWzQxLjc2LCAtODguMTVdLCBbMzYuMTksIC0xMTUuMDVdLCBbMzcuNzcsIC0xMjIuMjJdLCBbMzMuNDMsIC04Ni43OV0sIFs0MC42NywgLTczLjk0XSwgWzI4LjgyLCAtOTYuOThdLCBbMzMuNjksIC0xMTEuODddLCBbMjYuMTQsIC04MC4xNF0sIFs0MC43MSwgLTc0LjA2XSwgWzMzLjA1LCAtOTYuNzVdLCBbMzAuMDcsIC04OS45M10sIFsyNy45NiwgLTgyLjQ4XSwgWzQxLjg0LCAtODcuNjhdLCBbMzkuMDgsIC03Ny4xNV0sIFszNS40NywgLTk3LjUxXSwgWzQxLjU3LCAtOTMuNzVdLCBbMzYuMDgsIC03OS40NV0sIFszNC4xOSwgLTExOC4zM10sIFszMC42NSwgLTk3LjY5XSwgWzM2LjE4LCAtOTQuMTVdLCBbMzIuNzksIC05Ni43N10sIFs0MS41MywgLTg4LjEyXSwgWzI5LjQ2LCAtOTguNTFdLCBbMjYuMjcsIC04MC4yNl0sIFs0Ny42LCAtMTIyLjE2XSwgWzM1LjExLCAtOTAuMDFdLCBbNDAuNjcsIC03My45NF0sIFsyNS43OCwgLTgwLjIxXSwgWzM1LjgyLCAtNzguNjZdLCBbNDQuMjcsIC04OC40XSwgWzQxLjU3LCAtOTMuNzVdLCBbMzkuNTQsIC0xMTkuODJdLCBbNDEuODQsIC04Ny42OF0sIFszNy43NywgLTEyMi4yNl0sIFs0Mi4zNywgLTg3Ljg3XSwgWzM5Ljk5LCAtODIuOTldLCBbMzQuMjYsIC0xMTguNzVdLCBbNDIuODksIC03OC44Nl0sIFs0MC40OSwgLTc0LjQ1XSwgWzQwLjc4LCAtMTExLjkzXSwgWzM4Ljc4LCAtOTAuNzFdLCBbMjcuOTYsIC04Mi40OF0sIFs0MS42MSwgLTg3Ljg1XSwgWzQyLjI3LCAtNzEuODFdLCBbMzguOTksIC03Ny4xMl0sIFszMy42MSwgLTExNy44N10sIFsyNy4yOCwgLTgwLjM1XSwgWzQwLjY3LCAtNzMuOTRdLCBbMjUuNzcsIC04MC4zNV0sIFs0MS42NiwgLTgzLjU4XSwgWzMzLjc0LCAtMTE3Ljg4XSwgWzQwLjY3LCAtNzMuOTRdLCBbNDMuNjYsIC03MC4yOF0sIFszNC4wMywgLTExOC4xN10sIFs0MC41MywgLTc0LjM3XSwgWzQxLjgsIC04OC4wMl0sIFs0MS44NCwgLTg3LjY4XSwgWzQzLjE3LCAtNzcuNjJdLCBbNDEuODQsIC04Ny42OF0sIFszNy43NywgLTEyMi4yMl0sIFszNy43NywgLTEyMi4yMl0sIFszNy45MywgLTEyMS43MV0sIFs0MS44NywgLTcxLjM3XSwgWzQwLjY3LCAtNzMuOTRdLCBbMzQuNjEsIC0xMTguMDldLCBbNDEuNTksIC04MS41Ml0sIFszOS4wNCwgLTk1LjY5XSwgWzM1LjgyLCAtNzguNjZdLCBbMzMuODQsIC0xMTcuODddLCBbMzMuNDIsIC0xMTEuNzRdLCBbMzkuNzUsIC0xMjEuODFdLCBbMzcuNzcsIC0xMjIuMjJdLCBbMzIuMzIsIC05MC4yMV0sIFszMC4wLCAtOTAuMThdLCBbMzMuNjksIC0xMTEuODddLCBbMjguMDksIC04Mi43Nl0sIFs0MS43MSwgLTcxLjExXSwgWzQxLjU1LCAtNzAuNl0sIFszMS4zMSwgLTg5LjMxXSwgWzM4LjI1LCAtMTIyLjA0XSwgWzQyLjM4LCAtODMuMV0sIFs0MS44NCwgLTg3LjY4XSwgWzQ1LjYzLCAtMTIyLjY0XSwgWzMyLjMsIC0xMTAuOTJdLCBbMzMuODMsIC0xMTguMzRdLCBbMzUuNDcsIC05Ny41MV0sIFszMC4zMSwgLTk3Ljc1XSwgWzM5LjEyLCAtOTQuNzNdLCBbMzcuMywgLTEyMS44NV0sIFsyOS40NiwgLTk4LjUxXSwgWzMzLjQ2LCAtODEuOTldLCBbNDAuODYsIC03NC4xM10sIFs0MS40OCwgLTgxLjY4XSwgWzQxLjg0LCAtODcuNjhdLCBbMzQuMDIsIC0xMTguMTFdLCBbMjcuMjgsIC04MC4zNV0sIFsyNi44NCwgLTgwLjEyXSwgWzM1LjQ3LCAtOTcuNTFdLCBbMjcuOTMsIC04Mi4yOV0sIFsyNi42NCwgLTgyLjBdLCBbMzAuMzEsIC05Ny43NV0sIFszNy4zLCAtMTIxLjg1XSwgWzQ3LjU1LCAtMTIyLjddLCBbMjYuNjQsIC04Mi4wXSwgWzQxLjg0LCAtODcuNjhdLCBbMzIuMzIsIC05MC4yMV0sIFszNy4zLCAtMTIxLjg1XSwgWzQ0Ljk2LCAtOTMuMjddLCBbMzMuMzMsIC0xMTEuNzZdLCBbMjguNSwgLTgxLjM3XSwgWzMyLjkxLCAtOTYuNjNdLCBbMzQuMTEsIC0xMTguNDFdLCBbNDAuMDEsIC03NS4xM10sIFs0MC42NywgLTczLjk0XSwgWzM2LjAzLCAtMTE1LjBdLCBbMjYuOTIsIC04MC4xXSwgWzMzLjQzLCAtODYuNzldLCBbNDAuNzcsIC03NC4wM10sIFszNi4yMSwgLTExNS4yMl0sIFszMy4xNCwgLTk2LjgxXSwgWzMzLjc4LCAtMTE3Ljk2XSwgWzQzLjYxLCAtMTE2LjIzXSwgWzM0LjE5LCAtMTE4LjMzXSwgWzQyLjcxLCAtODQuNTVdLCBbNDEuMjMsIC0xMTEuOTddLCBbNDIuMzksIC03MS4xXSwgWzI5LjQ2LCAtOTguNTFdLCBbNDIuNTYsIC03MS4yNl0sIFs0Mi44OSwgLTc4Ljg2XSwgWzMzLjgzLCAtMTE2LjQ2XSwgWzQyLjUxLCAtODMuMTVdLCBbMzMuMDUsIC05Ni43NV0sIFs0MC42NywgLTczLjk0XSwgWzQwLjYsIC03NS40OF0sIFs0MC4wMSwgLTc1LjEzXSwgWzM1LjQ3LCAtOTcuNTFdLCBbMjYuMTQsIC04MC4xNF0sIFszNi4yMSwgLTExNS4yMl0sIFs0MC42NywgLTczLjk0XSwgWzQ1LjUsIC0xMjIuNDRdLCBbMjYuMTcsIC04MC4yM10sIFszMi43NywgLTk2LjZdLCBbNDIuMzEsIC04My4yMV0sIFszNC4yMSwgLTc3LjkxXSwgWzI3LjI4LCAtODAuMzVdLCBbNDAuNjcsIC03My45NF0sIFs0MC40NCwgLTc5Ljk4XSwgWzM1LjExLCAtOTAuMDFdLCBbMzguNjUsIC05MC41OF0sIFszNC4xMSwgLTExOC40MV0sIFs0Mi4xMywgLTgwLjA5XSwgWzM0LjE1LCAtMTE3Ljg0XSwgWzM2LjIxLCAtMTE1LjIyXSwgWzQwLjY3LCAtNzMuOTRdLCBbMzguODksIC05NC44MV0sIFsyOS43NywgLTk1LjM5XSwgWzM4Ljc2LCAtMTIxLjI5XSwgWzQwLjY3LCAtNzMuOTRdLCBbNDAuMDMsIC03NS4yOF0sIFszNS4xMSwgLTkwLjAxXSwgWzM2LjMzLCAtODIuMzddLCBbMzIuODUsIC05Ny4wOF0sIFszMC40NCwgLTg3LjE5XSwgWzM0LjAzLCAtMTE4LjE3XSwgWzI4LjAxLCAtODIuNThdLCBbMjcuOTYsIC04Mi40OF0sIFs0My4yMywgLTcxLjU2XSwgWzI5Ljc3LCAtOTUuMzldLCBbNDAuNjcsIC03My45NF0sIFszMi43NSwgLTk3LjM0XSwgWzQyLjg5LCAtNzguODZdLCBbNDMuMDYsIC04Ny45N10sIFszMy40MiwgLTExMS43NF0sIFs0Mi43MywgLTg3LjgxXSwgWzM0LjIsIC0xMTkuMjFdLCBbMzcuNDMsIC0xMjEuODldLCBbNDAuNjcsIC03My45NF0sIFs0MC43MSwgLTc0LjA2XSwgWzM4LjkyLCAtOTQuMzhdLCBbNDIuMDQsIC04OC4yOV0sIFszOS4xNCwgLTc3LjIyXSwgWzQ1LjUsIC0xMjIuNDRdLCBbMzguODksIC0xMjEuM10sIFszMy4yMywgLTExNy4zMV0sIFszNS4zNiwgLTExOS4wXSwgWzM3Ljc3LCAtMTIyLjQ1XSwgWzI2LjE1LCAtODAuM10sIFsyNi4yNywgLTgwLjI2XSwgWzQwLjY3LCAtNzMuOTRdLCBbNDEuMDcsIC04NS4xNF0sIFs0Mi40LCAtODMuMzddLCBbNDEuMjYsIC05Ni4wMV0sIFszMS4xLCAtOTcuMzZdLCBbMzAuNjgsIC04OC4wOV0sIFszNC4xMSwgLTExOC40MV0sIFszOC41NywgLTEyMS40N10sIFs0Mi45OCwgLTc4Ljg4XSwgWzM4LjQ1LCAtMTIyLjddLCBbMzguODMsIC03Ny4yMV0sIFszOC42NCwgLTkwLjI0XSwgWzQwLjc5LCAtNzQuMDNdLCBbNDMuMjEsIC03Ny41N10sIFszMy42OSwgLTExOC4wMV0sIFsyNi4xOCwgLTk4LjE5XSwgWzMzLjc0LCAtMTE3Ljg4XSwgWzMxLjEsIC05Ny43Ml0sIFszOS41NSwgLTEwNC45N10sIFszNC4xMSwgLTExOC40MV0sIFszNC4xMSwgLTExOC40MV0sIFszNy4zLCAtMTIxLjg1XSwgWzMzLjkzLCAtMTE3LjIxXSwgWzI5Ljc3LCAtOTUuMzldLCBbNDIuNSwgLTkwLjY5XSwgWzQ1LjAyLCAtOTMuNDZdLCBbNDEuNywgLTg4LjA4XSwgWzM2LjEsIC04MC4yNl0sIFsyOS43NywgLTk1LjM5XSwgWzQwLjcxLCAtNzQuMDZdLCBbMjcuNDksIC04Mi41OF0sIFs0MC42NywgLTczLjk0XSwgWzMwLjMxLCAtOTcuNzVdLCBbMzUuNDcsIC05Ny41MV0sIFszNC41MywgLTExNy4yMV0sIFszOS4wNiwgLTc3LjA1XSwgWzMzLjk2LCAtMTE4LjM0XSwgWzM2LjIxLCAtMTE1LjIyXSwgWzQ0LjAxLCAtOTIuNDhdLCBbMzMuMDUsIC05Ni43NV0sIFszOC40NSwgLTEyMi43XSwgWzI5Ljc3LCAtOTUuMzldLCBbNDAuNjcsIC03My45NF0sIFszNC42OSwgLTExOC4xOF0sIFs0MC42NywgLTczLjk0XSwgWzQyLjQ3LCAtNzAuOTZdLCBbMzMuNDUsIC0xMTcuNjFdLCBbMzAuMzEsIC05Ny43NV0sIFszMy42MSwgLTExNy42NV0sIFszNC43MSwgLTg2LjYzXSwgWzM4LjYzLCAtMTIxLjMyXSwgWzI5Ljc3LCAtOTUuMzldLCBbNDAuNzgsIC03My4yNV0sIFszMC4zMSwgLTk3Ljc1XSwgWzQ0Ljk2LCAtOTMuMjddLCBbMzguMDQsIC04NC40Nl0sIFs0NS41MywgLTEyMi45NF0sIFs0MC42NSwgLTExMS44OV0sIFszNi4yMSwgLTExNS4yMl0sIFs0MC42NywgLTczLjk0XSwgWzMzLjA0LCAtOTYuOThdLCBbMzUuODIsIC03OC42Nl0sIFs0Mi4zOCwgLTgzLjFdLCBbNDAuNjcsIC03My45NF0sIFs0MS44MiwgLTcxLjQyXSwgWzQyLjUsIC05Ni4zOV0sIFszNC4wNSwgLTExNy42MV0sIFszMC4zMywgLTgxLjY2XSwgWzQyLjExLCAtODguMDRdLCBbMzMuNTgsIC0xMTIuMl0sIFs0Ny4yNSwgLTEyMi40Nl0sIFsyNy45MywgLTgyLjI5XSwgWzM5LjQzLCAtNzcuNDJdLCBbMjkuNzcsIC05NS4zOV0sIFs0MC45MSwgLTc0LjE2XSwgWzMzLjU3LCAtMTE3LjczXSwgWzI4LjgyLCAtOTYuOThdLCBbMzQuMTEsIC0xMTguNDFdLCBbMzMuNjYsIC0xMTcuOF0sIFszMy42OSwgLTExMi4yNF0sIFszMC4zMSwgLTk3Ljc1XSwgWzQyLjEzLCAtODAuMDldLCBbNDcuMjUsIC0xMjIuNDZdLCBbNDIuNzEsIC04NC41NV0sIFszMC42OCwgLTg4LjA5XSwgWzQwLjY3LCAtNzMuOTRdLCBbMzYuMSwgLTgwLjI2XSwgWzQxLjY4LCAtNzIuOTRdLCBbMjkuNzcsIC05NS4zOV0sIFs0Mi4zNywgLTg3Ljg3XSwgWzQwLjY3LCAtNzMuOTRdLCBbNDIuNDcsIC03MC45Nl0sIFs0MS4xNSwgLTEwNC43OV0sIFsyOS43NywgLTk1LjM5XSwgWzM0Ljc2LCAtNzcuNF0sIFs0MC42NywgLTczLjk0XSwgWzI5LjQ2LCAtOTguNTFdLCBbNDIuNzUsIC03MS40OV0sIFs0MC4wMSwgLTc1LjEzXSwgWzM2Ljc0LCAtNzYuMDRdLCBbMzkuNzgsIC04Ni4xNV0sIFs0MC42NywgLTczLjk0XSwgWzMyLjc5LCAtOTYuNzddLCBbMzguODgsIC03Ny40MV0sIFszNi43OCwgLTExOS43OV0sIFszMi43NywgLTExNy4wMl0sIFszOS44OSwgLTEwNC45Nl0sIFszNS4xMSwgLTkwLjAxXSwgWzM3Ljc3LCAtMTIyLjIyXSwgWzM2LjE3LCAtODYuNzhdLCBbNDAuNjcsIC03My45NF0sIFszOS4wNCwgLTk1LjY5XSwgWzMyLjAyLCAtODEuMTNdLCBbMzguNDUsIC0xMjIuN10sIFszNi43NCwgLTc2LjA0XSwgWzMyLjk5LCAtMTE3LjAyXSwgWzQwLjI4LCAtNzYuODhdLCBbMjYuMTMsIC04MC4yNl0sIFsyNi42LCAtODEuNjNdLCBbMzQuMDYsIC0xMTcuNzZdLCBbNDIuNzUsIC03MS40OV0sIFs0MC42MiwgLTc0LjQyXSwgWzM0LjQyLCAtMTE3LjNdLCBbMzQuMTEsIC0xMTguNDFdLCBbNDAuNjcsIC03My45NF0sIFszOC44OSwgLTk0LjgxXSwgWzI4LjUsIC04MS4zN10sIFszMi4zMiwgLTExMC45OV0sIFs0NS42MywgLTEyMi42NF0sIFsyOC4xMSwgLTgwLjY0XSwgWzMwLjMzLCAtODEuNjZdLCBbMzQuMjEsIC03Ny45MV0sIFs0MS4xNSwgLTEwNC43OV0sIFszMC4zMSwgLTk3Ljc1XSwgWzMyLjkxLCAtODAuMDRdLCBbMzQuMTEsIC0xMTguNDFdLCBbNDAuNjcsIC03My45NF0sIFszMy4wNSwgLTk2Ljc1XSwgWzMyLjIsIC0xMTAuODldLCBbMjkuNTcsIC05NS41NF0sIFs0MC42NywgLTczLjk0XSwgWzQzLjIxLCAtNzcuNTddLCBbNDEuNywgLTcwLjNdLCBbNDcuNjIsIC0xMjIuMzVdLCBbMzIuNzUsIC05Ny4zNF0sIFszNy41MywgLTc3LjQ3XSwgWzMzLjc4LCAtMTE2LjUzXSwgWzYxLjE4LCAtMTQ5LjE5XSwgWzM4LjgsIC05MC4zMl0sIFs0MS44NCwgLTg3LjY4XSwgWzM4LjY5LCAtMTIxLjI5XSwgWzI5Ljc3LCAtOTUuMzldLCBbNDEuMDIsIC03My43Nl0sIFs0MC42NywgLTczLjk0XSwgWzI4LjUsIC04MS4zN10sIFszNS40NywgLTk3LjUxXSwgWzM3LjM5LCAtMTIyLjAzXSwgWzQyLjU4LCAtODcuODVdLCBbNDUuMDIsIC05My40Nl0sIFs0My4yMSwgLTc3LjU3XSwgWzQxLjU1LCAtNzAuNl0sIFs0MC4wMSwgLTc1LjEzXSwgWzM5LjM4LCAtNzQuNDVdLCBbMzguNDUsIC0xMjIuN10sIFsyOS40NiwgLTk4LjUxXSwgWzM5LjAyLCAtOTQuOF0sIFszOS43NiwgLTk0LjgyXSwgWzQ0LjkxLCAtOTIuOTJdLCBbMzIuNzUsIC05Ny4zNF0sIFszNi42OCwgLTc2LjMxXSwgWzQyLjM4LCAtNzEuMTJdLCBbNDMuNzUsIC04Ny43M10sIFs0Mi42NSwgLTcxLjE0XSwgWzM3LjUzLCAtNzcuNDddLCBbNDIuNywgLTcxLjE2XSwgWzQxLjQ4LCAtODEuOF0sIFs0MC42NywgLTczLjk0XSwgWzQwLjc4LCAtMTExLjkzXSwgWzMxLjg1LCAtMTA2LjQ0XSwgWzM4Ljk1LCAtOTIuMzNdLCBbMzQuMDUsIC0xMTcuOTFdLCBbNDAuNjcsIC03My45NF0sIFszOS4xNSwgLTExOS43NF0sIFsyNi4zNywgLTgwLjExXSwgWzQwLjY3LCAtNzMuOTRdLCBbNDIuNTEsIC04My4xNV0sIFszMS44NywgLTEwMi4zNV0sIFszOS43OCwgLTg2LjE1XSwgWzM2Ljc4LCAtMTE5Ljc5XSwgWzI1Ljc4LCAtODAuMjFdLCBbNDMuMSwgLTc1LjIzXSwgWzMyLjQ3LCAtOTMuOF0sIFszNy43NywgLTEyMi4yMl0sIFs0Ny42MiwgLTEyMi4zNV0sIFs0MC42NywgLTczLjk0XSwgWzMzLjY5LCAtMTE4LjAxXSwgWzI5Ljc3LCAtOTUuMzldLCBbMzguMzUsIC04MS42M10sIFs0Mi44OCwgLTExMi40N10sIFszNS45NywgLTgzLjk1XSwgWzMzLjg4LCAtMTE3Ljg1XSwgWzMyLjY3LCAtMTE3LjFdLCBbMzQuOTQsIC04MS4wM10sIFszNC4wMSwgLTExOC40XSwgWzQxLjg0LCAtODcuNjhdLCBbMzkuNDEsIC03Ni45NF0sIFszNS4xMSwgLTkwLjAxXSwgWzM3LjgxLCAtMTIxLjk3XSwgWzMzLjgzLCAtMTE2LjQ2XSwgWzM0LjAxLCAtMTE4LjQ5XSwgWzM0LjE5LCAtMTE4LjMzXSwgWzM1LjY3LCAtOTcuNDFdLCBbMzcuOTcsIC0xMjIuMF0sIFszNC4yMSwgLTc3LjkxXSwgWzMzLjk1LCAtODMuMzldLCBbMjkuNzcsIC05NS4zOV0sIFs0MS41NywgLTg3LjhdLCBbMzkuMDEsIC03Ny4wMl0sIFs0Ny42MiwgLTEyMi4zNV0sIFszNy45NywgLTEyMi4wXSwgWzQxLjUzLCAtODguMTJdLCBbMzcuNTIsIC0xMjIuMjFdLCBbNDAuNjcsIC03My45NF0sIFszNi4yMSwgLTExNS4yMl0sIFszMy44MSwgLTExNy44Ml0sIFszMC4zOSwgLTg5LjA3XSwgWzM2LjEzLCAtOTUuOTJdLCBbMzcuOTgsIC04Ny41NF0sIFs0MS44NCwgLTg3LjY4XSwgWzM4LjY5LCAtMTIxLjI5XSwgWzM1LjExLCAtOTAuMDFdLCBbMzIuNzksIC05Ni43N10sIFs0MS43NCwgLTExMS44NF0sIFs0Mi4wMiwgLTkzLjYzXSwgWzQwLjY3LCAtNzMuOTRdLCBbNDEuMDgsIC04MS41Ml0sIFs0MC45MSwgLTc0LjE2XSwgWzMzLjMzLCAtMTExLjc2XSwgWzQxLjEsIC04MC42NV0sIFs0MC42NywgLTczLjk0XSwgWzM4LjUxLCAtMTIxLjQ1XSwgWzQwLjAxLCAtNzUuMTNdLCBbMjguNTgsIC04MS40Nl0sIFs0Ni4yLCAtMTE5LjE3XSwgWzM4LjA0LCAtODQuNDZdLCBbNDEuODQsIC04Ny42OF0sIFs0Mi42NywgLTczLjhdLCBbMzUuMDcsIC03OC45XSwgWzQwLjAxLCAtNzUuMTNdLCBbMzkuNTQsIC0xMTkuNzRdLCBbNDAuMDEsIC03NS4xM10sIFszNi4wMywgLTExNS4wXSwgWzM3LjMsIC0xMjEuODVdLCBbNDAuMDEsIC03NS4xM10sIFs0Mi4wNSwgLTg3LjY5XSwgWzI1Ljc4LCAtODAuMjFdLCBbNDEuNjgsIC03Mi45NF0sIFsyNy4yOCwgLTgwLjM1XSwgWzMyLjIsIC0xMTAuODldLCBbNDIuNzEsIC04NC41NV0sIFs0MS44NCwgLTg3Ljc2XSwgWzI5Ljc3LCAtOTUuMzldLCBbMzguNiwgLTEyMS4zOF0sIFsyOS40NiwgLTk4LjUxXSwgWzMyLjIsIC0xMTAuODldLCBbMzQuNTMsIC0xMTcuMjFdLCBbNDMuNzcsIC04OC40NV0sIFsyOS43NywgLTk1LjM5XSwgWzQxLjg0LCAtODcuNjhdLCBbNDEuNzYsIC04OC4xNV0sIFs0MS41OCwgLTkzLjYyXSwgWzM0LjExLCAtMTE4LjQxXSwgWzM2LjE3LCAtODYuNzhdLCBbNDEuODQsIC04Ny42OF0sIFszOS43OCwgLTg2LjE1XSwgWzQyLjY0LCAtNzEuMzJdLCBbNDEuODYsIC04OC4xMV0sIFs0Ni44OCwgLTk2LjgyXSwgWzMyLjQ3LCAtOTMuOF0sIFszMi4yLCAtMTEwLjg5XSwgWzI4LjUsIC04MS4zN10sIFszNS4xMSwgLTkwLjAxXSwgWzM1LjgyLCAtNzguNjZdLCBbNDAuNjcsIC03My45NF0sIFszOC4wNCwgLTg0LjQ2XSwgWzM1LjIsIC0xMDEuODJdLCBbNDAuMDYsIC03NC4xMV0sIFs0MS43LCAtNzEuNDJdLCBbMzcuMzEsIC0xMjIuMDVdLCBbMzAuMCwgLTkwLjE4XSwgWzQwLjY3LCAtNzMuOTRdLCBbNDMuMTcsIC03Ny42Ml0sIFszOC42LCAtMTIxLjNdLCBbMzguODUsIC03Ny40NF0sIFs0MC4wNiwgLTc0LjExXSwgWzM2Ljc0LCAtNzYuMDRdLCBbMzguMjUsIC0xMjIuMDRdLCBbNDAuODYsIC03NC4xM10sIFszOS45NCwgLTc0LjE3XSwgWzM2LjE5LCAtMTE1LjA1XSwgWzMyLjg2LCAtOTcuMjJdLCBbMjkuNzcsIC05NS4zOV0sIFszOS4yNiwgLTc2Ljc0XSwgWzI4LjAyLCAtODIuNV0sIFszOS43OCwgLTg2LjE1XSwgWzQyLjI3LCAtNzEuODFdLCBbMzIuNTgsIC05Ni45Nl0sIFszNi4yMSwgLTExNS4yMl0sIFszMC42OCwgLTg4LjA5XSwgWzQwLjY3LCAtNzMuOTRdLCBbNDIuNjgsIC04OS4wMl0sIFs0MC4wMSwgLTc1LjEzXSwgWzMzLjc0LCAtMTE3Ljg4XSwgWzQ0LjkxLCAtOTIuOTJdLCBbMzMuMjMsIC0xMTcuMzFdLCBbNDAuNjcsIC03My45NF0sIFs0MS42NiwgLTgzLjU4XSwgWzI1Ljc4LCAtODAuMjFdLCBbMzQuMTEsIC0xMTguNDFdLCBbNDIuNDksIC04My4zOF0sIFszNy42NiwgLTEyMC45OV0sIFszMi41MiwgLTk0Ljc2XSwgWzQwLjAxLCAtNzUuMTNdLCBbMzMuMDUsIC05Ni43NV0sIFs0NS42MywgLTEyMi42NF0sIFszMy4wOSwgLTk2Ljg5XSwgWzM0LjY5LCAtMTE4LjE4XSwgWzQzLjA2LCAtODcuOTddLCBbMzMuNjcsIC0xMTcuMzJdLCBbNDEuODQsIC04Ny42OF0sIFsyOS43NywgLTk1LjM5XSwgWzQxLjEsIC03My41NV0sIFs0MC42NywgLTczLjk0XSwgWzQxLjU1LCAtNzAuNl0sIFszMC4zMSwgLTk3Ljc1XSwgWzQyLjA5LCAtNzAuNzFdLCBbMzIuNTIsIC05NC43Nl0sIFs0MC42NywgLTczLjk0XSwgWzM0LjIxLCAtNzcuOTFdLCBbNDEuODQsIC04Ny42OF0sIFs0Mi4yNywgLTcxLjYyXSwgWzM2LjY4LCAtNzYuMzFdLCBbNDEuODQsIC04Ny42OF0sIFszMC4wNywgLTg5LjkzXSwgWzM0LjE0LCAtMTE3LjI5XSwgWzI5LjQ2LCAtOTguNTFdLCBbMzAuMzEsIC05Ny43NV0sIFszNy43NywgLTEyMi4yMl0sIFszMC4zMSwgLTk3Ljc1XSwgWzM1Ljk2LCAtNzcuODFdLCBbNDcuOTIsIC05Ny4wN10sIFs0MC42NywgLTczLjk0XSwgWzM5Ljk0LCAtMTA1LjA2XSwgWzMzLjg3LCAtMTE3LjU3XSwgWzMzLjUzLCAtODYuOF0sIFszNS44MiwgLTc4LjY2XSwgWzI2LjY0LCAtODIuMF0sIFszMy4zMywgLTExMS43Nl0sIFs0My4wNiwgLTg3Ljk3XSwgWzM0LjcsIC04Ni43NV0sIFs0MS44NCwgLTg3LjY4XSwgWzQxLjI2LCAtOTYuMDFdLCBbMzkuNzgsIC04Ni4xNV0sIFszNC4yNywgLTExOS4yNl0sIFsyNy4yOCwgLTgwLjM1XSwgWzQxLjEzLCAtNzMuMjZdLCBbNDEuODQsIC04Ny42OF0sIFszNi45MiwgLTEyMS43N10sIFs0MC42NywgLTczLjk0XSwgWzQyLjg5LCAtNzguODZdLCBbNDcuMywgLTEyMi4yMV0sIFsyNi4wMSwgLTgwLjM0XSwgWzMyLjc1LCAtOTcuMzRdLCBbMjcuOTEsIC04Mi43OF0sIFs0MC43MiwgLTc0LjIzXSwgWzI5Ljc3LCAtOTUuMzldLCBbNDIuNTksIC04Mi45Ml0sIFszOC43NiwgLTEyMS4yOV0sIFszNC42LCAtOTguNDJdLCBbMzMuMzcsIC0xMDQuNTNdLCBbNDMuMDIsIC04My42OV0sIFs0Mi44OSwgLTc4Ljg2XSwgWzMwLjMzLCAtODEuNjZdLCBbMzMuNjMsIC0xMTcuN10sIFszOC44OSwgLTEyMS4zXSwgWzM0LjI2LCAtMTE4Ljc1XSwgWzMyLjg2LCAtOTcuMjJdLCBbMjkuNzcsIC05NS4zOV0sIFs0MC42NywgLTczLjk0XSwgWzM4LjAyLCAtMTIxLjg5XSwgWzQ0Ljk2LCAtOTMuMjddLCBbMzguMDcsIC05Ny45MV0sIFs0MS44NCwgLTg3LjY4XSwgWzQzLjc3LCAtODguNDVdLCBbMzYuOTIsIC03Ni4yNF0sIFszMy40NiwgLTgxLjk5XSwgWzMwLjAsIC05MC4xOF0sIFs0My4xNywgLTc3LjYyXSwgWzMzLjcxLCAtMTE3Ljk1XSwgWzQ0Ljk2LCAtOTMuMjddLCBbMzguMjIsIC04NS43NF0sIFs0MC42NywgLTczLjk0XSwgWzM2Ljc0LCAtNzYuMDRdLCBbNDYuODcsIC0xMTQuMDFdLCBbMzkuMTIsIC05NC43M10sIFs0Ni41OSwgLTEyMC41M10sIFszMS4xLCAtOTcuNzJdLCBbMjkuNzcsIC05NS4zOV0sIFs0MC42NywgLTczLjk0XSwgWzM3LjkzLCAtMTIxLjcxXSwgWzQyLjcsIC03MS4xNl0sIFs0Mi4zOSwgLTgzLjI5XSwgWzQxLjg0LCAtODcuNjhdLCBbMzQuMTEsIC0xMTguNDFdLCBbMzkuOTQsIC0xMDUuMDZdLCBbNDAuNzEsIC03NC4wNl0sIFs0MS40OCwgLTgxLjY4XSwgWzM3LjI4LCAtNzkuOTZdLCBbMzkuNTEsIC0xMDQuNzZdLCBbNDIuNDgsIC04My4yNl0sIFszOC41NywgLTEyMS40N10sIFszOS44OSwgLTEwNC45Nl0sIFszMy43OCwgLTExNy45Nl0sIFszNi4xMywgLTk1LjkyXSwgWzM4LjY5LCAtMTIxLjI5XSwgWzQwLjY3LCAtNzMuOTRdLCBbMzMuNzgsIC0xMTcuOTZdLCBbMzkuNTQsIC0xMTkuNzRdLCBbNDEuNDQsIC04Mi4xOF0sIFszOS45NCwgLTc1LjExXSwgWzQ0LjA3LCAtMTIxLjMxXSwgWzMzLjc5LCAtMTE4LjE2XSwgWzQ1LjYzLCAtMTIyLjY0XSwgWzI3LjI4LCAtODAuMzVdLCBbMzguMDQsIC04NC40Nl0sIFszOS41NSwgLTEwNC45N10sIFsyOS43NywgLTk1LjM5XSwgWzQxLjY1LCAtODguMDldLCBbMzMuODQsIC0xMTguMjZdLCBbMzQuNzEsIC04Ni42M10sIFszNC43OSwgLTkyLjI2XSwgWzM1LjQ3LCAtOTcuNTFdLCBbNDEuMjUsIC03NS44OF0sIFsyOC41LCAtODEuMzddLCBbMjkuNjYsIC05NS4xNV0sIFs0Mi4yNywgLTcxLjgxXSwgWzQwLjkxLCAtNzQuMTZdLCBbMzYuOTIsIC03Ni4yNF0sIFszNC4xOCwgLTExOC4yNV0sIFszMy45MSwgLTExOC4zNV0sIFs0MC4wMywgLTEwNS4yNV0sIFszMi4yLCAtMTEwLjg5XSwgWzM4LjY0LCAtOTAuMjRdLCBbMzAuMDcsIC04OS45M10sIFszNC4wNiwgLTExNy4zMl0sIFs0Mi45NiwgLTg1LjY2XSwgWzMzLjY5LCAtMTExLjg3XSwgWzI2LjYzLCAtODEuODVdLCBbNDcuMjUsIC0xMjIuNDZdLCBbNDEuNDgsIC04MS42OF0sIFszMy43OCwgLTExNy45Nl0sIFszMy43NCwgLTExNy44OF0sIFs0MS44NCwgLTg3LjY4XSwgWzQyLjQ5LCAtODMuMDNdLCBbMzkuNzgsIC04Ni4xNV0sIFs0MC4wMSwgLTc1LjEzXSwgWzMzLjk2LCAtMTE4LjM0XSwgWzQyLjY3LCAtNzMuOF0sIFs0MC42NywgLTczLjk0XSwgWzQ3LjYyLCAtMTIyLjM1XSwgWzM5Ljg1LCAtODguOTNdLCBbMzkuODUsIC04OC45M10sIFs0MC42NywgLTczLjk0XSwgWzQ0Ljk1LCAtOTMuMzZdLCBbNDEuMTYsIC05NS45Ml0sIFsyOS4zLCAtOTQuODFdLCBbMzAuMzEsIC05Ny43NV0sIFsyOS43LCAtOTguMTJdLCBbMzkuNTEsIC04NC4zN10sIFszOS44OCwgLTEwNS4wNV0sIFs0NC45NSwgLTkzLjFdLCBbMzYuMjEsIC0xMTUuMjJdLCBbMzUuMTEsIC05MC4wMV0sIFszMy4wNCwgLTk2Ljk4XSwgWzI5Ljc3LCAtOTUuMzldLCBbMjYuNjQsIC04Mi4wXSwgWzMzLjM4LCAtODYuODJdLCBbMzYuOTIsIC03Ni4yNF0sIFszOS43LCAtODQuMTVdLCBbNDAuNjcsIC03My45NF0sIFs0MC43OCwgLTczLjI1XSwgWzQxLjg0LCAtODcuNjhdLCBbMzYuNzQsIC03Ni4wNF0sIFsyMS4zMiwgLTE1Ny44XSwgWzQwLjY3LCAtNzMuOTRdLCBbNDIuNTYsIC03MS4yNl0sIFs0MC42NywgLTczLjk0XSwgWzMzLjIzLCAtMTE3LjMxXSwgWzMyLjc1LCAtOTcuMzRdLCBbMzQuMDQsIC04NC4zNl0sIFszNi4xNywgLTg2Ljc4XSwgWzQwLjY3LCAtNzMuOTRdLCBbMzkuNzgsIC04NC4yXSwgWzQwLjY3LCAtNzMuOTRdLCBbMzYuMTcsIC04Ni43OF0sIFs0MC4wMSwgLTc1LjEzXSwgWzQxLjY2LCAtOTEuNTRdLCBbMzQuMTEsIC0xMTguNDFdLCBbNDAuNjcsIC03My45NF0sIFs0MC42NywgLTczLjk0XSwgWzM2LjIsIC0xMTUuOTldLCBbNDAuNjcsIC03My45NF0sIFszNC4xMSwgLTExOC40MV0sIFszNy43NywgLTEyMi4yMl0sIFs0MC42NywgLTczLjk0XSwgWzQ0Ljk2LCAtOTMuMjddLCBbNDIuMjMsIC04My4yN10sIFszMy44MywgLTExOC4zNF0sIFsyNy45MSwgLTgyLjc4XSwgWzI5Ljc3LCAtOTUuMzldLCBbMzAuMzMsIC04MS42Nl0sIFszNy45OSwgLTEyMS44XSwgWzMwLjMzLCAtODEuNjZdLCBbMzcuNjksIC05Ny4zNF0sIFs0MS42NiwgLTgzLjU4XSwgWzMyLjMyLCAtMTEwLjk5XSwgWzM4LjY1LCAtNzcuMzRdLCBbMzMuNjksIC0xMTIuMjRdLCBbMjkuNDYsIC05OC41MV0sIFsyOS42NiwgLTk1LjE1XSwgWzQwLjY3LCAtNzMuOTRdLCBbMzcuMywgLTEyMS44NV0sIFs0NC45NiwgLTkzLjI3XSwgWzM1LjMzLCAtOTcuNDddLCBbMzkuNzgsIC04Ni4xNV0sIFszNS4yLCAtODAuODNdLCBbNDUuMTEsIC05My4zNV0sIFs0MC42NywgLTczLjk0XSwgWzQxLjY2LCAtODMuNThdLCBbMzIuNiwgLTk2Ljg2XSwgWzM0LjExLCAtMTE4LjQxXSwgWzQwLjY1LCAtMTExLjg5XSwgWzQyLjU4LCAtODMuMDNdLCBbMzcuNjksIC0xMjIuNDddLCBbMzguOCwgLTkwLjMyXSwgWzMzLjQyLCAtMTExLjc0XSwgWzQ3LjI1LCAtMTIyLjQ2XSwgWzQyLjQ3LCAtNzAuOTZdLCBbMzcuNSwgLTEyMC44NV0sIFs0MC42NywgLTczLjk0XSwgWzQwLjA0LCAtNzYuM10sIFszNC4xMSwgLTExOC40MV0sIFszNi43LCAtNzYuNjRdLCBbNDAuNjcsIC03My45NF0sIFsyOC4wMiwgLTgyLjVdLCBbMzkuNzgsIC04OS42NF0sIFszNy45NywgLTEyMi4wXSwgWzQxLjg0LCAtODcuNjhdLCBbMzkuOTksIC04Mi45OV0sIFs0MC42NywgLTczLjk0XSwgWzQ3LjYyLCAtMTIyLjM1XSwgWzI1LjksIC04MC4xN10sIFs0MS42NywgLTg2LjE3XSwgWzMwLjA3LCAtODkuOTNdLCBbNDEuMDksIC03My40Ml0sIFsyNi43NSwgLTgwLjEzXSwgWzM0LjU3LCAtODYuOTldLCBbNDAuNjcsIC03My45NF0sIFs0MS43LCAtODguMDhdLCBbNDAuNjcsIC03My45NF0sIFsyNy45NiwgLTgyLjQ4XSwgWzQxLjg3LCAtODguMDFdLCBbMzcuNzEsIC0xMjIuMDZdLCBbMzIuNzksIC05Ni43N10sIFszNi4xOCwgLTk0LjE1XSwgWzMzLjQyLCAtMTExLjc0XSwgWzM2LjIsIC0xMTUuOTldLCBbMjYuMjcsIC04MC4yNl0sIFs0MC42NywgLTczLjk0XSwgWzQ1LjYzLCAtMTIyLjY0XSwgWzQ0LjYyLCAtMTIzLjA5XSwgWzMwLjMxLCAtOTcuNzVdLCBbMzUuOTgsIC03OC45MV0sIFs0Mi41NiwgLTcxLjI2XSwgWzM0LjA2LCAtMTE3LjMyXSwgWzMzLjA1LCAtOTYuNzVdLCBbNDQuODksIC05My4zNl0sIFszOS43OCwgLTg2LjE1XSwgWzQwLjY3LCAtNzMuOTRdLCBbMzQuMTEsIC0xMTguNDFdLCBbMjYuNjQsIC04Mi4wXSwgWzQwLjY3LCAtNzMuOTRdLCBbMzQuMDcsIC0xMTguMDNdLCBbNDEuMjMsIC0xMTEuOTddLCBbMjcuMjgsIC04MC4zNV0sIFszNi43NCwgLTc2LjA0XSwgWzM1Ljk3LCAtODMuOTVdLCBbMjkuNzcsIC05NS4zOV0sIFs0NS41NSwgLTk0LjE3XSwgWzMzLjc2LCAtODQuNDJdLCBbMzMuMzcsIC0xMDQuNTNdLCBbMzcuNTMsIC03Ny40N10sIFszMC4zMywgLTgxLjY2XSwgWzMzLjk1LCAtODMuMzldLCBbMzQuMTksIC0xMTguODddLCBbMjkuNzcsIC05NS4zOV0sIFszMy40NiwgLTgxLjk5XSwgWzQxLjg0LCAtODcuNjhdLCBbMzQuMjYsIC0xMTguNzVdLCBbMzQuMDMsIC0xMTguMTddLCBbNDAuMTUsIC03NC44NV0sIFszMi4zMiwgLTkwLjIxXSwgWzM2LjIxLCAtMTE1LjIyXSwgWzM4LjQ0LCAtNzguODddLCBbNDAuNjcsIC03My45NF0sIFsyOS42NiwgLTk1LjE1XSwgWzMyLjc5LCAtOTYuNzddLCBbNDAuNjcsIC03My45NF0sIFszNC4xMSwgLTExOC40MV0sIFs0MC4wMSwgLTc1LjEzXSwgWzQwLjY3LCAtNzMuOTRdLCBbNDAuODYsIC03NC40Ml0sIFszMi43OSwgLTk2Ljc3XSwgWzQwLjU2LCAtMTA1LjA3XSwgWzQwLjY3LCAtNzMuOTRdLCBbMzUuNjgsIC0xMDUuOTVdLCBbMzcuNzcsIC0xMjIuMjZdLCBbMzQuNywgLTg2Ljc1XSwgWzQwLjY3LCAtNzMuOTRdLCBbMzMuODEsIC0xMTcuODJdLCBbNDEuODQsIC04Ny42OF0sIFsyNS43NywgLTgwLjM1XSwgWzM3Ljc3LCAtMTIyLjIyXSwgWzQwLjAxLCAtNzUuMTNdLCBbMzcuNzQsIC0xMjEuNDNdLCBbNDIuNjUsIC04My4yOV0sIFszNS4yNywgLTEwNi42Nl0sIFszMy44MywgLTExOC4zNF0sIFs0MC43OCwgLTczLjI1XSwgWzMzLjc0LCAtMTE3Ljg4XSwgWzM4LjkxLCAtNzcuMDJdLCBbMzEuODUsIC0xMDYuNDRdLCBbMjYuMDMsIC04MC4xNl0sIFszNS4zNywgLTk0LjM4XSwgWzMwLjMxLCAtOTcuNzVdLCBbMzUuOTgsIC03OC45MV0sIFszOS4wMSwgLTc3LjQzXSwgWzI5Ljc3LCAtOTUuMzldLCBbMzMuODMsIC0xMTguMzRdLCBbNDIuNTcsIC04My4zOF0sIFszMS4xLCAtOTcuNzJdLCBbMzguODIsIC05Ny42Ml0sIFsyOS40NiwgLTk4LjUxXSwgWzI5LjU3LCAtOTUuNTRdLCBbMzIuNzUsIC05Ny4zNF0sIFs0MS42NiwgLTgzLjU4XSwgWzI5Ljc3LCAtOTUuMzldLCBbNDIuMjcsIC04NS41OV0sIFs0MS44LCAtNzEuMzZdLCBbMjUuNzEsIC04MC40MV0sIFs0Mi43MywgLTg3LjgxXSwgWzQ3LjI1LCAtMTIyLjQ2XSwgWzMwLjMxLCAtOTcuNzVdLCBbMzkuMTQsIC03Ny4yMl0sIFs0MC42NywgLTczLjk0XSwgWzMyLjY3LCAtMTE3LjFdLCBbMzguNTUsIC0xMjEuNzRdLCBbMjcuOTYsIC04Mi40OF0sIFsyOS43NywgLTk1LjM5XSwgWzQwLjQ3LCAtNzQuMzJdLCBbMzIuODUsIC05Ny4wOF0sIFszMC4zMSwgLTk3Ljc1XSwgWzMyLjYzLCAtMTE3LjA0XSwgWzQ0LjA3LCAtMTIxLjMxXSwgWzM3Ljc3LCAtMTIyLjIyXSwgWzM2LjIxLCAtMTE1LjIyXSwgWzMwLjMzLCAtODEuNjZdLCBbMzguOCwgLTkwLjMyXSwgWzMyLjY4LCAtMTE0LjYyXSwgWzQxLjEsIC03My41NV0sIFszOS43LCAtODQuMTVdLCBbMzkuMDEsIC03Ny40M10sIFs0Mi43MSwgLTg0LjU1XSwgWzQxLjI2LCAtOTYuMDFdLCBbMzAuMDcsIC04OS45M10sIFszMC4zMSwgLTk3Ljc1XSwgWzM5Ljc4LCAtODYuMTVdLCBbNDAuNjcsIC03My45NF0sIFszNC4xNCwgLTExNy4yOV0sIFszNi44NiwgLTc2LjM2XSwgWzI1LjgxLCAtODAuMTRdLCBbMzAuMzIsIC05NS40N10sIFszOC44NSwgLTc3LjQ0XSwgWzQ0Ljk2LCAtOTMuMjddLCBbMzQuMDUsIC0xMTcuOTFdLCBbMzUuNiwgLTc3LjM3XSwgWzM0LjAxLCAtMTE4LjRdLCBbNDMuMTcsIC03Ny42Ml0sIFsyNi4xNSwgLTgwLjNdLCBbMjYuMjcsIC04MC4yNl0sIFs0Mi4xNCwgLTcxLjI1XSwgWzMzLjk0LCAtMTE3LjRdLCBbNDEuMjYsIC05Ni4wMV0sIFszMi42MywgLTExNy4wNF0sIFszNy4zLCAtMTIxLjg1XSwgWzM0LjExLCAtMTE4LjQxXSwgWzMyLjg1LCAtOTcuMDhdLCBbMzIuNDUsIC05OS43NF0sIFszOS41MSwgLTg0LjM3XSwgWzM3Ljc3LCAtMTIyLjIyXSwgWzQxLjU2LCAtNzMuMDRdLCBbMzkuMzksIC04NC41Nl0sIFszMy45NCwgLTExOC4xM10sIFs0MC42NywgLTczLjk0XSwgWzMyLjk3LCAtOTYuNzFdLCBbMzQuMTEsIC0xMTguNDFdLCBbMzAuNjgsIC04OC4wOV0sIFszMy41OCwgLTExMi4yXSwgWzQwLjExLCAtODguMjFdLCBbMzcuNTIsIC0xMjIuMjFdLCBbMzYuNTYsIC04Ny4zNV0sIFs0Mi40MiwgLTcwLjk5XSwgWzQwLjIyLCAtNzQuNzZdLCBbMzQuMTEsIC0xMTguNDFdLCBbMzQuMTEsIC0xMTguNDFdLCBbNDIuNjUsIC03MS4xNF0sIFs0My4wMiwgLTgzLjY5XSwgWzM0LjA1LCAtMTE3LjYxXSwgWzM4LjIyLCAtODUuNzRdLCBbMjkuNDEsIC05NC45Nl0sIFszNi4zMywgLTgyLjM3XSwgWzQwLjY3LCAtNzMuOTRdLCBbMzUuNjcsIC05Ny40MV0sIFszMy45NCwgLTExNy40XSwgWzMwLjIxLCAtOTMuMl0sIFszMS44NSwgLTEwNi40NF0sIFszNS40NywgLTk3LjUxXSwgWzM5LjAyLCAtOTQuMjddLCBbNDQuOTEsIC05Mi45Ml0sIFszMy44MSwgLTExNy44Ml0sIFszNS4yNSwgLTgxLjE3XSwgWzM2LjMzLCAtMTE5LjY1XSwgWzM1LjExLCAtOTAuMDFdLCBbMzMuNzEsIC0xMTcuOTVdLCBbMzguMjIsIC04NS43NF0sIFszNi4xNywgLTg2Ljc4XSwgWzQwLjcsIC03My42Ml0sIFs0Mi4zOCwgLTgzLjFdLCBbNDAuNjcsIC03My45NF0sIFs0MS42NiwgLTgzLjU4XSwgWzQwLjY3LCAtNzMuOTRdLCBbMzMuOTMsIC0xMTcuMjFdLCBbMjkuNjIsIC05NS42Ml0sIFsyOS43NSwgLTk0Ljk3XSwgWzM3LjMsIC0xMjEuODVdLCBbNDAuNjcsIC03My45NF0sIFs0MC45NSwgLTczLjg3XSwgWzI1LjkzLCAtOTcuNDhdLCBbNDIuMDUsIC04Ny42OV0sIFs0My4wNCwgLTc2LjE0XSwgWzQwLjY5LCAtMTEyLjAxXSwgWzQwLjY3LCAtNzMuOTRdLCBbNDAuNjcsIC03My45NF0sIFszNy4wMSwgLTEyMS41OF0sIFszOS43OCwgLTg2LjE1XSwgWzI5Ljc3LCAtOTUuMzldLCBbMzMuNDYsIC04MS45OV0sIFszMy43MiwgLTExNi4yM10sIFsyNy45MywgLTgyLjI5XSwgWzM4LjA0LCAtODQuNDZdLCBbNDIuMDIsIC05My42M10sIFs0NC45NSwgLTkzLjFdLCBbNDAuMDEsIC03NS4xM10sIFsyNy45NiwgLTgyLjQ4XSwgWzMyLjIsIC0xMTAuODldLCBbMzcuMywgLTEyMS44NV0sIFs0MS41NSwgLTcwLjZdLCBbNDAuNzIsIC03NC4xN10sIFs0MS44NCwgLTg3LjY4XSwgWzQ0LjAyLCAtODguNTVdLCBbMzUuOTgsIC03OC45MV0sIFs0Mi40MiwgLTcwLjk5XSwgWzQxLjQ4LCAtODEuOF0sIFszMy42MiwgLTExMi4yOF0sIFszNC42LCAtOTguNDJdLCBbNDAuNjcsIC03My45NF0sIFsyNS43NywgLTgwLjM1XSwgWzM5Ljc4LCAtODYuMTVdLCBbMzcuMDgsIC03Ni41MV0sIFszMC44NSwgLTgzLjI4XSwgWzM4LjY1LCAtNzcuMzRdLCBbMzAuMDcsIC04OS45M10sIFszNC4xOSwgLTExOC4zM10sIFszMy4yMywgLTExNy4zMV0sIFszNy45OCwgLTg3LjU0XSwgWzQzLjAyLCAtODMuNjldLCBbMzMuNzQsIC0xMTcuODhdLCBbNDAuNzksIC03NC4yNl0sIFs0Mi4zOSwgLTgzLjI5XSwgWzMyLjgsIC0xMTYuOTZdLCBbMzYuMTEsIC0xMTUuMjRdLCBbMjguMywgLTgxLjQxXSwgWzQyLjMxLCAtODMuMjFdLCBbMzUuMDcsIC03OC45XSwgWzM0LjA2LCAtMTE3Ljc2XSwgWzM2Ljc0LCAtNzYuMDRdLCBbNDEuNzcsIC03MC4wOF0sIFszMi45MSwgLTk2LjYzXSwgWzQ2LjIsIC0xMTkuMTddLCBbNDAuNjcsIC03My45NF0sIFs0MC45NSwgLTczLjg3XSwgWzM3Ljk1LCAtMTIyLjM2XSwgWzM5Ljc4LCAtODQuMl0sIFs0Mi4yOCwgLTgzLjczXSwgWzMwLjQ1LCAtOTEuMTNdLCBbNDcuNjIsIC0xMjIuMzVdLCBbMzMuODcsIC0xMTcuNTddLCBbMzYuMDgsIC03OS44M10sIFszNi4xLCAtODAuMjZdLCBbMzAuMDcsIC04OS45M10sIFszMi44NiwgLTk2Ljk3XSwgWzM3LjMsIC0xMjEuODVdLCBbMzcuMywgLTEyMS44NV0sIFs0MS4yLCAtNzMuMTNdLCBbNDAuNjcsIC03My45NF0sIFszNS43OCwgLTc4LjhdLCBbNDIuMzMsIC03MS4yMV0sIFs0My4xNywgLTc3LjYyXSwgWzQwLjM0LCAtNzUuOTNdLCBbMzcuNzcsIC0xMjIuMjJdLCBbMzMuODcsIC0xMTcuNTddLCBbNDEuMzgsIC04MS43M10sIFszNS4xMSwgLTkwLjAxXSwgWzM4Ljg1LCAtNzcuNDRdLCBbNDIuMzQsIC0xMjIuODVdLCBbNDIuNTgsIC04Ny44NV0sIFsyOS43NywgLTk1LjM5XSwgWzM2LjIxLCAtMTE1LjIyXSwgWzI2LjAzLCAtODAuMTZdLCBbMzIuNjMsIC0xMTcuMDRdLCBbMzkuNzgsIC04Ni4xNV0sIFszNi45MiwgLTc2LjI0XSwgWzQxLjg0LCAtODcuNjhdLCBbNDcuODMsIC0xMjIuMzddLCBbMzkuNTQsIC0xMTkuODJdLCBbMjkuNzcsIC05NS4zOV0sIFs0MS42OCwgLTcyLjk0XSwgWzM5LjAzLCAtNzcuMl0sIFszNC42LCAtOTguNDJdLCBbNDEuNTMsIC04OC4xMl0sIFs0MC42NywgLTczLjk0XSwgWzI4LjUsIC04MS4zN10sIFs0MC42NywgLTczLjk0XSwgWzM5LjYsIC0xMDQuODVdLCBbMzcuMywgLTEyMS44NV0sIFs0NS41LCAtMTIyLjQ0XSwgWzI5LjQ2LCAtOTguNTFdLCBbMzMuOTQsIC0xMTcuNF0sIFszMy45NCwgLTExNy40XSwgWzQyLjM4LCAtODMuMV0sIFs0My4wOCwgLTg5LjM5XSwgWzQwLjY3LCAtNzMuOTRdLCBbNDAuOTIsIC05OC4zN10sIFs0MC4wMSwgLTc1LjEzXSwgWzQ3LjYyLCAtMTIyLjM1XSwgWzQwLjY3LCAtNzMuOTRdLCBbMjEuMzIsIC0xNTcuOF0sIFszMC4zMSwgLTk3Ljc1XSwgWzI4LjAyLCAtODIuNV0sIFszNi4xNywgLTg2Ljc4XSwgWzMwLjE2LCAtOTUuNDldLCBbMzMuNjksIC0xMTEuODddLCBbMjEuMzIsIC0xNTcuOF0sIFszMi43NSwgLTk3LjM0XSwgWzMwLjMxLCAtOTcuNzVdLCBbNDAuNjcsIC03My45NF0sIFs0Mi43MywgLTg3LjgxXSwgWzM2Ljg2LCAtNzYuMzZdLCBbMzIuMzIsIC0xMTAuOTldLCBbNDIuMjgsIC04My43M10sIFs0MC42NywgLTczLjk0XSwgWzI1LjkzLCAtOTcuNDhdLCBbNDEuODQsIC04Ny42OF0sIFs0MS44NiwgLTg4LjExXSwgWzQ3LjcsIC0xMTYuNzhdLCBbNDcuNjIsIC0xMjIuMzVdLCBbMzMuNjksIC0xMTIuMjRdLCBbMzIuOTEsIC04MC4wNF0sIFszMy45MiwgLTExOC4yXSwgWzM5Ljc2LCAtOTQuODJdLCBbMjYuNzUsIC04MC4xM10sIFsyNS43OCwgLTgwLjIxXSwgWzQwLjAxLCAtNzUuMTNdLCBbMjYuNzUsIC04MC4xM10sIFszMC4wLCAtOTAuMThdLCBbMjcuNzYsIDMwLjMxXSwgWzQyLjM4LCAtODMuMV0sIFs0MS4wOSwgLTczLjQyXSwgWzQwLjY3LCAtNzMuOTRdLCBbMzguNDIsIC0xMjEuNDJdLCBbNDAuNDQsIC03OS45OF0sIFszNy4zLCAtMTIxLjg1XSwgWzM0LjA5LCAtMTE4LjFdLCBbNTkuOTMsIDMwLjMxXSwgWzMzLjQ2LCAtODEuOTldLCBbMzkuNTUsIC0xMDQuOTddLCBbNDMuNTgsIC0xMTYuNTZdLCBbMzMuNDIsIC0xMTEuNzRdLCBbNDEuNzQsIC03MC4yXSwgWzM3LjI4LCAtNzkuOTZdLCBbMjUuNzYsIC04MC40XSwgWzMyLjM1LCAtODYuMjhdLCBbNDIuMzgsIC03MS4xMl0sIFszNS4wMSwgLTEwNi42OF0sIFs0MC43MSwgLTc0LjA2XSwgWzMyLjIsIC0xMTAuODldLCBbMzUuMjUsIC04MS4xN10sIFsyOC43OSwgLTgxLjI4XSwgWzMzLjgzLCAtMTE4LjM0XSwgWzQyLjk2LCAtODUuNjZdLCBbMjUuOTgsIC04MC4zM10sIFs0MC42NywgLTczLjk0XSwgWzI3Ljg2LCAtODIuNzFdLCBbNDIuNzEsIC04NC41NV0sIFszMi41MiwgLTkzLjY2XSwgWzQwLjY3LCAtNzMuOTRdLCBbNDQuMDcsIC0xMjEuMzFdLCBbMjYuNiwgLTgxLjYzXSwgWzQxLjY2LCAtODMuNThdLCBbNDAuNjcsIC03My45NF0sIFszNC4xOCwgLTExOC4yNV0sIFs0MC40OCwgLTg2LjEzXSwgWzM5Ljc1LCAtMTIxLjgxXSwgWzI3Ljk2LCAtODIuNDhdLCBbMzYuNTYsIC04Ny4zNV0sIFszOC45MiwgLTk0LjM4XSwgWzMzLjY5LCAtMTEyLjI0XSwgWzQ0Ljk2LCAtOTMuMjddLCBbNDQuOTUsIC05My4zNl0sIFs0MC45NSwgLTczLjg3XSwgWzQwLjY3LCAtNzMuOTRdLCBbNDAuOTEsIC03NC4xNl0sIFsyOS43NywgLTk1LjM5XSwgWzMzLjg5LCAtMTE4LjNdLCBbMzkuMzgsIC03NC40NV0sIFsyOS43NywgLTk1LjM5XSwgWzMzLjk5LCAtMTE4LjA5XSwgWzM2LjMzLCAtODIuMzddLCBbNDEuODQsIC04Ny42OF0sIFszNS44MiwgLTc4LjY2XSwgWzMwLjMzLCAtODEuNjZdLCBbNDIuNTYsIC03MS4yNl0sIFs0Ny42MiwgLTEyMi4zNV0sIFs0MS4yNiwgLTk2LjAxXSwgWzQxLjg0LCAtODcuNjhdLCBbMzcuMywgLTEyMS44NV0sIFszNC4xMSwgLTExOC40MV0sIFsyNi4zNCwgLTgxLjc5XSwgWzM5LjYyLCAtODYuMTFdLCBbNDEuNDgsIC04MS44XSwgWzQwLjY3LCAtNzMuOTRdLCBbMzguOTIsIC05NC4zOF0sIFszOC45NiwgLTk0Ljc5XSwgWzQxLjg0LCAtODcuNjhdLCBbMzMuNjEsIC0xMTcuNjVdLCBbNDIuNTcsIC04My4zOF0sIFsyNi4wMywgLTgwLjE2XSwgWzQwLjYzLCAtNzQuMjRdLCBbMzAuMzMsIC04MS42Nl0sIFs0MC43OCwgLTExMS45M10sIFs0MS44NCwgLTg3LjY4XSwgWzQ3LjUsIC0xMTEuMjldLCBbMjkuNjYsIC05NS4xNV0sIFs0MC42NywgLTczLjk0XSwgWzMzLjc2LCAtODQuNDJdLCBbNDAuNjcsIC03My45NF0sIFszOS43OCwgLTg5LjY0XSwgWzQxLjgyLCAtNzEuNDJdLCBbMzUuNDcsIC05Ny41MV0sIFszNy4zLCAtMTIxLjg1XSwgWzM0LjExLCAtMTE4LjQxXSwgWzI5LjY2LCAtOTUuMTVdLCBbMzMuMjMsIC0xMTcuMzFdLCBbNDEuOCwgLTcxLjM2XSwgWzQyLjQ5LCAtODMuMDNdLCBbMzMuMTEsIC05Ni42N10sIFszMy4wNSwgLTExNy4yNl0sIFszNy43MiwgLTEyMS45MV0sIFszNS4yLCAtODAuODNdLCBbMzAuMzMsIC04MS42Nl0sIFszNC4wNiwgLTExNy4xN10sIFsyNS42NywgLTgwLjQ0XSwgWzMwLjMxLCAtOTcuNzVdLCBbMzMuNTMsIC04Ni44XSwgWzI3LjI4LCAtODAuMzVdLCBbNDAuNjcsIC03My45NF0sIFs0Ni41OSwgLTEyMC41M10sIFszMy44NywgLTExNy41N10sIFszOS45MywgLTgzLjhdLCBbMzYuNTYsIC04Ny4zNV0sIFs0MS44NCwgLTg3LjY4XSwgWzQwLjY3LCAtNzMuOTRdLCBbMzcuOTksIC0xMjEuOF0sIFs0NC4yNywgLTg4LjRdLCBbMzIuOCwgLTExNi45Nl0sIFszMy44MywgLTExOC4zNF0sIFsyNi4yNywgLTgwLjI2XSwgWzM0LjAzLCAtMTE3LjA0XSwgWzQ3LjYyLCAtMTIyLjM1XSwgWzQwLjY3LCAtNzMuOTRdLCBbMzkuOTQsIC03NC4xN10sIFs0Mi4yLCAtODUuNTldLCBbMzMuNzgsIC0xMTYuNTNdLCBbMzUuNzgsIC03OC44XSwgWzM3Ljc0LCAtMTIxLjQzXSwgWzMyLjc1LCAtOTcuMzRdLCBbMzUuMTEsIC05MC4wMV0sIFs0MC42NywgLTczLjk0XSwgWzQwLjY3LCAtNzMuOTRdLCBbMzUuMjcsIC0xMDYuNjZdLCBbNDIuMTgsIC03Mi41N10sIFsyNy45NiwgLTgyLjQ4XSwgWzM0LjEyLCAtMTE3LjU3XSwgWzMwLjMxLCAtOTcuNzVdLCBbMzkuNzgsIC04OS42NF0sIFs0NS4xMSwgLTkzLjM1XSwgWzQyLjM4LCAtODMuMV0sIFs0MS44NCwgLTg3LjY4XSwgWzM4LjgyLCAtNzcuMDldLCBbNDIuNSwgLTkwLjY5XSwgWzQwLjY3LCAtNzMuOTRdLCBbMzQuNTIsIC0xMTcuMzNdLCBbMzguODUsIC03Ny40NF0sIFszMy42MiwgLTExMi4yOF0sIFszMy40MiwgLTExMS43NF0sIFs0MC44MiwgLTk2LjY5XSwgWzMzLjIsIC05Ni42NV0sIFszNi4xNywgLTg2Ljc4XSwgWzM2LjAzLCAtMTE1LjBdLCBbNDEuMywgLTczLjE0XSwgWzQwLjI4LCAtNzYuODhdLCBbMzguNDQsIC03OC44N10sIFs0MC42NywgLTczLjk0XSwgWzI5LjU3LCAtOTUuNTRdLCBbMzMuODMsIC0xMTYuNDZdLCBbNDUuMTEsIC05My40Nl0sIFszNi45MiwgLTc2LjI0XSwgWzQwLjYzLCAtNzUuMzddLCBbMzMuNTMsIC04Ni44XSwgWzQwLjY3LCAtNzMuOTRdLCBbMjUuNzcsIC04MC4zNV0sIFszOC42OCwgLTEyMS4xNV0sIFszMy42NiwgLTExMi40N10sIFs0Mi4zOCwgLTgzLjFdLCBbNDQuODksIC05My4zNl0sIFs0Mi44OSwgLTc4Ljg2XSwgWzQxLjk5LCAtNzAuOTddLCBbMzIuMzIsIC05MC4yMV0sIFs0MS41NiwgLTczLjA0XSwgWzQwLjA3LCAtODIuNDJdLCBbMjYuOTksIC04Mi4xMV0sIFszOS43NiwgLTk0LjgyXSwgWzM5Ljc4LCAtODYuMTVdLCBbMzIuMiwgLTExMC44OV0sIFs0MS44NCwgLTg3LjY4XSwgWzQwLjY3LCAtNzMuOTRdLCBbNDAuNjcsIC03My45NF0sIFs0MC42NywgLTczLjk0XSwgWzM3LjA4LCAtMTEzLjU4XSwgWzM1LjQ3LCAtOTcuNTFdLCBbMzIuMiwgLTExMC44OV0sIFszMy4zNywgLTEwNC41M10sIFs0Mi4wMywgLTg3LjldLCBbNDAuNjcsIC03My45NF0sIFszNi4wOCwgLTExNS4xM10sIFszMi4wMywgLTEwMi4xXSwgWzMwLjMxLCAtOTcuNzVdLCBbMzYuNjgsIC03Ni4zMV0sIFsyNi42NiwgLTgwLjI1XSwgWzMwLjMxLCAtOTcuNzVdLCBbNDQuODIsIC05MS40OV0sIFszMi4yLCAtMTEwLjg5XSwgWzMyLjc3LCAtOTYuNl0sIFszOC40NSwgLTEyMi43XSwgWzI1LjksIC04MC4xN10sIFszMi4yLCAtMTEwLjg5XSwgWzM3LjcxLCAtMTIyLjE1XSwgWzM2LjcsIC03Ni42NF0sIFs0MC42NywgLTczLjk0XSwgWzQyLjAyLCAtOTMuNjNdLCBbMzUuOTMsIC04Ni44NF0sIFsyNi4xNSwgLTgwLjNdLCBbMzIuNDcsIC05My44XSwgWzM2LjE3LCAtODYuNzhdLCBbNDIuMjcsIC04OS4wNl0sIFszNi4yMSwgLTExNS4yMl0sIFsyNy43NiwgMzAuMzFdLCBbNDAuNjcsIC03My45NF0sIFs0MC42NywgLTczLjk0XSwgWzQxLjg0LCAtODcuNjhdLCBbMzMuNDYsIC04MS45OV0sIFs0MC42NywgLTczLjk0XSwgWzM0LjEyLCAtMTE3LjU3XSwgWzM4LjA0LCAtODQuNDZdLCBbNDcuNjIsIC0xMjIuMzVdLCBbMjkuNzcsIC05NS4zOV0sIFszNS4yLCAtODAuODNdLCBbNDEuNDksIC05MC40OV0sIFs0Ny42MiwgLTEyMi4zNV0sIFszOS45NCwgLTc1LjExXSwgWzQyLjczLCAtODcuODFdLCBbMjkuNDYsIC05OC41MV0sIFsyOC40OCwgLTgyLjU2XSwgWzM3LjY5LCAtOTcuMzRdLCBbMzkuNzEsIC0xMDQuNzNdLCBbNDAuNjcsIC03My45NF0sIFszNC4xMSwgLTExOC40MV0sIFszNC4wNiwgLTExNy43Nl0sIFszOS45OSwgLTgyLjk5XSwgWzM2LjIxLCAtMTE1LjIyXSwgWzM0LjExLCAtMTE4LjQxXSwgWzM4Ljc4LCAtNzcuMjddLCBbNDcuMjUsIC0xMjIuNDZdLCBbMzcuMzEsIC0xMjIuMDVdLCBbMzkuNSwgLTc2LjMyXSwgWzMwLjA3LCAtODkuOTNdLCBbMjkuMywgLTk0LjgxXSwgWzQwLjY3LCAtNzMuOTRdLCBbMzkuMjcsIC03Ni41XSwgWzI2LjE1LCAtODAuM10sIFszMy45MiwgLTExNy44N10sIFszOS45MywgLTkxLjM5XSwgWzM5Ljc4LCAtODQuMl0sIFszNy4zLCAtMTIxLjg1XSwgWzM3LjY2LCAtMTIwLjk5XSwgWzI5LjQ2LCAtOTguNTFdLCBbMzcuNTMsIC03Ny40N10sIFszMy43NiwgLTg0LjQyXSwgWzQ1LjUzLCAtMTIyLjk0XSwgWzQyLjczLCAtODcuODFdLCBbMzguOTQsIC03Ny4xOF0sIFs0MC42NiwgLTc0LjExXSwgWzM3LjUzLCAtNzcuNDddLCBbMzIuMiwgLTExMC44OV0sIFsyOC41OSwgLTgwLjgyXSwgWzM5Ljc4LCAtODYuMTVdLCBbMjkuNDYsIC05OC41MV0sIFs0Mi40MiwgLTcxLjExXSwgWzMyLjUyLCAtOTQuNzZdLCBbNDAuNjcsIC03My45NF0sIFszNS43OCwgLTc4LjhdLCBbNDIuMzgsIC04My4xXSwgWzI5LjU3LCAtODEuMjFdLCBbMzYuNzQsIC03Ni4wNF0sIFszNC4xMSwgLTExOC40MV0sIFszMy40MiwgLTExMS43NF0sIFs0MS44NCwgLTg3LjY4XSwgWzMzLjEyLCAtMTE3LjI5XSwgWzM0Ljk3LCAtOTAuMF0sIFsyOC41OCwgLTgxLjQ2XSwgWzQxLjU2LCAtNzMuMDRdLCBbNDAuNzgsIC0xMTEuOTNdLCBbMzMuNjIsIC0xMTIuMjhdLCBbMzIuMiwgLTExMC44OV0sIFs0MC41MywgLTc0LjM3XSwgWzM5LjAxLCAtNzcuMDJdLCBbMzMuMTQsIC05Ni44MV0sIFsyOS43NywgLTk1LjM5XSwgWzMzLjczLCAtMTE3LjBdLCBbMzEuODUsIC0xMDYuNDRdLCBbNDIuOTYsIC04NS42Nl0sIFsyOS40NiwgLTk4LjUxXSwgWzM2LjAzLCAtMTE1LjBdLCBbMzcuNzcsIC0xMjIuNDVdLCBbNDUuNjMsIC0xMjIuNjRdLCBbMzcuNzcsIC0xMjIuNDVdLCBbNDMuNjYsIC03MC4yOF0sIFszMi41OSwgLTg1LjQ4XSwgWzMwLjMzLCAtODEuNjZdLCBbNjEuMTgsIC0xNDkuMTldLCBbNDEuNTEsIC04MS41Nl0sIFszMy44MiwgLTExOC4wNF0sIFs0MS42OCwgLTg2LjI3XSwgWzI1LjcxLCAtODAuNDFdLCBbNDMuMTcsIC03Ny42Ml0sIFsyNi4xNCwgLTgwLjE0XSwgWzMzLjgxLCAtMTE3LjgyXSwgWzMyLjkxLCAtOTYuNjNdLCBbMzYuMTMsIC05NS45Ml0sIFs0Mi40NywgLTcwLjk2XSwgWzM0LjIsIC0xMTkuMjFdLCBbMzguNjUsIC05MC41OF0sIFszMy4xNCwgLTExNy4xN10sIFs0My41NCwgLTk2LjczXSwgWzM0LjAxLCAtMTE4LjRdLCBbNDYuMjksIC0xMTkuMjldLCBbMzcuNTMsIC03Ny40N10sIFszMy43OCwgLTExNy45Nl0sIFs0Ny42OCwgLTEyMi4xOV0sIFs0My43NSwgLTg3LjczXSwgWzM4LjA3LCAtOTcuOTFdLCBbMzkuODIsIC0xMDUuMTFdLCBbNDIuMzgsIC04My4xXSwgWzM1LjI3LCAtMTA2LjY2XSwgWzMxLjMxLCAtODkuMzFdLCBbMzkuOTQsIC03NC4xN10sIFszNi4xMywgLTk1LjkyXSwgWzM5LjU0LCAtMTE5LjgyXSwgWzI4LjUsIC04MS4zN10sIFs0MC4wMSwgLTc1LjEzXSwgWzMzLjU3LCAtMTE3LjczXSwgWzMyLjMzLCAtOTUuM10sIFszMC42OCwgLTg4LjA5XSwgWzM1LjIsIC04MC44M10sIFszNS4yLCAtODAuODNdLCBbNDIuMzQsIC0xMjIuODVdLCBbMzQuMjYsIC0xMTguNzVdLCBbNDAuMDEsIC03NS4xM10sIFszNC45NCwgLTgxLjAzXSwgWzM3LjYzLCAtMTIyLjFdLCBbMzMuNjEsIC0xMTcuNjVdLCBbMzQuMTIsIC0xMTcuMTldLCBbMzIuNzUsIC05Ny4zNF0sIFszNy45OSwgLTEyMS44XSwgWzMyLjc5LCAtOTYuNzddLCBbMzcuNzcsIC0xMjIuMjJdLCBbNDAuNjcsIC03My45NF0sIFs0MC43OCwgLTczLjI1XSwgWzQxLjIsIC03My4xM10sIFszNy4zLCAtMTIxLjg1XSwgWzMxLjU3LCAtMTEwLjMyXSwgWzI2LjAxLCAtODAuMzRdLCBbNDEuNjUsIC04OC4wOV0sIFszNy43NywgLTEyMi4yMl0sIFsyOS43NywgLTk1LjM5XSwgWzM5LjA4LCAtNzcuMTVdLCBbMzkuOTMsIC05MS4zOV0sIFs0Mi4xMywgLTgwLjA5XSwgWzM5LjE5LCAtOTYuNTldLCBbMzIuNzUsIC05Ny4zNF0sIFszMC4zMywgLTgxLjY2XSwgWzQwLjY3LCAtNzMuOTRdLCBbMzAuMzEsIC05Ny43NV0sIFszNS44MiwgLTc4LjY2XSwgWzMzLjUzLCAtMTE3LjddLCBbMzYuMjEsIC0xMTUuMjJdLCBbMzEuMSwgLTk3LjcyXSwgWzQxLjU3LCAtODcuOF0sIFszMS44NSwgLTEwNi40NF0sIFszNC4wNSwgLTExNy45MV0sIFs0Mi4zNywgLTg3Ljg3XSwgWzQwLjY3LCAtNzMuOTRdLCBbMjkuNzcsIC05NS4zOV0sIFszNC4wNywgLTExOC4wM10sIFsyNy45NiwgLTgyLjQ4XSwgWzQwLjY3LCAtNzMuOTRdLCBbNDMuNDIsIC04My45NV0sIFs0MC42NywgLTczLjk0XSwgWzI5Ljc3LCAtOTUuMzldLCBbMzMuOTcsIC0xMTguMTVdLCBbNDEuNjgsIC03Mi43OV0sIFszNS4xMSwgLTkwLjAxXSwgWzM0LjAsIC0xMTcuODFdLCBbNDIuNywgLTcxLjE2XSwgWzMyLjIsIC0xMTAuODldLCBbMjkuNDYsIC05OC41MV0sIFszNi43NCwgLTc2LjA0XSwgWzMwLjY4LCAtODguMDldLCBbNDAuNjcsIC03My45NF0sIFszNC4xOSwgLTExOC44N10sIFszMS4xLCAtOTcuMzZdLCBbNDIuMzEsIC04My4yMV0sIFszMy43OSwgLTExNy4yMl0sIFszNS4wNywgLTc4LjldLCBbMzMuOTQsIC0xMTcuNF0sIFszNS4yNSwgLTgxLjE3XSwgWzI2Ljg0LCAtODAuMTJdLCBbMzcuNjksIC0xMjEuNzZdLCBbMjkuNjIsIC05NS42Ml0sIFs0MC40NywgLTc0LjMyXSwgWzMzLjgzLCAtMTE4LjM0XSwgWzQyLjQ5LCAtODMuMzhdLCBbMzguMjIsIC04NS43NF0sIFs0NS4wMiwgLTkzLjQ2XSwgWzQwLjQ4LCAtODYuMTNdLCBbMzguMjUsIC0xMjIuMDRdLCBbMzcuNzcsIC0xMjIuMjJdLCBbNDAuNjcsIC03My45NF0sIFszNS4yNSwgLTgxLjE3XSwgWzQwLjU2LCAtMTA1LjA3XSwgWzMzLjg5LCAtMTE4LjIzXSwgWzI4LjA5LCAtODIuNzZdLCBbMjkuNDYsIC05OC41MV0sIFs0MC40MiwgLTEwNC43NF0sIFs0MC4wMywgLTc1LjI4XSwgWzM1LjgyLCAtNzguNjZdLCBbNDEuMSwgLTgwLjY1XSwgWzI5LjQ2LCAtOTguNTFdLCBbMzguNDUsIC0xMjIuN10sIFs0MC42NywgLTczLjk0XSwgWzQyLjY0LCAtNzEuMzJdLCBbNDEuNjgsIC04Ni4yN10sIFszOC44OSwgLTk0LjgxXSwgWzM4LjgyLCAtOTcuNjJdLCBbMzMuODEsIC0xMTcuODJdLCBbMzcuMywgLTEyMS44NV0sIFszOS44NSwgLTg4LjkzXSwgWzQxLjUzLCAtODguMTJdLCBbMjYuNTMsIC04MC4wOF0sIFs0Mi42OCwgLTg5LjAyXSwgWzM2LjIxLCAtMTE1LjIyXSwgWzMyLjg0LCAtODMuNjZdLCBbNDAuNjcsIC03My45NF0sIFszNC4wNSwgLTExNy45MV0sIFszMC4zMSwgLTk3Ljc1XSwgWzQxLjA5LCAtNzMuNDJdLCBbMzYuNzgsIC0xMTkuNzldLCBbMzguNjQsIC05MC4yNF0sIFs0NC45NiwgLTkzLjI3XSwgWzI2LjI3LCAtODAuMjZdLCBbMzAuMDcsIC04OS45M10sIFszMy40MiwgLTExMS43NF0sIFszMC4zMSwgLTk3Ljc1XSwgWzQwLjY3LCAtNzMuOTRdLCBbMzMuMzcsIC0xMDQuNTNdLCBbMzIuMDMsIC0xMDIuMV0sIFs0Mi4xOCwgLTcyLjU3XSwgWzM4LjM1LCAtODEuNjNdLCBbNDAuNjcsIC03My45NF0sIFszMC4xNiwgLTk1LjQ5XSwgWzMzLjMsIC0xMTEuODddLCBbMzcuMywgLTEyMS44NV0sIFs0Ny4yNSwgLTEyMi40Nl0sIFszOS4wMiwgLTk0LjhdLCBbNDIuNDcsIC03MC45Nl0sIFszNS4zNywgLTk0LjM4XSwgWzQzLjA2LCAtODcuOTddLCBbMzUuNDcsIC05Ny41MV0sIFs0MC4wMSwgLTc1LjEzXSwgWzM2Ljg2LCAtNzYuMzZdLCBbMjkuNzcsIC05NS4zOV0sIFs0MC42NywgLTczLjk0XSwgWzM4LjU1LCAtMTIxLjc0XSwgWzQwLjY3LCAtNzMuOTRdLCBbMzcuNjcsIC0xMjEuODldLCBbNDIuNzEsIC04NC41NV0sIFs0MS44LCAtNzEuMzZdLCBbNDQuOTYsIC05My4yN10sIFszOS41NCwgLTExOS44Ml0sIFsyOS4zLCAtOTQuODFdLCBbMzIuNzUsIC05Ny4zNF0sIFszOS45MywgLTkxLjM5XSwgWzMzLjk1LCAtODMuMzldLCBbMzYuMTMsIC05NS45Ml0sIFs0NS41MywgLTEyMi45NF0sIFs0MC42NywgLTc0LjE5XSwgWzM2LjE3LCAtODYuNzhdLCBbMzMuMjQsIC04Ny41NF0sIFsyOC41LCAtODEuMzddLCBbMjkuNDYsIC05OC41MV0sIFs0Mi42NCwgLTcxLjMyXSwgWzM2LjY4LCAtMTIxLjY0XSwgWzQwLjY3LCAtNzMuOTRdLCBbNDAuNjcsIC03My45NF0sIFszOS45OSwgLTgyLjk5XSwgWzI5Ljc3LCAtOTUuMzldLCBbMzcuMywgLTEyMS44NV0sIFszOS43MSwgLTEwNC43M10sIFs0MS44NCwgLTg3LjY4XSwgWzQyLjM4LCAtODMuMV0sIFs0MS41NCwgLTcyLjhdLCBbMzguOTEsIC03Ny4wMl0sIFszMy44OCwgLTExNy45M10sIFszOC41NiwgLTEyMS41NV0sIFs0NC42OCwgLTkzLjI0XSwgWzMyLjM1LCAtODYuMjhdLCBbMzQuMTEsIC0xMTguNDFdLCBbMjUuOTMsIC05Ny40OF0sIFs0MC42NywgLTczLjk0XSwgWzM2Ljc4LCAtMTE5Ljc5XSwgWzQ1LjExLCAtOTMuMzVdLCBbMzUuMTEsIC05MC4wMV0sIFszNi43OCwgLTExOS43OV0sIFszMy44OSwgLTExOC4yM10sIFs0Mi4xMiwgLTcyLjU0XSwgWzQwLjY3LCAtNzMuOTRdLCBbNDIuNDksIC04My4wM10sIFs0MC42NywgLTczLjk0XSwgWzQyLjE0LCAtNzEuMjVdLCBbMzguOTEsIC03Ny4wMl0sIFszMy44NiwgLTExOC4zOF0sIFsyOC4wOSwgLTgyLjc2XSwgWzQ2Ljg4LCAtOTYuODJdLCBbNDAuNiwgLTc1LjQ4XSwgWzQwLjUyLCAtNzQuMjddLCBbMzQuMTEsIC0xMTguNDFdLCBbMzMuODgsIC0xMTcuOTNdLCBbMzAuMzEsIC05Ny43NV0sIFszMi43NSwgLTk3LjM0XSwgWzQwLjY3LCAtNzMuOTRdLCBbMzQuMTQsIC0xMTcuMjldLCBbNDAuNzEsIC03NC4wNl0sIFs0Mi43MSwgLTg0LjU1XSwgWzM0LjA1LCAtMTE3LjYxXSwgWzQwLjY3LCAtNzMuOTRdLCBbMzkuNjIsIC04Ni4xMV0sIFszMy40NiwgLTgxLjk5XSwgWzM3LjkzLCAtMTIxLjcxXSwgWzM3LjM3LCAtMTIxLjk3XSwgWzM5LjczLCAtODQuMDZdLCBbNDIuMTMsIC04MC4wOV0sIFs0MC42NywgLTczLjk0XSwgWzMzLjg3LCAtMTE3LjU3XSwgWzQ3LjYyLCAtMTIyLjM1XSwgWzM4LjYsIC0xMjEuM10sIFszMS4xLCAtOTcuNzJdLCBbMzQuMDgsIC0xMTcuOTddLCBbMzguMjIsIC04NS43NF0sIFs0MS44NCwgLTg3LjY4XSwgWzQwLjY3LCAtNzMuOTRdLCBbMzcuNCwgLTEyMi4wOF0sIFs0MC43NiwgLTczLjUzXSwgWzQyLjg5LCAtNzguODZdLCBbNDEuMzEsIC03Mi45Ml0sIFszNi4wNiwgLTExOS4wM10sIFsyOS4xMSwgLTgxLjAxXSwgWzMzLjY5LCAtMTExLjg3XSwgWzM3Ljg3LCAtMTIyLjI3XSwgWzMzLjUsIC0xMTcuMTNdLCBbNDAuNjcsIC03My45NF0sIFs0Ny4yNSwgLTEyMi40Nl0sIFs0Ni44NywgLTExNC4wMV0sIFszMi45NiwgLTk2Ljk5XSwgWzQ3LjYyLCAtMTIyLjM1XSwgWzM3Ljc3LCAtMTIyLjQ1XSwgWzI2LjE4LCAtOTguMTldLCBbNDcuMTQsIC0xMjIuMjddLCBbMzguNjUsIC05MC41OF0sIFszMC4zMSwgLTk3Ljc1XSwgWzQyLjM5LCAtNzEuMjRdLCBbNDEuODQsIC04Ny42OF0sIFs0MS4xLCAtNzMuNTVdLCBbMzQuMCwgLTExNy44MV0sIFszNC4xMSwgLTExOC40MV0sIFszOC4zNSwgLTgxLjYzXSwgWzM4LjA0LCAtODQuNDZdLCBbNDQuNzYsIC05My4yOF0sIFszMi42MywgLTExNy4wNF0sIFs0Ny4xNCwgLTEyMi4yN10sIFszMy4xNCwgLTk2LjgxXSwgWzQwLjY3LCAtNzMuOTRdLCBbMjkuNDYsIC05OC41MV0sIFs0MC42OSwgLTExMi4wMV0sIFsyNy45MywgLTgyLjI5XSwgWzQxLjc0LCAtNzAuMl0sIFszMy45NSwgLTgzLjM5XSwgWzMzLjc5LCAtMTE4LjE2XSwgWzQxLjg0LCAtODcuNjhdLCBbNDAuNjcsIC03My45NF0sIFs0Ny42NywgLTEyMi4xMV0sIFszMy42OSwgLTExMS44N10sIFszMy44MSwgLTExNy44Ml0sIFs0MC4yNSwgLTExMS42NF0sIFs0Mi41LCAtOTYuMzldLCBbMjUuOTMsIC05Ny40OF0sIFs0Mi40OSwgLTgzLjAzXSwgWzM2LjkyLCAtNzYuMjRdLCBbMjEuMzIsIC0xNTcuOF0sIFszNy41OSwgLTc3LjU5XSwgWzMyLjc5LCAtOTYuNzddLCBbMzguOTUsIC05Mi4zM10sIFs0MC4wMSwgLTc1LjEzXSwgWzI2LjE0LCAtODAuMTRdLCBbNDIuMzEsIC03MS40NF0sIFsyOS40NiwgLTk4LjUxXSwgWzQyLjQ5LCAtODMuMDNdLCBbMzkuNzMsIC04NC4wNl0sIFsyNi45OSwgLTgyLjExXSwgWzI1Ljk4LCAtODAuMzNdLCBbNDAuNjcsIC03My45NF0sIFs0MC42NywgLTczLjk0XSwgWzQwLjc5LCAtNzQuMDNdLCBbMjkuMTksIC04MS4wNV0sIFszNS4yLCAtODAuODNdLCBbMzkuMTQsIC03Ny4yMl0sIFs0NC41MiwgLTg3Ljk5XSwgWzM2LjIxLCAtMTE1LjIyXSwgWzQwLjY3LCAtNzMuOTRdLCBbMjkuNjIsIC05NS42Ml0sIFs0My4wNiwgLTg4LjAzXSwgWzMzLjQyLCAtMTExLjc0XSwgWzQwLjY3LCAtNzMuOTRdLCBbMzIuOTEsIC04MC4wNF0sIFsyOS40OSwgLTk1LjExXSwgWzM5LjcsIC04NC4xNV0sIFs0MC42NywgLTczLjk0XSwgWzM5LjU1LCAtMTA0Ljk3XSwgWzM3LjY2LCAtMTIwLjk5XSwgWzI2LjI3LCAtODAuMjZdLCBbNDIuMjMsIC04My4yN10sIFs0Mi4yNywgLTcxLjgxXSwgWzI1LjY3LCAtODAuMzRdLCBbMzUuOTgsIC03OC45MV0sIFszMi4zMiwgLTkwLjIxXSwgWzQwLjAzLCAtNzUuMjhdLCBbMzYuMiwgLTExOS4zNF0sIFszOS45OSwgLTgyLjk5XSwgWzI3Ljg2LCAtODIuNzFdLCBbNDAuMDEsIC03NS4xM10sIFszNi4yMSwgLTExNS4yMl0sIFszNS40NywgLTk3LjUxXSwgWzMzLjE0LCAtMTE3LjA3XSwgWzQ0LjAyLCAtODguNTVdLCBbNDcuNjIsIC0xMjIuMzVdLCBbMzAuMzEsIC05Ny43NV0sIFszMC4zMSwgLTk3Ljc1XSwgWzMzLjA1LCAtOTYuNzVdLCBbMzkuOTQsIC03NC4xN10sIFszNC4xMSwgLTExNy4zOV0sIFs0MC42NywgLTczLjk0XSwgWzM4Ljg5LCAtOTQuODFdLCBbNDMuMTcsIC03Ny42Ml0sIFszMi4yLCAtMTEwLjg5XSwgWzQwLjY3LCAtNzMuOTRdLCBbNDIuNTksIC04Mi45Ml0sIFs0MC42NywgLTczLjk0XSwgWzI4LjAyLCAtODIuNV0sIFszMi4yLCAtMTEwLjg5XSwgWzQwLjY3LCAtNzMuOTRdLCBbMzUuMDcsIC03OC45XSwgWzQ3LjI1LCAtMTIyLjQ2XSwgWzQwLjc3LCAtNzQuMjFdLCBbMjcuNzEsIC05Ny4yOV0sIFszNS44MiwgLTc4LjY2XSwgWzM2LjExLCAtMTE1LjI0XSwgWzM1Ljc4LCAtNzguOF0sIFsyNy45NiwgLTgyLjQ4XSwgWzQ1LjYzLCAtMTIyLjY0XSwgWzMzLjk0LCAtMTE3LjRdLCBbMzIuNDUsIC05OS43NF0sIFs0MS4yMywgLTExMS45N10sIFszOS41NCwgLTExOS44Ml0sIFs0MC43OCwgLTExMS45M10sIFs0MC42MywgLTc0LjI0XSwgWzM4LjY0LCAtOTAuMjRdLCBbMjkuNzcsIC05NS4zOV0sIFszNi4yMSwgLTExNS4yMl0sIFszNy42OSwgLTEyMi40N10sIFsyNi4yLCAtOTcuNjldLCBbMjYuMjQsIC04MC4xM10sIFszMi4zMiwgLTExMC45OV0sIFs0MS44NCwgLTg3LjY4XSwgWzM1LjIsIC04MC44M10sIFszMy45LCAtOTguNTJdLCBbMzUuOTgsIC03OC45MV0sIFs0MC42NywgLTczLjk0XSwgWzI4LjUsIC04MS4zN10sIFs0MC43NywgLTc0LjAzXSwgWzM0LjEyLCAtMTE3LjE5XSwgWzM4LjA5LCAtMTIyLjU2XSwgWzQwLjcxLCAtNzQuMDZdLCBbMjkuNDYsIC05OC41MV0sIFs0MC42NywgLTczLjk0XSwgWzQyLjI3LCAtNzEuODFdLCBbNDIuODksIC03OC44Nl0sIFszMC4zMSwgLTk3Ljc1XSwgWzI1LjcxLCAtODAuNDFdLCBbMjYuMjcsIC04MC4yNl0sIFs0Mi4wMiwgLTkzLjYzXSwgWzI5Ljg4LCAtOTcuOTNdLCBbMjkuMywgLTk0LjgxXSwgWzMzLjg0LCAtMTE3Ljg3XSwgWzI2LjE3LCAtODAuMjNdLCBbMzQuMTQsIC0xMTcuMjldLCBbNDEuMDgsIC04MS41Ml0sIFszNy4yLCAtOTMuMjldLCBbNDAuNjcsIC03My45NF0sIFszNS40NywgLTk3LjUxXSwgWzM4LjIyLCAtODUuNzRdLCBbNDAuNjcsIC03My45NF0sIFszMy43OCwgLTExNi41M10sIFsyOS43NywgLTk1LjM5XSwgWzMzLjM3LCAtMTA0LjUzXSwgWzQ3LjYyLCAtMTIyLjM1XSwgWzQ3LjUsIC0xMTEuMjldLCBbMzYuNzQsIC03Ni4wNF0sIFszOS43OCwgLTg5LjY0XSwgWzM1LjgyLCAtNzguNjZdLCBbMzQuMTEsIC0xMTguNDFdLCBbMzMuODksIC0xMTguMjNdLCBbMzQuMCwgLTExNy45N10sIFs0MC4wMSwgLTc1LjEzXSwgWzM0LjI2LCAtMTE4Ljc1XSwgWzM2LjE3LCAtODYuNzhdLCBbMjcuOTYsIC04Mi40OF0sIFs0MC42NywgLTczLjk0XSwgWzM3Ljc3LCAtMTIyLjIyXSwgWzQxLjEsIC03My41NV0sIFszNC41MywgLTExNy4yMV0sIFs0Mi44OSwgLTc4Ljg2XSwgWzQwLjg5LCAtNzQuMDVdLCBbNDAuMDEsIC03NS4xM10sIFszNS43NiwgLTExOS4yNV0sIFszMy4zOCwgLTg2LjgyXSwgWzM2LjEzLCAtOTUuOTJdLCBbMzQuMTEsIC0xMTguNDFdLCBbMzMuNDIsIC0xMTEuNzRdLCBbMzUuNiwgLTc3LjM3XSwgWzQyLjczLCAtODcuODFdLCBbNDcuNjcsIC0xMTcuNDFdLCBbMjkuNTYsIC05NS4yOF0sIFszMy43OSwgLTExOC4xNl0sIFszNS44MiwgLTc4LjY2XSwgWzQwLjAxLCAtNzUuMTNdLCBbMzQuMDEsIC0xMTguNF0sIFszNC4yMSwgLTc3LjkxXSwgWzI5LjQ2LCAtOTguNTFdLCBbNDIuMTMsIC04MC4wOV0sIFszMi45MSwgLTk2LjYzXSwgWzI5Ljc3LCAtOTUuMzldLCBbNDAuNjcsIC03My45NF0sIFsyOS45LCAtOTMuOTNdLCBbNDIuNTMsIC03MC44N10sIFs0MS43LCAtODguMDhdLCBbNDEuODQsIC04Ny42OF0sIFsyOS40NiwgLTk4LjUxXSwgWzMwLjMxLCAtOTcuNzVdLCBbMzguMjIsIC04NS43NF0sIFs0NC45MSwgLTkyLjkyXSwgWzM4LjA0LCAtODQuNDZdLCBbMjYuMjcsIC04MC4yNl0sIFs0MS44NywgLTcxLjM3XSwgWzIxLjMyLCAtMTU3LjhdLCBbNDIuMDMsIC04Ny45XSwgWzM5Ljk0LCAtMTA1LjA2XSwgWzI5LjQ2LCAtOTguNTFdLCBbNDcuNjIsIC0xMjIuMzVdLCBbMzguMDQsIC04NC40Nl0sIFs0MS43NCwgLTcwLjYxXSwgWzQwLjY3LCAtNzMuOTRdLCBbNDAuNjcsIC03My45NF0sIFszNi4xNywgLTg2Ljc4XSwgWzMwLjMxLCAtOTcuNzVdLCBbNDIuMDIsIC05My42M10sIFszMC42OCwgLTg4LjA5XSwgWzM0LjExLCAtMTE4LjQxXSwgWzM3LjMsIC0xMjEuODVdLCBbMzIuNzcsIC0xMTcuMDJdLCBbMzMuOTEsIC0xMTguMzVdLCBbMzguMzUsIC04MS42M10sIFszOS43OCwgLTg2LjE1XSwgWzQwLjcsIC03My42Ml0sIFs0MC42NywgLTczLjk0XSwgWzQ0LjgyLCAtOTEuNDldLCBbNDAuNjcsIC03My45NF0sIFszMS4xLCAtOTcuNzJdLCBbMzkuNzgsIC04Ni4xNV0sIFszNC4wNiwgLTExNy4xN10sIFs0Mi42NCwgLTcxLjMyXSwgWzI2LjE4LCAtOTguMTldLCBbMzUuNiwgLTc3LjM3XSwgWzI5LjQ2LCAtOTguNTFdLCBbMzguMDQsIC04NC40Nl0sIFszOS43OCwgLTg2LjE1XSwgWzM0LjY2LCAtMTIwLjQ3XSwgWzI5LjExLCAtODEuMDFdLCBbNDMuMDYsIC04Ny45N10sIFs0MC45MSwgLTc0LjE2XSwgWzIxLjMyLCAtMTU3LjhdLCBbNDcuMjUsIC0xMjIuNDZdLCBbMzMuOTEsIC0xMTguMzVdLCBbNDEuODQsIC04Ny42OF0sIFszMy4zMywgLTExMS43Nl0sIFs0Mi4zOSwgLTcxLjFdLCBbMzcuNTMsIC03Ny40N10sIFszOC45NCwgLTc3LjE4XSwgWzM1LjIsIC04MC44M10sIFszMy4xNCwgLTExNy4xN10sIFs0MS4yNiwgLTk2LjAxXSwgWzI2LjA4LCAtODAuMjldLCBbMzcuMjgsIC03OS45Nl0sIFs0MC42NywgLTczLjk0XSwgWzMzLjk3LCAtMTE3Ljc1XSwgWzMzLjg3LCAtMTE3LjU3XSwgWzQzLjA2LCAtODcuOTddLCBbMzAuNjgsIC04OC4wOV0sIFs0Mi4xMiwgLTcyLjU0XSwgWzQxLjg0LCAtODcuNzZdLCBbNDEuMzEsIC03Mi45Ml0sIFszMi41MiwgLTkzLjY2XSwgWzQwLjY3LCAtNzMuOTRdLCBbNDEuNzcsIC04OC4yOV0sIFszOC44MiwgLTk3LjYyXSwgWzM5LjE5LCAtOTYuNTldLCBbMzMuMTQsIC05Ni44MV0sIFszMi40NywgLTkzLjhdLCBbMzguMjIsIC04NS43NF0sIFszOS41NSwgLTEwNC45N10sIFszOS43OCwgLTg2LjE1XSwgWzMyLjc5LCAtOTYuNzddLCBbNDEuMDgsIC04MS41Ml0sIFszNS4zNywgLTk0LjM4XSwgWzQ3LjI1LCAtMTIyLjQ2XSwgWzQ0LjAxLCAtOTIuNDhdLCBbMjYuMDMsIC04MC4xNl0sIFszOS41NCwgLTExOS43NF0sIFsyOS43NywgLTk1LjM5XSwgWzI5Ljc3LCAtOTUuMzldLCBbNDEuMDksIC03My40Ml0sIFszMS4xLCAtOTcuNzJdLCBbNDIuNjcsIC03My44XSwgWzM3LjMsIC0xMjEuODVdLCBbMjYuNjQsIC04Mi4wXSwgWzM3LjMsIC0xMjEuODVdLCBbNDIuMjMsIC04My4yN10sIFs2MS4xOCwgLTE0OS4xOV0sIFs0Mi4yNywgLTcxLjgxXSwgWzM2LjAzLCAtMTE1LjBdLCBbNDEuNywgLTcxLjQyXSwgWzI5LjQ2LCAtOTguNTFdLCBbNDIuMjcsIC03MS44MV0sIFs0MS44LCAtNzEuMzZdLCBbMzAuMCwgLTkwLjE4XSwgWzI4LjkxLCAtODEuMjFdLCBbMzkuMTUsIC0xMTkuNzRdLCBbMzYuMjEsIC0xMTUuMjJdLCBbMzEuMSwgLTk3LjM2XSwgWzQyLjU2LCAtNzAuODRdLCBbMzguOCwgLTkwLjMyXSwgWzQwLjAxLCAtNzUuMTNdLCBbNDIuNSwgLTkwLjY5XSwgWzQ3LjYyLCAtMTIyLjM1XSwgWzM4LjQsIC0xMjEuMzddLCBbMzQuNzEsIC04Ni42M10sIFs0MC42NywgLTczLjk0XSwgWzMwLjMxLCAtOTcuNzVdLCBbNDAuNzcsIC03My45OF0sIFs0MC42NywgLTczLjk0XSwgWzM1LjExLCAtOTAuMDFdLCBbNDAuNjcsIC03My45NF0sIFszOC40LCAtMTIxLjM3XSwgWzMzLjk1LCAtODMuMzldLCBbMzYuMjEsIC0xMTUuMjJdLCBbNDIuMzgsIC04My4xXSwgWzMzLjMzLCAtMTExLjc2XSwgWzQyLjAzLCAtODcuOV0sIFszNS45OCwgLTgwLjBdLCBbMzAuMzEsIC05Ny43NV0sIFszNC4xMiwgLTExNy41N10sIFsyOS43NywgLTk1LjM5XSwgWzQwLjY3LCAtNzMuOTRdLCBbMzQuMTgsIC0xMTguMjVdLCBbMzMuMDUsIC05Ni43NV0sIFs0MC4yMiwgLTc0Ljc2XSwgWzM3LjksIC0xMjIuMDRdLCBbMzMuNDIsIC0xMTEuNzRdLCBbMzcuNzYsIC0xMjEuOTVdLCBbMjUuNzYsIC04MC40XSwgWzQ0Ljc1LCAtOTMuMl0sIFsyOS43NywgLTk1LjM5XSwgWzI5LjY3LCAtODIuMzRdLCBbNDIuMjMsIC04OC4zM10sIFszNi4xMywgLTk1LjkyXSwgWzQwLjc4LCAtMTExLjkzXSwgWzMwLjA3LCAtODkuOTNdLCBbNDcuMzksIC0xMjIuMjRdLCBbMzMuOTksIC0xMTguMDldLCBbMjkuNzcsIC05NS4zOV0sIFs0MC42NywgLTczLjk0XSwgWzI1Ljc4LCAtODAuMjFdLCBbNDEuMDQsIC04My42NF0sIFsyNi4yNywgLTgwLjI2XSwgWzMyLjYzLCAtMTE3LjA0XSwgWzMzLjE0LCAtMTE3LjE3XSwgWzM4LjIyLCAtODUuNzRdLCBbMzAuMzEsIC05Ny43NV0sIFs0MC44MSwgLTgxLjM3XSwgWzM2LjE3LCAtODYuNzhdLCBbMzIuOTEsIC04MC4wNF0sIFszOS4wOSwgLTk0LjM1XSwgWzQwLjY3LCAtNzMuOTRdLCBbNDAuNjcsIC03My45NF0sIFszOS4xNCwgLTc2LjY5XSwgWzI5LjQ2LCAtOTguNTFdLCBbMzMuMDQsIC05Ni45OF0sIFs0MS45NiwgLTcwLjY3XSwgWzMyLjUxLCAtODQuODddLCBbMzkuMDEsIC03Ny40M10sIFszNS45OCwgLTc4LjkxXSwgWzM1LjQ3LCAtOTcuNTFdLCBbMzUuMiwgLTgwLjgzXSwgWzQyLjY3LCAtODMuMTZdLCBbNDAuMDEsIC03NS4xM10sIFszMC4wLCAtOTAuMThdLCBbMzkuMTQsIC04NC41MV0sIFsyOS43NywgLTk1LjM5XSwgWzMxLjMxLCAtODkuMzFdLCBbMzQuMTksIC0xMTguMzNdLCBbMzkuNzgsIC04Ni4xNV0sIFsyNi43NSwgLTgwLjEzXSwgWzM5LjE0LCAtODQuNTFdLCBbMzMuNSwgLTExNy4xM10sIFszMy43OCwgLTExNy45Nl0sIFszNy4zLCAtMTIxLjg1XSwgWzI5Ljc3LCAtOTUuMzldLCBbNDIuMzEsIC04My4yMV0sIFsyOS43NywgLTk1LjM5XSwgWzM2LjEzLCAtOTUuOTJdLCBbNDIuMjQsIC03MC44OV0sIFszOS43OCwgLTg2LjE1XSwgWzMwLjMzLCAtODEuNjZdLCBbNDEuNywgLTg4LjA4XSwgWzMzLjc4LCAtMTE3Ljk2XSwgWzMzLjk0LCAtODAuMzldLCBbMzQuMDMsIC0xMTcuMDRdLCBbMzAuMzMsIC04MS42Nl0sIFszMi43OSwgLTk2Ljc3XSwgWzQwLjcyLCAtNzQuMjNdLCBbMjYuMTUsIC04MC4zXSwgWzI2LjY0LCAtODIuMF0sIFszMC4zMSwgLTk3Ljc1XSwgWzM3LjA1LCAtNzYuMjldLCBbMzIuNTksIC04NS40OF0sIFszMy45LCAtOTguNTJdLCBbMzUuMiwgLTgwLjgzXSwgWzQ2LjI1LCAtMTE5LjEzXSwgWzQ3LjI1LCAtMTIyLjQ2XSwgWzI4LjgyLCAtOTYuOThdLCBbMzMuNDYsIC04MS45OV0sIFs0MC42NywgLTczLjk0XSwgWzMzLjU2LCAtMTE3LjIxXSwgWzM2LjIxLCAtMTE1LjIyXSwgWzMwLjQ0LCAtODcuMTldLCBbNDIuNjQsIC03MS4zMl0sIFszNC4xOCwgLTExOC4yNV0sIFszMy40MiwgLTExMS43NF0sIFs0My42NiwgLTcwLjI4XSwgWzI5Ljc1LCAtOTQuOTddLCBbMzQuNjEsIC0xMTguMDldLCBbMzguNiwgLTEyMS4zOF0sIFszMi4zNSwgLTg2LjI4XSwgWzQxLjc2LCAtNzAuNV0sIFszMy4xMiwgLTExNy4yOV0sIFs0MS45MywgLTcxLjNdLCBbNDAuNjcsIC03My45NF0sIFszOS43NywgLTEwNC44N10sIFszNi43NCwgLTc2LjA0XSwgWzMyLjc5LCAtOTYuNzddLCBbMzcuNzIsIC0xMjEuOTFdLCBbNDAuMjgsIC03Ni44OF0sIFs0Ni4yLCAtMTE5LjE3XSwgWzE5LjcsIC0xNTUuMDldLCBbNDEuNDgsIC04MS44XSwgWzM2LjY4LCAtMTIxLjY0XSwgWzM2LjA0LCAtOTUuNzldLCBbMzguNDQsIC03OC44N10sIFsyNi4yNywgLTgwLjI2XSwgWzM0LjAsIC0xMTcuODFdLCBbMzUuMDcsIC03OC45XSwgWzMzLjgzLCAtMTE4LjM0XSwgWzI3LjcxLCAtOTcuMjldLCBbMzQuMTEsIC0xMTguNDFdLCBbMzcuMDEsIC0xMjEuNThdLCBbNDEuNjgsIC03Mi45NF0sIFs0Ny42MiwgLTEyMi4zNV0sIFs0Mi43MSwgLTg0LjU1XSwgWzQwLjY3LCAtNzMuOTRdLCBbMjYuMTUsIC04MC4zXSwgWzM3LjYsIC0xMjIuMDJdLCBbNDcuMjUsIC0xMjIuNDZdLCBbMzQuMjYsIC0xMTguNzVdLCBbMzMuOSwgLTk4LjUyXSwgWzI5LjU3LCAtOTUuNTRdLCBbNDEuODQsIC04Ny42OF0sIFs0MC40MiwgLTEwNC43NF0sIFszMy42OSwgLTExMi4yNF0sIFs0Mi42NywgLTczLjhdLCBbMzguMjcsIC0xMDQuNjJdLCBbMzUuMiwgLTgwLjgzXSwgWzMyLjM1LCAtODYuMjhdLCBbNDAuNjcsIC03My45NF0sIFs0MC4wMSwgLTc1LjEzXSwgWzQxLjc3LCAtNzEuNDhdLCBbMzguMDIsIC0xMjEuODldLCBbMzAuMzMsIC04MS42Nl0sIFszNi43NCwgLTc2LjA0XSwgWzM3LjUzLCAtNzcuNDddLCBbMzUuOTMsIC03OS4wNF0sIFszMy41OCwgLTEwMS44OF0sIFszOC42LCAtMTIxLjNdLCBbMjkuNzcsIC05NS4zOV0sIFsyNi42NCwgLTgyLjBdLCBbMzAuMzEsIC05Ny43NV0sIFs0MC43OSwgLTc3Ljg2XSwgWzI5LjMsIC05NC44MV0sIFsyNi4wMywgLTgwLjE2XSwgWzM0LjYxLCAtMTE4LjA5XSwgWzM4LjgsIC05MC4zMl0sIFszNi43LCAtNzYuNjRdLCBbMjcuOTksIC04MC42Nl0sIFs0MC40NywgLTc0LjMyXSwgWzQ0Ljk2LCAtOTMuMjddLCBbMzIuNzUsIC05Ny4zNF0sIFszMi40NSwgLTk5Ljc0XSwgWzM3LjM3LCAtMTIxLjk3XSwgWzI5LjQ2LCAtOTguNTFdLCBbNDAuNjcsIC03My45NF0sIFszNy41NiwgLTEyMi4zMV0sIFs0Mi4zMSwgLTgzLjQ4XSwgWzM4LjIyLCAtODUuNzRdLCBbMzQuNjEsIC0xMTguMDldLCBbMzguOTEsIC03Ny4wMl0sIFsyOS40NiwgLTk4LjUxXSwgWzM0LjE1LCAtMTE3Ljg0XSwgWzM0LjAsIC0xMTcuODFdLCBbNDAuNjcsIC03My45NF0sIFs0My41NCwgLTk2LjczXSwgWzI2LjE0LCAtODAuMTRdLCBbMzkuMTcsIC04Ni41Ml0sIFszMi40NSwgLTk5Ljc0XSwgWzI5LjQ2LCAtOTguNTFdLCBbMzQuMTEsIC0xMTguNDFdLCBbMzkuMzgsIC0xMDQuODVdLCBbNDIuNDksIC04My4wM10sIFs0MS44MiwgLTcxLjQyXSwgWzI4LjAyLCAtODIuNV0sIFs0MC42NywgLTczLjk0XSwgWzMyLjU5LCAtODUuNDhdLCBbMzIuMzIsIC05MC4yMV0sIFszMi45MSwgLTgwLjA0XSwgWzQzLjA2LCAtODcuOTddLCBbMzIuMywgLTExMC45Ml0sIFsyNy45NiwgLTgyLjQ4XSwgWzQxLjY4LCAtNzIuOTRdLCBbMzguMjUsIC0xMjIuMDRdLCBbMjkuNDYsIC05OC41MV0sIFs0MC44NiwgLTc0LjQyXSwgWzI1Ljk4LCAtODAuMzNdLCBbMzMuNzQsIC04NC4xNl0sIFszNC4wNywgLTExOC4wM10sIFsyOC41LCAtODEuMzddLCBbNDIuMTgsIC03Mi41N10sIFsyOS40NiwgLTk4LjUxXSwgWzQwLjY3LCAtNzMuOTRdLCBbNDAuNjcsIC03My45NF0sIFszNi41OCwgLTc5LjQxXSwgWzQxLjUzLCAtODguMTJdLCBbNDAuNjcsIC03My45NF0sIFsyNS45MywgLTk3LjQ4XSwgWzMyLjY5LCAtOTcuMTNdLCBbNDEuNjYsIC05MS41NF0sIFszMC4zMSwgLTk3Ljc1XSwgWzI1LjcxLCAtODAuNDFdLCBbMjguNSwgLTgxLjM3XSwgWzM0LjExLCAtMTE4LjQxXSwgWzMyLjgsIC0xMTYuOTZdLCBbMzYuMjEsIC0xMTUuMjJdLCBbMzMuOTUsIC04My4zOV0sIFs0MC43MiwgLTc0LjIzXSwgWzQwLjIsIC04NS4zOV0sIFszMy43OCwgLTExNy45Nl0sIFszMy41MywgLTg2LjhdLCBbMzAuMDcsIC04OS45M10sIFszNS4xMSwgLTkwLjAxXSwgWzMzLjg2LCAtODQuMzNdLCBbMzMuOTIsIC0xMTguMl0sIFsyOS43NywgLTk1LjM5XSwgWzM3LjQsIC0xMjIuMDhdLCBbMzMuOTEsIC0xMTguMDhdLCBbNDAuOTEsIC03NC4xNl0sIFszMC4zMywgLTgxLjY2XSwgWzM0LjE0LCAtMTE3LjI5XSwgWzM4LjIyLCAtODUuNzRdLCBbMzUuMTEsIC05MC4wMV0sIFs0Ni41OSwgLTEyMC41M10sIFszOC43OCwgLTkwLjYxXSwgWzM3LjkzLCAtMTIxLjcxXSwgWzQyLjUyLCAtNzEuNzddLCBbNDIuNTksIC04Mi45Ml0sIFs0MS4wOSwgLTczLjQyXSwgWzMzLjgzLCAtMTE4LjM0XSwgWzM0LjA2LCAtMTE3Ljc2XSwgWzQyLjg5LCAtNzguODZdLCBbNDAuNjcsIC03My45NF0sIFs0MS44NCwgLTg3LjY4XSwgWzI2LjI3LCAtODAuMjZdLCBbMzQuMSwgLTExNy40Nl0sIFsyNi4xMywgLTgwLjI2XSwgWzI2LjE0LCAtODAuMTRdLCBbNDIuMzIsIC04My4zOF0sIFszMy4xNCwgLTExNy4wN10sIFs0MC42NywgLTczLjk0XSwgWzQ1LjExLCAtOTMuMzVdLCBbMzQuMDYsIC0xMTcuNzZdLCBbNDAuMjgsIC03Ni44OF0sIFszOS43MSwgLTEwNC43M10sIFs0Ny42MiwgLTEyMi4zNV0sIFs0MC44MiwgLTk2LjY5XSwgWzM1LjYzLCAtODguODNdLCBbMzMuODEsIC0xMTcuODJdLCBbMzguMjIsIC04NS43NF0sIFs0NS40OSwgLTEyMi44N10sIFs0MC40MiwgLTEwNC43NF0sIFs0MC43OCwgLTExMS45M10sIFsyNy43NiwgMzAuMzFdLCBbMzMuNjIsIC0xMTIuMjhdLCBbMzAuMzMsIC04MS42Nl0sIFs0MS4xMywgLTczLjI2XSwgWzMyLjUxLCAtODQuODddLCBbMzYuNzUsIC0xMDguMTldLCBbMzguODksIC05NC44MV0sIFszMi42OSwgLTk3LjAyXSwgWzM1LjQ3LCAtOTcuNTFdLCBbNDUuNjMsIC0xMjIuNjRdLCBbMjkuOTksIC05MC4yNV0sIFszNi43NCwgLTc2LjA0XSwgWzQ0LjI3LCAtODguNF0sIFszMy45LCAtMTE4LjAxXSwgWzM0LjYxLCAtMTE4LjA5XSwgWzQzLjU4LCAtMTE2LjU2XSwgWzM1LjU3LCAtODIuNTVdLCBbMzMuNjksIC0xMTIuMjRdLCBbMzIuODYsIC05Ny4yMl0sIFszMy4xNCwgLTExNy4xN10sIFs0MS4yNiwgLTk2LjAxXSwgWzI2LjYzLCAtODEuODVdLCBbMjcuNzEsIC05Ny4yOV0sIFs0MC42NywgLTczLjk0XSwgWzQ3LjI1LCAtMTIyLjQ2XSwgWzQxLjg0LCAtODcuNjhdLCBbMzIuNjksIC05Ny4xM10sIFszNy45MywgLTEyMS43MV0sIFs0MS43NiwgLTg4LjE1XSwgWzQ0LjI3LCAtODguNF0sIFs0MS4xLCAtNzMuNTVdLCBbMzQuMTMsIC0xMTguMDRdLCBbNDAuNDIsIC0xMDQuNzRdLCBbMzMuNzMsIC0xMTYuMzhdLCBbNDEuNjYsIC05MS41NF0sIFs0MC42NywgLTczLjk0XSwgWzMzLjAzLCAtOTcuMDldLCBbMjkuMTEsIC04MS4wMV0sIFszMi4yLCAtMTEwLjg5XSwgWzMzLjIsIC05Ni42NV0sIFszNi4xNywgLTg2Ljc4XSwgWzQwLjcyLCAtNzQuMjNdLCBbNDAuNjcsIC03My45NF0sIFszOC43OCwgLTc3LjI3XSwgWzMzLjU2LCAtMTE3LjIxXSwgWzI5Ljc3LCAtOTUuMzldLCBbNDAuNDIsIC0xMDQuNzRdLCBbMzMuMTIsIC0xMTcuMjldLCBbMzYuMjEsIC0xMTUuMjJdLCBbMzQuMSwgLTExNy40Nl0sIFs0MS42NiwgLTkxLjU0XSwgWzM3LjY5LCAtMTIxLjc2XSwgWzM3LjAxLCAtMTIxLjU4XSwgWzMxLjg1LCAtMTA2LjQ0XSwgWzI5LjQ2LCAtOTguNTFdLCBbMzAuODUsIC04My4yOF0sIFs0Mi45OCwgLTc4Ljg4XSwgWzQyLjQyLCAtNzAuOTldLCBbNDAuMTcsIC0xMDUuMTFdLCBbMjUuODYsIC04MC4zXSwgWzQxLjA4LCAtODEuNTJdLCBbNDAuNjcsIC03My45NF0sIFs0MC42NywgLTczLjk0XSwgWzQwLjY3LCAtNzMuOTRdLCBbNDAuNjcsIC03My45NF0sIFszOS44NSwgLTg4LjkzXSwgWzMzLjg0LCAtMTE3Ljg3XSwgWzIxLjMyLCAtMTU3LjhdLCBbMjYuMTgsIC05OC4xOV0sIFszMy4yMywgLTExNy4zMV0sIFs0Mi41MiwgLTcxLjc3XSwgWzQxLjk5LCAtNzAuOTddLCBbNDAuNjcsIC03My45NF0sIFszNy4wOCwgLTExMy41OF0sIFsyOC4wOSwgLTgyLjc2XSwgWzQ2Ljg4LCAtOTYuODJdLCBbNDAuNjcsIC03My45NF0sIFszMy41LCAtMTE3LjEzXSwgWzI5LjQ2LCAtOTguNTFdLCBbMzAuMCwgLTkwLjE4XSwgWzMwLjMxLCAtOTcuNzVdLCBbMzUuNjMsIC04OC44M10sIFs0Mi43NSwgLTcxLjQ5XSwgWzM1Ljk2LCAtNzcuODFdLCBbMzMuNzksIC0xMTguMTZdLCBbMzQuMTksIC0xMTguODddLCBbMzQuNzksIC05Mi4yNl0sIFsyOC41OSwgLTgwLjgyXSwgWzM3LjM3LCAtMTIxLjk3XSwgWzQ1LjUzLCAtMTIyLjk0XSwgWzQwLjY3LCAtNzMuOTRdLCBbMzIuNzksIC05Ni43N10sIFszMC4zMywgLTgxLjY2XSwgWzQzLjA4LCAtODkuMzldLCBbMzQuMTEsIC0xMTguNDFdLCBbMzUuNzgsIC03OC44XSwgWzI5LjY3LCAtODIuMzRdLCBbMzIuNjMsIC0xMTcuMDRdLCBbNDAuNjcsIC03My45NF0sIFszNi4xNywgLTg2Ljc4XSwgWzMzLjk0LCAtMTE4LjE5XSwgWzM3LjMsIC0xMjEuODVdLCBbNDQuMjcsIC04OC40XSwgWzQwLjg2LCAtNzQuNDJdLCBbMzIuNjMsIC0xMTcuMDRdLCBbNDAuNjcsIC03My45NF0sIFszMy42NiwgLTExNy44XSwgWzQwLjY3LCAtNzMuOTRdLCBbMjYuNTMsIC04MC4wOF0sIFszNy41LCAtMTIwLjg1XSwgWzM5Ljk5LCAtODIuOTldLCBbMzIuMDMsIC0xMDIuMV0sIFszMy44NywgLTExNy41N10sIFszMC4wLCAtOTAuMThdLCBbMjUuNzgsIC04MC4yMV0sIFszOC41NywgLTEyMS40N10sIFs0MC42NywgLTczLjk0XSwgWzQxLjA4LCAtODEuNTJdLCBbMzQuMCwgLTExNy44MV0sIFszMy4wNCwgLTk2Ljk4XSwgWzQwLjY3LCAtNzMuOTRdLCBbMzguNzgsIC05MC43MV0sIFs0MC42NywgLTczLjk0XSwgWzI2LjE1LCAtODAuM10sIFszOC42MywgLTEyMS4zMl0sIFs0Mi41NiwgLTcwLjg0XSwgWzM4LjY5LCAtMTIxLjI5XSwgWzQxLjMxLCAtODEuODNdLCBbMzguMDQsIC04NC40Nl0sIFsyNi4yNywgLTgwLjI2XSwgWzMyLjQ1LCAtOTkuNzRdLCBbNDcuMjUsIC0xMjIuNDZdLCBbNDAuNjcsIC03My45NF0sIFs0MC42NywgLTczLjk0XSwgWzM5LjMzLCAtODQuNTRdLCBbMjkuNzcsIC05NS4zOV0sIFs0NC45NiwgLTkzLjI3XSwgWzQyLjQ1LCAtNzMuMjZdLCBbMzIuNzcsIC05Ni42XSwgWzI2LjAxLCAtODAuMzRdLCBbNDAuNjcsIC03My45NF0sIFszMy42NiwgLTExMi40N10sIFszOS4wMSwgLTc3LjAyXSwgWzQxLjc3LCAtNzIuNjhdLCBbMzkuNTQsIC0xMTkuODJdLCBbNDEuMjUsIC03NS44OF0sIFs0My4xLCAtNzUuMjNdLCBbNDAuNTIsIC03NC4yN10sIFs0MC44NiwgLTc0LjE2XSwgWzQyLjM4LCAtODMuMV0sIFszMS44NSwgLTEwNi40NF0sIFszMy43OSwgLTExOC4xNl0sIFs0Mi41MSwgLTgyLjk0XSwgWzMzLjE0LCAtMTE3LjA3XSwgWzQ0Ljk2LCAtOTMuMjddLCBbMzMuNzksIC0xMTguMTZdLCBbMzUuNDcsIC05Ny41MV0sIFsyNi4zMSwgLTgwLjEyXSwgWzI5Ljc3LCAtOTUuMzldLCBbMjcuOTYsIC04Mi40OF0sIFs0Mi40OCwgLTgzLjQ5XSwgWzI5Ljc3LCAtOTUuMzldLCBbMzIuNjMsIC0xMTcuMDRdLCBbMzkuOTQsIC0xMDUuMDZdLCBbNDMuMjMsIC04Ni4yNl0sIFs0MC42NywgLTczLjk0XSwgWzMzLjc2LCAtODQuNDJdLCBbMzMuMzgsIC04Ni44Ml0sIFs0MC43MSwgLTc0LjA2XSwgWzQwLjY3LCAtNzMuOTRdLCBbMzQuMDEsIC0xMTcuNjldLCBbMzUuNDcsIC05Ny41MV0sIFs0NC45MiwgLTEyMy4wMl0sIFs0MC43NywgLTc0LjIxXSwgWzQ0LjgzLCAtOTMuMzJdLCBbNDcuNjcsIC0xMTcuNDFdLCBbMjkuNzcsIC05NS4zOV0sIFs0MC42NywgLTczLjk0XSwgWzQyLjM4LCAtODMuMV0sIFszNS42MywgLTg4LjgzXSwgWzM3Ljc3LCAtMTIyLjIyXSwgWzMyLjY5LCAtOTcuMDJdLCBbNDAuNjcsIC03My45NF0sIFszNC4xMSwgLTExOC40MV0sIFszMi43NywgLTExNy4wMl0sIFszNS40NywgLTk3LjUxXSwgWzQyLjY1LCAtODMuMjldLCBbMzAuNDQsIC04Ny4xOV0sIFs0MC44OSwgLTc0LjA1XSwgWzM0LjExLCAtMTE4LjQxXSwgWzI2LjA4LCAtODAuMjldLCBbNDAuNjMsIC03NC4yNF0sIFszOS4wNCwgLTk1LjY5XSwgWzM3LjYzLCAtMTIyLjFdLCBbNDIuNzEsIC04NC41NV0sIFsyOS43NywgLTk1LjM5XSwgWzI5LjQ2LCAtOTguNTFdLCBbMzIuMDMsIC0xMDIuMV0sIFs0MC42NywgLTczLjk0XSwgWzQyLjM0LCAtNzEuMDJdLCBbMjkuNDYsIC05OC41MV0sIFszNi4yMSwgLTExNS4yMl0sIFsyNy45MywgLTgyLjI5XSwgWzQwLjY3LCAtNzMuOTRdLCBbMzMuNzMsIC0xMTYuMzhdLCBbMzYuNjgsIC0xMjEuNjRdLCBbMzkuNzgsIC04NC4yXSwgWzQwLjc5LCAtNzQuMDNdLCBbNDEuNjgsIC04Ni4yN10sIFszMi44LCAtMTE2Ljk2XSwgWzQxLjg0LCAtODcuNjhdLCBbMjkuNDEsIC05NC45Nl0sIFszOS45LCAtNzUuMF0sIFs0MS44NCwgLTg3LjY4XSwgWzMyLjIsIC0xMTAuODldLCBbNDAuNjcsIC03My45NF0sIFs0MC42NywgLTczLjk0XSwgWzI5LjY2LCAtOTUuMTVdLCBbMzQuMTEsIC0xMTcuMzldLCBbNDcuNTUsIC0xMjIuN10sIFs0MC42NywgLTczLjk0XSwgWzQwLjc4LCAtMTExLjkzXSwgWzQyLjUsIC05MC42OV0sIFs0My4wNCwgLTc2LjE0XSwgWzM3LjMsIC0xMjEuODVdLCBbMzMuNzksIC0xMTguMTZdLCBbMjcuNzEsIC05Ny4yOV0sIFs0MS44NCwgLTg3LjY4XSwgWzQ3LjY3LCAtMTE3LjQxXSwgWzMwLjM5LCAtODkuMDddLCBbNjEuMTgsIC0xNDkuMTldLCBbMzAuMzEsIC05Ny43NV0sIFszNi43OCwgLTExOS43OV0sIFszOS43OCwgLTg2LjE1XSwgWzQzLjE3LCAtNzcuNjJdLCBbMzMuODQsIC0xMTcuODddLCBbNDIuNjcsIC03My44XSwgWzMzLjMzLCAtMTExLjc2XSwgWzQwLjAzLCAtMTA1LjI1XSwgWzM2LjY4LCAtMTIxLjY0XSwgWzQyLjk2LCAtODUuNjZdLCBbNDIuNDcsIC03MC45Nl0sIFszMy44MSwgLTExNy44Ml0sIFs0NS40OSwgLTEyMi44N10sIFszMy42NiwgLTExMi40N10sIFszMi4wMiwgLTgxLjEzXSwgWzQyLjMxLCAtODMuMjFdLCBbNDIuMzgsIC04My4xXSwgWzMzLjQyLCAtMTExLjc0XSwgWzQxLjMxLCAtNzIuOTJdLCBbMzMuNjksIC0xMTguMDFdLCBbNDAuNjUsIC03My41OF0sIFszMC4zMywgLTgxLjY2XSwgWzQ2Ljg4LCAtOTYuODJdLCBbMzUuOTgsIC03OC45MV0sIFszNS4zMywgLTk3LjQ3XSwgWzM0LjYxLCAtMTE4LjA5XSwgWzM4LjI3LCAtMTA0LjYyXSwgWzI5LjQ2LCAtOTguNTFdLCBbMzIuMiwgLTExMC44OV0sIFs0NS41MywgLTEyMi45NF0sIFsyNi4xNSwgLTgwLjNdLCBbMzIuNDcsIC05My44XSwgWzI3Ljk2LCAtODIuNDhdLCBbMzUuMTEsIC05MC4wMV0sIFs0MC42NywgLTczLjk0XSwgWzM1LjE5LCAtMTExLjYyXSwgWzQwLjY3LCAtNzMuOTRdLCBbMzYuMzMsIC0xMTkuNjVdLCBbMzAuMzMsIC04MS42Nl0sIFsyNi4xNSwgLTgwLjNdLCBbMzcuNzcsIC0xMjIuMjJdLCBbMzcuNiwgLTEyMi4wMl0sIFszNC4yLCAtMTE5LjIxXSwgWzQyLjg5LCAtNzguODZdLCBbMjYuMzcsIC04MC4xMV0sIFszMS4xLCAtOTcuMzZdLCBbMzYuOTIsIC03Ni4yNF0sIFszNS42MywgLTg4LjgzXSwgWzI5LjE5LCAtODEuMDVdLCBbMzkuNTEsIC0xMDQuNzZdLCBbNDAuODksIC03NC4wNV0sIFsyOC45MSwgLTgxLjIxXSwgWzMzLjc4LCAtMTE3Ljk2XSwgWzQ3LjMxLCAtMTIyLjM0XSwgWzM5LjgyLCAtMTA1LjExXSwgWzI5Ljc3LCAtOTUuMzldLCBbNDAuNywgLTczLjYyXSwgWzQwLjc3LCAtNzMuOThdLCBbMzMuNjksIC0xMTEuODddLCBbMzAuMzMsIC04MS42Nl0sIFszOC43NiwgLTEyMS4yOV0sIFs0MS42NiwgLTgzLjU4XSwgWzQ1LjUzLCAtMTIyLjk0XSwgWzQzLjE3LCAtNzcuNjJdLCBbMzQuNjYsIC0xMjAuNDddLCBbNDUuNzksIC0xMDguNTRdLCBbMzMuOTQsIC0xMTcuNF0sIFszNC4wNiwgLTExNy4zMl0sIFszMC4zMywgLTgxLjY2XSwgWzM5LjU0LCAtMTE5LjgyXSwgWzI5Ljc3LCAtOTUuMzldLCBbMjkuOTksIC05MC4yNV0sIFs0NS4wMiwgLTkzLjQ2XSwgWzM5Ljc4LCAtODYuMTVdLCBbNDIuMTIsIC03Mi41NF0sIFsyOS45OSwgLTkwLjI1XSwgWzM5LjU0LCAtMTE5LjgyXSwgWzQwLjY3LCAtNzMuOTRdLCBbMzQuNjksIC0xMTguMThdLCBbNDUuNTMsIC0xMjIuOTRdLCBbMzUuMzMsIC05Ny40N10sIFsyNi4wMywgLTgwLjE2XSwgWzQ0LjA1LCAtMTIzLjExXSwgWzM2LjIxLCAtMTE1LjIyXSwgWzI1LjkzLCAtOTcuNDhdLCBbNDAuOTUsIC03My44N10sIFszOS43OCwgLTg0LjJdLCBbNDEuODksIC04Ny43OV0sIFs0MC42NywgLTczLjk0XSwgWzQwLjc4LCAtMTExLjkzXSwgWzM5Ljk3LCAtODYuMTFdLCBbNDIuMjYsIC03MS4wMV0sIFszNy4zLCAtMTIxLjg1XSwgWzMzLjY5LCAtMTEyLjI0XSwgWzM2LjAzLCAtMTE1LjBdLCBbMzMuMywgLTExMS44N10sIFs0MC42NywgLTczLjk0XSwgWzMwLjMzLCAtODEuNjZdLCBbMzIuNzUsIC05Ny4zNF0sIFszMC40NSwgLTkxLjEzXSwgWzQwLjY3LCAtNzMuOTRdLCBbMzUuMTEsIC05MC4wMV0sIFszNS43OCwgLTc4LjhdLCBbNDMuMDYsIC04Ny45N10sIFs0MS4yNiwgLTk2LjAxXSwgWzQyLjA1LCAtODcuNjldLCBbNDQuODIsIC05MS40OV0sIFs0MS43NiwgLTg4LjE1XSwgWzMzLjc5LCAtMTE4LjE2XSwgWzM1LjgyLCAtOTAuNjldLCBbNDEuODIsIC03MS40Ml0sIFszOS4wMiwgLTk0LjI3XSwgWzMzLjQyLCAtMTExLjc0XSwgWzQxLjcsIC04OC4wOF0sIFsyNy43NiwgLTgyLjY0XSwgWzM0LjIsIC0xMTkuMjFdLCBbNjEuMTgsIC0xNDkuMTldLCBbMzcuOTgsIC04Ny41NF0sIFszNy41MywgLTc3LjQ3XSwgWzQ3LjI1LCAtMTIyLjQ2XSwgWzQyLjM0LCAtMTIyLjg1XSwgWzQ0LjA4LCAtMTAzLjIzXSwgWzMyLjUyLCAtOTMuNjZdLCBbNDIuNywgLTcxLjE2XSwgWzI5Ljc3LCAtOTUuMzldLCBbMzcuNTMsIC03Ny40N10sIFs0MC42NywgLTczLjk0XSwgWzM0LjExLCAtMTE4LjQxXSwgWzQwLjY3LCAtNzMuOTRdLCBbMzUuNDcsIC05Ny41MV0sIFs0Mi40NywgLTcwLjk2XSwgWzQ0Ljg5LCAtOTMuMzZdLCBbMzIuMiwgLTExMC44OV0sIFs2MS4xOCwgLTE0OS4xOV0sIFszMC4zMSwgLTk3Ljc1XSwgWzM2Ljc0LCAtNzYuMDRdLCBbNDEuODQsIC04Ny42OF0sIFszNC4wNywgLTExOC4wM10sIFszNC4xMSwgLTExOC40MV0sIFs0NS40MywgLTEyMi43N10sIFsyNi4xNCwgLTgwLjE0XSwgWzQyLjg5LCAtNzguODZdLCBbMzQuMiwgLTExOS4yMV0sIFszNS44MiwgLTc4LjY2XSwgWzMzLjc0LCAtMTE3Ljg4XSwgWzMyLjc1LCAtOTcuMzRdLCBbMzQuNjEsIC0xMTguMDldLCBbNDEuNDgsIC04MS42OF0sIFsyOS40NiwgLTk4LjUxXSwgWzQxLjcyLCAtODcuNzVdLCBbMzMuODMsIC0xMTguMzRdLCBbMzYuMDgsIC03OS44M10sIFszMy4xNCwgLTExNy4wN10sIFs0MC42NywgLTczLjk0XSwgWzM4LjYsIC0xMjEuM10sIFsyNi43NSwgLTgwLjEzXSwgWzQwLjY3LCAtNzMuOTRdLCBbMzkuNTQsIC0xMTkuODJdLCBbNDIuMzgsIC03MS4xMl0sIFs0MC42NywgLTczLjk0XSwgWzQwLjYsIC03NS40OF0sIFs0MC40OCwgLTg4Ljk3XSwgWzQwLjY3LCAtNzMuOTRdLCBbNDAuNjcsIC03My45NF0sIFszMi42LCAtOTYuODZdLCBbMzkuNzUsIC0xMjEuODFdLCBbMzUuMDcsIC03OC45XSwgWzQxLjQ4LCAtODEuNjhdLCBbNDcuNSwgLTExMS4yOV0sIFs0MS44NCwgLTg3LjY4XSwgWzMyLjUyLCAtOTQuNzZdLCBbMjYuNjYsIC04MC4yNV0sIFs0NC45NiwgLTkzLjI3XSwgWzMxLjg3LCAtMTAyLjM1XSwgWzQwLjY3LCAtNzMuOTRdLCBbNDEuOSwgLTg3Ljk0XSwgWzI5Ljc3LCAtOTUuMzldLCBbMzUuMiwgLTgwLjgzXSwgWzQxLjg0LCAtODcuNjhdLCBbMzQuMTEsIC0xMTcuMzldLCBbMzMuNTMsIC04Ni44XSwgWzM0LjE0LCAtMTE3LjkxXSwgWzQyLjY1LCAtODMuMjldLCBbNDIuMDUsIC04Ny42OV0sIFszMi43NSwgLTk3LjM0XSwgWzI2LjY0LCAtODIuMF0sIFs0MC43MiwgLTc0LjIzXSwgWzM0LjAxLCAtMTE4LjQ5XSwgWzMzLjgxLCAtMTE3LjgyXSwgWzM4LjA0LCAtODQuNDZdLCBbMzIuODYsIC05Ni45N10sIFszNC42MSwgLTExOC4wOV0sIFs0NS41LCAtMTIyLjQ0XSwgWzM5LjE4LCAtNzcuMjZdLCBbMjkuNzcsIC05NS4zOV0sIFszNS44MiwgLTc4LjY2XSwgWzQwLjAxLCAtNzUuMTNdLCBbMjkuNzcsIC05NS4zOV0sIFs0Mi40NSwgLTczLjI2XSwgWzMyLjU4LCAtOTYuOTZdLCBbMzYuMDgsIC0xMTUuMTNdLCBbMzAuMzEsIC05Ny43NV0sIFs0MC44MiwgLTk2LjY5XSwgWzQyLjQ3LCAtNzAuOTZdLCBbNDAuMTcsIC0xMDUuMTFdLCBbNDMuMDYsIC04Ny45N10sIFszMy45NCwgLTExNy40XSwgWzI2LjE0LCAtODAuMTRdLCBbMzMuNzYsIC04NC40Ml0sIFs0MC42NywgLTczLjk0XSwgWzM3LjcyLCAtMTIxLjkxXSwgWzMyLjc3LCAtOTYuNl0sIFszMi41OCwgLTk2Ljk2XSwgWzMyLjIsIC0xMTAuODldLCBbNDAuNjcsIC03My45NF0sIFsyOC41OCwgLTgxLjQ2XSwgWzM0LjE4LCAtMTE4LjI1XSwgWzMzLjU2LCAtMTE3LjIxXSwgWzM2LjIxLCAtMTE1LjIyXSwgWzQxLjg0LCAtODcuNjhdLCBbMzguODksIC05NC44MV0sIFsyOS41NywgLTk1LjU0XSwgWzMzLjU4LCAtMTEyLjJdLCBbMzYuMDgsIC0xMTUuMTNdLCBbMzguMDQsIC04NC40Nl0sIFszMy41OCwgLTExMi4yXSwgWzQyLjQ5LCAtODMuMDNdLCBbNDIuMjgsIC04My43M10sIFszOS42MiwgLTg2LjExXSwgWzMyLjg1LCAtOTcuMDhdLCBbMzcuNTMsIC03Ny40N10sIFs0MC44MiwgLTk2LjY5XSwgWzMzLjgzLCAtMTE4LjM0XSwgWzMyLjAyLCAtODEuMTNdLCBbMzMuNDIsIC0xMTEuNzRdLCBbMzguMDIsIC0xMjEuODldLCBbMzYuMTcsIC04Ni43OF0sIFszMy4xMiwgLTExNy4yOV0sIFs0My4wMiwgLTgzLjY5XSwgWzMzLjAzLCAtOTcuMDldLCBbMzcuNzcsIC0xMjIuMjJdLCBbMzkuNTQsIC0xMTkuNzRdLCBbNDIuNzgsIC03MS4wOV0sIFsyOS45OSwgLTkwLjI1XSwgWzI5Ljc3LCAtOTUuMzldLCBbMzguODksIC0xMjEuM10sIFs0MC42NywgLTczLjk0XSwgWzM2LjEsIC04MC4yNl0sIFszMy44NCwgLTExNy44N10sIFszOS41MSwgLTEwNC43Nl0sIFszMy45MiwgLTExOC4yXSwgWzQxLjY2LCAtNzAuOTRdLCBbMzAuMzMsIC04MS42Nl0sIFszMy42MSwgLTExNy42NV0sIFs0Ny42MiwgLTEyMi4zNV0sIFs0MC42NywgLTczLjk0XSwgWzM0LjE5LCAtMTE4Ljg3XSwgWzQwLjAzLCAtMTA1LjI1XSwgWzQxLjc3LCAtNzIuNjhdLCBbNDcuOTIsIC05Ny4wN10sIFs0My4wNiwgLTg3Ljk3XSwgWzI5LjQ2LCAtOTguNTFdLCBbMzMuOTcsIC0xMTcuNzVdLCBbNDIuNjYsIC04My4zOV0sIFszMy45NCwgLTExNy40XSwgWzM2LjY4LCAtNzYuMzFdLCBbMzMuNzYsIC04NC40Ml0sIFs0MC42NywgLTczLjk0XSwgWzMxLjg1LCAtMTA2LjQ0XSwgWzQyLjQ4LCAtODMuNDldLCBbNDMuMTcsIC03Ny42Ml0sIFszOC4yMiwgLTg1Ljc0XSwgWzMzLjkzLCAtMTE3LjIxXSwgWzQwLjY1LCAtMTExLjg5XSwgWzMyLjAyLCAtODEuMTNdLCBbNDAuNjYsIC0xMTEuOTRdLCBbMzcuMywgLTEyMS44NV0sIFszMi43OSwgLTk2Ljc3XSwgWzM5Ljc4LCAtODYuMTVdLCBbMjguNDgsIC04Mi41Nl0sIFszOS43OCwgLTg2LjE1XSwgWzQyLjY4LCAtODkuMDJdLCBbMjkuNDYsIC05OC41MV0sIFs0My40MiwgLTgzLjk1XSwgWzQ0Ljk2LCAtOTMuMjddLCBbNDAuNjcsIC03My45NF0sIFs0MC4wNywgLTgyLjQyXSwgWzI5Ljc3LCAtOTUuMzldLCBbNDIuMzQsIC03MS4wMl0sIFszMy4zNywgLTEwNC41M10sIFszMy41MywgLTg2LjhdLCBbMzkuNzgsIC04Ni4xNV0sIFszNy4zLCAtMTIxLjg1XSwgWzQwLjUzLCAtNzQuMzddLCBbNDUuMTcsIC05My4yMV0sIFszOC4zNSwgLTgxLjYzXSwgWzMzLjMzLCAtMTExLjc2XSwgWzMzLjgxLCAtMTE3LjgyXSwgWzQwLjY3LCAtNzMuOTRdLCBbMzUuNDcsIC05Ny41MV0sIFszMi41MiwgLTk0Ljc2XSwgWzMzLjUzLCAtODYuOF0sIFszNS4yLCAtODAuODNdLCBbMzYuNTgsIC03OS40MV0sIFszOC42LCAtMTIxLjM4XSwgWzM0LjA2LCAtMTE3Ljc2XSwgWzQxLjQ4LCAtODEuNjhdLCBbNDAuNjcsIC03My45NF0sIFszOS43OCwgLTg2LjE1XSwgWzQwLjIsIC04NS4zOV0sIFszNy43NywgLTEyMi4yMl0sIFszMi4yLCAtMTEwLjg5XSwgWzM0LjExLCAtMTE4LjQxXSwgWzI4LjQ4LCAtODIuNTZdLCBbMzQuMTEsIC0xMTguNDFdLCBbMzQuMTQsIC0xMTcuOTFdLCBbNDAuNzksIC03NC4yNl0sIFszNi4yMSwgLTExNS4yMl0sIFszOS42MiwgLTg2LjExXSwgWzM5Ljc4LCAtODYuMTVdLCBbNDAuNjcsIC03My45NF0sIFszMi42MywgLTExNy4wNF0sIFszOS43NSwgLTEyMS44MV0sIFs0MC42NywgLTczLjk0XSwgWzM5LjAxLCAtNzcuNDNdLCBbMzMuNDIsIC0xMTEuNzRdLCBbMzcuMywgLTEyMS44NV0sIFs0Mi4yNywgLTcxLjgxXSwgWzM1LjM3LCAtOTQuMzhdLCBbMzUuNDcsIC05Ny41MV0sIFs0Ni44OCwgLTk2LjgyXSwgWzMyLjIsIC0xMTAuODldLCBbNDAuNjcsIC03My45NF0sIFszMi40NywgLTkzLjhdLCBbMjYuMzEsIC04MC4xMl0sIFszMi40NSwgLTk5Ljc0XSwgWzM1LjA5LCAtOTIuNDVdLCBbMzUuMTEsIC05MC4wMV0sIFszNS4yLCAtODAuODNdLCBbNDAuNjcsIC03My45NF0sIFszNC4xMSwgLTExOC40MV0sIFs0MC4wNywgLTgyLjQyXSwgWzMwLjMzLCAtODEuNjZdLCBbNDAuNDIsIC0xMDQuNzRdLCBbMzUuMiwgLTEwMS44Ml0sIFs0My4xNywgLTc3LjYyXSwgWzI2Ljg0LCAtODAuMTJdLCBbNDAuNjcsIC03My45NF0sIFszNS4yLCAtODAuODNdLCBbNDIuNDgsIC04My40OV0sIFs0MC42NywgLTczLjk0XSwgWzM3Ljk4LCAtODcuNTRdLCBbMzEuMjksIC05Mi40Nl0sIFszNi4xNywgLTg2Ljc4XSwgWzQwLjcyLCAtNzQuMjNdLCBbMzMuNzksIC0xMTguMTZdLCBbNDIuNDcsIC03MC45Nl0sIFszMy43NCwgLTExNy44OF0sIFs0Mi40NywgLTcwLjk2XSwgWzMyLjUyLCAtOTMuNjZdLCBbMzUuNzYsIC0xMTkuMjVdLCBbNDEuODQsIC04Ny42OF0sIFs0Mi45NiwgLTg1LjY2XSwgWzM0LjAxLCAtMTE4LjRdLCBbMjUuNzcsIC04MC4zNV0sIFszMC41MiwgLTk3LjY3XSwgWzMzLjc0LCAtMTE3Ljg4XSwgWzI5Ljc3LCAtOTUuMzldLCBbMzMuNDUsIC0xMTcuNjFdLCBbNDIuMzgsIC04My4xXSwgWzQwLjY3LCAtNzMuOTRdLCBbNDEuODQsIC04Ny42OF0sIFszMy4yMywgLTExNy4zMV0sIFszNC4xMSwgLTExOC40MV0sIFsyNy45NiwgLTgyLjQ4XSwgWzQwLjY3LCAtNzMuOTRdLCBbMzcuMywgLTEyMS44NV0sIFszNi4zMywgLTk0LjEzXSwgWzQ1LjYzLCAtMTIyLjY0XSwgWzM1LjIsIC04MC44M10sIFs0Mi4wOCwgLTcxLjAzXSwgWzM4LjgyLCAtNzcuMDldLCBbMzMuNiwgLTExMi4zMl0sIFszNy42LCAtMTIyLjAyXSwgWzQ3LjI1LCAtMTIyLjQ2XSwgWzM5LjAzLCAtNzcuMl0sIFsyOS40NiwgLTk4LjUxXSwgWzM4LjY0LCAtOTAuMjRdLCBbMjkuNzcsIC05NS4zOV0sIFszOC41NywgLTEyMS40N10sIFsyNy43NiwgMzAuMzFdLCBbMzkuOTksIC04Mi45OV0sIFs0MS44NCwgLTg3LjY4XSwgWzM4LjA5LCAtMTIyLjU2XSwgWzQ3LjYyLCAtMTIyLjM1XSwgWzMyLjc5LCAtOTYuNzddLCBbNDIuNjgsIC04OS4wMl0sIFs0MS4wNywgLTg1LjE0XSwgWzQwLjY3LCAtNzMuOTRdLCBbNDAuMDEsIC03NS4xM10sIFszNC4wMSwgLTExOC40OV0sIFszNC4yNiwgLTExOC43NV0sIFs0MS4yMywgLTExMS45N10sIFszMC40NSwgLTkxLjEzXSwgWzM3LjMsIC0xMjEuODVdLCBbMzcuODEsIC0xMjEuOTddLCBbNDAuMDEsIC03NS4xM10sIFs0MS44NCwgLTg3LjY4XSwgWzM3Ljc3LCAtMTIyLjIyXSwgWzMzLjUsIC0xMTcuMTNdLCBbNDAuNjcsIC03My45NF0sIFs0MS44NCwgLTg3LjY4XSwgWzMyLjM1LCAtODYuMjhdLCBbNDcuNjIsIC0xMjIuMzVdLCBbMjYuMDEsIC04MC4zNF0sIFsyNi42NCwgLTgyLjBdLCBbNDAuMzQsIC03NS45M10sIFszNi4wOCwgLTc5LjgzXSwgWzM2LjMzLCAtOTQuMTNdLCBbNDAuNjcsIC03My45NF0sIFsyOS42MiwgLTk1LjYyXSwgWzQwLjY3LCAtNzMuOTRdLCBbMzQuMDcsIC0xMTguMDhdLCBbNDAuNjcsIC03My45NF0sIFsyOS45OSwgLTkwLjI1XSwgWzQ0LjUyLCAtODcuOTldLCBbMzguODIsIC05Ny42Ml0sIFszMy45MywgLTExNy4yMV0sIFs0MC42NywgLTczLjk0XSwgWzQyLjg0LCAtNzguNzVdLCBbNDAuNjcsIC03My45NF0sIFs0MC42NywgLTczLjk0XSwgWzM4LjIyLCAtODUuNzRdLCBbNDMuNzUsIC04Ny43M10sIFszNy4zNywgLTEyMS45N10sIFs0MS44NCwgLTg3LjY4XSwgWzM2LjEsIC04MC4yNl0sIFs0Mi43MSwgLTg0LjU1XSwgWzQ2LjI1LCAtMTE5LjEzXSwgWzM5Ljg1LCAtODguOTNdLCBbNDAuNjcsIC03My45NF0sIFszMy43NCwgLTExNy44OF0sIFszNy41MywgLTc3LjQ3XSwgWzM2LjcsIC03Ni42NF0sIFs0MC42NywgLTczLjk0XSwgWzQ0Ljk2LCAtOTMuMjddLCBbMzAuMzEsIC05Ny43NV0sIFszNC4xNCwgLTExNy4yOV0sIFszNy43NywgLTEyMi40NV0sIFszMC40NSwgLTkxLjEzXSwgWzM0LjExLCAtMTE4LjQxXSwgWzMyLjIsIC0xMTAuODldLCBbMzAuMDcsIC04OS45M10sIFszNC4xOSwgLTExOC44N10sIFs0MC43OSwgLTc3Ljg2XSwgWzQyLjA5LCAtODcuOThdLCBbMzguOTEsIC05NC42OF0sIFs0Mi4xOCwgLTcyLjU3XSwgWzQxLjc2LCAtODguMTVdLCBbMzMuNzYsIC04NC40Ml0sIFs0MC42NywgLTczLjk0XSwgWzQwLjY3LCAtNzMuOTRdLCBbMzIuODYsIC05Ny4yMl0sIFszNi4yMSwgLTExNS4yMl0sIFszNC4xMSwgLTExOC40MV0sIFszNy4wOCwgLTc2LjUxXSwgWzMwLjAsIC05MC4xOF0sIFszNy41NiwgLTEyMi4zMV0sIFs0NS42MywgLTEyMi42NF0sIFs0MS42NywgLTg2LjE3XSwgWzQwLjAxLCAtNzUuMTNdLCBbMzMuNDIsIC0xMTEuNzRdLCBbNDAuNjcsIC03My45NF0sIFs0MS44NCwgLTg3LjY4XSwgWzQ0Ljk2LCAtOTMuMjddLCBbNDEuODQsIC04Ny42OF0sIFszNy43NywgLTEyMi4yMl0sIFs0MC42NywgLTczLjk0XSwgWzM0LjEyLCAtMTE3LjU3XSwgWzQwLjY3LCAtNzMuOTRdLCBbMzIuMzIsIC05MC4yMV0sIFs0Mi40OSwgLTgyLjg5XSwgWzM4LjM1LCAtODEuNjNdLCBbMzIuOCwgLTExNi45Nl0sIFs0MC4wMSwgLTc1LjEzXSwgWzM2LjE3LCAtODYuNzhdLCBbMzguOTEsIC03Ny4wMl0sIFs0MS44LCAtNzEuMzZdLCBbMzYuMDMsIC0xMTUuMF0sIFszMy41MywgLTg2LjhdLCBbMzMuNzQsIC0xMTcuODhdLCBbMzAuMzEsIC05Ny43NV0sIFs0NC41NywgLTEyMy4yOF0sIFszNy43NywgLTEyMi40NV0sIFsyNi4xNCwgLTgwLjE0XSwgWzM0LjIxLCAtNzcuOTFdLCBbMzAuMDcsIC04OS45M10sIFszMy44OSwgLTExOC4zXSwgWzM3LjMsIC0xMjEuODVdLCBbMzYuMjEsIC0xMTUuMjJdLCBbNDEuMTMsIC03My4yNl0sIFs0MS44NCwgLTg3LjY4XSwgWzM1LjIsIC04MC44M10sIFszOS4wMywgLTc3LjJdLCBbMjkuNDYsIC05OC41MV0sIFszMC4wNywgLTg5LjkzXSwgWzMyLjYxLCAtODMuNjNdLCBbMzMuMDksIC05Ni44OV0sIFsyNS42NywgLTgwLjQ0XSwgWzMwLjMxLCAtOTcuNzVdLCBbMjguOTEsIC04MS4yMV0sIFszMS41NywgLTExMC4zMl0sIFszNC4xMSwgLTExOC40MV0sIFszMi40NywgLTkzLjhdLCBbNDMuMDgsIC04OS4zOV0sIFsyNy45NiwgLTgyLjQ4XSwgWzM5LjA0LCAtOTUuNjldLCBbMzcuNiwgLTEyMi4wMl0sIFszOS43MSwgLTEwNC43M10sIFs0NS40OCwgLTEyMi44Ml0sIFszNC42OSwgLTExOC4xOF0sIFszMy4zMywgLTExMS43Nl0sIFs0NC45NiwgLTkzLjI3XSwgWzM0LjYxLCAtMTE4LjA5XSwgWzI2LjE1LCAtODAuM10sIFszOS41MSwgLTg0LjM3XSwgWzQwLjY3LCAtNzMuOTRdLCBbMzcuNCwgLTEyMi4xNF0sIFs0MC42NywgLTczLjk0XSwgWzQ3LjI1LCAtMTIyLjQ2XSwgWzM1LjgyLCAtNzguNjZdLCBbNDEuODcsIC03MS4zN10sIFszMC40NSwgLTkxLjEzXSwgWzM5LjM5LCAtODQuNTZdLCBbMzcuNzcsIC0xMjIuNDVdLCBbNDAuNjcsIC03My45NF0sIFs0Ni43OCwgLTkyLjEyXSwgWzMzLjk1LCAtODMuMzldLCBbNDAuNjYsIC03NC4xMV0sIFszNC4xNCwgLTExNy45MV0sIFszMC42OCwgLTg4LjA5XSwgWzMwLjIxLCAtOTMuMl0sIFszOS43MywgLTg0LjA2XSwgWzQwLjAxLCAtNzUuMTNdLCBbNDQuOTYsIC05My4yN10sIFs0Mi4wOSwgLTcwLjcxXSwgWzMyLjMyLCAtMTEwLjk5XSwgWzM0LjIsIC0xMTkuMjFdLCBbNDIuMSwgLTc1LjkxXSwgWzQyLjg5LCAtNzguODZdLCBbMzguMDQsIC04NC40Nl0sIFszMy45NCwgLTgwLjM5XSwgWzQwLjY3LCAtNzMuOTRdLCBbMjguNDgsIC04Mi41Nl0sIFsyNi43NSwgLTgwLjEzXSwgWzM5LjE1LCAtMTE5Ljc0XSwgWzM0LjE0LCAtMTE3LjI5XSwgWzM4LjA0LCAtODQuNDZdLCBbMzQuMTEsIC0xMTguNDFdLCBbMzIuNzksIC05Ni43N10sIFszNi43NCwgLTc2LjA0XSwgWzMzLjcxLCAtMTE3Ljk1XSwgWzM1LjgyLCAtNzguNjZdLCBbNDAuNjcsIC03My45NF0sIFs0MC42NywgLTczLjk0XSwgWzM1LjQ3LCAtOTcuNTFdLCBbMjkuNzcsIC05NS4zOV0sIFs0MC4wMSwgLTc1LjEzXSwgWzMyLjk5LCAtMTE3LjAyXSwgWzQxLjI2LCAtOTYuMDFdLCBbMjkuNzcsIC05NS4zOV0sIFszNy42NiwgLTEyMC45OV0sIFszMy45NCwgLTExNy40XSwgWzM1LjY3LCAtOTcuNDFdLCBbMzYuMjEsIC0xMTUuMjJdLCBbMzYuMjEsIC0xMTUuMjJdLCBbNDcuNzUsIC0xMjIuMzZdLCBbMjYuMDgsIC04MC4yOV0sIFs0MC42NywgLTczLjk0XSwgWzQyLjA4LCAtNzEuMDNdLCBbMzkuNzgsIC04Ni4xNV0sIFsyOS40NiwgLTk4LjUxXSwgWzM0LjAsIC0xMTcuODFdLCBbNDAuNjcsIC03My45NF0sIFsyNS45MywgLTk3LjQ4XSwgWzMzLjc4LCAtMTE2LjUzXSwgWzMzLjMsIC0xMTEuODddLCBbMzguMjIsIC04NS43NF0sIFs0MS43NywgLTcyLjY4XSwgWzMxLjU3LCAtMTEwLjMyXSwgWzM1Ljk2LCAtNzcuODFdLCBbMzMuOTcsIC0xMTcuNzVdLCBbMjUuOTMsIC05Ny40OF0sIFs0My40OSwgLTExMi4wM10sIFszMy40MiwgLTExMS43NF0sIFs0MC42LCAtNzUuNDhdLCBbMzAuMzEsIC05Ny43NV0sIFs0MC4wNiwgLTc0LjExXSwgWzQwLjA0LCAtNzYuM10sIFs0MS43MSwgLTcxLjExXSwgWzM3LjY5LCAtMTIyLjQ3XSwgWzMyLjY5LCAtOTcuMDJdLCBbMjYuMTQsIC04MC4xNF0sIFs0MC42NywgLTczLjk0XSwgWzM5Ljk0LCAtMTA1LjA2XSwgWzM0LjE0LCAtMTE3LjkxXSwgWzQyLjY2LCAtODMuMzldLCBbNDAuNjcsIC03My45NF0sIFszOS43OCwgLTg5LjY0XSwgWzM5LjM5LCAtODQuNTZdLCBbNDAuNjcsIC03My45NF0sIFsyNi4xMywgLTgwLjI2XSwgWzQwLjAxLCAtNzUuMTNdLCBbMzMuNDIsIC0xMTIuMzJdLCBbMzcuMywgLTEyMS44NV0sIFs0Mi4zMywgLTgzLjI3XSwgWzQyLjU4LCAtODMuMDNdLCBbMzcuNCwgLTEyMi4wOF0sIFszNi4xMywgLTk1LjkyXSwgWzI5LjQ2LCAtOTguNTFdLCBbMzAuMzEsIC05Ny43NV0sIFszOS41NSwgLTEwNC45N10sIFszNy4zLCAtMTIxLjg1XSwgWzM0LjIyLCAtMTE5LjAzXSwgWzMwLjMxLCAtOTcuNzVdLCBbMzguOCwgLTEyMS4yNF0sIFs0Ny4xNiwgLTEyMi41M10sIFszNC4yLCAtMTE5LjIxXSwgWzQwLjY3LCAtNzMuOTRdLCBbMzkuNzgsIC04Ni4xNV0sIFszMy4yMywgLTExNy4zMV0sIFs0MS41NSwgLTcwLjZdLCBbMzUuMiwgLTEwMS44Ml0sIFs0MC4zLCAtMTExLjddLCBbMzQuMTgsIC0xMTguMjVdLCBbMzUuMDEsIC0xMDYuNjhdLCBbMzQuMDgsIC0xMTcuOTddLCBbMjYuMSwgLTgwLjRdLCBbMzYuMTksIC0xMTUuMDVdLCBbMzMuNjksIC0xMTEuODddLCBbNDAuNjcsIC03My45NF0sIFszMy40MiwgLTExMS43NF0sIFszMi41MiwgLTk0Ljc2XSwgWzM5Ljc4LCAtODQuMl0sIFszNS40NywgLTk3LjUxXSwgWzQwLjA2LCAtNzQuMTFdLCBbMjkuNTcsIC05NS41NF0sIFs0MS41NCwgLTcyLjhdLCBbMzYuODYsIC03Ni4zNl0sIFsyOS40NiwgLTk4LjUxXSwgWzQwLjY3LCAtNzMuOTRdLCBbNDIuNzgsIC03MS4wOV0sIFsyOS43NywgLTk1LjM5XSwgWzI1Ljk4LCAtODAuMzNdLCBbMzMuNzgsIC0xMTcuOTZdLCBbNDIuMzEsIC04My40OF0sIFszMC42OCwgLTg4LjA5XSwgWzM4LjQ1LCAtMTIyLjddLCBbMzYuMTcsIC04Ni43OF0sIFszMi42MywgLTExNy4wNF0sIFszNi41NiwgLTg3LjM1XSwgWzM5Ljc4LCAtODYuMTVdLCBbMzguOTQsIC03Ny4xOF0sIFszMy4xMiwgLTExNy4yOV0sIFsyNi4wOCwgLTgwLjI5XSwgWzQwLjY3LCAtNzMuOTRdLCBbMzIuODQsIC04My42Nl0sIFs0MS4wOSwgLTczLjQyXSwgWzM3LjMsIC0xMjEuODVdLCBbMzMuNjksIC0xMTEuODddLCBbMzUuODIsIC03OC42Nl0sIFszNy40LCAtMTIyLjA4XSwgWzMyLjc3LCAtOTYuNl0sIFszNS40MSwgLTgwLjg2XSwgWzQ0Ljk2LCAtOTMuMjddLCBbNDEuODIsIC03MS40Ml0sIFszMS44NywgLTEwMi4zNV0sIFszNS4xMSwgLTkwLjAxXSwgWzI4LjQ4LCAtODIuNTZdLCBbMjkuNDYsIC05OC41MV0sIFs0Mi40OCwgLTgzLjQ5XSwgWzM2LjY4LCAtNzYuMzFdLCBbMzguNTcsIC0xMjEuNDddLCBbMzIuMzIsIC0xMTAuOTldLCBbNDEuNywgLTg4LjA4XSwgWzQzLjYxLCAtMTE2LjIzXSwgWzQwLjY3LCAtNzMuOTRdLCBbNDUuNzksIC0xMDguNTRdLCBbNDIuMzEsIC04My40OF0sIFszMi4yLCAtMTEwLjg5XSwgWzI5Ljc3LCAtOTUuMzldLCBbNDQuOTYsIC05My4yN10sIFs0MC42NywgLTczLjk0XSwgWzQyLjUyLCAtNzEuNzddLCBbMjYuMjcsIC04MC4yNl0sIFs0MS44NCwgLTg3LjY4XSwgWzQxLjg0LCAtODcuNjhdLCBbNDEuODQsIC04Ny42OF0sIFsyOS43NywgLTk1LjM5XSwgWzM2LjE4LCAtOTQuMTVdLCBbMzUuOTgsIC04MC4wXSwgWzMwLjQ0LCAtODcuMTldLCBbNDEuMjUsIC03NS44OF0sIFszMy42LCAtMTEyLjMyXSwgWzMyLjg1LCAtOTcuMDhdLCBbMzYuNTYsIC04Ny4zNV0sIFszOS43OCwgLTg2LjE1XSwgWzM4LjA0LCAtODQuNDZdLCBbMzYuMTcsIC04Ni43OF0sIFszMy42MiwgLTExMi4yOF0sIFszOC40NSwgLTEyMi43XSwgWzM5Ljc4LCAtODQuMl0sIFszOS4zOSwgLTg0LjU2XSwgWzMzLjk0LCAtMTE3LjRdLCBbMzYuNTYsIC04Ny4zNV0sIFsyNi41MywgLTgwLjA4XSwgWzMyLjg0LCAtODMuNjZdLCBbMzIuMzIsIC0xMTAuOTldLCBbMzkuNTQsIC0xMTkuODJdLCBbMzQuNjEsIC0xMTguMDldLCBbNDAuOTUsIC03NC4yNV0sIFs0MC42NywgLTczLjk0XSwgWzI1Ljg2LCAtODAuM10sIFszMC4zMSwgLTk3Ljc1XSwgWzQwLjY3LCAtNzMuOTRdLCBbNDAuNjcsIC03My45NF0sIFszOS4wNCwgLTc3LjEyXSwgWzM5LjcxLCAtMTA0LjczXSwgWzQyLjAzLCAtODcuOV0sIFszMC4zMywgLTgxLjY2XSwgWzMyLjc1LCAtOTcuMzRdLCBbNDcuNjIsIC0xMjIuMzVdLCBbMzkuMjcsIC03Ni41XSwgWzQwLjY3LCAtNzMuOTRdLCBbMzkuNzgsIC04Ni4xNV0sIFs0Mi4wMywgLTg3LjldLCBbMjkuNzcsIC05NS4zOV0sIFszNS40NywgLTk3LjUxXSwgWzQ1LjYzLCAtMTIyLjY0XSwgWzQwLjM0LCAtNzUuOTNdLCBbNDEuNTYsIC03My4wNF0sIFszMi42OSwgLTk3LjEzXSwgWzQwLjY3LCAtNzMuOTRdLCBbMzQuMTEsIC0xMTguNDFdLCBbMzAuMDcsIC04OS45M10sIFszNi4zMywgLTExOS42NV0sIFsyOC4wNywgLTgyLjQ3XSwgWzM4LjYsIC0xMjEuMzhdLCBbNDMuMDQsIC03Ni4xNF0sIFszMC4zMywgLTgxLjY2XSwgWzM5LjUxLCAtMTA0Ljc2XSwgWzMzLjM4LCAtODYuODJdLCBbNDAuNjcsIC03My45NF0sIFs0MC42NywgLTczLjk0XSwgWzMyLjMyLCAtOTAuMjFdLCBbMzIuMDIsIC04MS4xM10sIFs0Mi44OCwgLTExMi40N10sIFszNS40NywgLTk3LjUxXSwgWzMzLjQyLCAtMTExLjc0XSwgWzMzLjc2LCAtODQuNDJdLCBbNDMuMDYsIC04Ny45N10sIFsyNS45MywgLTgwLjE3XSwgWzM3LjY2LCAtMTIwLjk5XSwgWzMzLjE0LCAtMTE3LjA3XSwgWzM1LjI3LCAtMTIwLjY2XSwgWzM5Ljc4LCAtODYuMTVdLCBbMzYuMTcsIC04Ni43OF0sIFs0MS4zNywgLTcyLjg5XSwgWzQyLjA5LCAtNzAuNzFdLCBbMzYuMTgsIC05NC4xNV0sIFs0MS45OSwgLTcwLjk3XSwgWzMzLjEyLCAtMTE3LjI5XSwgWzQxLjA4LCAtODEuNTJdLCBbNDEuNzcsIC04OC4yOV0sIFszNi45MiwgLTc2LjI0XSwgWzQyLjg5LCAtNzguODZdLCBbMjUuOTMsIC05Ny40OF0sIFszMC4yMSwgLTkzLjJdLCBbMzUuODIsIC03OC42Nl0sIFs0MS4xLCAtODAuNjVdLCBbNDAuNjcsIC03My45NF0sIFs0NS4xMSwgLTkzLjQ2XSwgWzQwLjY1LCAtNzMuNThdLCBbMzYuMjEsIC0xMTUuMjJdLCBbMzcuMywgLTEyMS44NV0sIFsyOS40NiwgLTk4LjUxXSwgWzM3LjMsIC0xMjEuODVdLCBbMzguMTIsIC0xMjEuMjldLCBbNDcuMzEsIC0xMjIuMzRdLCBbMjkuNDYsIC05OC41MV0sIFszNC4xOSwgLTExOC4zM10sIFs0Ny42MiwgLTEyMi4zNV0sIFsyNS45MywgLTk3LjQ4XSwgWzMzLjc0LCAtMTE3Ljg4XSwgWzMyLjIsIC0xMTAuODldLCBbNDQuOTYsIC05My4yN10sIFszMC4zMywgLTgxLjY2XSwgWzQ1LjU1LCAtOTQuMTddLCBbMzUuMDcsIC03OC45XSwgWzQwLjY3LCAtNzMuOTRdLCBbNDQuMDIsIC04OC41NV0sIFszOS41OSwgLTEwNS4wMV0sIFszOC44OSwgLTk0LjgxXSwgWzQ3LjYyLCAtMTIyLjM1XSwgWzM1Ljc4LCAtNzguOF0sIFszOS4yNiwgLTc2Ljc0XSwgWzMzLjQyLCAtMTEyLjMyXSwgWzM3LjY3LCAtMTIxLjg5XSwgWzQyLjM5LCAtNzEuMjRdLCBbMzkuOSwgLTc1LjBdLCBbMzguMDcsIC05Ny45MV0sIFszOS42LCAtMTA0Ljg1XSwgWzI2LjI3LCAtODAuMjZdLCBbMzkuMDEsIC03Ny40M10sIFs0Ny45NiwgLTEyMi4yXSwgWzI5LjE5LCAtODEuMDVdLCBbMzAuMzMsIC04MS42Nl0sIFszNy45OCwgLTg3LjU0XSwgWzMzLjIzLCAtMTE3LjMxXSwgWzMzLjkzLCAtMTE3LjIxXSwgWzQyLjk2LCAtODUuNjZdLCBbMzcuNjksIC0xMjEuNzZdLCBbNDAuNjcsIC03My45NF0sIFs0MS4xLCAtNzMuNTVdLCBbMzguNjQsIC05MC4yNF0sIFszOS4yLCAtNzYuODZdLCBbMzAuMzMsIC04MS42Nl0sIFsyMS4zMiwgLTE1Ny44XSwgWzI5Ljc3LCAtOTUuMzldLCBbMjcuNzEsIC05Ny4yOV0sIFsyNS45MywgLTk3LjQ4XSwgWzMyLjc1LCAtOTcuMzRdLCBbMzQuNDEsIC0xMTguNTFdLCBbNDAuOTUsIC03My44N10sIFszOC4wMiwgLTEyMS44OV0sIFszMy43NCwgLTExNy44OF0sIFsyOS40NiwgLTk4LjUxXSwgWzQyLjM4LCAtNzEuMTJdLCBbNDIuMzEsIC04My4yMV0sIFszOC45NSwgLTkyLjMzXSwgWzQ0Ljk1LCAtOTMuMV0sIFs0Mi4wMywgLTg3LjldLCBbMjYuMTMsIC04MC4yNl0sIFs0Ny4xNiwgLTEyMi41M10sIFszMi4zMiwgLTkwLjIxXSwgWzMzLjQ2LCAtODEuOTldLCBbMzAuMzMsIC04MS42Nl0sIFszMi43NSwgLTk3LjM0XSwgWzMzLjc2LCAtODQuNDJdLCBbMzUuNDcsIC05Ny41MV0sIFs0Mi4zNCwgLTcxLjAyXSwgWzMzLjk0LCAtMTE4LjE5XSwgWzQwLjY3LCAtNzMuOTRdLCBbNDIuNTgsIC04Ny44NV0sIFs0MC42NywgLTczLjk0XSwgWzI4LjU5LCAtODAuODJdLCBbNDAuMzQsIC03NS45M10sIFs0MC42NywgLTczLjk0XSwgWzMzLjk0LCAtMTE4LjEzXSwgWzM3Ljc0LCAtMTIxLjQzXSwgWzQ2LjIsIC0xMTkuMTddLCBbNDIuMzQsIC0xMjIuODVdLCBbMzQuMTIsIC0xMTcuNTddLCBbNDAuODksIC03NC4wMV0sIFs0NC4wNSwgLTEyMi45OF0sIFszNi4yMSwgLTExNS4yMl0sIFszOC42NCwgLTkwLjI0XSwgWzM5Ljg4LCAtMTA1LjA1XSwgWzM3LjA4LCAtNzYuNTFdLCBbNDAuNjcsIC03My45NF0sIFszMy4wOSwgLTk2Ljg5XSwgWzQxLjY2LCAtNzAuOTRdLCBbNDQuODIsIC05My4xNl0sIFs0MC42NywgLTczLjk0XSwgWzM1LjIsIC04MC44M10sIFszNS45NiwgLTc3LjgxXSwgWzM1LjgyLCAtNzguNjZdLCBbMzQuMiwgLTExOS4yMV0sIFszMy43NiwgLTg0LjQyXSwgWzQxLjg0LCAtODcuNjhdLCBbMzYuMSwgLTgwLjI2XSwgWzIxLjMyLCAtMTU3LjhdLCBbNDAuOTUsIC03My44N10sIFs0MC42NywgLTczLjk0XSwgWzQwLjY3LCAtNzMuOTRdLCBbNDQuOTEsIC05Mi45Ml0sIFsyNi4xNSwgLTgwLjNdLCBbMjguNSwgLTgxLjM3XSwgWzQwLjY3LCAtNzMuOTRdLCBbNDAuMywgLTExMS43XSwgWzQ0Ljk1LCAtOTMuMV0sIFs0MC4yMiwgLTc0Ljc2XSwgWzMwLjMxLCAtOTcuNzVdLCBbMzcuMzcsIC0xMjEuOTddLCBbMzcuOTMsIC0xMjEuNzFdLCBbNDEuMTksIC03My4yXSwgWzQzLjY2LCAtNzAuMjhdLCBbNDEuNTEsIC04MS41Nl0sIFszNC4xMSwgLTExOC40MV0sIFszMi4zNSwgLTg2LjI4XSwgWzM0LjExLCAtMTE4LjQxXSwgWzM3LjMsIC0xMjEuODVdLCBbMzkuNzcsIC0xMDQuODddLCBbMzMuNSwgLTExNy4xM10sIFsyOS43NywgLTk1LjM5XSwgWzM3LjY5LCAtMTIyLjQ3XSwgWzI5LjQ2LCAtOTguNTFdLCBbNDEuMjYsIC05Ni4wMV0sIFszMy42MiwgLTExMi4yOF0sIFs0Mi45NiwgLTg1LjY2XSwgWzM2LjA0LCAtOTUuNzldLCBbMzIuOTcsIC05Ni43MV0sIFs0MS4xLCAtNzMuNTVdLCBbNDQuNTcsIC0xMjMuMjhdLCBbMzMuNzQsIC04NC4xNl0sIFszNS45OCwgLTc4LjkxXSwgWzM0LjY5LCAtMTE4LjE4XSwgWzI5Ljc3LCAtOTUuMzldLCBbNDAuNjcsIC03My45NF0sIFszMy44MywgLTExOC4zNF0sIFs0MC42NywgLTczLjk0XSwgWzQxLjI2LCAtOTYuMDFdLCBbNDUuNTQsIC0xMjIuNjZdLCBbMzMuNDIsIC0xMTEuNzRdLCBbNDAuNjcsIC03My45NF0sIFs0MC42NywgLTczLjk0XSwgWzM3LjA1LCAtNzYuMjldLCBbNDAuNjcsIC03My45NF0sIFsyOS43NywgLTk1LjM5XSwgWzM1LjExLCAtOTAuMDFdLCBbNDIuMzgsIC04My4xXSwgWzQwLjY3LCAtNzMuOTRdLCBbMjkuNzcsIC05NS4zOV0sIFszNC4xMiwgLTExNy42Nl0sIFszNC4wNSwgLTExNy42MV0sIFsyOC4zLCAtODEuNDFdLCBbNDAuNjcsIC03My45NF0sIFsyOC40OCwgLTgyLjU2XSwgWzQxLjMsIC03My4xNF0sIFszNi45MiwgLTEyMS43N10sIFs0Ny42MiwgLTEyMi4zNV0sIFszMy44OCwgLTExNy45M10sIFsyNS45NCwgLTgwLjI3XSwgWzM3Ljc3LCAtMTIyLjIyXSwgWzQwLjAxLCAtNzUuMTNdLCBbMzcuNzcsIC0xMjIuNDVdLCBbMjkuMTksIC04MS4wNV0sIFs0MS44NCwgLTg3LjY4XSwgWzM2LjE3LCAtODYuNzhdLCBbMjguNSwgLTgxLjM3XSwgWzQwLjY3LCAtNzMuOTRdLCBbMzAuMCwgLTkwLjE4XSwgWzM5Ljc4LCAtODYuMTVdLCBbMzMuNzksIC0xMTguMTZdLCBbNDcuNjIsIC0xMjIuMzVdLCBbMzguNzgsIC03Ny4yN10sIFs0MS4yLCAtNzMuMTNdLCBbNDAuNjcsIC03My45NF0sIFs0Mi4zMSwgLTgzLjQ4XSwgWzQ0LjA3LCAtMTIxLjMxXSwgWzI5LjQ2LCAtOTguNTFdLCBbNDAuNjcsIC03My45NF0sIFsyNi42LCAtODEuNjNdLCBbMzMuOTcsIC0xMTcuNzVdLCBbMzAuMzEsIC05Ny43NV0sIFszNy44NywgLTEyMi4yN10sIFszNy45NywgLTEyMi4wXSwgWzM5LjQ2LCAtNzUuMF0sIFszOS4xNSwgLTExOS43NF0sIFszOS4zOSwgLTg0LjU2XSwgWzQwLjIsIC04NS4zOV0sIFszNC4xMywgLTExOC4wNF0sIFs0MC43OSwgLTc0LjAzXSwgWzI5LjQ2LCAtOTguNTFdLCBbMzYuMzMsIC04Mi4zN10sIFs0MC42NywgLTczLjk0XSwgWzQyLjI3LCAtODkuMDZdLCBbNDcuNjIsIC0xMjIuMzVdLCBbMzguNjgsIC0xMjEuMTVdLCBbNDAuNzksIC03NC4yNl0sIFs0MS4zOCwgLTgxLjczXSwgWzM0LjE1LCAtMTE3Ljg0XSwgWzM5Ljg5LCAtMTA0Ljk2XSwgWzI5Ljc3LCAtOTUuMzldLCBbNDAuNjcsIC03My45NF0sIFs0Mi45NiwgLTg1LjY2XSwgWzM1LjExLCAtOTAuMDFdLCBbNDUuNTUsIC05NC4xN10sIFszMC4yMiwgLTkyLjAzXSwgWzQyLjM4LCAtODMuMV0sIFsyMS4zMiwgLTE1Ny44XSwgWzI2LjE1LCAtODAuM10sIFs0MC42NywgLTczLjk0XSwgWzM5Ljc1LCAtMTIxLjgxXSwgWzMzLjc2LCAtODQuNDJdLCBbMzQuMTEsIC0xMTguNDFdLCBbNDIuNDcsIC03MC45Nl0sIFs0Mi44OSwgLTc4Ljg2XSwgWzMxLjEsIC05Ny43Ml0sIFszNy43NywgLTEyMi4yMl0sIFs0Mi4xMywgLTgwLjA5XSwgWzM5Ljc4LCAtODYuMTVdLCBbNDEuODQsIC04Ny42OF0sIFszOS45OSwgLTgyLjk5XSwgWzQ1LjUsIC0xMjIuNDRdLCBbNDAuNzEsIC03NC4wNl0sIFszMy4zOCwgLTg2LjgyXSwgWzQyLjU2LCAtNzEuMjZdLCBbNDEuMzEsIC04MS44M10sIFs0MS45MywgLTg4Ljc1XSwgWzMwLjQ1LCAtOTEuMTNdLCBbNDIuMDIsIC05My42M10sIFsyOS40NiwgLTk4LjUxXSwgWzMzLjk0LCAtMTE3LjRdLCBbMzYuNywgLTc2LjY0XSwgWzM0LjExLCAtMTE4LjQxXSwgWzI1Ljc4LCAtODAuMjFdLCBbNDAuNjcsIC03My45NF0sIFszNy4wNSwgLTc2LjI5XSwgWzM0LjE0LCAtMTE3LjI5XSwgWzQ0Ljk2LCAtOTMuMjddLCBbNDMuMTcsIC03Ny42Ml0sIFs0MS41OCwgLTkzLjYyXSwgWzI5LjQ2LCAtOTguNTFdLCBbMzMuMDUsIC05Ni43NV0sIFs0MS40OCwgLTgxLjhdLCBbMjUuNzgsIC04MC4yMV0sIFszNS45OCwgLTc4LjkxXSwgWzM2LjIxLCAtMTE1LjIyXSwgWzQ1LjUsIC0xMjIuNDRdLCBbMzkuMDQsIC03Ny4xMl0sIFsyNi43NSwgLTgwLjEzXSwgWzI5Ljc3LCAtOTUuMzldLCBbMzQuMTEsIC0xMTguNDFdLCBbMjkuNzcsIC05NS4zOV0sIFszMy4yMywgLTExNy4zMV0sIFs0MC40NCwgLTc5Ljk4XSwgWzM1LjExLCAtOTAuMDFdLCBbMjYuMjcsIC04MC4yNl0sIFsyOS43NywgLTk1LjM5XSwgWzMzLjc2LCAtODQuNDJdLCBbMzguNCwgLTEyMS4zN10sIFs0MC42NywgLTczLjk0XSwgWzI5LjQ2LCAtOTguNTFdLCBbMzMuODgsIC0xMTcuODVdLCBbNDAuNjcsIC03My45NF0sIFsyOS43NywgLTk1LjM5XSwgWzQxLjcsIC04OC4wOF0sIFsyOS41NiwgLTk1LjI4XSwgWzQxLjU0LCAtNzIuOF0sIFszOC42NCwgLTkwLjI0XSwgWzQwLjY3LCAtNzMuOTRdLCBbNDAuNjMsIC03NC4yNF0sIFszNy41MywgLTc3LjQ3XSwgWzM0LjExLCAtMTE4LjQxXSwgWzQxLjg2LCAtODguMTFdLCBbMzUuMzYsIC0xMTkuMF0sIFs0Ny42OCwgLTEyMi4xOV0sIFszMy43NCwgLTExNy44OF0sIFszOS45OSwgLTgyLjk5XSwgWzQ1LjU0LCAtMTIyLjY2XSwgWzM3LjksIC0xMjIuMDRdLCBbMzIuOTEsIC05Ni42M10sIFs0Mi4zOCwgLTgzLjFdLCBbMzcuMywgLTEyMS44NV0sIFszOC43OCwgLTc3LjI3XSwgWzQxLjY2LCAtNzAuOTRdLCBbNDAuMjIsIC03NC43Nl0sIFszMy45NCwgLTExNy40XSwgWzQxLjg0LCAtODcuNjhdLCBbNDEuNzcsIC04OC4yOV0sIFsyNS43NiwgLTgwLjRdLCBbMjcuOTksIC04MC42Nl0sIFszOC40MiwgLTEyMS40Ml0sIFszMi42OCwgLTExNC42Ml0sIFszMi43NywgLTk2LjZdLCBbMzcuMDEsIC0xMjEuNThdLCBbMzMuOTcsIC0xMTcuNzVdLCBbMjUuOTUsIC04MC4zMl0sIFs0MS41MywgLTg4LjEyXSwgWzI2LjI0LCAtODAuMTNdLCBbNDAuOTUsIC03My44N10sIFsyNy45MSwgLTgyLjc4XSwgWzM0LjExLCAtMTE4LjQxXSwgWzM1LjExLCAtOTAuMDFdLCBbMzIuNjcsIC0xMTcuMV0sIFs0MC43NCwgLTg5LjYxXSwgWzQxLjIzLCAtMTExLjk3XSwgWzQwLjY3LCAtNzMuOTRdLCBbMzQuNTcsIC04Ni45OV0sIFs0MC4yMiwgLTc0Ljc2XSwgWzM3LjY5LCAtOTcuMzRdLCBbMzguOTUsIC05Mi4zM10sIFszNS40NywgLTk3LjUxXSwgWzM0LjExLCAtMTE4LjQxXSwgWzQ3LjYyLCAtMTIyLjM1XSwgWzQwLjY3LCAtNzMuOTRdLCBbNDIuNjcsIC04My4xNl0sIFs0MS42OCwgLTg2LjI3XSwgWzMyLjY4LCAtMTE0LjYyXSwgWzMzLjkzLCAtMTE3LjIxXSwgWzM0LjE0LCAtMTE3LjI5XSwgWzQyLjQyLCAtNzEuMTFdLCBbNDAuNjcsIC03My45NF0sIFszOC42NSwgLTc3LjM0XSwgWzQxLjYyLCAtODcuNDldLCBbMzQuMDUsIC0xMTcuNjFdLCBbNDMuMjMsIC03MS41Nl0sIFs0MC42OSwgLTExMi4wMV0sIFszOS43MywgLTg0LjA2XSwgWzI3Ljk2LCAtODIuNDhdLCBbNDAuNjcsIC03My45NF0sIFs0Mi4yNywgLTcxLjgxXSwgWzMyLjg1LCAtOTcuMDhdLCBbNDEuODQsIC04Ny42OF0sIFszNC42LCAtOTguNDJdLCBbMjcuNzYsIC04Mi42NF0sIFsyNy45NiwgLTgyLjQ4XSwgWzM3Ljc3LCAtMTIyLjIyXSwgWzQzLjA4LCAtODkuMzldLCBbMzIuMiwgLTExMC44OV0sIFszMi43OSwgLTk2Ljc3XSwgWzQyLjU4LCAtODMuMTRdLCBbMzQuMTEsIC0xMTguNDFdLCBbNDIuMjcsIC03MS44MV0sIFszMC4zMywgLTgxLjY2XSwgWzQwLjY3LCAtNzMuOTRdLCBbNDAuNjcsIC03My45NF0sIFszNC4wNSwgLTExNy45MV0sIFs0MS4xOSwgLTczLjJdLCBbMzguNjQsIC05MC4yNF0sIFs0MC45MSwgLTc0LjE2XSwgWzI4LjkxLCAtODEuMjFdLCBbMzIuNTEsIC04NC44N10sIFs0MC42NywgLTczLjk0XSwgWzM3LjMsIC0xMjEuODVdLCBbNDUuNjMsIC0xMjIuNjRdLCBbNDAuNzIsIC03NC4yM10sIFsyNS43OCwgLTgwLjIxXSwgWzQwLjcsIC03My42Ml0sIFs0MS42OCwgLTcyLjk0XSwgWzQxLjc2LCAtNzAuNV0sIFs0MC42NywgLTczLjk0XSwgWzMzLjQ2LCAtODEuOTldLCBbNDMuMjMsIC04Ni4yNl0sIFsyNi4xNSwgLTgwLjNdLCBbMzAuNjgsIC04OC4wOV0sIFszMi42MywgLTExNy4wNF0sIFs0MC42LCAtMTExLjk5XSwgWzQzLjAyLCAtODMuNjldLCBbMzMuOTEsIC0xMTguMDhdLCBbNDEuNjIsIC04Ny40OV0sIFszNy4yOCwgLTc5Ljk2XSwgWzMwLjMxLCAtOTcuNzVdLCBbMzMuOTYsIC0xMTguMzRdLCBbNDAuOTUsIC03My44N10sIFszNy42NiwgLTEyMC45OV0sIFszMS44NSwgLTEwNi40NF0sIFs0MC40MSwgLTg2Ljg3XSwgWzQwLjY3LCAtNzMuOTRdLCBbNDAuNjcsIC03My45NF0sIFszNS40MSwgLTgwLjU5XSwgWzQwLjY3LCAtNzMuOTRdLCBbMzcuNTIsIC0xMjIuMjFdLCBbNDIuNDksIC04My4wM10sIFszOS45NCwgLTc0LjE3XSwgWzM0LjAzLCAtMTE4LjE3XSwgWzM4LjQxLCAtODIuNDNdLCBbNDAuNjcsIC03My45NF0sIFszOC4yMiwgLTg1Ljc0XSwgWzQwLjY3LCAtNzMuOTRdLCBbMjUuNjcsIC04MC40NF0sIFs0NC4wMSwgLTkyLjQ4XSwgWzMzLjgzLCAtMTE4LjM0XSwgWzI3Ljk5LCAtODAuNjZdLCBbNDAuMDEsIC03NS4xM10sIFszOC4wNywgLTk3LjkxXSwgWzQyLjA4LCAtNzEuMDNdLCBbMzIuNzUsIC05Ny4zNF0sIFsyOS40NiwgLTk4LjUxXSwgWzI5LjU2LCAtOTUuMjhdLCBbNDAuNjcsIC03My45NF0sIFszMy4xMiwgLTExNy4yOV0sIFs0MC42NywgLTczLjk0XSwgWzQwLjY3LCAtNzMuOTRdLCBbMjYuMiwgLTk3LjY5XSwgWzM0LjI2LCAtMTE4Ljc1XSwgWzQxLjc3LCAtNzIuNjhdLCBbMzguMDksIC0xMjIuNTZdLCBbNDEuODIsIC03MS40Ml0sIFszNS40NywgLTk3LjUxXSwgWzQxLjg0LCAtODcuNjhdLCBbNDAuNjcsIC03My45NF0sIFszNy45OCwgLTg3LjU0XSwgWzMzLjMzLCAtMTExLjc2XSwgWzMwLjMxLCAtOTcuNzVdLCBbNDAuNjcsIC03My45NF0sIFs0Mi4zMywgLTgzLjI3XSwgWzM0LjE0LCAtMTE3LjkxXSwgWzM2LjEsIC04MC4yNl0sIFszOS43NywgLTEwNC44N10sIFszMy4wNSwgLTk2Ljc1XSwgWzI1LjcxLCAtODAuNDFdLCBbMzcuOTgsIC04Ny41NF0sIFsyOS43NywgLTk1LjM5XSwgWzM3LjA1LCAtNzYuMjldLCBbNDAuNjcsIC03My45NF0sIFsyNi4xNywgLTgwLjIzXSwgWzM5LjcsIC0xMDUuMTFdLCBbMzkuOSwgLTc1LjBdLCBbMzIuODIsIC05Ny4yN10sIFszOS4xOSwgLTk2LjU5XSwgWzM2LjEzLCAtOTUuOTJdLCBbNDIuNSwgLTkwLjY5XSwgWzM1Ljk4LCAtNzguOTFdLCBbMzguNDEsIC04Mi40M10sIFsyOS43NywgLTk1LjM5XSwgWzM0LjE0LCAtMTE3LjI5XSwgWzM5Ljc0LCAtNzUuNTNdLCBbNDcuMjUsIC0xMjIuNDZdLCBbMzIuODQsIC04My42Nl0sIFs0Mi4zMywgLTcxLjIxXSwgWzM2Ljc0LCAtNzYuMDRdLCBbNDAuNjcsIC03My45NF0sIFszOS44OCwgLTEwNS4wNV0sIFs0MC42NywgLTczLjk0XSwgWzM5Ljc4LCAtODQuMl0sIFszOS4wNCwgLTk1LjY5XSwgWzM3Ljk3LCAtMTIyLjBdLCBbMjkuNzcsIC05NS4zOV0sIFs0MC42NywgLTczLjk0XSwgWzQwLjY3LCAtNzMuOTRdLCBbMjUuNzYsIC04MC40XSwgWzMwLjMzLCAtODEuNjZdLCBbNDEuNjgsIC04Ni4yN10sIFs0NC4wOCwgLTEwMy4yM10sIFszOS45OSwgLTgyLjk5XSwgWzQ0LjgyLCAtOTEuNDldLCBbMzkuODgsIC0xMDUuMDVdLCBbMzYuMTgsIC05NC4xNV0sIFszMC4wNywgLTg5LjkzXSwgWzI1Ljc4LCAtODAuMjFdLCBbMzAuMCwgLTkwLjE4XSwgWzMzLjY2LCAtMTE3LjhdLCBbMzguODMsIC03Ny4yMV0sIFs0MS44NCwgLTg3LjY4XSwgWzQwLjg2LCAtNzQuMTNdLCBbMzcuOTgsIC04Ny41NF0sIFs0MS44NCwgLTg3LjY4XSwgWzM1LjExLCAtOTAuMDFdLCBbNDEuODQsIC04Ny42OF0sIFs0NC4yNywgLTg4LjRdLCBbMzMuNzYsIC04NC40Ml0sIFszMy43MywgLTExNi4zOF0sIFszNi45MiwgLTc2LjI0XSwgWzM0LjAzLCAtMTE3LjA0XSwgWzM3LjQsIC0xMjIuMTRdLCBbNDAuODEsIC04MS4zN10sIFszOC43NiwgLTc3LjE1XSwgWzQyLjAzLCAtODcuOV0sIFszOC43OCwgLTkwLjcxXSwgWzQwLjY3LCAtNzMuOTRdLCBbNTkuOTMsIDMwLjMxXSwgWzM4LjMsIC0xMjIuM10sIFszNy45LCAtMTIyLjA0XSwgWzI4LjUsIC04MS4zN10sIFsyOS43NywgLTk1LjM5XSwgWzI2LjM3LCAtODAuMTFdLCBbNDAuNjcsIC03My45NF0sIFs0MC42NywgLTczLjk0XSwgWzM5LjAzLCAtNzcuMl0sIFszNC4yMSwgLTkyLjAyXSwgWzMyLjYsIC05Ni44Nl0sIFsyOS40NiwgLTk4LjUxXSwgWzM4Ljg5LCAtMTIxLjNdLCBbMzMuNjYsIC0xMTIuNDddLCBbMzUuOTgsIC03OC45MV0sIFs0MS44NCwgLTg3LjY4XSwgWzI4LjAyLCAtODIuNV0sIFszMC4wOSwgLTk0LjE0XSwgWzM2LjE3LCAtODYuNzhdLCBbNDAuNjcsIC03My45NF0sIFszOS43OCwgLTg2LjE1XSwgWzQxLjYyLCAtODcuNDldLCBbNDEuNDgsIC04MS44XSwgWzM5Ljc4LCAtODYuMTVdLCBbNDIuMjYsIC03MS4wMV0sIFszOS45NCwgLTc0LjE3XSwgWzI5LjQ2LCAtOTguNTFdLCBbMzcuNzcsIC0xMjIuMjJdLCBbMjcuNzEsIC05Ny4yOV0sIFs0MC42NywgLTczLjk0XSwgWzQwLjY3LCAtNzMuOTRdLCBbMzkuNTQsIC0xMTkuNzRdLCBbMzQuMTEsIC0xMTguNDFdLCBbMzguOTEsIC05NC42OF0sIFs0MC44MSwgLTgxLjM3XSwgWzMxLjg1LCAtMTA2LjQ0XSwgWzM4LjA0LCAtODQuNDZdLCBbNDEuNjYsIC04My41OF0sIFszMi43NSwgLTk3LjM0XSwgWzQxLjc0LCAtNzAuMl0sIFs0MC42NywgLTczLjk0XSwgWzQxLjI2LCAtOTYuMDFdLCBbMjkuNzcsIC05NS4zOV0sIFs0NC45NSwgLTkzLjM2XSwgWzM0LjA3LCAtMTE4LjAzXSwgWzM0LjAsIC0xMTcuODFdLCBbMzQuMSwgLTExNy40Nl0sIFszMy40MiwgLTExMS43NF0sIFs0My4wNiwgLTg3Ljk3XSwgWzQxLjc0LCAtNzAuNjFdLCBbNDAuNjcsIC03My45NF0sIFsyOS43NywgLTk1LjM5XSwgWzM1LjM2LCAtMTE5LjBdLCBbNDEuMjYsIC05Ni4wMV0sIFszOC44OCwgLTc3LjQxXSwgWzQwLjY3LCAtNzMuOTRdLCBbMjYuMzEsIC04MC4xMl0sIFs0MC42NywgLTczLjk0XSwgWzM3LjMsIC0xMjEuODVdLCBbMzIuMywgLTExMC45Ml0sIFsyOS40NiwgLTk4LjUxXSwgWzMzLjg3LCAtMTE3LjU3XSwgWzMzLjk0LCAtMTE4LjEzXSwgWzMzLjY5LCAtMTEyLjI0XSwgWzI5LjU3LCAtOTUuNTRdLCBbMzQuMTYsIC0xMTguMTRdLCBbMzIuMzUsIC04Ni4yOF0sIFs0MC42NywgLTczLjk0XSwgWzI5LjQ2LCAtOTguNTFdLCBbNDAuNjcsIC03My45NF0sIFs0NC4wNSwgLTEyMi45OF0sIFs0NS40OCwgLTEyMi44Ml0sIFszMy41OCwgLTExMi4yXSwgWzM1LjQ3LCAtOTcuNTFdLCBbNDEuNjYsIC04My41OF0sIFszMi41MSwgLTg0Ljg3XSwgWzM2LjEsIC04MC4yNl0sIFs0MC42NywgLTczLjk0XSwgWzMzLjE0LCAtOTYuODFdLCBbNDMuNjYsIC03MC4yOF0sIFs0Mi4yNywgLTcxLjgxXSwgWzQxLjc2LCAtNzAuNV0sIFs0Ny42LCAtMTIyLjE2XSwgWzQzLjE3LCAtNzcuNjJdLCBbMzMuOSwgLTExOC4wMV0sIFsyOS43NywgLTk1LjM5XSwgWzQwLjY3LCAtNzMuOTRdLCBbMzcuNzcsIC0xMjIuMjJdLCBbMjcuNzEsIC05Ny4yOV0sIFszMy44OSwgLTExOC4yM10sIFs0MS4xLCAtNzMuNTVdLCBbMzQuNjksIC0xMTguMThdLCBbMzkuNzUsIC0xMjEuODFdLCBbMjkuOSwgLTkzLjkzXSwgWzM2LjExLCAtMTE1LjI0XSwgWzQxLjIzLCAtMTExLjk3XSwgWzMxLjEsIC05Ny43Ml0sIFs0MC4wOSwgLTc0LjM5XSwgWzQxLjg0LCAtODcuNjhdLCBbMzkuOTksIC04Mi45OV0sIFszNy45OCwgLTg3LjU0XSwgWzMyLjU5LCAtODUuNDhdLCBbNDEuODQsIC04Ny42OF0sIFszNy4zLCAtMTIxLjg1XSwgWzQyLjI4LCAtODMuNzNdLCBbMzYuMTcsIC04Ni43OF0sIFs0MS4xLCAtNzMuNTVdLCBbMzMuNDIsIC0xMTEuNzRdLCBbNDAuMDEsIC03NS4xM10sIFszMy4zMywgLTExMS43Nl0sIFs0My4wNiwgLTg3Ljk3XSwgWzQzLjE3LCAtNzcuNjJdLCBbMzMuMDUsIC05Ni43NV0sIFsyOS43NywgLTk1LjM5XSwgWzM2Ljc4LCAtMTE5Ljc5XSwgWzMyLjc1LCAtOTcuMzRdLCBbMzMuNzYsIC04NC40Ml0sIFszOS4yLCAtNzYuODZdLCBbNDAuNjcsIC03My45NF0sIFszMi4zMiwgLTkwLjIxXSwgWzMzLjg2LCAtMTE4LjM4XSwgWzM2LjQxLCAtOTcuODddLCBbMzMuMTEsIC05Ni42N10sIFsyOC40OCwgLTgyLjU2XSwgWzMzLjU4LCAtMTEyLjJdLCBbMjcuNzYsIC04Mi42NF0sIFszOC41NywgLTEyMS40N10sIFszNC42MSwgLTExOC4wOV0sIFszMi40NSwgLTk5Ljc0XSwgWzI5LjQ2LCAtOTguNTFdLCBbMzguNjksIC0xMjEuMjldLCBbMjkuNTcsIC04MS4yMV0sIFsyOS45OSwgLTkwLjI1XSwgWzQxLjUzLCAtODguMTJdLCBbMzYuOTIsIC0xMjEuNzddLCBbNDMuMTcsIC03Ny42Ml0sIFszNi4xLCAtODAuMjZdLCBbMzUuNDcsIC05Ny41MV0sIFszOC42NCwgLTkwLjI0XSwgWzQ3LjI1LCAtMTIyLjQ2XSwgWzQxLjcsIC04OC4wOF0sIFs0NS42MywgLTEyMi42NF0sIFszOC44OSwgLTEyMS4zXSwgWzQ3Ljk2LCAtMTIyLjJdLCBbMzAuMzMsIC04MS42Nl0sIFszOC42OCwgLTEyMS43N10sIFszNy41MywgLTc3LjQ3XSwgWzQwLjE1LCAtNzQuODVdLCBbMzcuMDEsIC0xMjEuNThdLCBbNDEuODQsIC04Ny42OF0sIFszOC44LCAtMTIxLjI0XSwgWzM4LjIyLCAtODUuNzRdLCBbNDAuNTcsIC0xMjIuMzZdLCBbNDAuNjcsIC03My45NF0sIFs0MC42NywgLTczLjk0XSwgWzM2LjEsIC04MC4yNl0sIFszMy4zNSwgLTExMi40MV0sIFszMy4wNCwgLTk2Ljk4XSwgWzMzLjYyLCAtMTEyLjI4XSwgWzI5Ljc3LCAtOTUuMzldLCBbMzUuMTEsIC05MC4wMV0sIFszNy44NywgLTEyMi4yN10sIFszOC41NSwgLTEyMS43NF0sIFs0NC45MiwgLTEyMy4wMl0sIFsyNy45NiwgLTgyLjQ4XSwgWzMzLjcyLCAtMTE2LjIzXSwgWzQyLjM4LCAtODMuMV0sIFszNi4yMSwgLTExNS4yMl0sIFs0Mi4zNCwgLTcxLjAyXSwgWzM0LjExLCAtMTE4LjQxXSwgWzM4LjgsIC0xMjEuMjRdLCBbMzkuOTQsIC03NC4xN10sIFs0MC43OCwgLTczLjI1XSwgWzQwLjY3LCAtNzMuOTRdLCBbNDIuNzEsIC04NC41NV0sIFs0MC40MSwgLTg2Ljg3XSwgWzMzLjg3LCAtMTE3LjU3XSwgWzQ3LjY3LCAtMTIyLjExXSwgWzM3LjUzLCAtNzcuNDddLCBbNDIuNTIsIC03MS43N10sIFszOC40MiwgLTEyMS40Ml0sIFszMy42OSwgLTExMS44N10sIFszNC41MywgLTExNy4yMV0sIFszOS45NCwgLTc0LjE3XSwgWzM1LjYzLCAtODguODNdLCBbMzcuMywgLTEyMS44NV0sIFs0MC42NywgLTczLjk0XSwgWzMzLjksIC05OC41Ml0sIFs0Mi4zNCwgLTcxLjAyXSwgWzM2LjMzLCAtOTQuMTNdLCBbNDIuMzgsIC04My4xXSwgWzM2LjA2LCAtMTE5LjAzXSwgWzMzLjc5LCAtMTE4LjE2XSwgWzQxLjU3LCAtOTMuNzVdLCBbMzkuNTQsIC0xMTkuODJdLCBbMzkuMDQsIC04NC41MV0sIFs0MC42NywgLTczLjk0XSwgWzM5LjksIC03NS4wXSwgWzQ2LjIsIC0xMTkuMTddLCBbNDcuMzEsIC0xMjIuMzRdLCBbNDIuMjcsIC04OS4wNl0sIFszMC4zMSwgLTk3Ljc1XSwgWzQyLjEzLCAtODAuMDldLCBbMzAuNiwgLTk2LjMxXSwgWzQzLjA2LCAtODcuOTddLCBbMzMuOTQsIC0xMTcuNF0sIFsyOS40NiwgLTk4LjUxXSwgWzQxLjg0LCAtODcuNjhdLCBbNDIuMDIsIC05My42M10sIFs0MS4xNSwgLTEwNC43OV0sIFszMy4wMywgLTk3LjA5XSwgWzM2LjEsIC04MC4yNl0sIFszMy43NiwgLTExOC4zNl0sIFs0Ni44OCwgLTk2LjgyXSwgWzM5Ljc4LCAtODQuMl0sIFs0MC4wMSwgLTc1LjEzXSwgWzQwLjY3LCAtNzMuOTRdLCBbNDEuODQsIC04Ny42OF0sIFs0MS43LCAtODguMDhdLCBbMzMuODEsIC0xMTcuODJdLCBbMjYuNzEsIC04MS44OV0sIFszMC40NSwgLTkxLjEzXSwgWzQwLjc3LCAtNzQuMjFdLCBbMzcuNjksIC05Ny4zNF0sIFszNy45NSwgLTEyMi4zNl0sIFsyNS44NiwgLTgwLjNdLCBbNDIuMzEsIC03MS40NF0sIFszNS4yLCAtODAuODNdLCBbMzcuNTYsIC0xMjIuMzFdLCBbMzUuMiwgLTgwLjgzXSwgWzM4LjI3LCAtMTA0LjYyXSwgWzQxLjg0LCAtODcuNjhdLCBbMzMuNDUsIC0xMTcuNjFdLCBbNDIuODgsIC0xMTIuNDddLCBbNDAuNzIsIC03NC4xN10sIFszNS45MywgLTg2Ljg0XSwgWzM0LjEyLCAtMTE3LjU3XSwgWzM3LjUyLCAtMTIyLjIxXSwgWzI1Ljc2LCAtODAuNF0sIFszMy44MSwgLTExNy44Ml0sIFs0NC44MiwgLTkzLjE2XSwgWzM2Ljc4LCAtMTE5Ljc5XSwgWzQwLjcyLCAtNzQuMjNdLCBbMzUuMTEsIC05MC4wMV0sIFszNS45NiwgLTc3LjgxXSwgWzM4Ljg1LCAtNzcuNDRdLCBbMzIuNjksIC05Ny4xM10sIFszMy43OCwgLTExNy45Nl0sIFszOC42NSwgLTkwLjU4XSwgWzQyLjQ5LCAtODMuMDNdLCBbNDcuNiwgLTEyMi4xNl0sIFs0Ny42MiwgLTEyMi4zNV0sIFszNS45MywgLTg2Ljg0XSwgWzM4Ljc2LCAtMTIxLjI5XSwgWzQyLjA0LCAtNzAuNjddLCBbMzIuNzcsIC05Ni42XSwgWzM4LjUzLCAtOTAuMF0sIFs0MC42NywgLTczLjk0XSwgWzQ1LjQzLCAtMTIyLjc3XSwgWzMyLjMsIC0xMTAuOTJdLCBbMzIuNDcsIC05My44XSwgWzQwLjY3LCAtNzMuOTRdLCBbMzYuNTYsIC04Ny4zNV0sIFszOC41MSwgLTEyMS40NV0sIFszNS4xMSwgLTkwLjAxXSwgWzQ0LjA4LCAtMTAzLjIzXSwgWzM1LjI3LCAtMTIwLjY2XSwgWzM4Ljc5LCAtOTAuNTJdLCBbNDcuNjIsIC0xMjIuMzVdLCBbNDAuNjcsIC03My45NF0sIFsyNi43MSwgLTgxLjg5XSwgWzQzLjA2LCAtODcuOTddLCBbNDEuODQsIC04Ny42OF0sIFszMy43NCwgLTExNy44OF0sIFszNC4yLCAtMTE5LjIxXSwgWzI2LjE0LCAtODAuMTRdLCBbMzQuMTIsIC0xMTcuMTldLCBbMzAuMDcsIC04OS45M10sIFs0MC42NywgLTczLjk0XSwgWzQxLjg0LCAtODcuNjhdLCBbMjguNjYsIC04MS40XSwgWzMyLjgsIC0xMTYuOTZdLCBbNDIuODksIC03OC44Nl0sIFsyNi41MywgLTgwLjA4XSwgWzM2LjEzLCAtOTUuOTJdLCBbMzAuMDcsIC04OS45M10sIFszNS4yLCAtODAuODNdLCBbNDMuMDIsIC04My42OV0sIFs0MC42NywgLTczLjk0XSwgWzQwLjQyLCAtMTA0Ljc0XSwgWzM5LjE5LCAtOTYuNTldLCBbMzQuMTEsIC0xMTguNDFdLCBbMzkuNTUsIC0xMDQuOTddLCBbMzYuNzQsIC03Ni4wNF0sIFszNy41NiwgLTEyMi4zMV0sIFsyNi43MSwgLTgxLjg5XSwgWzM3LjU2LCAtMTIyLjMxXSwgWzI1LjcxLCAtODAuNDFdLCBbMjkuNzcsIC05NS4zOV0sIFszMy44MSwgLTExNy44Ml0sIFszNi4wNiwgLTExOS4wM10sIFs0NS43OSwgLTEwOC41NF0sIFs0MS42NiwgLTgzLjU4XSwgWzI5Ljc3LCAtOTUuMzldLCBbMzYuMDgsIC03OS44M10sIFszOS4wNiwgLTc3LjA1XSwgWzQ3LjYyLCAtMTIyLjM1XSwgWzQyLjUsIC05Ni4zOV1dLAogICAgICAgICAgICAgICAgewogICAgICAgICAgICAgICAgICAgIG1pbk9wYWNpdHk6IDAuNSwKICAgICAgICAgICAgICAgICAgICBtYXhab29tOiAxOCwKICAgICAgICAgICAgICAgICAgICBtYXg6IDEuMCwKICAgICAgICAgICAgICAgICAgICByYWRpdXM6IDI1LAogICAgICAgICAgICAgICAgICAgIGJsdXI6IDE1LAogICAgICAgICAgICAgICAgICAgIGdyYWRpZW50OiBudWxsCiAgICAgICAgICAgICAgICAgICAgfSkKICAgICAgICAgICAgICAgIC5hZGRUbyhtYXBfNmIyMmIzNTM2ODY4NGNhNmI5Nzg0MTA2OWY5Y2IzYzMpOwogICAgICAgIAo8L3NjcmlwdD4=\" style=\"position:absolute;width:100%;height:100%;left:0;top:0;border:none !important;\" allowfullscreen webkitallowfullscreen mozallowfullscreen></iframe></div></div>"
      ],
      "text/plain": [
       "<folium.folium.Map at 0x201786cf630>"
      ]
     },
     "execution_count": 28,
     "metadata": {},
     "output_type": "execute_result"
    }
   ],
   "source": [
    "heat_map = folium.Map(location=[merged['lat'].mean(), merged['long'].mean()], zoom_start=4)\n",
    "heat_map.add_children(plugins.HeatMap([[row[\"lat\"], row[\"long\"]] for name, row in merged[merged.converted==1].iterrows()]))"
   ]
  },
  {
   "cell_type": "code",
   "execution_count": 147,
   "metadata": {
    "collapsed": true
   },
   "outputs": [],
   "source": [
    "# pd.to_datetime(merged['timestamp'], errors='ignore')"
   ]
  },
  {
   "cell_type": "markdown",
   "metadata": {},
   "source": [
    "## Summary 2: \n",
    "\n",
    "### 1. Friend referral has best conversion ratio at > 3.5% - increase invation rate by offering perks or cash bonuses to existing customers that invite friends.\n",
    "\n",
    "### 2. Bing ads do worse than direct traffic and can be scrapped.\n",
    "\n",
    "### 3. Apple product (Mac and iOS) users have a higher conversion ratio - digging into the reason will reveal whether to increase advertising to non-apple users or to specificially target apple users.\n",
    "\n",
    "### 4. No geographical significance to product sales, cities with high conversion ratio are spread countrywide.\n",
    "\n",
    "### 5. Product has not been introduced in global markets, very few sales outside of US!\n"
   ]
  },
  {
   "cell_type": "code",
   "execution_count": 148,
   "metadata": {},
   "outputs": [
    {
     "data": {
      "text/plain": [
       "'2015-04-24 12:59:46'"
      ]
     },
     "execution_count": 148,
     "metadata": {},
     "output_type": "execute_result"
    }
   ],
   "source": [
    "# if ':60:' in merged.loc[49,'timestamp']:\n",
    "#     merged.loc[49,'timestamp'].replace(\":60:\",\":59:\")\n"
   ]
  },
  {
   "cell_type": "code",
   "execution_count": 44,
   "metadata": {},
   "outputs": [
    {
     "data": {
      "text/html": [
       "<div>\n",
       "<style>\n",
       "    .dataframe thead tr:only-child th {\n",
       "        text-align: right;\n",
       "    }\n",
       "\n",
       "    .dataframe thead th {\n",
       "        text-align: left;\n",
       "    }\n",
       "\n",
       "    .dataframe tbody tr th {\n",
       "        vertical-align: top;\n",
       "    }\n",
       "</style>\n",
       "<table border=\"1\" class=\"dataframe\">\n",
       "  <thead>\n",
       "    <tr style=\"text-align: right;\">\n",
       "      <th></th>\n",
       "      <th>user_id</th>\n",
       "      <th>timestamp</th>\n",
       "      <th>source</th>\n",
       "      <th>device</th>\n",
       "      <th>operative_system</th>\n",
       "      <th>test</th>\n",
       "      <th>price</th>\n",
       "      <th>converted</th>\n",
       "      <th>city</th>\n",
       "      <th>country</th>\n",
       "      <th>lat</th>\n",
       "      <th>long</th>\n",
       "    </tr>\n",
       "  </thead>\n",
       "  <tbody>\n",
       "    <tr>\n",
       "      <th>0</th>\n",
       "      <td>604839</td>\n",
       "      <td>2015-05-08 03:38:34</td>\n",
       "      <td>ads_facebook</td>\n",
       "      <td>mobile</td>\n",
       "      <td>iOS</td>\n",
       "      <td>0</td>\n",
       "      <td>39</td>\n",
       "      <td>0</td>\n",
       "      <td>Buffalo</td>\n",
       "      <td>USA</td>\n",
       "      <td>42.89</td>\n",
       "      <td>-78.86</td>\n",
       "    </tr>\n",
       "    <tr>\n",
       "      <th>1</th>\n",
       "      <td>624057</td>\n",
       "      <td>2015-05-10 21:08:46</td>\n",
       "      <td>seo-google</td>\n",
       "      <td>mobile</td>\n",
       "      <td>android</td>\n",
       "      <td>0</td>\n",
       "      <td>39</td>\n",
       "      <td>0</td>\n",
       "      <td>Lakeville</td>\n",
       "      <td>USA</td>\n",
       "      <td>44.68</td>\n",
       "      <td>-93.24</td>\n",
       "    </tr>\n",
       "    <tr>\n",
       "      <th>2</th>\n",
       "      <td>317970</td>\n",
       "      <td>2015-04-04 15:01:23</td>\n",
       "      <td>ads-bing</td>\n",
       "      <td>mobile</td>\n",
       "      <td>android</td>\n",
       "      <td>0</td>\n",
       "      <td>39</td>\n",
       "      <td>0</td>\n",
       "      <td>Parma</td>\n",
       "      <td>USA</td>\n",
       "      <td>41.38</td>\n",
       "      <td>-81.73</td>\n",
       "    </tr>\n",
       "    <tr>\n",
       "      <th>3</th>\n",
       "      <td>685636</td>\n",
       "      <td>2015-05-07 07:26:01</td>\n",
       "      <td>direct_traffic</td>\n",
       "      <td>mobile</td>\n",
       "      <td>iOS</td>\n",
       "      <td>1</td>\n",
       "      <td>59</td>\n",
       "      <td>0</td>\n",
       "      <td>Fayetteville</td>\n",
       "      <td>USA</td>\n",
       "      <td>35.07</td>\n",
       "      <td>-78.90</td>\n",
       "    </tr>\n",
       "    <tr>\n",
       "      <th>4</th>\n",
       "      <td>820854</td>\n",
       "      <td>2015-05-24 11:04:40</td>\n",
       "      <td>ads_facebook</td>\n",
       "      <td>web</td>\n",
       "      <td>mac</td>\n",
       "      <td>0</td>\n",
       "      <td>39</td>\n",
       "      <td>0</td>\n",
       "      <td>Fishers</td>\n",
       "      <td>USA</td>\n",
       "      <td>39.95</td>\n",
       "      <td>-86.02</td>\n",
       "    </tr>\n",
       "  </tbody>\n",
       "</table>\n",
       "</div>"
      ],
      "text/plain": [
       "   user_id            timestamp          source  device operative_system  \\\n",
       "0   604839  2015-05-08 03:38:34    ads_facebook  mobile              iOS   \n",
       "1   624057  2015-05-10 21:08:46      seo-google  mobile          android   \n",
       "2   317970  2015-04-04 15:01:23        ads-bing  mobile          android   \n",
       "3   685636  2015-05-07 07:26:01  direct_traffic  mobile              iOS   \n",
       "4   820854  2015-05-24 11:04:40    ads_facebook     web              mac   \n",
       "\n",
       "   test  price  converted          city country    lat   long  \n",
       "0     0     39          0       Buffalo     USA  42.89 -78.86  \n",
       "1     0     39          0     Lakeville     USA  44.68 -93.24  \n",
       "2     0     39          0         Parma     USA  41.38 -81.73  \n",
       "3     1     59          0  Fayetteville     USA  35.07 -78.90  \n",
       "4     0     39          0       Fishers     USA  39.95 -86.02  "
      ]
     },
     "execution_count": 44,
     "metadata": {},
     "output_type": "execute_result"
    }
   ],
   "source": [
    "merged.head()"
   ]
  },
  {
   "cell_type": "code",
   "execution_count": 48,
   "metadata": {
    "collapsed": true
   },
   "outputs": [],
   "source": [
    "def time_fix (row):\n",
    "    if ':60:' in row['timestamp']:\n",
    "        rowstamp=row['timestamp'].replace(\":60:\",\":59:\")\n",
    "    elif ':60' in row['timestamp']:\n",
    "        rowstamp=row['timestamp'].replace(\":60\",\":59\")\n",
    "    else:\n",
    "        rowstamp=row['timestamp']\n",
    "    return rowstamp"
   ]
  },
  {
   "cell_type": "code",
   "execution_count": 49,
   "metadata": {
    "collapsed": true
   },
   "outputs": [],
   "source": [
    "merged['timestamp']=merged.apply(time_fix, axis=1)"
   ]
  },
  {
   "cell_type": "code",
   "execution_count": 50,
   "metadata": {},
   "outputs": [],
   "source": [
    "merged['timestamp']=pd.to_datetime(merged['timestamp'])"
   ]
  },
  {
   "cell_type": "code",
   "execution_count": 79,
   "metadata": {
    "collapsed": true
   },
   "outputs": [],
   "source": [
    "merged['timestamp']=merged['timestamp'].dt.date"
   ]
  },
  {
   "cell_type": "code",
   "execution_count": 80,
   "metadata": {},
   "outputs": [],
   "source": [
    "strt=merged['timestamp'].min()\n",
    "endd=merged['timestamp'].max()\n"
   ]
  },
  {
   "cell_type": "code",
   "execution_count": 81,
   "metadata": {},
   "outputs": [],
   "source": [
    "# merged['timestamp'].dt.date"
   ]
  },
  {
   "cell_type": "code",
   "execution_count": 82,
   "metadata": {},
   "outputs": [
    {
     "name": "stdout",
     "output_type": "stream",
     "text": [
      "DatetimeIndex(['2015-03-02', '2015-03-03', '2015-03-04', '2015-03-05',\n",
      "               '2015-03-06', '2015-03-07', '2015-03-08', '2015-03-09',\n",
      "               '2015-03-10', '2015-03-11', '2015-03-12', '2015-03-13',\n",
      "               '2015-03-14', '2015-03-15', '2015-03-16', '2015-03-17',\n",
      "               '2015-03-18', '2015-03-19', '2015-03-20', '2015-03-21',\n",
      "               '2015-03-22', '2015-03-23', '2015-03-24', '2015-03-25',\n",
      "               '2015-03-26', '2015-03-27', '2015-03-28', '2015-03-29',\n",
      "               '2015-03-30', '2015-03-31', '2015-04-01', '2015-04-02',\n",
      "               '2015-04-03', '2015-04-04', '2015-04-05', '2015-04-06',\n",
      "               '2015-04-07', '2015-04-08', '2015-04-09', '2015-04-10',\n",
      "               '2015-04-11', '2015-04-12', '2015-04-13', '2015-04-14',\n",
      "               '2015-04-15', '2015-04-16', '2015-04-17', '2015-04-18',\n",
      "               '2015-04-19', '2015-04-20', '2015-04-21', '2015-04-22',\n",
      "               '2015-04-23', '2015-04-24', '2015-04-25', '2015-04-26',\n",
      "               '2015-04-27', '2015-04-28', '2015-04-29', '2015-04-30',\n",
      "               '2015-05-01', '2015-05-02', '2015-05-03', '2015-05-04',\n",
      "               '2015-05-05', '2015-05-06', '2015-05-07', '2015-05-08',\n",
      "               '2015-05-09', '2015-05-10', '2015-05-11', '2015-05-12',\n",
      "               '2015-05-13', '2015-05-14', '2015-05-15', '2015-05-16',\n",
      "               '2015-05-17', '2015-05-18', '2015-05-19', '2015-05-20',\n",
      "               '2015-05-21', '2015-05-22', '2015-05-23', '2015-05-24',\n",
      "               '2015-05-25', '2015-05-26', '2015-05-27', '2015-05-28',\n",
      "               '2015-05-29', '2015-05-30', '2015-05-31'],\n",
      "              dtype='datetime64[ns]', freq='D')\n"
     ]
    }
   ],
   "source": [
    "d = pd.date_range(start=strt, end=endd, freq='D')    \n",
    "# print(d)"
   ]
  },
  {
   "cell_type": "code",
   "execution_count": 173,
   "metadata": {},
   "outputs": [
    {
     "data": {
      "text/html": [
       "<div>\n",
       "<style>\n",
       "    .dataframe thead tr:only-child th {\n",
       "        text-align: right;\n",
       "    }\n",
       "\n",
       "    .dataframe thead th {\n",
       "        text-align: left;\n",
       "    }\n",
       "\n",
       "    .dataframe tbody tr th {\n",
       "        vertical-align: top;\n",
       "    }\n",
       "</style>\n",
       "<table border=\"1\" class=\"dataframe\">\n",
       "  <thead>\n",
       "    <tr style=\"text-align: right;\">\n",
       "      <th></th>\n",
       "      <th>day_p</th>\n",
       "      <th>day</th>\n",
       "    </tr>\n",
       "  </thead>\n",
       "  <tbody>\n",
       "    <tr>\n",
       "      <th>0</th>\n",
       "      <td>0</td>\n",
       "      <td>2015-03-02</td>\n",
       "    </tr>\n",
       "    <tr>\n",
       "      <th>1</th>\n",
       "      <td>1</td>\n",
       "      <td>2015-03-03</td>\n",
       "    </tr>\n",
       "    <tr>\n",
       "      <th>2</th>\n",
       "      <td>2</td>\n",
       "      <td>2015-03-04</td>\n",
       "    </tr>\n",
       "    <tr>\n",
       "      <th>3</th>\n",
       "      <td>3</td>\n",
       "      <td>2015-03-05</td>\n",
       "    </tr>\n",
       "    <tr>\n",
       "      <th>4</th>\n",
       "      <td>4</td>\n",
       "      <td>2015-03-06</td>\n",
       "    </tr>\n",
       "  </tbody>\n",
       "</table>\n",
       "</div>"
      ],
      "text/plain": [
       "   day_p        day\n",
       "0      0 2015-03-02\n",
       "1      1 2015-03-03\n",
       "2      2 2015-03-04\n",
       "3      3 2015-03-05\n",
       "4      4 2015-03-06"
      ]
     },
     "execution_count": 173,
     "metadata": {},
     "output_type": "execute_result"
    }
   ],
   "source": [
    "grped=pd.DataFrame(data=d, columns=[\"day\"])\n",
    "grped=grped.reset_index()\n",
    "grped.rename(columns={'index':'day_p' }, inplace=True)\n",
    "grped.head()"
   ]
  },
  {
   "cell_type": "code",
   "execution_count": 174,
   "metadata": {
    "collapsed": true
   },
   "outputs": [],
   "source": [
    "grped['day']=grped['day'].dt.date"
   ]
  },
  {
   "cell_type": "code",
   "execution_count": 175,
   "metadata": {
    "scrolled": true
   },
   "outputs": [
    {
     "data": {
      "text/html": [
       "<div>\n",
       "<style>\n",
       "    .dataframe thead tr:only-child th {\n",
       "        text-align: right;\n",
       "    }\n",
       "\n",
       "    .dataframe thead th {\n",
       "        text-align: left;\n",
       "    }\n",
       "\n",
       "    .dataframe tbody tr th {\n",
       "        vertical-align: top;\n",
       "    }\n",
       "</style>\n",
       "<table border=\"1\" class=\"dataframe\">\n",
       "  <thead>\n",
       "    <tr style=\"text-align: right;\">\n",
       "      <th></th>\n",
       "      <th>day_p</th>\n",
       "      <th>day</th>\n",
       "      <th>price</th>\n",
       "      <th>converted</th>\n",
       "    </tr>\n",
       "  </thead>\n",
       "  <tbody>\n",
       "    <tr>\n",
       "      <th>0</th>\n",
       "      <td>0</td>\n",
       "      <td>2015-03-02</td>\n",
       "      <td>39</td>\n",
       "      <td>0</td>\n",
       "    </tr>\n",
       "    <tr>\n",
       "      <th>1</th>\n",
       "      <td>0</td>\n",
       "      <td>2015-03-02</td>\n",
       "      <td>39</td>\n",
       "      <td>1</td>\n",
       "    </tr>\n",
       "    <tr>\n",
       "      <th>2</th>\n",
       "      <td>0</td>\n",
       "      <td>2015-03-02</td>\n",
       "      <td>59</td>\n",
       "      <td>0</td>\n",
       "    </tr>\n",
       "    <tr>\n",
       "      <th>3</th>\n",
       "      <td>0</td>\n",
       "      <td>2015-03-02</td>\n",
       "      <td>59</td>\n",
       "      <td>1</td>\n",
       "    </tr>\n",
       "    <tr>\n",
       "      <th>4</th>\n",
       "      <td>1</td>\n",
       "      <td>2015-03-03</td>\n",
       "      <td>39</td>\n",
       "      <td>0</td>\n",
       "    </tr>\n",
       "    <tr>\n",
       "      <th>5</th>\n",
       "      <td>1</td>\n",
       "      <td>2015-03-03</td>\n",
       "      <td>39</td>\n",
       "      <td>1</td>\n",
       "    </tr>\n",
       "    <tr>\n",
       "      <th>6</th>\n",
       "      <td>1</td>\n",
       "      <td>2015-03-03</td>\n",
       "      <td>59</td>\n",
       "      <td>0</td>\n",
       "    </tr>\n",
       "    <tr>\n",
       "      <th>7</th>\n",
       "      <td>1</td>\n",
       "      <td>2015-03-03</td>\n",
       "      <td>59</td>\n",
       "      <td>1</td>\n",
       "    </tr>\n",
       "    <tr>\n",
       "      <th>8</th>\n",
       "      <td>2</td>\n",
       "      <td>2015-03-04</td>\n",
       "      <td>39</td>\n",
       "      <td>0</td>\n",
       "    </tr>\n",
       "    <tr>\n",
       "      <th>9</th>\n",
       "      <td>2</td>\n",
       "      <td>2015-03-04</td>\n",
       "      <td>39</td>\n",
       "      <td>1</td>\n",
       "    </tr>\n",
       "    <tr>\n",
       "      <th>10</th>\n",
       "      <td>2</td>\n",
       "      <td>2015-03-04</td>\n",
       "      <td>59</td>\n",
       "      <td>0</td>\n",
       "    </tr>\n",
       "    <tr>\n",
       "      <th>11</th>\n",
       "      <td>2</td>\n",
       "      <td>2015-03-04</td>\n",
       "      <td>59</td>\n",
       "      <td>1</td>\n",
       "    </tr>\n",
       "    <tr>\n",
       "      <th>12</th>\n",
       "      <td>3</td>\n",
       "      <td>2015-03-05</td>\n",
       "      <td>39</td>\n",
       "      <td>0</td>\n",
       "    </tr>\n",
       "    <tr>\n",
       "      <th>13</th>\n",
       "      <td>3</td>\n",
       "      <td>2015-03-05</td>\n",
       "      <td>39</td>\n",
       "      <td>1</td>\n",
       "    </tr>\n",
       "    <tr>\n",
       "      <th>14</th>\n",
       "      <td>3</td>\n",
       "      <td>2015-03-05</td>\n",
       "      <td>59</td>\n",
       "      <td>0</td>\n",
       "    </tr>\n",
       "    <tr>\n",
       "      <th>15</th>\n",
       "      <td>3</td>\n",
       "      <td>2015-03-05</td>\n",
       "      <td>59</td>\n",
       "      <td>1</td>\n",
       "    </tr>\n",
       "    <tr>\n",
       "      <th>16</th>\n",
       "      <td>4</td>\n",
       "      <td>2015-03-06</td>\n",
       "      <td>39</td>\n",
       "      <td>0</td>\n",
       "    </tr>\n",
       "    <tr>\n",
       "      <th>17</th>\n",
       "      <td>4</td>\n",
       "      <td>2015-03-06</td>\n",
       "      <td>39</td>\n",
       "      <td>1</td>\n",
       "    </tr>\n",
       "    <tr>\n",
       "      <th>18</th>\n",
       "      <td>4</td>\n",
       "      <td>2015-03-06</td>\n",
       "      <td>59</td>\n",
       "      <td>0</td>\n",
       "    </tr>\n",
       "    <tr>\n",
       "      <th>19</th>\n",
       "      <td>4</td>\n",
       "      <td>2015-03-06</td>\n",
       "      <td>59</td>\n",
       "      <td>1</td>\n",
       "    </tr>\n",
       "  </tbody>\n",
       "</table>\n",
       "</div>"
      ],
      "text/plain": [
       "    day_p         day  price  converted\n",
       "0       0  2015-03-02     39          0\n",
       "1       0  2015-03-02     39          1\n",
       "2       0  2015-03-02     59          0\n",
       "3       0  2015-03-02     59          1\n",
       "4       1  2015-03-03     39          0\n",
       "5       1  2015-03-03     39          1\n",
       "6       1  2015-03-03     59          0\n",
       "7       1  2015-03-03     59          1\n",
       "8       2  2015-03-04     39          0\n",
       "9       2  2015-03-04     39          1\n",
       "10      2  2015-03-04     59          0\n",
       "11      2  2015-03-04     59          1\n",
       "12      3  2015-03-05     39          0\n",
       "13      3  2015-03-05     39          1\n",
       "14      3  2015-03-05     59          0\n",
       "15      3  2015-03-05     59          1\n",
       "16      4  2015-03-06     39          0\n",
       "17      4  2015-03-06     39          1\n",
       "18      4  2015-03-06     59          0\n",
       "19      4  2015-03-06     59          1"
      ]
     },
     "execution_count": 175,
     "metadata": {},
     "output_type": "execute_result"
    }
   ],
   "source": [
    "prices=pd.DataFrame(data=[39,59], columns=[\"price\"])\n",
    "\n",
    "grped['key']=1\n",
    "prices['key']=1\n",
    "\n",
    "df = pd.merge(grped, prices, on='key')\n",
    "converted=pd.DataFrame(data=[0,1], columns=[\"converted\"])\n",
    "converted['key']=1\n",
    "df = pd.merge(df, converted, on='key')\n",
    "\n",
    "\n",
    "del df['key']\n",
    "\n",
    "df.head(5)"
   ]
  },
  {
   "cell_type": "code",
   "execution_count": 176,
   "metadata": {},
   "outputs": [
    {
     "data": {
      "text/html": [
       "<div>\n",
       "<style>\n",
       "    .dataframe thead tr:only-child th {\n",
       "        text-align: right;\n",
       "    }\n",
       "\n",
       "    .dataframe thead th {\n",
       "        text-align: left;\n",
       "    }\n",
       "\n",
       "    .dataframe tbody tr th {\n",
       "        vertical-align: top;\n",
       "    }\n",
       "</style>\n",
       "<table border=\"1\" class=\"dataframe\">\n",
       "  <thead>\n",
       "    <tr style=\"text-align: right;\">\n",
       "      <th></th>\n",
       "      <th>user_id</th>\n",
       "      <th>timestamp</th>\n",
       "      <th>source</th>\n",
       "      <th>device</th>\n",
       "      <th>operative_system</th>\n",
       "      <th>test</th>\n",
       "      <th>price</th>\n",
       "      <th>converted</th>\n",
       "      <th>city</th>\n",
       "      <th>country</th>\n",
       "      <th>lat</th>\n",
       "      <th>long</th>\n",
       "    </tr>\n",
       "  </thead>\n",
       "  <tbody>\n",
       "    <tr>\n",
       "      <th>0</th>\n",
       "      <td>604839</td>\n",
       "      <td>2015-05-08</td>\n",
       "      <td>ads_facebook</td>\n",
       "      <td>mobile</td>\n",
       "      <td>iOS</td>\n",
       "      <td>0</td>\n",
       "      <td>39</td>\n",
       "      <td>0</td>\n",
       "      <td>Buffalo</td>\n",
       "      <td>USA</td>\n",
       "      <td>42.89</td>\n",
       "      <td>-78.86</td>\n",
       "    </tr>\n",
       "    <tr>\n",
       "      <th>1</th>\n",
       "      <td>624057</td>\n",
       "      <td>2015-05-10</td>\n",
       "      <td>seo-google</td>\n",
       "      <td>mobile</td>\n",
       "      <td>android</td>\n",
       "      <td>0</td>\n",
       "      <td>39</td>\n",
       "      <td>0</td>\n",
       "      <td>Lakeville</td>\n",
       "      <td>USA</td>\n",
       "      <td>44.68</td>\n",
       "      <td>-93.24</td>\n",
       "    </tr>\n",
       "    <tr>\n",
       "      <th>2</th>\n",
       "      <td>317970</td>\n",
       "      <td>2015-04-04</td>\n",
       "      <td>ads-bing</td>\n",
       "      <td>mobile</td>\n",
       "      <td>android</td>\n",
       "      <td>0</td>\n",
       "      <td>39</td>\n",
       "      <td>0</td>\n",
       "      <td>Parma</td>\n",
       "      <td>USA</td>\n",
       "      <td>41.38</td>\n",
       "      <td>-81.73</td>\n",
       "    </tr>\n",
       "    <tr>\n",
       "      <th>3</th>\n",
       "      <td>685636</td>\n",
       "      <td>2015-05-07</td>\n",
       "      <td>direct_traffic</td>\n",
       "      <td>mobile</td>\n",
       "      <td>iOS</td>\n",
       "      <td>1</td>\n",
       "      <td>59</td>\n",
       "      <td>0</td>\n",
       "      <td>Fayetteville</td>\n",
       "      <td>USA</td>\n",
       "      <td>35.07</td>\n",
       "      <td>-78.90</td>\n",
       "    </tr>\n",
       "    <tr>\n",
       "      <th>4</th>\n",
       "      <td>820854</td>\n",
       "      <td>2015-05-24</td>\n",
       "      <td>ads_facebook</td>\n",
       "      <td>web</td>\n",
       "      <td>mac</td>\n",
       "      <td>0</td>\n",
       "      <td>39</td>\n",
       "      <td>0</td>\n",
       "      <td>Fishers</td>\n",
       "      <td>USA</td>\n",
       "      <td>39.95</td>\n",
       "      <td>-86.02</td>\n",
       "    </tr>\n",
       "  </tbody>\n",
       "</table>\n",
       "</div>"
      ],
      "text/plain": [
       "   user_id   timestamp          source  device operative_system  test  price  \\\n",
       "0   604839  2015-05-08    ads_facebook  mobile              iOS     0     39   \n",
       "1   624057  2015-05-10      seo-google  mobile          android     0     39   \n",
       "2   317970  2015-04-04        ads-bing  mobile          android     0     39   \n",
       "3   685636  2015-05-07  direct_traffic  mobile              iOS     1     59   \n",
       "4   820854  2015-05-24    ads_facebook     web              mac     0     39   \n",
       "\n",
       "   converted          city country    lat   long  \n",
       "0          0       Buffalo     USA  42.89 -78.86  \n",
       "1          0     Lakeville     USA  44.68 -93.24  \n",
       "2          0         Parma     USA  41.38 -81.73  \n",
       "3          0  Fayetteville     USA  35.07 -78.90  \n",
       "4          0       Fishers     USA  39.95 -86.02  "
      ]
     },
     "execution_count": 176,
     "metadata": {},
     "output_type": "execute_result"
    }
   ],
   "source": [
    "merged.head()"
   ]
  },
  {
   "cell_type": "code",
   "execution_count": 177,
   "metadata": {},
   "outputs": [],
   "source": [
    "# row1=df.iloc[1,:]"
   ]
  },
  {
   "cell_type": "code",
   "execution_count": 178,
   "metadata": {},
   "outputs": [
    {
     "data": {
      "text/plain": [
       "datetime.date(2015, 3, 2)"
      ]
     },
     "execution_count": 178,
     "metadata": {},
     "output_type": "execute_result"
    }
   ],
   "source": [
    "# df['day'].min()"
   ]
  },
  {
   "cell_type": "code",
   "execution_count": 179,
   "metadata": {},
   "outputs": [
    {
     "data": {
      "text/plain": [
       "datetime.date(2015, 3, 2)"
      ]
     },
     "execution_count": 179,
     "metadata": {},
     "output_type": "execute_result"
    }
   ],
   "source": [
    "# row1['day']"
   ]
  },
  {
   "cell_type": "code",
   "execution_count": 180,
   "metadata": {},
   "outputs": [
    {
     "data": {
      "text/plain": [
       "datetime.date(2015, 3, 2)"
      ]
     },
     "execution_count": 180,
     "metadata": {},
     "output_type": "execute_result"
    }
   ],
   "source": [
    "# merged['timestamp'].min()"
   ]
  },
  {
   "cell_type": "code",
   "execution_count": 181,
   "metadata": {},
   "outputs": [],
   "source": [
    "# merged[merged['timestamp']==row1['day']]"
   ]
  },
  {
   "cell_type": "code",
   "execution_count": 182,
   "metadata": {},
   "outputs": [
    {
     "data": {
      "text/plain": [
       "39"
      ]
     },
     "execution_count": 182,
     "metadata": {},
     "output_type": "execute_result"
    }
   ],
   "source": [
    "# row1['price']"
   ]
  },
  {
   "cell_type": "code",
   "execution_count": 183,
   "metadata": {},
   "outputs": [
    {
     "data": {
      "text/html": [
       "<div>\n",
       "<style>\n",
       "    .dataframe thead tr:only-child th {\n",
       "        text-align: right;\n",
       "    }\n",
       "\n",
       "    .dataframe thead th {\n",
       "        text-align: left;\n",
       "    }\n",
       "\n",
       "    .dataframe tbody tr th {\n",
       "        vertical-align: top;\n",
       "    }\n",
       "</style>\n",
       "<table border=\"1\" class=\"dataframe\">\n",
       "  <thead>\n",
       "    <tr style=\"text-align: right;\">\n",
       "      <th></th>\n",
       "      <th>user_id</th>\n",
       "      <th>timestamp</th>\n",
       "      <th>source</th>\n",
       "      <th>device</th>\n",
       "      <th>operative_system</th>\n",
       "      <th>test</th>\n",
       "      <th>price</th>\n",
       "      <th>converted</th>\n",
       "      <th>city</th>\n",
       "      <th>country</th>\n",
       "      <th>lat</th>\n",
       "      <th>long</th>\n",
       "    </tr>\n",
       "  </thead>\n",
       "  <tbody>\n",
       "    <tr>\n",
       "      <th>19732</th>\n",
       "      <td>757564</td>\n",
       "      <td>2015-03-02</td>\n",
       "      <td>direct_traffic</td>\n",
       "      <td>mobile</td>\n",
       "      <td>iOS</td>\n",
       "      <td>0</td>\n",
       "      <td>39</td>\n",
       "      <td>1</td>\n",
       "      <td>Largo</td>\n",
       "      <td>USA</td>\n",
       "      <td>27.91</td>\n",
       "      <td>-82.78</td>\n",
       "    </tr>\n",
       "    <tr>\n",
       "      <th>24662</th>\n",
       "      <td>139883</td>\n",
       "      <td>2015-03-02</td>\n",
       "      <td>ads_facebook</td>\n",
       "      <td>web</td>\n",
       "      <td>windows</td>\n",
       "      <td>0</td>\n",
       "      <td>39</td>\n",
       "      <td>1</td>\n",
       "      <td>Sugar Land</td>\n",
       "      <td>USA</td>\n",
       "      <td>29.62</td>\n",
       "      <td>-95.62</td>\n",
       "    </tr>\n",
       "    <tr>\n",
       "      <th>50935</th>\n",
       "      <td>194813</td>\n",
       "      <td>2015-03-02</td>\n",
       "      <td>seo-google</td>\n",
       "      <td>web</td>\n",
       "      <td>windows</td>\n",
       "      <td>0</td>\n",
       "      <td>39</td>\n",
       "      <td>1</td>\n",
       "      <td>Riverside</td>\n",
       "      <td>USA</td>\n",
       "      <td>33.94</td>\n",
       "      <td>-117.40</td>\n",
       "    </tr>\n",
       "    <tr>\n",
       "      <th>61865</th>\n",
       "      <td>592221</td>\n",
       "      <td>2015-03-02</td>\n",
       "      <td>friend_referral</td>\n",
       "      <td>mobile</td>\n",
       "      <td>iOS</td>\n",
       "      <td>0</td>\n",
       "      <td>39</td>\n",
       "      <td>1</td>\n",
       "      <td>Buffalo</td>\n",
       "      <td>USA</td>\n",
       "      <td>42.89</td>\n",
       "      <td>-78.86</td>\n",
       "    </tr>\n",
       "    <tr>\n",
       "      <th>80359</th>\n",
       "      <td>499639</td>\n",
       "      <td>2015-03-02</td>\n",
       "      <td>ads_facebook</td>\n",
       "      <td>web</td>\n",
       "      <td>windows</td>\n",
       "      <td>0</td>\n",
       "      <td>39</td>\n",
       "      <td>1</td>\n",
       "      <td>Amarillo</td>\n",
       "      <td>USA</td>\n",
       "      <td>35.20</td>\n",
       "      <td>-101.82</td>\n",
       "    </tr>\n",
       "    <tr>\n",
       "      <th>93430</th>\n",
       "      <td>378471</td>\n",
       "      <td>2015-03-02</td>\n",
       "      <td>seo-google</td>\n",
       "      <td>web</td>\n",
       "      <td>windows</td>\n",
       "      <td>0</td>\n",
       "      <td>39</td>\n",
       "      <td>1</td>\n",
       "      <td>Billerica</td>\n",
       "      <td>USA</td>\n",
       "      <td>42.56</td>\n",
       "      <td>-71.26</td>\n",
       "    </tr>\n",
       "    <tr>\n",
       "      <th>112546</th>\n",
       "      <td>660034</td>\n",
       "      <td>2015-03-02</td>\n",
       "      <td>friend_referral</td>\n",
       "      <td>mobile</td>\n",
       "      <td>iOS</td>\n",
       "      <td>0</td>\n",
       "      <td>39</td>\n",
       "      <td>1</td>\n",
       "      <td>Memphis</td>\n",
       "      <td>USA</td>\n",
       "      <td>35.11</td>\n",
       "      <td>-90.01</td>\n",
       "    </tr>\n",
       "    <tr>\n",
       "      <th>121005</th>\n",
       "      <td>575264</td>\n",
       "      <td>2015-03-02</td>\n",
       "      <td>direct_traffic</td>\n",
       "      <td>web</td>\n",
       "      <td>windows</td>\n",
       "      <td>0</td>\n",
       "      <td>39</td>\n",
       "      <td>1</td>\n",
       "      <td>Birmingham</td>\n",
       "      <td>USA</td>\n",
       "      <td>33.53</td>\n",
       "      <td>-86.80</td>\n",
       "    </tr>\n",
       "    <tr>\n",
       "      <th>124557</th>\n",
       "      <td>230643</td>\n",
       "      <td>2015-03-02</td>\n",
       "      <td>friend_referral</td>\n",
       "      <td>web</td>\n",
       "      <td>windows</td>\n",
       "      <td>0</td>\n",
       "      <td>39</td>\n",
       "      <td>1</td>\n",
       "      <td>Fountainbleau</td>\n",
       "      <td>USA</td>\n",
       "      <td>25.77</td>\n",
       "      <td>-80.35</td>\n",
       "    </tr>\n",
       "    <tr>\n",
       "      <th>126234</th>\n",
       "      <td>293219</td>\n",
       "      <td>2015-03-02</td>\n",
       "      <td>seo_facebook</td>\n",
       "      <td>web</td>\n",
       "      <td>mac</td>\n",
       "      <td>0</td>\n",
       "      <td>39</td>\n",
       "      <td>1</td>\n",
       "      <td>San Leandro</td>\n",
       "      <td>USA</td>\n",
       "      <td>37.71</td>\n",
       "      <td>-122.15</td>\n",
       "    </tr>\n",
       "    <tr>\n",
       "      <th>174962</th>\n",
       "      <td>882904</td>\n",
       "      <td>2015-03-02</td>\n",
       "      <td>friend_referral</td>\n",
       "      <td>mobile</td>\n",
       "      <td>iOS</td>\n",
       "      <td>0</td>\n",
       "      <td>39</td>\n",
       "      <td>1</td>\n",
       "      <td>Pomona</td>\n",
       "      <td>USA</td>\n",
       "      <td>34.06</td>\n",
       "      <td>-117.76</td>\n",
       "    </tr>\n",
       "    <tr>\n",
       "      <th>181382</th>\n",
       "      <td>576305</td>\n",
       "      <td>2015-03-02</td>\n",
       "      <td>seo-yahoo</td>\n",
       "      <td>mobile</td>\n",
       "      <td>iOS</td>\n",
       "      <td>0</td>\n",
       "      <td>39</td>\n",
       "      <td>1</td>\n",
       "      <td>Parsippany-Troy Hills Township</td>\n",
       "      <td>USA</td>\n",
       "      <td>40.86</td>\n",
       "      <td>-74.42</td>\n",
       "    </tr>\n",
       "    <tr>\n",
       "      <th>203135</th>\n",
       "      <td>967448</td>\n",
       "      <td>2015-03-02</td>\n",
       "      <td>ads-google</td>\n",
       "      <td>mobile</td>\n",
       "      <td>other</td>\n",
       "      <td>0</td>\n",
       "      <td>39</td>\n",
       "      <td>1</td>\n",
       "      <td>New York</td>\n",
       "      <td>USA</td>\n",
       "      <td>40.67</td>\n",
       "      <td>-73.94</td>\n",
       "    </tr>\n",
       "    <tr>\n",
       "      <th>206527</th>\n",
       "      <td>401093</td>\n",
       "      <td>2015-03-02</td>\n",
       "      <td>seo-google</td>\n",
       "      <td>mobile</td>\n",
       "      <td>android</td>\n",
       "      <td>0</td>\n",
       "      <td>39</td>\n",
       "      <td>1</td>\n",
       "      <td>Indianapolis</td>\n",
       "      <td>USA</td>\n",
       "      <td>39.78</td>\n",
       "      <td>-86.15</td>\n",
       "    </tr>\n",
       "    <tr>\n",
       "      <th>256939</th>\n",
       "      <td>208952</td>\n",
       "      <td>2015-03-02</td>\n",
       "      <td>ads_facebook</td>\n",
       "      <td>mobile</td>\n",
       "      <td>iOS</td>\n",
       "      <td>0</td>\n",
       "      <td>39</td>\n",
       "      <td>1</td>\n",
       "      <td>Westminster</td>\n",
       "      <td>USA</td>\n",
       "      <td>39.88</td>\n",
       "      <td>-105.05</td>\n",
       "    </tr>\n",
       "  </tbody>\n",
       "</table>\n",
       "</div>"
      ],
      "text/plain": [
       "        user_id   timestamp           source  device operative_system  test  \\\n",
       "19732    757564  2015-03-02   direct_traffic  mobile              iOS     0   \n",
       "24662    139883  2015-03-02     ads_facebook     web          windows     0   \n",
       "50935    194813  2015-03-02       seo-google     web          windows     0   \n",
       "61865    592221  2015-03-02  friend_referral  mobile              iOS     0   \n",
       "80359    499639  2015-03-02     ads_facebook     web          windows     0   \n",
       "93430    378471  2015-03-02       seo-google     web          windows     0   \n",
       "112546   660034  2015-03-02  friend_referral  mobile              iOS     0   \n",
       "121005   575264  2015-03-02   direct_traffic     web          windows     0   \n",
       "124557   230643  2015-03-02  friend_referral     web          windows     0   \n",
       "126234   293219  2015-03-02     seo_facebook     web              mac     0   \n",
       "174962   882904  2015-03-02  friend_referral  mobile              iOS     0   \n",
       "181382   576305  2015-03-02        seo-yahoo  mobile              iOS     0   \n",
       "203135   967448  2015-03-02       ads-google  mobile            other     0   \n",
       "206527   401093  2015-03-02       seo-google  mobile          android     0   \n",
       "256939   208952  2015-03-02     ads_facebook  mobile              iOS     0   \n",
       "\n",
       "        price  converted                            city country    lat  \\\n",
       "19732      39          1                           Largo     USA  27.91   \n",
       "24662      39          1                      Sugar Land     USA  29.62   \n",
       "50935      39          1                       Riverside     USA  33.94   \n",
       "61865      39          1                         Buffalo     USA  42.89   \n",
       "80359      39          1                        Amarillo     USA  35.20   \n",
       "93430      39          1                       Billerica     USA  42.56   \n",
       "112546     39          1                         Memphis     USA  35.11   \n",
       "121005     39          1                      Birmingham     USA  33.53   \n",
       "124557     39          1                   Fountainbleau     USA  25.77   \n",
       "126234     39          1                     San Leandro     USA  37.71   \n",
       "174962     39          1                          Pomona     USA  34.06   \n",
       "181382     39          1  Parsippany-Troy Hills Township     USA  40.86   \n",
       "203135     39          1                        New York     USA  40.67   \n",
       "206527     39          1                    Indianapolis     USA  39.78   \n",
       "256939     39          1                     Westminster     USA  39.88   \n",
       "\n",
       "          long  \n",
       "19732   -82.78  \n",
       "24662   -95.62  \n",
       "50935  -117.40  \n",
       "61865   -78.86  \n",
       "80359  -101.82  \n",
       "93430   -71.26  \n",
       "112546  -90.01  \n",
       "121005  -86.80  \n",
       "124557  -80.35  \n",
       "126234 -122.15  \n",
       "174962 -117.76  \n",
       "181382  -74.42  \n",
       "203135  -73.94  \n",
       "206527  -86.15  \n",
       "256939 -105.05  "
      ]
     },
     "execution_count": 183,
     "metadata": {},
     "output_type": "execute_result"
    }
   ],
   "source": [
    "# merged[(merged['timestamp']==row1['day'])&(merged['price']==row1['price'])&(merged['converted']==row1['converted'])]"
   ]
  },
  {
   "cell_type": "code",
   "execution_count": 184,
   "metadata": {
    "collapsed": true
   },
   "outputs": [],
   "source": [
    "def summer (row1):\n",
    "    vals=merged[(merged['timestamp']==row1['day'])&(merged['price']==row1['price'])&(merged['converted']==row1['converted'])].groupby(['price'])['price'].count()\n",
    "    head_count_val_in=vals.values.tolist()    \n",
    "    if len (head_count_val_in)==0:\n",
    "        head_count_val_in.append(0)\n",
    "\n",
    "      \n",
    "    \n",
    "    head_count=head_count_val_in[0]\n",
    "    return head_count"
   ]
  },
  {
   "cell_type": "code",
   "execution_count": 185,
   "metadata": {
    "collapsed": true
   },
   "outputs": [],
   "source": [
    "valus=df.apply(summer, axis=1)"
   ]
  },
  {
   "cell_type": "code",
   "execution_count": 186,
   "metadata": {},
   "outputs": [],
   "source": [
    "# valus"
   ]
  },
  {
   "cell_type": "code",
   "execution_count": 244,
   "metadata": {},
   "outputs": [
    {
     "data": {
      "text/html": [
       "<div>\n",
       "<style>\n",
       "    .dataframe thead tr:only-child th {\n",
       "        text-align: right;\n",
       "    }\n",
       "\n",
       "    .dataframe thead th {\n",
       "        text-align: left;\n",
       "    }\n",
       "\n",
       "    .dataframe tbody tr th {\n",
       "        vertical-align: top;\n",
       "    }\n",
       "</style>\n",
       "<table border=\"1\" class=\"dataframe\">\n",
       "  <thead>\n",
       "    <tr style=\"text-align: right;\">\n",
       "      <th></th>\n",
       "      <th>day_p</th>\n",
       "      <th>day</th>\n",
       "      <th>price</th>\n",
       "      <th>converted</th>\n",
       "      <th>counts</th>\n",
       "      <th>cum_counts</th>\n",
       "      <th>total_rev</th>\n",
       "    </tr>\n",
       "  </thead>\n",
       "  <tbody>\n",
       "    <tr>\n",
       "      <th>0</th>\n",
       "      <td>0</td>\n",
       "      <td>2015-03-02</td>\n",
       "      <td>39</td>\n",
       "      <td>0</td>\n",
       "      <td>868</td>\n",
       "      <td>868</td>\n",
       "      <td>33852</td>\n",
       "    </tr>\n",
       "    <tr>\n",
       "      <th>1</th>\n",
       "      <td>0</td>\n",
       "      <td>2015-03-02</td>\n",
       "      <td>39</td>\n",
       "      <td>1</td>\n",
       "      <td>15</td>\n",
       "      <td>15</td>\n",
       "      <td>585</td>\n",
       "    </tr>\n",
       "    <tr>\n",
       "      <th>2</th>\n",
       "      <td>0</td>\n",
       "      <td>2015-03-02</td>\n",
       "      <td>59</td>\n",
       "      <td>0</td>\n",
       "      <td>495</td>\n",
       "      <td>495</td>\n",
       "      <td>29205</td>\n",
       "    </tr>\n",
       "    <tr>\n",
       "      <th>3</th>\n",
       "      <td>0</td>\n",
       "      <td>2015-03-02</td>\n",
       "      <td>59</td>\n",
       "      <td>1</td>\n",
       "      <td>8</td>\n",
       "      <td>8</td>\n",
       "      <td>472</td>\n",
       "    </tr>\n",
       "    <tr>\n",
       "      <th>4</th>\n",
       "      <td>1</td>\n",
       "      <td>2015-03-03</td>\n",
       "      <td>39</td>\n",
       "      <td>0</td>\n",
       "      <td>791</td>\n",
       "      <td>1659</td>\n",
       "      <td>64701</td>\n",
       "    </tr>\n",
       "  </tbody>\n",
       "</table>\n",
       "</div>"
      ],
      "text/plain": [
       "   day_p         day  price  converted  counts  cum_counts  total_rev\n",
       "0      0  2015-03-02     39          0     868         868      33852\n",
       "1      0  2015-03-02     39          1      15          15        585\n",
       "2      0  2015-03-02     59          0     495         495      29205\n",
       "3      0  2015-03-02     59          1       8           8        472\n",
       "4      1  2015-03-03     39          0     791        1659      64701"
      ]
     },
     "execution_count": 244,
     "metadata": {},
     "output_type": "execute_result"
    }
   ],
   "source": [
    "df['counts']=valus\n",
    "df.head()"
   ]
  },
  {
   "cell_type": "code",
   "execution_count": 245,
   "metadata": {},
   "outputs": [
    {
     "data": {
      "text/html": [
       "<div>\n",
       "<style>\n",
       "    .dataframe thead tr:only-child th {\n",
       "        text-align: right;\n",
       "    }\n",
       "\n",
       "    .dataframe thead th {\n",
       "        text-align: left;\n",
       "    }\n",
       "\n",
       "    .dataframe tbody tr th {\n",
       "        vertical-align: top;\n",
       "    }\n",
       "</style>\n",
       "<table border=\"1\" class=\"dataframe\">\n",
       "  <thead>\n",
       "    <tr style=\"text-align: right;\">\n",
       "      <th></th>\n",
       "      <th>day_p</th>\n",
       "      <th>day</th>\n",
       "      <th>price</th>\n",
       "      <th>converted</th>\n",
       "      <th>counts</th>\n",
       "      <th>cum_counts</th>\n",
       "      <th>total_rev</th>\n",
       "    </tr>\n",
       "  </thead>\n",
       "  <tbody>\n",
       "    <tr>\n",
       "      <th>0</th>\n",
       "      <td>0</td>\n",
       "      <td>2015-03-02</td>\n",
       "      <td>39</td>\n",
       "      <td>0</td>\n",
       "      <td>868</td>\n",
       "      <td>868</td>\n",
       "      <td>33852</td>\n",
       "    </tr>\n",
       "    <tr>\n",
       "      <th>1</th>\n",
       "      <td>0</td>\n",
       "      <td>2015-03-02</td>\n",
       "      <td>39</td>\n",
       "      <td>1</td>\n",
       "      <td>15</td>\n",
       "      <td>15</td>\n",
       "      <td>585</td>\n",
       "    </tr>\n",
       "    <tr>\n",
       "      <th>2</th>\n",
       "      <td>0</td>\n",
       "      <td>2015-03-02</td>\n",
       "      <td>59</td>\n",
       "      <td>0</td>\n",
       "      <td>495</td>\n",
       "      <td>495</td>\n",
       "      <td>29205</td>\n",
       "    </tr>\n",
       "    <tr>\n",
       "      <th>3</th>\n",
       "      <td>0</td>\n",
       "      <td>2015-03-02</td>\n",
       "      <td>59</td>\n",
       "      <td>1</td>\n",
       "      <td>8</td>\n",
       "      <td>8</td>\n",
       "      <td>472</td>\n",
       "    </tr>\n",
       "    <tr>\n",
       "      <th>4</th>\n",
       "      <td>1</td>\n",
       "      <td>2015-03-03</td>\n",
       "      <td>39</td>\n",
       "      <td>0</td>\n",
       "      <td>791</td>\n",
       "      <td>1659</td>\n",
       "      <td>64701</td>\n",
       "    </tr>\n",
       "    <tr>\n",
       "      <th>5</th>\n",
       "      <td>1</td>\n",
       "      <td>2015-03-03</td>\n",
       "      <td>39</td>\n",
       "      <td>1</td>\n",
       "      <td>19</td>\n",
       "      <td>34</td>\n",
       "      <td>1326</td>\n",
       "    </tr>\n",
       "    <tr>\n",
       "      <th>6</th>\n",
       "      <td>1</td>\n",
       "      <td>2015-03-03</td>\n",
       "      <td>59</td>\n",
       "      <td>0</td>\n",
       "      <td>495</td>\n",
       "      <td>990</td>\n",
       "      <td>58410</td>\n",
       "    </tr>\n",
       "    <tr>\n",
       "      <th>7</th>\n",
       "      <td>1</td>\n",
       "      <td>2015-03-03</td>\n",
       "      <td>59</td>\n",
       "      <td>1</td>\n",
       "      <td>4</td>\n",
       "      <td>12</td>\n",
       "      <td>708</td>\n",
       "    </tr>\n",
       "    <tr>\n",
       "      <th>8</th>\n",
       "      <td>2</td>\n",
       "      <td>2015-03-04</td>\n",
       "      <td>39</td>\n",
       "      <td>0</td>\n",
       "      <td>802</td>\n",
       "      <td>2461</td>\n",
       "      <td>95979</td>\n",
       "    </tr>\n",
       "    <tr>\n",
       "      <th>9</th>\n",
       "      <td>2</td>\n",
       "      <td>2015-03-04</td>\n",
       "      <td>39</td>\n",
       "      <td>1</td>\n",
       "      <td>24</td>\n",
       "      <td>58</td>\n",
       "      <td>2262</td>\n",
       "    </tr>\n",
       "  </tbody>\n",
       "</table>\n",
       "</div>"
      ],
      "text/plain": [
       "   day_p         day  price  converted  counts  cum_counts  total_rev\n",
       "0      0  2015-03-02     39          0     868         868      33852\n",
       "1      0  2015-03-02     39          1      15          15        585\n",
       "2      0  2015-03-02     59          0     495         495      29205\n",
       "3      0  2015-03-02     59          1       8           8        472\n",
       "4      1  2015-03-03     39          0     791        1659      64701\n",
       "5      1  2015-03-03     39          1      19          34       1326\n",
       "6      1  2015-03-03     59          0     495         990      58410\n",
       "7      1  2015-03-03     59          1       4          12        708\n",
       "8      2  2015-03-04     39          0     802        2461      95979\n",
       "9      2  2015-03-04     39          1      24          58       2262"
      ]
     },
     "execution_count": 245,
     "metadata": {},
     "output_type": "execute_result"
    }
   ],
   "source": [
    "df['cum_counts']=df.groupby(['price', 'converted'])['counts'].cumsum()\n",
    "\n",
    "df.head(5)"
   ]
  },
  {
   "cell_type": "code",
   "execution_count": 246,
   "metadata": {
    "collapsed": true
   },
   "outputs": [],
   "source": [
    "df['total_rev']=df['price']*df['cum_counts']"
   ]
  },
  {
   "cell_type": "code",
   "execution_count": 247,
   "metadata": {
    "collapsed": true
   },
   "outputs": [],
   "source": [
    "df2=df.copy(deep=True)"
   ]
  },
  {
   "cell_type": "code",
   "execution_count": 248,
   "metadata": {},
   "outputs": [
    {
     "data": {
      "text/html": [
       "<div>\n",
       "<style>\n",
       "    .dataframe thead tr:only-child th {\n",
       "        text-align: right;\n",
       "    }\n",
       "\n",
       "    .dataframe thead th {\n",
       "        text-align: left;\n",
       "    }\n",
       "\n",
       "    .dataframe tbody tr th {\n",
       "        vertical-align: top;\n",
       "    }\n",
       "</style>\n",
       "<table border=\"1\" class=\"dataframe\">\n",
       "  <thead>\n",
       "    <tr style=\"text-align: right;\">\n",
       "      <th></th>\n",
       "      <th>day_p</th>\n",
       "      <th>day</th>\n",
       "      <th>price</th>\n",
       "      <th>converted</th>\n",
       "      <th>counts</th>\n",
       "      <th>cum_counts</th>\n",
       "      <th>total_rev</th>\n",
       "    </tr>\n",
       "  </thead>\n",
       "  <tbody>\n",
       "    <tr>\n",
       "      <th>0</th>\n",
       "      <td>0</td>\n",
       "      <td>2015-03-02</td>\n",
       "      <td>39</td>\n",
       "      <td>0</td>\n",
       "      <td>868</td>\n",
       "      <td>868</td>\n",
       "      <td>33852</td>\n",
       "    </tr>\n",
       "    <tr>\n",
       "      <th>1</th>\n",
       "      <td>0</td>\n",
       "      <td>2015-03-02</td>\n",
       "      <td>39</td>\n",
       "      <td>1</td>\n",
       "      <td>15</td>\n",
       "      <td>15</td>\n",
       "      <td>585</td>\n",
       "    </tr>\n",
       "    <tr>\n",
       "      <th>2</th>\n",
       "      <td>0</td>\n",
       "      <td>2015-03-02</td>\n",
       "      <td>59</td>\n",
       "      <td>0</td>\n",
       "      <td>495</td>\n",
       "      <td>495</td>\n",
       "      <td>29205</td>\n",
       "    </tr>\n",
       "    <tr>\n",
       "      <th>3</th>\n",
       "      <td>0</td>\n",
       "      <td>2015-03-02</td>\n",
       "      <td>59</td>\n",
       "      <td>1</td>\n",
       "      <td>8</td>\n",
       "      <td>8</td>\n",
       "      <td>472</td>\n",
       "    </tr>\n",
       "    <tr>\n",
       "      <th>4</th>\n",
       "      <td>1</td>\n",
       "      <td>2015-03-03</td>\n",
       "      <td>39</td>\n",
       "      <td>0</td>\n",
       "      <td>791</td>\n",
       "      <td>1659</td>\n",
       "      <td>64701</td>\n",
       "    </tr>\n",
       "  </tbody>\n",
       "</table>\n",
       "</div>"
      ],
      "text/plain": [
       "   day_p         day  price  converted  counts  cum_counts  total_rev\n",
       "0      0  2015-03-02     39          0     868         868      33852\n",
       "1      0  2015-03-02     39          1      15          15        585\n",
       "2      0  2015-03-02     59          0     495         495      29205\n",
       "3      0  2015-03-02     59          1       8           8        472\n",
       "4      1  2015-03-03     39          0     791        1659      64701"
      ]
     },
     "execution_count": 248,
     "metadata": {},
     "output_type": "execute_result"
    }
   ],
   "source": [
    "df2.head()"
   ]
  },
  {
   "cell_type": "code",
   "execution_count": null,
   "metadata": {
    "collapsed": true
   },
   "outputs": [],
   "source": []
  },
  {
   "cell_type": "code",
   "execution_count": 252,
   "metadata": {},
   "outputs": [],
   "source": [
    "df2 = df.pivot_table(\n",
    "    values='cum_counts',\n",
    "    index=['day_p', 'day','price'],\n",
    "    columns='converted'\n",
    "    )\n",
    "\n",
    "# Formatting.\n",
    "df2.reset_index(inplace=True)\n",
    "df2.rename(columns={0:\"converted_0\", 1:\"converted_1\"}, inplace=True)"
   ]
  },
  {
   "cell_type": "code",
   "execution_count": 253,
   "metadata": {},
   "outputs": [
    {
     "data": {
      "text/html": [
       "<div>\n",
       "<style>\n",
       "    .dataframe thead tr:only-child th {\n",
       "        text-align: right;\n",
       "    }\n",
       "\n",
       "    .dataframe thead th {\n",
       "        text-align: left;\n",
       "    }\n",
       "\n",
       "    .dataframe tbody tr th {\n",
       "        vertical-align: top;\n",
       "    }\n",
       "</style>\n",
       "<table border=\"1\" class=\"dataframe\">\n",
       "  <thead>\n",
       "    <tr style=\"text-align: right;\">\n",
       "      <th>converted</th>\n",
       "      <th>day_p</th>\n",
       "      <th>day</th>\n",
       "      <th>price</th>\n",
       "      <th>converted_0</th>\n",
       "      <th>converted_1</th>\n",
       "    </tr>\n",
       "  </thead>\n",
       "  <tbody>\n",
       "    <tr>\n",
       "      <th>0</th>\n",
       "      <td>0</td>\n",
       "      <td>2015-03-02</td>\n",
       "      <td>39</td>\n",
       "      <td>868</td>\n",
       "      <td>15</td>\n",
       "    </tr>\n",
       "    <tr>\n",
       "      <th>1</th>\n",
       "      <td>0</td>\n",
       "      <td>2015-03-02</td>\n",
       "      <td>59</td>\n",
       "      <td>495</td>\n",
       "      <td>8</td>\n",
       "    </tr>\n",
       "    <tr>\n",
       "      <th>2</th>\n",
       "      <td>1</td>\n",
       "      <td>2015-03-03</td>\n",
       "      <td>39</td>\n",
       "      <td>1659</td>\n",
       "      <td>34</td>\n",
       "    </tr>\n",
       "    <tr>\n",
       "      <th>3</th>\n",
       "      <td>1</td>\n",
       "      <td>2015-03-03</td>\n",
       "      <td>59</td>\n",
       "      <td>990</td>\n",
       "      <td>12</td>\n",
       "    </tr>\n",
       "    <tr>\n",
       "      <th>4</th>\n",
       "      <td>2</td>\n",
       "      <td>2015-03-04</td>\n",
       "      <td>39</td>\n",
       "      <td>2461</td>\n",
       "      <td>58</td>\n",
       "    </tr>\n",
       "  </tbody>\n",
       "</table>\n",
       "</div>"
      ],
      "text/plain": [
       "converted  day_p         day  price  converted_0  converted_1\n",
       "0              0  2015-03-02     39          868           15\n",
       "1              0  2015-03-02     59          495            8\n",
       "2              1  2015-03-03     39         1659           34\n",
       "3              1  2015-03-03     59          990           12\n",
       "4              2  2015-03-04     39         2461           58"
      ]
     },
     "execution_count": 253,
     "metadata": {},
     "output_type": "execute_result"
    }
   ],
   "source": [
    "df2.head()"
   ]
  },
  {
   "cell_type": "code",
   "execution_count": 268,
   "metadata": {
    "collapsed": true
   },
   "outputs": [],
   "source": [
    "df2['converted_t']=df2['converted_0']+df2['converted_1']\n",
    "df2['sold_ratio']=df2['converted_1']/df2['converted_t']\n",
    "\n",
    "# df2['rev_gen']=df2['sold_ratio']*df2['price']*df2['converted_t']"
   ]
  },
  {
   "cell_type": "code",
   "execution_count": 273,
   "metadata": {},
   "outputs": [],
   "source": [
    "mapper=df2.groupby(['day_p'])['converted_t'].sum()"
   ]
  },
  {
   "cell_type": "code",
   "execution_count": 277,
   "metadata": {},
   "outputs": [],
   "source": [
    "df2['rev_gen']=df2['day_p'].map(mapper)*df2['sold_ratio']*df2['price']"
   ]
  },
  {
   "cell_type": "code",
   "execution_count": 285,
   "metadata": {},
   "outputs": [
    {
     "data": {
      "text/html": [
       "<div>\n",
       "<style>\n",
       "    .dataframe thead tr:only-child th {\n",
       "        text-align: right;\n",
       "    }\n",
       "\n",
       "    .dataframe thead th {\n",
       "        text-align: left;\n",
       "    }\n",
       "\n",
       "    .dataframe tbody tr th {\n",
       "        vertical-align: top;\n",
       "    }\n",
       "</style>\n",
       "<table border=\"1\" class=\"dataframe\">\n",
       "  <thead>\n",
       "    <tr style=\"text-align: right;\">\n",
       "      <th>converted</th>\n",
       "      <th>day_p</th>\n",
       "      <th>day</th>\n",
       "      <th>price</th>\n",
       "      <th>converted_0</th>\n",
       "      <th>converted_1</th>\n",
       "      <th>rev_gen</th>\n",
       "      <th>sold_ratio</th>\n",
       "      <th>converted_t</th>\n",
       "    </tr>\n",
       "  </thead>\n",
       "  <tbody>\n",
       "    <tr>\n",
       "      <th>0</th>\n",
       "      <td>0</td>\n",
       "      <td>2015-03-02</td>\n",
       "      <td>39</td>\n",
       "      <td>868</td>\n",
       "      <td>15</td>\n",
       "      <td>918.244621</td>\n",
       "      <td>0.016988</td>\n",
       "      <td>883</td>\n",
       "    </tr>\n",
       "    <tr>\n",
       "      <th>1</th>\n",
       "      <td>0</td>\n",
       "      <td>2015-03-02</td>\n",
       "      <td>59</td>\n",
       "      <td>495</td>\n",
       "      <td>8</td>\n",
       "      <td>1300.580517</td>\n",
       "      <td>0.015905</td>\n",
       "      <td>503</td>\n",
       "    </tr>\n",
       "    <tr>\n",
       "      <th>2</th>\n",
       "      <td>1</td>\n",
       "      <td>2015-03-03</td>\n",
       "      <td>39</td>\n",
       "      <td>1659</td>\n",
       "      <td>34</td>\n",
       "      <td>2110.791494</td>\n",
       "      <td>0.020083</td>\n",
       "      <td>1693</td>\n",
       "    </tr>\n",
       "    <tr>\n",
       "      <th>3</th>\n",
       "      <td>1</td>\n",
       "      <td>2015-03-03</td>\n",
       "      <td>59</td>\n",
       "      <td>990</td>\n",
       "      <td>12</td>\n",
       "      <td>1904.251497</td>\n",
       "      <td>0.011976</td>\n",
       "      <td>1002</td>\n",
       "    </tr>\n",
       "    <tr>\n",
       "      <th>4</th>\n",
       "      <td>2</td>\n",
       "      <td>2015-03-04</td>\n",
       "      <td>39</td>\n",
       "      <td>2461</td>\n",
       "      <td>58</td>\n",
       "      <td>3512.879714</td>\n",
       "      <td>0.023025</td>\n",
       "      <td>2519</td>\n",
       "    </tr>\n",
       "  </tbody>\n",
       "</table>\n",
       "</div>"
      ],
      "text/plain": [
       "converted  day_p         day  price  converted_0  converted_1      rev_gen  \\\n",
       "0              0  2015-03-02     39          868           15   918.244621   \n",
       "1              0  2015-03-02     59          495            8  1300.580517   \n",
       "2              1  2015-03-03     39         1659           34  2110.791494   \n",
       "3              1  2015-03-03     59          990           12  1904.251497   \n",
       "4              2  2015-03-04     39         2461           58  3512.879714   \n",
       "\n",
       "converted  sold_ratio  converted_t  \n",
       "0            0.016988          883  \n",
       "1            0.015905          503  \n",
       "2            0.020083         1693  \n",
       "3            0.011976         1002  \n",
       "4            0.023025         2519  "
      ]
     },
     "execution_count": 285,
     "metadata": {},
     "output_type": "execute_result"
    }
   ],
   "source": [
    "df2.head(5)"
   ]
  },
  {
   "cell_type": "code",
   "execution_count": 239,
   "metadata": {},
   "outputs": [],
   "source": [
    "# merged.loc[1,'timestamp'].date()==pd.to_datetime(\"2015-05-10\").date()"
   ]
  },
  {
   "cell_type": "code",
   "execution_count": 290,
   "metadata": {},
   "outputs": [
    {
     "data": {
      "image/png": "[encoded data removed]",
      "text/plain": [
       "<matplotlib.figure.Figure at 0x2010ecc2898>"
      ]
     },
     "metadata": {},
     "output_type": "display_data"
    }
   ],
   "source": [
    "# f, (ax2) = plt.subplots(1,1,figsize=(18, 5))\n",
    "\n",
    "\n",
    "# sns.countplot(x='Age_years',data=tdata2, ax=ax1, hue='Solve Match Pos')\n",
    "g=sns.lmplot(x='day_p', y='rev_gen', data=df2, hue='price',  size=15, sharey=False)\n"
   ]
  },
  {
   "cell_type": "code",
   "execution_count": 287,
   "metadata": {},
   "outputs": [
    {
     "data": {
      "image/png": "[encoded data removed]",
      "text/plain": [
       "<matplotlib.figure.Figure at 0x20109ac6630>"
      ]
     },
     "metadata": {},
     "output_type": "display_data"
    }
   ],
   "source": [
    "# f, (ax2) = plt.subplots(1,1,figsize=(18, 5))\n",
    "\n",
    "\n",
    "# sns.countplot(x='Age_years',data=tdata2, ax=ax1, hue='Solve Match Pos')\n",
    "g=sns.lmplot(x='day_p', y='sold_ratio', data=df2, hue='price',  size=10, sharey=False)\n"
   ]
  },
  {
   "cell_type": "markdown",
   "metadata": {},
   "source": [
    "## Summary 3:\n",
    "\n",
    "### 1. There is periodicity in the day for revenue generated (period = 1 week)\n",
    "### 2. New price, 59 USD does better than the current price from week 2 onwards.\n",
    "### 3. The conversion ratio stabilizes 3 weeks onwards.\n",
    "### 4.  The test could have been stopped after 3 weeks as new price overtakes current price and conversion ratio stabilizes."
   ]
  },
  {
   "cell_type": "code",
   "execution_count": 284,
   "metadata": {},
   "outputs": [],
   "source": [
    "# merged.isnull().sum()\n",
    "# len(merged)"
   ]
  },
  {
   "cell_type": "code",
   "execution_count": 283,
   "metadata": {},
   "outputs": [],
   "source": [
    "# merged.describe()"
   ]
  },
  {
   "cell_type": "code",
   "execution_count": 282,
   "metadata": {},
   "outputs": [],
   "source": [
    "# sns.pairplot(merged)"
   ]
  },
  {
   "cell_type": "code",
   "execution_count": 284,
   "metadata": {
    "collapsed": true
   },
   "outputs": [],
   "source": [
    "# merged2=merged.copy(deep=True)"
   ]
  },
  {
   "cell_type": "code",
   "execution_count": null,
   "metadata": {
    "collapsed": true
   },
   "outputs": [],
   "source": [
    "\n",
    "# merged=pd.get_dummies(columns=['operative_system'], data=merged) #One hot encoding\n",
    "# merged=pd.get_dummies(columns=['device'], data=merged) #One hot encoding\n",
    "# merged=pd.get_dummies(columns=['source'], data=merged) #One hot encoding\n",
    "# merged=pd.get_dummies(columns=['city'], data=merged) #One hot encoding"
   ]
  },
  {
   "cell_type": "code",
   "execution_count": null,
   "metadata": {},
   "outputs": [
    {
     "data": {
      "text/plain": [
       "<matplotlib.axes._subplots.AxesSubplot at 0x21e1e810fd0>"
      ]
     },
     "execution_count": 286,
     "metadata": {},
     "output_type": "execute_result"
    }
   ],
   "source": [
    "\n",
    "\n",
    "# # Set up the matplotlib figure\n",
    "# f, ax = plt.subplots(figsize=(20, 20))\n",
    "\n",
    "# # Generate a custom diverging colormap\n",
    "# cmap = sns.diverging_palette(220, 10, as_cmap=True)\n",
    "\n",
    "# sns.heatmap(merged.corr(),  cmap=cmap, annot=True, vmax=.3, center=0,\n",
    "#             square=True, linewidths=.5, cbar_kws={\"shrink\": .5})\n",
    "\n"
   ]
  },
  {
   "cell_type": "code",
   "execution_count": null,
   "metadata": {
    "collapsed": true
   },
   "outputs": [],
   "source": []
  }
 ],
 "metadata": {
  "kernelspec": {
   "display_name": "Python [conda root]",
   "language": "python",
   "name": "conda-root-py"
  },
  "language_info": {
   "codemirror_mode": {
    "name": "ipython",
    "version": 3
   },
   "file_extension": ".py",
   "mimetype": "text/x-python",
   "name": "python",
   "nbconvert_exporter": "python",
   "pygments_lexer": "ipython3",
   "version": "3.6.1"
  }
 },
 "nbformat": 4,
 "nbformat_minor": 2
}
