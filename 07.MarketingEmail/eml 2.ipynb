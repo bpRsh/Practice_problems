{
 "cells": [
  {
   "cell_type": "code",
   "execution_count": 1,
   "metadata": {
    "collapsed": true
   },
   "outputs": [],
   "source": [
    "import itertools\n",
    "import cPickle\n",
    "import numpy as np\n",
    "import pandas as pd\n",
    "import matplotlib.pyplot as plt\n",
    "plt.style.use(\"ggplot\")\n",
    "from sklearn.feature_selection import chi2,f_classif\n",
    "from sklearn.preprocessing import LabelEncoder\n",
    "from sklearn.metrics import classification_report,roc_curve,precision_score,recall_score,auc,precision_recall_curve\n",
    "from sklearn.cross_validation import train_test_split\n",
    "import xgboost as xgb"
   ]
  },
  {
   "cell_type": "code",
   "execution_count": 2,
   "metadata": {
    "collapsed": true
   },
   "outputs": [],
   "source": [
    "seed = 9999\n",
    "plt.style.use('ggplot')\n",
    "%matplotlib inline"
   ]
  },
  {
   "cell_type": "markdown",
   "metadata": {},
   "source": [
    "## Index\n",
    "* [Load emails from CSV](#Load-emails-information-from-CSV-file)\n",
    "* [Answer Question 1](#Answer-question-1)\n",
    "* [Explore the data](#Explore-the-data)\n",
    "    * [Chi-square test and F-test](#Chi-square-test-and-F-test)\n",
    "    * [previous purchase history vs. response](#previous-purchase-vs.-response)\n",
    "    * [user's country vs. response](#user's-country-vs.-response)\n",
    "    * [email's version vs. response](#email's-version-vs.-response)\n",
    "    * [weekday vs. reponse](#weekday-vs.-response)\n",
    "    * [email text vs. response](#email-text-vs.-response)\n",
    "    * [sending hour vs. response](#sending-hour-vs.-response)\n",
    "* [Answer Question 4](#Answer-question-4)\n",
    "* [Build Predictive Model](#Build-Predictive-Model)\n",
    "    * [Prepare the data](#Prepare-the-data)\n",
    "    * [Train the model](#Train-the-model)\n",
    "    * [Plot ROC curve and choose better probability threshold](#Plot-ROC-curve-and-choose-better-probability-threshold)\n",
    "* [Answer question 2 and question 3's first part](#Answer-question-2-and-question-3's-first-part)\n",
    "* [Answer question 3's second part](#Answer-question-3's-second-part)\n",
    "* Answers summary:\n",
    "    * [Answer Question 1](#Answer-question-1)\n",
    "    * [Answer question 2 and question 3's first part](#Answer-question-2-and-question-3's-first-part)\n",
    "    * [Answer question 3's second part](#Answer-question-3's-second-part)\n",
    "    * [Answer Question 4](#Answer-question-4)"
   ]
  },
  {
   "cell_type": "markdown",
   "metadata": {},
   "source": [
    "## Load emails information from CSV file"
   ]
  },
  {
   "cell_type": "code",
   "execution_count": 3,
   "metadata": {
    "collapsed": true
   },
   "outputs": [],
   "source": [
    "emails = pd.read_csv(\"email_table.csv\",index_col=\"email_id\")"
   ]
  },
  {
   "cell_type": "markdown",
   "metadata": {},
   "source": [
    "Columns:\n",
    "* email_id : the Id of the email that was sent. It is unique by email \n",
    "* email_text : there are two versions of the email: one has \"long text\" (i.e. has 4 paragraphs) and one has \"short text\" (just 2 paragraphs) \n",
    "* email_version : some emails were \"personalized\" (i.e. they had the name of the user receiving the email in the incipit, such as \"Hi John,\"), while some emails were \"generic\" (the incipit was just \"Hi,\"). \n",
    "* hour : the user local time when the email was sent. \n",
    "* weekday : the day when the email was sent. \n",
    "* user_country : the country where the user receiving the email was based. It comes from the user ip address when she created the account. \n",
    "* user_past_purchases : how many items in the past were bought by the user receiving the email"
   ]
  },
  {
   "cell_type": "code",
   "execution_count": 4,
   "metadata": {
    "collapsed": false
   },
   "outputs": [
    {
     "data": {
      "text/html": [
       "<div>\n",
       "<table border=\"1\" class=\"dataframe\">\n",
       "  <thead>\n",
       "    <tr style=\"text-align: right;\">\n",
       "      <th></th>\n",
       "      <th>email_text</th>\n",
       "      <th>email_version</th>\n",
       "      <th>hour</th>\n",
       "      <th>weekday</th>\n",
       "      <th>user_country</th>\n",
       "      <th>user_past_purchases</th>\n",
       "    </tr>\n",
       "    <tr>\n",
       "      <th>email_id</th>\n",
       "      <th></th>\n",
       "      <th></th>\n",
       "      <th></th>\n",
       "      <th></th>\n",
       "      <th></th>\n",
       "      <th></th>\n",
       "    </tr>\n",
       "  </thead>\n",
       "  <tbody>\n",
       "    <tr>\n",
       "      <th>208412</th>\n",
       "      <td>long_email</td>\n",
       "      <td>personalized</td>\n",
       "      <td>13</td>\n",
       "      <td>Saturday</td>\n",
       "      <td>US</td>\n",
       "      <td>7</td>\n",
       "    </tr>\n",
       "    <tr>\n",
       "      <th>853919</th>\n",
       "      <td>short_email</td>\n",
       "      <td>personalized</td>\n",
       "      <td>11</td>\n",
       "      <td>Sunday</td>\n",
       "      <td>FR</td>\n",
       "      <td>4</td>\n",
       "    </tr>\n",
       "    <tr>\n",
       "      <th>657911</th>\n",
       "      <td>long_email</td>\n",
       "      <td>personalized</td>\n",
       "      <td>4</td>\n",
       "      <td>Friday</td>\n",
       "      <td>US</td>\n",
       "      <td>1</td>\n",
       "    </tr>\n",
       "    <tr>\n",
       "      <th>997300</th>\n",
       "      <td>short_email</td>\n",
       "      <td>personalized</td>\n",
       "      <td>8</td>\n",
       "      <td>Tuesday</td>\n",
       "      <td>US</td>\n",
       "      <td>9</td>\n",
       "    </tr>\n",
       "    <tr>\n",
       "      <th>518617</th>\n",
       "      <td>long_email</td>\n",
       "      <td>personalized</td>\n",
       "      <td>5</td>\n",
       "      <td>Wednesday</td>\n",
       "      <td>FR</td>\n",
       "      <td>6</td>\n",
       "    </tr>\n",
       "    <tr>\n",
       "      <th>92422</th>\n",
       "      <td>long_email</td>\n",
       "      <td>personalized</td>\n",
       "      <td>5</td>\n",
       "      <td>Friday</td>\n",
       "      <td>US</td>\n",
       "      <td>1</td>\n",
       "    </tr>\n",
       "    <tr>\n",
       "      <th>540502</th>\n",
       "      <td>short_email</td>\n",
       "      <td>personalized</td>\n",
       "      <td>6</td>\n",
       "      <td>Thursday</td>\n",
       "      <td>FR</td>\n",
       "      <td>1</td>\n",
       "    </tr>\n",
       "    <tr>\n",
       "      <th>166737</th>\n",
       "      <td>short_email</td>\n",
       "      <td>generic</td>\n",
       "      <td>6</td>\n",
       "      <td>Sunday</td>\n",
       "      <td>US</td>\n",
       "      <td>4</td>\n",
       "    </tr>\n",
       "    <tr>\n",
       "      <th>609384</th>\n",
       "      <td>short_email</td>\n",
       "      <td>personalized</td>\n",
       "      <td>10</td>\n",
       "      <td>Monday</td>\n",
       "      <td>US</td>\n",
       "      <td>6</td>\n",
       "    </tr>\n",
       "    <tr>\n",
       "      <th>380457</th>\n",
       "      <td>long_email</td>\n",
       "      <td>generic</td>\n",
       "      <td>8</td>\n",
       "      <td>Sunday</td>\n",
       "      <td>US</td>\n",
       "      <td>5</td>\n",
       "    </tr>\n",
       "  </tbody>\n",
       "</table>\n",
       "</div>"
      ],
      "text/plain": [
       "           email_text email_version  hour    weekday user_country  \\\n",
       "email_id                                                            \n",
       "208412     long_email  personalized    13   Saturday           US   \n",
       "853919    short_email  personalized    11     Sunday           FR   \n",
       "657911     long_email  personalized     4     Friday           US   \n",
       "997300    short_email  personalized     8    Tuesday           US   \n",
       "518617     long_email  personalized     5  Wednesday           FR   \n",
       "92422      long_email  personalized     5     Friday           US   \n",
       "540502    short_email  personalized     6   Thursday           FR   \n",
       "166737    short_email       generic     6     Sunday           US   \n",
       "609384    short_email  personalized    10     Monday           US   \n",
       "380457     long_email       generic     8     Sunday           US   \n",
       "\n",
       "          user_past_purchases  \n",
       "email_id                       \n",
       "208412                      7  \n",
       "853919                      4  \n",
       "657911                      1  \n",
       "997300                      9  \n",
       "518617                      6  \n",
       "92422                       1  \n",
       "540502                      1  \n",
       "166737                      4  \n",
       "609384                      6  \n",
       "380457                      5  "
      ]
     },
     "execution_count": 4,
     "metadata": {},
     "output_type": "execute_result"
    }
   ],
   "source": [
    "emails.sample(10)# view some data to get a feeling"
   ]
  },
  {
   "cell_type": "code",
   "execution_count": 5,
   "metadata": {
    "collapsed": true
   },
   "outputs": [],
   "source": [
    "# email_text : there are two versions of the email: \n",
    "# one has \"long text\" (i.e. has 4 paragraphs) and one has \"short text\" (just 2 paragraphs)\n",
    "# since we need to change all features into numbers, so I replace 'email_text' with 'paragraphs'\n",
    "emails[\"paragraphs\"] = np.where(emails.email_text == 'short_email',2,4)\n",
    "del emails[\"email_text\"]\n",
    "\n",
    "# email_version : some emails were \"personalized\" (i.e. they had name of the user in incipit, such as \"Hi John,\"), \n",
    "# while some emails were \"generic\" (the incipit was just \"Hi,\").\n",
    "emails[\"is_personal\"] = (emails.email_version == \"personalized\").astype(np.int)\n",
    "del emails[\"email_version\"]\n",
    "\n",
    "weekday2index = {\"Monday\":1,\"Tuesday\":2,\"Wednesday\":3,\"Thursday\":4,\"Friday\":5,\"Saturday\":6,\"Sunday\":7}\n",
    "emails[\"weekday\"] = emails.weekday.map(weekday2index)\n",
    "\n",
    "# rename long column names to shorter names, make it easier to read\n",
    "emails.rename(columns={'user_past_purchases':'purchases','user_country':'country'},inplace=True)"
   ]
  },
  {
   "cell_type": "markdown",
   "metadata": {},
   "source": [
    "assemble emails' response together"
   ]
  },
  {
   "cell_type": "code",
   "execution_count": 6,
   "metadata": {
    "collapsed": true
   },
   "outputs": [],
   "source": [
    "emails[\"response\"] = \"received\"\n",
    "\n",
    "open_users = pd.read_csv(\"email_opened_table.csv\").email_id\n",
    "emails.loc[open_users,\"response\"] = \"opened\"\n",
    "\n",
    "click_users = pd.read_csv(\"link_clicked_table.csv\").email_id\n",
    "emails.loc[click_users,\"response\"] = 'clicked'"
   ]
  },
  {
   "cell_type": "code",
   "execution_count": 7,
   "metadata": {
    "collapsed": false
   },
   "outputs": [
    {
     "data": {
      "text/html": [
       "<div>\n",
       "<table border=\"1\" class=\"dataframe\">\n",
       "  <thead>\n",
       "    <tr style=\"text-align: right;\">\n",
       "      <th></th>\n",
       "      <th>hour</th>\n",
       "      <th>weekday</th>\n",
       "      <th>country</th>\n",
       "      <th>purchases</th>\n",
       "      <th>paragraphs</th>\n",
       "      <th>is_personal</th>\n",
       "      <th>response</th>\n",
       "    </tr>\n",
       "    <tr>\n",
       "      <th>email_id</th>\n",
       "      <th></th>\n",
       "      <th></th>\n",
       "      <th></th>\n",
       "      <th></th>\n",
       "      <th></th>\n",
       "      <th></th>\n",
       "      <th></th>\n",
       "    </tr>\n",
       "  </thead>\n",
       "  <tbody>\n",
       "    <tr>\n",
       "      <th>85120</th>\n",
       "      <td>2</td>\n",
       "      <td>7</td>\n",
       "      <td>US</td>\n",
       "      <td>5</td>\n",
       "      <td>2</td>\n",
       "      <td>1</td>\n",
       "      <td>received</td>\n",
       "    </tr>\n",
       "    <tr>\n",
       "      <th>966622</th>\n",
       "      <td>12</td>\n",
       "      <td>7</td>\n",
       "      <td>UK</td>\n",
       "      <td>2</td>\n",
       "      <td>4</td>\n",
       "      <td>1</td>\n",
       "      <td>clicked</td>\n",
       "    </tr>\n",
       "    <tr>\n",
       "      <th>777221</th>\n",
       "      <td>11</td>\n",
       "      <td>3</td>\n",
       "      <td>US</td>\n",
       "      <td>2</td>\n",
       "      <td>4</td>\n",
       "      <td>1</td>\n",
       "      <td>received</td>\n",
       "    </tr>\n",
       "    <tr>\n",
       "      <th>493711</th>\n",
       "      <td>6</td>\n",
       "      <td>1</td>\n",
       "      <td>UK</td>\n",
       "      <td>1</td>\n",
       "      <td>2</td>\n",
       "      <td>0</td>\n",
       "      <td>received</td>\n",
       "    </tr>\n",
       "    <tr>\n",
       "      <th>106887</th>\n",
       "      <td>14</td>\n",
       "      <td>1</td>\n",
       "      <td>US</td>\n",
       "      <td>6</td>\n",
       "      <td>4</td>\n",
       "      <td>0</td>\n",
       "      <td>received</td>\n",
       "    </tr>\n",
       "  </tbody>\n",
       "</table>\n",
       "</div>"
      ],
      "text/plain": [
       "          hour  weekday country  purchases  paragraphs  is_personal  response\n",
       "email_id                                                                     \n",
       "85120        2        7      US          5           2            1  received\n",
       "966622      12        7      UK          2           4            1   clicked\n",
       "777221      11        3      US          2           4            1  received\n",
       "493711       6        1      UK          1           2            0  received\n",
       "106887      14        1      US          6           4            0  received"
      ]
     },
     "execution_count": 7,
     "metadata": {},
     "output_type": "execute_result"
    }
   ],
   "source": [
    "emails.head()# check some data to get a feeling"
   ]
  },
  {
   "cell_type": "code",
   "execution_count": 8,
   "metadata": {
    "collapsed": true
   },
   "outputs": [],
   "source": [
    "emails.to_csv(\"clean_emails.csv\",index_label=\"email_id\")"
   ]
  },
  {
   "cell_type": "markdown",
   "metadata": {},
   "source": [
    "## Answer question 1\n",
    "* <span style='color:blue;font-weight:bold'>What percentage of users opened the email?</span>\n",
    "* <span style='color:blue;font-weight:bold'>what percentage clicked on the link within the email?</span>"
   ]
  },
  {
   "cell_type": "code",
   "execution_count": 9,
   "metadata": {
    "collapsed": false
   },
   "outputs": [
    {
     "data": {
      "text/plain": [
       "received    0.89605\n",
       "opened      0.08276\n",
       "clicked     0.02119\n",
       "Name: response, dtype: float64"
      ]
     },
     "execution_count": 9,
     "metadata": {},
     "output_type": "execute_result"
    }
   ],
   "source": [
    "rslt_dist = emails.response.value_counts(normalize=True)\n",
    "rslt_dist"
   ]
  },
  {
   "cell_type": "code",
   "execution_count": 10,
   "metadata": {
    "collapsed": false
   },
   "outputs": [
    {
     "name": "stdout",
     "output_type": "stream",
     "text": [
      "10.39% of users opened the email\n",
      "2.12% of users clicked the link\n"
     ]
    }
   ],
   "source": [
    "print \"{:.2f}% of users opened the email\".format((1 - rslt_dist.received) * 100)\n",
    "print \"{:.2f}% of users clicked the link\".format(rslt_dist.clicked * 100)"
   ]
  },
  {
   "cell_type": "markdown",
   "metadata": {},
   "source": [
    "## Explore the data"
   ]
  },
  {
   "cell_type": "code",
   "execution_count": 11,
   "metadata": {
    "collapsed": true
   },
   "outputs": [],
   "source": [
    "def count_result_ratio(df):\n",
    "    counts = df.response.value_counts(normalize=True)\n",
    "    counts['total'] = df.shape[0]\n",
    "    return counts\n",
    "\n",
    "def grp_count_plotbar(key):\n",
    "    grpresult = emails.groupby(key).apply(count_result_ratio)\n",
    "    # grpresult.loc[:,[\"received\",\"opened\",'clicked']].plot(kind='bar')\n",
    "    grpresult.loc[:,['clicked']].plot(kind='bar',title='click ratio vs. {}'.format(key))\n",
    "    plt.ylabel('click ratio')\n",
    "    return grpresult"
   ]
  },
  {
   "cell_type": "markdown",
   "metadata": {},
   "source": [
    "### Chi-square test and F-test"
   ]
  },
  {
   "cell_type": "code",
   "execution_count": 12,
   "metadata": {
    "collapsed": false
   },
   "outputs": [],
   "source": [
    "resp_lb_encoder = LabelEncoder()\n",
    "cnty_lb_encoder = LabelEncoder()\n",
    "\n",
    "X = emails.copy()\n",
    "y = resp_lb_encoder.fit_transform(X.response)\n",
    "del X[\"response\"]\n",
    "\n",
    "feat_names = [\"hour\",\"weekday\",\"country\",\"purchases\",\"paragraphs\",\"is_personal\" ]\n",
    "X = X.loc[:,feat_names]\n",
    "X[\"country\"] = cnty_lb_encoder.fit_transform(X.country)\n",
    "\n",
    "chi2scores,_ = chi2(X,y)\n",
    "fscores,_ = f_classif(X,y)\n",
    "\n",
    "feat_scores = pd.DataFrame({\"chi2scores\":chi2scores,\"fscores\":fscores},index=feat_names)"
   ]
  },
  {
   "cell_type": "code",
   "execution_count": 13,
   "metadata": {
    "collapsed": false
   },
   "outputs": [
    {
     "data": {
      "text/html": [
       "<div>\n",
       "<table border=\"1\" class=\"dataframe\">\n",
       "  <thead>\n",
       "    <tr style=\"text-align: right;\">\n",
       "      <th></th>\n",
       "      <th>chi2scores</th>\n",
       "      <th>fscores</th>\n",
       "    </tr>\n",
       "  </thead>\n",
       "  <tbody>\n",
       "    <tr>\n",
       "      <th>purchases</th>\n",
       "      <td>3448.795660</td>\n",
       "      <td>663.388596</td>\n",
       "    </tr>\n",
       "    <tr>\n",
       "      <th>country</th>\n",
       "      <td>378.554465</td>\n",
       "      <td>435.696911</td>\n",
       "    </tr>\n",
       "    <tr>\n",
       "      <th>is_personal</th>\n",
       "      <td>316.752872</td>\n",
       "      <td>317.427444</td>\n",
       "    </tr>\n",
       "    <tr>\n",
       "      <th>weekday</th>\n",
       "      <td>210.006087</td>\n",
       "      <td>105.002643</td>\n",
       "    </tr>\n",
       "    <tr>\n",
       "      <th>hour</th>\n",
       "      <td>147.815921</td>\n",
       "      <td>33.992047</td>\n",
       "    </tr>\n",
       "    <tr>\n",
       "      <th>paragraphs</th>\n",
       "      <td>53.952439</td>\n",
       "      <td>81.209295</td>\n",
       "    </tr>\n",
       "  </tbody>\n",
       "</table>\n",
       "</div>"
      ],
      "text/plain": [
       "              chi2scores     fscores\n",
       "purchases    3448.795660  663.388596\n",
       "country       378.554465  435.696911\n",
       "is_personal   316.752872  317.427444\n",
       "weekday       210.006087  105.002643\n",
       "hour          147.815921   33.992047\n",
       "paragraphs     53.952439   81.209295"
      ]
     },
     "execution_count": 13,
     "metadata": {},
     "output_type": "execute_result"
    }
   ],
   "source": [
    "feat_scores.sort_values(by='chi2scores',ascending=False)"
   ]
  },
  {
   "cell_type": "code",
   "execution_count": 14,
   "metadata": {
    "collapsed": false
   },
   "outputs": [
    {
     "data": {
      "text/html": [
       "<div>\n",
       "<table border=\"1\" class=\"dataframe\">\n",
       "  <thead>\n",
       "    <tr style=\"text-align: right;\">\n",
       "      <th></th>\n",
       "      <th>chi2scores</th>\n",
       "      <th>fscores</th>\n",
       "    </tr>\n",
       "  </thead>\n",
       "  <tbody>\n",
       "    <tr>\n",
       "      <th>purchases</th>\n",
       "      <td>3448.795660</td>\n",
       "      <td>663.388596</td>\n",
       "    </tr>\n",
       "    <tr>\n",
       "      <th>country</th>\n",
       "      <td>378.554465</td>\n",
       "      <td>435.696911</td>\n",
       "    </tr>\n",
       "    <tr>\n",
       "      <th>is_personal</th>\n",
       "      <td>316.752872</td>\n",
       "      <td>317.427444</td>\n",
       "    </tr>\n",
       "    <tr>\n",
       "      <th>weekday</th>\n",
       "      <td>210.006087</td>\n",
       "      <td>105.002643</td>\n",
       "    </tr>\n",
       "    <tr>\n",
       "      <th>paragraphs</th>\n",
       "      <td>53.952439</td>\n",
       "      <td>81.209295</td>\n",
       "    </tr>\n",
       "    <tr>\n",
       "      <th>hour</th>\n",
       "      <td>147.815921</td>\n",
       "      <td>33.992047</td>\n",
       "    </tr>\n",
       "  </tbody>\n",
       "</table>\n",
       "</div>"
      ],
      "text/plain": [
       "              chi2scores     fscores\n",
       "purchases    3448.795660  663.388596\n",
       "country       378.554465  435.696911\n",
       "is_personal   316.752872  317.427444\n",
       "weekday       210.006087  105.002643\n",
       "paragraphs     53.952439   81.209295\n",
       "hour          147.815921   33.992047"
      ]
     },
     "execution_count": 14,
     "metadata": {},
     "output_type": "execute_result"
    }
   ],
   "source": [
    "feat_scores.sort_values(by=\"fscores\",ascending=False)"
   ]
  },
  {
   "cell_type": "markdown",
   "metadata": {},
   "source": [
    "from the test result, we can know that,\n",
    "* important features: ** previous purchase counts, user's country, email's version (personal or general) **\n",
    "* not so important features **maybe** include: ** weekday, email's text (short or long), hour to send the email **"
   ]
  },
  {
   "cell_type": "markdown",
   "metadata": {},
   "source": [
    "### previous purchase vs. response"
   ]
  },
  {
   "cell_type": "code",
   "execution_count": 15,
   "metadata": {
    "collapsed": true
   },
   "outputs": [],
   "source": [
    "rslt_grpby_purchase = emails.groupby(\"purchases\").apply(count_result_ratio).unstack()\n",
    "rslt_grpby_purchase.fillna(value=0,inplace=True)"
   ]
  },
  {
   "cell_type": "code",
   "execution_count": 16,
   "metadata": {
    "collapsed": false
   },
   "outputs": [
    {
     "data": {
      "text/plain": [
       "<matplotlib.text.Text at 0x11bb87850>"
      ]
     },
     "execution_count": 16,
     "metadata": {},
     "output_type": "execute_result"
    },
    {
     "data": {
      "image/png": "[encoded data removed]",
      "text/plain": [
       "<matplotlib.figure.Figure at 0x11c8b35d0>"
      ]
     },
     "metadata": {},
     "output_type": "display_data"
    }
   ],
   "source": [
    "plt.rc('figure', figsize=(10, 5))\n",
    "rslt_grpby_purchase.loc[:,[\"received\",\"opened\",'clicked']].plot(marker='o',markersize=5)\n",
    "plt.ylabel(\"ratio\")"
   ]
  },
  {
   "cell_type": "markdown",
   "metadata": {},
   "source": [
    "from above plot, we can know, <span style='color:orange;font-weight:bold;font-size:1.5em'>the more items a certain user purchased previously, the more likely that user will open the email or click the link.</span>"
   ]
  },
  {
   "cell_type": "markdown",
   "metadata": {
    "collapsed": true
   },
   "source": [
    "### user's country vs. response"
   ]
  },
  {
   "cell_type": "code",
   "execution_count": 17,
   "metadata": {
    "collapsed": false
   },
   "outputs": [
    {
     "data": {
      "text/html": [
       "<div>\n",
       "<table border=\"1\" class=\"dataframe\">\n",
       "  <thead>\n",
       "    <tr style=\"text-align: right;\">\n",
       "      <th>response</th>\n",
       "      <th>received</th>\n",
       "      <th>opened</th>\n",
       "      <th>clicked</th>\n",
       "      <th>total</th>\n",
       "    </tr>\n",
       "    <tr>\n",
       "      <th>country</th>\n",
       "      <th></th>\n",
       "      <th></th>\n",
       "      <th></th>\n",
       "      <th></th>\n",
       "    </tr>\n",
       "  </thead>\n",
       "  <tbody>\n",
       "    <tr>\n",
       "      <th>ES</th>\n",
       "      <td>0.960570</td>\n",
       "      <td>0.031103</td>\n",
       "      <td>0.008327</td>\n",
       "      <td>9967.0</td>\n",
       "    </tr>\n",
       "    <tr>\n",
       "      <th>FR</th>\n",
       "      <td>0.958779</td>\n",
       "      <td>0.033217</td>\n",
       "      <td>0.008004</td>\n",
       "      <td>9995.0</td>\n",
       "    </tr>\n",
       "    <tr>\n",
       "      <th>UK</th>\n",
       "      <td>0.879282</td>\n",
       "      <td>0.096043</td>\n",
       "      <td>0.024675</td>\n",
       "      <td>19939.0</td>\n",
       "    </tr>\n",
       "    <tr>\n",
       "      <th>US</th>\n",
       "      <td>0.880481</td>\n",
       "      <td>0.095160</td>\n",
       "      <td>0.024360</td>\n",
       "      <td>60099.0</td>\n",
       "    </tr>\n",
       "  </tbody>\n",
       "</table>\n",
       "</div>"
      ],
      "text/plain": [
       "response  received    opened   clicked    total\n",
       "country                                        \n",
       "ES        0.960570  0.031103  0.008327   9967.0\n",
       "FR        0.958779  0.033217  0.008004   9995.0\n",
       "UK        0.879282  0.096043  0.024675  19939.0\n",
       "US        0.880481  0.095160  0.024360  60099.0"
      ]
     },
     "execution_count": 17,
     "metadata": {},
     "output_type": "execute_result"
    },
    {
     "data": {
      "image/png": "[encoded data removed]",
      "text/plain": [
       "<matplotlib.figure.Figure at 0x119a8a150>"
      ]
     },
     "metadata": {},
     "output_type": "display_data"
    }
   ],
   "source": [
    "grp_count_plotbar('country')"
   ]
  },
  {
   "cell_type": "markdown",
   "metadata": {},
   "source": [
    "from above plots, we see that, 'open percentage' and 'click percentage' is much higher (nearly 3 times) in UK and US than in France and Spain. \n",
    "\n",
    "this may be the <span style='color:orange;font-weight:bold;font-size:1.5em'>translation issue. I guess the emails are written in English, which is unreadable to some non-English-speaking users, which cause the low 'click ratio' in non-English-speaking countries.</span>"
   ]
  },
  {
   "cell_type": "markdown",
   "metadata": {},
   "source": [
    "### email's version vs. response"
   ]
  },
  {
   "cell_type": "code",
   "execution_count": 18,
   "metadata": {
    "collapsed": false
   },
   "outputs": [
    {
     "data": {
      "text/html": [
       "<div>\n",
       "<table border=\"1\" class=\"dataframe\">\n",
       "  <thead>\n",
       "    <tr style=\"text-align: right;\">\n",
       "      <th>response</th>\n",
       "      <th>received</th>\n",
       "      <th>opened</th>\n",
       "      <th>clicked</th>\n",
       "      <th>total</th>\n",
       "    </tr>\n",
       "    <tr>\n",
       "      <th>is_personal</th>\n",
       "      <th></th>\n",
       "      <th></th>\n",
       "      <th></th>\n",
       "      <th></th>\n",
       "    </tr>\n",
       "  </thead>\n",
       "  <tbody>\n",
       "    <tr>\n",
       "      <th>0</th>\n",
       "      <td>0.920034</td>\n",
       "      <td>0.064829</td>\n",
       "      <td>0.015137</td>\n",
       "      <td>50209.0</td>\n",
       "    </tr>\n",
       "    <tr>\n",
       "      <th>1</th>\n",
       "      <td>0.871864</td>\n",
       "      <td>0.100842</td>\n",
       "      <td>0.027294</td>\n",
       "      <td>49791.0</td>\n",
       "    </tr>\n",
       "  </tbody>\n",
       "</table>\n",
       "</div>"
      ],
      "text/plain": [
       "response     received    opened   clicked    total\n",
       "is_personal                                       \n",
       "0            0.920034  0.064829  0.015137  50209.0\n",
       "1            0.871864  0.100842  0.027294  49791.0"
      ]
     },
     "execution_count": 18,
     "metadata": {},
     "output_type": "execute_result"
    },
    {
     "data": {
      "image/png": "[encoded data removed]",
      "text/plain": [
       "<matplotlib.figure.Figure at 0x11a00f4d0>"
      ]
     },
     "metadata": {},
     "output_type": "display_data"
    }
   ],
   "source": [
    "grp_count_plotbar('is_personal')"
   ]
  },
  {
   "cell_type": "markdown",
   "metadata": {},
   "source": [
    "<span style='color:orange;font-weight:bold;font-size:1.5em'>'personalized email' has higher 'click ratio' than 'general email'</span>. this is very easy to understand. Having my name in the recipient, at least I am some kind of 'important' to the company, other than some ordinary people which the company don't bother to remember his name."
   ]
  },
  {
   "cell_type": "markdown",
   "metadata": {},
   "source": [
    "### weekday vs. response"
   ]
  },
  {
   "cell_type": "code",
   "execution_count": 19,
   "metadata": {
    "collapsed": false
   },
   "outputs": [
    {
     "data": {
      "text/html": [
       "<div>\n",
       "<table border=\"1\" class=\"dataframe\">\n",
       "  <thead>\n",
       "    <tr style=\"text-align: right;\">\n",
       "      <th>response</th>\n",
       "      <th>received</th>\n",
       "      <th>opened</th>\n",
       "      <th>clicked</th>\n",
       "      <th>total</th>\n",
       "    </tr>\n",
       "    <tr>\n",
       "      <th>weekday</th>\n",
       "      <th></th>\n",
       "      <th></th>\n",
       "      <th></th>\n",
       "      <th></th>\n",
       "    </tr>\n",
       "  </thead>\n",
       "  <tbody>\n",
       "    <tr>\n",
       "      <th>1</th>\n",
       "      <td>0.883590</td>\n",
       "      <td>0.093504</td>\n",
       "      <td>0.022906</td>\n",
       "      <td>14363.0</td>\n",
       "    </tr>\n",
       "    <tr>\n",
       "      <th>2</th>\n",
       "      <td>0.879092</td>\n",
       "      <td>0.096019</td>\n",
       "      <td>0.024889</td>\n",
       "      <td>14143.0</td>\n",
       "    </tr>\n",
       "    <tr>\n",
       "      <th>3</th>\n",
       "      <td>0.879296</td>\n",
       "      <td>0.093084</td>\n",
       "      <td>0.027620</td>\n",
       "      <td>14084.0</td>\n",
       "    </tr>\n",
       "    <tr>\n",
       "      <th>4</th>\n",
       "      <td>0.881348</td>\n",
       "      <td>0.094207</td>\n",
       "      <td>0.024445</td>\n",
       "      <td>14277.0</td>\n",
       "    </tr>\n",
       "    <tr>\n",
       "      <th>5</th>\n",
       "      <td>0.925019</td>\n",
       "      <td>0.060944</td>\n",
       "      <td>0.014037</td>\n",
       "      <td>14177.0</td>\n",
       "    </tr>\n",
       "    <tr>\n",
       "      <th>6</th>\n",
       "      <td>0.912005</td>\n",
       "      <td>0.070149</td>\n",
       "      <td>0.017846</td>\n",
       "      <td>14569.0</td>\n",
       "    </tr>\n",
       "    <tr>\n",
       "      <th>7</th>\n",
       "      <td>0.911448</td>\n",
       "      <td>0.071801</td>\n",
       "      <td>0.016751</td>\n",
       "      <td>14387.0</td>\n",
       "    </tr>\n",
       "  </tbody>\n",
       "</table>\n",
       "</div>"
      ],
      "text/plain": [
       "response  received    opened   clicked    total\n",
       "weekday                                        \n",
       "1         0.883590  0.093504  0.022906  14363.0\n",
       "2         0.879092  0.096019  0.024889  14143.0\n",
       "3         0.879296  0.093084  0.027620  14084.0\n",
       "4         0.881348  0.094207  0.024445  14277.0\n",
       "5         0.925019  0.060944  0.014037  14177.0\n",
       "6         0.912005  0.070149  0.017846  14569.0\n",
       "7         0.911448  0.071801  0.016751  14387.0"
      ]
     },
     "execution_count": 19,
     "metadata": {},
     "output_type": "execute_result"
    },
    {
     "data": {
      "image/png": "[encoded data removed]",
      "text/plain": [
       "<matplotlib.figure.Figure at 0x11bdec750>"
      ]
     },
     "metadata": {},
     "output_type": "display_data"
    }
   ],
   "source": [
    "grp_count_plotbar('weekday')"
   ]
  },
  {
   "cell_type": "markdown",
   "metadata": {},
   "source": [
    "<span style='color:orange;font-weight:bold;font-size:1.5em'>Friday, Saturday, Sunday have obviously lower 'click ratio' than Monday to Thursday</span>. People normally don't process emails during weekends."
   ]
  },
  {
   "cell_type": "markdown",
   "metadata": {},
   "source": [
    "### email text vs. response"
   ]
  },
  {
   "cell_type": "code",
   "execution_count": 20,
   "metadata": {
    "collapsed": false
   },
   "outputs": [
    {
     "data": {
      "text/html": [
       "<div>\n",
       "<table border=\"1\" class=\"dataframe\">\n",
       "  <thead>\n",
       "    <tr style=\"text-align: right;\">\n",
       "      <th>response</th>\n",
       "      <th>received</th>\n",
       "      <th>opened</th>\n",
       "      <th>clicked</th>\n",
       "      <th>total</th>\n",
       "    </tr>\n",
       "    <tr>\n",
       "      <th>paragraphs</th>\n",
       "      <th></th>\n",
       "      <th></th>\n",
       "      <th></th>\n",
       "      <th></th>\n",
       "    </tr>\n",
       "  </thead>\n",
       "  <tbody>\n",
       "    <tr>\n",
       "      <th>2</th>\n",
       "      <td>0.883698</td>\n",
       "      <td>0.092430</td>\n",
       "      <td>0.023872</td>\n",
       "      <td>49724.0</td>\n",
       "    </tr>\n",
       "    <tr>\n",
       "      <th>4</th>\n",
       "      <td>0.908266</td>\n",
       "      <td>0.073196</td>\n",
       "      <td>0.018538</td>\n",
       "      <td>50276.0</td>\n",
       "    </tr>\n",
       "  </tbody>\n",
       "</table>\n",
       "</div>"
      ],
      "text/plain": [
       "response    received    opened   clicked    total\n",
       "paragraphs                                       \n",
       "2           0.883698  0.092430  0.023872  49724.0\n",
       "4           0.908266  0.073196  0.018538  50276.0"
      ]
     },
     "execution_count": 20,
     "metadata": {},
     "output_type": "execute_result"
    },
    {
     "data": {
      "image/png": "[encoded data removed]",
      "text/plain": [
       "<matplotlib.figure.Figure at 0x11ca650d0>"
      ]
     },
     "metadata": {},
     "output_type": "display_data"
    }
   ],
   "source": [
    "grp_count_plotbar('paragraphs')"
   ]
  },
  {
   "cell_type": "markdown",
   "metadata": {},
   "source": [
    "### sending hour vs. response"
   ]
  },
  {
   "cell_type": "code",
   "execution_count": 21,
   "metadata": {
    "collapsed": false
   },
   "outputs": [
    {
     "data": {
      "text/html": [
       "<div>\n",
       "<table border=\"1\" class=\"dataframe\">\n",
       "  <thead>\n",
       "    <tr style=\"text-align: right;\">\n",
       "      <th>response</th>\n",
       "      <th>received</th>\n",
       "      <th>opened</th>\n",
       "      <th>clicked</th>\n",
       "      <th>total</th>\n",
       "    </tr>\n",
       "    <tr>\n",
       "      <th>hour</th>\n",
       "      <th></th>\n",
       "      <th></th>\n",
       "      <th></th>\n",
       "      <th></th>\n",
       "    </tr>\n",
       "  </thead>\n",
       "  <tbody>\n",
       "    <tr>\n",
       "      <th>1</th>\n",
       "      <td>0.910840</td>\n",
       "      <td>0.071032</td>\n",
       "      <td>0.018128</td>\n",
       "      <td>2703.0</td>\n",
       "    </tr>\n",
       "    <tr>\n",
       "      <th>2</th>\n",
       "      <td>0.911589</td>\n",
       "      <td>0.072089</td>\n",
       "      <td>0.016322</td>\n",
       "      <td>3676.0</td>\n",
       "    </tr>\n",
       "    <tr>\n",
       "      <th>3</th>\n",
       "      <td>0.915184</td>\n",
       "      <td>0.065293</td>\n",
       "      <td>0.019523</td>\n",
       "      <td>4610.0</td>\n",
       "    </tr>\n",
       "    <tr>\n",
       "      <th>4</th>\n",
       "      <td>0.911419</td>\n",
       "      <td>0.072394</td>\n",
       "      <td>0.016186</td>\n",
       "      <td>5622.0</td>\n",
       "    </tr>\n",
       "    <tr>\n",
       "      <th>5</th>\n",
       "      <td>0.917417</td>\n",
       "      <td>0.064570</td>\n",
       "      <td>0.018013</td>\n",
       "      <td>6551.0</td>\n",
       "    </tr>\n",
       "    <tr>\n",
       "      <th>6</th>\n",
       "      <td>0.909176</td>\n",
       "      <td>0.073677</td>\n",
       "      <td>0.017147</td>\n",
       "      <td>7465.0</td>\n",
       "    </tr>\n",
       "    <tr>\n",
       "      <th>7</th>\n",
       "      <td>0.909434</td>\n",
       "      <td>0.072282</td>\n",
       "      <td>0.018284</td>\n",
       "      <td>8204.0</td>\n",
       "    </tr>\n",
       "    <tr>\n",
       "      <th>8</th>\n",
       "      <td>0.911407</td>\n",
       "      <td>0.069659</td>\n",
       "      <td>0.018933</td>\n",
       "      <td>8398.0</td>\n",
       "    </tr>\n",
       "    <tr>\n",
       "      <th>9</th>\n",
       "      <td>0.873725</td>\n",
       "      <td>0.100481</td>\n",
       "      <td>0.025794</td>\n",
       "      <td>8529.0</td>\n",
       "    </tr>\n",
       "    <tr>\n",
       "      <th>10</th>\n",
       "      <td>0.866993</td>\n",
       "      <td>0.104768</td>\n",
       "      <td>0.028240</td>\n",
       "      <td>8180.0</td>\n",
       "    </tr>\n",
       "    <tr>\n",
       "      <th>11</th>\n",
       "      <td>0.872645</td>\n",
       "      <td>0.100227</td>\n",
       "      <td>0.027128</td>\n",
       "      <td>7483.0</td>\n",
       "    </tr>\n",
       "    <tr>\n",
       "      <th>12</th>\n",
       "      <td>0.875230</td>\n",
       "      <td>0.099109</td>\n",
       "      <td>0.025661</td>\n",
       "      <td>6508.0</td>\n",
       "    </tr>\n",
       "    <tr>\n",
       "      <th>13</th>\n",
       "      <td>0.890521</td>\n",
       "      <td>0.089590</td>\n",
       "      <td>0.019889</td>\n",
       "      <td>5581.0</td>\n",
       "    </tr>\n",
       "    <tr>\n",
       "      <th>14</th>\n",
       "      <td>0.889520</td>\n",
       "      <td>0.089738</td>\n",
       "      <td>0.020742</td>\n",
       "      <td>4580.0</td>\n",
       "    </tr>\n",
       "    <tr>\n",
       "      <th>15</th>\n",
       "      <td>0.894074</td>\n",
       "      <td>0.081019</td>\n",
       "      <td>0.024907</td>\n",
       "      <td>3493.0</td>\n",
       "    </tr>\n",
       "    <tr>\n",
       "      <th>16</th>\n",
       "      <td>0.894165</td>\n",
       "      <td>0.082639</td>\n",
       "      <td>0.023197</td>\n",
       "      <td>2759.0</td>\n",
       "    </tr>\n",
       "    <tr>\n",
       "      <th>17</th>\n",
       "      <td>0.890650</td>\n",
       "      <td>0.090861</td>\n",
       "      <td>0.018489</td>\n",
       "      <td>1893.0</td>\n",
       "    </tr>\n",
       "    <tr>\n",
       "      <th>18</th>\n",
       "      <td>0.905700</td>\n",
       "      <td>0.078114</td>\n",
       "      <td>0.016186</td>\n",
       "      <td>1421.0</td>\n",
       "    </tr>\n",
       "    <tr>\n",
       "      <th>19</th>\n",
       "      <td>0.924862</td>\n",
       "      <td>0.058564</td>\n",
       "      <td>0.016575</td>\n",
       "      <td>905.0</td>\n",
       "    </tr>\n",
       "    <tr>\n",
       "      <th>20</th>\n",
       "      <td>0.911585</td>\n",
       "      <td>0.076220</td>\n",
       "      <td>0.012195</td>\n",
       "      <td>656.0</td>\n",
       "    </tr>\n",
       "    <tr>\n",
       "      <th>21</th>\n",
       "      <td>0.942466</td>\n",
       "      <td>0.049315</td>\n",
       "      <td>0.008219</td>\n",
       "      <td>365.0</td>\n",
       "    </tr>\n",
       "    <tr>\n",
       "      <th>22</th>\n",
       "      <td>0.931373</td>\n",
       "      <td>0.049020</td>\n",
       "      <td>0.019608</td>\n",
       "      <td>204.0</td>\n",
       "    </tr>\n",
       "    <tr>\n",
       "      <th>23</th>\n",
       "      <td>0.917241</td>\n",
       "      <td>0.041379</td>\n",
       "      <td>0.041379</td>\n",
       "      <td>145.0</td>\n",
       "    </tr>\n",
       "    <tr>\n",
       "      <th>24</th>\n",
       "      <td>0.840580</td>\n",
       "      <td>0.130435</td>\n",
       "      <td>0.028986</td>\n",
       "      <td>69.0</td>\n",
       "    </tr>\n",
       "  </tbody>\n",
       "</table>\n",
       "</div>"
      ],
      "text/plain": [
       "response  received    opened   clicked   total\n",
       "hour                                          \n",
       "1         0.910840  0.071032  0.018128  2703.0\n",
       "2         0.911589  0.072089  0.016322  3676.0\n",
       "3         0.915184  0.065293  0.019523  4610.0\n",
       "4         0.911419  0.072394  0.016186  5622.0\n",
       "5         0.917417  0.064570  0.018013  6551.0\n",
       "6         0.909176  0.073677  0.017147  7465.0\n",
       "7         0.909434  0.072282  0.018284  8204.0\n",
       "8         0.911407  0.069659  0.018933  8398.0\n",
       "9         0.873725  0.100481  0.025794  8529.0\n",
       "10        0.866993  0.104768  0.028240  8180.0\n",
       "11        0.872645  0.100227  0.027128  7483.0\n",
       "12        0.875230  0.099109  0.025661  6508.0\n",
       "13        0.890521  0.089590  0.019889  5581.0\n",
       "14        0.889520  0.089738  0.020742  4580.0\n",
       "15        0.894074  0.081019  0.024907  3493.0\n",
       "16        0.894165  0.082639  0.023197  2759.0\n",
       "17        0.890650  0.090861  0.018489  1893.0\n",
       "18        0.905700  0.078114  0.016186  1421.0\n",
       "19        0.924862  0.058564  0.016575   905.0\n",
       "20        0.911585  0.076220  0.012195   656.0\n",
       "21        0.942466  0.049315  0.008219   365.0\n",
       "22        0.931373  0.049020  0.019608   204.0\n",
       "23        0.917241  0.041379  0.041379   145.0\n",
       "24        0.840580  0.130435  0.028986    69.0"
      ]
     },
     "execution_count": 21,
     "metadata": {},
     "output_type": "execute_result"
    },
    {
     "data": {
      "image/png": "[encoded data removed]",
      "text/plain": [
       "<matplotlib.figure.Figure at 0x11f997c50>"
      ]
     },
     "metadata": {},
     "output_type": "display_data"
    }
   ],
   "source": [
    "grp_count_plotbar('hour')"
   ]
  },
  {
   "cell_type": "markdown",
   "metadata": {},
   "source": [
    "although from above plot, it seems 'sending hour' has some impact on 'clicked ratio'. however, that may be caused by much fewer examples in late hours. also according to [statistical test](#Chi-square-test-and-F-test)'s result, I don't think 'sending hour' is an important feature, and won't include it in my model."
   ]
  },
  {
   "cell_type": "markdown",
   "metadata": {},
   "source": [
    "## Answer question 4\n",
    "<span style='color:blue;font-weight:bold'>Did you ﬁnd any interesting pattern on how the email campaign performed for diﬀerent segments of users? Explain.</span>\n",
    "\n",
    "from above explorary analysis, I can find some interesting patterns listed below:\n",
    "* [The more item a certain user purchased in the past, the more likely that user will click the link](#previous-purchase-vs.-response)\n",
    "* [Users from English-speaking coutries are more likely to click the link](#user's-country-vs.-response), which may be caused by some translation issue.\n",
    "* [Personalized email is more likely to be opened and clicked](#email's-version-vs.-response)\n",
    "* [Emails sent at weekends is less likely to be opened and clicked](#weekday-vs.-response)\n",
    "* [Sending hour and #Paragraphs are not very important features to affect click rate](#Chi-square-test-and-F-test)"
   ]
  },
  {
   "cell_type": "markdown",
   "metadata": {},
   "source": [
    "## Build Predictive Model"
   ]
  },
  {
   "cell_type": "markdown",
   "metadata": {},
   "source": [
    "In this section, I will build a model to predict whether a user will open the email and click the link inside it.\n",
    "\n",
    "### Prepare the data"
   ]
  },
  {
   "cell_type": "code",
   "execution_count": 22,
   "metadata": {
    "collapsed": false
   },
   "outputs": [
    {
     "data": {
      "text/html": [
       "<div>\n",
       "<table border=\"1\" class=\"dataframe\">\n",
       "  <thead>\n",
       "    <tr style=\"text-align: right;\">\n",
       "      <th></th>\n",
       "      <th>hour</th>\n",
       "      <th>weekday</th>\n",
       "      <th>country</th>\n",
       "      <th>purchases</th>\n",
       "      <th>paragraphs</th>\n",
       "      <th>is_personal</th>\n",
       "      <th>response</th>\n",
       "    </tr>\n",
       "    <tr>\n",
       "      <th>email_id</th>\n",
       "      <th></th>\n",
       "      <th></th>\n",
       "      <th></th>\n",
       "      <th></th>\n",
       "      <th></th>\n",
       "      <th></th>\n",
       "      <th></th>\n",
       "    </tr>\n",
       "  </thead>\n",
       "  <tbody>\n",
       "    <tr>\n",
       "      <th>785135</th>\n",
       "      <td>10</td>\n",
       "      <td>4</td>\n",
       "      <td>UK</td>\n",
       "      <td>4</td>\n",
       "      <td>4</td>\n",
       "      <td>0</td>\n",
       "      <td>received</td>\n",
       "    </tr>\n",
       "    <tr>\n",
       "      <th>479664</th>\n",
       "      <td>4</td>\n",
       "      <td>5</td>\n",
       "      <td>UK</td>\n",
       "      <td>0</td>\n",
       "      <td>4</td>\n",
       "      <td>0</td>\n",
       "      <td>received</td>\n",
       "    </tr>\n",
       "    <tr>\n",
       "      <th>233005</th>\n",
       "      <td>19</td>\n",
       "      <td>5</td>\n",
       "      <td>US</td>\n",
       "      <td>10</td>\n",
       "      <td>4</td>\n",
       "      <td>0</td>\n",
       "      <td>received</td>\n",
       "    </tr>\n",
       "    <tr>\n",
       "      <th>285041</th>\n",
       "      <td>15</td>\n",
       "      <td>2</td>\n",
       "      <td>US</td>\n",
       "      <td>7</td>\n",
       "      <td>4</td>\n",
       "      <td>1</td>\n",
       "      <td>received</td>\n",
       "    </tr>\n",
       "    <tr>\n",
       "      <th>10411</th>\n",
       "      <td>2</td>\n",
       "      <td>5</td>\n",
       "      <td>UK</td>\n",
       "      <td>5</td>\n",
       "      <td>4</td>\n",
       "      <td>0</td>\n",
       "      <td>received</td>\n",
       "    </tr>\n",
       "  </tbody>\n",
       "</table>\n",
       "</div>"
      ],
      "text/plain": [
       "          hour  weekday country  purchases  paragraphs  is_personal  response\n",
       "email_id                                                                     \n",
       "785135      10        4      UK          4           4            0  received\n",
       "479664       4        5      UK          0           4            0  received\n",
       "233005      19        5      US         10           4            0  received\n",
       "285041      15        2      US          7           4            1  received\n",
       "10411        2        5      UK          5           4            0  received"
      ]
     },
     "execution_count": 22,
     "metadata": {},
     "output_type": "execute_result"
    }
   ],
   "source": [
    "del X\n",
    "X = emails.copy()\n",
    "X.sample(5)# get a feeling about current data"
   ]
  },
  {
   "cell_type": "code",
   "execution_count": 23,
   "metadata": {
    "collapsed": true
   },
   "outputs": [],
   "source": [
    "# select original features\n",
    "# 'paragraphs' isn't an important feature, but I will include it, and see how RF say about it\n",
    "X = X.loc[:,[\"country\",\"purchases\",\"paragraphs\",\"is_personal\"] ]\n",
    "\n",
    "# create new feature\n",
    "X['is_weekend'] = (emails.weekday>=5).astype(int)\n",
    "\n",
    "# One-Hot-Encode 'country' feature\n",
    "X = pd.get_dummies(X,columns=[\"country\"],drop_first=True)\n",
    "\n",
    "# prepare the target\n",
    "y = (emails.response == 'clicked').astype(int)"
   ]
  },
  {
   "cell_type": "code",
   "execution_count": 24,
   "metadata": {
    "collapsed": false
   },
   "outputs": [
    {
     "data": {
      "text/html": [
       "<div>\n",
       "<table border=\"1\" class=\"dataframe\">\n",
       "  <thead>\n",
       "    <tr style=\"text-align: right;\">\n",
       "      <th></th>\n",
       "      <th>purchases</th>\n",
       "      <th>paragraphs</th>\n",
       "      <th>is_personal</th>\n",
       "      <th>is_weekend</th>\n",
       "      <th>country_FR</th>\n",
       "      <th>country_UK</th>\n",
       "      <th>country_US</th>\n",
       "    </tr>\n",
       "    <tr>\n",
       "      <th>email_id</th>\n",
       "      <th></th>\n",
       "      <th></th>\n",
       "      <th></th>\n",
       "      <th></th>\n",
       "      <th></th>\n",
       "      <th></th>\n",
       "      <th></th>\n",
       "    </tr>\n",
       "  </thead>\n",
       "  <tbody>\n",
       "    <tr>\n",
       "      <th>231912</th>\n",
       "      <td>5</td>\n",
       "      <td>2</td>\n",
       "      <td>1</td>\n",
       "      <td>1</td>\n",
       "      <td>0.0</td>\n",
       "      <td>0.0</td>\n",
       "      <td>0.0</td>\n",
       "    </tr>\n",
       "    <tr>\n",
       "      <th>538951</th>\n",
       "      <td>5</td>\n",
       "      <td>2</td>\n",
       "      <td>1</td>\n",
       "      <td>0</td>\n",
       "      <td>0.0</td>\n",
       "      <td>0.0</td>\n",
       "      <td>0.0</td>\n",
       "    </tr>\n",
       "    <tr>\n",
       "      <th>716309</th>\n",
       "      <td>5</td>\n",
       "      <td>2</td>\n",
       "      <td>1</td>\n",
       "      <td>0</td>\n",
       "      <td>1.0</td>\n",
       "      <td>0.0</td>\n",
       "      <td>0.0</td>\n",
       "    </tr>\n",
       "    <tr>\n",
       "      <th>695780</th>\n",
       "      <td>6</td>\n",
       "      <td>4</td>\n",
       "      <td>1</td>\n",
       "      <td>1</td>\n",
       "      <td>0.0</td>\n",
       "      <td>0.0</td>\n",
       "      <td>1.0</td>\n",
       "    </tr>\n",
       "    <tr>\n",
       "      <th>586318</th>\n",
       "      <td>2</td>\n",
       "      <td>4</td>\n",
       "      <td>1</td>\n",
       "      <td>0</td>\n",
       "      <td>0.0</td>\n",
       "      <td>0.0</td>\n",
       "      <td>1.0</td>\n",
       "    </tr>\n",
       "  </tbody>\n",
       "</table>\n",
       "</div>"
      ],
      "text/plain": [
       "          purchases  paragraphs  is_personal  is_weekend  country_FR  \\\n",
       "email_id                                                               \n",
       "231912            5           2            1           1         0.0   \n",
       "538951            5           2            1           0         0.0   \n",
       "716309            5           2            1           0         1.0   \n",
       "695780            6           4            1           1         0.0   \n",
       "586318            2           4            1           0         0.0   \n",
       "\n",
       "          country_UK  country_US  \n",
       "email_id                          \n",
       "231912           0.0         0.0  \n",
       "538951           0.0         0.0  \n",
       "716309           0.0         0.0  \n",
       "695780           0.0         1.0  \n",
       "586318           0.0         1.0  "
      ]
     },
     "execution_count": 24,
     "metadata": {},
     "output_type": "execute_result"
    }
   ],
   "source": [
    "X.sample(5)# check the data"
   ]
  },
  {
   "cell_type": "code",
   "execution_count": 25,
   "metadata": {
    "collapsed": false
   },
   "outputs": [],
   "source": [
    "# split for training and testing\n",
    "Xtrain,Xtest,ytrain,ytest = train_test_split(X,y,test_size=0.33333,random_state = seed)"
   ]
  },
  {
   "cell_type": "code",
   "execution_count": 26,
   "metadata": {
    "collapsed": false
   },
   "outputs": [
    {
     "name": "stdout",
     "output_type": "stream",
     "text": [
      "Train set shape: (66667, 7), positive ratio=0.021\n",
      "Test set shape: (33333, 7), positive ratio=0.022\n"
     ]
    }
   ],
   "source": [
    "print 'Train set shape: {}, positive ratio={:.3f}'.format(Xtrain.shape,ytrain.mean())\n",
    "print 'Test set shape: {}, positive ratio={:.3f}'.format(Xtest.shape,ytest.mean())"
   ]
  },
  {
   "cell_type": "markdown",
   "metadata": {},
   "source": [
    "### Train the model"
   ]
  },
  {
   "cell_type": "markdown",
   "metadata": {},
   "source": [
    "Due to time limitation, I will just train one GBM model.\n",
    "\n",
    "<span style='color:red;font-weight:bold;font-size:1.5em'>If given sufficient time, I will apply fowllowing strategies to improve the model:</span>\n",
    "* <span style='color:red'>build multiple models, and ensemble them (average or stacking) to improve the prediction performance.</span>\n",
    "* <span style='color:red'>try more hyper-parameters to find better ones.</span>"
   ]
  },
  {
   "cell_type": "code",
   "execution_count": 27,
   "metadata": {
    "collapsed": true
   },
   "outputs": [],
   "source": [
    "train_matrix = xgb.DMatrix(Xtrain,ytrain)\n",
    "test_matrix = xgb.DMatrix(Xtest)"
   ]
  },
  {
   "cell_type": "code",
   "execution_count": 28,
   "metadata": {
    "collapsed": false
   },
   "outputs": [
    {
     "name": "stdout",
     "output_type": "stream",
     "text": [
      "[0]\ttrain-auc:0.677493+0.00828721\ttest-auc:0.672627+0.00998874\n",
      "[1]\ttrain-auc:0.697782+0.00882727\ttest-auc:0.696658+0.0206434\n",
      "[2]\ttrain-auc:0.70463+0.00828662\ttest-auc:0.702561+0.0208773\n",
      "[3]\ttrain-auc:0.711914+0.00409068\ttest-auc:0.710696+0.0228788\n",
      "[4]\ttrain-auc:0.714488+0.00278646\ttest-auc:0.712043+0.0193185\n",
      "[5]\ttrain-auc:0.717649+0.00424529\ttest-auc:0.714465+0.0207032\n",
      "[6]\ttrain-auc:0.719344+0.00510737\ttest-auc:0.715544+0.0193956\n",
      "[7]\ttrain-auc:0.724209+0.00365824\ttest-auc:0.719632+0.0165027\n",
      "[8]\ttrain-auc:0.729045+0.00371847\ttest-auc:0.72386+0.0148701\n",
      "[9]\ttrain-auc:0.730501+0.00375046\ttest-auc:0.724429+0.0142755\n",
      "[10]\ttrain-auc:0.732467+0.0026696\ttest-auc:0.726337+0.0156743\n",
      "[11]\ttrain-auc:0.735537+0.00246068\ttest-auc:0.729132+0.0162888\n",
      "[12]\ttrain-auc:0.737188+0.00155158\ttest-auc:0.730848+0.0168706\n",
      "[13]\ttrain-auc:0.738333+0.00183292\ttest-auc:0.73156+0.016002\n",
      "[14]\ttrain-auc:0.740307+0.00175305\ttest-auc:0.732328+0.0157333\n",
      "[15]\ttrain-auc:0.741514+0.00256378\ttest-auc:0.733169+0.0154183\n",
      "[16]\ttrain-auc:0.742537+0.0021792\ttest-auc:0.733099+0.0151237\n",
      "[17]\ttrain-auc:0.744702+0.00246548\ttest-auc:0.735111+0.0143654\n",
      "[18]\ttrain-auc:0.744979+0.00216543\ttest-auc:0.735508+0.0144697\n",
      "[19]\ttrain-auc:0.746026+0.00214697\ttest-auc:0.736038+0.0145\n",
      "[20]\ttrain-auc:0.747204+0.00234766\ttest-auc:0.73719+0.0144764\n",
      "[21]\ttrain-auc:0.748409+0.0027355\ttest-auc:0.737671+0.0133952\n",
      "[22]\ttrain-auc:0.749618+0.00291407\ttest-auc:0.738383+0.0132849\n",
      "[23]\ttrain-auc:0.750261+0.0030989\ttest-auc:0.739096+0.0125292\n",
      "[24]\ttrain-auc:0.750758+0.00331821\ttest-auc:0.739578+0.0117813\n",
      "[25]\ttrain-auc:0.751382+0.00282425\ttest-auc:0.739345+0.0120623\n",
      "[26]\ttrain-auc:0.752415+0.00346696\ttest-auc:0.740137+0.010798\n",
      "[27]\ttrain-auc:0.75338+0.00363762\ttest-auc:0.740929+0.0106986\n",
      "[28]\ttrain-auc:0.754266+0.00323947\ttest-auc:0.741637+0.0107274\n",
      "[29]\ttrain-auc:0.754915+0.00302772\ttest-auc:0.741759+0.0112564\n",
      "[30]\ttrain-auc:0.755914+0.0028627\ttest-auc:0.742037+0.0113041\n",
      "[31]\ttrain-auc:0.756318+0.0033501\ttest-auc:0.7425+0.0109369\n",
      "[32]\ttrain-auc:0.756882+0.00331093\ttest-auc:0.74231+0.0109721\n",
      "[33]\ttrain-auc:0.757279+0.00329185\ttest-auc:0.742169+0.011238\n",
      "[34]\ttrain-auc:0.757727+0.00332192\ttest-auc:0.74215+0.0115881\n",
      "[35]\ttrain-auc:0.758015+0.00318842\ttest-auc:0.742415+0.0118561\n",
      "[36]\ttrain-auc:0.75832+0.00301207\ttest-auc:0.742148+0.0119087\n",
      "[37]\ttrain-auc:0.758837+0.00294787\ttest-auc:0.742522+0.0116916\n",
      "[38]\ttrain-auc:0.759134+0.00323002\ttest-auc:0.742998+0.0112852\n",
      "[39]\ttrain-auc:0.759435+0.00314337\ttest-auc:0.743453+0.0113958\n",
      "[40]\ttrain-auc:0.759625+0.00329416\ttest-auc:0.743103+0.0111658\n",
      "[41]\ttrain-auc:0.760182+0.00309855\ttest-auc:0.743537+0.0108819\n",
      "[42]\ttrain-auc:0.760478+0.00316004\ttest-auc:0.743372+0.011017\n",
      "[43]\ttrain-auc:0.760531+0.00324614\ttest-auc:0.743372+0.0112937\n",
      "[44]\ttrain-auc:0.760811+0.00309214\ttest-auc:0.743344+0.0112747\n",
      "[45]\ttrain-auc:0.761199+0.00302771\ttest-auc:0.743541+0.0114938\n",
      "[46]\ttrain-auc:0.761436+0.00302944\ttest-auc:0.743817+0.0118088\n",
      "[47]\ttrain-auc:0.761543+0.00314059\ttest-auc:0.744085+0.0117599\n",
      "[48]\ttrain-auc:0.761755+0.00306749\ttest-auc:0.744454+0.0118087\n",
      "[49]\ttrain-auc:0.761926+0.00314977\ttest-auc:0.744501+0.0118104\n",
      "[50]\ttrain-auc:0.762055+0.00309526\ttest-auc:0.744369+0.0119067\n",
      "[51]\ttrain-auc:0.762271+0.00292601\ttest-auc:0.744522+0.0120931\n",
      "[52]\ttrain-auc:0.762409+0.00301158\ttest-auc:0.744722+0.0119359\n",
      "[53]\ttrain-auc:0.762461+0.00298882\ttest-auc:0.744397+0.0117605\n",
      "[54]\ttrain-auc:0.762592+0.00298153\ttest-auc:0.744378+0.0119351\n",
      "[55]\ttrain-auc:0.762895+0.00297585\ttest-auc:0.744472+0.0118786\n",
      "[56]\ttrain-auc:0.762913+0.00296567\ttest-auc:0.744442+0.0117821\n",
      "[57]\ttrain-auc:0.763132+0.00301844\ttest-auc:0.744228+0.0117882\n",
      "[58]\ttrain-auc:0.763194+0.0029937\ttest-auc:0.744274+0.0116317\n",
      "[59]\ttrain-auc:0.763377+0.00302593\ttest-auc:0.744082+0.011701\n",
      "[60]\ttrain-auc:0.763542+0.00298474\ttest-auc:0.743952+0.0117522\n",
      "[61]\ttrain-auc:0.763706+0.00296295\ttest-auc:0.743824+0.0117634\n",
      "[62]\ttrain-auc:0.763734+0.00293909\ttest-auc:0.743966+0.0115998\n",
      "[63]\ttrain-auc:0.763867+0.00296588\ttest-auc:0.743936+0.0116863\n",
      "[64]\ttrain-auc:0.763986+0.0029833\ttest-auc:0.743937+0.0116513\n",
      "[65]\ttrain-auc:0.764118+0.00302993\ttest-auc:0.743966+0.0117081\n",
      "[66]\ttrain-auc:0.764343+0.00292955\ttest-auc:0.743819+0.01163\n",
      "[67]\ttrain-auc:0.76442+0.00289046\ttest-auc:0.743918+0.0116983\n",
      "[68]\ttrain-auc:0.76458+0.00284802\ttest-auc:0.744038+0.0113129\n",
      "[69]\ttrain-auc:0.764717+0.00293263\ttest-auc:0.743734+0.0113893\n",
      "[70]\ttrain-auc:0.764937+0.00289321\ttest-auc:0.743605+0.0114114\n",
      "[71]\ttrain-auc:0.764969+0.00291843\ttest-auc:0.743335+0.0114451\n",
      "[72]\ttrain-auc:0.765096+0.00293488\ttest-auc:0.743135+0.0116176\n",
      "[73]\ttrain-auc:0.765168+0.00292989\ttest-auc:0.743155+0.0116143\n",
      "[74]\ttrain-auc:0.765326+0.00296368\ttest-auc:0.743008+0.0114881\n",
      "[75]\ttrain-auc:0.765443+0.00296921\ttest-auc:0.743122+0.0115193\n",
      "[76]\ttrain-auc:0.765457+0.00295559\ttest-auc:0.743204+0.011375\n",
      "[77]\ttrain-auc:0.765536+0.00298759\ttest-auc:0.74318+0.0113059\n",
      "[78]\ttrain-auc:0.765807+0.00298637\ttest-auc:0.74306+0.0113673\n",
      "[79]\ttrain-auc:0.765864+0.00301058\ttest-auc:0.743087+0.0114866\n",
      "[80]\ttrain-auc:0.765975+0.00306381\ttest-auc:0.743178+0.011708\n",
      "[81]\ttrain-auc:0.766011+0.00310261\ttest-auc:0.743395+0.0116618\n"
     ]
    }
   ],
   "source": [
    "params = {}\n",
    "params['objective'] = 'binary:logistic'  # output probabilities\n",
    "params['eval_metric'] = 'auc'\n",
    "params[\"num_rounds\"] = 300\n",
    "params[\"early_stopping_rounds\"] = 30\n",
    "# params['min_child_weight'] = 2\n",
    "params['max_depth'] = 6\n",
    "params['eta'] = 0.1\n",
    "params[\"subsample\"] = 0.8\n",
    "params[\"colsample_bytree\"] = 0.8\n",
    "\n",
    "cv_results = xgb.cv(params,train_matrix,\n",
    "                    num_boost_round = params[\"num_rounds\"],\n",
    "                    nfold = params.get('nfold',5),\n",
    "                    metrics = params['eval_metric'],\n",
    "                    early_stopping_rounds = params[\"early_stopping_rounds\"],\n",
    "                    verbose_eval = True,\n",
    "                    seed = seed)"
   ]
  },
  {
   "cell_type": "code",
   "execution_count": 29,
   "metadata": {
    "collapsed": false
   },
   "outputs": [
    {
     "name": "stdout",
     "output_type": "stream",
     "text": [
      "best number of trees: 53\n"
     ]
    }
   ],
   "source": [
    "n_best_trees = cv_results.shape[0]\n",
    "print \"best number of trees: {}\".format(n_best_trees)"
   ]
  },
  {
   "cell_type": "code",
   "execution_count": 30,
   "metadata": {
    "collapsed": false
   },
   "outputs": [
    {
     "name": "stdout",
     "output_type": "stream",
     "text": [
      "[0]\ttrain-auc:0.702188\n",
      "[1]\ttrain-auc:0.704781\n",
      "[2]\ttrain-auc:0.71018\n",
      "[3]\ttrain-auc:0.714805\n",
      "[4]\ttrain-auc:0.715547\n",
      "[5]\ttrain-auc:0.726005\n",
      "[6]\ttrain-auc:0.725821\n",
      "[7]\ttrain-auc:0.725022\n",
      "[8]\ttrain-auc:0.7335\n",
      "[9]\ttrain-auc:0.735223\n",
      "[10]\ttrain-auc:0.736723\n",
      "[11]\ttrain-auc:0.74205\n",
      "[12]\ttrain-auc:0.742289\n",
      "[13]\ttrain-auc:0.742862\n",
      "[14]\ttrain-auc:0.743885\n",
      "[15]\ttrain-auc:0.743699\n",
      "[16]\ttrain-auc:0.742109\n",
      "[17]\ttrain-auc:0.744295\n",
      "[18]\ttrain-auc:0.746087\n",
      "[19]\ttrain-auc:0.74534\n",
      "[20]\ttrain-auc:0.743896\n",
      "[21]\ttrain-auc:0.74842\n",
      "[22]\ttrain-auc:0.7502\n",
      "[23]\ttrain-auc:0.750863\n",
      "[24]\ttrain-auc:0.750096\n",
      "[25]\ttrain-auc:0.752116\n",
      "[26]\ttrain-auc:0.752202\n",
      "[27]\ttrain-auc:0.752974\n",
      "[28]\ttrain-auc:0.752529\n",
      "[29]\ttrain-auc:0.752424\n",
      "[30]\ttrain-auc:0.753932\n",
      "[31]\ttrain-auc:0.753449\n",
      "[32]\ttrain-auc:0.754669\n",
      "[33]\ttrain-auc:0.755053\n",
      "[34]\ttrain-auc:0.755589\n",
      "[35]\ttrain-auc:0.755971\n",
      "[36]\ttrain-auc:0.757188\n",
      "[37]\ttrain-auc:0.757529\n",
      "[38]\ttrain-auc:0.757631\n",
      "[39]\ttrain-auc:0.757584\n",
      "[40]\ttrain-auc:0.757568\n",
      "[41]\ttrain-auc:0.758382\n",
      "[42]\ttrain-auc:0.758155\n",
      "[43]\ttrain-auc:0.758213\n",
      "[44]\ttrain-auc:0.758067\n",
      "[45]\ttrain-auc:0.7586\n",
      "[46]\ttrain-auc:0.758911\n",
      "[47]\ttrain-auc:0.759027\n",
      "[48]\ttrain-auc:0.759092\n",
      "[49]\ttrain-auc:0.759198\n",
      "[50]\ttrain-auc:0.759484\n",
      "[51]\ttrain-auc:0.759869\n",
      "[52]\ttrain-auc:0.760239\n"
     ]
    }
   ],
   "source": [
    "watchlist = [(train_matrix, 'train')]\n",
    "gbt = xgb.train(params, train_matrix, n_best_trees,watchlist)"
   ]
  },
  {
   "cell_type": "code",
   "execution_count": 31,
   "metadata": {
    "collapsed": false
   },
   "outputs": [
    {
     "data": {
      "text/plain": [
       "<matplotlib.axes._subplots.AxesSubplot at 0x11ffb4e90>"
      ]
     },
     "execution_count": 31,
     "metadata": {},
     "output_type": "execute_result"
    },
    {
     "data": {
      "image/png": "[encoded data removed]",
      "text/plain": [
       "<matplotlib.figure.Figure at 0x11ffcc850>"
      ]
     },
     "metadata": {},
     "output_type": "display_data"
    }
   ],
   "source": [
    "# plot feature importances\n",
    "xgb.plot_importance(gbt)"
   ]
  },
  {
   "cell_type": "markdown",
   "metadata": {},
   "source": [
    "above feature importance match the result from [explorary analysis](#Explore-the-data)."
   ]
  },
  {
   "cell_type": "markdown",
   "metadata": {},
   "source": [
    "### Plot ROC curve and choose better probability threshold\n",
    "\n",
    "<span style='color:orange;font-size:1.5em'>since the data is highly imbalanced (positive examples is only 2% of the total examples), if using default probability threshold (0.5), the model just classify every example as negative, so we need to plot the ROC curve and choose a better probability threshold.</span>\n",
    "\n",
    "<span style='color:red;font-weight:bold'>But ROC cannot be plot on either training set or test set. </span>so I split the original train set into 'training' and 'validation' sets, <span style='color:orange;font-weight:bold'>re-train on 'training set' and plot ROC on 'validation set'. </span>"
   ]
  },
  {
   "cell_type": "code",
   "execution_count": 32,
   "metadata": {
    "collapsed": false
   },
   "outputs": [
    {
     "name": "stdout",
     "output_type": "stream",
     "text": [
      "n_best_trees=53,xgboost parameters: \n"
     ]
    },
    {
     "data": {
      "text/plain": [
       "{'colsample_bytree': 0.8,\n",
       " 'early_stopping_rounds': 30,\n",
       " 'eta': 0.1,\n",
       " 'eval_metric': 'auc',\n",
       " 'max_depth': 6,\n",
       " 'num_rounds': 300,\n",
       " 'objective': 'binary:logistic',\n",
       " 'subsample': 0.8}"
      ]
     },
     "execution_count": 32,
     "metadata": {},
     "output_type": "execute_result"
    }
   ],
   "source": [
    "print \"n_best_trees={},xgboost parameters: \".format(n_best_trees)\n",
    "params"
   ]
  },
  {
   "cell_type": "code",
   "execution_count": 33,
   "metadata": {
    "collapsed": false,
    "scrolled": false
   },
   "outputs": [],
   "source": [
    "# define a function, avoid pollute the current namespace\n",
    "def validation_roc():\n",
    "    Xtrain_only,Xvalid,ytrain_only,yvalid = train_test_split(Xtrain,ytrain,test_size=0.2,random_state=seed)\n",
    "    \n",
    "    train_only_matrix = xgb.DMatrix(Xtrain_only,ytrain_only)\n",
    "    valid_matrix = xgb.DMatrix(Xvalid)\n",
    "    \n",
    "    # retrain on training set\n",
    "    gbt_train_only = xgb.train(params, train_only_matrix, n_best_trees)\n",
    "    \n",
    "    # predict on validation set\n",
    "    yvalid_probas = gbt_train_only.predict(valid_matrix, ntree_limit=n_best_trees)\n",
    "    \n",
    "    d = {}\n",
    "    d['FPR'],d['TPR'],d['Threshold'] = roc_curve(yvalid,yvalid_probas)\n",
    "    return pd.DataFrame(d)"
   ]
  },
  {
   "cell_type": "code",
   "execution_count": 34,
   "metadata": {
    "collapsed": true
   },
   "outputs": [],
   "source": [
    "roc_results = validation_roc()"
   ]
  },
  {
   "cell_type": "code",
   "execution_count": 35,
   "metadata": {
    "collapsed": false
   },
   "outputs": [
    {
     "data": {
      "text/plain": [
       "<matplotlib.text.Text at 0x11abea2d0>"
      ]
     },
     "execution_count": 35,
     "metadata": {},
     "output_type": "execute_result"
    },
    {
     "data": {
      "image/png": "[encoded data removed]",
      "text/plain": [
       "<matplotlib.figure.Figure at 0x120124b90>"
      ]
     },
     "metadata": {},
     "output_type": "display_data"
    }
   ],
   "source": [
    "_ = plt.figure()\n",
    "plt.plot(roc_results.FPR,roc_results.TPR)\n",
    "plt.xlabel(\"FPR\")\n",
    "plt.ylabel('TPR')"
   ]
  },
  {
   "cell_type": "markdown",
   "metadata": {},
   "source": [
    "according to above ROC curve and make a compromise between Precision and Recall, <span style='color:orange;font-weight:bold;font-size:1.5em'>I decide to choose a threshold which makes TPR at about 0.6, then FPR will be about 0.3, which I think is acceptable.</span>"
   ]
  },
  {
   "cell_type": "code",
   "execution_count": 36,
   "metadata": {
    "collapsed": false
   },
   "outputs": [
    {
     "data": {
      "text/html": [
       "<div>\n",
       "<table border=\"1\" class=\"dataframe\">\n",
       "  <thead>\n",
       "    <tr style=\"text-align: right;\">\n",
       "      <th></th>\n",
       "      <th>FPR</th>\n",
       "      <th>TPR</th>\n",
       "      <th>Threshold</th>\n",
       "    </tr>\n",
       "  </thead>\n",
       "  <tbody>\n",
       "    <tr>\n",
       "      <th>192</th>\n",
       "      <td>0.274192</td>\n",
       "      <td>0.613861</td>\n",
       "      <td>0.030303</td>\n",
       "    </tr>\n",
       "    <tr>\n",
       "      <th>193</th>\n",
       "      <td>0.274729</td>\n",
       "      <td>0.613861</td>\n",
       "      <td>0.030261</td>\n",
       "    </tr>\n",
       "    <tr>\n",
       "      <th>194</th>\n",
       "      <td>0.274960</td>\n",
       "      <td>0.613861</td>\n",
       "      <td>0.030247</td>\n",
       "    </tr>\n",
       "    <tr>\n",
       "      <th>195</th>\n",
       "      <td>0.284245</td>\n",
       "      <td>0.617162</td>\n",
       "      <td>0.030224</td>\n",
       "    </tr>\n",
       "    <tr>\n",
       "      <th>196</th>\n",
       "      <td>0.288389</td>\n",
       "      <td>0.620462</td>\n",
       "      <td>0.029755</td>\n",
       "    </tr>\n",
       "    <tr>\n",
       "      <th>197</th>\n",
       "      <td>0.288619</td>\n",
       "      <td>0.620462</td>\n",
       "      <td>0.029587</td>\n",
       "    </tr>\n",
       "    <tr>\n",
       "      <th>198</th>\n",
       "      <td>0.290998</td>\n",
       "      <td>0.623762</td>\n",
       "      <td>0.029482</td>\n",
       "    </tr>\n",
       "    <tr>\n",
       "      <th>199</th>\n",
       "      <td>0.291229</td>\n",
       "      <td>0.623762</td>\n",
       "      <td>0.029463</td>\n",
       "    </tr>\n",
       "    <tr>\n",
       "      <th>200</th>\n",
       "      <td>0.291996</td>\n",
       "      <td>0.630363</td>\n",
       "      <td>0.029195</td>\n",
       "    </tr>\n",
       "    <tr>\n",
       "      <th>201</th>\n",
       "      <td>0.292380</td>\n",
       "      <td>0.630363</td>\n",
       "      <td>0.029118</td>\n",
       "    </tr>\n",
       "    <tr>\n",
       "      <th>202</th>\n",
       "      <td>0.294298</td>\n",
       "      <td>0.630363</td>\n",
       "      <td>0.028849</td>\n",
       "    </tr>\n",
       "    <tr>\n",
       "      <th>203</th>\n",
       "      <td>0.295296</td>\n",
       "      <td>0.630363</td>\n",
       "      <td>0.028624</td>\n",
       "    </tr>\n",
       "    <tr>\n",
       "      <th>204</th>\n",
       "      <td>0.296217</td>\n",
       "      <td>0.630363</td>\n",
       "      <td>0.028613</td>\n",
       "    </tr>\n",
       "    <tr>\n",
       "      <th>205</th>\n",
       "      <td>0.302663</td>\n",
       "      <td>0.630363</td>\n",
       "      <td>0.028445</td>\n",
       "    </tr>\n",
       "    <tr>\n",
       "      <th>206</th>\n",
       "      <td>0.303661</td>\n",
       "      <td>0.630363</td>\n",
       "      <td>0.028363</td>\n",
       "    </tr>\n",
       "    <tr>\n",
       "      <th>207</th>\n",
       "      <td>0.303737</td>\n",
       "      <td>0.630363</td>\n",
       "      <td>0.028344</td>\n",
       "    </tr>\n",
       "    <tr>\n",
       "      <th>208</th>\n",
       "      <td>0.304044</td>\n",
       "      <td>0.630363</td>\n",
       "      <td>0.028225</td>\n",
       "    </tr>\n",
       "    <tr>\n",
       "      <th>209</th>\n",
       "      <td>0.313944</td>\n",
       "      <td>0.643564</td>\n",
       "      <td>0.028042</td>\n",
       "    </tr>\n",
       "    <tr>\n",
       "      <th>210</th>\n",
       "      <td>0.314020</td>\n",
       "      <td>0.646865</td>\n",
       "      <td>0.028016</td>\n",
       "    </tr>\n",
       "    <tr>\n",
       "      <th>211</th>\n",
       "      <td>0.315709</td>\n",
       "      <td>0.646865</td>\n",
       "      <td>0.027908</td>\n",
       "    </tr>\n",
       "    <tr>\n",
       "      <th>212</th>\n",
       "      <td>0.316016</td>\n",
       "      <td>0.646865</td>\n",
       "      <td>0.027625</td>\n",
       "    </tr>\n",
       "  </tbody>\n",
       "</table>\n",
       "</div>"
      ],
      "text/plain": [
       "          FPR       TPR  Threshold\n",
       "192  0.274192  0.613861   0.030303\n",
       "193  0.274729  0.613861   0.030261\n",
       "194  0.274960  0.613861   0.030247\n",
       "195  0.284245  0.617162   0.030224\n",
       "196  0.288389  0.620462   0.029755\n",
       "197  0.288619  0.620462   0.029587\n",
       "198  0.290998  0.623762   0.029482\n",
       "199  0.291229  0.623762   0.029463\n",
       "200  0.291996  0.630363   0.029195\n",
       "201  0.292380  0.630363   0.029118\n",
       "202  0.294298  0.630363   0.028849\n",
       "203  0.295296  0.630363   0.028624\n",
       "204  0.296217  0.630363   0.028613\n",
       "205  0.302663  0.630363   0.028445\n",
       "206  0.303661  0.630363   0.028363\n",
       "207  0.303737  0.630363   0.028344\n",
       "208  0.304044  0.630363   0.028225\n",
       "209  0.313944  0.643564   0.028042\n",
       "210  0.314020  0.646865   0.028016\n",
       "211  0.315709  0.646865   0.027908\n",
       "212  0.316016  0.646865   0.027625"
      ]
     },
     "execution_count": 36,
     "metadata": {},
     "output_type": "execute_result"
    }
   ],
   "source": [
    "roc_results.loc[(roc_results.TPR > 0.6) & (roc_results.TPR < 0.65),:]"
   ]
  },
  {
   "cell_type": "code",
   "execution_count": 37,
   "metadata": {
    "collapsed": true
   },
   "outputs": [],
   "source": [
    "# choose a threshold based on ROC\n",
    "# FPR=0.292380, TPR=0.630363, Threshold=0.029118\n",
    "pos_prob_threshold = 0.029118\n",
    "\n",
    "def adjust_predict(matrix):\n",
    "    y_probas = gbt.predict(matrix, ntree_limit=n_best_trees)\n",
    "    return (y_probas > pos_prob_threshold).astype(int)"
   ]
  },
  {
   "cell_type": "code",
   "execution_count": 38,
   "metadata": {
    "collapsed": false
   },
   "outputs": [
    {
     "name": "stdout",
     "output_type": "stream",
     "text": [
      "             precision    recall  f1-score   support\n",
      "\n",
      "          0       0.99      0.72      0.83     65265\n",
      "          1       0.05      0.65      0.09      1402\n",
      "\n",
      "avg / total       0.97      0.71      0.82     66667\n",
      "\n"
     ]
    }
   ],
   "source": [
    "ytrain_pred = adjust_predict(train_matrix)\n",
    "print classification_report(ytrain,ytrain_pred)"
   ]
  },
  {
   "cell_type": "code",
   "execution_count": 39,
   "metadata": {
    "collapsed": false
   },
   "outputs": [
    {
     "name": "stdout",
     "output_type": "stream",
     "text": [
      "             precision    recall  f1-score   support\n",
      "\n",
      "          0       0.99      0.71      0.83     32616\n",
      "          1       0.04      0.60      0.08       717\n",
      "\n",
      "avg / total       0.97      0.71      0.81     33333\n",
      "\n"
     ]
    }
   ],
   "source": [
    "ytest_pred = adjust_predict(test_matrix)\n",
    "print classification_report(ytest,ytest_pred)"
   ]
  },
  {
   "cell_type": "markdown",
   "metadata": {},
   "source": [
    "<a id='test-precision-recall'></a>\n",
    "<span style='color:orange;font-weight:bold;font-size:1.5em'>more accurate Precision and Recall</span>"
   ]
  },
  {
   "cell_type": "code",
   "execution_count": 40,
   "metadata": {
    "collapsed": false
   },
   "outputs": [
    {
     "name": "stdout",
     "output_type": "stream",
     "text": [
      "test precision: 4.35%\n",
      "test recall: 60.11%\n"
     ]
    }
   ],
   "source": [
    "print \"test precision: {:.2f}%\".format(precision_score(ytest,ytest_pred) * 100)\n",
    "print \"test recall: {:.2f}%\".format(recall_score(ytest,ytest_pred) * 100)"
   ]
  },
  {
   "cell_type": "code",
   "execution_count": 41,
   "metadata": {
    "collapsed": true
   },
   "outputs": [],
   "source": [
    "gbt.save_model('gbt.model')"
   ]
  },
  {
   "cell_type": "markdown",
   "metadata": {},
   "source": [
    "## Answer question 2 and question 3's first part\n",
    "* <span style='color:blue;font-weight:bold'>The VP of marketing thinks that it is stupid to send emails to a random subset and in a random way. Based on all the information you have about the emails that were sent, can you build a model to optimize in future email campaigns to maximize the probability of users clicking on the link inside the email?</span>\n",
    "* <span style='color:blue;font-weight:bold'>By how much do you think your model would improve click through rate ( deﬁned as # of users who click on the link / total users who received the email). How would you test that?</span>\n",
    "\n",
    "I have build a Gradient Boosting Tree model in previous section which predicts whether a user will click the link or not. Then the new email campaign strategy will be: <span style='color:orange;font-weight:bold;font-size:1.5em'>only send email to users which my GBM model predicts positive.</span>"
   ]
  },
  {
   "cell_type": "code",
   "execution_count": 48,
   "metadata": {
    "collapsed": false
   },
   "outputs": [
    {
     "data": {
      "text/plain": [
       "#emails sent in new way     9904.000000\n",
       "#emails sent in old way    33333.000000\n",
       "saving percentage (%)         70.287703\n",
       "dtype: float64"
      ]
     },
     "execution_count": 48,
     "metadata": {},
     "output_type": "execute_result"
    }
   ],
   "source": [
    "n_emails_old_sent = ytest_pred.shape[0]\n",
    "n_emails_new_sent = ytest_pred.sum()\n",
    "saving_percentage = 100 - n_emails_new_sent * 100.0/n_emails_old_sent\n",
    "pd.Series({'#emails sent in old way': n_emails_old_sent,\n",
    "           '#emails sent in new way': n_emails_new_sent,\n",
    "           'saving percentage (%)': saving_percentage})"
   ]
  },
  {
   "cell_type": "markdown",
   "metadata": {},
   "source": [
    "according to its [predictive result on test set](#test-precision-recall) \n",
    "* <span style='color:orange;'>my model only need to send 30% of the old email amount, saving 70% amount.</span>\n",
    "* <span style='color:orange;'>my model will cover 60% of valued users which will click the link. </span>\n",
    "* <span style='color:orange;'>4.35% of the receiver will open email and click the link. </span> compare with [old strategy](#Answer-question-1), whose click rate is ** 2.12% **, <span style='color:red;'>my new strategy can double the click rate</span>."
   ]
  },
  {
   "cell_type": "markdown",
   "metadata": {},
   "source": [
    "## Answer question 3's second part\n",
    "<span style='color:blue;font-weight:bold'>By how much do you think your model would improve click through rate ( deﬁned as # of users who click on the link / total users who received the email). How would you test that?</span>\n",
    "\n",
    "To test my conclusion, we need to perform a A/B test:\n",
    "1. randomly assign users to two groups, Control group and Experiment group.\n",
    "2. in Control group, still use the old email-campaign strategy, i.e., just send emails to all users in Control group.\n",
    "3. in Experiment group, use my model to predict whether the user will click the link or not. and only send emails to those users whose predictive result is positive.\n",
    "4. then we preform a one-tail unpaired t-test to test whether Experiement group's population proportion is higher than Control group's population proportion."
   ]
  },
  {
   "cell_type": "code",
   "execution_count": null,
   "metadata": {
    "collapsed": true
   },
   "outputs": [],
   "source": []
  }
 ],
 "metadata": {
  "anaconda-cloud": {},
  "kernelspec": {
   "display_name": "Python [Root]",
   "language": "python",
   "name": "Python [Root]"
  },
  "language_info": {
   "codemirror_mode": {
    "name": "ipython",
    "version": 2
   },
   "file_extension": ".py",
   "mimetype": "text/x-python",
   "name": "python",
   "nbconvert_exporter": "python",
   "pygments_lexer": "ipython2",
   "version": "2.7.12"
  }
 },
 "nbformat": 4,
 "nbformat_minor": 0
}
