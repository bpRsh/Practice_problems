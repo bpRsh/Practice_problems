{
 "cells": [
  {
   "cell_type": "code",
   "execution_count": 1,
   "metadata": {},
   "outputs": [
    {
     "name": "stderr",
     "output_type": "stream",
     "text": [
      "/home/shreeranga/PP/Exp/venvs/lib/python2.7/site-packages/sklearn/cross_validation.py:44: DeprecationWarning: This module was deprecated in version 0.18 in favor of the model_selection module into which all the refactored classes and functions are moved. Also note that the interface of the new CV iterators are different from that of this module. This module will be removed in 0.20.\n",
      "  \"This module will be removed in 0.20.\", DeprecationWarning)\n"
     ]
    }
   ],
   "source": [
    "# import libraries\n",
    "import itertools\n",
    "import numpy as np\n",
    "import pandas as pd\n",
    "import matplotlib.pyplot as plt\n",
    "plt.style.use(\"ggplot\")\n",
    "%matplotlib inline\n",
    "import xgboost as xgb\n",
    "from sklearn.feature_selection import chi2,f_classif\n",
    "from sklearn.preprocessing import LabelEncoder\n",
    "from sklearn.metrics import classification_report,roc_curve,auc,precision_score,recall_score,precision_recall_curve\n",
    "from sklearn.cross_validation import train_test_split"
   ]
  },
  {
   "cell_type": "code",
   "execution_count": 2,
   "metadata": {
    "collapsed": true
   },
   "outputs": [],
   "source": [
    "seed = 9999"
   ]
  },
  {
   "cell_type": "code",
   "execution_count": 3,
   "metadata": {},
   "outputs": [
    {
     "data": {
      "text/html": [
       "<div>\n",
       "<style>\n",
       "    .dataframe thead tr:only-child th {\n",
       "        text-align: right;\n",
       "    }\n",
       "\n",
       "    .dataframe thead th {\n",
       "        text-align: left;\n",
       "    }\n",
       "\n",
       "    .dataframe tbody tr th {\n",
       "        vertical-align: top;\n",
       "    }\n",
       "</style>\n",
       "<table border=\"1\" class=\"dataframe\">\n",
       "  <thead>\n",
       "    <tr style=\"text-align: right;\">\n",
       "      <th></th>\n",
       "      <th>email_text</th>\n",
       "      <th>email_version</th>\n",
       "      <th>hour</th>\n",
       "      <th>weekday</th>\n",
       "      <th>user_country</th>\n",
       "      <th>user_past_purchases</th>\n",
       "    </tr>\n",
       "    <tr>\n",
       "      <th>email_id</th>\n",
       "      <th></th>\n",
       "      <th></th>\n",
       "      <th></th>\n",
       "      <th></th>\n",
       "      <th></th>\n",
       "      <th></th>\n",
       "    </tr>\n",
       "  </thead>\n",
       "  <tbody>\n",
       "    <tr>\n",
       "      <th>85120</th>\n",
       "      <td>short_email</td>\n",
       "      <td>personalized</td>\n",
       "      <td>2</td>\n",
       "      <td>Sunday</td>\n",
       "      <td>US</td>\n",
       "      <td>5</td>\n",
       "    </tr>\n",
       "    <tr>\n",
       "      <th>966622</th>\n",
       "      <td>long_email</td>\n",
       "      <td>personalized</td>\n",
       "      <td>12</td>\n",
       "      <td>Sunday</td>\n",
       "      <td>UK</td>\n",
       "      <td>2</td>\n",
       "    </tr>\n",
       "    <tr>\n",
       "      <th>777221</th>\n",
       "      <td>long_email</td>\n",
       "      <td>personalized</td>\n",
       "      <td>11</td>\n",
       "      <td>Wednesday</td>\n",
       "      <td>US</td>\n",
       "      <td>2</td>\n",
       "    </tr>\n",
       "    <tr>\n",
       "      <th>493711</th>\n",
       "      <td>short_email</td>\n",
       "      <td>generic</td>\n",
       "      <td>6</td>\n",
       "      <td>Monday</td>\n",
       "      <td>UK</td>\n",
       "      <td>1</td>\n",
       "    </tr>\n",
       "    <tr>\n",
       "      <th>106887</th>\n",
       "      <td>long_email</td>\n",
       "      <td>generic</td>\n",
       "      <td>14</td>\n",
       "      <td>Monday</td>\n",
       "      <td>US</td>\n",
       "      <td>6</td>\n",
       "    </tr>\n",
       "  </tbody>\n",
       "</table>\n",
       "</div>"
      ],
      "text/plain": [
       "           email_text email_version  hour    weekday user_country  \\\n",
       "email_id                                                            \n",
       "85120     short_email  personalized     2     Sunday           US   \n",
       "966622     long_email  personalized    12     Sunday           UK   \n",
       "777221     long_email  personalized    11  Wednesday           US   \n",
       "493711    short_email       generic     6     Monday           UK   \n",
       "106887     long_email       generic    14     Monday           US   \n",
       "\n",
       "          user_past_purchases  \n",
       "email_id                       \n",
       "85120                       5  \n",
       "966622                      2  \n",
       "777221                      2  \n",
       "493711                      1  \n",
       "106887                      6  "
      ]
     },
     "execution_count": 3,
     "metadata": {},
     "output_type": "execute_result"
    }
   ],
   "source": [
    "# Load email data/info from csv file\n",
    "emails = pd.read_csv('email_table.csv', index_col='email_id')\n",
    "emails.head()"
   ]
  },
  {
   "cell_type": "code",
   "execution_count": 4,
   "metadata": {},
   "outputs": [
    {
     "data": {
      "text/html": [
       "<div>\n",
       "<style>\n",
       "    .dataframe thead tr:only-child th {\n",
       "        text-align: right;\n",
       "    }\n",
       "\n",
       "    .dataframe thead th {\n",
       "        text-align: left;\n",
       "    }\n",
       "\n",
       "    .dataframe tbody tr th {\n",
       "        vertical-align: top;\n",
       "    }\n",
       "</style>\n",
       "<table border=\"1\" class=\"dataframe\">\n",
       "  <thead>\n",
       "    <tr style=\"text-align: right;\">\n",
       "      <th></th>\n",
       "      <th>hour</th>\n",
       "      <th>user_past_purchases</th>\n",
       "    </tr>\n",
       "  </thead>\n",
       "  <tbody>\n",
       "    <tr>\n",
       "      <th>count</th>\n",
       "      <td>100000.000000</td>\n",
       "      <td>100000.00000</td>\n",
       "    </tr>\n",
       "    <tr>\n",
       "      <th>mean</th>\n",
       "      <td>9.059300</td>\n",
       "      <td>3.87845</td>\n",
       "    </tr>\n",
       "    <tr>\n",
       "      <th>std</th>\n",
       "      <td>4.439637</td>\n",
       "      <td>3.19611</td>\n",
       "    </tr>\n",
       "    <tr>\n",
       "      <th>min</th>\n",
       "      <td>1.000000</td>\n",
       "      <td>0.00000</td>\n",
       "    </tr>\n",
       "    <tr>\n",
       "      <th>25%</th>\n",
       "      <td>6.000000</td>\n",
       "      <td>1.00000</td>\n",
       "    </tr>\n",
       "    <tr>\n",
       "      <th>50%</th>\n",
       "      <td>9.000000</td>\n",
       "      <td>3.00000</td>\n",
       "    </tr>\n",
       "    <tr>\n",
       "      <th>75%</th>\n",
       "      <td>12.000000</td>\n",
       "      <td>6.00000</td>\n",
       "    </tr>\n",
       "    <tr>\n",
       "      <th>max</th>\n",
       "      <td>24.000000</td>\n",
       "      <td>22.00000</td>\n",
       "    </tr>\n",
       "  </tbody>\n",
       "</table>\n",
       "</div>"
      ],
      "text/plain": [
       "                hour  user_past_purchases\n",
       "count  100000.000000         100000.00000\n",
       "mean        9.059300              3.87845\n",
       "std         4.439637              3.19611\n",
       "min         1.000000              0.00000\n",
       "25%         6.000000              1.00000\n",
       "50%         9.000000              3.00000\n",
       "75%        12.000000              6.00000\n",
       "max        24.000000             22.00000"
      ]
     },
     "execution_count": 4,
     "metadata": {},
     "output_type": "execute_result"
    }
   ],
   "source": [
    "emails.describe()"
   ]
  },
  {
   "cell_type": "code",
   "execution_count": 5,
   "metadata": {},
   "outputs": [
    {
     "name": "stdout",
     "output_type": "stream",
     "text": [
      "<class 'pandas.core.frame.DataFrame'>\n",
      "Int64Index: 100000 entries, 85120 to 348333\n",
      "Data columns (total 6 columns):\n",
      "email_text             100000 non-null object\n",
      "email_version          100000 non-null object\n",
      "hour                   100000 non-null int64\n",
      "weekday                100000 non-null object\n",
      "user_country           100000 non-null object\n",
      "user_past_purchases    100000 non-null int64\n",
      "dtypes: int64(2), object(4)\n",
      "memory usage: 5.3+ MB\n"
     ]
    }
   ],
   "source": [
    "emails.info()"
   ]
  },
  {
   "cell_type": "code",
   "execution_count": 6,
   "metadata": {
    "collapsed": true
   },
   "outputs": [],
   "source": [
    "# feature email text has short and long paragraphs. \n",
    "# So, let's change it to numerical values. Short t0 2 and long to 4\n",
    "emails['paragraphs'] = np.where(emails['email_text'] == 'short_email', 2, 4)\n",
    "del emails['email_text']"
   ]
  },
  {
   "cell_type": "code",
   "execution_count": 7,
   "metadata": {
    "collapsed": true
   },
   "outputs": [],
   "source": [
    "# feature email_version has personalize (Hi, John) and generic (Hi)\n",
    "emails['is_personal'] = (emails['email_version'] == 'personalized').astype(int)\n",
    "del emails['email_version']"
   ]
  },
  {
   "cell_type": "code",
   "execution_count": 8,
   "metadata": {
    "collapsed": true
   },
   "outputs": [],
   "source": [
    "# map weekdays to numbers\n",
    "weekdaytoindex = {'Monday':1, 'Tuesday':2, 'Wednesday':3, 'Thursday':4, 'Friday':5, 'Saturday':6, 'Sunday':7}\n",
    "emails['weekday'] = emails['weekday'].map(weekdaytoindex)"
   ]
  },
  {
   "cell_type": "code",
   "execution_count": 9,
   "metadata": {
    "collapsed": true
   },
   "outputs": [],
   "source": [
    "# rename some of the columns to easier names\n",
    "emails.rename(columns={'user_past_purchases':'purchases', 'user_country':'country'}, inplace=True)"
   ]
  },
  {
   "cell_type": "code",
   "execution_count": 10,
   "metadata": {},
   "outputs": [
    {
     "data": {
      "text/html": [
       "<div>\n",
       "<style>\n",
       "    .dataframe thead tr:only-child th {\n",
       "        text-align: right;\n",
       "    }\n",
       "\n",
       "    .dataframe thead th {\n",
       "        text-align: left;\n",
       "    }\n",
       "\n",
       "    .dataframe tbody tr th {\n",
       "        vertical-align: top;\n",
       "    }\n",
       "</style>\n",
       "<table border=\"1\" class=\"dataframe\">\n",
       "  <thead>\n",
       "    <tr style=\"text-align: right;\">\n",
       "      <th></th>\n",
       "      <th>hour</th>\n",
       "      <th>weekday</th>\n",
       "      <th>country</th>\n",
       "      <th>purchases</th>\n",
       "      <th>paragraphs</th>\n",
       "      <th>is_personal</th>\n",
       "    </tr>\n",
       "    <tr>\n",
       "      <th>email_id</th>\n",
       "      <th></th>\n",
       "      <th></th>\n",
       "      <th></th>\n",
       "      <th></th>\n",
       "      <th></th>\n",
       "      <th></th>\n",
       "    </tr>\n",
       "  </thead>\n",
       "  <tbody>\n",
       "    <tr>\n",
       "      <th>85120</th>\n",
       "      <td>2</td>\n",
       "      <td>7</td>\n",
       "      <td>US</td>\n",
       "      <td>5</td>\n",
       "      <td>2</td>\n",
       "      <td>1</td>\n",
       "    </tr>\n",
       "    <tr>\n",
       "      <th>966622</th>\n",
       "      <td>12</td>\n",
       "      <td>7</td>\n",
       "      <td>UK</td>\n",
       "      <td>2</td>\n",
       "      <td>4</td>\n",
       "      <td>1</td>\n",
       "    </tr>\n",
       "    <tr>\n",
       "      <th>777221</th>\n",
       "      <td>11</td>\n",
       "      <td>3</td>\n",
       "      <td>US</td>\n",
       "      <td>2</td>\n",
       "      <td>4</td>\n",
       "      <td>1</td>\n",
       "    </tr>\n",
       "    <tr>\n",
       "      <th>493711</th>\n",
       "      <td>6</td>\n",
       "      <td>1</td>\n",
       "      <td>UK</td>\n",
       "      <td>1</td>\n",
       "      <td>2</td>\n",
       "      <td>0</td>\n",
       "    </tr>\n",
       "    <tr>\n",
       "      <th>106887</th>\n",
       "      <td>14</td>\n",
       "      <td>1</td>\n",
       "      <td>US</td>\n",
       "      <td>6</td>\n",
       "      <td>4</td>\n",
       "      <td>0</td>\n",
       "    </tr>\n",
       "  </tbody>\n",
       "</table>\n",
       "</div>"
      ],
      "text/plain": [
       "          hour  weekday country  purchases  paragraphs  is_personal\n",
       "email_id                                                           \n",
       "85120        2        7      US          5           2            1\n",
       "966622      12        7      UK          2           4            1\n",
       "777221      11        3      US          2           4            1\n",
       "493711       6        1      UK          1           2            0\n",
       "106887      14        1      US          6           4            0"
      ]
     },
     "execution_count": 10,
     "metadata": {},
     "output_type": "execute_result"
    }
   ],
   "source": [
    "emails.head()"
   ]
  },
  {
   "cell_type": "code",
   "execution_count": 11,
   "metadata": {},
   "outputs": [],
   "source": [
    "# combine all the information together\n",
    "emails['response'] = 'received'\n",
    "\n",
    "open_users = pd.read_csv('email_opened_table.csv').email_id\n",
    "emails.loc[open_users, 'response'] = 'opened'\n",
    "\n",
    "clicked_users = pd.read_csv('link_clicked_table.csv').email_id\n",
    "emails.loc[clicked_users, 'response'] = 'clicked'"
   ]
  },
  {
   "cell_type": "code",
   "execution_count": 12,
   "metadata": {},
   "outputs": [
    {
     "data": {
      "text/html": [
       "<div>\n",
       "<style>\n",
       "    .dataframe thead tr:only-child th {\n",
       "        text-align: right;\n",
       "    }\n",
       "\n",
       "    .dataframe thead th {\n",
       "        text-align: left;\n",
       "    }\n",
       "\n",
       "    .dataframe tbody tr th {\n",
       "        vertical-align: top;\n",
       "    }\n",
       "</style>\n",
       "<table border=\"1\" class=\"dataframe\">\n",
       "  <thead>\n",
       "    <tr style=\"text-align: right;\">\n",
       "      <th></th>\n",
       "      <th>hour</th>\n",
       "      <th>weekday</th>\n",
       "      <th>country</th>\n",
       "      <th>purchases</th>\n",
       "      <th>paragraphs</th>\n",
       "      <th>is_personal</th>\n",
       "      <th>response</th>\n",
       "    </tr>\n",
       "    <tr>\n",
       "      <th>email_id</th>\n",
       "      <th></th>\n",
       "      <th></th>\n",
       "      <th></th>\n",
       "      <th></th>\n",
       "      <th></th>\n",
       "      <th></th>\n",
       "      <th></th>\n",
       "    </tr>\n",
       "  </thead>\n",
       "  <tbody>\n",
       "    <tr>\n",
       "      <th>85120</th>\n",
       "      <td>2</td>\n",
       "      <td>7</td>\n",
       "      <td>US</td>\n",
       "      <td>5</td>\n",
       "      <td>2</td>\n",
       "      <td>1</td>\n",
       "      <td>received</td>\n",
       "    </tr>\n",
       "    <tr>\n",
       "      <th>966622</th>\n",
       "      <td>12</td>\n",
       "      <td>7</td>\n",
       "      <td>UK</td>\n",
       "      <td>2</td>\n",
       "      <td>4</td>\n",
       "      <td>1</td>\n",
       "      <td>clicked</td>\n",
       "    </tr>\n",
       "    <tr>\n",
       "      <th>777221</th>\n",
       "      <td>11</td>\n",
       "      <td>3</td>\n",
       "      <td>US</td>\n",
       "      <td>2</td>\n",
       "      <td>4</td>\n",
       "      <td>1</td>\n",
       "      <td>received</td>\n",
       "    </tr>\n",
       "    <tr>\n",
       "      <th>493711</th>\n",
       "      <td>6</td>\n",
       "      <td>1</td>\n",
       "      <td>UK</td>\n",
       "      <td>1</td>\n",
       "      <td>2</td>\n",
       "      <td>0</td>\n",
       "      <td>received</td>\n",
       "    </tr>\n",
       "    <tr>\n",
       "      <th>106887</th>\n",
       "      <td>14</td>\n",
       "      <td>1</td>\n",
       "      <td>US</td>\n",
       "      <td>6</td>\n",
       "      <td>4</td>\n",
       "      <td>0</td>\n",
       "      <td>received</td>\n",
       "    </tr>\n",
       "  </tbody>\n",
       "</table>\n",
       "</div>"
      ],
      "text/plain": [
       "          hour  weekday country  purchases  paragraphs  is_personal  response\n",
       "email_id                                                                     \n",
       "85120        2        7      US          5           2            1  received\n",
       "966622      12        7      UK          2           4            1   clicked\n",
       "777221      11        3      US          2           4            1  received\n",
       "493711       6        1      UK          1           2            0  received\n",
       "106887      14        1      US          6           4            0  received"
      ]
     },
     "execution_count": 12,
     "metadata": {},
     "output_type": "execute_result"
    }
   ],
   "source": [
    "emails.head()"
   ]
  },
  {
   "cell_type": "code",
   "execution_count": 13,
   "metadata": {},
   "outputs": [],
   "source": [
    "emails.to_csv('clean_emails.csv', index_label='email_id')"
   ]
  },
  {
   "cell_type": "code",
   "execution_count": 14,
   "metadata": {},
   "outputs": [
    {
     "data": {
      "text/plain": [
       "received    0.89605\n",
       "opened      0.08276\n",
       "clicked     0.02119\n",
       "Name: response, dtype: float64"
      ]
     },
     "execution_count": 14,
     "metadata": {},
     "output_type": "execute_result"
    }
   ],
   "source": [
    "rslt = emails['response'].value_counts(normalize=True)\n",
    "rslt"
   ]
  },
  {
   "cell_type": "code",
   "execution_count": 15,
   "metadata": {},
   "outputs": [
    {
     "name": "stdout",
     "output_type": "stream",
     "text": [
      " 10.39% users opened the email\n"
     ]
    }
   ],
   "source": [
    "# what percentage opened the emails?\n",
    "print \"{: .2f}% users opened the email\".format((1 - rslt['received']) * 100)"
   ]
  },
  {
   "cell_type": "code",
   "execution_count": 16,
   "metadata": {},
   "outputs": [
    {
     "name": "stdout",
     "output_type": "stream",
     "text": [
      " 2.12% users clicked the link in the email\n"
     ]
    }
   ],
   "source": [
    "# what percentage clicked the link?\n",
    "print \"{: .2f}% users clicked the link in the email\".format((rslt['clicked']) * 100) "
   ]
  },
  {
   "cell_type": "code",
   "execution_count": 17,
   "metadata": {
    "collapsed": true
   },
   "outputs": [],
   "source": [
    "# Todo: exploratory data analysis"
   ]
  },
  {
   "cell_type": "markdown",
   "metadata": {},
   "source": [
    "## Build the predictive model"
   ]
  },
  {
   "cell_type": "code",
   "execution_count": 18,
   "metadata": {},
   "outputs": [],
   "source": [
    "X = emails.copy()\n",
    "# ctr_lbl_encoder = LabelEncoder()\n",
    "# X['country'] = ctr_lbl_encoder.fit_transform(X['response'])"
   ]
  },
  {
   "cell_type": "code",
   "execution_count": 19,
   "metadata": {},
   "outputs": [],
   "source": [
    "X = X.loc[:,['country', 'purchases', 'paragraphs', 'is_personal']]\n",
    "X['is_weekend'] = (emails['weekday'] >= 5).astype(int)\n",
    "X = pd.get_dummies(X, columns=['country'], drop_first=True)\n",
    "X.head()\n",
    "# the targer\n",
    "y = (emails['response'] == 'clicked').astype(int)"
   ]
  },
  {
   "cell_type": "code",
   "execution_count": 20,
   "metadata": {},
   "outputs": [
    {
     "data": {
      "text/plain": [
       "(66667,)"
      ]
     },
     "execution_count": 20,
     "metadata": {},
     "output_type": "execute_result"
    }
   ],
   "source": [
    "# split the data into training and testing\n",
    "Xtrain,Xtest,ytrain,ytest = train_test_split(X,y,test_size=0.33333,random_state = seed)\n",
    "ytrain.shape"
   ]
  },
  {
   "cell_type": "code",
   "execution_count": 21,
   "metadata": {},
   "outputs": [],
   "source": [
    "# train the model\n",
    "# just gonna train one gbm model\n",
    "train_matrix = xgb.DMatrix(Xtrain, ytrain)\n",
    "test_matrix = xgb.DMatrix(Xtest)"
   ]
  },
  {
   "cell_type": "code",
   "execution_count": 24,
   "metadata": {},
   "outputs": [
    {
     "name": "stdout",
     "output_type": "stream",
     "text": [
      "[0]\ttrain-auc:0.677493+0.00828721\ttest-auc:0.672627+0.00998874\n",
      "[1]\ttrain-auc:0.697782+0.00882727\ttest-auc:0.696658+0.0206434\n",
      "[2]\ttrain-auc:0.70463+0.00828662\ttest-auc:0.702561+0.0208773\n",
      "[3]\ttrain-auc:0.711914+0.00409068\ttest-auc:0.710696+0.0228788\n",
      "[4]\ttrain-auc:0.714488+0.00278646\ttest-auc:0.712043+0.0193185\n",
      "[5]\ttrain-auc:0.717649+0.00424529\ttest-auc:0.714465+0.0207032\n",
      "[6]\ttrain-auc:0.719344+0.00510737\ttest-auc:0.715544+0.0193956\n",
      "[7]\ttrain-auc:0.724209+0.00365824\ttest-auc:0.719632+0.0165027\n",
      "[8]\ttrain-auc:0.729045+0.00371847\ttest-auc:0.72386+0.0148701\n",
      "[9]\ttrain-auc:0.730501+0.00375046\ttest-auc:0.724429+0.0142755\n",
      "[10]\ttrain-auc:0.732467+0.0026696\ttest-auc:0.726337+0.0156743\n",
      "[11]\ttrain-auc:0.735537+0.00246068\ttest-auc:0.729132+0.0162888\n",
      "[12]\ttrain-auc:0.737188+0.00155158\ttest-auc:0.730848+0.0168706\n",
      "[13]\ttrain-auc:0.738333+0.00183292\ttest-auc:0.73156+0.016002\n",
      "[14]\ttrain-auc:0.740307+0.00175305\ttest-auc:0.732328+0.0157333\n",
      "[15]\ttrain-auc:0.741514+0.00256378\ttest-auc:0.733169+0.0154183\n",
      "[16]\ttrain-auc:0.742537+0.0021792\ttest-auc:0.733099+0.0151237\n",
      "[17]\ttrain-auc:0.744702+0.00246548\ttest-auc:0.735111+0.0143654\n",
      "[18]\ttrain-auc:0.744979+0.00216543\ttest-auc:0.735508+0.0144697\n",
      "[19]\ttrain-auc:0.746026+0.00214697\ttest-auc:0.736038+0.0145\n",
      "[20]\ttrain-auc:0.747204+0.00234766\ttest-auc:0.73719+0.0144764\n",
      "[21]\ttrain-auc:0.748409+0.0027355\ttest-auc:0.737671+0.0133952\n",
      "[22]\ttrain-auc:0.749618+0.00291407\ttest-auc:0.738383+0.0132849\n",
      "[23]\ttrain-auc:0.750261+0.0030989\ttest-auc:0.739096+0.0125292\n",
      "[24]\ttrain-auc:0.750758+0.00331821\ttest-auc:0.739578+0.0117813\n",
      "[25]\ttrain-auc:0.751382+0.00282425\ttest-auc:0.739345+0.0120623\n",
      "[26]\ttrain-auc:0.752415+0.00346696\ttest-auc:0.740137+0.010798\n",
      "[27]\ttrain-auc:0.75338+0.00363762\ttest-auc:0.740929+0.0106986\n",
      "[28]\ttrain-auc:0.754266+0.00323947\ttest-auc:0.741637+0.0107274\n",
      "[29]\ttrain-auc:0.754915+0.00302772\ttest-auc:0.741759+0.0112564\n",
      "[30]\ttrain-auc:0.755914+0.0028627\ttest-auc:0.742037+0.0113041\n",
      "[31]\ttrain-auc:0.756318+0.0033501\ttest-auc:0.7425+0.0109369\n",
      "[32]\ttrain-auc:0.756882+0.00331093\ttest-auc:0.74231+0.0109721\n",
      "[33]\ttrain-auc:0.757279+0.00329185\ttest-auc:0.742169+0.011238\n",
      "[34]\ttrain-auc:0.757727+0.00332192\ttest-auc:0.74215+0.0115881\n",
      "[35]\ttrain-auc:0.758015+0.00318842\ttest-auc:0.742415+0.0118561\n",
      "[36]\ttrain-auc:0.75832+0.00301207\ttest-auc:0.742148+0.0119087\n",
      "[37]\ttrain-auc:0.758837+0.00294787\ttest-auc:0.742522+0.0116916\n",
      "[38]\ttrain-auc:0.759134+0.00323002\ttest-auc:0.742998+0.0112852\n",
      "[39]\ttrain-auc:0.759435+0.00314337\ttest-auc:0.743453+0.0113958\n",
      "[40]\ttrain-auc:0.759625+0.00329416\ttest-auc:0.743103+0.0111658\n",
      "[41]\ttrain-auc:0.760182+0.00309855\ttest-auc:0.743537+0.0108819\n",
      "[42]\ttrain-auc:0.760478+0.00316004\ttest-auc:0.743372+0.011017\n",
      "[43]\ttrain-auc:0.760531+0.00324614\ttest-auc:0.743372+0.0112937\n",
      "[44]\ttrain-auc:0.760811+0.00309214\ttest-auc:0.743344+0.0112747\n",
      "[45]\ttrain-auc:0.761199+0.00302771\ttest-auc:0.743541+0.0114938\n",
      "[46]\ttrain-auc:0.761436+0.00302944\ttest-auc:0.743817+0.0118088\n",
      "[47]\ttrain-auc:0.761543+0.00314059\ttest-auc:0.744085+0.0117599\n",
      "[48]\ttrain-auc:0.761755+0.00306749\ttest-auc:0.744454+0.0118087\n",
      "[49]\ttrain-auc:0.761926+0.00314977\ttest-auc:0.744501+0.0118104\n",
      "[50]\ttrain-auc:0.762055+0.00309526\ttest-auc:0.744369+0.0119067\n",
      "[51]\ttrain-auc:0.762271+0.00292601\ttest-auc:0.744522+0.0120931\n",
      "[52]\ttrain-auc:0.762409+0.00301158\ttest-auc:0.744722+0.0119359\n",
      "[53]\ttrain-auc:0.762461+0.00298882\ttest-auc:0.744397+0.0117605\n",
      "[54]\ttrain-auc:0.762592+0.00298153\ttest-auc:0.744378+0.0119351\n",
      "[55]\ttrain-auc:0.762895+0.00297585\ttest-auc:0.744472+0.0118786\n",
      "[56]\ttrain-auc:0.762913+0.00296567\ttest-auc:0.744442+0.0117821\n",
      "[57]\ttrain-auc:0.763132+0.00301844\ttest-auc:0.744228+0.0117882\n",
      "[58]\ttrain-auc:0.763194+0.0029937\ttest-auc:0.744274+0.0116317\n",
      "[59]\ttrain-auc:0.763377+0.00302593\ttest-auc:0.744082+0.011701\n",
      "[60]\ttrain-auc:0.763542+0.00298474\ttest-auc:0.743952+0.0117522\n",
      "[61]\ttrain-auc:0.763706+0.00296295\ttest-auc:0.743824+0.0117634\n",
      "[62]\ttrain-auc:0.763734+0.00293909\ttest-auc:0.743966+0.0115998\n",
      "[63]\ttrain-auc:0.763867+0.00296588\ttest-auc:0.743936+0.0116863\n",
      "[64]\ttrain-auc:0.763986+0.0029833\ttest-auc:0.743937+0.0116513\n",
      "[65]\ttrain-auc:0.764118+0.00302993\ttest-auc:0.743966+0.0117081\n",
      "[66]\ttrain-auc:0.764343+0.00292955\ttest-auc:0.743819+0.01163\n",
      "[67]\ttrain-auc:0.76442+0.00289046\ttest-auc:0.743918+0.0116983\n",
      "[68]\ttrain-auc:0.76458+0.00284802\ttest-auc:0.744038+0.0113129\n",
      "[69]\ttrain-auc:0.764717+0.00293263\ttest-auc:0.743734+0.0113893\n",
      "[70]\ttrain-auc:0.764937+0.00289321\ttest-auc:0.743605+0.0114114\n",
      "[71]\ttrain-auc:0.764969+0.00291843\ttest-auc:0.743335+0.0114451\n",
      "[72]\ttrain-auc:0.765096+0.00293488\ttest-auc:0.743135+0.0116176\n",
      "[73]\ttrain-auc:0.765168+0.00292989\ttest-auc:0.743155+0.0116143\n",
      "[74]\ttrain-auc:0.765326+0.00296368\ttest-auc:0.743008+0.0114881\n",
      "[75]\ttrain-auc:0.765443+0.00296921\ttest-auc:0.743122+0.0115193\n",
      "[76]\ttrain-auc:0.765457+0.00295559\ttest-auc:0.743204+0.011375\n",
      "[77]\ttrain-auc:0.765536+0.00298759\ttest-auc:0.74318+0.0113059\n",
      "[78]\ttrain-auc:0.765807+0.00298637\ttest-auc:0.74306+0.0113673\n",
      "[79]\ttrain-auc:0.765864+0.00301058\ttest-auc:0.743087+0.0114866\n",
      "[80]\ttrain-auc:0.765975+0.00306381\ttest-auc:0.743178+0.011708\n",
      "[81]\ttrain-auc:0.766011+0.00310261\ttest-auc:0.743395+0.0116618\n"
     ]
    }
   ],
   "source": [
    "params = {}\n",
    "params['objective'] = 'binary:logistic' # output probabilities\n",
    "params['eval_metric'] = 'auc'\n",
    "params['num_rounds'] = 300\n",
    "params['early_stopping_rounds'] = 30\n",
    "params['max_depth'] = 6\n",
    "params['eta'] = 0.1\n",
    "params['subsample'] = 0.8\n",
    "params['colsample_bytree'] = 0.8\n",
    "\n",
    "cv_results = xgb.cv(params, train_matrix,\n",
    "                   num_boost_round=params['num_rounds'],\n",
    "                   nfold = params.get('nfold', 5),\n",
    "                   metrics = params['eval_metric'],\n",
    "                   early_stopping_rounds=params['early_stopping_rounds'],\n",
    "                   verbose_eval=True,\n",
    "                   seed=seed)"
   ]
  },
  {
   "cell_type": "code",
   "execution_count": 28,
   "metadata": {},
   "outputs": [
    {
     "data": {
      "text/plain": [
       "53"
      ]
     },
     "execution_count": 28,
     "metadata": {},
     "output_type": "execute_result"
    }
   ],
   "source": [
    "n_best_trees = cv_results.shape[0]\n",
    "n_best_trees"
   ]
  },
  {
   "cell_type": "code",
   "execution_count": 29,
   "metadata": {
    "collapsed": true
   },
   "outputs": [],
   "source": [
    "watchlist = [(train_matrix, 'train')]"
   ]
  },
  {
   "cell_type": "code",
   "execution_count": 30,
   "metadata": {},
   "outputs": [
    {
     "name": "stdout",
     "output_type": "stream",
     "text": [
      "[0]\ttrain-auc:0.702188\n",
      "[1]\ttrain-auc:0.704781\n",
      "[2]\ttrain-auc:0.71018\n",
      "[3]\ttrain-auc:0.714805\n",
      "[4]\ttrain-auc:0.715547\n",
      "[5]\ttrain-auc:0.726005\n",
      "[6]\ttrain-auc:0.725821\n",
      "[7]\ttrain-auc:0.725022\n",
      "[8]\ttrain-auc:0.7335\n",
      "[9]\ttrain-auc:0.735223\n",
      "[10]\ttrain-auc:0.736723\n",
      "[11]\ttrain-auc:0.74205\n",
      "[12]\ttrain-auc:0.742289\n",
      "[13]\ttrain-auc:0.742862\n",
      "[14]\ttrain-auc:0.743885\n",
      "[15]\ttrain-auc:0.743699\n",
      "[16]\ttrain-auc:0.742109\n",
      "[17]\ttrain-auc:0.744295\n",
      "[18]\ttrain-auc:0.746087\n",
      "[19]\ttrain-auc:0.74534\n",
      "[20]\ttrain-auc:0.743896\n",
      "[21]\ttrain-auc:0.74842\n",
      "[22]\ttrain-auc:0.7502\n",
      "[23]\ttrain-auc:0.750863\n",
      "[24]\ttrain-auc:0.750096\n",
      "[25]\ttrain-auc:0.752116\n",
      "[26]\ttrain-auc:0.752202\n",
      "[27]\ttrain-auc:0.752974\n",
      "[28]\ttrain-auc:0.752529\n",
      "[29]\ttrain-auc:0.752424\n",
      "[30]\ttrain-auc:0.753932\n",
      "[31]\ttrain-auc:0.753449\n",
      "[32]\ttrain-auc:0.754669\n",
      "[33]\ttrain-auc:0.755053\n",
      "[34]\ttrain-auc:0.755589\n",
      "[35]\ttrain-auc:0.755971\n",
      "[36]\ttrain-auc:0.757188\n",
      "[37]\ttrain-auc:0.757529\n",
      "[38]\ttrain-auc:0.757631\n",
      "[39]\ttrain-auc:0.757584\n",
      "[40]\ttrain-auc:0.757568\n",
      "[41]\ttrain-auc:0.758382\n",
      "[42]\ttrain-auc:0.758155\n",
      "[43]\ttrain-auc:0.758213\n",
      "[44]\ttrain-auc:0.758067\n",
      "[45]\ttrain-auc:0.7586\n",
      "[46]\ttrain-auc:0.758911\n",
      "[47]\ttrain-auc:0.759027\n",
      "[48]\ttrain-auc:0.759092\n",
      "[49]\ttrain-auc:0.759198\n",
      "[50]\ttrain-auc:0.759484\n",
      "[51]\ttrain-auc:0.759869\n",
      "[52]\ttrain-auc:0.760239\n"
     ]
    }
   ],
   "source": [
    "gbt = xgb.train(params, train_matrix, n_best_trees, watchlist)"
   ]
  },
  {
   "cell_type": "code",
   "execution_count": 31,
   "metadata": {},
   "outputs": [
    {
     "data": {
      "text/plain": [
       "<matplotlib.axes._subplots.AxesSubplot at 0x7f7b014e2410>"
      ]
     },
     "execution_count": 31,
     "metadata": {},
     "output_type": "execute_result"
    },
    {
     "data": {
      "image/png": "[encoded data removed]",
      "text/plain": [
       "<matplotlib.figure.Figure at 0x7f7b01e55fd0>"
      ]
     },
     "metadata": {},
     "output_type": "display_data"
    }
   ],
   "source": [
    "xgb.plot_importance(gbt)"
   ]
  },
  {
   "cell_type": "markdown",
   "metadata": {},
   "source": [
    "Make sure the above results are close to finding from exploratory analysis. Yet to do that"
   ]
  },
  {
   "cell_type": "code",
   "execution_count": null,
   "metadata": {
    "collapsed": true
   },
   "outputs": [],
   "source": []
  }
 ],
 "metadata": {
  "kernelspec": {
   "display_name": "Python 2",
   "language": "python",
   "name": "python2"
  },
  "language_info": {
   "codemirror_mode": {
    "name": "ipython",
    "version": 2
   },
   "file_extension": ".py",
   "mimetype": "text/x-python",
   "name": "python",
   "nbconvert_exporter": "python",
   "pygments_lexer": "ipython2",
   "version": "2.7.13"
  }
 },
 "nbformat": 4,
 "nbformat_minor": 2
}
