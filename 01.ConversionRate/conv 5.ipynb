{
 "cells": [
  {
   "cell_type": "markdown",
   "metadata": {
    "collapsed": false
   },
   "source": [
    "# Conversion Rate Analysis"
   ]
  },
  {
   "cell_type": "markdown",
   "metadata": {},
   "source": [
    "## Explortary Analysis"
   ]
  },
  {
   "cell_type": "code",
   "execution_count": 6,
   "metadata": {
    "collapsed": true
   },
   "outputs": [],
   "source": [
    "import pandas as pd\n",
    "import numpy as np\n",
    "import matplotlib.pyplot as plt\n",
    "import seaborn as sns\n",
    "%matplotlib inline\n",
    "plt.style.use('ggplot')\n"
   ]
  },
  {
   "cell_type": "code",
   "execution_count": 7,
   "metadata": {
    "collapsed": true
   },
   "outputs": [],
   "source": [
    "df = pd.read_csv('conversion_data.csv')"
   ]
  },
  {
   "cell_type": "code",
   "execution_count": 5,
   "metadata": {
    "collapsed": false
   },
   "outputs": [
    {
     "data": {
      "text/html": [
       "<div>\n",
       "<table border=\"1\" class=\"dataframe\">\n",
       "  <thead>\n",
       "    <tr style=\"text-align: right;\">\n",
       "      <th></th>\n",
       "      <th>country</th>\n",
       "      <th>age</th>\n",
       "      <th>new_user</th>\n",
       "      <th>source</th>\n",
       "      <th>total_pages_visited</th>\n",
       "      <th>converted</th>\n",
       "    </tr>\n",
       "  </thead>\n",
       "  <tbody>\n",
       "    <tr>\n",
       "      <th>0</th>\n",
       "      <td>UK</td>\n",
       "      <td>25</td>\n",
       "      <td>1</td>\n",
       "      <td>Ads</td>\n",
       "      <td>1</td>\n",
       "      <td>0</td>\n",
       "    </tr>\n",
       "    <tr>\n",
       "      <th>1</th>\n",
       "      <td>US</td>\n",
       "      <td>23</td>\n",
       "      <td>1</td>\n",
       "      <td>Seo</td>\n",
       "      <td>5</td>\n",
       "      <td>0</td>\n",
       "    </tr>\n",
       "    <tr>\n",
       "      <th>2</th>\n",
       "      <td>US</td>\n",
       "      <td>28</td>\n",
       "      <td>1</td>\n",
       "      <td>Seo</td>\n",
       "      <td>4</td>\n",
       "      <td>0</td>\n",
       "    </tr>\n",
       "    <tr>\n",
       "      <th>3</th>\n",
       "      <td>China</td>\n",
       "      <td>39</td>\n",
       "      <td>1</td>\n",
       "      <td>Seo</td>\n",
       "      <td>5</td>\n",
       "      <td>0</td>\n",
       "    </tr>\n",
       "    <tr>\n",
       "      <th>4</th>\n",
       "      <td>US</td>\n",
       "      <td>30</td>\n",
       "      <td>1</td>\n",
       "      <td>Seo</td>\n",
       "      <td>6</td>\n",
       "      <td>0</td>\n",
       "    </tr>\n",
       "  </tbody>\n",
       "</table>\n",
       "</div>"
      ],
      "text/plain": [
       "  country  age  new_user source  total_pages_visited  converted\n",
       "0      UK   25         1    Ads                    1          0\n",
       "1      US   23         1    Seo                    5          0\n",
       "2      US   28         1    Seo                    4          0\n",
       "3   China   39         1    Seo                    5          0\n",
       "4      US   30         1    Seo                    6          0"
      ]
     },
     "execution_count": 5,
     "metadata": {},
     "output_type": "execute_result"
    }
   ],
   "source": [
    "df.head()\n",
    "#Here we can see we have country, age, new_user, source and total_pages_visited info to predict the conversion."
   ]
  },
  {
   "cell_type": "code",
   "execution_count": 6,
   "metadata": {
    "collapsed": false
   },
   "outputs": [
    {
     "data": {
      "text/html": [
       "<div>\n",
       "<table border=\"1\" class=\"dataframe\">\n",
       "  <thead>\n",
       "    <tr style=\"text-align: right;\">\n",
       "      <th></th>\n",
       "      <th>age</th>\n",
       "      <th>new_user</th>\n",
       "      <th>total_pages_visited</th>\n",
       "      <th>converted</th>\n",
       "    </tr>\n",
       "  </thead>\n",
       "  <tbody>\n",
       "    <tr>\n",
       "      <th>count</th>\n",
       "      <td>316200.000000</td>\n",
       "      <td>316200.000000</td>\n",
       "      <td>316200.000000</td>\n",
       "      <td>316200.000000</td>\n",
       "    </tr>\n",
       "    <tr>\n",
       "      <th>mean</th>\n",
       "      <td>30.569858</td>\n",
       "      <td>0.685465</td>\n",
       "      <td>4.872966</td>\n",
       "      <td>0.032258</td>\n",
       "    </tr>\n",
       "    <tr>\n",
       "      <th>std</th>\n",
       "      <td>8.271802</td>\n",
       "      <td>0.464331</td>\n",
       "      <td>3.341104</td>\n",
       "      <td>0.176685</td>\n",
       "    </tr>\n",
       "    <tr>\n",
       "      <th>min</th>\n",
       "      <td>17.000000</td>\n",
       "      <td>0.000000</td>\n",
       "      <td>1.000000</td>\n",
       "      <td>0.000000</td>\n",
       "    </tr>\n",
       "    <tr>\n",
       "      <th>25%</th>\n",
       "      <td>24.000000</td>\n",
       "      <td>0.000000</td>\n",
       "      <td>2.000000</td>\n",
       "      <td>0.000000</td>\n",
       "    </tr>\n",
       "    <tr>\n",
       "      <th>50%</th>\n",
       "      <td>30.000000</td>\n",
       "      <td>1.000000</td>\n",
       "      <td>4.000000</td>\n",
       "      <td>0.000000</td>\n",
       "    </tr>\n",
       "    <tr>\n",
       "      <th>75%</th>\n",
       "      <td>36.000000</td>\n",
       "      <td>1.000000</td>\n",
       "      <td>7.000000</td>\n",
       "      <td>0.000000</td>\n",
       "    </tr>\n",
       "    <tr>\n",
       "      <th>max</th>\n",
       "      <td>123.000000</td>\n",
       "      <td>1.000000</td>\n",
       "      <td>29.000000</td>\n",
       "      <td>1.000000</td>\n",
       "    </tr>\n",
       "  </tbody>\n",
       "</table>\n",
       "</div>"
      ],
      "text/plain": [
       "                 age       new_user  total_pages_visited      converted\n",
       "count  316200.000000  316200.000000        316200.000000  316200.000000\n",
       "mean       30.569858       0.685465             4.872966       0.032258\n",
       "std         8.271802       0.464331             3.341104       0.176685\n",
       "min        17.000000       0.000000             1.000000       0.000000\n",
       "25%        24.000000       0.000000             2.000000       0.000000\n",
       "50%        30.000000       1.000000             4.000000       0.000000\n",
       "75%        36.000000       1.000000             7.000000       0.000000\n",
       "max       123.000000       1.000000            29.000000       1.000000"
      ]
     },
     "execution_count": 6,
     "metadata": {},
     "output_type": "execute_result"
    }
   ],
   "source": [
    "df.describe()\n",
    "# There are 316200 records, and converstion rate is around 17.7%"
   ]
  },
  {
   "cell_type": "code",
   "execution_count": 6,
   "metadata": {
    "collapsed": false
   },
   "outputs": [
    {
     "data": {
      "text/plain": [
       "<matplotlib.text.Text at 0xe2df30>"
      ]
     },
     "execution_count": 6,
     "metadata": {},
     "output_type": "execute_result"
    },
    {
     "data": {
      "image/png": "[encoded data removed]",
      "text/plain": [
       "<matplotlib.figure.Figure at 0xdf9210>"
      ]
     },
     "metadata": {},
     "output_type": "display_data"
    }
   ],
   "source": [
    "df.converted.value_counts().plot(kind = 'bar')\n",
    "plt.title('converted')"
   ]
  },
  {
   "cell_type": "code",
   "execution_count": 7,
   "metadata": {
    "collapsed": false,
    "scrolled": true
   },
   "outputs": [
    {
     "data": {
      "text/plain": [
       "<seaborn.axisgrid.FacetGrid at 0xe24e10>"
      ]
     },
     "execution_count": 7,
     "metadata": {},
     "output_type": "execute_result"
    },
    {
     "data": {
      "image/png": "[encoded data removed]",
      "text/plain": [
       "<matplotlib.figure.Figure at 0x10b4130>"
      ]
     },
     "metadata": {},
     "output_type": "display_data"
    }
   ],
   "source": [
    "sns.FacetGrid(df, col='converted').map(sns.countplot,'country')"
   ]
  },
  {
   "cell_type": "markdown",
   "metadata": {},
   "source": [
    "We can see in the plot that even there are many users in Germany and China, they don't become converted. Also, given the large user base in UK, the conversion rate is very low."
   ]
  },
  {
   "cell_type": "code",
   "execution_count": 8,
   "metadata": {
    "collapsed": false
   },
   "outputs": [
    {
     "data": {
      "text/plain": [
       "<seaborn.axisgrid.FacetGrid at 0x10b97b0>"
      ]
     },
     "execution_count": 8,
     "metadata": {},
     "output_type": "execute_result"
    },
    {
     "data": {
      "image/png": "[encoded data removed]",
      "text/plain": [
       "<matplotlib.figure.Figure at 0x96d9dd0>"
      ]
     },
     "metadata": {},
     "output_type": "display_data"
    }
   ],
   "source": [
    "sns.FacetGrid(df, col='converted').map(sns.countplot,'source')"
   ]
  },
  {
   "cell_type": "code",
   "execution_count": 9,
   "metadata": {
    "collapsed": false
   },
   "outputs": [
    {
     "data": {
      "text/html": [
       "<div>\n",
       "<table border=\"1\" class=\"dataframe\">\n",
       "  <thead>\n",
       "    <tr style=\"text-align: right;\">\n",
       "      <th></th>\n",
       "      <th></th>\n",
       "      <th>country</th>\n",
       "      <th>age</th>\n",
       "      <th>new_user</th>\n",
       "      <th>total_pages_visited</th>\n",
       "    </tr>\n",
       "    <tr>\n",
       "      <th>converted</th>\n",
       "      <th>source</th>\n",
       "      <th></th>\n",
       "      <th></th>\n",
       "      <th></th>\n",
       "      <th></th>\n",
       "    </tr>\n",
       "  </thead>\n",
       "  <tbody>\n",
       "    <tr>\n",
       "      <th rowspan=\"3\" valign=\"top\">0</th>\n",
       "      <th>Ads</th>\n",
       "      <td>85680</td>\n",
       "      <td>85680</td>\n",
       "      <td>85680</td>\n",
       "      <td>85680</td>\n",
       "    </tr>\n",
       "    <tr>\n",
       "      <th>Direct</th>\n",
       "      <td>70380</td>\n",
       "      <td>70380</td>\n",
       "      <td>70380</td>\n",
       "      <td>70380</td>\n",
       "    </tr>\n",
       "    <tr>\n",
       "      <th>Seo</th>\n",
       "      <td>149940</td>\n",
       "      <td>149940</td>\n",
       "      <td>149940</td>\n",
       "      <td>149940</td>\n",
       "    </tr>\n",
       "    <tr>\n",
       "      <th rowspan=\"3\" valign=\"top\">1</th>\n",
       "      <th>Ads</th>\n",
       "      <td>3060</td>\n",
       "      <td>3060</td>\n",
       "      <td>3060</td>\n",
       "      <td>3060</td>\n",
       "    </tr>\n",
       "    <tr>\n",
       "      <th>Direct</th>\n",
       "      <td>2040</td>\n",
       "      <td>2040</td>\n",
       "      <td>2040</td>\n",
       "      <td>2040</td>\n",
       "    </tr>\n",
       "    <tr>\n",
       "      <th>Seo</th>\n",
       "      <td>5100</td>\n",
       "      <td>5100</td>\n",
       "      <td>5100</td>\n",
       "      <td>5100</td>\n",
       "    </tr>\n",
       "  </tbody>\n",
       "</table>\n",
       "</div>"
      ],
      "text/plain": [
       "                  country     age  new_user  total_pages_visited\n",
       "converted source                                                \n",
       "0         Ads       85680   85680     85680                85680\n",
       "          Direct    70380   70380     70380                70380\n",
       "          Seo      149940  149940    149940               149940\n",
       "1         Ads        3060    3060      3060                 3060\n",
       "          Direct     2040    2040      2040                 2040\n",
       "          Seo        5100    5100      5100                 5100"
      ]
     },
     "execution_count": 9,
     "metadata": {},
     "output_type": "execute_result"
    }
   ],
   "source": [
    "df.groupby(['converted','source']).count()"
   ]
  },
  {
   "cell_type": "code",
   "execution_count": 10,
   "metadata": {
    "collapsed": false
   },
   "outputs": [
    {
     "data": {
      "text/plain": [
       "0.034482758620689655"
      ]
     },
     "execution_count": 10,
     "metadata": {},
     "output_type": "execute_result"
    }
   ],
   "source": [
    "3060.00/(85680+3060)#Ads"
   ]
  },
  {
   "cell_type": "code",
   "execution_count": 11,
   "metadata": {
    "collapsed": false
   },
   "outputs": [
    {
     "data": {
      "text/plain": [
       "0.028169014084507043"
      ]
     },
     "execution_count": 11,
     "metadata": {},
     "output_type": "execute_result"
    }
   ],
   "source": [
    "2040.00/(70380+2040)#Direct"
   ]
  },
  {
   "cell_type": "code",
   "execution_count": 12,
   "metadata": {
    "collapsed": false
   },
   "outputs": [
    {
     "data": {
      "text/plain": [
       "0.03289473684210526"
      ]
     },
     "execution_count": 12,
     "metadata": {},
     "output_type": "execute_result"
    }
   ],
   "source": [
    "5100.00/(149940+5100)#Seo"
   ]
  },
  {
   "cell_type": "markdown",
   "metadata": {},
   "source": [
    "Ads seems the most efficient way to drive conversion among 3 sources."
   ]
  },
  {
   "cell_type": "code",
   "execution_count": 13,
   "metadata": {
    "collapsed": false
   },
   "outputs": [
    {
     "data": {
      "text/plain": [
       "<matplotlib.text.Text at 0x1415190>"
      ]
     },
     "execution_count": 13,
     "metadata": {},
     "output_type": "execute_result"
    },
    {
     "data": {
      "image/png": "[encoded data removed]",
      "text/plain": [
       "<matplotlib.figure.Figure at 0x1197950>"
      ]
     },
     "metadata": {},
     "output_type": "display_data"
    }
   ],
   "source": [
    "df.age.value_counts().plot(kind = 'bar')\n",
    "plt.title('age')"
   ]
  },
  {
   "cell_type": "code",
   "execution_count": 14,
   "metadata": {
    "collapsed": false
   },
   "outputs": [
    {
     "data": {
      "text/plain": [
       "<seaborn.axisgrid.FacetGrid at 0xa289730>"
      ]
     },
     "execution_count": 14,
     "metadata": {},
     "output_type": "execute_result"
    },
    {
     "data": {
      "image/png": "[encoded data removed]",
      "text/plain": [
       "<matplotlib.figure.Figure at 0x10b4a10>"
      ]
     },
     "metadata": {},
     "output_type": "display_data"
    }
   ],
   "source": [
    "sns.FacetGrid(df, col='converted').map(sns.countplot,'age')"
   ]
  },
  {
   "cell_type": "code",
   "execution_count": 15,
   "metadata": {
    "collapsed": false
   },
   "outputs": [
    {
     "data": {
      "text/plain": [
       "<matplotlib.text.Text at 0xa693ef0>"
      ]
     },
     "execution_count": 15,
     "metadata": {},
     "output_type": "execute_result"
    },
    {
     "data": {
      "image/png": "[encoded data removed]",
      "text/plain": [
       "<matplotlib.figure.Figure at 0x10b4630>"
      ]
     },
     "metadata": {},
     "output_type": "display_data"
    }
   ],
   "source": [
    "df.total_pages_visited.value_counts().plot(kind = 'bar')\n",
    "plt.title('total_pages_visited')"
   ]
  },
  {
   "cell_type": "code",
   "execution_count": 16,
   "metadata": {
    "collapsed": false
   },
   "outputs": [
    {
     "data": {
      "text/plain": [
       "<seaborn.axisgrid.FacetGrid at 0xa601030>"
      ]
     },
     "execution_count": 16,
     "metadata": {},
     "output_type": "execute_result"
    },
    {
     "data": {
      "image/png": "[encoded data removed]",
      "text/plain": [
       "<matplotlib.figure.Figure at 0xa3c7f50>"
      ]
     },
     "metadata": {},
     "output_type": "display_data"
    }
   ],
   "source": [
    "sns.FacetGrid(df, col='converted').map(sns.countplot,'total_pages_visited')"
   ]
  },
  {
   "cell_type": "markdown",
   "metadata": {},
   "source": [
    "From this plot, we can easily see that people who visited around 14 pages in total are more likely to be converted."
   ]
  },
  {
   "cell_type": "code",
   "execution_count": 17,
   "metadata": {
    "collapsed": false
   },
   "outputs": [
    {
     "data": {
      "text/plain": [
       "<seaborn.axisgrid.FacetGrid at 0xa7eb8d0>"
      ]
     },
     "execution_count": 17,
     "metadata": {},
     "output_type": "execute_result"
    },
    {
     "data": {
      "image/png": "[encoded data removed]",
      "text/plain": [
       "<matplotlib.figure.Figure at 0xa3d23f0>"
      ]
     },
     "metadata": {},
     "output_type": "display_data"
    }
   ],
   "source": [
    "sns.FacetGrid(df, col='converted').map(sns.countplot,'new_user')"
   ]
  },
  {
   "cell_type": "markdown",
   "metadata": {},
   "source": [
    "This plot shows that new users are less likely to be converted."
   ]
  },
  {
   "cell_type": "markdown",
   "metadata": {},
   "source": [
    "To summarize the exploratary analysis, my hypothesis is that new_user, total_pages_visited and country are most important features to predict whether the user will be converted. "
   ]
  },
  {
   "cell_type": "markdown",
   "metadata": {},
   "source": [
    "## Predictive Analysis"
   ]
  },
  {
   "cell_type": "code",
   "execution_count": 18,
   "metadata": {
    "collapsed": false
   },
   "outputs": [
    {
     "data": {
      "text/html": [
       "<div>\n",
       "<table border=\"1\" class=\"dataframe\">\n",
       "  <thead>\n",
       "    <tr style=\"text-align: right;\">\n",
       "      <th></th>\n",
       "      <th>country</th>\n",
       "      <th>age</th>\n",
       "      <th>new_user</th>\n",
       "      <th>source</th>\n",
       "      <th>total_pages_visited</th>\n",
       "      <th>converted</th>\n",
       "    </tr>\n",
       "  </thead>\n",
       "  <tbody>\n",
       "    <tr>\n",
       "      <th>0</th>\n",
       "      <td>UK</td>\n",
       "      <td>25</td>\n",
       "      <td>1</td>\n",
       "      <td>Ads</td>\n",
       "      <td>1</td>\n",
       "      <td>0</td>\n",
       "    </tr>\n",
       "    <tr>\n",
       "      <th>1</th>\n",
       "      <td>US</td>\n",
       "      <td>23</td>\n",
       "      <td>1</td>\n",
       "      <td>Seo</td>\n",
       "      <td>5</td>\n",
       "      <td>0</td>\n",
       "    </tr>\n",
       "    <tr>\n",
       "      <th>2</th>\n",
       "      <td>US</td>\n",
       "      <td>28</td>\n",
       "      <td>1</td>\n",
       "      <td>Seo</td>\n",
       "      <td>4</td>\n",
       "      <td>0</td>\n",
       "    </tr>\n",
       "    <tr>\n",
       "      <th>3</th>\n",
       "      <td>China</td>\n",
       "      <td>39</td>\n",
       "      <td>1</td>\n",
       "      <td>Seo</td>\n",
       "      <td>5</td>\n",
       "      <td>0</td>\n",
       "    </tr>\n",
       "    <tr>\n",
       "      <th>4</th>\n",
       "      <td>US</td>\n",
       "      <td>30</td>\n",
       "      <td>1</td>\n",
       "      <td>Seo</td>\n",
       "      <td>6</td>\n",
       "      <td>0</td>\n",
       "    </tr>\n",
       "  </tbody>\n",
       "</table>\n",
       "</div>"
      ],
      "text/plain": [
       "  country  age  new_user source  total_pages_visited  converted\n",
       "0      UK   25         1    Ads                    1          0\n",
       "1      US   23         1    Seo                    5          0\n",
       "2      US   28         1    Seo                    4          0\n",
       "3   China   39         1    Seo                    5          0\n",
       "4      US   30         1    Seo                    6          0"
      ]
     },
     "execution_count": 18,
     "metadata": {},
     "output_type": "execute_result"
    }
   ],
   "source": [
    "df.head()"
   ]
  },
  {
   "cell_type": "code",
   "execution_count": 8,
   "metadata": {
    "collapsed": false
   },
   "outputs": [],
   "source": [
    "df_cty = pd.get_dummies(df.country,prefix = 'country')"
   ]
  },
  {
   "cell_type": "code",
   "execution_count": 9,
   "metadata": {
    "collapsed": false
   },
   "outputs": [
    {
     "data": {
      "text/html": [
       "<div>\n",
       "<table border=\"1\" class=\"dataframe\">\n",
       "  <thead>\n",
       "    <tr style=\"text-align: right;\">\n",
       "      <th></th>\n",
       "      <th>country</th>\n",
       "      <th>age</th>\n",
       "      <th>new_user</th>\n",
       "      <th>source</th>\n",
       "      <th>total_pages_visited</th>\n",
       "      <th>converted</th>\n",
       "      <th>country_China</th>\n",
       "      <th>country_Germany</th>\n",
       "      <th>country_UK</th>\n",
       "      <th>country_US</th>\n",
       "    </tr>\n",
       "  </thead>\n",
       "  <tbody>\n",
       "    <tr>\n",
       "      <th>0</th>\n",
       "      <td>UK</td>\n",
       "      <td>25</td>\n",
       "      <td>1</td>\n",
       "      <td>Ads</td>\n",
       "      <td>1</td>\n",
       "      <td>0</td>\n",
       "      <td>0</td>\n",
       "      <td>0</td>\n",
       "      <td>1</td>\n",
       "      <td>0</td>\n",
       "    </tr>\n",
       "    <tr>\n",
       "      <th>1</th>\n",
       "      <td>US</td>\n",
       "      <td>23</td>\n",
       "      <td>1</td>\n",
       "      <td>Seo</td>\n",
       "      <td>5</td>\n",
       "      <td>0</td>\n",
       "      <td>0</td>\n",
       "      <td>0</td>\n",
       "      <td>0</td>\n",
       "      <td>1</td>\n",
       "    </tr>\n",
       "    <tr>\n",
       "      <th>2</th>\n",
       "      <td>US</td>\n",
       "      <td>28</td>\n",
       "      <td>1</td>\n",
       "      <td>Seo</td>\n",
       "      <td>4</td>\n",
       "      <td>0</td>\n",
       "      <td>0</td>\n",
       "      <td>0</td>\n",
       "      <td>0</td>\n",
       "      <td>1</td>\n",
       "    </tr>\n",
       "    <tr>\n",
       "      <th>3</th>\n",
       "      <td>China</td>\n",
       "      <td>39</td>\n",
       "      <td>1</td>\n",
       "      <td>Seo</td>\n",
       "      <td>5</td>\n",
       "      <td>0</td>\n",
       "      <td>1</td>\n",
       "      <td>0</td>\n",
       "      <td>0</td>\n",
       "      <td>0</td>\n",
       "    </tr>\n",
       "    <tr>\n",
       "      <th>4</th>\n",
       "      <td>US</td>\n",
       "      <td>30</td>\n",
       "      <td>1</td>\n",
       "      <td>Seo</td>\n",
       "      <td>6</td>\n",
       "      <td>0</td>\n",
       "      <td>0</td>\n",
       "      <td>0</td>\n",
       "      <td>0</td>\n",
       "      <td>1</td>\n",
       "    </tr>\n",
       "  </tbody>\n",
       "</table>\n",
       "</div>"
      ],
      "text/plain": [
       "  country  age  new_user source  total_pages_visited  converted  \\\n",
       "0      UK   25         1    Ads                    1          0   \n",
       "1      US   23         1    Seo                    5          0   \n",
       "2      US   28         1    Seo                    4          0   \n",
       "3   China   39         1    Seo                    5          0   \n",
       "4      US   30         1    Seo                    6          0   \n",
       "\n",
       "   country_China  country_Germany  country_UK  country_US  \n",
       "0              0                0           1           0  \n",
       "1              0                0           0           1  \n",
       "2              0                0           0           1  \n",
       "3              1                0           0           0  \n",
       "4              0                0           0           1  "
      ]
     },
     "execution_count": 9,
     "metadata": {},
     "output_type": "execute_result"
    }
   ],
   "source": [
    "df1 = pd.concat([df,df_cty],axis = 1)\n",
    "df1.head()"
   ]
  },
  {
   "cell_type": "code",
   "execution_count": 10,
   "metadata": {
    "collapsed": false
   },
   "outputs": [
    {
     "data": {
      "text/html": [
       "<div>\n",
       "<table border=\"1\" class=\"dataframe\">\n",
       "  <thead>\n",
       "    <tr style=\"text-align: right;\">\n",
       "      <th></th>\n",
       "      <th>country</th>\n",
       "      <th>age</th>\n",
       "      <th>new_user</th>\n",
       "      <th>source</th>\n",
       "      <th>total_pages_visited</th>\n",
       "      <th>converted</th>\n",
       "      <th>country_China</th>\n",
       "      <th>country_Germany</th>\n",
       "      <th>country_UK</th>\n",
       "      <th>country_US</th>\n",
       "      <th>source_Ads</th>\n",
       "      <th>source_Direct</th>\n",
       "      <th>source_Seo</th>\n",
       "    </tr>\n",
       "  </thead>\n",
       "  <tbody>\n",
       "    <tr>\n",
       "      <th>0</th>\n",
       "      <td>UK</td>\n",
       "      <td>25</td>\n",
       "      <td>1</td>\n",
       "      <td>Ads</td>\n",
       "      <td>1</td>\n",
       "      <td>0</td>\n",
       "      <td>0</td>\n",
       "      <td>0</td>\n",
       "      <td>1</td>\n",
       "      <td>0</td>\n",
       "      <td>1</td>\n",
       "      <td>0</td>\n",
       "      <td>0</td>\n",
       "    </tr>\n",
       "    <tr>\n",
       "      <th>1</th>\n",
       "      <td>US</td>\n",
       "      <td>23</td>\n",
       "      <td>1</td>\n",
       "      <td>Seo</td>\n",
       "      <td>5</td>\n",
       "      <td>0</td>\n",
       "      <td>0</td>\n",
       "      <td>0</td>\n",
       "      <td>0</td>\n",
       "      <td>1</td>\n",
       "      <td>0</td>\n",
       "      <td>0</td>\n",
       "      <td>1</td>\n",
       "    </tr>\n",
       "    <tr>\n",
       "      <th>2</th>\n",
       "      <td>US</td>\n",
       "      <td>28</td>\n",
       "      <td>1</td>\n",
       "      <td>Seo</td>\n",
       "      <td>4</td>\n",
       "      <td>0</td>\n",
       "      <td>0</td>\n",
       "      <td>0</td>\n",
       "      <td>0</td>\n",
       "      <td>1</td>\n",
       "      <td>0</td>\n",
       "      <td>0</td>\n",
       "      <td>1</td>\n",
       "    </tr>\n",
       "    <tr>\n",
       "      <th>3</th>\n",
       "      <td>China</td>\n",
       "      <td>39</td>\n",
       "      <td>1</td>\n",
       "      <td>Seo</td>\n",
       "      <td>5</td>\n",
       "      <td>0</td>\n",
       "      <td>1</td>\n",
       "      <td>0</td>\n",
       "      <td>0</td>\n",
       "      <td>0</td>\n",
       "      <td>0</td>\n",
       "      <td>0</td>\n",
       "      <td>1</td>\n",
       "    </tr>\n",
       "    <tr>\n",
       "      <th>4</th>\n",
       "      <td>US</td>\n",
       "      <td>30</td>\n",
       "      <td>1</td>\n",
       "      <td>Seo</td>\n",
       "      <td>6</td>\n",
       "      <td>0</td>\n",
       "      <td>0</td>\n",
       "      <td>0</td>\n",
       "      <td>0</td>\n",
       "      <td>1</td>\n",
       "      <td>0</td>\n",
       "      <td>0</td>\n",
       "      <td>1</td>\n",
       "    </tr>\n",
       "  </tbody>\n",
       "</table>\n",
       "</div>"
      ],
      "text/plain": [
       "  country  age  new_user source  total_pages_visited  converted  \\\n",
       "0      UK   25         1    Ads                    1          0   \n",
       "1      US   23         1    Seo                    5          0   \n",
       "2      US   28         1    Seo                    4          0   \n",
       "3   China   39         1    Seo                    5          0   \n",
       "4      US   30         1    Seo                    6          0   \n",
       "\n",
       "   country_China  country_Germany  country_UK  country_US  source_Ads  \\\n",
       "0              0                0           1           0           1   \n",
       "1              0                0           0           1           0   \n",
       "2              0                0           0           1           0   \n",
       "3              1                0           0           0           0   \n",
       "4              0                0           0           1           0   \n",
       "\n",
       "   source_Direct  source_Seo  \n",
       "0              0           0  \n",
       "1              0           1  \n",
       "2              0           1  \n",
       "3              0           1  \n",
       "4              0           1  "
      ]
     },
     "execution_count": 10,
     "metadata": {},
     "output_type": "execute_result"
    }
   ],
   "source": [
    "df_sr = pd.get_dummies(df.source,prefix = 'source')\n",
    "df2 = pd.concat([df1,df_sr],axis = 1)\n",
    "df2.head()"
   ]
  },
  {
   "cell_type": "code",
   "execution_count": 11,
   "metadata": {
    "collapsed": false
   },
   "outputs": [
    {
     "data": {
      "text/html": [
       "<div>\n",
       "<table border=\"1\" class=\"dataframe\">\n",
       "  <thead>\n",
       "    <tr style=\"text-align: right;\">\n",
       "      <th></th>\n",
       "      <th>age</th>\n",
       "      <th>new_user</th>\n",
       "      <th>total_pages_visited</th>\n",
       "      <th>converted</th>\n",
       "      <th>country_China</th>\n",
       "      <th>country_Germany</th>\n",
       "      <th>country_UK</th>\n",
       "      <th>country_US</th>\n",
       "      <th>source_Ads</th>\n",
       "      <th>source_Direct</th>\n",
       "      <th>source_Seo</th>\n",
       "    </tr>\n",
       "  </thead>\n",
       "  <tbody>\n",
       "    <tr>\n",
       "      <th>0</th>\n",
       "      <td>25</td>\n",
       "      <td>1</td>\n",
       "      <td>1</td>\n",
       "      <td>0</td>\n",
       "      <td>0</td>\n",
       "      <td>0</td>\n",
       "      <td>1</td>\n",
       "      <td>0</td>\n",
       "      <td>1</td>\n",
       "      <td>0</td>\n",
       "      <td>0</td>\n",
       "    </tr>\n",
       "    <tr>\n",
       "      <th>1</th>\n",
       "      <td>23</td>\n",
       "      <td>1</td>\n",
       "      <td>5</td>\n",
       "      <td>0</td>\n",
       "      <td>0</td>\n",
       "      <td>0</td>\n",
       "      <td>0</td>\n",
       "      <td>1</td>\n",
       "      <td>0</td>\n",
       "      <td>0</td>\n",
       "      <td>1</td>\n",
       "    </tr>\n",
       "    <tr>\n",
       "      <th>2</th>\n",
       "      <td>28</td>\n",
       "      <td>1</td>\n",
       "      <td>4</td>\n",
       "      <td>0</td>\n",
       "      <td>0</td>\n",
       "      <td>0</td>\n",
       "      <td>0</td>\n",
       "      <td>1</td>\n",
       "      <td>0</td>\n",
       "      <td>0</td>\n",
       "      <td>1</td>\n",
       "    </tr>\n",
       "    <tr>\n",
       "      <th>3</th>\n",
       "      <td>39</td>\n",
       "      <td>1</td>\n",
       "      <td>5</td>\n",
       "      <td>0</td>\n",
       "      <td>1</td>\n",
       "      <td>0</td>\n",
       "      <td>0</td>\n",
       "      <td>0</td>\n",
       "      <td>0</td>\n",
       "      <td>0</td>\n",
       "      <td>1</td>\n",
       "    </tr>\n",
       "    <tr>\n",
       "      <th>4</th>\n",
       "      <td>30</td>\n",
       "      <td>1</td>\n",
       "      <td>6</td>\n",
       "      <td>0</td>\n",
       "      <td>0</td>\n",
       "      <td>0</td>\n",
       "      <td>0</td>\n",
       "      <td>1</td>\n",
       "      <td>0</td>\n",
       "      <td>0</td>\n",
       "      <td>1</td>\n",
       "    </tr>\n",
       "  </tbody>\n",
       "</table>\n",
       "</div>"
      ],
      "text/plain": [
       "   age  new_user  total_pages_visited  converted  country_China  \\\n",
       "0   25         1                    1          0              0   \n",
       "1   23         1                    5          0              0   \n",
       "2   28         1                    4          0              0   \n",
       "3   39         1                    5          0              1   \n",
       "4   30         1                    6          0              0   \n",
       "\n",
       "   country_Germany  country_UK  country_US  source_Ads  source_Direct  \\\n",
       "0                0           1           0           1              0   \n",
       "1                0           0           1           0              0   \n",
       "2                0           0           1           0              0   \n",
       "3                0           0           0           0              0   \n",
       "4                0           0           1           0              0   \n",
       "\n",
       "   source_Seo  \n",
       "0           0  \n",
       "1           1  \n",
       "2           1  \n",
       "3           1  \n",
       "4           1  "
      ]
     },
     "execution_count": 11,
     "metadata": {},
     "output_type": "execute_result"
    }
   ],
   "source": [
    "del df2['country']\n",
    "del df2['source']\n",
    "df2.head()"
   ]
  },
  {
   "cell_type": "code",
   "execution_count": 12,
   "metadata": {
    "collapsed": false
   },
   "outputs": [
    {
     "data": {
      "text/html": [
       "<div>\n",
       "<table border=\"1\" class=\"dataframe\">\n",
       "  <thead>\n",
       "    <tr style=\"text-align: right;\">\n",
       "      <th></th>\n",
       "      <th>age</th>\n",
       "      <th>new_user</th>\n",
       "      <th>total_pages_visited</th>\n",
       "      <th>converted</th>\n",
       "      <th>country_China</th>\n",
       "      <th>country_Germany</th>\n",
       "      <th>country_UK</th>\n",
       "      <th>country_US</th>\n",
       "      <th>source_Ads</th>\n",
       "      <th>source_Direct</th>\n",
       "      <th>source_Seo</th>\n",
       "    </tr>\n",
       "  </thead>\n",
       "  <tbody>\n",
       "    <tr>\n",
       "      <th>0</th>\n",
       "      <td>25</td>\n",
       "      <td>1</td>\n",
       "      <td>1</td>\n",
       "      <td>0</td>\n",
       "      <td>0</td>\n",
       "      <td>0</td>\n",
       "      <td>1</td>\n",
       "      <td>0</td>\n",
       "      <td>1</td>\n",
       "      <td>0</td>\n",
       "      <td>0</td>\n",
       "    </tr>\n",
       "    <tr>\n",
       "      <th>1</th>\n",
       "      <td>23</td>\n",
       "      <td>1</td>\n",
       "      <td>5</td>\n",
       "      <td>0</td>\n",
       "      <td>0</td>\n",
       "      <td>0</td>\n",
       "      <td>0</td>\n",
       "      <td>1</td>\n",
       "      <td>0</td>\n",
       "      <td>0</td>\n",
       "      <td>1</td>\n",
       "    </tr>\n",
       "    <tr>\n",
       "      <th>2</th>\n",
       "      <td>28</td>\n",
       "      <td>1</td>\n",
       "      <td>4</td>\n",
       "      <td>0</td>\n",
       "      <td>0</td>\n",
       "      <td>0</td>\n",
       "      <td>0</td>\n",
       "      <td>1</td>\n",
       "      <td>0</td>\n",
       "      <td>0</td>\n",
       "      <td>1</td>\n",
       "    </tr>\n",
       "    <tr>\n",
       "      <th>3</th>\n",
       "      <td>39</td>\n",
       "      <td>1</td>\n",
       "      <td>5</td>\n",
       "      <td>0</td>\n",
       "      <td>1</td>\n",
       "      <td>0</td>\n",
       "      <td>0</td>\n",
       "      <td>0</td>\n",
       "      <td>0</td>\n",
       "      <td>0</td>\n",
       "      <td>1</td>\n",
       "    </tr>\n",
       "    <tr>\n",
       "      <th>4</th>\n",
       "      <td>30</td>\n",
       "      <td>1</td>\n",
       "      <td>6</td>\n",
       "      <td>0</td>\n",
       "      <td>0</td>\n",
       "      <td>0</td>\n",
       "      <td>0</td>\n",
       "      <td>1</td>\n",
       "      <td>0</td>\n",
       "      <td>0</td>\n",
       "      <td>1</td>\n",
       "    </tr>\n",
       "  </tbody>\n",
       "</table>\n",
       "</div>"
      ],
      "text/plain": [
       "   age  new_user  total_pages_visited  converted  country_China  \\\n",
       "0   25         1                    1          0              0   \n",
       "1   23         1                    5          0              0   \n",
       "2   28         1                    4          0              0   \n",
       "3   39         1                    5          0              1   \n",
       "4   30         1                    6          0              0   \n",
       "\n",
       "   country_Germany  country_UK  country_US  source_Ads  source_Direct  \\\n",
       "0                0           1           0           1              0   \n",
       "1                0           0           1           0              0   \n",
       "2                0           0           1           0              0   \n",
       "3                0           0           0           0              0   \n",
       "4                0           0           1           0              0   \n",
       "\n",
       "   source_Seo  \n",
       "0           0  \n",
       "1           1  \n",
       "2           1  \n",
       "3           1  \n",
       "4           1  "
      ]
     },
     "execution_count": 12,
     "metadata": {},
     "output_type": "execute_result"
    }
   ],
   "source": [
    "df2.head()"
   ]
  },
  {
   "cell_type": "code",
   "execution_count": 13,
   "metadata": {
    "collapsed": false
   },
   "outputs": [],
   "source": [
    "X = df2.drop('converted',axis = 1)\n",
    "y = df2['converted']"
   ]
  },
  {
   "cell_type": "code",
   "execution_count": 14,
   "metadata": {
    "collapsed": false
   },
   "outputs": [
    {
     "data": {
      "text/html": [
       "<div>\n",
       "<table border=\"1\" class=\"dataframe\">\n",
       "  <thead>\n",
       "    <tr style=\"text-align: right;\">\n",
       "      <th></th>\n",
       "      <th>age</th>\n",
       "      <th>new_user</th>\n",
       "      <th>total_pages_visited</th>\n",
       "      <th>country_China</th>\n",
       "      <th>country_Germany</th>\n",
       "      <th>country_UK</th>\n",
       "      <th>country_US</th>\n",
       "      <th>source_Ads</th>\n",
       "      <th>source_Direct</th>\n",
       "      <th>source_Seo</th>\n",
       "    </tr>\n",
       "  </thead>\n",
       "  <tbody>\n",
       "    <tr>\n",
       "      <th>0</th>\n",
       "      <td>25</td>\n",
       "      <td>1</td>\n",
       "      <td>1</td>\n",
       "      <td>0</td>\n",
       "      <td>0</td>\n",
       "      <td>1</td>\n",
       "      <td>0</td>\n",
       "      <td>1</td>\n",
       "      <td>0</td>\n",
       "      <td>0</td>\n",
       "    </tr>\n",
       "    <tr>\n",
       "      <th>1</th>\n",
       "      <td>23</td>\n",
       "      <td>1</td>\n",
       "      <td>5</td>\n",
       "      <td>0</td>\n",
       "      <td>0</td>\n",
       "      <td>0</td>\n",
       "      <td>1</td>\n",
       "      <td>0</td>\n",
       "      <td>0</td>\n",
       "      <td>1</td>\n",
       "    </tr>\n",
       "    <tr>\n",
       "      <th>2</th>\n",
       "      <td>28</td>\n",
       "      <td>1</td>\n",
       "      <td>4</td>\n",
       "      <td>0</td>\n",
       "      <td>0</td>\n",
       "      <td>0</td>\n",
       "      <td>1</td>\n",
       "      <td>0</td>\n",
       "      <td>0</td>\n",
       "      <td>1</td>\n",
       "    </tr>\n",
       "    <tr>\n",
       "      <th>3</th>\n",
       "      <td>39</td>\n",
       "      <td>1</td>\n",
       "      <td>5</td>\n",
       "      <td>1</td>\n",
       "      <td>0</td>\n",
       "      <td>0</td>\n",
       "      <td>0</td>\n",
       "      <td>0</td>\n",
       "      <td>0</td>\n",
       "      <td>1</td>\n",
       "    </tr>\n",
       "    <tr>\n",
       "      <th>4</th>\n",
       "      <td>30</td>\n",
       "      <td>1</td>\n",
       "      <td>6</td>\n",
       "      <td>0</td>\n",
       "      <td>0</td>\n",
       "      <td>0</td>\n",
       "      <td>1</td>\n",
       "      <td>0</td>\n",
       "      <td>0</td>\n",
       "      <td>1</td>\n",
       "    </tr>\n",
       "  </tbody>\n",
       "</table>\n",
       "</div>"
      ],
      "text/plain": [
       "   age  new_user  total_pages_visited  country_China  country_Germany  \\\n",
       "0   25         1                    1              0                0   \n",
       "1   23         1                    5              0                0   \n",
       "2   28         1                    4              0                0   \n",
       "3   39         1                    5              1                0   \n",
       "4   30         1                    6              0                0   \n",
       "\n",
       "   country_UK  country_US  source_Ads  source_Direct  source_Seo  \n",
       "0           1           0           1              0           0  \n",
       "1           0           1           0              0           1  \n",
       "2           0           1           0              0           1  \n",
       "3           0           0           0              0           1  \n",
       "4           0           1           0              0           1  "
      ]
     },
     "execution_count": 14,
     "metadata": {},
     "output_type": "execute_result"
    }
   ],
   "source": [
    "X.head()"
   ]
  },
  {
   "cell_type": "code",
   "execution_count": 14,
   "metadata": {
    "collapsed": false
   },
   "outputs": [],
   "source": [
    "\n",
    "from sklearn.tree import DecisionTreeClassifier\n",
    "\n",
    "from sklearn.grid_search import GridSearchCV\n",
    "from sklearn.cross_validation import cross_val_score"
   ]
  },
  {
   "cell_type": "code",
   "execution_count": 38,
   "metadata": {
    "collapsed": false
   },
   "outputs": [
    {
     "data": {
      "image/png": "[encoded data removed]",
      "text/plain": [
       "<matplotlib.figure.Figure at 0x12592ef0>"
      ]
     },
     "metadata": {},
     "output_type": "display_data"
    }
   ],
   "source": [
    "Maximum_Terminal_Nodes = range(2,20)\n",
    "score = []\n",
    "for i in Maximum_Terminal_Nodes :\n",
    "        tree = DecisionTreeClassifier(max_leaf_nodes = i, \n",
    "                                        min_samples_leaf = 5, \n",
    "                                        random_state = 24) \n",
    "        score.append(-cross_val_score(tree, X, y, cv=10, scoring = 'neg_mean_squared_error').mean())\n",
    "\n",
    "plt.plot(Maximum_Terminal_Nodes, score)\n",
    "plt.xlabel(\"Number of Terminal Nodes\")\n",
    "plt.ylabel(\"CV MSE\")\n",
    "plt.show()"
   ]
  },
  {
   "cell_type": "code",
   "execution_count": 39,
   "metadata": {
    "collapsed": false
   },
   "outputs": [
    {
     "data": {
      "image/png": "[encoded data removed]",
      "text/plain": [
       "<matplotlib.figure.Figure at 0x125925f8>"
      ]
     },
     "metadata": {},
     "output_type": "display_data"
    }
   ],
   "source": [
    "Maximum_Depth = range(1,15)\n",
    "score = []\n",
    "for i in Maximum_Depth:\n",
    "        tree = DecisionTreeClassifier(max_depth= i, \n",
    "                                        min_samples_leaf = 5, \n",
    "                                        random_state = 24)  \n",
    "        score.append(-cross_val_score(tree, X, y, cv=10, scoring = 'neg_mean_squared_error').mean())\n",
    "\n",
    "plt.plot(Maximum_Depth, score)\n",
    "plt.xlabel(\"Depth\")\n",
    "plt.ylabel(\"CV MSE\")\n",
    "plt.show()"
   ]
  },
  {
   "cell_type": "code",
   "execution_count": 15,
   "metadata": {
    "collapsed": false
   },
   "outputs": [],
   "source": [
    "from sklearn.cross_validation import train_test_split\n",
    "features_train, features_test, labels_train, labels_test = train_test_split(X, y, test_size = 0.3)"
   ]
  },
  {
   "cell_type": "code",
   "execution_count": 17,
   "metadata": {
    "collapsed": false
   },
   "outputs": [
    {
     "name": "stdout",
     "output_type": "stream",
     "text": [
      "Accuracy score 0.986032047227\n",
      "Precision: 0.858870967742\n",
      "Recall: 0.685990338164\n"
     ]
    },
    {
     "name": "stderr",
     "output_type": "stream",
     "text": [
      "C:\\Users\\Ruofei\\Anaconda3\\lib\\site-packages\\sklearn\\grid_search.py:418: ChangedBehaviorWarning: The long-standing behavior to use the estimator's score function in GridSearchCV.score has changed. The scoring parameter is now used.\n",
      "  ChangedBehaviorWarning)\n"
     ]
    }
   ],
   "source": [
    "dec = DecisionTreeClassifier()\n",
    "parameters = {'criterion': ['gini', 'entropy'],\n",
    "               'min_samples_split': [2, 5, 10, 20],\n",
    "              'max_depth': [6,7,8],\n",
    "              'min_samples_leaf': [1, 5, 10],\n",
    "              'max_leaf_nodes': [16,17,18]}\n",
    "\n",
    "grid_search_dec = GridSearchCV(dec, parameters,scoring = 'accuracy')\n",
    "\n",
    "\n",
    "grid_search_dec.fit(features_train, labels_train)\n",
    "\n",
    "print (\"Accuracy score\", grid_search_dec.score(features_test,labels_test))\n",
    "\n",
    "from sklearn.metrics import recall_score,precision_score\n",
    "pred = grid_search_dec.predict(features_test)\n",
    "recall = recall_score(labels_test,pred)\n",
    "precision = precision_score(labels_test,pred)\n",
    "\n",
    "print (\"Precision:\", precision)\n",
    "print (\"Recall:\", recall)"
   ]
  },
  {
   "cell_type": "code",
   "execution_count": 18,
   "metadata": {
    "collapsed": false
   },
   "outputs": [
    {
     "data": {
      "text/plain": [
       "DecisionTreeClassifier(class_weight=None, criterion='gini', max_depth=6,\n",
       "            max_features=None, max_leaf_nodes=18, min_samples_leaf=1,\n",
       "            min_samples_split=2, min_weight_fraction_leaf=0.0,\n",
       "            presort=False, random_state=None, splitter='best')"
      ]
     },
     "execution_count": 18,
     "metadata": {},
     "output_type": "execute_result"
    }
   ],
   "source": [
    "dec = DecisionTreeClassifier(**grid_search_dec.best_params_)\n",
    "dec.fit(X,y)"
   ]
  },
  {
   "cell_type": "code",
   "execution_count": 21,
   "metadata": {
    "collapsed": false
   },
   "outputs": [
    {
     "data": {
      "text/plain": [
       "<matplotlib.axes._subplots.AxesSubplot at 0xbba2f0>"
      ]
     },
     "execution_count": 21,
     "metadata": {},
     "output_type": "execute_result"
    },
    {
     "data": {
      "image/png": "[encoded data removed]",
      "text/plain": [
       "<matplotlib.figure.Figure at 0xba5610>"
      ]
     },
     "metadata": {},
     "output_type": "display_data"
    }
   ],
   "source": [
    "\n",
    "importance = dec.feature_importances_\n",
    "feature_names = X.columns.values \n",
    "df1 = pd.DataFrame(importance,columns=['Importance'],index = feature_names)\n",
    "df1 = df1.sort_values(['Importance'],ascending=False)\n",
    "df1.plot(kind = 'bar')"
   ]
  },
  {
   "cell_type": "markdown",
   "metadata": {},
   "source": [
    "After tuning and parameters and refiting the model, we can see that we are able to achieve 98.56% accuracy. In this decision tree model, we can see that total_pages_visited, new_user and country_China are the most important features in this model. My hypothesis from the exploratary analysis are proved by decision tree model."
   ]
  },
  {
   "cell_type": "code",
   "execution_count": 45,
   "metadata": {
    "collapsed": false
   },
   "outputs": [
    {
     "data": {
      "text/plain": [
       "['dec.pkl']"
      ]
     },
     "execution_count": 45,
     "metadata": {},
     "output_type": "execute_result"
    }
   ],
   "source": [
    "from sklearn.externals import joblib\n",
    "joblib.dump(dec, 'dec.pkl') "
   ]
  },
  {
   "cell_type": "code",
   "execution_count": 4,
   "metadata": {
    "collapsed": false
   },
   "outputs": [],
   "source": [
    "dec = joblib.load('dec.pkl') "
   ]
  },
  {
   "cell_type": "code",
   "execution_count": 3,
   "metadata": {
    "collapsed": false
   },
   "outputs": [],
   "source": [
    "from sklearn.tree import export_graphviz\n",
    "from graphviz import Source\n",
    "from sklearn.externals import joblib"
   ]
  },
  {
   "cell_type": "code",
   "execution_count": 16,
   "metadata": {
    "collapsed": false
   },
   "outputs": [
    {
     "data": {
      "image/svg+xml": [
       "<?xml version=\"1.0\" encoding=\"UTF-8\" standalone=\"no\"?>\r\n",
       "<!DOCTYPE svg PUBLIC \"-//W3C//DTD SVG 1.1//EN\"\r\n",
       " \"http://www.w3.org/Graphics/SVG/1.1/DTD/svg11.dtd\">\r\n",
       "<!-- Generated by graphviz version 2.38.0 (20140413.2041)\r\n",
       " -->\r\n",
       "<!-- Title: Tree Pages: 1 -->\r\n",
       "<svg width=\"1585pt\" height=\"790pt\"\r\n",
       " viewBox=\"0.00 0.00 1585.00 790.00\" xmlns=\"http://www.w3.org/2000/svg\" xmlns:xlink=\"http://www.w3.org/1999/xlink\">\r\n",
       "<g id=\"graph0\" class=\"graph\" transform=\"scale(1 1) rotate(0) translate(4 786)\">\r\n",
       "<title>Tree</title>\r\n",
       "<polygon fill=\"white\" stroke=\"none\" points=\"-4,4 -4,-786 1581,-786 1581,4 -4,4\"/>\r\n",
       "<!-- 0 -->\r\n",
       "<g id=\"node1\" class=\"node\"><title>0</title>\r\n",
       "<polygon fill=\"none\" stroke=\"black\" points=\"822.5,-782 650.5,-782 650.5,-699 822.5,-699 822.5,-782\"/>\r\n",
       "<text text-anchor=\"middle\" x=\"736.5\" y=\"-766.8\" font-family=\"Times New Roman,serif\" font-size=\"14.00\">total_pages_visited &lt;= 12.5</text>\r\n",
       "<text text-anchor=\"middle\" x=\"736.5\" y=\"-751.8\" font-family=\"Times New Roman,serif\" font-size=\"14.00\">gini = 0.0624</text>\r\n",
       "<text text-anchor=\"middle\" x=\"736.5\" y=\"-736.8\" font-family=\"Times New Roman,serif\" font-size=\"14.00\">samples = 316200</text>\r\n",
       "<text text-anchor=\"middle\" x=\"736.5\" y=\"-721.8\" font-family=\"Times New Roman,serif\" font-size=\"14.00\">value = [306000, 10200]</text>\r\n",
       "<text text-anchor=\"middle\" x=\"736.5\" y=\"-706.8\" font-family=\"Times New Roman,serif\" font-size=\"14.00\">class = Not Converted</text>\r\n",
       "</g>\r\n",
       "<!-- 1 -->\r\n",
       "<g id=\"node2\" class=\"node\"><title>1</title>\r\n",
       "<polygon fill=\"none\" stroke=\"black\" points=\"693.5,-663 521.5,-663 521.5,-580 693.5,-580 693.5,-663\"/>\r\n",
       "<text text-anchor=\"middle\" x=\"607.5\" y=\"-647.8\" font-family=\"Times New Roman,serif\" font-size=\"14.00\">total_pages_visited &lt;= 10.5</text>\r\n",
       "<text text-anchor=\"middle\" x=\"607.5\" y=\"-632.8\" font-family=\"Times New Roman,serif\" font-size=\"14.00\">gini = 0.0199</text>\r\n",
       "<text text-anchor=\"middle\" x=\"607.5\" y=\"-617.8\" font-family=\"Times New Roman,serif\" font-size=\"14.00\">samples = 306301</text>\r\n",
       "<text text-anchor=\"middle\" x=\"607.5\" y=\"-602.8\" font-family=\"Times New Roman,serif\" font-size=\"14.00\">value = [303215, 3086]</text>\r\n",
       "<text text-anchor=\"middle\" x=\"607.5\" y=\"-587.8\" font-family=\"Times New Roman,serif\" font-size=\"14.00\">class = Not Converted</text>\r\n",
       "</g>\r\n",
       "<!-- 0&#45;&gt;1 -->\r\n",
       "<g id=\"edge1\" class=\"edge\"><title>0&#45;&gt;1</title>\r\n",
       "<path fill=\"none\" stroke=\"black\" d=\"M691.744,-698.907C681.438,-689.56 670.388,-679.538 659.793,-669.929\"/>\r\n",
       "<polygon fill=\"black\" stroke=\"black\" points=\"661.935,-667.146 652.177,-663.021 657.233,-672.332 661.935,-667.146\"/>\r\n",
       "<text text-anchor=\"middle\" x=\"653.395\" y=\"-684.291\" font-family=\"Times New Roman,serif\" font-size=\"14.00\">True</text>\r\n",
       "</g>\r\n",
       "<!-- 2 -->\r\n",
       "<g id=\"node17\" class=\"node\"><title>2</title>\r\n",
       "<polygon fill=\"none\" stroke=\"black\" points=\"951.5,-663 779.5,-663 779.5,-580 951.5,-580 951.5,-663\"/>\r\n",
       "<text text-anchor=\"middle\" x=\"865.5\" y=\"-647.8\" font-family=\"Times New Roman,serif\" font-size=\"14.00\">total_pages_visited &lt;= 14.5</text>\r\n",
       "<text text-anchor=\"middle\" x=\"865.5\" y=\"-632.8\" font-family=\"Times New Roman,serif\" font-size=\"14.00\">gini = 0.4044</text>\r\n",
       "<text text-anchor=\"middle\" x=\"865.5\" y=\"-617.8\" font-family=\"Times New Roman,serif\" font-size=\"14.00\">samples = 9899</text>\r\n",
       "<text text-anchor=\"middle\" x=\"865.5\" y=\"-602.8\" font-family=\"Times New Roman,serif\" font-size=\"14.00\">value = [2785, 7114]</text>\r\n",
       "<text text-anchor=\"middle\" x=\"865.5\" y=\"-587.8\" font-family=\"Times New Roman,serif\" font-size=\"14.00\">class = Converted</text>\r\n",
       "</g>\r\n",
       "<!-- 0&#45;&gt;2 -->\r\n",
       "<g id=\"edge16\" class=\"edge\"><title>0&#45;&gt;2</title>\r\n",
       "<path fill=\"none\" stroke=\"black\" d=\"M781.256,-698.907C791.562,-689.56 802.612,-679.538 813.207,-669.929\"/>\r\n",
       "<polygon fill=\"black\" stroke=\"black\" points=\"815.767,-672.332 820.823,-663.021 811.065,-667.146 815.767,-672.332\"/>\r\n",
       "<text text-anchor=\"middle\" x=\"819.605\" y=\"-684.291\" font-family=\"Times New Roman,serif\" font-size=\"14.00\">False</text>\r\n",
       "</g>\r\n",
       "<!-- 5 -->\r\n",
       "<g id=\"node3\" class=\"node\"><title>5</title>\r\n",
       "<polygon fill=\"none\" stroke=\"black\" points=\"315,-544 150,-544 150,-461 315,-461 315,-544\"/>\r\n",
       "<text text-anchor=\"middle\" x=\"232.5\" y=\"-528.8\" font-family=\"Times New Roman,serif\" font-size=\"14.00\">total_pages_visited &lt;= 8.5</text>\r\n",
       "<text text-anchor=\"middle\" x=\"232.5\" y=\"-513.8\" font-family=\"Times New Roman,serif\" font-size=\"14.00\">gini = 0.0103</text>\r\n",
       "<text text-anchor=\"middle\" x=\"232.5\" y=\"-498.8\" font-family=\"Times New Roman,serif\" font-size=\"14.00\">samples = 297292</text>\r\n",
       "<text text-anchor=\"middle\" x=\"232.5\" y=\"-483.8\" font-family=\"Times New Roman,serif\" font-size=\"14.00\">value = [295756, 1536]</text>\r\n",
       "<text text-anchor=\"middle\" x=\"232.5\" y=\"-468.8\" font-family=\"Times New Roman,serif\" font-size=\"14.00\">class = Not Converted</text>\r\n",
       "</g>\r\n",
       "<!-- 1&#45;&gt;5 -->\r\n",
       "<g id=\"edge2\" class=\"edge\"><title>1&#45;&gt;5</title>\r\n",
       "<path fill=\"none\" stroke=\"black\" d=\"M521.467,-593.658C462.783,-575.348 385.121,-551.118 325.089,-532.388\"/>\r\n",
       "<polygon fill=\"black\" stroke=\"black\" points=\"325.822,-528.95 315.233,-529.313 323.737,-535.632 325.822,-528.95\"/>\r\n",
       "</g>\r\n",
       "<!-- 6 -->\r\n",
       "<g id=\"node8\" class=\"node\"><title>6</title>\r\n",
       "<polygon fill=\"none\" stroke=\"black\" points=\"679,-544 536,-544 536,-461 679,-461 679,-544\"/>\r\n",
       "<text text-anchor=\"middle\" x=\"607.5\" y=\"-528.8\" font-family=\"Times New Roman,serif\" font-size=\"14.00\">new_user &lt;= 0.5</text>\r\n",
       "<text text-anchor=\"middle\" x=\"607.5\" y=\"-513.8\" font-family=\"Times New Roman,serif\" font-size=\"14.00\">gini = 0.2849</text>\r\n",
       "<text text-anchor=\"middle\" x=\"607.5\" y=\"-498.8\" font-family=\"Times New Roman,serif\" font-size=\"14.00\">samples = 9009</text>\r\n",
       "<text text-anchor=\"middle\" x=\"607.5\" y=\"-483.8\" font-family=\"Times New Roman,serif\" font-size=\"14.00\">value = [7459, 1550]</text>\r\n",
       "<text text-anchor=\"middle\" x=\"607.5\" y=\"-468.8\" font-family=\"Times New Roman,serif\" font-size=\"14.00\">class = Not Converted</text>\r\n",
       "</g>\r\n",
       "<!-- 1&#45;&gt;6 -->\r\n",
       "<g id=\"edge7\" class=\"edge\"><title>1&#45;&gt;6</title>\r\n",
       "<path fill=\"none\" stroke=\"black\" d=\"M607.5,-579.907C607.5,-571.649 607.5,-562.864 607.5,-554.302\"/>\r\n",
       "<polygon fill=\"black\" stroke=\"black\" points=\"611,-554.021 607.5,-544.021 604,-554.021 611,-554.021\"/>\r\n",
       "</g>\r\n",
       "<!-- 19 -->\r\n",
       "<g id=\"node4\" class=\"node\"><title>19</title>\r\n",
       "<polygon fill=\"none\" stroke=\"black\" points=\"143,-417.5 0,-417.5 0,-349.5 143,-349.5 143,-417.5\"/>\r\n",
       "<text text-anchor=\"middle\" x=\"71.5\" y=\"-402.3\" font-family=\"Times New Roman,serif\" font-size=\"14.00\">gini = 0.0046</text>\r\n",
       "<text text-anchor=\"middle\" x=\"71.5\" y=\"-387.3\" font-family=\"Times New Roman,serif\" font-size=\"14.00\">samples = 277061</text>\r\n",
       "<text text-anchor=\"middle\" x=\"71.5\" y=\"-372.3\" font-family=\"Times New Roman,serif\" font-size=\"14.00\">value = [276421, 640]</text>\r\n",
       "<text text-anchor=\"middle\" x=\"71.5\" y=\"-357.3\" font-family=\"Times New Roman,serif\" font-size=\"14.00\">class = Not Converted</text>\r\n",
       "</g>\r\n",
       "<!-- 5&#45;&gt;19 -->\r\n",
       "<g id=\"edge3\" class=\"edge\"><title>5&#45;&gt;19</title>\r\n",
       "<path fill=\"none\" stroke=\"black\" d=\"M176.642,-460.907C160.091,-448.88 142.002,-435.735 125.567,-423.791\"/>\r\n",
       "<polygon fill=\"black\" stroke=\"black\" points=\"127.287,-420.714 117.14,-417.667 123.172,-426.377 127.287,-420.714\"/>\r\n",
       "</g>\r\n",
       "<!-- 20 -->\r\n",
       "<g id=\"node5\" class=\"node\"><title>20</title>\r\n",
       "<polygon fill=\"none\" stroke=\"black\" points=\"304,-425 161,-425 161,-342 304,-342 304,-425\"/>\r\n",
       "<text text-anchor=\"middle\" x=\"232.5\" y=\"-409.8\" font-family=\"Times New Roman,serif\" font-size=\"14.00\">new_user &lt;= 0.5</text>\r\n",
       "<text text-anchor=\"middle\" x=\"232.5\" y=\"-394.8\" font-family=\"Times New Roman,serif\" font-size=\"14.00\">gini = 0.0847</text>\r\n",
       "<text text-anchor=\"middle\" x=\"232.5\" y=\"-379.8\" font-family=\"Times New Roman,serif\" font-size=\"14.00\">samples = 20231</text>\r\n",
       "<text text-anchor=\"middle\" x=\"232.5\" y=\"-364.8\" font-family=\"Times New Roman,serif\" font-size=\"14.00\">value = [19335, 896]</text>\r\n",
       "<text text-anchor=\"middle\" x=\"232.5\" y=\"-349.8\" font-family=\"Times New Roman,serif\" font-size=\"14.00\">class = Not Converted</text>\r\n",
       "</g>\r\n",
       "<!-- 5&#45;&gt;20 -->\r\n",
       "<g id=\"edge4\" class=\"edge\"><title>5&#45;&gt;20</title>\r\n",
       "<path fill=\"none\" stroke=\"black\" d=\"M232.5,-460.907C232.5,-452.649 232.5,-443.864 232.5,-435.302\"/>\r\n",
       "<polygon fill=\"black\" stroke=\"black\" points=\"236,-435.021 232.5,-425.021 229,-435.021 236,-435.021\"/>\r\n",
       "</g>\r\n",
       "<!-- 29 -->\r\n",
       "<g id=\"node6\" class=\"node\"><title>29</title>\r\n",
       "<polygon fill=\"none\" stroke=\"black\" points=\"143,-298.5 0,-298.5 0,-230.5 143,-230.5 143,-298.5\"/>\r\n",
       "<text text-anchor=\"middle\" x=\"71.5\" y=\"-283.3\" font-family=\"Times New Roman,serif\" font-size=\"14.00\">gini = 0.1711</text>\r\n",
       "<text text-anchor=\"middle\" x=\"71.5\" y=\"-268.3\" font-family=\"Times New Roman,serif\" font-size=\"14.00\">samples = 6455</text>\r\n",
       "<text text-anchor=\"middle\" x=\"71.5\" y=\"-253.3\" font-family=\"Times New Roman,serif\" font-size=\"14.00\">value = [5845, 610]</text>\r\n",
       "<text text-anchor=\"middle\" x=\"71.5\" y=\"-238.3\" font-family=\"Times New Roman,serif\" font-size=\"14.00\">class = Not Converted</text>\r\n",
       "</g>\r\n",
       "<!-- 20&#45;&gt;29 -->\r\n",
       "<g id=\"edge5\" class=\"edge\"><title>20&#45;&gt;29</title>\r\n",
       "<path fill=\"none\" stroke=\"black\" d=\"M176.642,-341.907C160.091,-329.88 142.002,-316.735 125.567,-304.791\"/>\r\n",
       "<polygon fill=\"black\" stroke=\"black\" points=\"127.287,-301.714 117.14,-298.667 123.172,-307.377 127.287,-301.714\"/>\r\n",
       "</g>\r\n",
       "<!-- 30 -->\r\n",
       "<g id=\"node7\" class=\"node\"><title>30</title>\r\n",
       "<polygon fill=\"none\" stroke=\"black\" points=\"304,-298.5 161,-298.5 161,-230.5 304,-230.5 304,-298.5\"/>\r\n",
       "<text text-anchor=\"middle\" x=\"232.5\" y=\"-283.3\" font-family=\"Times New Roman,serif\" font-size=\"14.00\">gini = 0.0407</text>\r\n",
       "<text text-anchor=\"middle\" x=\"232.5\" y=\"-268.3\" font-family=\"Times New Roman,serif\" font-size=\"14.00\">samples = 13776</text>\r\n",
       "<text text-anchor=\"middle\" x=\"232.5\" y=\"-253.3\" font-family=\"Times New Roman,serif\" font-size=\"14.00\">value = [13490, 286]</text>\r\n",
       "<text text-anchor=\"middle\" x=\"232.5\" y=\"-238.3\" font-family=\"Times New Roman,serif\" font-size=\"14.00\">class = Not Converted</text>\r\n",
       "</g>\r\n",
       "<!-- 20&#45;&gt;30 -->\r\n",
       "<g id=\"edge6\" class=\"edge\"><title>20&#45;&gt;30</title>\r\n",
       "<path fill=\"none\" stroke=\"black\" d=\"M232.5,-341.907C232.5,-331.204 232.5,-319.615 232.5,-308.776\"/>\r\n",
       "<polygon fill=\"black\" stroke=\"black\" points=\"236,-308.667 232.5,-298.667 229,-308.667 236,-308.667\"/>\r\n",
       "</g>\r\n",
       "<!-- 9 -->\r\n",
       "<g id=\"node9\" class=\"node\"><title>9</title>\r\n",
       "<polygon fill=\"none\" stroke=\"black\" points=\"533,-425 390,-425 390,-342 533,-342 533,-425\"/>\r\n",
       "<text text-anchor=\"middle\" x=\"461.5\" y=\"-409.8\" font-family=\"Times New Roman,serif\" font-size=\"14.00\">country_China &lt;= 0.5</text>\r\n",
       "<text text-anchor=\"middle\" x=\"461.5\" y=\"-394.8\" font-family=\"Times New Roman,serif\" font-size=\"14.00\">gini = 0.4406</text>\r\n",
       "<text text-anchor=\"middle\" x=\"461.5\" y=\"-379.8\" font-family=\"Times New Roman,serif\" font-size=\"14.00\">samples = 3385</text>\r\n",
       "<text text-anchor=\"middle\" x=\"461.5\" y=\"-364.8\" font-family=\"Times New Roman,serif\" font-size=\"14.00\">value = [2276, 1109]</text>\r\n",
       "<text text-anchor=\"middle\" x=\"461.5\" y=\"-349.8\" font-family=\"Times New Roman,serif\" font-size=\"14.00\">class = Not Converted</text>\r\n",
       "</g>\r\n",
       "<!-- 6&#45;&gt;9 -->\r\n",
       "<g id=\"edge8\" class=\"edge\"><title>6&#45;&gt;9</title>\r\n",
       "<path fill=\"none\" stroke=\"black\" d=\"M556.846,-460.907C544.955,-451.379 532.189,-441.148 519.987,-431.37\"/>\r\n",
       "<polygon fill=\"black\" stroke=\"black\" points=\"522.057,-428.543 512.064,-425.021 517.679,-434.006 522.057,-428.543\"/>\r\n",
       "</g>\r\n",
       "<!-- 10 -->\r\n",
       "<g id=\"node16\" class=\"node\"><title>10</title>\r\n",
       "<polygon fill=\"none\" stroke=\"black\" points=\"694,-417.5 551,-417.5 551,-349.5 694,-349.5 694,-417.5\"/>\r\n",
       "<text text-anchor=\"middle\" x=\"622.5\" y=\"-402.3\" font-family=\"Times New Roman,serif\" font-size=\"14.00\">gini = 0.1445</text>\r\n",
       "<text text-anchor=\"middle\" x=\"622.5\" y=\"-387.3\" font-family=\"Times New Roman,serif\" font-size=\"14.00\">samples = 5624</text>\r\n",
       "<text text-anchor=\"middle\" x=\"622.5\" y=\"-372.3\" font-family=\"Times New Roman,serif\" font-size=\"14.00\">value = [5183, 441]</text>\r\n",
       "<text text-anchor=\"middle\" x=\"622.5\" y=\"-357.3\" font-family=\"Times New Roman,serif\" font-size=\"14.00\">class = Not Converted</text>\r\n",
       "</g>\r\n",
       "<!-- 6&#45;&gt;10 -->\r\n",
       "<g id=\"edge15\" class=\"edge\"><title>6&#45;&gt;10</title>\r\n",
       "<path fill=\"none\" stroke=\"black\" d=\"M612.704,-460.907C614.076,-450.204 615.562,-438.615 616.952,-427.776\"/>\r\n",
       "<polygon fill=\"black\" stroke=\"black\" points=\"620.448,-428.031 618.248,-417.667 613.505,-427.141 620.448,-428.031\"/>\r\n",
       "</g>\r\n",
       "<!-- 13 -->\r\n",
       "<g id=\"node10\" class=\"node\"><title>13</title>\r\n",
       "<polygon fill=\"none\" stroke=\"black\" points=\"465,-306 322,-306 322,-223 465,-223 465,-306\"/>\r\n",
       "<text text-anchor=\"middle\" x=\"393.5\" y=\"-290.8\" font-family=\"Times New Roman,serif\" font-size=\"14.00\">age &lt;= 29.5</text>\r\n",
       "<text text-anchor=\"middle\" x=\"393.5\" y=\"-275.8\" font-family=\"Times New Roman,serif\" font-size=\"14.00\">gini = 0.4762</text>\r\n",
       "<text text-anchor=\"middle\" x=\"393.5\" y=\"-260.8\" font-family=\"Times New Roman,serif\" font-size=\"14.00\">samples = 2806</text>\r\n",
       "<text text-anchor=\"middle\" x=\"393.5\" y=\"-245.8\" font-family=\"Times New Roman,serif\" font-size=\"14.00\">value = [1709, 1097]</text>\r\n",
       "<text text-anchor=\"middle\" x=\"393.5\" y=\"-230.8\" font-family=\"Times New Roman,serif\" font-size=\"14.00\">class = Not Converted</text>\r\n",
       "</g>\r\n",
       "<!-- 9&#45;&gt;13 -->\r\n",
       "<g id=\"edge9\" class=\"edge\"><title>9&#45;&gt;13</title>\r\n",
       "<path fill=\"none\" stroke=\"black\" d=\"M437.908,-341.907C432.844,-333.195 427.44,-323.897 422.207,-314.893\"/>\r\n",
       "<polygon fill=\"black\" stroke=\"black\" points=\"425.102,-312.908 417.051,-306.021 419.049,-316.425 425.102,-312.908\"/>\r\n",
       "</g>\r\n",
       "<!-- 14 -->\r\n",
       "<g id=\"node15\" class=\"node\"><title>14</title>\r\n",
       "<polygon fill=\"none\" stroke=\"black\" points=\"626,-298.5 483,-298.5 483,-230.5 626,-230.5 626,-298.5\"/>\r\n",
       "<text text-anchor=\"middle\" x=\"554.5\" y=\"-283.3\" font-family=\"Times New Roman,serif\" font-size=\"14.00\">gini = 0.0406</text>\r\n",
       "<text text-anchor=\"middle\" x=\"554.5\" y=\"-268.3\" font-family=\"Times New Roman,serif\" font-size=\"14.00\">samples = 579</text>\r\n",
       "<text text-anchor=\"middle\" x=\"554.5\" y=\"-253.3\" font-family=\"Times New Roman,serif\" font-size=\"14.00\">value = [567, 12]</text>\r\n",
       "<text text-anchor=\"middle\" x=\"554.5\" y=\"-238.3\" font-family=\"Times New Roman,serif\" font-size=\"14.00\">class = Not Converted</text>\r\n",
       "</g>\r\n",
       "<!-- 9&#45;&gt;14 -->\r\n",
       "<g id=\"edge14\" class=\"edge\"><title>9&#45;&gt;14</title>\r\n",
       "<path fill=\"none\" stroke=\"black\" d=\"M493.766,-341.907C502.8,-330.542 512.627,-318.178 521.693,-306.774\"/>\r\n",
       "<polygon fill=\"black\" stroke=\"black\" points=\"524.654,-308.673 528.137,-298.667 519.174,-304.317 524.654,-308.673\"/>\r\n",
       "</g>\r\n",
       "<!-- 17 -->\r\n",
       "<g id=\"node11\" class=\"node\"><title>17</title>\r\n",
       "<polygon fill=\"none\" stroke=\"black\" points=\"391.5,-187 219.5,-187 219.5,-104 391.5,-104 391.5,-187\"/>\r\n",
       "<text text-anchor=\"middle\" x=\"305.5\" y=\"-171.8\" font-family=\"Times New Roman,serif\" font-size=\"14.00\">total_pages_visited &lt;= 11.5</text>\r\n",
       "<text text-anchor=\"middle\" x=\"305.5\" y=\"-156.8\" font-family=\"Times New Roman,serif\" font-size=\"14.00\">gini = 0.5</text>\r\n",
       "<text text-anchor=\"middle\" x=\"305.5\" y=\"-141.8\" font-family=\"Times New Roman,serif\" font-size=\"14.00\">samples = 1575</text>\r\n",
       "<text text-anchor=\"middle\" x=\"305.5\" y=\"-126.8\" font-family=\"Times New Roman,serif\" font-size=\"14.00\">value = [792, 783]</text>\r\n",
       "<text text-anchor=\"middle\" x=\"305.5\" y=\"-111.8\" font-family=\"Times New Roman,serif\" font-size=\"14.00\">class = Not Converted</text>\r\n",
       "</g>\r\n",
       "<!-- 13&#45;&gt;17 -->\r\n",
       "<g id=\"edge10\" class=\"edge\"><title>13&#45;&gt;17</title>\r\n",
       "<path fill=\"none\" stroke=\"black\" d=\"M362.969,-222.907C356.211,-213.923 348.985,-204.315 342.016,-195.05\"/>\r\n",
       "<polygon fill=\"black\" stroke=\"black\" points=\"344.785,-192.909 335.977,-187.021 339.191,-197.116 344.785,-192.909\"/>\r\n",
       "</g>\r\n",
       "<!-- 18 -->\r\n",
       "<g id=\"node14\" class=\"node\"><title>18</title>\r\n",
       "<polygon fill=\"none\" stroke=\"black\" points=\"553,-179.5 410,-179.5 410,-111.5 553,-111.5 553,-179.5\"/>\r\n",
       "<text text-anchor=\"middle\" x=\"481.5\" y=\"-164.3\" font-family=\"Times New Roman,serif\" font-size=\"14.00\">gini = 0.38</text>\r\n",
       "<text text-anchor=\"middle\" x=\"481.5\" y=\"-149.3\" font-family=\"Times New Roman,serif\" font-size=\"14.00\">samples = 1231</text>\r\n",
       "<text text-anchor=\"middle\" x=\"481.5\" y=\"-134.3\" font-family=\"Times New Roman,serif\" font-size=\"14.00\">value = [917, 314]</text>\r\n",
       "<text text-anchor=\"middle\" x=\"481.5\" y=\"-119.3\" font-family=\"Times New Roman,serif\" font-size=\"14.00\">class = Not Converted</text>\r\n",
       "</g>\r\n",
       "<!-- 13&#45;&gt;18 -->\r\n",
       "<g id=\"edge13\" class=\"edge\"><title>13&#45;&gt;18</title>\r\n",
       "<path fill=\"none\" stroke=\"black\" d=\"M424.031,-222.907C432.58,-211.542 441.879,-199.178 450.456,-187.774\"/>\r\n",
       "<polygon fill=\"black\" stroke=\"black\" points=\"453.34,-189.763 456.554,-179.667 447.746,-185.555 453.34,-189.763\"/>\r\n",
       "</g>\r\n",
       "<!-- 23 -->\r\n",
       "<g id=\"node12\" class=\"node\"><title>23</title>\r\n",
       "<polygon fill=\"none\" stroke=\"black\" points=\"303,-68 160,-68 160,-0 303,-0 303,-68\"/>\r\n",
       "<text text-anchor=\"middle\" x=\"231.5\" y=\"-52.8\" font-family=\"Times New Roman,serif\" font-size=\"14.00\">gini = 0.4703</text>\r\n",
       "<text text-anchor=\"middle\" x=\"231.5\" y=\"-37.8\" font-family=\"Times New Roman,serif\" font-size=\"14.00\">samples = 841</text>\r\n",
       "<text text-anchor=\"middle\" x=\"231.5\" y=\"-22.8\" font-family=\"Times New Roman,serif\" font-size=\"14.00\">value = [523, 318]</text>\r\n",
       "<text text-anchor=\"middle\" x=\"231.5\" y=\"-7.8\" font-family=\"Times New Roman,serif\" font-size=\"14.00\">class = Not Converted</text>\r\n",
       "</g>\r\n",
       "<!-- 17&#45;&gt;23 -->\r\n",
       "<g id=\"edge11\" class=\"edge\"><title>17&#45;&gt;23</title>\r\n",
       "<path fill=\"none\" stroke=\"black\" d=\"M277.945,-103.726C271.966,-94.879 265.635,-85.51 259.634,-76.6303\"/>\r\n",
       "<polygon fill=\"black\" stroke=\"black\" points=\"262.503,-74.6253 254.004,-68.2996 256.703,-78.5448 262.503,-74.6253\"/>\r\n",
       "</g>\r\n",
       "<!-- 24 -->\r\n",
       "<g id=\"node13\" class=\"node\"><title>24</title>\r\n",
       "<polygon fill=\"none\" stroke=\"black\" points=\"440,-68 321,-68 321,-0 440,-0 440,-68\"/>\r\n",
       "<text text-anchor=\"middle\" x=\"380.5\" y=\"-52.8\" font-family=\"Times New Roman,serif\" font-size=\"14.00\">gini = 0.4643</text>\r\n",
       "<text text-anchor=\"middle\" x=\"380.5\" y=\"-37.8\" font-family=\"Times New Roman,serif\" font-size=\"14.00\">samples = 734</text>\r\n",
       "<text text-anchor=\"middle\" x=\"380.5\" y=\"-22.8\" font-family=\"Times New Roman,serif\" font-size=\"14.00\">value = [269, 465]</text>\r\n",
       "<text text-anchor=\"middle\" x=\"380.5\" y=\"-7.8\" font-family=\"Times New Roman,serif\" font-size=\"14.00\">class = Converted</text>\r\n",
       "</g>\r\n",
       "<!-- 17&#45;&gt;24 -->\r\n",
       "<g id=\"edge12\" class=\"edge\"><title>17&#45;&gt;24</title>\r\n",
       "<path fill=\"none\" stroke=\"black\" d=\"M333.427,-103.726C339.487,-94.879 345.904,-85.51 351.986,-76.6303\"/>\r\n",
       "<polygon fill=\"black\" stroke=\"black\" points=\"354.929,-78.5277 357.692,-68.2996 349.154,-74.5721 354.929,-78.5277\"/>\r\n",
       "</g>\r\n",
       "<!-- 3 -->\r\n",
       "<g id=\"node18\" class=\"node\"><title>3</title>\r\n",
       "<polygon fill=\"none\" stroke=\"black\" points=\"937,-544 794,-544 794,-461 937,-461 937,-544\"/>\r\n",
       "<text text-anchor=\"middle\" x=\"865.5\" y=\"-528.8\" font-family=\"Times New Roman,serif\" font-size=\"14.00\">new_user &lt;= 0.5</text>\r\n",
       "<text text-anchor=\"middle\" x=\"865.5\" y=\"-513.8\" font-family=\"Times New Roman,serif\" font-size=\"14.00\">gini = 0.4993</text>\r\n",
       "<text text-anchor=\"middle\" x=\"865.5\" y=\"-498.8\" font-family=\"Times New Roman,serif\" font-size=\"14.00\">samples = 4236</text>\r\n",
       "<text text-anchor=\"middle\" x=\"865.5\" y=\"-483.8\" font-family=\"Times New Roman,serif\" font-size=\"14.00\">value = [2200, 2036]</text>\r\n",
       "<text text-anchor=\"middle\" x=\"865.5\" y=\"-468.8\" font-family=\"Times New Roman,serif\" font-size=\"14.00\">class = Not Converted</text>\r\n",
       "</g>\r\n",
       "<!-- 2&#45;&gt;3 -->\r\n",
       "<g id=\"edge17\" class=\"edge\"><title>2&#45;&gt;3</title>\r\n",
       "<path fill=\"none\" stroke=\"black\" d=\"M865.5,-579.907C865.5,-571.649 865.5,-562.864 865.5,-554.302\"/>\r\n",
       "<polygon fill=\"black\" stroke=\"black\" points=\"869,-554.021 865.5,-544.021 862,-554.021 869,-554.021\"/>\r\n",
       "</g>\r\n",
       "<!-- 4 -->\r\n",
       "<g id=\"node27\" class=\"node\"><title>4</title>\r\n",
       "<polygon fill=\"none\" stroke=\"black\" points=\"1399.5,-544 1259.5,-544 1259.5,-461 1399.5,-461 1399.5,-544\"/>\r\n",
       "<text text-anchor=\"middle\" x=\"1329.5\" y=\"-528.8\" font-family=\"Times New Roman,serif\" font-size=\"14.00\">country_China &lt;= 0.5</text>\r\n",
       "<text text-anchor=\"middle\" x=\"1329.5\" y=\"-513.8\" font-family=\"Times New Roman,serif\" font-size=\"14.00\">gini = 0.1853</text>\r\n",
       "<text text-anchor=\"middle\" x=\"1329.5\" y=\"-498.8\" font-family=\"Times New Roman,serif\" font-size=\"14.00\">samples = 5663</text>\r\n",
       "<text text-anchor=\"middle\" x=\"1329.5\" y=\"-483.8\" font-family=\"Times New Roman,serif\" font-size=\"14.00\">value = [585, 5078]</text>\r\n",
       "<text text-anchor=\"middle\" x=\"1329.5\" y=\"-468.8\" font-family=\"Times New Roman,serif\" font-size=\"14.00\">class = Converted</text>\r\n",
       "</g>\r\n",
       "<!-- 2&#45;&gt;4 -->\r\n",
       "<g id=\"edge26\" class=\"edge\"><title>2&#45;&gt;4</title>\r\n",
       "<path fill=\"none\" stroke=\"black\" d=\"M951.687,-598.767C1036.94,-577.271 1166.36,-544.637 1249.42,-523.693\"/>\r\n",
       "<polygon fill=\"black\" stroke=\"black\" points=\"1250.47,-527.037 1259.31,-521.199 1248.76,-520.25 1250.47,-527.037\"/>\r\n",
       "</g>\r\n",
       "<!-- 7 -->\r\n",
       "<g id=\"node19\" class=\"node\"><title>7</title>\r\n",
       "<polygon fill=\"none\" stroke=\"black\" points=\"928.5,-425 788.5,-425 788.5,-342 928.5,-342 928.5,-425\"/>\r\n",
       "<text text-anchor=\"middle\" x=\"858.5\" y=\"-409.8\" font-family=\"Times New Roman,serif\" font-size=\"14.00\">country_China &lt;= 0.5</text>\r\n",
       "<text text-anchor=\"middle\" x=\"858.5\" y=\"-394.8\" font-family=\"Times New Roman,serif\" font-size=\"14.00\">gini = 0.4334</text>\r\n",
       "<text text-anchor=\"middle\" x=\"858.5\" y=\"-379.8\" font-family=\"Times New Roman,serif\" font-size=\"14.00\">samples = 2157</text>\r\n",
       "<text text-anchor=\"middle\" x=\"858.5\" y=\"-364.8\" font-family=\"Times New Roman,serif\" font-size=\"14.00\">value = [685, 1472]</text>\r\n",
       "<text text-anchor=\"middle\" x=\"858.5\" y=\"-349.8\" font-family=\"Times New Roman,serif\" font-size=\"14.00\">class = Converted</text>\r\n",
       "</g>\r\n",
       "<!-- 3&#45;&gt;7 -->\r\n",
       "<g id=\"edge18\" class=\"edge\"><title>3&#45;&gt;7</title>\r\n",
       "<path fill=\"none\" stroke=\"black\" d=\"M863.071,-460.907C862.572,-452.558 862.04,-443.671 861.523,-435.02\"/>\r\n",
       "<polygon fill=\"black\" stroke=\"black\" points=\"865.015,-434.794 860.924,-425.021 858.028,-435.212 865.015,-434.794\"/>\r\n",
       "</g>\r\n",
       "<!-- 8 -->\r\n",
       "<g id=\"node22\" class=\"node\"><title>8</title>\r\n",
       "<polygon fill=\"none\" stroke=\"black\" points=\"1091,-425 948,-425 948,-342 1091,-342 1091,-425\"/>\r\n",
       "<text text-anchor=\"middle\" x=\"1019.5\" y=\"-409.8\" font-family=\"Times New Roman,serif\" font-size=\"14.00\">country_China &lt;= 0.5</text>\r\n",
       "<text text-anchor=\"middle\" x=\"1019.5\" y=\"-394.8\" font-family=\"Times New Roman,serif\" font-size=\"14.00\">gini = 0.3954</text>\r\n",
       "<text text-anchor=\"middle\" x=\"1019.5\" y=\"-379.8\" font-family=\"Times New Roman,serif\" font-size=\"14.00\">samples = 2079</text>\r\n",
       "<text text-anchor=\"middle\" x=\"1019.5\" y=\"-364.8\" font-family=\"Times New Roman,serif\" font-size=\"14.00\">value = [1515, 564]</text>\r\n",
       "<text text-anchor=\"middle\" x=\"1019.5\" y=\"-349.8\" font-family=\"Times New Roman,serif\" font-size=\"14.00\">class = Not Converted</text>\r\n",
       "</g>\r\n",
       "<!-- 3&#45;&gt;8 -->\r\n",
       "<g id=\"edge21\" class=\"edge\"><title>3&#45;&gt;8</title>\r\n",
       "<path fill=\"none\" stroke=\"black\" d=\"M918.93,-460.907C931.591,-451.288 945.194,-440.953 958.176,-431.09\"/>\r\n",
       "<polygon fill=\"black\" stroke=\"black\" points=\"960.32,-433.857 966.165,-425.021 956.085,-428.283 960.32,-433.857\"/>\r\n",
       "</g>\r\n",
       "<!-- 15 -->\r\n",
       "<g id=\"node20\" class=\"node\"><title>15</title>\r\n",
       "<polygon fill=\"none\" stroke=\"black\" points=\"769,-298.5 644,-298.5 644,-230.5 769,-230.5 769,-298.5\"/>\r\n",
       "<text text-anchor=\"middle\" x=\"706.5\" y=\"-283.3\" font-family=\"Times New Roman,serif\" font-size=\"14.00\">gini = 0.3901</text>\r\n",
       "<text text-anchor=\"middle\" x=\"706.5\" y=\"-268.3\" font-family=\"Times New Roman,serif\" font-size=\"14.00\">samples = 1973</text>\r\n",
       "<text text-anchor=\"middle\" x=\"706.5\" y=\"-253.3\" font-family=\"Times New Roman,serif\" font-size=\"14.00\">value = [524, 1449]</text>\r\n",
       "<text text-anchor=\"middle\" x=\"706.5\" y=\"-238.3\" font-family=\"Times New Roman,serif\" font-size=\"14.00\">class = Converted</text>\r\n",
       "</g>\r\n",
       "<!-- 7&#45;&gt;15 -->\r\n",
       "<g id=\"edge19\" class=\"edge\"><title>7&#45;&gt;15</title>\r\n",
       "<path fill=\"none\" stroke=\"black\" d=\"M805.764,-341.907C790.139,-329.88 773.061,-316.735 757.545,-304.791\"/>\r\n",
       "<polygon fill=\"black\" stroke=\"black\" points=\"759.648,-301.993 749.589,-298.667 755.378,-307.54 759.648,-301.993\"/>\r\n",
       "</g>\r\n",
       "<!-- 16 -->\r\n",
       "<g id=\"node21\" class=\"node\"><title>16</title>\r\n",
       "<polygon fill=\"none\" stroke=\"black\" points=\"930,-298.5 787,-298.5 787,-230.5 930,-230.5 930,-298.5\"/>\r\n",
       "<text text-anchor=\"middle\" x=\"858.5\" y=\"-283.3\" font-family=\"Times New Roman,serif\" font-size=\"14.00\">gini = 0.2188</text>\r\n",
       "<text text-anchor=\"middle\" x=\"858.5\" y=\"-268.3\" font-family=\"Times New Roman,serif\" font-size=\"14.00\">samples = 184</text>\r\n",
       "<text text-anchor=\"middle\" x=\"858.5\" y=\"-253.3\" font-family=\"Times New Roman,serif\" font-size=\"14.00\">value = [161, 23]</text>\r\n",
       "<text text-anchor=\"middle\" x=\"858.5\" y=\"-238.3\" font-family=\"Times New Roman,serif\" font-size=\"14.00\">class = Not Converted</text>\r\n",
       "</g>\r\n",
       "<!-- 7&#45;&gt;16 -->\r\n",
       "<g id=\"edge20\" class=\"edge\"><title>7&#45;&gt;16</title>\r\n",
       "<path fill=\"none\" stroke=\"black\" d=\"M858.5,-341.907C858.5,-331.204 858.5,-319.615 858.5,-308.776\"/>\r\n",
       "<polygon fill=\"black\" stroke=\"black\" points=\"862,-308.667 858.5,-298.667 855,-308.667 862,-308.667\"/>\r\n",
       "</g>\r\n",
       "<!-- 21 -->\r\n",
       "<g id=\"node23\" class=\"node\"><title>21</title>\r\n",
       "<polygon fill=\"none\" stroke=\"black\" points=\"1091,-306 948,-306 948,-223 1091,-223 1091,-306\"/>\r\n",
       "<text text-anchor=\"middle\" x=\"1019.5\" y=\"-290.8\" font-family=\"Times New Roman,serif\" font-size=\"14.00\">age &lt;= 29.5</text>\r\n",
       "<text text-anchor=\"middle\" x=\"1019.5\" y=\"-275.8\" font-family=\"Times New Roman,serif\" font-size=\"14.00\">gini = 0.439</text>\r\n",
       "<text text-anchor=\"middle\" x=\"1019.5\" y=\"-260.8\" font-family=\"Times New Roman,serif\" font-size=\"14.00\">samples = 1706</text>\r\n",
       "<text text-anchor=\"middle\" x=\"1019.5\" y=\"-245.8\" font-family=\"Times New Roman,serif\" font-size=\"14.00\">value = [1151, 555]</text>\r\n",
       "<text text-anchor=\"middle\" x=\"1019.5\" y=\"-230.8\" font-family=\"Times New Roman,serif\" font-size=\"14.00\">class = Not Converted</text>\r\n",
       "</g>\r\n",
       "<!-- 8&#45;&gt;21 -->\r\n",
       "<g id=\"edge22\" class=\"edge\"><title>8&#45;&gt;21</title>\r\n",
       "<path fill=\"none\" stroke=\"black\" d=\"M1019.5,-341.907C1019.5,-333.649 1019.5,-324.864 1019.5,-316.302\"/>\r\n",
       "<polygon fill=\"black\" stroke=\"black\" points=\"1023,-316.021 1019.5,-306.021 1016,-316.021 1023,-316.021\"/>\r\n",
       "</g>\r\n",
       "<!-- 22 -->\r\n",
       "<g id=\"node26\" class=\"node\"><title>22</title>\r\n",
       "<polygon fill=\"none\" stroke=\"black\" points=\"1252,-298.5 1109,-298.5 1109,-230.5 1252,-230.5 1252,-298.5\"/>\r\n",
       "<text text-anchor=\"middle\" x=\"1180.5\" y=\"-283.3\" font-family=\"Times New Roman,serif\" font-size=\"14.00\">gini = 0.0471</text>\r\n",
       "<text text-anchor=\"middle\" x=\"1180.5\" y=\"-268.3\" font-family=\"Times New Roman,serif\" font-size=\"14.00\">samples = 373</text>\r\n",
       "<text text-anchor=\"middle\" x=\"1180.5\" y=\"-253.3\" font-family=\"Times New Roman,serif\" font-size=\"14.00\">value = [364, 9]</text>\r\n",
       "<text text-anchor=\"middle\" x=\"1180.5\" y=\"-238.3\" font-family=\"Times New Roman,serif\" font-size=\"14.00\">class = Not Converted</text>\r\n",
       "</g>\r\n",
       "<!-- 8&#45;&gt;22 -->\r\n",
       "<g id=\"edge25\" class=\"edge\"><title>8&#45;&gt;22</title>\r\n",
       "<path fill=\"none\" stroke=\"black\" d=\"M1075.36,-341.907C1091.91,-329.88 1110,-316.735 1126.43,-304.791\"/>\r\n",
       "<polygon fill=\"black\" stroke=\"black\" points=\"1128.83,-307.377 1134.86,-298.667 1124.71,-301.714 1128.83,-307.377\"/>\r\n",
       "</g>\r\n",
       "<!-- 31 -->\r\n",
       "<g id=\"node24\" class=\"node\"><title>31</title>\r\n",
       "<polygon fill=\"none\" stroke=\"black\" points=\"976,-179.5 833,-179.5 833,-111.5 976,-111.5 976,-179.5\"/>\r\n",
       "<text text-anchor=\"middle\" x=\"904.5\" y=\"-164.3\" font-family=\"Times New Roman,serif\" font-size=\"14.00\">gini = 0.4886</text>\r\n",
       "<text text-anchor=\"middle\" x=\"904.5\" y=\"-149.3\" font-family=\"Times New Roman,serif\" font-size=\"14.00\">samples = 928</text>\r\n",
       "<text text-anchor=\"middle\" x=\"904.5\" y=\"-134.3\" font-family=\"Times New Roman,serif\" font-size=\"14.00\">value = [534, 394]</text>\r\n",
       "<text text-anchor=\"middle\" x=\"904.5\" y=\"-119.3\" font-family=\"Times New Roman,serif\" font-size=\"14.00\">class = Not Converted</text>\r\n",
       "</g>\r\n",
       "<!-- 21&#45;&gt;31 -->\r\n",
       "<g id=\"edge23\" class=\"edge\"><title>21&#45;&gt;31</title>\r\n",
       "<path fill=\"none\" stroke=\"black\" d=\"M979.601,-222.907C968.213,-211.321 955.806,-198.698 944.416,-187.111\"/>\r\n",
       "<polygon fill=\"black\" stroke=\"black\" points=\"946.606,-184.345 937.1,-179.667 941.614,-189.252 946.606,-184.345\"/>\r\n",
       "</g>\r\n",
       "<!-- 32 -->\r\n",
       "<g id=\"node25\" class=\"node\"><title>32</title>\r\n",
       "<polygon fill=\"none\" stroke=\"black\" points=\"1137,-179.5 994,-179.5 994,-111.5 1137,-111.5 1137,-179.5\"/>\r\n",
       "<text text-anchor=\"middle\" x=\"1065.5\" y=\"-164.3\" font-family=\"Times New Roman,serif\" font-size=\"14.00\">gini = 0.3282</text>\r\n",
       "<text text-anchor=\"middle\" x=\"1065.5\" y=\"-149.3\" font-family=\"Times New Roman,serif\" font-size=\"14.00\">samples = 778</text>\r\n",
       "<text text-anchor=\"middle\" x=\"1065.5\" y=\"-134.3\" font-family=\"Times New Roman,serif\" font-size=\"14.00\">value = [617, 161]</text>\r\n",
       "<text text-anchor=\"middle\" x=\"1065.5\" y=\"-119.3\" font-family=\"Times New Roman,serif\" font-size=\"14.00\">class = Not Converted</text>\r\n",
       "</g>\r\n",
       "<!-- 21&#45;&gt;32 -->\r\n",
       "<g id=\"edge24\" class=\"edge\"><title>21&#45;&gt;32</title>\r\n",
       "<path fill=\"none\" stroke=\"black\" d=\"M1035.46,-222.907C1039.75,-211.983 1044.41,-200.137 1048.75,-189.107\"/>\r\n",
       "<polygon fill=\"black\" stroke=\"black\" points=\"1052.06,-190.254 1052.46,-179.667 1045.54,-187.693 1052.06,-190.254\"/>\r\n",
       "</g>\r\n",
       "<!-- 11 -->\r\n",
       "<g id=\"node28\" class=\"node\"><title>11</title>\r\n",
       "<polygon fill=\"none\" stroke=\"black\" points=\"1415.5,-425 1243.5,-425 1243.5,-342 1415.5,-342 1415.5,-425\"/>\r\n",
       "<text text-anchor=\"middle\" x=\"1329.5\" y=\"-409.8\" font-family=\"Times New Roman,serif\" font-size=\"14.00\">total_pages_visited &lt;= 15.5</text>\r\n",
       "<text text-anchor=\"middle\" x=\"1329.5\" y=\"-394.8\" font-family=\"Times New Roman,serif\" font-size=\"14.00\">gini = 0.1464</text>\r\n",
       "<text text-anchor=\"middle\" x=\"1329.5\" y=\"-379.8\" font-family=\"Times New Roman,serif\" font-size=\"14.00\">samples = 5471</text>\r\n",
       "<text text-anchor=\"middle\" x=\"1329.5\" y=\"-364.8\" font-family=\"Times New Roman,serif\" font-size=\"14.00\">value = [435, 5036]</text>\r\n",
       "<text text-anchor=\"middle\" x=\"1329.5\" y=\"-349.8\" font-family=\"Times New Roman,serif\" font-size=\"14.00\">class = Converted</text>\r\n",
       "</g>\r\n",
       "<!-- 4&#45;&gt;11 -->\r\n",
       "<g id=\"edge27\" class=\"edge\"><title>4&#45;&gt;11</title>\r\n",
       "<path fill=\"none\" stroke=\"black\" d=\"M1329.5,-460.907C1329.5,-452.649 1329.5,-443.864 1329.5,-435.302\"/>\r\n",
       "<polygon fill=\"black\" stroke=\"black\" points=\"1333,-435.021 1329.5,-425.021 1326,-435.021 1333,-435.021\"/>\r\n",
       "</g>\r\n",
       "<!-- 12 -->\r\n",
       "<g id=\"node33\" class=\"node\"><title>12</title>\r\n",
       "<polygon fill=\"none\" stroke=\"black\" points=\"1577,-417.5 1434,-417.5 1434,-349.5 1577,-349.5 1577,-417.5\"/>\r\n",
       "<text text-anchor=\"middle\" x=\"1505.5\" y=\"-402.3\" font-family=\"Times New Roman,serif\" font-size=\"14.00\">gini = 0.3418</text>\r\n",
       "<text text-anchor=\"middle\" x=\"1505.5\" y=\"-387.3\" font-family=\"Times New Roman,serif\" font-size=\"14.00\">samples = 192</text>\r\n",
       "<text text-anchor=\"middle\" x=\"1505.5\" y=\"-372.3\" font-family=\"Times New Roman,serif\" font-size=\"14.00\">value = [150, 42]</text>\r\n",
       "<text text-anchor=\"middle\" x=\"1505.5\" y=\"-357.3\" font-family=\"Times New Roman,serif\" font-size=\"14.00\">class = Not Converted</text>\r\n",
       "</g>\r\n",
       "<!-- 4&#45;&gt;12 -->\r\n",
       "<g id=\"edge32\" class=\"edge\"><title>4&#45;&gt;12</title>\r\n",
       "<path fill=\"none\" stroke=\"black\" d=\"M1390.56,-460.907C1408.82,-448.769 1428.79,-435.493 1446.89,-423.462\"/>\r\n",
       "<polygon fill=\"black\" stroke=\"black\" points=\"1449.22,-426.118 1455.61,-417.667 1445.34,-420.288 1449.22,-426.118\"/>\r\n",
       "</g>\r\n",
       "<!-- 25 -->\r\n",
       "<g id=\"node29\" class=\"node\"><title>25</title>\r\n",
       "<polygon fill=\"none\" stroke=\"black\" points=\"1389,-306 1270,-306 1270,-223 1389,-223 1389,-306\"/>\r\n",
       "<text text-anchor=\"middle\" x=\"1329.5\" y=\"-290.8\" font-family=\"Times New Roman,serif\" font-size=\"14.00\">new_user &lt;= 0.5</text>\r\n",
       "<text text-anchor=\"middle\" x=\"1329.5\" y=\"-275.8\" font-family=\"Times New Roman,serif\" font-size=\"14.00\">gini = 0.3262</text>\r\n",
       "<text text-anchor=\"middle\" x=\"1329.5\" y=\"-260.8\" font-family=\"Times New Roman,serif\" font-size=\"14.00\">samples = 1223</text>\r\n",
       "<text text-anchor=\"middle\" x=\"1329.5\" y=\"-245.8\" font-family=\"Times New Roman,serif\" font-size=\"14.00\">value = [251, 972]</text>\r\n",
       "<text text-anchor=\"middle\" x=\"1329.5\" y=\"-230.8\" font-family=\"Times New Roman,serif\" font-size=\"14.00\">class = Converted</text>\r\n",
       "</g>\r\n",
       "<!-- 11&#45;&gt;25 -->\r\n",
       "<g id=\"edge28\" class=\"edge\"><title>11&#45;&gt;25</title>\r\n",
       "<path fill=\"none\" stroke=\"black\" d=\"M1329.5,-341.907C1329.5,-333.649 1329.5,-324.864 1329.5,-316.302\"/>\r\n",
       "<polygon fill=\"black\" stroke=\"black\" points=\"1333,-316.021 1329.5,-306.021 1326,-316.021 1333,-316.021\"/>\r\n",
       "</g>\r\n",
       "<!-- 26 -->\r\n",
       "<g id=\"node32\" class=\"node\"><title>26</title>\r\n",
       "<polygon fill=\"none\" stroke=\"black\" points=\"1532,-298.5 1407,-298.5 1407,-230.5 1532,-230.5 1532,-298.5\"/>\r\n",
       "<text text-anchor=\"middle\" x=\"1469.5\" y=\"-283.3\" font-family=\"Times New Roman,serif\" font-size=\"14.00\">gini = 0.0829</text>\r\n",
       "<text text-anchor=\"middle\" x=\"1469.5\" y=\"-268.3\" font-family=\"Times New Roman,serif\" font-size=\"14.00\">samples = 4248</text>\r\n",
       "<text text-anchor=\"middle\" x=\"1469.5\" y=\"-253.3\" font-family=\"Times New Roman,serif\" font-size=\"14.00\">value = [184, 4064]</text>\r\n",
       "<text text-anchor=\"middle\" x=\"1469.5\" y=\"-238.3\" font-family=\"Times New Roman,serif\" font-size=\"14.00\">class = Converted</text>\r\n",
       "</g>\r\n",
       "<!-- 11&#45;&gt;26 -->\r\n",
       "<g id=\"edge31\" class=\"edge\"><title>11&#45;&gt;26</title>\r\n",
       "<path fill=\"none\" stroke=\"black\" d=\"M1378.07,-341.907C1392.33,-329.99 1407.91,-316.976 1422.09,-305.12\"/>\r\n",
       "<polygon fill=\"black\" stroke=\"black\" points=\"1424.38,-307.765 1429.81,-298.667 1419.9,-302.394 1424.38,-307.765\"/>\r\n",
       "</g>\r\n",
       "<!-- 27 -->\r\n",
       "<g id=\"node30\" class=\"node\"><title>27</title>\r\n",
       "<polygon fill=\"none\" stroke=\"black\" points=\"1320,-179.5 1201,-179.5 1201,-111.5 1320,-111.5 1320,-179.5\"/>\r\n",
       "<text text-anchor=\"middle\" x=\"1260.5\" y=\"-164.3\" font-family=\"Times New Roman,serif\" font-size=\"14.00\">gini = 0.1505</text>\r\n",
       "<text text-anchor=\"middle\" x=\"1260.5\" y=\"-149.3\" font-family=\"Times New Roman,serif\" font-size=\"14.00\">samples = 744</text>\r\n",
       "<text text-anchor=\"middle\" x=\"1260.5\" y=\"-134.3\" font-family=\"Times New Roman,serif\" font-size=\"14.00\">value = [61, 683]</text>\r\n",
       "<text text-anchor=\"middle\" x=\"1260.5\" y=\"-119.3\" font-family=\"Times New Roman,serif\" font-size=\"14.00\">class = Converted</text>\r\n",
       "</g>\r\n",
       "<!-- 25&#45;&gt;27 -->\r\n",
       "<g id=\"edge29\" class=\"edge\"><title>25&#45;&gt;27</title>\r\n",
       "<path fill=\"none\" stroke=\"black\" d=\"M1305.56,-222.907C1298.99,-211.763 1291.85,-199.658 1285.23,-188.439\"/>\r\n",
       "<polygon fill=\"black\" stroke=\"black\" points=\"1288.15,-186.503 1280.06,-179.667 1282.13,-190.059 1288.15,-186.503\"/>\r\n",
       "</g>\r\n",
       "<!-- 28 -->\r\n",
       "<g id=\"node31\" class=\"node\"><title>28</title>\r\n",
       "<polygon fill=\"none\" stroke=\"black\" points=\"1457,-179.5 1338,-179.5 1338,-111.5 1457,-111.5 1457,-179.5\"/>\r\n",
       "<text text-anchor=\"middle\" x=\"1397.5\" y=\"-164.3\" font-family=\"Times New Roman,serif\" font-size=\"14.00\">gini = 0.4786</text>\r\n",
       "<text text-anchor=\"middle\" x=\"1397.5\" y=\"-149.3\" font-family=\"Times New Roman,serif\" font-size=\"14.00\">samples = 479</text>\r\n",
       "<text text-anchor=\"middle\" x=\"1397.5\" y=\"-134.3\" font-family=\"Times New Roman,serif\" font-size=\"14.00\">value = [190, 289]</text>\r\n",
       "<text text-anchor=\"middle\" x=\"1397.5\" y=\"-119.3\" font-family=\"Times New Roman,serif\" font-size=\"14.00\">class = Converted</text>\r\n",
       "</g>\r\n",
       "<!-- 25&#45;&gt;28 -->\r\n",
       "<g id=\"edge30\" class=\"edge\"><title>25&#45;&gt;28</title>\r\n",
       "<path fill=\"none\" stroke=\"black\" d=\"M1353.09,-222.907C1359.57,-211.763 1366.6,-199.658 1373.13,-188.439\"/>\r\n",
       "<polygon fill=\"black\" stroke=\"black\" points=\"1376.22,-190.072 1378.22,-179.667 1370.17,-186.554 1376.22,-190.072\"/>\r\n",
       "</g>\r\n",
       "</g>\r\n",
       "</svg>\r\n"
      ],
      "text/plain": [
       "<graphviz.files.Source at 0xc5ec5f8>"
      ]
     },
     "execution_count": 16,
     "metadata": {},
     "output_type": "execute_result"
    }
   ],
   "source": [
    "Source(export_graphviz(dec, out_file=None, feature_names=X.columns, class_names = ['Not Converted','Converted']))"
   ]
  },
  {
   "cell_type": "markdown",
   "metadata": {
    "collapsed": true
   },
   "source": [
    "From the decision tree graph, we can easily see what kind of users are more likely to make a conversion.\n",
    "* Total visited pages larger than 12.5 are more likely to make a conversion. It makes sense that people intend to browse more about what they want before they make a decision. Those people must consider to buy something seriously. For those who have already visited more than 12.5 pages, we could retarget/email marketing them to encourage them make a decision.\n",
    "* China users are a big issue. Looks like if the user from China, then it will never make a conversion. There may be something wrong with the Chinese version of the website.\n",
    "* We can see from the decision tree that old users are more likely to be converted. I would recommand to do retargeting for the old users. Also, if we could have more data about our old users, we can dive into and segment our old users to make the retargeting more accurately.\n",
    "* People under age 30 are more likely to make a conversion. We should reflect our business strategy - are we intended to attract more young people? If not, which age group are we going after for? Then based on the strategy to make some change on the website."
   ]
  }
 ],
 "metadata": {
  "anaconda-cloud": {},
  "kernelspec": {
   "display_name": "Python [conda root]",
   "language": "python",
   "name": "conda-root-py"
  },
  "language_info": {
   "codemirror_mode": {
    "name": "ipython",
    "version": 2
   },
   "file_extension": ".py",
   "mimetype": "text/x-python",
   "name": "python",
   "nbconvert_exporter": "python",
   "pygments_lexer": "ipython2",
   "version": "2.7.12"
  }
 },
 "nbformat": 4,
 "nbformat_minor": 2
}
