{
 "cells": [
  {
   "cell_type": "markdown",
   "metadata": {},
   "source": [
    "There has been lots of talking about diversity in the workplace, especially in technology. The Head of HR at your company is very concerned about that and has asked you to analyze internal data about employees and see whether results suggest that the company is treating its employees fairly."
   ]
  },
  {
   "cell_type": "code",
   "execution_count": 79,
   "metadata": {
    "collapsed": true
   },
   "outputs": [],
   "source": [
    "import numpy as np\n",
    "import pandas as pd\n",
    "import scipy.stats as ss\n",
    "from sklearn.preprocessing import LabelEncoder\n",
    "from sklearn.cross_validation import  train_test_split\n",
    "from sklearn.metrics import mean_squared_error,mean_absolute_error,r2_score\n",
    "from sklearn.ensemble import RandomForestRegressor\n",
    "from sklearn.feature_selection import chi2\n",
    "import xgboost as xgb\n",
    "\n",
    "import matplotlib.pyplot as plt\n",
    "plt.style.use('ggplot')\n",
    "%matplotlib inline"
   ]
  },
  {
   "cell_type": "markdown",
   "metadata": {},
   "source": [
    "# Index\n",
    "* [Answer question 1](#Answer-question-1)\n",
    "* [Answer question 2](#Answer-question-2)\n",
    "* [Answer-question 3](#Answer-question-3)\n",
    "    * [Load all the data](#Load-all-the-data)\n",
    "    * [Feature Enginnering](#Feature-Enginnering)\n",
    "    * [Remove outliers](#Remove-outliers)\n",
    "    * [Train](#Train)\n",
    "    * [Evaluate](#Evaluate)\n",
    "* [Answer question 4](#Answer-question-4)\n",
    "    * [Main factors impacting salaries](#Main-factors-impacting-salaries)\n",
    "    * [Residuals Analysis](#Residuals-Analysis)\n",
    "    * [Is it fair? Any bias?](#Is-it-fair?-Any-bias?)\n",
    "    * [Suggestions to HR header](#Suggestions-to-HR-header)\n",
    "\n",
    "# Answer question 1\n",
    "<span style='color:blue'>In the company there are 6 levels (described below). Identify, for each employee, her corresponding level.</span>\n",
    "* <span style='color:blue'>Individual Contributors (IC) - they don't manage anyone</span> \n",
    "* <span style='color:blue'>Middle Managers (MM) - they are the direct bosses of IC</span>  \n",
    "* <span style='color:blue'>Directors (D) - they are the direct bosses of MM</span>  \n",
    "* <span style='color:blue'>VP - D direct bosses</span>  \n",
    "* <span style='color:blue'>Executives (E) - VP direct bosses</span>  \n",
    "* <span style='color:blue'>CEO - The direct boss of E.</span> "
   ]
  },
  {
   "cell_type": "code",
   "execution_count": 80,
   "metadata": {
    "collapsed": true
   },
   "outputs": [],
   "source": [
    "hierarchy = pd.read_csv(\"company_hierarchy.csv\",index_col='employee_id')\n",
    "hierarchy['level'] = None # initialize \n",
    "\n",
    "# starting point\n",
    "hierarchy.loc[hierarchy.dept == 'CEO','level'] = 'CEO'\n",
    "\n",
    "# change all boss_id to integer\n",
    "hierarchy.loc[hierarchy.level == 'CEO','boss_id'] = -1\n",
    "hierarchy['boss_id'] = hierarchy.boss_id.astype(int)\n",
    "\n",
    "def set_level(boss_level,level):\n",
    "    boss_ids = hierarchy.loc[hierarchy.level == boss_level,:].index\n",
    "    is_subordinate = np.in1d(hierarchy.boss_id,boss_ids)\n",
    "    hierarchy.loc[is_subordinate,'level'] = level\n",
    "\n",
    "set_level('CEO','E')\n",
    "set_level('E','VP')\n",
    "set_level('VP','D')\n",
    "set_level('D','MM')\n",
    "set_level('MM','IC')"
   ]
  },
  {
   "cell_type": "code",
   "execution_count": 81,
   "metadata": {
    "collapsed": false
   },
   "outputs": [
    {
     "data": {
      "text/plain": [
       "IC     9000\n",
       "MM      800\n",
       "D       160\n",
       "VP       35\n",
       "E         4\n",
       "CEO       1\n",
       "Name: level, dtype: int64"
      ]
     },
     "execution_count": 81,
     "metadata": {},
     "output_type": "execute_result"
    }
   ],
   "source": [
    "hierarchy.level.value_counts()"
   ]
  },
  {
   "cell_type": "markdown",
   "metadata": {},
   "source": [
    "# Answer question 2\n",
    "<span style='color:blue'>How many people each employee manages? You should have a table with employee ids and the number of people managed. Consider that if John directly manages 2 people and these two people manage 5 people each, then we conclude that John manages 12 people.</span>"
   ]
  },
  {
   "cell_type": "code",
   "execution_count": 82,
   "metadata": {
    "collapsed": true
   },
   "outputs": [],
   "source": [
    "hierarchy['n_subordinates'] = 0 # initialize\n",
    "\n",
    "def __count_subordinates(s):\n",
    "    \"\"\"\n",
    "    s: stands for subordinates, it is a series\n",
    "    its value represents #subordinates that subordinate has\n",
    "    \"\"\"\n",
    "    n_direct_subordinates = s.shape[0]\n",
    "    n_indirect_subordinates = s.sum()\n",
    "    return n_direct_subordinates + n_indirect_subordinates\n",
    "\n",
    "def count_subordinates(subordinate_level):\n",
    "    num_subordinates = hierarchy.loc[hierarchy.level == subordinate_level,:].groupby('boss_id')['n_subordinates'].agg(__count_subordinates)\n",
    "    hierarchy.loc[num_subordinates.index,'n_subordinates'] = num_subordinates\n",
    "\n",
    "count_subordinates(subordinate_level=\"IC\")\n",
    "count_subordinates(subordinate_level=\"MM\")\n",
    "count_subordinates(subordinate_level=\"D\")\n",
    "count_subordinates(subordinate_level=\"VP\")\n",
    "count_subordinates(subordinate_level=\"E\")"
   ]
  },
  {
   "cell_type": "code",
   "execution_count": 83,
   "metadata": {
    "collapsed": false
   },
   "outputs": [
    {
     "data": {
      "text/plain": [
       "employee_id\n",
       "61554    9999\n",
       "Name: n_subordinates, dtype: int64"
      ]
     },
     "execution_count": 83,
     "metadata": {},
     "output_type": "execute_result"
    }
   ],
   "source": [
    "# CEO's n_subordinates is all employees but himself\n",
    "hierarchy.loc[hierarchy.level =='CEO','n_subordinates'] "
   ]
  },
  {
   "cell_type": "markdown",
   "metadata": {},
   "source": [
    "# Answer question 3\n",
    "<span style='color:blue'>Build a model to predict the salary of each employee.</span>"
   ]
  },
  {
   "cell_type": "markdown",
   "metadata": {},
   "source": [
    "## Load all the data"
   ]
  },
  {
   "cell_type": "code",
   "execution_count": 84,
   "metadata": {
    "collapsed": true
   },
   "outputs": [],
   "source": [
    "employees = pd.read_csv(\"employee.csv\",index_col=\"employee_id\")\n",
    "\n",
    "# make the salary \"N k\", where k represents $1000, which is easier to display\n",
    "employees[\"salary\"] /= 1000"
   ]
  },
  {
   "cell_type": "code",
   "execution_count": 85,
   "metadata": {
    "collapsed": true
   },
   "outputs": [],
   "source": [
    "# join all features together\n",
    "employees = employees.join(hierarchy)"
   ]
  },
  {
   "cell_type": "code",
   "execution_count": 86,
   "metadata": {
    "collapsed": true
   },
   "outputs": [],
   "source": [
    "employees.to_csv(\"all_employees.csv\",index_label=\"employee_id\")"
   ]
  },
  {
   "cell_type": "markdown",
   "metadata": {},
   "source": [
    "## Feature Enginnering"
   ]
  },
  {
   "cell_type": "code",
   "execution_count": 87,
   "metadata": {
    "collapsed": true
   },
   "outputs": [],
   "source": [
    "X = employees.copy()\n",
    "\n",
    "X[\"is_male\"] = (X.sex == \"M\").astype(int)\n",
    "del X[\"sex\"]\n",
    "\n",
    "del X['boss_id']# I assume boss_id won't affect salary"
   ]
  },
  {
   "cell_type": "code",
   "execution_count": 88,
   "metadata": {
    "collapsed": true
   },
   "outputs": [],
   "source": [
    "# transform 'level' into numbers\n",
    "# !!! ORDER matters\n",
    "index2level = ['IC','MM',\"D\",\"VP\",\"E\",\"CEO\"]\n",
    "level2index = {l:index for index,l in enumerate(index2level)}\n",
    "X['level'] = X.level.map(level2index)"
   ]
  },
  {
   "cell_type": "code",
   "execution_count": 89,
   "metadata": {
    "collapsed": false
   },
   "outputs": [],
   "source": [
    "# transform 'educational degree' into numbers\n",
    "# !!! ORDER matters\n",
    "index2degree = ['High_School','Bachelor','Master','PhD']\n",
    "degree2index = {d:index for index,d in enumerate(index2degree)}\n",
    "X['degree'] = X.degree_level.map(degree2index)\n",
    "del X['degree_level']"
   ]
  },
  {
   "cell_type": "code",
   "execution_count": 90,
   "metadata": {
    "collapsed": true
   },
   "outputs": [],
   "source": [
    "# OHE department\n",
    "X = pd.get_dummies(X)\n",
    "del X['dept_CEO']"
   ]
  },
  {
   "cell_type": "code",
   "execution_count": 91,
   "metadata": {
    "collapsed": false
   },
   "outputs": [
    {
     "data": {
      "text/plain": [
       "<matplotlib.axes._subplots.AxesSubplot at 0x11f4176d0>"
      ]
     },
     "execution_count": 91,
     "metadata": {},
     "output_type": "execute_result"
    },
    {
     "data": {
      "image/png": "[encoded data removed]",
      "text/plain": [
       "<matplotlib.figure.Figure at 0x12041c490>"
      ]
     },
     "metadata": {},
     "output_type": "display_data"
    }
   ],
   "source": [
    "X.salary.hist(bins=50)"
   ]
  },
  {
   "cell_type": "markdown",
   "metadata": {},
   "source": [
    "from above plot, we can see that, salary's distribution is  ** highly skewed **, which increase difficulty on regression. so I need ** log transform on the target value **."
   ]
  },
  {
   "cell_type": "code",
   "execution_count": 92,
   "metadata": {
    "collapsed": false
   },
   "outputs": [
    {
     "data": {
      "text/plain": [
       "<matplotlib.axes._subplots.AxesSubplot at 0x1211e3250>"
      ]
     },
     "execution_count": 92,
     "metadata": {},
     "output_type": "execute_result"
    },
    {
     "data": {
      "image/png": "[encoded data removed]",
      "text/plain": [
       "<matplotlib.figure.Figure at 0x121212110>"
      ]
     },
     "metadata": {},
     "output_type": "display_data"
    }
   ],
   "source": [
    "X['salary'] = np.log(X.salary)\n",
    "X.salary.hist(bins=50)"
   ]
  },
  {
   "cell_type": "markdown",
   "metadata": {},
   "source": [
    "we can see after log transformation, salary's distribution is ** more balanced **."
   ]
  },
  {
   "cell_type": "code",
   "execution_count": 93,
   "metadata": {
    "collapsed": false
   },
   "outputs": [
    {
     "data": {
      "text/html": [
       "<div>\n",
       "<table border=\"1\" class=\"dataframe\">\n",
       "  <thead>\n",
       "    <tr style=\"text-align: right;\">\n",
       "      <th></th>\n",
       "      <th>signing_bonus</th>\n",
       "      <th>salary</th>\n",
       "      <th>yrs_experience</th>\n",
       "      <th>level</th>\n",
       "      <th>n_subordinates</th>\n",
       "      <th>is_male</th>\n",
       "      <th>degree</th>\n",
       "      <th>dept_HR</th>\n",
       "      <th>dept_engineering</th>\n",
       "      <th>dept_marketing</th>\n",
       "      <th>dept_sales</th>\n",
       "    </tr>\n",
       "    <tr>\n",
       "      <th>employee_id</th>\n",
       "      <th></th>\n",
       "      <th></th>\n",
       "      <th></th>\n",
       "      <th></th>\n",
       "      <th></th>\n",
       "      <th></th>\n",
       "      <th></th>\n",
       "      <th></th>\n",
       "      <th></th>\n",
       "      <th></th>\n",
       "      <th></th>\n",
       "    </tr>\n",
       "  </thead>\n",
       "  <tbody>\n",
       "    <tr>\n",
       "      <th>138719</th>\n",
       "      <td>0</td>\n",
       "      <td>5.609472</td>\n",
       "      <td>2</td>\n",
       "      <td>0</td>\n",
       "      <td>0</td>\n",
       "      <td>1</td>\n",
       "      <td>2</td>\n",
       "      <td>0.0</td>\n",
       "      <td>1.0</td>\n",
       "      <td>0.0</td>\n",
       "      <td>0.0</td>\n",
       "    </tr>\n",
       "    <tr>\n",
       "      <th>3192</th>\n",
       "      <td>0</td>\n",
       "      <td>5.707110</td>\n",
       "      <td>1</td>\n",
       "      <td>0</td>\n",
       "      <td>0</td>\n",
       "      <td>0</td>\n",
       "      <td>1</td>\n",
       "      <td>0.0</td>\n",
       "      <td>0.0</td>\n",
       "      <td>0.0</td>\n",
       "      <td>1.0</td>\n",
       "    </tr>\n",
       "    <tr>\n",
       "      <th>114657</th>\n",
       "      <td>0</td>\n",
       "      <td>5.564520</td>\n",
       "      <td>2</td>\n",
       "      <td>0</td>\n",
       "      <td>0</td>\n",
       "      <td>0</td>\n",
       "      <td>2</td>\n",
       "      <td>0.0</td>\n",
       "      <td>0.0</td>\n",
       "      <td>0.0</td>\n",
       "      <td>1.0</td>\n",
       "    </tr>\n",
       "    <tr>\n",
       "      <th>29039</th>\n",
       "      <td>0</td>\n",
       "      <td>4.454347</td>\n",
       "      <td>4</td>\n",
       "      <td>0</td>\n",
       "      <td>0</td>\n",
       "      <td>0</td>\n",
       "      <td>0</td>\n",
       "      <td>1.0</td>\n",
       "      <td>0.0</td>\n",
       "      <td>0.0</td>\n",
       "      <td>0.0</td>\n",
       "    </tr>\n",
       "    <tr>\n",
       "      <th>118607</th>\n",
       "      <td>0</td>\n",
       "      <td>4.836282</td>\n",
       "      <td>3</td>\n",
       "      <td>0</td>\n",
       "      <td>0</td>\n",
       "      <td>0</td>\n",
       "      <td>1</td>\n",
       "      <td>0.0</td>\n",
       "      <td>0.0</td>\n",
       "      <td>0.0</td>\n",
       "      <td>1.0</td>\n",
       "    </tr>\n",
       "  </tbody>\n",
       "</table>\n",
       "</div>"
      ],
      "text/plain": [
       "             signing_bonus    salary  yrs_experience  level  n_subordinates  \\\n",
       "employee_id                                                                   \n",
       "138719                   0  5.609472               2      0               0   \n",
       "3192                     0  5.707110               1      0               0   \n",
       "114657                   0  5.564520               2      0               0   \n",
       "29039                    0  4.454347               4      0               0   \n",
       "118607                   0  4.836282               3      0               0   \n",
       "\n",
       "             is_male  degree  dept_HR  dept_engineering  dept_marketing  \\\n",
       "employee_id                                                               \n",
       "138719             1       2      0.0               1.0             0.0   \n",
       "3192               0       1      0.0               0.0             0.0   \n",
       "114657             0       2      0.0               0.0             0.0   \n",
       "29039              0       0      1.0               0.0             0.0   \n",
       "118607             0       1      0.0               0.0             0.0   \n",
       "\n",
       "             dept_sales  \n",
       "employee_id              \n",
       "138719              0.0  \n",
       "3192                1.0  \n",
       "114657              1.0  \n",
       "29039               0.0  \n",
       "118607              1.0  "
      ]
     },
     "execution_count": 93,
     "metadata": {},
     "output_type": "execute_result"
    }
   ],
   "source": [
    "X.head()# glance the data"
   ]
  },
  {
   "cell_type": "markdown",
   "metadata": {},
   "source": [
    "## Remove outliers"
   ]
  },
  {
   "cell_type": "code",
   "execution_count": 94,
   "metadata": {
    "collapsed": false
   },
   "outputs": [
    {
     "data": {
      "text/html": [
       "<div>\n",
       "<table border=\"1\" class=\"dataframe\">\n",
       "  <thead>\n",
       "    <tr style=\"text-align: right;\">\n",
       "      <th></th>\n",
       "      <th>count</th>\n",
       "      <th>mean</th>\n",
       "    </tr>\n",
       "    <tr>\n",
       "      <th>level</th>\n",
       "      <th></th>\n",
       "      <th></th>\n",
       "    </tr>\n",
       "  </thead>\n",
       "  <tbody>\n",
       "    <tr>\n",
       "      <th>0</th>\n",
       "      <td>9000</td>\n",
       "      <td>5.112835</td>\n",
       "    </tr>\n",
       "    <tr>\n",
       "      <th>1</th>\n",
       "      <td>800</td>\n",
       "      <td>5.136089</td>\n",
       "    </tr>\n",
       "    <tr>\n",
       "      <th>2</th>\n",
       "      <td>160</td>\n",
       "      <td>5.256181</td>\n",
       "    </tr>\n",
       "    <tr>\n",
       "      <th>3</th>\n",
       "      <td>35</td>\n",
       "      <td>5.496709</td>\n",
       "    </tr>\n",
       "    <tr>\n",
       "      <th>4</th>\n",
       "      <td>4</td>\n",
       "      <td>6.327854</td>\n",
       "    </tr>\n",
       "    <tr>\n",
       "      <th>5</th>\n",
       "      <td>1</td>\n",
       "      <td>6.551080</td>\n",
       "    </tr>\n",
       "  </tbody>\n",
       "</table>\n",
       "</div>"
      ],
      "text/plain": [
       "       count      mean\n",
       "level                 \n",
       "0       9000  5.112835\n",
       "1        800  5.136089\n",
       "2        160  5.256181\n",
       "3         35  5.496709\n",
       "4          4  6.327854\n",
       "5          1  6.551080"
      ]
     },
     "execution_count": 94,
     "metadata": {},
     "output_type": "execute_result"
    }
   ],
   "source": [
    "X.groupby('level')['salary'].agg(['count','mean'])"
   ]
  },
  {
   "cell_type": "markdown",
   "metadata": {},
   "source": [
    "from above result, we can see there is only one CEO, and his salary is much higher than any other employees in this company.\n",
    "\n",
    "<span style=\"color:orange;font-size:1.5em\">when I split the data into training/test sets, no matter which set contains CEO, his high salary will impact significantly the training or evaluation. so I consider CEO as outlier, and remove it from the data set.</span>"
   ]
  },
  {
   "cell_type": "code",
   "execution_count": 95,
   "metadata": {
    "collapsed": true
   },
   "outputs": [],
   "source": [
    "X = X.loc[X.level !=5,:]"
   ]
  },
  {
   "cell_type": "markdown",
   "metadata": {},
   "source": [
    "## Train"
   ]
  },
  {
   "cell_type": "code",
   "execution_count": 96,
   "metadata": {
    "collapsed": true
   },
   "outputs": [],
   "source": [
    "y = X['salary']\n",
    "del X['salary']"
   ]
  },
  {
   "cell_type": "code",
   "execution_count": 97,
   "metadata": {
    "collapsed": true
   },
   "outputs": [],
   "source": [
    "seed = 999\n",
    "Xtrain,Xtest,ytrain,ytest = train_test_split(X,y,test_size=0.3,random_state=seed)"
   ]
  },
  {
   "cell_type": "code",
   "execution_count": 98,
   "metadata": {
    "collapsed": false
   },
   "outputs": [
    {
     "data": {
      "text/plain": [
       "0    6321\n",
       "1     541\n",
       "2     110\n",
       "3      25\n",
       "4       2\n",
       "Name: level, dtype: int64"
      ]
     },
     "execution_count": 98,
     "metadata": {},
     "output_type": "execute_result"
    }
   ],
   "source": [
    "Xtrain.level.value_counts()"
   ]
  },
  {
   "cell_type": "code",
   "execution_count": 99,
   "metadata": {
    "collapsed": false
   },
   "outputs": [
    {
     "data": {
      "text/plain": [
       "0    2679\n",
       "1     259\n",
       "2      50\n",
       "3      10\n",
       "4       2\n",
       "Name: level, dtype: int64"
      ]
     },
     "execution_count": 99,
     "metadata": {},
     "output_type": "execute_result"
    }
   ],
   "source": [
    "Xtest.level.value_counts()"
   ]
  },
  {
   "cell_type": "markdown",
   "metadata": {},
   "source": [
    "we can see that, after splitting, <span style='color:orange'>even the smallest group 'level=4' (i.e., Executive level), has representives in ** both ** groups</span>. Hence, the splitting is valid to be used to train and evaluate."
   ]
  },
  {
   "cell_type": "code",
   "execution_count": 100,
   "metadata": {
    "collapsed": true
   },
   "outputs": [],
   "source": [
    "train_matrix = xgb.DMatrix(Xtrain,ytrain)\n",
    "test_matrix = xgb.DMatrix(Xtest)"
   ]
  },
  {
   "cell_type": "code",
   "execution_count": 101,
   "metadata": {
    "collapsed": false
   },
   "outputs": [
    {
     "name": "stdout",
     "output_type": "stream",
     "text": [
      "[0]\ttrain-rmse:4.18815+0.00239459\ttest-rmse:4.18825+0.0106702\n",
      "[1]\ttrain-rmse:3.77412+0.0021065\ttest-rmse:3.77415+0.0105622\n",
      "[2]\ttrain-rmse:3.40167+0.00197078\ttest-rmse:3.40169+0.0103224\n",
      "[3]\ttrain-rmse:3.0671+0.0023315\ttest-rmse:3.06729+0.0100593\n",
      "[4]\ttrain-rmse:2.7657+0.00189281\ttest-rmse:2.76589+0.00973241\n",
      "[5]\ttrain-rmse:2.49517+0.00190442\ttest-rmse:2.49535+0.00942193\n",
      "[6]\ttrain-rmse:2.25222+0.00187782\ttest-rmse:2.25239+0.00880348\n",
      "[7]\ttrain-rmse:2.03445+0.00208841\ttest-rmse:2.03461+0.0084439\n",
      "[8]\ttrain-rmse:1.83911+0.00183379\ttest-rmse:1.83926+0.00807057\n",
      "[9]\ttrain-rmse:1.66402+0.00173889\ttest-rmse:1.66418+0.00795456\n",
      "[10]\ttrain-rmse:1.50769+0.00190822\ttest-rmse:1.50786+0.00802\n",
      "[11]\ttrain-rmse:1.36752+0.00191508\ttest-rmse:1.36772+0.00799088\n",
      "[12]\ttrain-rmse:1.24259+0.00239879\ttest-rmse:1.24278+0.00785277\n",
      "[13]\ttrain-rmse:1.13142+0.00232792\ttest-rmse:1.13165+0.00779465\n",
      "[14]\ttrain-rmse:1.03233+0.00224187\ttest-rmse:1.03261+0.00754056\n",
      "[15]\ttrain-rmse:0.944682+0.00225939\ttest-rmse:0.945095+0.00775463\n",
      "[16]\ttrain-rmse:0.86708+0.00223052\ttest-rmse:0.867578+0.00758922\n",
      "[17]\ttrain-rmse:0.798722+0.0021635\ttest-rmse:0.799379+0.00729582\n",
      "[18]\ttrain-rmse:0.738663+0.00223078\ttest-rmse:0.739474+0.00713103\n",
      "[19]\ttrain-rmse:0.686087+0.00240611\ttest-rmse:0.687021+0.00712638\n",
      "[20]\ttrain-rmse:0.640333+0.00248074\ttest-rmse:0.641589+0.0070151\n",
      "[21]\ttrain-rmse:0.600726+0.00258162\ttest-rmse:0.602377+0.00707766\n",
      "[22]\ttrain-rmse:0.566475+0.00246719\ttest-rmse:0.568567+0.00723159\n",
      "[23]\ttrain-rmse:0.536901+0.00246547\ttest-rmse:0.53934+0.0074291\n",
      "[24]\ttrain-rmse:0.511779+0.00255902\ttest-rmse:0.514706+0.00740894\n",
      "[25]\ttrain-rmse:0.490369+0.0026171\ttest-rmse:0.493736+0.0075745\n",
      "[26]\ttrain-rmse:0.472128+0.00263865\ttest-rmse:0.475984+0.00789732\n",
      "[27]\ttrain-rmse:0.456816+0.00263098\ttest-rmse:0.461279+0.00806312\n",
      "[28]\ttrain-rmse:0.444109+0.00268617\ttest-rmse:0.448908+0.00831621\n",
      "[29]\ttrain-rmse:0.433351+0.00270645\ttest-rmse:0.438706+0.00869881\n",
      "[30]\ttrain-rmse:0.424274+0.00272408\ttest-rmse:0.430148+0.00899877\n",
      "[31]\ttrain-rmse:0.416816+0.00280072\ttest-rmse:0.423185+0.00918241\n",
      "[32]\ttrain-rmse:0.410606+0.00271394\ttest-rmse:0.417583+0.00945469\n",
      "[33]\ttrain-rmse:0.405407+0.00276338\ttest-rmse:0.412827+0.00969381\n",
      "[34]\ttrain-rmse:0.401055+0.00277572\ttest-rmse:0.409012+0.00980853\n",
      "[35]\ttrain-rmse:0.397496+0.00277613\ttest-rmse:0.405756+0.00995677\n",
      "[36]\ttrain-rmse:0.394457+0.00285112\ttest-rmse:0.403256+0.010135\n",
      "[37]\ttrain-rmse:0.392046+0.00289187\ttest-rmse:0.401178+0.0102359\n",
      "[38]\ttrain-rmse:0.389878+0.00287998\ttest-rmse:0.399438+0.0103684\n",
      "[39]\ttrain-rmse:0.388129+0.00292439\ttest-rmse:0.398194+0.0104539\n",
      "[40]\ttrain-rmse:0.386615+0.00296289\ttest-rmse:0.397085+0.0104813\n",
      "[41]\ttrain-rmse:0.385399+0.00286124\ttest-rmse:0.396257+0.0105497\n",
      "[42]\ttrain-rmse:0.384276+0.00285687\ttest-rmse:0.395558+0.0106427\n",
      "[43]\ttrain-rmse:0.383353+0.00282195\ttest-rmse:0.395044+0.0107547\n",
      "[44]\ttrain-rmse:0.382453+0.00278398\ttest-rmse:0.394604+0.0108844\n",
      "[45]\ttrain-rmse:0.381783+0.0027969\ttest-rmse:0.394337+0.0109676\n",
      "[46]\ttrain-rmse:0.381095+0.00281599\ttest-rmse:0.394152+0.011084\n",
      "[47]\ttrain-rmse:0.380474+0.00292773\ttest-rmse:0.394111+0.0113163\n",
      "[48]\ttrain-rmse:0.379875+0.00289001\ttest-rmse:0.393983+0.011321\n",
      "[49]\ttrain-rmse:0.379424+0.00294479\ttest-rmse:0.393859+0.011413\n",
      "[50]\ttrain-rmse:0.379019+0.00300682\ttest-rmse:0.393853+0.0113908\n",
      "[51]\ttrain-rmse:0.378518+0.00315114\ttest-rmse:0.393886+0.0115206\n",
      "[52]\ttrain-rmse:0.378126+0.00324976\ttest-rmse:0.393906+0.0115319\n",
      "[53]\ttrain-rmse:0.377738+0.00333168\ttest-rmse:0.393976+0.0116093\n",
      "[54]\ttrain-rmse:0.377394+0.00328912\ttest-rmse:0.393973+0.0116113\n",
      "[55]\ttrain-rmse:0.377156+0.00323642\ttest-rmse:0.393994+0.0116223\n",
      "[56]\ttrain-rmse:0.376828+0.00323613\ttest-rmse:0.39402+0.011608\n",
      "[57]\ttrain-rmse:0.376524+0.00322369\ttest-rmse:0.394043+0.0117278\n",
      "[58]\ttrain-rmse:0.376184+0.00314235\ttest-rmse:0.394107+0.0118054\n",
      "[59]\ttrain-rmse:0.375824+0.00312702\ttest-rmse:0.394193+0.0118829\n",
      "[60]\ttrain-rmse:0.375476+0.00296426\ttest-rmse:0.394334+0.0119385\n",
      "[61]\ttrain-rmse:0.375212+0.00297064\ttest-rmse:0.394439+0.0119846\n",
      "[62]\ttrain-rmse:0.374896+0.00297845\ttest-rmse:0.394493+0.0119621\n",
      "[63]\ttrain-rmse:0.374685+0.00292605\ttest-rmse:0.394686+0.0119494\n",
      "[64]\ttrain-rmse:0.374413+0.00300022\ttest-rmse:0.394917+0.0120244\n",
      "[65]\ttrain-rmse:0.374068+0.00298449\ttest-rmse:0.395133+0.0120855\n",
      "[66]\ttrain-rmse:0.373856+0.00302425\ttest-rmse:0.395291+0.0120982\n",
      "[67]\ttrain-rmse:0.373695+0.00304443\ttest-rmse:0.395379+0.0121316\n",
      "[68]\ttrain-rmse:0.373398+0.00310925\ttest-rmse:0.395527+0.0122545\n",
      "[69]\ttrain-rmse:0.373134+0.00307526\ttest-rmse:0.395709+0.0123203\n",
      "[70]\ttrain-rmse:0.372884+0.00310451\ttest-rmse:0.395877+0.0122993\n",
      "[71]\ttrain-rmse:0.372673+0.0030737\ttest-rmse:0.395934+0.0122848\n",
      "[72]\ttrain-rmse:0.372446+0.00313061\ttest-rmse:0.396068+0.0123795\n",
      "[73]\ttrain-rmse:0.372251+0.00315622\ttest-rmse:0.396181+0.0124078\n",
      "[74]\ttrain-rmse:0.372057+0.00311073\ttest-rmse:0.396264+0.0123778\n",
      "[75]\ttrain-rmse:0.371866+0.00303207\ttest-rmse:0.39637+0.0124049\n",
      "[76]\ttrain-rmse:0.371653+0.00298601\ttest-rmse:0.396442+0.0123203\n",
      "[77]\ttrain-rmse:0.371423+0.00303854\ttest-rmse:0.396514+0.0122801\n",
      "[78]\ttrain-rmse:0.371257+0.00302134\ttest-rmse:0.396567+0.0122228\n",
      "[79]\ttrain-rmse:0.371057+0.00301355\ttest-rmse:0.396724+0.0122968\n"
     ]
    }
   ],
   "source": [
    "params = {}\n",
    "params['silent'] = 1\n",
    "params['objective'] = 'reg:linear'\n",
    "params['eval_metric'] = 'rmse'\n",
    "params[\"num_rounds\"] = 300\n",
    "params[\"early_stopping_rounds\"] = 30\n",
    "# params['min_child_weight'] = 2\n",
    "# params['max_depth'] = 6\n",
    "params['eta'] = 0.1\n",
    "params[\"subsample\"] = 0.8\n",
    "params[\"colsample_bytree\"] = 0.8\n",
    "\n",
    "cv_results = xgb.cv(params,train_matrix,\n",
    "                    num_boost_round = params[\"num_rounds\"],\n",
    "                    nfold = params.get('nfold',5),\n",
    "                    metrics = params['eval_metric'],\n",
    "                    early_stopping_rounds = params[\"early_stopping_rounds\"],\n",
    "                    verbose_eval = True,\n",
    "                    seed = seed)"
   ]
  },
  {
   "cell_type": "code",
   "execution_count": 102,
   "metadata": {
    "collapsed": false
   },
   "outputs": [
    {
     "data": {
      "text/plain": [
       "51"
      ]
     },
     "execution_count": 102,
     "metadata": {},
     "output_type": "execute_result"
    }
   ],
   "source": [
    "n_best_trees = cv_results.shape[0]\n",
    "n_best_trees"
   ]
  },
  {
   "cell_type": "code",
   "execution_count": 103,
   "metadata": {
    "collapsed": false
   },
   "outputs": [
    {
     "name": "stdout",
     "output_type": "stream",
     "text": [
      "[0]\ttrain-rmse:4.18652\n",
      "[1]\ttrain-rmse:3.7718\n",
      "[2]\ttrain-rmse:3.39899\n",
      "[3]\ttrain-rmse:3.06405\n",
      "[4]\ttrain-rmse:2.76338\n",
      "[5]\ttrain-rmse:2.49309\n",
      "[6]\ttrain-rmse:2.2502\n",
      "[7]\ttrain-rmse:2.03275\n",
      "[8]\ttrain-rmse:1.83821\n",
      "[9]\ttrain-rmse:1.66298\n",
      "[10]\ttrain-rmse:1.50632\n",
      "[11]\ttrain-rmse:1.36695\n",
      "[12]\ttrain-rmse:1.24272\n",
      "[13]\ttrain-rmse:1.13139\n",
      "[14]\ttrain-rmse:1.03263\n",
      "[15]\ttrain-rmse:0.945126\n",
      "[16]\ttrain-rmse:0.867597\n",
      "[17]\ttrain-rmse:0.799142\n",
      "[18]\ttrain-rmse:0.738963\n",
      "[19]\ttrain-rmse:0.686429\n",
      "[20]\ttrain-rmse:0.640935\n",
      "[21]\ttrain-rmse:0.601208\n",
      "[22]\ttrain-rmse:0.567061\n",
      "[23]\ttrain-rmse:0.537783\n",
      "[24]\ttrain-rmse:0.512454\n",
      "[25]\ttrain-rmse:0.491039\n",
      "[26]\ttrain-rmse:0.472882\n",
      "[27]\ttrain-rmse:0.457706\n",
      "[28]\ttrain-rmse:0.445087\n",
      "[29]\ttrain-rmse:0.434372\n",
      "[30]\ttrain-rmse:0.425419\n",
      "[31]\ttrain-rmse:0.417789\n",
      "[32]\ttrain-rmse:0.411698\n",
      "[33]\ttrain-rmse:0.406419\n",
      "[34]\ttrain-rmse:0.402231\n",
      "[35]\ttrain-rmse:0.398749\n",
      "[36]\ttrain-rmse:0.395766\n",
      "[37]\ttrain-rmse:0.393425\n",
      "[38]\ttrain-rmse:0.391436\n",
      "[39]\ttrain-rmse:0.389787\n",
      "[40]\ttrain-rmse:0.388485\n",
      "[41]\ttrain-rmse:0.387322\n",
      "[42]\ttrain-rmse:0.386323\n",
      "[43]\ttrain-rmse:0.385341\n",
      "[44]\ttrain-rmse:0.38461\n",
      "[45]\ttrain-rmse:0.384039\n",
      "[46]\ttrain-rmse:0.383435\n",
      "[47]\ttrain-rmse:0.382879\n",
      "[48]\ttrain-rmse:0.382337\n",
      "[49]\ttrain-rmse:0.381923\n",
      "[50]\ttrain-rmse:0.381533\n"
     ]
    }
   ],
   "source": [
    "# re-train on all the data\n",
    "watchlist = [(train_matrix, 'train')]\n",
    "gbt = xgb.train(params, train_matrix, n_best_trees,watchlist)"
   ]
  },
  {
   "cell_type": "markdown",
   "metadata": {},
   "source": [
    "## Evaluate"
   ]
  },
  {
   "cell_type": "code",
   "execution_count": 104,
   "metadata": {
    "collapsed": false
   },
   "outputs": [
    {
     "data": {
      "text/plain": [
       "0.39452086126117619"
      ]
     },
     "execution_count": 104,
     "metadata": {},
     "output_type": "execute_result"
    }
   ],
   "source": [
    "ytest_pred = gbt.predict(test_matrix, ntree_limit=n_best_trees)\n",
    "np.sqrt(mean_squared_error(ytest,ytest_pred))"
   ]
  },
  {
   "cell_type": "markdown",
   "metadata": {},
   "source": [
    "we can see that, <span style='color:orange;font-size:1.5em;font-weight:bold'>training RMSE is 0.38, and test set has RMSE 0.39, the difference isn't very high</span>. "
   ]
  },
  {
   "cell_type": "code",
   "execution_count": 105,
   "metadata": {
    "collapsed": false
   },
   "outputs": [
    {
     "data": {
      "text/plain": [
       "<matplotlib.axes._subplots.AxesSubplot at 0x1221d8810>"
      ]
     },
     "execution_count": 105,
     "metadata": {},
     "output_type": "execute_result"
    },
    {
     "data": {
      "image/png": "[encoded data removed]",
      "text/plain": [
       "<matplotlib.figure.Figure at 0x11e95ae50>"
      ]
     },
     "metadata": {},
     "output_type": "display_data"
    }
   ],
   "source": [
    "# check residual's distribution\n",
    "(ytest - ytest_pred).hist(bins=60)"
   ]
  },
  {
   "cell_type": "markdown",
   "metadata": {},
   "source": [
    "from above plot, we can see residuals' distribution is <span style='color:orange;font-size:1.5em;font-weight:bold'>nearly normal, although a little skewed</span>. Hence, the trained model is acceptable."
   ]
  },
  {
   "cell_type": "code",
   "execution_count": 106,
   "metadata": {
    "collapsed": true
   },
   "outputs": [],
   "source": [
    "gbt.save_model('gbt.model')"
   ]
  },
  {
   "cell_type": "markdown",
   "metadata": {},
   "source": [
    "# Answer question 4\n",
    "* <span style='color:blue'>Describe the main factors impacting employee salaries. </span>\n",
    "* <span style='color:blue'>Do you think the company has been treating its employees fairly? Do you see any bias?</span> \n",
    "* <span style='color:blue'>What are the next steps you would suggest to the Head of HR?</span>\n",
    "\n",
    "## Main factors impacting salaries"
   ]
  },
  {
   "cell_type": "code",
   "execution_count": 107,
   "metadata": {
    "collapsed": false
   },
   "outputs": [
    {
     "data": {
      "text/plain": [
       "<matplotlib.axes._subplots.AxesSubplot at 0x121706d10>"
      ]
     },
     "execution_count": 107,
     "metadata": {},
     "output_type": "execute_result"
    },
    {
     "data": {
      "image/png": "[encoded data removed]",
      "text/plain": [
       "<matplotlib.figure.Figure at 0x122ae6490>"
      ]
     },
     "metadata": {},
     "output_type": "display_data"
    }
   ],
   "source": [
    "xgb.plot_importance(gbt)"
   ]
  },
  {
   "cell_type": "markdown",
   "metadata": {},
   "source": [
    "from above plot of feature importance, we can see the main factors impacting salaries includes:\n",
    "* \"years of experience\". this is fair, more experienced deserve high salary\n",
    "* 'n_subordinates'. #subordinates has some relationship with level. higher level, more subordinates, more salary"
   ]
  },
  {
   "cell_type": "markdown",
   "metadata": {},
   "source": [
    "## Residuals Analysis"
   ]
  },
  {
   "cell_type": "code",
   "execution_count": 135,
   "metadata": {
    "collapsed": true
   },
   "outputs": [],
   "source": [
    "# predict on all data (except CEO) and calculate the bias\n",
    "whole_matrix = xgb.DMatrix(X)\n",
    "ypred = gbt.predict(whole_matrix)\n",
    "\n",
    "# since our prediction is log(salary), so we need to exp it to get the original salary (unit: k)\n",
    "predresult = pd.DataFrame({'ytrue': np.exp(y),'ypred': np.exp(ypred)})\n",
    "\n",
    "# if bias >0, means, that employee is over paid\n",
    "# otherwise, bias<0, means that employee is under paid\n",
    "predresult['bias'] = predresult.ytrue - predresult.ypred"
   ]
  },
  {
   "cell_type": "code",
   "execution_count": 136,
   "metadata": {
    "collapsed": false
   },
   "outputs": [
    {
     "data": {
      "text/html": [
       "<div>\n",
       "<table border=\"1\" class=\"dataframe\">\n",
       "  <thead>\n",
       "    <tr style=\"text-align: right;\">\n",
       "      <th></th>\n",
       "      <th>ypred</th>\n",
       "      <th>ytrue</th>\n",
       "      <th>bias</th>\n",
       "      <th>signing_bonus</th>\n",
       "      <th>salary</th>\n",
       "      <th>degree_level</th>\n",
       "      <th>sex</th>\n",
       "      <th>yrs_experience</th>\n",
       "      <th>boss_id</th>\n",
       "      <th>dept</th>\n",
       "      <th>level</th>\n",
       "      <th>n_subordinates</th>\n",
       "    </tr>\n",
       "    <tr>\n",
       "      <th>employee_id</th>\n",
       "      <th></th>\n",
       "      <th></th>\n",
       "      <th></th>\n",
       "      <th></th>\n",
       "      <th></th>\n",
       "      <th></th>\n",
       "      <th></th>\n",
       "      <th></th>\n",
       "      <th></th>\n",
       "      <th></th>\n",
       "      <th></th>\n",
       "      <th></th>\n",
       "    </tr>\n",
       "  </thead>\n",
       "  <tbody>\n",
       "    <tr>\n",
       "      <th>138719</th>\n",
       "      <td>219.381119</td>\n",
       "      <td>273.0</td>\n",
       "      <td>53.618881</td>\n",
       "      <td>0</td>\n",
       "      <td>273.0</td>\n",
       "      <td>Master</td>\n",
       "      <td>M</td>\n",
       "      <td>2</td>\n",
       "      <td>43602</td>\n",
       "      <td>engineering</td>\n",
       "      <td>IC</td>\n",
       "      <td>0</td>\n",
       "    </tr>\n",
       "    <tr>\n",
       "      <th>3192</th>\n",
       "      <td>168.007019</td>\n",
       "      <td>301.0</td>\n",
       "      <td>132.992981</td>\n",
       "      <td>0</td>\n",
       "      <td>301.0</td>\n",
       "      <td>Bachelor</td>\n",
       "      <td>F</td>\n",
       "      <td>1</td>\n",
       "      <td>87847</td>\n",
       "      <td>sales</td>\n",
       "      <td>IC</td>\n",
       "      <td>0</td>\n",
       "    </tr>\n",
       "    <tr>\n",
       "      <th>114657</th>\n",
       "      <td>171.739609</td>\n",
       "      <td>261.0</td>\n",
       "      <td>89.260391</td>\n",
       "      <td>0</td>\n",
       "      <td>261.0</td>\n",
       "      <td>Master</td>\n",
       "      <td>F</td>\n",
       "      <td>2</td>\n",
       "      <td>180854</td>\n",
       "      <td>sales</td>\n",
       "      <td>IC</td>\n",
       "      <td>0</td>\n",
       "    </tr>\n",
       "    <tr>\n",
       "      <th>29039</th>\n",
       "      <td>79.831192</td>\n",
       "      <td>86.0</td>\n",
       "      <td>6.168808</td>\n",
       "      <td>0</td>\n",
       "      <td>86.0</td>\n",
       "      <td>High_School</td>\n",
       "      <td>F</td>\n",
       "      <td>4</td>\n",
       "      <td>88370</td>\n",
       "      <td>HR</td>\n",
       "      <td>IC</td>\n",
       "      <td>0</td>\n",
       "    </tr>\n",
       "    <tr>\n",
       "      <th>118607</th>\n",
       "      <td>172.445160</td>\n",
       "      <td>126.0</td>\n",
       "      <td>-46.445160</td>\n",
       "      <td>0</td>\n",
       "      <td>126.0</td>\n",
       "      <td>Bachelor</td>\n",
       "      <td>F</td>\n",
       "      <td>3</td>\n",
       "      <td>23565</td>\n",
       "      <td>sales</td>\n",
       "      <td>IC</td>\n",
       "      <td>0</td>\n",
       "    </tr>\n",
       "  </tbody>\n",
       "</table>\n",
       "</div>"
      ],
      "text/plain": [
       "                  ypred  ytrue        bias  signing_bonus  salary  \\\n",
       "employee_id                                                         \n",
       "138719       219.381119  273.0   53.618881              0   273.0   \n",
       "3192         168.007019  301.0  132.992981              0   301.0   \n",
       "114657       171.739609  261.0   89.260391              0   261.0   \n",
       "29039         79.831192   86.0    6.168808              0    86.0   \n",
       "118607       172.445160  126.0  -46.445160              0   126.0   \n",
       "\n",
       "            degree_level sex  yrs_experience  boss_id         dept level  \\\n",
       "employee_id                                                                \n",
       "138719            Master   M               2    43602  engineering    IC   \n",
       "3192            Bachelor   F               1    87847        sales    IC   \n",
       "114657            Master   F               2   180854        sales    IC   \n",
       "29039        High_School   F               4    88370           HR    IC   \n",
       "118607          Bachelor   F               3    23565        sales    IC   \n",
       "\n",
       "             n_subordinates  \n",
       "employee_id                  \n",
       "138719                    0  \n",
       "3192                      0  \n",
       "114657                    0  \n",
       "29039                     0  \n",
       "118607                    0  "
      ]
     },
     "execution_count": 136,
     "metadata": {},
     "output_type": "execute_result"
    }
   ],
   "source": [
    "# join with employee's features\n",
    "predresult = predresult.join(employees)\n",
    "predresult.head() # glance"
   ]
  },
  {
   "cell_type": "code",
   "execution_count": 137,
   "metadata": {
    "collapsed": true
   },
   "outputs": [],
   "source": [
    "del predresult['ytrue'] # redundant with salary"
   ]
  },
  {
   "cell_type": "code",
   "execution_count": 138,
   "metadata": {
    "collapsed": false
   },
   "outputs": [
    {
     "data": {
      "text/plain": [
       "<matplotlib.axes._subplots.AxesSubplot at 0x1240ad8d0>"
      ]
     },
     "execution_count": 138,
     "metadata": {},
     "output_type": "execute_result"
    },
    {
     "data": {
      "image/png": "[encoded data removed]",
      "text/plain": [
       "<matplotlib.figure.Figure at 0x10b4da550>"
      ]
     },
     "metadata": {},
     "output_type": "display_data"
    }
   ],
   "source": [
    "predresult.bias.hist(bins=60)"
   ]
  },
  {
   "cell_type": "markdown",
   "metadata": {},
   "source": [
    "bias is nearly normal."
   ]
  },
  {
   "cell_type": "code",
   "execution_count": 168,
   "metadata": {
    "collapsed": false
   },
   "outputs": [
    {
     "data": {
      "text/plain": [
       "<matplotlib.text.Text at 0x1273b3550>"
      ]
     },
     "execution_count": 168,
     "metadata": {},
     "output_type": "execute_result"
    },
    {
     "data": {
      "image/png": "[encoded data removed]",
      "text/plain": [
       "<matplotlib.figure.Figure at 0x12648e5d0>"
      ]
     },
     "metadata": {},
     "output_type": "display_data"
    }
   ],
   "source": [
    "plt.scatter(predresult.salary,predresult.bias)\n",
    "plt.xlabel(\"true salary\")\n",
    "plt.ylabel(\"bias\")"
   ]
  },
  {
   "cell_type": "markdown",
   "metadata": {},
   "source": [
    "from above plot, we can see that, <span style='color:orange'>employee with high salary are more likely to be overpaid</span>."
   ]
  },
  {
   "cell_type": "code",
   "execution_count": 147,
   "metadata": {
    "collapsed": true
   },
   "outputs": [],
   "source": [
    "def chisquare_test_on_bias():\n",
    "    X = predresult.copy()\n",
    "    del X['ypred']\n",
    "    del X['salary']\n",
    "    del X['boss_id']\n",
    "\n",
    "    X['degree_level'] = X.degree_level.map(degree2index)\n",
    "    X['level'] = X.level.map(level2index)\n",
    "\n",
    "    X['is_male'] = (X.sex == 'M').astype(int)\n",
    "    del X['sex']\n",
    "\n",
    "    dept_lb_encoder = LabelEncoder()\n",
    "    X['dept'] = dept_lb_encoder.fit_transform(X.dept)\n",
    "    \n",
    "    y = (X.bias > 0)\n",
    "    del X['bias']\n",
    "    \n",
    "    scores,pvalues = chi2(X,y)\n",
    "    return pd.DataFrame({'score': scores, 'pvalue': pvalues},index = X.columns).sort_values(by='pvalue')"
   ]
  },
  {
   "cell_type": "code",
   "execution_count": 148,
   "metadata": {
    "collapsed": false
   },
   "outputs": [
    {
     "data": {
      "text/html": [
       "<div>\n",
       "<table border=\"1\" class=\"dataframe\">\n",
       "  <thead>\n",
       "    <tr style=\"text-align: right;\">\n",
       "      <th></th>\n",
       "      <th>pvalue</th>\n",
       "      <th>score</th>\n",
       "    </tr>\n",
       "  </thead>\n",
       "  <tbody>\n",
       "    <tr>\n",
       "      <th>n_subordinates</th>\n",
       "      <td>0.000000</td>\n",
       "      <td>4563.530908</td>\n",
       "    </tr>\n",
       "    <tr>\n",
       "      <th>dept</th>\n",
       "      <td>0.000017</td>\n",
       "      <td>18.549563</td>\n",
       "    </tr>\n",
       "    <tr>\n",
       "      <th>level</th>\n",
       "      <td>0.039367</td>\n",
       "      <td>4.244964</td>\n",
       "    </tr>\n",
       "    <tr>\n",
       "      <th>yrs_experience</th>\n",
       "      <td>0.133106</td>\n",
       "      <td>2.255896</td>\n",
       "    </tr>\n",
       "    <tr>\n",
       "      <th>signing_bonus</th>\n",
       "      <td>0.256245</td>\n",
       "      <td>1.288930</td>\n",
       "    </tr>\n",
       "    <tr>\n",
       "      <th>is_male</th>\n",
       "      <td>0.305783</td>\n",
       "      <td>1.048805</td>\n",
       "    </tr>\n",
       "    <tr>\n",
       "      <th>degree_level</th>\n",
       "      <td>0.325193</td>\n",
       "      <td>0.967944</td>\n",
       "    </tr>\n",
       "  </tbody>\n",
       "</table>\n",
       "</div>"
      ],
      "text/plain": [
       "                  pvalue        score\n",
       "n_subordinates  0.000000  4563.530908\n",
       "dept            0.000017    18.549563\n",
       "level           0.039367     4.244964\n",
       "yrs_experience  0.133106     2.255896\n",
       "signing_bonus   0.256245     1.288930\n",
       "is_male         0.305783     1.048805\n",
       "degree_level    0.325193     0.967944"
      ]
     },
     "execution_count": 148,
     "metadata": {},
     "output_type": "execute_result"
    }
   ],
   "source": [
    "chisquare_test_on_bias()"
   ]
  },
  {
   "cell_type": "markdown",
   "metadata": {},
   "source": [
    "<span style='color:orange;font-size:1.5em'>n_subordinates, department, level</span> are three factors impacting whether the employee is overpaid or underpaid."
   ]
  },
  {
   "cell_type": "code",
   "execution_count": 169,
   "metadata": {
    "collapsed": false
   },
   "outputs": [
    {
     "data": {
      "text/plain": [
       "<matplotlib.text.Text at 0x126b25050>"
      ]
     },
     "execution_count": 169,
     "metadata": {},
     "output_type": "execute_result"
    },
    {
     "data": {
      "image/png": "[encoded data removed]",
      "text/plain": [
       "<matplotlib.figure.Figure at 0x12673c650>"
      ]
     },
     "metadata": {},
     "output_type": "display_data"
    }
   ],
   "source": [
    "plt.figure(figsize=(10,5))\n",
    "plt.scatter(predresult.n_subordinates,predresult.bias)\n",
    "plt.xlabel(\"#subordinates\")\n",
    "plt.ylabel(\"bias\")"
   ]
  },
  {
   "cell_type": "markdown",
   "metadata": {},
   "source": [
    "from above plot, we can see that, <span style='color:orange'>more subordinates (i.e., higher level), more positive bias, means more likely to be overpaid.</span>"
   ]
  },
  {
   "cell_type": "markdown",
   "metadata": {},
   "source": [
    "## Is it fair? Any bias?\n",
    "I think, in large scope, the company treat its employee fairly. the difference among different sex and departments seems normal and fair enough. \n",
    "\n",
    "the only bias I can see is that, <span style='color:orange;font-size:1.5em'>the management level is likely to be overpaid. Higher the level, more likely to be overpaid.</span>"
   ]
  },
  {
   "cell_type": "markdown",
   "metadata": {},
   "source": [
    "## Suggestions to HR header"
   ]
  },
  {
   "cell_type": "markdown",
   "metadata": {},
   "source": [
    "I may suggest him/her considering ** lower down the salaries in high management level **, which may be more fair to the workforce."
   ]
  },
  {
   "cell_type": "code",
   "execution_count": null,
   "metadata": {
    "collapsed": true
   },
   "outputs": [],
   "source": []
  }
 ],
 "metadata": {
  "anaconda-cloud": {},
  "kernelspec": {
   "display_name": "Python [Root]",
   "language": "python",
   "name": "Python [Root]"
  },
  "language_info": {
   "codemirror_mode": {
    "name": "ipython",
    "version": 2
   },
   "file_extension": ".py",
   "mimetype": "text/x-python",
   "name": "python",
   "nbconvert_exporter": "python",
   "pygments_lexer": "ipython2",
   "version": "2.7.12"
  }
 },
 "nbformat": 4,
 "nbformat_minor": 0
}
