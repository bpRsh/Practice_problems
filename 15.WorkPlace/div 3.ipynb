{
 "cells": [
  {
   "cell_type": "code",
   "execution_count": 1,
   "metadata": {},
   "outputs": [
    {
     "name": "stderr",
     "output_type": "stream",
     "text": [
      "C:\\Users\\rwang\\AppData\\Local\\Continuum\\Miniconda2\\lib\\site-packages\\sklearn\\cross_validation.py:41: DeprecationWarning: This module was deprecated in version 0.18 in favor of the model_selection module into which all the refactored classes and functions are moved. Also note that the interface of the new CV iterators are different from that of this module. This module will be removed in 0.20.\n",
      "  \"This module will be removed in 0.20.\", DeprecationWarning)\n"
     ]
    }
   ],
   "source": [
    "import numpy as np\n",
    "import pandas as pd\n",
    "import scipy.stats as ss\n",
    "from sklearn.preprocessing import LabelEncoder\n",
    "from sklearn.cross_validation import  train_test_split\n",
    "from sklearn.metrics import mean_squared_error,mean_absolute_error,r2_score\n",
    "from sklearn.ensemble import RandomForestRegressor\n",
    "from sklearn.feature_selection import chi2\n",
    "import xgboost as xgb\n",
    "\n",
    "import matplotlib.pyplot as plt\n",
    "plt.style.use('ggplot')\n",
    "%matplotlib inline"
   ]
  },
  {
   "cell_type": "code",
   "execution_count": 2,
   "metadata": {
    "collapsed": true
   },
   "outputs": [],
   "source": [
    "hierarchy = pd.read_csv(\"company_hierarchy.csv\",index_col='employee_id')\n",
    "hierarchy['level'] = None # initialize \n",
    "\n",
    "# starting point\n",
    "hierarchy.loc[hierarchy.dept == 'CEO','level'] = 'CEO'\n",
    "\n",
    "# change all boss_id to integer\n",
    "hierarchy.loc[hierarchy.level == 'CEO','boss_id'] = -1\n",
    "hierarchy['boss_id'] = hierarchy.boss_id.astype(int)\n",
    "\n",
    "def set_level(boss_level,level):\n",
    "    boss_ids = hierarchy.loc[hierarchy.level == boss_level,:].index\n",
    "    is_subordinate = np.in1d(hierarchy.boss_id,boss_ids)\n",
    "    hierarchy.loc[is_subordinate,'level'] = level\n",
    "\n",
    "set_level('CEO','E')\n",
    "set_level('E','VP')\n",
    "set_level('VP','D')\n",
    "set_level('D','MM')\n",
    "set_level('MM','IC')"
   ]
  },
  {
   "cell_type": "code",
   "execution_count": 3,
   "metadata": {},
   "outputs": [
    {
     "data": {
      "text/plain": [
       "IC     9000\n",
       "MM      800\n",
       "D       160\n",
       "VP       35\n",
       "E         4\n",
       "CEO       1\n",
       "Name: level, dtype: int64"
      ]
     },
     "execution_count": 3,
     "metadata": {},
     "output_type": "execute_result"
    }
   ],
   "source": [
    "hierarchy.level.value_counts()"
   ]
  },
  {
   "cell_type": "code",
   "execution_count": 4,
   "metadata": {},
   "outputs": [
    {
     "data": {
      "text/html": [
       "<div>\n",
       "<style>\n",
       "    .dataframe thead tr:only-child th {\n",
       "        text-align: right;\n",
       "    }\n",
       "\n",
       "    .dataframe thead th {\n",
       "        text-align: left;\n",
       "    }\n",
       "\n",
       "    .dataframe tbody tr th {\n",
       "        vertical-align: top;\n",
       "    }\n",
       "</style>\n",
       "<table border=\"1\" class=\"dataframe\">\n",
       "  <thead>\n",
       "    <tr style=\"text-align: right;\">\n",
       "      <th></th>\n",
       "      <th>boss_id</th>\n",
       "      <th>dept</th>\n",
       "      <th>level</th>\n",
       "    </tr>\n",
       "    <tr>\n",
       "      <th>employee_id</th>\n",
       "      <th></th>\n",
       "      <th></th>\n",
       "      <th></th>\n",
       "    </tr>\n",
       "  </thead>\n",
       "  <tbody>\n",
       "    <tr>\n",
       "      <th>46456</th>\n",
       "      <td>175361</td>\n",
       "      <td>sales</td>\n",
       "      <td>IC</td>\n",
       "    </tr>\n",
       "    <tr>\n",
       "      <th>104708</th>\n",
       "      <td>29733</td>\n",
       "      <td>HR</td>\n",
       "      <td>IC</td>\n",
       "    </tr>\n",
       "    <tr>\n",
       "      <th>120853</th>\n",
       "      <td>41991</td>\n",
       "      <td>sales</td>\n",
       "      <td>IC</td>\n",
       "    </tr>\n",
       "    <tr>\n",
       "      <th>142630</th>\n",
       "      <td>171266</td>\n",
       "      <td>HR</td>\n",
       "      <td>MM</td>\n",
       "    </tr>\n",
       "    <tr>\n",
       "      <th>72711</th>\n",
       "      <td>198240</td>\n",
       "      <td>sales</td>\n",
       "      <td>IC</td>\n",
       "    </tr>\n",
       "  </tbody>\n",
       "</table>\n",
       "</div>"
      ],
      "text/plain": [
       "             boss_id   dept level\n",
       "employee_id                      \n",
       "46456         175361  sales    IC\n",
       "104708         29733     HR    IC\n",
       "120853         41991  sales    IC\n",
       "142630        171266     HR    MM\n",
       "72711         198240  sales    IC"
      ]
     },
     "execution_count": 4,
     "metadata": {},
     "output_type": "execute_result"
    }
   ],
   "source": [
    "hierarchy.head()"
   ]
  },
  {
   "cell_type": "code",
   "execution_count": 5,
   "metadata": {
    "collapsed": true
   },
   "outputs": [],
   "source": [
    "hierarchy['n_subordinates'] = 0 # initialize\n",
    "\n",
    "def __count_subordinates(s):\n",
    "    \"\"\"\n",
    "    s: stands for subordinates, it is a series\n",
    "    its value represents #subordinates that subordinate has\n",
    "    \"\"\"\n",
    "    n_direct_subordinates = s.shape[0]\n",
    "    n_indirect_subordinates = s.sum()\n",
    "    return n_direct_subordinates + n_indirect_subordinates\n",
    "\n",
    "def count_subordinates(subordinate_level):\n",
    "    num_subordinates = hierarchy.loc[hierarchy.level == subordinate_level,:].groupby('boss_id')['n_subordinates'].agg(__count_subordinates)\n",
    "    hierarchy.loc[num_subordinates.index,'n_subordinates'] = num_subordinates\n",
    "\n",
    "count_subordinates(subordinate_level=\"IC\")\n",
    "count_subordinates(subordinate_level=\"MM\")\n",
    "count_subordinates(subordinate_level=\"D\")\n",
    "count_subordinates(subordinate_level=\"VP\")\n",
    "count_subordinates(subordinate_level=\"E\")"
   ]
  },
  {
   "cell_type": "code",
   "execution_count": 6,
   "metadata": {},
   "outputs": [
    {
     "data": {
      "text/html": [
       "<div>\n",
       "<style>\n",
       "    .dataframe thead tr:only-child th {\n",
       "        text-align: right;\n",
       "    }\n",
       "\n",
       "    .dataframe thead th {\n",
       "        text-align: left;\n",
       "    }\n",
       "\n",
       "    .dataframe tbody tr th {\n",
       "        vertical-align: top;\n",
       "    }\n",
       "</style>\n",
       "<table border=\"1\" class=\"dataframe\">\n",
       "  <thead>\n",
       "    <tr style=\"text-align: right;\">\n",
       "      <th></th>\n",
       "      <th>boss_id</th>\n",
       "      <th>dept</th>\n",
       "      <th>level</th>\n",
       "      <th>n_subordinates</th>\n",
       "    </tr>\n",
       "    <tr>\n",
       "      <th>employee_id</th>\n",
       "      <th></th>\n",
       "      <th></th>\n",
       "      <th></th>\n",
       "      <th></th>\n",
       "    </tr>\n",
       "  </thead>\n",
       "  <tbody>\n",
       "    <tr>\n",
       "      <th>46456</th>\n",
       "      <td>175361</td>\n",
       "      <td>sales</td>\n",
       "      <td>IC</td>\n",
       "      <td>0</td>\n",
       "    </tr>\n",
       "    <tr>\n",
       "      <th>104708</th>\n",
       "      <td>29733</td>\n",
       "      <td>HR</td>\n",
       "      <td>IC</td>\n",
       "      <td>0</td>\n",
       "    </tr>\n",
       "    <tr>\n",
       "      <th>120853</th>\n",
       "      <td>41991</td>\n",
       "      <td>sales</td>\n",
       "      <td>IC</td>\n",
       "      <td>0</td>\n",
       "    </tr>\n",
       "    <tr>\n",
       "      <th>142630</th>\n",
       "      <td>171266</td>\n",
       "      <td>HR</td>\n",
       "      <td>MM</td>\n",
       "      <td>16</td>\n",
       "    </tr>\n",
       "    <tr>\n",
       "      <th>72711</th>\n",
       "      <td>198240</td>\n",
       "      <td>sales</td>\n",
       "      <td>IC</td>\n",
       "      <td>0</td>\n",
       "    </tr>\n",
       "  </tbody>\n",
       "</table>\n",
       "</div>"
      ],
      "text/plain": [
       "             boss_id   dept level  n_subordinates\n",
       "employee_id                                      \n",
       "46456         175361  sales    IC               0\n",
       "104708         29733     HR    IC               0\n",
       "120853         41991  sales    IC               0\n",
       "142630        171266     HR    MM              16\n",
       "72711         198240  sales    IC               0"
      ]
     },
     "execution_count": 6,
     "metadata": {},
     "output_type": "execute_result"
    }
   ],
   "source": [
    "hierarchy.head()"
   ]
  },
  {
   "cell_type": "code",
   "execution_count": 7,
   "metadata": {
    "collapsed": true
   },
   "outputs": [],
   "source": [
    "employees = pd.read_csv(\"employee.csv\",index_col=\"employee_id\")\n",
    "employees[\"salary\"] /= 1000"
   ]
  },
  {
   "cell_type": "code",
   "execution_count": 8,
   "metadata": {
    "collapsed": true
   },
   "outputs": [],
   "source": [
    "\n",
    "employees = employees.join(hierarchy)\n",
    "employees.to_csv(\"all_employees.csv\",index_label=\"employee_id\")"
   ]
  },
  {
   "cell_type": "code",
   "execution_count": 9,
   "metadata": {},
   "outputs": [
    {
     "data": {
      "text/html": [
       "<div>\n",
       "<style>\n",
       "    .dataframe thead tr:only-child th {\n",
       "        text-align: right;\n",
       "    }\n",
       "\n",
       "    .dataframe thead th {\n",
       "        text-align: left;\n",
       "    }\n",
       "\n",
       "    .dataframe tbody tr th {\n",
       "        vertical-align: top;\n",
       "    }\n",
       "</style>\n",
       "<table border=\"1\" class=\"dataframe\">\n",
       "  <thead>\n",
       "    <tr style=\"text-align: right;\">\n",
       "      <th></th>\n",
       "      <th>signing_bonus</th>\n",
       "      <th>salary</th>\n",
       "      <th>degree_level</th>\n",
       "      <th>sex</th>\n",
       "      <th>yrs_experience</th>\n",
       "      <th>boss_id</th>\n",
       "      <th>dept</th>\n",
       "      <th>level</th>\n",
       "      <th>n_subordinates</th>\n",
       "    </tr>\n",
       "    <tr>\n",
       "      <th>employee_id</th>\n",
       "      <th></th>\n",
       "      <th></th>\n",
       "      <th></th>\n",
       "      <th></th>\n",
       "      <th></th>\n",
       "      <th></th>\n",
       "      <th></th>\n",
       "      <th></th>\n",
       "      <th></th>\n",
       "    </tr>\n",
       "  </thead>\n",
       "  <tbody>\n",
       "    <tr>\n",
       "      <th>138719</th>\n",
       "      <td>0</td>\n",
       "      <td>273.0</td>\n",
       "      <td>Master</td>\n",
       "      <td>M</td>\n",
       "      <td>2</td>\n",
       "      <td>43602</td>\n",
       "      <td>engineering</td>\n",
       "      <td>IC</td>\n",
       "      <td>0</td>\n",
       "    </tr>\n",
       "    <tr>\n",
       "      <th>3192</th>\n",
       "      <td>0</td>\n",
       "      <td>301.0</td>\n",
       "      <td>Bachelor</td>\n",
       "      <td>F</td>\n",
       "      <td>1</td>\n",
       "      <td>87847</td>\n",
       "      <td>sales</td>\n",
       "      <td>IC</td>\n",
       "      <td>0</td>\n",
       "    </tr>\n",
       "    <tr>\n",
       "      <th>114657</th>\n",
       "      <td>0</td>\n",
       "      <td>261.0</td>\n",
       "      <td>Master</td>\n",
       "      <td>F</td>\n",
       "      <td>2</td>\n",
       "      <td>180854</td>\n",
       "      <td>sales</td>\n",
       "      <td>IC</td>\n",
       "      <td>0</td>\n",
       "    </tr>\n",
       "    <tr>\n",
       "      <th>29039</th>\n",
       "      <td>0</td>\n",
       "      <td>86.0</td>\n",
       "      <td>High_School</td>\n",
       "      <td>F</td>\n",
       "      <td>4</td>\n",
       "      <td>88370</td>\n",
       "      <td>HR</td>\n",
       "      <td>IC</td>\n",
       "      <td>0</td>\n",
       "    </tr>\n",
       "    <tr>\n",
       "      <th>118607</th>\n",
       "      <td>0</td>\n",
       "      <td>126.0</td>\n",
       "      <td>Bachelor</td>\n",
       "      <td>F</td>\n",
       "      <td>3</td>\n",
       "      <td>23565</td>\n",
       "      <td>sales</td>\n",
       "      <td>IC</td>\n",
       "      <td>0</td>\n",
       "    </tr>\n",
       "  </tbody>\n",
       "</table>\n",
       "</div>"
      ],
      "text/plain": [
       "             signing_bonus  salary degree_level sex  yrs_experience  boss_id  \\\n",
       "employee_id                                                                    \n",
       "138719                   0   273.0       Master   M               2    43602   \n",
       "3192                     0   301.0     Bachelor   F               1    87847   \n",
       "114657                   0   261.0       Master   F               2   180854   \n",
       "29039                    0    86.0  High_School   F               4    88370   \n",
       "118607                   0   126.0     Bachelor   F               3    23565   \n",
       "\n",
       "                    dept level  n_subordinates  \n",
       "employee_id                                     \n",
       "138719       engineering    IC               0  \n",
       "3192               sales    IC               0  \n",
       "114657             sales    IC               0  \n",
       "29039                 HR    IC               0  \n",
       "118607             sales    IC               0  "
      ]
     },
     "execution_count": 9,
     "metadata": {},
     "output_type": "execute_result"
    }
   ],
   "source": [
    "employees.head()"
   ]
  },
  {
   "cell_type": "code",
   "execution_count": 10,
   "metadata": {
    "collapsed": true
   },
   "outputs": [],
   "source": [
    "employees['Gender'] = employees['sex'].map( {'F': 0, 'M': 1} ).astype(int)"
   ]
  },
  {
   "cell_type": "code",
   "execution_count": 11,
   "metadata": {
    "collapsed": true
   },
   "outputs": [],
   "source": [
    "dept = pd.get_dummies(employees['dept'],prefix = 'dept')\n",
    "employees = pd.concat([employees,dept],axis = 1)\n"
   ]
  },
  {
   "cell_type": "code",
   "execution_count": 12,
   "metadata": {
    "collapsed": true
   },
   "outputs": [],
   "source": [
    "level = pd.get_dummies(employees['level'],prefix = 'level')\n",
    "employees = pd.concat([employees,level],axis = 1)"
   ]
  },
  {
   "cell_type": "code",
   "execution_count": 13,
   "metadata": {
    "collapsed": true
   },
   "outputs": [],
   "source": [
    "degree_level = pd.get_dummies(employees['degree_level'],prefix = 'degree_level')\n",
    "employees = pd.concat([employees,degree_level],axis = 1)"
   ]
  },
  {
   "cell_type": "code",
   "execution_count": 15,
   "metadata": {},
   "outputs": [
    {
     "name": "stdout",
     "output_type": "stream",
     "text": [
      "<class 'pandas.core.frame.DataFrame'>\n",
      "Int64Index: 10000 entries, 138719 to 72227\n",
      "Data columns (total 25 columns):\n",
      "signing_bonus               10000 non-null int64\n",
      "salary                      10000 non-null float64\n",
      "degree_level                10000 non-null object\n",
      "sex                         10000 non-null object\n",
      "yrs_experience              10000 non-null int64\n",
      "boss_id                     10000 non-null int32\n",
      "dept                        10000 non-null object\n",
      "level                       10000 non-null object\n",
      "n_subordinates              10000 non-null int64\n",
      "Gender                      10000 non-null int32\n",
      "dept_CEO                    10000 non-null uint8\n",
      "dept_HR                     10000 non-null uint8\n",
      "dept_engineering            10000 non-null uint8\n",
      "dept_marketing              10000 non-null uint8\n",
      "dept_sales                  10000 non-null uint8\n",
      "level_CEO                   10000 non-null uint8\n",
      "level_D                     10000 non-null uint8\n",
      "level_E                     10000 non-null uint8\n",
      "level_IC                    10000 non-null uint8\n",
      "level_MM                    10000 non-null uint8\n",
      "level_VP                    10000 non-null uint8\n",
      "degree_level_Bachelor       10000 non-null uint8\n",
      "degree_level_High_School    10000 non-null uint8\n",
      "degree_level_Master         10000 non-null uint8\n",
      "degree_level_PhD            10000 non-null uint8\n",
      "dtypes: float64(1), int32(2), int64(3), object(4), uint8(15)\n",
      "memory usage: 1.2+ MB\n"
     ]
    }
   ],
   "source": [
    "employees.info()"
   ]
  },
  {
   "cell_type": "code",
   "execution_count": 68,
   "metadata": {
    "collapsed": true
   },
   "outputs": [],
   "source": [
    "y = employees['salary']\n",
    "X = employees[['signing_bonus','yrs_experience','n_subordinates','Gender','dept_HR','dept_engineering','dept_marketing','dept_sales',\n",
    "              'level_D','level_E','level_IC','level_MM','level_VP','degree_level_Bachelor','degree_level_Master','degree_level_PhD']]"
   ]
  },
  {
   "cell_type": "code",
   "execution_count": 52,
   "metadata": {},
   "outputs": [
    {
     "name": "stdout",
     "output_type": "stream",
     "text": [
      "                            OLS Regression Results                            \n",
      "==============================================================================\n",
      "Dep. Variable:                 salary   R-squared:                       0.882\n",
      "Model:                            OLS   Adj. R-squared:                  0.882\n",
      "Method:                 Least Squares   F-statistic:                     8328.\n",
      "Date:                Sat, 14 Oct 2017   Prob (F-statistic):               0.00\n",
      "Time:                        21:22:39   Log-Likelihood:                -56911.\n",
      "No. Observations:               10000   AIC:                         1.138e+05\n",
      "Df Residuals:                    9991   BIC:                         1.139e+05\n",
      "Df Model:                           9                                         \n",
      "Covariance Type:            nonrobust                                         \n",
      "====================================================================================\n",
      "                       coef    std err          t      P>|t|      [0.025      0.975]\n",
      "------------------------------------------------------------------------------------\n",
      "n_subordinates       0.0691      0.007      9.772      0.000       0.055       0.083\n",
      "dept_HR             35.9610      5.046      7.127      0.000      26.071      45.851\n",
      "dept_engineering   194.9686      4.965     39.265      0.000     185.235     204.702\n",
      "dept_marketing     145.9645      5.007     29.154      0.000     136.150     155.779\n",
      "dept_sales         145.8611      4.936     29.553      0.000     136.186     155.536\n",
      "level_D             67.5744      6.816      9.914      0.000      54.214      80.935\n",
      "level_E            259.0949     35.442      7.310      0.000     189.622     328.568\n",
      "level_IC            47.3836      4.865      9.739      0.000      37.847      56.920\n",
      "level_MM            51.4221      5.279      9.740      0.000      41.073      61.771\n",
      "level_VP            97.2803     11.511      8.451      0.000      74.717     119.844\n",
      "==============================================================================\n",
      "Omnibus:                       55.776   Durbin-Watson:                   1.982\n",
      "Prob(Omnibus):                  0.000   Jarque-Bera (JB):               48.706\n",
      "Skew:                           0.120   Prob(JB):                     2.65e-11\n",
      "Kurtosis:                       2.756   Cond. No.                     1.07e+17\n",
      "==============================================================================\n",
      "\n",
      "Warnings:\n",
      "[1] Standard Errors assume that the covariance matrix of the errors is correctly specified.\n",
      "[2] The smallest eigenvalue is 1.14e-26. This might indicate that there are\n",
      "strong multicollinearity problems or that the design matrix is singular.\n"
     ]
    }
   ],
   "source": [
    "import statsmodels.formula.api as smf\n",
    "model = smf.OLS(y, X)\n",
    "results = model.fit()\n",
    "# Statsmodels gives R-like statistical output\n",
    "print(results.summary())"
   ]
  },
  {
   "cell_type": "markdown",
   "metadata": {},
   "source": [
    "engineering dept have more salary than other depts.However, HR dept has way lower salary than others. E have much higher salary. n_subordinates contribute very little to the salary, which is not fair. "
   ]
  },
  {
   "cell_type": "code",
   "execution_count": 48,
   "metadata": {},
   "outputs": [],
   "source": [
    "results = results.pvalues.reset_index()"
   ]
  },
  {
   "cell_type": "code",
   "execution_count": 49,
   "metadata": {},
   "outputs": [],
   "source": [
    "results.columns = ['feature','pvalue']"
   ]
  },
  {
   "cell_type": "code",
   "execution_count": 50,
   "metadata": {},
   "outputs": [],
   "source": [
    "del X[results.loc[results['pvalue'].argmax()].tolist()[0]]"
   ]
  },
  {
   "cell_type": "code",
   "execution_count": 51,
   "metadata": {},
   "outputs": [
    {
     "name": "stdout",
     "output_type": "stream",
     "text": [
      "<class 'pandas.core.frame.DataFrame'>\n",
      "Int64Index: 10000 entries, 138719 to 72227\n",
      "Data columns (total 10 columns):\n",
      "n_subordinates      10000 non-null int64\n",
      "dept_HR             10000 non-null uint8\n",
      "dept_engineering    10000 non-null uint8\n",
      "dept_marketing      10000 non-null uint8\n",
      "dept_sales          10000 non-null uint8\n",
      "level_D             10000 non-null uint8\n",
      "level_E             10000 non-null uint8\n",
      "level_IC            10000 non-null uint8\n",
      "level_MM            10000 non-null uint8\n",
      "level_VP            10000 non-null uint8\n",
      "dtypes: int64(1), uint8(9)\n",
      "memory usage: 564.1 KB\n"
     ]
    }
   ],
   "source": [
    "X.info()"
   ]
  },
  {
   "cell_type": "code",
   "execution_count": 64,
   "metadata": {},
   "outputs": [
    {
     "data": {
      "text/plain": [
       "LinearRegression(copy_X=True, fit_intercept=True, n_jobs=1, normalize=False)"
      ]
     },
     "execution_count": 64,
     "metadata": {},
     "output_type": "execute_result"
    }
   ],
   "source": [
    "from sklearn.linear_model import LinearRegression\n",
    "lm = LinearRegression()\n",
    "lm.fit(X, y)"
   ]
  },
  {
   "cell_type": "code",
   "execution_count": 65,
   "metadata": {
    "collapsed": true
   },
   "outputs": [],
   "source": [
    "feature_cols = X.columns.tolist()"
   ]
  },
  {
   "cell_type": "code",
   "execution_count": 66,
   "metadata": {},
   "outputs": [
    {
     "data": {
      "text/plain": [
       "[('n_subordinates', 0.037340337148121995),\n",
       " ('Gender', -0.82070429727607652),\n",
       " ('dept_HR', -135.77546205769562),\n",
       " ('dept_engineering', 23.556857924565168),\n",
       " ('dept_marketing', -25.52980100707245),\n",
       " ('dept_sales', -25.598774710735086),\n",
       " ('level_D', -85.852969961451706),\n",
       " ('level_E', 183.19348258361799),\n",
       " ('level_IC', -108.04520888869665),\n",
       " ('level_MM', -103.62405908849516),\n",
       " ('level_VP', -49.018424495905073)]"
      ]
     },
     "execution_count": 66,
     "metadata": {},
     "output_type": "execute_result"
    }
   ],
   "source": [
    "zip(feature_cols, lm.coef_)"
   ]
  },
  {
   "cell_type": "code",
   "execution_count": 67,
   "metadata": {},
   "outputs": [
    {
     "data": {
      "text/plain": [
       "0.35103075207980539"
      ]
     },
     "execution_count": 67,
     "metadata": {},
     "output_type": "execute_result"
    }
   ],
   "source": [
    "lm.score(X, y)"
   ]
  },
  {
   "cell_type": "code",
   "execution_count": 69,
   "metadata": {},
   "outputs": [
    {
     "data": {
      "text/plain": [
       "Ridge(alpha=1.0, copy_X=True, fit_intercept=True, max_iter=None,\n",
       "   normalize=False, random_state=None, solver='auto', tol=0.001)"
      ]
     },
     "execution_count": 69,
     "metadata": {},
     "output_type": "execute_result"
    }
   ],
   "source": [
    "from sklearn.linear_model import Ridge\n",
    "ri = Ridge()\n",
    "ri.fit(X, y)"
   ]
  },
  {
   "cell_type": "code",
   "execution_count": 70,
   "metadata": {},
   "outputs": [
    {
     "data": {
      "text/plain": [
       "0.3512586158838924"
      ]
     },
     "execution_count": 70,
     "metadata": {},
     "output_type": "execute_result"
    }
   ],
   "source": [
    "ri.score(X, y)"
   ]
  },
  {
   "cell_type": "code",
   "execution_count": 71,
   "metadata": {},
   "outputs": [
    {
     "data": {
      "text/plain": [
       "Lasso(alpha=1.0, copy_X=True, fit_intercept=True, max_iter=1000,\n",
       "   normalize=False, positive=False, precompute=False, random_state=None,\n",
       "   selection='cyclic', tol=0.0001, warm_start=False)"
      ]
     },
     "execution_count": 71,
     "metadata": {},
     "output_type": "execute_result"
    }
   ],
   "source": [
    "from sklearn.linear_model import Lasso\n",
    "la = Lasso()\n",
    "la.fit(X, y)"
   ]
  },
  {
   "cell_type": "code",
   "execution_count": 72,
   "metadata": {},
   "outputs": [
    {
     "data": {
      "text/plain": [
       "0.34691251639645349"
      ]
     },
     "execution_count": 72,
     "metadata": {},
     "output_type": "execute_result"
    }
   ],
   "source": [
    "la.score(X, y)"
   ]
  },
  {
   "cell_type": "code",
   "execution_count": null,
   "metadata": {
    "collapsed": true
   },
   "outputs": [],
   "source": []
  }
 ],
 "metadata": {
  "kernelspec": {
   "display_name": "Python 2",
   "language": "python",
   "name": "python2"
  },
  "language_info": {
   "codemirror_mode": {
    "name": "ipython",
    "version": 2
   },
   "file_extension": ".py",
   "mimetype": "text/x-python",
   "name": "python",
   "nbconvert_exporter": "python",
   "pygments_lexer": "ipython2",
   "version": "2.7.13"
  }
 },
 "nbformat": 4,
 "nbformat_minor": 2
}
