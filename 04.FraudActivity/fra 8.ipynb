{
 "cells": [
  {
   "cell_type": "code",
   "execution_count": 38,
   "metadata": {
    "collapsed": false,
    "deletable": true,
    "editable": true
   },
   "outputs": [],
   "source": [
    "# Import Modules\n",
    "\n",
    "# Data\n",
    "import pandas as pd\n",
    "\n",
    "# Math and visualization\n",
    "import numpy as np\n",
    "import matplotlib.pyplot as plt\n",
    "plt.style.use('ggplot')\n",
    "%matplotlib inline\n",
    "\n",
    "# ML\n",
    "from sklearn.ensemble import RandomForestClassifier\n",
    "from sklearn.cross_validation import train_test_split\n",
    "from sklearn.metrics import classification_report, roc_curve, accuracy_score\n",
    "\n",
    "# Python\n",
    "import bisect"
   ]
  },
  {
   "cell_type": "code",
   "execution_count": 2,
   "metadata": {
    "collapsed": true,
    "deletable": true,
    "editable": true
   },
   "outputs": [],
   "source": [
    "# Load the dataset\n",
    "fraud_df = pd.read_csv(\"Fraud/Fraud_Data.csv\")\n",
    "ipaddress_df = pd.read_csv(\"Fraud/IpAddress_to_Country.csv\")"
   ]
  },
  {
   "cell_type": "code",
   "execution_count": 3,
   "metadata": {
    "collapsed": false,
    "deletable": true,
    "editable": true
   },
   "outputs": [
    {
     "data": {
      "text/html": [
       "<div>\n",
       "<table border=\"1\" class=\"dataframe\">\n",
       "  <thead>\n",
       "    <tr style=\"text-align: right;\">\n",
       "      <th></th>\n",
       "      <th>user_id</th>\n",
       "      <th>signup_time</th>\n",
       "      <th>purchase_time</th>\n",
       "      <th>purchase_value</th>\n",
       "      <th>device_id</th>\n",
       "      <th>source</th>\n",
       "      <th>browser</th>\n",
       "      <th>sex</th>\n",
       "      <th>age</th>\n",
       "      <th>ip_address</th>\n",
       "      <th>class</th>\n",
       "    </tr>\n",
       "  </thead>\n",
       "  <tbody>\n",
       "    <tr>\n",
       "      <th>0</th>\n",
       "      <td>22058</td>\n",
       "      <td>2015-02-24 22:55:49</td>\n",
       "      <td>2015-04-18 02:47:11</td>\n",
       "      <td>34</td>\n",
       "      <td>QVPSPJUOCKZAR</td>\n",
       "      <td>SEO</td>\n",
       "      <td>Chrome</td>\n",
       "      <td>M</td>\n",
       "      <td>39</td>\n",
       "      <td>7.327584e+08</td>\n",
       "      <td>0</td>\n",
       "    </tr>\n",
       "    <tr>\n",
       "      <th>1</th>\n",
       "      <td>333320</td>\n",
       "      <td>2015-06-07 20:39:50</td>\n",
       "      <td>2015-06-08 01:38:54</td>\n",
       "      <td>16</td>\n",
       "      <td>EOGFQPIZPYXFZ</td>\n",
       "      <td>Ads</td>\n",
       "      <td>Chrome</td>\n",
       "      <td>F</td>\n",
       "      <td>53</td>\n",
       "      <td>3.503114e+08</td>\n",
       "      <td>0</td>\n",
       "    </tr>\n",
       "    <tr>\n",
       "      <th>2</th>\n",
       "      <td>1359</td>\n",
       "      <td>2015-01-01 18:52:44</td>\n",
       "      <td>2015-01-01 18:52:45</td>\n",
       "      <td>15</td>\n",
       "      <td>YSSKYOSJHPPLJ</td>\n",
       "      <td>SEO</td>\n",
       "      <td>Opera</td>\n",
       "      <td>M</td>\n",
       "      <td>53</td>\n",
       "      <td>2.621474e+09</td>\n",
       "      <td>1</td>\n",
       "    </tr>\n",
       "    <tr>\n",
       "      <th>3</th>\n",
       "      <td>150084</td>\n",
       "      <td>2015-04-28 21:13:25</td>\n",
       "      <td>2015-05-04 13:54:50</td>\n",
       "      <td>44</td>\n",
       "      <td>ATGTXKYKUDUQN</td>\n",
       "      <td>SEO</td>\n",
       "      <td>Safari</td>\n",
       "      <td>M</td>\n",
       "      <td>41</td>\n",
       "      <td>3.840542e+09</td>\n",
       "      <td>0</td>\n",
       "    </tr>\n",
       "    <tr>\n",
       "      <th>4</th>\n",
       "      <td>221365</td>\n",
       "      <td>2015-07-21 07:09:52</td>\n",
       "      <td>2015-09-09 18:40:53</td>\n",
       "      <td>39</td>\n",
       "      <td>NAUITBZFJKHWW</td>\n",
       "      <td>Ads</td>\n",
       "      <td>Safari</td>\n",
       "      <td>M</td>\n",
       "      <td>45</td>\n",
       "      <td>4.155831e+08</td>\n",
       "      <td>0</td>\n",
       "    </tr>\n",
       "  </tbody>\n",
       "</table>\n",
       "</div>"
      ],
      "text/plain": [
       "   user_id          signup_time        purchase_time  purchase_value  \\\n",
       "0    22058  2015-02-24 22:55:49  2015-04-18 02:47:11              34   \n",
       "1   333320  2015-06-07 20:39:50  2015-06-08 01:38:54              16   \n",
       "2     1359  2015-01-01 18:52:44  2015-01-01 18:52:45              15   \n",
       "3   150084  2015-04-28 21:13:25  2015-05-04 13:54:50              44   \n",
       "4   221365  2015-07-21 07:09:52  2015-09-09 18:40:53              39   \n",
       "\n",
       "       device_id source browser sex  age    ip_address  class  \n",
       "0  QVPSPJUOCKZAR    SEO  Chrome   M   39  7.327584e+08      0  \n",
       "1  EOGFQPIZPYXFZ    Ads  Chrome   F   53  3.503114e+08      0  \n",
       "2  YSSKYOSJHPPLJ    SEO   Opera   M   53  2.621474e+09      1  \n",
       "3  ATGTXKYKUDUQN    SEO  Safari   M   41  3.840542e+09      0  \n",
       "4  NAUITBZFJKHWW    Ads  Safari   M   45  4.155831e+08      0  "
      ]
     },
     "execution_count": 3,
     "metadata": {},
     "output_type": "execute_result"
    }
   ],
   "source": [
    "# Preview the data and get some insight\n",
    "fraud_df.head()"
   ]
  },
  {
   "cell_type": "code",
   "execution_count": 4,
   "metadata": {
    "collapsed": false,
    "deletable": true,
    "editable": true
   },
   "outputs": [
    {
     "data": {
      "text/html": [
       "<div>\n",
       "<table border=\"1\" class=\"dataframe\">\n",
       "  <thead>\n",
       "    <tr style=\"text-align: right;\">\n",
       "      <th></th>\n",
       "      <th>user_id</th>\n",
       "      <th>purchase_value</th>\n",
       "      <th>age</th>\n",
       "      <th>ip_address</th>\n",
       "      <th>class</th>\n",
       "    </tr>\n",
       "  </thead>\n",
       "  <tbody>\n",
       "    <tr>\n",
       "      <th>count</th>\n",
       "      <td>151112.000000</td>\n",
       "      <td>151112.000000</td>\n",
       "      <td>151112.000000</td>\n",
       "      <td>1.511120e+05</td>\n",
       "      <td>151112.000000</td>\n",
       "    </tr>\n",
       "    <tr>\n",
       "      <th>mean</th>\n",
       "      <td>200171.040970</td>\n",
       "      <td>36.935372</td>\n",
       "      <td>33.140704</td>\n",
       "      <td>2.152145e+09</td>\n",
       "      <td>0.093646</td>\n",
       "    </tr>\n",
       "    <tr>\n",
       "      <th>std</th>\n",
       "      <td>115369.285024</td>\n",
       "      <td>18.322762</td>\n",
       "      <td>8.617733</td>\n",
       "      <td>1.248497e+09</td>\n",
       "      <td>0.291336</td>\n",
       "    </tr>\n",
       "    <tr>\n",
       "      <th>min</th>\n",
       "      <td>2.000000</td>\n",
       "      <td>9.000000</td>\n",
       "      <td>18.000000</td>\n",
       "      <td>5.209350e+04</td>\n",
       "      <td>0.000000</td>\n",
       "    </tr>\n",
       "    <tr>\n",
       "      <th>25%</th>\n",
       "      <td>100642.500000</td>\n",
       "      <td>22.000000</td>\n",
       "      <td>27.000000</td>\n",
       "      <td>1.085934e+09</td>\n",
       "      <td>0.000000</td>\n",
       "    </tr>\n",
       "    <tr>\n",
       "      <th>50%</th>\n",
       "      <td>199958.000000</td>\n",
       "      <td>35.000000</td>\n",
       "      <td>33.000000</td>\n",
       "      <td>2.154770e+09</td>\n",
       "      <td>0.000000</td>\n",
       "    </tr>\n",
       "    <tr>\n",
       "      <th>75%</th>\n",
       "      <td>300054.000000</td>\n",
       "      <td>49.000000</td>\n",
       "      <td>39.000000</td>\n",
       "      <td>3.243258e+09</td>\n",
       "      <td>0.000000</td>\n",
       "    </tr>\n",
       "    <tr>\n",
       "      <th>max</th>\n",
       "      <td>400000.000000</td>\n",
       "      <td>154.000000</td>\n",
       "      <td>76.000000</td>\n",
       "      <td>4.294850e+09</td>\n",
       "      <td>1.000000</td>\n",
       "    </tr>\n",
       "  </tbody>\n",
       "</table>\n",
       "</div>"
      ],
      "text/plain": [
       "             user_id  purchase_value            age    ip_address  \\\n",
       "count  151112.000000   151112.000000  151112.000000  1.511120e+05   \n",
       "mean   200171.040970       36.935372      33.140704  2.152145e+09   \n",
       "std    115369.285024       18.322762       8.617733  1.248497e+09   \n",
       "min         2.000000        9.000000      18.000000  5.209350e+04   \n",
       "25%    100642.500000       22.000000      27.000000  1.085934e+09   \n",
       "50%    199958.000000       35.000000      33.000000  2.154770e+09   \n",
       "75%    300054.000000       49.000000      39.000000  3.243258e+09   \n",
       "max    400000.000000      154.000000      76.000000  4.294850e+09   \n",
       "\n",
       "               class  \n",
       "count  151112.000000  \n",
       "mean        0.093646  \n",
       "std         0.291336  \n",
       "min         0.000000  \n",
       "25%         0.000000  \n",
       "50%         0.000000  \n",
       "75%         0.000000  \n",
       "max         1.000000  "
      ]
     },
     "execution_count": 4,
     "metadata": {},
     "output_type": "execute_result"
    }
   ],
   "source": [
    "fraud_df.describe()"
   ]
  },
  {
   "cell_type": "code",
   "execution_count": 5,
   "metadata": {
    "collapsed": false,
    "deletable": true,
    "editable": true
   },
   "outputs": [
    {
     "name": "stdout",
     "output_type": "stream",
     "text": [
      "<class 'pandas.core.frame.DataFrame'>\n",
      "RangeIndex: 151112 entries, 0 to 151111\n",
      "Data columns (total 11 columns):\n",
      "user_id           151112 non-null int64\n",
      "signup_time       151112 non-null object\n",
      "purchase_time     151112 non-null object\n",
      "purchase_value    151112 non-null int64\n",
      "device_id         151112 non-null object\n",
      "source            151112 non-null object\n",
      "browser           151112 non-null object\n",
      "sex               151112 non-null object\n",
      "age               151112 non-null int64\n",
      "ip_address        151112 non-null float64\n",
      "class             151112 non-null int64\n",
      "dtypes: float64(1), int64(4), object(6)\n",
      "memory usage: 12.7+ MB\n"
     ]
    }
   ],
   "source": [
    "fraud_df.info()"
   ]
  },
  {
   "cell_type": "code",
   "execution_count": 6,
   "metadata": {
    "collapsed": false,
    "deletable": true,
    "editable": true
   },
   "outputs": [
    {
     "name": "stdout",
     "output_type": "stream",
     "text": [
      "151112\n"
     ]
    }
   ],
   "source": [
    "# Check for duplicates\n",
    "print len(fraud_df[\"user_id\"].unique())"
   ]
  },
  {
   "cell_type": "code",
   "execution_count": 7,
   "metadata": {
    "collapsed": false,
    "deletable": true,
    "editable": true
   },
   "outputs": [
    {
     "data": {
      "text/html": [
       "<div>\n",
       "<table border=\"1\" class=\"dataframe\">\n",
       "  <thead>\n",
       "    <tr style=\"text-align: right;\">\n",
       "      <th></th>\n",
       "      <th>lower_bound_ip_address</th>\n",
       "      <th>upper_bound_ip_address</th>\n",
       "      <th>country</th>\n",
       "    </tr>\n",
       "  </thead>\n",
       "  <tbody>\n",
       "    <tr>\n",
       "      <th>0</th>\n",
       "      <td>16777216.0</td>\n",
       "      <td>16777471</td>\n",
       "      <td>Australia</td>\n",
       "    </tr>\n",
       "    <tr>\n",
       "      <th>1</th>\n",
       "      <td>16777472.0</td>\n",
       "      <td>16777727</td>\n",
       "      <td>China</td>\n",
       "    </tr>\n",
       "    <tr>\n",
       "      <th>2</th>\n",
       "      <td>16777728.0</td>\n",
       "      <td>16778239</td>\n",
       "      <td>China</td>\n",
       "    </tr>\n",
       "    <tr>\n",
       "      <th>3</th>\n",
       "      <td>16778240.0</td>\n",
       "      <td>16779263</td>\n",
       "      <td>Australia</td>\n",
       "    </tr>\n",
       "    <tr>\n",
       "      <th>4</th>\n",
       "      <td>16779264.0</td>\n",
       "      <td>16781311</td>\n",
       "      <td>China</td>\n",
       "    </tr>\n",
       "  </tbody>\n",
       "</table>\n",
       "</div>"
      ],
      "text/plain": [
       "   lower_bound_ip_address  upper_bound_ip_address    country\n",
       "0              16777216.0                16777471  Australia\n",
       "1              16777472.0                16777727      China\n",
       "2              16777728.0                16778239      China\n",
       "3              16778240.0                16779263  Australia\n",
       "4              16779264.0                16781311      China"
      ]
     },
     "execution_count": 7,
     "metadata": {},
     "output_type": "execute_result"
    }
   ],
   "source": [
    "ipaddress_df.head()"
   ]
  },
  {
   "cell_type": "code",
   "execution_count": 8,
   "metadata": {
    "collapsed": false,
    "deletable": true,
    "editable": true
   },
   "outputs": [
    {
     "name": "stdout",
     "output_type": "stream",
     "text": [
      "<class 'pandas.core.frame.DataFrame'>\n",
      "RangeIndex: 138846 entries, 0 to 138845\n",
      "Data columns (total 3 columns):\n",
      "lower_bound_ip_address    138846 non-null float64\n",
      "upper_bound_ip_address    138846 non-null int64\n",
      "country                   138846 non-null object\n",
      "dtypes: float64(1), int64(1), object(1)\n",
      "memory usage: 3.2+ MB\n"
     ]
    }
   ],
   "source": [
    "ipaddress_df.info()"
   ]
  },
  {
   "cell_type": "code",
   "execution_count": 9,
   "metadata": {
    "collapsed": false,
    "deletable": true,
    "editable": true
   },
   "outputs": [],
   "source": [
    "# def get_country(ipaddress):\n",
    "#     ip_address = ipaddress\n",
    "#     country = \"\"\n",
    "#     for i in xrange(ipaddress_df.shape[0]):\n",
    "#         if ipaddress <= ipaddress_df[\"upper_bound_ip_address\"][i] and ipaddress >= ipaddress_df[\"lower_bound_ip_address\"][i]:\n",
    "#             country = ipaddress_df[\"country\"][i]\n",
    "#     return country"
   ]
  },
  {
   "cell_type": "code",
   "execution_count": 10,
   "metadata": {
    "collapsed": false,
    "deletable": true,
    "editable": true
   },
   "outputs": [],
   "source": [
    "# Code courtesy www.github.com/stasi009\n",
    "class IpLookupTable(object):\n",
    "    def __init__(self, df):\n",
    "        \"\"\"\n",
    "        input: \n",
    "            df: DataFrame read from 'IpAddress_to_Country.csv'\n",
    "        \"\"\"\n",
    "        self._nrows = df.shape[0]\n",
    "        # add two more slots, one is for the ipaddress < minimum ipaddress from the file\n",
    "        # another is for the ipaddress > maximum ipaddress from the file\n",
    "        self._ip_lowbounds = [0 for _ in xrange(self._nrows + 2)]\n",
    "        self._countries = [\"Unknown\" for _ in xrange(self._nrows + 2)]\n",
    "\n",
    "        # start from 1, because 0-th cell is for ipaddress < minimal known ipaddress\n",
    "        for r in xrange(1, self._nrows + 1):\n",
    "            self._ip_lowbounds[r] = df.iloc[r - 1, 0]\n",
    "            self._countries[r] = df.iloc[r - 1, 2]\n",
    "            # assume the file is in ascending order\n",
    "            assert self._ip_lowbounds[r] > self._ip_lowbounds[r - 1]\n",
    "\n",
    "        # we cannot assign all ip> last low boundary to be that country\n",
    "        # so I create a dummy ipaddress which larger than maximal known ipaddress\n",
    "        self._ip_lowbounds[self._nrows + 1] = df.iloc[self._nrows - 1, 1] + 1\n",
    "\n",
    "    def find_country(self, ip):\n",
    "        index = bisect.bisect(self._ip_lowbounds, ip) - 1\n",
    "        # within the range, or in last cell which doesn't have next cell\n",
    "        assert ip >= self._ip_lowbounds[index] and (index == self._nrows + 1 or ip < self._ip_lowbounds[index + 1])\n",
    "        return self._countries[index]"
   ]
  },
  {
   "cell_type": "code",
   "execution_count": 11,
   "metadata": {
    "collapsed": false
   },
   "outputs": [],
   "source": [
    "iplookuptable = IpLookupTable(ipaddress_df)"
   ]
  },
  {
   "cell_type": "code",
   "execution_count": 12,
   "metadata": {
    "collapsed": false
   },
   "outputs": [],
   "source": [
    "fraud_df[\"country\"] = fraud_df[\"ip_address\"].apply(iplookuptable.find_country)"
   ]
  },
  {
   "cell_type": "code",
   "execution_count": 13,
   "metadata": {
    "collapsed": false
   },
   "outputs": [
    {
     "data": {
      "text/plain": [
       "United States                      59222\n",
       "Unknown                            20017\n",
       "China                              12038\n",
       "Japan                               7918\n",
       "United Kingdom                      4492\n",
       "Korea Republic of                   4162\n",
       "Germany                             3647\n",
       "France                              3163\n",
       "Canada                              2981\n",
       "Brazil                              2961\n",
       "Italy                               1946\n",
       "Australia                           1845\n",
       "Netherlands                         1825\n",
       "Russian Federation                  1616\n",
       "India                               1310\n",
       "Taiwan; Republic of China (ROC)     1237\n",
       "Mexico                              1121\n",
       "Sweden                              1090\n",
       "Spain                               1027\n",
       "South Africa                         838\n",
       "Switzerland                          785\n",
       "Poland                               729\n",
       "Argentina                            661\n",
       "Indonesia                            649\n",
       "Norway                               610\n",
       "Colombia                             602\n",
       "Turkey                               568\n",
       "Viet Nam                             550\n",
       "Romania                              525\n",
       "Denmark                              490\n",
       "                                   ...  \n",
       "Antigua and Barbuda                    3\n",
       "Virgin Islands (U.S.)                  3\n",
       "Bermuda                                2\n",
       "Lesotho                                2\n",
       "Fiji                                   2\n",
       "Liechtenstein                          2\n",
       "Maldives                               2\n",
       "Benin                                  2\n",
       "Burkina Faso                           2\n",
       "Gibraltar                              2\n",
       "Bhutan                                 2\n",
       "Saint Kitts and Nevis                  2\n",
       "Bonaire; Sint Eustatius; Saba          1\n",
       "Niger                                  1\n",
       "Madagascar                             1\n",
       "Turkmenistan                           1\n",
       "British Indian Ocean Territory         1\n",
       "Tajikistan                             1\n",
       "Yemen                                  1\n",
       "Cape Verde                             1\n",
       "Saint Martin                           1\n",
       "Myanmar                                1\n",
       "Burundi                                1\n",
       "Guadeloupe                             1\n",
       "Gambia                                 1\n",
       "San Marino                             1\n",
       "Vanuatu                                1\n",
       "Nauru                                  1\n",
       "Dominica                               1\n",
       "South Sudan                            1\n",
       "Name: country, dtype: int64"
      ]
     },
     "execution_count": 13,
     "metadata": {},
     "output_type": "execute_result"
    }
   ],
   "source": [
    "fraud_df[\"country\"].value_counts()"
   ]
  },
  {
   "cell_type": "code",
   "execution_count": 14,
   "metadata": {
    "collapsed": false
   },
   "outputs": [
    {
     "name": "stdout",
     "output_type": "stream",
     "text": [
      "<class 'pandas.core.frame.DataFrame'>\n",
      "RangeIndex: 151112 entries, 0 to 151111\n",
      "Data columns (total 12 columns):\n",
      "user_id           151112 non-null int64\n",
      "signup_time       151112 non-null object\n",
      "purchase_time     151112 non-null object\n",
      "purchase_value    151112 non-null int64\n",
      "device_id         151112 non-null object\n",
      "source            151112 non-null object\n",
      "browser           151112 non-null object\n",
      "sex               151112 non-null object\n",
      "age               151112 non-null int64\n",
      "ip_address        151112 non-null float64\n",
      "class             151112 non-null int64\n",
      "country           151112 non-null object\n",
      "dtypes: float64(1), int64(4), object(7)\n",
      "memory usage: 13.8+ MB\n"
     ]
    }
   ],
   "source": [
    "fraud_df.info()"
   ]
  },
  {
   "cell_type": "code",
   "execution_count": 15,
   "metadata": {
    "collapsed": false
   },
   "outputs": [],
   "source": [
    "# Let's do some feature engineering.\n",
    "\n",
    "# Time difference between purchase and signup\n",
    "fraud_df[\"signup_time\"] = pd.to_datetime(fraud_df[\"signup_time\"]) # Changes dtype object to datetime\n",
    "fraud_df[\"purchase_time\"] = pd.to_datetime(fraud_df[\"purchase_time\"])\n",
    "fraud_df[\"interval_btw_signup_purchase\"] = (fraud_df[\"purchase_time\"] - fraud_df[\"signup_time\"]).dt.total_seconds()\n",
    "fraud_df.drop([\"signup_time\", \"purchase_time\"], axis=1, inplace=True)"
   ]
  },
  {
   "cell_type": "code",
   "execution_count": 16,
   "metadata": {
    "collapsed": false
   },
   "outputs": [
    {
     "data": {
      "text/html": [
       "<div>\n",
       "<table border=\"1\" class=\"dataframe\">\n",
       "  <thead>\n",
       "    <tr style=\"text-align: right;\">\n",
       "      <th></th>\n",
       "      <th>user_id</th>\n",
       "      <th>purchase_value</th>\n",
       "      <th>device_id</th>\n",
       "      <th>source</th>\n",
       "      <th>browser</th>\n",
       "      <th>sex</th>\n",
       "      <th>age</th>\n",
       "      <th>ip_address</th>\n",
       "      <th>class</th>\n",
       "      <th>country</th>\n",
       "      <th>interval_btw_signup_purchase</th>\n",
       "    </tr>\n",
       "  </thead>\n",
       "  <tbody>\n",
       "    <tr>\n",
       "      <th>0</th>\n",
       "      <td>22058</td>\n",
       "      <td>34</td>\n",
       "      <td>QVPSPJUOCKZAR</td>\n",
       "      <td>SEO</td>\n",
       "      <td>Chrome</td>\n",
       "      <td>M</td>\n",
       "      <td>39</td>\n",
       "      <td>7.327584e+08</td>\n",
       "      <td>0</td>\n",
       "      <td>Japan</td>\n",
       "      <td>4506682.0</td>\n",
       "    </tr>\n",
       "    <tr>\n",
       "      <th>1</th>\n",
       "      <td>333320</td>\n",
       "      <td>16</td>\n",
       "      <td>EOGFQPIZPYXFZ</td>\n",
       "      <td>Ads</td>\n",
       "      <td>Chrome</td>\n",
       "      <td>F</td>\n",
       "      <td>53</td>\n",
       "      <td>3.503114e+08</td>\n",
       "      <td>0</td>\n",
       "      <td>United States</td>\n",
       "      <td>17944.0</td>\n",
       "    </tr>\n",
       "    <tr>\n",
       "      <th>2</th>\n",
       "      <td>1359</td>\n",
       "      <td>15</td>\n",
       "      <td>YSSKYOSJHPPLJ</td>\n",
       "      <td>SEO</td>\n",
       "      <td>Opera</td>\n",
       "      <td>M</td>\n",
       "      <td>53</td>\n",
       "      <td>2.621474e+09</td>\n",
       "      <td>1</td>\n",
       "      <td>United States</td>\n",
       "      <td>1.0</td>\n",
       "    </tr>\n",
       "    <tr>\n",
       "      <th>3</th>\n",
       "      <td>150084</td>\n",
       "      <td>44</td>\n",
       "      <td>ATGTXKYKUDUQN</td>\n",
       "      <td>SEO</td>\n",
       "      <td>Safari</td>\n",
       "      <td>M</td>\n",
       "      <td>41</td>\n",
       "      <td>3.840542e+09</td>\n",
       "      <td>0</td>\n",
       "      <td>Unknown</td>\n",
       "      <td>492085.0</td>\n",
       "    </tr>\n",
       "    <tr>\n",
       "      <th>4</th>\n",
       "      <td>221365</td>\n",
       "      <td>39</td>\n",
       "      <td>NAUITBZFJKHWW</td>\n",
       "      <td>Ads</td>\n",
       "      <td>Safari</td>\n",
       "      <td>M</td>\n",
       "      <td>45</td>\n",
       "      <td>4.155831e+08</td>\n",
       "      <td>0</td>\n",
       "      <td>United States</td>\n",
       "      <td>4361461.0</td>\n",
       "    </tr>\n",
       "  </tbody>\n",
       "</table>\n",
       "</div>"
      ],
      "text/plain": [
       "   user_id  purchase_value      device_id source browser sex  age  \\\n",
       "0    22058              34  QVPSPJUOCKZAR    SEO  Chrome   M   39   \n",
       "1   333320              16  EOGFQPIZPYXFZ    Ads  Chrome   F   53   \n",
       "2     1359              15  YSSKYOSJHPPLJ    SEO   Opera   M   53   \n",
       "3   150084              44  ATGTXKYKUDUQN    SEO  Safari   M   41   \n",
       "4   221365              39  NAUITBZFJKHWW    Ads  Safari   M   45   \n",
       "\n",
       "     ip_address  class        country  interval_btw_signup_purchase  \n",
       "0  7.327584e+08      0          Japan                     4506682.0  \n",
       "1  3.503114e+08      0  United States                       17944.0  \n",
       "2  2.621474e+09      1  United States                           1.0  \n",
       "3  3.840542e+09      0        Unknown                      492085.0  \n",
       "4  4.155831e+08      0  United States                     4361461.0  "
      ]
     },
     "execution_count": 16,
     "metadata": {},
     "output_type": "execute_result"
    }
   ],
   "source": [
    "fraud_df.head()"
   ]
  },
  {
   "cell_type": "code",
   "execution_count": 17,
   "metadata": {
    "collapsed": false
   },
   "outputs": [
    {
     "name": "stdout",
     "output_type": "stream",
     "text": [
      "            device_id  user_id\n",
      "0       AAALBGNHHVMKG        1\n",
      "1       AAAWIHVCQELTP        1\n",
      "2       AAAXJHWCLISKY        1\n",
      "3       AAAXXOZJRZRAO       11\n",
      "4       AABFGRPBQHWFQ        1\n",
      "5       AABGCAPIYUWNC        1\n",
      "6       AABJEESQPJHDQ        1\n",
      "7       AABNLBQBKMWRG        1\n",
      "8       AABOMYDURXEQT        1\n",
      "9       AABOOVEJUXMKC        1\n",
      "10      AABOYHXAZBTLZ        1\n",
      "11      AABQZGLRSEYGR        1\n",
      "12      AABVEORDXZXUO        1\n",
      "13      AABZHGGYUMVEQ        1\n",
      "14      AACBIMMVQIFWW        1\n",
      "15      AACEEKSUWDCSU        1\n",
      "16      AACIHTWABTEMZ        1\n",
      "17      AACOSZDJHOJIZ        1\n",
      "18      AACRSKFMHVMCE        1\n",
      "19      AACTNBYQYAVPE        1\n",
      "20      AACUHRZNDEHGI        1\n",
      "21      AACYYBUHPLDWT        1\n",
      "22      AADEPZVZDTXGA        1\n",
      "23      AADGMPYOPXXCX        1\n",
      "24      AADHZIOUTNGHW        1\n",
      "25      AADMHINGHICLN        1\n",
      "26      AADOZLHNCJMMS        1\n",
      "27      AADSJJXNALPUV        1\n",
      "28      AADTALFGPPJOP        1\n",
      "29      AADWLKVTMKVDI        1\n",
      "...               ...      ...\n",
      "137926  ZZWJDOXKQKJPC        1\n",
      "137927  ZZWTSKJKTTRSV        1\n",
      "137928  ZZWVTGCQMGXVP        1\n",
      "137929  ZZWWMXZPNFTMQ        1\n",
      "137930  ZZWWUUNHDFOBP        1\n",
      "137931  ZZWYWEUXIOJOC        1\n",
      "137932  ZZXBLOMHSUWLU        1\n",
      "137933  ZZXEKRHNFHFZP        1\n",
      "137934  ZZXFLVDKVVLHQ        1\n",
      "137935  ZZXHOIVRZOTMT        1\n",
      "137936  ZZXKLCSAUENBL        1\n",
      "137937  ZZXLGBVKXUGRH        1\n",
      "137938  ZZXTJKEXPFCIS        1\n",
      "137939  ZZXVNRXEUGTAH        1\n",
      "137940  ZZXZDSEOYRRBS        1\n",
      "137941  ZZYEOWUSXRSZG        1\n",
      "137942  ZZYFFLQEFXMEX        1\n",
      "137943  ZZYKXDDPFIIYS        1\n",
      "137944  ZZYPLUFCXTHUS        2\n",
      "137945  ZZYREZZQXANIK        1\n",
      "137946  ZZYTQUKREXTLU        1\n",
      "137947  ZZYXERMSKABCQ        1\n",
      "137948  ZZZCCVFIRNYDB        1\n",
      "137949  ZZZEIWAMLELQD        1\n",
      "137950  ZZZFMEPPCQVFV        1\n",
      "137951  ZZZGSIJRNCXBJ        1\n",
      "137952  ZZZIKLJSVSQMF        1\n",
      "137953  ZZZKJIZHJEDFN        1\n",
      "137954  ZZZMVOGBAJVTM        1\n",
      "137955  ZZZXASJUVUNMV        1\n",
      "\n",
      "[137956 rows x 2 columns]\n"
     ]
    }
   ],
   "source": [
    "# For each device id how many different users\n",
    "print(fraud_df[[\"device_id\", \"user_id\"]].groupby([\"device_id\"], as_index=False).count())"
   ]
  },
  {
   "cell_type": "code",
   "execution_count": 18,
   "metadata": {
    "collapsed": false
   },
   "outputs": [
    {
     "name": "stdout",
     "output_type": "stream",
     "text": [
      "          ip_address  user_id\n",
      "0       5.209350e+04        1\n",
      "1       9.344714e+04        1\n",
      "2       1.058185e+05        1\n",
      "3       1.175667e+05        1\n",
      "4       1.314238e+05        1\n",
      "5       1.551304e+05        1\n",
      "6       1.553991e+05        1\n",
      "7       1.591198e+05        1\n",
      "8       1.663268e+05        1\n",
      "9       2.079996e+05        1\n",
      "10      2.114294e+05        1\n",
      "11      3.063559e+05        1\n",
      "12      3.464139e+05        1\n",
      "13      3.709400e+05        1\n",
      "14      3.711868e+05        1\n",
      "15      4.289369e+05        1\n",
      "16      5.042214e+05        1\n",
      "17      5.079557e+05        1\n",
      "18      5.414189e+05        1\n",
      "19      5.479740e+05        1\n",
      "20      5.504003e+05        1\n",
      "21      5.601484e+05        1\n",
      "22      5.972978e+05        1\n",
      "23      6.058097e+05        1\n",
      "24      6.100372e+05        1\n",
      "25      6.626424e+05        1\n",
      "26      6.663332e+05        1\n",
      "27      7.125129e+05        1\n",
      "28      7.353541e+05        1\n",
      "29      7.944125e+05        1\n",
      "...              ...      ...\n",
      "143482  4.293877e+09        1\n",
      "143483  4.293938e+09        1\n",
      "143484  4.293952e+09        1\n",
      "143485  4.293955e+09        1\n",
      "143486  4.293979e+09        1\n",
      "143487  4.294006e+09        1\n",
      "143488  4.294041e+09        1\n",
      "143489  4.294056e+09        1\n",
      "143490  4.294120e+09        1\n",
      "143491  4.294131e+09        1\n",
      "143492  4.294220e+09        1\n",
      "143493  4.294258e+09        1\n",
      "143494  4.294263e+09        1\n",
      "143495  4.294282e+09        1\n",
      "143496  4.294311e+09        1\n",
      "143497  4.294373e+09        1\n",
      "143498  4.294388e+09        1\n",
      "143499  4.294466e+09        1\n",
      "143500  4.294530e+09        1\n",
      "143501  4.294546e+09        1\n",
      "143502  4.294576e+09        1\n",
      "143503  4.294629e+09        1\n",
      "143504  4.294643e+09        1\n",
      "143505  4.294663e+09        1\n",
      "143506  4.294665e+09        1\n",
      "143507  4.294674e+09        1\n",
      "143508  4.294715e+09        1\n",
      "143509  4.294720e+09        1\n",
      "143510  4.294822e+09        1\n",
      "143511  4.294850e+09        1\n",
      "\n",
      "[143512 rows x 2 columns]\n"
     ]
    }
   ],
   "source": [
    "# Let's do the same thing for ip address\n",
    "print(fraud_df[[\"ip_address\", \"user_id\"]].groupby([\"ip_address\"], as_index=False).count())"
   ]
  },
  {
   "cell_type": "code",
   "execution_count": 19,
   "metadata": {
    "collapsed": false
   },
   "outputs": [],
   "source": [
    "no_devices_shared = fraud_df[\"device_id\"].value_counts()\n",
    "fraud_df[\"no_devices_shared\"] = fraud_df[\"device_id\"].map(no_devices_shared) # Tried apply but got an error. \n",
    "                                                                             # Series not callable\n",
    "fraud_df.drop([\"device_id\"], axis=1, inplace=True)"
   ]
  },
  {
   "cell_type": "code",
   "execution_count": 20,
   "metadata": {
    "collapsed": false
   },
   "outputs": [],
   "source": [
    "no_ip_shared = fraud_df[\"ip_address\"].value_counts()\n",
    "fraud_df[\"no_ip_shared\"] = fraud_df[\"ip_address\"].map(no_ip_shared)\n",
    "del fraud_df[\"ip_address\"]"
   ]
  },
  {
   "cell_type": "code",
   "execution_count": 21,
   "metadata": {
    "collapsed": false
   },
   "outputs": [],
   "source": [
    "no_country_shared = fraud_df[\"country\"].value_counts()\n",
    "fraud_df[\"no_country_shared\"] = fraud_df[\"country\"].map(no_country_shared)\n",
    "del fraud_df[\"country\"]"
   ]
  },
  {
   "cell_type": "code",
   "execution_count": 22,
   "metadata": {
    "collapsed": false
   },
   "outputs": [],
   "source": [
    "# Let's get dummies for sex, browser, and source\n",
    "fraud_df = pd.get_dummies(fraud_df, columns=[\"sex\", \"browser\", \"source\"])"
   ]
  },
  {
   "cell_type": "code",
   "execution_count": 23,
   "metadata": {
    "collapsed": false
   },
   "outputs": [],
   "source": [
    "fraud_df.drop([\"sex_F\", \"browser_Opera\", \"source_Direct\" ], axis=1, inplace=True)"
   ]
  },
  {
   "cell_type": "code",
   "execution_count": 24,
   "metadata": {
    "collapsed": false
   },
   "outputs": [
    {
     "data": {
      "text/html": [
       "<div>\n",
       "<table border=\"1\" class=\"dataframe\">\n",
       "  <thead>\n",
       "    <tr style=\"text-align: right;\">\n",
       "      <th></th>\n",
       "      <th>purchase_value</th>\n",
       "      <th>age</th>\n",
       "      <th>class</th>\n",
       "      <th>interval_btw_signup_purchase</th>\n",
       "      <th>no_devices_shared</th>\n",
       "      <th>no_ip_shared</th>\n",
       "      <th>no_country_shared</th>\n",
       "      <th>sex_M</th>\n",
       "      <th>browser_Chrome</th>\n",
       "      <th>browser_FireFox</th>\n",
       "      <th>browser_IE</th>\n",
       "      <th>browser_Safari</th>\n",
       "      <th>source_Ads</th>\n",
       "      <th>source_SEO</th>\n",
       "    </tr>\n",
       "    <tr>\n",
       "      <th>user_id</th>\n",
       "      <th></th>\n",
       "      <th></th>\n",
       "      <th></th>\n",
       "      <th></th>\n",
       "      <th></th>\n",
       "      <th></th>\n",
       "      <th></th>\n",
       "      <th></th>\n",
       "      <th></th>\n",
       "      <th></th>\n",
       "      <th></th>\n",
       "      <th></th>\n",
       "      <th></th>\n",
       "      <th></th>\n",
       "    </tr>\n",
       "  </thead>\n",
       "  <tbody>\n",
       "    <tr>\n",
       "      <th>22058</th>\n",
       "      <td>34</td>\n",
       "      <td>39</td>\n",
       "      <td>0</td>\n",
       "      <td>4506682.0</td>\n",
       "      <td>1</td>\n",
       "      <td>1</td>\n",
       "      <td>7918</td>\n",
       "      <td>1</td>\n",
       "      <td>1</td>\n",
       "      <td>0</td>\n",
       "      <td>0</td>\n",
       "      <td>0</td>\n",
       "      <td>0</td>\n",
       "      <td>1</td>\n",
       "    </tr>\n",
       "    <tr>\n",
       "      <th>333320</th>\n",
       "      <td>16</td>\n",
       "      <td>53</td>\n",
       "      <td>0</td>\n",
       "      <td>17944.0</td>\n",
       "      <td>1</td>\n",
       "      <td>1</td>\n",
       "      <td>59222</td>\n",
       "      <td>0</td>\n",
       "      <td>1</td>\n",
       "      <td>0</td>\n",
       "      <td>0</td>\n",
       "      <td>0</td>\n",
       "      <td>1</td>\n",
       "      <td>0</td>\n",
       "    </tr>\n",
       "    <tr>\n",
       "      <th>1359</th>\n",
       "      <td>15</td>\n",
       "      <td>53</td>\n",
       "      <td>1</td>\n",
       "      <td>1.0</td>\n",
       "      <td>12</td>\n",
       "      <td>12</td>\n",
       "      <td>59222</td>\n",
       "      <td>1</td>\n",
       "      <td>0</td>\n",
       "      <td>0</td>\n",
       "      <td>0</td>\n",
       "      <td>0</td>\n",
       "      <td>0</td>\n",
       "      <td>1</td>\n",
       "    </tr>\n",
       "    <tr>\n",
       "      <th>150084</th>\n",
       "      <td>44</td>\n",
       "      <td>41</td>\n",
       "      <td>0</td>\n",
       "      <td>492085.0</td>\n",
       "      <td>1</td>\n",
       "      <td>1</td>\n",
       "      <td>20017</td>\n",
       "      <td>1</td>\n",
       "      <td>0</td>\n",
       "      <td>0</td>\n",
       "      <td>0</td>\n",
       "      <td>1</td>\n",
       "      <td>0</td>\n",
       "      <td>1</td>\n",
       "    </tr>\n",
       "    <tr>\n",
       "      <th>221365</th>\n",
       "      <td>39</td>\n",
       "      <td>45</td>\n",
       "      <td>0</td>\n",
       "      <td>4361461.0</td>\n",
       "      <td>1</td>\n",
       "      <td>1</td>\n",
       "      <td>59222</td>\n",
       "      <td>1</td>\n",
       "      <td>0</td>\n",
       "      <td>0</td>\n",
       "      <td>0</td>\n",
       "      <td>1</td>\n",
       "      <td>1</td>\n",
       "      <td>0</td>\n",
       "    </tr>\n",
       "  </tbody>\n",
       "</table>\n",
       "</div>"
      ],
      "text/plain": [
       "         purchase_value  age  class  interval_btw_signup_purchase  \\\n",
       "user_id                                                             \n",
       "22058                34   39      0                     4506682.0   \n",
       "333320               16   53      0                       17944.0   \n",
       "1359                 15   53      1                           1.0   \n",
       "150084               44   41      0                      492085.0   \n",
       "221365               39   45      0                     4361461.0   \n",
       "\n",
       "         no_devices_shared  no_ip_shared  no_country_shared  sex_M  \\\n",
       "user_id                                                              \n",
       "22058                    1             1               7918      1   \n",
       "333320                   1             1              59222      0   \n",
       "1359                    12            12              59222      1   \n",
       "150084                   1             1              20017      1   \n",
       "221365                   1             1              59222      1   \n",
       "\n",
       "         browser_Chrome  browser_FireFox  browser_IE  browser_Safari  \\\n",
       "user_id                                                                \n",
       "22058                 1                0           0               0   \n",
       "333320                1                0           0               0   \n",
       "1359                  0                0           0               0   \n",
       "150084                0                0           0               1   \n",
       "221365                0                0           0               1   \n",
       "\n",
       "         source_Ads  source_SEO  \n",
       "user_id                          \n",
       "22058             0           1  \n",
       "333320            1           0  \n",
       "1359              0           1  \n",
       "150084            0           1  \n",
       "221365            1           0  "
      ]
     },
     "execution_count": 24,
     "metadata": {},
     "output_type": "execute_result"
    }
   ],
   "source": [
    "# One final glance of the data set\n",
    "fraud_df = fraud_df.set_index(\"user_id\")\n",
    "fraud_df.head()"
   ]
  },
  {
   "cell_type": "code",
   "execution_count": 25,
   "metadata": {
    "collapsed": false
   },
   "outputs": [],
   "source": [
    "# Build the model\n",
    "\n",
    "# Define data\n",
    "X = fraud_df\n",
    "y = X.pop(\"class\")"
   ]
  },
  {
   "cell_type": "code",
   "execution_count": 27,
   "metadata": {
    "collapsed": false
   },
   "outputs": [
    {
     "data": {
      "text/plain": [
       "(0.093645772671925462, 0.093150279026124744, 0.094651773718090124)"
      ]
     },
     "execution_count": 27,
     "metadata": {},
     "output_type": "execute_result"
    }
   ],
   "source": [
    "# Split the data into training and test set\n",
    "seed = 999\n",
    "X_train, X_test, y_train, y_test = train_test_split(X, y, test_size=0.33, random_state=seed)\n",
    "y.mean(), y_train.mean(), y_test.mean()"
   ]
  },
  {
   "cell_type": "code",
   "execution_count": 29,
   "metadata": {
    "collapsed": false
   },
   "outputs": [
    {
     "data": {
      "text/plain": [
       "RandomForestClassifier(bootstrap=True, class_weight=None, criterion='gini',\n",
       "            max_depth=None, max_features=3, max_leaf_nodes=None,\n",
       "            min_impurity_split=1e-07, min_samples_leaf=1,\n",
       "            min_samples_split=2, min_weight_fraction_leaf=0.0,\n",
       "            n_estimators=100, n_jobs=1, oob_score=False, random_state=None,\n",
       "            verbose=0, warm_start=False)"
      ]
     },
     "execution_count": 29,
     "metadata": {},
     "output_type": "execute_result"
    }
   ],
   "source": [
    "model = RandomForestClassifier(n_estimators=100, max_features=3)\n",
    "model.fit(X_train, y_train)"
   ]
  },
  {
   "cell_type": "code",
   "execution_count": 30,
   "metadata": {
    "collapsed": false
   },
   "outputs": [
    {
     "data": {
      "text/plain": [
       "0.99990122969035511"
      ]
     },
     "execution_count": 30,
     "metadata": {},
     "output_type": "execute_result"
    }
   ],
   "source": [
    "model.score(X_train, y_train)"
   ]
  },
  {
   "cell_type": "code",
   "execution_count": 31,
   "metadata": {
    "collapsed": false
   },
   "outputs": [
    {
     "data": {
      "text/plain": [
       "0.95451902059478211"
      ]
     },
     "execution_count": 31,
     "metadata": {},
     "output_type": "execute_result"
    }
   ],
   "source": [
    "model.score(X_test, y_test)"
   ]
  },
  {
   "cell_type": "code",
   "execution_count": 32,
   "metadata": {
    "collapsed": false
   },
   "outputs": [
    {
     "name": "stdout",
     "output_type": "stream",
     "text": [
      "             precision    recall  f1-score   support\n",
      "\n",
      "          0       0.95      1.00      0.98     45147\n",
      "          1       0.97      0.54      0.69      4720\n",
      "\n",
      "avg / total       0.96      0.95      0.95     49867\n",
      "\n"
     ]
    }
   ],
   "source": [
    "y_pred = model.predict(X_test)\n",
    "print classification_report(y_true=y_test, y_pred=y_pred)"
   ]
  },
  {
   "cell_type": "code",
   "execution_count": 34,
   "metadata": {
    "collapsed": false
   },
   "outputs": [],
   "source": [
    "fpr,tpr,thresholds = roc_curve(y_test,y_pred)"
   ]
  },
  {
   "cell_type": "code",
   "execution_count": 39,
   "metadata": {
    "collapsed": false
   },
   "outputs": [
    {
     "data": {
      "text/plain": [
       "<matplotlib.text.Text at 0x7f475e91b190>"
      ]
     },
     "execution_count": 39,
     "metadata": {},
     "output_type": "execute_result"
    },
    {
     "data": {
      "image/png": "[encoded data removed]",
      "text/plain": [
       "<matplotlib.figure.Figure at 0x7f475ea12a10>"
      ]
     },
     "metadata": {},
     "output_type": "display_data"
    }
   ],
   "source": [
    "plt.figure(figsize=(10,5))\n",
    "plt.plot(fpr,tpr,marker='h')\n",
    "plt.xlabel(\"FPR\")\n",
    "plt.ylabel(\"TPR\")"
   ]
  },
  {
   "cell_type": "code",
   "execution_count": 40,
   "metadata": {
    "collapsed": false
   },
   "outputs": [
    {
     "name": "stderr",
     "output_type": "stream",
     "text": [
      "/home/shreeranga/PP/Exp/venvs/lib/python2.7/site-packages/ipykernel/__main__.py:3: FutureWarning: sort is deprecated, use sort_values(inplace=True) for INPLACE sorting\n",
      "  app.launch_new_instance()\n"
     ]
    },
    {
     "data": {
      "text/plain": [
       "<matplotlib.axes._subplots.AxesSubplot at 0x7f475ea5ae50>"
      ]
     },
     "execution_count": 40,
     "metadata": {},
     "output_type": "execute_result"
    },
    {
     "data": {
      "image/png": "[encoded data removed]",
      "text/plain": [
       "<matplotlib.figure.Figure at 0x7f475ea1dd10>"
      ]
     },
     "metadata": {},
     "output_type": "display_data"
    }
   ],
   "source": [
    "# Let's check the variable importance\n",
    "imp_features = pd.Series(model.feature_importances_, index = X.columns)\n",
    "imp_features.sort()\n",
    "imp_features.plot(kind=\"barh\", figsize=(7,6))"
   ]
  }
 ],
 "metadata": {
  "kernelspec": {
   "display_name": "Python 2",
   "language": "python",
   "name": "python2"
  },
  "language_info": {
   "codemirror_mode": {
    "name": "ipython",
    "version": 2
   },
   "file_extension": ".py",
   "mimetype": "text/x-python",
   "name": "python",
   "nbconvert_exporter": "python",
   "pygments_lexer": "ipython2",
   "version": "2.7.12"
  }
 },
 "nbformat": 4,
 "nbformat_minor": 2
}
