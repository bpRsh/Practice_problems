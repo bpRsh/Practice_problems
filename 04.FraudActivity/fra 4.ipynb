{
 "cells": [
  {
   "cell_type": "markdown",
   "metadata": {},
   "source": [
    "## Objective:\n",
    "- Reduce financial lost by identifying fraudulent transactions\n",
    "- Develop a model to classify fraud; explain the pros and cons of false positives vs. false negatives\n",
    "- Explain the workings of the model (from a user perspective)\n",
    "    - Identify the factors used to make the predictions\n",
    "- Suggest some future actions to reduce fraud."
   ]
  },
  {
   "cell_type": "code",
   "execution_count": 1,
   "metadata": {},
   "outputs": [],
   "source": [
    "# Import pandas and numpy\n",
    "import numpy as np\n",
    "import pandas as pd\n",
    "\n",
    "# Import matplotlib and seaborn\n",
    "import matplotlib.pyplot as plt\n",
    "import seaborn as sns\n",
    "\n",
    "# Import stats from scipy\n",
    "from scipy import stats\n",
    "\n",
    "# Import RandomForestClassifer\n",
    "from sklearn.ensemble import RandomForestClassifier\n",
    "\n",
    "# Import LabelEncoder\n",
    "from sklearn.preprocessing import LabelEncoder\n",
    "\n",
    "# Import train_test_split\n",
    "from sklearn.model_selection import train_test_split\n",
    "\n",
    "# Import roc_auc_score, roc_curve, and auc\n",
    "from sklearn.metrics import roc_auc_score, roc_curve, auc"
   ]
  },
  {
   "cell_type": "code",
   "execution_count": 2,
   "metadata": {},
   "outputs": [],
   "source": [
    "# Load in the raw fraud data\n",
    "fraud_df = pd.read_csv('Fraud_Data.csv')\n",
    "\n",
    "# load in the raw IP address data\n",
    "ip_df = pd.read_csv('IpAddress_to_Country.csv')"
   ]
  },
  {
   "cell_type": "markdown",
   "metadata": {},
   "source": [
    "Before merging the two datasets to provide each user with a country, I need to make sure the data is as expected."
   ]
  },
  {
   "cell_type": "code",
   "execution_count": 3,
   "metadata": {
    "scrolled": true
   },
   "outputs": [
    {
     "name": "stdout",
     "output_type": "stream",
     "text": [
      "<class 'pandas.core.frame.DataFrame'>\n",
      "RangeIndex: 151112 entries, 0 to 151111\n",
      "Data columns (total 11 columns):\n",
      "user_id           151112 non-null int64\n",
      "signup_time       151112 non-null object\n",
      "purchase_time     151112 non-null object\n",
      "purchase_value    151112 non-null int64\n",
      "device_id         151112 non-null object\n",
      "source            151112 non-null object\n",
      "browser           151112 non-null object\n",
      "sex               151112 non-null object\n",
      "age               151112 non-null int64\n",
      "ip_address        151112 non-null float64\n",
      "class             151112 non-null int64\n",
      "dtypes: float64(1), int64(4), object(6)\n",
      "memory usage: 12.7+ MB\n"
     ]
    }
   ],
   "source": [
    "# View the data info\n",
    "fraud_df.info()"
   ]
  },
  {
   "cell_type": "code",
   "execution_count": 4,
   "metadata": {},
   "outputs": [],
   "source": [
    "# Identify the numerical variables\n",
    "NUMERICAL = ['purchase_value', 'age']\n",
    "\n",
    "# Identify the time variables\n",
    "TIME = ['signup_time', 'purchase_time']\n",
    "\n",
    "# Identify the categorical variable\n",
    "CATEGORICAL = [col for col in fraud_df.columns if col not in NUMERICAL]\n",
    "\n",
    "# Remove the time variables from the categorical list\n",
    "CATEGORICAL.remove('signup_time')\n",
    "CATEGORICAL.remove('purchase_time')"
   ]
  },
  {
   "cell_type": "code",
   "execution_count": 5,
   "metadata": {},
   "outputs": [
    {
     "data": {
      "text/html": [
       "<div>\n",
       "<style scoped>\n",
       "    .dataframe tbody tr th:only-of-type {\n",
       "        vertical-align: middle;\n",
       "    }\n",
       "\n",
       "    .dataframe tbody tr th {\n",
       "        vertical-align: top;\n",
       "    }\n",
       "\n",
       "    .dataframe thead th {\n",
       "        text-align: right;\n",
       "    }\n",
       "</style>\n",
       "<table border=\"1\" class=\"dataframe\">\n",
       "  <thead>\n",
       "    <tr style=\"text-align: right;\">\n",
       "      <th></th>\n",
       "      <th>purchase_value</th>\n",
       "      <th>age</th>\n",
       "    </tr>\n",
       "  </thead>\n",
       "  <tbody>\n",
       "    <tr>\n",
       "      <th>count</th>\n",
       "      <td>151112.000000</td>\n",
       "      <td>151112.000000</td>\n",
       "    </tr>\n",
       "    <tr>\n",
       "      <th>mean</th>\n",
       "      <td>36.935372</td>\n",
       "      <td>33.140704</td>\n",
       "    </tr>\n",
       "    <tr>\n",
       "      <th>std</th>\n",
       "      <td>18.322762</td>\n",
       "      <td>8.617733</td>\n",
       "    </tr>\n",
       "    <tr>\n",
       "      <th>min</th>\n",
       "      <td>9.000000</td>\n",
       "      <td>18.000000</td>\n",
       "    </tr>\n",
       "    <tr>\n",
       "      <th>25%</th>\n",
       "      <td>22.000000</td>\n",
       "      <td>27.000000</td>\n",
       "    </tr>\n",
       "    <tr>\n",
       "      <th>50%</th>\n",
       "      <td>35.000000</td>\n",
       "      <td>33.000000</td>\n",
       "    </tr>\n",
       "    <tr>\n",
       "      <th>75%</th>\n",
       "      <td>49.000000</td>\n",
       "      <td>39.000000</td>\n",
       "    </tr>\n",
       "    <tr>\n",
       "      <th>max</th>\n",
       "      <td>154.000000</td>\n",
       "      <td>76.000000</td>\n",
       "    </tr>\n",
       "  </tbody>\n",
       "</table>\n",
       "</div>"
      ],
      "text/plain": [
       "       purchase_value            age\n",
       "count   151112.000000  151112.000000\n",
       "mean        36.935372      33.140704\n",
       "std         18.322762       8.617733\n",
       "min          9.000000      18.000000\n",
       "25%         22.000000      27.000000\n",
       "50%         35.000000      33.000000\n",
       "75%         49.000000      39.000000\n",
       "max        154.000000      76.000000"
      ]
     },
     "execution_count": 5,
     "metadata": {},
     "output_type": "execute_result"
    }
   ],
   "source": [
    "# Retrieve the summary statistics for the numerical variables\n",
    "fraud_df[NUMERICAL].describe()"
   ]
  },
  {
   "cell_type": "code",
   "execution_count": 6,
   "metadata": {},
   "outputs": [
    {
     "data": {
      "text/plain": [
       "user_id       151112\n",
       "device_id     137956\n",
       "source             3\n",
       "browser            5\n",
       "sex                2\n",
       "ip_address    143512\n",
       "class              2\n",
       "dtype: int64"
      ]
     },
     "execution_count": 6,
     "metadata": {},
     "output_type": "execute_result"
    }
   ],
   "source": [
    "# Determine the number of unique values in each cateogrical variable of the fraud data\n",
    "fraud_df[CATEGORICAL].nunique()"
   ]
  },
  {
   "cell_type": "markdown",
   "metadata": {},
   "source": [
    "User ID is a unique variable within the dataframe (user_id.nunique() = len(fraud_df). I can use it as an index to increase performance. There also appears to be many unique device ids and ip_addresses. I'll take a look at the other 4 categorical variables to  make sure their values make sense."
   ]
  },
  {
   "cell_type": "code",
   "execution_count": 7,
   "metadata": {
    "scrolled": true
   },
   "outputs": [
    {
     "name": "stdout",
     "output_type": "stream",
     "text": [
      "['SEO' 'Ads' 'Direct']\n",
      "['Chrome' 'Opera' 'Safari' 'IE' 'FireFox']\n",
      "['M' 'F']\n",
      "[0 1]\n"
     ]
    }
   ],
   "source": [
    "# Print the unique values in the categorical variables.\n",
    "for col in ['source', 'browser', 'sex', 'class']:\n",
    "    print(fraud_df[col].unique())"
   ]
  },
  {
   "cell_type": "code",
   "execution_count": 8,
   "metadata": {},
   "outputs": [
    {
     "name": "stdout",
     "output_type": "stream",
     "text": [
      "<class 'pandas.core.frame.DataFrame'>\n",
      "RangeIndex: 138846 entries, 0 to 138845\n",
      "Data columns (total 3 columns):\n",
      "lower_bound_ip_address    138846 non-null float64\n",
      "upper_bound_ip_address    138846 non-null int64\n",
      "country                   138846 non-null object\n",
      "dtypes: float64(1), int64(1), object(1)\n",
      "memory usage: 3.2+ MB\n"
     ]
    }
   ],
   "source": [
    "# Take a look at the ip address data\n",
    "ip_df.info()"
   ]
  },
  {
   "cell_type": "code",
   "execution_count": 9,
   "metadata": {
    "scrolled": true
   },
   "outputs": [
    {
     "data": {
      "text/plain": [
       "lower_bound_ip_address    138846\n",
       "upper_bound_ip_address    138846\n",
       "country                      235\n",
       "dtype: int64"
      ]
     },
     "execution_count": 9,
     "metadata": {},
     "output_type": "execute_result"
    }
   ],
   "source": [
    "# Show the number of nunique values\n",
    "ip_df.nunique()"
   ]
  },
  {
   "cell_type": "markdown",
   "metadata": {},
   "source": [
    "It appears that there are only 235 unique countries despite the 138,000 unique upper and lower bound ip addresses. \n",
    "\n",
    "First, I will try to group them by countries, returning the minimum lower bound and maximum upper bound. This method assumes that each country uses a distinct range of ip addresses, and no countries have overlapping ranges."
   ]
  },
  {
   "cell_type": "code",
   "execution_count": 10,
   "metadata": {
    "scrolled": true
   },
   "outputs": [
    {
     "data": {
      "text/html": [
       "<div>\n",
       "<style scoped>\n",
       "    .dataframe tbody tr th:only-of-type {\n",
       "        vertical-align: middle;\n",
       "    }\n",
       "\n",
       "    .dataframe tbody tr th {\n",
       "        vertical-align: top;\n",
       "    }\n",
       "\n",
       "    .dataframe thead th {\n",
       "        text-align: right;\n",
       "    }\n",
       "</style>\n",
       "<table border=\"1\" class=\"dataframe\">\n",
       "  <thead>\n",
       "    <tr style=\"text-align: right;\">\n",
       "      <th></th>\n",
       "      <th>lower_bound_ip_address</th>\n",
       "      <th>upper_bound_ip_address</th>\n",
       "    </tr>\n",
       "    <tr>\n",
       "      <th>country</th>\n",
       "      <th></th>\n",
       "      <th></th>\n",
       "    </tr>\n",
       "  </thead>\n",
       "  <tbody>\n",
       "    <tr>\n",
       "      <th>Australia</th>\n",
       "      <td>16777216.0</td>\n",
       "      <td>3758096383</td>\n",
       "    </tr>\n",
       "    <tr>\n",
       "      <th>China</th>\n",
       "      <td>16777472.0</td>\n",
       "      <td>3758095871</td>\n",
       "    </tr>\n",
       "    <tr>\n",
       "      <th>Japan</th>\n",
       "      <td>16781312.0</td>\n",
       "      <td>3755999231</td>\n",
       "    </tr>\n",
       "    <tr>\n",
       "      <th>Thailand</th>\n",
       "      <td>16809984.0</td>\n",
       "      <td>3754950655</td>\n",
       "    </tr>\n",
       "    <tr>\n",
       "      <th>India</th>\n",
       "      <td>17170432.0</td>\n",
       "      <td>3758094335</td>\n",
       "    </tr>\n",
       "    <tr>\n",
       "      <th>Malaysia</th>\n",
       "      <td>17367040.0</td>\n",
       "      <td>3743186943</td>\n",
       "    </tr>\n",
       "    <tr>\n",
       "      <th>Korea Republic of</th>\n",
       "      <td>17498112.0</td>\n",
       "      <td>3758088191</td>\n",
       "    </tr>\n",
       "    <tr>\n",
       "      <th>Hong Kong</th>\n",
       "      <td>18874368.0</td>\n",
       "      <td>3758093311</td>\n",
       "    </tr>\n",
       "    <tr>\n",
       "      <th>Taiwan; Republic of China (ROC)</th>\n",
       "      <td>19005440.0</td>\n",
       "      <td>3754491903</td>\n",
       "    </tr>\n",
       "    <tr>\n",
       "      <th>Philippines</th>\n",
       "      <td>19202048.0</td>\n",
       "      <td>3742973951</td>\n",
       "    </tr>\n",
       "  </tbody>\n",
       "</table>\n",
       "</div>"
      ],
      "text/plain": [
       "                                 lower_bound_ip_address  \\\n",
       "country                                                   \n",
       "Australia                                    16777216.0   \n",
       "China                                        16777472.0   \n",
       "Japan                                        16781312.0   \n",
       "Thailand                                     16809984.0   \n",
       "India                                        17170432.0   \n",
       "Malaysia                                     17367040.0   \n",
       "Korea Republic of                            17498112.0   \n",
       "Hong Kong                                    18874368.0   \n",
       "Taiwan; Republic of China (ROC)              19005440.0   \n",
       "Philippines                                  19202048.0   \n",
       "\n",
       "                                 upper_bound_ip_address  \n",
       "country                                                  \n",
       "Australia                                    3758096383  \n",
       "China                                        3758095871  \n",
       "Japan                                        3755999231  \n",
       "Thailand                                     3754950655  \n",
       "India                                        3758094335  \n",
       "Malaysia                                     3743186943  \n",
       "Korea Republic of                            3758088191  \n",
       "Hong Kong                                    3758093311  \n",
       "Taiwan; Republic of China (ROC)              3754491903  \n",
       "Philippines                                  3742973951  "
      ]
     },
     "execution_count": 10,
     "metadata": {},
     "output_type": "execute_result"
    }
   ],
   "source": [
    "# Group the data by countries\n",
    "ip_df.groupby('country').agg({'lower_bound_ip_address':min, 'upper_bound_ip_address':max}).sort_values('lower_bound_ip_address',\n",
    "                                                                                                      axis=0).head(10)"
   ]
  },
  {
   "cell_type": "markdown",
   "metadata": {},
   "source": [
    "It appears that countries do NOT have distinct ip address ranges. As a result, the group by attempt fails.\n",
    "\n",
    "Next, I will try a cross join (very computationally and memory intensive) and filter out the results from there."
   ]
  },
  {
   "cell_type": "code",
   "execution_count": 11,
   "metadata": {},
   "outputs": [],
   "source": [
    "# # Add a key column on both datasets to perform a cross-join\n",
    "# fraud_df['key'] = 1\n",
    "# ip_df['key'] = 1\n",
    "\n",
    "# # Merge on the key column\n",
    "# fraud_df.merge(right=ip_df, how='left', on='key')"
   ]
  },
  {
   "cell_type": "markdown",
   "metadata": {},
   "source": [
    "It was too memory intensive to work. \n",
    "\n",
    "Another approach to try is to  iterate through every row in the fraud dataset and filter the ip_address accordingly. This approach is much slower (since I will have to iterate through most of the ip address dataframe until there is a match for every single row). However, I do not need to merge the two dataframes. (Memory efficient, time inefficient).\n",
    "\n",
    "Before I attempt this, I need to make sure all user ip address fall within at least one range (higher than the minimum lower bound and lower than the higher upper bound)."
   ]
  },
  {
   "cell_type": "code",
   "execution_count": 12,
   "metadata": {},
   "outputs": [
    {
     "name": "stdout",
     "output_type": "stream",
     "text": [
      "16777471 3758096383\n"
     ]
    }
   ],
   "source": [
    "# Define the max upper bound\n",
    "upper_bound = ip_df['upper_bound_ip_address'].max()\n",
    "\n",
    "# Define the minimum lower bound\n",
    "lower_bound = ip_df['upper_bound_ip_address'].min()\n",
    "\n",
    "print (lower_bound, upper_bound)"
   ]
  },
  {
   "cell_type": "code",
   "execution_count": 13,
   "metadata": {},
   "outputs": [
    {
     "name": "stdout",
     "output_type": "stream",
     "text": [
      "(19383, 11)\n",
      "(634, 11)\n"
     ]
    }
   ],
   "source": [
    "# Make sure all ip_addresses are below the maximum upper bound\n",
    "print (fraud_df[fraud_df['ip_address'] >= upper_bound].shape)\n",
    "\n",
    "# Make sure all ip_addresses are above the minimum lower bound\n",
    "print(fraud_df[fraud_df['ip_address'] <= lower_bound].shape)"
   ]
  },
  {
   "cell_type": "markdown",
   "metadata": {},
   "source": [
    "It looks like I have run into the first major issue to this dataset. There are entries with ip addresses outside of the complete range of ip addresses. For these entries, it would be most appropriate to fill them in with \"Unknown\"."
   ]
  },
  {
   "cell_type": "markdown",
   "metadata": {},
   "source": [
    "### Note:\n",
    "The following code is the code necessary for transforming the dataframe (merging the two datasets). It is commented out since the resulting dataset has been written into another csv file and reloaded into the notebook to quicken the startup process."
   ]
  },
  {
   "cell_type": "code",
   "execution_count": 14,
   "metadata": {},
   "outputs": [],
   "source": [
    "# # Create an empty list to contain the corresponding countries\n",
    "# country_list = []\n",
    "\n",
    "# # Create a copy of the fraud dataframe\n",
    "# fraud_copy = fraud_df.copy()\n",
    "\n",
    "# # Iterate over the values in the ip addresses\n",
    "# for row in fraud_df['ip_address']:\n",
    "#     # Assign the filtered result to a variable\n",
    "#     country = ip_df.loc[(row >= ip_df['lower_bound_ip_address']) & \n",
    "#               (row <= ip_df['upper_bound_ip_address']), 'country'].tolist()\n",
    "#     # If there is a corresponding country, append it to the list\n",
    "#     if len(country) == 1:\n",
    "#         country_list.extend(country)\n",
    "#     # If there are two possible countries, raise an error\n",
    "#     elif len(country) > 1:\n",
    "#         raise NameError('More than one possible country')\n",
    "#     # Else, append a null value\n",
    "#     else:\n",
    "#         country_list.append(np.nan)\n",
    "\n",
    "# # Assign a new column to the datafrmae\n",
    "# fraud_copy['country'] = country_list\n",
    "\n",
    "# # Fill in the null values with \"Unknown\"\n",
    "# fraud_copy.fillna('Unknown', inplace=True)"
   ]
  },
  {
   "cell_type": "code",
   "execution_count": 15,
   "metadata": {},
   "outputs": [],
   "source": [
    "# Needs to be benchmarked against the code above.\n",
    "\n",
    "# # Create an empty list to contain the corresponding countries\n",
    "# country_list = []\n",
    "\n",
    "# # Iterate over the fraud dataframe using iterrows\n",
    "# for index, row in fraud_df.iterrows():\n",
    "#     # Assign the filtered result to a variable\n",
    "#     country = ip_df.loc[(row['ip_address'] >= ip_df['lower_bound_ip_address']) & \n",
    "#               (row['ip_address'] <= ip_df['upper_bound_ip_address']), 'country'].tolist()\n",
    "#     # If there is a corresponding country, append it to the list\n",
    "#     if len(country) == 1:\n",
    "#         country_list.extend(country)\n",
    "#     # If there are two possible countries, raise an error\n",
    "#     elif len(country) > 1:\n",
    "#         raise NameError('More than one possible country')    \n",
    "#     # Else, append a null value\n",
    "#     else:\n",
    "#         country_list.append(np.nan)\n",
    "\n",
    "# # Assign a new column to the datafrmae\n",
    "# fraud_df['country'] = country_list"
   ]
  },
  {
   "cell_type": "code",
   "execution_count": 16,
   "metadata": {},
   "outputs": [],
   "source": [
    "# # Determine the occurrence of the null entries.\n",
    "# fraud_df[fraud_df['country'].isnull()].shape"
   ]
  },
  {
   "cell_type": "markdown",
   "metadata": {},
   "source": [
    "Since my method was computationally slow, I will try proposed attempt on stackoverflow. \n",
    "\n",
    "https://stackoverflow.com/questions/46525786/how-to-join-two-dataframes-for-which-column-values-are-within-a-certain-range"
   ]
  },
  {
   "cell_type": "code",
   "execution_count": 17,
   "metadata": {
    "scrolled": true
   },
   "outputs": [],
   "source": [
    "# ip_df.index = pd.IntervalIndex.from_arrays(ip_df['lower_bound_ip_address'],ip_df['upper_bound_ip_address'],closed='both')\n",
    "\n",
    "# # event = ip_df.loc[ip_df.index.get_indexer(df['ip_address']), 'country']\n",
    "\n",
    "# df['country'] = df['ip_address'].apply(lambda x : ip_df.iloc[ip_df.index.get_loc(x)]['country'])"
   ]
  },
  {
   "cell_type": "markdown",
   "metadata": {},
   "source": [
    "Unfortunately, the method does not work due to the values outside of the given range of ip addresses.\n",
    "\n",
    "Next, I will try another method using the pandasql package.\n",
    "\n",
    "https://stackoverflow.com/questions/30627968/merge-pandas-dataframes-where-one-value-is-between-two-others"
   ]
  },
  {
   "cell_type": "code",
   "execution_count": 18,
   "metadata": {},
   "outputs": [],
   "source": [
    "# # Import the pandasql package\n",
    "# import pandasql as ps\n",
    "\n",
    "# # Write the SQL query\n",
    "# sqlcode = '''\n",
    "# SELECT *\n",
    "# FROM fraud_df\n",
    "# LEFT JOIN ip_df\n",
    "# ON fraud_df.ip_address BETWEEN ip_df.lower_bound_ip_address AND ip_df.upper_bound_ip_address\n",
    "# '''\n",
    "\n",
    "# # Execute the sql query to derive the desired dataframe\n",
    "# merged_df = ps.sqldf(sqlcode, locals())"
   ]
  },
  {
   "cell_type": "markdown",
   "metadata": {},
   "source": [
    "The method appears to be too computationally intensive, more so than the previous method. It takes too long to run (20 minutes and no result). From the same link, I will try using sqlite3 instead."
   ]
  },
  {
   "cell_type": "code",
   "execution_count": 19,
   "metadata": {},
   "outputs": [],
   "source": [
    "# # Attempt the above process using sqlite3\n",
    "\n",
    "# # Import sqlite3\n",
    "# import sqlite3\n",
    "\n",
    "# # Make the database\n",
    "# conn = sqlite3.connect(':memory:')\n",
    "\n",
    "# # Create the tables\n",
    "# fraud_df.to_sql('fraud', conn, index=False)\n",
    "# ip_df.to_sql('ip', conn, index=False)\n",
    "\n",
    "# # Write the SQL query\n",
    "# sqlcode = '''\n",
    "# SELECT *\n",
    "# FROM fraud\n",
    "# LEFT JOIN ip\n",
    "# ON fraud.ip_address BETWEEN ip.lower_bound_ip_address AND ip.upper_bound_ip_address\n",
    "# '''\n",
    "\n",
    "# merged_df = pd.read_sql_query(sqlcode, conn)"
   ]
  },
  {
   "cell_type": "markdown",
   "metadata": {},
   "source": [
    "Likewise, this method is too computational intensive. Similar results as the prior attempt with pandasql."
   ]
  },
  {
   "cell_type": "markdown",
   "metadata": {},
   "source": [
    "### Break:\n",
    "Since I can not currently determine a more efficient method to merge these two datasets, I will write the transformed dataset into a working csv file. This will allow me to skip the transformation steps in the future."
   ]
  },
  {
   "cell_type": "code",
   "execution_count": 20,
   "metadata": {},
   "outputs": [],
   "source": [
    "# # Make sure no rows were lost\n",
    "# assert len(fraud_copy) == len(fraud_df)"
   ]
  },
  {
   "cell_type": "code",
   "execution_count": 21,
   "metadata": {},
   "outputs": [],
   "source": [
    "# # Write the dataset into another csv file \n",
    "# fraud_copy.to_csv('transformed_fraud.csv')"
   ]
  },
  {
   "cell_type": "markdown",
   "metadata": {},
   "source": [
    "### Analytics and Inferential Statistics\n",
    "At this point, I will load the working dataset back into the notebook. I will focus on drawing insights and creating visualizations that will address the objective at hand. The problem being addressed here is a imbalanced classification problem. \n",
    "\n",
    "First let's perform some feature engineering, particularly on the date columns."
   ]
  },
  {
   "cell_type": "code",
   "execution_count": 22,
   "metadata": {},
   "outputs": [],
   "source": [
    "# Load in the transformed fraud dataset\n",
    "comp_fraud = pd.read_csv('transformed_fraud.csv', index_col=0)"
   ]
  },
  {
   "cell_type": "code",
   "execution_count": 23,
   "metadata": {},
   "outputs": [],
   "source": [
    "# Make sure no rows were lost in the ETL process\n",
    "assert len(comp_fraud) == len(fraud_df)\n",
    "\n",
    "# Make sure no columns were lost\n",
    "assert len(comp_fraud.columns) - 1 == len(fraud_df.columns) "
   ]
  },
  {
   "cell_type": "code",
   "execution_count": 24,
   "metadata": {},
   "outputs": [],
   "source": [
    "# Convert the signup_time and purchase_time dtypes to datetime objects\n",
    "for col in ['signup_time', 'purchase_time']:\n",
    "    comp_fraud[col] = pd.to_datetime(comp_fraud[col])"
   ]
  },
  {
   "cell_type": "code",
   "execution_count": 25,
   "metadata": {},
   "outputs": [
    {
     "name": "stdout",
     "output_type": "stream",
     "text": [
      "First Signup: 2015-01-01 00:00:42\n",
      "Last Signup: 2015-08-18 04:40:29\n"
     ]
    }
   ],
   "source": [
    "# Print the range of for signup times\n",
    "print ('First Signup: {}'.format(comp_fraud['signup_time'].min()))\n",
    "print ('Last Signup: {}'.format(comp_fraud['signup_time'].max()))"
   ]
  },
  {
   "cell_type": "code",
   "execution_count": 26,
   "metadata": {
    "scrolled": true
   },
   "outputs": [
    {
     "name": "stdout",
     "output_type": "stream",
     "text": [
      "First Purchase: 2015-01-01 00:00:44\n",
      "Last Purchase: 2015-12-16 02:56:05\n"
     ]
    }
   ],
   "source": [
    "# Print the range of for purchase times\n",
    "print ('First Purchase: {}'.format(comp_fraud['purchase_time'].min()))\n",
    "print ('Last Purchase: {}'.format(comp_fraud['purchase_time'].max()))"
   ]
  },
  {
   "cell_type": "markdown",
   "metadata": {},
   "source": [
    "It appears that the dataset is confined within year 2015. As a result, I will derive 3 variables for each time variables (dayofweek, weekofyear, and month). Additionally, I will calculate the time difference between signup and purchase times."
   ]
  },
  {
   "cell_type": "code",
   "execution_count": 27,
   "metadata": {},
   "outputs": [],
   "source": [
    "# Define the three variables for signup\n",
    "comp_fraud['signup_month'] = comp_fraud['signup_time'].dt.month\n",
    "comp_fraud['signup_week'] = comp_fraud['signup_time'].dt.weekofyear\n",
    "comp_fraud['signup_day'] = comp_fraud['signup_time'].dt.weekday\n",
    "\n",
    "# Define the three variables for purchase\n",
    "comp_fraud['purchase_month'] = comp_fraud['purchase_time'].dt.month\n",
    "comp_fraud['purchase_week'] = comp_fraud['purchase_time'].dt.weekofyear\n",
    "comp_fraud['purchase_day'] = comp_fraud['purchase_time'].dt.weekday\n",
    "\n",
    "# Define the time difference between signup and purchase\n",
    "comp_fraud['purchase_to_signup'] = (comp_fraud['purchase_time'] - comp_fraud['signup_time']).dt.days"
   ]
  },
  {
   "cell_type": "code",
   "execution_count": 28,
   "metadata": {},
   "outputs": [],
   "source": [
    "# Define the time variables (these will be categorical variables)\n",
    "TIME = ['signup_month', 'signup_week', 'signup_day',\n",
    "       'purchase_month', 'purchase_week', 'purchase_day']\n",
    "\n",
    "# Append the purchase_to_signup to the list of numerical columns\n",
    "NUMERICAL.append('purchase_to_signup')"
   ]
  },
  {
   "cell_type": "markdown",
   "metadata": {},
   "source": [
    "Next, I will use inferential statistics to determine which variables contribute to identifying fraudulent activity. I will use two-sided t-tests for numerical variables and chi-squared tests for categorical variables (p-value < 0.05)."
   ]
  },
  {
   "cell_type": "code",
   "execution_count": 29,
   "metadata": {},
   "outputs": [
    {
     "name": "stdout",
     "output_type": "stream",
     "text": [
      "Fraudulent Activity occurs at a rate of 9.36%\n"
     ]
    }
   ],
   "source": [
    "# Define the target and non-target dataframes\n",
    "fraud = comp_fraud[comp_fraud['class'] == 1].copy()\n",
    "non_fraud = comp_fraud[comp_fraud['class'] == 0].copy()\n",
    "\n",
    "print ('Fraudulent Activity occurs at a rate of {:.2f}%'. format(np.mean(comp_fraud['class']) * 100))"
   ]
  },
  {
   "cell_type": "code",
   "execution_count": 30,
   "metadata": {},
   "outputs": [
    {
     "name": "stdout",
     "output_type": "stream",
     "text": [
      "T-score for purchase_value: Ttest_indResult(statistic=-0.39301852199253456, pvalue=0.6943063557452367)\n",
      "T-score for age: Ttest_indResult(statistic=-2.574828503654144, pvalue=0.010029922325055042)\n",
      "T-score for purchase_to_signup: Ttest_indResult(statistic=102.95656815888924, pvalue=0.0)\n"
     ]
    }
   ],
   "source": [
    "# Perform the two-sided t-test\n",
    "for col in NUMERICAL:\n",
    "    t_score = stats.ttest_ind(non_fraud[col], fraud[col])\n",
    "    print ('T-score for {}: {}'. format(col, t_score))"
   ]
  },
  {
   "cell_type": "code",
   "execution_count": 31,
   "metadata": {},
   "outputs": [],
   "source": [
    "# Define a function for bootstrapping\n",
    "def bootstrap(cat, num):\n",
    "    '''Returns [num] bootstrap means of specified category'''\n",
    "    # Create [num] instances of empty arrays for low_train, high_train to contain the bootstrap samples\n",
    "    non_fraud_bootstrap = np.empty(num)\n",
    "    fraud_bootstrap = np.empty(num)\n",
    "\n",
    "    for i in range(num):\n",
    "        # Define the bootstrap samples and store them in the empty arrays \n",
    "        non_fraud_bootstrap[i] = np.mean(np.random.choice(non_fraud[cat], len(non_fraud)))\n",
    "        fraud_bootstrap[i] = np.mean(np.random.choice(fraud[cat], len(fraud)))\n",
    "        \n",
    "    return non_fraud_bootstrap, fraud_bootstrap"
   ]
  },
  {
   "cell_type": "code",
   "execution_count": 32,
   "metadata": {},
   "outputs": [
    {
     "name": "stdout",
     "output_type": "stream",
     "text": [
      "\n",
      "purchase_value:\n",
      "95% Confidence Interval for non-Fraudulent Activity: [36.83390162 37.01754259]\n",
      "95% Confidence interval for Fraudulent Activity: [36.70089216 37.28268674]\n"
     ]
    },
    {
     "data": {
      "image/png": "[encoded data removed]",
      "text/plain": [
       "<matplotlib.figure.Figure at 0x16ca9035a20>"
      ]
     },
     "metadata": {},
     "output_type": "display_data"
    },
    {
     "name": "stdout",
     "output_type": "stream",
     "text": [
      "\n",
      "age:\n",
      "95% Confidence Interval for non-Fraudulent Activity: [33.07451519 33.16742449]\n",
      "95% Confidence interval for Fraudulent Activity: [33.17615363 33.46080842]\n"
     ]
    },
    {
     "data": {
      "image/png": "[encoded data removed]",
      "text/plain": [
       "<matplotlib.figure.Figure at 0x16ca708d710>"
      ]
     },
     "metadata": {},
     "output_type": "display_data"
    },
    {
     "name": "stdout",
     "output_type": "stream",
     "text": [
      "\n",
      "purchase_to_signup:\n",
      "95% Confidence Interval for non-Fraudulent Activity: [59.4085267  59.77025376]\n",
      "95% Confidence interval for Fraudulent Activity: [27.17625433 28.44712388]\n"
     ]
    },
    {
     "data": {
      "image/png": "[encoded data removed]",
      "text/plain": [
       "<matplotlib.figure.Figure at 0x16ca5425cf8>"
      ]
     },
     "metadata": {},
     "output_type": "display_data"
    }
   ],
   "source": [
    "# Iterate over the values in the NUMERICAL list\n",
    "for col in NUMERICAL:\n",
    "    \n",
    "    # Define 100 bootstrap samples for each category\n",
    "    non_fraud_repl, fraud_repl = bootstrap(col, 1000)\n",
    "    \n",
    "    # Define the confidence intervals\n",
    "    confidence_interval_non_fraud = np.percentile(non_fraud_repl, [2.5, 97.5])\n",
    "    confidence_interval_fraud = np.percentile(fraud_repl, [2.5, 97.5])\n",
    "    \n",
    "    # Print the results\n",
    "    print ('\\n{}:'.format(col))\n",
    "    print ('95% Confidence Interval for non-Fraudulent Activity:', confidence_interval_non_fraud)\n",
    "    print ('95% Confidence interval for Fraudulent Activity:', confidence_interval_fraud)\n",
    "    \n",
    "    # Plot the samples\n",
    "    sns.distplot(non_fraud_repl, label='Non-Fraud')\n",
    "    sns.distplot(fraud_repl, label='Fraud')\n",
    "    plt.xlabel(col)\n",
    "    plt.ylabel('Frequency')\n",
    "    plt.title('Bootstrap Means of {}'.format(col))\n",
    "    plt.legend()\n",
    "    plt.show()"
   ]
  },
  {
   "cell_type": "code",
   "execution_count": 33,
   "metadata": {
    "scrolled": false
   },
   "outputs": [
    {
     "data": {
      "image/png": "[encoded data removed]",
      "text/plain": [
       "<matplotlib.figure.Figure at 0x16ca966d128>"
      ]
     },
     "metadata": {},
     "output_type": "display_data"
    },
    {
     "data": {
      "image/png": "[encoded data removed]",
      "text/plain": [
       "<matplotlib.figure.Figure at 0x16ca544beb8>"
      ]
     },
     "metadata": {},
     "output_type": "display_data"
    },
    {
     "data": {
      "image/png": "[encoded data removed]",
      "text/plain": [
       "<matplotlib.figure.Figure at 0x16ca54f7358>"
      ]
     },
     "metadata": {},
     "output_type": "display_data"
    }
   ],
   "source": [
    "# Also provide the regular distribution\n",
    "\n",
    "# Iterate over the values in the NUMERICAL list\n",
    "for col in NUMERICAL:\n",
    "    # Plot the samples\n",
    "    sns.distplot(non_fraud[col], label='Non-Fraud')\n",
    "    sns.distplot(fraud[col], label='Fraud')\n",
    "    plt.xlabel(col)\n",
    "    plt.ylabel('Frequency')\n",
    "    plt.title('Distribution of {}'.format(col))\n",
    "    plt.legend()\n",
    "    plt.show()"
   ]
  },
  {
   "cell_type": "code",
   "execution_count": 34,
   "metadata": {
    "scrolled": true
   },
   "outputs": [
    {
     "data": {
      "text/plain": [
       "Text(0.5,1,'Non-Fraudulent Activity')"
      ]
     },
     "execution_count": 34,
     "metadata": {},
     "output_type": "execute_result"
    },
    {
     "data": {
      "image/png": "[encoded data removed]",
      "text/plain": [
       "<matplotlib.figure.Figure at 0x16ca79e4e48>"
      ]
     },
     "metadata": {},
     "output_type": "display_data"
    }
   ],
   "source": [
    "sns.distplot(non_fraud['age'], kde=True, color='red')\n",
    "plt.ylabel('Frequency')\n",
    "plt.title('Non-Fraudulent Activity')"
   ]
  },
  {
   "cell_type": "code",
   "execution_count": 35,
   "metadata": {},
   "outputs": [
    {
     "data": {
      "text/plain": [
       "Text(0.5,1,'Fraudulent Activity')"
      ]
     },
     "execution_count": 35,
     "metadata": {},
     "output_type": "execute_result"
    },
    {
     "data": {
      "image/png": "[encoded data removed]",
      "text/plain": [
       "<matplotlib.figure.Figure at 0x16ca543ef28>"
      ]
     },
     "metadata": {},
     "output_type": "display_data"
    }
   ],
   "source": [
    "sns.distplot(fraud['age'], kde=True)\n",
    "plt.ylabel('Frequency')\n",
    "plt.title('Fraudulent Activity')"
   ]
  },
  {
   "cell_type": "markdown",
   "metadata": {},
   "source": [
    "Notes:\n",
    "-  It appears that purchase value is not a high-impact variable to identifying fraudulent activity. \n",
    "- However, it appears that age is, where fraudulent entries have a higher frequency of between ages 31-35. Additionally, it has a smaller range for ages.\n",
    "- Most fraudulent activity occurs when the purchase is made within 24 hours of the signup time."
   ]
  },
  {
   "cell_type": "code",
   "execution_count": 36,
   "metadata": {},
   "outputs": [
    {
     "data": {
      "text/plain": [
       "['user_id', 'device_id', 'source', 'browser', 'sex', 'ip_address', 'class']"
      ]
     },
     "execution_count": 36,
     "metadata": {},
     "output_type": "execute_result"
    }
   ],
   "source": [
    "CATEGORICAL"
   ]
  },
  {
   "cell_type": "code",
   "execution_count": 37,
   "metadata": {
    "scrolled": true
   },
   "outputs": [
    {
     "data": {
      "text/plain": [
       "user_id               151112\n",
       "signup_time           151112\n",
       "purchase_time         150679\n",
       "purchase_value           122\n",
       "device_id             137956\n",
       "source                     3\n",
       "browser                    5\n",
       "sex                        2\n",
       "age                       58\n",
       "ip_address            143512\n",
       "class                      2\n",
       "country                  182\n",
       "signup_month               8\n",
       "signup_week               34\n",
       "signup_day                 7\n",
       "purchase_month            12\n",
       "purchase_week             51\n",
       "purchase_day               7\n",
       "purchase_to_signup       120\n",
       "dtype: int64"
      ]
     },
     "execution_count": 37,
     "metadata": {},
     "output_type": "execute_result"
    }
   ],
   "source": [
    "comp_fraud.nunique()"
   ]
  },
  {
   "cell_type": "code",
   "execution_count": 38,
   "metadata": {},
   "outputs": [
    {
     "name": "stdout",
     "output_type": "stream",
     "text": [
      "X-squared for source: X-Score:64.92317707262569    p-value:7.981990836440143e-15\n",
      "X-squared for browser: X-Score:44.556571734650184    p-value:4.916028350364759e-09\n",
      "X-squared for sex: X-Score:8.76381632004166    p-value:0.003072654263243465\n",
      "X-squared for country: X-Score:864.7936698678808    p-value:1.0717772484165735e-89\n"
     ]
    }
   ],
   "source": [
    "# Apply chi-squared tests to the categorical columns\n",
    "for col in ['source', 'browser', 'sex', 'country']:\n",
    "    cont_table = pd.crosstab(comp_fraud['class'], comp_fraud[col])\n",
    "    score, p_value, dof, array = stats.chi2_contingency(cont_table)\n",
    "    print ('X-squared for {}: X-Score:{}    p-value:{}'.format(col, score, p_value))"
   ]
  },
  {
   "cell_type": "code",
   "execution_count": 39,
   "metadata": {},
   "outputs": [
    {
     "name": "stdout",
     "output_type": "stream",
     "text": [
      "X-squared for signup_month: X-Score:18934.195905642006    p-value:0.0\n",
      "X-squared for signup_week: X-Score:33877.442965507216    p-value:0.0\n",
      "X-squared for signup_day: X-Score:167.73064169626298    p-value:1.362212147053633e-33\n",
      "X-squared for purchase_month: X-Score:57439.84093652166    p-value:0.0\n",
      "X-squared for purchase_week: X-Score:70898.20523105397    p-value:0.0\n",
      "X-squared for purchase_day: X-Score:149.8269290303558    p-value:8.417414694341885e-30\n"
     ]
    }
   ],
   "source": [
    "# Apply chi-squared tests to the time columns\n",
    "for col in TIME:\n",
    "    cont_table = pd.crosstab(comp_fraud['class'], comp_fraud[col])\n",
    "    score, p_value, dof, array = stats.chi2_contingency(cont_table)\n",
    "    print ('X-squared for {}: X-Score:{}    p-value:{}'.format(col, score, p_value))"
   ]
  },
  {
   "cell_type": "code",
   "execution_count": 40,
   "metadata": {
    "scrolled": false
   },
   "outputs": [
    {
     "data": {
      "image/png": "[encoded data removed]",
      "text/plain": [
       "<matplotlib.figure.Figure at 0x16ca5553cf8>"
      ]
     },
     "metadata": {},
     "output_type": "display_data"
    },
    {
     "data": {
      "image/png": "[encoded data removed]",
      "text/plain": [
       "<matplotlib.figure.Figure at 0x16ca59535c0>"
      ]
     },
     "metadata": {},
     "output_type": "display_data"
    },
    {
     "data": {
      "image/png": "[encoded data removed]",
      "text/plain": [
       "<matplotlib.figure.Figure at 0x16ca53e5320>"
      ]
     },
     "metadata": {},
     "output_type": "display_data"
    },
    {
     "data": {
      "image/png": "[encoded data removed]",
      "text/plain": [
       "<matplotlib.figure.Figure at 0x16ca5806438>"
      ]
     },
     "metadata": {},
     "output_type": "display_data"
    },
    {
     "data": {
      "image/png": "[encoded data removed]",
      "text/plain": [
       "<matplotlib.figure.Figure at 0x16cadd98358>"
      ]
     },
     "metadata": {},
     "output_type": "display_data"
    },
    {
     "data": {
      "image/png": "[encoded data removed]",
      "text/plain": [
       "<matplotlib.figure.Figure at 0x16ca6a480f0>"
      ]
     },
     "metadata": {},
     "output_type": "display_data"
    },
    {
     "data": {
      "image/png": "[encoded data removed]",
      "text/plain": [
       "<matplotlib.figure.Figure at 0x16ca6acea90>"
      ]
     },
     "metadata": {},
     "output_type": "display_data"
    },
    {
     "data": {
      "image/png": "[encoded data removed]",
      "text/plain": [
       "<matplotlib.figure.Figure at 0x16ca6ba5eb8>"
      ]
     },
     "metadata": {},
     "output_type": "display_data"
    },
    {
     "data": {
      "image/png": "[encoded data removed]",
      "text/plain": [
       "<matplotlib.figure.Figure at 0x16ca6c08a90>"
      ]
     },
     "metadata": {},
     "output_type": "display_data"
    }
   ],
   "source": [
    "# Define a new categorical list w/o the country\n",
    "CATEGORICAL = TIME + ['source', 'browser', 'sex']\n",
    "\n",
    "for col in CATEGORICAL:\n",
    "    plt.figure(figsize=(12,3))\n",
    "    sns.countplot(x=col, hue='class', data=comp_fraud)\n",
    "    plt.tight_layout()"
   ]
  },
  {
   "cell_type": "markdown",
   "metadata": {},
   "source": [
    "Notes:\n",
    "- It appears that most fraudulent activity occurs during January (first 3 weeks of the year). In this case, I will keep the weekofyear information, scrapping the day of year and month categories.\n",
    "- SEO and Ads appear to have more entries for fraudulent activities.\n",
    "- Chrome has the most fraud activity\n",
    "\n",
    "Let's take a closer look at these insights, then proceed to working with countries."
   ]
  },
  {
   "cell_type": "code",
   "execution_count": 41,
   "metadata": {},
   "outputs": [
    {
     "data": {
      "text/html": [
       "<div>\n",
       "<style scoped>\n",
       "    .dataframe tbody tr th:only-of-type {\n",
       "        vertical-align: middle;\n",
       "    }\n",
       "\n",
       "    .dataframe tbody tr th {\n",
       "        vertical-align: top;\n",
       "    }\n",
       "\n",
       "    .dataframe thead th {\n",
       "        text-align: right;\n",
       "    }\n",
       "</style>\n",
       "<table border=\"1\" class=\"dataframe\">\n",
       "  <thead>\n",
       "    <tr style=\"text-align: right;\">\n",
       "      <th></th>\n",
       "      <th>class</th>\n",
       "    </tr>\n",
       "    <tr>\n",
       "      <th>signup_week</th>\n",
       "      <th></th>\n",
       "    </tr>\n",
       "  </thead>\n",
       "  <tbody>\n",
       "    <tr>\n",
       "      <th>1</th>\n",
       "      <td>0.514691</td>\n",
       "    </tr>\n",
       "    <tr>\n",
       "      <th>2</th>\n",
       "      <td>0.527185</td>\n",
       "    </tr>\n",
       "    <tr>\n",
       "      <th>3</th>\n",
       "      <td>0.185135</td>\n",
       "    </tr>\n",
       "    <tr>\n",
       "      <th>4</th>\n",
       "      <td>0.048446</td>\n",
       "    </tr>\n",
       "    <tr>\n",
       "      <th>5</th>\n",
       "      <td>0.043399</td>\n",
       "    </tr>\n",
       "  </tbody>\n",
       "</table>\n",
       "</div>"
      ],
      "text/plain": [
       "                class\n",
       "signup_week          \n",
       "1            0.514691\n",
       "2            0.527185\n",
       "3            0.185135\n",
       "4            0.048446\n",
       "5            0.043399"
      ]
     },
     "execution_count": 41,
     "metadata": {},
     "output_type": "execute_result"
    }
   ],
   "source": [
    "# Show the first 5 weeks for signup week\n",
    "comp_fraud.groupby('signup_week').agg({'class':'mean'}).head()"
   ]
  },
  {
   "cell_type": "code",
   "execution_count": 42,
   "metadata": {},
   "outputs": [
    {
     "data": {
      "text/html": [
       "<div>\n",
       "<style scoped>\n",
       "    .dataframe tbody tr th:only-of-type {\n",
       "        vertical-align: middle;\n",
       "    }\n",
       "\n",
       "    .dataframe tbody tr th {\n",
       "        vertical-align: top;\n",
       "    }\n",
       "\n",
       "    .dataframe thead th {\n",
       "        text-align: right;\n",
       "    }\n",
       "</style>\n",
       "<table border=\"1\" class=\"dataframe\">\n",
       "  <thead>\n",
       "    <tr style=\"text-align: right;\">\n",
       "      <th></th>\n",
       "      <th>class</th>\n",
       "    </tr>\n",
       "    <tr>\n",
       "      <th>purchase_week</th>\n",
       "      <th></th>\n",
       "    </tr>\n",
       "  </thead>\n",
       "  <tbody>\n",
       "    <tr>\n",
       "      <th>1</th>\n",
       "      <td>0.982428</td>\n",
       "    </tr>\n",
       "    <tr>\n",
       "      <th>2</th>\n",
       "      <td>0.940825</td>\n",
       "    </tr>\n",
       "    <tr>\n",
       "      <th>3</th>\n",
       "      <td>0.621708</td>\n",
       "    </tr>\n",
       "    <tr>\n",
       "      <th>4</th>\n",
       "      <td>0.041667</td>\n",
       "    </tr>\n",
       "    <tr>\n",
       "      <th>5</th>\n",
       "      <td>0.050000</td>\n",
       "    </tr>\n",
       "  </tbody>\n",
       "</table>\n",
       "</div>"
      ],
      "text/plain": [
       "                  class\n",
       "purchase_week          \n",
       "1              0.982428\n",
       "2              0.940825\n",
       "3              0.621708\n",
       "4              0.041667\n",
       "5              0.050000"
      ]
     },
     "execution_count": 42,
     "metadata": {},
     "output_type": "execute_result"
    }
   ],
   "source": [
    "# Show the first 5 weeks for purchase week\n",
    "comp_fraud.groupby('purchase_week').agg({'class':'mean'}).head()"
   ]
  },
  {
   "cell_type": "code",
   "execution_count": 43,
   "metadata": {},
   "outputs": [
    {
     "data": {
      "text/html": [
       "<div>\n",
       "<style scoped>\n",
       "    .dataframe tbody tr th:only-of-type {\n",
       "        vertical-align: middle;\n",
       "    }\n",
       "\n",
       "    .dataframe tbody tr th {\n",
       "        vertical-align: top;\n",
       "    }\n",
       "\n",
       "    .dataframe thead th {\n",
       "        text-align: right;\n",
       "    }\n",
       "</style>\n",
       "<table border=\"1\" class=\"dataframe\">\n",
       "  <thead>\n",
       "    <tr style=\"text-align: right;\">\n",
       "      <th></th>\n",
       "      <th>class</th>\n",
       "    </tr>\n",
       "    <tr>\n",
       "      <th>source</th>\n",
       "      <th></th>\n",
       "    </tr>\n",
       "  </thead>\n",
       "  <tbody>\n",
       "    <tr>\n",
       "      <th>Ads</th>\n",
       "      <td>0.092066</td>\n",
       "    </tr>\n",
       "    <tr>\n",
       "      <th>Direct</th>\n",
       "      <td>0.105370</td>\n",
       "    </tr>\n",
       "    <tr>\n",
       "      <th>SEO</th>\n",
       "      <td>0.089285</td>\n",
       "    </tr>\n",
       "  </tbody>\n",
       "</table>\n",
       "</div>"
      ],
      "text/plain": [
       "           class\n",
       "source          \n",
       "Ads     0.092066\n",
       "Direct  0.105370\n",
       "SEO     0.089285"
      ]
     },
     "execution_count": 43,
     "metadata": {},
     "output_type": "execute_result"
    }
   ],
   "source": [
    "# Show the fraud rate for source\n",
    "comp_fraud.groupby('source').agg({'class':'mean'})"
   ]
  },
  {
   "cell_type": "code",
   "execution_count": 44,
   "metadata": {},
   "outputs": [
    {
     "data": {
      "text/html": [
       "<div>\n",
       "<style scoped>\n",
       "    .dataframe tbody tr th:only-of-type {\n",
       "        vertical-align: middle;\n",
       "    }\n",
       "\n",
       "    .dataframe tbody tr th {\n",
       "        vertical-align: top;\n",
       "    }\n",
       "\n",
       "    .dataframe thead th {\n",
       "        text-align: right;\n",
       "    }\n",
       "</style>\n",
       "<table border=\"1\" class=\"dataframe\">\n",
       "  <thead>\n",
       "    <tr style=\"text-align: right;\">\n",
       "      <th></th>\n",
       "      <th>class</th>\n",
       "    </tr>\n",
       "    <tr>\n",
       "      <th>browser</th>\n",
       "      <th></th>\n",
       "    </tr>\n",
       "  </thead>\n",
       "  <tbody>\n",
       "    <tr>\n",
       "      <th>Chrome</th>\n",
       "      <td>0.098792</td>\n",
       "    </tr>\n",
       "    <tr>\n",
       "      <th>FireFox</th>\n",
       "      <td>0.095165</td>\n",
       "    </tr>\n",
       "    <tr>\n",
       "      <th>IE</th>\n",
       "      <td>0.086775</td>\n",
       "    </tr>\n",
       "    <tr>\n",
       "      <th>Opera</th>\n",
       "      <td>0.089227</td>\n",
       "    </tr>\n",
       "    <tr>\n",
       "      <th>Safari</th>\n",
       "      <td>0.090201</td>\n",
       "    </tr>\n",
       "  </tbody>\n",
       "</table>\n",
       "</div>"
      ],
      "text/plain": [
       "            class\n",
       "browser          \n",
       "Chrome   0.098792\n",
       "FireFox  0.095165\n",
       "IE       0.086775\n",
       "Opera    0.089227\n",
       "Safari   0.090201"
      ]
     },
     "execution_count": 44,
     "metadata": {},
     "output_type": "execute_result"
    }
   ],
   "source": [
    "# Show the fraud rate for browser\n",
    "comp_fraud.groupby('browser').agg({'class':'mean'})"
   ]
  },
  {
   "cell_type": "code",
   "execution_count": 45,
   "metadata": {},
   "outputs": [
    {
     "data": {
      "text/html": [
       "<div>\n",
       "<style scoped>\n",
       "    .dataframe tbody tr th:only-of-type {\n",
       "        vertical-align: middle;\n",
       "    }\n",
       "\n",
       "    .dataframe tbody tr th {\n",
       "        vertical-align: top;\n",
       "    }\n",
       "\n",
       "    .dataframe thead th {\n",
       "        text-align: right;\n",
       "    }\n",
       "</style>\n",
       "<table border=\"1\" class=\"dataframe\">\n",
       "  <thead>\n",
       "    <tr style=\"text-align: right;\">\n",
       "      <th></th>\n",
       "      <th>class</th>\n",
       "    </tr>\n",
       "    <tr>\n",
       "      <th>sex</th>\n",
       "      <th></th>\n",
       "    </tr>\n",
       "  </thead>\n",
       "  <tbody>\n",
       "    <tr>\n",
       "      <th>F</th>\n",
       "      <td>0.091007</td>\n",
       "    </tr>\n",
       "    <tr>\n",
       "      <th>M</th>\n",
       "      <td>0.095523</td>\n",
       "    </tr>\n",
       "  </tbody>\n",
       "</table>\n",
       "</div>"
      ],
      "text/plain": [
       "        class\n",
       "sex          \n",
       "F    0.091007\n",
       "M    0.095523"
      ]
     },
     "execution_count": 45,
     "metadata": {},
     "output_type": "execute_result"
    }
   ],
   "source": [
    "# Show the fraud rate for sex\n",
    "comp_fraud.groupby('sex').agg({'class':'mean'})"
   ]
  },
  {
   "cell_type": "code",
   "execution_count": 46,
   "metadata": {
    "scrolled": true
   },
   "outputs": [
    {
     "data": {
      "text/plain": [
       "(44, 1)"
      ]
     },
     "execution_count": 46,
     "metadata": {},
     "output_type": "execute_result"
    }
   ],
   "source": [
    "# Show the fraud rate for country\n",
    "country_df = comp_fraud.groupby('country').agg({'class':'mean'}).sort_values('class', ascending=False)\n",
    "\n",
    "# Count all the countries with fraud rates > 10%\n",
    "country_df[country_df['class'] > 0.1].shape"
   ]
  },
  {
   "cell_type": "code",
   "execution_count": 47,
   "metadata": {},
   "outputs": [
    {
     "data": {
      "text/plain": [
       "United States     58049\n",
       "Unknown           21966\n",
       "China             12038\n",
       "Japan              7306\n",
       "United Kingdom     4490\n",
       "Name: country, dtype: int64"
      ]
     },
     "execution_count": 47,
     "metadata": {},
     "output_type": "execute_result"
    }
   ],
   "source": [
    "# Show the 5 most common countries\n",
    "comp_fraud['country'].value_counts()[:5]"
   ]
  },
  {
   "cell_type": "code",
   "execution_count": 48,
   "metadata": {},
   "outputs": [
    {
     "data": {
      "text/html": [
       "<div>\n",
       "<style scoped>\n",
       "    .dataframe tbody tr th:only-of-type {\n",
       "        vertical-align: middle;\n",
       "    }\n",
       "\n",
       "    .dataframe tbody tr th {\n",
       "        vertical-align: top;\n",
       "    }\n",
       "\n",
       "    .dataframe thead th {\n",
       "        text-align: right;\n",
       "    }\n",
       "</style>\n",
       "<table border=\"1\" class=\"dataframe\">\n",
       "  <thead>\n",
       "    <tr style=\"text-align: right;\">\n",
       "      <th></th>\n",
       "      <th>class</th>\n",
       "    </tr>\n",
       "  </thead>\n",
       "  <tbody>\n",
       "    <tr>\n",
       "      <th>United States</th>\n",
       "      <td>0.095626</td>\n",
       "    </tr>\n",
       "    <tr>\n",
       "      <th>Unknown</th>\n",
       "      <td>0.085723</td>\n",
       "    </tr>\n",
       "    <tr>\n",
       "      <th>China</th>\n",
       "      <td>0.086642</td>\n",
       "    </tr>\n",
       "    <tr>\n",
       "      <th>Japan</th>\n",
       "      <td>0.097865</td>\n",
       "    </tr>\n",
       "    <tr>\n",
       "      <th>United Kingdom</th>\n",
       "      <td>0.106236</td>\n",
       "    </tr>\n",
       "  </tbody>\n",
       "</table>\n",
       "</div>"
      ],
      "text/plain": [
       "                   class\n",
       "United States   0.095626\n",
       "Unknown         0.085723\n",
       "China           0.086642\n",
       "Japan           0.097865\n",
       "United Kingdom  0.106236"
      ]
     },
     "execution_count": 48,
     "metadata": {},
     "output_type": "execute_result"
    }
   ],
   "source": [
    "# Create a list with 5 of the most common countries\n",
    "COUNTRY = comp_fraud['country'].value_counts()[:5].index\n",
    "\n",
    "country_df.loc[COUNTRY]"
   ]
  },
  {
   "cell_type": "markdown",
   "metadata": {},
   "source": [
    "### Summary:\n",
    "- Approximately 50% of users that sign up in the first two weeks of the year are frauds, with 18% in the third week.\n",
    "- 95% of users that make a purchase in the first two weeks of the year are fraud entries, with 62% in the third week.\n",
    "- Chrome and Firefox have the highest fraud rates.\n",
    "- Most activity is within the United States. The top 5 countries have fraud rates between 8.5% - 10.6%."
   ]
  },
  {
   "cell_type": "markdown",
   "metadata": {},
   "source": [
    "### Building the model\n",
    "For the model, the most optimal accuracy would be to minimize the false positive and false negatives as much as possible. A false positive represents real activity classified as fraud, whereas a false negative represents fraud classified as real activity. In both cases, there are financial consequences, both with varying magnitude depending on the perspective.\n",
    "\n",
    "For this model, I will use RandomForestClassifier to classify fraudulent activity. My reason for doing so is that it uses a subset of data (both total entries and total variables) in each of its single decision trees and later combines them. This helps address any numerical outliers, and attaches weights to each variables. Computationally, it's also better than most ensemble methods."
   ]
  },
  {
   "cell_type": "code",
   "execution_count": 49,
   "metadata": {},
   "outputs": [
    {
     "name": "stdout",
     "output_type": "stream",
     "text": [
      "2685\n",
      "137956\n"
     ]
    }
   ],
   "source": [
    "device_group = comp_fraud.groupby('device_id').agg({'class':'mean'})\n",
    "print(len(device_group[(device_group['class'] < 1.0) & device_group['class'] > 0.0]))\n",
    "print (len(device_group))"
   ]
  },
  {
   "cell_type": "markdown",
   "metadata": {},
   "source": [
    "Of ~138,000 unique devices, ~2,700 devices (approximaely 2%) have both fraudulent and real activity. Additionally, most devices have a single entry each so the device id itself doesn't provide too much relevant information. As a result, I will exclude it from my columns of interest."
   ]
  },
  {
   "cell_type": "code",
   "execution_count": 50,
   "metadata": {},
   "outputs": [],
   "source": [
    "# Create a copy of the dataset with only the columns of interest\n",
    "CoI = ['purchase_value', 'source', 'browser', 'sex', 'age', 'class', 'country', \n",
    "       'signup_week', 'purchase_week', 'purchase_to_signup']\n",
    "\n",
    "# Define the categorical variables of interest\n",
    "CATEGORICAL = [col for col in CoI if col not in NUMERICAL]\n",
    "\n",
    "# Remove the class (target) variable from the categorical list\n",
    "CATEGORICAL.remove('class')\n",
    "\n",
    "# Create the dataframe\n",
    "processed_df = comp_fraud[CoI].copy()"
   ]
  },
  {
   "cell_type": "code",
   "execution_count": 51,
   "metadata": {},
   "outputs": [],
   "source": [
    "# Create a list with the columns that need to be processed by labelencoder\n",
    "NEEDS_LABEL = [col for col in CoI if processed_df[col].dtype == object]\n",
    "\n",
    "# Iterate over the list and apply LabelEncoder\n",
    "for col in NEEDS_LABEL:\n",
    "    processed_df[col] = LabelEncoder().fit_transform(processed_df[col])"
   ]
  },
  {
   "cell_type": "code",
   "execution_count": 52,
   "metadata": {},
   "outputs": [
    {
     "data": {
      "text/plain": [
       "purchase_value        122\n",
       "source                  3\n",
       "browser                 5\n",
       "sex                     2\n",
       "age                    58\n",
       "class                   2\n",
       "country               182\n",
       "signup_week            34\n",
       "purchase_week          51\n",
       "purchase_to_signup    120\n",
       "dtype: int64"
      ]
     },
     "execution_count": 52,
     "metadata": {},
     "output_type": "execute_result"
    }
   ],
   "source": [
    "processed_df.nunique()"
   ]
  },
  {
   "cell_type": "code",
   "execution_count": 53,
   "metadata": {},
   "outputs": [],
   "source": [
    "# Define the X and y data\n",
    "X = processed_df.drop(['class'], axis=1)\n",
    "y = processed_df['class']\n",
    "\n",
    "# Create the dummy variables and remove the original column from the X data\n",
    "for col in CATEGORICAL:\n",
    "    group_dummies = pd.get_dummies(X[col]).rename(columns=lambda x: col + str(x))\n",
    "    X = X.join(group_dummies)\n",
    "    del X[col]\n",
    "\n",
    "# Split the test and training data\n",
    "X_train, X_test, y_train, y_test = train_test_split(X, y, test_size=0.2, random_state=123)"
   ]
  },
  {
   "cell_type": "code",
   "execution_count": 54,
   "metadata": {},
   "outputs": [
    {
     "data": {
      "text/plain": [
       "RandomForestClassifier(bootstrap=True, class_weight=None, criterion='gini',\n",
       "            max_depth=None, max_features='auto', max_leaf_nodes=None,\n",
       "            min_impurity_decrease=0.0, min_impurity_split=None,\n",
       "            min_samples_leaf=1, min_samples_split=2,\n",
       "            min_weight_fraction_leaf=0.0, n_estimators=200, n_jobs=1,\n",
       "            oob_score=False, random_state=None, verbose=0,\n",
       "            warm_start=False)"
      ]
     },
     "execution_count": 54,
     "metadata": {},
     "output_type": "execute_result"
    }
   ],
   "source": [
    "# Instantiate the RandomForestClassifier with 200 estimators\n",
    "rf = RandomForestClassifier(n_estimators=200)\n",
    "\n",
    "# Fit the model with the data\n",
    "rf.fit(X_train, y_train)"
   ]
  },
  {
   "cell_type": "code",
   "execution_count": 55,
   "metadata": {},
   "outputs": [
    {
     "data": {
      "image/png": "[encoded data removed]",
      "text/plain": [
       "<matplotlib.figure.Figure at 0x16ca6f5ceb8>"
      ]
     },
     "metadata": {},
     "output_type": "display_data"
    }
   ],
   "source": [
    "# Extract the feature importances and zip it with the columns into a dataframe# Extrac \n",
    "importances = rf.feature_importances_[:15]\n",
    "features = pd.DataFrame({'feature': X.columns[:15], 'importance': importances})\n",
    "features.sort_values(by='importance', ascending=False, inplace=True)\n",
    "\n",
    "# Display a horizontal barplot with the feature importances\n",
    "plt.figure(figsize=(10,6))\n",
    "sns.barplot(x=features['importance'], y=features['feature'], color='blue', orient='h')\n",
    "plt.tight_layout()"
   ]
  },
  {
   "cell_type": "code",
   "execution_count": 56,
   "metadata": {},
   "outputs": [
    {
     "name": "stdout",
     "output_type": "stream",
     "text": [
      "Score:     0.7641433767433524\n",
      "Score:     0.7646523075796948\n"
     ]
    }
   ],
   "source": [
    "# Predit the test data\n",
    "predicted_proba_test = rf.predict_proba(X_test)[:, -1]\n",
    "predicted_test = rf.predict(X_test)\n",
    "\n",
    "print ('Score:     {}'.format(roc_auc_score(y_test, predicted_proba_test)))\n",
    "print ('Score:     {}'.format(roc_auc_score(y_test, predicted_test)))"
   ]
  },
  {
   "cell_type": "code",
   "execution_count": 57,
   "metadata": {
    "scrolled": true
   },
   "outputs": [
    {
     "data": {
      "image/png": "[encoded data removed]",
      "text/plain": [
       "<matplotlib.figure.Figure at 0x16ca6fe9c18>"
      ]
     },
     "metadata": {},
     "output_type": "display_data"
    }
   ],
   "source": [
    "# Plot the ROC Curve\n",
    "fpr, tpr, threshold = roc_curve(y_test, predicted_test)\n",
    "roc_auc = auc(fpr, tpr)\n",
    "\n",
    "plt.title('Receiver Operating Characteristic')\n",
    "plt.plot(fpr, tpr, 'b', label = 'AUC = %0.2f' % roc_auc)\n",
    "plt.legend(loc = 'lower right')\n",
    "plt.plot([0, 1], [0, 1],'r--')\n",
    "plt.xlim([0, 1])\n",
    "plt.ylim([0, 1])\n",
    "plt.ylabel('True Positive Rate')\n",
    "plt.xlabel('False Positive Rate')\n",
    "plt.show()"
   ]
  },
  {
   "cell_type": "code",
   "execution_count": 58,
   "metadata": {},
   "outputs": [
    {
     "data": {
      "image/png": "[encoded data removed]",
      "text/plain": [
       "<matplotlib.figure.Figure at 0x16ca75a58d0>"
      ]
     },
     "metadata": {},
     "output_type": "display_data"
    }
   ],
   "source": [
    "# Plot the ROC Curve\n",
    "fpr, tpr, threshold = roc_curve(y_test, predicted_proba_test)\n",
    "roc_auc = auc(fpr, tpr)\n",
    "\n",
    "plt.title('Receiver Operating Characteristic')\n",
    "plt.plot(fpr, tpr, 'b', label = 'AUC = %0.2f' % roc_auc)\n",
    "plt.legend(loc = 'lower right')\n",
    "plt.plot([0, 1], [0, 1],'r--')\n",
    "plt.xlim([0, 1])\n",
    "plt.ylim([0, 1])\n",
    "plt.ylabel('True Positive Rate')\n",
    "plt.xlabel('False Positive Rate')\n",
    "plt.show()"
   ]
  },
  {
   "cell_type": "code",
   "execution_count": 59,
   "metadata": {},
   "outputs": [
    {
     "name": "stdout",
     "output_type": "stream",
     "text": [
      "Predicted Fraud Rate: 5.15%\n",
      "Actual Fraud Rate: 9.60%\n"
     ]
    }
   ],
   "source": [
    "# Predict the full fraud rate\n",
    "predicted_churn_rate = predicted_test.sum() / len(predicted_test)\n",
    "\n",
    "# print the final result\n",
    "print ('Predicted Fraud Rate: {:.2f}%'.format(predicted_churn_rate * 100))\n",
    "print ('Actual Fraud Rate: {:.2f}%'.format(np.mean(y_test) * 100))"
   ]
  },
  {
   "cell_type": "markdown",
   "metadata": {},
   "source": [
    "## Conclusion:\n",
    "It appears that the model underestimates the fraud rate. This suggests the occurrence of false positives in the classification. However, because the model has an auc score of ~0.765, the model is acceptable in a real world problem. The model is unable to correctly isolate all fradulent activity, but it appears to get approximately half.\n",
    "- Most fraudulent activity occurs at the beginning of the year (likely some sort of promotional event to increase customer activity). \n",
    "- Fraudulent activity is most often performed by users that create their accounts immediately prior to their purchases (bot activity?). \n",
    "- Individuals of ages 31-35 have a higher risk factor for fraud.\n",
    "\n",
    "### Future Actions:\n",
    "- Spread promotional events throughout the year, instead of only at the beginning of the year\n",
    "- If there are no promotional events, the program/site could have issues at that time during the year allowing more fraudulent activity to bypass the security.\n",
    "- Enforce a waiting interval of (24-48hrs) between the time of signup and time of purchase. This could slow down the traffic of bots.\n",
    "- If user is identified to be high risk fraudulent, take additional steps to verify the user is real.\n",
    "- If there is very high risk for a particular user (>85%), have a real individual review the activity.\n",
    "\n",
    "### Future Direction: (given more time)\n",
    "- Derive variables to address duplicate device_ids and ip_addresses. Sharing of device_id and ip_address across multiple user_ids can indicate fraudulent activity.\n",
    "- Execute techniques to address imbalanced classification problems."
   ]
  },
  {
   "cell_type": "code",
   "execution_count": null,
   "metadata": {},
   "outputs": [],
   "source": []
  }
 ],
 "metadata": {
  "kernelspec": {
   "display_name": "Python 3",
   "language": "python",
   "name": "python3"
  },
  "language_info": {
   "codemirror_mode": {
    "name": "ipython",
    "version": 3
   },
   "file_extension": ".py",
   "mimetype": "text/x-python",
   "name": "python",
   "nbconvert_exporter": "python",
   "pygments_lexer": "ipython3",
   "version": "3.6.4"
  }
 },
 "nbformat": 4,
 "nbformat_minor": 2
}
