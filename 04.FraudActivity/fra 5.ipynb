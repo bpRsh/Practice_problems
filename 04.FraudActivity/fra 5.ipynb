{
 "cells": [
  {
   "cell_type": "code",
   "execution_count": 1,
   "metadata": {},
   "outputs": [],
   "source": [
    "%matplotlib inline\n",
    "import pandas as pd\n",
    "from os import listdir\n",
    "from matplotlib import pyplot as plt\n",
    "import numpy as np\n",
    "import glob, re\n",
    "import seaborn as sns\n",
    "from datetime import datetime,date\n",
    "np.random.seed(41)"
   ]
  },
  {
   "cell_type": "code",
   "execution_count": 2,
   "metadata": {},
   "outputs": [
    {
     "name": "stdout",
     "output_type": "stream",
     "text": [
      "Fraud_Data.csv\n",
      "IpAddress_to_Country.csv\n"
     ]
    }
   ],
   "source": [
    "%%bash\n",
    "ls data/"
   ]
  },
  {
   "cell_type": "code",
   "execution_count": 3,
   "metadata": {},
   "outputs": [
    {
     "name": "stdout",
     "output_type": "stream",
     "text": [
      "data frames read:['IpAddress_to_Country', 'Fraud_Data']\n",
      "local variables with the same names are created.\n"
     ]
    }
   ],
   "source": [
    "dfs = { re.search('/([^/\\.]*)\\.csv', fn).group(1):pd.read_csv(fn) for fn in glob.glob('data/*.csv')}\n",
    "print('data frames read:{}'.format(list(dfs.keys())))\n",
    "\n",
    "print('local variables with the same names are created.')\n",
    "for k, v in dfs.items(): locals()[k] = v"
   ]
  },
  {
   "cell_type": "code",
   "execution_count": 4,
   "metadata": {},
   "outputs": [
    {
     "name": "stdout",
     "output_type": "stream",
     "text": [
      "IpAddress_to_Country\n",
      "   lower_bound_ip_address  upper_bound_ip_address    country\n",
      "0              16777216.0                16777471  Australia\n",
      "1              16777472.0                16777727      China\n",
      "2              16777728.0                16778239      China\n",
      "3              16778240.0                16779263  Australia\n",
      "4              16779264.0                16781311      China\n",
      "(138846, 3)\n",
      "Fraud_Data\n",
      "   user_id          signup_time        purchase_time  purchase_value  \\\n",
      "0    22058  2015-02-24 22:55:49  2015-04-18 02:47:11              34   \n",
      "1   333320  2015-06-07 20:39:50  2015-06-08 01:38:54              16   \n",
      "2     1359  2015-01-01 18:52:44  2015-01-01 18:52:45              15   \n",
      "3   150084  2015-04-28 21:13:25  2015-05-04 13:54:50              44   \n",
      "4   221365  2015-07-21 07:09:52  2015-09-09 18:40:53              39   \n",
      "\n",
      "       device_id source browser sex  age    ip_address  class  \n",
      "0  QVPSPJUOCKZAR    SEO  Chrome   M   39  7.327584e+08      0  \n",
      "1  EOGFQPIZPYXFZ    Ads  Chrome   F   53  3.503114e+08      0  \n",
      "2  YSSKYOSJHPPLJ    SEO   Opera   M   53  2.621474e+09      1  \n",
      "3  ATGTXKYKUDUQN    SEO  Safari   M   41  3.840542e+09      0  \n",
      "4  NAUITBZFJKHWW    Ads  Safari   M   45  4.155831e+08      0  \n",
      "(151112, 11)\n"
     ]
    }
   ],
   "source": [
    "for k, v in dfs.items():\n",
    "    print(k)\n",
    "    print(v.head())\n",
    "    print(v.shape)"
   ]
  },
  {
   "cell_type": "markdown",
   "metadata": {},
   "source": [
    "Let's add country to the original dataset using IP address"
   ]
  },
  {
   "cell_type": "code",
   "execution_count": 6,
   "metadata": {},
   "outputs": [
    {
     "data": {
      "text/html": [
       "<div>\n",
       "<style scoped>\n",
       "    .dataframe tbody tr th:only-of-type {\n",
       "        vertical-align: middle;\n",
       "    }\n",
       "\n",
       "    .dataframe tbody tr th {\n",
       "        vertical-align: top;\n",
       "    }\n",
       "\n",
       "    .dataframe thead th {\n",
       "        text-align: right;\n",
       "    }\n",
       "</style>\n",
       "<table border=\"1\" class=\"dataframe\">\n",
       "  <thead>\n",
       "    <tr style=\"text-align: right;\">\n",
       "      <th></th>\n",
       "      <th>user_id</th>\n",
       "      <th>signup_time</th>\n",
       "      <th>purchase_time</th>\n",
       "      <th>purchase_value</th>\n",
       "      <th>device_id</th>\n",
       "      <th>source</th>\n",
       "      <th>browser</th>\n",
       "      <th>sex</th>\n",
       "      <th>age</th>\n",
       "      <th>ip_address</th>\n",
       "      <th>class</th>\n",
       "      <th>country</th>\n",
       "    </tr>\n",
       "  </thead>\n",
       "  <tbody>\n",
       "    <tr>\n",
       "      <th>0</th>\n",
       "      <td>22058</td>\n",
       "      <td>2015-02-24 22:55:49</td>\n",
       "      <td>2015-04-18 02:47:11</td>\n",
       "      <td>34</td>\n",
       "      <td>QVPSPJUOCKZAR</td>\n",
       "      <td>SEO</td>\n",
       "      <td>Chrome</td>\n",
       "      <td>M</td>\n",
       "      <td>39</td>\n",
       "      <td>732758368</td>\n",
       "      <td>0</td>\n",
       "      <td>Japan</td>\n",
       "    </tr>\n",
       "    <tr>\n",
       "      <th>1</th>\n",
       "      <td>333320</td>\n",
       "      <td>2015-06-07 20:39:50</td>\n",
       "      <td>2015-06-08 01:38:54</td>\n",
       "      <td>16</td>\n",
       "      <td>EOGFQPIZPYXFZ</td>\n",
       "      <td>Ads</td>\n",
       "      <td>Chrome</td>\n",
       "      <td>F</td>\n",
       "      <td>53</td>\n",
       "      <td>350311387</td>\n",
       "      <td>0</td>\n",
       "      <td>United States</td>\n",
       "    </tr>\n",
       "    <tr>\n",
       "      <th>2</th>\n",
       "      <td>1359</td>\n",
       "      <td>2015-01-01 18:52:44</td>\n",
       "      <td>2015-01-01 18:52:45</td>\n",
       "      <td>15</td>\n",
       "      <td>YSSKYOSJHPPLJ</td>\n",
       "      <td>SEO</td>\n",
       "      <td>Opera</td>\n",
       "      <td>M</td>\n",
       "      <td>53</td>\n",
       "      <td>2621473820</td>\n",
       "      <td>1</td>\n",
       "      <td>United States</td>\n",
       "    </tr>\n",
       "    <tr>\n",
       "      <th>3</th>\n",
       "      <td>150084</td>\n",
       "      <td>2015-04-28 21:13:25</td>\n",
       "      <td>2015-05-04 13:54:50</td>\n",
       "      <td>44</td>\n",
       "      <td>ATGTXKYKUDUQN</td>\n",
       "      <td>SEO</td>\n",
       "      <td>Safari</td>\n",
       "      <td>M</td>\n",
       "      <td>41</td>\n",
       "      <td>3840542443</td>\n",
       "      <td>0</td>\n",
       "      <td>NA</td>\n",
       "    </tr>\n",
       "    <tr>\n",
       "      <th>4</th>\n",
       "      <td>221365</td>\n",
       "      <td>2015-07-21 07:09:52</td>\n",
       "      <td>2015-09-09 18:40:53</td>\n",
       "      <td>39</td>\n",
       "      <td>NAUITBZFJKHWW</td>\n",
       "      <td>Ads</td>\n",
       "      <td>Safari</td>\n",
       "      <td>M</td>\n",
       "      <td>45</td>\n",
       "      <td>415583117</td>\n",
       "      <td>0</td>\n",
       "      <td>United States</td>\n",
       "    </tr>\n",
       "  </tbody>\n",
       "</table>\n",
       "</div>"
      ],
      "text/plain": [
       "   user_id          signup_time        purchase_time  purchase_value  \\\n",
       "0    22058  2015-02-24 22:55:49  2015-04-18 02:47:11              34   \n",
       "1   333320  2015-06-07 20:39:50  2015-06-08 01:38:54              16   \n",
       "2     1359  2015-01-01 18:52:44  2015-01-01 18:52:45              15   \n",
       "3   150084  2015-04-28 21:13:25  2015-05-04 13:54:50              44   \n",
       "4   221365  2015-07-21 07:09:52  2015-09-09 18:40:53              39   \n",
       "\n",
       "       device_id source browser sex  age  ip_address  class        country  \n",
       "0  QVPSPJUOCKZAR    SEO  Chrome   M   39   732758368      0          Japan  \n",
       "1  EOGFQPIZPYXFZ    Ads  Chrome   F   53   350311387      0  United States  \n",
       "2  YSSKYOSJHPPLJ    SEO   Opera   M   53  2621473820      1  United States  \n",
       "3  ATGTXKYKUDUQN    SEO  Safari   M   41  3840542443      0             NA  \n",
       "4  NAUITBZFJKHWW    Ads  Safari   M   45   415583117      0  United States  "
      ]
     },
     "execution_count": 6,
     "metadata": {},
     "output_type": "execute_result"
    }
   ],
   "source": [
    "Fraud_Data['ip_address'] = Fraud_Data['ip_address'].astype(int)\n",
    "IpAddress_to_Country['lower_bound_ip_address'] = IpAddress_to_Country['lower_bound_ip_address'].astype(int)\n",
    "IpAddress_to_Country['upper_bound_ip_address'] = IpAddress_to_Country['upper_bound_ip_address'].astype(int)\n",
    "\n",
    "def get_country(v):\n",
    "    B= IpAddress_to_Country\n",
    "    result = B.loc[(B['lower_bound_ip_address'].le(v)) & (B['upper_bound_ip_address'].ge(v)), 'country'].values\n",
    "    \n",
    "    if result.shape[0]>0:\n",
    "        return result[0]\n",
    "    else:\n",
    "        return 'NA'\n",
    "\n",
    "Fraud_Data['country']=Fraud_Data.ip_address.map(get_country)\n",
    "Fraud_Data.head()"
   ]
  },
  {
   "cell_type": "code",
   "execution_count": 7,
   "metadata": {},
   "outputs": [
    {
     "data": {
      "text/html": [
       "<div>\n",
       "<style scoped>\n",
       "    .dataframe tbody tr th:only-of-type {\n",
       "        vertical-align: middle;\n",
       "    }\n",
       "\n",
       "    .dataframe tbody tr th {\n",
       "        vertical-align: top;\n",
       "    }\n",
       "\n",
       "    .dataframe thead th {\n",
       "        text-align: right;\n",
       "    }\n",
       "</style>\n",
       "<table border=\"1\" class=\"dataframe\">\n",
       "  <thead>\n",
       "    <tr style=\"text-align: right;\">\n",
       "      <th></th>\n",
       "      <th>user_id</th>\n",
       "      <th>signup_time</th>\n",
       "      <th>purchase_time</th>\n",
       "      <th>purchase_value</th>\n",
       "      <th>device_id</th>\n",
       "      <th>source</th>\n",
       "      <th>browser</th>\n",
       "      <th>sex</th>\n",
       "      <th>age</th>\n",
       "      <th>ip_address</th>\n",
       "      <th>class</th>\n",
       "      <th>country</th>\n",
       "    </tr>\n",
       "  </thead>\n",
       "  <tbody>\n",
       "    <tr>\n",
       "      <th>0</th>\n",
       "      <td>22058</td>\n",
       "      <td>2015-02-24 22:55:49</td>\n",
       "      <td>2015-04-18 02:47:11</td>\n",
       "      <td>34</td>\n",
       "      <td>QVPSPJUOCKZAR</td>\n",
       "      <td>0</td>\n",
       "      <td>0</td>\n",
       "      <td>0</td>\n",
       "      <td>39</td>\n",
       "      <td>732758368</td>\n",
       "      <td>0</td>\n",
       "      <td>0</td>\n",
       "    </tr>\n",
       "    <tr>\n",
       "      <th>1</th>\n",
       "      <td>333320</td>\n",
       "      <td>2015-06-07 20:39:50</td>\n",
       "      <td>2015-06-08 01:38:54</td>\n",
       "      <td>16</td>\n",
       "      <td>EOGFQPIZPYXFZ</td>\n",
       "      <td>1</td>\n",
       "      <td>0</td>\n",
       "      <td>1</td>\n",
       "      <td>53</td>\n",
       "      <td>350311387</td>\n",
       "      <td>0</td>\n",
       "      <td>1</td>\n",
       "    </tr>\n",
       "    <tr>\n",
       "      <th>2</th>\n",
       "      <td>1359</td>\n",
       "      <td>2015-01-01 18:52:44</td>\n",
       "      <td>2015-01-01 18:52:45</td>\n",
       "      <td>15</td>\n",
       "      <td>YSSKYOSJHPPLJ</td>\n",
       "      <td>0</td>\n",
       "      <td>1</td>\n",
       "      <td>0</td>\n",
       "      <td>53</td>\n",
       "      <td>2621473820</td>\n",
       "      <td>1</td>\n",
       "      <td>1</td>\n",
       "    </tr>\n",
       "    <tr>\n",
       "      <th>3</th>\n",
       "      <td>150084</td>\n",
       "      <td>2015-04-28 21:13:25</td>\n",
       "      <td>2015-05-04 13:54:50</td>\n",
       "      <td>44</td>\n",
       "      <td>ATGTXKYKUDUQN</td>\n",
       "      <td>0</td>\n",
       "      <td>2</td>\n",
       "      <td>0</td>\n",
       "      <td>41</td>\n",
       "      <td>3840542443</td>\n",
       "      <td>0</td>\n",
       "      <td>2</td>\n",
       "    </tr>\n",
       "    <tr>\n",
       "      <th>4</th>\n",
       "      <td>221365</td>\n",
       "      <td>2015-07-21 07:09:52</td>\n",
       "      <td>2015-09-09 18:40:53</td>\n",
       "      <td>39</td>\n",
       "      <td>NAUITBZFJKHWW</td>\n",
       "      <td>1</td>\n",
       "      <td>2</td>\n",
       "      <td>0</td>\n",
       "      <td>45</td>\n",
       "      <td>415583117</td>\n",
       "      <td>0</td>\n",
       "      <td>1</td>\n",
       "    </tr>\n",
       "  </tbody>\n",
       "</table>\n",
       "</div>"
      ],
      "text/plain": [
       "   user_id          signup_time        purchase_time  purchase_value  \\\n",
       "0    22058  2015-02-24 22:55:49  2015-04-18 02:47:11              34   \n",
       "1   333320  2015-06-07 20:39:50  2015-06-08 01:38:54              16   \n",
       "2     1359  2015-01-01 18:52:44  2015-01-01 18:52:45              15   \n",
       "3   150084  2015-04-28 21:13:25  2015-05-04 13:54:50              44   \n",
       "4   221365  2015-07-21 07:09:52  2015-09-09 18:40:53              39   \n",
       "\n",
       "       device_id  source  browser  sex  age  ip_address  class  country  \n",
       "0  QVPSPJUOCKZAR       0        0    0   39   732758368      0        0  \n",
       "1  EOGFQPIZPYXFZ       1        0    1   53   350311387      0        1  \n",
       "2  YSSKYOSJHPPLJ       0        1    0   53  2621473820      1        1  \n",
       "3  ATGTXKYKUDUQN       0        2    0   41  3840542443      0        2  \n",
       "4  NAUITBZFJKHWW       1        2    0   45   415583117      0        1  "
      ]
     },
     "execution_count": 7,
     "metadata": {},
     "output_type": "execute_result"
    }
   ],
   "source": [
    "data = Fraud_Data.copy()\n",
    "for variable in ['country','sex','source','browser']:\n",
    "    data[variable] = data[variable].factorize()[0]\n",
    "\n",
    "data.head()"
   ]
  },
  {
   "cell_type": "code",
   "execution_count": 8,
   "metadata": {},
   "outputs": [
    {
     "name": "stdout",
     "output_type": "stream",
     "text": [
      "0.0936457726719\n",
      "(151112, 12)\n"
     ]
    }
   ],
   "source": [
    "print(data['class'].mean())\n",
    "print(data.shape)"
   ]
  },
  {
   "cell_type": "code",
   "execution_count": 74,
   "metadata": {},
   "outputs": [
    {
     "data": {
      "text/html": [
       "<div>\n",
       "<style scoped>\n",
       "    .dataframe tbody tr th:only-of-type {\n",
       "        vertical-align: middle;\n",
       "    }\n",
       "\n",
       "    .dataframe tbody tr th {\n",
       "        vertical-align: top;\n",
       "    }\n",
       "\n",
       "    .dataframe thead th {\n",
       "        text-align: right;\n",
       "    }\n",
       "</style>\n",
       "<table border=\"1\" class=\"dataframe\">\n",
       "  <thead>\n",
       "    <tr style=\"text-align: right;\">\n",
       "      <th></th>\n",
       "      <th>user_id</th>\n",
       "      <th>signup_time</th>\n",
       "      <th>purchase_time</th>\n",
       "      <th>purchase_value</th>\n",
       "      <th>device_id</th>\n",
       "      <th>source</th>\n",
       "      <th>browser</th>\n",
       "      <th>sex</th>\n",
       "      <th>age</th>\n",
       "      <th>ip_address</th>\n",
       "      <th>class</th>\n",
       "      <th>country</th>\n",
       "      <th>difference</th>\n",
       "    </tr>\n",
       "  </thead>\n",
       "  <tbody>\n",
       "    <tr>\n",
       "      <th>0</th>\n",
       "      <td>22058</td>\n",
       "      <td>2015-02-24 22:55:49</td>\n",
       "      <td>2015-04-18 02:47:11</td>\n",
       "      <td>34</td>\n",
       "      <td>QVPSPJUOCKZAR</td>\n",
       "      <td>0</td>\n",
       "      <td>0</td>\n",
       "      <td>0</td>\n",
       "      <td>39</td>\n",
       "      <td>732758368</td>\n",
       "      <td>0</td>\n",
       "      <td>0</td>\n",
       "      <td>75111.0</td>\n",
       "    </tr>\n",
       "    <tr>\n",
       "      <th>1</th>\n",
       "      <td>333320</td>\n",
       "      <td>2015-06-07 20:39:50</td>\n",
       "      <td>2015-06-08 01:38:54</td>\n",
       "      <td>16</td>\n",
       "      <td>EOGFQPIZPYXFZ</td>\n",
       "      <td>1</td>\n",
       "      <td>0</td>\n",
       "      <td>1</td>\n",
       "      <td>53</td>\n",
       "      <td>350311387</td>\n",
       "      <td>0</td>\n",
       "      <td>1</td>\n",
       "      <td>299.0</td>\n",
       "    </tr>\n",
       "    <tr>\n",
       "      <th>2</th>\n",
       "      <td>1359</td>\n",
       "      <td>2015-01-01 18:52:44</td>\n",
       "      <td>2015-01-01 18:52:45</td>\n",
       "      <td>15</td>\n",
       "      <td>YSSKYOSJHPPLJ</td>\n",
       "      <td>0</td>\n",
       "      <td>1</td>\n",
       "      <td>0</td>\n",
       "      <td>53</td>\n",
       "      <td>2621473820</td>\n",
       "      <td>1</td>\n",
       "      <td>1</td>\n",
       "      <td>0.0</td>\n",
       "    </tr>\n",
       "    <tr>\n",
       "      <th>3</th>\n",
       "      <td>150084</td>\n",
       "      <td>2015-04-28 21:13:25</td>\n",
       "      <td>2015-05-04 13:54:50</td>\n",
       "      <td>44</td>\n",
       "      <td>ATGTXKYKUDUQN</td>\n",
       "      <td>0</td>\n",
       "      <td>2</td>\n",
       "      <td>0</td>\n",
       "      <td>41</td>\n",
       "      <td>3840542443</td>\n",
       "      <td>0</td>\n",
       "      <td>2</td>\n",
       "      <td>8201.0</td>\n",
       "    </tr>\n",
       "    <tr>\n",
       "      <th>4</th>\n",
       "      <td>221365</td>\n",
       "      <td>2015-07-21 07:09:52</td>\n",
       "      <td>2015-09-09 18:40:53</td>\n",
       "      <td>39</td>\n",
       "      <td>NAUITBZFJKHWW</td>\n",
       "      <td>1</td>\n",
       "      <td>2</td>\n",
       "      <td>0</td>\n",
       "      <td>45</td>\n",
       "      <td>415583117</td>\n",
       "      <td>0</td>\n",
       "      <td>1</td>\n",
       "      <td>72691.0</td>\n",
       "    </tr>\n",
       "  </tbody>\n",
       "</table>\n",
       "</div>"
      ],
      "text/plain": [
       "   user_id         signup_time       purchase_time  purchase_value  \\\n",
       "0    22058 2015-02-24 22:55:49 2015-04-18 02:47:11              34   \n",
       "1   333320 2015-06-07 20:39:50 2015-06-08 01:38:54              16   \n",
       "2     1359 2015-01-01 18:52:44 2015-01-01 18:52:45              15   \n",
       "3   150084 2015-04-28 21:13:25 2015-05-04 13:54:50              44   \n",
       "4   221365 2015-07-21 07:09:52 2015-09-09 18:40:53              39   \n",
       "\n",
       "       device_id  source  browser  sex  age  ip_address  class  country  \\\n",
       "0  QVPSPJUOCKZAR       0        0    0   39   732758368      0        0   \n",
       "1  EOGFQPIZPYXFZ       1        0    1   53   350311387      0        1   \n",
       "2  YSSKYOSJHPPLJ       0        1    0   53  2621473820      1        1   \n",
       "3  ATGTXKYKUDUQN       0        2    0   41  3840542443      0        2   \n",
       "4  NAUITBZFJKHWW       1        2    0   45   415583117      0        1   \n",
       "\n",
       "   difference  \n",
       "0     75111.0  \n",
       "1       299.0  \n",
       "2         0.0  \n",
       "3      8201.0  \n",
       "4     72691.0  "
      ]
     },
     "execution_count": 74,
     "metadata": {},
     "output_type": "execute_result"
    }
   ],
   "source": [
    "data['signup_time'] = pd.to_datetime(data['signup_time'])\n",
    "data['purchase_time'] = pd.to_datetime(data['purchase_time'])\n",
    "data['difference'] = data['purchase_time'] - data['signup_time'] \n",
    "data['difference'] = data['difference'].astype('timedelta64[m]')\n",
    "data.head()"
   ]
  },
  {
   "cell_type": "code",
   "execution_count": 94,
   "metadata": {},
   "outputs": [],
   "source": [
    "temp = data.merge(right = data[['user_id','device_id']].groupby('device_id').count().reset_index().rename(columns={'user_id':'usage_count'}),how='left',on='device_id')\n",
    "data['usage_count'] = temp['usage_count']"
   ]
  },
  {
   "cell_type": "markdown",
   "metadata": {},
   "source": [
    "Let's have a simple model at this point"
   ]
  },
  {
   "cell_type": "markdown",
   "metadata": {},
   "source": [
    "# Train validation test split"
   ]
  },
  {
   "cell_type": "code",
   "execution_count": 95,
   "metadata": {},
   "outputs": [],
   "source": [
    "\n",
    "X = data.drop(['class','ip_address','signup_time','purchase_time','device_id','user_id','age'],axis=1)\n",
    "y = data['class']\n",
    "X_train, X_test, y_train, y_test = train_test_split(X,y,test_size=0.2)\n",
    "\n",
    "X_train, X_valid, y_train, y_valid = train_test_split(X_train,y_train,test_size=0.2)\n"
   ]
  },
  {
   "cell_type": "code",
   "execution_count": 78,
   "metadata": {},
   "outputs": [
    {
     "data": {
      "text/plain": [
       "<matplotlib.lines.Line2D at 0x7fa02fb449b0>"
      ]
     },
     "execution_count": 78,
     "metadata": {},
     "output_type": "execute_result"
    },
    {
     "data": {
      "image/png": "[encoded data removed]",
      "text/plain": [
       "<matplotlib.figure.Figure at 0x7fa0488b7160>"
      ]
     },
     "metadata": {},
     "output_type": "display_data"
    }
   ],
   "source": [
    "from sklearn.ensemble import GradientBoostingClassifier\n",
    "from sklearn.model_selection import train_test_split\n",
    "\n",
    "\n",
    "params = {'n_estimators': 1000, 'max_depth': 5, 'subsample': 0.5,\n",
    "          'learning_rate': 0.1, 'min_samples_leaf': 10, 'random_state': 3}\n",
    "n_estimators = params['n_estimators']\n",
    "x = np.arange(n_estimators) + 1\n",
    "\n",
    "clf = GradientBoostingClassifier(**params)\n",
    "clf.fit(X_train,y_train)\n",
    "\n",
    "def heldout_score(clf, X_test, y_test):\n",
    "    score = np.zeros((n_estimators,), dtype=np.float64)\n",
    "    for i, y_pred in enumerate(clf.staged_decision_function(X_test)):\n",
    "        score[i] = clf.loss_(y_test, y_pred)\n",
    "    return score\n",
    "\n",
    "test_score = heldout_score(clf, X_valid, y_valid)\n",
    "test_score -= test_score[0]\n",
    "test_best_iter = x[np.argmin(test_score)]\n",
    "plt.plot(x, test_score, label='Test loss')\n",
    "plt.axvline(x=test_best_iter)"
   ]
  },
  {
   "cell_type": "code",
   "execution_count": 79,
   "metadata": {},
   "outputs": [
    {
     "data": {
      "image/png": "[encoded data removed]",
      "text/plain": [
       "<matplotlib.figure.Figure at 0x7fa02f83cef0>"
      ]
     },
     "metadata": {},
     "output_type": "display_data"
    }
   ],
   "source": [
    "from sklearn.metrics import roc_curve, auc\n",
    "\n",
    "y_pred = clf.predict_proba(X_test)\n",
    "fpr, tpr, thresholds = roc_curve(y_test, y_pred[:,1])\n",
    "roc_auc = auc(fpr,tpr)\n",
    "\n",
    "plt.figure()\n",
    "lw = 2\n",
    "plt.plot(fpr, tpr, color='darkorange',\n",
    "         lw=lw, label='ROC curve (area = %0.2f)' % roc_auc)\n",
    "plt.plot([0, 1], [0, 1], color='navy', lw=lw, linestyle='--')\n",
    "plt.xlim([0.0, 1.0])\n",
    "plt.ylim([0.0, 1.05])\n",
    "plt.xlabel('False Positive Rate')\n",
    "plt.ylabel('True Positive Rate')\n",
    "plt.title('Receiver operating characteristic')\n",
    "plt.legend(loc=\"lower right\",frameon=False)\n",
    "\n",
    "plt.show()"
   ]
  },
  {
   "cell_type": "code",
   "execution_count": 81,
   "metadata": {},
   "outputs": [
    {
     "data": {
      "image/png": "[encoded data removed]",
      "text/plain": [
       "<matplotlib.figure.Figure at 0x7fa02f354ac8>"
      ]
     },
     "metadata": {},
     "output_type": "display_data"
    }
   ],
   "source": [
    "plt.figure(figsize=(12,6))\n",
    "sns.set(style='white')\n",
    "ax = sns.barplot(x=X.columns, y =clf.feature_importances_)\n",
    "ax.spines['top'].set_color('none')\n",
    "ax.spines['right'].set_color('none')\n",
    "ax.grid(False)"
   ]
  },
  {
   "cell_type": "code",
   "execution_count": 12,
   "metadata": {},
   "outputs": [
    {
     "data": {
      "image/png": "[encoded data removed]",
      "text/plain": [
       "<matplotlib.figure.Figure at 0x7fa04c8482e8>"
      ]
     },
     "metadata": {},
     "output_type": "display_data"
    }
   ],
   "source": [
    "plt.figure(figsize=(12,6))\n",
    "sns.set(style='white')\n",
    "ax = sns.barplot(x='country', y='class',data=Fraud_Data)"
   ]
  },
  {
   "cell_type": "code",
   "execution_count": 13,
   "metadata": {},
   "outputs": [
    {
     "data": {
      "text/plain": [
       "country\n",
       "Turkmenistan             1.000000\n",
       "Namibia                  0.434783\n",
       "Sri Lanka                0.419355\n",
       "Luxembourg               0.388889\n",
       "Virgin Islands (U.S.)    0.333333\n",
       "Ecuador                  0.264151\n",
       "Tunisia                  0.262712\n",
       "Peru                     0.260504\n",
       "Bolivia                  0.245283\n",
       "Kuwait                   0.233333\n",
       "Name: class, dtype: float64"
      ]
     },
     "execution_count": 13,
     "metadata": {},
     "output_type": "execute_result"
    }
   ],
   "source": [
    "Fraud_Data.groupby('country')['class'].mean().sort_values(ascending=False)[:10]"
   ]
  },
  {
   "cell_type": "code",
   "execution_count": 68,
   "metadata": {},
   "outputs": [
    {
     "data": {
      "text/plain": [
       "122"
      ]
     },
     "execution_count": 68,
     "metadata": {},
     "output_type": "execute_result"
    }
   ],
   "source": [
    "Fraud_Data['purchase_value'].nunique()"
   ]
  },
  {
   "cell_type": "code",
   "execution_count": 65,
   "metadata": {},
   "outputs": [
    {
     "data": {
      "text/plain": [
       "<Container object of 29 artists>"
      ]
     },
     "execution_count": 65,
     "metadata": {},
     "output_type": "execute_result"
    },
    {
     "data": {
      "image/png": "[encoded data removed]",
      "text/plain": [
       "<matplotlib.figure.Figure at 0x7fa02f3fcd30>"
      ]
     },
     "metadata": {},
     "output_type": "display_data"
    }
   ],
   "source": [
    "fig = plt.figure(figsize=(7,5))\n",
    "ax = plt.gca()\n",
    "\n",
    "bins = [i*5 for i in range(30)]\n",
    "x = Fraud_Data.loc[Fraud_Data['class']==0,'purchase_value'].values\n",
    "hist, bins = np.histogram(x,bins=bins)\n",
    "ax.bar(bins[:-1], hist.astype(np.float32) / hist.sum(), width=(bins[1]-bins[0]), alpha=0.5,color='grey')\n",
    "x = Fraud_Data.loc[Fraud_Data['class']==1,'purchase_value'].values\n",
    "hist, bins = np.histogram(x,bins=bins)\n",
    "ax.bar(bins[:-1], hist.astype(np.float32) / hist.sum(), width=(bins[1]-bins[0]), alpha=0.5,color='blue')"
   ]
  },
  {
   "cell_type": "code",
   "execution_count": 83,
   "metadata": {},
   "outputs": [
    {
     "data": {
      "text/plain": [
       "<Container object of 50 artists>"
      ]
     },
     "execution_count": 83,
     "metadata": {},
     "output_type": "execute_result"
    },
    {
     "data": {
      "image/png": "[encoded data removed]",
      "text/plain": [
       "<matplotlib.figure.Figure at 0x7fa02f2462e8>"
      ]
     },
     "metadata": {},
     "output_type": "display_data"
    }
   ],
   "source": [
    "fig = plt.figure(figsize=(7,5))\n",
    "ax = plt.gca()\n",
    "\n",
    "bins = [i*5 for i in range(30)]\n",
    "x = data.loc[Fraud_Data['class']==0,'difference'].values\n",
    "hist, bins = np.histogram(x,bins=50)\n",
    "ax.bar(bins[:-1], hist.astype(np.float32) / hist.sum(), width=(bins[1]-bins[0]), alpha=0.5,color='grey')\n",
    "x = data.loc[Fraud_Data['class']==1,'difference'].values\n",
    "hist, bins = np.histogram(x,bins=50)\n",
    "ax.bar(bins[:-1], hist.astype(np.float32) / hist.sum(), width=(bins[1]-bins[0]), alpha=0.5,color='blue')"
   ]
  },
  {
   "cell_type": "code",
   "execution_count": 61,
   "metadata": {},
   "outputs": [
    {
     "data": {
      "text/plain": [
       "(array([  0.00000000e+00,   3.06366822e-03,   1.65040888e-02,\n",
       "          1.86463201e-02,   2.01007593e-02,   2.10543224e-02,\n",
       "          2.04293224e-02,   1.93954439e-02,   1.77657710e-02,\n",
       "          1.54658294e-02,   1.27540888e-02,   1.02248832e-02,\n",
       "          7.87383178e-03,   5.70531542e-03,   4.13259346e-03,\n",
       "          2.65186916e-03,   1.73189252e-03,   1.08790888e-03,\n",
       "          6.20619159e-04,   3.46086449e-04,   2.07359813e-04,\n",
       "          1.38726636e-04,   5.11098131e-05,   2.48247664e-05,\n",
       "          5.84112150e-06,   1.46028037e-05,   1.46028037e-06,\n",
       "          0.00000000e+00,   1.46028037e-06]),\n",
       " array([  0,   5,  10,  15,  20,  25,  30,  35,  40,  45,  50,  55,  60,\n",
       "         65,  70,  75,  80,  85,  90,  95, 100, 105, 110, 115, 120, 125,\n",
       "        130, 135, 140, 145]),\n",
       " <a list of 29 Patch objects>)"
      ]
     },
     "execution_count": 61,
     "metadata": {},
     "output_type": "execute_result"
    },
    {
     "data": {
      "image/png": "[encoded data removed]",
      "text/plain": [
       "<matplotlib.figure.Figure at 0x7fa02f5afb00>"
      ]
     },
     "metadata": {},
     "output_type": "display_data"
    }
   ],
   "source": [
    "fig = plt.figure(figsize=(7,5))\n",
    "ax = plt.gca()\n",
    "\n",
    "x = Fraud_Data.loc[Fraud_Data['class']==1,'purchase_value'].values\n",
    "ax.hist(x, normed=True, color='green',bins=bins,alpha=0.5)\n",
    "x = Fraud_Data.loc[Fraud_Data['class']==0,'purchase_value'].values\n",
    "ax.hist(x, normed=True, color='red',bins=bins,alpha=0.5)"
   ]
  },
  {
   "cell_type": "code",
   "execution_count": 66,
   "metadata": {},
   "outputs": [
    {
     "data": {
      "text/plain": [
       "<Container object of 29 artists>"
      ]
     },
     "execution_count": 66,
     "metadata": {},
     "output_type": "execute_result"
    },
    {
     "data": {
      "image/png": "[encoded data removed]",
      "text/plain": [
       "<matplotlib.figure.Figure at 0x7fa02f3d12e8>"
      ]
     },
     "metadata": {},
     "output_type": "display_data"
    }
   ],
   "source": [
    "fig = plt.figure(figsize=(7,5))\n",
    "ax = plt.gca()\n",
    "\n",
    "bins = [i*5 for i in range(30)]\n",
    "x = Fraud_Data.loc[Fraud_Data['class']==0,'age'].values\n",
    "hist, bins = np.histogram(x,bins=bins)\n",
    "ax.bar(bins[:-1], hist.astype(np.float32) / hist.sum(), width=(bins[1]-bins[0]), alpha=0.5,color='grey')\n",
    "x = Fraud_Data.loc[Fraud_Data['class']==1,'age'].values\n",
    "hist, bins = np.histogram(x,bins=bins)\n",
    "ax.bar(bins[:-1], hist.astype(np.float32) / hist.sum(), width=(bins[1]-bins[0]), alpha=0.5,color='blue')"
   ]
  },
  {
   "cell_type": "markdown",
   "metadata": {},
   "source": [
    "# Lightgbm"
   ]
  },
  {
   "cell_type": "code",
   "execution_count": 96,
   "metadata": {},
   "outputs": [
    {
     "name": "stdout",
     "output_type": "stream",
     "text": [
      "Start training...\n",
      "[1]\tvalid_0's binary_logloss: 0.612691\n",
      "Training until validation scores don't improve for 1 rounds.\n",
      "[2]\tvalid_0's binary_logloss: 0.546903\n",
      "[3]\tvalid_0's binary_logloss: 0.492238\n",
      "[4]\tvalid_0's binary_logloss: 0.446347\n",
      "[5]\tvalid_0's binary_logloss: 0.407406\n",
      "[6]\tvalid_0's binary_logloss: 0.374154\n",
      "[7]\tvalid_0's binary_logloss: 0.345615\n",
      "[8]\tvalid_0's binary_logloss: 0.32098\n",
      "[9]\tvalid_0's binary_logloss: 0.299648\n",
      "[10]\tvalid_0's binary_logloss: 0.28122\n",
      "[11]\tvalid_0's binary_logloss: 0.265153\n",
      "[12]\tvalid_0's binary_logloss: 0.251189\n",
      "[13]\tvalid_0's binary_logloss: 0.238998\n",
      "[14]\tvalid_0's binary_logloss: 0.228374\n",
      "[15]\tvalid_0's binary_logloss: 0.219101\n",
      "[16]\tvalid_0's binary_logloss: 0.211005\n",
      "[17]\tvalid_0's binary_logloss: 0.204003\n",
      "[18]\tvalid_0's binary_logloss: 0.197873\n",
      "[19]\tvalid_0's binary_logloss: 0.192541\n",
      "[20]\tvalid_0's binary_logloss: 0.187891\n",
      "[21]\tvalid_0's binary_logloss: 0.183865\n",
      "[22]\tvalid_0's binary_logloss: 0.180385\n",
      "[23]\tvalid_0's binary_logloss: 0.177354\n",
      "[24]\tvalid_0's binary_logloss: 0.174763\n",
      "[25]\tvalid_0's binary_logloss: 0.172544\n",
      "[26]\tvalid_0's binary_logloss: 0.170619\n",
      "[27]\tvalid_0's binary_logloss: 0.16898\n",
      "[28]\tvalid_0's binary_logloss: 0.167587\n",
      "[29]\tvalid_0's binary_logloss: 0.166392\n",
      "[30]\tvalid_0's binary_logloss: 0.165375\n",
      "[31]\tvalid_0's binary_logloss: 0.164523\n",
      "[32]\tvalid_0's binary_logloss: 0.163798\n",
      "[33]\tvalid_0's binary_logloss: 0.163181\n",
      "[34]\tvalid_0's binary_logloss: 0.162636\n",
      "[35]\tvalid_0's binary_logloss: 0.162216\n",
      "[36]\tvalid_0's binary_logloss: 0.161798\n",
      "[37]\tvalid_0's binary_logloss: 0.161494\n",
      "[38]\tvalid_0's binary_logloss: 0.16122\n",
      "[39]\tvalid_0's binary_logloss: 0.161016\n",
      "[40]\tvalid_0's binary_logloss: 0.160822\n",
      "[41]\tvalid_0's binary_logloss: 0.160635\n",
      "[42]\tvalid_0's binary_logloss: 0.16053\n",
      "[43]\tvalid_0's binary_logloss: 0.160445\n",
      "[44]\tvalid_0's binary_logloss: 0.160385\n",
      "[45]\tvalid_0's binary_logloss: 0.160311\n",
      "[46]\tvalid_0's binary_logloss: 0.160271\n",
      "[47]\tvalid_0's binary_logloss: 0.160221\n",
      "[48]\tvalid_0's binary_logloss: 0.160205\n",
      "[49]\tvalid_0's binary_logloss: 0.160191\n",
      "[50]\tvalid_0's binary_logloss: 0.160169\n"
     ]
    }
   ],
   "source": [
    "import lightgbm as lgb\n",
    "\n",
    "lgb_train = lgb.Dataset(X_train, y_train)\n",
    "\n",
    "lgb_eval = lgb.Dataset(X_valid,y_valid)\n",
    "\n",
    "# specify your configurations as a dict\n",
    "params = {\n",
    "    'task': 'train',\n",
    "    'boosting_type': 'gbdt',\n",
    "    'objective': 'binary',\n",
    "    'metric': {'binary_logloss'},\n",
    "    #'num_leaves': 8,\n",
    "    'learning_rate': 0.1,\n",
    "    'verbose': 50\n",
    "}\n",
    "print('Start training...')\n",
    "# train\n",
    "evals_result = {} \n",
    "gbm = lgb.train(params,\n",
    "                lgb_train,\n",
    "                num_boost_round=50,\n",
    "                valid_sets=lgb_eval,\n",
    "                evals_result=evals_result,\n",
    "                early_stopping_rounds=1)\n"
   ]
  },
  {
   "cell_type": "code",
   "execution_count": 97,
   "metadata": {},
   "outputs": [
    {
     "name": "stdout",
     "output_type": "stream",
     "text": [
      "[ 0.19767915  0.02823186  0.02903819  0.18306142  0.03043918  0.03452432\n",
      "  0.03088418  0.03035226  0.03077462  0.04212439]\n"
     ]
    },
    {
     "data": {
      "image/png": "[encoded data removed]",
      "text/plain": [
       "<matplotlib.figure.Figure at 0x7fa02ef7b438>"
      ]
     },
     "metadata": {},
     "output_type": "display_data"
    }
   ],
   "source": [
    "y_pred = gbm.predict(X_test, num_iteration=gbm.best_iteration)\n",
    "print(y_pred[:10])\n",
    "fpr, tpr, thresholds = roc_curve(y_test, y_pred)\n",
    "roc_auc = auc(fpr,tpr)\n",
    "\n",
    "plt.figure()\n",
    "lw = 2\n",
    "plt.plot(fpr, tpr, color='darkorange',\n",
    "         lw=lw, label='ROC curve (area = %0.2f)' % roc_auc)\n",
    "plt.plot([0, 1], [0, 1], color='navy', lw=lw, linestyle='--')\n",
    "plt.xlim([0.0, 1.0])\n",
    "plt.ylim([0.0, 1.05])\n",
    "plt.xlabel('False Positive Rate')\n",
    "plt.ylabel('True Positive Rate')\n",
    "plt.title('Receiver operating characteristic')\n",
    "plt.legend(loc=\"lower right\",frameon=False)\n",
    "\n",
    "plt.show()"
   ]
  },
  {
   "cell_type": "code",
   "execution_count": 99,
   "metadata": {},
   "outputs": [
    {
     "data": {
      "image/png": "[encoded data removed]",
      "text/plain": [
       "<matplotlib.figure.Figure at 0x7fa02eeca208>"
      ]
     },
     "metadata": {},
     "output_type": "display_data"
    }
   ],
   "source": [
    "fig = plt.figure(figsize=(10,10))\n",
    "ax = plt.gca()\n",
    "lgb.plot_importance(gbm,ax=ax,importance_type='gain')\n",
    "ax.spines['top'].set_color('none')\n",
    "ax.spines['right'].set_color('none')\n",
    "ax.grid(False)\n",
    "plt.show()"
   ]
  },
  {
   "cell_type": "markdown",
   "metadata": {},
   "source": [
    "# Prepare coefficients for logistic regression\n"
   ]
  },
  {
   "cell_type": "code",
   "execution_count": 119,
   "metadata": {},
   "outputs": [
    {
     "data": {
      "text/html": [
       "<div>\n",
       "<style scoped>\n",
       "    .dataframe tbody tr th:only-of-type {\n",
       "        vertical-align: middle;\n",
       "    }\n",
       "\n",
       "    .dataframe tbody tr th {\n",
       "        vertical-align: top;\n",
       "    }\n",
       "\n",
       "    .dataframe thead th {\n",
       "        text-align: right;\n",
       "    }\n",
       "</style>\n",
       "<table border=\"1\" class=\"dataframe\">\n",
       "  <thead>\n",
       "    <tr style=\"text-align: right;\">\n",
       "      <th></th>\n",
       "      <th>country_Afghanistan</th>\n",
       "      <th>country_Albania</th>\n",
       "      <th>country_Algeria</th>\n",
       "      <th>country_Angola</th>\n",
       "      <th>country_Antigua and Barbuda</th>\n",
       "      <th>country_Argentina</th>\n",
       "      <th>country_Armenia</th>\n",
       "      <th>country_Australia</th>\n",
       "      <th>country_Austria</th>\n",
       "      <th>country_Azerbaijan</th>\n",
       "      <th>...</th>\n",
       "      <th>source_Direct</th>\n",
       "      <th>source_SEO</th>\n",
       "      <th>browser_Chrome</th>\n",
       "      <th>browser_FireFox</th>\n",
       "      <th>browser_IE</th>\n",
       "      <th>browser_Opera</th>\n",
       "      <th>browser_Safari</th>\n",
       "      <th>purchase_value</th>\n",
       "      <th>difference</th>\n",
       "      <th>usage_count</th>\n",
       "    </tr>\n",
       "  </thead>\n",
       "  <tbody>\n",
       "    <tr>\n",
       "      <th>0</th>\n",
       "      <td>0</td>\n",
       "      <td>0</td>\n",
       "      <td>0</td>\n",
       "      <td>0</td>\n",
       "      <td>0</td>\n",
       "      <td>0</td>\n",
       "      <td>0</td>\n",
       "      <td>0</td>\n",
       "      <td>0</td>\n",
       "      <td>0</td>\n",
       "      <td>...</td>\n",
       "      <td>0</td>\n",
       "      <td>1</td>\n",
       "      <td>1</td>\n",
       "      <td>0</td>\n",
       "      <td>0</td>\n",
       "      <td>0</td>\n",
       "      <td>0</td>\n",
       "      <td>34</td>\n",
       "      <td>75111.0</td>\n",
       "      <td>1</td>\n",
       "    </tr>\n",
       "    <tr>\n",
       "      <th>1</th>\n",
       "      <td>0</td>\n",
       "      <td>0</td>\n",
       "      <td>0</td>\n",
       "      <td>0</td>\n",
       "      <td>0</td>\n",
       "      <td>0</td>\n",
       "      <td>0</td>\n",
       "      <td>0</td>\n",
       "      <td>0</td>\n",
       "      <td>0</td>\n",
       "      <td>...</td>\n",
       "      <td>0</td>\n",
       "      <td>0</td>\n",
       "      <td>1</td>\n",
       "      <td>0</td>\n",
       "      <td>0</td>\n",
       "      <td>0</td>\n",
       "      <td>0</td>\n",
       "      <td>16</td>\n",
       "      <td>299.0</td>\n",
       "      <td>1</td>\n",
       "    </tr>\n",
       "    <tr>\n",
       "      <th>2</th>\n",
       "      <td>0</td>\n",
       "      <td>0</td>\n",
       "      <td>0</td>\n",
       "      <td>0</td>\n",
       "      <td>0</td>\n",
       "      <td>0</td>\n",
       "      <td>0</td>\n",
       "      <td>0</td>\n",
       "      <td>0</td>\n",
       "      <td>0</td>\n",
       "      <td>...</td>\n",
       "      <td>0</td>\n",
       "      <td>1</td>\n",
       "      <td>0</td>\n",
       "      <td>0</td>\n",
       "      <td>0</td>\n",
       "      <td>1</td>\n",
       "      <td>0</td>\n",
       "      <td>15</td>\n",
       "      <td>0.0</td>\n",
       "      <td>12</td>\n",
       "    </tr>\n",
       "    <tr>\n",
       "      <th>3</th>\n",
       "      <td>0</td>\n",
       "      <td>0</td>\n",
       "      <td>0</td>\n",
       "      <td>0</td>\n",
       "      <td>0</td>\n",
       "      <td>0</td>\n",
       "      <td>0</td>\n",
       "      <td>0</td>\n",
       "      <td>0</td>\n",
       "      <td>0</td>\n",
       "      <td>...</td>\n",
       "      <td>0</td>\n",
       "      <td>1</td>\n",
       "      <td>0</td>\n",
       "      <td>0</td>\n",
       "      <td>0</td>\n",
       "      <td>0</td>\n",
       "      <td>1</td>\n",
       "      <td>44</td>\n",
       "      <td>8201.0</td>\n",
       "      <td>1</td>\n",
       "    </tr>\n",
       "    <tr>\n",
       "      <th>4</th>\n",
       "      <td>0</td>\n",
       "      <td>0</td>\n",
       "      <td>0</td>\n",
       "      <td>0</td>\n",
       "      <td>0</td>\n",
       "      <td>0</td>\n",
       "      <td>0</td>\n",
       "      <td>0</td>\n",
       "      <td>0</td>\n",
       "      <td>0</td>\n",
       "      <td>...</td>\n",
       "      <td>0</td>\n",
       "      <td>0</td>\n",
       "      <td>0</td>\n",
       "      <td>0</td>\n",
       "      <td>0</td>\n",
       "      <td>0</td>\n",
       "      <td>1</td>\n",
       "      <td>39</td>\n",
       "      <td>72691.0</td>\n",
       "      <td>1</td>\n",
       "    </tr>\n",
       "  </tbody>\n",
       "</table>\n",
       "<p>5 rows × 193 columns</p>\n",
       "</div>"
      ],
      "text/plain": [
       "   country_Afghanistan  country_Albania  country_Algeria  country_Angola  \\\n",
       "0                    0                0                0               0   \n",
       "1                    0                0                0               0   \n",
       "2                    0                0                0               0   \n",
       "3                    0                0                0               0   \n",
       "4                    0                0                0               0   \n",
       "\n",
       "   country_Antigua and Barbuda  country_Argentina  country_Armenia  \\\n",
       "0                            0                  0                0   \n",
       "1                            0                  0                0   \n",
       "2                            0                  0                0   \n",
       "3                            0                  0                0   \n",
       "4                            0                  0                0   \n",
       "\n",
       "   country_Australia  country_Austria  country_Azerbaijan     ...       \\\n",
       "0                  0                0                   0     ...        \n",
       "1                  0                0                   0     ...        \n",
       "2                  0                0                   0     ...        \n",
       "3                  0                0                   0     ...        \n",
       "4                  0                0                   0     ...        \n",
       "\n",
       "   source_Direct  source_SEO  browser_Chrome  browser_FireFox  browser_IE  \\\n",
       "0              0           1               1                0           0   \n",
       "1              0           0               1                0           0   \n",
       "2              0           1               0                0           0   \n",
       "3              0           1               0                0           0   \n",
       "4              0           0               0                0           0   \n",
       "\n",
       "   browser_Opera  browser_Safari  purchase_value  difference  usage_count  \n",
       "0              0               0              34     75111.0            1  \n",
       "1              0               0              16       299.0            1  \n",
       "2              1               0              15         0.0           12  \n",
       "3              0               1              44      8201.0            1  \n",
       "4              0               1              39     72691.0            1  \n",
       "\n",
       "[5 rows x 193 columns]"
      ]
     },
     "execution_count": 119,
     "metadata": {},
     "output_type": "execute_result"
    }
   ],
   "source": [
    "X = pd.concat([pd.get_dummies(Fraud_Data[['country','source','browser']]),data[['purchase_value','difference','usage_count']]],axis=1)\n",
    "y = data['class']\n",
    "X.head()"
   ]
  },
  {
   "cell_type": "code",
   "execution_count": 120,
   "metadata": {},
   "outputs": [],
   "source": [
    "X_train, X_test, y_train, y_test = train_test_split(X,y,test_size=0.2)\n",
    "\n",
    "X_train, X_valid, y_train, y_valid = train_test_split(X_train,y_train,test_size=0.2)"
   ]
  },
  {
   "cell_type": "code",
   "execution_count": 137,
   "metadata": {},
   "outputs": [
    {
     "data": {
      "text/plain": [
       "LogisticRegression(C=10.0, class_weight=None, dual=False, fit_intercept=True,\n",
       "          intercept_scaling=1, max_iter=100, multi_class='ovr', n_jobs=1,\n",
       "          penalty='l2', random_state=None, solver='liblinear', tol=0.0001,\n",
       "          verbose=0, warm_start=False)"
      ]
     },
     "execution_count": 137,
     "metadata": {},
     "output_type": "execute_result"
    }
   ],
   "source": [
    "from sklearn.linear_model import LogisticRegression\n",
    "\n",
    "\n",
    "params = {'penalty':'l2', \n",
    "          'dual':False, 'tol':0.0001, \n",
    "          'C':10.0, 'fit_intercept':True, \n",
    "          'intercept_scaling':1, 'class_weight':None, \n",
    "          'random_state':None, 'solver':'liblinear', 'max_iter':100, 'multi_class':'ovr', \n",
    "          'verbose':0, 'warm_start':False, 'n_jobs':1}\n",
    "\n",
    "clf = LogisticRegression(**params)\n",
    "clf.fit(X_train,y_train)"
   ]
  },
  {
   "cell_type": "code",
   "execution_count": 136,
   "metadata": {},
   "outputs": [
    {
     "data": {
      "text/plain": [
       "([mean: -0.27441, std: 0.00273, params: {'C': 0.001},\n",
       "  mean: -0.27441, std: 0.00273, params: {'C': 0.01},\n",
       "  mean: -0.27441, std: 0.00273, params: {'C': 0.1},\n",
       "  mean: -0.27441, std: 0.00273, params: {'C': 1},\n",
       "  mean: -0.27441, std: 0.00273, params: {'C': 10}],\n",
       " {'C': 10},\n",
       " -0.2744136861974238)"
      ]
     },
     "execution_count": 136,
     "metadata": {},
     "output_type": "execute_result"
    }
   ],
   "source": [
    "from sklearn.grid_search import GridSearchCV\n",
    "\n",
    "params = {'penalty':'l2', \n",
    "          'dual':False, 'tol':0.0001, \n",
    "          'fit_intercept':True, \n",
    "          'intercept_scaling':1, 'class_weight':None, \n",
    "          'random_state':None, 'solver':'liblinear', 'max_iter':100, 'multi_class':'ovr', \n",
    "          'verbose':0, 'warm_start':False, 'n_jobs':1}\n",
    "\n",
    "param_test1 = {\n",
    " 'C':[0.001,0.01,0.1,1,10]\n",
    "}\n",
    "\n",
    "gsearch1 = GridSearchCV(estimator = LogisticRegression(**params), \n",
    " param_grid = param_test1, scoring='neg_log_loss')\n",
    "\n",
    "gsearch1.fit(X_train,y_train)\n",
    "\n",
    "gsearch1.grid_scores_, gsearch1.best_params_, gsearch1.best_score_"
   ]
  },
  {
   "cell_type": "code",
   "execution_count": 138,
   "metadata": {},
   "outputs": [
    {
     "data": {
      "image/png": "[encoded data removed]",
      "text/plain": [
       "<matplotlib.figure.Figure at 0x7fa04cbc5ef0>"
      ]
     },
     "metadata": {},
     "output_type": "display_data"
    }
   ],
   "source": [
    "from sklearn.metrics import roc_curve, auc\n",
    "\n",
    "y_pred = clf.predict_proba(X_test)\n",
    "fpr, tpr, thresholds = roc_curve(y_test, y_pred[:,1])\n",
    "roc_auc = auc(fpr,tpr)\n",
    "\n",
    "plt.figure()\n",
    "lw = 2\n",
    "plt.plot(fpr, tpr, color='darkorange',\n",
    "         lw=lw, label='ROC curve (area = %0.2f)' % roc_auc)\n",
    "plt.plot([0, 1], [0, 1], color='navy', lw=lw, linestyle='--')\n",
    "plt.xlim([0.0, 1.0])\n",
    "plt.ylim([0.0, 1.05])\n",
    "plt.xlabel('False Positive Rate')\n",
    "plt.ylabel('True Positive Rate')\n",
    "plt.title('Receiver operating characteristic')\n",
    "plt.legend(loc=\"lower right\",frameon=False)\n",
    "\n",
    "plt.show()"
   ]
  },
  {
   "cell_type": "code",
   "execution_count": 125,
   "metadata": {},
   "outputs": [
    {
     "data": {
      "text/plain": [
       "array([ -1.96248631e-02,  -3.92192468e-04,  -3.68609621e-04,\n",
       "        -3.19467075e-04,  -3.01689685e-04,  -2.72205188e-04,\n",
       "        -1.55424034e-04,  -1.42337324e-04,  -1.34728246e-04,\n",
       "        -1.10794776e-04,  -7.51805370e-05,  -3.92986008e-05,\n",
       "        -2.93455841e-05,  -2.69399897e-05,  -2.52684983e-05,\n",
       "        -2.48569107e-05,  -2.06364196e-05,  -1.99730755e-05,\n",
       "        -1.82077094e-05,  -1.31406556e-05,  -1.18477601e-05,\n",
       "        -1.13861298e-05,  -1.08075596e-05,  -1.04996604e-05,\n",
       "        -1.01684576e-05,  -7.88563996e-06,  -7.88419873e-06,\n",
       "        -7.63547717e-06,  -6.45974315e-06,  -6.36890433e-06,\n",
       "        -6.23195565e-06,  -5.07997461e-06,  -4.89605426e-06,\n",
       "        -4.36978620e-06,  -4.11522576e-06,  -4.11497829e-06,\n",
       "        -3.77710821e-06,  -3.68600605e-06,  -3.50121881e-06,\n",
       "        -3.38754578e-06,  -3.32292115e-06,  -3.17834372e-06,\n",
       "        -2.99726070e-06,  -2.90972212e-06,  -2.59297271e-06,\n",
       "        -2.01009778e-06,  -1.87160872e-06,  -1.73818336e-06,\n",
       "        -1.71120139e-06,  -1.50806831e-06,  -1.38681062e-06,\n",
       "        -1.37640082e-06,  -1.32037795e-06,  -1.15461805e-06,\n",
       "        -1.15308306e-06,  -1.14872884e-06,  -1.12642453e-06,\n",
       "        -9.69440331e-07,  -9.33211753e-07,  -9.12772866e-07,\n",
       "        -8.90023735e-07,  -8.07456275e-07,  -7.91701349e-07,\n",
       "        -7.22100651e-07,  -7.13530033e-07,  -6.75087220e-07,\n",
       "        -6.69360999e-07,  -6.69170607e-07,  -6.49340079e-07,\n",
       "        -6.20620415e-07,  -6.08017818e-07,  -5.49788023e-07,\n",
       "        -5.35509302e-07,  -5.29247215e-07,  -5.13446035e-07,\n",
       "        -4.90010463e-07,  -4.81694860e-07,  -4.54229982e-07,\n",
       "        -4.40654890e-07,  -4.40414306e-07,  -4.35414163e-07,\n",
       "        -4.22957851e-07,  -4.18935681e-07,  -3.95929971e-07,\n",
       "        -3.82666105e-07,  -3.79088890e-07,  -3.65686064e-07,\n",
       "        -3.37946677e-07,  -3.29640603e-07,  -3.29398622e-07,\n",
       "        -3.16545396e-07,  -3.03046234e-07,  -2.93503570e-07,\n",
       "        -2.69522666e-07,  -2.63849154e-07,  -2.52699905e-07,\n",
       "        -2.50039436e-07,  -2.41491130e-07,  -2.28788859e-07,\n",
       "        -2.13259930e-07,  -2.12394297e-07,  -2.08551394e-07,\n",
       "        -2.04625861e-07,  -1.78990896e-07,  -1.77807444e-07,\n",
       "        -1.71732408e-07,  -1.70628628e-07,  -1.70393820e-07,\n",
       "        -1.70118587e-07,  -1.49936109e-07,  -1.46908753e-07,\n",
       "        -1.46479416e-07,  -1.41974057e-07,  -1.38699951e-07,\n",
       "        -1.35710349e-07,  -1.34816452e-07,  -1.33605526e-07,\n",
       "        -1.29207839e-07,  -1.25161650e-07,  -1.21324329e-07,\n",
       "        -1.18042522e-07,  -1.17587834e-07,  -1.08441513e-07,\n",
       "        -1.07056094e-07,  -9.97062747e-08,  -9.88947991e-08,\n",
       "        -8.58387100e-08,  -8.06798962e-08,  -7.13337686e-08,\n",
       "        -7.10570065e-08,  -5.88039972e-08,  -5.66031277e-08,\n",
       "        -5.21035444e-08,  -4.44488981e-08,  -4.36338625e-08,\n",
       "        -4.32447636e-08,  -4.04511509e-08,  -3.69523590e-08,\n",
       "        -2.73855737e-08,  -2.64875685e-08,  -2.61459938e-08,\n",
       "        -2.34538849e-08,  -2.17143388e-08,  -1.73339505e-08,\n",
       "        -1.53203994e-08,  -1.48284902e-08,  -1.44773739e-08,\n",
       "        -1.34918980e-08,  -1.08447985e-08,  -6.85204962e-09,\n",
       "        -5.47420648e-09,  -4.68809072e-09,  -4.54202650e-09,\n",
       "        -4.08660345e-09,  -3.68547504e-09,   0.00000000e+00,\n",
       "         0.00000000e+00,   0.00000000e+00,   0.00000000e+00,\n",
       "         0.00000000e+00,   0.00000000e+00,   3.44625029e-08,\n",
       "         6.77867120e-08,   7.20320218e-08,   8.13680669e-08,\n",
       "         1.04837962e-07,   1.10318286e-07,   1.20775097e-07,\n",
       "         1.70808050e-07,   1.76446472e-07,   2.14710362e-07,\n",
       "         3.16519739e-07,   5.96372114e-07,   6.46357183e-07,\n",
       "         9.96339142e-07,   1.13672768e-06,   1.19379138e-06,\n",
       "         1.23599023e-06,   1.28904096e-06,   1.43494310e-06,\n",
       "         1.50732651e-06,   1.53191178e-06,   1.85037917e-06,\n",
       "         1.91387390e-06,   2.00546054e-06,   2.46622234e-06,\n",
       "         2.77781028e-06,   2.94010526e-06,   3.22415766e-06,\n",
       "         3.65826531e-06,   3.73821135e-06,   5.88775282e-06,\n",
       "         1.13411935e-02])"
      ]
     },
     "execution_count": 125,
     "metadata": {},
     "output_type": "execute_result"
    }
   ],
   "source": [
    "np.sort(clf.coef_[0])"
   ]
  },
  {
   "cell_type": "code",
   "execution_count": 123,
   "metadata": {},
   "outputs": [
    {
     "data": {
      "image/png": "[encoded data removed]",
      "text/plain": [
       "<matplotlib.figure.Figure at 0x7fa02ef7bd30>"
      ]
     },
     "metadata": {},
     "output_type": "display_data"
    }
   ],
   "source": [
    "plt.figure(figsize=(12,6))\n",
    "sns.set(style='white')\n",
    "ax = sns.barplot(x=X.columns, y =clf.coef_[0])\n",
    "ax.spines['top'].set_color('none')\n",
    "ax.spines['right'].set_color('none')\n",
    "ax.grid(False)"
   ]
  },
  {
   "cell_type": "code",
   "execution_count": null,
   "metadata": {},
   "outputs": [],
   "source": []
  }
 ],
 "metadata": {
  "kernelspec": {
   "display_name": "Python 3",
   "language": "python",
   "name": "python3"
  },
  "language_info": {
   "codemirror_mode": {
    "name": "ipython",
    "version": 3
   },
   "file_extension": ".py",
   "mimetype": "text/x-python",
   "name": "python",
   "nbconvert_exporter": "python",
   "pygments_lexer": "ipython3",
   "version": "3.5.4"
  }
 },
 "nbformat": 4,
 "nbformat_minor": 2
}
