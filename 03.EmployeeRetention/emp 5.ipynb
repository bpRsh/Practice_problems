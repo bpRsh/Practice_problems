{
 "cells": [
  {
   "cell_type": "markdown",
   "metadata": {},
   "source": [
    "## Objective:\n",
    "- Understand when and why employees are most likely to leave (people analytics)\n",
    "- Build a model to predict employee retention\n",
    "- Create a table with date, employee_headcount (# employed on that specific day), company_id\n",
    "- Derive main driving factors for employee churn\n",
    "- Consider potential additional variables that can aid in predicting employee retention"
   ]
  },
  {
   "cell_type": "code",
   "execution_count": 1,
   "metadata": {},
   "outputs": [],
   "source": [
    "# Import the necessary libraries\n",
    "\n",
    "# Import pandas and numpy\n",
    "import numpy as np\n",
    "import pandas as pd\n",
    "\n",
    "# Import matplotlib and seaborn\n",
    "import matplotlib.pyplot as plt\n",
    "import seaborn as sns\n",
    "\n",
    "# Import datetime\n",
    "import datetime\n",
    "\n",
    "# Import itertools\n",
    "import itertools\n",
    "\n",
    "# Import stats from scipy\n",
    "from scipy import stats"
   ]
  },
  {
   "cell_type": "code",
   "execution_count": 2,
   "metadata": {},
   "outputs": [],
   "source": [
    "# Import the raw data\n",
    "raw_df = pd.read_csv('employee_retention_data.csv')"
   ]
  },
  {
   "cell_type": "markdown",
   "metadata": {},
   "source": [
    "Let's make sure that the data is valid.\n",
    "- Employee IDs shoudl be unique in the dataset\n",
    "- Expect null values in quit_date if the employee has not left"
   ]
  },
  {
   "cell_type": "code",
   "execution_count": 3,
   "metadata": {},
   "outputs": [
    {
     "name": "stdout",
     "output_type": "stream",
     "text": [
      "<class 'pandas.core.frame.DataFrame'>\n",
      "RangeIndex: 24702 entries, 0 to 24701\n",
      "Data columns (total 7 columns):\n",
      "employee_id    24702 non-null float64\n",
      "company_id     24702 non-null int64\n",
      "dept           24702 non-null object\n",
      "seniority      24702 non-null int64\n",
      "salary         24702 non-null float64\n",
      "join_date      24702 non-null object\n",
      "quit_date      13510 non-null object\n",
      "dtypes: float64(2), int64(2), object(3)\n",
      "memory usage: 1.3+ MB\n"
     ]
    }
   ],
   "source": [
    "# Check for null values\n",
    "raw_df.info()"
   ]
  },
  {
   "cell_type": "code",
   "execution_count": 4,
   "metadata": {},
   "outputs": [],
   "source": [
    "# Make sure employee ids are unique\n",
    "assert raw_df['employee_id'].nunique() == len(raw_df)"
   ]
  },
  {
   "cell_type": "code",
   "execution_count": 5,
   "metadata": {},
   "outputs": [
    {
     "data": {
      "text/html": [
       "<div>\n",
       "<style scoped>\n",
       "    .dataframe tbody tr th:only-of-type {\n",
       "        vertical-align: middle;\n",
       "    }\n",
       "\n",
       "    .dataframe tbody tr th {\n",
       "        vertical-align: top;\n",
       "    }\n",
       "\n",
       "    .dataframe thead th {\n",
       "        text-align: right;\n",
       "    }\n",
       "</style>\n",
       "<table border=\"1\" class=\"dataframe\">\n",
       "  <thead>\n",
       "    <tr style=\"text-align: right;\">\n",
       "      <th></th>\n",
       "      <th>employee_id</th>\n",
       "      <th>company_id</th>\n",
       "      <th>seniority</th>\n",
       "      <th>salary</th>\n",
       "    </tr>\n",
       "  </thead>\n",
       "  <tbody>\n",
       "    <tr>\n",
       "      <th>count</th>\n",
       "      <td>24702.000000</td>\n",
       "      <td>24702.000000</td>\n",
       "      <td>24702.000000</td>\n",
       "      <td>24702.000000</td>\n",
       "    </tr>\n",
       "    <tr>\n",
       "      <th>mean</th>\n",
       "      <td>501604.403530</td>\n",
       "      <td>3.426969</td>\n",
       "      <td>14.127803</td>\n",
       "      <td>138183.345478</td>\n",
       "    </tr>\n",
       "    <tr>\n",
       "      <th>std</th>\n",
       "      <td>288909.026101</td>\n",
       "      <td>2.700011</td>\n",
       "      <td>8.089520</td>\n",
       "      <td>76058.184573</td>\n",
       "    </tr>\n",
       "    <tr>\n",
       "      <th>min</th>\n",
       "      <td>36.000000</td>\n",
       "      <td>1.000000</td>\n",
       "      <td>1.000000</td>\n",
       "      <td>17000.000000</td>\n",
       "    </tr>\n",
       "    <tr>\n",
       "      <th>25%</th>\n",
       "      <td>250133.750000</td>\n",
       "      <td>1.000000</td>\n",
       "      <td>7.000000</td>\n",
       "      <td>79000.000000</td>\n",
       "    </tr>\n",
       "    <tr>\n",
       "      <th>50%</th>\n",
       "      <td>500793.000000</td>\n",
       "      <td>2.000000</td>\n",
       "      <td>14.000000</td>\n",
       "      <td>123000.000000</td>\n",
       "    </tr>\n",
       "    <tr>\n",
       "      <th>75%</th>\n",
       "      <td>753137.250000</td>\n",
       "      <td>5.000000</td>\n",
       "      <td>21.000000</td>\n",
       "      <td>187000.000000</td>\n",
       "    </tr>\n",
       "    <tr>\n",
       "      <th>max</th>\n",
       "      <td>999969.000000</td>\n",
       "      <td>12.000000</td>\n",
       "      <td>99.000000</td>\n",
       "      <td>408000.000000</td>\n",
       "    </tr>\n",
       "  </tbody>\n",
       "</table>\n",
       "</div>"
      ],
      "text/plain": [
       "         employee_id    company_id     seniority         salary\n",
       "count   24702.000000  24702.000000  24702.000000   24702.000000\n",
       "mean   501604.403530      3.426969     14.127803  138183.345478\n",
       "std    288909.026101      2.700011      8.089520   76058.184573\n",
       "min        36.000000      1.000000      1.000000   17000.000000\n",
       "25%    250133.750000      1.000000      7.000000   79000.000000\n",
       "50%    500793.000000      2.000000     14.000000  123000.000000\n",
       "75%    753137.250000      5.000000     21.000000  187000.000000\n",
       "max    999969.000000     12.000000     99.000000  408000.000000"
      ]
     },
     "execution_count": 5,
     "metadata": {},
     "output_type": "execute_result"
    }
   ],
   "source": [
    "# Show summary statistics\n",
    "raw_df.describe()"
   ]
  },
  {
   "cell_type": "code",
   "execution_count": 6,
   "metadata": {},
   "outputs": [],
   "source": [
    "# Since the employee_id are indeed unique, I will set them as the index to the dataset\n",
    "\n",
    "# Convert the employee ids to dtype int\n",
    "raw_df = raw_df.astype({'employee_id':'int64'})\n",
    "\n",
    "# Set the employee_id as index\n",
    "raw_df.set_index('employee_id', inplace=True)"
   ]
  },
  {
   "cell_type": "markdown",
   "metadata": {},
   "source": [
    "Notes:\n",
    "- Slightly more than half of the employees have quit their positions\n",
    "- Although unique, employee ids are not sequential between 36 to 999969\n",
    "- There appears to be an outlier in seniority, where seniority = 99 (99 years of work experience?)\n",
    "- Although there does appear to be an outlier for salary (408,000), the value is within the possible ranges for higher positioned employees.\n",
    "- The join_date and quit_date entries are dtype objects."
   ]
  },
  {
   "cell_type": "code",
   "execution_count": 7,
   "metadata": {},
   "outputs": [
    {
     "data": {
      "text/html": [
       "<div>\n",
       "<style scoped>\n",
       "    .dataframe tbody tr th:only-of-type {\n",
       "        vertical-align: middle;\n",
       "    }\n",
       "\n",
       "    .dataframe tbody tr th {\n",
       "        vertical-align: top;\n",
       "    }\n",
       "\n",
       "    .dataframe thead th {\n",
       "        text-align: right;\n",
       "    }\n",
       "</style>\n",
       "<table border=\"1\" class=\"dataframe\">\n",
       "  <thead>\n",
       "    <tr style=\"text-align: right;\">\n",
       "      <th></th>\n",
       "      <th>company_id</th>\n",
       "      <th>dept</th>\n",
       "      <th>seniority</th>\n",
       "      <th>salary</th>\n",
       "      <th>join_date</th>\n",
       "      <th>quit_date</th>\n",
       "    </tr>\n",
       "    <tr>\n",
       "      <th>employee_id</th>\n",
       "      <th></th>\n",
       "      <th></th>\n",
       "      <th></th>\n",
       "      <th></th>\n",
       "      <th></th>\n",
       "      <th></th>\n",
       "    </tr>\n",
       "  </thead>\n",
       "  <tbody>\n",
       "    <tr>\n",
       "      <th>604052</th>\n",
       "      <td>1</td>\n",
       "      <td>marketing</td>\n",
       "      <td>99</td>\n",
       "      <td>185000.0</td>\n",
       "      <td>2011-07-26</td>\n",
       "      <td>2013-12-06</td>\n",
       "    </tr>\n",
       "    <tr>\n",
       "      <th>97289</th>\n",
       "      <td>10</td>\n",
       "      <td>engineer</td>\n",
       "      <td>98</td>\n",
       "      <td>266000.0</td>\n",
       "      <td>2011-12-13</td>\n",
       "      <td>2015-01-09</td>\n",
       "    </tr>\n",
       "    <tr>\n",
       "      <th>426218</th>\n",
       "      <td>2</td>\n",
       "      <td>customer_service</td>\n",
       "      <td>29</td>\n",
       "      <td>118000.0</td>\n",
       "      <td>2011-03-02</td>\n",
       "      <td>2013-07-12</td>\n",
       "    </tr>\n",
       "    <tr>\n",
       "      <th>889253</th>\n",
       "      <td>2</td>\n",
       "      <td>engineer</td>\n",
       "      <td>29</td>\n",
       "      <td>318000.0</td>\n",
       "      <td>2011-09-12</td>\n",
       "      <td>NaN</td>\n",
       "    </tr>\n",
       "    <tr>\n",
       "      <th>664204</th>\n",
       "      <td>8</td>\n",
       "      <td>marketing</td>\n",
       "      <td>29</td>\n",
       "      <td>147000.0</td>\n",
       "      <td>2014-02-03</td>\n",
       "      <td>2015-02-20</td>\n",
       "    </tr>\n",
       "  </tbody>\n",
       "</table>\n",
       "</div>"
      ],
      "text/plain": [
       "             company_id              dept  seniority    salary   join_date  \\\n",
       "employee_id                                                                  \n",
       "604052                1         marketing         99  185000.0  2011-07-26   \n",
       "97289                10          engineer         98  266000.0  2011-12-13   \n",
       "426218                2  customer_service         29  118000.0  2011-03-02   \n",
       "889253                2          engineer         29  318000.0  2011-09-12   \n",
       "664204                8         marketing         29  147000.0  2014-02-03   \n",
       "\n",
       "              quit_date  \n",
       "employee_id              \n",
       "604052       2013-12-06  \n",
       "97289        2015-01-09  \n",
       "426218       2013-07-12  \n",
       "889253              NaN  \n",
       "664204       2015-02-20  "
      ]
     },
     "execution_count": 7,
     "metadata": {},
     "output_type": "execute_result"
    }
   ],
   "source": [
    "# Take a closer look at the seniority outlier\n",
    "raw_df.sort_values('seniority', ascending=False).head()"
   ]
  },
  {
   "cell_type": "markdown",
   "metadata": {},
   "source": [
    "There appears to be two invalid entries in this case (seniority in [98, 99]). At this point, I can choose to remove them completely, or impute appropriate values for them. "
   ]
  },
  {
   "cell_type": "code",
   "execution_count": 8,
   "metadata": {},
   "outputs": [
    {
     "data": {
      "text/html": [
       "<div>\n",
       "<style scoped>\n",
       "    .dataframe tbody tr th:only-of-type {\n",
       "        vertical-align: middle;\n",
       "    }\n",
       "\n",
       "    .dataframe tbody tr th {\n",
       "        vertical-align: top;\n",
       "    }\n",
       "\n",
       "    .dataframe thead th {\n",
       "        text-align: right;\n",
       "    }\n",
       "</style>\n",
       "<table border=\"1\" class=\"dataframe\">\n",
       "  <thead>\n",
       "    <tr style=\"text-align: right;\">\n",
       "      <th></th>\n",
       "      <th>company_id</th>\n",
       "      <th>dept</th>\n",
       "      <th>seniority</th>\n",
       "      <th>salary</th>\n",
       "      <th>join_date</th>\n",
       "      <th>quit_date</th>\n",
       "    </tr>\n",
       "    <tr>\n",
       "      <th>employee_id</th>\n",
       "      <th></th>\n",
       "      <th></th>\n",
       "      <th></th>\n",
       "      <th></th>\n",
       "      <th></th>\n",
       "      <th></th>\n",
       "    </tr>\n",
       "  </thead>\n",
       "  <tbody>\n",
       "    <tr>\n",
       "      <th>62540</th>\n",
       "      <td>2</td>\n",
       "      <td>engineer</td>\n",
       "      <td>23</td>\n",
       "      <td>408000.0</td>\n",
       "      <td>2013-08-26</td>\n",
       "      <td>NaN</td>\n",
       "    </tr>\n",
       "    <tr>\n",
       "      <th>517439</th>\n",
       "      <td>2</td>\n",
       "      <td>engineer</td>\n",
       "      <td>25</td>\n",
       "      <td>406000.0</td>\n",
       "      <td>2013-09-16</td>\n",
       "      <td>NaN</td>\n",
       "    </tr>\n",
       "    <tr>\n",
       "      <th>965750</th>\n",
       "      <td>1</td>\n",
       "      <td>data_science</td>\n",
       "      <td>19</td>\n",
       "      <td>398000.0</td>\n",
       "      <td>2015-05-04</td>\n",
       "      <td>NaN</td>\n",
       "    </tr>\n",
       "    <tr>\n",
       "      <th>707585</th>\n",
       "      <td>1</td>\n",
       "      <td>engineer</td>\n",
       "      <td>22</td>\n",
       "      <td>393000.0</td>\n",
       "      <td>2013-09-16</td>\n",
       "      <td>NaN</td>\n",
       "    </tr>\n",
       "    <tr>\n",
       "      <th>460908</th>\n",
       "      <td>1</td>\n",
       "      <td>engineer</td>\n",
       "      <td>24</td>\n",
       "      <td>386000.0</td>\n",
       "      <td>2014-11-03</td>\n",
       "      <td>NaN</td>\n",
       "    </tr>\n",
       "    <tr>\n",
       "      <th>820823</th>\n",
       "      <td>1</td>\n",
       "      <td>data_science</td>\n",
       "      <td>23</td>\n",
       "      <td>381000.0</td>\n",
       "      <td>2014-11-03</td>\n",
       "      <td>NaN</td>\n",
       "    </tr>\n",
       "    <tr>\n",
       "      <th>324366</th>\n",
       "      <td>2</td>\n",
       "      <td>data_science</td>\n",
       "      <td>26</td>\n",
       "      <td>381000.0</td>\n",
       "      <td>2014-12-17</td>\n",
       "      <td>NaN</td>\n",
       "    </tr>\n",
       "    <tr>\n",
       "      <th>921637</th>\n",
       "      <td>1</td>\n",
       "      <td>engineer</td>\n",
       "      <td>16</td>\n",
       "      <td>379000.0</td>\n",
       "      <td>2012-09-17</td>\n",
       "      <td>2015-09-25</td>\n",
       "    </tr>\n",
       "    <tr>\n",
       "      <th>962125</th>\n",
       "      <td>1</td>\n",
       "      <td>data_science</td>\n",
       "      <td>26</td>\n",
       "      <td>378000.0</td>\n",
       "      <td>2011-12-19</td>\n",
       "      <td>2014-08-29</td>\n",
       "    </tr>\n",
       "    <tr>\n",
       "      <th>807316</th>\n",
       "      <td>1</td>\n",
       "      <td>data_science</td>\n",
       "      <td>20</td>\n",
       "      <td>377000.0</td>\n",
       "      <td>2015-10-26</td>\n",
       "      <td>NaN</td>\n",
       "    </tr>\n",
       "  </tbody>\n",
       "</table>\n",
       "</div>"
      ],
      "text/plain": [
       "             company_id          dept  seniority    salary   join_date  \\\n",
       "employee_id                                                              \n",
       "62540                 2      engineer         23  408000.0  2013-08-26   \n",
       "517439                2      engineer         25  406000.0  2013-09-16   \n",
       "965750                1  data_science         19  398000.0  2015-05-04   \n",
       "707585                1      engineer         22  393000.0  2013-09-16   \n",
       "460908                1      engineer         24  386000.0  2014-11-03   \n",
       "820823                1  data_science         23  381000.0  2014-11-03   \n",
       "324366                2  data_science         26  381000.0  2014-12-17   \n",
       "921637                1      engineer         16  379000.0  2012-09-17   \n",
       "962125                1  data_science         26  378000.0  2011-12-19   \n",
       "807316                1  data_science         20  377000.0  2015-10-26   \n",
       "\n",
       "              quit_date  \n",
       "employee_id              \n",
       "62540               NaN  \n",
       "517439              NaN  \n",
       "965750              NaN  \n",
       "707585              NaN  \n",
       "460908              NaN  \n",
       "820823              NaN  \n",
       "324366              NaN  \n",
       "921637       2015-09-25  \n",
       "962125       2014-08-29  \n",
       "807316              NaN  "
      ]
     },
     "execution_count": 8,
     "metadata": {},
     "output_type": "execute_result"
    }
   ],
   "source": [
    "# Take a closer look at the salary distribution\n",
    "raw_df.sort_values('salary', ascending=False).head(10)"
   ]
  },
  {
   "cell_type": "markdown",
   "metadata": {},
   "source": [
    "It appears that company_id = 1 and company_id = 2 compensate their engineers and data scientists very well. I will make no changes to the higher values for salary."
   ]
  },
  {
   "cell_type": "code",
   "execution_count": 9,
   "metadata": {},
   "outputs": [
    {
     "data": {
      "text/plain": [
       "array(['customer_service', 'marketing', 'data_science', 'engineer',\n",
       "       'sales', 'design'], dtype=object)"
      ]
     },
     "execution_count": 9,
     "metadata": {},
     "output_type": "execute_result"
    }
   ],
   "source": [
    "# Check the dept column for any odd values\n",
    "raw_df['dept'].unique()"
   ]
  },
  {
   "cell_type": "code",
   "execution_count": 10,
   "metadata": {},
   "outputs": [],
   "source": [
    "# Create an intermediate table with the extreme seniority values removed\n",
    "int_df = raw_df.drop([604052, 97289])\n",
    "\n",
    "# Convert the join_date and quit_date to datetime objects\n",
    "int_df['join_date'] = pd.to_datetime(int_df['join_date'])\n",
    "int_df['quit_date'] = pd.to_datetime(int_df['quit_date'])"
   ]
  },
  {
   "cell_type": "code",
   "execution_count": 11,
   "metadata": {},
   "outputs": [],
   "source": [
    "# Make sure only two rows were removed\n",
    "assert (len(int_df) + 2) == len(raw_df)"
   ]
  },
  {
   "cell_type": "code",
   "execution_count": 12,
   "metadata": {},
   "outputs": [],
   "source": [
    "# Make sure that the data is within the specified date range (2011-01-24 to 2015-12-13)\n",
    "\n",
    "# Define the start date and end dates\n",
    "end_date = datetime.datetime.strptime('2015-12-13', '%Y-%m-%d')\n",
    "start_date = datetime.datetime.strptime('2011-01-24', '%Y-%m-%d')\n",
    "\n",
    "# start_date = datetime.date(2015, 12, 13)\n",
    "# end_date = datetime.date(2011, 1, 24)\n",
    "\n",
    "# Check the max of the join date\n",
    "assert int_df['join_date'].max() <= end_date\n",
    "\n",
    "# Check the min of the join date\n",
    "assert int_df['join_date'].min() >= start_date\n",
    "\n",
    "# Repeat the same process for quit_dates\n",
    "\n",
    "# Check the max of the quit date\n",
    "assert int_df['quit_date'].max() <= end_date\n",
    "\n",
    "# Check the min of the quit date\n",
    "assert int_df['quit_date'].min() >= start_date"
   ]
  },
  {
   "cell_type": "code",
   "execution_count": 13,
   "metadata": {},
   "outputs": [],
   "source": [
    "# Define a new dataframe with the desired columns\n",
    "\n",
    "unique_dates = pd.date_range(start=start_date, end=end_date)\n",
    "unique_columns = sorted(int_df['company_id'].unique())\n",
    "\n",
    "# Define an empty dataframe to add columns into\n",
    "daily_employed = pd.DataFrame({'day':unique_dates, 'key':0})\n",
    "\n",
    "# Add a day column for each date between the start and end dates\n",
    "# daily_employed['day'] = pd.date_range(start=start_date, end=end_date)"
   ]
  },
  {
   "cell_type": "code",
   "execution_count": 14,
   "metadata": {},
   "outputs": [],
   "source": [
    "# Define lists for the unique dats and companies\n",
    "unique_dates = pd.date_range(start=start_date, end=end_date).tolist()\n",
    "unique_companies = sorted(int_df['company_id'].unique())\n",
    "\n",
    "# Assign the cartesian product (cross join) to a variable\n",
    "result = itertools.product(unique_dates, unique_companies)\n",
    "\n",
    "# Create empty lists to hold the dates and companies\n",
    "date_list = []\n",
    "company_list = []\n",
    "\n",
    "# Iterate over the result and append each value to their respective lists\n",
    "for i in result:\n",
    "    date_list.append(i[0])\n",
    "    company_list.append(i[1])"
   ]
  },
  {
   "cell_type": "code",
   "execution_count": 15,
   "metadata": {},
   "outputs": [],
   "source": [
    "# Create a working dataframe to calculate the daily employed\n",
    "working_df = pd.DataFrame({'day':date_list, 'company_id':company_list})\n",
    "\n",
    "# Merge the working dataframe to the employee dataset (cross join)\n",
    "working_df = working_df.merge(int_df, on='company_id', how='left')"
   ]
  },
  {
   "cell_type": "code",
   "execution_count": 16,
   "metadata": {
    "scrolled": true
   },
   "outputs": [
    {
     "name": "stdout",
     "output_type": "stream",
     "text": [
      "<class 'pandas.core.frame.DataFrame'>\n",
      "Int64Index: 44089500 entries, 0 to 44089499\n",
      "Data columns (total 7 columns):\n",
      "company_id    int64\n",
      "day           datetime64[ns]\n",
      "dept          object\n",
      "seniority     int64\n",
      "salary        float64\n",
      "join_date     datetime64[ns]\n",
      "quit_date     datetime64[ns]\n",
      "dtypes: datetime64[ns](3), float64(1), int64(2), object(1)\n",
      "memory usage: 2.6+ GB\n"
     ]
    }
   ],
   "source": [
    "working_df.info()"
   ]
  },
  {
   "cell_type": "code",
   "execution_count": 17,
   "metadata": {},
   "outputs": [],
   "source": [
    "# Make sure no dates we lost\n",
    "assert working_df['day'].nunique() == len(unique_dates)\n",
    "\n",
    "# Note that there may be dates where there are no employees in a particular company"
   ]
  },
  {
   "cell_type": "code",
   "execution_count": 18,
   "metadata": {},
   "outputs": [],
   "source": [
    "# Leave only employees that occur between date\n",
    "working_df = working_df[(working_df['day'] >= working_df['join_date']) & \n",
    "                        (working_df['day'] <= working_df['quit_date'])].copy()\n",
    "\n",
    "# Create a employee_headcount column for summing during groupby\n",
    "working_df['employee_headcount'] = 1"
   ]
  },
  {
   "cell_type": "code",
   "execution_count": 19,
   "metadata": {},
   "outputs": [],
   "source": [
    "# Group the data by day and company_id, and take a headcount of employees\n",
    "daily_employed = working_df.groupby(['day', 'company_id']).agg({'employee_headcount':sum}).reset_index()"
   ]
  },
  {
   "cell_type": "code",
   "execution_count": 20,
   "metadata": {
    "scrolled": true
   },
   "outputs": [
    {
     "data": {
      "text/html": [
       "<div>\n",
       "<style scoped>\n",
       "    .dataframe tbody tr th:only-of-type {\n",
       "        vertical-align: middle;\n",
       "    }\n",
       "\n",
       "    .dataframe tbody tr th {\n",
       "        vertical-align: top;\n",
       "    }\n",
       "\n",
       "    .dataframe thead th {\n",
       "        text-align: right;\n",
       "    }\n",
       "</style>\n",
       "<table border=\"1\" class=\"dataframe\">\n",
       "  <thead>\n",
       "    <tr style=\"text-align: right;\">\n",
       "      <th></th>\n",
       "      <th>day</th>\n",
       "      <th>company_id</th>\n",
       "      <th>employee_headcount</th>\n",
       "    </tr>\n",
       "  </thead>\n",
       "  <tbody>\n",
       "    <tr>\n",
       "      <th>0</th>\n",
       "      <td>2011-01-24</td>\n",
       "      <td>1</td>\n",
       "      <td>25</td>\n",
       "    </tr>\n",
       "    <tr>\n",
       "      <th>1</th>\n",
       "      <td>2011-01-24</td>\n",
       "      <td>2</td>\n",
       "      <td>17</td>\n",
       "    </tr>\n",
       "    <tr>\n",
       "      <th>2</th>\n",
       "      <td>2011-01-24</td>\n",
       "      <td>3</td>\n",
       "      <td>9</td>\n",
       "    </tr>\n",
       "    <tr>\n",
       "      <th>3</th>\n",
       "      <td>2011-01-24</td>\n",
       "      <td>4</td>\n",
       "      <td>12</td>\n",
       "    </tr>\n",
       "    <tr>\n",
       "      <th>4</th>\n",
       "      <td>2011-01-24</td>\n",
       "      <td>5</td>\n",
       "      <td>5</td>\n",
       "    </tr>\n",
       "  </tbody>\n",
       "</table>\n",
       "</div>"
      ],
      "text/plain": [
       "         day  company_id  employee_headcount\n",
       "0 2011-01-24           1                  25\n",
       "1 2011-01-24           2                  17\n",
       "2 2011-01-24           3                   9\n",
       "3 2011-01-24           4                  12\n",
       "4 2011-01-24           5                   5"
      ]
     },
     "execution_count": 20,
     "metadata": {},
     "output_type": "execute_result"
    }
   ],
   "source": [
    "# Display the head of the desired table\n",
    "daily_employed.head()"
   ]
  },
  {
   "cell_type": "markdown",
   "metadata": {},
   "source": [
    "Now that I've created the desired table, I will return to the intermediate table to analyze churn rate.\n",
    "\n",
    "First I will create an additional column for length of employment. Next, I need a target variable to indicate if the employee has left or not."
   ]
  },
  {
   "cell_type": "code",
   "execution_count": 21,
   "metadata": {},
   "outputs": [],
   "source": [
    "# Define a column for days employed\n",
    "int_df['days_employed'] = (int_df['quit_date'] - int_df['join_date']).dt.days\n",
    "\n",
    "# Fill the null values in days employed with -1's to represent they haven't quit\n",
    "int_df['days_employed'].fillna((end_date - int_df['join_date']).dt.days, inplace=True)\n",
    "\n",
    "# Create a target column with 1 for old employee and 0 for current employee\n",
    "int_df['churn'] = 1\n",
    "int_df.loc[int_df['quit_date'].isnull(), 'churn'] = 0"
   ]
  },
  {
   "cell_type": "markdown",
   "metadata": {},
   "source": [
    "I'll run some inferential statistics on the current and old employees to see if there are any statistically significant differences between them (numerical and categorical).\n",
    "\n",
    "For this, I will run two-sided t-test for the numerical columns and chi-squared tests for the categorical columns (p-value < 0.05).\n",
    "\n",
    "Null Hypothesis: There are no differences between the past and current employees during this time period.\n",
    "\n",
    "Alternate Hypothesis: There are differences between the past and current employees during this time period."
   ]
  },
  {
   "cell_type": "code",
   "execution_count": 22,
   "metadata": {},
   "outputs": [],
   "source": [
    "# Define a dataframe for the employees that quit\n",
    "old_employees = int_df[int_df['churn'] == 1].copy()\n",
    "\n",
    "# Define a dataframe for the current employees\n",
    "current_employees = int_df[int_df['churn'] == 0].copy()"
   ]
  },
  {
   "cell_type": "code",
   "execution_count": 23,
   "metadata": {},
   "outputs": [],
   "source": [
    "# Make sure the dataframes are properly split and no rows are dropped\n",
    "assert (len(old_employees) + len(current_employees)) == len(int_df)"
   ]
  },
  {
   "cell_type": "code",
   "execution_count": 24,
   "metadata": {},
   "outputs": [],
   "source": [
    "# Define a list of numerical columns\n",
    "NUMERICAL = ['seniority', 'salary', 'days_employed']\n",
    "\n",
    "# Define a list of categorical variables\n",
    "CATEGORICAL = ['company_id', 'dept']"
   ]
  },
  {
   "cell_type": "code",
   "execution_count": 25,
   "metadata": {},
   "outputs": [
    {
     "name": "stdout",
     "output_type": "stream",
     "text": [
      "seniority: Ttest_indResult(statistic=-0.04298362740450958, pvalue=0.9657149327010423)\n",
      "salary: Ttest_indResult(statistic=-5.763520586411431, pvalue=8.335694924613824e-09)\n",
      "days_employed: Ttest_indResult(statistic=18.825437588630404, pvalue=1.6581403916833545e-78)\n"
     ]
    }
   ],
   "source": [
    "# Apply two-sided t-test to the numerical columns\n",
    "for col in NUMERICAL:\n",
    "    result = stats.ttest_ind(old_employees[col], current_employees[col])\n",
    "    print('{}: {}'.format(col, result))"
   ]
  },
  {
   "cell_type": "code",
   "execution_count": 26,
   "metadata": {},
   "outputs": [
    {
     "name": "stdout",
     "output_type": "stream",
     "text": [
      "X-squared for company_id: X-Score:19.01931996696012    p-value:0.06074759035554246\n",
      "X-squared for dept: X-Score:42.32790836528519    p-value:5.0556024084381965e-08\n"
     ]
    }
   ],
   "source": [
    "# Apply chi-squared tests to the categorical columns\n",
    "for col in CATEGORICAL:\n",
    "    cont_table = pd.crosstab(int_df['churn'], int_df[col])\n",
    "    score, p_value, dof, array = stats.chi2_contingency(cont_table)\n",
    "    print ('X-squared for {}: X-Score:{}    p-value:{}'.format(col, score, p_value))"
   ]
  },
  {
   "cell_type": "markdown",
   "metadata": {},
   "source": [
    "It appears that there are no significant differences in seniority and company id for employees that stayed and employees that left. Let's provide some visualizations for this data."
   ]
  },
  {
   "cell_type": "code",
   "execution_count": 27,
   "metadata": {},
   "outputs": [
    {
     "data": {
      "image/png": "[encoded data removed]",
      "text/plain": [
       "<matplotlib.figure.Figure at 0x15e87ee0860>"
      ]
     },
     "metadata": {},
     "output_type": "display_data"
    },
    {
     "data": {
      "image/png": "[encoded data removed]",
      "text/plain": [
       "<matplotlib.figure.Figure at 0x15e88255208>"
      ]
     },
     "metadata": {},
     "output_type": "display_data"
    },
    {
     "data": {
      "image/png": "[encoded data removed]",
      "text/plain": [
       "<matplotlib.figure.Figure at 0x15e882e91d0>"
      ]
     },
     "metadata": {},
     "output_type": "display_data"
    }
   ],
   "source": [
    "# Use boxplots to visualize the distribution of the data\n",
    "for col in NUMERICAL:\n",
    "    sns.boxplot(x=col, y='churn', data=int_df, orient='h')\n",
    "    plt.show()"
   ]
  },
  {
   "cell_type": "code",
   "execution_count": 28,
   "metadata": {},
   "outputs": [],
   "source": [
    "# Let's compliment the results with bootstrapping and 95% confidence intervals\n",
    "\n",
    "# Define a function for bootstrapping\n",
    "def bootstrap(cat, num):\n",
    "    '''Returns [num] bootstrap means of specified category'''\n",
    "    # Create [num] instances of empty arrays for low_train, high_train to contain the bootstrap samples\n",
    "    old_employ_bootstrap = np.empty(num)\n",
    "    current_employ_bootstrap = np.empty(num)\n",
    "\n",
    "    for i in range(num):\n",
    "        # Define the bootstrap samples and store them in the empty arrays \n",
    "        old_employ_bootstrap[i] = np.mean(np.random.choice(old_employees[cat], len(old_employees)))\n",
    "        current_employ_bootstrap[i] = np.mean(np.random.choice(current_employees[cat], len(current_employees)))\n",
    "        \n",
    "    return old_employ_bootstrap, current_employ_bootstrap"
   ]
  },
  {
   "cell_type": "code",
   "execution_count": 29,
   "metadata": {
    "scrolled": false
   },
   "outputs": [
    {
     "name": "stdout",
     "output_type": "stream",
     "text": [
      "\n",
      "seniority:\n",
      "95% Confidence Interval for Churned Employees: [13.98516065 14.25111415]\n",
      "95% Confidence interval for Current Employees: [13.97698579 14.2735168 ]\n"
     ]
    },
    {
     "data": {
      "image/png": "[encoded data removed]",
      "text/plain": [
       "<matplotlib.figure.Figure at 0x15e8839d668>"
      ]
     },
     "metadata": {},
     "output_type": "display_data"
    },
    {
     "name": "stdout",
     "output_type": "stream",
     "text": [
      "\n",
      "salary:\n",
      "95% Confidence Interval for Churned Employees: [134391.57351199 136831.57203139]\n",
      "95% Confidence interval for Current Employees: [139777.40796998 142801.86293781]\n"
     ]
    },
    {
     "data": {
      "image/png": "[encoded data removed]",
      "text/plain": [
       "<matplotlib.figure.Figure at 0x15e88496828>"
      ]
     },
     "metadata": {},
     "output_type": "display_data"
    },
    {
     "name": "stdout",
     "output_type": "stream",
     "text": [
      "\n",
      "days_employed:\n",
      "95% Confidence Interval for Churned Employees: [607.53054486 618.60471017]\n",
      "95% Confidence interval for Current Employees: [519.98284042 533.84209703]\n"
     ]
    },
    {
     "data": {
      "image/png": "[encoded data removed]",
      "text/plain": [
       "<matplotlib.figure.Figure at 0x15e883d5278>"
      ]
     },
     "metadata": {},
     "output_type": "display_data"
    }
   ],
   "source": [
    "# Iterate over the values in the NUMERICAL list\n",
    "for col in NUMERICAL:\n",
    "    \n",
    "    # Define 100 bootstrap samples for each category\n",
    "    old_repl, current_repl = bootstrap(col, 1000)\n",
    "    \n",
    "    # Define the confidence intervals\n",
    "    confidence_interval_old = np.percentile(old_repl, [2.5, 97.5])\n",
    "    confidence_interval_current = np.percentile(current_repl, [2.5, 97.5])\n",
    "    \n",
    "    # Print the results\n",
    "    print ('\\n{}:'.format(col))\n",
    "    print ('95% Confidence Interval for Churned Employees:', confidence_interval_old)\n",
    "    print ('95% Confidence interval for Current Employees:', confidence_interval_current)\n",
    "    \n",
    "    # Plot the samples\n",
    "    sns.distplot(old_repl, label='Churned Employees')\n",
    "    sns.distplot(current_repl, label='Current Employees')\n",
    "    plt.xlabel(col)\n",
    "    plt.ylabel('Frequency')\n",
    "    plt.title('Bootstrap Means of {}'.format(col))\n",
    "    plt.legend()\n",
    "    plt.show()"
   ]
  },
  {
   "cell_type": "markdown",
   "metadata": {},
   "source": [
    "Excluding the outliers (by taking the means), trends to note:\n",
    "- Churned employees, on average, are paid less.\n",
    "- Churned employees, on average, are employed for a quarter of a year longer."
   ]
  },
  {
   "cell_type": "code",
   "execution_count": 30,
   "metadata": {},
   "outputs": [
    {
     "data": {
      "image/png": "[encoded data removed]",
      "text/plain": [
       "<matplotlib.figure.Figure at 0x15e89628400>"
      ]
     },
     "metadata": {},
     "output_type": "display_data"
    },
    {
     "data": {
      "image/png": "[encoded data removed]",
      "text/plain": [
       "<matplotlib.figure.Figure at 0x15e89621ef0>"
      ]
     },
     "metadata": {},
     "output_type": "display_data"
    },
    {
     "data": {
      "image/png": "[encoded data removed]",
      "text/plain": [
       "<matplotlib.figure.Figure at 0x15e89677a20>"
      ]
     },
     "metadata": {},
     "output_type": "display_data"
    }
   ],
   "source": [
    "# Also provide the regular distribution\n",
    "\n",
    "# Iterate over the values in the NUMERICAL list\n",
    "for col in NUMERICAL:\n",
    "    # Plot the samples\n",
    "    sns.distplot(old_employees[col], label='Churned Employees')\n",
    "    sns.distplot(current_employees[col], label='Current Employees')\n",
    "    plt.xlabel(col)\n",
    "    plt.ylabel('Frequency')\n",
    "    plt.title('Distribution of {}'.format(col))\n",
    "    plt.legend()\n",
    "    plt.show()"
   ]
  },
  {
   "cell_type": "markdown",
   "metadata": {},
   "source": [
    "Without removing outliers, most noteworthy:\n",
    "- There are two distinct peaks (ranges of time employed) that churned employees fall under\n",
    "    - Most churned employees leave slightly after 1 year or slightly after 2 years."
   ]
  },
  {
   "cell_type": "code",
   "execution_count": 31,
   "metadata": {},
   "outputs": [
    {
     "data": {
      "image/png": "[encoded data removed]",
      "text/plain": [
       "<matplotlib.figure.Figure at 0x15e896654a8>"
      ]
     },
     "metadata": {},
     "output_type": "display_data"
    },
    {
     "data": {
      "image/png": "[encoded data removed]",
      "text/plain": [
       "<matplotlib.figure.Figure at 0x15e89739fd0>"
      ]
     },
     "metadata": {},
     "output_type": "display_data"
    }
   ],
   "source": [
    "# Use countplots to show the occurrence of each value\n",
    "for col in CATEGORICAL:\n",
    "    plt.figure(figsize=(8,3))\n",
    "    sns.countplot(x=col, hue='churn', data=int_df)\n",
    "    plt.tight_layout()"
   ]
  },
  {
   "cell_type": "markdown",
   "metadata": {},
   "source": [
    "Noteworthy:\n",
    "- Total number of employees appears to decrease with increasing company_id (the two should be independent as company_id is a categorical variable and there is no inter-correlation between the ids)\n",
    "- The customer service department appears to have the most employees and the lowest retention rate.\n",
    "\n",
    "Let's verify these findings numerically."
   ]
  },
  {
   "cell_type": "code",
   "execution_count": 32,
   "metadata": {},
   "outputs": [
    {
     "data": {
      "text/html": [
       "<div>\n",
       "<style scoped>\n",
       "    .dataframe tbody tr th:only-of-type {\n",
       "        vertical-align: middle;\n",
       "    }\n",
       "\n",
       "    .dataframe tbody tr th {\n",
       "        vertical-align: top;\n",
       "    }\n",
       "\n",
       "    .dataframe thead th {\n",
       "        text-align: right;\n",
       "    }\n",
       "</style>\n",
       "<table border=\"1\" class=\"dataframe\">\n",
       "  <thead>\n",
       "    <tr style=\"text-align: right;\">\n",
       "      <th></th>\n",
       "      <th>company_id</th>\n",
       "      <th>seniority</th>\n",
       "      <th>salary</th>\n",
       "      <th>days_employed</th>\n",
       "      <th>churn</th>\n",
       "    </tr>\n",
       "  </thead>\n",
       "  <tbody>\n",
       "    <tr>\n",
       "      <th>count</th>\n",
       "      <td>24700.000000</td>\n",
       "      <td>24700.000000</td>\n",
       "      <td>24700.000000</td>\n",
       "      <td>24700.000000</td>\n",
       "      <td>24700.000000</td>\n",
       "    </tr>\n",
       "    <tr>\n",
       "      <th>mean</th>\n",
       "      <td>3.426802</td>\n",
       "      <td>14.120972</td>\n",
       "      <td>138176.275304</td>\n",
       "      <td>574.285142</td>\n",
       "      <td>0.546883</td>\n",
       "    </tr>\n",
       "    <tr>\n",
       "      <th>std</th>\n",
       "      <td>2.699752</td>\n",
       "      <td>8.054137</td>\n",
       "      <td>76056.331953</td>\n",
       "      <td>361.585465</td>\n",
       "      <td>0.497807</td>\n",
       "    </tr>\n",
       "    <tr>\n",
       "      <th>min</th>\n",
       "      <td>1.000000</td>\n",
       "      <td>1.000000</td>\n",
       "      <td>17000.000000</td>\n",
       "      <td>3.000000</td>\n",
       "      <td>0.000000</td>\n",
       "    </tr>\n",
       "    <tr>\n",
       "      <th>25%</th>\n",
       "      <td>1.000000</td>\n",
       "      <td>7.000000</td>\n",
       "      <td>79000.000000</td>\n",
       "      <td>333.000000</td>\n",
       "      <td>0.000000</td>\n",
       "    </tr>\n",
       "    <tr>\n",
       "      <th>50%</th>\n",
       "      <td>2.000000</td>\n",
       "      <td>14.000000</td>\n",
       "      <td>123000.000000</td>\n",
       "      <td>424.000000</td>\n",
       "      <td>1.000000</td>\n",
       "    </tr>\n",
       "    <tr>\n",
       "      <th>75%</th>\n",
       "      <td>5.000000</td>\n",
       "      <td>21.000000</td>\n",
       "      <td>187000.000000</td>\n",
       "      <td>781.000000</td>\n",
       "      <td>1.000000</td>\n",
       "    </tr>\n",
       "    <tr>\n",
       "      <th>max</th>\n",
       "      <td>12.000000</td>\n",
       "      <td>29.000000</td>\n",
       "      <td>408000.000000</td>\n",
       "      <td>1777.000000</td>\n",
       "      <td>1.000000</td>\n",
       "    </tr>\n",
       "  </tbody>\n",
       "</table>\n",
       "</div>"
      ],
      "text/plain": [
       "         company_id     seniority         salary  days_employed         churn\n",
       "count  24700.000000  24700.000000   24700.000000   24700.000000  24700.000000\n",
       "mean       3.426802     14.120972  138176.275304     574.285142      0.546883\n",
       "std        2.699752      8.054137   76056.331953     361.585465      0.497807\n",
       "min        1.000000      1.000000   17000.000000       3.000000      0.000000\n",
       "25%        1.000000      7.000000   79000.000000     333.000000      0.000000\n",
       "50%        2.000000     14.000000  123000.000000     424.000000      1.000000\n",
       "75%        5.000000     21.000000  187000.000000     781.000000      1.000000\n",
       "max       12.000000     29.000000  408000.000000    1777.000000      1.000000"
      ]
     },
     "execution_count": 32,
     "metadata": {},
     "output_type": "execute_result"
    }
   ],
   "source": [
    "# Display summary statistics\n",
    "int_df.describe()"
   ]
  },
  {
   "cell_type": "code",
   "execution_count": 33,
   "metadata": {
    "scrolled": true
   },
   "outputs": [
    {
     "data": {
      "text/html": [
       "<div>\n",
       "<style scoped>\n",
       "    .dataframe tbody tr th:only-of-type {\n",
       "        vertical-align: middle;\n",
       "    }\n",
       "\n",
       "    .dataframe tbody tr th {\n",
       "        vertical-align: top;\n",
       "    }\n",
       "\n",
       "    .dataframe thead th {\n",
       "        text-align: right;\n",
       "    }\n",
       "</style>\n",
       "<table border=\"1\" class=\"dataframe\">\n",
       "  <thead>\n",
       "    <tr style=\"text-align: right;\">\n",
       "      <th></th>\n",
       "      <th></th>\n",
       "      <th>seniority</th>\n",
       "      <th>salary</th>\n",
       "      <th>days_employed</th>\n",
       "    </tr>\n",
       "    <tr>\n",
       "      <th>dept</th>\n",
       "      <th>churn</th>\n",
       "      <th></th>\n",
       "      <th></th>\n",
       "      <th></th>\n",
       "    </tr>\n",
       "  </thead>\n",
       "  <tbody>\n",
       "    <tr>\n",
       "      <th rowspan=\"2\" valign=\"top\">customer_service</th>\n",
       "      <th>0</th>\n",
       "      <td>13.715859</td>\n",
       "      <td>79656.387665</td>\n",
       "      <td>510.813754</td>\n",
       "    </tr>\n",
       "    <tr>\n",
       "      <th>1</th>\n",
       "      <td>14.536317</td>\n",
       "      <td>84322.143698</td>\n",
       "      <td>602.242638</td>\n",
       "    </tr>\n",
       "    <tr>\n",
       "      <th rowspan=\"2\" valign=\"top\">data_science</th>\n",
       "      <th>0</th>\n",
       "      <td>14.959549</td>\n",
       "      <td>215387.931034</td>\n",
       "      <td>557.329576</td>\n",
       "    </tr>\n",
       "    <tr>\n",
       "      <th>1</th>\n",
       "      <td>13.498216</td>\n",
       "      <td>199263.376932</td>\n",
       "      <td>650.760999</td>\n",
       "    </tr>\n",
       "    <tr>\n",
       "      <th rowspan=\"2\" valign=\"top\">design</th>\n",
       "      <th>0</th>\n",
       "      <td>13.720930</td>\n",
       "      <td>134325.581395</td>\n",
       "      <td>535.117940</td>\n",
       "    </tr>\n",
       "    <tr>\n",
       "      <th>1</th>\n",
       "      <td>14.566838</td>\n",
       "      <td>139886.889460</td>\n",
       "      <td>602.813625</td>\n",
       "    </tr>\n",
       "    <tr>\n",
       "      <th rowspan=\"2\" valign=\"top\">engineer</th>\n",
       "      <th>0</th>\n",
       "      <td>14.703243</td>\n",
       "      <td>212515.326522</td>\n",
       "      <td>553.454909</td>\n",
       "    </tr>\n",
       "    <tr>\n",
       "      <th>1</th>\n",
       "      <td>13.630241</td>\n",
       "      <td>198872.935197</td>\n",
       "      <td>649.129606</td>\n",
       "    </tr>\n",
       "    <tr>\n",
       "      <th rowspan=\"2\" valign=\"top\">marketing</th>\n",
       "      <th>0</th>\n",
       "      <td>13.770954</td>\n",
       "      <td>134213.150289</td>\n",
       "      <td>506.236272</td>\n",
       "    </tr>\n",
       "    <tr>\n",
       "      <th>1</th>\n",
       "      <td>14.118967</td>\n",
       "      <td>136645.903479</td>\n",
       "      <td>600.704826</td>\n",
       "    </tr>\n",
       "    <tr>\n",
       "      <th rowspan=\"2\" valign=\"top\">sales</th>\n",
       "      <th>0</th>\n",
       "      <td>13.997796</td>\n",
       "      <td>136277.002204</td>\n",
       "      <td>516.080823</td>\n",
       "    </tr>\n",
       "    <tr>\n",
       "      <th>1</th>\n",
       "      <td>13.966317</td>\n",
       "      <td>135638.321369</td>\n",
       "      <td>580.770845</td>\n",
       "    </tr>\n",
       "  </tbody>\n",
       "</table>\n",
       "</div>"
      ],
      "text/plain": [
       "                        seniority         salary  days_employed\n",
       "dept             churn                                         \n",
       "customer_service 0      13.715859   79656.387665     510.813754\n",
       "                 1      14.536317   84322.143698     602.242638\n",
       "data_science     0      14.959549  215387.931034     557.329576\n",
       "                 1      13.498216  199263.376932     650.760999\n",
       "design           0      13.720930  134325.581395     535.117940\n",
       "                 1      14.566838  139886.889460     602.813625\n",
       "engineer         0      14.703243  212515.326522     553.454909\n",
       "                 1      13.630241  198872.935197     649.129606\n",
       "marketing        0      13.770954  134213.150289     506.236272\n",
       "                 1      14.118967  136645.903479     600.704826\n",
       "sales            0      13.997796  136277.002204     516.080823\n",
       "                 1      13.966317  135638.321369     580.770845"
      ]
     },
     "execution_count": 33,
     "metadata": {},
     "output_type": "execute_result"
    }
   ],
   "source": [
    "# Let's first take a look at the change in seniority, salary, and days employed across the departments\n",
    "dept_df = int_df.groupby(['dept', 'churn']).agg({'seniority':'mean', 'salary':'mean', 'days_employed':'mean'})\n",
    "dept_df"
   ]
  },
  {
   "cell_type": "code",
   "execution_count": 34,
   "metadata": {},
   "outputs": [
    {
     "data": {
      "text/html": [
       "<div>\n",
       "<style scoped>\n",
       "    .dataframe tbody tr th:only-of-type {\n",
       "        vertical-align: middle;\n",
       "    }\n",
       "\n",
       "    .dataframe tbody tr th {\n",
       "        vertical-align: top;\n",
       "    }\n",
       "\n",
       "    .dataframe thead th {\n",
       "        text-align: right;\n",
       "    }\n",
       "</style>\n",
       "<table border=\"1\" class=\"dataframe\">\n",
       "  <thead>\n",
       "    <tr style=\"text-align: right;\">\n",
       "      <th></th>\n",
       "      <th>churn</th>\n",
       "    </tr>\n",
       "    <tr>\n",
       "      <th>dept</th>\n",
       "      <th></th>\n",
       "    </tr>\n",
       "  </thead>\n",
       "  <tbody>\n",
       "    <tr>\n",
       "      <th>customer_service</th>\n",
       "      <td>0.554902</td>\n",
       "    </tr>\n",
       "    <tr>\n",
       "      <th>data_science</th>\n",
       "      <td>0.527273</td>\n",
       "    </tr>\n",
       "    <tr>\n",
       "      <th>design</th>\n",
       "      <td>0.563768</td>\n",
       "    </tr>\n",
       "    <tr>\n",
       "      <th>engineer</th>\n",
       "      <td>0.511925</td>\n",
       "    </tr>\n",
       "    <tr>\n",
       "      <th>marketing</th>\n",
       "      <td>0.562855</td>\n",
       "    </tr>\n",
       "    <tr>\n",
       "      <th>sales</th>\n",
       "      <td>0.570933</td>\n",
       "    </tr>\n",
       "  </tbody>\n",
       "</table>\n",
       "</div>"
      ],
      "text/plain": [
       "                     churn\n",
       "dept                      \n",
       "customer_service  0.554902\n",
       "data_science      0.527273\n",
       "design            0.563768\n",
       "engineer          0.511925\n",
       "marketing         0.562855\n",
       "sales             0.570933"
      ]
     },
     "execution_count": 34,
     "metadata": {},
     "output_type": "execute_result"
    }
   ],
   "source": [
    "# Calculate the churn rate for each department\n",
    "dept_df = int_df.groupby('dept').agg({'churn':'mean'})\n",
    "dept_df"
   ]
  },
  {
   "cell_type": "markdown",
   "metadata": {},
   "source": [
    "It appears that in all departments ,there is a >50% churn rate, with sales being the greatest at (~57%). Data science and engineering departments have the lowest churn rates (~52.7% and ~51.2% respectively). To complement that, those two departments have the largest pay gap between churned employees and current employees."
   ]
  },
  {
   "cell_type": "code",
   "execution_count": 35,
   "metadata": {},
   "outputs": [
    {
     "data": {
      "text/html": [
       "<div>\n",
       "<style scoped>\n",
       "    .dataframe tbody tr th:only-of-type {\n",
       "        vertical-align: middle;\n",
       "    }\n",
       "\n",
       "    .dataframe tbody tr th {\n",
       "        vertical-align: top;\n",
       "    }\n",
       "\n",
       "    .dataframe thead th {\n",
       "        text-align: right;\n",
       "    }\n",
       "</style>\n",
       "<table border=\"1\" class=\"dataframe\">\n",
       "  <thead>\n",
       "    <tr style=\"text-align: right;\">\n",
       "      <th></th>\n",
       "      <th>churn</th>\n",
       "    </tr>\n",
       "    <tr>\n",
       "      <th>company_id</th>\n",
       "      <th></th>\n",
       "    </tr>\n",
       "  </thead>\n",
       "  <tbody>\n",
       "    <tr>\n",
       "      <th>1</th>\n",
       "      <td>0.544490</td>\n",
       "    </tr>\n",
       "    <tr>\n",
       "      <th>2</th>\n",
       "      <td>0.522501</td>\n",
       "    </tr>\n",
       "    <tr>\n",
       "      <th>3</th>\n",
       "      <td>0.556930</td>\n",
       "    </tr>\n",
       "    <tr>\n",
       "      <th>4</th>\n",
       "      <td>0.559166</td>\n",
       "    </tr>\n",
       "    <tr>\n",
       "      <th>5</th>\n",
       "      <td>0.560114</td>\n",
       "    </tr>\n",
       "    <tr>\n",
       "      <th>6</th>\n",
       "      <td>0.551510</td>\n",
       "    </tr>\n",
       "    <tr>\n",
       "      <th>7</th>\n",
       "      <td>0.565359</td>\n",
       "    </tr>\n",
       "    <tr>\n",
       "      <th>8</th>\n",
       "      <td>0.553009</td>\n",
       "    </tr>\n",
       "    <tr>\n",
       "      <th>9</th>\n",
       "      <td>0.550468</td>\n",
       "    </tr>\n",
       "    <tr>\n",
       "      <th>10</th>\n",
       "      <td>0.554398</td>\n",
       "    </tr>\n",
       "    <tr>\n",
       "      <th>11</th>\n",
       "      <td>0.750000</td>\n",
       "    </tr>\n",
       "    <tr>\n",
       "      <th>12</th>\n",
       "      <td>0.500000</td>\n",
       "    </tr>\n",
       "  </tbody>\n",
       "</table>\n",
       "</div>"
      ],
      "text/plain": [
       "               churn\n",
       "company_id          \n",
       "1           0.544490\n",
       "2           0.522501\n",
       "3           0.556930\n",
       "4           0.559166\n",
       "5           0.560114\n",
       "6           0.551510\n",
       "7           0.565359\n",
       "8           0.553009\n",
       "9           0.550468\n",
       "10          0.554398\n",
       "11          0.750000\n",
       "12          0.500000"
      ]
     },
     "execution_count": 35,
     "metadata": {},
     "output_type": "execute_result"
    }
   ],
   "source": [
    "# Calculate the churn rate for each company\n",
    "company_df = int_df.groupby('company_id').agg({'churn':'mean'})\n",
    "company_df"
   ]
  },
  {
   "cell_type": "code",
   "execution_count": 36,
   "metadata": {},
   "outputs": [
    {
     "data": {
      "text/html": [
       "<div>\n",
       "<style scoped>\n",
       "    .dataframe tbody tr th:only-of-type {\n",
       "        vertical-align: middle;\n",
       "    }\n",
       "\n",
       "    .dataframe tbody tr th {\n",
       "        vertical-align: top;\n",
       "    }\n",
       "\n",
       "    .dataframe thead th {\n",
       "        text-align: right;\n",
       "    }\n",
       "</style>\n",
       "<table border=\"1\" class=\"dataframe\">\n",
       "  <thead>\n",
       "    <tr style=\"text-align: right;\">\n",
       "      <th></th>\n",
       "      <th></th>\n",
       "      <th>seniority</th>\n",
       "      <th>salary</th>\n",
       "      <th>days_employed</th>\n",
       "    </tr>\n",
       "    <tr>\n",
       "      <th>company_id</th>\n",
       "      <th>churn</th>\n",
       "      <th></th>\n",
       "      <th></th>\n",
       "      <th></th>\n",
       "    </tr>\n",
       "  </thead>\n",
       "  <tbody>\n",
       "    <tr>\n",
       "      <th rowspan=\"2\" valign=\"top\">11</th>\n",
       "      <th>0</th>\n",
       "      <td>11.500000</td>\n",
       "      <td>55000.0</td>\n",
       "      <td>812.500000</td>\n",
       "    </tr>\n",
       "    <tr>\n",
       "      <th>1</th>\n",
       "      <td>15.333333</td>\n",
       "      <td>127750.0</td>\n",
       "      <td>550.416667</td>\n",
       "    </tr>\n",
       "    <tr>\n",
       "      <th rowspan=\"2\" valign=\"top\">12</th>\n",
       "      <th>0</th>\n",
       "      <td>11.166667</td>\n",
       "      <td>75250.0</td>\n",
       "      <td>638.000000</td>\n",
       "    </tr>\n",
       "    <tr>\n",
       "      <th>1</th>\n",
       "      <td>11.166667</td>\n",
       "      <td>70750.0</td>\n",
       "      <td>465.166667</td>\n",
       "    </tr>\n",
       "  </tbody>\n",
       "</table>\n",
       "</div>"
      ],
      "text/plain": [
       "                  seniority    salary  days_employed\n",
       "company_id churn                                    \n",
       "11         0      11.500000   55000.0     812.500000\n",
       "           1      15.333333  127750.0     550.416667\n",
       "12         0      11.166667   75250.0     638.000000\n",
       "           1      11.166667   70750.0     465.166667"
      ]
     },
     "execution_count": 36,
     "metadata": {},
     "output_type": "execute_result"
    }
   ],
   "source": [
    "# Take a closer look at company_id=11 and 12 with the greatest and lowest churn rates\n",
    "company_df = int_df.groupby(['company_id', 'churn']).agg({'seniority':'mean', 'salary':'mean', 'days_employed':'mean'})\n",
    "company_df.loc[[11,12]]"
   ]
  },
  {
   "cell_type": "markdown",
   "metadata": {},
   "source": [
    "There isn't anything particularly strange about company 12. However, company 11 has the largest pay differential between current and churned employees. In particular, current employees are, on average, paid far less."
   ]
  },
  {
   "cell_type": "code",
   "execution_count": 37,
   "metadata": {},
   "outputs": [
    {
     "data": {
      "text/html": [
       "<div>\n",
       "<style scoped>\n",
       "    .dataframe tbody tr th:only-of-type {\n",
       "        vertical-align: middle;\n",
       "    }\n",
       "\n",
       "    .dataframe tbody tr th {\n",
       "        vertical-align: top;\n",
       "    }\n",
       "\n",
       "    .dataframe thead th {\n",
       "        text-align: right;\n",
       "    }\n",
       "</style>\n",
       "<table border=\"1\" class=\"dataframe\">\n",
       "  <thead>\n",
       "    <tr style=\"text-align: right;\">\n",
       "      <th></th>\n",
       "      <th></th>\n",
       "      <th></th>\n",
       "      <th>seniority</th>\n",
       "      <th>salary</th>\n",
       "      <th>days_employed</th>\n",
       "    </tr>\n",
       "    <tr>\n",
       "      <th>company_id</th>\n",
       "      <th>dept</th>\n",
       "      <th>churn</th>\n",
       "      <th></th>\n",
       "      <th></th>\n",
       "      <th></th>\n",
       "    </tr>\n",
       "  </thead>\n",
       "  <tbody>\n",
       "    <tr>\n",
       "      <th rowspan=\"6\" valign=\"top\">11</th>\n",
       "      <th rowspan=\"2\" valign=\"top\">customer_service</th>\n",
       "      <th>0</th>\n",
       "      <td>14.666667</td>\n",
       "      <td>58333.333333</td>\n",
       "      <td>677.666667</td>\n",
       "    </tr>\n",
       "    <tr>\n",
       "      <th>1</th>\n",
       "      <td>5.666667</td>\n",
       "      <td>27333.333333</td>\n",
       "      <td>367.666667</td>\n",
       "    </tr>\n",
       "    <tr>\n",
       "      <th>data_science</th>\n",
       "      <th>1</th>\n",
       "      <td>16.500000</td>\n",
       "      <td>153500.000000</td>\n",
       "      <td>693.000000</td>\n",
       "    </tr>\n",
       "    <tr>\n",
       "      <th rowspan=\"2\" valign=\"top\">engineer</th>\n",
       "      <th>0</th>\n",
       "      <td>2.000000</td>\n",
       "      <td>45000.000000</td>\n",
       "      <td>1217.000000</td>\n",
       "    </tr>\n",
       "    <tr>\n",
       "      <th>1</th>\n",
       "      <td>17.600000</td>\n",
       "      <td>179000.000000</td>\n",
       "      <td>485.800000</td>\n",
       "    </tr>\n",
       "    <tr>\n",
       "      <th>marketing</th>\n",
       "      <th>1</th>\n",
       "      <td>23.000000</td>\n",
       "      <td>124500.000000</td>\n",
       "      <td>843.500000</td>\n",
       "    </tr>\n",
       "  </tbody>\n",
       "</table>\n",
       "</div>"
      ],
      "text/plain": [
       "                                   seniority         salary  days_employed\n",
       "company_id dept             churn                                         \n",
       "11         customer_service 0      14.666667   58333.333333     677.666667\n",
       "                            1       5.666667   27333.333333     367.666667\n",
       "           data_science     1      16.500000  153500.000000     693.000000\n",
       "           engineer         0       2.000000   45000.000000    1217.000000\n",
       "                            1      17.600000  179000.000000     485.800000\n",
       "           marketing        1      23.000000  124500.000000     843.500000"
      ]
     },
     "execution_count": 37,
     "metadata": {},
     "output_type": "execute_result"
    }
   ],
   "source": [
    "company_dept = int_df.groupby(['company_id', 'dept', 'churn']).agg({'seniority':'mean', 'salary':'mean', 'days_employed':'mean'})\n",
    "company_dept.loc[[11]]"
   ]
  },
  {
   "cell_type": "markdown",
   "metadata": {},
   "source": [
    "There are only churned employees for the data science and marketing departments. Let's take a look at employee headcount for company 11."
   ]
  },
  {
   "cell_type": "code",
   "execution_count": 38,
   "metadata": {},
   "outputs": [
    {
     "data": {
      "text/html": [
       "<div>\n",
       "<style scoped>\n",
       "    .dataframe tbody tr th:only-of-type {\n",
       "        vertical-align: middle;\n",
       "    }\n",
       "\n",
       "    .dataframe tbody tr th {\n",
       "        vertical-align: top;\n",
       "    }\n",
       "\n",
       "    .dataframe thead th {\n",
       "        text-align: right;\n",
       "    }\n",
       "</style>\n",
       "<table border=\"1\" class=\"dataframe\">\n",
       "  <thead>\n",
       "    <tr style=\"text-align: right;\">\n",
       "      <th></th>\n",
       "      <th>employee_headcount</th>\n",
       "    </tr>\n",
       "    <tr>\n",
       "      <th>company_id</th>\n",
       "      <th></th>\n",
       "    </tr>\n",
       "  </thead>\n",
       "  <tbody>\n",
       "    <tr>\n",
       "      <th>1</th>\n",
       "      <td>2850980</td>\n",
       "    </tr>\n",
       "    <tr>\n",
       "      <th>2</th>\n",
       "      <td>1389118</td>\n",
       "    </tr>\n",
       "    <tr>\n",
       "      <th>3</th>\n",
       "      <td>934868</td>\n",
       "    </tr>\n",
       "    <tr>\n",
       "      <th>4</th>\n",
       "      <td>692527</td>\n",
       "    </tr>\n",
       "    <tr>\n",
       "      <th>5</th>\n",
       "      <td>599928</td>\n",
       "    </tr>\n",
       "    <tr>\n",
       "      <th>6</th>\n",
       "      <td>430400</td>\n",
       "    </tr>\n",
       "    <tr>\n",
       "      <th>7</th>\n",
       "      <td>422713</td>\n",
       "    </tr>\n",
       "    <tr>\n",
       "      <th>8</th>\n",
       "      <td>343904</td>\n",
       "    </tr>\n",
       "    <tr>\n",
       "      <th>9</th>\n",
       "      <td>329642</td>\n",
       "    </tr>\n",
       "    <tr>\n",
       "      <th>10</th>\n",
       "      <td>293437</td>\n",
       "    </tr>\n",
       "    <tr>\n",
       "      <th>11</th>\n",
       "      <td>6617</td>\n",
       "    </tr>\n",
       "    <tr>\n",
       "      <th>12</th>\n",
       "      <td>5594</td>\n",
       "    </tr>\n",
       "  </tbody>\n",
       "</table>\n",
       "</div>"
      ],
      "text/plain": [
       "            employee_headcount\n",
       "company_id                    \n",
       "1                      2850980\n",
       "2                      1389118\n",
       "3                       934868\n",
       "4                       692527\n",
       "5                       599928\n",
       "6                       430400\n",
       "7                       422713\n",
       "8                       343904\n",
       "9                       329642\n",
       "10                      293437\n",
       "11                        6617\n",
       "12                        5594"
      ]
     },
     "execution_count": 38,
     "metadata": {},
     "output_type": "execute_result"
    }
   ],
   "source": [
    "daily_employed.groupby('company_id').sum()"
   ]
  },
  {
   "cell_type": "markdown",
   "metadata": {},
   "source": [
    "Company 11 and 12 have the smallest number of employees. The sample size can cause skewed data in these two.\n",
    "\n",
    "Before moving on, it may be worth checking if the time of the year affects churn rates. As a result , I will generate 4 new variables (year and month for the join date and quit dates)."
   ]
  },
  {
   "cell_type": "code",
   "execution_count": 39,
   "metadata": {},
   "outputs": [],
   "source": [
    "# ASsign a copy of the dataframe to another variable\n",
    "time_df = int_df.copy()\n",
    "\n",
    "# Derive the start year\n",
    "time_df['join_year'] = time_df['join_date'].dt.year\n",
    "\n",
    "# Derive the start month\n",
    "time_df['join_month'] = time_df['join_date'].dt.month\n",
    "\n",
    "# Derive the end year\n",
    "time_df['quit_year'] = time_df['quit_date'].dt.year\n",
    "\n",
    "# Derive the end month\n",
    "time_df['quit_month'] = time_df['quit_date'].dt.month\n",
    "\n",
    "# Define a list of time variables\n",
    "TIME = ['join_year', 'join_month', 'quit_year', 'quit_month']"
   ]
  },
  {
   "cell_type": "code",
   "execution_count": 40,
   "metadata": {
    "scrolled": false
   },
   "outputs": [
    {
     "data": {
      "image/png": "[encoded data removed]",
      "text/plain": [
       "<matplotlib.figure.Figure at 0x15e895b0588>"
      ]
     },
     "metadata": {},
     "output_type": "display_data"
    },
    {
     "data": {
      "image/png": "[encoded data removed]",
      "text/plain": [
       "<matplotlib.figure.Figure at 0x15e89724d68>"
      ]
     },
     "metadata": {},
     "output_type": "display_data"
    },
    {
     "data": {
      "image/png": "[encoded data removed]",
      "text/plain": [
       "<matplotlib.figure.Figure at 0x15e884a0b00>"
      ]
     },
     "metadata": {},
     "output_type": "display_data"
    },
    {
     "data": {
      "image/png": "[encoded data removed]",
      "text/plain": [
       "<matplotlib.figure.Figure at 0x15e88320ba8>"
      ]
     },
     "metadata": {},
     "output_type": "display_data"
    }
   ],
   "source": [
    "# Use countplots to show the occurrence of each value\n",
    "for col in TIME:\n",
    "    plt.figure(figsize=(8,3))\n",
    "    sns.countplot(x=col, hue='churn', data=time_df)\n",
    "    plt.tight_layout()"
   ]
  },
  {
   "cell_type": "markdown",
   "metadata": {},
   "source": [
    "Noteworthy:\n",
    "- Most employees from 2011 have left by 2015 (it appears like it is the norm to leave after a certain amount of time).\n",
    "- There is lower employee churn from employees that start around November and December.\n",
    "- Least number of employees leave their positions in December."
   ]
  },
  {
   "cell_type": "markdown",
   "metadata": {},
   "source": [
    "## Summary:\n",
    "- The greatest driving factor for employee churn is the length of employment and the salary.\n",
    "    - Most employees leave their position slightly after 1 year or slightly after 2 years of employement.\n",
    "    - Churned employees, on average, are paid less than their counterparts."
   ]
  },
  {
   "cell_type": "markdown",
   "metadata": {},
   "source": [
    "Let's build a model that can predict employee churn. Since I am working with a binary classification (churn or not), I will be using the RandomForestClassifier which can accommodate for the \"outliers\" in the salary and days_employed numerical variables.\n",
    "\n",
    "I will be leaving out particular variables that would skew the model (ex. quit_date explicitly relays churn as non-null values).\n",
    "- join_date, quit_date, join_year, quit_year, quit_month"
   ]
  },
  {
   "cell_type": "code",
   "execution_count": 41,
   "metadata": {},
   "outputs": [],
   "source": [
    "# Import RandomForestClassifier\n",
    "from sklearn.ensemble import RandomForestClassifier\n",
    "\n",
    "# Import LabelEncoder\n",
    "from sklearn.preprocessing import LabelEncoder\n",
    "\n",
    "# Import roc_auc_score\n",
    "from sklearn.metrics import roc_auc_score\n",
    "\n",
    "# Import train_test_split\n",
    "from sklearn.model_selection import train_test_split"
   ]
  },
  {
   "cell_type": "code",
   "execution_count": 42,
   "metadata": {},
   "outputs": [],
   "source": [
    "# Redefine the dataframe with the columns of interest\n",
    "processed_df = time_df[['company_id', 'dept', 'seniority', 'salary', 'days_employed', 'churn', 'join_month']].copy()"
   ]
  },
  {
   "cell_type": "code",
   "execution_count": 43,
   "metadata": {},
   "outputs": [
    {
     "name": "stdout",
     "output_type": "stream",
     "text": [
      "<class 'pandas.core.frame.DataFrame'>\n",
      "Int64Index: 24700 entries, 13021 to 777612\n",
      "Data columns (total 12 columns):\n",
      "company_id       24700 non-null int64\n",
      "dept             24700 non-null object\n",
      "seniority        24700 non-null int64\n",
      "salary           24700 non-null float64\n",
      "join_date        24700 non-null datetime64[ns]\n",
      "quit_date        13508 non-null datetime64[ns]\n",
      "days_employed    24700 non-null float64\n",
      "churn            24700 non-null int64\n",
      "join_year        24700 non-null int64\n",
      "join_month       24700 non-null int64\n",
      "quit_year        13508 non-null float64\n",
      "quit_month       13508 non-null float64\n",
      "dtypes: datetime64[ns](2), float64(4), int64(5), object(1)\n",
      "memory usage: 3.1+ MB\n"
     ]
    }
   ],
   "source": [
    "time_df.info()"
   ]
  },
  {
   "cell_type": "code",
   "execution_count": 44,
   "metadata": {},
   "outputs": [],
   "source": [
    "# Append join month to the list of categorical variables\n",
    "CATEGORICAL.append('join_month')\n",
    "\n",
    "# Apply LabelEncoder to the dept variable\n",
    "processed_df['dept'] = LabelEncoder().fit_transform(processed_df['dept'])"
   ]
  },
  {
   "cell_type": "code",
   "execution_count": 45,
   "metadata": {},
   "outputs": [
    {
     "data": {
      "text/html": [
       "<div>\n",
       "<style scoped>\n",
       "    .dataframe tbody tr th:only-of-type {\n",
       "        vertical-align: middle;\n",
       "    }\n",
       "\n",
       "    .dataframe tbody tr th {\n",
       "        vertical-align: top;\n",
       "    }\n",
       "\n",
       "    .dataframe thead th {\n",
       "        text-align: right;\n",
       "    }\n",
       "</style>\n",
       "<table border=\"1\" class=\"dataframe\">\n",
       "  <thead>\n",
       "    <tr style=\"text-align: right;\">\n",
       "      <th></th>\n",
       "      <th>company_id</th>\n",
       "      <th>dept</th>\n",
       "      <th>seniority</th>\n",
       "      <th>salary</th>\n",
       "      <th>days_employed</th>\n",
       "      <th>churn</th>\n",
       "      <th>join_month</th>\n",
       "    </tr>\n",
       "    <tr>\n",
       "      <th>employee_id</th>\n",
       "      <th></th>\n",
       "      <th></th>\n",
       "      <th></th>\n",
       "      <th></th>\n",
       "      <th></th>\n",
       "      <th></th>\n",
       "      <th></th>\n",
       "    </tr>\n",
       "  </thead>\n",
       "  <tbody>\n",
       "    <tr>\n",
       "      <th>13021</th>\n",
       "      <td>7</td>\n",
       "      <td>0</td>\n",
       "      <td>28</td>\n",
       "      <td>89000.0</td>\n",
       "      <td>585.0</td>\n",
       "      <td>1</td>\n",
       "      <td>3</td>\n",
       "    </tr>\n",
       "    <tr>\n",
       "      <th>825355</th>\n",
       "      <td>7</td>\n",
       "      <td>4</td>\n",
       "      <td>20</td>\n",
       "      <td>183000.0</td>\n",
       "      <td>340.0</td>\n",
       "      <td>1</td>\n",
       "      <td>4</td>\n",
       "    </tr>\n",
       "    <tr>\n",
       "      <th>927315</th>\n",
       "      <td>4</td>\n",
       "      <td>4</td>\n",
       "      <td>14</td>\n",
       "      <td>101000.0</td>\n",
       "      <td>426.0</td>\n",
       "      <td>0</td>\n",
       "      <td>10</td>\n",
       "    </tr>\n",
       "    <tr>\n",
       "      <th>662910</th>\n",
       "      <td>7</td>\n",
       "      <td>0</td>\n",
       "      <td>20</td>\n",
       "      <td>115000.0</td>\n",
       "      <td>389.0</td>\n",
       "      <td>1</td>\n",
       "      <td>5</td>\n",
       "    </tr>\n",
       "    <tr>\n",
       "      <th>256971</th>\n",
       "      <td>2</td>\n",
       "      <td>1</td>\n",
       "      <td>23</td>\n",
       "      <td>276000.0</td>\n",
       "      <td>1040.0</td>\n",
       "      <td>1</td>\n",
       "      <td>10</td>\n",
       "    </tr>\n",
       "  </tbody>\n",
       "</table>\n",
       "</div>"
      ],
      "text/plain": [
       "             company_id  dept  seniority    salary  days_employed  churn  \\\n",
       "employee_id                                                                \n",
       "13021                 7     0         28   89000.0          585.0      1   \n",
       "825355                7     4         20  183000.0          340.0      1   \n",
       "927315                4     4         14  101000.0          426.0      0   \n",
       "662910                7     0         20  115000.0          389.0      1   \n",
       "256971                2     1         23  276000.0         1040.0      1   \n",
       "\n",
       "             join_month  \n",
       "employee_id              \n",
       "13021                 3  \n",
       "825355                4  \n",
       "927315               10  \n",
       "662910                5  \n",
       "256971               10  "
      ]
     },
     "execution_count": 45,
     "metadata": {},
     "output_type": "execute_result"
    }
   ],
   "source": [
    "processed_df.head()"
   ]
  },
  {
   "cell_type": "code",
   "execution_count": 46,
   "metadata": {},
   "outputs": [],
   "source": [
    "# Define the X and y data\n",
    "X = processed_df.drop(['churn'], axis=1)\n",
    "y = processed_df['churn']\n",
    "\n",
    "# Create the dummy variables and remove the original column from the X data\n",
    "for col in CATEGORICAL:\n",
    "    group_dummies = pd.get_dummies(X[col]).rename(columns=lambda x: col + str(x))\n",
    "    X = X.join(group_dummies)\n",
    "    del X[col]\n",
    "\n",
    "# Split the test and training data\n",
    "X_train, X_test, y_train, y_test = train_test_split(X, y, test_size=0.2, random_state=123)"
   ]
  },
  {
   "cell_type": "code",
   "execution_count": 47,
   "metadata": {},
   "outputs": [
    {
     "data": {
      "text/plain": [
       "RandomForestClassifier(bootstrap=True, class_weight=None, criterion='gini',\n",
       "            max_depth=None, max_features='auto', max_leaf_nodes=None,\n",
       "            min_impurity_decrease=0.0, min_impurity_split=None,\n",
       "            min_samples_leaf=1, min_samples_split=2,\n",
       "            min_weight_fraction_leaf=0.0, n_estimators=200, n_jobs=1,\n",
       "            oob_score=False, random_state=None, verbose=0,\n",
       "            warm_start=False)"
      ]
     },
     "execution_count": 47,
     "metadata": {},
     "output_type": "execute_result"
    }
   ],
   "source": [
    "# Instantiate the RandomForestClassifier with 200 estimators\n",
    "rf = RandomForestClassifier(n_estimators=200)\n",
    "\n",
    "# Fit the model with the data\n",
    "rf.fit(X_train, y_train)"
   ]
  },
  {
   "cell_type": "code",
   "execution_count": 48,
   "metadata": {
    "scrolled": false
   },
   "outputs": [
    {
     "data": {
      "image/png": "[encoded data removed]",
      "text/plain": [
       "<matplotlib.figure.Figure at 0x15e8ab81e48>"
      ]
     },
     "metadata": {},
     "output_type": "display_data"
    }
   ],
   "source": [
    "# Extract the feature importances and zip it with the columns into a dataframe# Extrac \n",
    "importances = rf.feature_importances_\n",
    "features = pd.DataFrame({'feature': X.columns, 'importance': importances})\n",
    "features.sort_values(by='importance', ascending=False, inplace=True)\n",
    "\n",
    "# Display a horizontal barplot with the feature importances\n",
    "plt.figure(figsize=(10,6))\n",
    "sns.barplot(x=features['importance'], y=features['feature'], color='blue', orient='h')\n",
    "plt.tight_layout()"
   ]
  },
  {
   "cell_type": "code",
   "execution_count": 49,
   "metadata": {},
   "outputs": [
    {
     "name": "stdout",
     "output_type": "stream",
     "text": [
      "Score:     0.9274121626113547\n"
     ]
    }
   ],
   "source": [
    "# Predit the test data\n",
    "predicted_test = rf.predict_proba(X_test)[:, -1]\n",
    "\n",
    "print ('Score:     {}'.format(roc_auc_score(y_test, predicted_test)))"
   ]
  },
  {
   "cell_type": "code",
   "execution_count": 50,
   "metadata": {},
   "outputs": [
    {
     "name": "stdout",
     "output_type": "stream",
     "text": [
      "Predicted Employee Churn Rate: 54.83%\n",
      "Actual Churn Rate: 55.87%\n"
     ]
    }
   ],
   "source": [
    "# Predict the full conversion rate\n",
    "predicted_churn_rate = predicted_test.sum() / len(predicted_test)\n",
    "\n",
    "# print the final result\n",
    "print ('Predicted Employee Churn Rate: {:.2f}%'.format(predicted_churn_rate * 100))\n",
    "print ('Actual Churn Rate: {:.2f}%'.format(np.mean(y_test) * 100))"
   ]
  },
  {
   "cell_type": "markdown",
   "metadata": {},
   "source": [
    "## Conclusion:\n",
    "- Using RandomForestClassifier, it appers that the model predicts employee churn rate fairly well. The model puts the most weight on the length of employment, salary, and seniority (all the numerical columns). With categorical variables, the most weight is put on the month that the employee joined.\n",
    "- Length of employment has high impact for predicting churn rate. In particular, employees leave around the end of their first or second years.\n",
    "- Increased salary, relative to the department, reduces churn rate.\n",
    "- I believe a beneficial variable to have is difference in compensation during length of employment. I feel most employees leave their current position due to lack of vertical growth. "
   ]
  },
  {
   "cell_type": "code",
   "execution_count": null,
   "metadata": {},
   "outputs": [],
   "source": []
  }
 ],
 "metadata": {
  "kernelspec": {
   "display_name": "Python 3",
   "language": "python",
   "name": "python3"
  },
  "language_info": {
   "codemirror_mode": {
    "name": "ipython",
    "version": 3
   },
   "file_extension": ".py",
   "mimetype": "text/x-python",
   "name": "python",
   "nbconvert_exporter": "python",
   "pygments_lexer": "ipython3",
   "version": "3.6.4"
  }
 },
 "nbformat": 4,
 "nbformat_minor": 2
}
