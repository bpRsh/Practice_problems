{
 "cells": [
  {
   "cell_type": "markdown",
   "metadata": {},
   "source": [
    "# Making Loan Granting Decisions\n",
    "\n",
    "In this project, we have a loan dataset from a bank. The data contain all the loans asked to the bank, whether the bank decided to grant it, whether the borrower managed to repay it, and the information about the borrower at the moment he/she is asking for the loan. The goal is to build a model to predict whether a customer will repay, which can be used to decide whether to grant loans to future customers."
   ]
  },
  {
   "cell_type": "code",
   "execution_count": 1,
   "metadata": {
    "collapsed": true
   },
   "outputs": [],
   "source": [
    "import numpy as np\n",
    "import pandas as pd \n",
    "import matplotlib.pyplot as plt\n",
    "import seaborn as sns\n",
    "from sklearn.linear_model import LogisticRegression\n",
    "from sklearn.preprocessing import LabelEncoder, StandardScaler\n",
    "from sklearn.ensemble import RandomForestClassifier\n",
    "from sklearn.model_selection import GridSearchCV, train_test_split\n",
    "from sklearn.metrics import confusion_matrix, precision_score, recall_score, f1_score, roc_curve, roc_auc_score\n",
    "from scipy.stats import ks_2samp, chi2_contingency\n",
    "from statsmodels.stats.proportion import proportions_ztest\n",
    "from treeinterpreter import treeinterpreter as ti\n",
    "import warnings\n",
    "warnings.filterwarnings('ignore')"
   ]
  },
  {
   "cell_type": "markdown",
   "metadata": {},
   "source": [
    "## Load and Examine the Data"
   ]
  },
  {
   "cell_type": "code",
   "execution_count": 2,
   "metadata": {},
   "outputs": [
    {
     "name": "stdout",
     "output_type": "stream",
     "text": [
      "(101100, 5) (101100, 12)\n"
     ]
    }
   ],
   "source": [
    "df_loan  = pd.read_csv('data/loan_table.csv')\n",
    "df_borrower  = pd.read_csv('data/borrower_table.csv')\n",
    "\n",
    "# inspect the size of the data\n",
    "print df_loan.shape, df_borrower.shape"
   ]
  },
  {
   "cell_type": "code",
   "execution_count": 3,
   "metadata": {},
   "outputs": [
    {
     "name": "stdout",
     "output_type": "stream",
     "text": [
      "<class 'pandas.core.frame.DataFrame'>\n",
      "RangeIndex: 101100 entries, 0 to 101099\n",
      "Data columns (total 5 columns):\n",
      "loan_id         101100 non-null int64\n",
      "loan_purpose    101100 non-null object\n",
      "date            101100 non-null object\n",
      "loan_granted    101100 non-null int64\n",
      "loan_repaid     47654 non-null float64\n",
      "dtypes: float64(1), int64(2), object(2)\n",
      "memory usage: 3.9+ MB\n"
     ]
    }
   ],
   "source": [
    "df_loan.info()"
   ]
  },
  {
   "cell_type": "code",
   "execution_count": 4,
   "metadata": {},
   "outputs": [
    {
     "name": "stdout",
     "output_type": "stream",
     "text": [
      "<class 'pandas.core.frame.DataFrame'>\n",
      "RangeIndex: 101100 entries, 0 to 101099\n",
      "Data columns (total 12 columns):\n",
      "loan_id                                            101100 non-null int64\n",
      "is_first_loan                                      101100 non-null int64\n",
      "fully_repaid_previous_loans                        46153 non-null float64\n",
      "currently_repaying_other_loans                     46153 non-null float64\n",
      "total_credit_card_limit                            101100 non-null int64\n",
      "avg_percentage_credit_card_limit_used_last_year    94128 non-null float64\n",
      "saving_amount                                      101100 non-null int64\n",
      "checking_amount                                    101100 non-null int64\n",
      "is_employed                                        101100 non-null int64\n",
      "yearly_salary                                      101100 non-null int64\n",
      "age                                                101100 non-null int64\n",
      "dependent_number                                   101100 non-null int64\n",
      "dtypes: float64(3), int64(9)\n",
      "memory usage: 9.3 MB\n"
     ]
    }
   ],
   "source": [
    "df_borrower.info()"
   ]
  },
  {
   "cell_type": "code",
   "execution_count": 5,
   "metadata": {},
   "outputs": [
    {
     "data": {
      "text/html": [
       "<div>\n",
       "<style scoped>\n",
       "    .dataframe tbody tr th:only-of-type {\n",
       "        vertical-align: middle;\n",
       "    }\n",
       "\n",
       "    .dataframe tbody tr th {\n",
       "        vertical-align: top;\n",
       "    }\n",
       "\n",
       "    .dataframe thead th {\n",
       "        text-align: right;\n",
       "    }\n",
       "</style>\n",
       "<table border=\"1\" class=\"dataframe\">\n",
       "  <thead>\n",
       "    <tr style=\"text-align: right;\">\n",
       "      <th></th>\n",
       "      <th>loan_id</th>\n",
       "      <th>loan_purpose</th>\n",
       "      <th>date</th>\n",
       "      <th>loan_granted</th>\n",
       "      <th>loan_repaid</th>\n",
       "    </tr>\n",
       "  </thead>\n",
       "  <tbody>\n",
       "    <tr>\n",
       "      <th>0</th>\n",
       "      <td>19454</td>\n",
       "      <td>investment</td>\n",
       "      <td>2012-03-15</td>\n",
       "      <td>0</td>\n",
       "      <td>NaN</td>\n",
       "    </tr>\n",
       "    <tr>\n",
       "      <th>1</th>\n",
       "      <td>496811</td>\n",
       "      <td>investment</td>\n",
       "      <td>2012-01-17</td>\n",
       "      <td>0</td>\n",
       "      <td>NaN</td>\n",
       "    </tr>\n",
       "    <tr>\n",
       "      <th>2</th>\n",
       "      <td>929493</td>\n",
       "      <td>other</td>\n",
       "      <td>2012-02-09</td>\n",
       "      <td>0</td>\n",
       "      <td>NaN</td>\n",
       "    </tr>\n",
       "    <tr>\n",
       "      <th>3</th>\n",
       "      <td>580653</td>\n",
       "      <td>other</td>\n",
       "      <td>2012-06-27</td>\n",
       "      <td>1</td>\n",
       "      <td>1.0</td>\n",
       "    </tr>\n",
       "    <tr>\n",
       "      <th>4</th>\n",
       "      <td>172419</td>\n",
       "      <td>business</td>\n",
       "      <td>2012-05-21</td>\n",
       "      <td>1</td>\n",
       "      <td>0.0</td>\n",
       "    </tr>\n",
       "    <tr>\n",
       "      <th>5</th>\n",
       "      <td>77085</td>\n",
       "      <td>other</td>\n",
       "      <td>2012-08-31</td>\n",
       "      <td>0</td>\n",
       "      <td>NaN</td>\n",
       "    </tr>\n",
       "    <tr>\n",
       "      <th>6</th>\n",
       "      <td>780070</td>\n",
       "      <td>business</td>\n",
       "      <td>2012-03-14</td>\n",
       "      <td>1</td>\n",
       "      <td>1.0</td>\n",
       "    </tr>\n",
       "    <tr>\n",
       "      <th>7</th>\n",
       "      <td>303138</td>\n",
       "      <td>emergency_funds</td>\n",
       "      <td>2012-08-31</td>\n",
       "      <td>1</td>\n",
       "      <td>0.0</td>\n",
       "    </tr>\n",
       "    <tr>\n",
       "      <th>8</th>\n",
       "      <td>91475</td>\n",
       "      <td>investment</td>\n",
       "      <td>2012-05-25</td>\n",
       "      <td>1</td>\n",
       "      <td>1.0</td>\n",
       "    </tr>\n",
       "    <tr>\n",
       "      <th>9</th>\n",
       "      <td>422392</td>\n",
       "      <td>business</td>\n",
       "      <td>2012-10-25</td>\n",
       "      <td>0</td>\n",
       "      <td>NaN</td>\n",
       "    </tr>\n",
       "  </tbody>\n",
       "</table>\n",
       "</div>"
      ],
      "text/plain": [
       "   loan_id     loan_purpose        date  loan_granted  loan_repaid\n",
       "0    19454       investment  2012-03-15             0          NaN\n",
       "1   496811       investment  2012-01-17             0          NaN\n",
       "2   929493            other  2012-02-09             0          NaN\n",
       "3   580653            other  2012-06-27             1          1.0\n",
       "4   172419         business  2012-05-21             1          0.0\n",
       "5    77085            other  2012-08-31             0          NaN\n",
       "6   780070         business  2012-03-14             1          1.0\n",
       "7   303138  emergency_funds  2012-08-31             1          0.0\n",
       "8    91475       investment  2012-05-25             1          1.0\n",
       "9   422392         business  2012-10-25             0          NaN"
      ]
     },
     "execution_count": 5,
     "metadata": {},
     "output_type": "execute_result"
    }
   ],
   "source": [
    "df_loan.head(10)"
   ]
  },
  {
   "cell_type": "code",
   "execution_count": 6,
   "metadata": {},
   "outputs": [
    {
     "data": {
      "text/html": [
       "<div>\n",
       "<style scoped>\n",
       "    .dataframe tbody tr th:only-of-type {\n",
       "        vertical-align: middle;\n",
       "    }\n",
       "\n",
       "    .dataframe tbody tr th {\n",
       "        vertical-align: top;\n",
       "    }\n",
       "\n",
       "    .dataframe thead th {\n",
       "        text-align: right;\n",
       "    }\n",
       "</style>\n",
       "<table border=\"1\" class=\"dataframe\">\n",
       "  <thead>\n",
       "    <tr style=\"text-align: right;\">\n",
       "      <th></th>\n",
       "      <th>loan_id</th>\n",
       "      <th>is_first_loan</th>\n",
       "      <th>fully_repaid_previous_loans</th>\n",
       "      <th>currently_repaying_other_loans</th>\n",
       "      <th>total_credit_card_limit</th>\n",
       "      <th>avg_percentage_credit_card_limit_used_last_year</th>\n",
       "      <th>saving_amount</th>\n",
       "      <th>checking_amount</th>\n",
       "      <th>is_employed</th>\n",
       "      <th>yearly_salary</th>\n",
       "      <th>age</th>\n",
       "      <th>dependent_number</th>\n",
       "    </tr>\n",
       "  </thead>\n",
       "  <tbody>\n",
       "    <tr>\n",
       "      <th>0</th>\n",
       "      <td>289774</td>\n",
       "      <td>1</td>\n",
       "      <td>NaN</td>\n",
       "      <td>NaN</td>\n",
       "      <td>8000</td>\n",
       "      <td>0.49</td>\n",
       "      <td>3285</td>\n",
       "      <td>1073</td>\n",
       "      <td>0</td>\n",
       "      <td>0</td>\n",
       "      <td>47</td>\n",
       "      <td>3</td>\n",
       "    </tr>\n",
       "    <tr>\n",
       "      <th>1</th>\n",
       "      <td>482590</td>\n",
       "      <td>0</td>\n",
       "      <td>1.0</td>\n",
       "      <td>0.0</td>\n",
       "      <td>4500</td>\n",
       "      <td>1.03</td>\n",
       "      <td>636</td>\n",
       "      <td>5299</td>\n",
       "      <td>1</td>\n",
       "      <td>13500</td>\n",
       "      <td>33</td>\n",
       "      <td>1</td>\n",
       "    </tr>\n",
       "    <tr>\n",
       "      <th>2</th>\n",
       "      <td>135565</td>\n",
       "      <td>1</td>\n",
       "      <td>NaN</td>\n",
       "      <td>NaN</td>\n",
       "      <td>6900</td>\n",
       "      <td>0.82</td>\n",
       "      <td>2085</td>\n",
       "      <td>3422</td>\n",
       "      <td>1</td>\n",
       "      <td>24500</td>\n",
       "      <td>38</td>\n",
       "      <td>8</td>\n",
       "    </tr>\n",
       "    <tr>\n",
       "      <th>3</th>\n",
       "      <td>207797</td>\n",
       "      <td>0</td>\n",
       "      <td>1.0</td>\n",
       "      <td>0.0</td>\n",
       "      <td>1200</td>\n",
       "      <td>0.82</td>\n",
       "      <td>358</td>\n",
       "      <td>3388</td>\n",
       "      <td>0</td>\n",
       "      <td>0</td>\n",
       "      <td>24</td>\n",
       "      <td>1</td>\n",
       "    </tr>\n",
       "    <tr>\n",
       "      <th>4</th>\n",
       "      <td>828078</td>\n",
       "      <td>0</td>\n",
       "      <td>0.0</td>\n",
       "      <td>0.0</td>\n",
       "      <td>6900</td>\n",
       "      <td>0.80</td>\n",
       "      <td>2138</td>\n",
       "      <td>4282</td>\n",
       "      <td>1</td>\n",
       "      <td>18100</td>\n",
       "      <td>36</td>\n",
       "      <td>1</td>\n",
       "    </tr>\n",
       "    <tr>\n",
       "      <th>5</th>\n",
       "      <td>423171</td>\n",
       "      <td>1</td>\n",
       "      <td>NaN</td>\n",
       "      <td>NaN</td>\n",
       "      <td>6100</td>\n",
       "      <td>0.53</td>\n",
       "      <td>6163</td>\n",
       "      <td>5298</td>\n",
       "      <td>1</td>\n",
       "      <td>29500</td>\n",
       "      <td>24</td>\n",
       "      <td>1</td>\n",
       "    </tr>\n",
       "    <tr>\n",
       "      <th>6</th>\n",
       "      <td>568977</td>\n",
       "      <td>1</td>\n",
       "      <td>NaN</td>\n",
       "      <td>NaN</td>\n",
       "      <td>600</td>\n",
       "      <td>0.89</td>\n",
       "      <td>305</td>\n",
       "      <td>1456</td>\n",
       "      <td>0</td>\n",
       "      <td>0</td>\n",
       "      <td>50</td>\n",
       "      <td>2</td>\n",
       "    </tr>\n",
       "    <tr>\n",
       "      <th>7</th>\n",
       "      <td>200139</td>\n",
       "      <td>1</td>\n",
       "      <td>NaN</td>\n",
       "      <td>NaN</td>\n",
       "      <td>4000</td>\n",
       "      <td>0.57</td>\n",
       "      <td>602</td>\n",
       "      <td>2757</td>\n",
       "      <td>1</td>\n",
       "      <td>31700</td>\n",
       "      <td>36</td>\n",
       "      <td>8</td>\n",
       "    </tr>\n",
       "    <tr>\n",
       "      <th>8</th>\n",
       "      <td>991294</td>\n",
       "      <td>0</td>\n",
       "      <td>1.0</td>\n",
       "      <td>0.0</td>\n",
       "      <td>7000</td>\n",
       "      <td>0.52</td>\n",
       "      <td>2575</td>\n",
       "      <td>2917</td>\n",
       "      <td>1</td>\n",
       "      <td>58900</td>\n",
       "      <td>33</td>\n",
       "      <td>3</td>\n",
       "    </tr>\n",
       "    <tr>\n",
       "      <th>9</th>\n",
       "      <td>875332</td>\n",
       "      <td>0</td>\n",
       "      <td>1.0</td>\n",
       "      <td>0.0</td>\n",
       "      <td>4300</td>\n",
       "      <td>0.83</td>\n",
       "      <td>722</td>\n",
       "      <td>892</td>\n",
       "      <td>1</td>\n",
       "      <td>5400</td>\n",
       "      <td>32</td>\n",
       "      <td>7</td>\n",
       "    </tr>\n",
       "  </tbody>\n",
       "</table>\n",
       "</div>"
      ],
      "text/plain": [
       "   loan_id  is_first_loan  fully_repaid_previous_loans  \\\n",
       "0   289774              1                          NaN   \n",
       "1   482590              0                          1.0   \n",
       "2   135565              1                          NaN   \n",
       "3   207797              0                          1.0   \n",
       "4   828078              0                          0.0   \n",
       "5   423171              1                          NaN   \n",
       "6   568977              1                          NaN   \n",
       "7   200139              1                          NaN   \n",
       "8   991294              0                          1.0   \n",
       "9   875332              0                          1.0   \n",
       "\n",
       "   currently_repaying_other_loans  total_credit_card_limit  \\\n",
       "0                             NaN                     8000   \n",
       "1                             0.0                     4500   \n",
       "2                             NaN                     6900   \n",
       "3                             0.0                     1200   \n",
       "4                             0.0                     6900   \n",
       "5                             NaN                     6100   \n",
       "6                             NaN                      600   \n",
       "7                             NaN                     4000   \n",
       "8                             0.0                     7000   \n",
       "9                             0.0                     4300   \n",
       "\n",
       "   avg_percentage_credit_card_limit_used_last_year  saving_amount  \\\n",
       "0                                             0.49           3285   \n",
       "1                                             1.03            636   \n",
       "2                                             0.82           2085   \n",
       "3                                             0.82            358   \n",
       "4                                             0.80           2138   \n",
       "5                                             0.53           6163   \n",
       "6                                             0.89            305   \n",
       "7                                             0.57            602   \n",
       "8                                             0.52           2575   \n",
       "9                                             0.83            722   \n",
       "\n",
       "   checking_amount  is_employed  yearly_salary  age  dependent_number  \n",
       "0             1073            0              0   47                 3  \n",
       "1             5299            1          13500   33                 1  \n",
       "2             3422            1          24500   38                 8  \n",
       "3             3388            0              0   24                 1  \n",
       "4             4282            1          18100   36                 1  \n",
       "5             5298            1          29500   24                 1  \n",
       "6             1456            0              0   50                 2  \n",
       "7             2757            1          31700   36                 8  \n",
       "8             2917            1          58900   33                 3  \n",
       "9              892            1           5400   32                 7  "
      ]
     },
     "execution_count": 6,
     "metadata": {},
     "output_type": "execute_result"
    }
   ],
   "source": [
    "df_borrower.head(10)"
   ]
  },
  {
   "cell_type": "markdown",
   "metadata": {},
   "source": [
    "## Data Cleaning"
   ]
  },
  {
   "cell_type": "code",
   "execution_count": 7,
   "metadata": {
    "collapsed": true
   },
   "outputs": [],
   "source": [
    "# Merge the two data frames using \"loan_id\"\n",
    "df = pd.merge(left=df_loan, right=df_borrower, how='left', on='loan_id')\n",
    "\n",
    "# Drop \"loan_id\" and \"date\", which are not useful for modeling\n",
    "df = df.drop(['loan_id','date'], axis=1)\n",
    "\n",
    "# Rename some columns whose names are too long \n",
    "rename = {\n",
    "    'fully_repaid_previous_loans': 'previous_repaid', \n",
    "    'currently_repaying_other_loans': 'repaying',\n",
    "    'total_credit_card_limit': 'credit_limit', \n",
    "    'avg_percentage_credit_card_limit_used_last_year': 'limit_used'\n",
    "}\n",
    "df = df.rename(columns = rename)"
   ]
  },
  {
   "cell_type": "code",
   "execution_count": 8,
   "metadata": {},
   "outputs": [
    {
     "data": {
      "text/plain": [
       "loan_purpose            0\n",
       "loan_granted            0\n",
       "loan_repaid         53446\n",
       "is_first_loan           0\n",
       "previous_repaid     54947\n",
       "repaying            54947\n",
       "credit_limit            0\n",
       "limit_used           6972\n",
       "saving_amount           0\n",
       "checking_amount         0\n",
       "is_employed             0\n",
       "yearly_salary           0\n",
       "age                     0\n",
       "dependent_number        0\n",
       "dtype: int64"
      ]
     },
     "execution_count": 8,
     "metadata": {},
     "output_type": "execute_result"
    }
   ],
   "source": [
    "# Check the amount of NANs in each column\n",
    "df.isnull().sum()"
   ]
  },
  {
   "cell_type": "markdown",
   "metadata": {
    "collapsed": true
   },
   "source": [
    "There are 53446 NANs in ``loan_repaid``, which should be due to the fact that those customers were not granted the loan in the first place. We can check whether the number of granted loans is also 53446."
   ]
  },
  {
   "cell_type": "code",
   "execution_count": 9,
   "metadata": {},
   "outputs": [
    {
     "name": "stdout",
     "output_type": "stream",
     "text": [
      "53446\n"
     ]
    }
   ],
   "source": [
    "# Yes, it is also 53446\n",
    "print sum(df.loan_granted == 0)"
   ]
  },
  {
   "cell_type": "markdown",
   "metadata": {},
   "source": [
    "There are 54947 NANs in both ``previous_repaid`` and ``repaying``, which should be due to the fact that those customers never had a loan in the past. We can check whether there are 54947 ones in ``is_first_loan`` "
   ]
  },
  {
   "cell_type": "code",
   "execution_count": 10,
   "metadata": {},
   "outputs": [
    {
     "name": "stdout",
     "output_type": "stream",
     "text": [
      "54947\n"
     ]
    }
   ],
   "source": [
    "# Yes, it is also 54947\n",
    "print sum(df.is_first_loan)"
   ]
  },
  {
   "cell_type": "code",
   "execution_count": 11,
   "metadata": {
    "collapsed": true
   },
   "outputs": [],
   "source": [
    "# fill the NANs in \"previous_repaid\" and \"repaying\" and make both features \n",
    "# have three categories, \"NA\", \"YES\", \"NO\"\n",
    "df.previous_repaid.fillna(-1, inplace=True)\n",
    "df.repaying.fillna(-1, inplace=True)\n",
    "df.previous_repaid = df.previous_repaid.replace({0: 'No', 1: 'Yes', -1: 'NA'})\n",
    "df.repaying = df.repaying.replace({0: 'No', 1: 'Yes', -1: 'NA'})"
   ]
  },
  {
   "cell_type": "markdown",
   "metadata": {},
   "source": [
    "Lastly, there are 6972 NANs in ``limit_used``, which should be due to the fact that those customers have no credit card limit at all. We can check whether there are 6972 zeros in ``credit_limit`` "
   ]
  },
  {
   "cell_type": "code",
   "execution_count": 12,
   "metadata": {},
   "outputs": [
    {
     "name": "stdout",
     "output_type": "stream",
     "text": [
      "6972\n"
     ]
    }
   ],
   "source": [
    "# Yes, it is also 6972\n",
    "print sum(df.credit_limit == 0)"
   ]
  },
  {
   "cell_type": "code",
   "execution_count": 13,
   "metadata": {
    "collapsed": true
   },
   "outputs": [],
   "source": [
    "# We can just fill these NANs using zeros\n",
    "df.limit_used.fillna(0, inplace=True)"
   ]
  },
  {
   "cell_type": "markdown",
   "metadata": {},
   "source": [
    "The data have the total saving account balance and total checking account balance separately. However, what matters is the total balance, as some people prefer to put most of their money in the checking accounts while some others do not. So here I create a new column ``savings``, which equals the total balance. And then ``saving_amount`` and ``checking_amount`` can be dropped."
   ]
  },
  {
   "cell_type": "code",
   "execution_count": 14,
   "metadata": {},
   "outputs": [
    {
     "name": "stdout",
     "output_type": "stream",
     "text": [
      "   saving_amount  checking_amount\n",
      "0           1491             6285\n",
      "1            141             5793\n",
      "2            660             3232\n",
      "3           3345             2764\n",
      "4           1050             3695\n",
      "5           1028             3269\n",
      "6           4206             4368\n",
      "7            886             1597\n",
      "8           1837             3795\n",
      "9            134             1408\n"
     ]
    }
   ],
   "source": [
    "print df[['saving_amount', 'checking_amount']].head(10)"
   ]
  },
  {
   "cell_type": "code",
   "execution_count": 15,
   "metadata": {
    "collapsed": true
   },
   "outputs": [],
   "source": [
    "df['savings'] =  df.saving_amount + df.checking_amount\n",
    "df = df.drop(['saving_amount', 'checking_amount'], axis=1)"
   ]
  },
  {
   "cell_type": "markdown",
   "metadata": {},
   "source": [
    "## Exploratory Data Analysis and Visualization"
   ]
  },
  {
   "cell_type": "markdown",
   "metadata": {},
   "source": [
    "### 1. Statistical Overview"
   ]
  },
  {
   "cell_type": "code",
   "execution_count": 16,
   "metadata": {},
   "outputs": [
    {
     "data": {
      "text/plain": [
       "1.0    0.644353\n",
       "0.0    0.355647\n",
       "Name: loan_repaid, dtype: float64"
      ]
     },
     "execution_count": 16,
     "metadata": {},
     "output_type": "execute_result"
    }
   ],
   "source": [
    "total = sum(df.loan_granted == 1)\n",
    "df.loan_repaid.value_counts() / total"
   ]
  },
  {
   "cell_type": "markdown",
   "metadata": {},
   "source": [
    " About 64% of the borrowers did repay"
   ]
  },
  {
   "cell_type": "markdown",
   "metadata": {},
   "source": [
    "We can use the `describe` method to inspect some statistics of each column."
   ]
  },
  {
   "cell_type": "code",
   "execution_count": 17,
   "metadata": {},
   "outputs": [
    {
     "data": {
      "text/html": [
       "<div>\n",
       "<style scoped>\n",
       "    .dataframe tbody tr th:only-of-type {\n",
       "        vertical-align: middle;\n",
       "    }\n",
       "\n",
       "    .dataframe tbody tr th {\n",
       "        vertical-align: top;\n",
       "    }\n",
       "\n",
       "    .dataframe thead th {\n",
       "        text-align: right;\n",
       "    }\n",
       "</style>\n",
       "<table border=\"1\" class=\"dataframe\">\n",
       "  <thead>\n",
       "    <tr style=\"text-align: right;\">\n",
       "      <th></th>\n",
       "      <th>loan_granted</th>\n",
       "      <th>loan_repaid</th>\n",
       "      <th>is_first_loan</th>\n",
       "      <th>credit_limit</th>\n",
       "      <th>limit_used</th>\n",
       "      <th>is_employed</th>\n",
       "      <th>yearly_salary</th>\n",
       "      <th>age</th>\n",
       "      <th>dependent_number</th>\n",
       "      <th>savings</th>\n",
       "    </tr>\n",
       "  </thead>\n",
       "  <tbody>\n",
       "    <tr>\n",
       "      <th>count</th>\n",
       "      <td>101100.000000</td>\n",
       "      <td>47654.000000</td>\n",
       "      <td>101100.000000</td>\n",
       "      <td>101100.000000</td>\n",
       "      <td>101100.000000</td>\n",
       "      <td>101100.000000</td>\n",
       "      <td>101100.000000</td>\n",
       "      <td>101100.000000</td>\n",
       "      <td>101100.000000</td>\n",
       "      <td>101100.000000</td>\n",
       "    </tr>\n",
       "    <tr>\n",
       "      <th>mean</th>\n",
       "      <td>0.471355</td>\n",
       "      <td>0.644353</td>\n",
       "      <td>0.543492</td>\n",
       "      <td>4112.743818</td>\n",
       "      <td>0.674202</td>\n",
       "      <td>0.658675</td>\n",
       "      <td>21020.727992</td>\n",
       "      <td>41.491632</td>\n",
       "      <td>3.864748</td>\n",
       "      <td>4976.768437</td>\n",
       "    </tr>\n",
       "    <tr>\n",
       "      <th>std</th>\n",
       "      <td>0.499181</td>\n",
       "      <td>0.478714</td>\n",
       "      <td>0.498107</td>\n",
       "      <td>2129.121462</td>\n",
       "      <td>0.256994</td>\n",
       "      <td>0.474157</td>\n",
       "      <td>18937.581415</td>\n",
       "      <td>12.825570</td>\n",
       "      <td>2.635491</td>\n",
       "      <td>2804.507542</td>\n",
       "    </tr>\n",
       "    <tr>\n",
       "      <th>min</th>\n",
       "      <td>0.000000</td>\n",
       "      <td>0.000000</td>\n",
       "      <td>0.000000</td>\n",
       "      <td>0.000000</td>\n",
       "      <td>0.000000</td>\n",
       "      <td>0.000000</td>\n",
       "      <td>0.000000</td>\n",
       "      <td>18.000000</td>\n",
       "      <td>0.000000</td>\n",
       "      <td>17.000000</td>\n",
       "    </tr>\n",
       "    <tr>\n",
       "      <th>25%</th>\n",
       "      <td>0.000000</td>\n",
       "      <td>0.000000</td>\n",
       "      <td>0.000000</td>\n",
       "      <td>2700.000000</td>\n",
       "      <td>0.560000</td>\n",
       "      <td>0.000000</td>\n",
       "      <td>0.000000</td>\n",
       "      <td>32.000000</td>\n",
       "      <td>2.000000</td>\n",
       "      <td>2884.000000</td>\n",
       "    </tr>\n",
       "    <tr>\n",
       "      <th>50%</th>\n",
       "      <td>0.000000</td>\n",
       "      <td>1.000000</td>\n",
       "      <td>1.000000</td>\n",
       "      <td>4100.000000</td>\n",
       "      <td>0.710000</td>\n",
       "      <td>1.000000</td>\n",
       "      <td>21500.000000</td>\n",
       "      <td>41.000000</td>\n",
       "      <td>3.000000</td>\n",
       "      <td>4124.000000</td>\n",
       "    </tr>\n",
       "    <tr>\n",
       "      <th>75%</th>\n",
       "      <td>1.000000</td>\n",
       "      <td>1.000000</td>\n",
       "      <td>1.000000</td>\n",
       "      <td>5500.000000</td>\n",
       "      <td>0.850000</td>\n",
       "      <td>1.000000</td>\n",
       "      <td>35300.000000</td>\n",
       "      <td>50.000000</td>\n",
       "      <td>6.000000</td>\n",
       "      <td>6737.000000</td>\n",
       "    </tr>\n",
       "    <tr>\n",
       "      <th>max</th>\n",
       "      <td>1.000000</td>\n",
       "      <td>1.000000</td>\n",
       "      <td>1.000000</td>\n",
       "      <td>13500.000000</td>\n",
       "      <td>1.090000</td>\n",
       "      <td>1.000000</td>\n",
       "      <td>97200.000000</td>\n",
       "      <td>79.000000</td>\n",
       "      <td>8.000000</td>\n",
       "      <td>20558.000000</td>\n",
       "    </tr>\n",
       "  </tbody>\n",
       "</table>\n",
       "</div>"
      ],
      "text/plain": [
       "        loan_granted   loan_repaid  is_first_loan   credit_limit  \\\n",
       "count  101100.000000  47654.000000  101100.000000  101100.000000   \n",
       "mean        0.471355      0.644353       0.543492    4112.743818   \n",
       "std         0.499181      0.478714       0.498107    2129.121462   \n",
       "min         0.000000      0.000000       0.000000       0.000000   \n",
       "25%         0.000000      0.000000       0.000000    2700.000000   \n",
       "50%         0.000000      1.000000       1.000000    4100.000000   \n",
       "75%         1.000000      1.000000       1.000000    5500.000000   \n",
       "max         1.000000      1.000000       1.000000   13500.000000   \n",
       "\n",
       "          limit_used    is_employed  yearly_salary            age  \\\n",
       "count  101100.000000  101100.000000  101100.000000  101100.000000   \n",
       "mean        0.674202       0.658675   21020.727992      41.491632   \n",
       "std         0.256994       0.474157   18937.581415      12.825570   \n",
       "min         0.000000       0.000000       0.000000      18.000000   \n",
       "25%         0.560000       0.000000       0.000000      32.000000   \n",
       "50%         0.710000       1.000000   21500.000000      41.000000   \n",
       "75%         0.850000       1.000000   35300.000000      50.000000   \n",
       "max         1.090000       1.000000   97200.000000      79.000000   \n",
       "\n",
       "       dependent_number        savings  \n",
       "count     101100.000000  101100.000000  \n",
       "mean           3.864748    4976.768437  \n",
       "std            2.635491    2804.507542  \n",
       "min            0.000000      17.000000  \n",
       "25%            2.000000    2884.000000  \n",
       "50%            3.000000    4124.000000  \n",
       "75%            6.000000    6737.000000  \n",
       "max            8.000000   20558.000000  "
      ]
     },
     "execution_count": 17,
     "metadata": {},
     "output_type": "execute_result"
    }
   ],
   "source": [
    "df.describe()"
   ]
  },
  {
   "cell_type": "code",
   "execution_count": 18,
   "metadata": {},
   "outputs": [
    {
     "data": {
      "text/html": [
       "<div>\n",
       "<style scoped>\n",
       "    .dataframe tbody tr th:only-of-type {\n",
       "        vertical-align: middle;\n",
       "    }\n",
       "\n",
       "    .dataframe tbody tr th {\n",
       "        vertical-align: top;\n",
       "    }\n",
       "\n",
       "    .dataframe thead th {\n",
       "        text-align: right;\n",
       "    }\n",
       "</style>\n",
       "<table border=\"1\" class=\"dataframe\">\n",
       "  <thead>\n",
       "    <tr style=\"text-align: right;\">\n",
       "      <th></th>\n",
       "      <th>loan_purpose</th>\n",
       "      <th>previous_repaid</th>\n",
       "      <th>repaying</th>\n",
       "    </tr>\n",
       "  </thead>\n",
       "  <tbody>\n",
       "    <tr>\n",
       "      <th>count</th>\n",
       "      <td>101100</td>\n",
       "      <td>101100</td>\n",
       "      <td>101100</td>\n",
       "    </tr>\n",
       "    <tr>\n",
       "      <th>unique</th>\n",
       "      <td>5</td>\n",
       "      <td>3</td>\n",
       "      <td>3</td>\n",
       "    </tr>\n",
       "    <tr>\n",
       "      <th>top</th>\n",
       "      <td>home</td>\n",
       "      <td>NA</td>\n",
       "      <td>NA</td>\n",
       "    </tr>\n",
       "    <tr>\n",
       "      <th>freq</th>\n",
       "      <td>24314</td>\n",
       "      <td>54947</td>\n",
       "      <td>54947</td>\n",
       "    </tr>\n",
       "  </tbody>\n",
       "</table>\n",
       "</div>"
      ],
      "text/plain": [
       "       loan_purpose previous_repaid repaying\n",
       "count        101100          101100   101100\n",
       "unique            5               3        3\n",
       "top            home              NA       NA\n",
       "freq          24314           54947    54947"
      ]
     },
     "execution_count": 18,
     "metadata": {},
     "output_type": "execute_result"
    }
   ],
   "source": [
    "df.describe(include = ['O'])"
   ]
  },
  {
   "cell_type": "markdown",
   "metadata": {},
   "source": [
    "Let's check the difference in numbers between the borrowers who repaid and who didn’t."
   ]
  },
  {
   "cell_type": "code",
   "execution_count": 19,
   "metadata": {},
   "outputs": [
    {
     "data": {
      "text/html": [
       "<div>\n",
       "<style scoped>\n",
       "    .dataframe tbody tr th:only-of-type {\n",
       "        vertical-align: middle;\n",
       "    }\n",
       "\n",
       "    .dataframe tbody tr th {\n",
       "        vertical-align: top;\n",
       "    }\n",
       "\n",
       "    .dataframe thead th {\n",
       "        text-align: right;\n",
       "    }\n",
       "</style>\n",
       "<table border=\"1\" class=\"dataframe\">\n",
       "  <thead>\n",
       "    <tr style=\"text-align: right;\">\n",
       "      <th></th>\n",
       "      <th>is_first_loan</th>\n",
       "      <th>credit_limit</th>\n",
       "      <th>limit_used</th>\n",
       "      <th>is_employed</th>\n",
       "      <th>yearly_salary</th>\n",
       "      <th>age</th>\n",
       "      <th>dependent_number</th>\n",
       "      <th>savings</th>\n",
       "    </tr>\n",
       "    <tr>\n",
       "      <th>loan_repaid</th>\n",
       "      <th></th>\n",
       "      <th></th>\n",
       "      <th></th>\n",
       "      <th></th>\n",
       "      <th></th>\n",
       "      <th></th>\n",
       "      <th></th>\n",
       "      <th></th>\n",
       "    </tr>\n",
       "  </thead>\n",
       "  <tbody>\n",
       "    <tr>\n",
       "      <th>0.0</th>\n",
       "      <td>0.532570</td>\n",
       "      <td>3459.352136</td>\n",
       "      <td>0.718196</td>\n",
       "      <td>0.791952</td>\n",
       "      <td>19893.114232</td>\n",
       "      <td>41.508320</td>\n",
       "      <td>4.233656</td>\n",
       "      <td>3095.128688</td>\n",
       "    </tr>\n",
       "    <tr>\n",
       "      <th>1.0</th>\n",
       "      <td>0.545919</td>\n",
       "      <td>5117.599166</td>\n",
       "      <td>0.669510</td>\n",
       "      <td>0.974891</td>\n",
       "      <td>34408.258972</td>\n",
       "      <td>41.533674</td>\n",
       "      <td>3.486843</td>\n",
       "      <td>6860.763857</td>\n",
       "    </tr>\n",
       "  </tbody>\n",
       "</table>\n",
       "</div>"
      ],
      "text/plain": [
       "             is_first_loan  credit_limit  limit_used  is_employed  \\\n",
       "loan_repaid                                                         \n",
       "0.0               0.532570   3459.352136    0.718196     0.791952   \n",
       "1.0               0.545919   5117.599166    0.669510     0.974891   \n",
       "\n",
       "             yearly_salary        age  dependent_number      savings  \n",
       "loan_repaid                                                           \n",
       "0.0           19893.114232  41.508320          4.233656  3095.128688  \n",
       "1.0           34408.258972  41.533674          3.486843  6860.763857  "
      ]
     },
     "execution_count": 19,
     "metadata": {},
     "output_type": "execute_result"
    }
   ],
   "source": [
    "# Numerical features: Didn't repay v.s. Repaid (mean) \n",
    "df.groupby('loan_repaid').mean().drop(['loan_granted'], axis=1)"
   ]
  },
  {
   "cell_type": "code",
   "execution_count": 20,
   "metadata": {},
   "outputs": [
    {
     "data": {
      "text/html": [
       "<div>\n",
       "<style scoped>\n",
       "    .dataframe tbody tr th:only-of-type {\n",
       "        vertical-align: middle;\n",
       "    }\n",
       "\n",
       "    .dataframe tbody tr th {\n",
       "        vertical-align: top;\n",
       "    }\n",
       "\n",
       "    .dataframe thead th {\n",
       "        text-align: right;\n",
       "    }\n",
       "</style>\n",
       "<table border=\"1\" class=\"dataframe\">\n",
       "  <thead>\n",
       "    <tr style=\"text-align: right;\">\n",
       "      <th></th>\n",
       "      <th>loan_purpose</th>\n",
       "      <th>previous_repaid</th>\n",
       "      <th>repaying</th>\n",
       "    </tr>\n",
       "    <tr>\n",
       "      <th>loan_repaid</th>\n",
       "      <th></th>\n",
       "      <th></th>\n",
       "      <th></th>\n",
       "    </tr>\n",
       "  </thead>\n",
       "  <tbody>\n",
       "    <tr>\n",
       "      <th>0.0</th>\n",
       "      <td>emergency_funds</td>\n",
       "      <td>NA</td>\n",
       "      <td>NA</td>\n",
       "    </tr>\n",
       "    <tr>\n",
       "      <th>1.0</th>\n",
       "      <td>business</td>\n",
       "      <td>NA</td>\n",
       "      <td>NA</td>\n",
       "    </tr>\n",
       "  </tbody>\n",
       "</table>\n",
       "</div>"
      ],
      "text/plain": [
       "                loan_purpose previous_repaid repaying\n",
       "loan_repaid                                          \n",
       "0.0          emergency_funds              NA       NA\n",
       "1.0                 business              NA       NA"
      ]
     },
     "execution_count": 20,
     "metadata": {},
     "output_type": "execute_result"
    }
   ],
   "source": [
    "# Categorical features: Didn't repay v.s. Repaid (mode) \n",
    "df.groupby('loan_repaid').agg(lambda x:x.value_counts().index[0])[['loan_purpose','previous_repaid','repaying']]"
   ]
  },
  {
   "cell_type": "markdown",
   "metadata": {},
   "source": [
    "Just based on visual inspections, we can conclude that:\n",
    "- Whether or not a person had previously asked for a loan does not make a big differnce, as the mean values of ``is_first_loan`` are similar (~54%).\n",
    "- Age probably doesn't matter,  as the mean values of ``age`` are almost the same (~41.5).\n",
    "- For the other numerical features, we do see differences between the two groups. \n",
    "- The most common loan purpose of the people who eventually didn't repay is ``emergency_funds``, while for the people who did repay it is ``business``.\n",
    "\n",
    "To statistically determine whether these features are relevant, we will use hypothesis described below."
   ]
  },
  {
   "cell_type": "markdown",
   "metadata": {},
   "source": [
    "### 2. Hypothesis Testing\n",
    "\n",
    "Hypothesis tests can be used to test whether two samples are drawn from the same distribution. If the test statistic is small or the p-value is high, we cannot reject the null hypothesis that the distributions of the two samples are the same. A typical choice for the threshold of the p-value is 0.05, which corresponds to a 95% confidence level. \n",
    "<br>\n",
    "\n",
    "Here we can group the borrowers by whether they repaid, and then use hypothesis tests to compare the two distributions of each feature. For numerical variables, ``credit_limit``, ``limit_used``, ``yearly_salary``, ``age``, ``dependent_number`` and ``savings``, we can use [Kolmogorov–Smirnov (K-S) tests](https://en.wikipedia.org/wiki/Kolmogorov%E2%80%93Smirnov_test). For ``is_first_loan`` and ``is_employed``, the values are binary (0 or 1), so we can use [two-sample proportion Z tests](https://onlinecourses.science.psu.edu/stat414/node/268/). Lastly, for categorical vaiables, ``loan_purpose``, ``previous_repaid`` and ``repaying``, we can use [chi-squared tests](https://newonlinecourses.science.psu.edu/statprogram/node/158/)."
   ]
  },
  {
   "cell_type": "code",
   "execution_count": 21,
   "metadata": {
    "collapsed": true
   },
   "outputs": [],
   "source": [
    "def run_test(feature):\n",
    "    \"\"\" run either a K-S test, a Z test, or a chi-squred test \"\"\"\n",
    "    \n",
    "    # split the borrowers into two groups based on whether they repaid\n",
    "    group1 = df.loc[df.loan_repaid == 0, feature]\n",
    "    group2 = df.loc[df.loan_repaid == 1, feature]\n",
    "\n",
    "    # if the feature is categorical, do a chi-squred test\n",
    "    if df[feature].dtype.name == 'object': \n",
    "        group1 = group1.value_counts().sort_index().tolist()\n",
    "        group2 = group2.value_counts().sort_index().tolist()\n",
    "        chi2, p_value, _, _ = chi2_contingency([group1, group2])\n",
    "        print \"Chi-Sqaured test for \" + feature +':'\n",
    "        print 'test statistic = {}; p-value = {}'.format(chi2, p_value),'\\n'\n",
    "    # if the feature is numerical and is binary, do a Z test \n",
    "    elif len(df[feature].unique()) == 2:\n",
    "        n1, p1 = len(group1), group1.sum()\n",
    "        n2, p2 = len(group2), group2.sum()\n",
    "        z_score, p_value = proportions_ztest([p1, p2], [n1, n2])\n",
    "        print \"Z test for \" + feature +':'\n",
    "        print 'z-score = {}; p-value = {}'.format(z_score, p_value),'\\n'\n",
    "    # if the feature is numerical and is not binary, do a K-S test\n",
    "    else:\n",
    "        ks, p_value = ks_2samp(group1, group2)\n",
    "        print \"K-S test for \" + feature +':'\n",
    "        print 'test statistic = {}; p-value = {}'.format(ks, p_value),'\\n'"
   ]
  },
  {
   "cell_type": "code",
   "execution_count": 22,
   "metadata": {},
   "outputs": [
    {
     "name": "stdout",
     "output_type": "stream",
     "text": [
      "Chi-Sqaured test for loan_purpose:\n",
      "test statistic = 1618.17608436; p-value = 0.0 \n",
      "\n",
      "Z test for is_first_loan:\n",
      "z-score = -2.79951072894; p-value = 0.00511801157131 \n",
      "\n",
      "Chi-Sqaured test for previous_repaid:\n",
      "test statistic = 40.7931231575; p-value = 1.38639140263e-09 \n",
      "\n",
      "Chi-Sqaured test for repaying:\n",
      "test statistic = 5438.76833195; p-value = 0.0 \n",
      "\n",
      "K-S test for credit_limit:\n",
      "test statistic = 0.353225880364; p-value = 0.0 \n",
      "\n",
      "K-S test for limit_used:\n",
      "test statistic = 0.157855106192; p-value = 2.47261284319e-237 \n",
      "\n",
      "Z test for is_employed:\n",
      "z-score = -66.7443728317; p-value = 0.0 \n",
      "\n",
      "K-S test for yearly_salary:\n",
      "test statistic = 0.377148504302; p-value = 0.0 \n",
      "\n",
      "K-S test for age:\n",
      "test statistic = 0.0052539473811; p-value = 0.923138141086 \n",
      "\n",
      "K-S test for dependent_number:\n",
      "test statistic = 0.120934143928; p-value = 1.79688076893e-139 \n",
      "\n",
      "K-S test for savings:\n",
      "test statistic = 0.706104147043; p-value = 0.0 \n",
      "\n"
     ]
    }
   ],
   "source": [
    "for feature in df.columns:\n",
    "    if feature not in ['loan_repaid', 'loan_granted']: run_test(feature)"
   ]
  },
  {
   "cell_type": "markdown",
   "metadata": {},
   "source": [
    "We see that the p-value for ``age`` is over 90%, so we cannot reject the null hypothesis. For the others, p-values are all extremely low, showing that the two samples are not drawn from the same distribution."
   ]
  },
  {
   "cell_type": "markdown",
   "metadata": {},
   "source": [
    "### 3. Distribution Plots\n",
    "\n",
    "In addition to doing hypothesis testing, we can also visualize the distributions of the two classes. For numerical features (except for ``dependent_number``, which only has a few discrete values), I will use kernel density plots. For binary/categorical features and ``dependent_number``, I will use bar plots. Notice that in all of these plots, the scale is normalized to the total counts of each of the two classes."
   ]
  },
  {
   "cell_type": "code",
   "execution_count": 23,
   "metadata": {
    "collapsed": true
   },
   "outputs": [],
   "source": [
    "def DensityPlot(feature):\n",
    "    fig = plt.figure(figsize=(8,4))\n",
    "    sns.kdeplot(df.loc[df.loan_repaid == 0,feature], color='r', shade=True, label=\"didn't repay\")\n",
    "    sns.kdeplot(df.loc[df.loan_repaid == 1,feature], color='b', shade=True, label=\"repaid\",)\n",
    "    plt.xlabel(feature)\n",
    "    plt.ylabel('kernel density')\n",
    "    plt.show()"
   ]
  },
  {
   "cell_type": "code",
   "execution_count": 24,
   "metadata": {},
   "outputs": [
    {
     "data": {
      "image/png": "[encoded data removed]",
      "text/plain": [
       "<Figure size 576x288 with 1 Axes>"
      ]
     },
     "metadata": {},
     "output_type": "display_data"
    }
   ],
   "source": [
    "DensityPlot('credit_limit')"
   ]
  },
  {
   "cell_type": "code",
   "execution_count": 25,
   "metadata": {},
   "outputs": [
    {
     "data": {
      "image/png": "[encoded data removed]",
      "text/plain": [
       "<Figure size 576x288 with 1 Axes>"
      ]
     },
     "metadata": {},
     "output_type": "display_data"
    }
   ],
   "source": [
    "DensityPlot('limit_used')"
   ]
  },
  {
   "cell_type": "code",
   "execution_count": 26,
   "metadata": {},
   "outputs": [
    {
     "data": {
      "image/png": "[encoded data removed]",
      "text/plain": [
       "<Figure size 576x288 with 1 Axes>"
      ]
     },
     "metadata": {},
     "output_type": "display_data"
    }
   ],
   "source": [
    "DensityPlot('yearly_salary')"
   ]
  },
  {
   "cell_type": "code",
   "execution_count": 27,
   "metadata": {},
   "outputs": [
    {
     "data": {
      "image/png": "[encoded data removed]",
      "text/plain": [
       "<Figure size 576x288 with 1 Axes>"
      ]
     },
     "metadata": {},
     "output_type": "display_data"
    }
   ],
   "source": [
    "DensityPlot('age')"
   ]
  },
  {
   "cell_type": "code",
   "execution_count": 28,
   "metadata": {},
   "outputs": [
    {
     "data": {
      "image/png": "[encoded data removed]",
      "text/plain": [
       "<Figure size 576x288 with 1 Axes>"
      ]
     },
     "metadata": {},
     "output_type": "display_data"
    }
   ],
   "source": [
    "DensityPlot('savings')"
   ]
  },
  {
   "cell_type": "markdown",
   "metadata": {},
   "source": [
    "We can see that the two distributions of ``age`` are almost identical."
   ]
  },
  {
   "cell_type": "code",
   "execution_count": 29,
   "metadata": {
    "collapsed": true
   },
   "outputs": [],
   "source": [
    "def BarPlot(feature):\n",
    "    counts = (\n",
    "        df.groupby('loan_repaid')[feature]\n",
    "        .value_counts(normalize=True)\n",
    "        .rename('fraction')\n",
    "        .reset_index()\n",
    "    )\n",
    "    fig = plt.figure()\n",
    "    sns.barplot(x=feature, y='fraction', hue='loan_repaid', data=counts)\n",
    "    plt.ylabel('fraction')\n",
    "    plt.show()"
   ]
  },
  {
   "cell_type": "code",
   "execution_count": 30,
   "metadata": {},
   "outputs": [
    {
     "data": {
      "image/png": "[encoded data removed]",
      "text/plain": [
       "<Figure size 576x396 with 1 Axes>"
      ]
     },
     "metadata": {},
     "output_type": "display_data"
    }
   ],
   "source": [
    "BarPlot('dependent_number')"
   ]
  },
  {
   "cell_type": "code",
   "execution_count": 31,
   "metadata": {},
   "outputs": [
    {
     "data": {
      "image/png": "[encoded data removed]",
      "text/plain": [
       "<Figure size 576x396 with 1 Axes>"
      ]
     },
     "metadata": {},
     "output_type": "display_data"
    }
   ],
   "source": [
    "BarPlot('is_first_loan')"
   ]
  },
  {
   "cell_type": "code",
   "execution_count": 32,
   "metadata": {},
   "outputs": [
    {
     "data": {
      "image/png": "[encoded data removed]",
      "text/plain": [
       "<Figure size 576x396 with 1 Axes>"
      ]
     },
     "metadata": {},
     "output_type": "display_data"
    }
   ],
   "source": [
    "BarPlot('is_employed')"
   ]
  },
  {
   "cell_type": "code",
   "execution_count": 33,
   "metadata": {},
   "outputs": [
    {
     "data": {
      "image/png": "[encoded data removed]",
      "text/plain": [
       "<Figure size 576x396 with 1 Axes>"
      ]
     },
     "metadata": {},
     "output_type": "display_data"
    }
   ],
   "source": [
    "BarPlot('loan_purpose')"
   ]
  },
  {
   "cell_type": "code",
   "execution_count": 34,
   "metadata": {},
   "outputs": [
    {
     "data": {
      "image/png": "[encoded data removed]",
      "text/plain": [
       "<Figure size 576x396 with 1 Axes>"
      ]
     },
     "metadata": {},
     "output_type": "display_data"
    }
   ],
   "source": [
    "BarPlot('previous_repaid')"
   ]
  },
  {
   "cell_type": "code",
   "execution_count": 35,
   "metadata": {},
   "outputs": [
    {
     "data": {
      "image/png": "[encoded data removed]",
      "text/plain": [
       "<Figure size 576x396 with 1 Axes>"
      ]
     },
     "metadata": {},
     "output_type": "display_data"
    }
   ],
   "source": [
    "BarPlot('repaying')"
   ]
  },
  {
   "cell_type": "markdown",
   "metadata": {},
   "source": [
    "We can see that except for ``is_first_loan`` and ``previous_repaid``, the distributions of the borrowers who did repay and who didn't repay are significantly different."
   ]
  },
  {
   "cell_type": "markdown",
   "metadata": {},
   "source": [
    "### 4. Correlation Matrix & Heatmap\n",
    "Finally let's see the correlations between different numerical features."
   ]
  },
  {
   "cell_type": "code",
   "execution_count": 36,
   "metadata": {},
   "outputs": [
    {
     "data": {
      "text/html": [
       "<div>\n",
       "<style scoped>\n",
       "    .dataframe tbody tr th:only-of-type {\n",
       "        vertical-align: middle;\n",
       "    }\n",
       "\n",
       "    .dataframe tbody tr th {\n",
       "        vertical-align: top;\n",
       "    }\n",
       "\n",
       "    .dataframe thead th {\n",
       "        text-align: right;\n",
       "    }\n",
       "</style>\n",
       "<table border=\"1\" class=\"dataframe\">\n",
       "  <thead>\n",
       "    <tr style=\"text-align: right;\">\n",
       "      <th></th>\n",
       "      <th>loan_repaid</th>\n",
       "      <th>is_first_loan</th>\n",
       "      <th>credit_limit</th>\n",
       "      <th>limit_used</th>\n",
       "      <th>is_employed</th>\n",
       "      <th>yearly_salary</th>\n",
       "      <th>age</th>\n",
       "      <th>dependent_number</th>\n",
       "      <th>savings</th>\n",
       "    </tr>\n",
       "  </thead>\n",
       "  <tbody>\n",
       "    <tr>\n",
       "      <th>loan_repaid</th>\n",
       "      <td>1.000000</td>\n",
       "      <td>0.012824</td>\n",
       "      <td>0.401911</td>\n",
       "      <td>-0.116388</td>\n",
       "      <td>0.305749</td>\n",
       "      <td>0.426648</td>\n",
       "      <td>0.000947</td>\n",
       "      <td>-0.136384</td>\n",
       "      <td>0.621702</td>\n",
       "    </tr>\n",
       "    <tr>\n",
       "      <th>is_first_loan</th>\n",
       "      <td>0.012824</td>\n",
       "      <td>1.000000</td>\n",
       "      <td>0.000679</td>\n",
       "      <td>-0.002585</td>\n",
       "      <td>-0.000971</td>\n",
       "      <td>-0.001674</td>\n",
       "      <td>-0.002353</td>\n",
       "      <td>0.000887</td>\n",
       "      <td>0.006550</td>\n",
       "    </tr>\n",
       "    <tr>\n",
       "      <th>credit_limit</th>\n",
       "      <td>0.401911</td>\n",
       "      <td>0.000679</td>\n",
       "      <td>1.000000</td>\n",
       "      <td>0.318143</td>\n",
       "      <td>0.195274</td>\n",
       "      <td>0.222497</td>\n",
       "      <td>-0.004052</td>\n",
       "      <td>-0.058650</td>\n",
       "      <td>0.292580</td>\n",
       "    </tr>\n",
       "    <tr>\n",
       "      <th>limit_used</th>\n",
       "      <td>-0.116388</td>\n",
       "      <td>-0.002585</td>\n",
       "      <td>0.318143</td>\n",
       "      <td>1.000000</td>\n",
       "      <td>-0.009516</td>\n",
       "      <td>-0.011848</td>\n",
       "      <td>-0.002836</td>\n",
       "      <td>0.005154</td>\n",
       "      <td>-0.009701</td>\n",
       "    </tr>\n",
       "    <tr>\n",
       "      <th>is_employed</th>\n",
       "      <td>0.305749</td>\n",
       "      <td>-0.000971</td>\n",
       "      <td>0.195274</td>\n",
       "      <td>-0.009516</td>\n",
       "      <td>1.000000</td>\n",
       "      <td>0.799051</td>\n",
       "      <td>0.005059</td>\n",
       "      <td>-0.060847</td>\n",
       "      <td>0.302263</td>\n",
       "    </tr>\n",
       "    <tr>\n",
       "      <th>yearly_salary</th>\n",
       "      <td>0.426648</td>\n",
       "      <td>-0.001674</td>\n",
       "      <td>0.222497</td>\n",
       "      <td>-0.011848</td>\n",
       "      <td>0.799051</td>\n",
       "      <td>1.000000</td>\n",
       "      <td>0.005412</td>\n",
       "      <td>-0.073218</td>\n",
       "      <td>0.350416</td>\n",
       "    </tr>\n",
       "    <tr>\n",
       "      <th>age</th>\n",
       "      <td>0.000947</td>\n",
       "      <td>-0.002353</td>\n",
       "      <td>-0.004052</td>\n",
       "      <td>-0.002836</td>\n",
       "      <td>0.005059</td>\n",
       "      <td>0.005412</td>\n",
       "      <td>1.000000</td>\n",
       "      <td>0.000862</td>\n",
       "      <td>-0.002399</td>\n",
       "    </tr>\n",
       "    <tr>\n",
       "      <th>dependent_number</th>\n",
       "      <td>-0.136384</td>\n",
       "      <td>0.000887</td>\n",
       "      <td>-0.058650</td>\n",
       "      <td>0.005154</td>\n",
       "      <td>-0.060847</td>\n",
       "      <td>-0.073218</td>\n",
       "      <td>0.000862</td>\n",
       "      <td>1.000000</td>\n",
       "      <td>-0.097528</td>\n",
       "    </tr>\n",
       "    <tr>\n",
       "      <th>savings</th>\n",
       "      <td>0.621702</td>\n",
       "      <td>0.006550</td>\n",
       "      <td>0.292580</td>\n",
       "      <td>-0.009701</td>\n",
       "      <td>0.302263</td>\n",
       "      <td>0.350416</td>\n",
       "      <td>-0.002399</td>\n",
       "      <td>-0.097528</td>\n",
       "      <td>1.000000</td>\n",
       "    </tr>\n",
       "  </tbody>\n",
       "</table>\n",
       "</div>"
      ],
      "text/plain": [
       "                  loan_repaid  is_first_loan  credit_limit  limit_used  \\\n",
       "loan_repaid          1.000000       0.012824      0.401911   -0.116388   \n",
       "is_first_loan        0.012824       1.000000      0.000679   -0.002585   \n",
       "credit_limit         0.401911       0.000679      1.000000    0.318143   \n",
       "limit_used          -0.116388      -0.002585      0.318143    1.000000   \n",
       "is_employed          0.305749      -0.000971      0.195274   -0.009516   \n",
       "yearly_salary        0.426648      -0.001674      0.222497   -0.011848   \n",
       "age                  0.000947      -0.002353     -0.004052   -0.002836   \n",
       "dependent_number    -0.136384       0.000887     -0.058650    0.005154   \n",
       "savings              0.621702       0.006550      0.292580   -0.009701   \n",
       "\n",
       "                  is_employed  yearly_salary       age  dependent_number  \\\n",
       "loan_repaid          0.305749       0.426648  0.000947         -0.136384   \n",
       "is_first_loan       -0.000971      -0.001674 -0.002353          0.000887   \n",
       "credit_limit         0.195274       0.222497 -0.004052         -0.058650   \n",
       "limit_used          -0.009516      -0.011848 -0.002836          0.005154   \n",
       "is_employed          1.000000       0.799051  0.005059         -0.060847   \n",
       "yearly_salary        0.799051       1.000000  0.005412         -0.073218   \n",
       "age                  0.005059       0.005412  1.000000          0.000862   \n",
       "dependent_number    -0.060847      -0.073218  0.000862          1.000000   \n",
       "savings              0.302263       0.350416 -0.002399         -0.097528   \n",
       "\n",
       "                   savings  \n",
       "loan_repaid       0.621702  \n",
       "is_first_loan     0.006550  \n",
       "credit_limit      0.292580  \n",
       "limit_used       -0.009701  \n",
       "is_employed       0.302263  \n",
       "yearly_salary     0.350416  \n",
       "age              -0.002399  \n",
       "dependent_number -0.097528  \n",
       "savings           1.000000  "
      ]
     },
     "execution_count": 36,
     "metadata": {},
     "output_type": "execute_result"
    }
   ],
   "source": [
    "corr = df.drop(['loan_granted'],axis=1).corr()\n",
    "corr"
   ]
  },
  {
   "cell_type": "code",
   "execution_count": 37,
   "metadata": {},
   "outputs": [
    {
     "data": {
      "image/png": "[encoded data removed]",
      "text/plain": [
       "<Figure size 576x396 with 2 Axes>"
      ]
     },
     "metadata": {},
     "output_type": "display_data"
    }
   ],
   "source": [
    "sns.heatmap(corr, xticklabels=corr.columns.values, yticklabels=corr.columns.values)\n",
    "plt.show()"
   ]
  },
  {
   "cell_type": "markdown",
   "metadata": {},
   "source": [
    "- The features that correlate with ``loan_repaid`` most are ``savings``, ``yearly_salary``, ``credit_limit``, and ``is_employed``.\n",
    "- ``age`` and ``is_first_loan`` do not correlate with other features.\n",
    "- ``yearly_salary`` and ``is_employed`` highly correlate with each other. Keeping ``yearly_salary`` is probably enough."
   ]
  },
  {
   "cell_type": "markdown",
   "metadata": {},
   "source": [
    "## Data Transformation and Train/Test Split"
   ]
  },
  {
   "cell_type": "markdown",
   "metadata": {},
   "source": [
    "First, we have to transform the categories in categorical features to numerical values. I will generate two new data frames. One will be based on one-hot encoding and another will be based on label encoding. The label-encoded version will be fed to a Random Forest since one-hot encoding is not needed for tree-based models."
   ]
  },
  {
   "cell_type": "code",
   "execution_count": 38,
   "metadata": {
    "collapsed": true
   },
   "outputs": [],
   "source": [
    "# Perform one-hot encoding\n",
    "df_onehot = pd.get_dummies(df, columns=['loan_purpose','previous_repaid','repaying'])\n",
    "\n",
    "# Drop one dummy variable for each of the three features to avoid dummy variable trap\n",
    "df_onehot = df_onehot.drop(['loan_purpose_other','previous_repaid_NA','repaying_NA'], axis=1)"
   ]
  },
  {
   "cell_type": "markdown",
   "metadata": {},
   "source": [
    "We will drop ``is_first_loan`` and ``age`` here since they are irrelevant. Besides, the information of ``is_first_loan`` is in ``previous_repaid`` and ``repaying`` already. We can also drop ``is_employed`` because its information is already included in ``yearly_salary`` (as we saw in the Heatmap). In fact, I had tried using the model with ``is_employed`` and without it, and the two performances are the same."
   ]
  },
  {
   "cell_type": "code",
   "execution_count": 39,
   "metadata": {
    "collapsed": true
   },
   "outputs": [],
   "source": [
    "df_onehot = df_onehot.drop(['is_first_loan', 'age', 'is_employed'],axis=1)"
   ]
  },
  {
   "cell_type": "markdown",
   "metadata": {},
   "source": [
    "Now I will generate the label-encoded version and also drop `is_first_loan`, `age`, and `is_employed`."
   ]
  },
  {
   "cell_type": "code",
   "execution_count": 40,
   "metadata": {
    "collapsed": true
   },
   "outputs": [],
   "source": [
    "le = LabelEncoder()\n",
    "df_label = df.copy()\n",
    "\n",
    "for x in df_label.columns:    \n",
    "    if df_label[x].dtype.name == 'object':\n",
    "        df_label.loc[:, x] = le.fit_transform(df_label.loc[:, x])\n",
    "\n",
    "df_label = df_label.drop(['is_first_loan', 'age', 'is_employed'],axis=1)"
   ]
  },
  {
   "cell_type": "markdown",
   "metadata": {},
   "source": [
    "Now we have to split the data into three. First, the customers who were not granted loans have to be taken out because we don't know whetehr they would have repaid. Thus, they cannot be used for modeling. Secondly, I will split the remaining data into a training set and a test set, using a 70/30 split. "
   ]
  },
  {
   "cell_type": "code",
   "execution_count": 41,
   "metadata": {
    "collapsed": true
   },
   "outputs": [],
   "source": [
    "# Those people that were not granted loans\n",
    "X_declined_onehot = df_onehot[df.loan_granted == 0].reset_index(drop=True).drop(['loan_granted','loan_repaid'],axis=1)\n",
    "X_declined_label = df_label[df.loan_granted == 0].reset_index(drop=True).drop(['loan_granted','loan_repaid'],axis=1)\n",
    "\n",
    "# Those that were granted loans\n",
    "X_onehot = df_onehot[df.loan_granted == 1].reset_index(drop=True).drop(['loan_granted','loan_repaid'],axis=1)\n",
    "X_label = df_label[df.loan_granted == 1].reset_index(drop=True).drop(['loan_granted','loan_repaid'],axis=1)\n",
    "\n",
    "# target variable\n",
    "Y = df[df.loan_granted == 1].reset_index(drop=True)['loan_repaid'].values\n",
    "\n",
    "# Train/Test split\n",
    "X_train_onehot, X_test_onehot, Y_train, Y_test =  train_test_split(X_onehot, Y, test_size=0.3, random_state=0)\n",
    "X_train_label, X_test_label, _, _ =  train_test_split(X_label, Y, test_size=0.3, random_state=0)"
   ]
  },
  {
   "cell_type": "markdown",
   "metadata": {},
   "source": [
    "The one-hot encoded data frame will be fed to a logistic regression, which is a distance-based model. Thus, we should scale the features using ``StandardScaler`` since it can improve the modeling. The standardizer is fit to the training set only, and then used to transform both the training and test sets as well as the data for the customers that were not granted loans."
   ]
  },
  {
   "cell_type": "code",
   "execution_count": 42,
   "metadata": {
    "collapsed": true
   },
   "outputs": [],
   "source": [
    "scaler = StandardScaler()\n",
    "\n",
    "# After the performing the standardization, transform them back to data frames\n",
    "# in order to keep the column names\n",
    "X_train_onehot = pd.DataFrame(scaler.fit_transform(X_train_onehot), columns=X_onehot.columns)\n",
    "X_test_onehot = pd.DataFrame(scaler.transform(X_test_onehot), columns=X_onehot.columns)\n",
    "X_declined_onehot = pd.DataFrame(scaler.transform(X_declined_onehot), columns=X_onehot.columns)"
   ]
  },
  {
   "cell_type": "markdown",
   "metadata": {},
   "source": [
    "## Logistic regression\n",
    "\n",
    "Here I try Logistic regression and use ``GridSearchCV`` to tune the hyperparameters. The good thing about Logistic regression is that it is easy to interpret and also faster than more complicated models. Later I will also try Random Forest classifier and see whether or not the performance improves significantly. Here we use Area Under the Receiver Operating Characteristic Curve (ROC AUC) as the evaluation metric for grid search, in order to consider both true positive rates and false positive rates.\n",
    "<br>\n",
    "\n",
    "In the following I write two functions. The first one will be used to summarize the performance of a trained model, and the second one will be used to plot the ROC curve for the testing data."
   ]
  },
  {
   "cell_type": "code",
   "execution_count": 43,
   "metadata": {
    "collapsed": true
   },
   "outputs": [],
   "source": [
    "def evaluation(model, X_train, X_test):\n",
    "    \n",
    "    Y_pred = model.predict(X_test)\n",
    "    Y_train_pred = model.predict(X_train)\n",
    "    Y_prob = model.predict_proba(X_test)[:,1]\n",
    "    Y_train_prob = model.predict_proba(X_train)[:,1]\n",
    "\n",
    "    print \"--- ROC AUC ---\"\n",
    "    print \"Training Set:\", roc_auc_score(Y_train, Y_train_prob)\n",
    "    print \"Test Set:\", roc_auc_score(Y_test, Y_prob)\n",
    "    \n",
    "    print \"\\n--- Accuracy ---\"\n",
    "    print \"Training Set:\", model.score(X_train, Y_train)\n",
    "    print \"Test Set:\", model.score(X_test, Y_test)\n",
    "\n",
    "    tn, fp, fn, tp = confusion_matrix(Y_test, Y_pred).ravel()\n",
    "    print \"\\n--- Confusion Matrix ---\"\n",
    "    print \"True Positive:\", tp\n",
    "    print \"False Negative:\", fn\n",
    "    print \"True Negative:\", tn\n",
    "    print \"False Positive:\", fp\n",
    "\n",
    "    print \"\\n--- Precision ---\"\n",
    "    print \"Training Set:\", precision_score(Y_train, Y_train_pred)\n",
    "    print \"Test Set:\", precision_score(Y_test, Y_pred)\n",
    "\n",
    "    print \"\\n--- Recall ---\"\n",
    "    print \"Training Set:\", recall_score(Y_train, Y_train_pred)\n",
    "    print \"Test Set:\", recall_score(Y_test, Y_pred)\n",
    "\n",
    "    print \"\\n--- F1 Score ---\"\n",
    "    print \"Training Set:\", f1_score(Y_train, Y_train_pred)\n",
    "    print \"Test Set:\", f1_score(Y_test, Y_pred)\n",
    "    \n",
    "    \n",
    "def plot_ROC(model, X_test):\n",
    "    \n",
    "    Y_prob = model.predict_proba(X_test)[:,1]\n",
    "    fpr, tpr, thresh = roc_curve(Y_test, Y_prob, pos_label=1)\n",
    "    roc_auc = roc_auc_score(Y_test, Y_prob)\n",
    "    fig = plt.figure()\n",
    "    plt.plot(fpr, tpr, color='r', lw=2)\n",
    "    plt.plot([0, 1], [0, 1], color='b', lw=2, linestyle='--')\n",
    "    plt.xlim([-0.05, 1.05])\n",
    "    plt.ylim([-0.05, 1.05])\n",
    "    plt.xlabel('False Positive Rate')\n",
    "    plt.ylabel('True Positive Rate')\n",
    "    plt.title('ROC Curve (Area = {:.2f})'.format(roc_auc))\n",
    "    plt.legend(loc=\"lower right\")\n",
    "    plt.show()"
   ]
  },
  {
   "cell_type": "code",
   "execution_count": 44,
   "metadata": {},
   "outputs": [
    {
     "name": "stdout",
     "output_type": "stream",
     "text": [
      "0.9626906806955001\n",
      "{'C': 0.03162277660168379}\n"
     ]
    }
   ],
   "source": [
    "lr = LogisticRegression()\n",
    "\n",
    "# specify parameters and distributions to sample from\n",
    "C_grid = 0.001*10**(np.arange(0, 1.01, 0.01)*3)\n",
    "parameters = {\"C\": C_grid}\n",
    "\n",
    "grid_search = GridSearchCV(estimator = lr,\n",
    "                           param_grid = parameters,\n",
    "                           scoring ='roc_auc', \n",
    "                           n_jobs = -1)\n",
    "\n",
    "grid_search = grid_search.fit(X_train_onehot, Y_train)\n",
    "\n",
    "print grid_search.best_score_\n",
    "print grid_search.best_params_\n",
    "lr = grid_search.best_estimator_"
   ]
  },
  {
   "cell_type": "code",
   "execution_count": 45,
   "metadata": {},
   "outputs": [
    {
     "name": "stdout",
     "output_type": "stream",
     "text": [
      "--- ROC AUC ---\n",
      "Training Set: 0.9628146469556519\n",
      "Test Set: 0.9635486616069673\n",
      "\n",
      "--- Accuracy ---\n",
      "Training Set: 0.8987019216356387\n",
      "Test Set: 0.8984402322165489\n",
      "\n",
      "--- Confusion Matrix ---\n",
      "True Positive: 8515\n",
      "False Negative: 771\n",
      "True Negative: 4330\n",
      "False Positive: 681\n",
      "\n",
      "--- Precision ---\n",
      "Training Set: 0.9252746216585733\n",
      "Test Set: 0.9259460635058722\n",
      "\n",
      "--- Recall ---\n",
      "Training Set: 0.9162464985994397\n",
      "Test Set: 0.9169717854835235\n",
      "\n",
      "--- F1 Score ---\n",
      "Training Set: 0.9207384297811451\n",
      "Test Set: 0.9214370739097502\n"
     ]
    }
   ],
   "source": [
    "evaluation(lr, X_train_onehot, X_test_onehot)"
   ]
  },
  {
   "cell_type": "code",
   "execution_count": 46,
   "metadata": {},
   "outputs": [
    {
     "data": {
      "image/png": "[encoded data removed]",
      "text/plain": [
       "<Figure size 576x396 with 1 Axes>"
      ]
     },
     "metadata": {},
     "output_type": "display_data"
    }
   ],
   "source": [
    "plot_ROC(lr, X_test_onehot)"
   ]
  },
  {
   "cell_type": "markdown",
   "metadata": {},
   "source": [
    "In order to compare the profitability of my model and the profitability the bank actually made (for the test set), I assume:\n",
    "- If the loan is granted and the it doesn't get repaid, we lose 1\n",
    "- If the loan is granted and the it does get repaid, we gain 1\n",
    "- We gain 0 if the loan is not granted"
   ]
  },
  {
   "cell_type": "code",
   "execution_count": 47,
   "metadata": {},
   "outputs": [
    {
     "name": "stdout",
     "output_type": "stream",
     "text": [
      "The bank scores 4275 points\n",
      "The Logistic regression model scores 7834 points\n"
     ]
    }
   ],
   "source": [
    "# bank\n",
    "score_bank = sum(Y_test == 1) - sum(Y_test == 0)\n",
    "\n",
    "# my Logistic regression model\n",
    "tn, fp, fn, tp = confusion_matrix(Y_test, lr.predict(X_test_onehot)).ravel()\n",
    "score_lr = tp - fp\n",
    "\n",
    "print \"The bank scores {} points\".format(score_bank)\n",
    "print \"The Logistic regression model scores {} points\".format(score_lr)"
   ]
  },
  {
   "cell_type": "markdown",
   "metadata": {},
   "source": [
    "We can see that it is a great improvement. But of course, this is not a fair comparison because I am using existing data of borrowers to train my model while the bank didn't have these data (or had much less data) to begin with."
   ]
  },
  {
   "cell_type": "markdown",
   "metadata": {},
   "source": [
    "How about the people who were not granted loans? We can use my model to predict what would happen."
   ]
  },
  {
   "cell_type": "code",
   "execution_count": 48,
   "metadata": {},
   "outputs": [
    {
     "name": "stdout",
     "output_type": "stream",
     "text": [
      "0.3481457920143696\n"
     ]
    }
   ],
   "source": [
    "# Calculate the fraction of people who would have been granted \n",
    "# loans based on my model among those customers who were not \n",
    "# granted loans\n",
    "\n",
    "Y_declined_pred = lr.predict(X_declined_onehot)\n",
    "print Y_declined_pred.sum()/len(Y_declined_pred)"
   ]
  },
  {
   "cell_type": "markdown",
   "metadata": {},
   "source": [
    "Based on the model, about 35% of the people who didn't get loans would actually repay and should be granted. If we assume the ratio of true positive over false positive that I got for the test set, we can estimate the profitability we would get if we grant loans to those 35%."
   ]
  },
  {
   "cell_type": "code",
   "execution_count": 49,
   "metadata": {},
   "outputs": [
    {
     "name": "stdout",
     "output_type": "stream",
     "text": [
      "Predicted true positive:  17229\n",
      "Predicted false positive:  1378\n",
      "The estimated profitability: 15851 points\n"
     ]
    }
   ],
   "source": [
    "tp_pred = int(round(Y_declined_pred.sum()*tp*1./(tp + fp)))\n",
    "fp_pred = int(round(Y_declined_pred.sum()*fp*1./(tp + fp)))\n",
    "print \"Predicted true positive: \", tp_pred\n",
    "print \"Predicted false positive: \", fp_pred\n",
    "print \"The estimated profitability: {} points\".format(tp_pred - fp_pred)"
   ]
  },
  {
   "cell_type": "markdown",
   "metadata": {},
   "source": [
    "**Notice that these estimatations are all based on a default threshold of 0.5 of the classifier. If we tune the threshold, the values of true positives/negatives and false positives/negatives would change.**"
   ]
  },
  {
   "cell_type": "markdown",
   "metadata": {},
   "source": [
    "Now let's try to interpret what the model learns. Specifically, we want to know the relative importnace of each feature, which can be quantified by the coefficients (weights) of the logistic regression model."
   ]
  },
  {
   "cell_type": "code",
   "execution_count": 50,
   "metadata": {},
   "outputs": [
    {
     "data": {
      "text/html": [
       "<div>\n",
       "<style scoped>\n",
       "    .dataframe tbody tr th:only-of-type {\n",
       "        vertical-align: middle;\n",
       "    }\n",
       "\n",
       "    .dataframe tbody tr th {\n",
       "        vertical-align: top;\n",
       "    }\n",
       "\n",
       "    .dataframe thead th {\n",
       "        text-align: right;\n",
       "    }\n",
       "</style>\n",
       "<table border=\"1\" class=\"dataframe\">\n",
       "  <thead>\n",
       "    <tr style=\"text-align: right;\">\n",
       "      <th></th>\n",
       "      <th>weight</th>\n",
       "    </tr>\n",
       "  </thead>\n",
       "  <tbody>\n",
       "    <tr>\n",
       "      <th>savings</th>\n",
       "      <td>2.794</td>\n",
       "    </tr>\n",
       "    <tr>\n",
       "      <th>yearly_salary</th>\n",
       "      <td>1.100</td>\n",
       "    </tr>\n",
       "    <tr>\n",
       "      <th>credit_limit</th>\n",
       "      <td>1.032</td>\n",
       "    </tr>\n",
       "    <tr>\n",
       "      <th>repaying_Yes</th>\n",
       "      <td>-0.502</td>\n",
       "    </tr>\n",
       "    <tr>\n",
       "      <th>limit_used</th>\n",
       "      <td>-0.416</td>\n",
       "    </tr>\n",
       "    <tr>\n",
       "      <th>repaying_No</th>\n",
       "      <td>0.348</td>\n",
       "    </tr>\n",
       "    <tr>\n",
       "      <th>loan_purpose_business</th>\n",
       "      <td>0.295</td>\n",
       "    </tr>\n",
       "    <tr>\n",
       "      <th>loan_purpose_investment</th>\n",
       "      <td>0.248</td>\n",
       "    </tr>\n",
       "    <tr>\n",
       "      <th>dependent_number</th>\n",
       "      <td>-0.231</td>\n",
       "    </tr>\n",
       "    <tr>\n",
       "      <th>loan_purpose_home</th>\n",
       "      <td>0.187</td>\n",
       "    </tr>\n",
       "    <tr>\n",
       "      <th>loan_purpose_emergency_funds</th>\n",
       "      <td>-0.101</td>\n",
       "    </tr>\n",
       "    <tr>\n",
       "      <th>previous_repaid_No</th>\n",
       "      <td>-0.053</td>\n",
       "    </tr>\n",
       "    <tr>\n",
       "      <th>previous_repaid_Yes</th>\n",
       "      <td>0.003</td>\n",
       "    </tr>\n",
       "  </tbody>\n",
       "</table>\n",
       "</div>"
      ],
      "text/plain": [
       "                              weight\n",
       "savings                        2.794\n",
       "yearly_salary                  1.100\n",
       "credit_limit                   1.032\n",
       "repaying_Yes                  -0.502\n",
       "limit_used                    -0.416\n",
       "repaying_No                    0.348\n",
       "loan_purpose_business          0.295\n",
       "loan_purpose_investment        0.248\n",
       "dependent_number              -0.231\n",
       "loan_purpose_home              0.187\n",
       "loan_purpose_emergency_funds  -0.101\n",
       "previous_repaid_No            -0.053\n",
       "previous_repaid_Yes            0.003"
      ]
     },
     "execution_count": 50,
     "metadata": {},
     "output_type": "execute_result"
    }
   ],
   "source": [
    "# Sort the weights and their corresponding features by their absolute values\n",
    "temp = sorted(zip(np.round(lr.coef_.reshape(-1),3), X_onehot.columns.values), key=lambda x: -abs(x[0]))\n",
    "weight = [x for x, _ in temp]\n",
    "feature = [x for _, x in temp]\n",
    "\n",
    "pd.DataFrame({'weight': weight}, index = feature)"
   ]
  },
  {
   "cell_type": "markdown",
   "metadata": {},
   "source": [
    "This shows that the most important features are ``savings``, ``yearly_salary``, ``credit_limit`` ...etc."
   ]
  },
  {
   "cell_type": "markdown",
   "metadata": {},
   "source": [
    "One very important thing for a loan granting problem is to interpret individual results. Especially, for the customers we reject, we should provide the reasons why they are not granted loans. We can check the contributions from each features and find out the dominant ones that make the prediction to be 0 (won't repay). Here I use the first three instances of the test set as the examples."
   ]
  },
  {
   "cell_type": "code",
   "execution_count": 51,
   "metadata": {},
   "outputs": [
    {
     "data": {
      "text/plain": [
       "array([0., 1., 0.])"
      ]
     },
     "execution_count": 51,
     "metadata": {},
     "output_type": "execute_result"
    }
   ],
   "source": [
    "# the predictions for these three instances are 0, 1, 0\n",
    "lr.predict(X_test_onehot)[:3]"
   ]
  },
  {
   "cell_type": "markdown",
   "metadata": {},
   "source": [
    "To check the contributions from each features, we can multiply the feature values by the corresponding weights of decision function."
   ]
  },
  {
   "cell_type": "code",
   "execution_count": 52,
   "metadata": {
    "collapsed": true
   },
   "outputs": [],
   "source": [
    "# For a particular customer, sort the multiplication of the weights and the \n",
    "# corresponding feature values by the absolute values\n",
    "def Sort_Contributions(index):\n",
    "       \n",
    "    instance = np.round(X_test_onehot.loc[index,:]*lr.coef_.reshape(-1),3)    \n",
    "    temp = sorted(zip(instance.values, instance.index), key=lambda x: -abs(x[0]))\n",
    "    contribution = [x for x, _ in temp]\n",
    "    feature = [x for _, x in temp]\n",
    "    \n",
    "    return pd.DataFrame({'contribution': contribution},index = feature)"
   ]
  },
  {
   "cell_type": "code",
   "execution_count": 53,
   "metadata": {},
   "outputs": [
    {
     "data": {
      "text/plain": [
       "credit_limit                   -1.024036\n",
       "limit_used                      1.817212\n",
       "yearly_salary                  -1.795773\n",
       "dependent_number               -0.290484\n",
       "savings                        -0.715252\n",
       "loan_purpose_business           1.857890\n",
       "loan_purpose_emergency_funds   -0.440803\n",
       "loan_purpose_home              -0.567830\n",
       "loan_purpose_investment        -0.534955\n",
       "previous_repaid_No             -0.215091\n",
       "previous_repaid_Yes            -0.840952\n",
       "repaying_No                    -0.689246\n",
       "repaying_Yes                   -0.397426\n",
       "Name: 0, dtype: float64"
      ]
     },
     "execution_count": 53,
     "metadata": {},
     "output_type": "execute_result"
    }
   ],
   "source": [
    "# instance 0: feature values\n",
    "# negative/positive values mean below/above average\n",
    "X_test_onehot.loc[0,:]"
   ]
  },
  {
   "cell_type": "code",
   "execution_count": 54,
   "metadata": {},
   "outputs": [
    {
     "data": {
      "text/html": [
       "<div>\n",
       "<style scoped>\n",
       "    .dataframe tbody tr th:only-of-type {\n",
       "        vertical-align: middle;\n",
       "    }\n",
       "\n",
       "    .dataframe tbody tr th {\n",
       "        vertical-align: top;\n",
       "    }\n",
       "\n",
       "    .dataframe thead th {\n",
       "        text-align: right;\n",
       "    }\n",
       "</style>\n",
       "<table border=\"1\" class=\"dataframe\">\n",
       "  <thead>\n",
       "    <tr style=\"text-align: right;\">\n",
       "      <th></th>\n",
       "      <th>contribution</th>\n",
       "    </tr>\n",
       "  </thead>\n",
       "  <tbody>\n",
       "    <tr>\n",
       "      <th>savings</th>\n",
       "      <td>-1.999</td>\n",
       "    </tr>\n",
       "    <tr>\n",
       "      <th>yearly_salary</th>\n",
       "      <td>-1.976</td>\n",
       "    </tr>\n",
       "    <tr>\n",
       "      <th>credit_limit</th>\n",
       "      <td>-1.057</td>\n",
       "    </tr>\n",
       "    <tr>\n",
       "      <th>limit_used</th>\n",
       "      <td>-0.756</td>\n",
       "    </tr>\n",
       "    <tr>\n",
       "      <th>loan_purpose_business</th>\n",
       "      <td>0.549</td>\n",
       "    </tr>\n",
       "    <tr>\n",
       "      <th>repaying_No</th>\n",
       "      <td>-0.240</td>\n",
       "    </tr>\n",
       "    <tr>\n",
       "      <th>repaying_Yes</th>\n",
       "      <td>0.200</td>\n",
       "    </tr>\n",
       "    <tr>\n",
       "      <th>loan_purpose_investment</th>\n",
       "      <td>-0.133</td>\n",
       "    </tr>\n",
       "    <tr>\n",
       "      <th>loan_purpose_home</th>\n",
       "      <td>-0.106</td>\n",
       "    </tr>\n",
       "    <tr>\n",
       "      <th>dependent_number</th>\n",
       "      <td>0.067</td>\n",
       "    </tr>\n",
       "    <tr>\n",
       "      <th>loan_purpose_emergency_funds</th>\n",
       "      <td>0.044</td>\n",
       "    </tr>\n",
       "    <tr>\n",
       "      <th>previous_repaid_No</th>\n",
       "      <td>0.011</td>\n",
       "    </tr>\n",
       "    <tr>\n",
       "      <th>previous_repaid_Yes</th>\n",
       "      <td>-0.002</td>\n",
       "    </tr>\n",
       "  </tbody>\n",
       "</table>\n",
       "</div>"
      ],
      "text/plain": [
       "                              contribution\n",
       "savings                             -1.999\n",
       "yearly_salary                       -1.976\n",
       "credit_limit                        -1.057\n",
       "limit_used                          -0.756\n",
       "loan_purpose_business                0.549\n",
       "repaying_No                         -0.240\n",
       "repaying_Yes                         0.200\n",
       "loan_purpose_investment             -0.133\n",
       "loan_purpose_home                   -0.106\n",
       "dependent_number                     0.067\n",
       "loan_purpose_emergency_funds         0.044\n",
       "previous_repaid_No                   0.011\n",
       "previous_repaid_Yes                 -0.002"
      ]
     },
     "execution_count": 54,
     "metadata": {},
     "output_type": "execute_result"
    }
   ],
   "source": [
    "# instance 0: feature values times the weights\n",
    "Sort_Contributions(0)"
   ]
  },
  {
   "cell_type": "markdown",
   "metadata": {},
   "source": [
    "We see that low ``savings``, low ``yearly_salary``, low ``credit_limit`` and high ``limit_used`` are the most dominant factors that result in the rejection. In the following, I calculate the predicted probability that this customer will repay (instead of 0 or 1)"
   ]
  },
  {
   "cell_type": "code",
   "execution_count": 55,
   "metadata": {},
   "outputs": [
    {
     "name": "stdout",
     "output_type": "stream",
     "text": [
      "Prediction (probability):  0.031\n"
     ]
    }
   ],
   "source": [
    "print \"Prediction (probability): \", round(lr.predict_proba(X_test_onehot)[0, 1], 3)"
   ]
  },
  {
   "cell_type": "markdown",
   "metadata": {},
   "source": [
    "Let's do the same exercise for the second instance"
   ]
  },
  {
   "cell_type": "code",
   "execution_count": 56,
   "metadata": {},
   "outputs": [
    {
     "data": {
      "text/plain": [
       "credit_limit                   -0.516832\n",
       "limit_used                     -1.377685\n",
       "yearly_salary                   0.810202\n",
       "dependent_number               -0.672976\n",
       "savings                         0.339149\n",
       "loan_purpose_business           1.857890\n",
       "loan_purpose_emergency_funds   -0.440803\n",
       "loan_purpose_home              -0.567830\n",
       "loan_purpose_investment        -0.534955\n",
       "previous_repaid_No             -0.215091\n",
       "previous_repaid_Yes             1.189128\n",
       "repaying_No                    -0.689246\n",
       "repaying_Yes                    2.516189\n",
       "Name: 1, dtype: float64"
      ]
     },
     "execution_count": 56,
     "metadata": {},
     "output_type": "execute_result"
    }
   ],
   "source": [
    "# instance 1: feature values\n",
    "# negative/positive values mean below/above average\n",
    "X_test_onehot.loc[1,:]"
   ]
  },
  {
   "cell_type": "code",
   "execution_count": 57,
   "metadata": {},
   "outputs": [
    {
     "data": {
      "text/html": [
       "<div>\n",
       "<style scoped>\n",
       "    .dataframe tbody tr th:only-of-type {\n",
       "        vertical-align: middle;\n",
       "    }\n",
       "\n",
       "    .dataframe tbody tr th {\n",
       "        vertical-align: top;\n",
       "    }\n",
       "\n",
       "    .dataframe thead th {\n",
       "        text-align: right;\n",
       "    }\n",
       "</style>\n",
       "<table border=\"1\" class=\"dataframe\">\n",
       "  <thead>\n",
       "    <tr style=\"text-align: right;\">\n",
       "      <th></th>\n",
       "      <th>contribution</th>\n",
       "    </tr>\n",
       "  </thead>\n",
       "  <tbody>\n",
       "    <tr>\n",
       "      <th>repaying_Yes</th>\n",
       "      <td>-1.264</td>\n",
       "    </tr>\n",
       "    <tr>\n",
       "      <th>savings</th>\n",
       "      <td>0.948</td>\n",
       "    </tr>\n",
       "    <tr>\n",
       "      <th>yearly_salary</th>\n",
       "      <td>0.892</td>\n",
       "    </tr>\n",
       "    <tr>\n",
       "      <th>limit_used</th>\n",
       "      <td>0.573</td>\n",
       "    </tr>\n",
       "    <tr>\n",
       "      <th>loan_purpose_business</th>\n",
       "      <td>0.549</td>\n",
       "    </tr>\n",
       "    <tr>\n",
       "      <th>credit_limit</th>\n",
       "      <td>-0.533</td>\n",
       "    </tr>\n",
       "    <tr>\n",
       "      <th>repaying_No</th>\n",
       "      <td>-0.240</td>\n",
       "    </tr>\n",
       "    <tr>\n",
       "      <th>dependent_number</th>\n",
       "      <td>0.156</td>\n",
       "    </tr>\n",
       "    <tr>\n",
       "      <th>loan_purpose_investment</th>\n",
       "      <td>-0.133</td>\n",
       "    </tr>\n",
       "    <tr>\n",
       "      <th>loan_purpose_home</th>\n",
       "      <td>-0.106</td>\n",
       "    </tr>\n",
       "    <tr>\n",
       "      <th>loan_purpose_emergency_funds</th>\n",
       "      <td>0.044</td>\n",
       "    </tr>\n",
       "    <tr>\n",
       "      <th>previous_repaid_No</th>\n",
       "      <td>0.011</td>\n",
       "    </tr>\n",
       "    <tr>\n",
       "      <th>previous_repaid_Yes</th>\n",
       "      <td>0.003</td>\n",
       "    </tr>\n",
       "  </tbody>\n",
       "</table>\n",
       "</div>"
      ],
      "text/plain": [
       "                              contribution\n",
       "repaying_Yes                        -1.264\n",
       "savings                              0.948\n",
       "yearly_salary                        0.892\n",
       "limit_used                           0.573\n",
       "loan_purpose_business                0.549\n",
       "credit_limit                        -0.533\n",
       "repaying_No                         -0.240\n",
       "dependent_number                     0.156\n",
       "loan_purpose_investment             -0.133\n",
       "loan_purpose_home                   -0.106\n",
       "loan_purpose_emergency_funds         0.044\n",
       "previous_repaid_No                   0.011\n",
       "previous_repaid_Yes                  0.003"
      ]
     },
     "execution_count": 57,
     "metadata": {},
     "output_type": "execute_result"
    }
   ],
   "source": [
    "# instance 1: feature values times the weights\n",
    "Sort_Contributions(1)"
   ]
  },
  {
   "cell_type": "markdown",
   "metadata": {},
   "source": [
    "We see that high ``savings`` and ``yearly_salary``, and low ``limit_used`` are the most dominant factors that result in the approval. We again calculate the predicted probability that this customer will repay below."
   ]
  },
  {
   "cell_type": "code",
   "execution_count": 58,
   "metadata": {},
   "outputs": [
    {
     "name": "stdout",
     "output_type": "stream",
     "text": [
      "Prediction (probability):  0.945\n"
     ]
    }
   ],
   "source": [
    "print \"Prediction (probability): \", round(lr.predict_proba(X_test_onehot)[1, 1], 3)"
   ]
  },
  {
   "cell_type": "markdown",
   "metadata": {},
   "source": [
    "Let's do the same exercise for the third instance"
   ]
  },
  {
   "cell_type": "code",
   "execution_count": 59,
   "metadata": {},
   "outputs": [
    {
     "data": {
      "text/plain": [
       "credit_limit                   -0.263230\n",
       "limit_used                      1.867132\n",
       "yearly_salary                  -1.795773\n",
       "dependent_number               -1.055468\n",
       "savings                        -0.709365\n",
       "loan_purpose_business          -0.538245\n",
       "loan_purpose_emergency_funds    2.268588\n",
       "loan_purpose_home              -0.567830\n",
       "loan_purpose_investment        -0.534955\n",
       "previous_repaid_No             -0.215091\n",
       "previous_repaid_Yes            -0.840952\n",
       "repaying_No                    -0.689246\n",
       "repaying_Yes                   -0.397426\n",
       "Name: 2, dtype: float64"
      ]
     },
     "execution_count": 59,
     "metadata": {},
     "output_type": "execute_result"
    }
   ],
   "source": [
    "# instance 2: feature values\n",
    "# negative/positive values mean below/above average\n",
    "X_test_onehot.loc[2,:]"
   ]
  },
  {
   "cell_type": "code",
   "execution_count": 60,
   "metadata": {},
   "outputs": [
    {
     "data": {
      "text/html": [
       "<div>\n",
       "<style scoped>\n",
       "    .dataframe tbody tr th:only-of-type {\n",
       "        vertical-align: middle;\n",
       "    }\n",
       "\n",
       "    .dataframe tbody tr th {\n",
       "        vertical-align: top;\n",
       "    }\n",
       "\n",
       "    .dataframe thead th {\n",
       "        text-align: right;\n",
       "    }\n",
       "</style>\n",
       "<table border=\"1\" class=\"dataframe\">\n",
       "  <thead>\n",
       "    <tr style=\"text-align: right;\">\n",
       "      <th></th>\n",
       "      <th>contribution</th>\n",
       "    </tr>\n",
       "  </thead>\n",
       "  <tbody>\n",
       "    <tr>\n",
       "      <th>savings</th>\n",
       "      <td>-1.982</td>\n",
       "    </tr>\n",
       "    <tr>\n",
       "      <th>yearly_salary</th>\n",
       "      <td>-1.976</td>\n",
       "    </tr>\n",
       "    <tr>\n",
       "      <th>limit_used</th>\n",
       "      <td>-0.777</td>\n",
       "    </tr>\n",
       "    <tr>\n",
       "      <th>credit_limit</th>\n",
       "      <td>-0.272</td>\n",
       "    </tr>\n",
       "    <tr>\n",
       "      <th>dependent_number</th>\n",
       "      <td>0.244</td>\n",
       "    </tr>\n",
       "    <tr>\n",
       "      <th>repaying_No</th>\n",
       "      <td>-0.240</td>\n",
       "    </tr>\n",
       "    <tr>\n",
       "      <th>loan_purpose_emergency_funds</th>\n",
       "      <td>-0.229</td>\n",
       "    </tr>\n",
       "    <tr>\n",
       "      <th>repaying_Yes</th>\n",
       "      <td>0.200</td>\n",
       "    </tr>\n",
       "    <tr>\n",
       "      <th>loan_purpose_business</th>\n",
       "      <td>-0.159</td>\n",
       "    </tr>\n",
       "    <tr>\n",
       "      <th>loan_purpose_investment</th>\n",
       "      <td>-0.133</td>\n",
       "    </tr>\n",
       "    <tr>\n",
       "      <th>loan_purpose_home</th>\n",
       "      <td>-0.106</td>\n",
       "    </tr>\n",
       "    <tr>\n",
       "      <th>previous_repaid_No</th>\n",
       "      <td>0.011</td>\n",
       "    </tr>\n",
       "    <tr>\n",
       "      <th>previous_repaid_Yes</th>\n",
       "      <td>-0.002</td>\n",
       "    </tr>\n",
       "  </tbody>\n",
       "</table>\n",
       "</div>"
      ],
      "text/plain": [
       "                              contribution\n",
       "savings                             -1.982\n",
       "yearly_salary                       -1.976\n",
       "limit_used                          -0.777\n",
       "credit_limit                        -0.272\n",
       "dependent_number                     0.244\n",
       "repaying_No                         -0.240\n",
       "loan_purpose_emergency_funds        -0.229\n",
       "repaying_Yes                         0.200\n",
       "loan_purpose_business               -0.159\n",
       "loan_purpose_investment             -0.133\n",
       "loan_purpose_home                   -0.106\n",
       "previous_repaid_No                   0.011\n",
       "previous_repaid_Yes                 -0.002"
      ]
     },
     "execution_count": 60,
     "metadata": {},
     "output_type": "execute_result"
    }
   ],
   "source": [
    "# instance 2: feature values times the weights\n",
    "Sort_Contributions(2)"
   ]
  },
  {
   "cell_type": "markdown",
   "metadata": {},
   "source": [
    "We again see that low ``savings``, low ``yearly_salary``, high ``limit_used``  are the most dominant factors that result in the rejection."
   ]
  },
  {
   "cell_type": "code",
   "execution_count": 61,
   "metadata": {},
   "outputs": [
    {
     "name": "stdout",
     "output_type": "stream",
     "text": [
      "Prediction (probability):  0.03\n"
     ]
    }
   ],
   "source": [
    "print \"Prediction (probability): \", round(lr.predict_proba(X_test_onehot)[2, 1], 3)"
   ]
  },
  {
   "cell_type": "markdown",
   "metadata": {},
   "source": [
    "## Random Forest Classifier\n",
    "\n",
    "Now I will try Random Forest classifier, a non-linear model. Let's see if it performs better than the Logistic regression (which in this case simply makes a linear decision boundary to separate the positive and negative examples)."
   ]
  },
  {
   "cell_type": "code",
   "execution_count": 62,
   "metadata": {},
   "outputs": [
    {
     "name": "stdout",
     "output_type": "stream",
     "text": [
      "0.9654882343320171\n",
      "{'max_features': 2, 'min_samples_split': 2, 'max_depth': 10}\n"
     ]
    }
   ],
   "source": [
    "rf = RandomForestClassifier(n_estimators=50, random_state=0)\n",
    "\n",
    "# Specify parameters and distributions to sample from\n",
    "parameters = {\n",
    "    \"max_features\": [2,3,4,5],\n",
    "    \"min_samples_split\": [2,3,4,5],\n",
    "    \"max_depth\": range(8, 13)\n",
    "}\n",
    "\n",
    "# Run Grid Search\n",
    "grid_search = GridSearchCV(estimator = rf,\n",
    "                           param_grid = parameters,\n",
    "                           scoring ='roc_auc',\n",
    "                           n_jobs = -1)\n",
    "\n",
    "grid_search = grid_search.fit(X_train_label, Y_train)\n",
    "\n",
    "print grid_search.best_score_\n",
    "print grid_search.best_params_\n",
    "rf = grid_search.best_estimator_"
   ]
  },
  {
   "cell_type": "code",
   "execution_count": 63,
   "metadata": {},
   "outputs": [
    {
     "name": "stdout",
     "output_type": "stream",
     "text": [
      "--- ROC AUC ---\n",
      "Training Set: 0.9789636976792334\n",
      "Test Set: 0.9646007085080495\n",
      "\n",
      "--- Accuracy ---\n",
      "Training Set: 0.9223251491441077\n",
      "Test Set: 0.9010281877316919\n",
      "\n",
      "--- Confusion Matrix ---\n",
      "True Positive: 8471\n",
      "False Negative: 815\n",
      "True Negative: 4411\n",
      "False Positive: 600\n",
      "\n",
      "--- Precision ---\n",
      "Training Set: 0.9509940119760479\n",
      "Test Set: 0.9338551427626502\n",
      "\n",
      "--- Recall ---\n",
      "Training Set: 0.9267973856209151\n",
      "Test Set: 0.9122334697393927\n",
      "\n",
      "--- F1 Score ---\n",
      "Training Set: 0.9387398037593095\n",
      "Test Set: 0.9229176880753936\n"
     ]
    }
   ],
   "source": [
    "evaluation(rf, X_train_label, X_test_label)"
   ]
  },
  {
   "cell_type": "code",
   "execution_count": 64,
   "metadata": {},
   "outputs": [
    {
     "data": {
      "image/png": "[encoded data removed]",
      "text/plain": [
       "<Figure size 576x396 with 1 Axes>"
      ]
     },
     "metadata": {},
     "output_type": "display_data"
    }
   ],
   "source": [
    "plot_ROC(rf, X_test_label)"
   ]
  },
  {
   "cell_type": "markdown",
   "metadata": {},
   "source": [
    "The performance of this model is basically consistent with the Logistic regression. Therefore, the logistic regression is a better choice if we consider computation time."
   ]
  },
  {
   "cell_type": "code",
   "execution_count": 65,
   "metadata": {},
   "outputs": [
    {
     "name": "stdout",
     "output_type": "stream",
     "text": [
      "The bank scores 4275 points\n",
      "The Random Forest classifier scores 7871 points\n"
     ]
    }
   ],
   "source": [
    "# bank\n",
    "score_bank = sum(Y_test == 1) - sum(Y_test == 0)\n",
    "\n",
    "# my Logistic regression model\n",
    "tn, fp, fn, tp = confusion_matrix(Y_test, rf.predict(X_test_label)).ravel()\n",
    "score_rf = tp - fp\n",
    "\n",
    "print \"The bank scores {} points\".format(score_bank)\n",
    "print \"The Random Forest classifier scores {} points\".format(score_rf)"
   ]
  },
  {
   "cell_type": "markdown",
   "metadata": {},
   "source": [
    "The score of 7871 points is only a little higher than the score of the Logistic regression (7834 points)"
   ]
  },
  {
   "cell_type": "markdown",
   "metadata": {},
   "source": [
    "How about the people who were not granted loans?"
   ]
  },
  {
   "cell_type": "code",
   "execution_count": 66,
   "metadata": {},
   "outputs": [
    {
     "name": "stdout",
     "output_type": "stream",
     "text": [
      "0.34969876136661304\n"
     ]
    }
   ],
   "source": [
    "# Calculate the fraction of people who would have been granted \n",
    "# loans based on my model among those customers who were not \n",
    "# granted loans\n",
    "\n",
    "Y_declined_pred = rf.predict(X_declined_label)\n",
    "print Y_declined_pred.sum()/len(Y_declined_pred)"
   ]
  },
  {
   "cell_type": "markdown",
   "metadata": {},
   "source": [
    "Again, about 35% of the people who didn't get loans would actually repay based on the model. Assuming the ratio of true positive over false positive I got above, we can estimate the profitability we would get if these 35% are granted loans."
   ]
  },
  {
   "cell_type": "code",
   "execution_count": 67,
   "metadata": {},
   "outputs": [
    {
     "name": "stdout",
     "output_type": "stream",
     "text": [
      "Predicted true positive:  17454\n",
      "Predicted false positive:  1236\n",
      "The estimated profitability: 16218 points\n"
     ]
    }
   ],
   "source": [
    "tp_pred = int(round(Y_declined_pred.sum()*tp*1./(tp + fp)))\n",
    "fp_pred = int(round(Y_declined_pred.sum()*fp*1./(tp + fp)))\n",
    "print \"Predicted true positive: \", tp_pred\n",
    "print \"Predicted false positive: \", fp_pred\n",
    "print \"The estimated profitability: {} points\".format(tp_pred - fp_pred)"
   ]
  },
  {
   "cell_type": "markdown",
   "metadata": {},
   "source": [
    "Again, notice that these estimatations are all based on a default threshold of 0.5 of the classifier. If we tune the threshold, the values of true positives/negatives and false positives/negatives would change."
   ]
  },
  {
   "cell_type": "markdown",
   "metadata": {},
   "source": [
    "We can inspect the relative importnace of each feature using the ``feature_importances_`` attribute of the model."
   ]
  },
  {
   "cell_type": "code",
   "execution_count": 68,
   "metadata": {},
   "outputs": [
    {
     "data": {
      "text/html": [
       "<div>\n",
       "<style scoped>\n",
       "    .dataframe tbody tr th:only-of-type {\n",
       "        vertical-align: middle;\n",
       "    }\n",
       "\n",
       "    .dataframe tbody tr th {\n",
       "        vertical-align: top;\n",
       "    }\n",
       "\n",
       "    .dataframe thead th {\n",
       "        text-align: right;\n",
       "    }\n",
       "</style>\n",
       "<table border=\"1\" class=\"dataframe\">\n",
       "  <thead>\n",
       "    <tr style=\"text-align: right;\">\n",
       "      <th></th>\n",
       "      <th>Importance</th>\n",
       "    </tr>\n",
       "  </thead>\n",
       "  <tbody>\n",
       "    <tr>\n",
       "      <th>savings</th>\n",
       "      <td>0.576377</td>\n",
       "    </tr>\n",
       "    <tr>\n",
       "      <th>yearly_salary</th>\n",
       "      <td>0.164365</td>\n",
       "    </tr>\n",
       "    <tr>\n",
       "      <th>credit_limit</th>\n",
       "      <td>0.128203</td>\n",
       "    </tr>\n",
       "    <tr>\n",
       "      <th>repaying</th>\n",
       "      <td>0.069223</td>\n",
       "    </tr>\n",
       "    <tr>\n",
       "      <th>limit_used</th>\n",
       "      <td>0.033087</td>\n",
       "    </tr>\n",
       "    <tr>\n",
       "      <th>dependent_number</th>\n",
       "      <td>0.012779</td>\n",
       "    </tr>\n",
       "    <tr>\n",
       "      <th>loan_purpose</th>\n",
       "      <td>0.009690</td>\n",
       "    </tr>\n",
       "    <tr>\n",
       "      <th>previous_repaid</th>\n",
       "      <td>0.006277</td>\n",
       "    </tr>\n",
       "  </tbody>\n",
       "</table>\n",
       "</div>"
      ],
      "text/plain": [
       "                  Importance\n",
       "savings             0.576377\n",
       "yearly_salary       0.164365\n",
       "credit_limit        0.128203\n",
       "repaying            0.069223\n",
       "limit_used          0.033087\n",
       "dependent_number    0.012779\n",
       "loan_purpose        0.009690\n",
       "previous_repaid     0.006277"
      ]
     },
     "execution_count": 68,
     "metadata": {},
     "output_type": "execute_result"
    }
   ],
   "source": [
    "imp = pd.DataFrame(rf.feature_importances_, columns = ['Importance'], index = X_label.columns)\n",
    "imp = imp.sort_values(['Importance'], ascending = False)\n",
    "imp"
   ]
  },
  {
   "cell_type": "markdown",
   "metadata": {},
   "source": [
    "We can see that the order of feature importance is very similar to the one determined by the logistic regression, and the main difference is just due to one-hot v.s. label encoding. "
   ]
  },
  {
   "cell_type": "markdown",
   "metadata": {},
   "source": [
    "To interpret individual results from a decision tree or random forest, we can use the [treeinterpreter](https://github.com/andosa/treeinterpreter) (also see [this](http://blog.datadive.net/interpreting-random-forests/) and [this](http://blog.datadive.net/random-forest-interpretation-with-scikit-learn/) blog posts). Again, I will use the first three instances of the test set as the examples."
   ]
  },
  {
   "cell_type": "code",
   "execution_count": 69,
   "metadata": {},
   "outputs": [
    {
     "name": "stdout",
     "output_type": "stream",
     "text": [
      "Instance 0\n",
      "Prediction:  0.05\n",
      "Bias (training set mean value):  0.642\n",
      "Feature contributions:\n",
      "savings -0.294\n",
      "yearly_salary -0.143\n",
      "credit_limit -0.134\n",
      "limit_used -0.055\n",
      "loan_purpose 0.024\n",
      "repaying 0.024\n",
      "previous_repaid -0.01\n",
      "dependent_number -0.003\n",
      "----------------------------------------\n",
      "Instance 1\n",
      "Prediction:  0.909\n",
      "Bias (training set mean value):  0.642\n",
      "Feature contributions:\n",
      "savings 0.357\n",
      "repaying -0.192\n",
      "yearly_salary 0.096\n",
      "credit_limit -0.058\n",
      "limit_used 0.039\n",
      "loan_purpose 0.019\n",
      "dependent_number 0.005\n",
      "previous_repaid 0.0\n",
      "----------------------------------------\n",
      "Instance 2\n",
      "Prediction:  0.07\n",
      "Bias (training set mean value):  0.642\n",
      "Feature contributions:\n",
      "savings -0.324\n",
      "yearly_salary -0.192\n",
      "limit_used -0.053\n",
      "credit_limit -0.04\n",
      "dependent_number 0.038\n",
      "repaying 0.023\n",
      "previous_repaid -0.012\n",
      "loan_purpose -0.012\n",
      "----------------------------------------\n"
     ]
    }
   ],
   "source": [
    "instances = X_test_label.iloc[:3, :]\n",
    "\n",
    "# see the links above for \"treeinterpreter\" \n",
    "prediction, bias, contribution = ti.predict(rf, instances)\n",
    "\n",
    "for i in range(len(instances)):\n",
    "    print \"Instance\", i\n",
    "    print \"Prediction: \", round(prediction[i,1],3)\n",
    "    print \"Bias (training set mean value): \", round(bias[i,1],3)\n",
    "    print \"Feature contributions:\"\n",
    "    \n",
    "    # The feature contributions are sorted by their absolute impact\n",
    "    for c,feature in sorted(zip(contribution[i,:,1], X_label.columns.values), \n",
    "                             key=lambda x: -abs(x[0])):\n",
    "        print feature, round(c, 3)\n",
    "    print \"-\" * 40 "
   ]
  },
  {
   "cell_type": "markdown",
   "metadata": {
    "collapsed": true
   },
   "source": [
    "- instance 0: ``savings``, ``yearly_salary``, ``credit_limit`` and ``limit_used`` are the most dominant factors that result in the rejection.\n",
    "- instance 1: ``savings`` and ``yearly_salary`` are the most dominant factors that result in the approval.\n",
    "- instance 2: similar to instance 0"
   ]
  }
 ],
 "metadata": {
  "kernelspec": {
   "display_name": "Python 2",
   "language": "python",
   "name": "python2"
  },
  "language_info": {
   "codemirror_mode": {
    "name": "ipython",
    "version": 2
   },
   "file_extension": ".py",
   "mimetype": "text/x-python",
   "name": "python",
   "nbconvert_exporter": "python",
   "pygments_lexer": "ipython2",
   "version": "2.7.13"
  }
 },
 "nbformat": 4,
 "nbformat_minor": 2
}
