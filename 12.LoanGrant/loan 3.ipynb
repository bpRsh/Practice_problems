{
 "cells": [
  {
   "cell_type": "code",
   "execution_count": 1,
   "metadata": {
    "collapsed": true
   },
   "outputs": [],
   "source": [
    "import pandas as pd\n",
    "import numpy as np\n",
    "import matplotlib.pyplot as plt\n",
    "import seaborn as sns\n",
    "%matplotlib inline\n",
    "import datetime\n",
    "plt.style.use('ggplot')"
   ]
  },
  {
   "cell_type": "code",
   "execution_count": 5,
   "metadata": {
    "collapsed": true
   },
   "outputs": [],
   "source": [
    "loan = pd.read_csv('loan_table.csv',index_col='loan_id')\n",
    "borrower = pd.read_csv('borrower_table.csv',index_col='loan_id')"
   ]
  },
  {
   "cell_type": "code",
   "execution_count": 6,
   "metadata": {
    "collapsed": true
   },
   "outputs": [],
   "source": [
    "loan_all = borrower.join(loan)"
   ]
  },
  {
   "cell_type": "code",
   "execution_count": 7,
   "metadata": {},
   "outputs": [
    {
     "data": {
      "text/html": [
       "<div>\n",
       "<style>\n",
       "    .dataframe thead tr:only-child th {\n",
       "        text-align: right;\n",
       "    }\n",
       "\n",
       "    .dataframe thead th {\n",
       "        text-align: left;\n",
       "    }\n",
       "\n",
       "    .dataframe tbody tr th {\n",
       "        vertical-align: top;\n",
       "    }\n",
       "</style>\n",
       "<table border=\"1\" class=\"dataframe\">\n",
       "  <thead>\n",
       "    <tr style=\"text-align: right;\">\n",
       "      <th></th>\n",
       "      <th>is_first_loan</th>\n",
       "      <th>fully_repaid_previous_loans</th>\n",
       "      <th>currently_repaying_other_loans</th>\n",
       "      <th>total_credit_card_limit</th>\n",
       "      <th>avg_percentage_credit_card_limit_used_last_year</th>\n",
       "      <th>saving_amount</th>\n",
       "      <th>checking_amount</th>\n",
       "      <th>is_employed</th>\n",
       "      <th>yearly_salary</th>\n",
       "      <th>age</th>\n",
       "      <th>dependent_number</th>\n",
       "      <th>loan_purpose</th>\n",
       "      <th>date</th>\n",
       "      <th>loan_granted</th>\n",
       "      <th>loan_repaid</th>\n",
       "    </tr>\n",
       "    <tr>\n",
       "      <th>loan_id</th>\n",
       "      <th></th>\n",
       "      <th></th>\n",
       "      <th></th>\n",
       "      <th></th>\n",
       "      <th></th>\n",
       "      <th></th>\n",
       "      <th></th>\n",
       "      <th></th>\n",
       "      <th></th>\n",
       "      <th></th>\n",
       "      <th></th>\n",
       "      <th></th>\n",
       "      <th></th>\n",
       "      <th></th>\n",
       "      <th></th>\n",
       "    </tr>\n",
       "  </thead>\n",
       "  <tbody>\n",
       "    <tr>\n",
       "      <th>289774</th>\n",
       "      <td>1</td>\n",
       "      <td>NaN</td>\n",
       "      <td>NaN</td>\n",
       "      <td>8000</td>\n",
       "      <td>0.49</td>\n",
       "      <td>3285</td>\n",
       "      <td>1073</td>\n",
       "      <td>0</td>\n",
       "      <td>0</td>\n",
       "      <td>47</td>\n",
       "      <td>3</td>\n",
       "      <td>business</td>\n",
       "      <td>2012-01-31</td>\n",
       "      <td>0</td>\n",
       "      <td>NaN</td>\n",
       "    </tr>\n",
       "    <tr>\n",
       "      <th>482590</th>\n",
       "      <td>0</td>\n",
       "      <td>1.0</td>\n",
       "      <td>0.0</td>\n",
       "      <td>4500</td>\n",
       "      <td>1.03</td>\n",
       "      <td>636</td>\n",
       "      <td>5299</td>\n",
       "      <td>1</td>\n",
       "      <td>13500</td>\n",
       "      <td>33</td>\n",
       "      <td>1</td>\n",
       "      <td>investment</td>\n",
       "      <td>2012-11-02</td>\n",
       "      <td>0</td>\n",
       "      <td>NaN</td>\n",
       "    </tr>\n",
       "    <tr>\n",
       "      <th>135565</th>\n",
       "      <td>1</td>\n",
       "      <td>NaN</td>\n",
       "      <td>NaN</td>\n",
       "      <td>6900</td>\n",
       "      <td>0.82</td>\n",
       "      <td>2085</td>\n",
       "      <td>3422</td>\n",
       "      <td>1</td>\n",
       "      <td>24500</td>\n",
       "      <td>38</td>\n",
       "      <td>8</td>\n",
       "      <td>other</td>\n",
       "      <td>2012-07-16</td>\n",
       "      <td>1</td>\n",
       "      <td>1.0</td>\n",
       "    </tr>\n",
       "    <tr>\n",
       "      <th>207797</th>\n",
       "      <td>0</td>\n",
       "      <td>1.0</td>\n",
       "      <td>0.0</td>\n",
       "      <td>1200</td>\n",
       "      <td>0.82</td>\n",
       "      <td>358</td>\n",
       "      <td>3388</td>\n",
       "      <td>0</td>\n",
       "      <td>0</td>\n",
       "      <td>24</td>\n",
       "      <td>1</td>\n",
       "      <td>investment</td>\n",
       "      <td>2012-06-05</td>\n",
       "      <td>0</td>\n",
       "      <td>NaN</td>\n",
       "    </tr>\n",
       "    <tr>\n",
       "      <th>828078</th>\n",
       "      <td>0</td>\n",
       "      <td>0.0</td>\n",
       "      <td>0.0</td>\n",
       "      <td>6900</td>\n",
       "      <td>0.80</td>\n",
       "      <td>2138</td>\n",
       "      <td>4282</td>\n",
       "      <td>1</td>\n",
       "      <td>18100</td>\n",
       "      <td>36</td>\n",
       "      <td>1</td>\n",
       "      <td>emergency_funds</td>\n",
       "      <td>2012-11-28</td>\n",
       "      <td>0</td>\n",
       "      <td>NaN</td>\n",
       "    </tr>\n",
       "  </tbody>\n",
       "</table>\n",
       "</div>"
      ],
      "text/plain": [
       "         is_first_loan  fully_repaid_previous_loans  \\\n",
       "loan_id                                               \n",
       "289774               1                          NaN   \n",
       "482590               0                          1.0   \n",
       "135565               1                          NaN   \n",
       "207797               0                          1.0   \n",
       "828078               0                          0.0   \n",
       "\n",
       "         currently_repaying_other_loans  total_credit_card_limit  \\\n",
       "loan_id                                                            \n",
       "289774                              NaN                     8000   \n",
       "482590                              0.0                     4500   \n",
       "135565                              NaN                     6900   \n",
       "207797                              0.0                     1200   \n",
       "828078                              0.0                     6900   \n",
       "\n",
       "         avg_percentage_credit_card_limit_used_last_year  saving_amount  \\\n",
       "loan_id                                                                   \n",
       "289774                                              0.49           3285   \n",
       "482590                                              1.03            636   \n",
       "135565                                              0.82           2085   \n",
       "207797                                              0.82            358   \n",
       "828078                                              0.80           2138   \n",
       "\n",
       "         checking_amount  is_employed  yearly_salary  age  dependent_number  \\\n",
       "loan_id                                                                       \n",
       "289774              1073            0              0   47                 3   \n",
       "482590              5299            1          13500   33                 1   \n",
       "135565              3422            1          24500   38                 8   \n",
       "207797              3388            0              0   24                 1   \n",
       "828078              4282            1          18100   36                 1   \n",
       "\n",
       "            loan_purpose        date  loan_granted  loan_repaid  \n",
       "loan_id                                                          \n",
       "289774          business  2012-01-31             0          NaN  \n",
       "482590        investment  2012-11-02             0          NaN  \n",
       "135565             other  2012-07-16             1          1.0  \n",
       "207797        investment  2012-06-05             0          NaN  \n",
       "828078   emergency_funds  2012-11-28             0          NaN  "
      ]
     },
     "execution_count": 7,
     "metadata": {},
     "output_type": "execute_result"
    }
   ],
   "source": [
    "loan_all.head()"
   ]
  },
  {
   "cell_type": "code",
   "execution_count": 11,
   "metadata": {
    "collapsed": true
   },
   "outputs": [],
   "source": [
    "def profit(row):\n",
    "    if row['loan_granted'] == 0:\n",
    "        return 0\n",
    "    elif row['loan_granted'] == 1:\n",
    "        if row['loan_repaid'] == 1:\n",
    "            return 1\n",
    "        else:\n",
    "            return -1\n"
   ]
  },
  {
   "cell_type": "code",
   "execution_count": 12,
   "metadata": {
    "collapsed": true
   },
   "outputs": [],
   "source": [
    "loan_all['profit'] = loan_all.apply(profit, axis =1)"
   ]
  },
  {
   "cell_type": "code",
   "execution_count": 15,
   "metadata": {},
   "outputs": [
    {
     "data": {
      "text/plain": [
       "13758"
      ]
     },
     "execution_count": 15,
     "metadata": {},
     "output_type": "execute_result"
    }
   ],
   "source": [
    "loan_all.profit.sum()# bank model profitabality"
   ]
  },
  {
   "cell_type": "code",
   "execution_count": 16,
   "metadata": {},
   "outputs": [
    {
     "data": {
      "text/plain": [
       " 0    53446\n",
       " 1    30706\n",
       "-1    16948\n",
       "Name: profit, dtype: int64"
      ]
     },
     "execution_count": 16,
     "metadata": {},
     "output_type": "execute_result"
    }
   ],
   "source": [
    "loan_all.profit.value_counts()"
   ]
  },
  {
   "cell_type": "code",
   "execution_count": 19,
   "metadata": {
    "collapsed": true
   },
   "outputs": [],
   "source": [
    "def should_grant(row):\n",
    "    if row['loan_repaid'] == 1:\n",
    "        return 1\n",
    "    else:\n",
    "        return 0"
   ]
  },
  {
   "cell_type": "code",
   "execution_count": 20,
   "metadata": {
    "collapsed": true
   },
   "outputs": [],
   "source": [
    "loan_all['should_grant'] = loan_all.apply(should_grant, axis =1)"
   ]
  },
  {
   "cell_type": "code",
   "execution_count": 24,
   "metadata": {},
   "outputs": [],
   "source": [
    "loan_all.fully_repaid_previous_loans = loan_all.fully_repaid_previous_loans.fillna(\"NA\")\n",
    "loan_all.currently_repaying_other_loans = loan_all.currently_repaying_other_loans.fillna(\"NA\")"
   ]
  },
  {
   "cell_type": "code",
   "execution_count": 28,
   "metadata": {},
   "outputs": [],
   "source": [
    "fully_repaid_previous_loans = pd.get_dummies(loan_all['fully_repaid_previous_loans'],prefix = 'fully_repaid_previous_loans')\n",
    "fully_repaid_previous_loans.head()\n",
    "loan_all = pd.concat([loan_all,fully_repaid_previous_loans],axis = 1)"
   ]
  },
  {
   "cell_type": "code",
   "execution_count": 29,
   "metadata": {},
   "outputs": [],
   "source": [
    "currently_repaying_other_loans = pd.get_dummies(loan_all['currently_repaying_other_loans'],prefix = 'currently_repaying_other_loans')\n",
    "currently_repaying_other_loans.head()\n",
    "loan_all = pd.concat([loan_all,currently_repaying_other_loans],axis = 1)"
   ]
  },
  {
   "cell_type": "code",
   "execution_count": 30,
   "metadata": {},
   "outputs": [],
   "source": [
    "del loan_all['fully_repaid_previous_loans_NA']\n",
    "del loan_all['currently_repaying_other_loans_NA']"
   ]
  },
  {
   "cell_type": "code",
   "execution_count": 31,
   "metadata": {},
   "outputs": [
    {
     "data": {
      "text/html": [
       "<div>\n",
       "<style>\n",
       "    .dataframe thead tr:only-child th {\n",
       "        text-align: right;\n",
       "    }\n",
       "\n",
       "    .dataframe thead th {\n",
       "        text-align: left;\n",
       "    }\n",
       "\n",
       "    .dataframe tbody tr th {\n",
       "        vertical-align: top;\n",
       "    }\n",
       "</style>\n",
       "<table border=\"1\" class=\"dataframe\">\n",
       "  <thead>\n",
       "    <tr style=\"text-align: right;\">\n",
       "      <th></th>\n",
       "      <th>is_first_loan</th>\n",
       "      <th>fully_repaid_previous_loans</th>\n",
       "      <th>currently_repaying_other_loans</th>\n",
       "      <th>total_credit_card_limit</th>\n",
       "      <th>avg_percentage_credit_card_limit_used_last_year</th>\n",
       "      <th>saving_amount</th>\n",
       "      <th>checking_amount</th>\n",
       "      <th>is_employed</th>\n",
       "      <th>yearly_salary</th>\n",
       "      <th>age</th>\n",
       "      <th>...</th>\n",
       "      <th>loan_purpose</th>\n",
       "      <th>date</th>\n",
       "      <th>loan_granted</th>\n",
       "      <th>loan_repaid</th>\n",
       "      <th>profit</th>\n",
       "      <th>should_grant</th>\n",
       "      <th>fully_repaid_previous_loans_0.0</th>\n",
       "      <th>fully_repaid_previous_loans_1.0</th>\n",
       "      <th>currently_repaying_other_loans_0.0</th>\n",
       "      <th>currently_repaying_other_loans_1.0</th>\n",
       "    </tr>\n",
       "    <tr>\n",
       "      <th>loan_id</th>\n",
       "      <th></th>\n",
       "      <th></th>\n",
       "      <th></th>\n",
       "      <th></th>\n",
       "      <th></th>\n",
       "      <th></th>\n",
       "      <th></th>\n",
       "      <th></th>\n",
       "      <th></th>\n",
       "      <th></th>\n",
       "      <th></th>\n",
       "      <th></th>\n",
       "      <th></th>\n",
       "      <th></th>\n",
       "      <th></th>\n",
       "      <th></th>\n",
       "      <th></th>\n",
       "      <th></th>\n",
       "      <th></th>\n",
       "      <th></th>\n",
       "      <th></th>\n",
       "    </tr>\n",
       "  </thead>\n",
       "  <tbody>\n",
       "    <tr>\n",
       "      <th>707202</th>\n",
       "      <td>0</td>\n",
       "      <td>1</td>\n",
       "      <td>1</td>\n",
       "      <td>7100</td>\n",
       "      <td>0.85</td>\n",
       "      <td>109</td>\n",
       "      <td>6439</td>\n",
       "      <td>1</td>\n",
       "      <td>35400</td>\n",
       "      <td>45</td>\n",
       "      <td>...</td>\n",
       "      <td>business</td>\n",
       "      <td>2012-09-03</td>\n",
       "      <td>1</td>\n",
       "      <td>1.0</td>\n",
       "      <td>1</td>\n",
       "      <td>1</td>\n",
       "      <td>0</td>\n",
       "      <td>1</td>\n",
       "      <td>0</td>\n",
       "      <td>1</td>\n",
       "    </tr>\n",
       "    <tr>\n",
       "      <th>328400</th>\n",
       "      <td>0</td>\n",
       "      <td>1</td>\n",
       "      <td>0</td>\n",
       "      <td>7800</td>\n",
       "      <td>0.96</td>\n",
       "      <td>4125</td>\n",
       "      <td>7987</td>\n",
       "      <td>1</td>\n",
       "      <td>7700</td>\n",
       "      <td>54</td>\n",
       "      <td>...</td>\n",
       "      <td>home</td>\n",
       "      <td>2012-10-19</td>\n",
       "      <td>1</td>\n",
       "      <td>1.0</td>\n",
       "      <td>1</td>\n",
       "      <td>1</td>\n",
       "      <td>0</td>\n",
       "      <td>1</td>\n",
       "      <td>1</td>\n",
       "      <td>0</td>\n",
       "    </tr>\n",
       "    <tr>\n",
       "      <th>484656</th>\n",
       "      <td>1</td>\n",
       "      <td>NA</td>\n",
       "      <td>NA</td>\n",
       "      <td>4600</td>\n",
       "      <td>0.64</td>\n",
       "      <td>2551</td>\n",
       "      <td>3417</td>\n",
       "      <td>1</td>\n",
       "      <td>66300</td>\n",
       "      <td>32</td>\n",
       "      <td>...</td>\n",
       "      <td>business</td>\n",
       "      <td>2012-08-16</td>\n",
       "      <td>1</td>\n",
       "      <td>1.0</td>\n",
       "      <td>1</td>\n",
       "      <td>1</td>\n",
       "      <td>0</td>\n",
       "      <td>0</td>\n",
       "      <td>0</td>\n",
       "      <td>0</td>\n",
       "    </tr>\n",
       "    <tr>\n",
       "      <th>308401</th>\n",
       "      <td>1</td>\n",
       "      <td>NA</td>\n",
       "      <td>NA</td>\n",
       "      <td>3000</td>\n",
       "      <td>1.07</td>\n",
       "      <td>815</td>\n",
       "      <td>564</td>\n",
       "      <td>1</td>\n",
       "      <td>14200</td>\n",
       "      <td>19</td>\n",
       "      <td>...</td>\n",
       "      <td>other</td>\n",
       "      <td>2012-01-16</td>\n",
       "      <td>0</td>\n",
       "      <td>NaN</td>\n",
       "      <td>0</td>\n",
       "      <td>0</td>\n",
       "      <td>0</td>\n",
       "      <td>0</td>\n",
       "      <td>0</td>\n",
       "      <td>0</td>\n",
       "    </tr>\n",
       "    <tr>\n",
       "      <th>173296</th>\n",
       "      <td>1</td>\n",
       "      <td>NA</td>\n",
       "      <td>NA</td>\n",
       "      <td>4600</td>\n",
       "      <td>1.03</td>\n",
       "      <td>1244</td>\n",
       "      <td>4253</td>\n",
       "      <td>1</td>\n",
       "      <td>45100</td>\n",
       "      <td>29</td>\n",
       "      <td>...</td>\n",
       "      <td>business</td>\n",
       "      <td>2012-09-04</td>\n",
       "      <td>0</td>\n",
       "      <td>NaN</td>\n",
       "      <td>0</td>\n",
       "      <td>0</td>\n",
       "      <td>0</td>\n",
       "      <td>0</td>\n",
       "      <td>0</td>\n",
       "      <td>0</td>\n",
       "    </tr>\n",
       "  </tbody>\n",
       "</table>\n",
       "<p>5 rows × 21 columns</p>\n",
       "</div>"
      ],
      "text/plain": [
       "         is_first_loan fully_repaid_previous_loans  \\\n",
       "loan_id                                              \n",
       "707202               0                           1   \n",
       "328400               0                           1   \n",
       "484656               1                          NA   \n",
       "308401               1                          NA   \n",
       "173296               1                          NA   \n",
       "\n",
       "        currently_repaying_other_loans  total_credit_card_limit  \\\n",
       "loan_id                                                           \n",
       "707202                               1                     7100   \n",
       "328400                               0                     7800   \n",
       "484656                              NA                     4600   \n",
       "308401                              NA                     3000   \n",
       "173296                              NA                     4600   \n",
       "\n",
       "         avg_percentage_credit_card_limit_used_last_year  saving_amount  \\\n",
       "loan_id                                                                   \n",
       "707202                                              0.85            109   \n",
       "328400                                              0.96           4125   \n",
       "484656                                              0.64           2551   \n",
       "308401                                              1.07            815   \n",
       "173296                                              1.03           1244   \n",
       "\n",
       "         checking_amount  is_employed  yearly_salary  age  \\\n",
       "loan_id                                                     \n",
       "707202              6439            1          35400   45   \n",
       "328400              7987            1           7700   54   \n",
       "484656              3417            1          66300   32   \n",
       "308401               564            1          14200   19   \n",
       "173296              4253            1          45100   29   \n",
       "\n",
       "                        ...                  loan_purpose        date  \\\n",
       "loan_id                 ...                                             \n",
       "707202                  ...                      business  2012-09-03   \n",
       "328400                  ...                          home  2012-10-19   \n",
       "484656                  ...                      business  2012-08-16   \n",
       "308401                  ...                         other  2012-01-16   \n",
       "173296                  ...                      business  2012-09-04   \n",
       "\n",
       "        loan_granted  loan_repaid  profit  should_grant  \\\n",
       "loan_id                                                   \n",
       "707202             1          1.0       1             1   \n",
       "328400             1          1.0       1             1   \n",
       "484656             1          1.0       1             1   \n",
       "308401             0          NaN       0             0   \n",
       "173296             0          NaN       0             0   \n",
       "\n",
       "         fully_repaid_previous_loans_0.0  fully_repaid_previous_loans_1.0  \\\n",
       "loan_id                                                                     \n",
       "707202                                 0                                1   \n",
       "328400                                 0                                1   \n",
       "484656                                 0                                0   \n",
       "308401                                 0                                0   \n",
       "173296                                 0                                0   \n",
       "\n",
       "         currently_repaying_other_loans_0.0  \\\n",
       "loan_id                                       \n",
       "707202                                    0   \n",
       "328400                                    1   \n",
       "484656                                    0   \n",
       "308401                                    0   \n",
       "173296                                    0   \n",
       "\n",
       "         currently_repaying_other_loans_1.0  \n",
       "loan_id                                      \n",
       "707202                                    1  \n",
       "328400                                    0  \n",
       "484656                                    0  \n",
       "308401                                    0  \n",
       "173296                                    0  \n",
       "\n",
       "[5 rows x 21 columns]"
      ]
     },
     "execution_count": 31,
     "metadata": {},
     "output_type": "execute_result"
    }
   ],
   "source": [
    "loan_all.sample(5)"
   ]
  },
  {
   "cell_type": "code",
   "execution_count": 32,
   "metadata": {
    "collapsed": true
   },
   "outputs": [],
   "source": [
    "purpose = pd.get_dummies(loan_all['loan_purpose'],prefix = 'loan_purpose')\n",
    "purpose.head()\n",
    "loan_all = pd.concat([loan_all,purpose],axis = 1)"
   ]
  },
  {
   "cell_type": "code",
   "execution_count": 33,
   "metadata": {
    "collapsed": true
   },
   "outputs": [],
   "source": [
    "del loan_all['loan_purpose_other']"
   ]
  },
  {
   "cell_type": "code",
   "execution_count": 34,
   "metadata": {},
   "outputs": [
    {
     "name": "stdout",
     "output_type": "stream",
     "text": [
      "<class 'pandas.core.frame.DataFrame'>\n",
      "Int64Index: 101100 entries, 289774 to 761999\n",
      "Data columns (total 25 columns):\n",
      "is_first_loan                                      101100 non-null int64\n",
      "fully_repaid_previous_loans                        101100 non-null object\n",
      "currently_repaying_other_loans                     101100 non-null object\n",
      "total_credit_card_limit                            101100 non-null int64\n",
      "avg_percentage_credit_card_limit_used_last_year    94128 non-null float64\n",
      "saving_amount                                      101100 non-null int64\n",
      "checking_amount                                    101100 non-null int64\n",
      "is_employed                                        101100 non-null int64\n",
      "yearly_salary                                      101100 non-null int64\n",
      "age                                                101100 non-null int64\n",
      "dependent_number                                   101100 non-null int64\n",
      "loan_purpose                                       101100 non-null object\n",
      "date                                               101100 non-null object\n",
      "loan_granted                                       101100 non-null int64\n",
      "loan_repaid                                        47654 non-null float64\n",
      "profit                                             101100 non-null int64\n",
      "should_grant                                       101100 non-null int64\n",
      "fully_repaid_previous_loans_0.0                    101100 non-null uint8\n",
      "fully_repaid_previous_loans_1.0                    101100 non-null uint8\n",
      "currently_repaying_other_loans_0.0                 101100 non-null uint8\n",
      "currently_repaying_other_loans_1.0                 101100 non-null uint8\n",
      "loan_purpose_business                              101100 non-null uint8\n",
      "loan_purpose_emergency_funds                       101100 non-null uint8\n",
      "loan_purpose_home                                  101100 non-null uint8\n",
      "loan_purpose_investment                            101100 non-null uint8\n",
      "dtypes: float64(2), int64(11), object(4), uint8(8)\n",
      "memory usage: 19.7+ MB\n"
     ]
    }
   ],
   "source": [
    "loan_all.info()"
   ]
  },
  {
   "cell_type": "code",
   "execution_count": 36,
   "metadata": {},
   "outputs": [],
   "source": [
    "loan_all['avg_percentage_credit_card_limit_used_last_year_NA'] = 0"
   ]
  },
  {
   "cell_type": "code",
   "execution_count": 43,
   "metadata": {},
   "outputs": [],
   "source": [
    "loan_all.loc[loan_all['avg_percentage_credit_card_limit_used_last_year'].isnull(),'avg_percentage_credit_card_limit_used_last_year_NA'] = 1"
   ]
  },
  {
   "cell_type": "code",
   "execution_count": 44,
   "metadata": {},
   "outputs": [
    {
     "data": {
      "text/plain": [
       "0    94128\n",
       "1     6972\n",
       "Name: avg_percentage_credit_card_limit_used_last_year_NA, dtype: int64"
      ]
     },
     "execution_count": 44,
     "metadata": {},
     "output_type": "execute_result"
    }
   ],
   "source": [
    "loan_all['avg_percentage_credit_card_limit_used_last_year_NA'].value_counts()"
   ]
  },
  {
   "cell_type": "code",
   "execution_count": 45,
   "metadata": {
    "collapsed": true
   },
   "outputs": [],
   "source": [
    "loan_all.avg_percentage_credit_card_limit_used_last_year = loan_all.avg_percentage_credit_card_limit_used_last_year.fillna(0)"
   ]
  },
  {
   "cell_type": "code",
   "execution_count": 46,
   "metadata": {},
   "outputs": [
    {
     "name": "stdout",
     "output_type": "stream",
     "text": [
      "<class 'pandas.core.frame.DataFrame'>\n",
      "Int64Index: 101100 entries, 289774 to 761999\n",
      "Data columns (total 26 columns):\n",
      "is_first_loan                                         101100 non-null int64\n",
      "fully_repaid_previous_loans                           101100 non-null object\n",
      "currently_repaying_other_loans                        101100 non-null object\n",
      "total_credit_card_limit                               101100 non-null int64\n",
      "avg_percentage_credit_card_limit_used_last_year       101100 non-null float64\n",
      "saving_amount                                         101100 non-null int64\n",
      "checking_amount                                       101100 non-null int64\n",
      "is_employed                                           101100 non-null int64\n",
      "yearly_salary                                         101100 non-null int64\n",
      "age                                                   101100 non-null int64\n",
      "dependent_number                                      101100 non-null int64\n",
      "loan_purpose                                          101100 non-null object\n",
      "date                                                  101100 non-null object\n",
      "loan_granted                                          101100 non-null int64\n",
      "loan_repaid                                           47654 non-null float64\n",
      "profit                                                101100 non-null int64\n",
      "should_grant                                          101100 non-null int64\n",
      "fully_repaid_previous_loans_0.0                       101100 non-null uint8\n",
      "fully_repaid_previous_loans_1.0                       101100 non-null uint8\n",
      "currently_repaying_other_loans_0.0                    101100 non-null uint8\n",
      "currently_repaying_other_loans_1.0                    101100 non-null uint8\n",
      "loan_purpose_business                                 101100 non-null uint8\n",
      "loan_purpose_emergency_funds                          101100 non-null uint8\n",
      "loan_purpose_home                                     101100 non-null uint8\n",
      "loan_purpose_investment                               101100 non-null uint8\n",
      "avg_percentage_credit_card_limit_used_last_year_NA    101100 non-null int64\n",
      "dtypes: float64(2), int64(12), object(4), uint8(8)\n",
      "memory usage: 20.4+ MB\n"
     ]
    }
   ],
   "source": [
    "loan_all.info()"
   ]
  },
  {
   "cell_type": "code",
   "execution_count": 47,
   "metadata": {
    "collapsed": true
   },
   "outputs": [],
   "source": [
    "y = loan_all['should_grant']\n",
    "X = loan_all[['is_first_loan','total_credit_card_limit','avg_percentage_credit_card_limit_used_last_year','saving_amount',\n",
    "              'checking_amount','is_employed','yearly_salary','age','dependent_number','fully_repaid_previous_loans_0.0',\n",
    "             'fully_repaid_previous_loans_1.0','currently_repaying_other_loans_0.0','currently_repaying_other_loans_1.0',\n",
    "             'loan_purpose_business','loan_purpose_emergency_funds','loan_purpose_home','loan_purpose_investment',\n",
    "             'avg_percentage_credit_card_limit_used_last_year_NA']]"
   ]
  },
  {
   "cell_type": "code",
   "execution_count": 49,
   "metadata": {},
   "outputs": [
    {
     "data": {
      "text/plain": [
       "GradientBoostingClassifier(criterion='friedman_mse', init=None,\n",
       "              learning_rate=0.1, loss='deviance', max_depth=3,\n",
       "              max_features=None, max_leaf_nodes=None,\n",
       "              min_impurity_decrease=0.0, min_impurity_split=None,\n",
       "              min_samples_leaf=1, min_samples_split=2,\n",
       "              min_weight_fraction_leaf=0.0, n_estimators=100,\n",
       "              presort='auto', random_state=None, subsample=1.0, verbose=0,\n",
       "              warm_start=False)"
      ]
     },
     "execution_count": 49,
     "metadata": {},
     "output_type": "execute_result"
    }
   ],
   "source": [
    "from sklearn.ensemble import GradientBoostingClassifier\n",
    "gb = GradientBoostingClassifier()\n",
    "gb.fit(X,y)"
   ]
  },
  {
   "cell_type": "code",
   "execution_count": 50,
   "metadata": {},
   "outputs": [
    {
     "data": {
      "text/plain": [
       "<matplotlib.axes._subplots.AxesSubplot at 0x1235c550>"
      ]
     },
     "execution_count": 50,
     "metadata": {},
     "output_type": "execute_result"
    },
    {
     "data": {
      "image/png": "[encoded data removed]",
      "text/plain": [
       "<matplotlib.figure.Figure at 0x1234af98>"
      ]
     },
     "metadata": {},
     "output_type": "display_data"
    }
   ],
   "source": [
    "importance_gb = gb.feature_importances_\n",
    "feature_names = X.columns.values \n",
    "df_gb = pd.DataFrame(importance_gb,columns=['Importance'],index = feature_names)\n",
    "df_gb = df_gb.sort_values(['Importance'],ascending=False)\n",
    "df_gb.plot(kind = 'bar')"
   ]
  },
  {
   "cell_type": "code",
   "execution_count": 53,
   "metadata": {},
   "outputs": [
    {
     "data": {
      "text/html": [
       "<div>\n",
       "<style>\n",
       "    .dataframe thead tr:only-child th {\n",
       "        text-align: right;\n",
       "    }\n",
       "\n",
       "    .dataframe thead th {\n",
       "        text-align: left;\n",
       "    }\n",
       "\n",
       "    .dataframe tbody tr th {\n",
       "        vertical-align: top;\n",
       "    }\n",
       "</style>\n",
       "<table border=\"1\" class=\"dataframe\">\n",
       "  <thead>\n",
       "    <tr style=\"text-align: right;\">\n",
       "      <th></th>\n",
       "      <th>Importance</th>\n",
       "    </tr>\n",
       "  </thead>\n",
       "  <tbody>\n",
       "    <tr>\n",
       "      <th>saving_amount</th>\n",
       "      <td>0.198535</td>\n",
       "    </tr>\n",
       "    <tr>\n",
       "      <th>checking_amount</th>\n",
       "      <td>0.161118</td>\n",
       "    </tr>\n",
       "    <tr>\n",
       "      <th>total_credit_card_limit</th>\n",
       "      <td>0.155163</td>\n",
       "    </tr>\n",
       "    <tr>\n",
       "      <th>yearly_salary</th>\n",
       "      <td>0.152621</td>\n",
       "    </tr>\n",
       "    <tr>\n",
       "      <th>is_employed</th>\n",
       "      <td>0.122499</td>\n",
       "    </tr>\n",
       "    <tr>\n",
       "      <th>avg_percentage_credit_card_limit_used_last_year</th>\n",
       "      <td>0.095849</td>\n",
       "    </tr>\n",
       "    <tr>\n",
       "      <th>currently_repaying_other_loans_1.0</th>\n",
       "      <td>0.034490</td>\n",
       "    </tr>\n",
       "    <tr>\n",
       "      <th>dependent_number</th>\n",
       "      <td>0.026548</td>\n",
       "    </tr>\n",
       "    <tr>\n",
       "      <th>currently_repaying_other_loans_0.0</th>\n",
       "      <td>0.021279</td>\n",
       "    </tr>\n",
       "    <tr>\n",
       "      <th>loan_purpose_emergency_funds</th>\n",
       "      <td>0.016055</td>\n",
       "    </tr>\n",
       "    <tr>\n",
       "      <th>loan_purpose_business</th>\n",
       "      <td>0.006650</td>\n",
       "    </tr>\n",
       "    <tr>\n",
       "      <th>loan_purpose_investment</th>\n",
       "      <td>0.004128</td>\n",
       "    </tr>\n",
       "    <tr>\n",
       "      <th>loan_purpose_home</th>\n",
       "      <td>0.002731</td>\n",
       "    </tr>\n",
       "    <tr>\n",
       "      <th>age</th>\n",
       "      <td>0.002333</td>\n",
       "    </tr>\n",
       "  </tbody>\n",
       "</table>\n",
       "</div>"
      ],
      "text/plain": [
       "                                                 Importance\n",
       "saving_amount                                      0.198535\n",
       "checking_amount                                    0.161118\n",
       "total_credit_card_limit                            0.155163\n",
       "yearly_salary                                      0.152621\n",
       "is_employed                                        0.122499\n",
       "avg_percentage_credit_card_limit_used_last_year    0.095849\n",
       "currently_repaying_other_loans_1.0                 0.034490\n",
       "dependent_number                                   0.026548\n",
       "currently_repaying_other_loans_0.0                 0.021279\n",
       "loan_purpose_emergency_funds                       0.016055\n",
       "loan_purpose_business                              0.006650\n",
       "loan_purpose_investment                            0.004128\n",
       "loan_purpose_home                                  0.002731\n",
       "age                                                0.002333"
      ]
     },
     "execution_count": 53,
     "metadata": {},
     "output_type": "execute_result"
    }
   ],
   "source": [
    "df_gb.head(14)"
   ]
  },
  {
   "cell_type": "code",
   "execution_count": 54,
   "metadata": {
    "collapsed": true
   },
   "outputs": [],
   "source": [
    "gb_att = df_gb[df_gb['Importance']>0.01].index.tolist()"
   ]
  },
  {
   "cell_type": "code",
   "execution_count": 55,
   "metadata": {
    "collapsed": true
   },
   "outputs": [],
   "source": [
    "X2 = X[gb_att]"
   ]
  },
  {
   "cell_type": "code",
   "execution_count": 56,
   "metadata": {},
   "outputs": [
    {
     "name": "stderr",
     "output_type": "stream",
     "text": [
      "C:\\Users\\rwang\\AppData\\Local\\Continuum\\Miniconda2\\lib\\site-packages\\sklearn\\cross_validation.py:41: DeprecationWarning: This module was deprecated in version 0.18 in favor of the model_selection module into which all the refactored classes and functions are moved. Also note that the interface of the new CV iterators are different from that of this module. This module will be removed in 0.20.\n",
      "  \"This module will be removed in 0.20.\", DeprecationWarning)\n"
     ]
    },
    {
     "data": {
      "text/plain": [
       "array([ 0.89692756,  0.89613338,  0.89662637,  0.89600693,  0.89301409])"
      ]
     },
     "execution_count": 56,
     "metadata": {},
     "output_type": "execute_result"
    }
   ],
   "source": [
    "from sklearn.model_selection import cross_val_score\n",
    "from sklearn.cross_validation import KFold\n",
    "fold = KFold(len(y),n_folds = 5, shuffle = True)\n",
    "cross_val_score(gb, X2, y, cv = fold, scoring = \"roc_auc\")"
   ]
  },
  {
   "cell_type": "code",
   "execution_count": 59,
   "metadata": {},
   "outputs": [
    {
     "data": {
      "text/plain": [
       "GradientBoostingClassifier(criterion='friedman_mse', init=None,\n",
       "              learning_rate=0.1, loss='deviance', max_depth=3,\n",
       "              max_features=None, max_leaf_nodes=None,\n",
       "              min_impurity_decrease=0.0, min_impurity_split=None,\n",
       "              min_samples_leaf=1, min_samples_split=2,\n",
       "              min_weight_fraction_leaf=0.0, n_estimators=100,\n",
       "              presort='auto', random_state=None, subsample=1.0, verbose=0,\n",
       "              warm_start=False)"
      ]
     },
     "execution_count": 59,
     "metadata": {},
     "output_type": "execute_result"
    }
   ],
   "source": [
    "gb.fit(X2,y)"
   ]
  },
  {
   "cell_type": "code",
   "execution_count": 60,
   "metadata": {},
   "outputs": [
    {
     "data": {
      "text/plain": [
       "<matplotlib.text.Text at 0x138cbdd8>"
      ]
     },
     "execution_count": 60,
     "metadata": {},
     "output_type": "execute_result"
    },
    {
     "data": {
      "image/png": "[encoded data removed]",
      "text/plain": [
       "<matplotlib.figure.Figure at 0x137b00f0>"
      ]
     },
     "metadata": {},
     "output_type": "display_data"
    }
   ],
   "source": [
    "from sklearn.metrics import precision_recall_curve,average_precision_score\n",
    "y_hat_probability = gb.predict_proba(X2).T[1]\n",
    "precision, recall, thresholds = precision_recall_curve(y, y_hat_probability) \n",
    "thresholds = np.append(thresholds, 1) \n",
    "queue_rate = [] \n",
    "for threshold in thresholds: \n",
    "    queue_rate.append((y_hat_probability >= threshold).mean()) \n",
    "plt.plot(thresholds, precision, color=sns.color_palette()[0]) \n",
    "plt.plot(thresholds, recall, color=sns.color_palette()[1]) \n",
    "plt.plot(thresholds, queue_rate, color=sns.color_palette()[2]) \n",
    "leg = plt.legend(('precision', 'recall', 'queue_rate'), frameon=True) \n",
    "leg.get_frame().set_edgecolor('k') \n",
    "plt.xlabel('threshold') \n",
    "plt.ylabel('%')"
   ]
  },
  {
   "cell_type": "code",
   "execution_count": 61,
   "metadata": {},
   "outputs": [
    {
     "name": "stdout",
     "output_type": "stream",
     "text": [
      "[ 0.12726332  0.19684195  0.56881672 ...,  0.02239336  0.55082019\n",
      "  0.70706498]\n",
      "AUC is 0.900132 \n"
     ]
    },
    {
     "data": {
      "image/png": "[encoded data removed]",
      "text/plain": [
       "<matplotlib.figure.Figure at 0x168ffd30>"
      ]
     },
     "metadata": {},
     "output_type": "display_data"
    }
   ],
   "source": [
    "from sklearn.metrics import confusion_matrix\n",
    "from sklearn.metrics import roc_curve, auc,roc_auc_score\n",
    "y_hat_probability = gb.predict_proba(X2).T[1]\n",
    "print(y_hat_probability)\n",
    "print(\"AUC is %f \" %roc_auc_score(y, y_hat_probability)) \n",
    "\n",
    "\n",
    "vals = roc_curve(y, y_hat_probability) \n",
    "#vals[0] is False Positive Rate\n",
    "#vals[1] is True Positive Rate\n",
    "plt.plot(vals[0], vals[1])\n",
    "plt.xlabel('False Positive Rate')\n",
    "plt.ylabel('True Positive Rate')\n",
    "plt.show()"
   ]
  },
  {
   "cell_type": "code",
   "execution_count": 62,
   "metadata": {},
   "outputs": [
    {
     "data": {
      "text/plain": [
       "(101100L,)"
      ]
     },
     "execution_count": 62,
     "metadata": {},
     "output_type": "execute_result"
    }
   ],
   "source": [
    "y_hat_probability.shape"
   ]
  },
  {
   "cell_type": "code",
   "execution_count": 63,
   "metadata": {
    "collapsed": true
   },
   "outputs": [],
   "source": [
    "loan_all['my_prob'] = y_hat_probability"
   ]
  },
  {
   "cell_type": "code",
   "execution_count": 74,
   "metadata": {},
   "outputs": [
    {
     "name": "stdout",
     "output_type": "stream",
     "text": [
      "<class 'pandas.core.frame.DataFrame'>\n",
      "Int64Index: 101100 entries, 289774 to 761999\n",
      "Data columns (total 27 columns):\n",
      "is_first_loan                                         101100 non-null int64\n",
      "fully_repaid_previous_loans                           101100 non-null object\n",
      "currently_repaying_other_loans                        101100 non-null object\n",
      "total_credit_card_limit                               101100 non-null int64\n",
      "avg_percentage_credit_card_limit_used_last_year       101100 non-null float64\n",
      "saving_amount                                         101100 non-null int64\n",
      "checking_amount                                       101100 non-null int64\n",
      "is_employed                                           101100 non-null int64\n",
      "yearly_salary                                         101100 non-null int64\n",
      "age                                                   101100 non-null int64\n",
      "dependent_number                                      101100 non-null int64\n",
      "loan_purpose                                          101100 non-null object\n",
      "date                                                  101100 non-null object\n",
      "loan_granted                                          101100 non-null int64\n",
      "loan_repaid                                           47654 non-null float64\n",
      "profit                                                101100 non-null int64\n",
      "should_grant                                          101100 non-null int64\n",
      "fully_repaid_previous_loans_0.0                       101100 non-null uint8\n",
      "fully_repaid_previous_loans_1.0                       101100 non-null uint8\n",
      "currently_repaying_other_loans_0.0                    101100 non-null uint8\n",
      "currently_repaying_other_loans_1.0                    101100 non-null uint8\n",
      "loan_purpose_business                                 101100 non-null uint8\n",
      "loan_purpose_emergency_funds                          101100 non-null uint8\n",
      "loan_purpose_home                                     101100 non-null uint8\n",
      "loan_purpose_investment                               101100 non-null uint8\n",
      "avg_percentage_credit_card_limit_used_last_year_NA    101100 non-null int64\n",
      "my_prob                                               101100 non-null float64\n",
      "dtypes: float64(3), int64(12), object(4), uint8(8)\n",
      "memory usage: 21.2+ MB\n"
     ]
    }
   ],
   "source": [
    "loan_all.info()"
   ]
  },
  {
   "cell_type": "code",
   "execution_count": 90,
   "metadata": {
    "collapsed": true
   },
   "outputs": [],
   "source": [
    "def my_profit_fun(row, prob):\n",
    "    if row['my_prob'] > prob:\n",
    "        if row['loan_repaid'] ==1:\n",
    "            return 1\n",
    "        elif row['loan_repaid'] ==0:\n",
    "            return -1\n",
    "        else:\n",
    "            return 0\n",
    "    else:\n",
    "        return 0"
   ]
  },
  {
   "cell_type": "code",
   "execution_count": 95,
   "metadata": {},
   "outputs": [],
   "source": [
    "\n",
    "my_profit_dic={'my_profit_sum':[],'my_prob_list':[]}\n",
    "for prob in np.linspace(0, 1, num=11):\n",
    "    my_profit = loan_all.apply(lambda row: my_profit_fun(row,prob),axis = 1)\n",
    "    my_profit_dic['my_profit_sum'].append(my_profit.sum())\n",
    "    my_profit_dic['my_prob_list'].append(prob)\n",
    "    \n",
    "    "
   ]
  },
  {
   "cell_type": "code",
   "execution_count": 99,
   "metadata": {},
   "outputs": [
    {
     "data": {
      "text/html": [
       "<div>\n",
       "<style>\n",
       "    .dataframe thead tr:only-child th {\n",
       "        text-align: right;\n",
       "    }\n",
       "\n",
       "    .dataframe thead th {\n",
       "        text-align: left;\n",
       "    }\n",
       "\n",
       "    .dataframe tbody tr th {\n",
       "        vertical-align: top;\n",
       "    }\n",
       "</style>\n",
       "<table border=\"1\" class=\"dataframe\">\n",
       "  <thead>\n",
       "    <tr style=\"text-align: right;\">\n",
       "      <th></th>\n",
       "      <th>my_prob_list</th>\n",
       "      <th>my_profit_sum</th>\n",
       "    </tr>\n",
       "  </thead>\n",
       "  <tbody>\n",
       "    <tr>\n",
       "      <th>0</th>\n",
       "      <td>0.0</td>\n",
       "      <td>13758</td>\n",
       "    </tr>\n",
       "    <tr>\n",
       "      <th>1</th>\n",
       "      <td>0.1</td>\n",
       "      <td>23188</td>\n",
       "    </tr>\n",
       "    <tr>\n",
       "      <th>2</th>\n",
       "      <td>0.2</td>\n",
       "      <td>25619</td>\n",
       "    </tr>\n",
       "    <tr>\n",
       "      <th>3</th>\n",
       "      <td>0.3</td>\n",
       "      <td>26167</td>\n",
       "    </tr>\n",
       "    <tr>\n",
       "      <th>4</th>\n",
       "      <td>0.4</td>\n",
       "      <td>25825</td>\n",
       "    </tr>\n",
       "    <tr>\n",
       "      <th>5</th>\n",
       "      <td>0.5</td>\n",
       "      <td>25009</td>\n",
       "    </tr>\n",
       "    <tr>\n",
       "      <th>6</th>\n",
       "      <td>0.6</td>\n",
       "      <td>23248</td>\n",
       "    </tr>\n",
       "    <tr>\n",
       "      <th>7</th>\n",
       "      <td>0.7</td>\n",
       "      <td>17064</td>\n",
       "    </tr>\n",
       "    <tr>\n",
       "      <th>8</th>\n",
       "      <td>0.8</td>\n",
       "      <td>198</td>\n",
       "    </tr>\n",
       "    <tr>\n",
       "      <th>9</th>\n",
       "      <td>0.9</td>\n",
       "      <td>0</td>\n",
       "    </tr>\n",
       "    <tr>\n",
       "      <th>10</th>\n",
       "      <td>1.0</td>\n",
       "      <td>0</td>\n",
       "    </tr>\n",
       "  </tbody>\n",
       "</table>\n",
       "</div>"
      ],
      "text/plain": [
       "    my_prob_list  my_profit_sum\n",
       "0            0.0          13758\n",
       "1            0.1          23188\n",
       "2            0.2          25619\n",
       "3            0.3          26167\n",
       "4            0.4          25825\n",
       "5            0.5          25009\n",
       "6            0.6          23248\n",
       "7            0.7          17064\n",
       "8            0.8            198\n",
       "9            0.9              0\n",
       "10           1.0              0"
      ]
     },
     "execution_count": 99,
     "metadata": {},
     "output_type": "execute_result"
    }
   ],
   "source": [
    "pd.DataFrame(my_profit_dic)"
   ]
  },
  {
   "cell_type": "markdown",
   "metadata": {},
   "source": [
    "My highest profit is 26167 compared to bank model's 13758"
   ]
  },
  {
   "cell_type": "code",
   "execution_count": 100,
   "metadata": {},
   "outputs": [
    {
     "name": "stdout",
     "output_type": "stream",
     "text": [
      "Optimization terminated successfully.\n",
      "         Current function value: 0.479260\n",
      "         Iterations 7\n"
     ]
    },
    {
     "data": {
      "text/html": [
       "<table class=\"simpletable\">\n",
       "<caption>Logit Regression Results</caption>\n",
       "<tr>\n",
       "  <th>Dep. Variable:</th>         <td>y</td>        <th>  No. Observations:  </th>  <td>101100</td> \n",
       "</tr>\n",
       "<tr>\n",
       "  <th>Model:</th>               <td>Logit</td>      <th>  Df Residuals:      </th>  <td>101090</td> \n",
       "</tr>\n",
       "<tr>\n",
       "  <th>Method:</th>               <td>MLE</td>       <th>  Df Model:          </th>  <td>     9</td> \n",
       "</tr>\n",
       "<tr>\n",
       "  <th>Date:</th>          <td>Thu, 12 Oct 2017</td> <th>  Pseudo R-squ.:     </th>  <td>0.2194</td> \n",
       "</tr>\n",
       "<tr>\n",
       "  <th>Time:</th>              <td>17:48:49</td>     <th>  Log-Likelihood:    </th> <td> -48453.</td>\n",
       "</tr>\n",
       "<tr>\n",
       "  <th>converged:</th>           <td>True</td>       <th>  LL-Null:           </th> <td> -62074.</td>\n",
       "</tr>\n",
       "<tr>\n",
       "  <th> </th>                      <td> </td>        <th>  LLR p-value:       </th>  <td> 0.000</td> \n",
       "</tr>\n",
       "</table>\n",
       "<table class=\"simpletable\">\n",
       "<tr>\n",
       "                         <td></td>                            <th>coef</th>     <th>std err</th>      <th>z</th>      <th>P>|z|</th>  <th>[0.025</th>    <th>0.975]</th>  \n",
       "</tr>\n",
       "<tr>\n",
       "  <th>saving_amount</th>                                   <td>    0.0002</td> <td> 5.59e-06</td> <td>   27.796</td> <td> 0.000</td> <td>    0.000</td> <td>    0.000</td>\n",
       "</tr>\n",
       "<tr>\n",
       "  <th>checking_amount</th>                                 <td> 6.947e-05</td> <td> 3.79e-06</td> <td>   18.338</td> <td> 0.000</td> <td>  6.2e-05</td> <td> 7.69e-05</td>\n",
       "</tr>\n",
       "<tr>\n",
       "  <th>total_credit_card_limit</th>                         <td>    0.0001</td> <td> 4.08e-06</td> <td>   34.070</td> <td> 0.000</td> <td>    0.000</td> <td>    0.000</td>\n",
       "</tr>\n",
       "<tr>\n",
       "  <th>yearly_salary</th>                                   <td> 2.584e-05</td> <td> 6.51e-07</td> <td>   39.670</td> <td> 0.000</td> <td> 2.46e-05</td> <td> 2.71e-05</td>\n",
       "</tr>\n",
       "<tr>\n",
       "  <th>is_employed</th>                                     <td>    0.6567</td> <td>    0.028</td> <td>   23.817</td> <td> 0.000</td> <td>    0.603</td> <td>    0.711</td>\n",
       "</tr>\n",
       "<tr>\n",
       "  <th>avg_percentage_credit_card_limit_used_last_year</th> <td>   -2.8494</td> <td>    0.030</td> <td>  -94.361</td> <td> 0.000</td> <td>   -2.909</td> <td>   -2.790</td>\n",
       "</tr>\n",
       "<tr>\n",
       "  <th>currently_repaying_other_loans_1.0</th>              <td>   -1.4706</td> <td>    0.029</td> <td>  -50.794</td> <td> 0.000</td> <td>   -1.527</td> <td>   -1.414</td>\n",
       "</tr>\n",
       "<tr>\n",
       "  <th>dependent_number</th>                                <td>   -0.1889</td> <td>    0.003</td> <td>  -65.044</td> <td> 0.000</td> <td>   -0.195</td> <td>   -0.183</td>\n",
       "</tr>\n",
       "<tr>\n",
       "  <th>currently_repaying_other_loans_0.0</th>              <td>   -0.0788</td> <td>    0.017</td> <td>   -4.597</td> <td> 0.000</td> <td>   -0.112</td> <td>   -0.045</td>\n",
       "</tr>\n",
       "<tr>\n",
       "  <th>loan_purpose_emergency_funds</th>                    <td>   -0.7329</td> <td>    0.023</td> <td>  -32.503</td> <td> 0.000</td> <td>   -0.777</td> <td>   -0.689</td>\n",
       "</tr>\n",
       "</table>"
      ],
      "text/plain": [
       "<class 'statsmodels.iolib.summary.Summary'>\n",
       "\"\"\"\n",
       "                           Logit Regression Results                           \n",
       "==============================================================================\n",
       "Dep. Variable:                      y   No. Observations:               101100\n",
       "Model:                          Logit   Df Residuals:                   101090\n",
       "Method:                           MLE   Df Model:                            9\n",
       "Date:                Thu, 12 Oct 2017   Pseudo R-squ.:                  0.2194\n",
       "Time:                        17:48:49   Log-Likelihood:                -48453.\n",
       "converged:                       True   LL-Null:                       -62074.\n",
       "                                        LLR p-value:                     0.000\n",
       "===================================================================================================================\n",
       "                                                      coef    std err          z      P>|z|      [0.025      0.975]\n",
       "-------------------------------------------------------------------------------------------------------------------\n",
       "saving_amount                                       0.0002   5.59e-06     27.796      0.000       0.000       0.000\n",
       "checking_amount                                  6.947e-05   3.79e-06     18.338      0.000     6.2e-05    7.69e-05\n",
       "total_credit_card_limit                             0.0001   4.08e-06     34.070      0.000       0.000       0.000\n",
       "yearly_salary                                    2.584e-05   6.51e-07     39.670      0.000    2.46e-05    2.71e-05\n",
       "is_employed                                         0.6567      0.028     23.817      0.000       0.603       0.711\n",
       "avg_percentage_credit_card_limit_used_last_year    -2.8494      0.030    -94.361      0.000      -2.909      -2.790\n",
       "currently_repaying_other_loans_1.0                 -1.4706      0.029    -50.794      0.000      -1.527      -1.414\n",
       "dependent_number                                   -0.1889      0.003    -65.044      0.000      -0.195      -0.183\n",
       "currently_repaying_other_loans_0.0                 -0.0788      0.017     -4.597      0.000      -0.112      -0.045\n",
       "loan_purpose_emergency_funds                       -0.7329      0.023    -32.503      0.000      -0.777      -0.689\n",
       "===================================================================================================================\n",
       "\"\"\""
      ]
     },
     "execution_count": 100,
     "metadata": {},
     "output_type": "execute_result"
    }
   ],
   "source": [
    "import statsmodels.api as sm\n",
    "logit = sm.Logit(y, X2)\n",
    "y = list(y)\n",
    "result = logit.fit()\n",
    "result.summary()"
   ]
  },
  {
   "cell_type": "markdown",
   "metadata": {},
   "source": [
    "if the borrower is employed, it will increase the odds of repaid by 65.67%."
   ]
  },
  {
   "cell_type": "markdown",
   "metadata": {},
   "source": [
    "if the average percentage credit card limit used last year increase 1 percent, it will decrease the odds of repaid by 284.94%, which is very huge impact."
   ]
  },
  {
   "cell_type": "markdown",
   "metadata": {},
   "source": [
    "more attributes: marriage, house owner, education, deliquency, inquery and etc..."
   ]
  }
 ],
 "metadata": {
  "kernelspec": {
   "display_name": "Python 2",
   "language": "python",
   "name": "python2"
  },
  "language_info": {
   "codemirror_mode": {
    "name": "ipython",
    "version": 2
   },
   "file_extension": ".py",
   "mimetype": "text/x-python",
   "name": "python",
   "nbconvert_exporter": "python",
   "pygments_lexer": "ipython2",
   "version": "2.7.13"
  }
 },
 "nbformat": 4,
 "nbformat_minor": 2
}
