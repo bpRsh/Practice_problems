{
 "cells": [
  {
   "cell_type": "code",
   "execution_count": 70,
   "metadata": {
    "collapsed": true
   },
   "outputs": [],
   "source": [
    "import itertools\n",
    "import numpy as np\n",
    "import pandas as pd\n",
    "\n",
    "from sklearn.cross_validation import train_test_split\n",
    "from sklearn.metrics import classification_report,accuracy_score\n",
    "from sklearn.metrics import roc_curve\n",
    "import xgboost as xgb\n",
    "\n",
    "import matplotlib.pyplot as plt\n",
    "plt.style.use('ggplot')\n",
    "%matplotlib inline"
   ]
  },
  {
   "cell_type": "code",
   "execution_count": 71,
   "metadata": {
    "collapsed": true
   },
   "outputs": [],
   "source": [
    "seed = 999 # seed to generate random numbers"
   ]
  },
  {
   "cell_type": "markdown",
   "metadata": {},
   "source": [
    "# Index\n",
    "* [Load the data](#Load-the-data)\n",
    "* [Generate target](#Generate-target)\n",
    "* [Feature Engineering](#Feature-Engineering)\n",
    "    * [Dealing previous loan history](#Dealing-previous-loan-history)\n",
    "    * [Employment information](#Employment-status-and-salary)\n",
    "    * [One-Hot-Encoding features](#One-Hot-Encoding-purpose)\n",
    "* [Train the model](#Train-the-model)\n",
    "* [Choose best probability cutoff](#Choose-best-probablity-cutoff)\n",
    "* [Re-train the model with all training data](#Re-train-the-model-with-all-training-data)\n",
    "* [Test](#Test)\n",
    "* [Feature importance](#Feature-importance)\n",
    "* [Extra useful features](#Extra-useful-features)\n",
    "* Answer Questions\n",
    "    * [Answer question 2](#Test)\n",
    "    * [Answer question 3](#q3)\n",
    "    * [Answer question 4](#Extra-useful-features)"
   ]
  },
  {
   "cell_type": "markdown",
   "metadata": {},
   "source": [
    "## Load the data"
   ]
  },
  {
   "cell_type": "code",
   "execution_count": 72,
   "metadata": {
    "collapsed": true
   },
   "outputs": [],
   "source": [
    "loan = pd.read_csv(\"loan_table.csv\",index_col='loan_id')\n",
    "# rename columns to short name, which is easier to visualize\n",
    "loan.rename(columns={'loan_purpose':'purpose',\n",
    "                     'loan_granted':'granted',\n",
    "                     'loan_repaid':'repaid'},inplace=True)\n",
    "loan['date'] = pd.to_datetime(loan.date)"
   ]
  },
  {
   "cell_type": "code",
   "execution_count": 73,
   "metadata": {
    "collapsed": true
   },
   "outputs": [],
   "source": [
    "borrower = pd.read_csv(\"borrower_table.csv\",index_col='loan_id')\n",
    "# rename columns to short name, which is easier to visualize\n",
    "borrower.rename(columns={'is_first_loan':'is_first',\n",
    "                         'fully_repaid_previous_loans':'repay_prev',\n",
    "                         'currently_repaying_other_loans':'paying_others',\n",
    "                         'total_credit_card_limit':'credit_limit',\n",
    "                         'avg_percentage_credit_card_limit_used_last_year':'credit_used',\n",
    "                         'saving_amount':'saving',\n",
    "                         'checking_amount':'checking',\n",
    "                         'yearly_salary':'salary',\n",
    "                         'dependent_number':'n_depends'},inplace=True)"
   ]
  },
  {
   "cell_type": "code",
   "execution_count": 74,
   "metadata": {
    "collapsed": true
   },
   "outputs": [],
   "source": [
    "# merge loan information and borrow information together\n",
    "loan = borrower.join(loan)"
   ]
  },
  {
   "cell_type": "code",
   "execution_count": 75,
   "metadata": {
    "collapsed": false
   },
   "outputs": [
    {
     "data": {
      "text/html": [
       "<div>\n",
       "<table border=\"1\" class=\"dataframe\">\n",
       "  <thead>\n",
       "    <tr style=\"text-align: right;\">\n",
       "      <th></th>\n",
       "      <th>is_first</th>\n",
       "      <th>repay_prev</th>\n",
       "      <th>paying_others</th>\n",
       "      <th>credit_limit</th>\n",
       "      <th>credit_used</th>\n",
       "      <th>saving</th>\n",
       "      <th>checking</th>\n",
       "      <th>is_employed</th>\n",
       "      <th>salary</th>\n",
       "      <th>age</th>\n",
       "      <th>n_depends</th>\n",
       "      <th>purpose</th>\n",
       "      <th>date</th>\n",
       "      <th>granted</th>\n",
       "      <th>repaid</th>\n",
       "    </tr>\n",
       "    <tr>\n",
       "      <th>loan_id</th>\n",
       "      <th></th>\n",
       "      <th></th>\n",
       "      <th></th>\n",
       "      <th></th>\n",
       "      <th></th>\n",
       "      <th></th>\n",
       "      <th></th>\n",
       "      <th></th>\n",
       "      <th></th>\n",
       "      <th></th>\n",
       "      <th></th>\n",
       "      <th></th>\n",
       "      <th></th>\n",
       "      <th></th>\n",
       "      <th></th>\n",
       "    </tr>\n",
       "  </thead>\n",
       "  <tbody>\n",
       "    <tr>\n",
       "      <th>520634</th>\n",
       "      <td>1</td>\n",
       "      <td>NaN</td>\n",
       "      <td>NaN</td>\n",
       "      <td>2300</td>\n",
       "      <td>1.09</td>\n",
       "      <td>1331</td>\n",
       "      <td>77</td>\n",
       "      <td>0</td>\n",
       "      <td>0</td>\n",
       "      <td>29</td>\n",
       "      <td>5</td>\n",
       "      <td>business</td>\n",
       "      <td>2012-05-18</td>\n",
       "      <td>0</td>\n",
       "      <td>NaN</td>\n",
       "    </tr>\n",
       "    <tr>\n",
       "      <th>443531</th>\n",
       "      <td>0</td>\n",
       "      <td>1.0</td>\n",
       "      <td>0.0</td>\n",
       "      <td>0</td>\n",
       "      <td>NaN</td>\n",
       "      <td>1782</td>\n",
       "      <td>2765</td>\n",
       "      <td>1</td>\n",
       "      <td>12200</td>\n",
       "      <td>54</td>\n",
       "      <td>8</td>\n",
       "      <td>business</td>\n",
       "      <td>2012-12-28</td>\n",
       "      <td>0</td>\n",
       "      <td>NaN</td>\n",
       "    </tr>\n",
       "    <tr>\n",
       "      <th>724078</th>\n",
       "      <td>0</td>\n",
       "      <td>1.0</td>\n",
       "      <td>1.0</td>\n",
       "      <td>1900</td>\n",
       "      <td>0.83</td>\n",
       "      <td>551</td>\n",
       "      <td>1565</td>\n",
       "      <td>0</td>\n",
       "      <td>0</td>\n",
       "      <td>57</td>\n",
       "      <td>8</td>\n",
       "      <td>home</td>\n",
       "      <td>2012-09-06</td>\n",
       "      <td>0</td>\n",
       "      <td>NaN</td>\n",
       "    </tr>\n",
       "    <tr>\n",
       "      <th>246830</th>\n",
       "      <td>1</td>\n",
       "      <td>NaN</td>\n",
       "      <td>NaN</td>\n",
       "      <td>4300</td>\n",
       "      <td>0.93</td>\n",
       "      <td>1266</td>\n",
       "      <td>6899</td>\n",
       "      <td>1</td>\n",
       "      <td>52000</td>\n",
       "      <td>38</td>\n",
       "      <td>4</td>\n",
       "      <td>home</td>\n",
       "      <td>2012-03-29</td>\n",
       "      <td>1</td>\n",
       "      <td>1.0</td>\n",
       "    </tr>\n",
       "    <tr>\n",
       "      <th>169360</th>\n",
       "      <td>0</td>\n",
       "      <td>1.0</td>\n",
       "      <td>0.0</td>\n",
       "      <td>2200</td>\n",
       "      <td>1.04</td>\n",
       "      <td>864</td>\n",
       "      <td>2060</td>\n",
       "      <td>1</td>\n",
       "      <td>29700</td>\n",
       "      <td>64</td>\n",
       "      <td>1</td>\n",
       "      <td>other</td>\n",
       "      <td>2012-11-19</td>\n",
       "      <td>0</td>\n",
       "      <td>NaN</td>\n",
       "    </tr>\n",
       "  </tbody>\n",
       "</table>\n",
       "</div>"
      ],
      "text/plain": [
       "         is_first  repay_prev  paying_others  credit_limit  credit_used  \\\n",
       "loan_id                                                                   \n",
       "520634          1         NaN            NaN          2300         1.09   \n",
       "443531          0         1.0            0.0             0          NaN   \n",
       "724078          0         1.0            1.0          1900         0.83   \n",
       "246830          1         NaN            NaN          4300         0.93   \n",
       "169360          0         1.0            0.0          2200         1.04   \n",
       "\n",
       "         saving  checking  is_employed  salary  age  n_depends   purpose  \\\n",
       "loan_id                                                                    \n",
       "520634     1331        77            0       0   29          5  business   \n",
       "443531     1782      2765            1   12200   54          8  business   \n",
       "724078      551      1565            0       0   57          8      home   \n",
       "246830     1266      6899            1   52000   38          4      home   \n",
       "169360      864      2060            1   29700   64          1     other   \n",
       "\n",
       "              date  granted  repaid  \n",
       "loan_id                              \n",
       "520634  2012-05-18        0     NaN  \n",
       "443531  2012-12-28        0     NaN  \n",
       "724078  2012-09-06        0     NaN  \n",
       "246830  2012-03-29        1     1.0  \n",
       "169360  2012-11-19        0     NaN  "
      ]
     },
     "execution_count": 75,
     "metadata": {},
     "output_type": "execute_result"
    }
   ],
   "source": [
    "loan.sample(5)# get a feeling about the data"
   ]
  },
  {
   "cell_type": "markdown",
   "metadata": {},
   "source": [
    "## Generate target"
   ]
  },
  {
   "cell_type": "code",
   "execution_count": 76,
   "metadata": {
    "collapsed": true
   },
   "outputs": [],
   "source": [
    "def calc_profit_and_should_grant(row):\n",
    "    \"\"\"\n",
    "    generate 'profit' and 'should_grant' target column according to rule:\n",
    "    1. if not granted, profit=0, should_grant=0\n",
    "    2. if granted and repaid, profit=1, should_grant=1\n",
    "    3. if granted and not repaid, profit=-1, should_grant=0\n",
    "    \"\"\"\n",
    "    granted = row['granted']\n",
    "    repaid = row['repaid']\n",
    "\n",
    "    profit = 0\n",
    "    should_grant = 0\n",
    "\n",
    "    if granted == 0:\n",
    "        profit = 0\n",
    "        should_grant = 0\n",
    "    else: # granted == 1\n",
    "        assert pd.notnull(repaid)\n",
    "        profit = 1 if repaid == 1 else -1\n",
    "        should_grant = 1 if repaid == 1 else 0\n",
    "\n",
    "    return pd.Series({'profit':profit,'should_grant':should_grant})"
   ]
  },
  {
   "cell_type": "code",
   "execution_count": 77,
   "metadata": {
    "collapsed": false
   },
   "outputs": [],
   "source": [
    "profits = loan.apply(calc_profit_and_should_grant,axis=1)"
   ]
  },
  {
   "cell_type": "code",
   "execution_count": 78,
   "metadata": {
    "collapsed": true
   },
   "outputs": [],
   "source": [
    "loan = loan.join(profits)# merget together"
   ]
  },
  {
   "cell_type": "code",
   "execution_count": 79,
   "metadata": {
    "collapsed": false
   },
   "outputs": [
    {
     "data": {
      "text/html": [
       "<div>\n",
       "<table border=\"1\" class=\"dataframe\">\n",
       "  <thead>\n",
       "    <tr style=\"text-align: right;\">\n",
       "      <th></th>\n",
       "      <th>is_first</th>\n",
       "      <th>repay_prev</th>\n",
       "      <th>paying_others</th>\n",
       "      <th>credit_limit</th>\n",
       "      <th>credit_used</th>\n",
       "      <th>saving</th>\n",
       "      <th>checking</th>\n",
       "      <th>is_employed</th>\n",
       "      <th>salary</th>\n",
       "      <th>age</th>\n",
       "      <th>n_depends</th>\n",
       "      <th>purpose</th>\n",
       "      <th>date</th>\n",
       "      <th>granted</th>\n",
       "      <th>repaid</th>\n",
       "      <th>profit</th>\n",
       "      <th>should_grant</th>\n",
       "    </tr>\n",
       "    <tr>\n",
       "      <th>loan_id</th>\n",
       "      <th></th>\n",
       "      <th></th>\n",
       "      <th></th>\n",
       "      <th></th>\n",
       "      <th></th>\n",
       "      <th></th>\n",
       "      <th></th>\n",
       "      <th></th>\n",
       "      <th></th>\n",
       "      <th></th>\n",
       "      <th></th>\n",
       "      <th></th>\n",
       "      <th></th>\n",
       "      <th></th>\n",
       "      <th></th>\n",
       "      <th></th>\n",
       "      <th></th>\n",
       "    </tr>\n",
       "  </thead>\n",
       "  <tbody>\n",
       "    <tr>\n",
       "      <th>130433</th>\n",
       "      <td>1</td>\n",
       "      <td>NaN</td>\n",
       "      <td>NaN</td>\n",
       "      <td>5100</td>\n",
       "      <td>0.56</td>\n",
       "      <td>1524</td>\n",
       "      <td>776</td>\n",
       "      <td>0</td>\n",
       "      <td>0</td>\n",
       "      <td>47</td>\n",
       "      <td>2</td>\n",
       "      <td>home</td>\n",
       "      <td>2012-05-29</td>\n",
       "      <td>0</td>\n",
       "      <td>NaN</td>\n",
       "      <td>0</td>\n",
       "      <td>0</td>\n",
       "    </tr>\n",
       "    <tr>\n",
       "      <th>471196</th>\n",
       "      <td>0</td>\n",
       "      <td>1.0</td>\n",
       "      <td>1.0</td>\n",
       "      <td>0</td>\n",
       "      <td>NaN</td>\n",
       "      <td>1049</td>\n",
       "      <td>2080</td>\n",
       "      <td>0</td>\n",
       "      <td>0</td>\n",
       "      <td>43</td>\n",
       "      <td>6</td>\n",
       "      <td>emergency_funds</td>\n",
       "      <td>2012-01-25</td>\n",
       "      <td>0</td>\n",
       "      <td>NaN</td>\n",
       "      <td>0</td>\n",
       "      <td>0</td>\n",
       "    </tr>\n",
       "    <tr>\n",
       "      <th>826887</th>\n",
       "      <td>0</td>\n",
       "      <td>1.0</td>\n",
       "      <td>1.0</td>\n",
       "      <td>5700</td>\n",
       "      <td>0.48</td>\n",
       "      <td>267</td>\n",
       "      <td>579</td>\n",
       "      <td>0</td>\n",
       "      <td>0</td>\n",
       "      <td>46</td>\n",
       "      <td>1</td>\n",
       "      <td>home</td>\n",
       "      <td>2012-08-09</td>\n",
       "      <td>0</td>\n",
       "      <td>NaN</td>\n",
       "      <td>0</td>\n",
       "      <td>0</td>\n",
       "    </tr>\n",
       "    <tr>\n",
       "      <th>70259</th>\n",
       "      <td>1</td>\n",
       "      <td>NaN</td>\n",
       "      <td>NaN</td>\n",
       "      <td>6600</td>\n",
       "      <td>0.35</td>\n",
       "      <td>1007</td>\n",
       "      <td>3904</td>\n",
       "      <td>1</td>\n",
       "      <td>53000</td>\n",
       "      <td>41</td>\n",
       "      <td>2</td>\n",
       "      <td>emergency_funds</td>\n",
       "      <td>2012-01-03</td>\n",
       "      <td>1</td>\n",
       "      <td>1.0</td>\n",
       "      <td>1</td>\n",
       "      <td>1</td>\n",
       "    </tr>\n",
       "    <tr>\n",
       "      <th>899105</th>\n",
       "      <td>0</td>\n",
       "      <td>1.0</td>\n",
       "      <td>0.0</td>\n",
       "      <td>2100</td>\n",
       "      <td>0.29</td>\n",
       "      <td>2217</td>\n",
       "      <td>2373</td>\n",
       "      <td>0</td>\n",
       "      <td>0</td>\n",
       "      <td>46</td>\n",
       "      <td>8</td>\n",
       "      <td>other</td>\n",
       "      <td>2012-10-08</td>\n",
       "      <td>0</td>\n",
       "      <td>NaN</td>\n",
       "      <td>0</td>\n",
       "      <td>0</td>\n",
       "    </tr>\n",
       "  </tbody>\n",
       "</table>\n",
       "</div>"
      ],
      "text/plain": [
       "         is_first  repay_prev  paying_others  credit_limit  credit_used  \\\n",
       "loan_id                                                                   \n",
       "130433          1         NaN            NaN          5100         0.56   \n",
       "471196          0         1.0            1.0             0          NaN   \n",
       "826887          0         1.0            1.0          5700         0.48   \n",
       "70259           1         NaN            NaN          6600         0.35   \n",
       "899105          0         1.0            0.0          2100         0.29   \n",
       "\n",
       "         saving  checking  is_employed  salary  age  n_depends  \\\n",
       "loan_id                                                          \n",
       "130433     1524       776            0       0   47          2   \n",
       "471196     1049      2080            0       0   43          6   \n",
       "826887      267       579            0       0   46          1   \n",
       "70259      1007      3904            1   53000   41          2   \n",
       "899105     2217      2373            0       0   46          8   \n",
       "\n",
       "                 purpose       date  granted  repaid  profit  should_grant  \n",
       "loan_id                                                                     \n",
       "130433              home 2012-05-29        0     NaN       0             0  \n",
       "471196   emergency_funds 2012-01-25        0     NaN       0             0  \n",
       "826887              home 2012-08-09        0     NaN       0             0  \n",
       "70259    emergency_funds 2012-01-03        1     1.0       1             1  \n",
       "899105             other 2012-10-08        0     NaN       0             0  "
      ]
     },
     "execution_count": 79,
     "metadata": {},
     "output_type": "execute_result"
    }
   ],
   "source": [
    "loan.sample(5)# browse the data, get a feeling about the data"
   ]
  },
  {
   "cell_type": "markdown",
   "metadata": {},
   "source": [
    "## Feature Engineering"
   ]
  },
  {
   "cell_type": "code",
   "execution_count": 80,
   "metadata": {
    "collapsed": true
   },
   "outputs": [],
   "source": [
    "X = loan.copy()"
   ]
  },
  {
   "cell_type": "markdown",
   "metadata": {},
   "source": [
    "### Dealing previous loan history\n",
    "there is some redundacy between 'is_first', 'repay_prev' and 'paying_other' features. if 'is_first'==1, then 'repay_prev' and 'paying_others' are both NaN for sure. \n",
    "\n",
    "since I am going to use tree model, which is good at dealing with 'categorical feature', so I will treat the tree features like below:\n",
    "1. set 'NaN' in 'reay_prev' and 'paying_others' as -1, which indicates the brower is asking for loan the first time\n",
    "2. discard 'is_first' feature, since its information has already been included in '-1' in 'repay_prev' and 'paying_others'\n",
    "\n",
    "in other words, <span style='color:orange;font-size:1.5em'>I treat 'repay_others' and 'paying_others' as categorical feature, and just use ordinary Ordinal Encoding other than more-often used One-Hot-Encoding</span>. why? because ** tree model looks for cutoff in numeric feature other than calculating the distance **, and there is only 3 unique values in the feature (-1,0,1), which is very easy to find cutoff to distinguish each category."
   ]
  },
  {
   "cell_type": "code",
   "execution_count": 81,
   "metadata": {
    "collapsed": false
   },
   "outputs": [],
   "source": [
    "X.fillna({'repay_prev':-1,'paying_others':-1},inplace=True)\n",
    "del X['is_first'] # redundant after filling missing in 'repay_prev' and 'paying_others'"
   ]
  },
  {
   "cell_type": "markdown",
   "metadata": {},
   "source": [
    "### Employment status and salary"
   ]
  },
  {
   "cell_type": "code",
   "execution_count": 82,
   "metadata": {
    "collapsed": false
   },
   "outputs": [
    {
     "data": {
      "text/plain": [
       "0    34508\n",
       "Name: salary, dtype: int64"
      ]
     },
     "execution_count": 82,
     "metadata": {},
     "output_type": "execute_result"
    }
   ],
   "source": [
    "X.loc[X.is_employed==0,'salary'].value_counts()"
   ]
  },
  {
   "cell_type": "code",
   "execution_count": 83,
   "metadata": {
    "collapsed": false
   },
   "outputs": [
    {
     "data": {
      "text/plain": [
       "0    34508\n",
       "1       13\n",
       "Name: is_employed, dtype: int64"
      ]
     },
     "execution_count": 83,
     "metadata": {},
     "output_type": "execute_result"
    }
   ],
   "source": [
    "X.loc[X.salary==0,'is_employed'].value_counts()"
   ]
  },
  {
   "cell_type": "markdown",
   "metadata": {},
   "source": [
    "from above result, we can know that:\n",
    "1. all unemployed has 0 salary\n",
    "2. most of the brower who doesn't have salary are unemployed\n",
    "\n",
    "<span style='color:orange;font-size:1.5em'>so there is redundancy between 'is_employed' and 'salary ==0 or not'. more features, more easier to get over-fitting. so I keep 'salary' and decide to drop 'is_employed'</span>"
   ]
  },
  {
   "cell_type": "code",
   "execution_count": 84,
   "metadata": {
    "collapsed": true
   },
   "outputs": [],
   "source": [
    "# redudant, since 'not employed' has salary=0\n",
    "# and, most employed has salary>0\n",
    "del X['is_employed'] "
   ]
  },
  {
   "cell_type": "markdown",
   "metadata": {},
   "source": [
    "### One-Hot-Encoding purpose\n",
    "\n",
    "since I am going to use train model, which can accept Ordinal Encoding of the categorical feature. However, since 'purpose' has 5 unique values, I think OHE can reduce the burden of tree."
   ]
  },
  {
   "cell_type": "code",
   "execution_count": 85,
   "metadata": {
    "collapsed": false
   },
   "outputs": [
    {
     "data": {
      "text/plain": [
       "home               24314\n",
       "business           21707\n",
       "investment         21484\n",
       "emergency_funds    18091\n",
       "other              15504\n",
       "Name: purpose, dtype: int64"
      ]
     },
     "execution_count": 85,
     "metadata": {},
     "output_type": "execute_result"
    }
   ],
   "source": [
    "X.purpose.value_counts()"
   ]
  },
  {
   "cell_type": "code",
   "execution_count": 86,
   "metadata": {
    "collapsed": true
   },
   "outputs": [],
   "source": [
    "# since 'purpose' is the only text column, get_dummies only OHE 'purpose'\n",
    "X = pd.get_dummies(X)\n",
    "\n",
    "# K unique values, only need K-1 features, so remove one redundant feature\n",
    "del X['purpose_other'] # redudant\n",
    "\n",
    "# rename to short names, which is easier to read\n",
    "X.rename(columns={'purpose_emergency_funds':'purpose_emergency'},inplace=True)"
   ]
  },
  {
   "cell_type": "code",
   "execution_count": 87,
   "metadata": {
    "collapsed": false
   },
   "outputs": [
    {
     "data": {
      "text/html": [
       "<div>\n",
       "<table border=\"1\" class=\"dataframe\">\n",
       "  <thead>\n",
       "    <tr style=\"text-align: right;\">\n",
       "      <th></th>\n",
       "      <th>repay_prev</th>\n",
       "      <th>paying_others</th>\n",
       "      <th>credit_limit</th>\n",
       "      <th>credit_used</th>\n",
       "      <th>saving</th>\n",
       "      <th>checking</th>\n",
       "      <th>salary</th>\n",
       "      <th>age</th>\n",
       "      <th>n_depends</th>\n",
       "      <th>date</th>\n",
       "      <th>granted</th>\n",
       "      <th>repaid</th>\n",
       "      <th>profit</th>\n",
       "      <th>should_grant</th>\n",
       "      <th>purpose_business</th>\n",
       "      <th>purpose_emergency</th>\n",
       "      <th>purpose_home</th>\n",
       "      <th>purpose_investment</th>\n",
       "    </tr>\n",
       "    <tr>\n",
       "      <th>loan_id</th>\n",
       "      <th></th>\n",
       "      <th></th>\n",
       "      <th></th>\n",
       "      <th></th>\n",
       "      <th></th>\n",
       "      <th></th>\n",
       "      <th></th>\n",
       "      <th></th>\n",
       "      <th></th>\n",
       "      <th></th>\n",
       "      <th></th>\n",
       "      <th></th>\n",
       "      <th></th>\n",
       "      <th></th>\n",
       "      <th></th>\n",
       "      <th></th>\n",
       "      <th></th>\n",
       "      <th></th>\n",
       "    </tr>\n",
       "  </thead>\n",
       "  <tbody>\n",
       "    <tr>\n",
       "      <th>305341</th>\n",
       "      <td>1.0</td>\n",
       "      <td>0.0</td>\n",
       "      <td>7100</td>\n",
       "      <td>0.88</td>\n",
       "      <td>531</td>\n",
       "      <td>3325</td>\n",
       "      <td>0</td>\n",
       "      <td>54</td>\n",
       "      <td>1</td>\n",
       "      <td>2012-11-14</td>\n",
       "      <td>1</td>\n",
       "      <td>0.0</td>\n",
       "      <td>-1</td>\n",
       "      <td>0</td>\n",
       "      <td>0.0</td>\n",
       "      <td>1.0</td>\n",
       "      <td>0.0</td>\n",
       "      <td>0.0</td>\n",
       "    </tr>\n",
       "    <tr>\n",
       "      <th>408806</th>\n",
       "      <td>-1.0</td>\n",
       "      <td>-1.0</td>\n",
       "      <td>4600</td>\n",
       "      <td>0.81</td>\n",
       "      <td>2450</td>\n",
       "      <td>8045</td>\n",
       "      <td>36000</td>\n",
       "      <td>36</td>\n",
       "      <td>2</td>\n",
       "      <td>2012-07-04</td>\n",
       "      <td>1</td>\n",
       "      <td>1.0</td>\n",
       "      <td>1</td>\n",
       "      <td>1</td>\n",
       "      <td>1.0</td>\n",
       "      <td>0.0</td>\n",
       "      <td>0.0</td>\n",
       "      <td>0.0</td>\n",
       "    </tr>\n",
       "    <tr>\n",
       "      <th>709338</th>\n",
       "      <td>-1.0</td>\n",
       "      <td>-1.0</td>\n",
       "      <td>6700</td>\n",
       "      <td>0.76</td>\n",
       "      <td>1116</td>\n",
       "      <td>749</td>\n",
       "      <td>0</td>\n",
       "      <td>27</td>\n",
       "      <td>7</td>\n",
       "      <td>2012-08-22</td>\n",
       "      <td>0</td>\n",
       "      <td>NaN</td>\n",
       "      <td>0</td>\n",
       "      <td>0</td>\n",
       "      <td>1.0</td>\n",
       "      <td>0.0</td>\n",
       "      <td>0.0</td>\n",
       "      <td>0.0</td>\n",
       "    </tr>\n",
       "    <tr>\n",
       "      <th>460125</th>\n",
       "      <td>1.0</td>\n",
       "      <td>0.0</td>\n",
       "      <td>3500</td>\n",
       "      <td>0.78</td>\n",
       "      <td>332</td>\n",
       "      <td>1197</td>\n",
       "      <td>27500</td>\n",
       "      <td>70</td>\n",
       "      <td>8</td>\n",
       "      <td>2012-09-03</td>\n",
       "      <td>1</td>\n",
       "      <td>0.0</td>\n",
       "      <td>-1</td>\n",
       "      <td>0</td>\n",
       "      <td>0.0</td>\n",
       "      <td>0.0</td>\n",
       "      <td>1.0</td>\n",
       "      <td>0.0</td>\n",
       "    </tr>\n",
       "    <tr>\n",
       "      <th>594934</th>\n",
       "      <td>-1.0</td>\n",
       "      <td>-1.0</td>\n",
       "      <td>1900</td>\n",
       "      <td>0.90</td>\n",
       "      <td>1188</td>\n",
       "      <td>1643</td>\n",
       "      <td>20900</td>\n",
       "      <td>26</td>\n",
       "      <td>1</td>\n",
       "      <td>2012-01-24</td>\n",
       "      <td>0</td>\n",
       "      <td>NaN</td>\n",
       "      <td>0</td>\n",
       "      <td>0</td>\n",
       "      <td>0.0</td>\n",
       "      <td>1.0</td>\n",
       "      <td>0.0</td>\n",
       "      <td>0.0</td>\n",
       "    </tr>\n",
       "  </tbody>\n",
       "</table>\n",
       "</div>"
      ],
      "text/plain": [
       "         repay_prev  paying_others  credit_limit  credit_used  saving  \\\n",
       "loan_id                                                                 \n",
       "305341          1.0            0.0          7100         0.88     531   \n",
       "408806         -1.0           -1.0          4600         0.81    2450   \n",
       "709338         -1.0           -1.0          6700         0.76    1116   \n",
       "460125          1.0            0.0          3500         0.78     332   \n",
       "594934         -1.0           -1.0          1900         0.90    1188   \n",
       "\n",
       "         checking  salary  age  n_depends       date  granted  repaid  profit  \\\n",
       "loan_id                                                                         \n",
       "305341       3325       0   54          1 2012-11-14        1     0.0      -1   \n",
       "408806       8045   36000   36          2 2012-07-04        1     1.0       1   \n",
       "709338        749       0   27          7 2012-08-22        0     NaN       0   \n",
       "460125       1197   27500   70          8 2012-09-03        1     0.0      -1   \n",
       "594934       1643   20900   26          1 2012-01-24        0     NaN       0   \n",
       "\n",
       "         should_grant  purpose_business  purpose_emergency  purpose_home  \\\n",
       "loan_id                                                                    \n",
       "305341              0               0.0                1.0           0.0   \n",
       "408806              1               1.0                0.0           0.0   \n",
       "709338              0               1.0                0.0           0.0   \n",
       "460125              0               0.0                0.0           1.0   \n",
       "594934              0               0.0                1.0           0.0   \n",
       "\n",
       "         purpose_investment  \n",
       "loan_id                      \n",
       "305341                  0.0  \n",
       "408806                  0.0  \n",
       "709338                  0.0  \n",
       "460125                  0.0  \n",
       "594934                  0.0  "
      ]
     },
     "execution_count": 87,
     "metadata": {},
     "output_type": "execute_result"
    }
   ],
   "source": [
    "X.sample(5)# check the data"
   ]
  },
  {
   "cell_type": "code",
   "execution_count": 89,
   "metadata": {
    "collapsed": true
   },
   "outputs": [],
   "source": [
    "X.to_csv(\"cleaned_loan.csv\",index_label='loan_id')"
   ]
  },
  {
   "cell_type": "markdown",
   "metadata": {},
   "source": [
    "## Train the model"
   ]
  },
  {
   "cell_type": "code",
   "execution_count": 91,
   "metadata": {
    "collapsed": false
   },
   "outputs": [],
   "source": [
    "y = X.loc[:,'should_grant']\n",
    "\n",
    "feature_names = ['repay_prev', 'paying_others', 'credit_limit', 'credit_used',\n",
    "                 'saving', 'checking', 'salary', 'age', 'n_depends', \n",
    "                 'purpose_business','purpose_emergency', 'purpose_home', 'purpose_investment']\n",
    "X = X.loc[:,feature_names]"
   ]
  },
  {
   "cell_type": "code",
   "execution_count": 101,
   "metadata": {
    "collapsed": false
   },
   "outputs": [
    {
     "data": {
      "text/plain": [
       "0    0.696281\n",
       "1    0.303719\n",
       "Name: should_grant, dtype: float64"
      ]
     },
     "execution_count": 101,
     "metadata": {},
     "output_type": "execute_result"
    }
   ],
   "source": [
    "y.value_counts(normalize=True)"
   ]
  },
  {
   "cell_type": "markdown",
   "metadata": {},
   "source": [
    "positive class 'should_grant=1' consists of about 30% of all examples, there is some imbalance in the dataset. so \n",
    "* ** we should use AUC other than accuracy when learning the model, and **\n",
    "* ** we need to choose a better 'probability cutoff' instead of using the default 0.5 **\n",
    "\n",
    "split the whole dataset into Training, Validation, Test three parts, and build DMatrix which will be used in xgboost"
   ]
  },
  {
   "cell_type": "code",
   "execution_count": 92,
   "metadata": {
    "collapsed": true
   },
   "outputs": [],
   "source": [
    "# split as training and test\n",
    "Xtrain,Xtest,ytrain,ytest = train_test_split(X,y,test_size=0.3,random_state=seed)\n",
    "\n",
    "# split the training data as training and test\n",
    "Xtrain,Xvalid,ytrain,yvalid =  train_test_split(Xtrain,ytrain,test_size=0.3,random_state=seed)"
   ]
  },
  {
   "cell_type": "code",
   "execution_count": 94,
   "metadata": {
    "collapsed": true
   },
   "outputs": [],
   "source": [
    "train_matrix = xgb.DMatrix(Xtrain,ytrain)\n",
    "valid_matrix = xgb.DMatrix(Xvalid,yvalid)\n",
    "test_matrix = xgb.DMatrix(Xtest,ytest)"
   ]
  },
  {
   "cell_type": "code",
   "execution_count": 95,
   "metadata": {
    "collapsed": true
   },
   "outputs": [],
   "source": [
    "def train(params):\n",
    "    params['silent'] = 1\n",
    "    params['objective'] = 'binary:logistic'  # output probabilities\n",
    "    params['eval_metric'] = 'auc'\n",
    "\n",
    "    num_rounds = params[\"num_rounds\"]\n",
    "    early_stopping_rounds = params[\"early_stop_rounds\"]\n",
    "\n",
    "    # early stop will check on the last dataset\n",
    "    watchlist = [(train_matrix, 'train'), (valid_matrix, 'validate')]\n",
    "    bst = xgb.train(params, train_matrix, num_rounds, watchlist, early_stopping_rounds=early_stopping_rounds)\n",
    "\n",
    "    print \"parameters: {}\".format(params)\n",
    "    print \"best {}: {:.2f}\".format(params[\"eval_metric\"], bst.best_score)\n",
    "    print \"best #trees: %d\" % (bst.best_ntree_limit)\n",
    "\n",
    "    return bst"
   ]
  },
  {
   "cell_type": "code",
   "execution_count": 96,
   "metadata": {
    "collapsed": false
   },
   "outputs": [
    {
     "name": "stdout",
     "output_type": "stream",
     "text": [
      "[0]\ttrain-auc:0.879477\tvalidate-auc:0.876501\n",
      "Multiple eval metrics have been passed: 'validate-auc' will be used for early stopping.\n",
      "\n",
      "Will train until validate-auc hasn't improved in 30 rounds.\n",
      "[1]\ttrain-auc:0.889829\tvalidate-auc:0.885835\n",
      "[2]\ttrain-auc:0.895074\tvalidate-auc:0.891695\n",
      "[3]\ttrain-auc:0.89663\tvalidate-auc:0.893456\n",
      "[4]\ttrain-auc:0.896201\tvalidate-auc:0.891792\n",
      "[5]\ttrain-auc:0.897164\tvalidate-auc:0.893134\n",
      "[6]\ttrain-auc:0.896527\tvalidate-auc:0.892372\n",
      "[7]\ttrain-auc:0.897263\tvalidate-auc:0.893369\n",
      "[8]\ttrain-auc:0.898349\tvalidate-auc:0.894289\n",
      "[9]\ttrain-auc:0.898834\tvalidate-auc:0.894812\n",
      "[10]\ttrain-auc:0.899565\tvalidate-auc:0.895068\n",
      "[11]\ttrain-auc:0.900131\tvalidate-auc:0.894735\n",
      "[12]\ttrain-auc:0.900612\tvalidate-auc:0.894901\n",
      "[13]\ttrain-auc:0.901152\tvalidate-auc:0.894882\n",
      "[14]\ttrain-auc:0.901312\tvalidate-auc:0.894868\n",
      "[15]\ttrain-auc:0.901823\tvalidate-auc:0.894979\n",
      "[16]\ttrain-auc:0.902041\tvalidate-auc:0.894823\n",
      "[17]\ttrain-auc:0.90257\tvalidate-auc:0.895424\n",
      "[18]\ttrain-auc:0.902853\tvalidate-auc:0.895709\n",
      "[19]\ttrain-auc:0.903323\tvalidate-auc:0.895616\n",
      "[20]\ttrain-auc:0.903786\tvalidate-auc:0.895715\n",
      "[21]\ttrain-auc:0.904168\tvalidate-auc:0.895796\n",
      "[22]\ttrain-auc:0.904599\tvalidate-auc:0.896021\n",
      "[23]\ttrain-auc:0.904946\tvalidate-auc:0.895961\n",
      "[24]\ttrain-auc:0.9052\tvalidate-auc:0.895952\n",
      "[25]\ttrain-auc:0.905326\tvalidate-auc:0.896005\n",
      "[26]\ttrain-auc:0.90547\tvalidate-auc:0.89594\n",
      "[27]\ttrain-auc:0.905587\tvalidate-auc:0.895947\n",
      "[28]\ttrain-auc:0.90603\tvalidate-auc:0.89619\n",
      "[29]\ttrain-auc:0.9061\tvalidate-auc:0.896252\n",
      "[30]\ttrain-auc:0.906615\tvalidate-auc:0.896221\n",
      "[31]\ttrain-auc:0.906997\tvalidate-auc:0.896334\n",
      "[32]\ttrain-auc:0.907289\tvalidate-auc:0.896235\n",
      "[33]\ttrain-auc:0.90744\tvalidate-auc:0.896161\n",
      "[34]\ttrain-auc:0.907713\tvalidate-auc:0.896282\n",
      "[35]\ttrain-auc:0.908015\tvalidate-auc:0.896262\n",
      "[36]\ttrain-auc:0.908337\tvalidate-auc:0.896231\n",
      "[37]\ttrain-auc:0.90855\tvalidate-auc:0.896305\n",
      "[38]\ttrain-auc:0.908824\tvalidate-auc:0.89635\n",
      "[39]\ttrain-auc:0.909008\tvalidate-auc:0.89638\n",
      "[40]\ttrain-auc:0.909127\tvalidate-auc:0.896469\n",
      "[41]\ttrain-auc:0.90941\tvalidate-auc:0.896359\n",
      "[42]\ttrain-auc:0.909612\tvalidate-auc:0.896281\n",
      "[43]\ttrain-auc:0.909727\tvalidate-auc:0.896319\n",
      "[44]\ttrain-auc:0.909884\tvalidate-auc:0.89631\n",
      "[45]\ttrain-auc:0.910156\tvalidate-auc:0.896416\n",
      "[46]\ttrain-auc:0.910848\tvalidate-auc:0.89643\n",
      "[47]\ttrain-auc:0.911039\tvalidate-auc:0.896395\n",
      "[48]\ttrain-auc:0.911394\tvalidate-auc:0.896431\n",
      "[49]\ttrain-auc:0.912086\tvalidate-auc:0.89655\n",
      "[50]\ttrain-auc:0.912506\tvalidate-auc:0.896531\n",
      "[51]\ttrain-auc:0.912862\tvalidate-auc:0.896572\n",
      "[52]\ttrain-auc:0.91308\tvalidate-auc:0.896536\n",
      "[53]\ttrain-auc:0.913319\tvalidate-auc:0.89652\n",
      "[54]\ttrain-auc:0.9138\tvalidate-auc:0.896757\n",
      "[55]\ttrain-auc:0.913915\tvalidate-auc:0.896782\n",
      "[56]\ttrain-auc:0.914148\tvalidate-auc:0.89686\n",
      "[57]\ttrain-auc:0.914528\tvalidate-auc:0.896858\n",
      "[58]\ttrain-auc:0.914877\tvalidate-auc:0.897009\n",
      "[59]\ttrain-auc:0.915382\tvalidate-auc:0.897089\n",
      "[60]\ttrain-auc:0.915802\tvalidate-auc:0.897211\n",
      "[61]\ttrain-auc:0.916114\tvalidate-auc:0.897248\n",
      "[62]\ttrain-auc:0.916291\tvalidate-auc:0.897247\n",
      "[63]\ttrain-auc:0.916775\tvalidate-auc:0.89747\n",
      "[64]\ttrain-auc:0.917089\tvalidate-auc:0.89749\n",
      "[65]\ttrain-auc:0.91716\tvalidate-auc:0.897495\n",
      "[66]\ttrain-auc:0.917575\tvalidate-auc:0.897533\n",
      "[67]\ttrain-auc:0.917848\tvalidate-auc:0.89771\n",
      "[68]\ttrain-auc:0.918429\tvalidate-auc:0.897802\n",
      "[69]\ttrain-auc:0.918624\tvalidate-auc:0.897886\n",
      "[70]\ttrain-auc:0.91912\tvalidate-auc:0.897787\n",
      "[71]\ttrain-auc:0.919555\tvalidate-auc:0.897653\n",
      "[72]\ttrain-auc:0.919846\tvalidate-auc:0.897744\n",
      "[73]\ttrain-auc:0.92037\tvalidate-auc:0.897828\n",
      "[74]\ttrain-auc:0.920778\tvalidate-auc:0.897941\n",
      "[75]\ttrain-auc:0.92108\tvalidate-auc:0.897893\n",
      "[76]\ttrain-auc:0.921538\tvalidate-auc:0.897862\n",
      "[77]\ttrain-auc:0.921608\tvalidate-auc:0.897918\n",
      "[78]\ttrain-auc:0.921835\tvalidate-auc:0.897912\n",
      "[79]\ttrain-auc:0.922137\tvalidate-auc:0.897931\n",
      "[80]\ttrain-auc:0.922309\tvalidate-auc:0.897906\n",
      "[81]\ttrain-auc:0.922709\tvalidate-auc:0.897833\n",
      "[82]\ttrain-auc:0.923156\tvalidate-auc:0.897747\n",
      "[83]\ttrain-auc:0.923512\tvalidate-auc:0.897808\n",
      "[84]\ttrain-auc:0.923839\tvalidate-auc:0.897762\n",
      "[85]\ttrain-auc:0.924179\tvalidate-auc:0.897616\n",
      "[86]\ttrain-auc:0.924658\tvalidate-auc:0.897558\n",
      "[87]\ttrain-auc:0.924722\tvalidate-auc:0.897454\n",
      "[88]\ttrain-auc:0.924966\tvalidate-auc:0.897438\n",
      "[89]\ttrain-auc:0.925301\tvalidate-auc:0.897393\n",
      "[90]\ttrain-auc:0.925521\tvalidate-auc:0.897367\n",
      "[91]\ttrain-auc:0.92563\tvalidate-auc:0.897316\n",
      "[92]\ttrain-auc:0.925752\tvalidate-auc:0.89731\n",
      "[93]\ttrain-auc:0.926024\tvalidate-auc:0.897318\n",
      "[94]\ttrain-auc:0.926288\tvalidate-auc:0.89734\n",
      "[95]\ttrain-auc:0.926359\tvalidate-auc:0.897284\n",
      "[96]\ttrain-auc:0.926698\tvalidate-auc:0.897333\n",
      "[97]\ttrain-auc:0.927112\tvalidate-auc:0.897376\n",
      "[98]\ttrain-auc:0.927335\tvalidate-auc:0.897454\n",
      "[99]\ttrain-auc:0.927575\tvalidate-auc:0.897333\n",
      "[100]\ttrain-auc:0.927803\tvalidate-auc:0.897401\n",
      "[101]\ttrain-auc:0.928105\tvalidate-auc:0.89744\n",
      "[102]\ttrain-auc:0.928461\tvalidate-auc:0.897441\n",
      "[103]\ttrain-auc:0.9286\tvalidate-auc:0.897386\n",
      "[104]\ttrain-auc:0.928827\tvalidate-auc:0.897329\n",
      "Stopping. Best iteration:\n",
      "[74]\ttrain-auc:0.920778\tvalidate-auc:0.897941\n",
      "\n",
      "parameters: {'colsample_bytree': 0.8, 'silent': 1, 'eval_metric': 'auc', 'early_stop_rounds': 30, 'num_rounds': 300, 'subsample': 0.8, 'eta': 0.1, 'objective': 'binary:logistic', 'max_depth': 6}\n",
      "best auc: 0.90\n",
      "best_iteration: 74\n"
     ]
    }
   ],
   "source": [
    "# ------------- prepare parameters\n",
    "params = {}\n",
    "params[\"num_rounds\"] = 300\n",
    "params[\"early_stop_rounds\"] = 30\n",
    "# params['min_child_weight'] = 2\n",
    "params['max_depth'] = 6\n",
    "params['eta'] = 0.1\n",
    "params[\"subsample\"] = 0.8\n",
    "params[\"colsample_bytree\"] = 0.8\n",
    "\n",
    "# ------------- train with xgboost\n",
    "bst = train(params)"
   ]
  },
  {
   "cell_type": "code",
   "execution_count": 98,
   "metadata": {
    "collapsed": false
   },
   "outputs": [
    {
     "data": {
      "text/plain": [
       "74"
      ]
     },
     "execution_count": 98,
     "metadata": {},
     "output_type": "execute_result"
    }
   ],
   "source": [
    "n_trees = bst.best_ntree_limit\n",
    "n_trees"
   ]
  },
  {
   "cell_type": "markdown",
   "metadata": {},
   "source": [
    "## Choose best probablity cutoff\n",
    "\n",
    "I am going to find best 'probability cutoff' on validation set's ROC curve."
   ]
  },
  {
   "cell_type": "code",
   "execution_count": 99,
   "metadata": {
    "collapsed": true
   },
   "outputs": [],
   "source": [
    "yvalid_true = valid_matrix.get_label()\n",
    "yvalid_pred_probas = bst.predict(valid_matrix, ntree_limit=bst.best_ntree_limit)\n",
    "\n",
    "fpr,tpr,thresholds = roc_curve(yvalid_true,yvalid_pred_probas)\n",
    "roc = pd.DataFrame({'FPR':fpr,'TPR':tpr,'Thresholds':thresholds})"
   ]
  },
  {
   "cell_type": "markdown",
   "metadata": {},
   "source": [
    "I am going to loop every possible threshold, and find the one which returns the highest profit."
   ]
  },
  {
   "cell_type": "code",
   "execution_count": 105,
   "metadata": {
    "collapsed": true
   },
   "outputs": [],
   "source": [
    "def calc_profits(repaids,probas,threshold):\n",
    "    total_profit = 0\n",
    "    for (repaid,proba) in itertools.izip(repaids,probas):\n",
    "        if proba > threshold:\n",
    "            # it is possible for repaid=NaN\n",
    "            # which means, my model grant loan to a borrower whose application was rejected under old model\n",
    "            # the question doesn't clarify how to calculate profit for such case.\n",
    "            # however, since most 'rejected borrowers' were considered unlikely to repay by old model\n",
    "            # so I also think such people are very unlikely to repay even were granted\n",
    "            # so their profit are also -1, the same as 'granted but unable to repay'\n",
    "            total_profit += (1 if repaid == 1 else -1)\n",
    "    return total_profit"
   ]
  },
  {
   "cell_type": "code",
   "execution_count": 106,
   "metadata": {
    "collapsed": true
   },
   "outputs": [],
   "source": [
    "# all examples in validation sets\n",
    "loan_valid = loan.loc[yvalid.index,:]\n",
    "\n",
    "# calculate profits under each candidate cutoff\n",
    "valid_profits = [ calc_profits(loan_valid.repaid,yvalid_pred_probas,threshold) for threshold in roc.Thresholds]"
   ]
  },
  {
   "cell_type": "code",
   "execution_count": 120,
   "metadata": {
    "collapsed": false
   },
   "outputs": [
    {
     "data": {
      "image/png": "[encoded data removed]",
      "text/plain": [
       "<matplotlib.figure.Figure at 0x11d287850>"
      ]
     },
     "metadata": {},
     "output_type": "display_data"
    }
   ],
   "source": [
    "plt.plot(roc.Thresholds,valid_profits)\n",
    "plt.yticks(xrange(-10000,4000,1000))\n",
    "_ = plt.xticks(np.linspace(0,1,11))\n",
    "plt.rc('figure',figsize=(5,5))"
   ]
  },
  {
   "cell_type": "markdown",
   "metadata": {},
   "source": [
    "from above plot, we know that, the best probability cutoff should be around 0.4, which can proved by following codes"
   ]
  },
  {
   "cell_type": "code",
   "execution_count": 116,
   "metadata": {
    "collapsed": false
   },
   "outputs": [
    {
     "data": {
      "text/plain": [
       "profit       3140.000000\n",
       "threshold       0.440462\n",
       "Name: 3297, dtype: float32"
      ]
     },
     "execution_count": 116,
     "metadata": {},
     "output_type": "execute_result"
    }
   ],
   "source": [
    "valid_threshold_profits = pd.DataFrame({'threshold':roc.Thresholds,'profit':valid_profits})\n",
    "temp = valid_threshold_profits.loc[  valid_threshold_profits.profit.argmax()   ,:]\n",
    "temp"
   ]
  },
  {
   "cell_type": "code",
   "execution_count": 117,
   "metadata": {
    "collapsed": false
   },
   "outputs": [
    {
     "data": {
      "text/plain": [
       "0.44046205"
      ]
     },
     "execution_count": 117,
     "metadata": {},
     "output_type": "execute_result"
    }
   ],
   "source": [
    "proba_threshold = temp['threshold']\n",
    "proba_threshold"
   ]
  },
  {
   "cell_type": "code",
   "execution_count": 144,
   "metadata": {
    "collapsed": false
   },
   "outputs": [
    {
     "data": {
      "text/plain": [
       "<matplotlib.legend.Legend at 0x127bd1210>"
      ]
     },
     "execution_count": 144,
     "metadata": {},
     "output_type": "execute_result"
    },
    {
     "data": {
      "image/png": "[encoded data removed]",
      "text/plain": [
       "<matplotlib.figure.Figure at 0x127baca90>"
      ]
     },
     "metadata": {},
     "output_type": "display_data"
    }
   ],
   "source": [
    "# plot ROC\n",
    "plt.plot(roc.FPR,roc.TPR,label='ROC')\n",
    "plt.xlabel(\"FPR\")\n",
    "plt.ylabel('TPR')\n",
    "\n",
    "ticks = np.linspace(0,1,11)\n",
    "plt.yticks(ticks)\n",
    "plt.xticks(ticks)\n",
    "\n",
    "# plot best thresholds\n",
    "best_cutoffs = roc.loc[ (roc.Thresholds > 0.43) & (roc.Thresholds < 0.44),:]\n",
    "plt.scatter(best_cutoffs.FPR,best_cutoffs.TPR,c='k',s=50,label='best cutoff')\n",
    "\n",
    "plt.rc('figure',figsize=(10,5))\n",
    "plt.legend(loc='best')"
   ]
  },
  {
   "cell_type": "markdown",
   "metadata": {},
   "source": [
    "## Re-train the model with all training data\n",
    "\n",
    "combine training data and validation set together, train with the best parameters found. this can improve the model."
   ]
  },
  {
   "cell_type": "code",
   "execution_count": 121,
   "metadata": {
    "collapsed": true
   },
   "outputs": [],
   "source": [
    "# combine training set and validation set together\n",
    "Xalltrain = pd.concat([Xtrain,Xvalid],axis=0)\n",
    "yalltrain = pd.concat([ytrain,yvalid],axis=0)\n",
    "alltrain_matrix = xgb.DMatrix(Xalltrain,yalltrain)"
   ]
  },
  {
   "cell_type": "code",
   "execution_count": 123,
   "metadata": {
    "collapsed": false
   },
   "outputs": [
    {
     "data": {
      "text/plain": [
       "{'colsample_bytree': 0.8,\n",
       " 'early_stop_rounds': 30,\n",
       " 'eta': 0.1,\n",
       " 'eval_metric': 'auc',\n",
       " 'max_depth': 6,\n",
       " 'num_rounds': 300,\n",
       " 'objective': 'binary:logistic',\n",
       " 'silent': 1,\n",
       " 'subsample': 0.8}"
      ]
     },
     "execution_count": 123,
     "metadata": {},
     "output_type": "execute_result"
    }
   ],
   "source": [
    "# check the parameters\n",
    "params"
   ]
  },
  {
   "cell_type": "code",
   "execution_count": 126,
   "metadata": {
    "collapsed": false
   },
   "outputs": [
    {
     "data": {
      "text/plain": [
       "74"
      ]
     },
     "execution_count": 126,
     "metadata": {},
     "output_type": "execute_result"
    }
   ],
   "source": [
    "# best number of trees\n",
    "n_trees"
   ]
  },
  {
   "cell_type": "code",
   "execution_count": 127,
   "metadata": {
    "collapsed": false
   },
   "outputs": [
    {
     "name": "stdout",
     "output_type": "stream",
     "text": [
      "[0]\ttrain-auc:0.888415\n",
      "[1]\ttrain-auc:0.892295\n",
      "[2]\ttrain-auc:0.894753\n",
      "[3]\ttrain-auc:0.894885\n",
      "[4]\ttrain-auc:0.895281\n",
      "[5]\ttrain-auc:0.895747\n",
      "[6]\ttrain-auc:0.896952\n",
      "[7]\ttrain-auc:0.897795\n",
      "[8]\ttrain-auc:0.898369\n",
      "[9]\ttrain-auc:0.898528\n",
      "[10]\ttrain-auc:0.898974\n",
      "[11]\ttrain-auc:0.899198\n",
      "[12]\ttrain-auc:0.899613\n",
      "[13]\ttrain-auc:0.89992\n",
      "[14]\ttrain-auc:0.900229\n",
      "[15]\ttrain-auc:0.900323\n",
      "[16]\ttrain-auc:0.900609\n",
      "[17]\ttrain-auc:0.900917\n",
      "[18]\ttrain-auc:0.90116\n",
      "[19]\ttrain-auc:0.901616\n",
      "[20]\ttrain-auc:0.90223\n",
      "[21]\ttrain-auc:0.902498\n",
      "[22]\ttrain-auc:0.902791\n",
      "[23]\ttrain-auc:0.903069\n",
      "[24]\ttrain-auc:0.903262\n",
      "[25]\ttrain-auc:0.903646\n",
      "[26]\ttrain-auc:0.903862\n",
      "[27]\ttrain-auc:0.904081\n",
      "[28]\ttrain-auc:0.904212\n",
      "[29]\ttrain-auc:0.904196\n",
      "[30]\ttrain-auc:0.904578\n",
      "[31]\ttrain-auc:0.905001\n",
      "[32]\ttrain-auc:0.905515\n",
      "[33]\ttrain-auc:0.905761\n",
      "[34]\ttrain-auc:0.905875\n",
      "[35]\ttrain-auc:0.906026\n",
      "[36]\ttrain-auc:0.90618\n",
      "[37]\ttrain-auc:0.906323\n",
      "[38]\ttrain-auc:0.90656\n",
      "[39]\ttrain-auc:0.906688\n",
      "[40]\ttrain-auc:0.906947\n",
      "[41]\ttrain-auc:0.907298\n",
      "[42]\ttrain-auc:0.90763\n",
      "[43]\ttrain-auc:0.907868\n",
      "[44]\ttrain-auc:0.908004\n",
      "[45]\ttrain-auc:0.908115\n",
      "[46]\ttrain-auc:0.908388\n",
      "[47]\ttrain-auc:0.908882\n",
      "[48]\ttrain-auc:0.909076\n",
      "[49]\ttrain-auc:0.909272\n",
      "[50]\ttrain-auc:0.909511\n",
      "[51]\ttrain-auc:0.91003\n",
      "[52]\ttrain-auc:0.910267\n",
      "[53]\ttrain-auc:0.91049\n",
      "[54]\ttrain-auc:0.910599\n",
      "[55]\ttrain-auc:0.910844\n",
      "[56]\ttrain-auc:0.911078\n",
      "[57]\ttrain-auc:0.91149\n",
      "[58]\ttrain-auc:0.911898\n",
      "[59]\ttrain-auc:0.912162\n",
      "[60]\ttrain-auc:0.912776\n",
      "[61]\ttrain-auc:0.913017\n",
      "[62]\ttrain-auc:0.913297\n",
      "[63]\ttrain-auc:0.913376\n",
      "[64]\ttrain-auc:0.913871\n",
      "[65]\ttrain-auc:0.914105\n",
      "[66]\ttrain-auc:0.914328\n",
      "[67]\ttrain-auc:0.914784\n",
      "[68]\ttrain-auc:0.915594\n",
      "[69]\ttrain-auc:0.915628\n",
      "[70]\ttrain-auc:0.916034\n",
      "[71]\ttrain-auc:0.916337\n",
      "[72]\ttrain-auc:0.91677\n",
      "[73]\ttrain-auc:0.917293\n"
     ]
    }
   ],
   "source": [
    "watchlist = [(alltrain_matrix, 'train')]\n",
    "all_bst = xgb.train(params, alltrain_matrix, n_trees,watchlist)"
   ]
  },
  {
   "cell_type": "markdown",
   "metadata": {},
   "source": [
    "## Test"
   ]
  },
  {
   "cell_type": "code",
   "execution_count": 128,
   "metadata": {
    "collapsed": true
   },
   "outputs": [],
   "source": [
    "ytest_pred_probas = all_bst.predict(test_matrix, ntree_limit=n_trees)\n",
    "ytest_pred = (ytest_pred_probas > proba_threshold).astype(int)"
   ]
  },
  {
   "cell_type": "code",
   "execution_count": 129,
   "metadata": {
    "collapsed": false
   },
   "outputs": [
    {
     "name": "stdout",
     "output_type": "stream",
     "text": [
      "test accuracy:  0.842762940983\n"
     ]
    }
   ],
   "source": [
    "print \"test accuracy: \",accuracy_score(ytest,ytest_pred)"
   ]
  },
  {
   "cell_type": "code",
   "execution_count": 130,
   "metadata": {
    "collapsed": false
   },
   "outputs": [
    {
     "name": "stdout",
     "output_type": "stream",
     "text": [
      "             precision    recall  f1-score   support\n",
      "\n",
      "          0       0.93      0.83      0.88     21161\n",
      "          1       0.69      0.87      0.77      9169\n",
      "\n",
      "avg / total       0.86      0.84      0.85     30330\n",
      "\n"
     ]
    }
   ],
   "source": [
    "print classification_report(ytest,ytest_pred)"
   ]
  },
  {
   "cell_type": "code",
   "execution_count": 132,
   "metadata": {
    "collapsed": false
   },
   "outputs": [
    {
     "data": {
      "text/plain": [
       "4130"
      ]
     },
     "execution_count": 132,
     "metadata": {},
     "output_type": "execute_result"
    }
   ],
   "source": [
    "# profit under old model\n",
    "loan_test = loan.loc[ytest.index,:]\n",
    "old_profit = loan_test.profit.sum()\n",
    "old_profit"
   ]
  },
  {
   "cell_type": "code",
   "execution_count": 134,
   "metadata": {
    "collapsed": false
   },
   "outputs": [
    {
     "data": {
      "text/plain": [
       "4400"
      ]
     },
     "execution_count": 134,
     "metadata": {},
     "output_type": "execute_result"
    }
   ],
   "source": [
    "# profit under new model\n",
    "new_profit = calc_profits(loan_test.repaid,ytest_pred_probas,proba_threshold)\n",
    "new_profit"
   ]
  },
  {
   "cell_type": "markdown",
   "metadata": {},
   "source": [
    "from above result, <span style='color:orange;font-weight:bold;font-size:1.5em'>the model yields a profit as 4130, while my new model can yield a profit as 4400, improved 6.5%.</span>"
   ]
  },
  {
   "cell_type": "markdown",
   "metadata": {},
   "source": [
    "## Feature importance"
   ]
  },
  {
   "cell_type": "code",
   "execution_count": 146,
   "metadata": {
    "collapsed": false
   },
   "outputs": [
    {
     "data": {
      "text/plain": [
       "<matplotlib.axes._subplots.AxesSubplot at 0x1285c3f50>"
      ]
     },
     "execution_count": 146,
     "metadata": {},
     "output_type": "execute_result"
    },
    {
     "data": {
      "image/png": "[encoded data removed]",
      "text/plain": [
       "<matplotlib.figure.Figure at 0x1285187d0>"
      ]
     },
     "metadata": {},
     "output_type": "display_data"
    }
   ],
   "source": [
    "xgb.plot_importance(all_bst,title='Feature Importance')"
   ]
  },
  {
   "cell_type": "markdown",
   "metadata": {},
   "source": [
    "<a id='q3'></a>** Answer Question 3 **, *\"Describe the impact of the most important variables on the prediction. Also, focus on the variable \"is_employed\", which describes whether the borrower is employed when she asks for the loan. How does this variable impact the model? Explain why\"*\n",
    "\n",
    "according to above plot, the most important feature is 'saving amount'. This makes perfect sense. Money in the saving account, meaure a person's ability to control his financial situation. More money in the saving account, more likely the borrower can repay.\n",
    "\n",
    "as I mentioned, in my model, 'is_employed' is merged into feature 'salary', which correspond to the case 'salary=0'. according to above plot, salary is also a strong feature. \n",
    "* if not employed, then salary=0, which will impact negatively on 'grant decision'. that is very easy to understand, a person without any financial input, will be very unlikely to repay.\n",
    "* but even the person is employed, whether grant the loan or not, depends on his salary. higher salary indicates strong ability to repay."
   ]
  },
  {
   "cell_type": "markdown",
   "metadata": {},
   "source": [
    "## Extra useful features\n",
    "** Answer Question 4: ** * \"Are there any other variables, not in the data provided, that you'd have liked to include in the model?\" *\n",
    "\n",
    "some useful feature which may include:\n",
    "1. marriage status. \n",
    "    * Because even a borrow cannot repay, if he/she is married, his/her spouse can help to repay.\n",
    "2. housing status, has his/her own house, or rent appartments? if renting, how much is monthly rent?\n",
    "    * Because even the borrower cannot repay, if he/she has house, the house can be sold to repay the debt\n",
    "3. educational level\n",
    "    * normally a person who received higher education, has stronger capability to earn money to repay, and has higher moral standard to repay."
   ]
  },
  {
   "cell_type": "code",
   "execution_count": null,
   "metadata": {
    "collapsed": true
   },
   "outputs": [],
   "source": []
  }
 ],
 "metadata": {
  "anaconda-cloud": {},
  "kernelspec": {
   "display_name": "Python [Root]",
   "language": "python",
   "name": "Python [Root]"
  },
  "language_info": {
   "codemirror_mode": {
    "name": "ipython",
    "version": 2
   },
   "file_extension": ".py",
   "mimetype": "text/x-python",
   "name": "python",
   "nbconvert_exporter": "python",
   "pygments_lexer": "ipython2",
   "version": "2.7.12"
  }
 },
 "nbformat": 4,
 "nbformat_minor": 0
}
