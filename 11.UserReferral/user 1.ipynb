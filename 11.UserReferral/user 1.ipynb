{
 "cells": [
  {
   "cell_type": "code",
   "execution_count": 1,
   "metadata": {},
   "outputs": [],
   "source": [
    "import warnings\n",
    "warnings.simplefilter('ignore')\n",
    "\n",
    "import numpy as np\n",
    "import pandas as pd\n",
    "from scipy.stats import ttest_ind\n",
    "import seaborn as sns\n",
    "import matplotlib.pyplot as plt\n",
    "\n",
    "%matplotlib inline"
   ]
  },
  {
   "cell_type": "markdown",
   "metadata": {},
   "source": [
    "# Load Dataset"
   ]
  },
  {
   "cell_type": "code",
   "execution_count": 2,
   "metadata": {},
   "outputs": [
    {
     "data": {
      "text/html": [
       "<div>\n",
       "<style scoped>\n",
       "    .dataframe tbody tr th:only-of-type {\n",
       "        vertical-align: middle;\n",
       "    }\n",
       "\n",
       "    .dataframe tbody tr th {\n",
       "        vertical-align: top;\n",
       "    }\n",
       "\n",
       "    .dataframe thead th {\n",
       "        text-align: right;\n",
       "    }\n",
       "</style>\n",
       "<table border=\"1\" class=\"dataframe\">\n",
       "  <thead>\n",
       "    <tr style=\"text-align: right;\">\n",
       "      <th></th>\n",
       "      <th>user_id</th>\n",
       "      <th>date</th>\n",
       "      <th>country</th>\n",
       "      <th>money_spent</th>\n",
       "      <th>is_referral</th>\n",
       "      <th>device_id</th>\n",
       "    </tr>\n",
       "  </thead>\n",
       "  <tbody>\n",
       "    <tr>\n",
       "      <th>0</th>\n",
       "      <td>2</td>\n",
       "      <td>2015-10-03</td>\n",
       "      <td>FR</td>\n",
       "      <td>65</td>\n",
       "      <td>0</td>\n",
       "      <td>EVDCJTZMVMJDG</td>\n",
       "    </tr>\n",
       "    <tr>\n",
       "      <th>1</th>\n",
       "      <td>3</td>\n",
       "      <td>2015-10-03</td>\n",
       "      <td>CA</td>\n",
       "      <td>54</td>\n",
       "      <td>0</td>\n",
       "      <td>WUBZFTVKXGQQX</td>\n",
       "    </tr>\n",
       "    <tr>\n",
       "      <th>2</th>\n",
       "      <td>6</td>\n",
       "      <td>2015-10-03</td>\n",
       "      <td>FR</td>\n",
       "      <td>35</td>\n",
       "      <td>0</td>\n",
       "      <td>CBAPCJRTFNUJG</td>\n",
       "    </tr>\n",
       "    <tr>\n",
       "      <th>3</th>\n",
       "      <td>7</td>\n",
       "      <td>2015-10-03</td>\n",
       "      <td>UK</td>\n",
       "      <td>73</td>\n",
       "      <td>0</td>\n",
       "      <td>PRGXJZAJKMXRH</td>\n",
       "    </tr>\n",
       "    <tr>\n",
       "      <th>4</th>\n",
       "      <td>7</td>\n",
       "      <td>2015-10-03</td>\n",
       "      <td>MX</td>\n",
       "      <td>35</td>\n",
       "      <td>0</td>\n",
       "      <td>PRGXJZAJKMXRH</td>\n",
       "    </tr>\n",
       "  </tbody>\n",
       "</table>\n",
       "</div>"
      ],
      "text/plain": [
       "   user_id       date country  money_spent  is_referral      device_id\n",
       "0        2 2015-10-03      FR           65            0  EVDCJTZMVMJDG\n",
       "1        3 2015-10-03      CA           54            0  WUBZFTVKXGQQX\n",
       "2        6 2015-10-03      FR           35            0  CBAPCJRTFNUJG\n",
       "3        7 2015-10-03      UK           73            0  PRGXJZAJKMXRH\n",
       "4        7 2015-10-03      MX           35            0  PRGXJZAJKMXRH"
      ]
     },
     "execution_count": 2,
     "metadata": {},
     "output_type": "execute_result"
    }
   ],
   "source": [
    "data = pd.read_csv('./data/referral.csv', parse_dates=['date'])\n",
    "data.head()"
   ]
  },
  {
   "cell_type": "code",
   "execution_count": 3,
   "metadata": {
    "scrolled": true
   },
   "outputs": [
    {
     "name": "stdout",
     "output_type": "stream",
     "text": [
      "<class 'pandas.core.frame.DataFrame'>\n",
      "RangeIndex: 97341 entries, 0 to 97340\n",
      "Data columns (total 6 columns):\n",
      "user_id        97341 non-null int64\n",
      "date           97341 non-null datetime64[ns]\n",
      "country        97341 non-null object\n",
      "money_spent    97341 non-null int64\n",
      "is_referral    97341 non-null int64\n",
      "device_id      97341 non-null object\n",
      "dtypes: datetime64[ns](1), int64(3), object(2)\n",
      "memory usage: 4.5+ MB\n"
     ]
    }
   ],
   "source": [
    "data.info()"
   ]
  },
  {
   "cell_type": "code",
   "execution_count": 4,
   "metadata": {},
   "outputs": [
    {
     "name": "stdout",
     "output_type": "stream",
     "text": [
      "Unique country:\t 9\n",
      "Unique user id:\t 18809\n",
      "Unique device:\t 17887\n"
     ]
    }
   ],
   "source": [
    "print('Unique country:\\t', len(data['country'].unique()))\n",
    "print('Unique user id:\\t', len(data['user_id'].unique()))\n",
    "print('Unique device:\\t', len(data['device_id'].unique()))"
   ]
  },
  {
   "cell_type": "markdown",
   "metadata": {},
   "source": [
    "# Data Processing"
   ]
  },
  {
   "cell_type": "code",
   "execution_count": 5,
   "metadata": {},
   "outputs": [],
   "source": [
    "# extract date information\n",
    "data['dayofweek'] = data['date'].apply(lambda x: x.dayofweek)\n",
    "start_date = pd.to_datetime('2015-10-31')"
   ]
  },
  {
   "cell_type": "code",
   "execution_count": 6,
   "metadata": {},
   "outputs": [
    {
     "data": {
      "text/html": [
       "<div>\n",
       "<style scoped>\n",
       "    .dataframe tbody tr th:only-of-type {\n",
       "        vertical-align: middle;\n",
       "    }\n",
       "\n",
       "    .dataframe tbody tr th {\n",
       "        vertical-align: top;\n",
       "    }\n",
       "\n",
       "    .dataframe thead th {\n",
       "        text-align: right;\n",
       "    }\n",
       "</style>\n",
       "<table border=\"1\" class=\"dataframe\">\n",
       "  <thead>\n",
       "    <tr style=\"text-align: right;\">\n",
       "      <th></th>\n",
       "      <th>user_id</th>\n",
       "      <th>date</th>\n",
       "      <th>country</th>\n",
       "      <th>money_spent</th>\n",
       "      <th>is_referral</th>\n",
       "      <th>device_id</th>\n",
       "      <th>dayofweek</th>\n",
       "    </tr>\n",
       "  </thead>\n",
       "  <tbody>\n",
       "    <tr>\n",
       "      <th>0</th>\n",
       "      <td>2</td>\n",
       "      <td>2015-10-03</td>\n",
       "      <td>FR</td>\n",
       "      <td>65</td>\n",
       "      <td>0</td>\n",
       "      <td>EVDCJTZMVMJDG</td>\n",
       "      <td>5</td>\n",
       "    </tr>\n",
       "    <tr>\n",
       "      <th>1</th>\n",
       "      <td>3</td>\n",
       "      <td>2015-10-03</td>\n",
       "      <td>CA</td>\n",
       "      <td>54</td>\n",
       "      <td>0</td>\n",
       "      <td>WUBZFTVKXGQQX</td>\n",
       "      <td>5</td>\n",
       "    </tr>\n",
       "    <tr>\n",
       "      <th>2</th>\n",
       "      <td>6</td>\n",
       "      <td>2015-10-03</td>\n",
       "      <td>FR</td>\n",
       "      <td>35</td>\n",
       "      <td>0</td>\n",
       "      <td>CBAPCJRTFNUJG</td>\n",
       "      <td>5</td>\n",
       "    </tr>\n",
       "    <tr>\n",
       "      <th>3</th>\n",
       "      <td>7</td>\n",
       "      <td>2015-10-03</td>\n",
       "      <td>UK</td>\n",
       "      <td>73</td>\n",
       "      <td>0</td>\n",
       "      <td>PRGXJZAJKMXRH</td>\n",
       "      <td>5</td>\n",
       "    </tr>\n",
       "    <tr>\n",
       "      <th>4</th>\n",
       "      <td>7</td>\n",
       "      <td>2015-10-03</td>\n",
       "      <td>MX</td>\n",
       "      <td>35</td>\n",
       "      <td>0</td>\n",
       "      <td>PRGXJZAJKMXRH</td>\n",
       "      <td>5</td>\n",
       "    </tr>\n",
       "  </tbody>\n",
       "</table>\n",
       "</div>"
      ],
      "text/plain": [
       "   user_id       date country  money_spent  is_referral      device_id  \\\n",
       "0        2 2015-10-03      FR           65            0  EVDCJTZMVMJDG   \n",
       "1        3 2015-10-03      CA           54            0  WUBZFTVKXGQQX   \n",
       "2        6 2015-10-03      FR           35            0  CBAPCJRTFNUJG   \n",
       "3        7 2015-10-03      UK           73            0  PRGXJZAJKMXRH   \n",
       "4        7 2015-10-03      MX           35            0  PRGXJZAJKMXRH   \n",
       "\n",
       "   dayofweek  \n",
       "0          5  \n",
       "1          5  \n",
       "2          5  \n",
       "3          5  \n",
       "4          5  "
      ]
     },
     "execution_count": 6,
     "metadata": {},
     "output_type": "execute_result"
    }
   ],
   "source": [
    "data.head()"
   ]
  },
  {
   "cell_type": "markdown",
   "metadata": {},
   "source": [
    "# Data Visualization"
   ]
  },
  {
   "cell_type": "code",
   "execution_count": 7,
   "metadata": {},
   "outputs": [
    {
     "data": {
      "image/png": "[encoded data removed]",
      "text/plain": [
       "<Figure size 1296x864 with 2 Axes>"
      ]
     },
     "metadata": {},
     "output_type": "display_data"
    }
   ],
   "source": [
    "# daily money spent visualization\n",
    "fig, ax = plt.subplots(nrows=2, ncols=1, figsize=(18, 12))\n",
    "sns.countplot(x='date', data=data, ax=ax[0])\n",
    "ax[0].set_ylabel('Daily Transaction Number', fontsize=12)\n",
    "\n",
    "sns.barplot(x='date', y='money_spent', data=data, ax=ax[1])\n",
    "ax[1].set_ylabel('Daily Transaction Amount', fontsize=12)\n",
    "plt.tight_layout()\n",
    "plt.show()"
   ]
  },
  {
   "cell_type": "code",
   "execution_count": 8,
   "metadata": {},
   "outputs": [
    {
     "data": {
      "image/png": "[encoded data removed]",
      "text/plain": [
       "<Figure size 1296x864 with 2 Axes>"
      ]
     },
     "metadata": {},
     "output_type": "display_data"
    }
   ],
   "source": [
    "# daily money spent visualization\n",
    "fig, ax = plt.subplots(nrows=2, ncols=1, figsize=(18, 12))\n",
    "sns.countplot(x='country', hue='is_referral', data=data, ax=ax[0])\n",
    "ax[0].set_ylabel('Country-wise Transaction Number', fontsize=12)\n",
    "\n",
    "sns.barplot(x='country', y='money_spent', hue='is_referral', data=data, ax=ax[1])\n",
    "ax[1].set_ylabel('Country-wise Transaction Amount', fontsize=12)\n",
    "plt.tight_layout()\n",
    "plt.show()"
   ]
  },
  {
   "cell_type": "code",
   "execution_count": 9,
   "metadata": {},
   "outputs": [
    {
     "data": {
      "image/png": "[encoded data removed]",
      "text/plain": [
       "<Figure size 1296x864 with 2 Axes>"
      ]
     },
     "metadata": {},
     "output_type": "display_data"
    }
   ],
   "source": [
    "# daily money spent visualization (Monday is 0 and Sunday is 6)\n",
    "fig, ax = plt.subplots(nrows=2, ncols=1, figsize=(18, 12))\n",
    "sns.countplot(x='dayofweek', hue='is_referral', data=data, ax=ax[0])\n",
    "ax[0].set_ylabel('Day-wise Transaction Number', fontsize=12)\n",
    "\n",
    "sns.barplot(x='dayofweek', y='money_spent', hue='is_referral', data=data, ax=ax[1])\n",
    "ax[1].set_ylabel('Day-wise Transaction Amount', fontsize=12)\n",
    "plt.tight_layout()\n",
    "plt.show()"
   ]
  },
  {
   "cell_type": "markdown",
   "metadata": {},
   "source": [
    "# Data Analysis"
   ]
  },
  {
   "cell_type": "code",
   "execution_count": 10,
   "metadata": {},
   "outputs": [
    {
     "data": {
      "text/html": [
       "<div>\n",
       "<style scoped>\n",
       "    .dataframe tbody tr th:only-of-type {\n",
       "        vertical-align: middle;\n",
       "    }\n",
       "\n",
       "    .dataframe tbody tr th {\n",
       "        vertical-align: top;\n",
       "    }\n",
       "\n",
       "    .dataframe thead th {\n",
       "        text-align: right;\n",
       "    }\n",
       "</style>\n",
       "<table border=\"1\" class=\"dataframe\">\n",
       "  <thead>\n",
       "    <tr style=\"text-align: right;\">\n",
       "      <th></th>\n",
       "      <th>user_id</th>\n",
       "      <th>date</th>\n",
       "      <th>country</th>\n",
       "      <th>money_spent</th>\n",
       "      <th>is_referral</th>\n",
       "      <th>device_id</th>\n",
       "      <th>dayofweek</th>\n",
       "    </tr>\n",
       "  </thead>\n",
       "  <tbody>\n",
       "    <tr>\n",
       "      <th>0</th>\n",
       "      <td>2</td>\n",
       "      <td>2015-10-03</td>\n",
       "      <td>FR</td>\n",
       "      <td>65</td>\n",
       "      <td>0</td>\n",
       "      <td>EVDCJTZMVMJDG</td>\n",
       "      <td>5</td>\n",
       "    </tr>\n",
       "    <tr>\n",
       "      <th>1</th>\n",
       "      <td>3</td>\n",
       "      <td>2015-10-03</td>\n",
       "      <td>CA</td>\n",
       "      <td>54</td>\n",
       "      <td>0</td>\n",
       "      <td>WUBZFTVKXGQQX</td>\n",
       "      <td>5</td>\n",
       "    </tr>\n",
       "    <tr>\n",
       "      <th>2</th>\n",
       "      <td>6</td>\n",
       "      <td>2015-10-03</td>\n",
       "      <td>FR</td>\n",
       "      <td>35</td>\n",
       "      <td>0</td>\n",
       "      <td>CBAPCJRTFNUJG</td>\n",
       "      <td>5</td>\n",
       "    </tr>\n",
       "    <tr>\n",
       "      <th>3</th>\n",
       "      <td>7</td>\n",
       "      <td>2015-10-03</td>\n",
       "      <td>UK</td>\n",
       "      <td>73</td>\n",
       "      <td>0</td>\n",
       "      <td>PRGXJZAJKMXRH</td>\n",
       "      <td>5</td>\n",
       "    </tr>\n",
       "    <tr>\n",
       "      <th>4</th>\n",
       "      <td>7</td>\n",
       "      <td>2015-10-03</td>\n",
       "      <td>MX</td>\n",
       "      <td>35</td>\n",
       "      <td>0</td>\n",
       "      <td>PRGXJZAJKMXRH</td>\n",
       "      <td>5</td>\n",
       "    </tr>\n",
       "  </tbody>\n",
       "</table>\n",
       "</div>"
      ],
      "text/plain": [
       "   user_id       date country  money_spent  is_referral      device_id  \\\n",
       "0        2 2015-10-03      FR           65            0  EVDCJTZMVMJDG   \n",
       "1        3 2015-10-03      CA           54            0  WUBZFTVKXGQQX   \n",
       "2        6 2015-10-03      FR           35            0  CBAPCJRTFNUJG   \n",
       "3        7 2015-10-03      UK           73            0  PRGXJZAJKMXRH   \n",
       "4        7 2015-10-03      MX           35            0  PRGXJZAJKMXRH   \n",
       "\n",
       "   dayofweek  \n",
       "0          5  \n",
       "1          5  \n",
       "2          5  \n",
       "3          5  \n",
       "4          5  "
      ]
     },
     "execution_count": 10,
     "metadata": {},
     "output_type": "execute_result"
    }
   ],
   "source": [
    "data.head()"
   ]
  },
  {
   "cell_type": "markdown",
   "metadata": {},
   "source": [
    "### 1. Daily Analysis"
   ]
  },
  {
   "cell_type": "code",
   "execution_count": 11,
   "metadata": {},
   "outputs": [],
   "source": [
    "def basic_stat(df):\n",
    "    \"\"\" function to calculate statistics \"\"\"\n",
    "    no_purchase = len(df)\n",
    "    money_spent = df['money_spent'].sum()\n",
    "    unique_user = len(df['user_id'].unique())\n",
    "    \n",
    "    return pd.Series([no_purchase, money_spent, unique_user], \n",
    "                     index=['no_purchase', 'money_spent', 'unique_user'])"
   ]
  },
  {
   "cell_type": "code",
   "execution_count": 12,
   "metadata": {},
   "outputs": [],
   "source": [
    "def daily_stat(data):\n",
    "    grouped = data.groupby('date').apply(basic_stat).reset_index()\n",
    "    ref = grouped[grouped['date'] < start_date]\n",
    "    new = grouped[grouped['date'] >= start_date]\n",
    "    \n",
    "    names = ['no_purchase', 'money_spent', 'unique_user']\n",
    "    vals = []\n",
    "    for name in names:\n",
    "        a = ref[name].values\n",
    "        b = new[name].values\n",
    "        # p-value should be one-side test\n",
    "        p_val = ttest_ind(a, b, equal_var=False)[1] / 2\n",
    "        vals.append(p_val)\n",
    "        \n",
    "    return pd.Series(vals, index=names)"
   ]
  },
  {
   "cell_type": "code",
   "execution_count": 13,
   "metadata": {},
   "outputs": [
    {
     "data": {
      "text/plain": [
       "no_purchase    0.348257\n",
       "money_spent    0.135194\n",
       "unique_user    0.059545\n",
       "dtype: float64"
      ]
     },
     "execution_count": 13,
     "metadata": {},
     "output_type": "execute_result"
    }
   ],
   "source": [
    "daily_stat(data)"
   ]
  },
  {
   "cell_type": "markdown",
   "metadata": {},
   "source": [
    "## 2. Country-wise Analysis"
   ]
  },
  {
   "cell_type": "code",
   "execution_count": 14,
   "metadata": {},
   "outputs": [
    {
     "data": {
      "text/html": [
       "<div>\n",
       "<style scoped>\n",
       "    .dataframe tbody tr th:only-of-type {\n",
       "        vertical-align: middle;\n",
       "    }\n",
       "\n",
       "    .dataframe tbody tr th {\n",
       "        vertical-align: top;\n",
       "    }\n",
       "\n",
       "    .dataframe thead th {\n",
       "        text-align: right;\n",
       "    }\n",
       "</style>\n",
       "<table border=\"1\" class=\"dataframe\">\n",
       "  <thead>\n",
       "    <tr style=\"text-align: right;\">\n",
       "      <th></th>\n",
       "      <th>country</th>\n",
       "      <th>no_purchase</th>\n",
       "      <th>money_spent</th>\n",
       "      <th>unique_user</th>\n",
       "    </tr>\n",
       "  </thead>\n",
       "  <tbody>\n",
       "    <tr>\n",
       "      <th>0</th>\n",
       "      <td>CA</td>\n",
       "      <td>0.233985</td>\n",
       "      <td>0.351704</td>\n",
       "      <td>0.268256</td>\n",
       "    </tr>\n",
       "    <tr>\n",
       "      <th>1</th>\n",
       "      <td>CH</td>\n",
       "      <td>0.003072</td>\n",
       "      <td>0.006941</td>\n",
       "      <td>0.003142</td>\n",
       "    </tr>\n",
       "    <tr>\n",
       "      <th>2</th>\n",
       "      <td>DE</td>\n",
       "      <td>0.011798</td>\n",
       "      <td>0.081459</td>\n",
       "      <td>0.015665</td>\n",
       "    </tr>\n",
       "    <tr>\n",
       "      <th>3</th>\n",
       "      <td>ES</td>\n",
       "      <td>0.072638</td>\n",
       "      <td>0.037522</td>\n",
       "      <td>0.057954</td>\n",
       "    </tr>\n",
       "    <tr>\n",
       "      <th>4</th>\n",
       "      <td>FR</td>\n",
       "      <td>0.058996</td>\n",
       "      <td>0.031843</td>\n",
       "      <td>0.041124</td>\n",
       "    </tr>\n",
       "    <tr>\n",
       "      <th>5</th>\n",
       "      <td>IT</td>\n",
       "      <td>0.057454</td>\n",
       "      <td>0.025730</td>\n",
       "      <td>0.043911</td>\n",
       "    </tr>\n",
       "    <tr>\n",
       "      <th>6</th>\n",
       "      <td>MX</td>\n",
       "      <td>0.032430</td>\n",
       "      <td>0.009670</td>\n",
       "      <td>0.026203</td>\n",
       "    </tr>\n",
       "    <tr>\n",
       "      <th>7</th>\n",
       "      <td>UK</td>\n",
       "      <td>0.261183</td>\n",
       "      <td>0.048490</td>\n",
       "      <td>0.204398</td>\n",
       "    </tr>\n",
       "    <tr>\n",
       "      <th>8</th>\n",
       "      <td>US</td>\n",
       "      <td>0.307801</td>\n",
       "      <td>0.248874</td>\n",
       "      <td>0.368860</td>\n",
       "    </tr>\n",
       "  </tbody>\n",
       "</table>\n",
       "</div>"
      ],
      "text/plain": [
       "  country  no_purchase  money_spent  unique_user\n",
       "0      CA     0.233985     0.351704     0.268256\n",
       "1      CH     0.003072     0.006941     0.003142\n",
       "2      DE     0.011798     0.081459     0.015665\n",
       "3      ES     0.072638     0.037522     0.057954\n",
       "4      FR     0.058996     0.031843     0.041124\n",
       "5      IT     0.057454     0.025730     0.043911\n",
       "6      MX     0.032430     0.009670     0.026203\n",
       "7      UK     0.261183     0.048490     0.204398\n",
       "8      US     0.307801     0.248874     0.368860"
      ]
     },
     "execution_count": 14,
     "metadata": {},
     "output_type": "execute_result"
    }
   ],
   "source": [
    "data.groupby('country').apply(daily_stat).reset_index()"
   ]
  },
  {
   "cell_type": "markdown",
   "metadata": {},
   "source": [
    "### 3. Day-of-week-wise Analysis"
   ]
  },
  {
   "cell_type": "code",
   "execution_count": 15,
   "metadata": {},
   "outputs": [
    {
     "data": {
      "text/html": [
       "<div>\n",
       "<style scoped>\n",
       "    .dataframe tbody tr th:only-of-type {\n",
       "        vertical-align: middle;\n",
       "    }\n",
       "\n",
       "    .dataframe tbody tr th {\n",
       "        vertical-align: top;\n",
       "    }\n",
       "\n",
       "    .dataframe thead th {\n",
       "        text-align: right;\n",
       "    }\n",
       "</style>\n",
       "<table border=\"1\" class=\"dataframe\">\n",
       "  <thead>\n",
       "    <tr style=\"text-align: right;\">\n",
       "      <th></th>\n",
       "      <th>dayofweek</th>\n",
       "      <th>no_purchase</th>\n",
       "      <th>money_spent</th>\n",
       "      <th>unique_user</th>\n",
       "    </tr>\n",
       "  </thead>\n",
       "  <tbody>\n",
       "    <tr>\n",
       "      <th>0</th>\n",
       "      <td>0</td>\n",
       "      <td>0.012484</td>\n",
       "      <td>0.000368</td>\n",
       "      <td>0.000665</td>\n",
       "    </tr>\n",
       "    <tr>\n",
       "      <th>1</th>\n",
       "      <td>1</td>\n",
       "      <td>0.156965</td>\n",
       "      <td>0.007701</td>\n",
       "      <td>0.008802</td>\n",
       "    </tr>\n",
       "    <tr>\n",
       "      <th>2</th>\n",
       "      <td>2</td>\n",
       "      <td>0.009713</td>\n",
       "      <td>0.000301</td>\n",
       "      <td>0.001270</td>\n",
       "    </tr>\n",
       "    <tr>\n",
       "      <th>3</th>\n",
       "      <td>3</td>\n",
       "      <td>0.016584</td>\n",
       "      <td>0.000675</td>\n",
       "      <td>0.002578</td>\n",
       "    </tr>\n",
       "    <tr>\n",
       "      <th>4</th>\n",
       "      <td>4</td>\n",
       "      <td>0.016875</td>\n",
       "      <td>0.000595</td>\n",
       "      <td>0.000683</td>\n",
       "    </tr>\n",
       "    <tr>\n",
       "      <th>5</th>\n",
       "      <td>5</td>\n",
       "      <td>0.006828</td>\n",
       "      <td>0.000107</td>\n",
       "      <td>0.000125</td>\n",
       "    </tr>\n",
       "    <tr>\n",
       "      <th>6</th>\n",
       "      <td>6</td>\n",
       "      <td>0.011717</td>\n",
       "      <td>0.000133</td>\n",
       "      <td>0.000012</td>\n",
       "    </tr>\n",
       "  </tbody>\n",
       "</table>\n",
       "</div>"
      ],
      "text/plain": [
       "   dayofweek  no_purchase  money_spent  unique_user\n",
       "0          0     0.012484     0.000368     0.000665\n",
       "1          1     0.156965     0.007701     0.008802\n",
       "2          2     0.009713     0.000301     0.001270\n",
       "3          3     0.016584     0.000675     0.002578\n",
       "4          4     0.016875     0.000595     0.000683\n",
       "5          5     0.006828     0.000107     0.000125\n",
       "6          6     0.011717     0.000133     0.000012"
      ]
     },
     "execution_count": 15,
     "metadata": {},
     "output_type": "execute_result"
    }
   ],
   "source": [
    "data.groupby('dayofweek').apply(daily_stat).reset_index()"
   ]
  },
  {
   "cell_type": "markdown",
   "metadata": {},
   "source": [
    "# Questions"
   ]
  },
  {
   "cell_type": "markdown",
   "metadata": {},
   "source": [
    "### Question 1"
   ]
  },
  {
   "cell_type": "markdown",
   "metadata": {},
   "source": [
    "According to the analysis above, the program doesn't seem have significant impacts to the whole company as a whole.\n",
    "\n",
    "However, based on each country, I find the program has different impact on different country:\n",
    "\n",
    "- the program fails in CH and DE, it significantly decrease the sales in these two countries.\n",
    "- the program succeeds in 'MX','IT','FR','ES', it significantly increase the sales.\n",
    "- the program doesn't seem have any significant effect on UK,CA,US, especially on CA and US."
   ]
  },
  {
   "cell_type": "markdown",
   "metadata": {},
   "source": [
    "### Question 2"
   ]
  },
  {
   "cell_type": "markdown",
   "metadata": {},
   "source": [
    "* first I suggest perform more accurate A/B test (see question 3's answer) and collect more data, to study the impact of the program\n",
    "* since the program has different impact in different country, I suggest studying the reason of such difference. for example, does the program has any cultural conflicts in CH and DE?"
   ]
  },
  {
   "cell_type": "markdown",
   "metadata": {},
   "source": [
    "### Question 3"
   ]
  },
  {
   "cell_type": "markdown",
   "metadata": {},
   "source": [
    "This approach isn't an accurate A/B test. \"User Referral\" program isn't the only difference between control group and test group. for example, there may be some special holiday after Oct 31 in some country. or just because the weather get colder after Oct 31, people's requirement on some goods are increased.\n",
    "\n",
    "To get more accurate impact of the program, we need to perform a more careful A/B test. for example:\n",
    "* during the same peroid of time\n",
    "* randomly split the customers into two groups, and let only one group know the User Referral program.\n",
    "* run the experiment some time, then perform the t-test to see whether some 'sale performance index' (e.g., daily spent, daily customers, daily transactions) have significant changes or not."
   ]
  },
  {
   "cell_type": "code",
   "execution_count": null,
   "metadata": {},
   "outputs": [],
   "source": []
  }
 ],
 "metadata": {
  "kernelspec": {
   "display_name": "Python 3",
   "language": "python",
   "name": "python3"
  },
  "language_info": {
   "codemirror_mode": {
    "name": "ipython",
    "version": 3
   },
   "file_extension": ".py",
   "mimetype": "text/x-python",
   "name": "python",
   "nbconvert_exporter": "python",
   "pygments_lexer": "ipython3",
   "version": "3.6.5"
  }
 },
 "nbformat": 4,
 "nbformat_minor": 2
}
