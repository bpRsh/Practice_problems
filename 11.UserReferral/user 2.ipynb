{
 "cells": [
  {
   "cell_type": "markdown",
   "metadata": {},
   "source": [
    "Company XYZ has started a new referral program on Oct, 31. Each user who refers a new user will get 10$ in credit when the new user buys something.\n",
    "\n",
    "The program has been running for almost a month and the Growth Product Manager wants to know if it's been successful. She is very excited cause, since the referral program started, the company saw a spike in number of users and wants you to be able to give her some data she can show to her boss.\n",
    "\n",
    "* Can you estimate the impact the program had on the site?\n",
    "* Based on the data, what would you suggest to do as a next step?\n",
    "* The referral program wasn't really tested in a rigorous way. It simply started on a given day for all users and you are drawing conclusions by looking at the data before and after the test started. What kinds of risks this approach presents? Can you think of a better way to test the referral program and measure its impact?"
   ]
  },
  {
   "cell_type": "code",
   "execution_count": 42,
   "metadata": {
    "collapsed": true
   },
   "outputs": [],
   "source": [
    "import datetime\n",
    "import pandas as pd\n",
    "import scipy.stats as ss\n",
    "import matplotlib.pyplot as plt\n",
    "plt.style.use('ggplot')"
   ]
  },
  {
   "cell_type": "markdown",
   "metadata": {},
   "source": [
    "# Index\n",
    "* [Load the data](#Load-the-data)\n",
    "* [Hypothesis test on all data](#Hypothesis-test-on-all-data)\n",
    "* [Hypothesis test grouped by country](#Hypothesis-test-grouped-by-country)\n",
    "    * [daily spent change in each country](#daily-spent-change-in-each-country)\n",
    "    * [daily customers change in each country](#daily-customers-change-in-each-country)\n",
    "    * [daily transactions change in each country](#daily-transactions-change-in-each-country)\n",
    "    * [Country-based conclusion](#Country-based-conclusion)\n",
    "* [Answer question 1](#Answer-question-1)\n",
    "* [Answer question 2](#Answer-question-2)\n",
    "* [Answer question 3](#Answer-question-3)\n",
    "\n",
    "\n",
    "## Load the data"
   ]
  },
  {
   "cell_type": "code",
   "execution_count": 43,
   "metadata": {
    "collapsed": true
   },
   "outputs": [],
   "source": [
    "referral = pd.read_csv(\"referral.csv\")\n",
    "del referral['device_id']\n",
    "referral['date'] = pd.to_datetime( referral.date )"
   ]
  },
  {
   "cell_type": "code",
   "execution_count": 44,
   "metadata": {
    "collapsed": false
   },
   "outputs": [
    {
     "data": {
      "text/html": [
       "<div>\n",
       "<table border=\"1\" class=\"dataframe\">\n",
       "  <thead>\n",
       "    <tr style=\"text-align: right;\">\n",
       "      <th></th>\n",
       "      <th>user_id</th>\n",
       "      <th>date</th>\n",
       "      <th>country</th>\n",
       "      <th>money_spent</th>\n",
       "      <th>is_referral</th>\n",
       "    </tr>\n",
       "  </thead>\n",
       "  <tbody>\n",
       "    <tr>\n",
       "      <th>0</th>\n",
       "      <td>2</td>\n",
       "      <td>2015-10-03</td>\n",
       "      <td>FR</td>\n",
       "      <td>65</td>\n",
       "      <td>0</td>\n",
       "    </tr>\n",
       "    <tr>\n",
       "      <th>1</th>\n",
       "      <td>3</td>\n",
       "      <td>2015-10-03</td>\n",
       "      <td>CA</td>\n",
       "      <td>54</td>\n",
       "      <td>0</td>\n",
       "    </tr>\n",
       "    <tr>\n",
       "      <th>2</th>\n",
       "      <td>6</td>\n",
       "      <td>2015-10-03</td>\n",
       "      <td>FR</td>\n",
       "      <td>35</td>\n",
       "      <td>0</td>\n",
       "    </tr>\n",
       "    <tr>\n",
       "      <th>3</th>\n",
       "      <td>7</td>\n",
       "      <td>2015-10-03</td>\n",
       "      <td>UK</td>\n",
       "      <td>73</td>\n",
       "      <td>0</td>\n",
       "    </tr>\n",
       "    <tr>\n",
       "      <th>4</th>\n",
       "      <td>7</td>\n",
       "      <td>2015-10-03</td>\n",
       "      <td>MX</td>\n",
       "      <td>35</td>\n",
       "      <td>0</td>\n",
       "    </tr>\n",
       "  </tbody>\n",
       "</table>\n",
       "</div>"
      ],
      "text/plain": [
       "   user_id       date country  money_spent  is_referral\n",
       "0        2 2015-10-03      FR           65            0\n",
       "1        3 2015-10-03      CA           54            0\n",
       "2        6 2015-10-03      FR           35            0\n",
       "3        7 2015-10-03      UK           73            0\n",
       "4        7 2015-10-03      MX           35            0"
      ]
     },
     "execution_count": 44,
     "metadata": {},
     "output_type": "execute_result"
    }
   ],
   "source": [
    "referral.head()# glance the data"
   ]
  },
  {
   "cell_type": "code",
   "execution_count": 45,
   "metadata": {
    "collapsed": true
   },
   "outputs": [],
   "source": [
    "dt_referral_starts = datetime.datetime(2015,10,31)"
   ]
  },
  {
   "cell_type": "code",
   "execution_count": 63,
   "metadata": {
    "collapsed": false
   },
   "outputs": [
    {
     "data": {
      "text/plain": [
       "count                   97341\n",
       "unique                     56\n",
       "top       2015-11-14 00:00:00\n",
       "freq                     3303\n",
       "first     2015-10-03 00:00:00\n",
       "last      2015-11-27 00:00:00\n",
       "Name: date, dtype: object"
      ]
     },
     "execution_count": 63,
     "metadata": {},
     "output_type": "execute_result"
    }
   ],
   "source": [
    "referral.date.describe()"
   ]
  },
  {
   "cell_type": "code",
   "execution_count": 60,
   "metadata": {
    "collapsed": false
   },
   "outputs": [
    {
     "data": {
      "text/plain": [
       "True     28\n",
       "False    28\n",
       "dtype: int64"
      ]
     },
     "execution_count": 60,
     "metadata": {},
     "output_type": "execute_result"
    }
   ],
   "source": [
    "(pd.Series(referral.date.unique()) >= dt_referral_starts).value_counts()"
   ]
  },
  {
   "cell_type": "markdown",
   "metadata": {},
   "source": [
    "There are 28 days before the program, and 28 days after the program. User Referral program starts right in the middle, \n",
    "\n",
    "## Hypothesis test on all data"
   ]
  },
  {
   "cell_type": "code",
   "execution_count": 47,
   "metadata": {
    "collapsed": true
   },
   "outputs": [],
   "source": [
    "def count_spent(df):\n",
    "    d = {}\n",
    "    d['n_purchase'] = df.shape[0]# number of purchase in that day\n",
    "    d['total_spent'] = df.money_spent.sum() # total money spent in that day\n",
    "    d['n_customer'] = df.user_id.unique().shape[0] # how many customers access the store that day\n",
    "    return pd.Series(d)"
   ]
  },
  {
   "cell_type": "code",
   "execution_count": 48,
   "metadata": {
    "collapsed": true
   },
   "outputs": [],
   "source": [
    "def daily_statistics(df):\n",
    "    \"\"\"\n",
    "    given a dataframe\n",
    "    1.  group by day, and return '#purchase','total spent money','#customers' on each day\n",
    "    2.  split daily data into two groups, before the program and after the program\n",
    "    3.  for each 'sale index' ('#purchase','total spent money','#customers'), \n",
    "        calculate the mean before/after the program, their difference, and pvalue \n",
    "    \"\"\"\n",
    "    grpby_day = df.groupby('date').apply(count_spent)\n",
    "\n",
    "    grpby_day_before = grpby_day.loc[grpby_day.index < dt_referral_starts, :]\n",
    "    grpby_day_after = grpby_day.loc[grpby_day.index >= dt_referral_starts, :]\n",
    "\n",
    "    d = []\n",
    "    colnames = ['total_spent','n_purchase','n_customer']\n",
    "    for col in colnames:\n",
    "        pre_data = grpby_day_before.loc[:,col]\n",
    "        pre_mean = pre_data.mean()\n",
    "\n",
    "        post_data = grpby_day_after.loc[:,col]\n",
    "        post_mean = post_data.mean()\n",
    "\n",
    "        result = ss.ttest_ind(pre_data, post_data, equal_var=False)\n",
    "        # either greater or smaller, just one-tail test\n",
    "        pvalue = result.pvalue / 2 \n",
    "\n",
    "        d.append({'mean_pre':pre_mean,'mean_post':post_mean,'mean_diff':post_mean - pre_mean,\n",
    "                  'pvalue':pvalue})\n",
    "\n",
    "    # re-order the columns\n",
    "    return pd.DataFrame(d,index = colnames).loc[:,['mean_pre','mean_post','mean_diff','pvalue']]"
   ]
  },
  {
   "cell_type": "code",
   "execution_count": 49,
   "metadata": {
    "collapsed": false
   },
   "outputs": [
    {
     "data": {
      "text/html": [
       "<div>\n",
       "<table border=\"1\" class=\"dataframe\">\n",
       "  <thead>\n",
       "    <tr style=\"text-align: right;\">\n",
       "      <th></th>\n",
       "      <th>mean_pre</th>\n",
       "      <th>mean_post</th>\n",
       "      <th>mean_diff</th>\n",
       "      <th>pvalue</th>\n",
       "    </tr>\n",
       "  </thead>\n",
       "  <tbody>\n",
       "    <tr>\n",
       "      <th>total_spent</th>\n",
       "      <td>71657.000000</td>\n",
       "      <td>83714.392857</td>\n",
       "      <td>12057.392857</td>\n",
       "      <td>0.135194</td>\n",
       "    </tr>\n",
       "    <tr>\n",
       "      <th>n_purchase</th>\n",
       "      <td>1690.750000</td>\n",
       "      <td>1785.714286</td>\n",
       "      <td>94.964286</td>\n",
       "      <td>0.348257</td>\n",
       "    </tr>\n",
       "    <tr>\n",
       "      <th>n_customer</th>\n",
       "      <td>1384.464286</td>\n",
       "      <td>1686.964286</td>\n",
       "      <td>302.500000</td>\n",
       "      <td>0.059545</td>\n",
       "    </tr>\n",
       "  </tbody>\n",
       "</table>\n",
       "</div>"
      ],
      "text/plain": [
       "                 mean_pre     mean_post     mean_diff    pvalue\n",
       "total_spent  71657.000000  83714.392857  12057.392857  0.135194\n",
       "n_purchase    1690.750000   1785.714286     94.964286  0.348257\n",
       "n_customer    1384.464286   1686.964286    302.500000  0.059545"
      ]
     },
     "execution_count": 49,
     "metadata": {},
     "output_type": "execute_result"
    }
   ],
   "source": [
    "daily_statistics(referral)"
   ]
  },
  {
   "cell_type": "markdown",
   "metadata": {},
   "source": [
    "<a id='whole_result'></a>although after launching the 'user referral' program, in all three 'sale index', i.e., 'daily purchase activity', 'daily money spent', 'daily customers', are all increased, however, <span style='color:orange;font-size:1.5em;font-weight:bold'>none of those increment are significant</span>. (by using a ** 0.05 ** significant level)"
   ]
  },
  {
   "cell_type": "markdown",
   "metadata": {},
   "source": [
    "## Hypothesis test grouped by country"
   ]
  },
  {
   "cell_type": "code",
   "execution_count": 50,
   "metadata": {
    "collapsed": false
   },
   "outputs": [
    {
     "data": {
      "text/plain": [
       "UK    15493\n",
       "FR    15396\n",
       "US    15280\n",
       "IT    11446\n",
       "DE    11093\n",
       "ES     9831\n",
       "CA     9440\n",
       "MX     8133\n",
       "CH     1229\n",
       "Name: country, dtype: int64"
      ]
     },
     "execution_count": 50,
     "metadata": {},
     "output_type": "execute_result"
    }
   ],
   "source": [
    "referral.country.value_counts()"
   ]
  },
  {
   "cell_type": "code",
   "execution_count": 51,
   "metadata": {
    "collapsed": false
   },
   "outputs": [],
   "source": [
    "daily_stat_bycountry = referral.groupby('country').apply(daily_statistics)"
   ]
  },
  {
   "cell_type": "code",
   "execution_count": 52,
   "metadata": {
    "collapsed": false
   },
   "outputs": [
    {
     "data": {
      "text/html": [
       "<div>\n",
       "<table border=\"1\" class=\"dataframe\">\n",
       "  <thead>\n",
       "    <tr style=\"text-align: right;\">\n",
       "      <th></th>\n",
       "      <th></th>\n",
       "      <th>mean_pre</th>\n",
       "      <th>mean_post</th>\n",
       "      <th>mean_diff</th>\n",
       "      <th>pvalue</th>\n",
       "    </tr>\n",
       "    <tr>\n",
       "      <th>country</th>\n",
       "      <th></th>\n",
       "      <th></th>\n",
       "      <th></th>\n",
       "      <th></th>\n",
       "      <th></th>\n",
       "    </tr>\n",
       "  </thead>\n",
       "  <tbody>\n",
       "    <tr>\n",
       "      <th rowspan=\"3\" valign=\"top\">CA</th>\n",
       "      <th>total_spent</th>\n",
       "      <td>7468.428571</td>\n",
       "      <td>7880.428571</td>\n",
       "      <td>412.000000</td>\n",
       "      <td>0.351704</td>\n",
       "    </tr>\n",
       "    <tr>\n",
       "      <th>n_purchase</th>\n",
       "      <td>177.142857</td>\n",
       "      <td>160.000000</td>\n",
       "      <td>-17.142857</td>\n",
       "      <td>0.233985</td>\n",
       "    </tr>\n",
       "    <tr>\n",
       "      <th>n_customer</th>\n",
       "      <td>173.285714</td>\n",
       "      <td>159.178571</td>\n",
       "      <td>-14.107143</td>\n",
       "      <td>0.268256</td>\n",
       "    </tr>\n",
       "    <tr>\n",
       "      <th rowspan=\"3\" valign=\"top\">CH</th>\n",
       "      <th>total_spent</th>\n",
       "      <td>1536.321429</td>\n",
       "      <td>1023.892857</td>\n",
       "      <td>-512.428571</td>\n",
       "      <td>0.006941</td>\n",
       "    </tr>\n",
       "    <tr>\n",
       "      <th>n_purchase</th>\n",
       "      <td>26.821429</td>\n",
       "      <td>17.071429</td>\n",
       "      <td>-9.750000</td>\n",
       "      <td>0.003072</td>\n",
       "    </tr>\n",
       "    <tr>\n",
       "      <th>n_customer</th>\n",
       "      <td>26.714286</td>\n",
       "      <td>17.071429</td>\n",
       "      <td>-9.642857</td>\n",
       "      <td>0.003142</td>\n",
       "    </tr>\n",
       "    <tr>\n",
       "      <th rowspan=\"3\" valign=\"top\">DE</th>\n",
       "      <th>total_spent</th>\n",
       "      <td>9856.750000</td>\n",
       "      <td>8013.964286</td>\n",
       "      <td>-1842.785714</td>\n",
       "      <td>0.081459</td>\n",
       "    </tr>\n",
       "    <tr>\n",
       "      <th>n_purchase</th>\n",
       "      <td>232.142857</td>\n",
       "      <td>164.035714</td>\n",
       "      <td>-68.107143</td>\n",
       "      <td>0.011798</td>\n",
       "    </tr>\n",
       "    <tr>\n",
       "      <th>n_customer</th>\n",
       "      <td>224.964286</td>\n",
       "      <td>163.250000</td>\n",
       "      <td>-61.714286</td>\n",
       "      <td>0.015665</td>\n",
       "    </tr>\n",
       "    <tr>\n",
       "      <th rowspan=\"3\" valign=\"top\">ES</th>\n",
       "      <th>total_spent</th>\n",
       "      <td>6648.642857</td>\n",
       "      <td>8660.571429</td>\n",
       "      <td>2011.928571</td>\n",
       "      <td>0.037522</td>\n",
       "    </tr>\n",
       "    <tr>\n",
       "      <th>n_purchase</th>\n",
       "      <td>156.607143</td>\n",
       "      <td>194.500000</td>\n",
       "      <td>37.892857</td>\n",
       "      <td>0.072638</td>\n",
       "    </tr>\n",
       "    <tr>\n",
       "      <th>n_customer</th>\n",
       "      <td>153.392857</td>\n",
       "      <td>193.214286</td>\n",
       "      <td>39.821429</td>\n",
       "      <td>0.057954</td>\n",
       "    </tr>\n",
       "    <tr>\n",
       "      <th rowspan=\"3\" valign=\"top\">FR</th>\n",
       "      <th>total_spent</th>\n",
       "      <td>10385.250000</td>\n",
       "      <td>13635.000000</td>\n",
       "      <td>3249.750000</td>\n",
       "      <td>0.031843</td>\n",
       "    </tr>\n",
       "    <tr>\n",
       "      <th>n_purchase</th>\n",
       "      <td>244.142857</td>\n",
       "      <td>305.714286</td>\n",
       "      <td>61.571429</td>\n",
       "      <td>0.058996</td>\n",
       "    </tr>\n",
       "    <tr>\n",
       "      <th>n_customer</th>\n",
       "      <td>236.500000</td>\n",
       "      <td>302.535714</td>\n",
       "      <td>66.035714</td>\n",
       "      <td>0.041124</td>\n",
       "    </tr>\n",
       "    <tr>\n",
       "      <th rowspan=\"3\" valign=\"top\">IT</th>\n",
       "      <th>total_spent</th>\n",
       "      <td>7651.571429</td>\n",
       "      <td>10193.428571</td>\n",
       "      <td>2541.857143</td>\n",
       "      <td>0.025730</td>\n",
       "    </tr>\n",
       "    <tr>\n",
       "      <th>n_purchase</th>\n",
       "      <td>180.857143</td>\n",
       "      <td>227.928571</td>\n",
       "      <td>47.071429</td>\n",
       "      <td>0.057454</td>\n",
       "    </tr>\n",
       "    <tr>\n",
       "      <th>n_customer</th>\n",
       "      <td>176.535714</td>\n",
       "      <td>226.107143</td>\n",
       "      <td>49.571429</td>\n",
       "      <td>0.043911</td>\n",
       "    </tr>\n",
       "    <tr>\n",
       "      <th rowspan=\"3\" valign=\"top\">MX</th>\n",
       "      <th>total_spent</th>\n",
       "      <td>4975.464286</td>\n",
       "      <td>7033.214286</td>\n",
       "      <td>2057.750000</td>\n",
       "      <td>0.009670</td>\n",
       "    </tr>\n",
       "    <tr>\n",
       "      <th>n_purchase</th>\n",
       "      <td>126.464286</td>\n",
       "      <td>164.000000</td>\n",
       "      <td>37.535714</td>\n",
       "      <td>0.032430</td>\n",
       "    </tr>\n",
       "    <tr>\n",
       "      <th>n_customer</th>\n",
       "      <td>124.392857</td>\n",
       "      <td>163.107143</td>\n",
       "      <td>38.714286</td>\n",
       "      <td>0.026203</td>\n",
       "    </tr>\n",
       "    <tr>\n",
       "      <th rowspan=\"3\" valign=\"top\">UK</th>\n",
       "      <th>total_spent</th>\n",
       "      <td>11213.535714</td>\n",
       "      <td>14196.428571</td>\n",
       "      <td>2982.892857</td>\n",
       "      <td>0.048490</td>\n",
       "    </tr>\n",
       "    <tr>\n",
       "      <th>n_purchase</th>\n",
       "      <td>264.285714</td>\n",
       "      <td>289.035714</td>\n",
       "      <td>24.750000</td>\n",
       "      <td>0.261183</td>\n",
       "    </tr>\n",
       "    <tr>\n",
       "      <th>n_customer</th>\n",
       "      <td>255.571429</td>\n",
       "      <td>286.321429</td>\n",
       "      <td>30.750000</td>\n",
       "      <td>0.204398</td>\n",
       "    </tr>\n",
       "    <tr>\n",
       "      <th rowspan=\"3\" valign=\"top\">US</th>\n",
       "      <th>total_spent</th>\n",
       "      <td>11921.035714</td>\n",
       "      <td>13077.464286</td>\n",
       "      <td>1156.428571</td>\n",
       "      <td>0.248874</td>\n",
       "    </tr>\n",
       "    <tr>\n",
       "      <th>n_purchase</th>\n",
       "      <td>282.285714</td>\n",
       "      <td>263.428571</td>\n",
       "      <td>-18.857143</td>\n",
       "      <td>0.307801</td>\n",
       "    </tr>\n",
       "    <tr>\n",
       "      <th>n_customer</th>\n",
       "      <td>273.178571</td>\n",
       "      <td>261.107143</td>\n",
       "      <td>-12.071429</td>\n",
       "      <td>0.368860</td>\n",
       "    </tr>\n",
       "  </tbody>\n",
       "</table>\n",
       "</div>"
      ],
      "text/plain": [
       "                         mean_pre     mean_post    mean_diff    pvalue\n",
       "country                                                               \n",
       "CA      total_spent   7468.428571   7880.428571   412.000000  0.351704\n",
       "        n_purchase     177.142857    160.000000   -17.142857  0.233985\n",
       "        n_customer     173.285714    159.178571   -14.107143  0.268256\n",
       "CH      total_spent   1536.321429   1023.892857  -512.428571  0.006941\n",
       "        n_purchase      26.821429     17.071429    -9.750000  0.003072\n",
       "        n_customer      26.714286     17.071429    -9.642857  0.003142\n",
       "DE      total_spent   9856.750000   8013.964286 -1842.785714  0.081459\n",
       "        n_purchase     232.142857    164.035714   -68.107143  0.011798\n",
       "        n_customer     224.964286    163.250000   -61.714286  0.015665\n",
       "ES      total_spent   6648.642857   8660.571429  2011.928571  0.037522\n",
       "        n_purchase     156.607143    194.500000    37.892857  0.072638\n",
       "        n_customer     153.392857    193.214286    39.821429  0.057954\n",
       "FR      total_spent  10385.250000  13635.000000  3249.750000  0.031843\n",
       "        n_purchase     244.142857    305.714286    61.571429  0.058996\n",
       "        n_customer     236.500000    302.535714    66.035714  0.041124\n",
       "IT      total_spent   7651.571429  10193.428571  2541.857143  0.025730\n",
       "        n_purchase     180.857143    227.928571    47.071429  0.057454\n",
       "        n_customer     176.535714    226.107143    49.571429  0.043911\n",
       "MX      total_spent   4975.464286   7033.214286  2057.750000  0.009670\n",
       "        n_purchase     126.464286    164.000000    37.535714  0.032430\n",
       "        n_customer     124.392857    163.107143    38.714286  0.026203\n",
       "UK      total_spent  11213.535714  14196.428571  2982.892857  0.048490\n",
       "        n_purchase     264.285714    289.035714    24.750000  0.261183\n",
       "        n_customer     255.571429    286.321429    30.750000  0.204398\n",
       "US      total_spent  11921.035714  13077.464286  1156.428571  0.248874\n",
       "        n_purchase     282.285714    263.428571   -18.857143  0.307801\n",
       "        n_customer     273.178571    261.107143   -12.071429  0.368860"
      ]
     },
     "execution_count": 52,
     "metadata": {},
     "output_type": "execute_result"
    }
   ],
   "source": [
    "daily_stat_bycountry"
   ]
  },
  {
   "cell_type": "markdown",
   "metadata": {},
   "source": [
    "from above result, we know <span style='color:blue;font-weight:bold'>'User Referral' program has different effect in different countries</span>. The program boosts the sales in some country, but in some other countries, <span style='color:red;font-weight:bold'>it even decrease the sales.</span>"
   ]
  },
  {
   "cell_type": "markdown",
   "metadata": {},
   "source": [
    "### daily spent change in each country"
   ]
  },
  {
   "cell_type": "code",
   "execution_count": 53,
   "metadata": {
    "collapsed": false
   },
   "outputs": [
    {
     "data": {
      "text/html": [
       "<div>\n",
       "<table border=\"1\" class=\"dataframe\">\n",
       "  <thead>\n",
       "    <tr style=\"text-align: right;\">\n",
       "      <th></th>\n",
       "      <th>mean_pre</th>\n",
       "      <th>mean_post</th>\n",
       "      <th>mean_diff</th>\n",
       "      <th>pvalue</th>\n",
       "    </tr>\n",
       "    <tr>\n",
       "      <th>country</th>\n",
       "      <th></th>\n",
       "      <th></th>\n",
       "      <th></th>\n",
       "      <th></th>\n",
       "    </tr>\n",
       "  </thead>\n",
       "  <tbody>\n",
       "    <tr>\n",
       "      <th>CH</th>\n",
       "      <td>1536.321429</td>\n",
       "      <td>1023.892857</td>\n",
       "      <td>-512.428571</td>\n",
       "      <td>0.006941</td>\n",
       "    </tr>\n",
       "    <tr>\n",
       "      <th>MX</th>\n",
       "      <td>4975.464286</td>\n",
       "      <td>7033.214286</td>\n",
       "      <td>2057.750000</td>\n",
       "      <td>0.009670</td>\n",
       "    </tr>\n",
       "    <tr>\n",
       "      <th>IT</th>\n",
       "      <td>7651.571429</td>\n",
       "      <td>10193.428571</td>\n",
       "      <td>2541.857143</td>\n",
       "      <td>0.025730</td>\n",
       "    </tr>\n",
       "    <tr>\n",
       "      <th>FR</th>\n",
       "      <td>10385.250000</td>\n",
       "      <td>13635.000000</td>\n",
       "      <td>3249.750000</td>\n",
       "      <td>0.031843</td>\n",
       "    </tr>\n",
       "    <tr>\n",
       "      <th>ES</th>\n",
       "      <td>6648.642857</td>\n",
       "      <td>8660.571429</td>\n",
       "      <td>2011.928571</td>\n",
       "      <td>0.037522</td>\n",
       "    </tr>\n",
       "    <tr>\n",
       "      <th>UK</th>\n",
       "      <td>11213.535714</td>\n",
       "      <td>14196.428571</td>\n",
       "      <td>2982.892857</td>\n",
       "      <td>0.048490</td>\n",
       "    </tr>\n",
       "    <tr>\n",
       "      <th>DE</th>\n",
       "      <td>9856.750000</td>\n",
       "      <td>8013.964286</td>\n",
       "      <td>-1842.785714</td>\n",
       "      <td>0.081459</td>\n",
       "    </tr>\n",
       "    <tr>\n",
       "      <th>US</th>\n",
       "      <td>11921.035714</td>\n",
       "      <td>13077.464286</td>\n",
       "      <td>1156.428571</td>\n",
       "      <td>0.248874</td>\n",
       "    </tr>\n",
       "    <tr>\n",
       "      <th>CA</th>\n",
       "      <td>7468.428571</td>\n",
       "      <td>7880.428571</td>\n",
       "      <td>412.000000</td>\n",
       "      <td>0.351704</td>\n",
       "    </tr>\n",
       "  </tbody>\n",
       "</table>\n",
       "</div>"
      ],
      "text/plain": [
       "             mean_pre     mean_post    mean_diff    pvalue\n",
       "country                                                   \n",
       "CH        1536.321429   1023.892857  -512.428571  0.006941\n",
       "MX        4975.464286   7033.214286  2057.750000  0.009670\n",
       "IT        7651.571429  10193.428571  2541.857143  0.025730\n",
       "FR       10385.250000  13635.000000  3249.750000  0.031843\n",
       "ES        6648.642857   8660.571429  2011.928571  0.037522\n",
       "UK       11213.535714  14196.428571  2982.892857  0.048490\n",
       "DE        9856.750000   8013.964286 -1842.785714  0.081459\n",
       "US       11921.035714  13077.464286  1156.428571  0.248874\n",
       "CA        7468.428571   7880.428571   412.000000  0.351704"
      ]
     },
     "execution_count": 53,
     "metadata": {},
     "output_type": "execute_result"
    }
   ],
   "source": [
    "daily_stat_bycountry.xs('total_spent',level=1).sort_values(by='pvalue')"
   ]
  },
  {
   "cell_type": "markdown",
   "metadata": {},
   "source": [
    "from above result, if we loose the significant level=0.1, then\n",
    "* <span style='color:orange;font-weight:bold'>daily spent in 'CH' and 'DE' are significantly decreased.</span>\n",
    "* <span style='color:orange;font-weight:bold'>'MX','IT','FR','ES','UK', their daily spent are significant increased.</span>\n",
    "* <span style='color:orange;font-weight:bold'>'US' and 'CA' has some improvement in daily spent, but NOT significant.</span>"
   ]
  },
  {
   "cell_type": "markdown",
   "metadata": {},
   "source": [
    "### daily customers change in each country"
   ]
  },
  {
   "cell_type": "code",
   "execution_count": 61,
   "metadata": {
    "collapsed": false
   },
   "outputs": [
    {
     "data": {
      "text/html": [
       "<div>\n",
       "<table border=\"1\" class=\"dataframe\">\n",
       "  <thead>\n",
       "    <tr style=\"text-align: right;\">\n",
       "      <th></th>\n",
       "      <th>mean_pre</th>\n",
       "      <th>mean_post</th>\n",
       "      <th>mean_diff</th>\n",
       "      <th>pvalue</th>\n",
       "    </tr>\n",
       "    <tr>\n",
       "      <th>country</th>\n",
       "      <th></th>\n",
       "      <th></th>\n",
       "      <th></th>\n",
       "      <th></th>\n",
       "    </tr>\n",
       "  </thead>\n",
       "  <tbody>\n",
       "    <tr>\n",
       "      <th>CH</th>\n",
       "      <td>26.714286</td>\n",
       "      <td>17.071429</td>\n",
       "      <td>-9.642857</td>\n",
       "      <td>0.003142</td>\n",
       "    </tr>\n",
       "    <tr>\n",
       "      <th>DE</th>\n",
       "      <td>224.964286</td>\n",
       "      <td>163.250000</td>\n",
       "      <td>-61.714286</td>\n",
       "      <td>0.015665</td>\n",
       "    </tr>\n",
       "    <tr>\n",
       "      <th>MX</th>\n",
       "      <td>124.392857</td>\n",
       "      <td>163.107143</td>\n",
       "      <td>38.714286</td>\n",
       "      <td>0.026203</td>\n",
       "    </tr>\n",
       "    <tr>\n",
       "      <th>FR</th>\n",
       "      <td>236.500000</td>\n",
       "      <td>302.535714</td>\n",
       "      <td>66.035714</td>\n",
       "      <td>0.041124</td>\n",
       "    </tr>\n",
       "    <tr>\n",
       "      <th>IT</th>\n",
       "      <td>176.535714</td>\n",
       "      <td>226.107143</td>\n",
       "      <td>49.571429</td>\n",
       "      <td>0.043911</td>\n",
       "    </tr>\n",
       "    <tr>\n",
       "      <th>ES</th>\n",
       "      <td>153.392857</td>\n",
       "      <td>193.214286</td>\n",
       "      <td>39.821429</td>\n",
       "      <td>0.057954</td>\n",
       "    </tr>\n",
       "    <tr>\n",
       "      <th>UK</th>\n",
       "      <td>255.571429</td>\n",
       "      <td>286.321429</td>\n",
       "      <td>30.750000</td>\n",
       "      <td>0.204398</td>\n",
       "    </tr>\n",
       "    <tr>\n",
       "      <th>CA</th>\n",
       "      <td>173.285714</td>\n",
       "      <td>159.178571</td>\n",
       "      <td>-14.107143</td>\n",
       "      <td>0.268256</td>\n",
       "    </tr>\n",
       "    <tr>\n",
       "      <th>US</th>\n",
       "      <td>273.178571</td>\n",
       "      <td>261.107143</td>\n",
       "      <td>-12.071429</td>\n",
       "      <td>0.368860</td>\n",
       "    </tr>\n",
       "  </tbody>\n",
       "</table>\n",
       "</div>"
      ],
      "text/plain": [
       "           mean_pre   mean_post  mean_diff    pvalue\n",
       "country                                             \n",
       "CH        26.714286   17.071429  -9.642857  0.003142\n",
       "DE       224.964286  163.250000 -61.714286  0.015665\n",
       "MX       124.392857  163.107143  38.714286  0.026203\n",
       "FR       236.500000  302.535714  66.035714  0.041124\n",
       "IT       176.535714  226.107143  49.571429  0.043911\n",
       "ES       153.392857  193.214286  39.821429  0.057954\n",
       "UK       255.571429  286.321429  30.750000  0.204398\n",
       "CA       173.285714  159.178571 -14.107143  0.268256\n",
       "US       273.178571  261.107143 -12.071429  0.368860"
      ]
     },
     "execution_count": 61,
     "metadata": {},
     "output_type": "execute_result"
    }
   ],
   "source": [
    "daily_stat_bycountry.xs('n_customer',level=1).sort_values(by='pvalue')"
   ]
  },
  {
   "cell_type": "markdown",
   "metadata": {},
   "source": [
    "from above result, \n",
    "* <span style='color:orange;font-weight:bold'>daily customers in 'CH' and 'DE' are significantly decreased.</span>\n",
    "* <span style='color:orange;font-weight:bold'>'MX','IT','FR','ES', their daily customers are significant increased."
   ]
  },
  {
   "cell_type": "markdown",
   "metadata": {},
   "source": [
    "### daily transactions change in each country"
   ]
  },
  {
   "cell_type": "code",
   "execution_count": 62,
   "metadata": {
    "collapsed": false
   },
   "outputs": [
    {
     "data": {
      "text/html": [
       "<div>\n",
       "<table border=\"1\" class=\"dataframe\">\n",
       "  <thead>\n",
       "    <tr style=\"text-align: right;\">\n",
       "      <th></th>\n",
       "      <th>mean_pre</th>\n",
       "      <th>mean_post</th>\n",
       "      <th>mean_diff</th>\n",
       "      <th>pvalue</th>\n",
       "    </tr>\n",
       "    <tr>\n",
       "      <th>country</th>\n",
       "      <th></th>\n",
       "      <th></th>\n",
       "      <th></th>\n",
       "      <th></th>\n",
       "    </tr>\n",
       "  </thead>\n",
       "  <tbody>\n",
       "    <tr>\n",
       "      <th>CH</th>\n",
       "      <td>26.821429</td>\n",
       "      <td>17.071429</td>\n",
       "      <td>-9.750000</td>\n",
       "      <td>0.003072</td>\n",
       "    </tr>\n",
       "    <tr>\n",
       "      <th>DE</th>\n",
       "      <td>232.142857</td>\n",
       "      <td>164.035714</td>\n",
       "      <td>-68.107143</td>\n",
       "      <td>0.011798</td>\n",
       "    </tr>\n",
       "    <tr>\n",
       "      <th>MX</th>\n",
       "      <td>126.464286</td>\n",
       "      <td>164.000000</td>\n",
       "      <td>37.535714</td>\n",
       "      <td>0.032430</td>\n",
       "    </tr>\n",
       "    <tr>\n",
       "      <th>IT</th>\n",
       "      <td>180.857143</td>\n",
       "      <td>227.928571</td>\n",
       "      <td>47.071429</td>\n",
       "      <td>0.057454</td>\n",
       "    </tr>\n",
       "    <tr>\n",
       "      <th>FR</th>\n",
       "      <td>244.142857</td>\n",
       "      <td>305.714286</td>\n",
       "      <td>61.571429</td>\n",
       "      <td>0.058996</td>\n",
       "    </tr>\n",
       "    <tr>\n",
       "      <th>ES</th>\n",
       "      <td>156.607143</td>\n",
       "      <td>194.500000</td>\n",
       "      <td>37.892857</td>\n",
       "      <td>0.072638</td>\n",
       "    </tr>\n",
       "    <tr>\n",
       "      <th>CA</th>\n",
       "      <td>177.142857</td>\n",
       "      <td>160.000000</td>\n",
       "      <td>-17.142857</td>\n",
       "      <td>0.233985</td>\n",
       "    </tr>\n",
       "    <tr>\n",
       "      <th>UK</th>\n",
       "      <td>264.285714</td>\n",
       "      <td>289.035714</td>\n",
       "      <td>24.750000</td>\n",
       "      <td>0.261183</td>\n",
       "    </tr>\n",
       "    <tr>\n",
       "      <th>US</th>\n",
       "      <td>282.285714</td>\n",
       "      <td>263.428571</td>\n",
       "      <td>-18.857143</td>\n",
       "      <td>0.307801</td>\n",
       "    </tr>\n",
       "  </tbody>\n",
       "</table>\n",
       "</div>"
      ],
      "text/plain": [
       "           mean_pre   mean_post  mean_diff    pvalue\n",
       "country                                             \n",
       "CH        26.821429   17.071429  -9.750000  0.003072\n",
       "DE       232.142857  164.035714 -68.107143  0.011798\n",
       "MX       126.464286  164.000000  37.535714  0.032430\n",
       "IT       180.857143  227.928571  47.071429  0.057454\n",
       "FR       244.142857  305.714286  61.571429  0.058996\n",
       "ES       156.607143  194.500000  37.892857  0.072638\n",
       "CA       177.142857  160.000000 -17.142857  0.233985\n",
       "UK       264.285714  289.035714  24.750000  0.261183\n",
       "US       282.285714  263.428571 -18.857143  0.307801"
      ]
     },
     "execution_count": 62,
     "metadata": {},
     "output_type": "execute_result"
    }
   ],
   "source": [
    "daily_stat_bycountry.xs('n_purchase',level=1).sort_values(by='pvalue')"
   ]
  },
  {
   "cell_type": "markdown",
   "metadata": {},
   "source": [
    "## Country-based conclusion"
   ]
  },
  {
   "cell_type": "markdown",
   "metadata": {},
   "source": [
    "* <span style='color:orange;font-weight:bold;font-size:1.5em'>the program fails in CH and DE, it significantly decrease the sales in these two countries.</span>\n",
    "* <span style='color:orange;font-weight:bold;font-size:1.5em'>the program succeeds in 'MX','IT','FR','ES', it significantly increase the sales.</span>\n",
    "* <span style='color:orange;font-weight:bold;font-size:1.5em'>the program doesn't seem have any significant effect on UK,CA,US, especially on CA and US.</span>"
   ]
  },
  {
   "cell_type": "markdown",
   "metadata": {},
   "source": [
    "## Answer question 1\n",
    "Can you estimate the impact the program had on the site?\n",
    "\n",
    "according to the analysis above, the program [doesn't seem have significant impacts to the whole company as a whole](#whole_result).\n",
    "\n",
    "however, based on each country, I find the program has [different impact on different country](#Country-based-conclusion):\n",
    "* ** the program fails in CH and DE, it significantly decrease the sales in these two countries.**\n",
    "* ** the program succeeds in 'MX','IT','FR','ES', it significantly increase the sales. **\n",
    "* ** the program doesn't seem have any significant effect on UK,CA,US, especially on CA and US.**"
   ]
  },
  {
   "cell_type": "markdown",
   "metadata": {},
   "source": [
    "## Answer question 2\n",
    "Based on the data, what would you suggest to do as a next step?"
   ]
  },
  {
   "cell_type": "markdown",
   "metadata": {},
   "source": [
    "1. first I suggest perform more accurate A/B test ([see question 3's answer](#Answer-question-3)) and collect more data, to study the impact of the program\n",
    "2. since the program has different impact in different country, I suggest studying the reason of such difference. ** for example, does the program has any cultural conflicts in CH and DE? **"
   ]
  },
  {
   "cell_type": "markdown",
   "metadata": {},
   "source": [
    "## Answer question 3\n",
    "The referral program wasn't really tested in a rigorous way. It simply started on a given day for all users and you are drawing conclusions by looking at the data before and after the test started. What kinds of risks this approach presents? Can you think of a better way to test the referral program and measure its impact?\n",
    "\n",
    "this approach isn't an accurate A/B test. \"User Referral\" program isn't the only difference between control group and test group. for example, there may be some special holiday after Oct 31 in some country. or just because the weather get colder after Oct 31, people's requirement on some goods are increased.\n",
    "\n",
    "To get more accurate impact of the program, we need to perform a more careful A/B test. for example:\n",
    "* during the same peroid of time\n",
    "* randomly split the customers into two groups, and let only one group know the User Referral program.\n",
    "* run the experiment some time, then perform the t-test to see whether some 'sale performance index' (e.g., daily spent, daily customers, daily transactions) have significant changes or not."
   ]
  }
 ],
 "metadata": {
  "anaconda-cloud": {},
  "kernelspec": {
   "display_name": "Python [Root]",
   "language": "python",
   "name": "Python [Root]"
  },
  "language_info": {
   "codemirror_mode": {
    "name": "ipython",
    "version": 2
   },
   "file_extension": ".py",
   "mimetype": "text/x-python",
   "name": "python",
   "nbconvert_exporter": "python",
   "pygments_lexer": "ipython2",
   "version": "2.7.12"
  }
 },
 "nbformat": 4,
 "nbformat_minor": 0
}
