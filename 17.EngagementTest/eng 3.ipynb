{
 "cells": [
  {
   "cell_type": "markdown",
   "metadata": {},
   "source": [
    "The company of this exercise is a social network. They decided to add a feature called: Recommended Friends, i.e. they suggest people you may know.\n",
    "\n",
    "A data scientist has built a model to suggest 5 people to each user. These potential friends will be shown on the user newsfeed. At ﬁrst, the model is tested just on a random subset of users to see how it performs compared to the newsfeed without the new feature.\n",
    "\n",
    "The test has been running for some time and your boss asks you to check the results. You are asked to check, for each user, the number of pages visited during their ﬁrst session since the test started. If this number increased, the test is a success."
   ]
  },
  {
   "cell_type": "markdown",
   "metadata": {},
   "source": [
    "# Index\n",
    "* [Answer question 1](#Answer-question-1)\n",
    "* [Answer question 2 and 3](#Answer-question-2-and-3)\n",
    "    * [Browsers' impact](#Browsers'-impact)\n",
    "    * [First time impact](#First-time-impact)\n",
    "    * [Browser and 'First time' combined impact](#Browser-and-'First-time'-combined-impact)"
   ]
  },
  {
   "cell_type": "code",
   "execution_count": 1,
   "metadata": {
    "collapsed": true
   },
   "outputs": [],
   "source": [
    "import numpy as np\n",
    "import pandas as pd\n",
    "import scipy.stats as ss"
   ]
  },
  {
   "cell_type": "markdown",
   "metadata": {},
   "source": [
    "# Answer question 1\n",
    "<span style='color:blue'>Is the test winning? That is, should 100% of the users see the Recommended Friends feature?</span>"
   ]
  },
  {
   "cell_type": "code",
   "execution_count": 2,
   "metadata": {
    "collapsed": true
   },
   "outputs": [],
   "source": [
    "tests = pd.read_csv(\"test_table.csv\",index_col='user_id')\n",
    "users = pd.read_csv(\"user_table.csv\",index_col='user_id')\n",
    "\n",
    "tests = tests.join(users)\n",
    "\n",
    "tests['date'] = pd.to_datetime(tests.date)\n",
    "tests['signup_date'] = pd.to_datetime(tests.signup_date)"
   ]
  },
  {
   "cell_type": "code",
   "execution_count": 3,
   "metadata": {
    "collapsed": false
   },
   "outputs": [
    {
     "data": {
      "text/html": [
       "<div>\n",
       "<table border=\"1\" class=\"dataframe\">\n",
       "  <thead>\n",
       "    <tr style=\"text-align: right;\">\n",
       "      <th></th>\n",
       "      <th>date</th>\n",
       "      <th>browser</th>\n",
       "      <th>test</th>\n",
       "      <th>pages_visited</th>\n",
       "      <th>signup_date</th>\n",
       "    </tr>\n",
       "    <tr>\n",
       "      <th>user_id</th>\n",
       "      <th></th>\n",
       "      <th></th>\n",
       "      <th></th>\n",
       "      <th></th>\n",
       "      <th></th>\n",
       "    </tr>\n",
       "  </thead>\n",
       "  <tbody>\n",
       "    <tr>\n",
       "      <th>600597</th>\n",
       "      <td>2015-08-13</td>\n",
       "      <td>IE</td>\n",
       "      <td>0</td>\n",
       "      <td>2</td>\n",
       "      <td>2015-01-19</td>\n",
       "    </tr>\n",
       "    <tr>\n",
       "      <th>4410028</th>\n",
       "      <td>2015-08-26</td>\n",
       "      <td>Chrome</td>\n",
       "      <td>1</td>\n",
       "      <td>5</td>\n",
       "      <td>2015-05-11</td>\n",
       "    </tr>\n",
       "    <tr>\n",
       "      <th>6004777</th>\n",
       "      <td>2015-08-17</td>\n",
       "      <td>Chrome</td>\n",
       "      <td>0</td>\n",
       "      <td>8</td>\n",
       "      <td>2015-06-26</td>\n",
       "    </tr>\n",
       "    <tr>\n",
       "      <th>5990330</th>\n",
       "      <td>2015-08-27</td>\n",
       "      <td>Safari</td>\n",
       "      <td>0</td>\n",
       "      <td>8</td>\n",
       "      <td>2015-06-25</td>\n",
       "    </tr>\n",
       "    <tr>\n",
       "      <th>3622310</th>\n",
       "      <td>2015-08-07</td>\n",
       "      <td>Firefox</td>\n",
       "      <td>0</td>\n",
       "      <td>1</td>\n",
       "      <td>2015-04-17</td>\n",
       "    </tr>\n",
       "  </tbody>\n",
       "</table>\n",
       "</div>"
      ],
      "text/plain": [
       "              date  browser  test  pages_visited signup_date\n",
       "user_id                                                     \n",
       "600597  2015-08-13       IE     0              2  2015-01-19\n",
       "4410028 2015-08-26   Chrome     1              5  2015-05-11\n",
       "6004777 2015-08-17   Chrome     0              8  2015-06-26\n",
       "5990330 2015-08-27   Safari     0              8  2015-06-25\n",
       "3622310 2015-08-07  Firefox     0              1  2015-04-17"
      ]
     },
     "execution_count": 3,
     "metadata": {},
     "output_type": "execute_result"
    }
   ],
   "source": [
    "tests.head()#glance"
   ]
  },
  {
   "cell_type": "code",
   "execution_count": 6,
   "metadata": {
    "collapsed": true
   },
   "outputs": [],
   "source": [
    "def run_ttest(df):\n",
    "    vp_in_test = df.loc[tests.test == 1, 'pages_visited']\n",
    "    test_mean = vp_in_test.mean()\n",
    "    \n",
    "    vp_in_ctrl = df.loc[tests.test == 0, 'pages_visited']\n",
    "    ctrl_mean = vp_in_ctrl.mean()\n",
    "    \n",
    "    result = ss.ttest_ind(vp_in_ctrl, vp_in_test, equal_var=False)\n",
    "    conclusion = 'Significant' if result.pvalue < 0.05 else 'Not Significant'\n",
    "    \n",
    "    return pd.Series({'n_test':vp_in_test.shape[0],\n",
    "                      'n_ctrl': vp_in_ctrl.shape[0],\n",
    "                      'mean_test': test_mean,\n",
    "                      'mean_ctrl': ctrl_mean,\n",
    "                      'test-ctrl': test_mean - ctrl_mean,\n",
    "                      'pvalue':result.pvalue,\n",
    "                      'conclusion':conclusion})"
   ]
  },
  {
   "cell_type": "code",
   "execution_count": 7,
   "metadata": {
    "collapsed": false
   },
   "outputs": [
    {
     "data": {
      "text/plain": [
       "conclusion    Not Significant\n",
       "mean_ctrl             4.60839\n",
       "mean_test             4.59969\n",
       "n_ctrl                  49846\n",
       "n_test                  50154\n",
       "pvalue               0.577452\n",
       "test-ctrl         -0.00870091\n",
       "dtype: object"
      ]
     },
     "execution_count": 7,
     "metadata": {},
     "output_type": "execute_result"
    }
   ],
   "source": [
    "run_ttest(tests)"
   ]
  },
  {
   "cell_type": "markdown",
   "metadata": {},
   "source": [
    "according to above Hypothesis Test result, there is ** no significant improvement in test group **. "
   ]
  },
  {
   "cell_type": "markdown",
   "metadata": {},
   "source": [
    "# Answer question 2 and 3\n",
    "* <span style='color:blue'>Is the test performing similarly for all user segments or are there diﬀerences among diﬀerent segments?</span>\n",
    "* <span style='color:blue'>If you identiﬁed segments that responded diﬀerently to the test, can you guess the reason? Would this change your point 1 conclusions?</span>"
   ]
  },
  {
   "cell_type": "code",
   "execution_count": 8,
   "metadata": {
    "collapsed": true
   },
   "outputs": [],
   "source": [
    "tests['n_days_after_sign'] = (tests.date - tests.signup_date).dt.days\n",
    "tests['first_time'] = (tests.n_days_after_sign == 0).astype(int)"
   ]
  },
  {
   "cell_type": "markdown",
   "metadata": {},
   "source": [
    "## Browsers' impact"
   ]
  },
  {
   "cell_type": "code",
   "execution_count": 10,
   "metadata": {
    "collapsed": false
   },
   "outputs": [
    {
     "data": {
      "text/html": [
       "<div>\n",
       "<table border=\"1\" class=\"dataframe\">\n",
       "  <thead>\n",
       "    <tr style=\"text-align: right;\">\n",
       "      <th></th>\n",
       "      <th>conclusion</th>\n",
       "      <th>mean_ctrl</th>\n",
       "      <th>mean_test</th>\n",
       "      <th>n_ctrl</th>\n",
       "      <th>n_test</th>\n",
       "      <th>pvalue</th>\n",
       "      <th>test-ctrl</th>\n",
       "    </tr>\n",
       "    <tr>\n",
       "      <th>browser</th>\n",
       "      <th></th>\n",
       "      <th></th>\n",
       "      <th></th>\n",
       "      <th></th>\n",
       "      <th></th>\n",
       "      <th></th>\n",
       "      <th></th>\n",
       "    </tr>\n",
       "  </thead>\n",
       "  <tbody>\n",
       "    <tr>\n",
       "      <th>Chrome</th>\n",
       "      <td>Significant</td>\n",
       "      <td>4.613341</td>\n",
       "      <td>4.690680</td>\n",
       "      <td>21453</td>\n",
       "      <td>21974</td>\n",
       "      <td>9.434084e-04</td>\n",
       "      <td>0.077339</td>\n",
       "    </tr>\n",
       "    <tr>\n",
       "      <th>Firefox</th>\n",
       "      <td>Significant</td>\n",
       "      <td>4.600164</td>\n",
       "      <td>4.714259</td>\n",
       "      <td>10972</td>\n",
       "      <td>10786</td>\n",
       "      <td>5.817199e-04</td>\n",
       "      <td>0.114095</td>\n",
       "    </tr>\n",
       "    <tr>\n",
       "      <th>IE</th>\n",
       "      <td>Significant</td>\n",
       "      <td>4.598478</td>\n",
       "      <td>4.685985</td>\n",
       "      <td>10906</td>\n",
       "      <td>10974</td>\n",
       "      <td>7.829509e-03</td>\n",
       "      <td>0.087507</td>\n",
       "    </tr>\n",
       "    <tr>\n",
       "      <th>Opera</th>\n",
       "      <td>Significant</td>\n",
       "      <td>4.546438</td>\n",
       "      <td>0.000000</td>\n",
       "      <td>1109</td>\n",
       "      <td>1018</td>\n",
       "      <td>2.252939e-321</td>\n",
       "      <td>-4.546438</td>\n",
       "    </tr>\n",
       "    <tr>\n",
       "      <th>Safari</th>\n",
       "      <td>Not Significant</td>\n",
       "      <td>4.638180</td>\n",
       "      <td>4.692336</td>\n",
       "      <td>5406</td>\n",
       "      <td>5402</td>\n",
       "      <td>2.411738e-01</td>\n",
       "      <td>0.054156</td>\n",
       "    </tr>\n",
       "  </tbody>\n",
       "</table>\n",
       "</div>"
      ],
      "text/plain": [
       "              conclusion  mean_ctrl  mean_test  n_ctrl  n_test         pvalue  \\\n",
       "browser                                                                         \n",
       "Chrome       Significant   4.613341   4.690680   21453   21974   9.434084e-04   \n",
       "Firefox      Significant   4.600164   4.714259   10972   10786   5.817199e-04   \n",
       "IE           Significant   4.598478   4.685985   10906   10974   7.829509e-03   \n",
       "Opera        Significant   4.546438   0.000000    1109    1018  2.252939e-321   \n",
       "Safari   Not Significant   4.638180   4.692336    5406    5402   2.411738e-01   \n",
       "\n",
       "         test-ctrl  \n",
       "browser             \n",
       "Chrome    0.077339  \n",
       "Firefox   0.114095  \n",
       "IE        0.087507  \n",
       "Opera    -4.546438  \n",
       "Safari    0.054156  "
      ]
     },
     "execution_count": 10,
     "metadata": {},
     "output_type": "execute_result"
    }
   ],
   "source": [
    "tests.groupby('browser').apply(run_ttest)"
   ]
  },
  {
   "cell_type": "markdown",
   "metadata": {},
   "source": [
    "from above result, we can see that, by applying this \"Recommend Friend\" feature\n",
    "* #page_visited in Chrome, Firefox, IE are significantly increased.\n",
    "* #page_visited in Opera has reduced to zero, <span style='color:orange;font-size:1.2em'>maybe there is some bug in implementation on Opera, which stops user visiting further pages.</span>\n",
    "* #page_visited in Safari has no significant improvement, <span style='color:orange;font-size:1.2em'>maybe because the recommended friends aren't shown in a noticeable position.</span>"
   ]
  },
  {
   "cell_type": "markdown",
   "metadata": {},
   "source": [
    "## First time impact"
   ]
  },
  {
   "cell_type": "code",
   "execution_count": 11,
   "metadata": {
    "collapsed": false
   },
   "outputs": [
    {
     "data": {
      "text/html": [
       "<div>\n",
       "<table border=\"1\" class=\"dataframe\">\n",
       "  <thead>\n",
       "    <tr style=\"text-align: right;\">\n",
       "      <th></th>\n",
       "      <th>conclusion</th>\n",
       "      <th>mean_ctrl</th>\n",
       "      <th>mean_test</th>\n",
       "      <th>n_ctrl</th>\n",
       "      <th>n_test</th>\n",
       "      <th>pvalue</th>\n",
       "      <th>test-ctrl</th>\n",
       "    </tr>\n",
       "    <tr>\n",
       "      <th>first_time</th>\n",
       "      <th></th>\n",
       "      <th></th>\n",
       "      <th></th>\n",
       "      <th></th>\n",
       "      <th></th>\n",
       "      <th></th>\n",
       "      <th></th>\n",
       "    </tr>\n",
       "  </thead>\n",
       "  <tbody>\n",
       "    <tr>\n",
       "      <th>0</th>\n",
       "      <td>Not Significant</td>\n",
       "      <td>4.603284</td>\n",
       "      <td>4.622379</td>\n",
       "      <td>39890</td>\n",
       "      <td>40109</td>\n",
       "      <td>0.261837</td>\n",
       "      <td>0.019095</td>\n",
       "    </tr>\n",
       "    <tr>\n",
       "      <th>1</th>\n",
       "      <td>Significant</td>\n",
       "      <td>4.628867</td>\n",
       "      <td>4.509109</td>\n",
       "      <td>9956</td>\n",
       "      <td>10045</td>\n",
       "      <td>0.001742</td>\n",
       "      <td>-0.119758</td>\n",
       "    </tr>\n",
       "  </tbody>\n",
       "</table>\n",
       "</div>"
      ],
      "text/plain": [
       "                 conclusion  mean_ctrl  mean_test  n_ctrl  n_test    pvalue  \\\n",
       "first_time                                                                    \n",
       "0           Not Significant   4.603284   4.622379   39890   40109  0.261837   \n",
       "1               Significant   4.628867   4.509109    9956   10045  0.001742   \n",
       "\n",
       "            test-ctrl  \n",
       "first_time             \n",
       "0            0.019095  \n",
       "1           -0.119758  "
      ]
     },
     "execution_count": 11,
     "metadata": {},
     "output_type": "execute_result"
    }
   ],
   "source": [
    "tests.groupby('first_time').apply(run_ttest)"
   ]
  },
  {
   "cell_type": "markdown",
   "metadata": {},
   "source": [
    "above result shows:\n",
    "* for old users, the new feature improve #page_visted, but the change isn't significant\n",
    "* for first-time new users, ** this new feature significantly decrease #page_visited **.\n",
    "\n",
    "this is a strange observation. Since I already suspect there is <span style='color:red;font-size:1.2em'>some bug in Opera's implementation (which reduce the visited number to 0 after using this new feature)</span>, so I need to split the dataset further by browser."
   ]
  },
  {
   "cell_type": "markdown",
   "metadata": {},
   "source": [
    "## Browser and 'First time' combined impact"
   ]
  },
  {
   "cell_type": "code",
   "execution_count": 13,
   "metadata": {
    "collapsed": false
   },
   "outputs": [],
   "source": [
    "ttest_result = tests.groupby(['browser','first_time']).apply(run_ttest)"
   ]
  },
  {
   "cell_type": "code",
   "execution_count": 14,
   "metadata": {
    "collapsed": false
   },
   "outputs": [
    {
     "data": {
      "text/html": [
       "<div>\n",
       "<table border=\"1\" class=\"dataframe\">\n",
       "  <thead>\n",
       "    <tr style=\"text-align: right;\">\n",
       "      <th></th>\n",
       "      <th></th>\n",
       "      <th>conclusion</th>\n",
       "      <th>mean_ctrl</th>\n",
       "      <th>mean_test</th>\n",
       "      <th>n_ctrl</th>\n",
       "      <th>n_test</th>\n",
       "      <th>pvalue</th>\n",
       "      <th>test-ctrl</th>\n",
       "    </tr>\n",
       "    <tr>\n",
       "      <th>browser</th>\n",
       "      <th>first_time</th>\n",
       "      <th></th>\n",
       "      <th></th>\n",
       "      <th></th>\n",
       "      <th></th>\n",
       "      <th></th>\n",
       "      <th></th>\n",
       "      <th></th>\n",
       "    </tr>\n",
       "  </thead>\n",
       "  <tbody>\n",
       "    <tr>\n",
       "      <th rowspan=\"2\" valign=\"top\">Chrome</th>\n",
       "      <th>0</th>\n",
       "      <td>Significant</td>\n",
       "      <td>4.607945</td>\n",
       "      <td>4.701512</td>\n",
       "      <td>17092</td>\n",
       "      <td>17525</td>\n",
       "      <td>2.290889e-04</td>\n",
       "      <td>0.093567</td>\n",
       "    </tr>\n",
       "    <tr>\n",
       "      <th>1</th>\n",
       "      <td>Not Significant</td>\n",
       "      <td>4.634488</td>\n",
       "      <td>4.648011</td>\n",
       "      <td>4361</td>\n",
       "      <td>4449</td>\n",
       "      <td>8.149175e-01</td>\n",
       "      <td>0.013523</td>\n",
       "    </tr>\n",
       "    <tr>\n",
       "      <th rowspan=\"2\" valign=\"top\">Firefox</th>\n",
       "      <th>0</th>\n",
       "      <td>Significant</td>\n",
       "      <td>4.590590</td>\n",
       "      <td>4.757306</td>\n",
       "      <td>8842</td>\n",
       "      <td>8657</td>\n",
       "      <td>3.692901e-06</td>\n",
       "      <td>0.166716</td>\n",
       "    </tr>\n",
       "    <tr>\n",
       "      <th>1</th>\n",
       "      <td>Not Significant</td>\n",
       "      <td>4.639906</td>\n",
       "      <td>4.539220</td>\n",
       "      <td>2130</td>\n",
       "      <td>2129</td>\n",
       "      <td>2.210706e-01</td>\n",
       "      <td>-0.100686</td>\n",
       "    </tr>\n",
       "    <tr>\n",
       "      <th rowspan=\"2\" valign=\"top\">IE</th>\n",
       "      <th>0</th>\n",
       "      <td>Significant</td>\n",
       "      <td>4.590576</td>\n",
       "      <td>4.721494</td>\n",
       "      <td>8744</td>\n",
       "      <td>8779</td>\n",
       "      <td>2.669847e-04</td>\n",
       "      <td>0.130918</td>\n",
       "    </tr>\n",
       "    <tr>\n",
       "      <th>1</th>\n",
       "      <td>Not Significant</td>\n",
       "      <td>4.630435</td>\n",
       "      <td>4.543964</td>\n",
       "      <td>2162</td>\n",
       "      <td>2195</td>\n",
       "      <td>2.808421e-01</td>\n",
       "      <td>-0.086471</td>\n",
       "    </tr>\n",
       "    <tr>\n",
       "      <th rowspan=\"2\" valign=\"top\">Opera</th>\n",
       "      <th>0</th>\n",
       "      <td>Significant</td>\n",
       "      <td>4.594564</td>\n",
       "      <td>0.000000</td>\n",
       "      <td>883</td>\n",
       "      <td>833</td>\n",
       "      <td>7.204927e-255</td>\n",
       "      <td>-4.594564</td>\n",
       "    </tr>\n",
       "    <tr>\n",
       "      <th>1</th>\n",
       "      <td>Significant</td>\n",
       "      <td>4.358407</td>\n",
       "      <td>0.000000</td>\n",
       "      <td>226</td>\n",
       "      <td>185</td>\n",
       "      <td>1.222949e-68</td>\n",
       "      <td>-4.358407</td>\n",
       "    </tr>\n",
       "    <tr>\n",
       "      <th rowspan=\"2\" valign=\"top\">Safari</th>\n",
       "      <th>0</th>\n",
       "      <td>Not Significant</td>\n",
       "      <td>4.638254</td>\n",
       "      <td>4.720973</td>\n",
       "      <td>4329</td>\n",
       "      <td>4315</td>\n",
       "      <td>1.000829e-01</td>\n",
       "      <td>0.082720</td>\n",
       "    </tr>\n",
       "    <tr>\n",
       "      <th>1</th>\n",
       "      <td>Not Significant</td>\n",
       "      <td>4.637883</td>\n",
       "      <td>4.578657</td>\n",
       "      <td>1077</td>\n",
       "      <td>1087</td>\n",
       "      <td>6.015241e-01</td>\n",
       "      <td>-0.059226</td>\n",
       "    </tr>\n",
       "  </tbody>\n",
       "</table>\n",
       "</div>"
      ],
      "text/plain": [
       "                         conclusion  mean_ctrl  mean_test  n_ctrl  n_test  \\\n",
       "browser first_time                                                          \n",
       "Chrome  0               Significant   4.607945   4.701512   17092   17525   \n",
       "        1           Not Significant   4.634488   4.648011    4361    4449   \n",
       "Firefox 0               Significant   4.590590   4.757306    8842    8657   \n",
       "        1           Not Significant   4.639906   4.539220    2130    2129   \n",
       "IE      0               Significant   4.590576   4.721494    8744    8779   \n",
       "        1           Not Significant   4.630435   4.543964    2162    2195   \n",
       "Opera   0               Significant   4.594564   0.000000     883     833   \n",
       "        1               Significant   4.358407   0.000000     226     185   \n",
       "Safari  0           Not Significant   4.638254   4.720973    4329    4315   \n",
       "        1           Not Significant   4.637883   4.578657    1077    1087   \n",
       "\n",
       "                           pvalue  test-ctrl  \n",
       "browser first_time                            \n",
       "Chrome  0            2.290889e-04   0.093567  \n",
       "        1            8.149175e-01   0.013523  \n",
       "Firefox 0            3.692901e-06   0.166716  \n",
       "        1            2.210706e-01  -0.100686  \n",
       "IE      0            2.669847e-04   0.130918  \n",
       "        1            2.808421e-01  -0.086471  \n",
       "Opera   0           7.204927e-255  -4.594564  \n",
       "        1            1.222949e-68  -4.358407  \n",
       "Safari  0            1.000829e-01   0.082720  \n",
       "        1            6.015241e-01  -0.059226  "
      ]
     },
     "execution_count": 14,
     "metadata": {},
     "output_type": "execute_result"
    }
   ],
   "source": [
    "ttest_result"
   ]
  },
  {
   "cell_type": "code",
   "execution_count": 16,
   "metadata": {
    "collapsed": false
   },
   "outputs": [
    {
     "data": {
      "text/html": [
       "<div>\n",
       "<table border=\"1\" class=\"dataframe\">\n",
       "  <thead>\n",
       "    <tr style=\"text-align: right;\">\n",
       "      <th></th>\n",
       "      <th>conclusion</th>\n",
       "      <th>mean_ctrl</th>\n",
       "      <th>mean_test</th>\n",
       "      <th>n_ctrl</th>\n",
       "      <th>n_test</th>\n",
       "      <th>pvalue</th>\n",
       "      <th>test-ctrl</th>\n",
       "    </tr>\n",
       "    <tr>\n",
       "      <th>browser</th>\n",
       "      <th></th>\n",
       "      <th></th>\n",
       "      <th></th>\n",
       "      <th></th>\n",
       "      <th></th>\n",
       "      <th></th>\n",
       "      <th></th>\n",
       "    </tr>\n",
       "  </thead>\n",
       "  <tbody>\n",
       "    <tr>\n",
       "      <th>Chrome</th>\n",
       "      <td>Significant</td>\n",
       "      <td>4.607945</td>\n",
       "      <td>4.701512</td>\n",
       "      <td>17092</td>\n",
       "      <td>17525</td>\n",
       "      <td>2.290889e-04</td>\n",
       "      <td>0.093567</td>\n",
       "    </tr>\n",
       "    <tr>\n",
       "      <th>Firefox</th>\n",
       "      <td>Significant</td>\n",
       "      <td>4.590590</td>\n",
       "      <td>4.757306</td>\n",
       "      <td>8842</td>\n",
       "      <td>8657</td>\n",
       "      <td>3.692901e-06</td>\n",
       "      <td>0.166716</td>\n",
       "    </tr>\n",
       "    <tr>\n",
       "      <th>IE</th>\n",
       "      <td>Significant</td>\n",
       "      <td>4.590576</td>\n",
       "      <td>4.721494</td>\n",
       "      <td>8744</td>\n",
       "      <td>8779</td>\n",
       "      <td>2.669847e-04</td>\n",
       "      <td>0.130918</td>\n",
       "    </tr>\n",
       "    <tr>\n",
       "      <th>Opera</th>\n",
       "      <td>Significant</td>\n",
       "      <td>4.594564</td>\n",
       "      <td>0.000000</td>\n",
       "      <td>883</td>\n",
       "      <td>833</td>\n",
       "      <td>7.204927e-255</td>\n",
       "      <td>-4.594564</td>\n",
       "    </tr>\n",
       "    <tr>\n",
       "      <th>Safari</th>\n",
       "      <td>Not Significant</td>\n",
       "      <td>4.638254</td>\n",
       "      <td>4.720973</td>\n",
       "      <td>4329</td>\n",
       "      <td>4315</td>\n",
       "      <td>1.000829e-01</td>\n",
       "      <td>0.082720</td>\n",
       "    </tr>\n",
       "  </tbody>\n",
       "</table>\n",
       "</div>"
      ],
      "text/plain": [
       "              conclusion  mean_ctrl  mean_test  n_ctrl  n_test         pvalue  \\\n",
       "browser                                                                         \n",
       "Chrome       Significant   4.607945   4.701512   17092   17525   2.290889e-04   \n",
       "Firefox      Significant   4.590590   4.757306    8842    8657   3.692901e-06   \n",
       "IE           Significant   4.590576   4.721494    8744    8779   2.669847e-04   \n",
       "Opera        Significant   4.594564   0.000000     883     833  7.204927e-255   \n",
       "Safari   Not Significant   4.638254   4.720973    4329    4315   1.000829e-01   \n",
       "\n",
       "         test-ctrl  \n",
       "browser             \n",
       "Chrome    0.093567  \n",
       "Firefox   0.166716  \n",
       "IE        0.130918  \n",
       "Opera    -4.594564  \n",
       "Safari    0.082720  "
      ]
     },
     "execution_count": 16,
     "metadata": {},
     "output_type": "execute_result"
    }
   ],
   "source": [
    "# old users on each browser\n",
    "ttest_result.xs(0,level=1)"
   ]
  },
  {
   "cell_type": "markdown",
   "metadata": {},
   "source": [
    "for old users, the conclusion is the same as general ['browser impact'](#Browsers'-impact), which is:\n",
    "* #page_visited in Chrome, Firefox, IE are significantly increased.\n",
    "* #page_visited in Opera has reduced to zero, <span style='color:orange;font-size:1.2em'>maybe there is some bug in implementation on Opera, which stops user visiting further pages.</span>\n",
    "* #page_visited in Safari has no significant improvement, <span style='color:orange;font-size:1.2em'>maybe because the recommended friends aren't shown in a noticeable position.</span>"
   ]
  },
  {
   "cell_type": "code",
   "execution_count": 17,
   "metadata": {
    "collapsed": false
   },
   "outputs": [
    {
     "data": {
      "text/html": [
       "<div>\n",
       "<table border=\"1\" class=\"dataframe\">\n",
       "  <thead>\n",
       "    <tr style=\"text-align: right;\">\n",
       "      <th></th>\n",
       "      <th>conclusion</th>\n",
       "      <th>mean_ctrl</th>\n",
       "      <th>mean_test</th>\n",
       "      <th>n_ctrl</th>\n",
       "      <th>n_test</th>\n",
       "      <th>pvalue</th>\n",
       "      <th>test-ctrl</th>\n",
       "    </tr>\n",
       "    <tr>\n",
       "      <th>browser</th>\n",
       "      <th></th>\n",
       "      <th></th>\n",
       "      <th></th>\n",
       "      <th></th>\n",
       "      <th></th>\n",
       "      <th></th>\n",
       "      <th></th>\n",
       "    </tr>\n",
       "  </thead>\n",
       "  <tbody>\n",
       "    <tr>\n",
       "      <th>Chrome</th>\n",
       "      <td>Not Significant</td>\n",
       "      <td>4.634488</td>\n",
       "      <td>4.648011</td>\n",
       "      <td>4361</td>\n",
       "      <td>4449</td>\n",
       "      <td>8.149175e-01</td>\n",
       "      <td>0.013523</td>\n",
       "    </tr>\n",
       "    <tr>\n",
       "      <th>Firefox</th>\n",
       "      <td>Not Significant</td>\n",
       "      <td>4.639906</td>\n",
       "      <td>4.539220</td>\n",
       "      <td>2130</td>\n",
       "      <td>2129</td>\n",
       "      <td>2.210706e-01</td>\n",
       "      <td>-0.100686</td>\n",
       "    </tr>\n",
       "    <tr>\n",
       "      <th>IE</th>\n",
       "      <td>Not Significant</td>\n",
       "      <td>4.630435</td>\n",
       "      <td>4.543964</td>\n",
       "      <td>2162</td>\n",
       "      <td>2195</td>\n",
       "      <td>2.808421e-01</td>\n",
       "      <td>-0.086471</td>\n",
       "    </tr>\n",
       "    <tr>\n",
       "      <th>Opera</th>\n",
       "      <td>Significant</td>\n",
       "      <td>4.358407</td>\n",
       "      <td>0.000000</td>\n",
       "      <td>226</td>\n",
       "      <td>185</td>\n",
       "      <td>1.222949e-68</td>\n",
       "      <td>-4.358407</td>\n",
       "    </tr>\n",
       "    <tr>\n",
       "      <th>Safari</th>\n",
       "      <td>Not Significant</td>\n",
       "      <td>4.637883</td>\n",
       "      <td>4.578657</td>\n",
       "      <td>1077</td>\n",
       "      <td>1087</td>\n",
       "      <td>6.015241e-01</td>\n",
       "      <td>-0.059226</td>\n",
       "    </tr>\n",
       "  </tbody>\n",
       "</table>\n",
       "</div>"
      ],
      "text/plain": [
       "              conclusion  mean_ctrl  mean_test  n_ctrl  n_test        pvalue  \\\n",
       "browser                                                                        \n",
       "Chrome   Not Significant   4.634488   4.648011    4361    4449  8.149175e-01   \n",
       "Firefox  Not Significant   4.639906   4.539220    2130    2129  2.210706e-01   \n",
       "IE       Not Significant   4.630435   4.543964    2162    2195  2.808421e-01   \n",
       "Opera        Significant   4.358407   0.000000     226     185  1.222949e-68   \n",
       "Safari   Not Significant   4.637883   4.578657    1077    1087  6.015241e-01   \n",
       "\n",
       "         test-ctrl  \n",
       "browser             \n",
       "Chrome    0.013523  \n",
       "Firefox  -0.100686  \n",
       "IE       -0.086471  \n",
       "Opera    -4.358407  \n",
       "Safari   -0.059226  "
      ]
     },
     "execution_count": 17,
     "metadata": {},
     "output_type": "execute_result"
    }
   ],
   "source": [
    "# first-time new users on each browser\n",
    "ttest_result.xs(1,level=1)"
   ]
  },
  {
   "cell_type": "markdown",
   "metadata": {},
   "source": [
    "besides Opera which may have a bug, all changes for new users are not significant, and there is even some drop after applying this new feature.\n",
    "\n",
    "this may because: <span style='color:orange'> the friend recommendation engine may be based on a user's previous social activity on the site. then for new users, since they don't have any previous history for recommendation engine to use, the recommendation result is like random guess, which cannot draw new user's interest. But the recommended friends may occupy some space on the page, so it may even decrease the #page_visited for new users a little bit.</span>\n",
    "\n",
    "from this observation, I suspect the Recommedation Engine suffers <span style='color:red;font-size:1.2em;font-weight:bold'>'the cold start'</span> problem."
   ]
  },
  {
   "cell_type": "code",
   "execution_count": null,
   "metadata": {
    "collapsed": true
   },
   "outputs": [],
   "source": []
  }
 ],
 "metadata": {
  "kernelspec": {
   "display_name": "Python [Root]",
   "language": "python",
   "name": "Python [Root]"
  },
  "language_info": {
   "codemirror_mode": {
    "name": "ipython",
    "version": 2
   },
   "file_extension": ".py",
   "mimetype": "text/x-python",
   "name": "python",
   "nbconvert_exporter": "python",
   "pygments_lexer": "ipython2",
   "version": "2.7.12"
  }
 },
 "nbformat": 4,
 "nbformat_minor": 0
}
