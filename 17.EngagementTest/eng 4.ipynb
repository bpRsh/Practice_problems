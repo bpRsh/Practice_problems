{
 "cells": [
  {
   "cell_type": "code",
   "execution_count": 32,
   "metadata": {
    "collapsed": true
   },
   "outputs": [],
   "source": [
    "import pandas as pd\n",
    "import numpy as np\n",
    "import matplotlib.pyplot as plt\n",
    "import seaborn as sns\n",
    "%matplotlib inline\n",
    "import datetime\n",
    "plt.style.use('ggplot')"
   ]
  },
  {
   "cell_type": "code",
   "execution_count": 33,
   "metadata": {
    "collapsed": true
   },
   "outputs": [],
   "source": [
    "tests = pd.read_csv(\"test_table.csv\",index_col='user_id')\n",
    "users = pd.read_csv(\"user_table.csv\",index_col='user_id')\n",
    "\n",
    "tests = tests.join(users)\n",
    "\n",
    "tests['date'] = pd.to_datetime(tests.date)\n",
    "tests['signup_date'] = pd.to_datetime(tests.signup_date)"
   ]
  },
  {
   "cell_type": "code",
   "execution_count": 34,
   "metadata": {},
   "outputs": [
    {
     "data": {
      "text/html": [
       "<div>\n",
       "<style>\n",
       "    .dataframe thead tr:only-child th {\n",
       "        text-align: right;\n",
       "    }\n",
       "\n",
       "    .dataframe thead th {\n",
       "        text-align: left;\n",
       "    }\n",
       "\n",
       "    .dataframe tbody tr th {\n",
       "        vertical-align: top;\n",
       "    }\n",
       "</style>\n",
       "<table border=\"1\" class=\"dataframe\">\n",
       "  <thead>\n",
       "    <tr style=\"text-align: right;\">\n",
       "      <th></th>\n",
       "      <th>date</th>\n",
       "      <th>browser</th>\n",
       "      <th>test</th>\n",
       "      <th>pages_visited</th>\n",
       "      <th>signup_date</th>\n",
       "    </tr>\n",
       "    <tr>\n",
       "      <th>user_id</th>\n",
       "      <th></th>\n",
       "      <th></th>\n",
       "      <th></th>\n",
       "      <th></th>\n",
       "      <th></th>\n",
       "    </tr>\n",
       "  </thead>\n",
       "  <tbody>\n",
       "    <tr>\n",
       "      <th>2349223</th>\n",
       "      <td>2015-08-23</td>\n",
       "      <td>Firefox</td>\n",
       "      <td>1</td>\n",
       "      <td>4</td>\n",
       "      <td>2015-03-11</td>\n",
       "    </tr>\n",
       "    <tr>\n",
       "      <th>269040</th>\n",
       "      <td>2015-08-26</td>\n",
       "      <td>IE</td>\n",
       "      <td>1</td>\n",
       "      <td>5</td>\n",
       "      <td>2015-01-09</td>\n",
       "    </tr>\n",
       "    <tr>\n",
       "      <th>5095551</th>\n",
       "      <td>2015-08-02</td>\n",
       "      <td>Safari</td>\n",
       "      <td>0</td>\n",
       "      <td>9</td>\n",
       "      <td>2015-05-31</td>\n",
       "    </tr>\n",
       "    <tr>\n",
       "      <th>564678</th>\n",
       "      <td>2015-08-01</td>\n",
       "      <td>Chrome</td>\n",
       "      <td>0</td>\n",
       "      <td>9</td>\n",
       "      <td>2015-01-17</td>\n",
       "    </tr>\n",
       "    <tr>\n",
       "      <th>7574647</th>\n",
       "      <td>2015-08-07</td>\n",
       "      <td>IE</td>\n",
       "      <td>1</td>\n",
       "      <td>2</td>\n",
       "      <td>2015-08-07</td>\n",
       "    </tr>\n",
       "  </tbody>\n",
       "</table>\n",
       "</div>"
      ],
      "text/plain": [
       "              date  browser  test  pages_visited signup_date\n",
       "user_id                                                     \n",
       "2349223 2015-08-23  Firefox     1              4  2015-03-11\n",
       "269040  2015-08-26       IE     1              5  2015-01-09\n",
       "5095551 2015-08-02   Safari     0              9  2015-05-31\n",
       "564678  2015-08-01   Chrome     0              9  2015-01-17\n",
       "7574647 2015-08-07       IE     1              2  2015-08-07"
      ]
     },
     "execution_count": 34,
     "metadata": {},
     "output_type": "execute_result"
    }
   ],
   "source": [
    "tests.sample(5)"
   ]
  },
  {
   "cell_type": "code",
   "execution_count": 35,
   "metadata": {
    "collapsed": true
   },
   "outputs": [],
   "source": [
    "def run_ttest(df):\n",
    "    pv_in_test = df.loc[tests.test == 1, 'pages_visited']\n",
    "    test_mean = pv_in_test.mean()\n",
    "    \n",
    "    pv_in_ctrl = df.loc[tests.test == 0, 'pages_visited']\n",
    "    ctrl_mean = pv_in_ctrl.mean()\n",
    "    \n",
    "    result = ss.ttest_ind(pv_in_ctrl, pv_in_test, equal_var=False)\n",
    "    conclusion = 'Significant' if result.pvalue < 0.05 else 'Not Significant'\n",
    "    \n",
    "    return pd.Series({'n_test':pv_in_test.shape[0],\n",
    "                      'n_ctrl': pv_in_ctrl.shape[0],\n",
    "                      'mean_test': test_mean,\n",
    "                      'mean_ctrl': ctrl_mean,\n",
    "                      'test-ctrl': test_mean - ctrl_mean,\n",
    "                      'pvalue':result.pvalue,\n",
    "                      'conclusion':conclusion})"
   ]
  },
  {
   "cell_type": "code",
   "execution_count": 36,
   "metadata": {},
   "outputs": [
    {
     "data": {
      "text/plain": [
       "conclusion    Not Significant\n",
       "mean_ctrl             4.60839\n",
       "mean_test             4.59969\n",
       "n_ctrl                  49846\n",
       "n_test                  50154\n",
       "pvalue               0.577452\n",
       "test-ctrl         -0.00870091\n",
       "dtype: object"
      ]
     },
     "execution_count": 36,
     "metadata": {},
     "output_type": "execute_result"
    }
   ],
   "source": [
    "import scipy.stats as ss\n",
    "run_ttest(tests)"
   ]
  },
  {
   "cell_type": "code",
   "execution_count": 37,
   "metadata": {},
   "outputs": [
    {
     "data": {
      "text/html": [
       "<div>\n",
       "<style>\n",
       "    .dataframe thead tr:only-child th {\n",
       "        text-align: right;\n",
       "    }\n",
       "\n",
       "    .dataframe thead th {\n",
       "        text-align: left;\n",
       "    }\n",
       "\n",
       "    .dataframe tbody tr th {\n",
       "        vertical-align: top;\n",
       "    }\n",
       "</style>\n",
       "<table border=\"1\" class=\"dataframe\">\n",
       "  <thead>\n",
       "    <tr style=\"text-align: right;\">\n",
       "      <th></th>\n",
       "      <th>conclusion</th>\n",
       "      <th>mean_ctrl</th>\n",
       "      <th>mean_test</th>\n",
       "      <th>n_ctrl</th>\n",
       "      <th>n_test</th>\n",
       "      <th>pvalue</th>\n",
       "      <th>test-ctrl</th>\n",
       "    </tr>\n",
       "    <tr>\n",
       "      <th>browser</th>\n",
       "      <th></th>\n",
       "      <th></th>\n",
       "      <th></th>\n",
       "      <th></th>\n",
       "      <th></th>\n",
       "      <th></th>\n",
       "      <th></th>\n",
       "    </tr>\n",
       "  </thead>\n",
       "  <tbody>\n",
       "    <tr>\n",
       "      <th>Chrome</th>\n",
       "      <td>Significant</td>\n",
       "      <td>4.613341</td>\n",
       "      <td>4.690680</td>\n",
       "      <td>21453</td>\n",
       "      <td>21974</td>\n",
       "      <td>9.434084e-04</td>\n",
       "      <td>0.077339</td>\n",
       "    </tr>\n",
       "    <tr>\n",
       "      <th>Firefox</th>\n",
       "      <td>Significant</td>\n",
       "      <td>4.600164</td>\n",
       "      <td>4.714259</td>\n",
       "      <td>10972</td>\n",
       "      <td>10786</td>\n",
       "      <td>5.817199e-04</td>\n",
       "      <td>0.114095</td>\n",
       "    </tr>\n",
       "    <tr>\n",
       "      <th>IE</th>\n",
       "      <td>Significant</td>\n",
       "      <td>4.598478</td>\n",
       "      <td>4.685985</td>\n",
       "      <td>10906</td>\n",
       "      <td>10974</td>\n",
       "      <td>7.829509e-03</td>\n",
       "      <td>0.087507</td>\n",
       "    </tr>\n",
       "    <tr>\n",
       "      <th>Opera</th>\n",
       "      <td>Significant</td>\n",
       "      <td>4.546438</td>\n",
       "      <td>0.000000</td>\n",
       "      <td>1109</td>\n",
       "      <td>1018</td>\n",
       "      <td>2.252939e-321</td>\n",
       "      <td>-4.546438</td>\n",
       "    </tr>\n",
       "    <tr>\n",
       "      <th>Safari</th>\n",
       "      <td>Not Significant</td>\n",
       "      <td>4.638180</td>\n",
       "      <td>4.692336</td>\n",
       "      <td>5406</td>\n",
       "      <td>5402</td>\n",
       "      <td>2.411738e-01</td>\n",
       "      <td>0.054156</td>\n",
       "    </tr>\n",
       "  </tbody>\n",
       "</table>\n",
       "</div>"
      ],
      "text/plain": [
       "              conclusion  mean_ctrl  mean_test  n_ctrl  n_test         pvalue  \\\n",
       "browser                                                                         \n",
       "Chrome       Significant   4.613341   4.690680   21453   21974   9.434084e-04   \n",
       "Firefox      Significant   4.600164   4.714259   10972   10786   5.817199e-04   \n",
       "IE           Significant   4.598478   4.685985   10906   10974   7.829509e-03   \n",
       "Opera        Significant   4.546438   0.000000    1109    1018  2.252939e-321   \n",
       "Safari   Not Significant   4.638180   4.692336    5406    5402   2.411738e-01   \n",
       "\n",
       "         test-ctrl  \n",
       "browser             \n",
       "Chrome    0.077339  \n",
       "Firefox   0.114095  \n",
       "IE        0.087507  \n",
       "Opera    -4.546438  \n",
       "Safari    0.054156  "
      ]
     },
     "execution_count": 37,
     "metadata": {},
     "output_type": "execute_result"
    }
   ],
   "source": [
    "tests.groupby('browser').apply(run_ttest)"
   ]
  },
  {
   "cell_type": "code",
   "execution_count": 38,
   "metadata": {},
   "outputs": [
    {
     "data": {
      "text/plain": [
       "Timestamp('2015-08-01 00:00:00')"
      ]
     },
     "execution_count": 38,
     "metadata": {},
     "output_type": "execute_result"
    }
   ],
   "source": [
    "min(tests.date)"
   ]
  },
  {
   "cell_type": "markdown",
   "metadata": {},
   "source": [
    "divide customers into 2 group, signup date = test date and the other."
   ]
  },
  {
   "cell_type": "code",
   "execution_count": 39,
   "metadata": {},
   "outputs": [],
   "source": [
    "tests.loc[tests.date == tests.signup_date,'signup_equal_test_date'] = 1"
   ]
  },
  {
   "cell_type": "code",
   "execution_count": 40,
   "metadata": {
    "collapsed": true
   },
   "outputs": [],
   "source": [
    "tests.signup_equal_test_date = tests.signup_equal_test_date.fillna(0)"
   ]
  },
  {
   "cell_type": "code",
   "execution_count": 41,
   "metadata": {},
   "outputs": [
    {
     "data": {
      "text/plain": [
       "0.0    79999\n",
       "1.0    20001\n",
       "Name: signup_equal_test_date, dtype: int64"
      ]
     },
     "execution_count": 41,
     "metadata": {},
     "output_type": "execute_result"
    }
   ],
   "source": [
    "tests.signup_equal_test_date.value_counts()"
   ]
  },
  {
   "cell_type": "code",
   "execution_count": 42,
   "metadata": {},
   "outputs": [
    {
     "data": {
      "text/html": [
       "<div>\n",
       "<style>\n",
       "    .dataframe thead tr:only-child th {\n",
       "        text-align: right;\n",
       "    }\n",
       "\n",
       "    .dataframe thead th {\n",
       "        text-align: left;\n",
       "    }\n",
       "\n",
       "    .dataframe tbody tr th {\n",
       "        vertical-align: top;\n",
       "    }\n",
       "</style>\n",
       "<table border=\"1\" class=\"dataframe\">\n",
       "  <thead>\n",
       "    <tr style=\"text-align: right;\">\n",
       "      <th></th>\n",
       "      <th>conclusion</th>\n",
       "      <th>mean_ctrl</th>\n",
       "      <th>mean_test</th>\n",
       "      <th>n_ctrl</th>\n",
       "      <th>n_test</th>\n",
       "      <th>pvalue</th>\n",
       "      <th>test-ctrl</th>\n",
       "    </tr>\n",
       "    <tr>\n",
       "      <th>signup_equal_test_date</th>\n",
       "      <th></th>\n",
       "      <th></th>\n",
       "      <th></th>\n",
       "      <th></th>\n",
       "      <th></th>\n",
       "      <th></th>\n",
       "      <th></th>\n",
       "    </tr>\n",
       "  </thead>\n",
       "  <tbody>\n",
       "    <tr>\n",
       "      <th>0.0</th>\n",
       "      <td>Not Significant</td>\n",
       "      <td>4.603284</td>\n",
       "      <td>4.622379</td>\n",
       "      <td>39890</td>\n",
       "      <td>40109</td>\n",
       "      <td>0.261837</td>\n",
       "      <td>0.019095</td>\n",
       "    </tr>\n",
       "    <tr>\n",
       "      <th>1.0</th>\n",
       "      <td>Significant</td>\n",
       "      <td>4.628867</td>\n",
       "      <td>4.509109</td>\n",
       "      <td>9956</td>\n",
       "      <td>10045</td>\n",
       "      <td>0.001742</td>\n",
       "      <td>-0.119758</td>\n",
       "    </tr>\n",
       "  </tbody>\n",
       "</table>\n",
       "</div>"
      ],
      "text/plain": [
       "                             conclusion  mean_ctrl  mean_test  n_ctrl  n_test  \\\n",
       "signup_equal_test_date                                                          \n",
       "0.0                     Not Significant   4.603284   4.622379   39890   40109   \n",
       "1.0                         Significant   4.628867   4.509109    9956   10045   \n",
       "\n",
       "                          pvalue  test-ctrl  \n",
       "signup_equal_test_date                       \n",
       "0.0                     0.261837   0.019095  \n",
       "1.0                     0.001742  -0.119758  "
      ]
     },
     "execution_count": 42,
     "metadata": {},
     "output_type": "execute_result"
    }
   ],
   "source": [
    "tests.groupby('signup_equal_test_date').apply(run_ttest)"
   ]
  },
  {
   "cell_type": "code",
   "execution_count": 44,
   "metadata": {},
   "outputs": [
    {
     "data": {
      "text/html": [
       "<div>\n",
       "<style>\n",
       "    .dataframe thead tr:only-child th {\n",
       "        text-align: right;\n",
       "    }\n",
       "\n",
       "    .dataframe thead th {\n",
       "        text-align: left;\n",
       "    }\n",
       "\n",
       "    .dataframe tbody tr th {\n",
       "        vertical-align: top;\n",
       "    }\n",
       "</style>\n",
       "<table border=\"1\" class=\"dataframe\">\n",
       "  <thead>\n",
       "    <tr style=\"text-align: right;\">\n",
       "      <th></th>\n",
       "      <th></th>\n",
       "      <th>conclusion</th>\n",
       "      <th>mean_ctrl</th>\n",
       "      <th>mean_test</th>\n",
       "      <th>n_ctrl</th>\n",
       "      <th>n_test</th>\n",
       "      <th>pvalue</th>\n",
       "      <th>test-ctrl</th>\n",
       "    </tr>\n",
       "    <tr>\n",
       "      <th>browser</th>\n",
       "      <th>signup_equal_test_date</th>\n",
       "      <th></th>\n",
       "      <th></th>\n",
       "      <th></th>\n",
       "      <th></th>\n",
       "      <th></th>\n",
       "      <th></th>\n",
       "      <th></th>\n",
       "    </tr>\n",
       "  </thead>\n",
       "  <tbody>\n",
       "    <tr>\n",
       "      <th rowspan=\"2\" valign=\"top\">Chrome</th>\n",
       "      <th>0.0</th>\n",
       "      <td>Significant</td>\n",
       "      <td>4.607945</td>\n",
       "      <td>4.701512</td>\n",
       "      <td>17092</td>\n",
       "      <td>17525</td>\n",
       "      <td>2.290889e-04</td>\n",
       "      <td>0.093567</td>\n",
       "    </tr>\n",
       "    <tr>\n",
       "      <th>1.0</th>\n",
       "      <td>Not Significant</td>\n",
       "      <td>4.634488</td>\n",
       "      <td>4.648011</td>\n",
       "      <td>4361</td>\n",
       "      <td>4449</td>\n",
       "      <td>8.149175e-01</td>\n",
       "      <td>0.013523</td>\n",
       "    </tr>\n",
       "    <tr>\n",
       "      <th rowspan=\"2\" valign=\"top\">Firefox</th>\n",
       "      <th>0.0</th>\n",
       "      <td>Significant</td>\n",
       "      <td>4.590590</td>\n",
       "      <td>4.757306</td>\n",
       "      <td>8842</td>\n",
       "      <td>8657</td>\n",
       "      <td>3.692901e-06</td>\n",
       "      <td>0.166716</td>\n",
       "    </tr>\n",
       "    <tr>\n",
       "      <th>1.0</th>\n",
       "      <td>Not Significant</td>\n",
       "      <td>4.639906</td>\n",
       "      <td>4.539220</td>\n",
       "      <td>2130</td>\n",
       "      <td>2129</td>\n",
       "      <td>2.210706e-01</td>\n",
       "      <td>-0.100686</td>\n",
       "    </tr>\n",
       "    <tr>\n",
       "      <th rowspan=\"2\" valign=\"top\">IE</th>\n",
       "      <th>0.0</th>\n",
       "      <td>Significant</td>\n",
       "      <td>4.590576</td>\n",
       "      <td>4.721494</td>\n",
       "      <td>8744</td>\n",
       "      <td>8779</td>\n",
       "      <td>2.669847e-04</td>\n",
       "      <td>0.130918</td>\n",
       "    </tr>\n",
       "    <tr>\n",
       "      <th>1.0</th>\n",
       "      <td>Not Significant</td>\n",
       "      <td>4.630435</td>\n",
       "      <td>4.543964</td>\n",
       "      <td>2162</td>\n",
       "      <td>2195</td>\n",
       "      <td>2.808421e-01</td>\n",
       "      <td>-0.086471</td>\n",
       "    </tr>\n",
       "    <tr>\n",
       "      <th rowspan=\"2\" valign=\"top\">Opera</th>\n",
       "      <th>0.0</th>\n",
       "      <td>Significant</td>\n",
       "      <td>4.594564</td>\n",
       "      <td>0.000000</td>\n",
       "      <td>883</td>\n",
       "      <td>833</td>\n",
       "      <td>7.204927e-255</td>\n",
       "      <td>-4.594564</td>\n",
       "    </tr>\n",
       "    <tr>\n",
       "      <th>1.0</th>\n",
       "      <td>Significant</td>\n",
       "      <td>4.358407</td>\n",
       "      <td>0.000000</td>\n",
       "      <td>226</td>\n",
       "      <td>185</td>\n",
       "      <td>1.222949e-68</td>\n",
       "      <td>-4.358407</td>\n",
       "    </tr>\n",
       "    <tr>\n",
       "      <th rowspan=\"2\" valign=\"top\">Safari</th>\n",
       "      <th>0.0</th>\n",
       "      <td>Not Significant</td>\n",
       "      <td>4.638254</td>\n",
       "      <td>4.720973</td>\n",
       "      <td>4329</td>\n",
       "      <td>4315</td>\n",
       "      <td>1.000829e-01</td>\n",
       "      <td>0.082720</td>\n",
       "    </tr>\n",
       "    <tr>\n",
       "      <th>1.0</th>\n",
       "      <td>Not Significant</td>\n",
       "      <td>4.637883</td>\n",
       "      <td>4.578657</td>\n",
       "      <td>1077</td>\n",
       "      <td>1087</td>\n",
       "      <td>6.015241e-01</td>\n",
       "      <td>-0.059226</td>\n",
       "    </tr>\n",
       "  </tbody>\n",
       "</table>\n",
       "</div>"
      ],
      "text/plain": [
       "                                     conclusion  mean_ctrl  mean_test  n_ctrl  \\\n",
       "browser signup_equal_test_date                                                  \n",
       "Chrome  0.0                         Significant   4.607945   4.701512   17092   \n",
       "        1.0                     Not Significant   4.634488   4.648011    4361   \n",
       "Firefox 0.0                         Significant   4.590590   4.757306    8842   \n",
       "        1.0                     Not Significant   4.639906   4.539220    2130   \n",
       "IE      0.0                         Significant   4.590576   4.721494    8744   \n",
       "        1.0                     Not Significant   4.630435   4.543964    2162   \n",
       "Opera   0.0                         Significant   4.594564   0.000000     883   \n",
       "        1.0                         Significant   4.358407   0.000000     226   \n",
       "Safari  0.0                     Not Significant   4.638254   4.720973    4329   \n",
       "        1.0                     Not Significant   4.637883   4.578657    1077   \n",
       "\n",
       "                                n_test         pvalue  test-ctrl  \n",
       "browser signup_equal_test_date                                    \n",
       "Chrome  0.0                      17525   2.290889e-04   0.093567  \n",
       "        1.0                       4449   8.149175e-01   0.013523  \n",
       "Firefox 0.0                       8657   3.692901e-06   0.166716  \n",
       "        1.0                       2129   2.210706e-01  -0.100686  \n",
       "IE      0.0                       8779   2.669847e-04   0.130918  \n",
       "        1.0                       2195   2.808421e-01  -0.086471  \n",
       "Opera   0.0                        833  7.204927e-255  -4.594564  \n",
       "        1.0                        185   1.222949e-68  -4.358407  \n",
       "Safari  0.0                       4315   1.000829e-01   0.082720  \n",
       "        1.0                       1087   6.015241e-01  -0.059226  "
      ]
     },
     "execution_count": 44,
     "metadata": {},
     "output_type": "execute_result"
    }
   ],
   "source": [
    "tests.groupby(['browser','signup_equal_test_date']).apply(run_ttest)"
   ]
  },
  {
   "cell_type": "markdown",
   "metadata": {},
   "source": [
    "* something wrong with Safari browser, we need to double check UI or code\n",
    "* New user do not impacted by the new feature, because they do not have recommendation yet. (cold start) We can create new feature for new users such as popular people instead of friends recommentdation\n",
    "* Opera has a bug on new feature, the page view is 0\n"
   ]
  }
 ],
 "metadata": {
  "kernelspec": {
   "display_name": "Python 2",
   "language": "python",
   "name": "python2"
  },
  "language_info": {
   "codemirror_mode": {
    "name": "ipython",
    "version": 2
   },
   "file_extension": ".py",
   "mimetype": "text/x-python",
   "name": "python",
   "nbconvert_exporter": "python",
   "pygments_lexer": "ipython2",
   "version": "2.7.13"
  }
 },
 "nbformat": 4,
 "nbformat_minor": 2
}
