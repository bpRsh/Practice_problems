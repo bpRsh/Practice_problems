{
 "cells": [
  {
   "cell_type": "markdown",
   "metadata": {},
   "source": [
    "# Engagement Test\n",
    "Many sites make money by selling ads, and for these sites, the number of pages visted by users on each session is one of the most important metric.\n",
    "\n",
    "It is often data scientist responsibility to analyze test data and understand whether the model has been successful. Goal of this challenge is to look at A/B test results and draw conclusions.\n",
    "\n",
    "A social network company has added a new feature called *Recommended Friends*, suggesting people you may know. The feature suggests 5 friends to each user, and the model is tested on a random subset of users to see how it performs compared to users without the feature.\n",
    "\n",
    "The test has been running for a while, and you are asked to check, for each user, the number of pages visited during their first session since the test started. If the number increased, the test is success.\n",
    "\n",
    "Specifically, the goals of this challenge are the following:\n",
    "\n",
    "* Is the A/B test winning? That is, should 100% of the users ses the recommended friends feature?\n",
    "* Is the test performing similarly for all user segments or are there differences among different segments?\n",
    "* If you identified segments that responded differently to the test, can you guess the reason? Would this change your point 1 conclusions?\n",
    "\n",
    "*Challenge completed by: Ryan Bae*\n",
    "\n",
    "*Completion date: 10/08/2017*"
   ]
  },
  {
   "cell_type": "markdown",
   "metadata": {},
   "source": [
    "## Initial Data Exploration and Visualization\n",
    "First we start by importing necessary Python packages and the dataset."
   ]
  },
  {
   "cell_type": "code",
   "execution_count": 105,
   "metadata": {
    "collapsed": false
   },
   "outputs": [],
   "source": [
    "# import Python packages\n",
    "import numpy as np\n",
    "import pandas as pd\n",
    "import scipy.stats as ss\n",
    "import matplotlib.pyplot as plt\n",
    "%matplotlib inline\n",
    "from sklearn.linear_model import Ridge "
   ]
  },
  {
   "cell_type": "code",
   "execution_count": 2,
   "metadata": {
    "collapsed": true
   },
   "outputs": [],
   "source": [
    "# import data\n",
    "test = pd.read_csv(\"test_table.csv\")\n",
    "user = pd.read_csv(\"user_table.csv\")"
   ]
  },
  {
   "cell_type": "markdown",
   "metadata": {},
   "source": [
    "Let's take a quick summary look at the dataset."
   ]
  },
  {
   "cell_type": "code",
   "execution_count": 3,
   "metadata": {
    "collapsed": false
   },
   "outputs": [
    {
     "data": {
      "text/html": [
       "<div>\n",
       "<table border=\"1\" class=\"dataframe\">\n",
       "  <thead>\n",
       "    <tr style=\"text-align: right;\">\n",
       "      <th></th>\n",
       "      <th>user_id</th>\n",
       "      <th>test</th>\n",
       "      <th>pages_visited</th>\n",
       "    </tr>\n",
       "  </thead>\n",
       "  <tbody>\n",
       "    <tr>\n",
       "      <th>count</th>\n",
       "      <td>1.000000e+05</td>\n",
       "      <td>100000.00000</td>\n",
       "      <td>100000.000000</td>\n",
       "    </tr>\n",
       "    <tr>\n",
       "      <th>mean</th>\n",
       "      <td>4.511960e+06</td>\n",
       "      <td>0.50154</td>\n",
       "      <td>4.604030</td>\n",
       "    </tr>\n",
       "    <tr>\n",
       "      <th>std</th>\n",
       "      <td>2.596973e+06</td>\n",
       "      <td>0.50000</td>\n",
       "      <td>2.467845</td>\n",
       "    </tr>\n",
       "    <tr>\n",
       "      <th>min</th>\n",
       "      <td>3.400000e+01</td>\n",
       "      <td>0.00000</td>\n",
       "      <td>0.000000</td>\n",
       "    </tr>\n",
       "    <tr>\n",
       "      <th>25%</th>\n",
       "      <td>2.271007e+06</td>\n",
       "      <td>0.00000</td>\n",
       "      <td>3.000000</td>\n",
       "    </tr>\n",
       "    <tr>\n",
       "      <th>50%</th>\n",
       "      <td>4.519576e+06</td>\n",
       "      <td>1.00000</td>\n",
       "      <td>5.000000</td>\n",
       "    </tr>\n",
       "    <tr>\n",
       "      <th>75%</th>\n",
       "      <td>6.764484e+06</td>\n",
       "      <td>1.00000</td>\n",
       "      <td>6.000000</td>\n",
       "    </tr>\n",
       "    <tr>\n",
       "      <th>max</th>\n",
       "      <td>8.999849e+06</td>\n",
       "      <td>1.00000</td>\n",
       "      <td>17.000000</td>\n",
       "    </tr>\n",
       "  </tbody>\n",
       "</table>\n",
       "</div>"
      ],
      "text/plain": [
       "            user_id          test  pages_visited\n",
       "count  1.000000e+05  100000.00000  100000.000000\n",
       "mean   4.511960e+06       0.50154       4.604030\n",
       "std    2.596973e+06       0.50000       2.467845\n",
       "min    3.400000e+01       0.00000       0.000000\n",
       "25%    2.271007e+06       0.00000       3.000000\n",
       "50%    4.519576e+06       1.00000       5.000000\n",
       "75%    6.764484e+06       1.00000       6.000000\n",
       "max    8.999849e+06       1.00000      17.000000"
      ]
     },
     "execution_count": 3,
     "metadata": {},
     "output_type": "execute_result"
    }
   ],
   "source": [
    "test.describe()"
   ]
  },
  {
   "cell_type": "code",
   "execution_count": 4,
   "metadata": {
    "collapsed": false
   },
   "outputs": [
    {
     "data": {
      "text/html": [
       "<div>\n",
       "<table border=\"1\" class=\"dataframe\">\n",
       "  <thead>\n",
       "    <tr style=\"text-align: right;\">\n",
       "      <th></th>\n",
       "      <th>user_id</th>\n",
       "    </tr>\n",
       "  </thead>\n",
       "  <tbody>\n",
       "    <tr>\n",
       "      <th>count</th>\n",
       "      <td>1.000000e+05</td>\n",
       "    </tr>\n",
       "    <tr>\n",
       "      <th>mean</th>\n",
       "      <td>4.511960e+06</td>\n",
       "    </tr>\n",
       "    <tr>\n",
       "      <th>std</th>\n",
       "      <td>2.596973e+06</td>\n",
       "    </tr>\n",
       "    <tr>\n",
       "      <th>min</th>\n",
       "      <td>3.400000e+01</td>\n",
       "    </tr>\n",
       "    <tr>\n",
       "      <th>25%</th>\n",
       "      <td>2.271007e+06</td>\n",
       "    </tr>\n",
       "    <tr>\n",
       "      <th>50%</th>\n",
       "      <td>4.519576e+06</td>\n",
       "    </tr>\n",
       "    <tr>\n",
       "      <th>75%</th>\n",
       "      <td>6.764484e+06</td>\n",
       "    </tr>\n",
       "    <tr>\n",
       "      <th>max</th>\n",
       "      <td>8.999849e+06</td>\n",
       "    </tr>\n",
       "  </tbody>\n",
       "</table>\n",
       "</div>"
      ],
      "text/plain": [
       "            user_id\n",
       "count  1.000000e+05\n",
       "mean   4.511960e+06\n",
       "std    2.596973e+06\n",
       "min    3.400000e+01\n",
       "25%    2.271007e+06\n",
       "50%    4.519576e+06\n",
       "75%    6.764484e+06\n",
       "max    8.999849e+06"
      ]
     },
     "execution_count": 4,
     "metadata": {},
     "output_type": "execute_result"
    }
   ],
   "source": [
    "user.describe()"
   ]
  },
  {
   "cell_type": "markdown",
   "metadata": {},
   "source": [
    "We see 100000 users in both tables. The average number of pages a user visits is around 4.6, with standard deviation of around 2.5. About half of the users were tested, meaning they had the Recommended Friends features on their newsfeed. "
   ]
  },
  {
   "cell_type": "code",
   "execution_count": 5,
   "metadata": {
    "collapsed": false
   },
   "outputs": [
    {
     "data": {
      "text/html": [
       "<div>\n",
       "<table border=\"1\" class=\"dataframe\">\n",
       "  <thead>\n",
       "    <tr style=\"text-align: right;\">\n",
       "      <th></th>\n",
       "      <th>signup_date</th>\n",
       "    </tr>\n",
       "  </thead>\n",
       "  <tbody>\n",
       "    <tr>\n",
       "      <th>count</th>\n",
       "      <td>100000</td>\n",
       "    </tr>\n",
       "    <tr>\n",
       "      <th>unique</th>\n",
       "      <td>243</td>\n",
       "    </tr>\n",
       "    <tr>\n",
       "      <th>top</th>\n",
       "      <td>2015-08-19</td>\n",
       "    </tr>\n",
       "    <tr>\n",
       "      <th>freq</th>\n",
       "      <td>758</td>\n",
       "    </tr>\n",
       "  </tbody>\n",
       "</table>\n",
       "</div>"
      ],
      "text/plain": [
       "       signup_date\n",
       "count       100000\n",
       "unique         243\n",
       "top     2015-08-19\n",
       "freq           758"
      ]
     },
     "execution_count": 5,
     "metadata": {},
     "output_type": "execute_result"
    }
   ],
   "source": [
    "user.describe(include=[np.object])"
   ]
  },
  {
   "cell_type": "code",
   "execution_count": 6,
   "metadata": {
    "collapsed": false
   },
   "outputs": [
    {
     "data": {
      "text/html": [
       "<div>\n",
       "<table border=\"1\" class=\"dataframe\">\n",
       "  <thead>\n",
       "    <tr style=\"text-align: right;\">\n",
       "      <th></th>\n",
       "      <th>user_id</th>\n",
       "      <th>signup_date</th>\n",
       "    </tr>\n",
       "  </thead>\n",
       "  <tbody>\n",
       "    <tr>\n",
       "      <th>0</th>\n",
       "      <td>34</td>\n",
       "      <td>2015-01-01</td>\n",
       "    </tr>\n",
       "    <tr>\n",
       "      <th>1</th>\n",
       "      <td>59</td>\n",
       "      <td>2015-01-01</td>\n",
       "    </tr>\n",
       "    <tr>\n",
       "      <th>2</th>\n",
       "      <td>178</td>\n",
       "      <td>2015-01-01</td>\n",
       "    </tr>\n",
       "    <tr>\n",
       "      <th>3</th>\n",
       "      <td>285</td>\n",
       "      <td>2015-01-01</td>\n",
       "    </tr>\n",
       "    <tr>\n",
       "      <th>4</th>\n",
       "      <td>383</td>\n",
       "      <td>2015-01-01</td>\n",
       "    </tr>\n",
       "  </tbody>\n",
       "</table>\n",
       "</div>"
      ],
      "text/plain": [
       "   user_id signup_date\n",
       "0       34  2015-01-01\n",
       "1       59  2015-01-01\n",
       "2      178  2015-01-01\n",
       "3      285  2015-01-01\n",
       "4      383  2015-01-01"
      ]
     },
     "execution_count": 6,
     "metadata": {},
     "output_type": "execute_result"
    }
   ],
   "source": [
    "user.head(5)"
   ]
  },
  {
   "cell_type": "code",
   "execution_count": 7,
   "metadata": {
    "collapsed": false
   },
   "outputs": [
    {
     "data": {
      "text/html": [
       "<div>\n",
       "<table border=\"1\" class=\"dataframe\">\n",
       "  <thead>\n",
       "    <tr style=\"text-align: right;\">\n",
       "      <th></th>\n",
       "      <th>user_id</th>\n",
       "      <th>date</th>\n",
       "      <th>browser</th>\n",
       "      <th>test</th>\n",
       "      <th>pages_visited</th>\n",
       "    </tr>\n",
       "  </thead>\n",
       "  <tbody>\n",
       "    <tr>\n",
       "      <th>0</th>\n",
       "      <td>600597</td>\n",
       "      <td>2015-08-13</td>\n",
       "      <td>IE</td>\n",
       "      <td>0</td>\n",
       "      <td>2</td>\n",
       "    </tr>\n",
       "    <tr>\n",
       "      <th>1</th>\n",
       "      <td>4410028</td>\n",
       "      <td>2015-08-26</td>\n",
       "      <td>Chrome</td>\n",
       "      <td>1</td>\n",
       "      <td>5</td>\n",
       "    </tr>\n",
       "    <tr>\n",
       "      <th>2</th>\n",
       "      <td>6004777</td>\n",
       "      <td>2015-08-17</td>\n",
       "      <td>Chrome</td>\n",
       "      <td>0</td>\n",
       "      <td>8</td>\n",
       "    </tr>\n",
       "    <tr>\n",
       "      <th>3</th>\n",
       "      <td>5990330</td>\n",
       "      <td>2015-08-27</td>\n",
       "      <td>Safari</td>\n",
       "      <td>0</td>\n",
       "      <td>8</td>\n",
       "    </tr>\n",
       "    <tr>\n",
       "      <th>4</th>\n",
       "      <td>3622310</td>\n",
       "      <td>2015-08-07</td>\n",
       "      <td>Firefox</td>\n",
       "      <td>0</td>\n",
       "      <td>1</td>\n",
       "    </tr>\n",
       "  </tbody>\n",
       "</table>\n",
       "</div>"
      ],
      "text/plain": [
       "   user_id        date  browser  test  pages_visited\n",
       "0   600597  2015-08-13       IE     0              2\n",
       "1  4410028  2015-08-26   Chrome     1              5\n",
       "2  6004777  2015-08-17   Chrome     0              8\n",
       "3  5990330  2015-08-27   Safari     0              8\n",
       "4  3622310  2015-08-07  Firefox     0              1"
      ]
     },
     "execution_count": 7,
     "metadata": {},
     "output_type": "execute_result"
    }
   ],
   "source": [
    "test.head(5)"
   ]
  },
  {
   "cell_type": "code",
   "execution_count": 8,
   "metadata": {
    "collapsed": false
   },
   "outputs": [
    {
     "data": {
      "text/html": [
       "<div>\n",
       "<table border=\"1\" class=\"dataframe\">\n",
       "  <thead>\n",
       "    <tr style=\"text-align: right;\">\n",
       "      <th></th>\n",
       "      <th>date</th>\n",
       "      <th>browser</th>\n",
       "    </tr>\n",
       "  </thead>\n",
       "  <tbody>\n",
       "    <tr>\n",
       "      <th>count</th>\n",
       "      <td>100000</td>\n",
       "      <td>100000</td>\n",
       "    </tr>\n",
       "    <tr>\n",
       "      <th>unique</th>\n",
       "      <td>31</td>\n",
       "      <td>5</td>\n",
       "    </tr>\n",
       "    <tr>\n",
       "      <th>top</th>\n",
       "      <td>2015-08-19</td>\n",
       "      <td>Chrome</td>\n",
       "    </tr>\n",
       "    <tr>\n",
       "      <th>freq</th>\n",
       "      <td>3710</td>\n",
       "      <td>43427</td>\n",
       "    </tr>\n",
       "  </tbody>\n",
       "</table>\n",
       "</div>"
      ],
      "text/plain": [
       "              date browser\n",
       "count       100000  100000\n",
       "unique          31       5\n",
       "top     2015-08-19  Chrome\n",
       "freq          3710   43427"
      ]
     },
     "execution_count": 8,
     "metadata": {},
     "output_type": "execute_result"
    }
   ],
   "source": [
    "test.describe(include=[np.object])"
   ]
  },
  {
   "cell_type": "markdown",
   "metadata": {},
   "source": [
    "Here we see that the sign up dates for the users vary from Janary to August of 2015. There are 243 unique sign up dates, which means most users have overlapping sign up dates.\n",
    "\n",
    "Also, the most frequent browse is Chrome, and it accounts for about 43% of the browser types. Let's take a closer look at the features in both tables."
   ]
  },
  {
   "cell_type": "code",
   "execution_count": 9,
   "metadata": {
    "collapsed": false
   },
   "outputs": [
    {
     "data": {
      "text/plain": [
       "<matplotlib.axes._subplots.AxesSubplot at 0x6edd6d8>"
      ]
     },
     "execution_count": 9,
     "metadata": {},
     "output_type": "execute_result"
    },
    {
     "data": {
      "image/png": "[encoded data removed]",
      "text/plain": [
       "<matplotlib.figure.Figure at 0xb20cac8>"
      ]
     },
     "metadata": {},
     "output_type": "display_data"
    }
   ],
   "source": [
    "test[\"pages_visited\"].plot.hist()"
   ]
  },
  {
   "cell_type": "code",
   "execution_count": 10,
   "metadata": {
    "collapsed": false
   },
   "outputs": [
    {
     "data": {
      "text/plain": [
       "<matplotlib.axes._subplots.AxesSubplot at 0xcc92cf8>"
      ]
     },
     "execution_count": 10,
     "metadata": {},
     "output_type": "execute_result"
    },
    {
     "data": {
      "image/png": "[encoded data removed]",
      "text/plain": [
       "<matplotlib.figure.Figure at 0xd0c6208>"
      ]
     },
     "metadata": {},
     "output_type": "display_data"
    }
   ],
   "source": [
    "test[\"browser\"].value_counts().plot(\"bar\")"
   ]
  },
  {
   "cell_type": "markdown",
   "metadata": {},
   "source": [
    "## Data Engineering\n",
    "Now we do some data engineering. We need to join the two tables by userid, then figure out a way to properly come up with a features (or features) that can make sense of the time data (login date, sign up date, etc)."
   ]
  },
  {
   "cell_type": "code",
   "execution_count": 13,
   "metadata": {
    "collapsed": false
   },
   "outputs": [],
   "source": [
    "# join the two tables on userid\n",
    "data = pd.merge(user, test, how=\"inner\", on=\"user_id\")"
   ]
  },
  {
   "cell_type": "code",
   "execution_count": 14,
   "metadata": {
    "collapsed": false
   },
   "outputs": [
    {
     "data": {
      "text/html": [
       "<div>\n",
       "<table border=\"1\" class=\"dataframe\">\n",
       "  <thead>\n",
       "    <tr style=\"text-align: right;\">\n",
       "      <th></th>\n",
       "      <th>user_id</th>\n",
       "      <th>signup_date</th>\n",
       "      <th>date</th>\n",
       "      <th>browser</th>\n",
       "      <th>test</th>\n",
       "      <th>pages_visited</th>\n",
       "    </tr>\n",
       "  </thead>\n",
       "  <tbody>\n",
       "    <tr>\n",
       "      <th>0</th>\n",
       "      <td>34</td>\n",
       "      <td>2015-01-01</td>\n",
       "      <td>2015-08-15</td>\n",
       "      <td>Chrome</td>\n",
       "      <td>0</td>\n",
       "      <td>6</td>\n",
       "    </tr>\n",
       "    <tr>\n",
       "      <th>1</th>\n",
       "      <td>59</td>\n",
       "      <td>2015-01-01</td>\n",
       "      <td>2015-08-12</td>\n",
       "      <td>Chrome</td>\n",
       "      <td>1</td>\n",
       "      <td>6</td>\n",
       "    </tr>\n",
       "    <tr>\n",
       "      <th>2</th>\n",
       "      <td>178</td>\n",
       "      <td>2015-01-01</td>\n",
       "      <td>2015-08-10</td>\n",
       "      <td>Safari</td>\n",
       "      <td>1</td>\n",
       "      <td>3</td>\n",
       "    </tr>\n",
       "    <tr>\n",
       "      <th>3</th>\n",
       "      <td>285</td>\n",
       "      <td>2015-01-01</td>\n",
       "      <td>2015-08-03</td>\n",
       "      <td>Opera</td>\n",
       "      <td>0</td>\n",
       "      <td>5</td>\n",
       "    </tr>\n",
       "    <tr>\n",
       "      <th>4</th>\n",
       "      <td>383</td>\n",
       "      <td>2015-01-01</td>\n",
       "      <td>2015-08-05</td>\n",
       "      <td>Firefox</td>\n",
       "      <td>1</td>\n",
       "      <td>9</td>\n",
       "    </tr>\n",
       "  </tbody>\n",
       "</table>\n",
       "</div>"
      ],
      "text/plain": [
       "   user_id signup_date        date  browser  test  pages_visited\n",
       "0       34  2015-01-01  2015-08-15   Chrome     0              6\n",
       "1       59  2015-01-01  2015-08-12   Chrome     1              6\n",
       "2      178  2015-01-01  2015-08-10   Safari     1              3\n",
       "3      285  2015-01-01  2015-08-03    Opera     0              5\n",
       "4      383  2015-01-01  2015-08-05  Firefox     1              9"
      ]
     },
     "execution_count": 14,
     "metadata": {},
     "output_type": "execute_result"
    }
   ],
   "source": [
    "data.head()"
   ]
  },
  {
   "cell_type": "code",
   "execution_count": 15,
   "metadata": {
    "collapsed": false
   },
   "outputs": [
    {
     "name": "stdout",
     "output_type": "stream",
     "text": [
      "Merged table length:  100000\n"
     ]
    }
   ],
   "source": [
    "print \"Merged table length: \", len(data)"
   ]
  },
  {
   "cell_type": "markdown",
   "metadata": {},
   "source": [
    "Let's quickly compare the mean **pages_visted** values between test and control groups to see if we are seeing more pages being visited."
   ]
  },
  {
   "cell_type": "code",
   "execution_count": 108,
   "metadata": {
    "collapsed": false
   },
   "outputs": [],
   "source": [
    "# independent t-test function \n",
    "def run_ttest(df):\n",
    "    test_group = df[df[\"test\"] == 1][\"pages_visited\"]\n",
    "    control_group = df[df[\"test\"] == 0][\"pages_visited\"]\n",
    "    test_mean = test_group.mean()\n",
    "    control_mean = control_group.mean()\n",
    "    \n",
    "    result = ss.ttest_ind(control_group, test_group, equal_var=False)\n",
    "    conclusion = \"Significant\" if result.pvalue < 0.05 else \"Not Significant\"\n",
    "    \n",
    "    return pd.Series({\"n_test\": test_group.shape[0],\n",
    "                      \"n_control\": control_group.shape[0],\n",
    "                      \"mean_test\": test_mean,\n",
    "                      \"mean_control\": control_mean,\n",
    "                      \"p_value\": result.pvalue,\n",
    "                      \"conclusion\": conclusion\n",
    "                     })"
   ]
  },
  {
   "cell_type": "code",
   "execution_count": 111,
   "metadata": {
    "collapsed": false
   },
   "outputs": [
    {
     "data": {
      "text/html": [
       "<div>\n",
       "<table border=\"1\" class=\"dataframe\">\n",
       "  <thead>\n",
       "    <tr style=\"text-align: right;\">\n",
       "      <th></th>\n",
       "      <th>index</th>\n",
       "      <th>0</th>\n",
       "    </tr>\n",
       "  </thead>\n",
       "  <tbody>\n",
       "    <tr>\n",
       "      <th>0</th>\n",
       "      <td>conclusion</td>\n",
       "      <td>Not Significant</td>\n",
       "    </tr>\n",
       "    <tr>\n",
       "      <th>1</th>\n",
       "      <td>mean_control</td>\n",
       "      <td>4.60839</td>\n",
       "    </tr>\n",
       "    <tr>\n",
       "      <th>2</th>\n",
       "      <td>mean_test</td>\n",
       "      <td>4.59969</td>\n",
       "    </tr>\n",
       "    <tr>\n",
       "      <th>3</th>\n",
       "      <td>n_control</td>\n",
       "      <td>49846</td>\n",
       "    </tr>\n",
       "    <tr>\n",
       "      <th>4</th>\n",
       "      <td>n_test</td>\n",
       "      <td>50154</td>\n",
       "    </tr>\n",
       "    <tr>\n",
       "      <th>5</th>\n",
       "      <td>p_value</td>\n",
       "      <td>0.577452</td>\n",
       "    </tr>\n",
       "  </tbody>\n",
       "</table>\n",
       "</div>"
      ],
      "text/plain": [
       "          index                0\n",
       "0    conclusion  Not Significant\n",
       "1  mean_control          4.60839\n",
       "2     mean_test          4.59969\n",
       "3     n_control            49846\n",
       "4        n_test            50154\n",
       "5       p_value         0.577452"
      ]
     },
     "execution_count": 111,
     "metadata": {},
     "output_type": "execute_result"
    }
   ],
   "source": [
    "run_ttest(data).to_frame().reset_index()"
   ]
  },
  {
   "cell_type": "markdown",
   "metadata": {
    "collapsed": true
   },
   "source": [
    "* Is the A/B test winning? That is, should 100% of the users ses the recommended friends feature?\n",
    "\n",
    "***To answer the first question, the difference between the test and control group in pages visited is NOT statistically significant. At first glance, it seems like the test is NOT winning, and therefore should be stopped.***\n",
    "\n",
    "But we have to look closer at the data to confirm our t-test results. Let's take a look at the time data. A better feature to look at for our model is number of days a user has been using the social media site. It is simply the difference between the test date and the sign up date."
   ]
  },
  {
   "cell_type": "code",
   "execution_count": 16,
   "metadata": {
    "collapsed": false
   },
   "outputs": [
    {
     "name": "stdout",
     "output_type": "stream",
     "text": [
      "<type 'datetime.date'>\n",
      "<type 'datetime.date'>\n"
     ]
    },
    {
     "data": {
      "text/plain": [
       "0    2015-08-15\n",
       "1    2015-08-12\n",
       "2    2015-08-10\n",
       "3    2015-08-03\n",
       "4    2015-08-05\n",
       "Name: date, dtype: object"
      ]
     },
     "execution_count": 16,
     "metadata": {},
     "output_type": "execute_result"
    }
   ],
   "source": [
    "# first change the signup_date and date columns into pandas datetime \n",
    "data[\"date\"] = pd.to_datetime(data[\"date\"])\n",
    "data[\"date\"] = data[\"date\"].dt.date\n",
    "data[\"signup_date\"] = pd.to_datetime(data[\"signup_date\"])\n",
    "data[\"signup_date\"] = data[\"signup_date\"].dt.date\n",
    "\n",
    "# these checks should print pandas timestamp class\n",
    "print type(data[\"date\"][0])\n",
    "print type(data[\"signup_date\"][0])\n",
    "data[\"date\"].head(5)"
   ]
  },
  {
   "cell_type": "code",
   "execution_count": 17,
   "metadata": {
    "collapsed": false
   },
   "outputs": [
    {
     "data": {
      "text/html": [
       "<div>\n",
       "<table border=\"1\" class=\"dataframe\">\n",
       "  <thead>\n",
       "    <tr style=\"text-align: right;\">\n",
       "      <th></th>\n",
       "      <th>account_age</th>\n",
       "    </tr>\n",
       "  </thead>\n",
       "  <tbody>\n",
       "    <tr>\n",
       "      <th>0</th>\n",
       "      <td>226</td>\n",
       "    </tr>\n",
       "    <tr>\n",
       "      <th>1</th>\n",
       "      <td>223</td>\n",
       "    </tr>\n",
       "    <tr>\n",
       "      <th>2</th>\n",
       "      <td>221</td>\n",
       "    </tr>\n",
       "    <tr>\n",
       "      <th>3</th>\n",
       "      <td>214</td>\n",
       "    </tr>\n",
       "    <tr>\n",
       "      <th>4</th>\n",
       "      <td>216</td>\n",
       "    </tr>\n",
       "  </tbody>\n",
       "</table>\n",
       "</div>"
      ],
      "text/plain": [
       "   account_age\n",
       "0          226\n",
       "1          223\n",
       "2          221\n",
       "3          214\n",
       "4          216"
      ]
     },
     "execution_count": 17,
     "metadata": {},
     "output_type": "execute_result"
    }
   ],
   "source": [
    "# take the difference between the two dates\n",
    "data[\"account_age\"] = data[\"date\"] - data[\"signup_date\"]\n",
    "data[\"account_age\"] = data[\"account_age\"].dt.days\n",
    "data[\"account_age\"].head(5).to_frame()"
   ]
  },
  {
   "cell_type": "markdown",
   "metadata": {},
   "source": [
    "Let's take a quick moment to explore and visualize this new feature."
   ]
  },
  {
   "cell_type": "code",
   "execution_count": 18,
   "metadata": {
    "collapsed": false
   },
   "outputs": [
    {
     "data": {
      "text/plain": [
       "count    100000.000000\n",
       "mean         97.020210\n",
       "std          73.627085\n",
       "min           0.000000\n",
       "25%          29.000000\n",
       "50%          94.000000\n",
       "75%         161.000000\n",
       "max         242.000000\n",
       "Name: account_age, dtype: float64"
      ]
     },
     "execution_count": 18,
     "metadata": {},
     "output_type": "execute_result"
    }
   ],
   "source": [
    "data[\"account_age\"].describe()"
   ]
  },
  {
   "cell_type": "code",
   "execution_count": 19,
   "metadata": {
    "collapsed": false
   },
   "outputs": [
    {
     "data": {
      "text/plain": [
       "<matplotlib.axes._subplots.AxesSubplot at 0xcb519e8>"
      ]
     },
     "execution_count": 19,
     "metadata": {},
     "output_type": "execute_result"
    },
    {
     "data": {
      "image/png": "[encoded data removed]",
      "text/plain": [
       "<matplotlib.figure.Figure at 0xcd67c50>"
      ]
     },
     "metadata": {},
     "output_type": "display_data"
    }
   ],
   "source": [
    "data[\"account_age\"].plot.hist()"
   ]
  },
  {
   "cell_type": "code",
   "execution_count": 104,
   "metadata": {
    "collapsed": false
   },
   "outputs": [
    {
     "name": "stdout",
     "output_type": "stream",
     "text": [
      "Most Frequent Account Age:  0  Days\n",
      "Number of Occurances:  20001\n"
     ]
    }
   ],
   "source": [
    "print \"Most Frequent Account Age: \", data[\"account_age\"].value_counts().idxmax(), \" Days\"\n",
    "print \"Number of Occurances: \", data[\"account_age\"].value_counts().max()"
   ]
  },
  {
   "cell_type": "markdown",
   "metadata": {},
   "source": [
    "The histogram of account age shows big jump for accounts less than 25 days old. When we look closer, it becomes clear that most of it is due to accounts created that day (0 days old). Therefore, it makes more sense to change our **account_age** feature to a binary categorical feature, where the user is new or old. \n",
    "\n",
    "Most other account ages are evenly distributed between 25 to 225 days old. "
   ]
  },
  {
   "cell_type": "code",
   "execution_count": 117,
   "metadata": {
    "collapsed": false
   },
   "outputs": [
    {
     "name": "stdout",
     "output_type": "stream",
     "text": [
      "20001\n"
     ]
    },
    {
     "data": {
      "text/html": [
       "<div>\n",
       "<table border=\"1\" class=\"dataframe\">\n",
       "  <thead>\n",
       "    <tr style=\"text-align: right;\">\n",
       "      <th></th>\n",
       "      <th>user_id</th>\n",
       "      <th>signup_date</th>\n",
       "      <th>date</th>\n",
       "      <th>browser</th>\n",
       "      <th>test</th>\n",
       "      <th>pages_visited</th>\n",
       "      <th>account_age</th>\n",
       "      <th>new_user</th>\n",
       "    </tr>\n",
       "  </thead>\n",
       "  <tbody>\n",
       "    <tr>\n",
       "      <th>0</th>\n",
       "      <td>34</td>\n",
       "      <td>2015-01-01</td>\n",
       "      <td>2015-08-15</td>\n",
       "      <td>Chrome</td>\n",
       "      <td>0</td>\n",
       "      <td>6</td>\n",
       "      <td>226</td>\n",
       "      <td>0</td>\n",
       "    </tr>\n",
       "    <tr>\n",
       "      <th>1</th>\n",
       "      <td>59</td>\n",
       "      <td>2015-01-01</td>\n",
       "      <td>2015-08-12</td>\n",
       "      <td>Chrome</td>\n",
       "      <td>1</td>\n",
       "      <td>6</td>\n",
       "      <td>223</td>\n",
       "      <td>0</td>\n",
       "    </tr>\n",
       "    <tr>\n",
       "      <th>2</th>\n",
       "      <td>178</td>\n",
       "      <td>2015-01-01</td>\n",
       "      <td>2015-08-10</td>\n",
       "      <td>Safari</td>\n",
       "      <td>1</td>\n",
       "      <td>3</td>\n",
       "      <td>221</td>\n",
       "      <td>0</td>\n",
       "    </tr>\n",
       "    <tr>\n",
       "      <th>3</th>\n",
       "      <td>285</td>\n",
       "      <td>2015-01-01</td>\n",
       "      <td>2015-08-03</td>\n",
       "      <td>Opera</td>\n",
       "      <td>0</td>\n",
       "      <td>5</td>\n",
       "      <td>214</td>\n",
       "      <td>0</td>\n",
       "    </tr>\n",
       "    <tr>\n",
       "      <th>4</th>\n",
       "      <td>383</td>\n",
       "      <td>2015-01-01</td>\n",
       "      <td>2015-08-05</td>\n",
       "      <td>Firefox</td>\n",
       "      <td>1</td>\n",
       "      <td>9</td>\n",
       "      <td>216</td>\n",
       "      <td>0</td>\n",
       "    </tr>\n",
       "  </tbody>\n",
       "</table>\n",
       "</div>"
      ],
      "text/plain": [
       "   user_id signup_date        date  browser  test  pages_visited  account_age  \\\n",
       "0       34  2015-01-01  2015-08-15   Chrome     0              6          226   \n",
       "1       59  2015-01-01  2015-08-12   Chrome     1              6          223   \n",
       "2      178  2015-01-01  2015-08-10   Safari     1              3          221   \n",
       "3      285  2015-01-01  2015-08-03    Opera     0              5          214   \n",
       "4      383  2015-01-01  2015-08-05  Firefox     1              9          216   \n",
       "\n",
       "   new_user  \n",
       "0         0  \n",
       "1         0  \n",
       "2         0  \n",
       "3         0  \n",
       "4         0  "
      ]
     },
     "execution_count": 117,
     "metadata": {},
     "output_type": "execute_result"
    }
   ],
   "source": [
    "# change feature to new user or old user\n",
    "data[\"new_user\"] = data[\"account_age\"].apply(lambda x: 1 if x == 0 else 0)\n",
    "\n",
    "# should be 20001\n",
    "print len(data[data[\"new_user\"]==1])\n",
    "data.head(5)"
   ]
  },
  {
   "cell_type": "code",
   "execution_count": 135,
   "metadata": {
    "collapsed": false
   },
   "outputs": [
    {
     "data": {
      "text/html": [
       "<div>\n",
       "<table border=\"1\" class=\"dataframe\">\n",
       "  <thead>\n",
       "    <tr style=\"text-align: right;\">\n",
       "      <th></th>\n",
       "      <th>test</th>\n",
       "      <th>pages_visited</th>\n",
       "      <th>new_user</th>\n",
       "      <th>browser</th>\n",
       "    </tr>\n",
       "  </thead>\n",
       "  <tbody>\n",
       "    <tr>\n",
       "      <th>0</th>\n",
       "      <td>0</td>\n",
       "      <td>6</td>\n",
       "      <td>0</td>\n",
       "      <td>Chrome</td>\n",
       "    </tr>\n",
       "    <tr>\n",
       "      <th>1</th>\n",
       "      <td>1</td>\n",
       "      <td>6</td>\n",
       "      <td>0</td>\n",
       "      <td>Chrome</td>\n",
       "    </tr>\n",
       "    <tr>\n",
       "      <th>2</th>\n",
       "      <td>1</td>\n",
       "      <td>3</td>\n",
       "      <td>0</td>\n",
       "      <td>Safari</td>\n",
       "    </tr>\n",
       "    <tr>\n",
       "      <th>3</th>\n",
       "      <td>0</td>\n",
       "      <td>5</td>\n",
       "      <td>0</td>\n",
       "      <td>Opera</td>\n",
       "    </tr>\n",
       "    <tr>\n",
       "      <th>4</th>\n",
       "      <td>1</td>\n",
       "      <td>9</td>\n",
       "      <td>0</td>\n",
       "      <td>Firefox</td>\n",
       "    </tr>\n",
       "  </tbody>\n",
       "</table>\n",
       "</div>"
      ],
      "text/plain": [
       "   test  pages_visited  new_user  browser\n",
       "0     0              6         0   Chrome\n",
       "1     1              6         0   Chrome\n",
       "2     1              3         0   Safari\n",
       "3     0              5         0    Opera\n",
       "4     1              9         0  Firefox"
      ]
     },
     "execution_count": 135,
     "metadata": {},
     "output_type": "execute_result"
    }
   ],
   "source": [
    "# get rid of unnecessary columns\n",
    "features = [\"test\",\"pages_visited\",\"new_user\",\"browser\"]\n",
    "data = data[features]\n",
    "data.head(5)"
   ]
  },
  {
   "cell_type": "markdown",
   "metadata": {},
   "source": [
    "## More Data Exploration\n",
    "Now that we have completed the data engineering portion, let's take a deeper look at the data set to see if the difference in mean values of pages_visted for different user segments are statistically significant.\n",
    "\n",
    "We will start with the newly created **new_user** feature."
   ]
  },
  {
   "cell_type": "code",
   "execution_count": 118,
   "metadata": {
    "collapsed": false
   },
   "outputs": [
    {
     "data": {
      "text/html": [
       "<div>\n",
       "<table border=\"1\" class=\"dataframe\">\n",
       "  <thead>\n",
       "    <tr style=\"text-align: right;\">\n",
       "      <th></th>\n",
       "      <th>test</th>\n",
       "      <th>pages_visited</th>\n",
       "      <th>new_user</th>\n",
       "    </tr>\n",
       "  </thead>\n",
       "  <tbody>\n",
       "    <tr>\n",
       "      <th>0</th>\n",
       "      <td>0</td>\n",
       "      <td>4.608394</td>\n",
       "      <td>0.199735</td>\n",
       "    </tr>\n",
       "    <tr>\n",
       "      <th>1</th>\n",
       "      <td>1</td>\n",
       "      <td>4.599693</td>\n",
       "      <td>0.200283</td>\n",
       "    </tr>\n",
       "  </tbody>\n",
       "</table>\n",
       "</div>"
      ],
      "text/plain": [
       "   test  pages_visited  new_user\n",
       "0     0       4.608394  0.199735\n",
       "1     1       4.599693  0.200283"
      ]
     },
     "execution_count": 118,
     "metadata": {},
     "output_type": "execute_result"
    }
   ],
   "source": [
    "# run independent t-test on new_user column\n",
    "data[features].groupby(\"test\").mean().reset_index()"
   ]
  },
  {
   "cell_type": "code",
   "execution_count": 133,
   "metadata": {
    "collapsed": false
   },
   "outputs": [
    {
     "data": {
      "text/html": [
       "<div>\n",
       "<table border=\"1\" class=\"dataframe\">\n",
       "  <thead>\n",
       "    <tr style=\"text-align: right;\">\n",
       "      <th></th>\n",
       "      <th>conclusion</th>\n",
       "      <th>mean_control</th>\n",
       "      <th>mean_test</th>\n",
       "      <th>n_control</th>\n",
       "      <th>n_test</th>\n",
       "      <th>p_value</th>\n",
       "    </tr>\n",
       "    <tr>\n",
       "      <th>new_user</th>\n",
       "      <th></th>\n",
       "      <th></th>\n",
       "      <th></th>\n",
       "      <th></th>\n",
       "      <th></th>\n",
       "      <th></th>\n",
       "    </tr>\n",
       "  </thead>\n",
       "  <tbody>\n",
       "    <tr>\n",
       "      <th>0</th>\n",
       "      <td>Not Significant</td>\n",
       "      <td>4.603284</td>\n",
       "      <td>4.622379</td>\n",
       "      <td>39890</td>\n",
       "      <td>40109</td>\n",
       "      <td>0.261837</td>\n",
       "    </tr>\n",
       "    <tr>\n",
       "      <th>1</th>\n",
       "      <td>Significant</td>\n",
       "      <td>4.628867</td>\n",
       "      <td>4.509109</td>\n",
       "      <td>9956</td>\n",
       "      <td>10045</td>\n",
       "      <td>0.001742</td>\n",
       "    </tr>\n",
       "  </tbody>\n",
       "</table>\n",
       "</div>"
      ],
      "text/plain": [
       "               conclusion  mean_control  mean_test  n_control  n_test  \\\n",
       "new_user                                                                \n",
       "0         Not Significant      4.603284   4.622379      39890   40109   \n",
       "1             Significant      4.628867   4.509109       9956   10045   \n",
       "\n",
       "           p_value  \n",
       "new_user            \n",
       "0         0.261837  \n",
       "1         0.001742  "
      ]
     },
     "execution_count": 133,
     "metadata": {},
     "output_type": "execute_result"
    }
   ],
   "source": [
    "data.groupby(\"new_user\").apply(run_ttest)"
   ]
  },
  {
   "cell_type": "markdown",
   "metadata": {},
   "source": [
    "Interesting! The p-value for new users show a statistically significant result, while the p-value for non new users did not. This is an intersting insight. Let's now take a look the different browsers."
   ]
  },
  {
   "cell_type": "code",
   "execution_count": 136,
   "metadata": {
    "collapsed": false
   },
   "outputs": [
    {
     "data": {
      "text/html": [
       "<div>\n",
       "<table border=\"1\" class=\"dataframe\">\n",
       "  <thead>\n",
       "    <tr style=\"text-align: right;\">\n",
       "      <th></th>\n",
       "      <th>browser</th>\n",
       "      <th>test</th>\n",
       "      <th>pages_visited</th>\n",
       "      <th>new_user</th>\n",
       "    </tr>\n",
       "  </thead>\n",
       "  <tbody>\n",
       "    <tr>\n",
       "      <th>0</th>\n",
       "      <td>Chrome</td>\n",
       "      <td>0.505999</td>\n",
       "      <td>4.652474</td>\n",
       "      <td>0.202869</td>\n",
       "    </tr>\n",
       "    <tr>\n",
       "      <th>1</th>\n",
       "      <td>Firefox</td>\n",
       "      <td>0.495726</td>\n",
       "      <td>4.656724</td>\n",
       "      <td>0.195744</td>\n",
       "    </tr>\n",
       "    <tr>\n",
       "      <th>2</th>\n",
       "      <td>IE</td>\n",
       "      <td>0.501554</td>\n",
       "      <td>4.642367</td>\n",
       "      <td>0.199132</td>\n",
       "    </tr>\n",
       "    <tr>\n",
       "      <th>3</th>\n",
       "      <td>Opera</td>\n",
       "      <td>0.478608</td>\n",
       "      <td>2.370475</td>\n",
       "      <td>0.193230</td>\n",
       "    </tr>\n",
       "    <tr>\n",
       "      <th>4</th>\n",
       "      <td>Safari</td>\n",
       "      <td>0.499815</td>\n",
       "      <td>4.665248</td>\n",
       "      <td>0.200222</td>\n",
       "    </tr>\n",
       "  </tbody>\n",
       "</table>\n",
       "</div>"
      ],
      "text/plain": [
       "   browser      test  pages_visited  new_user\n",
       "0   Chrome  0.505999       4.652474  0.202869\n",
       "1  Firefox  0.495726       4.656724  0.195744\n",
       "2       IE  0.501554       4.642367  0.199132\n",
       "3    Opera  0.478608       2.370475  0.193230\n",
       "4   Safari  0.499815       4.665248  0.200222"
      ]
     },
     "execution_count": 136,
     "metadata": {},
     "output_type": "execute_result"
    }
   ],
   "source": [
    "# run independent t-test on browswer column\n",
    "data[features].groupby(\"browser\").mean().reset_index()"
   ]
  },
  {
   "cell_type": "markdown",
   "metadata": {},
   "source": [
    "Each browser had about 50/50 test/non-test users. The account age shows slighly more variation, although it looks statistically insignificant.\n",
    "\n",
    "However, users who used Opera browser (which was the least represented browser among users) visited significantly smaller number of pages than other browser users. The difference is huge, with more than 2 less pages visted on average!\n",
    "\n",
    "Let's take a closer look. "
   ]
  },
  {
   "cell_type": "code",
   "execution_count": 138,
   "metadata": {
    "collapsed": false
   },
   "outputs": [
    {
     "data": {
      "text/html": [
       "<div>\n",
       "<table border=\"1\" class=\"dataframe\">\n",
       "  <thead>\n",
       "    <tr style=\"text-align: right;\">\n",
       "      <th></th>\n",
       "      <th>browser</th>\n",
       "      <th>test</th>\n",
       "      <th>pages_visited</th>\n",
       "      <th>new_user</th>\n",
       "    </tr>\n",
       "  </thead>\n",
       "  <tbody>\n",
       "    <tr>\n",
       "      <th>0</th>\n",
       "      <td>Chrome</td>\n",
       "      <td>0</td>\n",
       "      <td>4.613341</td>\n",
       "      <td>0.203282</td>\n",
       "    </tr>\n",
       "    <tr>\n",
       "      <th>1</th>\n",
       "      <td>Chrome</td>\n",
       "      <td>1</td>\n",
       "      <td>4.690680</td>\n",
       "      <td>0.202467</td>\n",
       "    </tr>\n",
       "    <tr>\n",
       "      <th>2</th>\n",
       "      <td>Firefox</td>\n",
       "      <td>0</td>\n",
       "      <td>4.600164</td>\n",
       "      <td>0.194131</td>\n",
       "    </tr>\n",
       "    <tr>\n",
       "      <th>3</th>\n",
       "      <td>Firefox</td>\n",
       "      <td>1</td>\n",
       "      <td>4.714259</td>\n",
       "      <td>0.197385</td>\n",
       "    </tr>\n",
       "    <tr>\n",
       "      <th>4</th>\n",
       "      <td>IE</td>\n",
       "      <td>0</td>\n",
       "      <td>4.598478</td>\n",
       "      <td>0.198240</td>\n",
       "    </tr>\n",
       "    <tr>\n",
       "      <th>5</th>\n",
       "      <td>IE</td>\n",
       "      <td>1</td>\n",
       "      <td>4.685985</td>\n",
       "      <td>0.200018</td>\n",
       "    </tr>\n",
       "    <tr>\n",
       "      <th>6</th>\n",
       "      <td>Opera</td>\n",
       "      <td>0</td>\n",
       "      <td>4.546438</td>\n",
       "      <td>0.203787</td>\n",
       "    </tr>\n",
       "    <tr>\n",
       "      <th>7</th>\n",
       "      <td>Opera</td>\n",
       "      <td>1</td>\n",
       "      <td>0.000000</td>\n",
       "      <td>0.181729</td>\n",
       "    </tr>\n",
       "    <tr>\n",
       "      <th>8</th>\n",
       "      <td>Safari</td>\n",
       "      <td>0</td>\n",
       "      <td>4.638180</td>\n",
       "      <td>0.199223</td>\n",
       "    </tr>\n",
       "    <tr>\n",
       "      <th>9</th>\n",
       "      <td>Safari</td>\n",
       "      <td>1</td>\n",
       "      <td>4.692336</td>\n",
       "      <td>0.201222</td>\n",
       "    </tr>\n",
       "  </tbody>\n",
       "</table>\n",
       "</div>"
      ],
      "text/plain": [
       "   browser  test  pages_visited  new_user\n",
       "0   Chrome     0       4.613341  0.203282\n",
       "1   Chrome     1       4.690680  0.202467\n",
       "2  Firefox     0       4.600164  0.194131\n",
       "3  Firefox     1       4.714259  0.197385\n",
       "4       IE     0       4.598478  0.198240\n",
       "5       IE     1       4.685985  0.200018\n",
       "6    Opera     0       4.546438  0.203787\n",
       "7    Opera     1       0.000000  0.181729\n",
       "8   Safari     0       4.638180  0.199223\n",
       "9   Safari     1       4.692336  0.201222"
      ]
     },
     "execution_count": 138,
     "metadata": {},
     "output_type": "execute_result"
    }
   ],
   "source": [
    "data.groupby([\"browser\",\"test\"]).mean().reset_index()"
   ]
  },
  {
   "cell_type": "code",
   "execution_count": 137,
   "metadata": {
    "collapsed": false
   },
   "outputs": [
    {
     "data": {
      "text/html": [
       "<div>\n",
       "<table border=\"1\" class=\"dataframe\">\n",
       "  <thead>\n",
       "    <tr style=\"text-align: right;\">\n",
       "      <th></th>\n",
       "      <th>conclusion</th>\n",
       "      <th>mean_control</th>\n",
       "      <th>mean_test</th>\n",
       "      <th>n_control</th>\n",
       "      <th>n_test</th>\n",
       "      <th>p_value</th>\n",
       "    </tr>\n",
       "    <tr>\n",
       "      <th>browser</th>\n",
       "      <th></th>\n",
       "      <th></th>\n",
       "      <th></th>\n",
       "      <th></th>\n",
       "      <th></th>\n",
       "      <th></th>\n",
       "    </tr>\n",
       "  </thead>\n",
       "  <tbody>\n",
       "    <tr>\n",
       "      <th>Chrome</th>\n",
       "      <td>Significant</td>\n",
       "      <td>4.613341</td>\n",
       "      <td>4.690680</td>\n",
       "      <td>21453</td>\n",
       "      <td>21974</td>\n",
       "      <td>9.434084e-04</td>\n",
       "    </tr>\n",
       "    <tr>\n",
       "      <th>Firefox</th>\n",
       "      <td>Significant</td>\n",
       "      <td>4.600164</td>\n",
       "      <td>4.714259</td>\n",
       "      <td>10972</td>\n",
       "      <td>10786</td>\n",
       "      <td>5.817199e-04</td>\n",
       "    </tr>\n",
       "    <tr>\n",
       "      <th>IE</th>\n",
       "      <td>Significant</td>\n",
       "      <td>4.598478</td>\n",
       "      <td>4.685985</td>\n",
       "      <td>10906</td>\n",
       "      <td>10974</td>\n",
       "      <td>7.829509e-03</td>\n",
       "    </tr>\n",
       "    <tr>\n",
       "      <th>Opera</th>\n",
       "      <td>Significant</td>\n",
       "      <td>4.546438</td>\n",
       "      <td>0.000000</td>\n",
       "      <td>1109</td>\n",
       "      <td>1018</td>\n",
       "      <td>2.252939e-321</td>\n",
       "    </tr>\n",
       "    <tr>\n",
       "      <th>Safari</th>\n",
       "      <td>Not Significant</td>\n",
       "      <td>4.638180</td>\n",
       "      <td>4.692336</td>\n",
       "      <td>5406</td>\n",
       "      <td>5402</td>\n",
       "      <td>2.411738e-01</td>\n",
       "    </tr>\n",
       "  </tbody>\n",
       "</table>\n",
       "</div>"
      ],
      "text/plain": [
       "              conclusion  mean_control  mean_test  n_control  n_test  \\\n",
       "browser                                                                \n",
       "Chrome       Significant      4.613341   4.690680      21453   21974   \n",
       "Firefox      Significant      4.600164   4.714259      10972   10786   \n",
       "IE           Significant      4.598478   4.685985      10906   10974   \n",
       "Opera        Significant      4.546438   0.000000       1109    1018   \n",
       "Safari   Not Significant      4.638180   4.692336       5406    5402   \n",
       "\n",
       "               p_value  \n",
       "browser                 \n",
       "Chrome    9.434084e-04  \n",
       "Firefox   5.817199e-04  \n",
       "IE        7.829509e-03  \n",
       "Opera    2.252939e-321  \n",
       "Safari    2.411738e-01  "
      ]
     },
     "execution_count": 137,
     "metadata": {},
     "output_type": "execute_result"
    }
   ],
   "source": [
    "data.groupby(\"browser\").apply(run_ttest)"
   ]
  },
  {
   "cell_type": "markdown",
   "metadata": {},
   "source": [
    "Woah! Opera users who got the test page has mean value of pages_visited of 0! This is highly unlikely result, as the chance of tens of thousands of users on Opera not visiting *any* pages is next to nothing. This seems to suggest an error with data collection or the A/B test itself. \n",
    "\n",
    "All the other browsers show statistically significant increases in the visted pages mean value. This tells me that the test is running successfully, at least on the other browsers.\n",
    "\n",
    "* Is the test performing similarly for all user segments or are there differences among different segments?\n",
    "\n",
    "***The test is NOT performing similarly for all user segments. The Opera browser users that are shown the test feature show mean value of visted pages as 0. Safari users are also not seeing a statistically significant improvement. Finally, new users see a statistically significant decrease in the average number of pages visited.*** \n",
    "\n",
    "* If you identified segments that responded differently to the test, can you guess the reason? Would this change your point 1 conclusions?\n",
    "\n",
    "***There seems to be a bug with the Opera browser roll out of the A/B test, and users' number of visited pages are not being recorded. We have to get rid of the Opera browser data from the dataframe and re-perform the t-test. Most other browsers showed a statistically significant difference in mean value of pages visited, the redone overall test should do so as well. This changes the conclusion from point 1.***\n",
    "\n",
    "***For Safari users, the result could be due to some Safari specific feature that is interfering with the recommended friends product. For example, Safari browser could hide the new friends recommendations because of its browser layout.***\n",
    "\n",
    "***Regarding the decrease in traffic from new users, it could be that the new users simply do not have a large enough network yet to suggest 5 relevant new friends. Therefore, the new feature has little effect on new users, and if anything, scares them away from the website due to too much information. It is recommended that new users be not shown this recommended friends features right away.***"
   ]
  },
  {
   "cell_type": "code",
   "execution_count": 142,
   "metadata": {
    "collapsed": false
   },
   "outputs": [
    {
     "data": {
      "text/plain": [
       "conclusion      Significant\n",
       "mean_control         4.6098\n",
       "mean_test           4.69499\n",
       "n_control             48737\n",
       "n_test                49136\n",
       "p_value         4.40395e-08\n",
       "dtype: object"
      ]
     },
     "execution_count": 142,
     "metadata": {},
     "output_type": "execute_result"
    }
   ],
   "source": [
    "# re-perform the t-test without Opera browser data\n",
    "data = data[data[\"browser\"] != \"Opera\"]\n",
    "run_ttest(data)"
   ]
  },
  {
   "cell_type": "markdown",
   "metadata": {},
   "source": [
    "And indeed, we see a statistically significant result after the Opera browser results have been removed. "
   ]
  },
  {
   "cell_type": "markdown",
   "metadata": {},
   "source": [
    "## More Data Visualization (OPTIONAL)\n",
    "\n",
    "Visualization of browser types."
   ]
  },
  {
   "cell_type": "code",
   "execution_count": 23,
   "metadata": {
    "collapsed": false
   },
   "outputs": [
    {
     "data": {
      "text/plain": [
       "<matplotlib.legend.Legend at 0xd81c5c0>"
      ]
     },
     "execution_count": 23,
     "metadata": {},
     "output_type": "execute_result"
    },
    {
     "data": {
      "image/png": "[encoded data removed]",
      "text/plain": [
       "<matplotlib.figure.Figure at 0xd82beb8>"
      ]
     },
     "metadata": {},
     "output_type": "display_data"
    }
   ],
   "source": [
    "## plot above in matplotlib with Opera data\n",
    "\n",
    "# divide data into test and control and extract pages_visited \n",
    "control = data[data[\"test\"]==0]\n",
    "testing = data[data[\"test\"]==1]\n",
    "control_mean = control.groupby(\"browser\").mean()\n",
    "control_mean = control_mean[\"pages_visited\"]\n",
    "test_mean = testing.groupby(\"browser\").mean()\n",
    "test_mean = test_mean[\"pages_visited\"]\n",
    "\n",
    "# set labels and width\n",
    "browsers = sorted(data[\"browser\"].unique())\n",
    "ind = np.arange(len(browsers))\n",
    "width = 0.35\n",
    "\n",
    "# plot figure\n",
    "fig, ax = plt.subplots(figsize=(10,7))\n",
    "control_bars = ax.bar(ind, control_mean, width, color='r')\n",
    "test_bars = ax.bar(ind+width, test_mean, width, color='b')\n",
    "\n",
    "# axis \n",
    "ax.set_xlabel('Browser Used')\n",
    "ax.set_ylabel('Mean of Pages Visited')\n",
    "ax.set_xticks(ind+width/2)\n",
    "ax.set_xticklabels(browsers)\n",
    "ax.legend((control_bars[0], test_bars[0]),('Control','Test'))"
   ]
  },
  {
   "cell_type": "code",
   "execution_count": 24,
   "metadata": {
    "collapsed": false
   },
   "outputs": [
    {
     "data": {
      "text/plain": [
       "<matplotlib.legend.Legend at 0xd864b00>"
      ]
     },
     "execution_count": 24,
     "metadata": {},
     "output_type": "execute_result"
    },
    {
     "data": {
      "image/png": "[encoded data removed]",
      "text/plain": [
       "<matplotlib.figure.Figure at 0xd82bda0>"
      ]
     },
     "metadata": {},
     "output_type": "display_data"
    }
   ],
   "source": [
    "## plot above in matplotlib without Opera data\n",
    "data_noop = data[data[\"browser\"] != \"Opera\"]\n",
    "\n",
    "# divide data into test and control and extract pages_visited \n",
    "control = data_noop[data_noop[\"test\"]==0]\n",
    "testing = data_noop[data_noop[\"test\"]==1]\n",
    "control_mean = control.groupby(\"browser\").mean()\n",
    "control_mean = control_mean[\"pages_visited\"]\n",
    "test_mean = testing.groupby(\"browser\").mean()\n",
    "test_mean = test_mean[\"pages_visited\"]\n",
    "\n",
    "# set labels and width\n",
    "browsers = sorted(data_noop[\"browser\"].unique())\n",
    "ind = np.arange(len(browsers))\n",
    "width = 0.35\n",
    "\n",
    "# plot figure\n",
    "fig, ax = plt.subplots(figsize=(10,7))\n",
    "control_bars = ax.bar(ind, control_mean, width, color='r')\n",
    "test_bars = ax.bar(ind+width, test_mean, width, color='b')\n",
    "\n",
    "# axis \n",
    "ax.set_xlabel('Browser Used')\n",
    "ax.set_ylabel('Mean of Pages Visited')\n",
    "ax.set_xticks(ind+width/2)\n",
    "ax.set_xticklabels(browsers)\n",
    "ax.legend((control_bars[0], test_bars[0]),('Control','Test'))"
   ]
  },
  {
   "cell_type": "markdown",
   "metadata": {},
   "source": [
    "## Machine Learning (OPTIONAL)\n",
    "Let's build a regression model and see if we can use the coefficient values to confirm our findings above. This is optional exercise for the purpose of practice. \n",
    "\n",
    "Since the variable to predict here is numeric, we use a regression model. Because the Opera data is considered unreliable from the initial data exploration, we use the data set without the Opera users. \n",
    "\n",
    "We fit **ridge regularized regression (L2 norm)** model. We picked Ridge regression because the data set is not particularly high dimensional (there's only few features), and so feature reduction is not a problem. "
   ]
  },
  {
   "cell_type": "code",
   "execution_count": 143,
   "metadata": {
    "collapsed": false
   },
   "outputs": [
    {
     "data": {
      "text/html": [
       "<div>\n",
       "<table border=\"1\" class=\"dataframe\">\n",
       "  <thead>\n",
       "    <tr style=\"text-align: right;\">\n",
       "      <th></th>\n",
       "      <th>test</th>\n",
       "      <th>pages_visited</th>\n",
       "      <th>new_user</th>\n",
       "      <th>browser</th>\n",
       "    </tr>\n",
       "  </thead>\n",
       "  <tbody>\n",
       "    <tr>\n",
       "      <th>0</th>\n",
       "      <td>0</td>\n",
       "      <td>6</td>\n",
       "      <td>0</td>\n",
       "      <td>Chrome</td>\n",
       "    </tr>\n",
       "    <tr>\n",
       "      <th>1</th>\n",
       "      <td>1</td>\n",
       "      <td>6</td>\n",
       "      <td>0</td>\n",
       "      <td>Chrome</td>\n",
       "    </tr>\n",
       "    <tr>\n",
       "      <th>2</th>\n",
       "      <td>1</td>\n",
       "      <td>3</td>\n",
       "      <td>0</td>\n",
       "      <td>Safari</td>\n",
       "    </tr>\n",
       "    <tr>\n",
       "      <th>4</th>\n",
       "      <td>1</td>\n",
       "      <td>9</td>\n",
       "      <td>0</td>\n",
       "      <td>Firefox</td>\n",
       "    </tr>\n",
       "    <tr>\n",
       "      <th>5</th>\n",
       "      <td>0</td>\n",
       "      <td>1</td>\n",
       "      <td>0</td>\n",
       "      <td>IE</td>\n",
       "    </tr>\n",
       "  </tbody>\n",
       "</table>\n",
       "</div>"
      ],
      "text/plain": [
       "   test  pages_visited  new_user  browser\n",
       "0     0              6         0   Chrome\n",
       "1     1              6         0   Chrome\n",
       "2     1              3         0   Safari\n",
       "4     1              9         0  Firefox\n",
       "5     0              1         0       IE"
      ]
     },
     "execution_count": 143,
     "metadata": {},
     "output_type": "execute_result"
    }
   ],
   "source": [
    "data.head(5)"
   ]
  },
  {
   "cell_type": "markdown",
   "metadata": {},
   "source": [
    "We one-hot encode the data to prepare it for the regression algorithm."
   ]
  },
  {
   "cell_type": "code",
   "execution_count": 145,
   "metadata": {
    "collapsed": false,
    "scrolled": true
   },
   "outputs": [
    {
     "data": {
      "text/html": [
       "<div>\n",
       "<table border=\"1\" class=\"dataframe\">\n",
       "  <thead>\n",
       "    <tr style=\"text-align: right;\">\n",
       "      <th></th>\n",
       "      <th>test</th>\n",
       "      <th>pages_visited</th>\n",
       "      <th>new_user</th>\n",
       "      <th>browser_Chrome</th>\n",
       "      <th>browser_Firefox</th>\n",
       "      <th>browser_IE</th>\n",
       "      <th>browser_Safari</th>\n",
       "    </tr>\n",
       "  </thead>\n",
       "  <tbody>\n",
       "    <tr>\n",
       "      <th>0</th>\n",
       "      <td>0</td>\n",
       "      <td>6</td>\n",
       "      <td>0</td>\n",
       "      <td>1.0</td>\n",
       "      <td>0.0</td>\n",
       "      <td>0.0</td>\n",
       "      <td>0.0</td>\n",
       "    </tr>\n",
       "    <tr>\n",
       "      <th>1</th>\n",
       "      <td>1</td>\n",
       "      <td>6</td>\n",
       "      <td>0</td>\n",
       "      <td>1.0</td>\n",
       "      <td>0.0</td>\n",
       "      <td>0.0</td>\n",
       "      <td>0.0</td>\n",
       "    </tr>\n",
       "    <tr>\n",
       "      <th>2</th>\n",
       "      <td>1</td>\n",
       "      <td>3</td>\n",
       "      <td>0</td>\n",
       "      <td>0.0</td>\n",
       "      <td>0.0</td>\n",
       "      <td>0.0</td>\n",
       "      <td>1.0</td>\n",
       "    </tr>\n",
       "    <tr>\n",
       "      <th>4</th>\n",
       "      <td>1</td>\n",
       "      <td>9</td>\n",
       "      <td>0</td>\n",
       "      <td>0.0</td>\n",
       "      <td>1.0</td>\n",
       "      <td>0.0</td>\n",
       "      <td>0.0</td>\n",
       "    </tr>\n",
       "    <tr>\n",
       "      <th>5</th>\n",
       "      <td>0</td>\n",
       "      <td>1</td>\n",
       "      <td>0</td>\n",
       "      <td>0.0</td>\n",
       "      <td>0.0</td>\n",
       "      <td>1.0</td>\n",
       "      <td>0.0</td>\n",
       "    </tr>\n",
       "  </tbody>\n",
       "</table>\n",
       "</div>"
      ],
      "text/plain": [
       "   test  pages_visited  new_user  browser_Chrome  browser_Firefox  browser_IE  \\\n",
       "0     0              6         0             1.0              0.0         0.0   \n",
       "1     1              6         0             1.0              0.0         0.0   \n",
       "2     1              3         0             0.0              0.0         0.0   \n",
       "4     1              9         0             0.0              1.0         0.0   \n",
       "5     0              1         0             0.0              0.0         1.0   \n",
       "\n",
       "   browser_Safari  \n",
       "0             0.0  \n",
       "1             0.0  \n",
       "2             1.0  \n",
       "4             0.0  \n",
       "5             0.0  "
      ]
     },
     "execution_count": 145,
     "metadata": {},
     "output_type": "execute_result"
    }
   ],
   "source": [
    "# one hot encoding\n",
    "data_en = pd.get_dummies(data)\n",
    "data_en.head(5)"
   ]
  },
  {
   "cell_type": "code",
   "execution_count": 146,
   "metadata": {
    "collapsed": false,
    "scrolled": true
   },
   "outputs": [
    {
     "name": "stdout",
     "output_type": "stream",
     "text": [
      "Training set length:  78298\n",
      "Testing set length:  19575\n"
     ]
    },
    {
     "data": {
      "text/html": [
       "<div>\n",
       "<table border=\"1\" class=\"dataframe\">\n",
       "  <thead>\n",
       "    <tr style=\"text-align: right;\">\n",
       "      <th></th>\n",
       "      <th>test</th>\n",
       "      <th>new_user</th>\n",
       "      <th>browser_Chrome</th>\n",
       "      <th>browser_Firefox</th>\n",
       "      <th>browser_IE</th>\n",
       "      <th>browser_Safari</th>\n",
       "    </tr>\n",
       "  </thead>\n",
       "  <tbody>\n",
       "    <tr>\n",
       "      <th>83630</th>\n",
       "      <td>1</td>\n",
       "      <td>1</td>\n",
       "      <td>0.0</td>\n",
       "      <td>1.0</td>\n",
       "      <td>0.0</td>\n",
       "      <td>0.0</td>\n",
       "    </tr>\n",
       "    <tr>\n",
       "      <th>88237</th>\n",
       "      <td>0</td>\n",
       "      <td>1</td>\n",
       "      <td>0.0</td>\n",
       "      <td>1.0</td>\n",
       "      <td>0.0</td>\n",
       "      <td>0.0</td>\n",
       "    </tr>\n",
       "    <tr>\n",
       "      <th>84295</th>\n",
       "      <td>1</td>\n",
       "      <td>1</td>\n",
       "      <td>1.0</td>\n",
       "      <td>0.0</td>\n",
       "      <td>0.0</td>\n",
       "      <td>0.0</td>\n",
       "    </tr>\n",
       "    <tr>\n",
       "      <th>19601</th>\n",
       "      <td>1</td>\n",
       "      <td>0</td>\n",
       "      <td>0.0</td>\n",
       "      <td>1.0</td>\n",
       "      <td>0.0</td>\n",
       "      <td>0.0</td>\n",
       "    </tr>\n",
       "    <tr>\n",
       "      <th>10663</th>\n",
       "      <td>1</td>\n",
       "      <td>0</td>\n",
       "      <td>0.0</td>\n",
       "      <td>0.0</td>\n",
       "      <td>1.0</td>\n",
       "      <td>0.0</td>\n",
       "    </tr>\n",
       "  </tbody>\n",
       "</table>\n",
       "</div>"
      ],
      "text/plain": [
       "       test  new_user  browser_Chrome  browser_Firefox  browser_IE  \\\n",
       "83630     1         1             0.0              1.0         0.0   \n",
       "88237     0         1             0.0              1.0         0.0   \n",
       "84295     1         1             1.0              0.0         0.0   \n",
       "19601     1         0             0.0              1.0         0.0   \n",
       "10663     1         0             0.0              0.0         1.0   \n",
       "\n",
       "       browser_Safari  \n",
       "83630             0.0  \n",
       "88237             0.0  \n",
       "84295             0.0  \n",
       "19601             0.0  \n",
       "10663             0.0  "
      ]
     },
     "execution_count": 146,
     "metadata": {},
     "output_type": "execute_result"
    }
   ],
   "source": [
    "# split into train and test sets\n",
    "train = data_en.sample(frac=0.8, random_state=1)\n",
    "test = data_en.drop(train.index)\n",
    "\n",
    "x_train = train.drop(\"pages_visited\", 1)\n",
    "y_train = train[\"pages_visited\"]\n",
    "x_test = test.drop(\"pages_visited\", 1)\n",
    "y_test = test[\"pages_visited\"]\n",
    "\n",
    "# output to check\n",
    "print \"Training set length: \", len(train)\n",
    "print \"Testing set length: \", len(test)\n",
    "x_train.head(5)"
   ]
  },
  {
   "cell_type": "markdown",
   "metadata": {},
   "source": [
    "Finally, we can fit the model and check the results."
   ]
  },
  {
   "cell_type": "code",
   "execution_count": 155,
   "metadata": {
    "collapsed": false
   },
   "outputs": [],
   "source": [
    "# fit model\n",
    "ridge = Ridge(alpha = 1, fit_intercept=True)\n",
    "ridge_model = ridge.fit(x_train, y_train)"
   ]
  },
  {
   "cell_type": "code",
   "execution_count": 159,
   "metadata": {
    "collapsed": false
   },
   "outputs": [
    {
     "name": "stdout",
     "output_type": "stream",
     "text": [
      "Training Set R^2 Value:  0.000498040871728 \n",
      "\n",
      "COEFFICIENTS\n",
      "test :  0.0952248213817\n",
      "new_user :  -0.0636469419574\n",
      "browser_Chrome :  0.00146473702137\n",
      "browser_Firefox :  -0.00163468615074\n",
      "browser_IE :  -0.0111207026482\n",
      "browser_Safari :  0.0112906517598\n"
     ]
    }
   ],
   "source": [
    "# get score and coefficients\n",
    "print \"Training Set R^2 Value: \", ridge_model.score(x_train, y_train), \"\\n\"\n",
    "features = x_train.columns\n",
    "inds = np.argsort(ridge_model.coef_)\n",
    "coefs = sorted(ridge_model.coef_, reverse=True)\n",
    "\n",
    "print \"COEFFICIENTS\"\n",
    "for i in range(len(features)):\n",
    "    print features[i], \": \", ridge_model.coef_[i]"
   ]
  },
  {
   "cell_type": "code",
   "execution_count": 150,
   "metadata": {
    "collapsed": false
   },
   "outputs": [
    {
     "name": "stdout",
     "output_type": "stream",
     "text": [
      "RMSE Training Error: 2.4340\n"
     ]
    }
   ],
   "source": [
    "# compute RMSE on training set\n",
    "y_train_pred = ridge_model.predict(x_train)\n",
    "training_err = y_train - y_train_pred\n",
    "total_err = np.dot(training_err, training_err)\n",
    "rmse_train = np.sqrt(total_err/len(y_train))\n",
    "print \"RMSE Training Error: %.4f\" %rmse_train"
   ]
  },
  {
   "cell_type": "code",
   "execution_count": 151,
   "metadata": {
    "collapsed": false
   },
   "outputs": [
    {
     "name": "stdout",
     "output_type": "stream",
     "text": [
      "RMSE Test Error: 2.4224\n"
     ]
    }
   ],
   "source": [
    "# predict on test set\n",
    "y_test_pred = ridge_model.predict(x_test)\n",
    "test_err = y_test - y_test_pred\n",
    "total_err = np.dot(test_err, test_err)\n",
    "rmse_test = np.sqrt(total_err/len(y_test))\n",
    "print \"RMSE Test Error: %.4f\" % rmse_test"
   ]
  },
  {
   "cell_type": "markdown",
   "metadata": {},
   "source": [
    "And we indeed see that the test has positive effect on the **pages_visited** feature. We also see that being a new user has a negative coefficient, agreeing with our findings earlier about a statistically significant drop off in **pages_visited** average."
   ]
  },
  {
   "cell_type": "code",
   "execution_count": null,
   "metadata": {
    "collapsed": true
   },
   "outputs": [],
   "source": []
  }
 ],
 "metadata": {
  "kernelspec": {
   "display_name": "Python 2",
   "language": "python",
   "name": "python2"
  },
  "language_info": {
   "codemirror_mode": {
    "name": "ipython",
    "version": 2
   },
   "file_extension": ".py",
   "mimetype": "text/x-python",
   "name": "python",
   "nbconvert_exporter": "python",
   "pygments_lexer": "ipython2",
   "version": "2.7.11"
  }
 },
 "nbformat": 4,
 "nbformat_minor": 0
}
