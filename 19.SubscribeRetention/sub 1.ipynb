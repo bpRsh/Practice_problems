{
 "cells": [
  {
   "cell_type": "markdown",
   "metadata": {},
   "source": [
    "Company XYZ started a subscription model in January, 2015. You get hired as a ﬁrst data scientist at the end of August and, as a ﬁrst task, you are asked to help executives understand how the subscription model is doing.\n",
    "\n",
    "Therefore, you decide to pull data from all the users who subscribed in January and see, for each month, how many of them unsubscribed. In particular, your boss is interested in:\n",
    "\n",
    "* A model that predicts monthly retention rate for the diﬀerent subscription price points\n",
    "* Based on your model, for each price point, what percentage of users is still subscribed after at least 12 months?\n",
    "* How do user country and source aﬀect subscription retention rate? How would you use these ﬁndings to improve the company revenue?\n",
    "\n",
    "# Index\n",
    "* [Load the data](#Load-the-data)\n",
    "* [Answer questions 1](#Answer-question-1)\n",
    "    * [calculate total number by the end of each billing cycle for each 'monthly-cost'](#calculate-total-number-by-the-end-of-each-billing-cycle-for-each-'monthly-cost')\n",
    "    * [fit Linear Regression model](#fit-Linear-Regression-model)\n",
    "    * [predict on billing cycles from 9~12](#predict-on-billing-cycles-from-9~12)\n",
    "* [Answer question 2](#Answer-question-2)\n",
    "* [Answer question 3](#Answer-question-3)\n",
    "    * [how country affects retention rate?](#how-country-affects-retention-rate?)\n",
    "    * [how source affects retention rate?](#how-source-affects-retention-rate?)"
   ]
  },
  {
   "cell_type": "code",
   "execution_count": 1,
   "metadata": {
    "collapsed": true
   },
   "outputs": [],
   "source": [
    "import numpy as np\n",
    "import pandas as pd\n",
    "import matplotlib.pyplot as plt\n",
    "plt.style.use('ggplot')\n",
    "from sklearn.linear_model import LinearRegression\n",
    "%matplotlib inline"
   ]
  },
  {
   "cell_type": "markdown",
   "metadata": {},
   "source": [
    "## Load the data"
   ]
  },
  {
   "cell_type": "code",
   "execution_count": 2,
   "metadata": {
    "collapsed": false
   },
   "outputs": [],
   "source": [
    "subscriptions = pd.read_csv(\"subscription.csv\",index_col='user_id')\n",
    "\n",
    "# 'subscription_signup_date' is always Jan, 2015 in this table. useless, so delete it\n",
    "del subscriptions['subscription_signup_date']\n",
    "\n",
    "# rename some long column name to short ones, which is easier to read\n",
    "subscriptions.rename(columns={'subscription_monthly_cost':'monthly_cost',\n",
    "                              'billing_cycles':'bill_cycles'},inplace=True)"
   ]
  },
  {
   "cell_type": "code",
   "execution_count": 3,
   "metadata": {
    "collapsed": false
   },
   "outputs": [
    {
     "data": {
      "text/html": [
       "<div>\n",
       "<table border=\"1\" class=\"dataframe\">\n",
       "  <thead>\n",
       "    <tr style=\"text-align: right;\">\n",
       "      <th></th>\n",
       "      <th>monthly_cost</th>\n",
       "      <th>country</th>\n",
       "      <th>source</th>\n",
       "      <th>bill_cycles</th>\n",
       "      <th>is_active</th>\n",
       "    </tr>\n",
       "    <tr>\n",
       "      <th>user_id</th>\n",
       "      <th></th>\n",
       "      <th></th>\n",
       "      <th></th>\n",
       "      <th></th>\n",
       "      <th></th>\n",
       "    </tr>\n",
       "  </thead>\n",
       "  <tbody>\n",
       "    <tr>\n",
       "      <th>368824</th>\n",
       "      <td>49</td>\n",
       "      <td>Germany</td>\n",
       "      <td>ads</td>\n",
       "      <td>1</td>\n",
       "      <td>0</td>\n",
       "    </tr>\n",
       "    <tr>\n",
       "      <th>157410</th>\n",
       "      <td>99</td>\n",
       "      <td>Spain</td>\n",
       "      <td>seo</td>\n",
       "      <td>1</td>\n",
       "      <td>0</td>\n",
       "    </tr>\n",
       "    <tr>\n",
       "      <th>100647</th>\n",
       "      <td>29</td>\n",
       "      <td>UK</td>\n",
       "      <td>ads</td>\n",
       "      <td>1</td>\n",
       "      <td>0</td>\n",
       "    </tr>\n",
       "    <tr>\n",
       "      <th>490283</th>\n",
       "      <td>49</td>\n",
       "      <td>France</td>\n",
       "      <td>ads</td>\n",
       "      <td>1</td>\n",
       "      <td>0</td>\n",
       "    </tr>\n",
       "    <tr>\n",
       "      <th>465852</th>\n",
       "      <td>49</td>\n",
       "      <td>Italy</td>\n",
       "      <td>ads</td>\n",
       "      <td>2</td>\n",
       "      <td>0</td>\n",
       "    </tr>\n",
       "    <tr>\n",
       "      <th>382636</th>\n",
       "      <td>49</td>\n",
       "      <td>US</td>\n",
       "      <td>ads</td>\n",
       "      <td>2</td>\n",
       "      <td>0</td>\n",
       "    </tr>\n",
       "    <tr>\n",
       "      <th>6292</th>\n",
       "      <td>29</td>\n",
       "      <td>France</td>\n",
       "      <td>ads</td>\n",
       "      <td>1</td>\n",
       "      <td>0</td>\n",
       "    </tr>\n",
       "    <tr>\n",
       "      <th>337155</th>\n",
       "      <td>29</td>\n",
       "      <td>France</td>\n",
       "      <td>ads</td>\n",
       "      <td>1</td>\n",
       "      <td>0</td>\n",
       "    </tr>\n",
       "    <tr>\n",
       "      <th>433507</th>\n",
       "      <td>49</td>\n",
       "      <td>Spain</td>\n",
       "      <td>ads</td>\n",
       "      <td>2</td>\n",
       "      <td>0</td>\n",
       "    </tr>\n",
       "    <tr>\n",
       "      <th>220936</th>\n",
       "      <td>29</td>\n",
       "      <td>UK</td>\n",
       "      <td>ads</td>\n",
       "      <td>1</td>\n",
       "      <td>0</td>\n",
       "    </tr>\n",
       "  </tbody>\n",
       "</table>\n",
       "</div>"
      ],
      "text/plain": [
       "         monthly_cost  country source  bill_cycles  is_active\n",
       "user_id                                                      \n",
       "368824             49  Germany    ads            1          0\n",
       "157410             99    Spain    seo            1          0\n",
       "100647             29       UK    ads            1          0\n",
       "490283             49   France    ads            1          0\n",
       "465852             49    Italy    ads            2          0\n",
       "382636             49       US    ads            2          0\n",
       "6292               29   France    ads            1          0\n",
       "337155             29   France    ads            1          0\n",
       "433507             49    Spain    ads            2          0\n",
       "220936             29       UK    ads            1          0"
      ]
     },
     "execution_count": 3,
     "metadata": {},
     "output_type": "execute_result"
    }
   ],
   "source": [
    "# check the data, have a feeling about it\n",
    "subscriptions.sample(10)"
   ]
  },
  {
   "cell_type": "markdown",
   "metadata": {},
   "source": [
    "## Answer question 1\n",
    "A model that predicts monthly retention rate for the diﬀerent subscription price points\n",
    "\n",
    "### calculate total number by the end of each billing cycle for each 'monthly cost'"
   ]
  },
  {
   "cell_type": "code",
   "execution_count": 4,
   "metadata": {
    "collapsed": false
   },
   "outputs": [
    {
     "data": {
      "text/html": [
       "<div>\n",
       "<table border=\"1\" class=\"dataframe\">\n",
       "  <thead>\n",
       "    <tr style=\"text-align: right;\">\n",
       "      <th></th>\n",
       "      <th>1</th>\n",
       "      <th>2</th>\n",
       "      <th>3</th>\n",
       "      <th>4</th>\n",
       "      <th>5</th>\n",
       "      <th>6</th>\n",
       "      <th>7</th>\n",
       "      <th>8</th>\n",
       "    </tr>\n",
       "    <tr>\n",
       "      <th>monthly_cost</th>\n",
       "      <th></th>\n",
       "      <th></th>\n",
       "      <th></th>\n",
       "      <th></th>\n",
       "      <th></th>\n",
       "      <th></th>\n",
       "      <th></th>\n",
       "      <th></th>\n",
       "    </tr>\n",
       "  </thead>\n",
       "  <tbody>\n",
       "    <tr>\n",
       "      <th>29</th>\n",
       "      <td>57441</td>\n",
       "      <td>21818</td>\n",
       "      <td>12037</td>\n",
       "      <td>7787</td>\n",
       "      <td>5505</td>\n",
       "      <td>4136</td>\n",
       "      <td>3111</td>\n",
       "      <td>34527</td>\n",
       "    </tr>\n",
       "    <tr>\n",
       "      <th>49</th>\n",
       "      <td>185145</td>\n",
       "      <td>53296</td>\n",
       "      <td>21690</td>\n",
       "      <td>11288</td>\n",
       "      <td>6727</td>\n",
       "      <td>4405</td>\n",
       "      <td>3173</td>\n",
       "      <td>14673</td>\n",
       "    </tr>\n",
       "    <tr>\n",
       "      <th>99</th>\n",
       "      <td>44788</td>\n",
       "      <td>4724</td>\n",
       "      <td>1471</td>\n",
       "      <td>678</td>\n",
       "      <td>399</td>\n",
       "      <td>226</td>\n",
       "      <td>156</td>\n",
       "      <td>799</td>\n",
       "    </tr>\n",
       "  </tbody>\n",
       "</table>\n",
       "</div>"
      ],
      "text/plain": [
       "                   1      2      3      4     5     6     7      8\n",
       "monthly_cost                                                      \n",
       "29             57441  21818  12037   7787  5505  4136  3111  34527\n",
       "49            185145  53296  21690  11288  6727  4405  3173  14673\n",
       "99             44788   4724   1471    678   399   226   156    799"
      ]
     },
     "execution_count": 4,
     "metadata": {},
     "output_type": "execute_result"
    }
   ],
   "source": [
    "count_by_cost = subscriptions.groupby('monthly_cost').apply(lambda df: df.bill_cycles.value_counts()).unstack()\n",
    "# for index 'n', the value is the #people who paid 'n' billing cycles\n",
    "count_by_cost"
   ]
  },
  {
   "cell_type": "code",
   "execution_count": 5,
   "metadata": {
    "collapsed": false
   },
   "outputs": [
    {
     "data": {
      "text/html": [
       "<div>\n",
       "<table border=\"1\" class=\"dataframe\">\n",
       "  <thead>\n",
       "    <tr style=\"text-align: right;\">\n",
       "      <th>monthly_cost</th>\n",
       "      <th>29</th>\n",
       "      <th>49</th>\n",
       "      <th>99</th>\n",
       "    </tr>\n",
       "  </thead>\n",
       "  <tbody>\n",
       "    <tr>\n",
       "      <th>1</th>\n",
       "      <td>146362</td>\n",
       "      <td>300397</td>\n",
       "      <td>53241</td>\n",
       "    </tr>\n",
       "    <tr>\n",
       "      <th>2</th>\n",
       "      <td>88921</td>\n",
       "      <td>115252</td>\n",
       "      <td>8453</td>\n",
       "    </tr>\n",
       "    <tr>\n",
       "      <th>3</th>\n",
       "      <td>67103</td>\n",
       "      <td>61956</td>\n",
       "      <td>3729</td>\n",
       "    </tr>\n",
       "    <tr>\n",
       "      <th>4</th>\n",
       "      <td>55066</td>\n",
       "      <td>40266</td>\n",
       "      <td>2258</td>\n",
       "    </tr>\n",
       "    <tr>\n",
       "      <th>5</th>\n",
       "      <td>47279</td>\n",
       "      <td>28978</td>\n",
       "      <td>1580</td>\n",
       "    </tr>\n",
       "    <tr>\n",
       "      <th>6</th>\n",
       "      <td>41774</td>\n",
       "      <td>22251</td>\n",
       "      <td>1181</td>\n",
       "    </tr>\n",
       "    <tr>\n",
       "      <th>7</th>\n",
       "      <td>37638</td>\n",
       "      <td>17846</td>\n",
       "      <td>955</td>\n",
       "    </tr>\n",
       "    <tr>\n",
       "      <th>8</th>\n",
       "      <td>34527</td>\n",
       "      <td>14673</td>\n",
       "      <td>799</td>\n",
       "    </tr>\n",
       "  </tbody>\n",
       "</table>\n",
       "</div>"
      ],
      "text/plain": [
       "monthly_cost      29      49     99\n",
       "1             146362  300397  53241\n",
       "2              88921  115252   8453\n",
       "3              67103   61956   3729\n",
       "4              55066   40266   2258\n",
       "5              47279   28978   1580\n",
       "6              41774   22251   1181\n",
       "7              37638   17846    955\n",
       "8              34527   14673    799"
      ]
     },
     "execution_count": 5,
     "metadata": {},
     "output_type": "execute_result"
    }
   ],
   "source": [
    "# for each row in 'count_by_cost', we perform a reverse cumsum to get the #people by the end of each billing cycles\n",
    "total_by_cost = count_by_cost.apply(lambda s: s.iloc[::-1].cumsum().iloc[::-1],axis=1).transpose()\n",
    "total_by_cost"
   ]
  },
  {
   "cell_type": "code",
   "execution_count": 6,
   "metadata": {
    "collapsed": false
   },
   "outputs": [
    {
     "data": {
      "text/plain": [
       "<matplotlib.axes._subplots.AxesSubplot at 0x119c24590>"
      ]
     },
     "execution_count": 6,
     "metadata": {},
     "output_type": "execute_result"
    },
    {
     "data": {
      "image/png": "[encoded data removed]",
      "text/plain": [
       "<matplotlib.figure.Figure at 0x119a92450>"
      ]
     },
     "metadata": {},
     "output_type": "display_data"
    }
   ],
   "source": [
    "total_by_cost.plot()"
   ]
  },
  {
   "cell_type": "markdown",
   "metadata": {},
   "source": [
    "### fit Linear Regression model\n",
    "from above plot, we can draw following conclusions:\n",
    "1. for each 'monthly_cost', there are only 8 samples.\n",
    "    * ** complex model will overfit on samll dataset, so I decide to use a simple regression model - Linear Regression **\n",
    "2. the remaining #subscribers by the end of each billing cycles has a nonlinear relationship with #billing_cycles\n",
    "    * ** so I need to include some nonlinear transformation of 'billing_cycles' **\n",
    "3. by no means, the target, #subscribers should be non-negative\n",
    "    * <span style='color:orange;font-weight:bold;font-size:1.5em'>so I cannot fit on original target, i.e., '#subscribers at the end of each billing cycle', but on log(#subscribers).</span>\n",
    "    * <span style='color:orange;font-weight:bold;font-size:1.5em'>then after obtaining the fitted value, we transform back to '#subscribers' by exp(), which can guarantee the result is always positive</span>"
   ]
  },
  {
   "cell_type": "code",
   "execution_count": 18,
   "metadata": {
    "collapsed": true
   },
   "outputs": [],
   "source": [
    "def make_time_features(t):\n",
    "    \"\"\"\n",
    "    three features:\n",
    "    1. t: #cycles\n",
    "    2. t-square: square of #cycles\n",
    "    3. logt: log(#cycles)\n",
    "    \"\"\"\n",
    "    return pd.DataFrame({'t': t,'logt': np.log(t),'tsquare':t*t },index = t)\n",
    "\n",
    "def fit_linear_regression(s):\n",
    "    \"\"\"\n",
    "    target:\n",
    "    log(s): s is #subscribers left by the end of each billing cycle\n",
    "    do this transformation, to guarantee that, after tranforming back, the fitted result is always positive\n",
    "    \"\"\"\n",
    "    X = make_time_features(s.index)\n",
    "    return LinearRegression().fit(X,np.log(s))"
   ]
  },
  {
   "cell_type": "code",
   "execution_count": 19,
   "metadata": {
    "collapsed": true
   },
   "outputs": [],
   "source": [
    "lr_by_cost = total_by_cost.apply(fit_linear_regression,axis=0)"
   ]
  },
  {
   "cell_type": "markdown",
   "metadata": {},
   "source": [
    "### predict on billing cycles from 9~12\n",
    "\n",
    "because\n",
    "1. <span style='color:orange;'>there are so few examples (only 8) for each model. we cannot afford to split out a separate test set, which will further reduce the data used for training</span>\n",
    "2. <span style='color:orange;'>the question is predicting near future, cycles from 9 to 12, which I assume there is no significant difference from our training data.</span>\n",
    "\n",
    "due to above two considerations, I don't use normal cross validation to check how my model fits, but just plot the true values and my predictions to ** visualize ** how my model fits."
   ]
  },
  {
   "cell_type": "code",
   "execution_count": 20,
   "metadata": {
    "collapsed": false
   },
   "outputs": [
    {
     "data": {
      "text/html": [
       "<div>\n",
       "<table border=\"1\" class=\"dataframe\">\n",
       "  <thead>\n",
       "    <tr style=\"text-align: right;\">\n",
       "      <th></th>\n",
       "      <th>logt</th>\n",
       "      <th>t</th>\n",
       "      <th>tsquare</th>\n",
       "    </tr>\n",
       "  </thead>\n",
       "  <tbody>\n",
       "    <tr>\n",
       "      <th>1</th>\n",
       "      <td>0.000000</td>\n",
       "      <td>1</td>\n",
       "      <td>1</td>\n",
       "    </tr>\n",
       "    <tr>\n",
       "      <th>2</th>\n",
       "      <td>0.693147</td>\n",
       "      <td>2</td>\n",
       "      <td>4</td>\n",
       "    </tr>\n",
       "    <tr>\n",
       "      <th>3</th>\n",
       "      <td>1.098612</td>\n",
       "      <td>3</td>\n",
       "      <td>9</td>\n",
       "    </tr>\n",
       "    <tr>\n",
       "      <th>4</th>\n",
       "      <td>1.386294</td>\n",
       "      <td>4</td>\n",
       "      <td>16</td>\n",
       "    </tr>\n",
       "    <tr>\n",
       "      <th>5</th>\n",
       "      <td>1.609438</td>\n",
       "      <td>5</td>\n",
       "      <td>25</td>\n",
       "    </tr>\n",
       "    <tr>\n",
       "      <th>6</th>\n",
       "      <td>1.791759</td>\n",
       "      <td>6</td>\n",
       "      <td>36</td>\n",
       "    </tr>\n",
       "    <tr>\n",
       "      <th>7</th>\n",
       "      <td>1.945910</td>\n",
       "      <td>7</td>\n",
       "      <td>49</td>\n",
       "    </tr>\n",
       "    <tr>\n",
       "      <th>8</th>\n",
       "      <td>2.079442</td>\n",
       "      <td>8</td>\n",
       "      <td>64</td>\n",
       "    </tr>\n",
       "    <tr>\n",
       "      <th>9</th>\n",
       "      <td>2.197225</td>\n",
       "      <td>9</td>\n",
       "      <td>81</td>\n",
       "    </tr>\n",
       "    <tr>\n",
       "      <th>10</th>\n",
       "      <td>2.302585</td>\n",
       "      <td>10</td>\n",
       "      <td>100</td>\n",
       "    </tr>\n",
       "    <tr>\n",
       "      <th>11</th>\n",
       "      <td>2.397895</td>\n",
       "      <td>11</td>\n",
       "      <td>121</td>\n",
       "    </tr>\n",
       "    <tr>\n",
       "      <th>12</th>\n",
       "      <td>2.484907</td>\n",
       "      <td>12</td>\n",
       "      <td>144</td>\n",
       "    </tr>\n",
       "  </tbody>\n",
       "</table>\n",
       "</div>"
      ],
      "text/plain": [
       "        logt   t  tsquare\n",
       "1   0.000000   1        1\n",
       "2   0.693147   2        4\n",
       "3   1.098612   3        9\n",
       "4   1.386294   4       16\n",
       "5   1.609438   5       25\n",
       "6   1.791759   6       36\n",
       "7   1.945910   7       49\n",
       "8   2.079442   8       64\n",
       "9   2.197225   9       81\n",
       "10  2.302585  10      100\n",
       "11  2.397895  11      121\n",
       "12  2.484907  12      144"
      ]
     },
     "execution_count": 20,
     "metadata": {},
     "output_type": "execute_result"
    }
   ],
   "source": [
    "allt = np.arange(1,13)\n",
    "Xwhole = make_time_features(allt)\n",
    "Xwhole"
   ]
  },
  {
   "cell_type": "code",
   "execution_count": 21,
   "metadata": {
    "collapsed": true
   },
   "outputs": [],
   "source": [
    "# call each cost's model to fit on above features\n",
    "predicts = lr_by_cost.apply(lambda lr: pd.Series(lr.predict(Xwhole),index=allt)).transpose()\n",
    "predicts = predicts.applymap(np.exp)"
   ]
  },
  {
   "cell_type": "code",
   "execution_count": 22,
   "metadata": {
    "collapsed": false
   },
   "outputs": [
    {
     "data": {
      "text/html": [
       "<div>\n",
       "<table border=\"1\" class=\"dataframe\">\n",
       "  <thead>\n",
       "    <tr style=\"text-align: right;\">\n",
       "      <th>monthly_cost</th>\n",
       "      <th>29</th>\n",
       "      <th>49</th>\n",
       "      <th>99</th>\n",
       "    </tr>\n",
       "  </thead>\n",
       "  <tbody>\n",
       "    <tr>\n",
       "      <th>1</th>\n",
       "      <td>146289.043583</td>\n",
       "      <td>301551.603773</td>\n",
       "      <td>52816.489536</td>\n",
       "    </tr>\n",
       "    <tr>\n",
       "      <th>2</th>\n",
       "      <td>89078.661927</td>\n",
       "      <td>113569.323151</td>\n",
       "      <td>8700.570325</td>\n",
       "    </tr>\n",
       "    <tr>\n",
       "      <th>3</th>\n",
       "      <td>67048.510837</td>\n",
       "      <td>62560.448086</td>\n",
       "      <td>3678.850952</td>\n",
       "    </tr>\n",
       "    <tr>\n",
       "      <th>4</th>\n",
       "      <td>54997.715283</td>\n",
       "      <td>40592.309531</td>\n",
       "      <td>2210.169591</td>\n",
       "    </tr>\n",
       "    <tr>\n",
       "      <th>5</th>\n",
       "      <td>47259.987332</td>\n",
       "      <td>28988.345871</td>\n",
       "      <td>1567.465186</td>\n",
       "    </tr>\n",
       "    <tr>\n",
       "      <th>6</th>\n",
       "      <td>41802.132010</td>\n",
       "      <td>22106.115832</td>\n",
       "      <td>1208.305347</td>\n",
       "    </tr>\n",
       "    <tr>\n",
       "      <th>7</th>\n",
       "      <td>37703.792361</td>\n",
       "      <td>17713.678002</td>\n",
       "      <td>968.806877</td>\n",
       "    </tr>\n",
       "    <tr>\n",
       "      <th>8</th>\n",
       "      <td>34484.309114</td>\n",
       "      <td>14771.777457</td>\n",
       "      <td>786.979952</td>\n",
       "    </tr>\n",
       "    <tr>\n",
       "      <th>9</th>\n",
       "      <td>31866.862280</td>\n",
       "      <td>12740.560957</td>\n",
       "      <td>636.784748</td>\n",
       "    </tr>\n",
       "    <tr>\n",
       "      <th>10</th>\n",
       "      <td>29680.233950</td>\n",
       "      <td>11317.105659</td>\n",
       "      <td>507.336931</td>\n",
       "    </tr>\n",
       "    <tr>\n",
       "      <th>11</th>\n",
       "      <td>27812.603941</td>\n",
       "      <td>10321.915056</td>\n",
       "      <td>394.719969</td>\n",
       "    </tr>\n",
       "    <tr>\n",
       "      <th>12</th>\n",
       "      <td>26187.753374</td>\n",
       "      <td>9644.813994</td>\n",
       "      <td>298.073051</td>\n",
       "    </tr>\n",
       "  </tbody>\n",
       "</table>\n",
       "</div>"
      ],
      "text/plain": [
       "monthly_cost             29             49            99\n",
       "1             146289.043583  301551.603773  52816.489536\n",
       "2              89078.661927  113569.323151   8700.570325\n",
       "3              67048.510837   62560.448086   3678.850952\n",
       "4              54997.715283   40592.309531   2210.169591\n",
       "5              47259.987332   28988.345871   1567.465186\n",
       "6              41802.132010   22106.115832   1208.305347\n",
       "7              37703.792361   17713.678002    968.806877\n",
       "8              34484.309114   14771.777457    786.979952\n",
       "9              31866.862280   12740.560957    636.784748\n",
       "10             29680.233950   11317.105659    507.336931\n",
       "11             27812.603941   10321.915056    394.719969\n",
       "12             26187.753374    9644.813994    298.073051"
      ]
     },
     "execution_count": 22,
     "metadata": {},
     "output_type": "execute_result"
    }
   ],
   "source": [
    "predicts"
   ]
  },
  {
   "cell_type": "code",
   "execution_count": 39,
   "metadata": {
    "collapsed": false
   },
   "outputs": [
    {
     "data": {
      "image/png": "[encoded data removed]",
      "text/plain": [
       "<matplotlib.figure.Figure at 0x11d014f10>"
      ]
     },
     "metadata": {},
     "output_type": "display_data"
    }
   ],
   "source": [
    "fig,axes = plt.subplots(3,1,sharex=True)\n",
    "monthly_costs = [29,49,99]\n",
    "for index,cost in enumerate(monthly_costs):\n",
    "    ax = axes[index]\n",
    "    total_by_cost.loc[:,cost].plot(ax = ax,label='true values')\n",
    "    predicts.loc[:,cost].plot(ax=ax,label='predictions')\n",
    "    ax.legend(loc='best')\n",
    "    ax.set_title('monthly cost = {}'.format(cost))\n",
    "plt.rc('figure',figsize=(5,10))"
   ]
  },
  {
   "cell_type": "markdown",
   "metadata": {},
   "source": [
    "combine the real values and predictions together to check how the fits going"
   ]
  },
  {
   "cell_type": "code",
   "execution_count": 40,
   "metadata": {
    "collapsed": false
   },
   "outputs": [
    {
     "data": {
      "text/html": [
       "<div>\n",
       "<table border=\"1\" class=\"dataframe\">\n",
       "  <thead>\n",
       "    <tr style=\"text-align: right;\">\n",
       "      <th>monthly_cost</th>\n",
       "      <th>29_true</th>\n",
       "      <th>49_true</th>\n",
       "      <th>99_true</th>\n",
       "      <th>29_pred</th>\n",
       "      <th>49_pred</th>\n",
       "      <th>99_pred</th>\n",
       "    </tr>\n",
       "  </thead>\n",
       "  <tbody>\n",
       "    <tr>\n",
       "      <th>1</th>\n",
       "      <td>146362.0</td>\n",
       "      <td>300397.0</td>\n",
       "      <td>53241.0</td>\n",
       "      <td>146289.043583</td>\n",
       "      <td>301551.603773</td>\n",
       "      <td>52816.489536</td>\n",
       "    </tr>\n",
       "    <tr>\n",
       "      <th>2</th>\n",
       "      <td>88921.0</td>\n",
       "      <td>115252.0</td>\n",
       "      <td>8453.0</td>\n",
       "      <td>89078.661927</td>\n",
       "      <td>113569.323151</td>\n",
       "      <td>8700.570325</td>\n",
       "    </tr>\n",
       "    <tr>\n",
       "      <th>3</th>\n",
       "      <td>67103.0</td>\n",
       "      <td>61956.0</td>\n",
       "      <td>3729.0</td>\n",
       "      <td>67048.510837</td>\n",
       "      <td>62560.448086</td>\n",
       "      <td>3678.850952</td>\n",
       "    </tr>\n",
       "    <tr>\n",
       "      <th>4</th>\n",
       "      <td>55066.0</td>\n",
       "      <td>40266.0</td>\n",
       "      <td>2258.0</td>\n",
       "      <td>54997.715283</td>\n",
       "      <td>40592.309531</td>\n",
       "      <td>2210.169591</td>\n",
       "    </tr>\n",
       "    <tr>\n",
       "      <th>5</th>\n",
       "      <td>47279.0</td>\n",
       "      <td>28978.0</td>\n",
       "      <td>1580.0</td>\n",
       "      <td>47259.987332</td>\n",
       "      <td>28988.345871</td>\n",
       "      <td>1567.465186</td>\n",
       "    </tr>\n",
       "    <tr>\n",
       "      <th>6</th>\n",
       "      <td>41774.0</td>\n",
       "      <td>22251.0</td>\n",
       "      <td>1181.0</td>\n",
       "      <td>41802.132010</td>\n",
       "      <td>22106.115832</td>\n",
       "      <td>1208.305347</td>\n",
       "    </tr>\n",
       "    <tr>\n",
       "      <th>7</th>\n",
       "      <td>37638.0</td>\n",
       "      <td>17846.0</td>\n",
       "      <td>955.0</td>\n",
       "      <td>37703.792361</td>\n",
       "      <td>17713.678002</td>\n",
       "      <td>968.806877</td>\n",
       "    </tr>\n",
       "    <tr>\n",
       "      <th>8</th>\n",
       "      <td>34527.0</td>\n",
       "      <td>14673.0</td>\n",
       "      <td>799.0</td>\n",
       "      <td>34484.309114</td>\n",
       "      <td>14771.777457</td>\n",
       "      <td>786.979952</td>\n",
       "    </tr>\n",
       "    <tr>\n",
       "      <th>9</th>\n",
       "      <td>NaN</td>\n",
       "      <td>NaN</td>\n",
       "      <td>NaN</td>\n",
       "      <td>31866.862280</td>\n",
       "      <td>12740.560957</td>\n",
       "      <td>636.784748</td>\n",
       "    </tr>\n",
       "    <tr>\n",
       "      <th>10</th>\n",
       "      <td>NaN</td>\n",
       "      <td>NaN</td>\n",
       "      <td>NaN</td>\n",
       "      <td>29680.233950</td>\n",
       "      <td>11317.105659</td>\n",
       "      <td>507.336931</td>\n",
       "    </tr>\n",
       "    <tr>\n",
       "      <th>11</th>\n",
       "      <td>NaN</td>\n",
       "      <td>NaN</td>\n",
       "      <td>NaN</td>\n",
       "      <td>27812.603941</td>\n",
       "      <td>10321.915056</td>\n",
       "      <td>394.719969</td>\n",
       "    </tr>\n",
       "    <tr>\n",
       "      <th>12</th>\n",
       "      <td>NaN</td>\n",
       "      <td>NaN</td>\n",
       "      <td>NaN</td>\n",
       "      <td>26187.753374</td>\n",
       "      <td>9644.813994</td>\n",
       "      <td>298.073051</td>\n",
       "    </tr>\n",
       "  </tbody>\n",
       "</table>\n",
       "</div>"
      ],
      "text/plain": [
       "monthly_cost   29_true   49_true  99_true        29_pred        49_pred  \\\n",
       "1             146362.0  300397.0  53241.0  146289.043583  301551.603773   \n",
       "2              88921.0  115252.0   8453.0   89078.661927  113569.323151   \n",
       "3              67103.0   61956.0   3729.0   67048.510837   62560.448086   \n",
       "4              55066.0   40266.0   2258.0   54997.715283   40592.309531   \n",
       "5              47279.0   28978.0   1580.0   47259.987332   28988.345871   \n",
       "6              41774.0   22251.0   1181.0   41802.132010   22106.115832   \n",
       "7              37638.0   17846.0    955.0   37703.792361   17713.678002   \n",
       "8              34527.0   14673.0    799.0   34484.309114   14771.777457   \n",
       "9                  NaN       NaN      NaN   31866.862280   12740.560957   \n",
       "10                 NaN       NaN      NaN   29680.233950   11317.105659   \n",
       "11                 NaN       NaN      NaN   27812.603941   10321.915056   \n",
       "12                 NaN       NaN      NaN   26187.753374    9644.813994   \n",
       "\n",
       "monthly_cost       99_pred  \n",
       "1             52816.489536  \n",
       "2              8700.570325  \n",
       "3              3678.850952  \n",
       "4              2210.169591  \n",
       "5              1567.465186  \n",
       "6              1208.305347  \n",
       "7               968.806877  \n",
       "8               786.979952  \n",
       "9               636.784748  \n",
       "10              507.336931  \n",
       "11              394.719969  \n",
       "12              298.073051  "
      ]
     },
     "execution_count": 40,
     "metadata": {},
     "output_type": "execute_result"
    }
   ],
   "source": [
    "pd.merge(total_by_cost,predicts,how='right',left_index=True,right_index=True,suffixes = ('_true','_pred'))"
   ]
  },
  {
   "cell_type": "markdown",
   "metadata": {},
   "source": [
    "## Answer question 2\n",
    "Based on your model, for each price point, what percentage of users is still subscribed after at least 12 months?"
   ]
  },
  {
   "cell_type": "code",
   "execution_count": 43,
   "metadata": {
    "collapsed": false
   },
   "outputs": [
    {
     "data": {
      "text/plain": [
       "monthly_cost\n",
       "29    0.179014\n",
       "49    0.031984\n",
       "99    0.005644\n",
       "dtype: float64"
      ]
     },
     "execution_count": 43,
     "metadata": {},
     "output_type": "execute_result"
    }
   ],
   "source": [
    "predicts.loc[12,:]/predicts.loc[1,:]"
   ]
  },
  {
   "cell_type": "markdown",
   "metadata": {},
   "source": [
    "## Answer question 3\n",
    "How do user country and source aﬀect subscription retention rate? How would you use these ﬁndings to improve the company revenue?"
   ]
  },
  {
   "cell_type": "code",
   "execution_count": 46,
   "metadata": {
    "collapsed": true
   },
   "outputs": [],
   "source": [
    "def calc_retention_rate(s):\n",
    "    \"\"\"\n",
    "    input: \n",
    "        s: n-th value is #subscribers who paid 'n' cycles\n",
    "    return:\n",
    "        retention rate by the end of each cycle\n",
    "    \"\"\"\n",
    "    r = s.iloc[::-1].cumsum().iloc[::-1]\n",
    "    return r/r.iloc[0]\n",
    "\n",
    "def retention_rate_by(colname):\n",
    "    \"\"\"\n",
    "    step 1. group subscribers based on certain column, e.g., country or source\n",
    "    step 2. for each group, count #subscribers who paid 'n' cycles\n",
    "    step 3. for each group, calculate retention rate for each cycle\n",
    "    \"\"\"\n",
    "    counts = subscriptions.groupby(colname).apply(lambda df: df.bill_cycles.value_counts()).unstack()\n",
    "    return counts.apply(calc_retention_rate, axis=1).transpose()"
   ]
  },
  {
   "cell_type": "markdown",
   "metadata": {},
   "source": [
    "### how country affects retention rate?"
   ]
  },
  {
   "cell_type": "code",
   "execution_count": 47,
   "metadata": {
    "collapsed": false
   },
   "outputs": [
    {
     "data": {
      "text/html": [
       "<div>\n",
       "<table border=\"1\" class=\"dataframe\">\n",
       "  <thead>\n",
       "    <tr style=\"text-align: right;\">\n",
       "      <th>country</th>\n",
       "      <th>China</th>\n",
       "      <th>France</th>\n",
       "      <th>Germany</th>\n",
       "      <th>India</th>\n",
       "      <th>Italy</th>\n",
       "      <th>Spain</th>\n",
       "      <th>UK</th>\n",
       "      <th>US</th>\n",
       "    </tr>\n",
       "  </thead>\n",
       "  <tbody>\n",
       "    <tr>\n",
       "      <th>1</th>\n",
       "      <td>1.000000</td>\n",
       "      <td>1.000000</td>\n",
       "      <td>1.000000</td>\n",
       "      <td>1.000000</td>\n",
       "      <td>1.000000</td>\n",
       "      <td>1.000000</td>\n",
       "      <td>1.000000</td>\n",
       "      <td>1.000000</td>\n",
       "    </tr>\n",
       "    <tr>\n",
       "      <th>2</th>\n",
       "      <td>0.514831</td>\n",
       "      <td>0.334946</td>\n",
       "      <td>0.451284</td>\n",
       "      <td>0.446728</td>\n",
       "      <td>0.341684</td>\n",
       "      <td>0.339098</td>\n",
       "      <td>0.458938</td>\n",
       "      <td>0.456509</td>\n",
       "    </tr>\n",
       "    <tr>\n",
       "      <th>3</th>\n",
       "      <td>0.402777</td>\n",
       "      <td>0.177732</td>\n",
       "      <td>0.278411</td>\n",
       "      <td>0.326962</td>\n",
       "      <td>0.179502</td>\n",
       "      <td>0.178985</td>\n",
       "      <td>0.285133</td>\n",
       "      <td>0.284255</td>\n",
       "    </tr>\n",
       "    <tr>\n",
       "      <th>4</th>\n",
       "      <td>0.360426</td>\n",
       "      <td>0.119004</td>\n",
       "      <td>0.195910</td>\n",
       "      <td>0.284527</td>\n",
       "      <td>0.119914</td>\n",
       "      <td>0.119879</td>\n",
       "      <td>0.198067</td>\n",
       "      <td>0.198853</td>\n",
       "    </tr>\n",
       "    <tr>\n",
       "      <th>5</th>\n",
       "      <td>0.336274</td>\n",
       "      <td>0.088479</td>\n",
       "      <td>0.146474</td>\n",
       "      <td>0.261603</td>\n",
       "      <td>0.090015</td>\n",
       "      <td>0.088648</td>\n",
       "      <td>0.149421</td>\n",
       "      <td>0.149284</td>\n",
       "    </tr>\n",
       "    <tr>\n",
       "      <th>6</th>\n",
       "      <td>0.319856</td>\n",
       "      <td>0.069935</td>\n",
       "      <td>0.115151</td>\n",
       "      <td>0.246736</td>\n",
       "      <td>0.071135</td>\n",
       "      <td>0.070065</td>\n",
       "      <td>0.117356</td>\n",
       "      <td>0.117398</td>\n",
       "    </tr>\n",
       "    <tr>\n",
       "      <th>7</th>\n",
       "      <td>0.307084</td>\n",
       "      <td>0.058341</td>\n",
       "      <td>0.093868</td>\n",
       "      <td>0.234847</td>\n",
       "      <td>0.057523</td>\n",
       "      <td>0.057617</td>\n",
       "      <td>0.095735</td>\n",
       "      <td>0.094875</td>\n",
       "    </tr>\n",
       "    <tr>\n",
       "      <th>8</th>\n",
       "      <td>0.295453</td>\n",
       "      <td>0.049688</td>\n",
       "      <td>0.078465</td>\n",
       "      <td>0.225769</td>\n",
       "      <td>0.048695</td>\n",
       "      <td>0.048503</td>\n",
       "      <td>0.079494</td>\n",
       "      <td>0.078981</td>\n",
       "    </tr>\n",
       "  </tbody>\n",
       "</table>\n",
       "</div>"
      ],
      "text/plain": [
       "country     China    France   Germany     India     Italy     Spain        UK  \\\n",
       "1        1.000000  1.000000  1.000000  1.000000  1.000000  1.000000  1.000000   \n",
       "2        0.514831  0.334946  0.451284  0.446728  0.341684  0.339098  0.458938   \n",
       "3        0.402777  0.177732  0.278411  0.326962  0.179502  0.178985  0.285133   \n",
       "4        0.360426  0.119004  0.195910  0.284527  0.119914  0.119879  0.198067   \n",
       "5        0.336274  0.088479  0.146474  0.261603  0.090015  0.088648  0.149421   \n",
       "6        0.319856  0.069935  0.115151  0.246736  0.071135  0.070065  0.117356   \n",
       "7        0.307084  0.058341  0.093868  0.234847  0.057523  0.057617  0.095735   \n",
       "8        0.295453  0.049688  0.078465  0.225769  0.048695  0.048503  0.079494   \n",
       "\n",
       "country        US  \n",
       "1        1.000000  \n",
       "2        0.456509  \n",
       "3        0.284255  \n",
       "4        0.198853  \n",
       "5        0.149284  \n",
       "6        0.117398  \n",
       "7        0.094875  \n",
       "8        0.078981  "
      ]
     },
     "execution_count": 47,
     "metadata": {},
     "output_type": "execute_result"
    }
   ],
   "source": [
    "retention_rate_by_country = retention_rate_by('country')\n",
    "retention_rate_by_country"
   ]
  },
  {
   "cell_type": "code",
   "execution_count": 53,
   "metadata": {
    "collapsed": false
   },
   "outputs": [
    {
     "data": {
      "text/plain": [
       "<matplotlib.axes._subplots.AxesSubplot at 0x123c76f50>"
      ]
     },
     "execution_count": 53,
     "metadata": {},
     "output_type": "execute_result"
    },
    {
     "data": {
      "image/png": "[encoded data removed]",
      "text/plain": [
       "<matplotlib.figure.Figure at 0x123cd67d0>"
      ]
     },
     "metadata": {},
     "output_type": "display_data"
    }
   ],
   "source": [
    "retention_rate_by_country.plot(marker='o')"
   ]
  },
  {
   "cell_type": "code",
   "execution_count": 55,
   "metadata": {
    "collapsed": false
   },
   "outputs": [
    {
     "data": {
      "text/plain": [
       "country\n",
       "China      0.295453\n",
       "India      0.225769\n",
       "UK         0.079494\n",
       "US         0.078981\n",
       "Germany    0.078465\n",
       "France     0.049688\n",
       "Italy      0.048695\n",
       "Spain      0.048503\n",
       "Name: 8, dtype: float64"
      ]
     },
     "execution_count": 55,
     "metadata": {},
     "output_type": "execute_result"
    }
   ],
   "source": [
    "# rank countries by August's retention rate\n",
    "retention_rate_by_country.iloc[-1,:].sort_values(ascending=False)"
   ]
  },
  {
   "cell_type": "markdown",
   "metadata": {},
   "source": [
    "based on above result, we can divide coutries into 3 classes:\n",
    "1. customers from China and Indian are most loyal ones. \n",
    "    * not only retention rate is high, but also the 'dropping rate' is the slowest\n",
    "    * this may be because the good economic situations in these two countries, and also because rich people in these two countries love buying foreign products to show their 'social class'.\n",
    "    * to increase the revenue, ** we should keep tight touch to customers in China and Indian. for examples, sending coupons to them from time to time.**\n",
    "2. UK, US, Germany has medium 'retention rate'\n",
    "3. France, Italy, Spain has the lowest 'retention rate'\n",
    "    * maybe because the poor economic conditions in these countries\n",
    "    * ** we may consider to lower the 'monthly cost' in these countries, to keep more customers in subscription **"
   ]
  },
  {
   "cell_type": "markdown",
   "metadata": {},
   "source": [
    "### how source affects retention rate?"
   ]
  },
  {
   "cell_type": "code",
   "execution_count": 57,
   "metadata": {
    "collapsed": false
   },
   "outputs": [
    {
     "data": {
      "text/html": [
       "<div>\n",
       "<table border=\"1\" class=\"dataframe\">\n",
       "  <thead>\n",
       "    <tr style=\"text-align: right;\">\n",
       "      <th>source</th>\n",
       "      <th>ads</th>\n",
       "      <th>friend_referral</th>\n",
       "      <th>seo</th>\n",
       "    </tr>\n",
       "  </thead>\n",
       "  <tbody>\n",
       "    <tr>\n",
       "      <th>1</th>\n",
       "      <td>1.000000</td>\n",
       "      <td>1.000000</td>\n",
       "      <td>1.000000</td>\n",
       "    </tr>\n",
       "    <tr>\n",
       "      <th>2</th>\n",
       "      <td>0.388873</td>\n",
       "      <td>0.699443</td>\n",
       "      <td>0.562395</td>\n",
       "    </tr>\n",
       "    <tr>\n",
       "      <th>3</th>\n",
       "      <td>0.222094</td>\n",
       "      <td>0.617038</td>\n",
       "      <td>0.420012</td>\n",
       "    </tr>\n",
       "    <tr>\n",
       "      <th>4</th>\n",
       "      <td>0.152607</td>\n",
       "      <td>0.561282</td>\n",
       "      <td>0.337594</td>\n",
       "    </tr>\n",
       "    <tr>\n",
       "      <th>5</th>\n",
       "      <td>0.114959</td>\n",
       "      <td>0.519854</td>\n",
       "      <td>0.286254</td>\n",
       "    </tr>\n",
       "    <tr>\n",
       "      <th>6</th>\n",
       "      <td>0.092043</td>\n",
       "      <td>0.487596</td>\n",
       "      <td>0.247877</td>\n",
       "    </tr>\n",
       "    <tr>\n",
       "      <th>7</th>\n",
       "      <td>0.076756</td>\n",
       "      <td>0.461110</td>\n",
       "      <td>0.218680</td>\n",
       "    </tr>\n",
       "    <tr>\n",
       "      <th>8</th>\n",
       "      <td>0.066237</td>\n",
       "      <td>0.436507</td>\n",
       "      <td>0.194475</td>\n",
       "    </tr>\n",
       "  </tbody>\n",
       "</table>\n",
       "</div>"
      ],
      "text/plain": [
       "source       ads  friend_referral       seo\n",
       "1       1.000000         1.000000  1.000000\n",
       "2       0.388873         0.699443  0.562395\n",
       "3       0.222094         0.617038  0.420012\n",
       "4       0.152607         0.561282  0.337594\n",
       "5       0.114959         0.519854  0.286254\n",
       "6       0.092043         0.487596  0.247877\n",
       "7       0.076756         0.461110  0.218680\n",
       "8       0.066237         0.436507  0.194475"
      ]
     },
     "execution_count": 57,
     "metadata": {},
     "output_type": "execute_result"
    }
   ],
   "source": [
    "retention_rate_by_source = retention_rate_by('source')\n",
    "retention_rate_by_source"
   ]
  },
  {
   "cell_type": "code",
   "execution_count": 58,
   "metadata": {
    "collapsed": false
   },
   "outputs": [
    {
     "data": {
      "text/plain": [
       "<matplotlib.axes._subplots.AxesSubplot at 0x123bf0710>"
      ]
     },
     "execution_count": 58,
     "metadata": {},
     "output_type": "execute_result"
    },
    {
     "data": {
      "image/png": "[encoded data removed]",
      "text/plain": [
       "<matplotlib.figure.Figure at 0x122495250>"
      ]
     },
     "metadata": {},
     "output_type": "display_data"
    }
   ],
   "source": [
    "retention_rate_by_source.plot(marker='x')"
   ]
  },
  {
   "cell_type": "markdown",
   "metadata": {},
   "source": [
    "from above result, we can see that subscribers from 'friend_referral' are the loyalest, much more loyal then subscribers from advertisement and search engine. \n",
    "\n",
    "To improve the revenue, ** we can launch some program to improve 'user referral'. for example, current subscribers can invite new users to subscribe. if your friends subscribe, you get rewarded with a certain amount of money or credit.**"
   ]
  },
  {
   "cell_type": "code",
   "execution_count": null,
   "metadata": {
    "collapsed": true
   },
   "outputs": [],
   "source": []
  }
 ],
 "metadata": {
  "anaconda-cloud": {},
  "kernelspec": {
   "display_name": "Python [Root]",
   "language": "python",
   "name": "Python [Root]"
  },
  "language_info": {
   "codemirror_mode": {
    "name": "ipython",
    "version": 2
   },
   "file_extension": ".py",
   "mimetype": "text/x-python",
   "name": "python",
   "nbconvert_exporter": "python",
   "pygments_lexer": "ipython2",
   "version": "2.7.12"
  }
 },
 "nbformat": 4,
 "nbformat_minor": 0
}
